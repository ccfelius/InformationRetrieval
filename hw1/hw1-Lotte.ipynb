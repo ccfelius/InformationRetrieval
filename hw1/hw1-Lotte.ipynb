{
 "cells": [
  {
   "cell_type": "markdown",
   "metadata": {
    "deletable": false,
    "editable": false,
    "nbgrader": {
     "cell_type": "markdown",
     "checksum": "758d05f39ab671358f17858c55f7161c",
     "grade": false,
     "grade_id": "cell-c9cd9e550239e812",
     "locked": true,
     "schema_version": 3,
     "solution": false,
     "task": false
    }
   },
   "source": [
    "# Homework 1 (Total Points: 260) <a class=\"anchor\" id=\"top\"></a>\n",
    "\n",
    "\n",
    "**Submission instructions**:\n",
    "- Only the code `TODO: Implement this!` denotes that these sections are graded.\n",
    "- For Part 1: You can use the `nltk`, `numpy` and `matplotlib` libraries here. Other libraries, e.g., `gensim` or `scikit-learn`, may not be used. For Part 2: `gensim` is allowed in addition to the imported libraries in the next code cell\n",
    "- The notebook you submit has to have the student ids, separated by underscores (E.g., `12341234_12341234_12341234.ipynb`). \n",
    "- This will be parsed by a regexp, so please double check your filename.\n",
    "- Only one member of each group has to submit the file to canvas.\n",
    "- Make sure to check that your notebook runs before submission. A quick way to do this is to restart the kernel and run all the cells.  \n",
    "- Please do not delete/add new cells. Removing cells can lead to grade deduction.\n",
    "- Note, that you are not allowed to use Google Colab.\n",
    "\n",
    "\n",
    "**Learning Goals**:\n",
    "- [Part 1, Term-based matching](#part1) (175 points):\n",
    "    - Learn how to load a dataset and process it.\n",
    "    - Learn how to implement several standard IR methods (TF-IDF, BM25, QL) and understand their weaknesses & strengths.\n",
    "    - Learn how to evaluate IR methods.\n",
    "- [Part 2, Semantic-based matching](#part2) (85 points):\n",
    "    - Learn how to implement vector-space retrieval methods (LSI, LDA).\n",
    "    - Learn how to use LSI and LDA for re-ranking\n",
    "\n",
    "    \n",
    "**Resources**: \n",
    "- **Part 1**: Sections 2.3, 4.1, 4.2, 4.3, 5.3, 5.6, 5.7, 6.2, 7, 8 of [Search Engines: Information Retrieval in Practice](https://ciir.cs.umass.edu/downloads/SEIRiP.pdf)\n",
    "- **Part 2**: [LSI - Chapter 18](https://nlp.stanford.edu/IR-book/pdf/18lsi.pdf) from [Introduction to Information Retrieval](https://nlp.stanford.edu/IR-book/) book and the [original LDA paper](https://jmlr.org/papers/volume3/blei03a/blei03a.pdf)"
   ]
  },
  {
   "cell_type": "code",
   "execution_count": 1,
   "metadata": {
    "deletable": false,
    "editable": false,
    "nbgrader": {
     "cell_type": "code",
     "checksum": "c55bfe94ff1f564dd595547e516c4c6e",
     "grade": false,
     "grade_id": "cell-f5357fabdb9660e3",
     "locked": true,
     "schema_version": 3,
     "solution": false,
     "task": false
    }
   },
   "outputs": [],
   "source": [
    "# imports \n",
    "# TODO: Ensure that no additional library is imported in the notebook. \n",
    "# TODO: Only the standard library and the following libraries are allowed:\n",
    "# TODO: You can also use unlisted classes from these libraries or standard libraries (such as defaultdict, Counter, ...).\n",
    "\n",
    "import os\n",
    "import zipfile\n",
    "from functools import partial\n",
    "\n",
    "import nltk\n",
    "import requests\n",
    "import numpy as np\n",
    "from tqdm import tqdm\n",
    "\n",
    "import matplotlib.pyplot as plt\n",
    "from matplotlib.pyplot import cm\n",
    "\n",
    "from ipywidgets import widgets\n",
    "from IPython.display import display, HTML\n",
    "#from IPython.html import widgets\n",
    "from collections import namedtuple\n",
    "\n",
    "%matplotlib inline"
   ]
  },
  {
   "cell_type": "markdown",
   "metadata": {
    "deletable": false,
    "editable": false,
    "nbgrader": {
     "cell_type": "markdown",
     "checksum": "4ef0139c6fbc22b41520721a9275c1e1",
     "grade": false,
     "grade_id": "cell-7428e12ed184408b",
     "locked": true,
     "schema_version": 3,
     "solution": false,
     "task": false
    }
   },
   "source": [
    "\n",
    "# Part 1: Term-based Matching (175 points) <a class=\"anchor\" id=\"part1\"></a>\n",
    "\n",
    "[Back to top](#top)\n",
    "\n",
    "In the first part, we will learn the basics of IR from loading and preprocessing the material, to implementing some well known search algorithms, to evaluating the ranking performance of the implemented algorithms. We will be using the CACM dataset throughout the assignment. The CACM dataset is a collection of titles and abstracts from the journal CACM (Communication of the ACM).\n",
    "\n",
    "Table of contents:\n",
    "- [Section 1: Text Processing](#text_processing) (15 points)\n",
    "- [Section 2: Indexing](#indexing) (10 points)\n",
    "- [Section 3: Ranking](#ranking) (80 points)\n",
    "- [Section 4: Evaluation](#evaluation) (40 points)\n",
    "- [Section 5: Analysis](#analysis) (30 points)\n"
   ]
  },
  {
   "cell_type": "markdown",
   "metadata": {
    "deletable": false,
    "editable": false,
    "nbgrader": {
     "cell_type": "markdown",
     "checksum": "a9050c97b011a926b9e4cf6831eff5bd",
     "grade": false,
     "grade_id": "cell-4b24825cf4ae55ec",
     "locked": true,
     "schema_version": 3,
     "solution": false,
     "task": false
    }
   },
   "source": [
    "---\n",
    "## Section 1: Text Processing (15 points)<a class=\"anchor\" id=\"text_processing\"></a>\n",
    "\n",
    "[Back to Part 1](#part1)\n",
    "\n",
    "In this section, we will load the dataset and learn how to clean up the data to make it usable for an IR system. \n",
    "The points of this section are earned for the following implementations:\n",
    "- `read_cacm_docs` (4 points): Reads in the CACM documents.\n",
    "- `read_queries` (3 points): Reads in the CACM queries.\n",
    "- `load_stopwords` (1 point): Loads the stopwords.\n",
    "- `tokenize` (4 points): Tokenizes the input text.\n",
    "- `stem_token` (3 points): Stems the given token. \n",
    "\n",
    "We are using the [CACM dataset](http://ir.dcs.gla.ac.uk/resources/test_collections/cacm/), which is a small, classic IR dataset, composed of a collection of titles and abstracts from the journal CACM. It comes with relevance judgements for queries, so we can evaluate our IR system. \n"
   ]
  },
  {
   "cell_type": "markdown",
   "metadata": {
    "deletable": false,
    "editable": false,
    "nbgrader": {
     "cell_type": "markdown",
     "checksum": "1de1b97f9ee233ad2348359f0c158eb7",
     "grade": false,
     "grade_id": "cell-45651364e7af6d5a",
     "locked": true,
     "schema_version": 3,
     "solution": false,
     "task": false
    }
   },
   "source": [
    "---\n",
    "### 1.1 Read the CACM documents (4 points)\n",
    "\n",
    "\n",
    "The following cell downloads the dataset and unzips it to a local directory."
   ]
  },
  {
   "cell_type": "code",
   "execution_count": 2,
   "metadata": {
    "deletable": false,
    "editable": false,
    "nbgrader": {
     "cell_type": "code",
     "checksum": "4d43c9ad6e77cc01ce4cef0c34824930",
     "grade": false,
     "grade_id": "cell-bbc3030bb3fe7e02",
     "locked": true,
     "schema_version": 3,
     "solution": false,
     "task": false
    }
   },
   "outputs": [],
   "source": [
    "def download_dataset():\n",
    "    folder_path = os.environ.get(\"IR1_DATA_PATH\")\n",
    "    if not folder_path:\n",
    "        folder_path = \"./datasets/\"\n",
    "    os.makedirs(folder_path, exist_ok=True)\n",
    "    \n",
    "    file_location = os.path.join(folder_path, \"cacm.zip\")\n",
    "    \n",
    "    # download file if it doesn't exist\n",
    "    if not os.path.exists(file_location):\n",
    "        \n",
    "        url = \"https://surfdrive.surf.nl/files/index.php/s/M0FGJpX2p8wDwxR/download\"\n",
    "\n",
    "        with open(file_location, \"wb\") as handle:\n",
    "            print(f\"Downloading file from {url} to {file_location}\")\n",
    "            response = requests.get(url, stream=True)\n",
    "            for data in tqdm(response.iter_content()):\n",
    "                handle.write(data)\n",
    "            print(\"Finished downloading file\")\n",
    "    \n",
    "    if not os.path.exists(os.path.join(folder_path, \"train.txt\")):\n",
    "        \n",
    "        # unzip file\n",
    "        with zipfile.ZipFile(file_location, 'r') as zip_ref:\n",
    "            zip_ref.extractall(folder_path)\n",
    "        \n",
    "download_dataset()"
   ]
  },
  {
   "cell_type": "markdown",
   "metadata": {
    "deletable": false,
    "editable": false,
    "nbgrader": {
     "cell_type": "markdown",
     "checksum": "31609b0d61d0c74cbd69bc43e47c23be",
     "grade": false,
     "grade_id": "cell-a7dd9a9bf98ede05",
     "locked": true,
     "schema_version": 3,
     "solution": false,
     "task": false
    }
   },
   "source": [
    "---\n",
    "\n",
    "You can see a brief description of each file in the dataset by looking at the README file:"
   ]
  },
  {
   "cell_type": "code",
   "execution_count": 3,
   "metadata": {
    "deletable": false,
    "editable": false,
    "nbgrader": {
     "cell_type": "code",
     "checksum": "1783f9999c7d06955e8da815de62ba5f",
     "grade": false,
     "grade_id": "cell-9b6ff1a17124711f",
     "locked": true,
     "schema_version": 3,
     "solution": false,
     "task": false
    }
   },
   "outputs": [
    {
     "name": "stdout",
     "output_type": "stream",
     "text": [
      "Files in this directory with sizes:\r\n",
      "          0 Jun 19 21:01 README\r\n",
      "\r\n",
      "    2187734 Jun 19 20:55 cacm.all              text of documents\r\n",
      "        626 Jun 19 20:58 cite.info             key to citation info\r\n",
      "                                                (the X sections in cacm.all)\r\n",
      "       2668 Jun 19 20:55 common_words           stop words used by smart\r\n",
      "       2194 Jun 19 20:55 make_coll*             shell script to make collection\r\n",
      "       1557 Jun 19 20:55 make_coll_term*        ditto (both useless without\r\n",
      "                                                smart system)\r\n",
      "       9948 Jun 19 20:55 qrels.text             relation giving\r\n",
      "                                                    qid did 0 0\r\n",
      "                                                to indicate dument did is\r\n",
      "                                                relevant to query qid\r\n",
      "      13689 Jun 19 20:55 query.text             Original text of the query\r\n"
     ]
    }
   ],
   "source": [
    "##### Read the README file \n",
    "!cat ./datasets/README\n",
    "#####"
   ]
  },
  {
   "cell_type": "markdown",
   "metadata": {
    "deletable": false,
    "editable": false,
    "nbgrader": {
     "cell_type": "markdown",
     "checksum": "d6a5333ae8e7f69d81900e714cc43852",
     "grade": false,
     "grade_id": "cell-73351431869fda76",
     "locked": true,
     "schema_version": 3,
     "solution": false,
     "task": false
    }
   },
   "source": [
    "---\n",
    "We are interested in 4 files:\n",
    "- `cacm.all` : Contains the text for all documents. Note that some documents do not have abstracts available. \n",
    "- `query.text` : The text of all queries\n",
    "- `qrels.text` : The relevance judgements\n",
    "- `common_words` : A list of common words. This may be used as a collection of stopwords"
   ]
  },
  {
   "cell_type": "code",
   "execution_count": 4,
   "metadata": {
    "deletable": false,
    "editable": false,
    "nbgrader": {
     "cell_type": "code",
     "checksum": "c78e4256a08889ce3d0d985ea799b0a9",
     "grade": false,
     "grade_id": "cell-b44dd14079f278ca",
     "locked": true,
     "schema_version": 3,
     "solution": false,
     "task": false
    }
   },
   "outputs": [
    {
     "name": "stdout",
     "output_type": "stream",
     "text": [
      ".I 1\r\n",
      ".T\r\n",
      "Preliminary Report-International Algebraic Language\r\n",
      ".B\r\n",
      "CACM December, 1958\r\n",
      ".A\r\n",
      "Perlis, A. J.\r\n",
      "Samelson,K.\r\n",
      ".N\r\n",
      "CA581203 JB March 22, 1978  8:28 PM\r\n",
      ".X\r\n",
      "100\t5\t1\r\n",
      "123\t5\t1\r\n",
      "164\t5\t1\r\n",
      "1\t5\t1\r\n",
      "1\t5\t1\r\n",
      "1\t5\t1\r\n",
      "205\t5\t1\r\n",
      "210\t5\t1\r\n",
      "214\t5\t1\r\n",
      "1982\t5\t1\r\n",
      "398\t5\t1\r\n",
      "642\t5\t1\r\n",
      "669\t5\t1\r\n",
      "1\t6\t1\r\n",
      "1\t6\t1\r\n",
      "1\t6\t1\r\n",
      "1\t6\t1\r\n",
      "1\t6\t1\r\n",
      "1\t6\t1\r\n",
      "1\t6\t1\r\n",
      "1\t6\t1\r\n",
      "1\t6\t1\r\n",
      "1\t6\t1\r\n",
      "165\t6\t1\r\n",
      "196\t6\t1\r\n",
      "196\t6\t1\r\n",
      "1273\t6\t1\r\n",
      "1883\t6\t1\r\n",
      "324\t6\t1\r\n",
      "43\t6\t1\r\n",
      "53\t6\t1\r\n",
      "91\t6\t1\r\n",
      "410\t6\t1\r\n",
      "3184\t6\t1\r\n"
     ]
    }
   ],
   "source": [
    "##### The first 45 lines of the CACM dataset forms the first record\n",
    "# We are interested only in 3 fields. \n",
    "# 1. the '.I' field, which is the document id\n",
    "# 2. the '.T' field (the title) and\n",
    "# 3. the '.W' field (the abstract, which may be absent)\n",
    "!head -45 ./datasets/cacm.all\n",
    "#####"
   ]
  },
  {
   "cell_type": "markdown",
   "metadata": {
    "deletable": false,
    "editable": false,
    "nbgrader": {
     "cell_type": "markdown",
     "checksum": "aff7cbe5a15a0e3329dc223e3e31abf3",
     "grade": false,
     "grade_id": "cell-c4bf2e263ec553d8",
     "locked": true,
     "schema_version": 3,
     "solution": false,
     "task": false
    }
   },
   "source": [
    "---\n",
    "\n",
    "**Implementation (4 points):**\n",
    "Write a function to read the `cacm.all` file. Note that each document has a variable number of lines. The `.I` field denotes a new document:"
   ]
  },
  {
   "cell_type": "code",
   "execution_count": 5,
   "metadata": {
    "deletable": false,
    "nbgrader": {
     "cell_type": "code",
     "checksum": "45fef5d5b543ee439176d7fd0a9d20be",
     "grade": false,
     "grade_id": "cell-b736116eb419c624",
     "locked": false,
     "schema_version": 3,
     "solution": true,
     "task": false
    }
   },
   "outputs": [],
   "source": [
    "# TODO: Implement this! (4 points)\n",
    "# Complexity: O(n)\n",
    "\n",
    "def read_cacm_docs(root_folder = \"./datasets/\"):\n",
    "    \"\"\"\n",
    "        Reads in the CACM documents. The dataset is assumed to be in the folder \"./datasets/\" by default\n",
    "        Returns: A list of 2-tuples: (doc_id, document), where 'document' is a single string created by \n",
    "            appending the title and abstract (separated by a \"\\n\"). \n",
    "            In case the record doesn't have an abstract, the document is composed only by the title\n",
    "    \"\"\"\n",
    "    \n",
    "    # Path to cacm.all\n",
    "    path = root_folder + \"cacm.all\"\n",
    "    \n",
    "    # Specify lists for output\n",
    "    doc_id = []\n",
    "    doc_title = []\n",
    "    \n",
    "    # Open and split document into tokens\n",
    "    with open(path, 'r') as file:\n",
    "        doclist = file.read().split(\"\\n\")\n",
    "\n",
    "    # Set counter for index tracking\n",
    "    counter = 0\n",
    "    i = 0\n",
    "    \n",
    "    # Loop through doc to get I., T. and W.\n",
    "    while i < len(doclist) - 1:\n",
    "        counter += 1\n",
    "        \n",
    "        # Append document id and title\n",
    "        doc_id.append(int(doclist[i][3:]))\n",
    "        doc_title.append(doclist[i+2])\n",
    "        \n",
    "        i += 3\n",
    "            \n",
    "        while doclist[i] not in [\".B\", \".A\", \".X\"]:\n",
    "            if doclist[i] == '.W':\n",
    "                i += 1\n",
    "                doc_title[counter-1] += \" \\n\"\n",
    "            else:\n",
    "                doc_title[counter-1] += \" \" + doclist[i]\n",
    "                i += 1\n",
    "        \n",
    "        while doclist[i][:2] != \".I\" and i < len(doclist)-1:\n",
    "            i += 1\n",
    "    \n",
    "    return list(zip(doc_id, doc_title))"
   ]
  },
  {
   "cell_type": "code",
   "execution_count": 6,
   "metadata": {
    "deletable": false,
    "editable": false,
    "nbgrader": {
     "cell_type": "code",
     "checksum": "70472b5c277bb7c417de8da24e4e5261",
     "grade": true,
     "grade_id": "cell-a1c43818e0d3fd79",
     "locked": true,
     "points": 4,
     "schema_version": 3,
     "solution": false,
     "task": false
    }
   },
   "outputs": [],
   "source": [
    "##### Function check\n",
    "docs = read_cacm_docs()\n",
    "\n",
    "assert isinstance(docs, list)\n",
    "assert len(docs) == 3204, \"There should be exactly 3024 documents\"\n",
    "##### "
   ]
  },
  {
   "cell_type": "markdown",
   "metadata": {
    "deletable": false,
    "editable": false,
    "nbgrader": {
     "cell_type": "markdown",
     "checksum": "6fd095d2204cce3935444ca37c7c42da",
     "grade": false,
     "grade_id": "cell-5ed2ddc91f73c60e",
     "locked": true,
     "schema_version": 3,
     "solution": false,
     "task": false
    }
   },
   "source": [
    "---\n",
    "### 1.2 Read the CACM queries (3 points)\n",
    "\n",
    "Next, let us read the queries. They are formatted similarly:"
   ]
  },
  {
   "cell_type": "code",
   "execution_count": 7,
   "metadata": {
    "deletable": false,
    "editable": false,
    "nbgrader": {
     "cell_type": "code",
     "checksum": "5d26c0908e758acb9968b84056b1060a",
     "grade": false,
     "grade_id": "cell-5c7e8e7c4fc2757f",
     "locked": true,
     "schema_version": 3,
     "solution": false,
     "task": false
    }
   },
   "outputs": [
    {
     "name": "stdout",
     "output_type": "stream",
     "text": [
      ".I 1\r\n",
      ".W\r\n",
      " What articles exist which deal with TSS (Time Sharing System), an\r\n",
      "operating system for IBM computers?\r\n",
      ".N\r\n",
      " 1. Richard Alexander, Comp Serv, Langmuir Lab (TSS)\r\n",
      " \r\n",
      ".I 2\r\n",
      ".W\r\n",
      " I am interested in articles written either by Prieve or Udo Pooch\r\n",
      ".A\r\n",
      "Prieve, B.\r\n",
      "Pooch, U.\r\n",
      ".N\r\n",
      " 2. Richard Alexander, Comp Serv, Langmuir Lab (author = Pooch or Prieve)\r\n"
     ]
    }
   ],
   "source": [
    "##### The first 15 lines of 'query.text' has 2 queries\n",
    "# We are interested only in 2 fields. \n",
    "# 1. the '.I' - the query id\n",
    "# 2. the '.W' - the query\n",
    "!head -15 ./datasets/query.text\n",
    "#####"
   ]
  },
  {
   "cell_type": "markdown",
   "metadata": {
    "deletable": false,
    "editable": false,
    "nbgrader": {
     "cell_type": "markdown",
     "checksum": "da34d95924026ea55bf0a9b2070ec237",
     "grade": false,
     "grade_id": "cell-88e293507d2dcef6",
     "locked": true,
     "schema_version": 3,
     "solution": false,
     "task": false
    }
   },
   "source": [
    "---\n",
    "\n",
    "**Implementation (3 points):**\n",
    "Write a function to read the `query.text` file:"
   ]
  },
  {
   "cell_type": "code",
   "execution_count": 8,
   "metadata": {
    "deletable": false,
    "nbgrader": {
     "cell_type": "code",
     "checksum": "f98ac81b2ccb44fe3441e202e980c847",
     "grade": false,
     "grade_id": "cell-433e3ad5d0e2572a",
     "locked": false,
     "schema_version": 3,
     "solution": true,
     "task": false
    }
   },
   "outputs": [],
   "source": [
    "# TODO: Implement this! (3 points)\n",
    "def read_queries(root_folder = \"./datasets/\"):\n",
    "    \"\"\"\n",
    "        Reads in the CACM queries. The dataset is assumed to be in the folder \"./datasets/\" by default\n",
    "        Returns: A list of 2-tuples: (query_id, query)\n",
    "    \"\"\"\n",
    "    \n",
    "    # Path to query.text\n",
    "    path = root_folder + \"query.text\"\n",
    "    \n",
    "    # Open and split document into tokens\n",
    "    with open(path, 'r') as file:\n",
    "        queries = file.read().split(\"\\n\")\n",
    "    \n",
    "    # Define lists\n",
    "    query_id = []\n",
    "    query = []\n",
    "    \n",
    "    # Set counter for tracking index tracking\n",
    "    counter = 0\n",
    "    \n",
    "    # Loop through doc to get I. and W.\n",
    "    for i in range(len(queries)):\n",
    "        if queries[i][0:2] == \".I\":\n",
    "            counter += 1\n",
    "            query_id.append(int(queries[i][3:]))\n",
    "        if  queries[i] == '.W':\n",
    "            query.append(\" \" + queries[i+1][1:])\n",
    "            j = i+2\n",
    "            while queries[j] not in [\".N\", \".A\"]:\n",
    "                query[counter-1] = query[counter-1] + \" \" + queries[j]\n",
    "                j += 1\n",
    "               \n",
    "    \n",
    "    return list(zip(query_id, query))"
   ]
  },
  {
   "cell_type": "code",
   "execution_count": 9,
   "metadata": {
    "deletable": false,
    "editable": false,
    "nbgrader": {
     "cell_type": "code",
     "checksum": "c0e7a9868bd4b92692c33732af640b8b",
     "grade": true,
     "grade_id": "cell-6ec540abce66c598",
     "locked": true,
     "points": 3,
     "schema_version": 3,
     "solution": false,
     "task": false
    }
   },
   "outputs": [],
   "source": [
    "##### Function check\n",
    "queries = read_queries()\n",
    "\n",
    "assert isinstance(queries, list)\n",
    "assert len(queries) == 64 and all([q[1] is not None for q in queries]), \"There should be exactly 64 queries\"\n",
    "##### "
   ]
  },
  {
   "cell_type": "markdown",
   "metadata": {
    "deletable": false,
    "editable": false,
    "nbgrader": {
     "cell_type": "markdown",
     "checksum": "652f9159caea63888e06b54103bd7f32",
     "grade": false,
     "grade_id": "cell-1c31569491d7b782",
     "locked": true,
     "schema_version": 3,
     "solution": false,
     "task": false
    }
   },
   "source": [
    "---\n",
    "### 1.3 Read the stop words (1 point)\n",
    "\n",
    "We use the common words stored in `common_words`:"
   ]
  },
  {
   "cell_type": "code",
   "execution_count": 10,
   "metadata": {
    "deletable": false,
    "editable": false,
    "nbgrader": {
     "cell_type": "code",
     "checksum": "1ad6f5bae6a792504c1c8513ae5751ad",
     "grade": false,
     "grade_id": "cell-34bdb63461418a96",
     "locked": true,
     "schema_version": 3,
     "solution": false,
     "task": false
    }
   },
   "outputs": [
    {
     "name": "stdout",
     "output_type": "stream",
     "text": [
      "a\r\n",
      "about\r\n",
      "above\r\n",
      "accordingly\r\n",
      "across\r\n",
      "after\r\n",
      "afterwards\r\n",
      "again\r\n",
      "against\r\n",
      "all\r\n"
     ]
    }
   ],
   "source": [
    "##### Read the stop words file \n",
    "!head ./datasets/common_words\n",
    "##### Read the README file "
   ]
  },
  {
   "cell_type": "markdown",
   "metadata": {
    "deletable": false,
    "editable": false,
    "nbgrader": {
     "cell_type": "markdown",
     "checksum": "f720edbacd79170351156a443e0018ff",
     "grade": false,
     "grade_id": "cell-4744bde0338895d8",
     "locked": true,
     "schema_version": 3,
     "solution": false,
     "task": false
    }
   },
   "source": [
    "---\n",
    "**Implementation (1 point):**\n",
    "Write a function to read the `common_words` file (For better coverage, try to keep them in lowercase):"
   ]
  },
  {
   "cell_type": "code",
   "execution_count": 11,
   "metadata": {
    "deletable": false,
    "nbgrader": {
     "cell_type": "code",
     "checksum": "e6a9e9bb3ad0f8dc2ec3c497a3149092",
     "grade": false,
     "grade_id": "cell-7357aa40f64e5bcb",
     "locked": false,
     "schema_version": 3,
     "solution": true,
     "task": false
    }
   },
   "outputs": [],
   "source": [
    "# TODO: Implement this! (1 point)\n",
    "def load_stopwords(root_folder = \"./datasets/\"):\n",
    "    \"\"\"\n",
    "        Loads the stopwords. The dataset is assumed to be in the folder \"./datasets/\" by default\n",
    "        Output: A set of stopwords\n",
    "    \"\"\"\n",
    "    \n",
    "    \n",
    "    path = root_folder + \"common_words\"\n",
    "    \n",
    "    # Open and split document into tokens\n",
    "    with open(path, 'r') as file:\n",
    "        stopwords = file.read().lower().split('\\n')[:-1]\n",
    "    \n",
    "    \n",
    "    return set(stopwords)"
   ]
  },
  {
   "cell_type": "code",
   "execution_count": 12,
   "metadata": {
    "deletable": false,
    "editable": false,
    "nbgrader": {
     "cell_type": "code",
     "checksum": "9211b9735b828d89d1a51d8743c448b4",
     "grade": true,
     "grade_id": "cell-2ca3ac162004de97",
     "locked": true,
     "points": 1,
     "schema_version": 3,
     "solution": false,
     "task": false
    }
   },
   "outputs": [],
   "source": [
    "##### Function check\n",
    "stopwords = load_stopwords()\n",
    "\n",
    "assert isinstance(stopwords, set)\n",
    "assert len(stopwords) == 428, \"There should be exactly 428 stop words\"\n",
    "##### "
   ]
  },
  {
   "cell_type": "markdown",
   "metadata": {
    "deletable": false,
    "editable": false,
    "nbgrader": {
     "cell_type": "markdown",
     "checksum": "fc7e419f35dfd3f507d8a7555ce2cde9",
     "grade": false,
     "grade_id": "cell-134b72872f4300cb",
     "locked": true,
     "schema_version": 3,
     "solution": false,
     "task": false
    }
   },
   "source": [
    "---\n",
    "### 1.4 Tokenization (4 points)\n",
    "\n",
    "We can now write some basic text processing functions. \n",
    "A first step is to tokenize the text. \n",
    "\n",
    "**Note**: Use the  `WordPunctTokenizer` available in the `nltk` library:"
   ]
  },
  {
   "cell_type": "code",
   "execution_count": 13,
   "metadata": {
    "deletable": false,
    "nbgrader": {
     "cell_type": "code",
     "checksum": "3f5564d3c75bf22fbf832b3a9b938f37",
     "grade": false,
     "grade_id": "cell-322be4c9499bdc4b",
     "locked": false,
     "schema_version": 3,
     "solution": true,
     "task": false
    }
   },
   "outputs": [],
   "source": [
    "# TODO: Implement this! (4 points)\n",
    "def tokenize(text):\n",
    "    \"\"\"\n",
    "        Tokenizes the input text. Use the WordPunctTokenizer\n",
    "        Input: text - a string\n",
    "        Output: a list of tokens\n",
    "    \"\"\"\n",
    "    \n",
    "    return nltk.WordPunctTokenizer().tokenize(text) "
   ]
  },
  {
   "cell_type": "code",
   "execution_count": 14,
   "metadata": {
    "deletable": false,
    "editable": false,
    "nbgrader": {
     "cell_type": "code",
     "checksum": "f60b93aa03bf9eced64940252eb33fe3",
     "grade": true,
     "grade_id": "cell-7fbf48bf7541a622",
     "locked": true,
     "points": 4,
     "schema_version": 3,
     "solution": false,
     "task": false
    }
   },
   "outputs": [
    {
     "name": "stdout",
     "output_type": "stream",
     "text": [
      "['the', 'quick', 'brown', 'fox', 'jumps', 'over', 'the', 'lazy', 'dog']\n"
     ]
    }
   ],
   "source": [
    "##### Function check\n",
    "text = \"the quick brown fox jumps over the lazy dog\"\n",
    "tokens = tokenize(text)\n",
    "\n",
    "assert isinstance(tokens, list)\n",
    "assert len(tokens) == 9\n",
    "\n",
    "print(tokens)\n",
    "# output: ['the', 'quick', 'brown', 'fox', 'jumps', 'over', 'the', 'lazy', 'dog']\n",
    "#####"
   ]
  },
  {
   "cell_type": "markdown",
   "metadata": {
    "deletable": false,
    "editable": false,
    "nbgrader": {
     "cell_type": "markdown",
     "checksum": "1b1cc868db22735e5e193bc64ff67877",
     "grade": false,
     "grade_id": "cell-fd1b98ae61b697ca",
     "locked": true,
     "schema_version": 3,
     "solution": false,
     "task": false
    }
   },
   "source": [
    "---\n",
    "### 1.5 Stemming (3 points)\n",
    "\n",
    "Write a function to stem tokens. \n",
    "Again, you can use the nltk library for this:"
   ]
  },
  {
   "cell_type": "code",
   "execution_count": 15,
   "metadata": {
    "deletable": false,
    "nbgrader": {
     "cell_type": "code",
     "checksum": "1c4a6aa979d66158c7b6b992af43293a",
     "grade": false,
     "grade_id": "cell-e3f6c8e3f874b28d",
     "locked": false,
     "schema_version": 3,
     "solution": true,
     "task": false
    }
   },
   "outputs": [],
   "source": [
    "# TODO: Implement this! (3 points)\n",
    "def stem_token(token):\n",
    "    \"\"\"\n",
    "        Stems the given token using the PorterStemmer from the nltk library\n",
    "        Input: a single token\n",
    "        Output: the stem of the token\n",
    "    \"\"\"\n",
    "    \n",
    "    return nltk.PorterStemmer().stem(token)"
   ]
  },
  {
   "cell_type": "code",
   "execution_count": 16,
   "metadata": {
    "deletable": false,
    "editable": false,
    "nbgrader": {
     "cell_type": "code",
     "checksum": "cd2611a46e7c2e92af438d7166cf2616",
     "grade": true,
     "grade_id": "cell-cd6863e6ee6ed205",
     "locked": true,
     "points": 3,
     "schema_version": 3,
     "solution": false,
     "task": false
    }
   },
   "outputs": [],
   "source": [
    "##### Function check\n",
    "\n",
    "assert stem_token('owned') == 'own'\n",
    "assert stem_token('itemization') == 'item'\n",
    "#####"
   ]
  },
  {
   "cell_type": "markdown",
   "metadata": {
    "deletable": false,
    "editable": false,
    "nbgrader": {
     "cell_type": "markdown",
     "checksum": "5fcc93f08a6abcaffd5bd9475e4768e5",
     "grade": false,
     "grade_id": "cell-47c9f90498699110",
     "locked": true,
     "schema_version": 3,
     "solution": false,
     "task": false
    }
   },
   "source": [
    "---\n",
    "### 1.6 Summary\n",
    "\n",
    "The following function puts it all together. Given a string, it tokenizes it and processes it according to the flags that you set."
   ]
  },
  {
   "cell_type": "code",
   "execution_count": 17,
   "metadata": {
    "deletable": false,
    "editable": false,
    "nbgrader": {
     "cell_type": "code",
     "checksum": "2ff2d215ee8e0039c5a91fd3de12e6bd",
     "grade": false,
     "grade_id": "cell-dd0d3f46b30801da",
     "locked": true,
     "schema_version": 3,
     "solution": false,
     "task": false
    }
   },
   "outputs": [],
   "source": [
    "#### Putting it all together\n",
    "def process_text(text, stem=False, remove_stopwords=False, lowercase_text=False):\n",
    "    \n",
    "    tokens = []\n",
    "    for token in tokenize(text):\n",
    "        if remove_stopwords and token.lower() in stopwords:\n",
    "            continue\n",
    "        if stem:\n",
    "            token = stem_token(token)\n",
    "        if lowercase_text:\n",
    "            token = token.lower()\n",
    "        tokens.append(token)\n",
    "\n",
    "    return tokens\n",
    "#### "
   ]
  },
  {
   "cell_type": "markdown",
   "metadata": {
    "deletable": false,
    "editable": false,
    "nbgrader": {
     "cell_type": "markdown",
     "checksum": "02d433b18eb43654fa4306a7bf55b190",
     "grade": false,
     "grade_id": "cell-8d885bfd2edd43ae",
     "locked": true,
     "schema_version": 3,
     "solution": false,
     "task": false
    }
   },
   "source": [
    "---\n",
    "\n",
    "Let's create two sets of preprocessed documents.\n",
    "We can process the documents and queries according to these two configurations:"
   ]
  },
  {
   "cell_type": "code",
   "execution_count": 18,
   "metadata": {
    "deletable": false,
    "editable": false,
    "nbgrader": {
     "cell_type": "code",
     "checksum": "dbe4ca667be6842fdcf512fbcad50c7f",
     "grade": false,
     "grade_id": "cell-d427365ee0fb21d8",
     "locked": true,
     "schema_version": 3,
     "solution": false,
     "task": false
    }
   },
   "outputs": [],
   "source": [
    "# In this configuration:\n",
    "# Don't preprocess the text, except to tokenize \n",
    "config_1 = {\n",
    "  \"stem\": False,\n",
    "  \"remove_stopwords\" : False,\n",
    "  \"lowercase_text\": True\n",
    "} \n",
    "\n",
    "\n",
    "# In this configuration:\n",
    "# Preprocess the text, stem and remove stopwords\n",
    "config_2 = {\n",
    "  \"stem\": True,\n",
    "  \"remove_stopwords\" : True,\n",
    "  \"lowercase_text\": True, \n",
    "} \n",
    "\n",
    "####\n",
    "doc_repr_1 = []\n",
    "doc_repr_2 = []\n",
    "for (doc_id, document) in docs:\n",
    "    doc_repr_1.append((doc_id, process_text(document, **config_1)))\n",
    "    doc_repr_2.append((doc_id, process_text(document, **config_2)))\n",
    "\n",
    "####"
   ]
  },
  {
   "cell_type": "markdown",
   "metadata": {
    "deletable": false,
    "editable": false,
    "nbgrader": {
     "cell_type": "markdown",
     "checksum": "b60589aac19e80941d860d9b3f1e9a16",
     "grade": false,
     "grade_id": "cell-b1c102db61ae7495",
     "locked": true,
     "schema_version": 3,
     "solution": false,
     "task": false
    }
   },
   "source": [
    "--- \n",
    "\n",
    "## Section 2: Indexing (10 points)<a class=\"anchor\" id=\"indexing\"></a>\n",
    "\n",
    "[Back to Part 1](#part1)\n",
    "\n",
    "\n",
    "\n",
    "A retrieval function usually takes in a query document pair, and scores a query against a document.  Our document set is quite small - just a few thousand documents. However, consider a web-scale dataset with a few million documents. In such a scenario, it would become infeasible to score every query and document pair. In such a case, we can build an inverted index. From Wikipedia:\n",
    "\n",
    "> ... , an inverted index (also referred to as a postings file or inverted file) is a database index storing a mapping from content, such as words or numbers, to its locations in a table, .... The purpose of an inverted index is to allow fast full-text searches, at a cost of increased processing when a document is added to the database. ...\n",
    "\n",
    "\n",
    "Consider a simple inverted index, which maps from word to document. This can improve the performance of a retrieval system significantly. In this assignment, we consider a *simple* inverted index, which maps a word to a set of documents. In practice, however, more complex indices might be used.  \n"
   ]
  },
  {
   "cell_type": "markdown",
   "metadata": {
    "deletable": false,
    "editable": false,
    "nbgrader": {
     "cell_type": "markdown",
     "checksum": "710fd943f45523ac36fcb887cc0d4d39",
     "grade": false,
     "grade_id": "cell-fa373192c1b7bb95",
     "locked": true,
     "schema_version": 3,
     "solution": false,
     "task": false
    }
   },
   "source": [
    "### 2.1 Term Frequency-index (10 points)\n",
    "In this assignment, we will be using an index created in memory since our dataset is tiny. To get started, build a simple index that maps each `token` to a list of `(doc_id, count)` where `count` is the count of the `token` in `doc_id`.\n",
    "For consistency, build this index using a python dictionary.\n",
    "    \n",
    "Now, implement a function to build an index:"
   ]
  },
  {
   "cell_type": "code",
   "execution_count": 19,
   "metadata": {
    "deletable": false,
    "nbgrader": {
     "cell_type": "code",
     "checksum": "c281c45196493b87e45e1b3fb4ddd6c9",
     "grade": false,
     "grade_id": "cell-077599b87e953209",
     "locked": false,
     "schema_version": 3,
     "solution": true,
     "task": false
    }
   },
   "outputs": [],
   "source": [
    "from collections import defaultdict\n",
    "\n",
    "def build_tf_index(documents):\n",
    "    \"\"\"\n",
    "        Build an inverted index (with counts). The output is a dictionary which takes in a token\n",
    "        and returns a list of (doc_id, count) where 'count' is the count of the 'token' in 'doc_id'\n",
    "        Input: a list of documents - (doc_id, tokens)\n",
    "        Output: An inverted index. [token] -> [(doc_id, token_count)]\n",
    "    \"\"\"\n",
    "    \n",
    "    inv_index = defaultdict(list)\n",
    "\n",
    "    for docid, text in documents:\n",
    "        \n",
    "        # Create defaultdict to store token info for this document\n",
    "        hashtable = defaultdict(lambda: 0)\n",
    "        doc_id = int(docid)\n",
    "        \n",
    "        # Go through all tokens and count them\n",
    "        for token in text:\n",
    "            \n",
    "            # Increase count\n",
    "            hashtable[token] += 1\n",
    "                \n",
    "        # Go through tokens and append their count to the index\n",
    "        for token, count in hashtable.items():\n",
    "            inv_index[token].append((doc_id, count))\n",
    "            \n",
    "    return inv_index"
   ]
  },
  {
   "cell_type": "markdown",
   "metadata": {
    "deletable": false,
    "editable": false,
    "nbgrader": {
     "cell_type": "markdown",
     "checksum": "15e7041b4323d2a290322de538ff7670",
     "grade": false,
     "grade_id": "cell-093aebfa504f96f2",
     "locked": true,
     "schema_version": 3,
     "solution": false,
     "task": false
    }
   },
   "source": [
    "---\n",
    "Now we can build indexed documents and preprocess the queries based on the two configurations:"
   ]
  },
  {
   "cell_type": "code",
   "execution_count": 20,
   "metadata": {
    "deletable": false,
    "editable": false,
    "nbgrader": {
     "cell_type": "code",
     "checksum": "e27540c1d8d77a3779a05f557f3f40c6",
     "grade": false,
     "grade_id": "cell-b2ff1676348b90a8",
     "locked": true,
     "schema_version": 3,
     "solution": false,
     "task": false
    }
   },
   "outputs": [],
   "source": [
    "#### Indexed documents based on the two configs\n",
    "\n",
    "# Create the 2 indices\n",
    "tf_index_1 = build_tf_index(doc_repr_1)\n",
    "tf_index_2 = build_tf_index(doc_repr_2)\n",
    "\n",
    "# This function returns the tf_index of the corresponding config\n",
    "def get_index(index_set):\n",
    "    assert index_set in {1, 2}\n",
    "    return {\n",
    "        1: tf_index_1,\n",
    "        2: tf_index_2\n",
    "    }[index_set]\n",
    "\n",
    "####\n",
    "#### Preprocessed query based on the two configs\n",
    "\n",
    "# This function preprocesses the text given the index set, according to the specified config\n",
    "def preprocess_query(text, index_set):\n",
    "    assert index_set in {1, 2}\n",
    "    if index_set == 1:\n",
    "        return process_text(text, **config_1)\n",
    "    elif index_set == 2:\n",
    "        return process_text(text, **config_2)\n",
    "\n",
    "#### "
   ]
  },
  {
   "cell_type": "code",
   "execution_count": 21,
   "metadata": {
    "deletable": false,
    "editable": false,
    "nbgrader": {
     "cell_type": "code",
     "checksum": "2c50e4b4c68261ff1184277bcf3c38d8",
     "grade": true,
     "grade_id": "cell-fc7c7232d5d2ee46",
     "locked": true,
     "points": 5,
     "schema_version": 3,
     "solution": false,
     "task": false
    }
   },
   "outputs": [
    {
     "name": "stdout",
     "output_type": "stream",
     "text": [
      "[(4, 1), (7, 1), (10, 1), (13, 1), (19, 1), (22, 1), (23, 1), (37, 1), (40, 3), (41, 1)]\n"
     ]
    }
   ],
   "source": [
    "##### Function check\n",
    "\n",
    "print(tf_index_1['computer'][:10])\n",
    "#### "
   ]
  },
  {
   "cell_type": "code",
   "execution_count": 22,
   "metadata": {
    "deletable": false,
    "editable": false,
    "nbgrader": {
     "cell_type": "code",
     "checksum": "02de27463e2a393f46278d6fe3160481",
     "grade": true,
     "grade_id": "cell-ff06bd11204db250",
     "locked": true,
     "points": 5,
     "schema_version": 3,
     "solution": false,
     "task": false
    }
   },
   "outputs": [
    {
     "name": "stdout",
     "output_type": "stream",
     "text": [
      "[(670, 1), (675, 1), (1621, 3), (1681, 1), (2145, 1), (2339, 1), (2572, 1), (2583, 1), (2739, 1), (3012, 1)]\n"
     ]
    }
   ],
   "source": [
    "##### Function check\n",
    "\n",
    "print(tf_index_2['computer'][:10])\n",
    "#### "
   ]
  },
  {
   "cell_type": "markdown",
   "metadata": {
    "deletable": false,
    "editable": false,
    "nbgrader": {
     "cell_type": "markdown",
     "checksum": "982112dca3f9a75e871bea74fe1adab4",
     "grade": false,
     "grade_id": "cell-89eba71f04310291",
     "locked": true,
     "schema_version": 3,
     "solution": false,
     "task": false
    }
   },
   "source": [
    "\n",
    "---\n",
    "## Section 3: Ranking  (80 points) <a class=\"anchor\" id=\"ranking\"></a>\n",
    "\n",
    "[Back to Part 1](#part1)\n",
    "\n",
    "Now that we have cleaned and processed our dataset, we can start building simple IR systems. \n",
    "\n",
    "For now, we consider *simple* IR systems, which involve computing scores from the tokens present in the document/query. More advanced methods are covered in later assignments.\n",
    "\n",
    "We will implement the following methods in this section:\n",
    "- [Section 3.1: Bag of Words](#bow) (10 points)\n",
    "- [Section 3.2: TF-IDF](#tfidf) (15 points)\n",
    "- [Section 3.3: Query Likelihood Model](#qlm) (35 points)\n",
    "- [Section 3.4: BM25](#bm25) (20 points)\n",
    "\n",
    "**Scoring policy:**\n",
    "Your implementations in this section are scored based on the expected performance of your ranking functions.\n",
    "You will get a full mark if your implementation meets the expected performance (measured by some evaluation metric).\n",
    "Otherwise, you may get partial credit.\n",
    "For example, if your *Bag of words* ranking function has 60% of expected performance, you will get 4 out of 10."
   ]
  },
  {
   "cell_type": "markdown",
   "metadata": {
    "deletable": false,
    "editable": false,
    "nbgrader": {
     "cell_type": "markdown",
     "checksum": "97c13d2e2cad60df4a70dcb61ea7c30e",
     "grade": false,
     "grade_id": "cell-3daf70a60e393adf",
     "locked": true,
     "schema_version": 3,
     "solution": false,
     "task": false
    }
   },
   "source": [
    "--- \n",
    "\n",
    "### Section 3.1: Bag of Words (10 points)<a class=\"anchor\" id=\"bow\"></a>\n",
    "\n",
    "Probably the simplest IR model is the Bag of Words (BOW) model.\n",
    "Implement a function that scores and ranks all the documents against a query using this model.   \n",
    "\n",
    "Note that you can use either the count of the token or 'binarize' it i.e set the value equal to 1 if the token appears.   \n"
   ]
  },
  {
   "cell_type": "code",
   "execution_count": 23,
   "metadata": {
    "deletable": false,
    "nbgrader": {
     "cell_type": "code",
     "checksum": "1178c8a8908b0e4dc07add7aa49b7fde",
     "grade": false,
     "grade_id": "cell-de9cf0459c4b9324",
     "locked": false,
     "schema_version": 3,
     "solution": true,
     "task": false
    }
   },
   "outputs": [],
   "source": [
    "## TODO Implement this\n",
    "\n",
    "from collections import defaultdict\n",
    "\n",
    "def bow_search(query, index_set):\n",
    "    \"\"\"\n",
    "        Perform a search over all documents with the given query. \n",
    "        Note: You have to use the `get_index` function created in the previous cells\n",
    "        Input: \n",
    "            query - a (unprocessed) query\n",
    "            index_set - the index to use\n",
    "        Output: a list of (document_id, score), sorted in descending relevance to the given query \n",
    "    \"\"\"\n",
    "    index = get_index(index_set)\n",
    "    processed_query = preprocess_query(query, index_set)\n",
    "    scores = defaultdict(lambda : 0)\n",
    "    \n",
    "    for q in processed_query:\n",
    "        if q not in index.keys():\n",
    "            continue\n",
    "        for doc, count in index[q]:\n",
    "            scores[doc] += count\n",
    "            \n",
    "    return [(d, float(s)) for d, s in sorted(scores.items(), key=lambda t: t[1], reverse=True)]"
   ]
  },
  {
   "cell_type": "code",
   "execution_count": 24,
   "metadata": {
    "deletable": false,
    "editable": false,
    "nbgrader": {
     "cell_type": "code",
     "checksum": "644d6d33cf5075c6d9878d4fe24c6213",
     "grade": true,
     "grade_id": "cell-9f6aceae6dd9125f",
     "locked": true,
     "points": 2,
     "schema_version": 3,
     "solution": false,
     "task": false
    }
   },
   "outputs": [
    {
     "name": "stdout",
     "output_type": "stream",
     "text": [
      "BOW Results:\n",
      "Rank 0(6.0): An Information Algebra - Phase I Report-Language S...\n",
      "Rank 1(6.0): Rejuvenating Experimental Computer Science \\n This...\n",
      "Rank 2(3.0): ALGOL 60 Confidential \\n The ALGOL 60 Report,* whe...\n",
      "Rank 3(2.0): Automatic Abstracting and Indexing Survey and Reco...\n",
      "Rank 4(2.0): A String Language for Symbol Manipulation Based on...\n"
     ]
    }
   ],
   "source": [
    "#### Function check\n",
    "\n",
    "docs_by_id = dict(docs)\n",
    "def print_results(docs, len_limit=50):    \n",
    "    for i, (doc_id, score) in enumerate(docs):\n",
    "        doc_content = docs_by_id[doc_id].strip().replace(\"\\n\", \"\\\\n\")[:len_limit] + \"...\"\n",
    "        print(f\"Rank {i}({score:.2}): {doc_content}\")\n",
    "\n",
    "test_bow = bow_search(\"report\", index_set=1)[:5]\n",
    "print(f\"BOW Results:\")\n",
    "print_results(test_bow)\n",
    "#### "
   ]
  },
  {
   "cell_type": "code",
   "execution_count": 25,
   "metadata": {
    "deletable": false,
    "editable": false,
    "nbgrader": {
     "cell_type": "code",
     "checksum": "8d54c91b913d7a54b25f3358c969fa45",
     "grade": true,
     "grade_id": "cell-4eed3abf233d9b58",
     "locked": true,
     "points": 2,
     "schema_version": 3,
     "solution": false,
     "task": false
    }
   },
   "outputs": [],
   "source": [
    "#### Please do not change this. This cell is used for grading."
   ]
  },
  {
   "cell_type": "code",
   "execution_count": 26,
   "metadata": {
    "deletable": false,
    "editable": false,
    "nbgrader": {
     "cell_type": "code",
     "checksum": "58bcc16d36dc079b7f41f9572423c62b",
     "grade": true,
     "grade_id": "cell-4d65a2d7090c466c",
     "locked": true,
     "points": 3,
     "schema_version": 3,
     "solution": false,
     "task": false
    }
   },
   "outputs": [],
   "source": [
    "#### Please do not change this. This cell is used for grading."
   ]
  },
  {
   "cell_type": "code",
   "execution_count": 27,
   "metadata": {
    "deletable": false,
    "editable": false,
    "nbgrader": {
     "cell_type": "code",
     "checksum": "65e4561970c4eba3e5ce43b142f858af",
     "grade": true,
     "grade_id": "cell-dedf36ab5853ce20",
     "locked": true,
     "points": 3,
     "schema_version": 3,
     "solution": false,
     "task": false
    }
   },
   "outputs": [],
   "source": [
    "#### Please do not change this. This cell is used for grading."
   ]
  },
  {
   "cell_type": "markdown",
   "metadata": {
    "deletable": false,
    "editable": false,
    "nbgrader": {
     "cell_type": "markdown",
     "checksum": "a5c2318004c5ce534b67c7a36bbc7c31",
     "grade": false,
     "grade_id": "cell-a5c09c79ac1f2871",
     "locked": true,
     "schema_version": 3,
     "solution": false,
     "task": false
    }
   },
   "source": [
    "\n",
    "---\n",
    "\n",
    "### Section 3.2: TF-IDF (15 points) <a class=\"anchor\" id=\"tfidf\"></a>\n",
    "\n",
    "Before we implement the tf-idf scoring functions, let's first write a function to compute the document frequencies of all words.  \n",
    "\n",
    "#### 3.2.1 Document frequency (5 points)\n",
    "Compute the document frequencies of all tokens in the collection.  "
   ]
  },
  {
   "cell_type": "code",
   "execution_count": 28,
   "metadata": {
    "deletable": false,
    "nbgrader": {
     "cell_type": "code",
     "checksum": "11cdde77378ded394d7922fe36bbc5d1",
     "grade": false,
     "grade_id": "cell-9a2369f32e864b8a",
     "locked": false,
     "schema_version": 3,
     "solution": true,
     "task": false
    }
   },
   "outputs": [],
   "source": [
    "# TODO: Implement this! (5 points)\n",
    "\n",
    "def compute_df(documents):\n",
    "    \n",
    "    \"\"\"\n",
    "        Compute the document frequency of all terms in the vocabulary\n",
    "        Input: A list of documents\n",
    "        Output: A dictionary with {token: document frequency)\n",
    "    \"\"\"\n",
    "    \n",
    "    df = defaultdict(lambda: 0)\n",
    "    \n",
    "    for document in documents:\n",
    "        for token in set(document):\n",
    "                df[token] += 1\n",
    "    \n",
    "    return df"
   ]
  },
  {
   "cell_type": "code",
   "execution_count": 29,
   "metadata": {
    "deletable": false,
    "editable": false,
    "nbgrader": {
     "cell_type": "code",
     "checksum": "154985511d7925c5793a1f97dea81880",
     "grade": false,
     "grade_id": "cell-4c3bddd0b73ac90e",
     "locked": true,
     "schema_version": 3,
     "solution": false,
     "task": false
    }
   },
   "outputs": [],
   "source": [
    "#### Compute df based on the two configs\n",
    "\n",
    "# get the document frequencies of each document\n",
    "df_1 = compute_df([d[1] for d in doc_repr_1])\n",
    "df_2 = compute_df([d[1] for d in doc_repr_2])\n",
    "\n",
    "def get_df(index_set):\n",
    "    assert index_set in {1, 2}\n",
    "    return {\n",
    "        1: df_1,\n",
    "        2: df_2\n",
    "    }[index_set]\n",
    "####"
   ]
  },
  {
   "cell_type": "code",
   "execution_count": 30,
   "metadata": {
    "deletable": false,
    "editable": false,
    "nbgrader": {
     "cell_type": "code",
     "checksum": "110cc180068cf3f77c682ee3de2a117c",
     "grade": true,
     "grade_id": "cell-79e8a6db1e5fc46f",
     "locked": true,
     "points": 5,
     "schema_version": 3,
     "solution": false,
     "task": false
    }
   },
   "outputs": [
    {
     "name": "stdout",
     "output_type": "stream",
     "text": [
      "597\n",
      "11\n"
     ]
    }
   ],
   "source": [
    "#### Function check\n",
    "\n",
    "print(df_1['computer'])\n",
    "print(df_2['computer'])\n",
    "####"
   ]
  },
  {
   "cell_type": "markdown",
   "metadata": {
    "deletable": false,
    "editable": false,
    "nbgrader": {
     "cell_type": "markdown",
     "checksum": "6646996a2d016ef86e7cedd2f79a29d1",
     "grade": false,
     "grade_id": "cell-52f6acc487e1b96d",
     "locked": true,
     "schema_version": 3,
     "solution": false,
     "task": false
    }
   },
   "source": [
    "---\n",
    "#### 3.2.2 TF-IDF search (10 points)\n",
    "Next, implement a function that computes a tf-idf score given a query.      "
   ]
  },
  {
   "cell_type": "code",
   "execution_count": 31,
   "metadata": {
    "deletable": false,
    "nbgrader": {
     "cell_type": "code",
     "checksum": "b33c859693d1b383bcb53acea340027f",
     "grade": false,
     "grade_id": "cell-2fb5ba34b2994cd9",
     "locked": false,
     "schema_version": 3,
     "solution": true,
     "task": false
    }
   },
   "outputs": [],
   "source": [
    "# TODO: Implement this! (10 points)\n",
    "\n",
    "def tfidf_search(query, index_set):\n",
    "    \n",
    "    \"\"\"\n",
    "        Perform a search over all documents with the given query using tf-idf. \n",
    "        Note #1: You have to use the `get_index` (and the `get_df`) function created in the previous cells\n",
    "        Input: \n",
    "            query - a (unprocessed) query\n",
    "            index_set - the index to use\n",
    "        Output: a list of (document_id, score), sorted in descending relevance to the given query \n",
    "    \"\"\"\n",
    "    \n",
    "    index = get_index(index_set)\n",
    "    df = get_df(index_set)\n",
    "    processed_query = preprocess_query(query, index_set)\n",
    "    \n",
    "    # Make a set of all involved documents\n",
    "    documents = set([z[0] for z in [y for x in index.values() for y in x]])\n",
    "    \n",
    "    # Make dict of all involved documents, assign score to 0\n",
    "    tf = defaultdict(lambda: 0)\n",
    "    \n",
    "    # Create new dict with Inverse document frequency\n",
    "    idf = {n: np.log(len(documents)/df[n]) for n in df.keys()}\n",
    "    \n",
    "    # Multiply tf * idf and sum to calculate score\n",
    "    for token in processed_query:\n",
    "        if token not in index.keys():\n",
    "            continue\n",
    "        for doc, count in index[token]:\n",
    "            tf[doc] += count*idf[token]\n",
    "    \n",
    "    # Sort and return list\n",
    "    return sorted(tf.items(), key=lambda x:x[1], reverse=True)"
   ]
  },
  {
   "cell_type": "code",
   "execution_count": 32,
   "metadata": {
    "deletable": false,
    "editable": false,
    "nbgrader": {
     "cell_type": "code",
     "checksum": "10b9fd39f3c9a9f3ca274c020ad79323",
     "grade": true,
     "grade_id": "cell-bc68aeeacf42beb3",
     "locked": true,
     "points": 2,
     "schema_version": 3,
     "solution": false,
     "task": false
    }
   },
   "outputs": [
    {
     "name": "stdout",
     "output_type": "stream",
     "text": [
      "TFIDF Results:\n",
      "Rank 0(2.3e+01): An Information Algebra - Phase I Report-Language S...\n",
      "Rank 1(2.3e+01): Rejuvenating Experimental Computer Science \\n This...\n",
      "Rank 2(1.2e+01): ALGOL 60 Confidential \\n The ALGOL 60 Report,* whe...\n",
      "Rank 3(7.8): Automatic Abstracting and Indexing Survey and Reco...\n",
      "Rank 4(7.8): A String Language for Symbol Manipulation Based on...\n"
     ]
    }
   ],
   "source": [
    "#### Function check\n",
    "test_tfidf = tfidf_search(\"report\", index_set=1)[:5]\n",
    "print(f\"TFIDF Results:\")\n",
    "print_results(test_tfidf)\n",
    "####"
   ]
  },
  {
   "cell_type": "code",
   "execution_count": 33,
   "metadata": {
    "deletable": false,
    "editable": false,
    "nbgrader": {
     "cell_type": "code",
     "checksum": "03441f97df9db4996d0f260fcc974e9d",
     "grade": true,
     "grade_id": "cell-c7702fa8179fadb9",
     "locked": true,
     "points": 2,
     "schema_version": 3,
     "solution": false,
     "task": false
    }
   },
   "outputs": [],
   "source": [
    "#### Please do not change this. This cell is used for grading."
   ]
  },
  {
   "cell_type": "code",
   "execution_count": 34,
   "metadata": {
    "deletable": false,
    "editable": false,
    "nbgrader": {
     "cell_type": "code",
     "checksum": "7272cfcbb457a74d23bfec1f85d22d5f",
     "grade": true,
     "grade_id": "cell-3284f50ac29abbaa",
     "locked": true,
     "points": 3,
     "schema_version": 3,
     "solution": false,
     "task": false
    }
   },
   "outputs": [],
   "source": [
    "#### Please do not change this. This cell is used for grading."
   ]
  },
  {
   "cell_type": "code",
   "execution_count": 35,
   "metadata": {
    "deletable": false,
    "editable": false,
    "nbgrader": {
     "cell_type": "code",
     "checksum": "fcbcc867713612b90395d653db8fd5e3",
     "grade": true,
     "grade_id": "cell-d908c80a3155354b",
     "locked": true,
     "points": 3,
     "schema_version": 3,
     "solution": false,
     "task": false
    }
   },
   "outputs": [],
   "source": [
    "#### Please do not change this. This cell is used for grading."
   ]
  },
  {
   "cell_type": "markdown",
   "metadata": {
    "deletable": false,
    "editable": false,
    "nbgrader": {
     "cell_type": "markdown",
     "checksum": "cdffc83f0eaea937cf64a212e7e9af8d",
     "grade": false,
     "grade_id": "cell-f5d923459ba21733",
     "locked": true,
     "schema_version": 3,
     "solution": false,
     "task": false
    }
   },
   "source": [
    "--- \n",
    "\n",
    "### Section 3.3: Query Likelihood Model (35 points) <a class=\"anchor\" id=\"qlm\"></a>\n",
    "\n",
    "In this section, you will implement a simple query likelihood model. \n",
    "\n",
    "\n",
    "#### 3.3.1 Naive QL (15 points)\n",
    "\n",
    "First, let us implement a naive version of a QL model, assuming a multinomial unigram language model (with a uniform prior over the documents). \n",
    "\n"
   ]
  },
  {
   "cell_type": "code",
   "execution_count": 36,
   "metadata": {
    "deletable": false,
    "editable": false,
    "nbgrader": {
     "cell_type": "code",
     "checksum": "b7ae2b7d818b428b4638c1c9206d2aca",
     "grade": false,
     "grade_id": "cell-98505778f7b68e7f",
     "locked": true,
     "schema_version": 3,
     "solution": false,
     "task": false
    }
   },
   "outputs": [],
   "source": [
    "#### Document length for normalization\n",
    "\n",
    "def doc_lengths(documents):\n",
    "    doc_lengths = {doc_id:len(doc) for (doc_id, doc) in documents}\n",
    "    return doc_lengths\n",
    "\n",
    "doc_lengths_1 = doc_lengths(doc_repr_1)\n",
    "doc_lengths_2 = doc_lengths(doc_repr_2)\n",
    "\n",
    "def get_doc_lengths(index_set):\n",
    "    assert index_set in {1, 2}\n",
    "    return {\n",
    "        1: doc_lengths_1,\n",
    "        2: doc_lengths_2\n",
    "    }[index_set]\n",
    "####"
   ]
  },
  {
   "cell_type": "code",
   "execution_count": 37,
   "metadata": {
    "deletable": false,
    "nbgrader": {
     "cell_type": "code",
     "checksum": "cedd08303a914243fefdb6b876977ca1",
     "grade": false,
     "grade_id": "cell-8bcf2b804d636c2e",
     "locked": false,
     "schema_version": 3,
     "solution": true,
     "task": false
    }
   },
   "outputs": [],
   "source": [
    "def naive_ql_search(query, index_set):\n",
    "    \"\"\"\n",
    "        Perform a search over all documents with the given query using a naive QL model. \n",
    "        Note #1: You have to use the `get_index` (and get_doc_lengths) function created in the previous cells\n",
    "        Input: \n",
    "            query - a (unprocessed) query\n",
    "            index_set - the index to use\n",
    "        Output: a list of (document_id, score), sorted in descending relevance to the given query \n",
    "    \"\"\"\n",
    "    index = get_index(index_set)\n",
    "    doc_lengths = get_doc_lengths(index_set)\n",
    "    processed_query = preprocess_query(query, index_set)\n",
    "    \n",
    "    # Make a set of all involved documents\n",
    "    documents = set([z[0] for z in [y for x in index.values() for y in x]])\n",
    "    \n",
    "    # Specifiy defaultdict\n",
    "    scores = defaultdict(list)\n",
    "    in_docs = {}\n",
    "    \n",
    "    # For each term in query\n",
    "    for term in processed_query:\n",
    "        \n",
    "        # If term does not exist skip it \n",
    "        if term not in index:\n",
    "            continue\n",
    "        \n",
    "        # Collect all doc_ids from documents in which the first existing term occurs\n",
    "        # If first existing term does not occur in a document, but second term appears\n",
    "        # in another document this value will be 0 anyways, so don't take into account\n",
    "        \n",
    "        in_docs = [x for x, y in index[term]]\n",
    "        \n",
    "        break\n",
    "    \n",
    "    # Loop again through terms\n",
    "    for term in processed_query:\n",
    "        \n",
    "        if term not in index:\n",
    "            continue\n",
    "        \n",
    "        for document in in_docs: \n",
    "            if document in [x for x, y in index[term]]:\n",
    "                scores[document].append((index[term][[x for x, y in index[term]].index(document)][1])/doc_lengths[document])                \n",
    "          \n",
    "            # If term does not occur, remove from in_docs to save computing time\n",
    "            # Set probability to 0   \n",
    "            else:\n",
    "                scores[document].append(0)\n",
    "                in_docs.remove(document)\n",
    "    \n",
    "    # Take product of all elements\n",
    "    scores.update({n: np.prod([float(y) for y in scores[n]]) for n in scores.keys()})\n",
    "    \n",
    "    # Sort and return list\n",
    "    return sorted(scores.items(), key=lambda x: x[1], reverse=True)"
   ]
  },
  {
   "cell_type": "code",
   "execution_count": 38,
   "metadata": {
    "deletable": false,
    "editable": false,
    "nbgrader": {
     "cell_type": "code",
     "checksum": "b550d15bdad28354c336020a00c33d56",
     "grade": true,
     "grade_id": "cell-5a83ac12ecde8578",
     "locked": true,
     "points": 3,
     "schema_version": 3,
     "solution": false,
     "task": false
    },
    "scrolled": true
   },
   "outputs": [
    {
     "name": "stdout",
     "output_type": "stream",
     "text": [
      "Naive QL Results:\n",
      "Rank 0(0.2): A Report Writer For COBOL...\n",
      "Rank 1(0.2): A CRT Report Generating System...\n",
      "Rank 2(0.17): Preliminary Report-International Algebraic Languag...\n",
      "Rank 3(0.17): Supplement to the ALGOL 60 Report...\n",
      "Rank 4(0.14): ALGOL Sub-Committee Report - Extensions...\n"
     ]
    }
   ],
   "source": [
    "#### Function check\n",
    "test_naiveql = naive_ql_search(\"report\", index_set=1)[:5]\n",
    "print(f\"Naive QL Results:\")\n",
    "print_results(test_naiveql)\n",
    "####"
   ]
  },
  {
   "cell_type": "code",
   "execution_count": 39,
   "metadata": {},
   "outputs": [
    {
     "name": "stdout",
     "output_type": "stream",
     "text": [
      "Naive QL Results:\n",
      "Rank 0(1e-07): A Report Writer For COBOL...\n",
      "Rank 1(1e-07): A CRT Report Generating System...\n",
      "Rank 2(1.7e-08): Preliminary Report-International Algebraic Languag...\n",
      "Rank 3(1.7e-08): Supplement to the ALGOL 60 Report...\n",
      "Rank 4(3.5e-09): ALGOL Sub-Committee Report - Extensions...\n"
     ]
    }
   ],
   "source": [
    "#### Function check\n",
    "test_naiveql = naive_ql_search(\"report \" * 10, index_set=1)[:5]\n",
    "print(f\"Naive QL Results:\")\n",
    "print_results(test_naiveql)\n",
    "####"
   ]
  },
  {
   "cell_type": "code",
   "execution_count": 40,
   "metadata": {
    "scrolled": true
   },
   "outputs": [
    {
     "name": "stdout",
     "output_type": "stream",
     "text": [
      "Naive QL Results:\n",
      "Rank 0(0.11): Report on a Conference of University Computing Cen...\n",
      "Rank 1(0.067): Report of a Visit to Discuss Common Programming La...\n",
      "Rank 2(0.042): A Proposal for Input-Output Conventions in ALGOL 6...\n",
      "Rank 3(0.028): Supplement to the ALGOL 60 Report...\n",
      "Rank 4(0.02): An Information Algebra - Phase I Report-Language S...\n",
      "Rank 5(0.016): Report on SUBSET ALGOL 60 (IFIP)...\n",
      "Rank 6(0.014): Further Evidence for the Analysis of Algorithms fo...\n",
      "Rank 7(0.013): Comparison of Several Adaptive Newton-Cotes Quadra...\n",
      "Rank 8(0.01): New Sufficient Optimality Conditions for Integer P...\n",
      "Rank 9(0.0083): On a Solution to the Cigarette Smoker's Problem (W...\n",
      "Rank 10(0.0081): A Computer Science Course Program for Small Colleg...\n",
      "Rank 11(0.0076): Computer Pattern Recognition Techniques: Electroca...\n",
      "Rank 12(0.0071): Computing Capabilities at Western European Univers...\n",
      "Rank 13(0.0056): On Simulating Networks of Parallel Processes in Wh...\n",
      "Rank 14(0.0044): A Profile of the Programmer \\n Synopsis: 549 membe...\n",
      "Rank 15(0.0024): The Remaining Trouble Spots in ALGOL 60 \\n This pa...\n",
      "Rank 16(0.0014): Revised Report on the Algorithmic Language ALGOL 6...\n",
      "Rank 17(0.0002): SMALGOL-61 \\n Prior to and during the 1961 Western...\n",
      "Rank 18(0.00011): Preliminary Report on a System for General Space P...\n",
      "Rank 19(0.0): Preliminary Report-International Algebraic Languag...\n",
      "Rank 20(0.0): ALGOL Sub-Committee Report - Extensions...\n",
      "Rank 21(0.0): The Use of Computers in Engineering Classroom Inst...\n",
      "Rank 22(0.0): Report on the Algorithmic Language ALGOL 60...\n",
      "Rank 23(0.0): ALGOL 60 Confidential \\n The ALGOL 60 Report,* whe...\n",
      "Rank 24(0.0): Automatic Abstracting and Indexing Survey and Reco...\n",
      "Rank 25(0.0): Report on the Algorithmic Language FORTRAN II...\n",
      "Rank 26(0.0): A Report Writer For COBOL...\n",
      "Rank 27(0.0): Interim Report on Bureau of Ships COBOL Evaluation...\n",
      "Rank 28(0.0): A NELIAC-Generated 7090-1401 Compiler \\n NELIAC sy...\n",
      "Rank 29(0.0): A String Language for Symbol Manipulation Based on...\n",
      "Rank 30(0.0): Coding Clinical Laboratory Data For Automatic Stor...\n",
      "Rank 31(0.0): A Description of the APT Language \\n The APT (Auto...\n",
      "Rank 32(0.0): Report on Proposed American Standard Flowchart Sym...\n",
      "Rank 33(0.0): Suggestions on ALGOL 60 (ROME) Issues - A Report b...\n",
      "Rank 34(0.0): Report on Input-Output Procedures for ALGOL 60 (IF...\n",
      "Rank 35(0.0): A Method of Syntax-Checking ALGOL 60 \\n A syntax c...\n",
      "Rank 36(0.0): Multiword List Items \\n The list concept as origin...\n",
      "Rank 37(0.0): The SMART Automatic Document Retrieval System-An I...\n",
      "Rank 38(0.0): A Technique for Integrated Reports from a Multi-ru...\n",
      "Rank 39(0.0): Remote, On-Line, Real-time Computer Diagnosis of t...\n",
      "Rank 40(0.0): A Fortran Technique for Simplifying Input to Repor...\n",
      "Rank 41(0.0): Control Procedures for Data Communication-An ASA P...\n",
      "Rank 42(0.0): Computational Linguistics in a Ph.D. Computer Scie...\n",
      "Rank 43(0.0): Expenditures, Sources of Funds, and Utilization of...\n",
      "Rank 44(0.0): CURRICULUM 68 -- Recommendations for Academic Prog...\n",
      "Rank 45(0.0): Introducing Computing to Smaller Colleges and Univ...\n",
      "Rank 46(0.0): Information Science in a Ph.D. Computer Science Pr...\n",
      "Rank 47(0.0): A Relational Model of Data for Large Shared Data B...\n",
      "Rank 48(0.0): Clarification of Fortran Standards-Second Report \\...\n",
      "Rank 49(0.0): The State of Computer Oriented Curricula in Busine...\n",
      "Rank 50(0.0): Introduction to \"Feature Analysis of Generalized D...\n",
      "Rank 51(0.0): Thinning Algorithms on Rectangular, Hexagonal, and...\n",
      "Rank 52(0.0): TENEX, a Paged Time Sharing System for the PDP-10 ...\n",
      "Rank 53(0.0): Curriculum Recommendations for Graduate Profession...\n",
      "Rank 54(0.0): The Design, Implementation, and Evaluation of a Wo...\n",
      "Rank 55(0.0): Implementation of High Level Language Machine \\n C...\n",
      "Rank 56(0.0): Guidelines for Humanizing Computerized Information...\n",
      "Rank 57(0.0): A Back-end Computer for Data Base Management \\n It...\n",
      "Rank 58(0.0): A CRT Report Generating System...\n",
      "Rank 59(0.0): The Technology of Computer Center Management: A Pr...\n",
      "Rank 60(0.0): The GRE Advanced Test in Computer Science \\n This ...\n",
      "Rank 61(0.0): Studies in Machine Cognition Using The Game of Pok...\n",
      "Rank 62(0.0): CURRICULUM '78 - Recommendations for the Undergrad...\n",
      "Rank 63(0.0): Rejuvenating Experimental Computer Science \\n This...\n"
     ]
    }
   ],
   "source": [
    "#### Function check\n",
    "test_naiveql = naive_ql_search(\"report ALGOL Supplement\", index_set=1)\n",
    "print(f\"Naive QL Results:\")\n",
    "print_results(test_naiveql)\n",
    "####"
   ]
  },
  {
   "cell_type": "code",
   "execution_count": 41,
   "metadata": {
    "deletable": false,
    "editable": false,
    "nbgrader": {
     "cell_type": "code",
     "checksum": "799df1d81c63fe90edbb6c218fc707fb",
     "grade": true,
     "grade_id": "cell-80f4bf2137f997bb",
     "locked": true,
     "points": 2,
     "schema_version": 3,
     "solution": false,
     "task": false
    }
   },
   "outputs": [],
   "source": [
    "#### Please do not change this. This cell is used for grading."
   ]
  },
  {
   "cell_type": "code",
   "execution_count": 42,
   "metadata": {
    "deletable": false,
    "editable": false,
    "nbgrader": {
     "cell_type": "code",
     "checksum": "875a4a517d27e20625d41783cebec118",
     "grade": true,
     "grade_id": "cell-5ce2993458a8ce51",
     "locked": true,
     "points": 3,
     "schema_version": 3,
     "solution": false,
     "task": false
    }
   },
   "outputs": [],
   "source": [
    "#### Please do not change this. This cell is used for grading."
   ]
  },
  {
   "cell_type": "code",
   "execution_count": 43,
   "metadata": {
    "deletable": false,
    "editable": false,
    "nbgrader": {
     "cell_type": "code",
     "checksum": "d5c4e1c3852e71a46f32825b122f1b71",
     "grade": true,
     "grade_id": "cell-7753bdb54e292f3d",
     "locked": true,
     "points": 3,
     "schema_version": 3,
     "solution": false,
     "task": false
    }
   },
   "outputs": [],
   "source": [
    "#### Please do not change this. This cell is used for grading."
   ]
  },
  {
   "cell_type": "code",
   "execution_count": 44,
   "metadata": {
    "deletable": false,
    "editable": false,
    "nbgrader": {
     "cell_type": "code",
     "checksum": "c4d4332d4356e89ce0240f6b80e1899a",
     "grade": true,
     "grade_id": "cell-54e476e2f96e64bb",
     "locked": true,
     "points": 4,
     "schema_version": 3,
     "solution": false,
     "task": false
    }
   },
   "outputs": [],
   "source": [
    "#### Please do not change this. This cell is used for grading."
   ]
  },
  {
   "cell_type": "markdown",
   "metadata": {
    "deletable": false,
    "editable": false,
    "nbgrader": {
     "cell_type": "markdown",
     "checksum": "8d739dc91a22bd48897f603885f95a74",
     "grade": false,
     "grade_id": "cell-5414dfd69dab8b94",
     "locked": true,
     "schema_version": 3,
     "solution": false,
     "task": false
    }
   },
   "source": [
    "---\n",
    "#### 3.3.2 QL (20 points)\n",
    "Now, let's implement a QL model that handles the issues with the naive version. In particular, you will implement a QL model with Jelinek-Mercer Smoothing. That means an interpolated score is computed per word - one term is the same as the previous naive version, and the second term comes from a unigram language model. In addition, you should accumulate the scores by summing the **log** (smoothed) probability which leads to better numerical stability."
   ]
  },
  {
   "cell_type": "code",
   "execution_count": 45,
   "metadata": {
    "deletable": false,
    "nbgrader": {
     "cell_type": "code",
     "checksum": "b8c6abf937ad333e628f1db891f2e29e",
     "grade": false,
     "grade_id": "cell-bb1f506409771257",
     "locked": false,
     "schema_version": 3,
     "solution": true,
     "task": false
    }
   },
   "outputs": [],
   "source": [
    "# TODO: Implement this! (20 points)\n",
    "\n",
    "def ql_search(query, index_set):\n",
    "    \"\"\"\n",
    "        Perform a search over all documents with the given query using a QL model \n",
    "        with Jelinek-Mercer Smoothing (set smoothing=0.1). \n",
    "        \n",
    "        \n",
    "        Note #1: You have to use the `get_index` (and get_doc_lengths) function created in the previous cells\n",
    "        Note #2: You might have to create some variables beforehand and use them in this function\n",
    "        \n",
    "        \n",
    "        Input: \n",
    "            query - a (unprocessed) query\n",
    "            index_set - the index to use\n",
    "        Output: a list of (document_id, score), sorted in descending relevance to the given query \n",
    "    \"\"\"\n",
    "    \n",
    "    index = get_index(index_set)\n",
    "    doc_lengths = get_doc_lengths(index_set)\n",
    "    processed_query = preprocess_query(query, index_set)\n",
    "    \n",
    "    # Collection length\n",
    "    cl = sum(doc_lengths.values())\n",
    "    \n",
    "    # Set smoothing\n",
    "    smoothing = 0.1\n",
    "    labda = 1-smoothing\n",
    "    \n",
    "    # Specifiy defaultdict\n",
    "    scores = defaultdict(list)\n",
    "    \n",
    "    # keep track of all documents that contain a query\n",
    "    in_docs = set()\n",
    "    new_query = []\n",
    "    colfrac = []\n",
    "    \n",
    "    # For each term in query\n",
    "    for term in processed_query:\n",
    "        \n",
    "        # If term does not exist in vocab, skip\n",
    "        if term not in index:\n",
    "            continue\n",
    "        \n",
    "        # Add existing term to new query\n",
    "        new_query.append(term)\n",
    "        cft = 0\n",
    "    \n",
    "        for doc, item in index[term]:\n",
    "            \n",
    "            # Collect al doc_ids from documents in which term occurs\n",
    "            in_docs.add(doc)\n",
    "            \n",
    "            # Collection frequency of term\n",
    "            cft += item\n",
    "        \n",
    "        # Second term of score, as this term is indep. of document\n",
    "        colfrac.append((1-labda)*cft/cl)\n",
    "        \n",
    "    for i, q in enumerate(new_query):\n",
    "        for document in in_docs:       \n",
    "            \n",
    "            if not document in [x for x, y in index[q]]:\n",
    "                \n",
    "                # If term does not occur in document, append second part of equation and continue\n",
    "                with np.errstate(divide='ignore'):\n",
    "                    scores[document].append(np.log(colfrac[i]))\n",
    "                continue\n",
    "                \n",
    "            # Get frequency of term in particular document\n",
    "            freq = (index[q][([x for x, y in index[q]].index(document))][1])\n",
    "            \n",
    "            scores[document].append(np.log((labda*(freq/doc_lengths[document])) + ((1-labda)*colfrac[i])))\n",
    "    \n",
    "    # Score equals the logsum of all probabilities\n",
    "    # Note: log(𝑎)+log(𝑏)=log(𝑎𝑏)\n",
    "    # Convert log back to normal\n",
    "    scores.update({n: np.exp(np.sum([float(y) for y in scores[n]])) for n in scores.keys()})\n",
    "    \n",
    "    # Sort and return list\n",
    "    # Score is in interval [0,1]\n",
    "    return sorted(scores.items(), key=lambda x: x[1], reverse=True)"
   ]
  },
  {
   "cell_type": "code",
   "execution_count": 46,
   "metadata": {
    "deletable": false,
    "editable": false,
    "nbgrader": {
     "cell_type": "code",
     "checksum": "0b12a7f3355193a257fd9f5f69a66562",
     "grade": true,
     "grade_id": "cell-850e9d6369bcec32",
     "locked": true,
     "points": 4,
     "schema_version": 3,
     "solution": false,
     "task": false
    }
   },
   "outputs": [
    {
     "name": "stdout",
     "output_type": "stream",
     "text": [
      "Rank 0(0.18): A CRT Report Generating System...\n",
      "Rank 1(0.18): A Report Writer For COBOL...\n",
      "Rank 2(0.15): Preliminary Report-International Algebraic Languag...\n",
      "Rank 3(0.15): Supplement to the ALGOL 60 Report...\n",
      "Rank 4(0.13): ALGOL Sub-Committee Report - Extensions...\n",
      "\n",
      "Rank 0(3.6e-08): A CRT Report Generating System...\n",
      "Rank 1(3.6e-08): A Report Writer For COBOL...\n",
      "Rank 2(5.8e-09): Preliminary Report-International Algebraic Languag...\n",
      "Rank 3(5.8e-09): Supplement to the ALGOL 60 Report...\n",
      "Rank 4(1.2e-09): ALGOL Sub-Committee Report - Extensions...\n"
     ]
    }
   ],
   "source": [
    "#### Function check\n",
    "test_ql_results = ql_search(\"report\", index_set=1)[:5]\n",
    "print_results(test_ql_results)\n",
    "print()\n",
    "test_ql_results_long = ql_search(\"report \" * 10, index_set=1)[:5]\n",
    "print_results(test_ql_results_long)\n",
    "####"
   ]
  },
  {
   "cell_type": "code",
   "execution_count": 47,
   "metadata": {},
   "outputs": [
    {
     "name": "stdout",
     "output_type": "stream",
     "text": [
      "Rank 0(0.0034): Supplement to the ALGOL 60 Report...\n",
      "Rank 1(1.7e-08): ALGOL Sub-Committee Report - Extensions...\n",
      "Rank 2(1.7e-08): Report on the Algorithmic Language ALGOL 60...\n",
      "Rank 3(1.3e-08): Report on SUBSET ALGOL 60 (IFIP)...\n",
      "Rank 4(5.7e-09): Report on Input-Output Procedures for ALGOL 60 (IF...\n"
     ]
    }
   ],
   "source": [
    "#### Function check\n",
    "test_ql_results_long = ql_search(\"report ALGOL Supplement\", index_set=1)[:5]\n",
    "print_results(test_ql_results_long)\n",
    "####"
   ]
  },
  {
   "cell_type": "code",
   "execution_count": 48,
   "metadata": {},
   "outputs": [
    {
     "name": "stdout",
     "output_type": "stream",
     "text": [
      "Rank 0(5.1e-08): Supplement to the ALGOL 60 Report...\n",
      "Rank 1(2.2e-12): A Generalization of ALGOL...\n",
      "Rank 2(9.8e-13): Remark on Further Generalization of ALGOL...\n",
      "Rank 3(2.9e-13): EULER: A Generalization of ALGOL, and its Formal D...\n",
      "Rank 4(2.6e-13): ALGOL Sub-Committee Report - Extensions...\n"
     ]
    }
   ],
   "source": [
    "#### Function check\n",
    "test_ql_results_long = ql_search(\"report ALGOL Supplement generalization\", index_set=1)[:5]\n",
    "print_results(test_ql_results_long)\n",
    "####"
   ]
  },
  {
   "cell_type": "code",
   "execution_count": 49,
   "metadata": {
    "deletable": false,
    "editable": false,
    "nbgrader": {
     "cell_type": "code",
     "checksum": "e40be645140389c115849856145f5b59",
     "grade": true,
     "grade_id": "cell-958cdcf6fd6899b7",
     "locked": true,
     "points": 3,
     "schema_version": 3,
     "solution": false,
     "task": false
    }
   },
   "outputs": [],
   "source": [
    "#### Please do not change this. This cell is used for grading."
   ]
  },
  {
   "cell_type": "code",
   "execution_count": 50,
   "metadata": {
    "deletable": false,
    "editable": false,
    "nbgrader": {
     "cell_type": "code",
     "checksum": "41d4aff001df17e7963ba79b45810b30",
     "grade": true,
     "grade_id": "cell-384dc23a0c251f6e",
     "locked": true,
     "points": 4,
     "schema_version": 3,
     "solution": false,
     "task": false
    }
   },
   "outputs": [],
   "source": [
    "#### Please do not change this. This cell is used for grading."
   ]
  },
  {
   "cell_type": "code",
   "execution_count": 51,
   "metadata": {
    "deletable": false,
    "editable": false,
    "nbgrader": {
     "cell_type": "code",
     "checksum": "893e8c5a073abc8ebb763d267b91bc02",
     "grade": true,
     "grade_id": "cell-7218966cba5097cc",
     "locked": true,
     "points": 4,
     "schema_version": 3,
     "solution": false,
     "task": false
    }
   },
   "outputs": [],
   "source": [
    "#### Please do not change this. This cell is used for grading."
   ]
  },
  {
   "cell_type": "code",
   "execution_count": 52,
   "metadata": {
    "deletable": false,
    "editable": false,
    "nbgrader": {
     "cell_type": "code",
     "checksum": "f99cb6f8b1f5830aaed8f06712ff846e",
     "grade": true,
     "grade_id": "cell-481ab073259ae53f",
     "locked": true,
     "points": 5,
     "schema_version": 3,
     "solution": false,
     "task": false
    }
   },
   "outputs": [],
   "source": [
    "#### Please do not change this. This cell is used for grading."
   ]
  },
  {
   "cell_type": "markdown",
   "metadata": {
    "deletable": false,
    "editable": false,
    "nbgrader": {
     "cell_type": "markdown",
     "checksum": "c02f14705d679579b1aa9f78f54779d5",
     "grade": false,
     "grade_id": "cell-f44088bfdac1dc90",
     "locked": true,
     "schema_version": 3,
     "solution": false,
     "task": false
    }
   },
   "source": [
    "--- \n",
    "\n",
    "### Section 3.4: BM25 (20 points) <a class=\"anchor\" id=\"bm25\"></a>\n",
    "\n",
    "In this section, we will implement the BM25 scoring function. \n"
   ]
  },
  {
   "cell_type": "code",
   "execution_count": 53,
   "metadata": {
    "deletable": false,
    "nbgrader": {
     "cell_type": "code",
     "checksum": "e57efe06ea92af1c83784a42eb3d86e0",
     "grade": false,
     "grade_id": "cell-15640fc9b5d00a3c",
     "locked": false,
     "schema_version": 3,
     "solution": true,
     "task": false
    }
   },
   "outputs": [],
   "source": [
    "# TODO: Implement this! (20 points)\n",
    "def bm25_search(query, index_set, k_1=1.5, b=0.75):\n",
    "    \n",
    "    \"\"\"\n",
    "        Perform a search over all documents with the given query using BM25. Use k_1 = 1.5 and b = 0.75\n",
    "        Note #1: You have to use the `get_index` (and `get_doc_lengths`) function created in the previous cells\n",
    "        Note #2: You might have to create some variables beforehand and use them in this function\n",
    "        \n",
    "        Input: \n",
    "            query - a (unprocessed) query\n",
    "            index_set - the index to use\n",
    "        Output: a list of (document_id, score), sorted in descending relevance to the given query \n",
    "    \"\"\"\n",
    "    \n",
    "    index = get_index(index_set)\n",
    "    df = get_df(index_set)\n",
    "    doc_lengths = get_doc_lengths(index_set)\n",
    "    processed_query = preprocess_query(query, index_set)\n",
    "    \n",
    "    # Average document length\n",
    "    avdl = sum(doc_lengths.values()) / len(doc_lengths)\n",
    "    scores = defaultdict(lambda: 0)\n",
    "    \n",
    "    for token in processed_query:\n",
    "        for doc_id, tf in index[token]:\n",
    "            idf = np.log(len(doc_lengths)/df[token])\n",
    "            second_part = (k_1 * tf) / (k_1 * ((1 - b) + b * doc_lengths[doc_id] / avdl) + tf)\n",
    "            scores[doc_id] += idf * second_part\n",
    "            \n",
    "    return [(d, float(s)) for d, s in sorted(scores.items(), key=lambda t: t[1], reverse=True)]"
   ]
  },
  {
   "cell_type": "code",
   "execution_count": 54,
   "metadata": {
    "deletable": false,
    "editable": false,
    "nbgrader": {
     "cell_type": "code",
     "checksum": "4be9de5d4e94637960d83725422bea6c",
     "grade": true,
     "grade_id": "cell-d10536bca72c74b1",
     "locked": true,
     "points": 3,
     "schema_version": 3,
     "solution": false,
     "task": false
    }
   },
   "outputs": [
    {
     "name": "stdout",
     "output_type": "stream",
     "text": [
      "Rank 0(4.0): A Report Writer For COBOL...\n",
      "Rank 1(4.0): A CRT Report Generating System...\n",
      "Rank 2(4.0): Preliminary Report-International Algebraic Languag...\n",
      "Rank 3(4.0): Supplement to the ALGOL 60 Report...\n",
      "Rank 4(3.9): ALGOL Sub-Committee Report - Extensions...\n"
     ]
    }
   ],
   "source": [
    "#### Function check\n",
    "test_bm25_results = bm25_search(\"report\", index_set=1)[:5]\n",
    "print_results(test_bm25_results)\n",
    "####"
   ]
  },
  {
   "cell_type": "code",
   "execution_count": 55,
   "metadata": {
    "deletable": false,
    "editable": false,
    "nbgrader": {
     "cell_type": "code",
     "checksum": "31b550d6a46ae4f8ede88788799ac2b9",
     "grade": true,
     "grade_id": "cell-60f6ec5052712d79",
     "locked": true,
     "points": 5,
     "schema_version": 3,
     "solution": false,
     "task": false
    }
   },
   "outputs": [],
   "source": [
    "#### Please do not change this. This cell is used for grading."
   ]
  },
  {
   "cell_type": "code",
   "execution_count": 56,
   "metadata": {
    "deletable": false,
    "editable": false,
    "nbgrader": {
     "cell_type": "code",
     "checksum": "3da2ec16bfe781916e71755d65aa2983",
     "grade": true,
     "grade_id": "cell-5d17524043a5abcc",
     "locked": true,
     "points": 5,
     "schema_version": 3,
     "solution": false,
     "task": false
    }
   },
   "outputs": [],
   "source": [
    "#### Please do not change this. This cell is used for grading."
   ]
  },
  {
   "cell_type": "code",
   "execution_count": 57,
   "metadata": {
    "deletable": false,
    "editable": false,
    "nbgrader": {
     "cell_type": "code",
     "checksum": "e7b563d54fa84c20909c0ae107010541",
     "grade": true,
     "grade_id": "cell-ff8e704eda1184e3",
     "locked": true,
     "points": 3,
     "schema_version": 3,
     "solution": false,
     "task": false
    }
   },
   "outputs": [],
   "source": [
    "#### Please do not change this. This cell is used for grading."
   ]
  },
  {
   "cell_type": "code",
   "execution_count": 58,
   "metadata": {
    "deletable": false,
    "editable": false,
    "nbgrader": {
     "cell_type": "code",
     "checksum": "b013f90974b396630a8831d6f1d7e5f7",
     "grade": true,
     "grade_id": "cell-a52310500a2543cb",
     "locked": true,
     "points": 4,
     "schema_version": 3,
     "solution": false,
     "task": false
    }
   },
   "outputs": [],
   "source": [
    "#### Please do not change this. This cell is used for grading."
   ]
  },
  {
   "cell_type": "markdown",
   "metadata": {
    "deletable": false,
    "editable": false,
    "nbgrader": {
     "cell_type": "markdown",
     "checksum": "8fcf67cb7d5e8b26cb9bf1f0aa42c847",
     "grade": false,
     "grade_id": "cell-8b2b412c81d62f2d",
     "locked": true,
     "schema_version": 3,
     "solution": false,
     "task": false
    }
   },
   "source": [
    "\n",
    "---\n",
    "\n",
    "### 3.5. Test Your Functions\n",
    "\n",
    "The widget below allows you to play with the search functions you've written so far. Use this to test your search functions and ensure that they work as expected."
   ]
  },
  {
   "cell_type": "code",
   "execution_count": 59,
   "metadata": {
    "deletable": false,
    "editable": false,
    "nbgrader": {
     "cell_type": "code",
     "checksum": "dfeb204b390acc0794dbdcac92b0cf2c",
     "grade": false,
     "grade_id": "cell-c9c2bb76354e8d97",
     "locked": true,
     "schema_version": 3,
     "solution": false,
     "task": false
    }
   },
   "outputs": [],
   "source": [
    "#### Highlighter function\n",
    "# class for results\n",
    "ResultRow = namedtuple(\"ResultRow\", [\"doc_id\", \"snippet\", \"score\"])\n",
    "# doc_id -> doc\n",
    "docs_by_id = dict((d[0], d[1]) for d in docs)\n",
    "\n",
    "def highlight_text(document, query, tol=17):\n",
    "    import re\n",
    "    tokens = tokenize(query)\n",
    "    regex = \"|\".join(f\"(\\\\b{t}\\\\b)\" for t in tokens)\n",
    "    regex = re.compile(regex, flags=re.IGNORECASE)\n",
    "    output = \"\"\n",
    "    i = 0\n",
    "    for m in regex.finditer(document):\n",
    "        start_idx = max(0, m.start() - tol)\n",
    "        end_idx = min(len(document), m.end() + tol)\n",
    "        output += \"\".join([\"...\",\n",
    "                        document[start_idx:m.start()],\n",
    "                        \"<strong>\",\n",
    "                        document[m.start():m.end()],\n",
    "                        \"</strong>\",\n",
    "                        document[m.end():end_idx],\n",
    "                        \"...\"])\n",
    "    return output.replace(\"\\n\", \" \")\n",
    "\n",
    "\n",
    "def make_results(query, search_fn, index_set):\n",
    "    results = []\n",
    "    for doc_id, score in search_fn(query, index_set):\n",
    "        highlight = highlight_text(docs_by_id[doc_id], query)\n",
    "        if len(highlight.strip()) == 0:\n",
    "            highlight = docs_by_id[doc_id]\n",
    "        results.append(ResultRow(doc_id, highlight, score))\n",
    "    return results\n",
    "####"
   ]
  },
  {
   "cell_type": "code",
   "execution_count": 60,
   "metadata": {},
   "outputs": [
    {
     "data": {
      "application/vnd.jupyter.widget-view+json": {
       "model_id": "9d7152613e954264a30156e72f3a37d5",
       "version_major": 2,
       "version_minor": 0
      },
      "text/plain": [
       "Text(value='', description='Search Bar')"
      ]
     },
     "metadata": {},
     "output_type": "display_data"
    }
   ],
   "source": [
    "# TODO: Set this to the function you want to test!\n",
    "# this function should take in a query (string)\n",
    "# and return a sorted list of (doc_id, score) \n",
    "# with the most relevant document in the first position\n",
    "\n",
    "search_fn = bm25_search\n",
    "index_set = 1\n",
    "\n",
    "text = widgets.Text(description=\"Search Bar\", width=200)\n",
    "display(text)\n",
    "\n",
    "def handle_submit(sender):\n",
    "    print(f\"Searching for: '{sender.value}'\")\n",
    "    \n",
    "    results = make_results(sender.value, search_fn, index_set)\n",
    "    \n",
    "    # display only the top 5\n",
    "    results = results[:5]\n",
    "    \n",
    "    body = \"\"\n",
    "    for idx, r in enumerate(results):\n",
    "        body += f\"<li>Document #{r.doc_id}({r.score}): {r.snippet}</li>\"\n",
    "    display(HTML(f\"<ul>{body}</ul>\"))\n",
    "    \n",
    "\n",
    "text.on_submit(handle_submit)"
   ]
  },
  {
   "cell_type": "markdown",
   "metadata": {
    "deletable": false,
    "editable": false,
    "nbgrader": {
     "cell_type": "markdown",
     "checksum": "b315c280048a50e8bad7d6250f6f39d1",
     "grade": false,
     "grade_id": "cell-8d46fe8e4f3d8cdb",
     "locked": true,
     "schema_version": 3,
     "solution": false,
     "task": false
    }
   },
   "source": [
    "---\n",
    "\n",
    "## Section 4: Evaluation (40 points) <a class=\"anchor\" id=\"evaluation\"></a>\n",
    "\n",
    "[Back to Part 1](#part1)\n",
    "\n",
    "Before we jump in and implement an algorithm for retrieval, we first have to learn how to evaluate such a system. In particular, we will work with offline evaluation metrics. These metrics are computed on a dataset with known relevance judgements.\n",
    "\n",
    "Implement the following evaluation metrics. \n",
    "\n",
    "1. Precision (7 points)\n",
    "2. Recall (7 points)\n",
    "3. Mean Average Precision (12 points)\n",
    "4. Expected Reciprocal Rank (12 points)"
   ]
  },
  {
   "cell_type": "markdown",
   "metadata": {
    "deletable": false,
    "editable": false,
    "nbgrader": {
     "cell_type": "markdown",
     "checksum": "82e90076c51893e31fec5c40c49d1828",
     "grade": false,
     "grade_id": "cell-3419fd3bc663d7cc",
     "locked": true,
     "schema_version": 3,
     "solution": false,
     "task": false
    }
   },
   "source": [
    "---\n",
    "### 4.1 Read relevance labels (2 points)\n",
    "\n",
    "Let's take a look at the `qrels.text` file, which contains the ground truth relevance scores. The relevance labels for CACM are binary - either 0 or 1. \n"
   ]
  },
  {
   "cell_type": "code",
   "execution_count": 61,
   "metadata": {
    "deletable": false,
    "editable": false,
    "nbgrader": {
     "cell_type": "code",
     "checksum": "6c11025f5a222796f2882c73c1634799",
     "grade": false,
     "grade_id": "cell-6b738366059dde9e",
     "locked": true,
     "schema_version": 3,
     "solution": false,
     "task": false
    }
   },
   "outputs": [
    {
     "name": "stdout",
     "output_type": "stream",
     "text": [
      "01 1410  0 0\r\n",
      "01 1572  0 0\r\n",
      "01 1605  0 0\r\n",
      "01 2020  0 0\r\n",
      "01 2358  0 0\r\n",
      "02 2434  0 0\r\n",
      "02 2863  0 0\r\n",
      "02 3078  0 0\r\n",
      "03 1134  0 0\r\n",
      "03 1613  0 0\r\n"
     ]
    }
   ],
   "source": [
    "!head ./datasets/qrels.text"
   ]
  },
  {
   "cell_type": "markdown",
   "metadata": {
    "deletable": false,
    "editable": false,
    "nbgrader": {
     "cell_type": "markdown",
     "checksum": "e77d7cc6aae69fdbadb5ac9f78f8a560",
     "grade": false,
     "grade_id": "cell-10e16bff2753ffbb",
     "locked": true,
     "schema_version": 3,
     "solution": false,
     "task": false
    }
   },
   "source": [
    "---\n",
    "**Implementation (2 points):**\n",
    "The first column is the query_id and the second column is the document_id. You can safely ignore the 3rd and 4th columns. Write a function to read in the file:"
   ]
  },
  {
   "cell_type": "code",
   "execution_count": 62,
   "metadata": {
    "deletable": false,
    "nbgrader": {
     "cell_type": "code",
     "checksum": "ef347565a0990ddbd049835105753d59",
     "grade": false,
     "grade_id": "cell-ee5253a4ef602fce",
     "locked": false,
     "schema_version": 3,
     "solution": true,
     "task": false
    }
   },
   "outputs": [],
   "source": [
    "# TODO: Implement this! (2 points)\n",
    "def read_qrels(root_folder = \"./datasets/\"):\n",
    "    \"\"\"\n",
    "        Reads the qrels.text file. \n",
    "        Output: A dictionary: query_id -> [list of relevant documents]\n",
    "    \"\"\"\n",
    "    \n",
    "    path = root_folder + \"qrels.text\"\n",
    "    queries = {}\n",
    "    \n",
    "    # Open and split document into lines\n",
    "    with open(path, 'r') as file:\n",
    "        q_list = file.read().splitlines()\n",
    "    \n",
    "    # Save each query and add relevant documents\n",
    "    for q in q_list:\n",
    "        query_id, document_id, _, _ = [int(i) for i in q.split()]\n",
    "        if query_id not in queries:\n",
    "            queries[query_id] = []\n",
    "        queries[query_id].append(document_id)\n",
    "    \n",
    "    return queries"
   ]
  },
  {
   "cell_type": "code",
   "execution_count": 63,
   "metadata": {
    "deletable": false,
    "editable": false,
    "nbgrader": {
     "cell_type": "code",
     "checksum": "6a258a834392cc8cbf8af5d4ccdee81f",
     "grade": true,
     "grade_id": "cell-72215605fbe24f65",
     "locked": true,
     "points": 2,
     "schema_version": 3,
     "solution": false,
     "task": false
    }
   },
   "outputs": [],
   "source": [
    "#### Function check\n",
    "qrels = read_qrels()\n",
    "\n",
    "assert len(qrels) == 52, \"There should be 52 queries with relevance judgements\"\n",
    "assert sum(len(j) for j in qrels.values()) == 796, \"There should be a total of 796 Relevance Judgements\"\n",
    "####"
   ]
  },
  {
   "cell_type": "markdown",
   "metadata": {
    "deletable": false,
    "editable": false,
    "nbgrader": {
     "cell_type": "markdown",
     "checksum": "6c9e7428a52e291a2cdf92a379730d4c",
     "grade": false,
     "grade_id": "cell-176a6fb2939d0420",
     "locked": true,
     "schema_version": 3,
     "solution": false,
     "task": false
    }
   },
   "source": [
    "---\n",
    "**Note:** For a given query `query_id`, you can assume that documents *not* in `qrels[query_id]` are not relevant to `query_id`. \n"
   ]
  },
  {
   "cell_type": "markdown",
   "metadata": {
    "deletable": false,
    "editable": false,
    "nbgrader": {
     "cell_type": "markdown",
     "checksum": "b26a818c7b4f7ad490e00b35ea0edd69",
     "grade": false,
     "grade_id": "cell-bd8341b72cdd89bb",
     "locked": true,
     "schema_version": 3,
     "solution": false,
     "task": false
    }
   },
   "source": [
    "---\n",
    "### 4.2 Precision (7 points)\n",
    "Implement the `precision@k` metric:"
   ]
  },
  {
   "cell_type": "code",
   "execution_count": 64,
   "metadata": {
    "deletable": false,
    "nbgrader": {
     "cell_type": "code",
     "checksum": "ad3cc3234a361d269ecb6b59cc447e9f",
     "grade": false,
     "grade_id": "cell-494bd0cce108ed67",
     "locked": false,
     "schema_version": 3,
     "solution": true,
     "task": false
    }
   },
   "outputs": [],
   "source": [
    "# TODO: Implement this! (7 points)\n",
    "def precision_k(results, relevant_docs, k):\n",
    "    \"\"\"\n",
    "        Compute Precision@K\n",
    "        Input: \n",
    "            results: A sorted list of 2-tuples (document_id, score), \n",
    "                    with the most relevant document in the first position\n",
    "            relevant_docs: A set of relevant documents. \n",
    "            k: the cut-off\n",
    "        Output: Precision@K\n",
    "    \"\"\"\n",
    "    results = set([d[0] for d in results[:k]])\n",
    "    relevant_docs = set(relevant_docs)\n",
    "    TP = relevant_docs.intersection(results)\n",
    "    return len(TP) / k"
   ]
  },
  {
   "cell_type": "code",
   "execution_count": 65,
   "metadata": {
    "deletable": false,
    "editable": false,
    "nbgrader": {
     "cell_type": "code",
     "checksum": "964b214dbfff8fc53cada864019ee863",
     "grade": true,
     "grade_id": "cell-e7ff0d91c319ca64",
     "locked": true,
     "points": 7,
     "schema_version": 3,
     "solution": false,
     "task": false
    }
   },
   "outputs": [
    {
     "name": "stdout",
     "output_type": "stream",
     "text": [
      "query: What articles exist which deal with TSS (Time Sharing System), an operating system for IBM computers?\n",
      "precision@10 = 0.2\n"
     ]
    }
   ],
   "source": [
    "#### Function check\n",
    "qid = queries[0][0]\n",
    "qtext = queries[0][1]\n",
    "print(f'query:{qtext}')\n",
    "results = bm25_search(qtext, 2)\n",
    "precision = precision_k(results, qrels[qid], 10)\n",
    "print(f'precision@10 = {precision}')\n",
    "####"
   ]
  },
  {
   "cell_type": "markdown",
   "metadata": {
    "deletable": false,
    "editable": false,
    "nbgrader": {
     "cell_type": "markdown",
     "checksum": "8fd3b3998197c7097a40348500affb68",
     "grade": false,
     "grade_id": "cell-afd95f865bc7191e",
     "locked": true,
     "schema_version": 3,
     "solution": false,
     "task": false
    }
   },
   "source": [
    "---\n",
    "### 4.3 Recall (7 points)\n",
    "Implement the `recall@k` metric:"
   ]
  },
  {
   "cell_type": "code",
   "execution_count": 66,
   "metadata": {
    "deletable": false,
    "nbgrader": {
     "cell_type": "code",
     "checksum": "b2020e5741ae03b3fe35817ed8f4ccaa",
     "grade": false,
     "grade_id": "cell-c323fc8c3f8a7cf8",
     "locked": false,
     "schema_version": 3,
     "solution": true,
     "task": false
    }
   },
   "outputs": [],
   "source": [
    "# TODO: Implement this! (7 points)\n",
    "def recall_k(results, relevant_docs, k):\n",
    "    \"\"\"\n",
    "        Compute Recall@K\n",
    "        Input: \n",
    "            results: A sorted list of 2-tuples (document_id, score), with the most relevant document in the first position\n",
    "            relevant_docs: A set of relevant documents. \n",
    "            k: the cut-off\n",
    "        Output: Recall@K\n",
    "    \"\"\"\n",
    "    results = set([d[0] for d in results[:k]])\n",
    "    relevant_docs = set(relevant_docs)\n",
    "    TP = relevant_docs.intersection(results)\n",
    "    return len(TP) / len(relevant_docs)"
   ]
  },
  {
   "cell_type": "code",
   "execution_count": 67,
   "metadata": {
    "deletable": false,
    "editable": false,
    "nbgrader": {
     "cell_type": "code",
     "checksum": "56b6e0b8522f8b2dffbfb3206b2efa84",
     "grade": true,
     "grade_id": "cell-b25172161aef165c",
     "locked": true,
     "points": 7,
     "schema_version": 3,
     "solution": false,
     "task": false
    }
   },
   "outputs": [
    {
     "name": "stdout",
     "output_type": "stream",
     "text": [
      "query: SETL, Very High Level Languages\n",
      "recall@10 = 0.3157894736842105\n"
     ]
    }
   ],
   "source": [
    "#### Function check\n",
    "qid = queries[10][0]\n",
    "qtext = queries[10][1]\n",
    "print(f'query:{qtext}')\n",
    "results = bm25_search(qtext, 2)\n",
    "recall = recall_k(results, qrels[qid], 10)\n",
    "print(f'recall@10 = {recall}')\n",
    "####"
   ]
  },
  {
   "cell_type": "markdown",
   "metadata": {
    "deletable": false,
    "editable": false,
    "nbgrader": {
     "cell_type": "markdown",
     "checksum": "d43c63fa38f333e0b52d41639b2655f7",
     "grade": false,
     "grade_id": "cell-77fd2e7a39a74739",
     "locked": true,
     "schema_version": 3,
     "solution": false,
     "task": false
    }
   },
   "source": [
    "---\n",
    "### 4.4 Mean Average Precision (12 points)\n",
    "Implement the `map` metric:"
   ]
  },
  {
   "cell_type": "code",
   "execution_count": 68,
   "metadata": {
    "deletable": false,
    "nbgrader": {
     "cell_type": "code",
     "checksum": "aae2c62f2ffd76f5b6c004e9519b9f14",
     "grade": false,
     "grade_id": "cell-e50925fa9093a30d",
     "locked": false,
     "schema_version": 3,
     "solution": true,
     "task": false
    }
   },
   "outputs": [],
   "source": [
    "# TODO: Implement this! (12 points)\n",
    "def average_precision(results, relevant_docs):\n",
    "    \"\"\"\n",
    "        Compute Average Precision (for a single query - the results are \n",
    "        averaged across queries to get MAP in the next few cells)\n",
    "        Hint: You can use the recall_k and precision_k functions here!\n",
    "        Input: \n",
    "            results: A sorted list of 2-tuples (document_id, score), with the most \n",
    "                    relevant document in the first position\n",
    "            relevant_docs: A set of relevant documents. \n",
    "        Output: Average Precision\n",
    "    \"\"\"\n",
    "    ap = 0\n",
    "    found = 0\n",
    "    for i in range(len(results)):\n",
    "        # Compute precisions at relevant documents\n",
    "        if results[i][0] in relevant_docs:\n",
    "            ap += precision_k(results, relevant_docs, i+1)\n",
    "            found += 1\n",
    "        # Stop early in case we already found all relevant documents\n",
    "        if found > len(relevant_docs):\n",
    "            break\n",
    "\n",
    "    return ap / len(relevant_docs)"
   ]
  },
  {
   "cell_type": "code",
   "execution_count": 69,
   "metadata": {
    "deletable": false,
    "editable": false,
    "nbgrader": {
     "cell_type": "code",
     "checksum": "5db8cb2dfd3a77554f4147b409f47f38",
     "grade": true,
     "grade_id": "cell-8a1f7ec98571e58b",
     "locked": true,
     "points": 12,
     "schema_version": 3,
     "solution": false,
     "task": false
    }
   },
   "outputs": [
    {
     "name": "stdout",
     "output_type": "stream",
     "text": [
      "query: computational complexity, intractability, class-complete reductions, algorithms and efficiency\n",
      "MAP = 0.17269233631989397\n"
     ]
    }
   ],
   "source": [
    "#### Function check\n",
    "qid = queries[20][0]\n",
    "qtext = queries[20][1]\n",
    "print(f'query:{qtext}')\n",
    "results = bm25_search(qtext, 2)\n",
    "mean_ap = average_precision(results, qrels[qid])\n",
    "print(f'MAP = {mean_ap}')\n",
    "####"
   ]
  },
  {
   "cell_type": "markdown",
   "metadata": {
    "deletable": false,
    "editable": false,
    "nbgrader": {
     "cell_type": "markdown",
     "checksum": "cb645b79d04cc3eed33ca060a5e7bf0f",
     "grade": false,
     "grade_id": "cell-1da18f0fe6f6d7be",
     "locked": true,
     "schema_version": 3,
     "solution": false,
     "task": false
    }
   },
   "source": [
    "---\n",
    "### 4.5 Expected Reciprocal Rank (12 points)\n",
    "Implement the `err` metric:"
   ]
  },
  {
   "cell_type": "code",
   "execution_count": 70,
   "metadata": {
    "deletable": false,
    "nbgrader": {
     "cell_type": "code",
     "checksum": "9ac94db728e23ea1f5dc0d509473c6fb",
     "grade": false,
     "grade_id": "cell-64262889f9b267ea",
     "locked": false,
     "schema_version": 3,
     "solution": true,
     "task": false
    }
   },
   "outputs": [],
   "source": [
    "# TODO: Implement this! (12 points)\n",
    "def err(results, relevant_docs):\n",
    "    \"\"\"\n",
    "        Compute the expected reciprocal rank.\n",
    "        Hint: https://dl.acm.org/doi/pdf/10.1145/1645953.1646033?download=true\n",
    "        Input: \n",
    "            results: A sorted list of 2-tuples (document_id, score), with the most \n",
    "                    relevant document in the first position\n",
    "            relevant_docs: A set of relevant documents. \n",
    "        Output: ERR\n",
    "        \n",
    "    \"\"\"\n",
    "    ERR = 0\n",
    "    # Relevance probabilities are constant because of binary grading\n",
    "    # 0.5 for relevant documents and 0 for non-relevant ones\n",
    "    rel_prob = 0.5\n",
    "    rel_count = 0\n",
    "    for r in range(len(results)):\n",
    "        doc_id = results[r][0]\n",
    "        # We only have to compute for relevant documents as\n",
    "        # non-relevant documents zero out the product\n",
    "        if doc_id in relevant_docs:\n",
    "            rel_count += 1\n",
    "            # (1-0) = 1, so non-relevant documents don't matter\n",
    "            # (1-0.5) = 0.5, so all relevant documents worth the same as the r-th one\n",
    "            ERR += np.power(rel_prob, rel_count) / (r+1)\n",
    "        \n",
    "    return ERR"
   ]
  },
  {
   "cell_type": "code",
   "execution_count": 71,
   "metadata": {
    "deletable": false,
    "editable": false,
    "nbgrader": {
     "cell_type": "code",
     "checksum": "eb97e6d89a0b992b642e4e0ff36ff9f5",
     "grade": true,
     "grade_id": "cell-071e3970ff1afae4",
     "locked": true,
     "points": 12,
     "schema_version": 3,
     "solution": false,
     "task": false
    }
   },
   "outputs": [
    {
     "name": "stdout",
     "output_type": "stream",
     "text": [
      "query: I'd like to find articles describing the use of singular value decomposition in digital image processing.  Applications include finding approximations to the original image and restoring images that are subject to noise. An article on the subject is H.C. Andrews and C.L. Patterson \"Outer product expansions and their uses in digital image processing\", American Mathematical Monthly, vol. 82.\n",
      "ERR = 0.625\n"
     ]
    }
   ],
   "source": [
    "#### Function check\n",
    "qid = queries[30][0]\n",
    "qtext = queries[30][1]\n",
    "print(f'query:{qtext}')\n",
    "results = bm25_search(qtext, 2)\n",
    "ERR = err(results, qrels[qid])\n",
    "print(f'ERR = {ERR}')\n",
    "####"
   ]
  },
  {
   "cell_type": "code",
   "execution_count": 72,
   "metadata": {},
   "outputs": [],
   "source": [
    "#### Function check\n",
    "sample_results = [(i,None) for i in [4,0,1,17,2,5,6,13,9,10,8,20,3,15,16]]\n",
    "sample_qrel = [1,8,5,13,15,2]\n",
    "assert precision_k(sample_results, sample_qrel, 1) == 0., \"precision_k should equal 0.\"\n",
    "assert precision_k(sample_results, sample_qrel, 5) == 0.4, \"precision_k should equal 0.4\"\n",
    "assert precision_k(sample_results, sample_qrel, 10) == 0.4, \"precision_k should equal 0.4\"\n",
    "assert precision_k(sample_results, sample_qrel, 20) == 0.3, \"precision_k should equal 0.3\"\n",
    "assert recall_k(sample_results, sample_qrel, 1) == 0., \"recall_k should equal 0.\"\n",
    "assert np.allclose(recall_k(sample_results, sample_qrel, 5), 1./3.)\n",
    "assert np.allclose(recall_k(sample_results, sample_qrel, 10), 2./3.)\n",
    "assert recall_k(sample_results, sample_qrel, 20) == 1.\n",
    "assert np.allclose(average_precision(sample_results, sample_qrel), 0.436, 0.001)\n",
    "assert np.allclose(err(sample_results, sample_qrel), 0.2492, 0.001)"
   ]
  },
  {
   "cell_type": "markdown",
   "metadata": {
    "deletable": false,
    "editable": false,
    "nbgrader": {
     "cell_type": "markdown",
     "checksum": "5bd94caf77cfa5f34675df758d91002d",
     "grade": false,
     "grade_id": "cell-43709a765f353946",
     "locked": true,
     "schema_version": 3,
     "solution": false,
     "task": false
    }
   },
   "source": [
    "---\n",
    "### 4.6 Evaluate Search Functions\n",
    "\n",
    "Let's define some metrics@k using [partial functions](https://docs.python.org/3/library/functools.html#functools.partial)"
   ]
  },
  {
   "cell_type": "code",
   "execution_count": 73,
   "metadata": {
    "deletable": false,
    "editable": false,
    "nbgrader": {
     "cell_type": "code",
     "checksum": "49ccc158e5fb7340ace55e90eeb9d62a",
     "grade": false,
     "grade_id": "cell-dab560e18e340da8",
     "locked": true,
     "schema_version": 3,
     "solution": false,
     "task": false
    }
   },
   "outputs": [],
   "source": [
    "#### metrics@k functions\n",
    "\n",
    "recall_at_1 = partial(recall_k, k=1)\n",
    "recall_at_5 = partial(recall_k, k=5)\n",
    "recall_at_10 = partial(recall_k, k=10)\n",
    "precision_at_1 = partial(precision_k, k=1)\n",
    "precision_at_5 = partial(precision_k, k=5)\n",
    "precision_at_10 = partial(precision_k, k=10)\n",
    "\n",
    "\n",
    "list_of_metrics = [\n",
    "    (\"ERR\", err),\n",
    "    (\"MAP\", average_precision),\n",
    "    (\"Recall@1\",recall_at_1),\n",
    "    (\"Recall@5\", recall_at_5),\n",
    "    (\"Recall@10\", recall_at_10),\n",
    "    (\"Precision@1\", precision_at_1),\n",
    "    (\"Precision@5\", precision_at_5),\n",
    "    (\"Precision@10\", precision_at_10)]\n",
    "####"
   ]
  },
  {
   "cell_type": "markdown",
   "metadata": {
    "deletable": false,
    "editable": false,
    "nbgrader": {
     "cell_type": "markdown",
     "checksum": "fb541002c03221b453b8936290020ea5",
     "grade": false,
     "grade_id": "cell-580a2bdc66d03b47",
     "locked": true,
     "schema_version": 3,
     "solution": false,
     "task": false
    }
   },
   "source": [
    "---\n",
    "\n",
    "The following function evaluates a `search_fn` using the `metric_fn`. Note that the final number is averaged over all the queries"
   ]
  },
  {
   "cell_type": "code",
   "execution_count": 74,
   "metadata": {},
   "outputs": [],
   "source": [
    "#### Evaluate a search function\n",
    "\n",
    "list_of_search_fns = [\n",
    "    (\"BOW\", bow_search),\n",
    "    (\"TF-IDF\", tfidf_search),\n",
    "    (\"NaiveQL\", naive_ql_search),\n",
    "    (\"QL\", ql_search),\n",
    "    (\"BM25\", bm25_search)\n",
    "]\n",
    "\n",
    "def evaluate_search_fn(search_fn, metric_fns, index_set=None):\n",
    "    # build a dict query_id -> query \n",
    "    queries_by_id = dict((q[0], q[1]) for q in queries)\n",
    "    \n",
    "    metrics = {}\n",
    "    for metric, metric_fn in metric_fns:\n",
    "        metrics[metric] = np.zeros(len(qrels), dtype=np.float32)\n",
    "    \n",
    "    for i, (query_id, relevant_docs) in enumerate(qrels.items()):\n",
    "        query = queries_by_id[query_id]\n",
    "        if index_set:\n",
    "            results = search_fn(query, index_set)\n",
    "        else:\n",
    "            results = search_fn(query)\n",
    "        \n",
    "        for metric, metric_fn in metric_fns:\n",
    "            metrics[metric][i] = metric_fn(results, relevant_docs)\n",
    "\n",
    "    \n",
    "    \n",
    "    final_dict = {}\n",
    "    for metric, metric_vals in metrics.items():\n",
    "        final_dict[metric] = metric_vals.mean()\n",
    "    \n",
    "    return final_dict\n",
    "####"
   ]
  },
  {
   "cell_type": "markdown",
   "metadata": {
    "deletable": false,
    "editable": false,
    "nbgrader": {
     "cell_type": "markdown",
     "checksum": "6ea67534f74a8f81e1f504794f641709",
     "grade": false,
     "grade_id": "cell-b156d83a0649cbb4",
     "locked": true,
     "schema_version": 3,
     "solution": false,
     "task": false
    }
   },
   "source": [
    "## Section 5: Analysis (30 points) <a class=\"anchor\" id=\"analysis\"></a>\n",
    "\n",
    "[Back to Part 1](#part1)\n",
    "\n",
    "In the final section of Part1, we will compare the different term-based IR algorithms and different preprocessing configurations and analyze their advantages and disadvantages.\n",
    "\n",
    "### Section 5.1: Plot (20 points)\n",
    "\n",
    "First, gather the results. The results should consider the index set, the different search functions and different metrics. Plot the results in bar charts, per metric, with clear labels.\n",
    "\n",
    "**Rubric:**\n",
    "- Each Metric is plotted: 7 points\n",
    "- Each Method is plotted: 7 points\n",
    "- Clear titles, x label, y labels and legends (if applicable): 6 points"
   ]
  },
  {
   "cell_type": "code",
   "execution_count": 75,
   "metadata": {
    "deletable": false,
    "nbgrader": {
     "cell_type": "code",
     "checksum": "7e2588a925d13ddf588abe8311dc9cfc",
     "grade": true,
     "grade_id": "cell-46fda42a25863a04",
     "locked": false,
     "points": 20,
     "schema_version": 3,
     "solution": true,
     "task": false
    }
   },
   "outputs": [
    {
     "name": "stdout",
     "output_type": "stream",
     "text": [
      "         Index set 1  Index set 2\n",
      "BOW         0.055475     0.120442\n",
      "TF-IDF      0.189744     0.269149\n",
      "NaiveQL     0.102295     0.108131\n",
      "QL          0.320367     0.408339\n",
      "BM25        0.380782     0.442712\n"
     ]
    },
    {
     "data": {
      "image/png": "[encoded data removed]",
      "text/plain": [
       "<Figure size 432x288 with 1 Axes>"
      ]
     },
     "metadata": {
      "needs_background": "light"
     },
     "output_type": "display_data"
    },
    {
     "name": "stdout",
     "output_type": "stream",
     "text": [
      "         Index set 1  Index set 2\n",
      "BOW         0.032845     0.069022\n",
      "TF-IDF      0.108298     0.172518\n",
      "NaiveQL     0.041678     0.054491\n",
      "QL          0.174406     0.254297\n",
      "BM25        0.233005     0.320626\n"
     ]
    },
    {
     "data": {
      "image/png": "[encoded data removed]",
      "text/plain": [
       "<Figure size 432x288 with 1 Axes>"
      ]
     },
     "metadata": {
      "needs_background": "light"
     },
     "output_type": "display_data"
    },
    {
     "name": "stdout",
     "output_type": "stream",
     "text": [
      "         Index set 1  Index set 2\n",
      "BOW         0.002710     0.009497\n",
      "TF-IDF      0.038168     0.060249\n",
      "NaiveQL     0.007202     0.009042\n",
      "QL          0.052482     0.067131\n",
      "BM25        0.065026     0.107716\n"
     ]
    },
    {
     "data": {
      "image/png": "[encoded data removed]",
      "text/plain": [
       "<Figure size 432x288 with 1 Axes>"
      ]
     },
     "metadata": {
      "needs_background": "light"
     },
     "output_type": "display_data"
    },
    {
     "name": "stdout",
     "output_type": "stream",
     "text": [
      "         Index set 1  Index set 2\n",
      "BOW         0.032128     0.046550\n",
      "TF-IDF      0.080765     0.122435\n",
      "NaiveQL     0.024350     0.027309\n",
      "QL          0.153379     0.192299\n",
      "BM25        0.193412     0.241670\n"
     ]
    },
    {
     "data": {
      "image/png": "[encoded data removed]",
      "text/plain": [
       "<Figure size 432x288 with 1 Axes>"
      ]
     },
     "metadata": {
      "needs_background": "light"
     },
     "output_type": "display_data"
    },
    {
     "name": "stdout",
     "output_type": "stream",
     "text": [
      "         Index set 1  Index set 2\n",
      "BOW         0.039613     0.082291\n",
      "TF-IDF      0.134988     0.195921\n",
      "NaiveQL     0.043045     0.040571\n",
      "QL          0.206444     0.271161\n",
      "BM25        0.294503     0.322856\n"
     ]
    },
    {
     "data": {
      "image/png": "[encoded data removed]",
      "text/plain": [
       "<Figure size 432x288 with 1 Axes>"
      ]
     },
     "metadata": {
      "needs_background": "light"
     },
     "output_type": "display_data"
    },
    {
     "name": "stdout",
     "output_type": "stream",
     "text": [
      "         Index set 1  Index set 2\n",
      "BOW         0.038462     0.076923\n",
      "TF-IDF      0.230769     0.307692\n",
      "NaiveQL     0.096154     0.115385\n",
      "QL          0.384615     0.538462\n",
      "BM25        0.461538     0.557692\n"
     ]
    },
    {
     "data": {
      "image/png": "[encoded data removed]",
      "text/plain": [
       "<Figure size 432x288 with 1 Axes>"
      ]
     },
     "metadata": {
      "needs_background": "light"
     },
     "output_type": "display_data"
    },
    {
     "name": "stdout",
     "output_type": "stream",
     "text": [
      "         Index set 1  Index set 2\n",
      "BOW         0.034615     0.080769\n",
      "TF-IDF      0.119231     0.196154\n",
      "NaiveQL     0.080769     0.096154\n",
      "QL          0.257692     0.373077\n",
      "BM25        0.300000     0.419231\n"
     ]
    },
    {
     "data": {
      "image/png": "[encoded data removed]",
      "text/plain": [
       "<Figure size 432x288 with 1 Axes>"
      ]
     },
     "metadata": {
      "needs_background": "light"
     },
     "output_type": "display_data"
    },
    {
     "name": "stdout",
     "output_type": "stream",
     "text": [
      "         Index set 1  Index set 2\n",
      "BOW         0.028846     0.075000\n",
      "TF-IDF      0.121154     0.161538\n",
      "NaiveQL     0.067308     0.082692\n",
      "QL          0.196154     0.300000\n",
      "BM25        0.251923     0.328846\n"
     ]
    },
    {
     "data": {
      "image/png": "[encoded data removed]",
      "text/plain": [
       "<Figure size 432x288 with 1 Axes>"
      ]
     },
     "metadata": {
      "needs_background": "light"
     },
     "output_type": "display_data"
    }
   ],
   "source": [
    "import pandas as pd\n",
    "\n",
    "ERR=[]\n",
    "MAP=[]\n",
    "RECALL1=[]\n",
    "RECALL5=[]\n",
    "RECALL10=[]\n",
    "PRECISION1=[]\n",
    "PRECISION5=[]\n",
    "PRECISION10=[]\n",
    "\n",
    "for i in {1,2}:\n",
    "    \n",
    "    for method in list_of_search_fns:\n",
    "        \n",
    "        evaluation = evaluate_search_fn(method[1], list_of_metrics, index_set=i)\n",
    "\n",
    "        ERR.append(evaluation['ERR'])\n",
    "        MAP.append(evaluation['MAP'])\n",
    "        RECALL1.append(evaluation['Recall@1'])\n",
    "        RECALL5.append(evaluation['Recall@5'])\n",
    "        RECALL10.append(evaluation['Recall@10'])\n",
    "        PRECISION1.append(evaluation['Precision@1'])\n",
    "        PRECISION5.append(evaluation['Precision@5'])\n",
    "        PRECISION10.append(evaluation['Precision@10'])\n",
    "\n",
    "metrics=[ERR, MAP,  RECALL1,  RECALL5,  RECALL10,  PRECISION1,  PRECISION5,  PRECISION10]\n",
    "str_metrics = [\"ERR\",\"MAP\", \"RECALL@1\", \"RECALL@5\", \"RECALL@10\", \"PRECISION@1\", \"PRECISION@5\", \"PRECISION@10\"]    \n",
    "\n",
    "\n",
    "index = [\"BOW\",\"TF-IDF\",\"NaiveQL\", \"QL\",\"BM25\"]\n",
    "xlabel = \"Methods\"\n",
    "ylabel = \"Metric value (in decimals)\"\n",
    "\n",
    "for i, metric in enumerate(metrics):\n",
    "\n",
    "    plotdata = pd.DataFrame({\n",
    "    \"Index set 1\": metric[0:5],\n",
    "    \"Index set 2\": metric[5:10]\n",
    "    }, \n",
    "    index=index\n",
    "    )\n",
    "    print(plotdata)\n",
    "    plotdata.plot(kind=\"bar\")\n",
    "    plt.title(str_metrics[i])\n",
    "    plt.xlabel(xlabel)\n",
    "    plt.ylabel(ylabel)\n",
    "    plt.show()"
   ]
  },
  {
   "cell_type": "markdown",
   "metadata": {
    "deletable": false,
    "editable": false,
    "nbgrader": {
     "cell_type": "markdown",
     "checksum": "e88c444a0acf4e398c65e289169b75f7",
     "grade": false,
     "grade_id": "cell-8aabe3bcf265deb0",
     "locked": true,
     "points": 10,
     "schema_version": 3,
     "solution": false,
     "task": true
    }
   },
   "source": [
    "---\n",
    "### Section 5.2: Summary (10 points)\n",
    "Write a summary of what you observe in the results.\n",
    "Your summary should compare results across the 2 indices and the methods being used. State what you expected to see in the results, followed by either supporting evidence *or* justify why the results did not support your expectations.      "
   ]
  },
  {
   "cell_type": "markdown",
   "metadata": {},
   "source": [
    "Notes:\n",
    "\n",
    "High value of λ: “conjunctive-like” search – tends to retrieve documents\n",
    "containing all query words.\n",
    "• Low value of λ: more disjunctive, suitable for long queries\n",
    "• Correctly setting λ is very important for good performance"
   ]
  },
  {
   "cell_type": "markdown",
   "metadata": {
    "deletable": false,
    "editable": false,
    "nbgrader": {
     "cell_type": "markdown",
     "checksum": "b3eb77be74eecca205fc7b47316d1627",
     "grade": false,
     "grade_id": "cell-bb60dd5c092d0f2e",
     "locked": true,
     "schema_version": 3,
     "solution": false,
     "task": false
    }
   },
   "source": [
    "---\n",
    "---\n",
    "# Part 2: Semantic-based Matching (85 points) <a class=\"anchor\" id=\"part2\"></a>\n",
    "\n",
    "[Back to top](#top)\n",
    "\n",
    "We will now experiment with methods that go beyond lexical methods like TF-IDF, which operate at the word level and are high dimensional and sparse, and look at methods which constructs low dimensional dense representations of queries and documents. \n",
    "\n",
    "Since these low-dimensional methods have a higher time complexity, they are typically used in conjunction with methods like BM-25. That is, instead of searching through potentially million documents to find matches using low dimensional vectors, a list of K documents are retrieved using BM25, and then **re-ranked** using the other method. This is the method that is going to be applied in the following exercises. \n",
    "\n",
    "LSI/LDA takes documents that are similar on a semantic level - for instance, if they are describing the same topic - and projects them into nearby vectors, despite having low lexical overlap.\n",
    "\n",
    "In this assignment, you will use `gensim` to create LSI/LDA models and use them in re-ranking. \n",
    "\n",
    "**Note**: The following exercises only uses `doc_repr_2` and `config_2`\n",
    "\n",
    "Table of contents:\n",
    "- [Section 6: LSI](#lsi) (15 points)\n",
    "- [Section 7: LDA](#lda) (10 points)\n",
    "- [Section 8: Word2Vec/Doc2Vec](#2vec) (20 points)\n",
    "- [Section 8: Re-ranking](#reranking) (10 points)\n",
    "- [Section 9: Re-ranking Evaluation](#reranking_eval) (30 points)"
   ]
  },
  {
   "cell_type": "markdown",
   "metadata": {
    "deletable": false,
    "editable": false,
    "nbgrader": {
     "cell_type": "markdown",
     "checksum": "f7c7b2cab82f576ed0acf836ca57171c",
     "grade": false,
     "grade_id": "cell-6b2c81e7a8abd180",
     "locked": true,
     "schema_version": 3,
     "solution": false,
     "task": false
    }
   },
   "source": [
    "---\n",
    "## Section 6: Latent Semantic Indexing (LSI) (15 points) <a class=\"anchor\" id=\"lsi\"></a>\n",
    "\n",
    "[Back to Part 2](#part2)\n",
    "\n",
    "LSI is one of the methods to embed the queries and documents into vectors. It is based on a method similar to Principal Component Analysis (PCA) for obtaining a dense concept matrix out of the sparse term-document matrix.\n",
    "\n",
    "See [wikipedia](https://en.wikipedia.org/wiki/Latent_semantic_analysis), particularly [#Mathematics_of_LSI](https://en.wikipedia.org/wiki/Latent_semantic_analysis#Mathematics_of_LSI)."
   ]
  },
  {
   "cell_type": "code",
   "execution_count": 76,
   "metadata": {
    "deletable": false,
    "editable": false,
    "nbgrader": {
     "cell_type": "code",
     "checksum": "c17ee75319cb517e2bf48ec3d9efc329",
     "grade": false,
     "grade_id": "cell-59913daee47f680d",
     "locked": true,
     "schema_version": 3,
     "solution": false,
     "task": false
    }
   },
   "outputs": [],
   "source": [
    "from gensim.corpora import Dictionary\n",
    "from gensim.models import LdaModel, LsiModel, Word2Vec\n",
    "from gensim.models.doc2vec import Doc2Vec, TaggedDocument\n",
    "from gensim import downloader as g_downloader\n",
    "# gensim uses logging, so set it up \n",
    "import logging\n",
    "logging.basicConfig(format='%(asctime)s : %(levelname)s : %(message)s', level=logging.INFO)"
   ]
  },
  {
   "cell_type": "markdown",
   "metadata": {
    "deletable": false,
    "editable": false,
    "nbgrader": {
     "cell_type": "markdown",
     "checksum": "5fce140c546759b54a9fc060901ae77c",
     "grade": false,
     "grade_id": "cell-3644faff4976598a",
     "locked": true,
     "schema_version": 3,
     "solution": false,
     "task": false
    }
   },
   "source": [
    "---\n",
    "### Section 6.1: Cosine Similarity (5 points)<a class=\"anchor\" id=\"cosing_sim\"></a>\n",
    "Before we begin, let us first define our method of similarity for the LSI model, the cosine similarity:\n",
    "\n",
    "$$\\text{similarity} = \\cos(\\theta) = {\\mathbf{A} \\cdot \\mathbf{B} \\over \\|\\mathbf{A}\\| \\|\\mathbf{B}\\|} = \\frac{ \\sum\\limits_{i=1}^{n}{A_i  B_i} }{ \\sqrt{\\sum\\limits_{i=1}^{n}{A_i^2}}  \\sqrt{\\sum\\limits_{i=1}^{n}{B_i^2}} }$$\n",
    "\n",
    "Since we are using gensim, the types of vectors returned by their classes are of the form defined below (they are not just simple vectors):"
   ]
  },
  {
   "cell_type": "code",
   "execution_count": 77,
   "metadata": {
    "deletable": false,
    "editable": false,
    "nbgrader": {
     "cell_type": "code",
     "checksum": "4e340e1a1d546f430c018fd0760e707a",
     "grade": false,
     "grade_id": "cell-3995a50f951314d5",
     "locked": true,
     "schema_version": 3,
     "solution": false,
     "task": false
    }
   },
   "outputs": [],
   "source": [
    "# 1, 2, 3 are either latent dimensions (LSI), or topics (LDA)\n",
    "# The second value in each tuple is a number (LSI) or a probability (LDA)  \n",
    "example_vec_1 = [(1, 0.2), (2, 0.3), (3, 0.4)]\n",
    "example_vec_2 = [(1, 0.2), (2, 0.7), (3, 0.4)]"
   ]
  },
  {
   "cell_type": "markdown",
   "metadata": {
    "deletable": false,
    "editable": false,
    "nbgrader": {
     "cell_type": "markdown",
     "checksum": "20832fd4f579f49ae204b0efee02edd1",
     "grade": false,
     "grade_id": "cell-5e54d581858dc8f7",
     "locked": true,
     "schema_version": 3,
     "solution": false,
     "task": false
    }
   },
   "source": [
    "---\n",
    "**Implementation (2+3 points):**\n",
    "Now, implement the `dot product` operation on these types of vectors and using this operator, implement the `cosine similarity` (don't forget: two functions to implement!):"
   ]
  },
  {
   "cell_type": "code",
   "execution_count": 78,
   "metadata": {
    "deletable": false,
    "nbgrader": {
     "cell_type": "code",
     "checksum": "06a712ee75fc213a21c5f0067fd8fe28",
     "grade": false,
     "grade_id": "cell-0e8189f5f93de33f",
     "locked": false,
     "schema_version": 3,
     "solution": true,
     "task": false
    }
   },
   "outputs": [],
   "source": [
    "# TODO: Implement this! (2 points)\n",
    "def dot(vec_1,vec_2): \n",
    "    \"\"\"\n",
    "        vec_1 and vec_2 are of the form: [(int, float), (int, float), ...]\n",
    "        Return the dot product of two such vectors, computed only on the floats\n",
    "        You can assume that the lengths of the vectors are the same, and the dimensions are aligned \n",
    "            i.e you won't get: vec_1 = [(1, 0.2)] ; vec_2 = [(2, 0.3)] \n",
    "                                (dimensions are unaligned and lengths are different)\n",
    "    \"\"\"\n",
    "    # YOUR CODE HERE\n",
    "        \n",
    "    return sum([i[1]*j[1] for i,j in zip(vec_1, vec_2)])\n",
    "\n",
    "# TODO: Implement this! (3 points)\n",
    "def cosine_sim(vec_1, vec_2):\n",
    "    # YOUR CODE HERE\n",
    "    \n",
    "    try:\n",
    "        return dot(vec_1, vec_2)/(np.linalg.norm([i[1] for i in vec_1])*np.linalg.norm([j[1] for j in vec_2]))\n",
    "    except ZeroDivisionError:\n",
    "        return 0"
   ]
  },
  {
   "cell_type": "code",
   "execution_count": 79,
   "metadata": {
    "deletable": false,
    "editable": false,
    "nbgrader": {
     "cell_type": "code",
     "checksum": "d22a4a7325ba7815a808390388f534a1",
     "grade": true,
     "grade_id": "cell-b25d04ed6b79fd35",
     "locked": true,
     "points": 2,
     "schema_version": 3,
     "solution": false,
     "task": false
    }
   },
   "outputs": [
    {
     "name": "stdout",
     "output_type": "stream",
     "text": [
      "vectors: ([(1, 0.2), (2, 0.3), (3, 0.4)], [(1, 0.2), (2, 0.7), (3, 0.4)])\n",
      "dot product = 0.41000000000000003\n",
      "cosine similarity = 0.9165587597202866\n"
     ]
    }
   ],
   "source": [
    "##### Function check\n",
    "print(f'vectors: {(example_vec_1,example_vec_2)}')\n",
    "print(f'dot product = {dot(example_vec_1,example_vec_2)}')\n",
    "print(f'cosine similarity = {cosine_sim(example_vec_1,example_vec_2)}')\n",
    "##### "
   ]
  },
  {
   "cell_type": "code",
   "execution_count": 80,
   "metadata": {
    "deletable": false,
    "editable": false,
    "nbgrader": {
     "cell_type": "code",
     "checksum": "0744131724ce76b1b3f163b4bae5f700",
     "grade": true,
     "grade_id": "cell-ae3c4466866ace77",
     "locked": true,
     "points": 3,
     "schema_version": 3,
     "solution": false,
     "task": false
    }
   },
   "outputs": [],
   "source": [
    "#### Please do not change this. This cell is used for grading."
   ]
  },
  {
   "cell_type": "markdown",
   "metadata": {
    "deletable": false,
    "editable": false,
    "nbgrader": {
     "cell_type": "markdown",
     "checksum": "9b123f599f9ea372d14676e23f1c6a52",
     "grade": false,
     "grade_id": "cell-4b2534067c44fcdf",
     "locked": true,
     "schema_version": 3,
     "solution": false,
     "task": false
    }
   },
   "source": [
    "---\n",
    "### Section 6.2: LSI Retrieval (10 points)<a class=\"anchor\" id=\"lsi_retrieval\"></a>\n",
    "LSI retrieval is simply ranking the documents based on their cosine similarity to the query vector.\n",
    "First, let's write a parent class for vector-based retrieval models:"
   ]
  },
  {
   "cell_type": "code",
   "execution_count": 81,
   "metadata": {
    "deletable": false,
    "editable": false,
    "nbgrader": {
     "cell_type": "code",
     "checksum": "ecc111d58182570e2252b8ef5d6b02af",
     "grade": false,
     "grade_id": "cell-937936cea18711ee",
     "locked": true,
     "schema_version": 3,
     "solution": false,
     "task": false
    }
   },
   "outputs": [],
   "source": [
    "class VectorSpaceRetrievalModel:\n",
    "    \"\"\"\n",
    "        Parent class for Dense Vector Retrieval models\n",
    "    \"\"\"\n",
    "    def __init__(self, doc_repr):\n",
    "        \"\"\"\n",
    "            document_collection: \n",
    "                [\n",
    "                    (doc_id_1, [token 1, token 2, ...]), \n",
    "                    (doc_id_2, [token 1, token 2, ....]) \n",
    "                    ...\n",
    "                ]\n",
    "\n",
    "        \"\"\"\n",
    "        self.doc_repr = doc_repr\n",
    "        self.documents = [_[1] for _ in self.doc_repr]\n",
    "        \n",
    "        # construct a dictionary\n",
    "        self.dictionary = Dictionary(self.documents)\n",
    "        # Filter out words that occur less than 20 documents, or more than 50% of the documents.\n",
    "        self.dictionary.filter_extremes(no_below=10)\n",
    "        self.corpus = [self.dictionary.doc2bow(doc) for doc in self.documents]\n",
    "    \n",
    "        # Make a index to word dictionary.\n",
    "        temp = self.dictionary[0]  # This is only to \"load\" the dictionary.\n",
    "        self.id2word = self.dictionary.id2token\n",
    "        \n",
    "        # this is set by the train_model function\n",
    "        self.model = None\n",
    "        \n",
    "        \n",
    "    def vectorize_documents(self):\n",
    "        \"\"\"\n",
    "            Returns a doc_id -> vector dictionary\n",
    "        \"\"\"\n",
    "        vectors = {}\n",
    "        for (doc_id, _), cc in zip(self.doc_repr, self.corpus):\n",
    "            vectors[doc_id] = self.model[cc]\n",
    "        return vectors\n",
    "\n",
    "    def vectorize_query(self, query):\n",
    "        # Note the use of config_2 here!\n",
    "        query = process_text(query, **config_2)\n",
    "        query_vector = self.dictionary.doc2bow(query)\n",
    "        return self.model[query_vector]\n",
    "    \n",
    "    def train_model(self):\n",
    "        \"\"\"\n",
    "            Trains a model and sets the 'self.model' variable. \n",
    "            Make sure to use the variables created in the __init__ method.\n",
    "            e.g the variables which may be useful: {corpus, dictionary, id2word}\n",
    "        \"\"\"\n",
    "        raise NotImplementedError()"
   ]
  },
  {
   "cell_type": "markdown",
   "metadata": {
    "deletable": false,
    "editable": false,
    "nbgrader": {
     "cell_type": "markdown",
     "checksum": "ff161eefd9b81b768cd6361bc1a502b0",
     "grade": false,
     "grade_id": "cell-704a18c2f80cd60c",
     "locked": true,
     "schema_version": 3,
     "solution": false,
     "task": false
    }
   },
   "source": [
    "---\n",
    "**Implementation (5 points):**\n",
    "Implement the `train_model` method in the following class (note that this is only one line of code in `gensim`!). Ensure that the parameters defined in the `__init__` method are not changed, and are *used in the `train_method` function*. Normally, the hyperaparameter space will be searched using grid search / other methods - in this assignment we have provided the hyperparameters for you.\n",
    "\n",
    "The last two lines of code train an LSI model on the list of documents which have been stemmed, lower-cased and have stopwords removed. "
   ]
  },
  {
   "cell_type": "code",
   "execution_count": 82,
   "metadata": {
    "deletable": false,
    "nbgrader": {
     "cell_type": "code",
     "checksum": "0e90eedc27c248bc1ae050518a46a46c",
     "grade": false,
     "grade_id": "cell-307682c9089f15d6",
     "locked": false,
     "schema_version": 3,
     "solution": true,
     "task": false
    }
   },
   "outputs": [],
   "source": [
    "# TODO: Implement this! (5 points)\n",
    "class LsiRetrievalModel(VectorSpaceRetrievalModel):\n",
    "    def __init__(self, doc_repr):\n",
    "        super().__init__(doc_repr)\n",
    "        \n",
    "        self.num_topics = 100\n",
    "        self.chunksize = 2000\n",
    "    \n",
    "    def train_model(self):\n",
    "        # YOUR CODE HERE\n",
    "        \n",
    "        self.model = LsiModel(self.corpus, id2word=self.id2word, num_topics=self.num_topics, chunksize=self.chunksize)"
   ]
  },
  {
   "cell_type": "code",
   "execution_count": 83,
   "metadata": {
    "deletable": false,
    "editable": false,
    "nbgrader": {
     "cell_type": "code",
     "checksum": "00399cfe13d60cb4beed1271e36004b0",
     "grade": true,
     "grade_id": "cell-5ce512650c1b2dfb",
     "locked": true,
     "points": 0,
     "schema_version": 3,
     "solution": false,
     "task": false
    }
   },
   "outputs": [
    {
     "name": "stderr",
     "output_type": "stream",
     "text": [
      "2021-02-19 12:26:26,229 : INFO : adding document #0 to Dictionary(0 unique tokens: [])\n",
      "2021-02-19 12:26:26,303 : INFO : built Dictionary(5937 unique tokens: ['-', 'algebra', 'intern', 'languag', 'preliminari']...) from 3204 documents (total 115970 corpus positions)\n",
      "2021-02-19 12:26:26,306 : INFO : discarding 4740 tokens: [('repeat', 8), ('glossari', 7), ('inspect', 8), ('uncol', 2), ('rung', 9), ('secant', 2), ('.', 1603), ('acceler', 6), ('diverg', 3), ('induc', 9)]...\n",
      "2021-02-19 12:26:26,307 : INFO : keeping 1197 tokens which were in no less than 10 and no more than 1602 (=50.0%) documents\n",
      "2021-02-19 12:26:26,308 : INFO : resulting dictionary: Dictionary(1197 unique tokens: ['-', 'algebra', 'intern', 'languag', 'preliminari']...)\n",
      "2021-02-19 12:26:26,349 : INFO : using serial LSI version on this node\n",
      "2021-02-19 12:26:26,350 : INFO : updating model with new documents\n",
      "2021-02-19 12:26:26,350 : INFO : preparing a new chunk of documents\n",
      "2021-02-19 12:26:26,359 : INFO : using 100 extra samples and 2 power iterations\n",
      "2021-02-19 12:26:26,359 : INFO : 1st phase: constructing (1197, 200) action matrix\n",
      "2021-02-19 12:26:26,376 : INFO : orthonormalizing (1197, 200) action matrix\n",
      "2021-02-19 12:26:26,519 : INFO : 2nd phase: running dense svd on (200, 2000) matrix\n",
      "2021-02-19 12:26:26,648 : INFO : computing the final decomposition\n",
      "2021-02-19 12:26:26,648 : INFO : keeping 100 factors (discarding 13.447% of energy spectrum)\n",
      "2021-02-19 12:26:26,651 : INFO : processed documents up to #2000\n",
      "2021-02-19 12:26:26,651 : INFO : topic #0(152.127): 0.741*\",\" + 0.342*\"-\" + 0.211*\"system\" + 0.204*\"program\" + 0.192*\"comput\" + 0.146*\"(\" + 0.127*\"languag\" + 0.108*\")\" + 0.084*\"gener\" + 0.083*\"data\"\n",
      "2021-02-19 12:26:26,652 : INFO : topic #1(60.600): -0.607*\"(\" + -0.434*\")\" + -0.366*\"algorithm\" + -0.300*\"-\" + 0.237*\",\" + 0.213*\"system\" + 0.132*\"comput\" + -0.096*\"[\" + 0.093*\"program\" + -0.084*\"])\"\n",
      "2021-02-19 12:26:26,652 : INFO : topic #2(57.438): -0.744*\"-\" + 0.452*\",\" + -0.263*\"system\" + 0.214*\"(\" + 0.166*\")\" + -0.107*\"time\" + -0.105*\"program\" + 0.094*\"algorithm\" + -0.068*\"comput\" + -0.067*\"share\"\n",
      "2021-02-19 12:26:26,652 : INFO : topic #3(48.370): -0.483*\"system\" + -0.375*\"program\" + -0.367*\"comput\" + 0.363*\"-\" + 0.308*\",\" + -0.212*\"(\" + -0.168*\")\" + -0.147*\"algorithm\" + 0.144*\"languag\" + -0.119*\"time\"\n",
      "2021-02-19 12:26:26,653 : INFO : topic #4(45.710): 0.489*\"comput\" + -0.475*\"languag\" + -0.428*\"program\" + 0.238*\"method\" + 0.141*\"problem\" + -0.121*\"system\" + -0.109*\")\" + 0.107*\"equat\" + 0.100*\"algorithm\" + -0.099*\"(\"\n",
      "2021-02-19 12:26:26,653 : INFO : preparing a new chunk of documents\n",
      "2021-02-19 12:26:26,660 : INFO : using 100 extra samples and 2 power iterations\n",
      "2021-02-19 12:26:26,661 : INFO : 1st phase: constructing (1197, 200) action matrix\n",
      "2021-02-19 12:26:26,670 : INFO : orthonormalizing (1197, 200) action matrix\n",
      "2021-02-19 12:26:26,833 : INFO : 2nd phase: running dense svd on (200, 1204) matrix\n",
      "2021-02-19 12:26:26,943 : INFO : computing the final decomposition\n",
      "2021-02-19 12:26:26,943 : INFO : keeping 100 factors (discarding 14.015% of energy spectrum)\n",
      "2021-02-19 12:26:26,946 : INFO : merging projections: (1197, 100) + (1197, 100)\n",
      "2021-02-19 12:26:27,007 : INFO : keeping 100 factors (discarding 8.159% of energy spectrum)\n",
      "2021-02-19 12:26:27,009 : INFO : processed documents up to #3204\n",
      "2021-02-19 12:26:27,010 : INFO : topic #0(225.136): 0.759*\",\" + 0.337*\"-\" + 0.196*\"system\" + 0.186*\"program\" + 0.166*\"comput\" + 0.139*\"(\" + 0.103*\")\" + 0.103*\"algorithm\" + 0.099*\"languag\" + 0.087*\"time\"\n",
      "2021-02-19 12:26:27,010 : INFO : topic #1(87.805): 0.613*\"-\" + -0.399*\",\" + 0.399*\"(\" + 0.326*\"algorithm\" + 0.293*\")\" + -0.129*\"system\" + -0.107*\"program\" + 0.085*\"method\" + 0.077*\"time\" + 0.062*\"1\"\n",
      "2021-02-19 12:26:27,011 : INFO : topic #2(81.909): 0.550*\"-\" + -0.434*\"(\" + 0.355*\"system\" + -0.321*\")\" + -0.291*\",\" + -0.266*\"algorithm\" + 0.146*\"program\" + 0.123*\"comput\" + 0.078*\"time\" + -0.064*\"[\"\n",
      "2021-02-19 12:26:27,011 : INFO : topic #3(72.433): -0.693*\"program\" + 0.339*\",\" + 0.279*\"-\" + -0.251*\"(\" + -0.221*\"system\" + -0.214*\"languag\" + -0.204*\")\" + -0.160*\"comput\" + -0.099*\"data\" + -0.056*\"execut\"\n",
      "2021-02-19 12:26:27,011 : INFO : topic #4(68.523): -0.673*\"system\" + 0.453*\"program\" + 0.254*\"languag\" + 0.212*\"-\" + -0.179*\"comput\" + -0.165*\"(\" + -0.121*\")\" + -0.115*\"model\" + 0.101*\",\" + -0.098*\"algorithm\"\n"
     ]
    },
    {
     "data": {
      "text/plain": [
       "[(0, 0.015215048786636398),\n",
       " (1, -0.016234248809955658),\n",
       " (2, -0.0001893285199141199),\n",
       " (3, -0.0018372371029915493),\n",
       " (4, -0.009487873234017678),\n",
       " (5, -0.0047333110712727755),\n",
       " (6, 0.02701256548997572),\n",
       " (7, 0.01670191798824386),\n",
       " (8, -0.03173812261934939),\n",
       " (9, -0.0008058451415160015),\n",
       " (10, 0.0020888027702497675),\n",
       " (11, -0.017237864023514345),\n",
       " (12, 0.0005778913370174978),\n",
       " (13, 0.0017157884901512028),\n",
       " (14, 0.004117753782043102),\n",
       " (15, 0.0051298409568831405),\n",
       " (16, 0.005482888330929545),\n",
       " (17, 0.0027058956934541446),\n",
       " (18, -0.016888896863807092),\n",
       " (19, 0.02062036076196015),\n",
       " (20, -0.007489338028281821),\n",
       " (21, -0.013591838802841826),\n",
       " (22, 0.04850129968003845),\n",
       " (23, 0.02521581546815524),\n",
       " (24, -0.010214871259263328),\n",
       " (25, -0.011959855692515316),\n",
       " (26, 0.005690649869015629),\n",
       " (27, 0.07196441603946699),\n",
       " (28, -0.06422295716857424),\n",
       " (29, 0.03158579706582915),\n",
       " (30, 0.04194898315656905),\n",
       " (31, 0.0426286334940102),\n",
       " (32, -0.06931798307882747),\n",
       " (33, 0.04976254216884336),\n",
       " (34, -0.021951967642903615),\n",
       " (35, 0.06116767760326096),\n",
       " (36, 0.04525356405707898),\n",
       " (37, -0.0005421406597699973),\n",
       " (38, -0.060653348686988115),\n",
       " (39, 0.01651426643322672),\n",
       " (40, -0.04616835602350116),\n",
       " (41, -0.030178792235815596),\n",
       " (42, 0.027955731797980957),\n",
       " (43, 0.014072448032870052),\n",
       " (44, 0.024247040828421332),\n",
       " (45, 0.05553615150675819),\n",
       " (46, -0.006349608728332075),\n",
       " (47, 0.008916182227224529),\n",
       " (48, 0.021210879493704538),\n",
       " (49, 0.02773825737876581),\n",
       " (50, 0.018251018814755084),\n",
       " (51, 0.052340024067975555),\n",
       " (52, -0.007676480325422645),\n",
       " (53, 0.0077345896218225085),\n",
       " (54, 0.040974145135511925),\n",
       " (55, -0.009827349356406915),\n",
       " (56, 0.023275870436010534),\n",
       " (57, -0.016308740405691455),\n",
       " (58, -0.014427894617921891),\n",
       " (59, 0.04724537464205855),\n",
       " (60, -0.014354405017571636),\n",
       " (61, 0.04850682832326561),\n",
       " (62, 0.012046395275055084),\n",
       " (63, 0.009593339292177733),\n",
       " (64, 0.04266185456312517),\n",
       " (65, 0.05606986273838673),\n",
       " (66, 0.019983629148719387),\n",
       " (67, -0.0289597437264762),\n",
       " (68, -0.05972962840436834),\n",
       " (69, -0.017563070792481754),\n",
       " (70, -0.052562389868784073),\n",
       " (71, -0.016672119291093218),\n",
       " (72, 0.04553352724658041),\n",
       " (73, -0.05739318875535769),\n",
       " (74, -0.03390376998249415),\n",
       " (75, 0.01229972760450318),\n",
       " (76, 0.06084635788904948),\n",
       " (77, 0.0018417963364782686),\n",
       " (78, 0.045153177978826384),\n",
       " (79, 0.01608462316611602),\n",
       " (80, -0.02087158932476592),\n",
       " (81, -0.01478895390337107),\n",
       " (82, 0.06409159398997792),\n",
       " (83, -0.05728823713894016),\n",
       " (84, 0.029424710234111272),\n",
       " (85, -0.013058191125705165),\n",
       " (86, -0.015676272723759713),\n",
       " (87, 0.014328019644286878),\n",
       " (88, -0.07727465539744861),\n",
       " (89, 0.05037208398252977),\n",
       " (90, -0.05372236082100671),\n",
       " (91, 0.03217205967192892),\n",
       " (92, -0.04613496177903745),\n",
       " (93, -0.037094881741341665),\n",
       " (94, 0.0007625716922719517),\n",
       " (95, -0.04554025075601157),\n",
       " (96, 0.03805547820005586),\n",
       " (97, 0.005494095630112892),\n",
       " (98, -0.04529964255130328),\n",
       " (99, -0.02009692819496244)]"
      ]
     },
     "execution_count": 83,
     "metadata": {},
     "output_type": "execute_result"
    }
   ],
   "source": [
    "##### Function check\n",
    "lsi = LsiRetrievalModel(doc_repr_2)\n",
    "lsi.train_model()\n",
    "\n",
    "# you can now get an LSI vector for a given query in the following way:\n",
    "lsi.vectorize_query(\"report\")\n",
    "##### "
   ]
  },
  {
   "cell_type": "markdown",
   "metadata": {
    "deletable": false,
    "editable": false,
    "nbgrader": {
     "cell_type": "markdown",
     "checksum": "7116bb9f576c5bb04934e1d59c51d729",
     "grade": false,
     "grade_id": "cell-4c5eeb557b4fca2f",
     "locked": true,
     "points": 5,
     "schema_version": 3,
     "solution": false,
     "task": true
    }
   },
   "source": [
    "\\#### Please do not change this. This cell is used for grading."
   ]
  },
  {
   "cell_type": "markdown",
   "metadata": {
    "deletable": false,
    "editable": false,
    "nbgrader": {
     "cell_type": "markdown",
     "checksum": "1068a108600b8c1539117d543e720354",
     "grade": false,
     "grade_id": "cell-c4e50296cd17a555",
     "locked": true,
     "schema_version": 3,
     "solution": false,
     "task": false
    }
   },
   "source": [
    "---\n",
    "Next, implement a basic ranking class for vector space retrieval (used for all semantic methods): "
   ]
  },
  {
   "cell_type": "code",
   "execution_count": 84,
   "metadata": {
    "deletable": false,
    "nbgrader": {
     "cell_type": "code",
     "checksum": "1a8389d2f0635c3405e2b0b27ed9f327",
     "grade": false,
     "grade_id": "cell-250515d288e80cdc",
     "locked": false,
     "schema_version": 3,
     "solution": true,
     "task": false
    }
   },
   "outputs": [],
   "source": [
    "# TODO: Implement this! (5 points)\n",
    "\n",
    "class DenseRetrievalRanker:\n",
    "    def __init__(self, vsrm, similarity_fn):\n",
    "        \"\"\"\n",
    "            vsrm: instance of `VectorSpaceRetrievalModel`\n",
    "            similarity_fn: function instance that takes in two vectors \n",
    "                            and returns a similarity score e.g cosine_sim defined earlier\n",
    "        \"\"\"\n",
    "        self.vsrm = vsrm \n",
    "        self.vectorized_documents = self.vsrm.vectorize_documents()\n",
    "        self.similarity_fn = similarity_fn\n",
    "    \n",
    "    def _compute_sim(self, query_vector):\n",
    "        \"\"\"\n",
    "            Compute the similarity of `query_vector` to documents in \n",
    "            `self.vectorized_documents` using `self.similarity_fn`\n",
    "            Returns a list of (doc_id, score) tuples\n",
    "        \"\"\"\n",
    "        \n",
    "        # YOUR CODE HERE\n",
    "        \n",
    "        # Calculate cosine similarity score for every document\n",
    "        scores = {key: self.similarity_fn(query_vector, value) for (key, value) in self.vectorized_documents.items()}\n",
    "        \n",
    "        # Return list with tuples containing document_id sorted on score in descending order\n",
    "        return sorted(scores.items(), key=lambda x: x[1], reverse=True)\n",
    "    \n",
    "    def search(self, query):\n",
    "        scores = self._compute_sim(self.vsrm.vectorize_query(query))\n",
    "        scores.sort(key=lambda _:-_[1])\n",
    "        return scores "
   ]
  },
  {
   "cell_type": "code",
   "execution_count": 85,
   "metadata": {
    "deletable": false,
    "editable": false,
    "nbgrader": {
     "cell_type": "code",
     "checksum": "f237dd1ef6c1783c06797f4b514421f5",
     "grade": true,
     "grade_id": "cell-b73068b3e77a8e31",
     "locked": true,
     "points": 0,
     "schema_version": 3,
     "solution": false,
     "task": false
    }
   },
   "outputs": [
    {
     "name": "stderr",
     "output_type": "stream",
     "text": [
      "<ipython-input-78-56b467aaba55>:19: RuntimeWarning: invalid value encountered in double_scalars\n",
      "  return dot(vec_1, vec_2)/(np.linalg.norm([i[1] for i in vec_1])*np.linalg.norm([j[1] for j in vec_2]))\n"
     ]
    },
    {
     "data": {
      "text/plain": [
       "[(599, 0.7955954425076923),\n",
       " (53, 0.5156137132718698),\n",
       " (1339, 0.43659745766039404),\n",
       " (196, 0.42029946273767693),\n",
       " (722, 0.41703354039849827)]"
      ]
     },
     "execution_count": 85,
     "metadata": {},
     "output_type": "execute_result"
    }
   ],
   "source": [
    "##### Function check\n",
    "drm_lsi = DenseRetrievalRanker(lsi, cosine_sim)\n",
    "drm_lsi.search(\"report\")[:5]\n",
    "##### "
   ]
  },
  {
   "cell_type": "markdown",
   "metadata": {
    "deletable": false,
    "editable": false,
    "nbgrader": {
     "cell_type": "markdown",
     "checksum": "5b3f19fdcaa585d263706d5a26038799",
     "grade": false,
     "grade_id": "cell-034c755a6502b868",
     "locked": true,
     "points": 5,
     "schema_version": 3,
     "solution": false,
     "task": true
    }
   },
   "source": [
    "\\#### Please do not change this. This cell is used for grading."
   ]
  },
  {
   "cell_type": "markdown",
   "metadata": {
    "deletable": false,
    "editable": false,
    "nbgrader": {
     "cell_type": "markdown",
     "checksum": "dcafef6e037033c46304b914f7c78bdf",
     "grade": false,
     "grade_id": "cell-d1df23f497d5ed6b",
     "locked": true,
     "schema_version": 3,
     "solution": false,
     "task": false
    }
   },
   "source": [
    "---\n",
    "Now, you can test your LSI model in the following cell: try finding queries which are lexically different to documents, but semantically similar - does LSI work well for these queries?!"
   ]
  },
  {
   "cell_type": "code",
   "execution_count": 86,
   "metadata": {
    "deletable": false,
    "editable": false,
    "nbgrader": {
     "cell_type": "code",
     "checksum": "11734bc7674377b340ad51297a8e8bb5",
     "grade": false,
     "grade_id": "cell-efd1d08dfc04ec3e",
     "locked": true,
     "schema_version": 3,
     "solution": false,
     "task": false
    }
   },
   "outputs": [
    {
     "data": {
      "application/vnd.jupyter.widget-view+json": {
       "model_id": "717a3342f0904f3cbd95b1c463fc550e",
       "version_major": 2,
       "version_minor": 0
      },
      "text/plain": [
       "Text(value='', description='Search Bar')"
      ]
     },
     "metadata": {},
     "output_type": "display_data"
    }
   ],
   "source": [
    "# test your LSI model\n",
    "search_fn = drm_lsi.search\n",
    "\n",
    "text = widgets.Text(description=\"Search Bar\", width=200)\n",
    "display(text)\n",
    "\n",
    "def make_results_2(query, search_fn):\n",
    "    results = []\n",
    "    for doc_id, score in search_fn(query):\n",
    "        highlight = highlight_text(docs_by_id[doc_id], query)\n",
    "        if len(highlight.strip()) == 0:\n",
    "            highlight = docs_by_id[doc_id]\n",
    "        results.append(ResultRow(doc_id, highlight, score))\n",
    "    return results\n",
    "\n",
    "def handle_submit_2(sender):\n",
    "    print(f\"Searching for: '{sender.value}' (SEARCH FN: {search_fn})\")\n",
    "    \n",
    "    results = make_results_2(sender.value, search_fn)\n",
    "    \n",
    "    # display only the top 5\n",
    "    results = results[:5]\n",
    "    \n",
    "    body = \"\"\n",
    "    for idx, r in enumerate(results):\n",
    "        body += f\"<li>Document #{r.doc_id}({r.score}): {r.snippet}</li>\"\n",
    "    display(HTML(f\"<ul>{body}</ul>\"))\n",
    "    \n",
    "\n",
    "text.on_submit(handle_submit_2)"
   ]
  },
  {
   "cell_type": "markdown",
   "metadata": {
    "deletable": false,
    "editable": false,
    "nbgrader": {
     "cell_type": "markdown",
     "checksum": "d074ce1ca48384cdda78742741c938be",
     "grade": false,
     "grade_id": "cell-3a86cef264d8f6cf",
     "locked": true,
     "schema_version": 3,
     "solution": false,
     "task": false
    }
   },
   "source": [
    "---\n",
    "## Section 7: Latent Dirichlet Allocation (LDA) (10 points) <a class=\"anchor\" id=\"lda\"></a>\n",
    "\n",
    "[Back to Part 2](#part2)\n",
    "\n",
    "The specifics of LDA is out of the scope of this assignment, but we will use the `gensim` implementation to perform search using LDA over our small document collection. The key thing to remember is that LDA, unlike LSI, outputs a topic **distribution**, not a vector. With that in mind, let's first define a similarity measure.\n"
   ]
  },
  {
   "cell_type": "markdown",
   "metadata": {
    "deletable": false,
    "editable": false,
    "nbgrader": {
     "cell_type": "markdown",
     "checksum": "db01092373b18f0c9dfed1bb17db4ad9",
     "grade": false,
     "grade_id": "cell-6b78ad22c2d60ba7",
     "locked": true,
     "schema_version": 3,
     "solution": false,
     "task": false
    }
   },
   "source": [
    "---\n",
    "### Section 7.1: Jenson-Shannon divergence (5 points) <a class=\"anchor\" id=\"js_sim\"></a>\n",
    "\n",
    "The Jenson-Shannon divergence is a symmetric and finite measure on two probability distributions (unlike the KL, which is neither). For identical distributions, the JSD is equal to 0, and since our code uses 0 as irrelevant and higher scores as relevant, we use `(1 - JSD)` as the score or 'similarity' in our setup\n",
    "\n",
    "**Note**: the JSD is bounded to \\[0,1\\] only if we use log base 2. So please ensure that you're using `np.log2` instead of `np.log`"
   ]
  },
  {
   "cell_type": "code",
   "execution_count": 87,
   "metadata": {
    "deletable": false,
    "nbgrader": {
     "cell_type": "code",
     "checksum": "a579e6cd7a24a3516bc9a84528b392d3",
     "grade": false,
     "grade_id": "cell-d2376a85a4841e98",
     "locked": false,
     "schema_version": 3,
     "solution": true,
     "task": false
    }
   },
   "outputs": [],
   "source": [
    "## TODO: Implement this! (5 points)\n",
    "# Note for TA: if assert_prob = True, in part 9 numerical value error (it is not exactly 1.0000 and thus function\n",
    "#errors)\n",
    "def jenson_shannon_divergence(vec_1, vec_2, assert_prob=False):\n",
    "    \"\"\"\n",
    "        Computes the Jensen-Shannon divergence between two probability distributions. \n",
    "        NOTE: DO NOT RETURN 1 - JSD here, that is handled by the next function which is already implemented! \n",
    "        The inputs are *gensim* vectors - same as the vectors for the cosine_sim function\n",
    "        assert_prob is a flag that checks if the inputs are proper probability distributions \n",
    "            i.e they sum to 1 and are positive - use this to check your inputs if needed. \n",
    "                (This is optional to implement, but recommended - \n",
    "                you can the default to False to save a few ms off the runtime)\n",
    "    \"\"\"\n",
    "    # YOUR CODE HERE\n",
    "    \n",
    "    if assert_prob:\n",
    "        if sum([x for _, x in vec_1 if x>=0]) != 1 or sum([y for _, y in vec_2 if y>=0]) != 1:\n",
    "            raise ValueError(f\"Invalid distribution encountered\")\n",
    " \n",
    "    # Calculate M = 0.5 (P + Q)\n",
    "    M = [(P[1] + Q[1])/2 for P, Q in zip(vec_1, vec_2)]\n",
    "    \n",
    "    # JSD = 0.5 * sum(log P - log M) + 0.5 * Q*sum(log Q - log M)\n",
    "    return 0.5*sum([P[1]*(np.log2(P[1]/m)) for P, m in zip (vec_1, M)]) + 0.5*sum([Q[1]*np.log2(Q[1]/m) for Q, m in zip (vec_2, M)])\n",
    "    \n",
    "\n",
    "def jenson_shannon_sim(vec_1, vec_2, assert_prob=False):\n",
    "    return 1 - jenson_shannon_divergence(vec_1, vec_2)"
   ]
  },
  {
   "cell_type": "code",
   "execution_count": 88,
   "metadata": {
    "deletable": false,
    "editable": false,
    "nbgrader": {
     "cell_type": "code",
     "checksum": "ab340aa941c9fb5c89b3fd0a9139e246",
     "grade": true,
     "grade_id": "cell-487c6d2933f38053",
     "locked": true,
     "points": 5,
     "schema_version": 3,
     "solution": false,
     "task": false
    }
   },
   "outputs": [
    {
     "data": {
      "text/plain": [
       "0.9251064410358459"
      ]
     },
     "execution_count": 88,
     "metadata": {},
     "output_type": "execute_result"
    }
   ],
   "source": [
    "##### Function check\n",
    "vec_1 = [(1, 0.3), (2, 0.4), (3, 0.3)]\n",
    "vec_2 = [(1, 0.1), (2, 0.7), (3, 0.2)]\n",
    "jenson_shannon_sim(vec_1, vec_2, assert_prob=True)\n",
    "##### "
   ]
  },
  {
   "cell_type": "markdown",
   "metadata": {
    "deletable": false,
    "editable": false,
    "nbgrader": {
     "cell_type": "markdown",
     "checksum": "0a1583a5f23e3390038331cce67f5d8e",
     "grade": false,
     "grade_id": "cell-4535cc67a50b80fa",
     "locked": true,
     "schema_version": 3,
     "solution": false,
     "task": false
    }
   },
   "source": [
    "---\n",
    "### Section 7.2: LDA retrieval (5 points) <a class=\"anchor\" id=\"lda_ret\"></a>\n",
    "\n",
    "Implement the `train_model` method in the following class (note that this is only one line of code in `gensim`!). Ensure that the parameters defined in the `__init__` method are not changed, and are *used in the `train_method` function*. You do not need to set this. Normally, the hyperaparameter space will be searched using grid search / other methods. Note that training the LDA model might take some time\n",
    "\n",
    "The last two lines of code train an LDA model on the list of documents which have been stemmed, lower-cased and have stopwords removed. "
   ]
  },
  {
   "cell_type": "code",
   "execution_count": 89,
   "metadata": {
    "deletable": false,
    "nbgrader": {
     "cell_type": "code",
     "checksum": "27de8e4fa85536bb396b73bfc51b3f50",
     "grade": false,
     "grade_id": "cell-021a48dff4a8bb91",
     "locked": false,
     "schema_version": 3,
     "solution": true,
     "task": false
    }
   },
   "outputs": [],
   "source": [
    "# TODO: Implement this! (5 points)\n",
    "class LdaRetrievalModel(VectorSpaceRetrievalModel):\n",
    "    def __init__(self, doc_repr):\n",
    "        super().__init__(doc_repr)\n",
    "        \n",
    "        # use these parameters in the train_model method\n",
    "        self.num_topics = 100\n",
    "        self.chunksize = 2000\n",
    "        self.passes = 20\n",
    "        self.iterations = 400\n",
    "        self.eval_every = 10\n",
    "        # this is need to get full vectors\n",
    "        self.minimum_probability=0.0\n",
    "        self.alpha='auto'\n",
    "        self.eta='auto'\n",
    "    \n",
    "    \n",
    "    def train_model(self):\n",
    "        # YOUR CODE HERE\n",
    "        self.model = LdaModel(self.corpus, id2word=self.id2word, num_topics=self.num_topics, chunksize=self.chunksize, \n",
    "                        passes=self.passes, iterations=self.iterations, eval_every=self.eval_every, \n",
    "                        minimum_probability=self.minimum_probability, alpha=self.alpha, eta=self.eta)"
   ]
  },
  {
   "cell_type": "code",
   "execution_count": 90,
   "metadata": {
    "deletable": false,
    "editable": false,
    "nbgrader": {
     "cell_type": "code",
     "checksum": "be70fcb8098d0b6ce64cd2a10e6a05b7",
     "grade": true,
     "grade_id": "cell-86750b715f0345fd",
     "locked": true,
     "points": 0,
     "schema_version": 3,
     "solution": false,
     "task": false
    }
   },
   "outputs": [
    {
     "name": "stderr",
     "output_type": "stream",
     "text": [
      "2021-02-19 12:26:27,570 : INFO : adding document #0 to Dictionary(0 unique tokens: [])\n",
      "2021-02-19 12:26:27,643 : INFO : built Dictionary(5937 unique tokens: ['-', 'algebra', 'intern', 'languag', 'preliminari']...) from 3204 documents (total 115970 corpus positions)\n",
      "2021-02-19 12:26:27,647 : INFO : discarding 4740 tokens: [('repeat', 8), ('glossari', 7), ('inspect', 8), ('uncol', 2), ('rung', 9), ('secant', 2), ('.', 1603), ('acceler', 6), ('diverg', 3), ('induc', 9)]...\n",
      "2021-02-19 12:26:27,647 : INFO : keeping 1197 tokens which were in no less than 10 and no more than 1602 (=50.0%) documents\n",
      "2021-02-19 12:26:27,649 : INFO : resulting dictionary: Dictionary(1197 unique tokens: ['-', 'algebra', 'intern', 'languag', 'preliminari']...)\n",
      "2021-02-19 12:26:27,690 : INFO : using autotuned alpha, starting with [0.01, 0.01, 0.01, 0.01, 0.01, 0.01, 0.01, 0.01, 0.01, 0.01, 0.01, 0.01, 0.01, 0.01, 0.01, 0.01, 0.01, 0.01, 0.01, 0.01, 0.01, 0.01, 0.01, 0.01, 0.01, 0.01, 0.01, 0.01, 0.01, 0.01, 0.01, 0.01, 0.01, 0.01, 0.01, 0.01, 0.01, 0.01, 0.01, 0.01, 0.01, 0.01, 0.01, 0.01, 0.01, 0.01, 0.01, 0.01, 0.01, 0.01, 0.01, 0.01, 0.01, 0.01, 0.01, 0.01, 0.01, 0.01, 0.01, 0.01, 0.01, 0.01, 0.01, 0.01, 0.01, 0.01, 0.01, 0.01, 0.01, 0.01, 0.01, 0.01, 0.01, 0.01, 0.01, 0.01, 0.01, 0.01, 0.01, 0.01, 0.01, 0.01, 0.01, 0.01, 0.01, 0.01, 0.01, 0.01, 0.01, 0.01, 0.01, 0.01, 0.01, 0.01, 0.01, 0.01, 0.01, 0.01, 0.01, 0.01]\n",
      "2021-02-19 12:26:27,691 : INFO : using serial LDA version on this node\n",
      "2021-02-19 12:26:27,699 : INFO : running online (multi-pass) LDA training, 100 topics, 20 passes over the supplied corpus of 3204 documents, updating model once every 2000 documents, evaluating perplexity every 3204 documents, iterating 400x with a convergence threshold of 0.001000\n",
      "2021-02-19 12:26:27,699 : INFO : PROGRESS: pass 0, at document #2000/3204\n",
      "2021-02-19 12:26:28,636 : INFO : optimized alpha [0.009953737, 0.009872323, 0.009819101, 0.009783331, 0.009965797, 0.009788583, 0.009866612, 0.009835109, 0.009833474, 0.009798782, 0.009824387, 0.009793589, 0.009929457, 0.009819251, 0.009819719, 0.009793718, 0.009783211, 0.009767735, 0.009830106, 0.009819304, 0.009783311, 0.009860961, 0.009809344, 0.00979847, 0.009803959, 0.009793562, 0.009834874, 0.0097886305, 0.009814343, 0.009793617, 0.009849857, 0.009778067, 0.0098404735, 0.0098918965, 0.009835214, 0.009788279, 0.009772875, 0.009819525, 0.009788366, 0.009839985, 0.009773145, 0.009840152, 0.009809029, 0.00984542, 0.009836688, 0.009798618, 0.009845344, 0.009819059, 0.009813946, 0.009777891, 0.009803714, 0.009783237, 0.009824974, 0.009819391, 0.009835029, 0.009778072, 0.009839566, 0.009834807, 0.009824241, 0.009829194, 0.009814099, 0.009782994, 0.00978852, 0.009902937, 0.009912589, 0.009819564, 0.009850659, 0.009886432, 0.009793641, 0.009824546, 0.009855207, 0.009793461, 0.009788498, 0.0097822165, 0.009860869, 0.009783195, 0.009793532, 0.009911804, 0.009835285, 0.009881821, 0.00981412, 0.009808933, 0.009839874, 0.009938472, 0.009903073, 0.009778124, 0.0098511325, 0.009778175, 0.009964071, 0.009892242, 0.009819254, 0.009842311, 0.009924246, 0.009824707, 0.009855925, 0.009776563, 0.009845173, 0.009788461, 0.009902267, 0.009861115]\n",
      "2021-02-19 12:26:28,638 : INFO : merging changes from 2000 documents into a model of 3204 documents\n",
      "2021-02-19 12:26:28,641 : INFO : topic #36 (0.010): 0.058*\"data\" + 0.058*\"base\" + 0.043*\"synchron\" + 0.043*\"-\" + 0.029*\"statist\" + 0.029*\"process\" + 0.029*\"valid\" + 0.029*\"ibm\" + 0.029*\"program\" + 0.029*\"parallel\"\n",
      "2021-02-19 12:26:28,642 : INFO : topic #31 (0.010): 0.038*\"(\" + 0.038*\",\" + 0.038*\"method\" + 0.031*\"matric\" + 0.031*\"gener\" + 0.031*\")\" + 0.023*\"compil\" + 0.023*\"fortran\" + 0.023*\"effici\" + 0.015*\"express\"\n",
      "2021-02-19 12:26:28,642 : INFO : topic #92 (0.010): 0.069*\",\" + 0.032*\"-\" + 0.020*\"method\" + 0.019*\"comput\" + 0.018*\"data\" + 0.018*\"system\" + 0.018*\"gener\" + 0.017*\"process\" + 0.016*\"program\" + 0.015*\"(\"\n",
      "2021-02-19 12:26:28,642 : INFO : topic #83 (0.010): 0.072*\",\" + 0.044*\"-\" + 0.026*\"comput\" + 0.023*\"program\" + 0.018*\"system\" + 0.014*\"techniqu\" + 0.014*\"method\" + 0.014*\"(\" + 0.013*\"algorithm\" + 0.012*\"discuss\"\n",
      "2021-02-19 12:26:28,643 : INFO : topic #88 (0.010): 0.064*\",\" + 0.055*\"(\" + 0.037*\")\" + 0.028*\"program\" + 0.017*\"-\" + 0.016*\"algorithm\" + 0.015*\"languag\" + 0.013*\"problem\" + 0.011*\"number\" + 0.011*\"comput\"\n",
      "2021-02-19 12:26:28,643 : INFO : topic diff=82.533401, rho=1.000000\n",
      "2021-02-19 12:26:29,252 : INFO : -7.283 per-word bound, 155.7 perplexity estimate based on a held-out corpus of 1204 documents with 49783 words\n",
      "2021-02-19 12:26:29,253 : INFO : PROGRESS: pass 0, at document #3204/3204\n",
      "2021-02-19 12:26:29,726 : INFO : optimized alpha [0.010161634, 0.010254794, 0.009771864, 0.009806875, 0.010514587, 0.009958962, 0.010194033, 0.009947309, 0.009826483, 0.009870183, 0.009823578, 0.009758617, 0.010127981, 0.0098649645, 0.009825585, 0.009906089, 0.009805788, 0.009843906, 0.010090892, 0.00988986, 0.010011768, 0.01006221, 0.01013533, 0.00999134, 0.0098971585, 0.010093969, 0.009863568, 0.010075606, 0.010426018, 0.009870341, 0.009943004, 0.009912612, 0.009917284, 0.01005219, 0.010362022, 0.009641989, 0.009894306, 0.009749506, 0.009841621, 0.009975349, 0.009826036, 0.0099945115, 0.010078907, 0.009980845, 0.009935957, 0.009798119, 0.010082918, 0.0097132735, 0.009989254, 0.009851676, 0.009827448, 0.01001116, 0.010073052, 0.009966918, 0.009947683, 0.00987826, 0.009714925, 0.009963161, 0.009770896, 0.00970508, 0.009843269, 0.009660374, 0.009794821, 0.010088758, 0.010055445, 0.009737458, 0.009933855, 0.010140929, 0.010052379, 0.009965847, 0.009931109, 0.009815553, 0.010069618, 0.0097412085, 0.0101210615, 0.009840791, 0.00987056, 0.009886794, 0.010114395, 0.009994197, 0.009836946, 0.009825831, 0.009886061, 0.00998545, 0.010441251, 0.009884349, 0.009935375, 0.009947058, 0.009955872, 0.01003628, 0.010043147, 0.009918784, 0.010060501, 0.009878043, 0.009999159, 0.009735474, 0.009951884, 0.010087794, 0.010373086, 0.010181237]\n",
      "2021-02-19 12:26:29,729 : INFO : merging changes from 1204 documents into a model of 3204 documents\n",
      "2021-02-19 12:26:29,732 : INFO : topic #61 (0.010): 0.125*\"(\" + 0.124*\")\" + 0.104*\"-\" + 0.092*\"squar\" + 0.092*\"algorithm\" + 0.069*\"distribut\" + 0.062*\"fit\" + 0.051*\"polynomi\" + 0.049*\"root\" + 0.036*\"[\"\n",
      "2021-02-19 12:26:29,732 : INFO : topic #35 (0.010): 0.096*\"-\" + 0.050*\"equal\" + 0.050*\"g5\" + 0.042*\",\" + 0.040*\"algorithm\" + 0.040*\"random\" + 0.039*\"(\" + 0.036*\"cdc\" + 0.033*\"doubl\" + 0.031*\"precis\"\n",
      "2021-02-19 12:26:29,733 : INFO : topic #34 (0.010): 0.049*\",\" + 0.040*\"algorithm\" + 0.030*\"bound\" + 0.023*\"gener\" + 0.019*\"log\" + 0.019*\"\"\" + 0.019*\"graph\" + 0.017*\"number\" + 0.016*\"effici\" + 0.016*\"discuss\"\n",
      "2021-02-19 12:26:29,733 : INFO : topic #84 (0.010): 0.071*\",\" + 0.040*\"program\" + 0.026*\"-\" + 0.025*\"system\" + 0.020*\"comput\" + 0.018*\"time\" + 0.016*\"present\" + 0.015*\"processor\" + 0.015*\"edg\" + 0.014*\"oper\"\n",
      "2021-02-19 12:26:29,733 : INFO : topic #4 (0.011): 0.089*\",\" + 0.040*\"program\" + 0.040*\"system\" + 0.030*\"-\" + 0.019*\"data\" + 0.019*\"comput\" + 0.014*\"design\" + 0.012*\"process\" + 0.011*\"oper\" + 0.011*\"implement\"\n",
      "2021-02-19 12:26:29,733 : INFO : topic diff=0.746945, rho=0.707107\n",
      "2021-02-19 12:26:29,737 : INFO : PROGRESS: pass 1, at document #2000/3204\n",
      "2021-02-19 12:26:30,152 : INFO : optimized alpha [0.010085877, 0.010213352, 0.009831596, 0.009827578, 0.010499459, 0.009995596, 0.010125851, 0.0098628355, 0.009849171, 0.009840087, 0.009799141, 0.009714679, 0.010034593, 0.0098344525, 0.00974635, 0.00988598, 0.009807344, 0.009913194, 0.01006264, 0.009901924, 0.010015633, 0.009990909, 0.010095368, 0.010366826, 0.009958362, 0.010067619, 0.009856653, 0.010079052, 0.010420699, 0.009837271, 0.010164353, 0.0099178525, 0.009807149, 0.009965357, 0.010269996, 0.009666915, 0.009865326, 0.00966726, 0.0098379245, 0.009881841, 0.010067409, 0.009946078, 0.010108942, 0.009914375, 0.009869961, 0.009854467, 0.010008875, 0.009680694, 0.01008289, 0.0099587, 0.009790113, 0.009993247, 0.009996499, 0.009918832, 0.009911366, 0.009950605, 0.009745065, 0.0098990025, 0.009849741, 0.009729441, 0.0098000225, 0.009900002, 0.009883394, 0.010015485, 0.00993635, 0.009660587, 0.009820849, 0.010186842, 0.009991562, 0.009920576, 0.009854695, 0.009783624, 0.010040408, 0.009762055, 0.010024095, 0.009878459, 0.009871852, 0.009806453, 0.01000702, 0.009927793, 0.009851699, 0.0098247, 0.00984472, 0.009935662, 0.010356645, 0.009832659, 0.009859883, 0.009898626, 0.009869291, 0.009980034, 0.010044527, 0.009877623, 0.009995877, 0.009768879, 0.009897535, 0.010004612, 0.0098967245, 0.0101018455, 0.010291751, 0.010121128]\n"
     ]
    },
    {
     "name": "stderr",
     "output_type": "stream",
     "text": [
      "2021-02-19 12:26:30,155 : INFO : merging changes from 2000 documents into a model of 3204 documents\n",
      "2021-02-19 12:26:30,158 : INFO : topic #47 (0.010): 0.061*\",\" + 0.058*\"edit\" + 0.041*\"compil\" + 0.035*\"algorithm\" + 0.032*\"comput\" + 0.030*\"oper\" + 0.029*\"code\" + 0.029*\"express\" + 0.026*\"arithmet\" + 0.021*\"program\"\n",
      "2021-02-19 12:26:30,158 : INFO : topic #35 (0.010): 0.122*\"-\" + 0.081*\"random\" + 0.050*\"number\" + 0.042*\"algorithm\" + 0.040*\"g5\" + 0.040*\"precis\" + 0.038*\"(\" + 0.038*\",\" + 0.034*\"equal\" + 0.032*\"[\"\n",
      "2021-02-19 12:26:30,159 : INFO : topic #84 (0.010): 0.072*\",\" + 0.044*\"program\" + 0.028*\"system\" + 0.026*\"-\" + 0.022*\"comput\" + 0.019*\"time\" + 0.017*\"present\" + 0.016*\"processor\" + 0.014*\"oper\" + 0.011*\"edg\"\n",
      "2021-02-19 12:26:30,159 : INFO : topic #28 (0.010): 0.080*\"]\" + 0.050*\",\" + 0.037*\"(\" + 0.036*\")\" + 0.031*\"2\" + 0.027*\"approxim\" + 0.025*\"nonlinear\" + 0.025*\"minim\" + 0.020*\"algorithm\" + 0.018*\"valu\"\n",
      "2021-02-19 12:26:30,159 : INFO : topic #4 (0.010): 0.089*\",\" + 0.043*\"system\" + 0.042*\"program\" + 0.031*\"-\" + 0.020*\"comput\" + 0.020*\"data\" + 0.015*\"process\" + 0.013*\"design\" + 0.011*\"oper\" + 0.010*\"implement\"\n",
      "2021-02-19 12:26:30,160 : INFO : topic diff=0.312422, rho=0.526900\n",
      "2021-02-19 12:26:30,658 : INFO : -6.898 per-word bound, 119.3 perplexity estimate based on a held-out corpus of 1204 documents with 49783 words\n",
      "2021-02-19 12:26:30,659 : INFO : PROGRESS: pass 1, at document #3204/3204\n",
      "2021-02-19 12:26:31,035 : INFO : optimized alpha [0.010214183, 0.010428849, 0.009910422, 0.009928895, 0.010816938, 0.0101930145, 0.010294607, 0.009951479, 0.009853443, 0.009977592, 0.0098175835, 0.009764899, 0.010065566, 0.00993446, 0.009766088, 0.01006664, 0.009937688, 0.010109681, 0.0102446005, 0.009976733, 0.010222106, 0.0101496745, 0.010305116, 0.010813212, 0.010115225, 0.01038809, 0.009952956, 0.010352996, 0.010929133, 0.009982439, 0.010221921, 0.010075081, 0.009861565, 0.010067507, 0.010622026, 0.009657344, 0.010117805, 0.009637377, 0.009987542, 0.010036637, 0.010322792, 0.01011889, 0.010414697, 0.010081393, 0.010005484, 0.009919386, 0.010191198, 0.009649891, 0.010271326, 0.010170437, 0.0098522715, 0.01022165, 0.01019161, 0.0100158425, 0.010013407, 0.010152842, 0.00973871, 0.010016957, 0.009876236, 0.0097231185, 0.009927492, 0.009916045, 0.010014528, 0.010195113, 0.010074661, 0.00966464, 0.0098889815, 0.010331892, 0.010207387, 0.010043536, 0.009973149, 0.009832132, 0.01025589, 0.009858844, 0.0102005135, 0.010008715, 0.010003929, 0.00979584, 0.010175838, 0.010016362, 0.00998262, 0.009930082, 0.009928283, 0.009909272, 0.010655673, 0.010000122, 0.009835531, 0.0100818, 0.00983551, 0.010087956, 0.010279338, 0.010032095, 0.010066263, 0.009806077, 0.00996523, 0.010178557, 0.010052454, 0.010484753, 0.010617204, 0.010357374]\n",
      "2021-02-19 12:26:31,038 : INFO : merging changes from 1204 documents into a model of 3204 documents\n",
      "2021-02-19 12:26:31,041 : INFO : topic #47 (0.010): 0.065*\"edit\" + 0.061*\",\" + 0.047*\"express\" + 0.044*\"oper\" + 0.043*\"compil\" + 0.028*\"algorithm\" + 0.028*\"expans\" + 0.026*\"code\" + 0.025*\"comput\" + 0.025*\"program\"\n",
      "2021-02-19 12:26:31,041 : INFO : topic #37 (0.010): 0.066*\"storag\" + 0.057*\",\" + 0.038*\"store\" + 0.027*\"system\" + 0.026*\"'\" + 0.025*\"comput\" + 0.025*\"method\" + 0.019*\"(\" + 0.018*\"design\" + 0.017*\"core\"\n",
      "2021-02-19 12:26:31,042 : INFO : topic #23 (0.011): 0.239*\")\" + 0.230*\"(\" + 0.215*\"algorithm\" + 0.054*\"surfac\" + 0.031*\"product\" + 0.022*\"definit\" + 0.019*\"select\" + 0.018*\"order\" + 0.014*\"-\" + 0.011*\"structur\"\n",
      "2021-02-19 12:26:31,042 : INFO : topic #4 (0.011): 0.097*\",\" + 0.046*\"system\" + 0.044*\"program\" + 0.028*\"-\" + 0.018*\"data\" + 0.018*\"comput\" + 0.018*\"design\" + 0.014*\"process\" + 0.013*\"oper\" + 0.012*\"implement\"\n",
      "2021-02-19 12:26:31,042 : INFO : topic #28 (0.011): 0.147*\"]\" + 0.046*\")\" + 0.046*\",\" + 0.037*\"(\" + 0.036*\"minim\" + 0.033*\"2\" + 0.032*\"nonlinear\" + 0.031*\"approxim\" + 0.021*\"algorithm\" + 0.018*\"set\"\n",
      "2021-02-19 12:26:31,043 : INFO : topic diff=0.416476, rho=0.526900\n",
      "2021-02-19 12:26:31,047 : INFO : PROGRESS: pass 2, at document #2000/3204\n",
      "2021-02-19 12:26:31,440 : INFO : optimized alpha [0.010161763, 0.0104025435, 0.010012098, 0.009970411, 0.010828185, 0.0102962, 0.010228597, 0.009903584, 0.009880808, 0.009993204, 0.009824898, 0.009747946, 0.009987793, 0.009942377, 0.009716839, 0.010100149, 0.009991947, 0.010238979, 0.010247445, 0.01006553, 0.010272025, 0.01010754, 0.010294689, 0.011504928, 0.010206898, 0.010390616, 0.009972351, 0.010377855, 0.010951011, 0.0099783875, 0.010354816, 0.010064732, 0.009778105, 0.010017644, 0.010540831, 0.0097213825, 0.010151491, 0.009597825, 0.009995274, 0.009958574, 0.010585599, 0.010084518, 0.010472779, 0.010045447, 0.009965747, 0.010015688, 0.01013674, 0.009655302, 0.010355866, 0.010333702, 0.009840807, 0.010258971, 0.01012025, 0.009992107, 0.010064195, 0.010232701, 0.00980718, 0.00998379, 0.010003864, 0.009807334, 0.009933466, 0.010121631, 0.010144709, 0.010148783, 0.009991449, 0.009644921, 0.009821583, 0.010383912, 0.010168565, 0.010017452, 0.009926836, 0.009804654, 0.01026663, 0.009941768, 0.010128518, 0.010043982, 0.010030259, 0.009730101, 0.010090223, 0.009979613, 0.010070168, 0.010019891, 0.009936567, 0.009904746, 0.010569663, 0.009988877, 0.009762646, 0.010063748, 0.009774325, 0.010048068, 0.01030776, 0.010028209, 0.010024439, 0.0097515555, 0.009879774, 0.010641732, 0.010010261, 0.010542747, 0.010533757, 0.010333644]\n",
      "2021-02-19 12:26:31,442 : INFO : merging changes from 2000 documents into a model of 3204 documents\n",
      "2021-02-19 12:26:31,445 : INFO : topic #37 (0.010): 0.069*\"storag\" + 0.055*\",\" + 0.036*\"store\" + 0.029*\"system\" + 0.027*\"comput\" + 0.024*\"core\" + 0.020*\"'\" + 0.020*\"method\" + 0.019*\"fortran\" + 0.018*\"(\"\n",
      "2021-02-19 12:26:31,446 : INFO : topic #47 (0.010): 0.065*\",\" + 0.065*\"edit\" + 0.049*\"express\" + 0.047*\"compil\" + 0.044*\"oper\" + 0.034*\"comput\" + 0.030*\"code\" + 0.027*\"fortran\" + 0.026*\"written\" + 0.026*\"program\"\n",
      "2021-02-19 12:26:31,446 : INFO : topic #4 (0.011): 0.096*\",\" + 0.049*\"system\" + 0.046*\"program\" + 0.030*\"-\" + 0.020*\"comput\" + 0.019*\"data\" + 0.017*\"design\" + 0.015*\"process\" + 0.013*\"cobol\" + 0.012*\"oper\"\n",
      "2021-02-19 12:26:31,446 : INFO : topic #28 (0.011): 0.107*\"]\" + 0.048*\",\" + 0.039*\"2\" + 0.039*\")\" + 0.037*\"approxim\" + 0.036*\"(\" + 0.036*\"nonlinear\" + 0.035*\"minim\" + 0.018*\"algorithm\" + 0.017*\"valu\"\n",
      "2021-02-19 12:26:31,446 : INFO : topic #23 (0.012): 0.283*\")\" + 0.275*\"(\" + 0.228*\"algorithm\" + 0.027*\"surfac\" + 0.018*\"product\" + 0.015*\"definit\" + 0.012*\"order\" + 0.012*\"select\" + 0.012*\"integr\" + 0.010*\"-\"\n",
      "2021-02-19 12:26:31,447 : INFO : topic diff=0.389412, rho=0.466151\n",
      "2021-02-19 12:26:31,915 : INFO : -6.778 per-word bound, 109.7 perplexity estimate based on a held-out corpus of 1204 documents with 49783 words\n",
      "2021-02-19 12:26:31,915 : INFO : PROGRESS: pass 2, at document #3204/3204\n",
      "2021-02-19 12:26:32,263 : INFO : optimized alpha [0.010300295, 0.010569965, 0.010108766, 0.010056418, 0.011065682, 0.010480018, 0.010370713, 0.009998362, 0.009904341, 0.010147284, 0.009864889, 0.009797253, 0.010001393, 0.010050532, 0.009781809, 0.010297187, 0.010158056, 0.010458037, 0.01044203, 0.01015124, 0.010472433, 0.010272555, 0.010477115, 0.012186354, 0.010410069, 0.010691092, 0.010116352, 0.010660401, 0.011448407, 0.010166077, 0.010380047, 0.010196731, 0.009851172, 0.010124825, 0.010827926, 0.009785737, 0.010433629, 0.009585415, 0.010156179, 0.010155375, 0.010865319, 0.010262179, 0.010756055, 0.010213936, 0.010090124, 0.010103678, 0.010303229, 0.009652579, 0.010535885, 0.010543188, 0.009919474, 0.0104750935, 0.010317738, 0.010090176, 0.010189958, 0.010461273, 0.009855474, 0.010139889, 0.0100732595, 0.009844114, 0.010085606, 0.010161273, 0.010276612, 0.01031278, 0.010130532, 0.009680268, 0.009910262, 0.010528529, 0.010353359, 0.01015426, 0.010055591, 0.009864105, 0.010474679, 0.010108523, 0.010293383, 0.010155745, 0.010163253, 0.009738742, 0.010200463, 0.010070275, 0.010257188, 0.010179693, 0.010014805, 0.009898609, 0.010803689, 0.010197254, 0.00974434, 0.010270201, 0.009747908, 0.010168197, 0.010557975, 0.010197326, 0.010079789, 0.009820393, 0.00994866, 0.010903114, 0.010196477, 0.010914932, 0.010858408, 0.010548579]\n",
      "2021-02-19 12:26:32,266 : INFO : merging changes from 1204 documents into a model of 3204 documents\n"
     ]
    },
    {
     "name": "stderr",
     "output_type": "stream",
     "text": [
      "2021-02-19 12:26:32,269 : INFO : topic #37 (0.010): 0.094*\"storag\" + 0.059*\",\" + 0.057*\"store\" + 0.028*\"'\" + 0.026*\"system\" + 0.024*\"comput\" + 0.024*\"core\" + 0.020*\"design\" + 0.019*\"method\" + 0.019*\"hardwar\"\n",
      "2021-02-19 12:26:32,269 : INFO : topic #65 (0.010): 0.101*\"theori\" + 0.064*\"inform\" + 0.054*\",\" + 0.051*\"process\" + 0.038*\"bank\" + 0.026*\"techniqu\" + 0.023*\"approach\" + 0.023*\").\" + 0.023*\"cross\" + 0.020*\"referenc\"\n",
      "2021-02-19 12:26:32,270 : INFO : topic #4 (0.011): 0.102*\",\" + 0.050*\"system\" + 0.047*\"program\" + 0.027*\"-\" + 0.021*\"design\" + 0.018*\"comput\" + 0.017*\"data\" + 0.014*\"process\" + 0.013*\"oper\" + 0.013*\"cobol\"\n",
      "2021-02-19 12:26:32,270 : INFO : topic #28 (0.011): 0.170*\"]\" + 0.043*\")\" + 0.043*\",\" + 0.041*\"minim\" + 0.039*\"approxim\" + 0.038*\"nonlinear\" + 0.038*\"2\" + 0.034*\"(\" + 0.020*\"5\" + 0.018*\"algorithm\"\n",
      "2021-02-19 12:26:32,270 : INFO : topic #23 (0.012): 0.291*\"(\" + 0.288*\")\" + 0.227*\"algorithm\" + 0.039*\"surfac\" + 0.019*\"product\" + 0.014*\"order\" + 0.012*\"-\" + 0.011*\"definit\" + 0.010*\"select\" + 0.008*\"integr\"\n",
      "2021-02-19 12:26:32,270 : INFO : topic diff=0.521815, rho=0.466151\n",
      "2021-02-19 12:26:32,274 : INFO : PROGRESS: pass 3, at document #2000/3204\n",
      "2021-02-19 12:26:32,653 : INFO : optimized alpha [0.010261518, 0.010554381, 0.010257466, 0.010119877, 0.011095666, 0.010585108, 0.0103218565, 0.009961841, 0.009940168, 0.010184878, 0.00987863, 0.00979111, 0.009937752, 0.010076761, 0.009752797, 0.010366488, 0.010226151, 0.0105850985, 0.010472646, 0.010288966, 0.010519206, 0.010249068, 0.010471064, 0.013117821, 0.010519857, 0.010702402, 0.010150637, 0.010708292, 0.011458203, 0.010163576, 0.0104858335, 0.010208549, 0.009785513, 0.010101638, 0.010763191, 0.009898489, 0.010513548, 0.009588599, 0.0101732835, 0.010094377, 0.011124432, 0.010238936, 0.0108280955, 0.010200234, 0.010069117, 0.010223732, 0.010266598, 0.009675187, 0.010619046, 0.0107266465, 0.0099179875, 0.010534629, 0.010269628, 0.010064596, 0.010301388, 0.010531102, 0.0099410275, 0.0101222275, 0.010221848, 0.009956759, 0.010109856, 0.010365312, 0.010426257, 0.010285733, 0.01006624, 0.009688191, 0.009865023, 0.0106021855, 0.010319582, 0.010145486, 0.010015681, 0.009837964, 0.0104987025, 0.010168732, 0.010232065, 0.0101834545, 0.010197713, 0.009685557, 0.010130333, 0.010048218, 0.0103803035, 0.010304596, 0.010029086, 0.009923385, 0.010717052, 0.010218676, 0.009677027, 0.010265619, 0.009707929, 0.010156137, 0.010593502, 0.010201853, 0.010055929, 0.00979298, 0.009885714, 0.0114128, 0.010168233, 0.011002517, 0.010790953, 0.010543599]\n",
      "2021-02-19 12:26:32,656 : INFO : merging changes from 2000 documents into a model of 3204 documents\n",
      "2021-02-19 12:26:32,659 : INFO : topic #37 (0.010): 0.100*\"storag\" + 0.059*\",\" + 0.054*\"store\" + 0.032*\"core\" + 0.027*\"comput\" + 0.026*\"system\" + 0.023*\"'\" + 0.020*\"inform\" + 0.019*\"design\" + 0.016*\"input\"\n",
      "2021-02-19 12:26:32,659 : INFO : topic #77 (0.010): 0.084*\"problem\" + 0.062*\"-\" + 0.040*\"reduct\" + 0.038*\",\" + 0.035*\"(\" + 0.031*\"solv\" + 0.031*\"algorithm\" + 0.029*\"gener\" + 0.024*\"test\" + 0.024*\")\"\n",
      "2021-02-19 12:26:32,660 : INFO : topic #95 (0.011): 0.247*\"algorithm\" + 0.224*\"[\" + 0.176*\"(\" + 0.167*\"])\" + 0.056*\"permut\" + 0.021*\"g6\" + 0.020*\"quadratur\" + 0.016*\"d1\" + 0.014*\"modifi\" + 0.013*\"common\"\n",
      "2021-02-19 12:26:32,660 : INFO : topic #28 (0.011): 0.131*\"]\" + 0.045*\"approxim\" + 0.045*\",\" + 0.043*\"nonlinear\" + 0.043*\"2\" + 0.040*\"minim\" + 0.036*\")\" + 0.032*\"(\" + 0.019*\"extract\" + 0.019*\"5\"\n",
      "2021-02-19 12:26:32,660 : INFO : topic #23 (0.013): 0.312*\"(\" + 0.311*\")\" + 0.230*\"algorithm\" + 0.024*\"surfac\" + 0.012*\"product\" + 0.011*\"order\" + 0.010*\"integr\" + 0.009*\"-\" + 0.009*\"definit\" + 0.007*\"select\"\n",
      "2021-02-19 12:26:32,661 : INFO : topic diff=0.533695, rho=0.422502\n",
      "2021-02-19 12:26:33,112 : INFO : -6.696 per-word bound, 103.7 perplexity estimate based on a held-out corpus of 1204 documents with 49783 words\n",
      "2021-02-19 12:26:33,113 : INFO : PROGRESS: pass 3, at document #3204/3204\n",
      "2021-02-19 12:26:33,437 : INFO : optimized alpha [0.010417307, 0.010684479, 0.010369952, 0.010212457, 0.011269422, 0.010775539, 0.010448005, 0.010066287, 0.009961815, 0.010347505, 0.009929572, 0.00985386, 0.009955679, 0.010189498, 0.009840457, 0.010569327, 0.010388756, 0.010816061, 0.01064154, 0.010395758, 0.010728701, 0.010396078, 0.010641184, 0.014073573, 0.010724623, 0.011005795, 0.010292966, 0.011014299, 0.011918013, 0.010357183, 0.0105081685, 0.010354385, 0.00987038, 0.01021051, 0.011034189, 0.00997073, 0.010837295, 0.009609496, 0.010334765, 0.010306892, 0.011375564, 0.010412467, 0.011085413, 0.010383046, 0.010200588, 0.010314166, 0.010429669, 0.009687553, 0.010776132, 0.0109338835, 0.01003185, 0.010751157, 0.010464662, 0.010150603, 0.010419115, 0.010759368, 0.010005819, 0.010286756, 0.010330968, 0.010003896, 0.01024152, 0.010399478, 0.010571723, 0.010457805, 0.010215174, 0.009745316, 0.009967369, 0.010734025, 0.010492115, 0.010273961, 0.0101403035, 0.009899807, 0.010696405, 0.01035357, 0.010390007, 0.010277964, 0.010311777, 0.009754096, 0.010220333, 0.010131394, 0.010595754, 0.0104542095, 0.010121768, 0.00994697, 0.010942488, 0.010468056, 0.009663063, 0.010469323, 0.009728235, 0.010287695, 0.010834954, 0.010371366, 0.010110582, 0.009898079, 0.009942272, 0.011695236, 0.010360558, 0.0113757225, 0.0111320345, 0.010762825]\n",
      "2021-02-19 12:26:33,440 : INFO : merging changes from 1204 documents into a model of 3204 documents\n",
      "2021-02-19 12:26:33,443 : INFO : topic #37 (0.010): 0.115*\"storag\" + 0.071*\"store\" + 0.064*\",\" + 0.032*\"'\" + 0.030*\"core\" + 0.024*\"system\" + 0.023*\"comput\" + 0.021*\"hardwar\" + 0.021*\"inform\" + 0.020*\"design\"\n",
      "2021-02-19 12:26:33,443 : INFO : topic #47 (0.010): 0.081*\"express\" + 0.070*\",\" + 0.067*\"edit\" + 0.064*\"oper\" + 0.049*\"compil\" + 0.032*\"expans\" + 0.032*\"program\" + 0.029*\"comput\" + 0.028*\"fortran\" + 0.028*\"long\"\n",
      "2021-02-19 12:26:33,444 : INFO : topic #95 (0.012): 0.271*\"algorithm\" + 0.237*\"[\" + 0.157*\"(\" + 0.111*\"])\" + 0.074*\"permut\" + 0.022*\"quadratur\" + 0.021*\"g6\" + 0.018*\"common\" + 0.018*\"modifi\" + 0.015*\"d1\"\n",
      "2021-02-19 12:26:33,444 : INFO : topic #28 (0.012): 0.190*\"]\" + 0.046*\"minim\" + 0.046*\"approxim\" + 0.045*\"nonlinear\" + 0.040*\",\" + 0.040*\"2\" + 0.035*\")\" + 0.028*\"(\" + 0.025*\"5\" + 0.019*\"1\"\n",
      "2021-02-19 12:26:33,444 : INFO : topic #23 (0.014): 0.323*\"(\" + 0.316*\")\" + 0.221*\"algorithm\" + 0.031*\"surfac\" + 0.012*\"product\" + 0.011*\"order\" + 0.010*\"-\" + 0.008*\"integr\" + 0.007*\"definit\" + 0.007*\"select\"\n",
      "2021-02-19 12:26:33,445 : INFO : topic diff=0.649176, rho=0.422502\n",
      "2021-02-19 12:26:33,449 : INFO : PROGRESS: pass 4, at document #2000/3204\n",
      "2021-02-19 12:26:33,817 : INFO : optimized alpha [0.010385286, 0.010674106, 0.0105352495, 0.010287285, 0.01131005, 0.010889851, 0.010396972, 0.01003686, 0.00998963, 0.010404397, 0.009958368, 0.009860397, 0.009903053, 0.01022363, 0.009829667, 0.010651891, 0.010461708, 0.010948952, 0.01068842, 0.010571354, 0.010787856, 0.010380172, 0.010641217, 0.015211999, 0.010843274, 0.011024847, 0.010344446, 0.011063626, 0.011925017, 0.010388523, 0.010600027, 0.010387246, 0.00981676, 0.010205457, 0.010983276, 0.010101348, 0.0109359, 0.009624643, 0.010350152, 0.010259516, 0.011627272, 0.010406748, 0.011162103, 0.010379693, 0.010199072, 0.010440049, 0.010409746, 0.0097226435, 0.010869736, 0.011114366, 0.010050177, 0.010830766, 0.010431808, 0.01014543, 0.010549367, 0.010835915, 0.010085378, 0.010285993, 0.01051187, 0.010120627, 0.010281791, 0.0106059965, 0.01073825, 0.010442505, 0.0101679545, 0.009768618, 0.00994768, 0.010829454, 0.010472743, 0.010279823, 0.010111457, 0.00988819, 0.0107302135, 0.010420994, 0.010327074, 0.010307765, 0.010341448, 0.0097348625, 0.010156733, 0.010135396, 0.010728895, 0.010578806, 0.0101628415, 0.009994055, 0.010859194, 0.010498862, 0.009609276, 0.0104803, 0.00970072, 0.010296695, 0.010874971, 0.010387151, 0.010089488, 0.009882767, 0.00989546, 0.012206887, 0.010341775, 0.01146461, 0.011064185, 0.010767477]\n",
      "2021-02-19 12:26:33,820 : INFO : merging changes from 2000 documents into a model of 3204 documents\n",
      "2021-02-19 12:26:33,823 : INFO : topic #37 (0.010): 0.116*\"storag\" + 0.067*\"store\" + 0.062*\",\" + 0.038*\"core\" + 0.027*\"'\" + 0.025*\"comput\" + 0.025*\"system\" + 0.021*\"inform\" + 0.018*\"design\" + 0.017*\"hardwar\"\n",
      "2021-02-19 12:26:33,823 : INFO : topic #86 (0.010): 0.075*\",\" + 0.035*\"-\" + 0.028*\"program\" + 0.028*\"algebra\" + 0.022*\"comput\" + 0.019*\"word\" + 0.019*\"contour\" + 0.018*\"\"\" + 0.018*\"map\" + 0.015*\"requir\"\n"
     ]
    },
    {
     "name": "stderr",
     "output_type": "stream",
     "text": [
      "2021-02-19 12:26:33,823 : INFO : topic #28 (0.012): 0.150*\"]\" + 0.053*\"approxim\" + 0.050*\"nonlinear\" + 0.044*\"2\" + 0.043*\"minim\" + 0.042*\",\" + 0.031*\")\" + 0.028*\"(\" + 0.023*\"5\" + 0.021*\"extract\"\n",
      "2021-02-19 12:26:33,824 : INFO : topic #95 (0.012): 0.250*\"algorithm\" + 0.235*\"[\" + 0.173*\"(\" + 0.166*\"])\" + 0.054*\"permut\" + 0.020*\"g6\" + 0.019*\"quadratur\" + 0.014*\"d1\" + 0.013*\"modifi\" + 0.011*\"common\"\n",
      "2021-02-19 12:26:33,824 : INFO : topic #23 (0.015): 0.335*\"(\" + 0.330*\")\" + 0.224*\"algorithm\" + 0.021*\"surfac\" + 0.009*\"order\" + 0.009*\"integr\" + 0.008*\"product\" + 0.008*\"-\" + 0.006*\"definit\" + 0.005*\"select\"\n",
      "2021-02-19 12:26:33,824 : INFO : topic diff=0.628874, rho=0.389191\n",
      "2021-02-19 12:26:34,268 : INFO : -6.636 per-word bound, 99.5 perplexity estimate based on a held-out corpus of 1204 documents with 49783 words\n",
      "2021-02-19 12:26:34,268 : INFO : PROGRESS: pass 4, at document #3204/3204\n",
      "2021-02-19 12:26:34,584 : INFO : optimized alpha [0.010536853, 0.010801776, 0.010655992, 0.010382868, 0.011478729, 0.011063645, 0.01050395, 0.010153737, 0.010026226, 0.010562536, 0.010018594, 0.00992844, 0.009934079, 0.010331309, 0.0099241715, 0.010848175, 0.010639922, 0.011186037, 0.010850785, 0.010704348, 0.011007793, 0.010526999, 0.010823455, 0.016388383, 0.011055208, 0.011319955, 0.010500287, 0.011372774, 0.012363198, 0.010575803, 0.010617086, 0.010539434, 0.0098991655, 0.010303372, 0.011246867, 0.010197425, 0.011273481, 0.009663685, 0.010503636, 0.010480896, 0.011870186, 0.010595176, 0.011388263, 0.010559785, 0.010337811, 0.010523274, 0.01057134, 0.009747292, 0.011043649, 0.011322009, 0.010191946, 0.0110467635, 0.010592861, 0.010221967, 0.010647579, 0.011052469, 0.010168081, 0.010462483, 0.010653213, 0.010167102, 0.010400452, 0.010646064, 0.010886915, 0.010595651, 0.010313044, 0.0098345475, 0.010049437, 0.010955193, 0.010615921, 0.010415914, 0.010223916, 0.00994274, 0.010924696, 0.010603459, 0.010466894, 0.010398557, 0.01045056, 0.009846822, 0.0102341045, 0.010219215, 0.01096506, 0.010734701, 0.010252082, 0.01001617, 0.011079515, 0.010780421, 0.009608092, 0.010669913, 0.00973379, 0.010435951, 0.01108274, 0.010541151, 0.010147272, 0.009999909, 0.0099518895, 0.012488956, 0.010534583, 0.011806201, 0.011380075, 0.010978689]\n",
      "2021-02-19 12:26:34,587 : INFO : merging changes from 1204 documents into a model of 3204 documents\n",
      "2021-02-19 12:26:34,590 : INFO : topic #86 (0.010): 0.077*\",\" + 0.037*\"-\" + 0.034*\"algebra\" + 0.030*\"program\" + 0.022*\"contour\" + 0.021*\"word\" + 0.021*\"comput\" + 0.021*\"\"\" + 0.019*\"map\" + 0.017*\"requir\"\n",
      "2021-02-19 12:26:34,591 : INFO : topic #37 (0.010): 0.130*\"storag\" + 0.079*\"store\" + 0.067*\",\" + 0.034*\"core\" + 0.033*\"'\" + 0.025*\"hardwar\" + 0.023*\"associ\" + 0.023*\"system\" + 0.022*\"level\" + 0.022*\"comput\"\n",
      "2021-02-19 12:26:34,591 : INFO : topic #28 (0.012): 0.204*\"]\" + 0.055*\"approxim\" + 0.050*\"nonlinear\" + 0.049*\"minim\" + 0.039*\"2\" + 0.038*\",\" + 0.029*\")\" + 0.029*\"5\" + 0.025*\"(\" + 0.020*\"extract\"\n",
      "2021-02-19 12:26:34,591 : INFO : topic #95 (0.012): 0.266*\"algorithm\" + 0.251*\"[\" + 0.157*\"(\" + 0.118*\"])\" + 0.071*\"permut\" + 0.020*\"quadratur\" + 0.020*\"g6\" + 0.017*\"modifi\" + 0.014*\"greatest\" + 0.013*\"d1\"\n",
      "2021-02-19 12:26:34,592 : INFO : topic #23 (0.016): 0.345*\"(\" + 0.333*\")\" + 0.215*\"algorithm\" + 0.027*\"surfac\" + 0.010*\"order\" + 0.009*\"-\" + 0.008*\"product\" + 0.007*\"integr\" + 0.006*\"program\" + 0.005*\"definit\"\n",
      "2021-02-19 12:26:34,592 : INFO : topic diff=0.692897, rho=0.389191\n",
      "2021-02-19 12:26:34,596 : INFO : PROGRESS: pass 5, at document #2000/3204\n",
      "2021-02-19 12:26:34,963 : INFO : optimized alpha [0.010520247, 0.010809812, 0.01083375, 0.010458892, 0.011514165, 0.011185062, 0.010462569, 0.01013373, 0.010052746, 0.010621405, 0.010060596, 0.0099403635, 0.009881084, 0.0103744995, 0.0099288495, 0.010937394, 0.010710006, 0.011309062, 0.0109103825, 0.0109022455, 0.011068704, 0.010523398, 0.010824705, 0.017702445, 0.011176834, 0.011344199, 0.010557918, 0.011432064, 0.012370305, 0.010610276, 0.010701529, 0.010571758, 0.009853566, 0.010315941, 0.011205712, 0.010363503, 0.011390049, 0.009690812, 0.010515692, 0.010446851, 0.012099663, 0.010591104, 0.011457341, 0.010553998, 0.010349314, 0.010657368, 0.010565979, 0.009795019, 0.0111533, 0.011499225, 0.010227392, 0.011127157, 0.010569561, 0.010228742, 0.010776238, 0.011127847, 0.010272584, 0.0104629975, 0.010847728, 0.010284425, 0.0104475655, 0.010853012, 0.01104249, 0.010584845, 0.010276343, 0.009860408, 0.010040523, 0.011060752, 0.010601477, 0.010436468, 0.01019531, 0.009932481, 0.010953665, 0.010676023, 0.010408133, 0.010422801, 0.010480215, 0.009857802, 0.010187183, 0.010232668, 0.011106601, 0.010867713, 0.010292603, 0.010075395, 0.011006795, 0.010841366, 0.009563481, 0.010694965, 0.009739589, 0.010449883, 0.011117316, 0.010567203, 0.010130094, 0.010005729, 0.009914725, 0.013008477, 0.010533671, 0.011901501, 0.011326389, 0.01099197]\n",
      "2021-02-19 12:26:34,965 : INFO : merging changes from 2000 documents into a model of 3204 documents\n",
      "2021-02-19 12:26:34,968 : INFO : topic #86 (0.010): 0.076*\",\" + 0.037*\"-\" + 0.030*\"algebra\" + 0.029*\"program\" + 0.023*\"word\" + 0.022*\"comput\" + 0.020*\"map\" + 0.020*\"contour\" + 0.019*\"\"\" + 0.017*\"charact\"\n",
      "2021-02-19 12:26:34,968 : INFO : topic #37 (0.010): 0.132*\"storag\" + 0.075*\"store\" + 0.065*\",\" + 0.041*\"core\" + 0.028*\"'\" + 0.024*\"system\" + 0.024*\"comput\" + 0.021*\"inform\" + 0.020*\"associ\" + 0.020*\"hardwar\"\n",
      "2021-02-19 12:26:34,969 : INFO : topic #28 (0.012): 0.164*\"]\" + 0.061*\"approxim\" + 0.054*\"nonlinear\" + 0.046*\"minim\" + 0.042*\"2\" + 0.040*\",\" + 0.027*\"5\" + 0.026*\")\" + 0.025*\"(\" + 0.023*\"extract\"\n",
      "2021-02-19 12:26:34,969 : INFO : topic #95 (0.013): 0.248*\"algorithm\" + 0.244*\"[\" + 0.173*\"(\" + 0.166*\"])\" + 0.053*\"permut\" + 0.019*\"g6\" + 0.018*\"quadratur\" + 0.013*\"d1\" + 0.012*\"modifi\" + 0.010*\"greatest\"\n",
      "2021-02-19 12:26:34,969 : INFO : topic #23 (0.018): 0.351*\"(\" + 0.342*\")\" + 0.218*\"algorithm\" + 0.019*\"surfac\" + 0.008*\"order\" + 0.008*\"-\" + 0.007*\"integr\" + 0.006*\"product\" + 0.005*\"definit\" + 0.004*\"program\"\n",
      "2021-02-19 12:26:34,970 : INFO : topic diff=0.633009, rho=0.362690\n",
      "2021-02-19 12:26:35,397 : INFO : -6.596 per-word bound, 96.8 perplexity estimate based on a held-out corpus of 1204 documents with 49783 words\n",
      "2021-02-19 12:26:35,397 : INFO : PROGRESS: pass 5, at document #3204/3204\n",
      "2021-02-19 12:26:35,701 : INFO : optimized alpha [0.010695065, 0.010939451, 0.010946633, 0.01057384, 0.011679846, 0.011341767, 0.010569717, 0.010246746, 0.01009347, 0.010783277, 0.010129449, 0.010010414, 0.00992054, 0.010478659, 0.010023804, 0.011152827, 0.010890912, 0.011570984, 0.011069909, 0.011037046, 0.0112932455, 0.010671051, 0.011009554, 0.019037094, 0.011393973, 0.011627538, 0.010714122, 0.011747021, 0.012784423, 0.010803257, 0.010733619, 0.010717995, 0.009940464, 0.010408168, 0.011461604, 0.010475177, 0.0117438715, 0.009739683, 0.01067272, 0.010659046, 0.012340462, 0.010778478, 0.011677848, 0.010726647, 0.01048924, 0.010741407, 0.010727776, 0.009833363, 0.011330505, 0.011698591, 0.010367091, 0.011334476, 0.010737098, 0.010300804, 0.010874383, 0.011335564, 0.010359237, 0.010626088, 0.011019468, 0.010339874, 0.010562031, 0.010889013, 0.011171999, 0.010732077, 0.010422172, 0.009940521, 0.010142369, 0.011198748, 0.0107554225, 0.01058036, 0.010301126, 0.0099932095, 0.011143472, 0.010867592, 0.010530095, 0.010511254, 0.010595447, 0.01002631, 0.01026657, 0.010330155, 0.0113574825, 0.011011083, 0.010385687, 0.010102416, 0.011210694, 0.011109248, 0.009566975, 0.0108931465, 0.009771309, 0.010593626, 0.01130616, 0.010715162, 0.010194202, 0.010131192, 0.009977358, 0.0132967, 0.010712356, 0.012234145, 0.011642694, 0.011207837]\n",
      "2021-02-19 12:26:35,703 : INFO : merging changes from 1204 documents into a model of 3204 documents\n",
      "2021-02-19 12:26:35,706 : INFO : topic #86 (0.010): 0.077*\",\" + 0.039*\"-\" + 0.035*\"algebra\" + 0.031*\"program\" + 0.027*\"contour\" + 0.024*\"word\" + 0.021*\"\"\" + 0.021*\"comput\" + 0.021*\"map\" + 0.018*\"requir\"\n",
      "2021-02-19 12:26:35,707 : INFO : topic #37 (0.010): 0.148*\"storag\" + 0.083*\"store\" + 0.070*\",\" + 0.036*\"core\" + 0.031*\"'\" + 0.028*\"hardwar\" + 0.026*\"associ\" + 0.025*\"level\" + 0.022*\"system\" + 0.021*\"inform\"\n",
      "2021-02-19 12:26:35,707 : INFO : topic #28 (0.013): 0.215*\"]\" + 0.061*\"approxim\" + 0.054*\"nonlinear\" + 0.052*\"minim\" + 0.037*\"2\" + 0.035*\",\" + 0.033*\"5\" + 0.024*\")\" + 0.022*\"(\" + 0.021*\"fraction\"\n"
     ]
    },
    {
     "name": "stderr",
     "output_type": "stream",
     "text": [
      "2021-02-19 12:26:35,707 : INFO : topic #95 (0.013): 0.263*\"algorithm\" + 0.260*\"[\" + 0.157*\"(\" + 0.122*\"])\" + 0.068*\"permut\" + 0.020*\"quadratur\" + 0.019*\"g6\" + 0.016*\"modifi\" + 0.013*\"greatest\" + 0.013*\"d1\"\n",
      "2021-02-19 12:26:35,708 : INFO : topic #23 (0.019): 0.360*\"(\" + 0.346*\")\" + 0.207*\"algorithm\" + 0.023*\"surfac\" + 0.009*\"order\" + 0.008*\"-\" + 0.006*\"product\" + 0.006*\"program\" + 0.005*\"integr\" + 0.004*\"definit\"\n",
      "2021-02-19 12:26:35,708 : INFO : topic diff=0.655899, rho=0.362690\n",
      "2021-02-19 12:26:35,712 : INFO : PROGRESS: pass 6, at document #2000/3204\n",
      "2021-02-19 12:26:36,061 : INFO : optimized alpha [0.010693538, 0.010946985, 0.0111278, 0.010653135, 0.011714958, 0.011455293, 0.010545815, 0.0102298055, 0.010124206, 0.010836863, 0.010178096, 0.010025463, 0.009880578, 0.0105284965, 0.010045664, 0.011254531, 0.010958739, 0.011691606, 0.011135688, 0.011255135, 0.0113656465, 0.010667364, 0.011002458, 0.02051402, 0.011517314, 0.011648923, 0.010775886, 0.011836269, 0.012789882, 0.010850012, 0.010815651, 0.010761066, 0.009901618, 0.010427472, 0.011439012, 0.010669877, 0.011874401, 0.009777452, 0.010685576, 0.010633265, 0.012556517, 0.010787073, 0.011734612, 0.010724271, 0.010508942, 0.010870812, 0.010727833, 0.009885653, 0.011449975, 0.011863979, 0.010430661, 0.011418061, 0.010725852, 0.0103094345, 0.010998589, 0.011420155, 0.010471094, 0.010629793, 0.011228598, 0.010449613, 0.01061012, 0.0110921245, 0.01132038, 0.010734689, 0.0103892, 0.009973691, 0.010134186, 0.011304834, 0.010748855, 0.010614054, 0.010276176, 0.00998749, 0.011170169, 0.01094337, 0.010473299, 0.010536187, 0.010625255, 0.010061956, 0.010224965, 0.010357202, 0.011509798, 0.011139623, 0.010424133, 0.010176204, 0.011149078, 0.011170108, 0.009524974, 0.010925408, 0.009791072, 0.010615672, 0.011347894, 0.0107469205, 0.010175113, 0.010150523, 0.009953504, 0.013817931, 0.010718355, 0.012333965, 0.011585467, 0.011221357]\n",
      "2021-02-19 12:26:36,063 : INFO : merging changes from 2000 documents into a model of 3204 documents\n",
      "2021-02-19 12:26:36,066 : INFO : topic #86 (0.010): 0.076*\",\" + 0.038*\"-\" + 0.031*\"algebra\" + 0.030*\"program\" + 0.025*\"word\" + 0.024*\"contour\" + 0.022*\"comput\" + 0.021*\"map\" + 0.020*\"\"\" + 0.018*\"charact\"\n",
      "2021-02-19 12:26:36,066 : INFO : topic #37 (0.010): 0.149*\"storag\" + 0.081*\"store\" + 0.068*\",\" + 0.042*\"core\" + 0.027*\"'\" + 0.023*\"associ\" + 0.023*\"hardwar\" + 0.023*\"system\" + 0.022*\"comput\" + 0.021*\"level\"\n",
      "2021-02-19 12:26:36,067 : INFO : topic #28 (0.013): 0.174*\"]\" + 0.067*\"approxim\" + 0.058*\"nonlinear\" + 0.050*\"minim\" + 0.037*\"2\" + 0.037*\",\" + 0.031*\"5\" + 0.023*\"extract\" + 0.022*\"fraction\" + 0.021*\"regress\"\n",
      "2021-02-19 12:26:36,067 : INFO : topic #95 (0.014): 0.250*\"[\" + 0.247*\"algorithm\" + 0.173*\"(\" + 0.164*\"])\" + 0.053*\"permut\" + 0.019*\"g6\" + 0.018*\"quadratur\" + 0.012*\"d1\" + 0.012*\"modifi\" + 0.009*\"greatest\"\n",
      "2021-02-19 12:26:36,067 : INFO : topic #23 (0.021): 0.364*\"(\" + 0.353*\")\" + 0.211*\"algorithm\" + 0.017*\"surfac\" + 0.008*\"order\" + 0.007*\"-\" + 0.005*\"integr\" + 0.005*\"product\" + 0.004*\"program\" + 0.004*\"definit\"\n",
      "2021-02-19 12:26:36,068 : INFO : topic diff=0.580629, rho=0.340958\n",
      "2021-02-19 12:26:36,490 : INFO : -6.564 per-word bound, 94.6 perplexity estimate based on a held-out corpus of 1204 documents with 49783 words\n",
      "2021-02-19 12:26:36,491 : INFO : PROGRESS: pass 6, at document #3204/3204\n",
      "2021-02-19 12:26:36,785 : INFO : optimized alpha [0.010896399, 0.011076251, 0.011237369, 0.010771197, 0.0118721565, 0.011613809, 0.0106415, 0.010348722, 0.010163031, 0.010993838, 0.01024048, 0.010106222, 0.009921693, 0.010633112, 0.010147227, 0.011476414, 0.011137103, 0.011949002, 0.011287216, 0.011382755, 0.011609101, 0.0108136, 0.011193625, 0.022061164, 0.011721229, 0.011929541, 0.010933469, 0.012169249, 0.01319825, 0.011055468, 0.010845982, 0.010908926, 0.009989945, 0.010527077, 0.011709206, 0.010799794, 0.0122228395, 0.009835156, 0.01084673, 0.010838311, 0.012796992, 0.010968471, 0.01194788, 0.010882111, 0.010659722, 0.010950028, 0.010890782, 0.009930553, 0.011621652, 0.012040215, 0.010563339, 0.0116348835, 0.010891033, 0.010386657, 0.011072118, 0.011621011, 0.010561627, 0.010790781, 0.011436456, 0.010504641, 0.0107337525, 0.011131045, 0.01144923, 0.010883611, 0.010539653, 0.010058265, 0.010236732, 0.011442121, 0.010895003, 0.010762687, 0.0103766555, 0.010053744, 0.011350543, 0.011141486, 0.010592046, 0.010614049, 0.010737585, 0.010259879, 0.0103210285, 0.010455646, 0.011769731, 0.011281927, 0.010506294, 0.01023948, 0.011349157, 0.011436238, 0.009535217, 0.011113998, 0.00983853, 0.0107673835, 0.011517667, 0.010896786, 0.010236294, 0.010281183, 0.0100046005, 0.014098375, 0.010906623, 0.012664307, 0.01188747, 0.01144286]\n",
      "2021-02-19 12:26:36,787 : INFO : merging changes from 1204 documents into a model of 3204 documents\n",
      "2021-02-19 12:26:36,791 : INFO : topic #86 (0.010): 0.077*\",\" + 0.040*\"-\" + 0.036*\"algebra\" + 0.030*\"program\" + 0.030*\"contour\" + 0.026*\"word\" + 0.021*\"map\" + 0.021*\"comput\" + 0.021*\"\"\" + 0.018*\"requir\"\n",
      "2021-02-19 12:26:36,791 : INFO : topic #37 (0.010): 0.162*\"storag\" + 0.086*\"store\" + 0.072*\",\" + 0.036*\"core\" + 0.029*\"hardwar\" + 0.028*\"'\" + 0.028*\"associ\" + 0.028*\"level\" + 0.022*\"system\" + 0.020*\"requir\"\n",
      "2021-02-19 12:26:36,791 : INFO : topic #28 (0.013): 0.223*\"]\" + 0.066*\"approxim\" + 0.057*\"nonlinear\" + 0.055*\"minim\" + 0.039*\"5\" + 0.033*\",\" + 0.032*\"2\" + 0.022*\"fraction\" + 0.021*\"superior\" + 0.021*\"extract\"\n",
      "2021-02-19 12:26:36,792 : INFO : topic #95 (0.014): 0.265*\"[\" + 0.261*\"algorithm\" + 0.158*\"(\" + 0.124*\"])\" + 0.066*\"permut\" + 0.020*\"quadratur\" + 0.019*\"g6\" + 0.015*\"modifi\" + 0.013*\"greatest\" + 0.012*\"d1\"\n",
      "2021-02-19 12:26:36,792 : INFO : topic #23 (0.022): 0.371*\"(\" + 0.356*\")\" + 0.201*\"algorithm\" + 0.021*\"surfac\" + 0.008*\"order\" + 0.008*\"-\" + 0.005*\"program\" + 0.004*\"product\" + 0.004*\"integr\" + 0.003*\"definit\"\n",
      "2021-02-19 12:26:36,792 : INFO : topic diff=0.585956, rho=0.340958\n",
      "2021-02-19 12:26:36,796 : INFO : PROGRESS: pass 7, at document #2000/3204\n",
      "2021-02-19 12:26:37,138 : INFO : optimized alpha [0.010904936, 0.011090562, 0.01141897, 0.010853879, 0.011905318, 0.011722379, 0.010615668, 0.010334373, 0.010195993, 0.011048423, 0.01029536, 0.010117484, 0.009886522, 0.010684076, 0.010181287, 0.011581106, 0.011206875, 0.012060414, 0.011362681, 0.011615674, 0.011698234, 0.0108133275, 0.011197109, 0.023686174, 0.011850583, 0.0119542815, 0.011001165, 0.012257698, 0.013197941, 0.011113727, 0.010924393, 0.010960415, 0.009955241, 0.010566236, 0.011684229, 0.011022815, 0.012361574, 0.0098872995, 0.010860377, 0.0108164195, 0.013003405, 0.010981522, 0.011999503, 0.010890065, 0.010683401, 0.011097174, 0.010886906, 0.009980692, 0.011749094, 0.01219905, 0.01062912, 0.011723696, 0.01088709, 0.010398605, 0.011205311, 0.0117052095, 0.010679082, 0.010793893, 0.011657345, 0.010614748, 0.010782964, 0.011326247, 0.011600887, 0.010880542, 0.010516655, 0.010086731, 0.010235745, 0.011547321, 0.010888519, 0.01080156, 0.01035665, 0.010060074, 0.011377327, 0.011217164, 0.010538573, 0.01063637, 0.0107712, 0.010311663, 0.010288738, 0.010481501, 0.011925641, 0.011406898, 0.0105431415, 0.010316752, 0.011288029, 0.01150285, 0.009498346, 0.011147888, 0.009875382, 0.010796925, 0.011551376, 0.010939301, 0.01022224, 0.01030446, 0.009981142, 0.01461387, 0.010909945, 0.012756902, 0.011832893, 0.011460457]\n",
      "2021-02-19 12:26:37,140 : INFO : merging changes from 2000 documents into a model of 3204 documents\n",
      "2021-02-19 12:26:37,143 : INFO : topic #86 (0.009): 0.076*\",\" + 0.040*\"-\" + 0.034*\"algebra\" + 0.030*\"program\" + 0.027*\"word\" + 0.027*\"contour\" + 0.022*\"comput\" + 0.021*\"map\" + 0.019*\"charact\" + 0.019*\"\"\"\n",
      "2021-02-19 12:26:37,144 : INFO : topic #37 (0.010): 0.164*\"storag\" + 0.084*\"store\" + 0.070*\",\" + 0.042*\"core\" + 0.025*\"'\" + 0.025*\"hardwar\" + 0.025*\"associ\" + 0.023*\"level\" + 0.022*\"system\" + 0.021*\"comput\"\n",
      "2021-02-19 12:26:37,144 : INFO : topic #28 (0.013): 0.185*\"]\" + 0.070*\"approxim\" + 0.061*\"nonlinear\" + 0.053*\"minim\" + 0.037*\"5\" + 0.035*\",\" + 0.032*\"2\" + 0.025*\"extract\" + 0.024*\"fraction\" + 0.022*\"regress\"\n",
      "2021-02-19 12:26:37,144 : INFO : topic #95 (0.015): 0.253*\"[\" + 0.246*\"algorithm\" + 0.174*\"(\" + 0.163*\"])\" + 0.052*\"permut\" + 0.019*\"quadratur\" + 0.018*\"g6\" + 0.012*\"modifi\" + 0.012*\"d1\" + 0.009*\"a1\"\n"
     ]
    },
    {
     "name": "stderr",
     "output_type": "stream",
     "text": [
      "2021-02-19 12:26:37,145 : INFO : topic #23 (0.024): 0.372*\"(\" + 0.361*\")\" + 0.206*\"algorithm\" + 0.016*\"surfac\" + 0.008*\"order\" + 0.007*\"-\" + 0.004*\"program\" + 0.003*\"definit\" + 0.003*\"product\" + 0.003*\"integr\"\n",
      "2021-02-19 12:26:37,145 : INFO : topic diff=0.512452, rho=0.322715\n",
      "2021-02-19 12:26:37,557 : INFO : -6.540 per-word bound, 93.1 perplexity estimate based on a held-out corpus of 1204 documents with 49783 words\n",
      "2021-02-19 12:26:37,557 : INFO : PROGRESS: pass 7, at document #3204/3204\n",
      "2021-02-19 12:26:37,845 : INFO : optimized alpha [0.011111525, 0.011211058, 0.011525912, 0.010978208, 0.012058697, 0.011873834, 0.010715791, 0.010459058, 0.010236003, 0.011210504, 0.010354753, 0.010197521, 0.009937249, 0.010786789, 0.010292038, 0.011794729, 0.011383844, 0.012304962, 0.011504469, 0.011752717, 0.011945227, 0.010970701, 0.011407437, 0.025407836, 0.012058952, 0.012230655, 0.011157941, 0.012586596, 0.013599329, 0.011313738, 0.010962063, 0.011101701, 0.010050519, 0.010670059, 0.011950086, 0.011173426, 0.0126966555, 0.00996634, 0.011023316, 0.011010018, 0.013230866, 0.011161066, 0.012203786, 0.011046686, 0.010830448, 0.011184027, 0.011060409, 0.010028964, 0.011925864, 0.012360794, 0.010761622, 0.011944286, 0.011044978, 0.010477985, 0.011298962, 0.011904019, 0.010788005, 0.0109449895, 0.011894723, 0.010675466, 0.010906833, 0.011362156, 0.01172358, 0.011022845, 0.010663468, 0.010167583, 0.010341988, 0.011703648, 0.0110340975, 0.0109378, 0.010447121, 0.010131524, 0.011549796, 0.011419332, 0.010660634, 0.010710705, 0.010896053, 0.010524352, 0.010383449, 0.010586751, 0.01220211, 0.011539685, 0.010630023, 0.010379749, 0.011473131, 0.011771813, 0.009509298, 0.011328549, 0.009918146, 0.010956756, 0.011713658, 0.0110766785, 0.010278211, 0.010434926, 0.010035931, 0.014879398, 0.011084435, 0.013082882, 0.012113417, 0.011672817]\n",
      "2021-02-19 12:26:37,848 : INFO : merging changes from 1204 documents into a model of 3204 documents\n",
      "2021-02-19 12:26:37,851 : INFO : topic #86 (0.010): 0.076*\",\" + 0.042*\"-\" + 0.038*\"algebra\" + 0.032*\"contour\" + 0.030*\"program\" + 0.027*\"word\" + 0.022*\"map\" + 0.022*\"comput\" + 0.020*\"charact\" + 0.019*\"\"\"\n",
      "2021-02-19 12:26:37,851 : INFO : topic #12 (0.010): 0.118*\",\" + 0.056*\"-\" + 0.024*\"object\" + 0.020*\"spline\" + 0.018*\"packag\" + 0.017*\"design\" + 0.014*\"cycl\" + 0.014*\"abstract\" + 0.013*\"type\" + 0.012*\"comput\"\n",
      "2021-02-19 12:26:37,851 : INFO : topic #28 (0.014): 0.230*\"]\" + 0.070*\"approxim\" + 0.059*\"nonlinear\" + 0.058*\"minim\" + 0.043*\"5\" + 0.031*\",\" + 0.027*\"2\" + 0.023*\"fraction\" + 0.022*\"extract\" + 0.022*\"superior\"\n",
      "2021-02-19 12:26:37,851 : INFO : topic #95 (0.015): 0.270*\"[\" + 0.252*\"algorithm\" + 0.161*\"(\" + 0.127*\"])\" + 0.066*\"permut\" + 0.020*\"quadratur\" + 0.019*\"g6\" + 0.014*\"modifi\" + 0.013*\"greatest\" + 0.012*\"d1\"\n",
      "2021-02-19 12:26:37,852 : INFO : topic #23 (0.025): 0.379*\"(\" + 0.363*\")\" + 0.196*\"algorithm\" + 0.019*\"surfac\" + 0.008*\"order\" + 0.007*\"-\" + 0.005*\"program\" + 0.003*\"definit\" + 0.003*\"product\" + 0.002*\"jacobi\"\n",
      "2021-02-19 12:26:37,852 : INFO : topic diff=0.512487, rho=0.322715\n",
      "2021-02-19 12:26:37,856 : INFO : PROGRESS: pass 8, at document #2000/3204\n",
      "2021-02-19 12:26:38,195 : INFO : optimized alpha [0.011139575, 0.011226522, 0.011706992, 0.011060989, 0.01210538, 0.011981883, 0.010691454, 0.01045021, 0.010266376, 0.011257307, 0.010412319, 0.010219551, 0.009907723, 0.010835711, 0.010327934, 0.011904539, 0.011452303, 0.01241731, 0.0115751615, 0.01199402, 0.012052552, 0.010985283, 0.011415188, 0.027189223, 0.012187245, 0.012247356, 0.011226247, 0.0126883695, 0.013593981, 0.01139009, 0.0110425325, 0.011149218, 0.010025539, 0.010717696, 0.011915507, 0.0114114005, 0.012851809, 0.0100272205, 0.011032575, 0.01099702, 0.013438892, 0.011171391, 0.012258391, 0.011059122, 0.010869623, 0.011336388, 0.011063096, 0.010085072, 0.0120650465, 0.012515931, 0.010843031, 0.012031148, 0.011046095, 0.010491347, 0.011436026, 0.011986425, 0.010909409, 0.01094769, 0.0121173225, 0.010781468, 0.010955578, 0.0115542095, 0.011871609, 0.011023219, 0.010642922, 0.010199761, 0.010352528, 0.011799334, 0.011027756, 0.010973173, 0.010430007, 0.010142596, 0.011578543, 0.01149693, 0.010616504, 0.010734038, 0.0109214345, 0.010589966, 0.010356208, 0.01061322, 0.012365919, 0.011665362, 0.010670347, 0.010454029, 0.011414414, 0.01184043, 0.009475412, 0.01136226, 0.009958478, 0.010993329, 0.011745711, 0.011117359, 0.010268599, 0.010455528, 0.010020527, 0.015385326, 0.011088943, 0.01317284, 0.012061359, 0.011690639]\n",
      "2021-02-19 12:26:38,198 : INFO : merging changes from 2000 documents into a model of 3204 documents\n",
      "2021-02-19 12:26:38,201 : INFO : topic #86 (0.009): 0.075*\",\" + 0.041*\"-\" + 0.035*\"algebra\" + 0.029*\"program\" + 0.029*\"contour\" + 0.028*\"word\" + 0.023*\"comput\" + 0.022*\"map\" + 0.021*\"charact\" + 0.019*\"keyboard\"\n",
      "2021-02-19 12:26:38,201 : INFO : topic #12 (0.010): 0.123*\",\" + 0.055*\"-\" + 0.022*\"object\" + 0.020*\"spline\" + 0.019*\"packag\" + 0.016*\"design\" + 0.013*\"comput\" + 0.013*\"gener\" + 0.012*\"cycl\" + 0.011*\"type\"\n",
      "2021-02-19 12:26:38,202 : INFO : topic #28 (0.014): 0.193*\"]\" + 0.074*\"approxim\" + 0.063*\"nonlinear\" + 0.056*\"minim\" + 0.041*\"5\" + 0.033*\",\" + 0.027*\"extract\" + 0.026*\"2\" + 0.025*\"fraction\" + 0.023*\"regress\"\n",
      "2021-02-19 12:26:38,202 : INFO : topic #95 (0.015): 0.257*\"[\" + 0.241*\"algorithm\" + 0.176*\"(\" + 0.162*\"])\" + 0.053*\"permut\" + 0.019*\"quadratur\" + 0.018*\"g6\" + 0.012*\"modifi\" + 0.012*\"d1\" + 0.010*\"a1\"\n",
      "2021-02-19 12:26:38,202 : INFO : topic #23 (0.027): 0.378*\"(\" + 0.366*\")\" + 0.201*\"algorithm\" + 0.014*\"surfac\" + 0.008*\"order\" + 0.006*\"-\" + 0.004*\"program\" + 0.003*\"definit\" + 0.003*\"jacobi\" + 0.002*\"product\"\n",
      "2021-02-19 12:26:38,202 : INFO : topic diff=0.445509, rho=0.307119\n",
      "2021-02-19 12:26:38,609 : INFO : -6.520 per-word bound, 91.8 perplexity estimate based on a held-out corpus of 1204 documents with 49783 words\n",
      "2021-02-19 12:26:38,609 : INFO : PROGRESS: pass 8, at document #3204/3204\n",
      "2021-02-19 12:26:38,886 : INFO : optimized alpha [0.011341773, 0.01134797, 0.011802975, 0.011180409, 0.012258963, 0.012124084, 0.010787649, 0.010570131, 0.01030758, 0.01139581, 0.010471898, 0.010293751, 0.009964574, 0.010934222, 0.010444936, 0.012123319, 0.011622705, 0.012666322, 0.011714247, 0.012140897, 0.012316602, 0.011142357, 0.011623604, 0.029047653, 0.012385106, 0.012508173, 0.011374231, 0.013027892, 0.013990256, 0.011594781, 0.01107568, 0.01129347, 0.0101299705, 0.010822964, 0.0121844765, 0.011568115, 0.013191611, 0.010105578, 0.011180832, 0.0111976955, 0.013668508, 0.011341407, 0.012455063, 0.011212521, 0.011024892, 0.011416251, 0.011238599, 0.010136612, 0.012247534, 0.012664751, 0.010975807, 0.012250474, 0.011203615, 0.010573015, 0.011525456, 0.012177863, 0.011030521, 0.01108438, 0.012378332, 0.01084217, 0.011068893, 0.01159045, 0.011995053, 0.011174357, 0.01078408, 0.01029053, 0.010457242, 0.011974112, 0.011170439, 0.011109619, 0.010516964, 0.010213824, 0.01174735, 0.011689124, 0.010741923, 0.010799951, 0.011049868, 0.010823175, 0.010460665, 0.010725152, 0.01266299, 0.011795655, 0.010756411, 0.010514307, 0.011589366, 0.012125377, 0.00948201, 0.011539062, 0.010007385, 0.011175738, 0.011898494, 0.011258232, 0.010328049, 0.010588965, 0.010068195, 0.015640592, 0.011259675, 0.013492588, 0.012344181, 0.011883155]\n",
      "2021-02-19 12:26:38,889 : INFO : merging changes from 1204 documents into a model of 3204 documents\n",
      "2021-02-19 12:26:38,892 : INFO : topic #86 (0.009): 0.075*\",\" + 0.043*\"-\" + 0.040*\"algebra\" + 0.035*\"contour\" + 0.030*\"program\" + 0.028*\"word\" + 0.023*\"map\" + 0.023*\"comput\" + 0.022*\"charact\" + 0.019*\"keyboard\"\n",
      "2021-02-19 12:26:38,892 : INFO : topic #12 (0.010): 0.119*\",\" + 0.059*\"-\" + 0.024*\"object\" + 0.021*\"spline\" + 0.019*\"packag\" + 0.017*\"design\" + 0.016*\"cycl\" + 0.014*\"type\" + 0.013*\"abstract\" + 0.013*\"gener\"\n",
      "2021-02-19 12:26:38,893 : INFO : topic #28 (0.014): 0.235*\"]\" + 0.073*\"approxim\" + 0.061*\"nonlinear\" + 0.061*\"minim\" + 0.046*\"5\" + 0.030*\",\" + 0.024*\"extract\" + 0.024*\"fraction\" + 0.023*\"superior\" + 0.022*\"regress\"\n",
      "2021-02-19 12:26:38,893 : INFO : topic #95 (0.016): 0.276*\"[\" + 0.242*\"algorithm\" + 0.165*\"(\" + 0.129*\"])\" + 0.065*\"permut\" + 0.021*\"quadratur\" + 0.019*\"g6\" + 0.014*\"modifi\" + 0.013*\"greatest\" + 0.012*\"d1\"\n",
      "2021-02-19 12:26:38,893 : INFO : topic #23 (0.029): 0.385*\"(\" + 0.368*\")\" + 0.192*\"algorithm\" + 0.016*\"surfac\" + 0.008*\"order\" + 0.007*\"-\" + 0.005*\"program\" + 0.003*\"definit\" + 0.002*\"jacobi\" + 0.002*\"product\"\n"
     ]
    },
    {
     "name": "stderr",
     "output_type": "stream",
     "text": [
      "2021-02-19 12:26:38,894 : INFO : topic diff=0.445413, rho=0.307119\n",
      "2021-02-19 12:26:38,898 : INFO : PROGRESS: pass 9, at document #2000/3204\n",
      "2021-02-19 12:26:39,234 : INFO : optimized alpha [0.011366522, 0.011371191, 0.011992756, 0.011258708, 0.012312955, 0.01222125, 0.010772701, 0.010561663, 0.010340212, 0.011440813, 0.010529119, 0.010313601, 0.00993694, 0.010987822, 0.010481022, 0.01223292, 0.011691958, 0.0127783995, 0.011794498, 0.012384076, 0.012443757, 0.011164401, 0.011637204, 0.030998694, 0.012512748, 0.012521281, 0.011429928, 0.013131327, 0.013982312, 0.011683536, 0.0111534335, 0.011337403, 0.010106229, 0.010875218, 0.012151584, 0.011801263, 0.013344001, 0.010170414, 0.0111911595, 0.011187825, 0.013870888, 0.011355983, 0.012499722, 0.0112274755, 0.011060828, 0.011570692, 0.011247426, 0.010193926, 0.012391407, 0.01281503, 0.011065757, 0.012339369, 0.011202742, 0.010584557, 0.011664987, 0.012258961, 0.011149696, 0.011093338, 0.012617948, 0.010947896, 0.011122389, 0.011778461, 0.012143922, 0.01117948, 0.01077391, 0.010332246, 0.010469078, 0.012077069, 0.011165849, 0.011140215, 0.010502509, 0.010224766, 0.011774697, 0.011765455, 0.01069811, 0.010822717, 0.011084044, 0.010897366, 0.010445717, 0.0107537825, 0.012829698, 0.011920766, 0.010795385, 0.010586094, 0.0115499655, 0.012196193, 0.009446534, 0.011572799, 0.010052548, 0.011218718, 0.011930829, 0.011305655, 0.01032248, 0.01061807, 0.010054108, 0.01614211, 0.011273739, 0.013594351, 0.012296142, 0.011910281]\n",
      "2021-02-19 12:26:39,236 : INFO : merging changes from 2000 documents into a model of 3204 documents\n",
      "2021-02-19 12:26:39,239 : INFO : topic #86 (0.009): 0.074*\",\" + 0.042*\"-\" + 0.036*\"algebra\" + 0.032*\"contour\" + 0.029*\"program\" + 0.029*\"word\" + 0.024*\"comput\" + 0.023*\"map\" + 0.023*\"charact\" + 0.020*\"keyboard\"\n",
      "2021-02-19 12:26:39,240 : INFO : topic #12 (0.010): 0.124*\",\" + 0.058*\"-\" + 0.022*\"object\" + 0.021*\"spline\" + 0.020*\"packag\" + 0.017*\"design\" + 0.015*\"cycl\" + 0.013*\"gener\" + 0.013*\"comput\" + 0.012*\"type\"\n",
      "2021-02-19 12:26:39,240 : INFO : topic #28 (0.014): 0.199*\"]\" + 0.077*\"approxim\" + 0.065*\"nonlinear\" + 0.059*\"minim\" + 0.044*\"5\" + 0.031*\",\" + 0.028*\"extract\" + 0.025*\"fraction\" + 0.024*\"simultan\" + 0.024*\"regress\"\n",
      "2021-02-19 12:26:39,240 : INFO : topic #95 (0.016): 0.261*\"[\" + 0.234*\"algorithm\" + 0.179*\"(\" + 0.162*\"])\" + 0.053*\"permut\" + 0.020*\"quadratur\" + 0.018*\"g6\" + 0.012*\"d1\" + 0.012*\"modifi\" + 0.010*\"a1\"\n",
      "2021-02-19 12:26:39,240 : INFO : topic #23 (0.031): 0.384*\"(\" + 0.370*\")\" + 0.198*\"algorithm\" + 0.013*\"surfac\" + 0.008*\"order\" + 0.006*\"-\" + 0.004*\"program\" + 0.003*\"jacobi\" + 0.003*\"definit\" + 0.002*\"product\"\n",
      "2021-02-19 12:26:39,241 : INFO : topic diff=0.386946, rho=0.293585\n",
      "2021-02-19 12:26:39,641 : INFO : -6.502 per-word bound, 90.7 perplexity estimate based on a held-out corpus of 1204 documents with 49783 words\n",
      "2021-02-19 12:26:39,642 : INFO : PROGRESS: pass 9, at document #3204/3204\n",
      "2021-02-19 12:26:39,917 : INFO : optimized alpha [0.011579204, 0.011491093, 0.012093482, 0.011384919, 0.01247348, 0.012349233, 0.010873532, 0.010669613, 0.010385156, 0.011582999, 0.010591603, 0.01038523, 0.009992088, 0.011090802, 0.010604231, 0.012457382, 0.01185959, 0.013010835, 0.011937441, 0.012531708, 0.012737894, 0.0113162, 0.011847402, 0.032977823, 0.0127042625, 0.012774051, 0.011575675, 0.013466547, 0.014371535, 0.011882042, 0.011187975, 0.011468264, 0.010216974, 0.010987464, 0.012412316, 0.011978761, 0.013682918, 0.01025834, 0.011339849, 0.011390266, 0.0140796155, 0.011517446, 0.012689645, 0.011381079, 0.011208227, 0.011647109, 0.011428198, 0.010253528, 0.012580041, 0.0129552, 0.011202085, 0.012564115, 0.011354774, 0.010671143, 0.011753629, 0.012444197, 0.011274678, 0.0112387445, 0.0128882015, 0.0110195745, 0.011234276, 0.011815225, 0.012265599, 0.011330931, 0.010915575, 0.010419841, 0.010577938, 0.012243112, 0.0113144545, 0.011277295, 0.010589042, 0.0103009995, 0.011934785, 0.011957323, 0.010819089, 0.010881094, 0.011213571, 0.011135386, 0.010564545, 0.010861774, 0.013126026, 0.01205778, 0.01087842, 0.010646659, 0.011715927, 0.012476931, 0.009451637, 0.011746483, 0.010097259, 0.01139826, 0.012081179, 0.011452873, 0.010382593, 0.010765033, 0.010102916, 0.016380163, 0.011438853, 0.0138889495, 0.012570349, 0.01210811]\n",
      "2021-02-19 12:26:39,920 : INFO : merging changes from 1204 documents into a model of 3204 documents\n",
      "2021-02-19 12:26:39,923 : INFO : topic #86 (0.009): 0.074*\",\" + 0.042*\"-\" + 0.042*\"algebra\" + 0.039*\"contour\" + 0.030*\"program\" + 0.029*\"word\" + 0.024*\"charact\" + 0.024*\"map\" + 0.024*\"comput\" + 0.020*\"keyboard\"\n",
      "2021-02-19 12:26:39,923 : INFO : topic #12 (0.010): 0.121*\",\" + 0.061*\"-\" + 0.026*\"object\" + 0.022*\"spline\" + 0.020*\"packag\" + 0.019*\"cycl\" + 0.018*\"design\" + 0.014*\"type\" + 0.013*\"gener\" + 0.013*\"plan\"\n",
      "2021-02-19 12:26:39,923 : INFO : topic #28 (0.014): 0.239*\"]\" + 0.075*\"approxim\" + 0.063*\"minim\" + 0.062*\"nonlinear\" + 0.048*\"5\" + 0.028*\",\" + 0.026*\"extract\" + 0.025*\"fraction\" + 0.024*\"superior\" + 0.022*\"regress\"\n",
      "2021-02-19 12:26:39,924 : INFO : topic #95 (0.016): 0.280*\"[\" + 0.233*\"algorithm\" + 0.168*\"(\" + 0.131*\"])\" + 0.065*\"permut\" + 0.021*\"quadratur\" + 0.019*\"g6\" + 0.013*\"modifi\" + 0.013*\"greatest\" + 0.012*\"d1\"\n",
      "2021-02-19 12:26:39,924 : INFO : topic #23 (0.033): 0.390*\"(\" + 0.373*\")\" + 0.189*\"algorithm\" + 0.013*\"surfac\" + 0.009*\"order\" + 0.007*\"-\" + 0.005*\"program\" + 0.002*\"jacobi\" + 0.002*\"definit\" + 0.001*\"product\"\n",
      "2021-02-19 12:26:39,924 : INFO : topic diff=0.388844, rho=0.293585\n",
      "2021-02-19 12:26:39,928 : INFO : PROGRESS: pass 10, at document #2000/3204\n",
      "2021-02-19 12:26:40,262 : INFO : optimized alpha [0.011600862, 0.011511887, 0.012285493, 0.011460692, 0.012514777, 0.012450205, 0.010859329, 0.010663066, 0.010415483, 0.011628023, 0.010647106, 0.010419355, 0.009973317, 0.011144213, 0.010646583, 0.012570825, 0.011924737, 0.013123015, 0.01200485, 0.012786257, 0.012883023, 0.011340528, 0.011858165, 0.03505292, 0.012828191, 0.012783852, 0.011631029, 0.013585213, 0.014363197, 0.011974564, 0.0112664895, 0.011518715, 0.010202919, 0.011047378, 0.012379243, 0.012222963, 0.01384262, 0.0103284605, 0.011349617, 0.011378482, 0.0142768985, 0.011528006, 0.01272873, 0.011396897, 0.011242786, 0.01180721, 0.011436291, 0.01031059, 0.012723566, 0.013101211, 0.011292488, 0.01265522, 0.011361731, 0.010683986, 0.011889325, 0.012534779, 0.0113937, 0.011242401, 0.013145637, 0.01112378, 0.01128444, 0.011999925, 0.01241036, 0.011338875, 0.010908708, 0.0104602575, 0.010592412, 0.012349804, 0.011314648, 0.011316285, 0.010575464, 0.0103190625, 0.011960906, 0.012036054, 0.01077865, 0.0109049855, 0.011246579, 0.01122123, 0.010553138, 0.010897169, 0.013297909, 0.012184405, 0.010919332, 0.010728357, 0.0116727045, 0.012539484, 0.009418724, 0.011780368, 0.010142582, 0.011455832, 0.012113967, 0.011513402, 0.010382145, 0.010794522, 0.010091446, 0.01687296, 0.011458659, 0.013980963, 0.012531509, 0.012133775]\n",
      "2021-02-19 12:26:40,265 : INFO : merging changes from 2000 documents into a model of 3204 documents\n",
      "2021-02-19 12:26:40,268 : INFO : topic #86 (0.009): 0.073*\",\" + 0.042*\"-\" + 0.038*\"algebra\" + 0.035*\"contour\" + 0.030*\"word\" + 0.029*\"program\" + 0.025*\"charact\" + 0.025*\"comput\" + 0.024*\"map\" + 0.021*\"keyboard\"\n",
      "2021-02-19 12:26:40,268 : INFO : topic #12 (0.010): 0.126*\",\" + 0.060*\"-\" + 0.024*\"object\" + 0.022*\"packag\" + 0.021*\"spline\" + 0.017*\"design\" + 0.017*\"cycl\" + 0.014*\"gener\" + 0.012*\"type\" + 0.012*\"plan\"\n",
      "2021-02-19 12:26:40,268 : INFO : topic #28 (0.014): 0.203*\"]\" + 0.079*\"approxim\" + 0.066*\"nonlinear\" + 0.061*\"minim\" + 0.046*\"5\" + 0.030*\",\" + 0.029*\"extract\" + 0.026*\"simultan\" + 0.026*\"fraction\" + 0.024*\"regress\"\n",
      "2021-02-19 12:26:40,269 : INFO : topic #95 (0.017): 0.265*\"[\" + 0.228*\"algorithm\" + 0.181*\"(\" + 0.162*\"])\" + 0.053*\"permut\" + 0.020*\"quadratur\" + 0.018*\"g6\" + 0.012*\"d1\" + 0.011*\"modifi\" + 0.011*\"a1\"\n",
      "2021-02-19 12:26:40,269 : INFO : topic #23 (0.035): 0.388*\"(\" + 0.375*\")\" + 0.194*\"algorithm\" + 0.010*\"surfac\" + 0.008*\"order\" + 0.006*\"-\" + 0.004*\"program\" + 0.003*\"jacobi\" + 0.002*\"definit\" + 0.001*\"product\"\n",
      "2021-02-19 12:26:40,269 : INFO : topic diff=0.337752, rho=0.281696\n",
      "2021-02-19 12:26:40,666 : INFO : -6.491 per-word bound, 89.9 perplexity estimate based on a held-out corpus of 1204 documents with 49783 words\n"
     ]
    },
    {
     "name": "stderr",
     "output_type": "stream",
     "text": [
      "2021-02-19 12:26:40,667 : INFO : PROGRESS: pass 10, at document #3204/3204\n",
      "2021-02-19 12:26:40,942 : INFO : optimized alpha [0.011829741, 0.011625265, 0.012376545, 0.011590985, 0.012667273, 0.012576857, 0.010957061, 0.0107751675, 0.0104566645, 0.011765748, 0.010710005, 0.010495991, 0.0100293355, 0.011243803, 0.01076852, 0.012795607, 0.012090146, 0.013358456, 0.012157622, 0.012944222, 0.013204805, 0.011493025, 0.012076463, 0.037144512, 0.013014127, 0.013029582, 0.011772262, 0.013936225, 0.0147363935, 0.012184586, 0.0112971915, 0.011648103, 0.010310115, 0.011158742, 0.01264167, 0.012401529, 0.014181809, 0.010423299, 0.0114963995, 0.011580609, 0.014482576, 0.01168175, 0.012918875, 0.0115458025, 0.011406827, 0.011886069, 0.011606366, 0.01038034, 0.012906801, 0.013239617, 0.011432591, 0.01287395, 0.011511745, 0.010770305, 0.01197186, 0.012714506, 0.011519908, 0.011375319, 0.013416778, 0.011206042, 0.011395415, 0.012037313, 0.012530799, 0.011488185, 0.011058931, 0.010550036, 0.010702926, 0.012513793, 0.011461398, 0.011462393, 0.010656801, 0.010407493, 0.012113224, 0.012225422, 0.010895826, 0.01096931, 0.011374679, 0.011477716, 0.010670772, 0.010999116, 0.013603752, 0.01231112, 0.01099963, 0.010781648, 0.011836276, 0.012807855, 0.009426879, 0.011954398, 0.010188303, 0.011643972, 0.012250839, 0.011669912, 0.010447884, 0.010939672, 0.010143785, 0.017118236, 0.011635269, 0.014291343, 0.012816027, 0.012331459]\n",
      "2021-02-19 12:26:40,944 : INFO : merging changes from 1204 documents into a model of 3204 documents\n",
      "2021-02-19 12:26:40,948 : INFO : topic #86 (0.009): 0.073*\",\" + 0.043*\"algebra\" + 0.042*\"-\" + 0.041*\"contour\" + 0.030*\"word\" + 0.029*\"program\" + 0.026*\"charact\" + 0.026*\"map\" + 0.025*\"comput\" + 0.021*\"keyboard\"\n",
      "2021-02-19 12:26:40,948 : INFO : topic #12 (0.010): 0.123*\",\" + 0.064*\"-\" + 0.027*\"object\" + 0.023*\"spline\" + 0.022*\"packag\" + 0.021*\"cycl\" + 0.018*\"design\" + 0.015*\"type\" + 0.014*\"gener\" + 0.014*\"plan\"\n",
      "2021-02-19 12:26:40,948 : INFO : topic #28 (0.015): 0.243*\"]\" + 0.077*\"approxim\" + 0.064*\"minim\" + 0.064*\"nonlinear\" + 0.050*\"5\" + 0.028*\"extract\" + 0.027*\",\" + 0.025*\"superior\" + 0.025*\"fraction\" + 0.023*\"regress\"\n",
      "2021-02-19 12:26:40,948 : INFO : topic #95 (0.017): 0.283*\"[\" + 0.229*\"algorithm\" + 0.170*\"(\" + 0.132*\"])\" + 0.065*\"permut\" + 0.021*\"quadratur\" + 0.019*\"g6\" + 0.013*\"d1\" + 0.012*\"modifi\" + 0.012*\"greatest\"\n",
      "2021-02-19 12:26:40,949 : INFO : topic #23 (0.037): 0.394*\"(\" + 0.377*\")\" + 0.186*\"algorithm\" + 0.011*\"surfac\" + 0.009*\"order\" + 0.006*\"-\" + 0.004*\"program\" + 0.002*\"jacobi\" + 0.002*\"definit\" + 0.001*\"terminolog\"\n",
      "2021-02-19 12:26:40,949 : INFO : topic diff=0.341558, rho=0.281696\n",
      "2021-02-19 12:26:40,953 : INFO : PROGRESS: pass 11, at document #2000/3204\n",
      "2021-02-19 12:26:41,280 : INFO : optimized alpha [0.0118628265, 0.011647055, 0.012566057, 0.0116787255, 0.012717572, 0.012675047, 0.010945058, 0.010768949, 0.010486387, 0.011810883, 0.010766925, 0.010529254, 0.010008993, 0.01129717, 0.0108081065, 0.01291472, 0.0121565005, 0.013467271, 0.012221331, 0.013196717, 0.013366177, 0.011522618, 0.0120927505, 0.03931008, 0.013134721, 0.0130362725, 0.01182746, 0.014056914, 0.014725822, 0.012279376, 0.011376625, 0.0117016975, 0.010295223, 0.011221474, 0.01260492, 0.012649073, 0.014343462, 0.010494414, 0.011502499, 0.011570126, 0.0146734025, 0.011691739, 0.012968694, 0.011559315, 0.011449335, 0.01204238, 0.011612223, 0.010438671, 0.013053756, 0.013380071, 0.011526784, 0.012969178, 0.011521471, 0.0107858805, 0.012107383, 0.012802327, 0.011634388, 0.011381897, 0.01366912, 0.011310525, 0.011448749, 0.012212722, 0.012678875, 0.011498833, 0.011055129, 0.01059509, 0.0107272435, 0.012624502, 0.011464563, 0.011492194, 0.010644047, 0.010435011, 0.012136669, 0.012303347, 0.010859949, 0.010997241, 0.011412874, 0.011567328, 0.010671439, 0.01103801, 0.013779306, 0.012434493, 0.011039408, 0.010858209, 0.011794301, 0.01287315, 0.009396194, 0.0119884815, 0.010238139, 0.011694867, 0.012284163, 0.011730169, 0.010444984, 0.010972545, 0.010130429, 0.017602855, 0.011657388, 0.014391694, 0.012780348, 0.012354178]\n",
      "2021-02-19 12:26:41,282 : INFO : merging changes from 2000 documents into a model of 3204 documents\n",
      "2021-02-19 12:26:41,285 : INFO : topic #86 (0.009): 0.072*\",\" + 0.042*\"-\" + 0.039*\"algebra\" + 0.037*\"contour\" + 0.032*\"word\" + 0.029*\"program\" + 0.027*\"charact\" + 0.027*\"map\" + 0.026*\"comput\" + 0.021*\"keyboard\"\n",
      "2021-02-19 12:26:41,286 : INFO : topic #12 (0.010): 0.127*\",\" + 0.062*\"-\" + 0.025*\"object\" + 0.023*\"packag\" + 0.022*\"spline\" + 0.019*\"cycl\" + 0.018*\"design\" + 0.014*\"gener\" + 0.013*\"type\" + 0.013*\"plan\"\n",
      "2021-02-19 12:26:41,286 : INFO : topic #28 (0.015): 0.208*\"]\" + 0.081*\"approxim\" + 0.067*\"nonlinear\" + 0.062*\"minim\" + 0.047*\"5\" + 0.032*\"extract\" + 0.029*\",\" + 0.027*\"simultan\" + 0.026*\"fraction\" + 0.025*\"regress\"\n",
      "2021-02-19 12:26:41,286 : INFO : topic #95 (0.018): 0.267*\"[\" + 0.225*\"algorithm\" + 0.183*\"(\" + 0.161*\"])\" + 0.053*\"permut\" + 0.020*\"quadratur\" + 0.018*\"g6\" + 0.013*\"d1\" + 0.011*\"a1\" + 0.011*\"modifi\"\n",
      "2021-02-19 12:26:41,287 : INFO : topic #23 (0.039): 0.392*\"(\" + 0.377*\")\" + 0.192*\"algorithm\" + 0.009*\"surfac\" + 0.009*\"order\" + 0.006*\"-\" + 0.004*\"program\" + 0.003*\"jacobi\" + 0.001*\"definit\" + 0.001*\"terminolog\"\n",
      "2021-02-19 12:26:41,287 : INFO : topic diff=0.297150, rho=0.271143\n",
      "2021-02-19 12:26:41,686 : INFO : -6.479 per-word bound, 89.2 perplexity estimate based on a held-out corpus of 1204 documents with 49783 words\n",
      "2021-02-19 12:26:41,687 : INFO : PROGRESS: pass 11, at document #3204/3204\n",
      "2021-02-19 12:26:41,954 : INFO : optimized alpha [0.012091871, 0.011751836, 0.012662326, 0.011800035, 0.012871573, 0.01279493, 0.011050031, 0.010875413, 0.010526524, 0.011939392, 0.0108255185, 0.010610822, 0.010068249, 0.011393786, 0.01093888, 0.013137592, 0.01231466, 0.013697016, 0.012372683, 0.013359072, 0.013710609, 0.011676185, 0.012305556, 0.041467406, 0.013312718, 0.013275939, 0.011967424, 0.014446828, 0.015090931, 0.012484342, 0.011406276, 0.011832584, 0.010401751, 0.011345079, 0.012852244, 0.012840442, 0.014690012, 0.010598372, 0.011645215, 0.01176451, 0.014866731, 0.011843867, 0.01315063, 0.011717188, 0.011614177, 0.012129246, 0.0117855575, 0.010515786, 0.013235066, 0.013517168, 0.011660463, 0.013191387, 0.011675246, 0.010872126, 0.01219528, 0.012971264, 0.011759542, 0.011513504, 0.013947723, 0.011390195, 0.011564157, 0.0122481445, 0.01279833, 0.011646582, 0.011196263, 0.010687037, 0.010837067, 0.012798497, 0.011604607, 0.011631636, 0.010727875, 0.010544225, 0.012284641, 0.012501862, 0.010978644, 0.011054759, 0.011550418, 0.011819377, 0.010802715, 0.011141954, 0.014085954, 0.012568619, 0.011112311, 0.010907271, 0.011958487, 0.013144559, 0.0094028255, 0.012152433, 0.010280212, 0.011875707, 0.012411482, 0.011887999, 0.010513764, 0.011121251, 0.010181511, 0.01783989, 0.011826731, 0.014705545, 0.013066918, 0.012543892]\n",
      "2021-02-19 12:26:41,957 : INFO : merging changes from 1204 documents into a model of 3204 documents\n",
      "2021-02-19 12:26:41,960 : INFO : topic #86 (0.009): 0.072*\",\" + 0.043*\"algebra\" + 0.043*\"contour\" + 0.042*\"-\" + 0.031*\"word\" + 0.029*\"program\" + 0.028*\"map\" + 0.027*\"charact\" + 0.026*\"comput\" + 0.021*\"keyboard\"\n",
      "2021-02-19 12:26:41,960 : INFO : topic #12 (0.010): 0.124*\",\" + 0.066*\"-\" + 0.029*\"object\" + 0.023*\"spline\" + 0.022*\"packag\" + 0.021*\"cycl\" + 0.018*\"design\" + 0.015*\"type\" + 0.014*\"gener\" + 0.014*\"plan\"\n",
      "2021-02-19 12:26:41,961 : INFO : topic #28 (0.015): 0.246*\"]\" + 0.081*\"approxim\" + 0.065*\"nonlinear\" + 0.064*\"minim\" + 0.051*\"5\" + 0.029*\"extract\" + 0.026*\"superior\" + 0.026*\",\" + 0.026*\"fraction\" + 0.023*\"regress\"\n",
      "2021-02-19 12:26:41,961 : INFO : topic #95 (0.018): 0.285*\"[\" + 0.226*\"algorithm\" + 0.172*\"(\" + 0.133*\"])\" + 0.064*\"permut\" + 0.021*\"quadratur\" + 0.019*\"g6\" + 0.013*\"d1\" + 0.012*\"greatest\" + 0.012*\"modifi\"\n",
      "2021-02-19 12:26:41,961 : INFO : topic #23 (0.041): 0.397*\"(\" + 0.379*\")\" + 0.185*\"algorithm\" + 0.009*\"surfac\" + 0.009*\"order\" + 0.006*\"-\" + 0.004*\"program\" + 0.002*\"jacobi\" + 0.001*\"definit\" + 0.001*\"terminolog\"\n",
      "2021-02-19 12:26:41,962 : INFO : topic diff=0.302216, rho=0.271143\n",
      "2021-02-19 12:26:41,965 : INFO : PROGRESS: pass 12, at document #2000/3204\n",
      "2021-02-19 12:26:42,296 : INFO : optimized alpha [0.012128179, 0.011773133, 0.012848263, 0.011880972, 0.012923883, 0.012892406, 0.011038555, 0.010870912, 0.010555691, 0.011987939, 0.010878188, 0.01064746, 0.010055735, 0.011444273, 0.010987403, 0.013260834, 0.012385545, 0.013802849, 0.012439513, 0.013613453, 0.013888775, 0.011709388, 0.01231913, 0.043714277, 0.013432066, 0.013283215, 0.012025739, 0.014565929, 0.01508828, 0.012588037, 0.011482275, 0.011884687, 0.010388773, 0.011413746, 0.012812023, 0.013093577, 0.014857803, 0.010677495, 0.01165404, 0.011753758, 0.015053494, 0.011850288, 0.013196907, 0.011726984, 0.011656823, 0.012285469, 0.01179551, 0.010578213, 0.013382248, 0.013661298, 0.011755476, 0.013290854, 0.011684511, 0.01088743, 0.0123308925, 0.013056705, 0.011875996, 0.011519829, 0.014200701, 0.011501157, 0.011613016, 0.012426059, 0.012944831, 0.011661357, 0.011195282, 0.010730985, 0.010865033, 0.012908223, 0.011604464, 0.011671169, 0.010715841, 0.010575108, 0.012308867, 0.012579132, 0.010942589, 0.011085074, 0.011587454, 0.0119051365, 0.010809008, 0.011179776, 0.014252575, 0.012685671, 0.011152626, 0.010983381, 0.011919208, 0.01320752, 0.009374122, 0.01218528, 0.010334253, 0.011932818, 0.012447126, 0.011952812, 0.010514149, 0.011151563, 0.010171786, 0.018330578, 0.011852572, 0.014804486, 0.013030881, 0.012568858]\n"
     ]
    },
    {
     "name": "stderr",
     "output_type": "stream",
     "text": [
      "2021-02-19 12:26:42,298 : INFO : merging changes from 2000 documents into a model of 3204 documents\n",
      "2021-02-19 12:26:42,301 : INFO : topic #86 (0.009): 0.072*\",\" + 0.042*\"-\" + 0.039*\"algebra\" + 0.039*\"contour\" + 0.033*\"word\" + 0.028*\"program\" + 0.028*\"charact\" + 0.027*\"comput\" + 0.027*\"map\" + 0.022*\"keyboard\"\n",
      "2021-02-19 12:26:42,302 : INFO : topic #12 (0.010): 0.128*\",\" + 0.065*\"-\" + 0.027*\"object\" + 0.024*\"packag\" + 0.022*\"spline\" + 0.021*\"cycl\" + 0.018*\"design\" + 0.014*\"gener\" + 0.013*\"plan\" + 0.013*\"type\"\n",
      "2021-02-19 12:26:42,302 : INFO : topic #28 (0.015): 0.212*\"]\" + 0.085*\"approxim\" + 0.068*\"nonlinear\" + 0.062*\"minim\" + 0.048*\"5\" + 0.033*\"extract\" + 0.029*\"simultan\" + 0.028*\",\" + 0.027*\"fraction\" + 0.025*\"regress\"\n",
      "2021-02-19 12:26:42,302 : INFO : topic #95 (0.018): 0.269*\"[\" + 0.223*\"algorithm\" + 0.184*\"(\" + 0.161*\"])\" + 0.053*\"permut\" + 0.020*\"quadratur\" + 0.018*\"g6\" + 0.013*\"d1\" + 0.011*\"a1\" + 0.010*\"modifi\"\n",
      "2021-02-19 12:26:42,302 : INFO : topic #23 (0.044): 0.395*\"(\" + 0.380*\")\" + 0.190*\"algorithm\" + 0.009*\"order\" + 0.008*\"surfac\" + 0.006*\"-\" + 0.003*\"program\" + 0.003*\"jacobi\" + 0.001*\"definit\" + 0.001*\"terminolog\"\n",
      "2021-02-19 12:26:42,303 : INFO : topic diff=0.263733, rho=0.261694\n",
      "2021-02-19 12:26:42,695 : INFO : -6.469 per-word bound, 88.6 perplexity estimate based on a held-out corpus of 1204 documents with 49783 words\n",
      "2021-02-19 12:26:42,695 : INFO : PROGRESS: pass 12, at document #3204/3204\n",
      "2021-02-19 12:26:42,962 : INFO : optimized alpha [0.012363285, 0.011875117, 0.012947032, 0.012001689, 0.013079674, 0.013014586, 0.011138395, 0.010979344, 0.010594909, 0.012107727, 0.010937481, 0.010733834, 0.010117943, 0.011545692, 0.011107688, 0.013479227, 0.012548002, 0.014027343, 0.012587076, 0.013777662, 0.014250843, 0.011861687, 0.01253795, 0.045919336, 0.013614431, 0.013511453, 0.012164765, 0.014960871, 0.0154460985, 0.012791457, 0.011513589, 0.012019915, 0.010487903, 0.011534226, 0.013039424, 0.013289543, 0.015202689, 0.010781148, 0.011790615, 0.01194617, 0.015241659, 0.011993421, 0.013371429, 0.01189114, 0.011822847, 0.012369488, 0.011964717, 0.01065785, 0.013562063, 0.013794395, 0.011885754, 0.013514141, 0.011831893, 0.010976179, 0.012418807, 0.013221388, 0.011995229, 0.011650491, 0.014484128, 0.011580947, 0.011727898, 0.012465011, 0.013060814, 0.0118053565, 0.0113402475, 0.010834562, 0.010976859, 0.013106637, 0.011740895, 0.011812197, 0.010797495, 0.010700079, 0.012460996, 0.012781443, 0.011058145, 0.0111459205, 0.011726599, 0.012173954, 0.010927539, 0.011288279, 0.014560526, 0.012816176, 0.011218752, 0.011033387, 0.012076527, 0.013473917, 0.009387541, 0.012361001, 0.010386662, 0.012117485, 0.01257651, 0.012117544, 0.010583538, 0.011301553, 0.010230717, 0.018559594, 0.012020523, 0.015112405, 0.013302735, 0.01276228]\n",
      "2021-02-19 12:26:42,965 : INFO : merging changes from 1204 documents into a model of 3204 documents\n",
      "2021-02-19 12:26:42,968 : INFO : topic #86 (0.009): 0.072*\",\" + 0.044*\"contour\" + 0.043*\"algebra\" + 0.042*\"-\" + 0.033*\"word\" + 0.028*\"program\" + 0.028*\"map\" + 0.028*\"charact\" + 0.027*\"comput\" + 0.022*\"keyboard\"\n",
      "2021-02-19 12:26:42,968 : INFO : topic #12 (0.010): 0.125*\",\" + 0.067*\"-\" + 0.031*\"object\" + 0.023*\"cycl\" + 0.023*\"spline\" + 0.023*\"packag\" + 0.019*\"design\" + 0.014*\"gener\" + 0.014*\"plan\" + 0.014*\"type\"\n",
      "2021-02-19 12:26:42,968 : INFO : topic #28 (0.015): 0.249*\"]\" + 0.084*\"approxim\" + 0.066*\"nonlinear\" + 0.062*\"minim\" + 0.051*\"5\" + 0.029*\"extract\" + 0.027*\"superior\" + 0.026*\"fraction\" + 0.025*\",\" + 0.024*\"regress\"\n",
      "2021-02-19 12:26:42,969 : INFO : topic #95 (0.019): 0.287*\"[\" + 0.223*\"algorithm\" + 0.174*\"(\" + 0.133*\"])\" + 0.064*\"permut\" + 0.021*\"quadratur\" + 0.019*\"g6\" + 0.013*\"d1\" + 0.012*\"greatest\" + 0.012*\"modifi\"\n",
      "2021-02-19 12:26:42,969 : INFO : topic #23 (0.046): 0.400*\"(\" + 0.381*\")\" + 0.184*\"algorithm\" + 0.009*\"order\" + 0.008*\"surfac\" + 0.006*\"-\" + 0.003*\"program\" + 0.002*\"jacobi\" + 0.001*\"definit\" + 0.001*\"terminolog\"\n",
      "2021-02-19 12:26:42,969 : INFO : topic diff=0.269368, rho=0.261694\n",
      "2021-02-19 12:26:42,973 : INFO : PROGRESS: pass 13, at document #2000/3204\n",
      "2021-02-19 12:26:43,302 : INFO : optimized alpha [0.012402856, 0.011897446, 0.013128107, 0.012085245, 0.013132156, 0.013114774, 0.011128868, 0.0109764645, 0.010623629, 0.012153504, 0.010990377, 0.01077783, 0.010108737, 0.011596389, 0.011157827, 0.013598183, 0.012615446, 0.014128694, 0.01264895, 0.014025509, 0.014435382, 0.01189535, 0.012553588, 0.048231654, 0.013731049, 0.013522941, 0.012224653, 0.015074647, 0.015437521, 0.012904113, 0.011587894, 0.012075187, 0.010475434, 0.011605583, 0.01300958, 0.013550399, 0.01539608, 0.01085715, 0.011797566, 0.01194128, 0.015418888, 0.012007244, 0.0134230135, 0.011897359, 0.01186875, 0.0125242565, 0.0119740395, 0.010724258, 0.013709717, 0.013935456, 0.011981647, 0.013614576, 0.011846829, 0.010991183, 0.012553248, 0.013308046, 0.01210773, 0.011659473, 0.014732649, 0.011695453, 0.011778514, 0.01264417, 0.01320767, 0.011814977, 0.0113420775, 0.010884293, 0.011005566, 0.013220507, 0.011743663, 0.011853594, 0.010786112, 0.010743665, 0.012482776, 0.012855006, 0.011024735, 0.011175696, 0.011765573, 0.012266845, 0.01093501, 0.011329431, 0.014723913, 0.01292579, 0.011256811, 0.011107839, 0.012038216, 0.013538071, 0.009360553, 0.012392624, 0.010443521, 0.012174485, 0.012611125, 0.01219484, 0.010582817, 0.011339491, 0.010219105, 0.019040495, 0.012048511, 0.015210221, 0.013268029, 0.01278941]\n",
      "2021-02-19 12:26:43,305 : INFO : merging changes from 2000 documents into a model of 3204 documents\n",
      "2021-02-19 12:26:43,308 : INFO : topic #86 (0.009): 0.071*\",\" + 0.042*\"-\" + 0.040*\"contour\" + 0.039*\"algebra\" + 0.035*\"word\" + 0.029*\"charact\" + 0.028*\"comput\" + 0.027*\"map\" + 0.027*\"program\" + 0.023*\"keyboard\"\n",
      "2021-02-19 12:26:43,308 : INFO : topic #12 (0.010): 0.129*\",\" + 0.066*\"-\" + 0.029*\"object\" + 0.024*\"packag\" + 0.022*\"cycl\" + 0.022*\"spline\" + 0.019*\"design\" + 0.015*\"gener\" + 0.013*\"plan\" + 0.012*\"type\"\n",
      "2021-02-19 12:26:43,308 : INFO : topic #40 (0.015): 0.185*\"solut\" + 0.160*\"equat\" + 0.112*\"problem\" + 0.068*\"numer\" + 0.066*\"-\" + 0.065*\"method\" + 0.062*\"differenti\" + 0.040*\"linear\" + 0.028*\"integr\" + 0.026*\"ordinari\"\n",
      "2021-02-19 12:26:43,308 : INFO : topic #95 (0.019): 0.271*\"[\" + 0.221*\"algorithm\" + 0.185*\"(\" + 0.160*\"])\" + 0.053*\"permut\" + 0.020*\"quadratur\" + 0.018*\"g6\" + 0.013*\"d1\" + 0.011*\"a1\" + 0.010*\"modifi\"\n",
      "2021-02-19 12:26:43,309 : INFO : topic #23 (0.048): 0.397*\"(\" + 0.381*\")\" + 0.190*\"algorithm\" + 0.009*\"order\" + 0.006*\"surfac\" + 0.006*\"-\" + 0.003*\"program\" + 0.003*\"jacobi\" + 0.001*\"definit\" + 0.000*\"terminolog\"\n",
      "2021-02-19 12:26:43,309 : INFO : topic diff=0.235590, rho=0.253169\n",
      "2021-02-19 12:26:43,702 : INFO : -6.460 per-word bound, 88.1 perplexity estimate based on a held-out corpus of 1204 documents with 49783 words\n",
      "2021-02-19 12:26:43,702 : INFO : PROGRESS: pass 13, at document #3204/3204\n",
      "2021-02-19 12:26:43,968 : INFO : optimized alpha [0.012633724, 0.011994384, 0.013218349, 0.012205603, 0.013290026, 0.0132338, 0.011235765, 0.011080009, 0.01066201, 0.012283307, 0.0110412175, 0.010866582, 0.010171714, 0.011695262, 0.0112776505, 0.013824009, 0.012776935, 0.014345547, 0.012790347, 0.014191698, 0.014818918, 0.0120416945, 0.012767982, 0.050422456, 0.013903456, 0.0137463305, 0.012365574, 0.015484741, 0.015792059, 0.013122658, 0.011618408, 0.012207233, 0.010578811, 0.011725802, 0.013237662, 0.013756858, 0.01573351, 0.010965242, 0.011933394, 0.012129603, 0.015608865, 0.012136774, 0.013601822, 0.0120577905, 0.012031219, 0.012605734, 0.012139576, 0.010808672, 0.013896942, 0.014064901, 0.012108854, 0.013833503, 0.011995835, 0.011080077, 0.012635945, 0.013468868, 0.012236638, 0.011791905, 0.015014947, 0.011782865, 0.011888115, 0.01268397, 0.013317697, 0.011950559, 0.011488523, 0.010983149, 0.011128713, 0.013417802, 0.0118793985, 0.011986316, 0.010868105, 0.010886163, 0.012634002, 0.013058637, 0.011132822, 0.011237406, 0.011909113, 0.012550482, 0.01106227, 0.011442438, 0.015030414, 0.013047569, 0.011328316, 0.011154115, 0.012194379, 0.013796914, 0.009378256, 0.0125618875, 0.010494541, 0.012352867, 0.012737329, 0.012366615, 0.010655185, 0.011486206, 0.010278929, 0.019257786, 0.01220757, 0.015512784, 0.013537331, 0.012986723]\n",
      "2021-02-19 12:26:43,971 : INFO : merging changes from 1204 documents into a model of 3204 documents\n"
     ]
    },
    {
     "name": "stderr",
     "output_type": "stream",
     "text": [
      "2021-02-19 12:26:43,973 : INFO : topic #86 (0.009): 0.072*\",\" + 0.044*\"contour\" + 0.044*\"algebra\" + 0.042*\"-\" + 0.035*\"word\" + 0.029*\"charact\" + 0.028*\"map\" + 0.028*\"comput\" + 0.027*\"program\" + 0.023*\"keyboard\"\n",
      "2021-02-19 12:26:43,974 : INFO : topic #12 (0.010): 0.126*\",\" + 0.069*\"-\" + 0.033*\"object\" + 0.024*\"cycl\" + 0.023*\"packag\" + 0.023*\"spline\" + 0.020*\"design\" + 0.014*\"gener\" + 0.014*\"plan\" + 0.013*\"type\"\n",
      "2021-02-19 12:26:43,974 : INFO : topic #28 (0.016): 0.250*\"]\" + 0.086*\"approxim\" + 0.066*\"nonlinear\" + 0.062*\"minim\" + 0.051*\"5\" + 0.030*\"extract\" + 0.027*\"superior\" + 0.026*\"fraction\" + 0.024*\"simultan\" + 0.024*\",\"\n",
      "2021-02-19 12:26:43,974 : INFO : topic #95 (0.019): 0.288*\"[\" + 0.221*\"algorithm\" + 0.175*\"(\" + 0.134*\"])\" + 0.064*\"permut\" + 0.021*\"quadratur\" + 0.019*\"g6\" + 0.013*\"d1\" + 0.012*\"greatest\" + 0.011*\"a1\"\n",
      "2021-02-19 12:26:43,975 : INFO : topic #23 (0.050): 0.402*\"(\" + 0.383*\")\" + 0.183*\"algorithm\" + 0.009*\"order\" + 0.006*\"-\" + 0.006*\"surfac\" + 0.003*\"program\" + 0.002*\"jacobi\" + 0.000*\"definit\" + 0.000*\"terminolog\"\n",
      "2021-02-19 12:26:43,975 : INFO : topic diff=0.241608, rho=0.253169\n",
      "2021-02-19 12:26:43,979 : INFO : PROGRESS: pass 14, at document #2000/3204\n",
      "2021-02-19 12:26:44,309 : INFO : optimized alpha [0.012676399, 0.012014794, 0.013406313, 0.012285865, 0.013341181, 0.013333471, 0.011228015, 0.01107863, 0.010688986, 0.012324839, 0.011093027, 0.010915019, 0.010163103, 0.011744834, 0.011330828, 0.013950799, 0.012847338, 0.0144496765, 0.012852247, 0.014445594, 0.01501558, 0.012074376, 0.012782604, 0.052759513, 0.0140226735, 0.0137551315, 0.012427041, 0.015608533, 0.015783563, 0.01323788, 0.011689766, 0.01226116, 0.010568029, 0.011801505, 0.013204451, 0.014020893, 0.015923912, 0.011049111, 0.011941513, 0.012122802, 0.01578291, 0.012141127, 0.013645107, 0.01206653, 0.012074349, 0.01275778, 0.012148345, 0.010876387, 0.014041935, 0.014203202, 0.012207271, 0.013943536, 0.012014668, 0.011096192, 0.012774074, 0.013556846, 0.012348455, 0.011806437, 0.015264589, 0.011903959, 0.011936106, 0.012858407, 0.013461885, 0.011962895, 0.01149294, 0.011031825, 0.0111608105, 0.013526003, 0.0118820155, 0.012029649, 0.010859935, 0.010939306, 0.012653511, 0.0131350495, 0.011099098, 0.01126671, 0.011950037, 0.012642877, 0.011072267, 0.01148822, 0.015188964, 0.013146893, 0.0113642225, 0.011228417, 0.0121629555, 0.013857268, 0.009353927, 0.012590901, 0.010545047, 0.012416059, 0.0127726365, 0.012440624, 0.01065612, 0.01152876, 0.01026925, 0.019740637, 0.012243763, 0.015601973, 0.013502272, 0.013014313]\n",
      "2021-02-19 12:26:44,312 : INFO : merging changes from 2000 documents into a model of 3204 documents\n",
      "2021-02-19 12:26:44,315 : INFO : topic #86 (0.009): 0.071*\",\" + 0.042*\"-\" + 0.041*\"contour\" + 0.040*\"algebra\" + 0.036*\"word\" + 0.031*\"charact\" + 0.029*\"comput\" + 0.028*\"map\" + 0.026*\"program\" + 0.024*\"keyboard\"\n",
      "2021-02-19 12:26:44,315 : INFO : topic #12 (0.010): 0.130*\",\" + 0.067*\"-\" + 0.031*\"object\" + 0.025*\"packag\" + 0.023*\"cycl\" + 0.022*\"spline\" + 0.020*\"design\" + 0.014*\"gener\" + 0.013*\"plan\" + 0.012*\"vertic\"\n",
      "2021-02-19 12:26:44,315 : INFO : topic #36 (0.016): 0.365*\"data\" + 0.153*\"process\" + 0.127*\"base\" + 0.095*\"parallel\" + 0.042*\"combin\" + 0.038*\"collect\" + 0.028*\"synchron\" + 0.019*\"assum\" + 0.014*\"system\" + 0.014*\"analysi\"\n",
      "2021-02-19 12:26:44,315 : INFO : topic #95 (0.020): 0.272*\"[\" + 0.221*\"algorithm\" + 0.185*\"(\" + 0.160*\"])\" + 0.054*\"permut\" + 0.020*\"quadratur\" + 0.018*\"g6\" + 0.013*\"d1\" + 0.011*\"a1\" + 0.010*\"modifi\"\n",
      "2021-02-19 12:26:44,316 : INFO : topic #23 (0.053): 0.399*\"(\" + 0.383*\")\" + 0.188*\"algorithm\" + 0.009*\"order\" + 0.006*\"-\" + 0.005*\"surfac\" + 0.003*\"jacobi\" + 0.002*\"program\" + 0.000*\"definit\" + 0.000*\"terminolog\"\n",
      "2021-02-19 12:26:44,316 : INFO : topic diff=0.212620, rho=0.245426\n",
      "2021-02-19 12:26:44,709 : INFO : -6.451 per-word bound, 87.5 perplexity estimate based on a held-out corpus of 1204 documents with 49783 words\n",
      "2021-02-19 12:26:44,710 : INFO : PROGRESS: pass 14, at document #3204/3204\n",
      "2021-02-19 12:26:44,975 : INFO : optimized alpha [0.012913939, 0.012107088, 0.013493885, 0.012405996, 0.0134930005, 0.013457771, 0.01133481, 0.011188986, 0.010726618, 0.012454308, 0.011147192, 0.011008441, 0.010222653, 0.011839007, 0.011448096, 0.014161409, 0.013000293, 0.014662375, 0.012996003, 0.014625906, 0.015409278, 0.012220135, 0.012992957, 0.054927737, 0.014194192, 0.013965707, 0.012564911, 0.016034469, 0.016128935, 0.0134662865, 0.011721933, 0.012390287, 0.010666976, 0.011924067, 0.013428051, 0.014235554, 0.016263863, 0.011166273, 0.01206949, 0.012304919, 0.015971657, 0.012270296, 0.013822838, 0.012221101, 0.012233569, 0.012842114, 0.0123254405, 0.0109654805, 0.014225438, 0.014337998, 0.012336634, 0.014164258, 0.012163052, 0.011185297, 0.012859728, 0.013719784, 0.01247454, 0.011938415, 0.015552374, 0.011996504, 0.012043172, 0.012896535, 0.013574568, 0.012105521, 0.011641031, 0.011130799, 0.011281412, 0.013739276, 0.012012364, 0.0121643655, 0.010940074, 0.011083491, 0.0128039755, 0.013345687, 0.011211602, 0.011331732, 0.012080832, 0.012931402, 0.011201376, 0.011603406, 0.015503474, 0.013265758, 0.011431815, 0.0112781245, 0.012310671, 0.014120413, 0.009369821, 0.012756723, 0.010594915, 0.012593727, 0.012898565, 0.012614311, 0.010724726, 0.011681957, 0.010332019, 0.019946305, 0.012407282, 0.015896436, 0.0137638, 0.013205159]\n",
      "2021-02-19 12:26:44,977 : INFO : merging changes from 1204 documents into a model of 3204 documents\n",
      "2021-02-19 12:26:44,980 : INFO : topic #86 (0.009): 0.072*\",\" + 0.045*\"contour\" + 0.044*\"algebra\" + 0.043*\"-\" + 0.035*\"word\" + 0.031*\"charact\" + 0.028*\"map\" + 0.028*\"comput\" + 0.026*\"program\" + 0.024*\"keyboard\"\n",
      "2021-02-19 12:26:44,981 : INFO : topic #12 (0.010): 0.127*\",\" + 0.070*\"-\" + 0.034*\"object\" + 0.025*\"cycl\" + 0.024*\"packag\" + 0.023*\"spline\" + 0.022*\"design\" + 0.014*\"plan\" + 0.014*\"gener\" + 0.013*\"vertic\"\n",
      "2021-02-19 12:26:44,981 : INFO : topic #36 (0.016): 0.366*\"data\" + 0.146*\"process\" + 0.131*\"base\" + 0.096*\"parallel\" + 0.043*\"combin\" + 0.040*\"collect\" + 0.031*\"synchron\" + 0.019*\"assum\" + 0.014*\"system\" + 0.014*\"analysi\"\n",
      "2021-02-19 12:26:44,981 : INFO : topic #95 (0.020): 0.288*\"[\" + 0.219*\"algorithm\" + 0.176*\"(\" + 0.135*\"])\" + 0.064*\"permut\" + 0.021*\"quadratur\" + 0.019*\"g6\" + 0.014*\"d1\" + 0.012*\"greatest\" + 0.011*\"a1\"\n",
      "2021-02-19 12:26:44,981 : INFO : topic #23 (0.055): 0.404*\"(\" + 0.385*\")\" + 0.181*\"algorithm\" + 0.009*\"order\" + 0.006*\"-\" + 0.005*\"surfac\" + 0.002*\"program\" + 0.002*\"jacobi\" + 0.000*\"definit\" + 0.000*\"terminolog\"\n",
      "2021-02-19 12:26:44,982 : INFO : topic diff=0.218077, rho=0.245426\n",
      "2021-02-19 12:26:44,986 : INFO : PROGRESS: pass 15, at document #2000/3204\n",
      "2021-02-19 12:26:45,309 : INFO : optimized alpha [0.012956663, 0.012127189, 0.013671021, 0.012484639, 0.013542949, 0.013558716, 0.011327342, 0.01119166, 0.01075455, 0.012496414, 0.011198014, 0.011057265, 0.010217055, 0.011887538, 0.011501516, 0.0142911, 0.0130691165, 0.014760733, 0.01305809, 0.014874091, 0.015618475, 0.01225632, 0.013008226, 0.05730375, 0.014307801, 0.0139720095, 0.012624952, 0.01616092, 0.016118739, 0.013593841, 0.0117933275, 0.0124444, 0.01065911, 0.012004055, 0.013398098, 0.014496199, 0.016459245, 0.011242003, 0.012078832, 0.012294921, 0.016138863, 0.012281854, 0.013868135, 0.012226403, 0.012275582, 0.01298865, 0.012338057, 0.011031847, 0.014371293, 0.014475453, 0.012439116, 0.014268632, 0.012182743, 0.011205152, 0.013000111, 0.013810757, 0.012588777, 0.011951045, 0.015801564, 0.012114099, 0.012093017, 0.013069691, 0.013717868, 0.012117338, 0.011647926, 0.011179849, 0.011311459, 0.013851977, 0.012016257, 0.012209597, 0.010932378, 0.011140671, 0.012824378, 0.013421917, 0.011182918, 0.0113592185, 0.0121207535, 0.013026508, 0.011216331, 0.0116481725, 0.015666649, 0.013370982, 0.011468479, 0.01134966, 0.01227843, 0.014183945, 0.009350232, 0.012786318, 0.01064195, 0.012653914, 0.012936183, 0.012695962, 0.01072981, 0.0117261885, 0.01032291, 0.020424135, 0.012436453, 0.015988706, 0.013726773, 0.013236454]\n",
      "2021-02-19 12:26:45,312 : INFO : merging changes from 2000 documents into a model of 3204 documents\n",
      "2021-02-19 12:26:45,314 : INFO : topic #86 (0.009): 0.071*\",\" + 0.043*\"-\" + 0.041*\"contour\" + 0.041*\"algebra\" + 0.037*\"word\" + 0.032*\"charact\" + 0.029*\"comput\" + 0.028*\"map\" + 0.025*\"program\" + 0.024*\"keyboard\"\n"
     ]
    },
    {
     "name": "stderr",
     "output_type": "stream",
     "text": [
      "2021-02-19 12:26:45,315 : INFO : topic #12 (0.010): 0.131*\",\" + 0.068*\"-\" + 0.032*\"object\" + 0.025*\"packag\" + 0.024*\"cycl\" + 0.022*\"spline\" + 0.022*\"design\" + 0.014*\"gener\" + 0.014*\"plan\" + 0.012*\"vertic\"\n",
      "2021-02-19 12:26:45,315 : INFO : topic #36 (0.016): 0.370*\"data\" + 0.156*\"process\" + 0.125*\"base\" + 0.093*\"parallel\" + 0.042*\"combin\" + 0.039*\"collect\" + 0.028*\"synchron\" + 0.018*\"assum\" + 0.014*\"system\" + 0.014*\"analysi\"\n",
      "2021-02-19 12:26:45,315 : INFO : topic #95 (0.020): 0.273*\"[\" + 0.219*\"algorithm\" + 0.186*\"(\" + 0.159*\"])\" + 0.054*\"permut\" + 0.020*\"quadratur\" + 0.018*\"g6\" + 0.013*\"d1\" + 0.012*\"a1\" + 0.010*\"modifi\"\n",
      "2021-02-19 12:26:45,316 : INFO : topic #23 (0.057): 0.401*\"(\" + 0.384*\")\" + 0.187*\"algorithm\" + 0.009*\"order\" + 0.006*\"-\" + 0.004*\"surfac\" + 0.003*\"jacobi\" + 0.002*\"program\" + 0.000*\"definit\" + 0.000*\"terminolog\"\n",
      "2021-02-19 12:26:45,316 : INFO : topic diff=0.193409, rho=0.238352\n",
      "2021-02-19 12:26:45,700 : INFO : -6.443 per-word bound, 87.0 perplexity estimate based on a held-out corpus of 1204 documents with 49783 words\n",
      "2021-02-19 12:26:45,701 : INFO : PROGRESS: pass 15, at document #3204/3204\n",
      "2021-02-19 12:26:45,961 : INFO : optimized alpha [0.013196046, 0.012219925, 0.013753405, 0.01260227, 0.013688857, 0.013680261, 0.011429707, 0.011304237, 0.010791523, 0.012618259, 0.011250955, 0.011159652, 0.010283646, 0.011982031, 0.011618767, 0.014495497, 0.013226827, 0.014963703, 0.013204198, 0.015056937, 0.016035357, 0.01239923, 0.013214913, 0.05946048, 0.014478757, 0.014181348, 0.012767569, 0.016587287, 0.016458586, 0.0138190305, 0.011824723, 0.01257328, 0.010760272, 0.012133776, 0.013609613, 0.014710584, 0.016795188, 0.011363533, 0.012204222, 0.012471178, 0.01632026, 0.012408457, 0.014039672, 0.0123827215, 0.0124318125, 0.013070706, 0.012511963, 0.011123473, 0.014554132, 0.014610032, 0.012568302, 0.014488596, 0.012335566, 0.011292422, 0.013083505, 0.013970355, 0.012719757, 0.012085043, 0.016095031, 0.012209401, 0.012190611, 0.013106203, 0.01382236, 0.012257124, 0.011805002, 0.011279021, 0.011427426, 0.014078831, 0.012148685, 0.012339197, 0.011010837, 0.011293346, 0.012971841, 0.013626462, 0.011297534, 0.011422922, 0.012253796, 0.013320296, 0.011336239, 0.011758695, 0.015986716, 0.013487158, 0.011539161, 0.011393664, 0.012423156, 0.014451845, 0.009366271, 0.012948924, 0.010695034, 0.012838758, 0.01305683, 0.012866696, 0.010797008, 0.011876584, 0.0103802895, 0.020614335, 0.012589518, 0.016301181, 0.013972859, 0.013426465]\n",
      "2021-02-19 12:26:45,964 : INFO : merging changes from 1204 documents into a model of 3204 documents\n",
      "2021-02-19 12:26:45,967 : INFO : topic #86 (0.009): 0.072*\",\" + 0.045*\"contour\" + 0.045*\"algebra\" + 0.043*\"-\" + 0.035*\"word\" + 0.032*\"charact\" + 0.029*\"comput\" + 0.028*\"map\" + 0.025*\"program\" + 0.024*\"keyboard\"\n",
      "2021-02-19 12:26:45,967 : INFO : topic #12 (0.010): 0.128*\",\" + 0.071*\"-\" + 0.036*\"object\" + 0.025*\"cycl\" + 0.024*\"packag\" + 0.023*\"spline\" + 0.023*\"design\" + 0.014*\"plan\" + 0.014*\"gener\" + 0.014*\"vertic\"\n",
      "2021-02-19 12:26:45,968 : INFO : topic #36 (0.017): 0.374*\"data\" + 0.148*\"process\" + 0.129*\"base\" + 0.094*\"parallel\" + 0.043*\"combin\" + 0.041*\"collect\" + 0.031*\"synchron\" + 0.016*\"assum\" + 0.015*\"system\" + 0.014*\"analysi\"\n",
      "2021-02-19 12:26:45,968 : INFO : topic #95 (0.021): 0.290*\"[\" + 0.217*\"algorithm\" + 0.178*\"(\" + 0.135*\"])\" + 0.064*\"permut\" + 0.021*\"quadratur\" + 0.019*\"g6\" + 0.014*\"d1\" + 0.012*\"greatest\" + 0.011*\"a1\"\n",
      "2021-02-19 12:26:45,968 : INFO : topic #23 (0.059): 0.406*\"(\" + 0.385*\")\" + 0.180*\"algorithm\" + 0.009*\"order\" + 0.006*\"-\" + 0.004*\"surfac\" + 0.002*\"jacobi\" + 0.002*\"program\" + 0.000*\"definit\" + 0.000*\"terminolog\"\n",
      "2021-02-19 12:26:45,968 : INFO : topic diff=0.199080, rho=0.238352\n",
      "2021-02-19 12:26:45,972 : INFO : PROGRESS: pass 16, at document #2000/3204\n",
      "2021-02-19 12:26:46,294 : INFO : optimized alpha [0.01323734, 0.012242545, 0.013932848, 0.012679481, 0.013739329, 0.013784226, 0.011426485, 0.011306847, 0.0108191185, 0.012659445, 0.011300897, 0.011210081, 0.01027721, 0.012030976, 0.011671102, 0.0146230515, 0.013297232, 0.015059879, 0.0132650295, 0.015310155, 0.016248245, 0.012434526, 0.0132338805, 0.061848067, 0.014591892, 0.014190223, 0.012826291, 0.016714582, 0.016452445, 0.013946256, 0.011894826, 0.012629132, 0.010752654, 0.01221375, 0.013574929, 0.014971356, 0.016991785, 0.011441893, 0.012213312, 0.012462412, 0.016486539, 0.012419671, 0.014088707, 0.012386219, 0.012475714, 0.013218074, 0.012519556, 0.011189929, 0.014702768, 0.014746851, 0.012667623, 0.014592622, 0.012354675, 0.011313278, 0.013220213, 0.01406119, 0.012830708, 0.01210157, 0.016362369, 0.012327976, 0.01223524, 0.013279752, 0.013966576, 0.01226989, 0.011811495, 0.011332415, 0.0114620775, 0.014196104, 0.012155271, 0.012384891, 0.011003542, 0.011352034, 0.0129916165, 0.013705707, 0.011270927, 0.011450035, 0.012299978, 0.013412038, 0.011356074, 0.011806656, 0.016150976, 0.013592083, 0.011580588, 0.011465299, 0.0123915905, 0.014513446, 0.009346694, 0.012976102, 0.010743842, 0.012899107, 0.013093588, 0.012957413, 0.01080095, 0.011919791, 0.010372965, 0.021082142, 0.012629744, 0.016394688, 0.0139340535, 0.013455132]\n",
      "2021-02-19 12:26:46,296 : INFO : merging changes from 2000 documents into a model of 3204 documents\n",
      "2021-02-19 12:26:46,299 : INFO : topic #86 (0.009): 0.071*\",\" + 0.043*\"-\" + 0.042*\"contour\" + 0.042*\"algebra\" + 0.037*\"word\" + 0.033*\"charact\" + 0.030*\"comput\" + 0.028*\"map\" + 0.025*\"program\" + 0.024*\"keyboard\"\n",
      "2021-02-19 12:26:46,300 : INFO : topic #12 (0.010): 0.131*\",\" + 0.069*\"-\" + 0.033*\"object\" + 0.025*\"packag\" + 0.024*\"cycl\" + 0.023*\"spline\" + 0.022*\"design\" + 0.014*\"gener\" + 0.014*\"plan\" + 0.013*\"vertic\"\n",
      "2021-02-19 12:26:46,300 : INFO : topic #36 (0.017): 0.377*\"data\" + 0.157*\"process\" + 0.122*\"base\" + 0.092*\"parallel\" + 0.042*\"combin\" + 0.040*\"collect\" + 0.028*\"synchron\" + 0.015*\"system\" + 0.015*\"assum\" + 0.014*\"analysi\"\n",
      "2021-02-19 12:26:46,300 : INFO : topic #95 (0.021): 0.274*\"[\" + 0.217*\"algorithm\" + 0.187*\"(\" + 0.160*\"])\" + 0.054*\"permut\" + 0.020*\"quadratur\" + 0.018*\"g6\" + 0.013*\"d1\" + 0.012*\"a1\" + 0.010*\"greatest\"\n",
      "2021-02-19 12:26:46,300 : INFO : topic #23 (0.062): 0.402*\"(\" + 0.384*\")\" + 0.186*\"algorithm\" + 0.009*\"order\" + 0.006*\"-\" + 0.004*\"surfac\" + 0.003*\"jacobi\" + 0.002*\"program\" + 0.000*\"definit\" + 0.000*\"terminolog\"\n",
      "2021-02-19 12:26:46,301 : INFO : topic diff=0.177685, rho=0.231857\n",
      "2021-02-19 12:26:46,687 : INFO : -6.435 per-word bound, 86.5 perplexity estimate based on a held-out corpus of 1204 documents with 49783 words\n",
      "2021-02-19 12:26:46,687 : INFO : PROGRESS: pass 16, at document #3204/3204\n",
      "2021-02-19 12:26:46,948 : INFO : optimized alpha [0.013473484, 0.012335799, 0.014021175, 0.012799695, 0.013879778, 0.013897801, 0.011529003, 0.011417314, 0.010855425, 0.012781453, 0.011350593, 0.011317015, 0.010342514, 0.012121234, 0.01178617, 0.014824174, 0.01345199, 0.015262112, 0.013405896, 0.015489742, 0.016689321, 0.012572362, 0.013434675, 0.06395564, 0.014765344, 0.014390518, 0.012963842, 0.017141782, 0.016787227, 0.014171163, 0.011925505, 0.012753048, 0.010851868, 0.012343579, 0.013790662, 0.015177069, 0.017327499, 0.011563579, 0.012336298, 0.0126380185, 0.016673617, 0.012553521, 0.014248793, 0.012542096, 0.012629188, 0.013298062, 0.0127026215, 0.011281935, 0.014882373, 0.0148813035, 0.012794379, 0.014809185, 0.01250723, 0.011398831, 0.013296409, 0.0142204715, 0.012959139, 0.012235401, 0.016658893, 0.012421277, 0.012330858, 0.013314765, 0.014071301, 0.012414283, 0.011963506, 0.01142971, 0.011580331, 0.01441158, 0.012280516, 0.012512022, 0.011082587, 0.01151547, 0.01313879, 0.0139150275, 0.011383356, 0.011510292, 0.0124377785, 0.0137036415, 0.01148703, 0.0119173275, 0.016461402, 0.0137057565, 0.011649858, 0.0115149915, 0.012531154, 0.014772257, 0.009362851, 0.013140832, 0.010797866, 0.013083625, 0.01321442, 0.013138248, 0.010866882, 0.012065346, 0.010435356, 0.0212653, 0.012787574, 0.016715946, 0.01418685, 0.013644475]\n",
      "2021-02-19 12:26:46,951 : INFO : merging changes from 1204 documents into a model of 3204 documents\n",
      "2021-02-19 12:26:46,954 : INFO : topic #86 (0.009): 0.072*\",\" + 0.046*\"algebra\" + 0.046*\"contour\" + 0.043*\"-\" + 0.035*\"word\" + 0.033*\"charact\" + 0.030*\"comput\" + 0.028*\"map\" + 0.025*\"program\" + 0.024*\"state\"\n"
     ]
    },
    {
     "name": "stderr",
     "output_type": "stream",
     "text": [
      "2021-02-19 12:26:46,954 : INFO : topic #12 (0.010): 0.128*\",\" + 0.072*\"-\" + 0.038*\"object\" + 0.026*\"cycl\" + 0.024*\"packag\" + 0.023*\"design\" + 0.023*\"spline\" + 0.015*\"vertic\" + 0.014*\"plan\" + 0.014*\"gener\"\n",
      "2021-02-19 12:26:46,954 : INFO : topic #36 (0.017): 0.380*\"data\" + 0.150*\"process\" + 0.125*\"base\" + 0.093*\"parallel\" + 0.042*\"combin\" + 0.042*\"collect\" + 0.030*\"synchron\" + 0.015*\"system\" + 0.014*\"analysi\" + 0.014*\"assum\"\n",
      "2021-02-19 12:26:46,955 : INFO : topic #95 (0.021): 0.290*\"[\" + 0.216*\"algorithm\" + 0.179*\"(\" + 0.136*\"])\" + 0.063*\"permut\" + 0.021*\"quadratur\" + 0.019*\"g6\" + 0.014*\"d1\" + 0.012*\"greatest\" + 0.012*\"a1\"\n",
      "2021-02-19 12:26:46,955 : INFO : topic #23 (0.064): 0.407*\"(\" + 0.386*\")\" + 0.179*\"algorithm\" + 0.009*\"order\" + 0.006*\"-\" + 0.004*\"surfac\" + 0.002*\"jacobi\" + 0.002*\"program\" + 0.000*\"definit\" + 0.000*\"terminolog\"\n",
      "2021-02-19 12:26:46,955 : INFO : topic diff=0.183186, rho=0.231857\n",
      "2021-02-19 12:26:46,959 : INFO : PROGRESS: pass 17, at document #2000/3204\n",
      "2021-02-19 12:26:47,278 : INFO : optimized alpha [0.013524046, 0.012358091, 0.014198387, 0.012874084, 0.013927578, 0.013993736, 0.011527243, 0.011422445, 0.010882708, 0.012826198, 0.011401033, 0.011366465, 0.010335296, 0.012169316, 0.011836188, 0.014946411, 0.013521009, 0.0153614655, 0.013465521, 0.015737591, 0.016919352, 0.012612576, 0.0134542845, 0.06633355, 0.014878174, 0.01439708, 0.013022879, 0.01726615, 0.01677949, 0.014302976, 0.011994429, 0.012807759, 0.010849438, 0.012422243, 0.013760753, 0.015438105, 0.01751768, 0.011645972, 0.012343716, 0.0126290545, 0.01683925, 0.012565849, 0.014311035, 0.012546661, 0.01267352, 0.013444848, 0.01271399, 0.01134855, 0.015027129, 0.015015946, 0.012893562, 0.014912932, 0.012527164, 0.011418066, 0.013434074, 0.014307962, 0.013068415, 0.012251457, 0.01693018, 0.0125324875, 0.012374667, 0.0134858955, 0.0142166335, 0.012425274, 0.011973704, 0.011483471, 0.011620931, 0.014530312, 0.012285486, 0.012558181, 0.011075651, 0.011576876, 0.013157974, 0.013994176, 0.011362546, 0.011537065, 0.012474403, 0.013796694, 0.01151547, 0.011964343, 0.016626908, 0.013813552, 0.011685346, 0.011586744, 0.012501664, 0.014830382, 0.009344315, 0.013170145, 0.010850821, 0.013139635, 0.0132519705, 0.013230564, 0.0108722355, 0.012111749, 0.010430858, 0.021732898, 0.012826737, 0.016808905, 0.014152673, 0.013678404]\n",
      "2021-02-19 12:26:47,280 : INFO : merging changes from 2000 documents into a model of 3204 documents\n",
      "2021-02-19 12:26:47,283 : INFO : topic #86 (0.009): 0.071*\",\" + 0.043*\"-\" + 0.042*\"algebra\" + 0.042*\"contour\" + 0.037*\"word\" + 0.035*\"charact\" + 0.030*\"comput\" + 0.028*\"map\" + 0.025*\"keyboard\" + 0.024*\"program\"\n",
      "2021-02-19 12:26:47,284 : INFO : topic #12 (0.010): 0.131*\",\" + 0.071*\"-\" + 0.035*\"object\" + 0.025*\"packag\" + 0.025*\"cycl\" + 0.023*\"design\" + 0.023*\"spline\" + 0.015*\"gener\" + 0.014*\"vertic\" + 0.014*\"plan\"\n",
      "2021-02-19 12:26:47,284 : INFO : topic #36 (0.018): 0.382*\"data\" + 0.160*\"process\" + 0.119*\"base\" + 0.090*\"parallel\" + 0.041*\"combin\" + 0.041*\"collect\" + 0.028*\"synchron\" + 0.016*\"system\" + 0.014*\"analysi\" + 0.013*\"assum\"\n",
      "2021-02-19 12:26:47,284 : INFO : topic #95 (0.022): 0.275*\"[\" + 0.216*\"algorithm\" + 0.188*\"(\" + 0.160*\"])\" + 0.054*\"permut\" + 0.020*\"quadratur\" + 0.018*\"g6\" + 0.014*\"d1\" + 0.012*\"a1\" + 0.010*\"greatest\"\n",
      "2021-02-19 12:26:47,284 : INFO : topic #23 (0.066): 0.403*\"(\" + 0.385*\")\" + 0.185*\"algorithm\" + 0.009*\"order\" + 0.006*\"-\" + 0.003*\"surfac\" + 0.003*\"jacobi\" + 0.001*\"program\" + 0.000*\"definit\" + 0.000*\"terminolog\"\n",
      "2021-02-19 12:26:47,285 : INFO : topic diff=0.164767, rho=0.225865\n",
      "2021-02-19 12:26:47,666 : INFO : -6.430 per-word bound, 86.2 perplexity estimate based on a held-out corpus of 1204 documents with 49783 words\n",
      "2021-02-19 12:26:47,666 : INFO : PROGRESS: pass 17, at document #3204/3204\n",
      "2021-02-19 12:26:47,928 : INFO : optimized alpha [0.013754831, 0.012449652, 0.014281743, 0.012996963, 0.014068106, 0.014107684, 0.011636603, 0.011528806, 0.010918473, 0.012946005, 0.011451876, 0.011471574, 0.010401405, 0.0122578405, 0.011949236, 0.01514174, 0.01367575, 0.015560339, 0.013601226, 0.015925784, 0.01736041, 0.012748049, 0.013652008, 0.068374775, 0.015043036, 0.014596766, 0.013153077, 0.017697362, 0.017115984, 0.014533206, 0.01202449, 0.012931763, 0.010946878, 0.012556924, 0.013983603, 0.015669525, 0.01785964, 0.011765722, 0.012466811, 0.012801786, 0.017029082, 0.0126949875, 0.014476407, 0.012711735, 0.012829238, 0.013525438, 0.01289179, 0.011436715, 0.015203689, 0.015144804, 0.013018052, 0.015126283, 0.012677132, 0.011502031, 0.01351091, 0.014456271, 0.013194547, 0.01238291, 0.017223489, 0.012626236, 0.012470801, 0.013519503, 0.014319062, 0.012569661, 0.012127797, 0.011581191, 0.011746066, 0.014745704, 0.01240852, 0.012685389, 0.011153263, 0.0117489435, 0.0133025665, 0.0142032625, 0.011472943, 0.0115962485, 0.012600406, 0.014101851, 0.011644255, 0.01207527, 0.016943263, 0.01393531, 0.011753326, 0.011633245, 0.012636286, 0.015094341, 0.009358778, 0.013332135, 0.010905962, 0.013321526, 0.013363062, 0.013416402, 0.010936996, 0.012261775, 0.0104902, 0.021909136, 0.012989417, 0.017129665, 0.0144018335, 0.013864846]\n",
      "2021-02-19 12:26:47,930 : INFO : merging changes from 1204 documents into a model of 3204 documents\n",
      "2021-02-19 12:26:47,933 : INFO : topic #86 (0.009): 0.072*\",\" + 0.046*\"algebra\" + 0.046*\"contour\" + 0.044*\"-\" + 0.036*\"word\" + 0.034*\"charact\" + 0.030*\"comput\" + 0.028*\"map\" + 0.025*\"keyboard\" + 0.025*\"program\"\n",
      "2021-02-19 12:26:47,934 : INFO : topic #12 (0.010): 0.128*\",\" + 0.073*\"-\" + 0.039*\"object\" + 0.026*\"cycl\" + 0.024*\"packag\" + 0.024*\"design\" + 0.023*\"spline\" + 0.015*\"vertic\" + 0.014*\"plan\" + 0.014*\"gener\"\n",
      "2021-02-19 12:26:47,934 : INFO : topic #36 (0.018): 0.386*\"data\" + 0.152*\"process\" + 0.122*\"base\" + 0.092*\"parallel\" + 0.042*\"collect\" + 0.042*\"combin\" + 0.030*\"synchron\" + 0.016*\"system\" + 0.014*\"analysi\" + 0.013*\"consid\"\n",
      "2021-02-19 12:26:47,934 : INFO : topic #95 (0.022): 0.291*\"[\" + 0.215*\"algorithm\" + 0.180*\"(\" + 0.137*\"])\" + 0.063*\"permut\" + 0.021*\"quadratur\" + 0.019*\"g6\" + 0.014*\"d1\" + 0.012*\"greatest\" + 0.012*\"a1\"\n",
      "2021-02-19 12:26:47,935 : INFO : topic #23 (0.068): 0.408*\"(\" + 0.386*\")\" + 0.179*\"algorithm\" + 0.010*\"order\" + 0.006*\"-\" + 0.003*\"surfac\" + 0.002*\"jacobi\" + 0.001*\"program\" + 0.000*\"definit\" + 0.000*\"terminolog\"\n",
      "2021-02-19 12:26:47,935 : INFO : topic diff=0.169743, rho=0.225865\n",
      "2021-02-19 12:26:47,939 : INFO : PROGRESS: pass 18, at document #2000/3204\n",
      "2021-02-19 12:26:48,256 : INFO : optimized alpha [0.013802546, 0.012475763, 0.014463213, 0.013075823, 0.014118112, 0.014203664, 0.011638755, 0.011533826, 0.010945499, 0.012986967, 0.011501529, 0.011522754, 0.010395706, 0.012303737, 0.012002343, 0.015268787, 0.013746457, 0.015657863, 0.013659753, 0.016177133, 0.017604295, 0.012788806, 0.01367232, 0.07074694, 0.015155635, 0.014604325, 0.013212483, 0.01782464, 0.017102875, 0.014671206, 0.012092331, 0.012986839, 0.010944543, 0.01263574, 0.0139550725, 0.015932813, 0.018057097, 0.011848191, 0.012475433, 0.012793991, 0.01719423, 0.012705597, 0.014535736, 0.01272012, 0.012869734, 0.013668824, 0.012901136, 0.011502267, 0.015344714, 0.015280752, 0.013115753, 0.015228164, 0.012696497, 0.011520995, 0.013645287, 0.014542227, 0.013305127, 0.012397155, 0.017493198, 0.0127401315, 0.012515256, 0.013686924, 0.014464024, 0.01258309, 0.012136186, 0.011632785, 0.011787163, 0.014864264, 0.012409199, 0.012730634, 0.011146662, 0.011814407, 0.013321215, 0.0142808575, 0.011452632, 0.011622709, 0.012646132, 0.014202543, 0.011670829, 0.012124125, 0.017110163, 0.014044602, 0.011792222, 0.011705192, 0.012604569, 0.0151474355, 0.009343256, 0.013360674, 0.010956881, 0.013379332, 0.013399902, 0.013519335, 0.0109424805, 0.012304505, 0.010487192, 0.022369293, 0.0130248945, 0.017223977, 0.014367365, 0.013897799]\n",
      "2021-02-19 12:26:48,258 : INFO : merging changes from 2000 documents into a model of 3204 documents\n",
      "2021-02-19 12:26:48,261 : INFO : topic #86 (0.009): 0.071*\",\" + 0.044*\"-\" + 0.043*\"contour\" + 0.043*\"algebra\" + 0.037*\"word\" + 0.037*\"charact\" + 0.030*\"comput\" + 0.028*\"map\" + 0.025*\"keyboard\" + 0.024*\"program\"\n",
      "2021-02-19 12:26:48,261 : INFO : topic #12 (0.010): 0.131*\",\" + 0.072*\"-\" + 0.037*\"object\" + 0.025*\"packag\" + 0.025*\"cycl\" + 0.024*\"design\" + 0.023*\"spline\" + 0.015*\"gener\" + 0.014*\"vertic\" + 0.014*\"plan\"\n"
     ]
    },
    {
     "name": "stderr",
     "output_type": "stream",
     "text": [
      "2021-02-19 12:26:48,262 : INFO : topic #36 (0.018): 0.388*\"data\" + 0.161*\"process\" + 0.117*\"base\" + 0.089*\"parallel\" + 0.041*\"collect\" + 0.041*\"combin\" + 0.028*\"synchron\" + 0.016*\"system\" + 0.014*\"analysi\" + 0.012*\"consid\"\n",
      "2021-02-19 12:26:48,262 : INFO : topic #95 (0.022): 0.276*\"[\" + 0.215*\"algorithm\" + 0.189*\"(\" + 0.160*\"])\" + 0.054*\"permut\" + 0.020*\"quadratur\" + 0.019*\"g6\" + 0.014*\"d1\" + 0.012*\"a1\" + 0.010*\"greatest\"\n",
      "2021-02-19 12:26:48,262 : INFO : topic #23 (0.071): 0.404*\"(\" + 0.385*\")\" + 0.185*\"algorithm\" + 0.009*\"order\" + 0.006*\"-\" + 0.003*\"surfac\" + 0.003*\"jacobi\" + 0.001*\"program\" + 0.000*\"definit\" + 0.000*\"terminolog\"\n",
      "2021-02-19 12:26:48,262 : INFO : topic diff=0.153778, rho=0.220316\n",
      "2021-02-19 12:26:48,645 : INFO : -6.423 per-word bound, 85.8 perplexity estimate based on a held-out corpus of 1204 documents with 49783 words\n",
      "2021-02-19 12:26:48,646 : INFO : PROGRESS: pass 18, at document #3204/3204\n",
      "2021-02-19 12:26:48,903 : INFO : optimized alpha [0.014030759, 0.012568063, 0.014539089, 0.01319659, 0.014264188, 0.014315396, 0.011744106, 0.01163625, 0.010980732, 0.013099924, 0.011555676, 0.011626123, 0.01046261, 0.012392915, 0.012115742, 0.01546411, 0.013893667, 0.01586791, 0.013795798, 0.016365368, 0.018067794, 0.012922106, 0.013869704, 0.07273973, 0.015320485, 0.014798237, 0.0133502, 0.018250596, 0.017431831, 0.014904333, 0.012121845, 0.013113439, 0.011042351, 0.012770788, 0.014167044, 0.016167516, 0.018402712, 0.011970447, 0.012598753, 0.012961766, 0.01737753, 0.012832643, 0.01470372, 0.012882689, 0.013023131, 0.013750025, 0.013083618, 0.011597319, 0.015515616, 0.015407044, 0.013240515, 0.015441363, 0.012848871, 0.011605639, 0.013720391, 0.014690592, 0.013431519, 0.012524173, 0.017783461, 0.012834399, 0.012607366, 0.013721731, 0.0145669235, 0.012718126, 0.012292474, 0.011731001, 0.011914719, 0.0150798, 0.012532443, 0.012855722, 0.011222959, 0.011990927, 0.01346346, 0.014489849, 0.011565413, 0.011680872, 0.012767672, 0.014503386, 0.011810515, 0.012237644, 0.017426651, 0.014166694, 0.0118633155, 0.011750749, 0.012739316, 0.015408311, 0.009361329, 0.013520109, 0.011002855, 0.013558873, 0.013511474, 0.013713043, 0.011006214, 0.012452338, 0.010545535, 0.022538833, 0.013180382, 0.017531719, 0.014618377, 0.014086648]\n",
      "2021-02-19 12:26:48,905 : INFO : merging changes from 1204 documents into a model of 3204 documents\n",
      "2021-02-19 12:26:48,908 : INFO : topic #86 (0.009): 0.073*\",\" + 0.047*\"algebra\" + 0.047*\"contour\" + 0.044*\"-\" + 0.036*\"charact\" + 0.036*\"word\" + 0.030*\"comput\" + 0.028*\"map\" + 0.025*\"state\" + 0.025*\"keyboard\"\n",
      "2021-02-19 12:26:48,909 : INFO : topic #12 (0.010): 0.129*\",\" + 0.074*\"-\" + 0.040*\"object\" + 0.027*\"cycl\" + 0.024*\"design\" + 0.024*\"packag\" + 0.024*\"spline\" + 0.015*\"vertic\" + 0.015*\"plan\" + 0.014*\"gener\"\n",
      "2021-02-19 12:26:48,909 : INFO : topic #36 (0.018): 0.393*\"data\" + 0.153*\"process\" + 0.119*\"base\" + 0.090*\"parallel\" + 0.042*\"collect\" + 0.041*\"combin\" + 0.030*\"synchron\" + 0.016*\"system\" + 0.014*\"analysi\" + 0.012*\"consid\"\n",
      "2021-02-19 12:26:48,909 : INFO : topic #95 (0.023): 0.291*\"[\" + 0.214*\"algorithm\" + 0.180*\"(\" + 0.137*\"])\" + 0.063*\"permut\" + 0.021*\"quadratur\" + 0.019*\"g6\" + 0.014*\"d1\" + 0.012*\"greatest\" + 0.012*\"a1\"\n",
      "2021-02-19 12:26:48,910 : INFO : topic #23 (0.073): 0.409*\"(\" + 0.386*\")\" + 0.179*\"algorithm\" + 0.010*\"order\" + 0.006*\"-\" + 0.003*\"surfac\" + 0.002*\"jacobi\" + 0.001*\"program\" + 0.000*\"definit\" + 0.000*\"terminolog\"\n",
      "2021-02-19 12:26:48,910 : INFO : topic diff=0.158454, rho=0.220316\n",
      "2021-02-19 12:26:48,914 : INFO : PROGRESS: pass 19, at document #2000/3204\n",
      "2021-02-19 12:26:49,230 : INFO : optimized alpha [0.01408477, 0.012586892, 0.014717039, 0.01327564, 0.014313242, 0.01440838, 0.011746247, 0.011643725, 0.011008693, 0.0131415995, 0.011605859, 0.011677743, 0.010458372, 0.012436746, 0.012170631, 0.015591238, 0.013963119, 0.015960192, 0.0138563225, 0.016609892, 0.018325936, 0.012964931, 0.013895186, 0.07509603, 0.015433064, 0.014803612, 0.013408543, 0.018375091, 0.017421063, 0.015054991, 0.012187415, 0.013170357, 0.0110436855, 0.012854012, 0.014139925, 0.01643153, 0.018603666, 0.012053091, 0.012607136, 0.012950977, 0.017540392, 0.0128429625, 0.014763498, 0.012887798, 0.013068374, 0.013891629, 0.013095257, 0.011664397, 0.01566142, 0.0155394245, 0.013336881, 0.015541493, 0.012871816, 0.011623084, 0.013851524, 0.014775098, 0.013537751, 0.012538043, 0.018053442, 0.012946804, 0.012649718, 0.013887101, 0.014708478, 0.012736728, 0.012297744, 0.011780511, 0.011959, 0.015194933, 0.012535784, 0.012898759, 0.011216683, 0.0120591065, 0.013480181, 0.014570574, 0.011546764, 0.011708294, 0.012807009, 0.014607062, 0.011835165, 0.012285625, 0.017593013, 0.014282069, 0.011902901, 0.01182291, 0.01270677, 0.015466535, 0.009347641, 0.013549352, 0.011054205, 0.0136140175, 0.013549148, 0.013825032, 0.011012976, 0.012496927, 0.01054281, 0.022996511, 0.013223722, 0.017625686, 0.014583522, 0.014123258]\n",
      "2021-02-19 12:26:49,233 : INFO : merging changes from 2000 documents into a model of 3204 documents\n",
      "2021-02-19 12:26:49,236 : INFO : topic #86 (0.009): 0.072*\",\" + 0.044*\"-\" + 0.043*\"contour\" + 0.043*\"algebra\" + 0.040*\"charact\" + 0.038*\"word\" + 0.030*\"comput\" + 0.027*\"map\" + 0.025*\"keyboard\" + 0.025*\"state\"\n",
      "2021-02-19 12:26:49,236 : INFO : topic #12 (0.010): 0.131*\",\" + 0.073*\"-\" + 0.038*\"object\" + 0.026*\"cycl\" + 0.026*\"packag\" + 0.024*\"design\" + 0.023*\"spline\" + 0.015*\"gener\" + 0.014*\"vertic\" + 0.014*\"plan\"\n",
      "2021-02-19 12:26:49,237 : INFO : topic #36 (0.019): 0.394*\"data\" + 0.162*\"process\" + 0.114*\"base\" + 0.088*\"parallel\" + 0.041*\"collect\" + 0.040*\"combin\" + 0.028*\"synchron\" + 0.017*\"system\" + 0.015*\"analysi\" + 0.012*\"consid\"\n",
      "2021-02-19 12:26:49,237 : INFO : topic #95 (0.023): 0.276*\"[\" + 0.214*\"algorithm\" + 0.189*\"(\" + 0.159*\"])\" + 0.054*\"permut\" + 0.020*\"quadratur\" + 0.019*\"g6\" + 0.014*\"d1\" + 0.012*\"a1\" + 0.010*\"greatest\"\n",
      "2021-02-19 12:26:49,237 : INFO : topic #23 (0.075): 0.405*\"(\" + 0.385*\")\" + 0.185*\"algorithm\" + 0.009*\"order\" + 0.006*\"-\" + 0.003*\"surfac\" + 0.003*\"jacobi\" + 0.001*\"program\" + 0.000*\"definit\" + 0.000*\"terminolog\"\n",
      "2021-02-19 12:26:49,237 : INFO : topic diff=0.144314, rho=0.215156\n",
      "2021-02-19 12:26:49,616 : INFO : -6.419 per-word bound, 85.5 perplexity estimate based on a held-out corpus of 1204 documents with 49783 words\n",
      "2021-02-19 12:26:49,617 : INFO : PROGRESS: pass 19, at document #3204/3204\n",
      "2021-02-19 12:26:49,878 : INFO : optimized alpha [0.0143182, 0.012675406, 0.014796285, 0.013399238, 0.014457085, 0.014523269, 0.011858328, 0.01174663, 0.011043432, 0.013257418, 0.011663217, 0.01178367, 0.0105242375, 0.01251994, 0.0122801, 0.01578683, 0.014115514, 0.01616435, 0.013990202, 0.016801177, 0.018809725, 0.013100866, 0.014092517, 0.07697445, 0.015600834, 0.015002683, 0.013548862, 0.018798789, 0.017749198, 0.015293941, 0.012216383, 0.013294877, 0.011143927, 0.012984772, 0.014349012, 0.016669592, 0.018953135, 0.012175773, 0.012728509, 0.013116341, 0.017723663, 0.012965644, 0.014928926, 0.013050379, 0.013219513, 0.013978551, 0.01328226, 0.011759983, 0.015829561, 0.015663292, 0.013457266, 0.015751861, 0.013026628, 0.011706343, 0.013924976, 0.014915843, 0.0136621, 0.012667568, 0.018334093, 0.013037037, 0.012738009, 0.013918071, 0.014806691, 0.012871995, 0.012456309, 0.011881394, 0.012084798, 0.01542448, 0.012657112, 0.013017197, 0.011291773, 0.012248793, 0.013622602, 0.014776977, 0.011655645, 0.011765525, 0.012924314, 0.014901202, 0.011972888, 0.01239739, 0.017906532, 0.014404589, 0.011970676, 0.01186547, 0.012834727, 0.015727423, 0.00936402, 0.013704006, 0.011101417, 0.013801119, 0.01365641, 0.014026684, 0.01107571, 0.01264046, 0.010600256, 0.023163583, 0.013379439, 0.017936416, 0.014828647, 0.014306955]\n",
      "2021-02-19 12:26:49,881 : INFO : merging changes from 1204 documents into a model of 3204 documents\n",
      "2021-02-19 12:26:49,884 : INFO : topic #86 (0.009): 0.073*\",\" + 0.048*\"contour\" + 0.047*\"algebra\" + 0.045*\"-\" + 0.037*\"charact\" + 0.036*\"word\" + 0.030*\"comput\" + 0.027*\"map\" + 0.026*\"state\" + 0.025*\"keyboard\"\n",
      "2021-02-19 12:26:49,884 : INFO : topic #94 (0.011): 0.072*\",\" + 0.052*\"execut\" + 0.048*\"rate\" + 0.034*\"process\" + 0.033*\"effect\" + 0.032*\"result\" + 0.032*\"transfer\" + 0.029*\"-\" + 0.028*\"system\" + 0.027*\"inform\"\n",
      "2021-02-19 12:26:49,884 : INFO : topic #36 (0.019): 0.398*\"data\" + 0.155*\"process\" + 0.117*\"base\" + 0.089*\"parallel\" + 0.042*\"collect\" + 0.040*\"combin\" + 0.030*\"synchron\" + 0.017*\"system\" + 0.014*\"analysi\" + 0.012*\"consid\"\n"
     ]
    },
    {
     "name": "stderr",
     "output_type": "stream",
     "text": [
      "2021-02-19 12:26:49,885 : INFO : topic #95 (0.023): 0.291*\"[\" + 0.214*\"algorithm\" + 0.181*\"(\" + 0.138*\"])\" + 0.063*\"permut\" + 0.021*\"quadratur\" + 0.019*\"g6\" + 0.014*\"d1\" + 0.012*\"greatest\" + 0.012*\"a1\"\n",
      "2021-02-19 12:26:49,885 : INFO : topic #23 (0.077): 0.410*\"(\" + 0.386*\")\" + 0.178*\"algorithm\" + 0.010*\"order\" + 0.006*\"-\" + 0.003*\"surfac\" + 0.002*\"jacobi\" + 0.001*\"program\" + 0.000*\"definit\" + 0.000*\"terminolog\"\n",
      "2021-02-19 12:26:49,885 : INFO : topic diff=0.148721, rho=0.215156\n"
     ]
    },
    {
     "data": {
      "text/plain": [
       "[(0, 0.005856383),\n",
       " (1, 0.005184453),\n",
       " (2, 0.006051928),\n",
       " (3, 0.005480512),\n",
       " (4, 0.0059131896),\n",
       " (5, 0.0059402594),\n",
       " (6, 0.0048502544),\n",
       " (7, 0.004804568),\n",
       " (8, 0.0045169485),\n",
       " (9, 0.0054225056),\n",
       " (10, 0.0047704508),\n",
       " (11, 0.0048197177),\n",
       " (12, 0.0043045892),\n",
       " (13, 0.0051208646),\n",
       " (14, 0.005022766),\n",
       " (15, 0.0064570773),\n",
       " (16, 0.0057734814),\n",
       " (17, 0.41562247),\n",
       " (18, 0.0057222266),\n",
       " (19, 0.006871962),\n",
       " (20, 0.007693492),\n",
       " (21, 0.0053584734),\n",
       " (22, 0.005764075),\n",
       " (23, 0.031483836),\n",
       " (24, 0.006381002),\n",
       " (25, 0.006136348),\n",
       " (26, 0.005541711),\n",
       " (27, 0.0076890187),\n",
       " (28, 0.0072597186),\n",
       " (29, 0.006255477),\n",
       " (30, 0.004996705),\n",
       " (31, 0.0054378267),\n",
       " (32, 0.0045580524),\n",
       " (33, 0.005310989),\n",
       " (34, 0.005868986),\n",
       " (35, 0.006818142),\n",
       " (36, 0.007752149),\n",
       " (37, 0.0049800947),\n",
       " (38, 0.005206173),\n",
       " (39, 0.0053648027),\n",
       " (40, 0.0072492743),\n",
       " (41, 0.005303165),\n",
       " (42, 0.00610618),\n",
       " (43, 0.005337823),\n",
       " (44, 0.005407002),\n",
       " (45, 0.005717461),\n",
       " (46, 0.0054326663),\n",
       " (47, 0.0048100296),\n",
       " (48, 0.006474555),\n",
       " (49, 0.0064065484),\n",
       " (50, 0.0055042463),\n",
       " (51, 0.0064427746),\n",
       " (52, 0.0053281086),\n",
       " (53, 0.00478809),\n",
       " (54, 0.005695548),\n",
       " (55, 0.0061008288),\n",
       " (56, 0.005588027),\n",
       " (57, 0.0051812474),\n",
       " (58, 0.00749895),\n",
       " (59, 0.005332366),\n",
       " (60, 0.0052100588),\n",
       " (61, 0.0056927237),\n",
       " (62, 0.006056184),\n",
       " (63, 0.005264861),\n",
       " (64, 0.005094839),\n",
       " (65, 0.0048596887),\n",
       " (66, 0.004942884),\n",
       " (67, 0.00630887),\n",
       " (68, 0.0051769707),\n",
       " (69, 0.005324251),\n",
       " (70, 0.004618524),\n",
       " (71, 0.005009961),\n",
       " (72, 0.005571872),\n",
       " (73, 0.0060440307),\n",
       " (74, 0.0047673536),\n",
       " (75, 0.004812296),\n",
       " (76, 0.00528626),\n",
       " (77, 0.006094841),\n",
       " (78, 0.0048971116),\n",
       " (79, 0.0050707394),\n",
       " (80, 0.0073240707),\n",
       " (81, 0.005891718),\n",
       " (82, 0.0048962063),\n",
       " (83, 0.0048531755),\n",
       " (84, 0.0052496176),\n",
       " (85, 0.0064327787),\n",
       " (86, 0.0038300408),\n",
       " (87, 0.0056051672),\n",
       " (88, 0.004540665),\n",
       " (89, 0.0056448886),\n",
       " (90, 0.0055857003),\n",
       " (91, 0.005737148),\n",
       " (92, 0.0045301504),\n",
       " (93, 0.0051701595),\n",
       " (94, 0.004335682),\n",
       " (95, 0.009474292),\n",
       " (96, 0.005472414),\n",
       " (97, 0.007336294),\n",
       " (98, 0.006065164),\n",
       " (99, 0.005851784)]"
      ]
     },
     "execution_count": 90,
     "metadata": {},
     "output_type": "execute_result"
    }
   ],
   "source": [
    "##### Function check\n",
    "lda = LdaRetrievalModel(doc_repr_2)\n",
    "lda.train_model()\n",
    "\n",
    "# you can now get an LDA vector for a given query in the following way:\n",
    "lda.vectorize_query(\"report\")\n",
    "##### "
   ]
  },
  {
   "cell_type": "markdown",
   "metadata": {
    "deletable": false,
    "editable": false,
    "nbgrader": {
     "cell_type": "markdown",
     "checksum": "32d83b6ea79ca3ddb789a7f8805a1b25",
     "grade": false,
     "grade_id": "cell-0e24b727d5908c0e",
     "locked": true,
     "points": 5,
     "schema_version": 3,
     "solution": false,
     "task": true
    }
   },
   "source": [
    "\\#### Please do not change this. This cell is used for grading."
   ]
  },
  {
   "cell_type": "markdown",
   "metadata": {
    "deletable": false,
    "editable": false,
    "nbgrader": {
     "cell_type": "markdown",
     "checksum": "114a934f0b9ce696e6cf09d3b8da6a3d",
     "grade": false,
     "grade_id": "cell-b1bffcb970b18aeb",
     "locked": true,
     "schema_version": 3,
     "solution": false,
     "task": false
    }
   },
   "source": [
    "---\n",
    "Now we can use the `DenseRetrievalModel` class to obtain an LDA search function.\n",
    "You can test your LDA model in the following cell: Try finding queries which are lexically different to documents, but semantically similar - does LDA work well for these queries?!"
   ]
  },
  {
   "cell_type": "code",
   "execution_count": 91,
   "metadata": {},
   "outputs": [
    {
     "data": {
      "application/vnd.jupyter.widget-view+json": {
       "model_id": "712b82807d374fdb9196875ef2aca268",
       "version_major": 2,
       "version_minor": 0
      },
      "text/plain": [
       "Text(value='', description='Search Bar')"
      ]
     },
     "metadata": {},
     "output_type": "display_data"
    }
   ],
   "source": [
    "drm_lda = DenseRetrievalRanker(lda, jenson_shannon_sim)\n",
    "\n",
    "# test your LDA model\n",
    "search_fn = drm_lda.search\n",
    "\n",
    "text = widgets.Text(description=\"Search Bar\", width=200)\n",
    "display(text)\n",
    "\n",
    "\n",
    "text.on_submit(handle_submit_2)"
   ]
  },
  {
   "cell_type": "markdown",
   "metadata": {
    "deletable": false,
    "editable": false,
    "nbgrader": {
     "cell_type": "markdown",
     "checksum": "9d7f15863b655119b45f4d89354e5661",
     "grade": false,
     "grade_id": "cell-190cd0854b2791cc",
     "locked": true,
     "schema_version": 3,
     "solution": false,
     "task": false
    }
   },
   "source": [
    "## Section 8: Word2Vec/Doc2Vec (20 points) <a class=\"anchor\" id=\"2vec\"></a>\n",
    "\n",
    "[Back to Part 2](#part2)\n",
    "\n",
    "We will implement two other methods here, the Word2Vec model and the Doc2Vec model, also using `gensim`. Word2Vec creates representations of words, not documents, so the word level vectors need to be aggregated to obtain a representation for the document. Here, we will simply take the mean of the vectors. \n",
    "\n",
    "\n",
    "A drawback of these models is that they need a lot of training data. Our dataset is tiny, so in addition to using a model trained on the data, we will also use a pre-trained model for Word2Vec (this will be automatically downloaded).     \n",
    "\n",
    "*Note*:\n",
    "1. The code in vectorize_documents / vectorize_query should return gensim-like vectors i.e `[(dim, val), .. (dim, val)]`. \n",
    "2. For Word2Vec: You should also handle the following two cases: (a) A word in the query is not present in the vocabulary of the model and (b) none of the words in the query are present in the model - you can return 0 scores for all documents in this case. For either of these, you can check if a `word` is present in the vocab by using `word in self.model`\n"
   ]
  },
  {
   "cell_type": "code",
   "execution_count": 92,
   "metadata": {
    "deletable": false,
    "nbgrader": {
     "cell_type": "code",
     "checksum": "83ab733608ed14c29c09b36b4e1b6daa",
     "grade": false,
     "grade_id": "cell-2b73759f9baf688f",
     "locked": false,
     "schema_version": 3,
     "solution": true,
     "task": false
    }
   },
   "outputs": [
    {
     "name": "stderr",
     "output_type": "stream",
     "text": [
      "2021-02-19 12:26:51,016 : INFO : adding document #0 to Dictionary(0 unique tokens: [])\n",
      "2021-02-19 12:26:51,091 : INFO : built Dictionary(5937 unique tokens: ['-', 'algebra', 'intern', 'languag', 'preliminari']...) from 3204 documents (total 115970 corpus positions)\n",
      "2021-02-19 12:26:51,094 : INFO : discarding 4740 tokens: [('repeat', 8), ('glossari', 7), ('inspect', 8), ('uncol', 2), ('rung', 9), ('secant', 2), ('.', 1603), ('acceler', 6), ('diverg', 3), ('induc', 9)]...\n",
      "2021-02-19 12:26:51,095 : INFO : keeping 1197 tokens which were in no less than 10 and no more than 1602 (=50.0%) documents\n",
      "2021-02-19 12:26:51,096 : INFO : resulting dictionary: Dictionary(1197 unique tokens: ['-', 'algebra', 'intern', 'languag', 'preliminari']...)\n",
      "2021-02-19 12:26:51,139 : INFO : collecting all words and their counts\n",
      "2021-02-19 12:26:51,140 : INFO : PROGRESS: at sentence #0, processed 0 words, keeping 0 word types\n",
      "2021-02-19 12:26:51,152 : INFO : collected 5937 word types from a corpus of 115970 raw words and 3204 sentences\n",
      "2021-02-19 12:26:51,152 : INFO : Loading a fresh vocabulary\n",
      "2021-02-19 12:26:51,156 : INFO : effective_min_count=5 retains 2069 unique words (34% of original 5937, drops 3868)\n",
      "2021-02-19 12:26:51,156 : INFO : effective_min_count=5 leaves 109262 word corpus (94% of original 115970, drops 6708)\n",
      "2021-02-19 12:26:51,160 : INFO : deleting the raw counts dictionary of 5937 items\n",
      "2021-02-19 12:26:51,161 : INFO : sample=0.001 downsamples 44 most-common words\n",
      "2021-02-19 12:26:51,161 : INFO : downsampling leaves estimated 84994 word corpus (77.8% of prior 109262)\n",
      "2021-02-19 12:26:51,164 : INFO : estimated required memory for 2069 words and 100 dimensions: 2689700 bytes\n",
      "2021-02-19 12:26:51,164 : INFO : resetting layer weights\n",
      "2021-02-19 12:26:51,465 : INFO : training model with 3 workers on 2069 vocabulary and 100 features, using sg=0 hs=0 sample=0.001 negative=5 window=5\n",
      "2021-02-19 12:26:51,502 : INFO : worker thread finished; awaiting finish of 2 more threads\n",
      "2021-02-19 12:26:51,504 : INFO : worker thread finished; awaiting finish of 1 more threads\n",
      "2021-02-19 12:26:51,505 : INFO : worker thread finished; awaiting finish of 0 more threads\n",
      "2021-02-19 12:26:51,505 : INFO : EPOCH - 1 : training on 115970 raw words (84943 effective words) took 0.0s, 2343552 effective words/s\n",
      "2021-02-19 12:26:51,541 : INFO : worker thread finished; awaiting finish of 2 more threads\n",
      "2021-02-19 12:26:51,542 : INFO : worker thread finished; awaiting finish of 1 more threads\n",
      "2021-02-19 12:26:51,543 : INFO : worker thread finished; awaiting finish of 0 more threads\n",
      "2021-02-19 12:26:51,544 : INFO : EPOCH - 2 : training on 115970 raw words (85068 effective words) took 0.0s, 2405500 effective words/s\n",
      "2021-02-19 12:26:51,580 : INFO : worker thread finished; awaiting finish of 2 more threads\n",
      "2021-02-19 12:26:51,581 : INFO : worker thread finished; awaiting finish of 1 more threads\n",
      "2021-02-19 12:26:51,583 : INFO : worker thread finished; awaiting finish of 0 more threads\n",
      "2021-02-19 12:26:51,583 : INFO : EPOCH - 3 : training on 115970 raw words (85043 effective words) took 0.0s, 2276677 effective words/s\n",
      "2021-02-19 12:26:51,619 : INFO : worker thread finished; awaiting finish of 2 more threads\n",
      "2021-02-19 12:26:51,620 : INFO : worker thread finished; awaiting finish of 1 more threads\n",
      "2021-02-19 12:26:51,621 : INFO : worker thread finished; awaiting finish of 0 more threads\n",
      "2021-02-19 12:26:51,621 : INFO : EPOCH - 4 : training on 115970 raw words (85091 effective words) took 0.0s, 2337614 effective words/s\n",
      "2021-02-19 12:26:51,658 : INFO : worker thread finished; awaiting finish of 2 more threads\n",
      "2021-02-19 12:26:51,658 : INFO : worker thread finished; awaiting finish of 1 more threads\n",
      "2021-02-19 12:26:51,660 : INFO : worker thread finished; awaiting finish of 0 more threads\n",
      "2021-02-19 12:26:51,660 : INFO : EPOCH - 5 : training on 115970 raw words (85052 effective words) took 0.0s, 2404254 effective words/s\n",
      "2021-02-19 12:26:51,660 : INFO : training on a 579850 raw words (425197 effective words) took 0.2s, 2188852 effective words/s\n",
      "<ipython-input-92-58fe68e8332b>:41: DeprecationWarning: Call to deprecated `__contains__` (Method will be removed in 4.0.0, use self.wv.__contains__() instead).\n",
      "  if token in self.model:\n",
      "<ipython-input-92-58fe68e8332b>:42: DeprecationWarning: Call to deprecated `__getitem__` (Method will be removed in 4.0.0, use self.wv.__getitem__() instead).\n",
      "  vector += self.model[token]\n"
     ]
    },
    {
     "data": {
      "text/plain": [
       "[(1, 0.11328200995922089),\n",
       " (2, 0.1622544378042221),\n",
       " (3, -0.00782819464802742),\n",
       " (4, -0.31874245405197144),\n",
       " (5, 0.030613036826252937),\n",
       " (6, -0.09088171273469925),\n",
       " (7, 0.3822706341743469),\n",
       " (8, 0.08240556716918945),\n",
       " (9, 0.09499615430831909),\n",
       " (10, 0.593289315700531),\n",
       " (11, 0.5405214428901672),\n",
       " (12, 0.3611603379249573),\n",
       " (13, -0.3605193793773651),\n",
       " (14, 0.10296349227428436),\n",
       " (15, -0.4376375675201416),\n",
       " (16, 0.23681189119815826),\n",
       " (17, -0.5307495594024658),\n",
       " (18, 0.5419550538063049),\n",
       " (19, -0.29545024037361145),\n",
       " (20, -0.04901936277747154),\n",
       " (21, 0.023076234385371208),\n",
       " (22, 0.025023996829986572),\n",
       " (23, 0.49408459663391113),\n",
       " (24, 0.03177827596664429),\n",
       " (25, 0.04383482038974762),\n",
       " (26, -0.0349879190325737),\n",
       " (27, -0.021504653617739677),\n",
       " (28, 0.2855397164821625),\n",
       " (29, -0.2097965031862259),\n",
       " (30, 0.13470210134983063),\n",
       " (31, -0.03808873891830444),\n",
       " (32, -0.5882464647293091),\n",
       " (33, 0.39667049050331116),\n",
       " (34, -0.3073977828025818),\n",
       " (35, -0.020305559039115906),\n",
       " (36, 0.06964631378650665),\n",
       " (37, 0.22055236995220184),\n",
       " (38, -0.32028666138648987),\n",
       " (39, 0.1596272587776184),\n",
       " (40, 0.06118602305650711),\n",
       " (41, -0.23641562461853027),\n",
       " (42, 0.14532774686813354),\n",
       " (43, -0.3201603591442108),\n",
       " (44, -0.31771522760391235),\n",
       " (45, -0.0024008986074477434),\n",
       " (46, -0.20246179401874542),\n",
       " (47, 0.10250862687826157),\n",
       " (48, 0.5414484739303589),\n",
       " (49, -0.035054925829172134),\n",
       " (50, -0.2014418989419937),\n",
       " (51, 0.44649457931518555),\n",
       " (52, -0.1132325828075409),\n",
       " (53, 0.3515819311141968),\n",
       " (54, 0.18003667891025543),\n",
       " (55, 0.516739547252655),\n",
       " (56, 0.09838096052408218),\n",
       " (57, -0.05940530076622963),\n",
       " (58, 0.3239303231239319),\n",
       " (59, -0.13400837779045105),\n",
       " (60, -0.09929487854242325),\n",
       " (61, -0.151242196559906),\n",
       " (62, -0.39453136920928955),\n",
       " (63, 0.1220199391245842),\n",
       " (64, 0.1449618935585022),\n",
       " (65, 0.3188072443008423),\n",
       " (66, 0.26263511180877686),\n",
       " (67, -0.07934091985225677),\n",
       " (68, 0.3292572796344757),\n",
       " (69, 0.5683484673500061),\n",
       " (70, -0.10809396207332611),\n",
       " (71, 0.4522547721862793),\n",
       " (72, 0.04186362400650978),\n",
       " (73, 0.2879340946674347),\n",
       " (74, -0.06631135195493698),\n",
       " (75, -0.5260595083236694),\n",
       " (76, -0.19958411157131195),\n",
       " (77, 0.4481521546840668),\n",
       " (78, 0.051246754825115204),\n",
       " (79, -0.021276239305734634),\n",
       " (80, 0.15308918058872223),\n",
       " (81, 0.6230689287185669),\n",
       " (82, -0.020207054913043976),\n",
       " (83, 0.37261661887168884),\n",
       " (84, 0.4744415283203125),\n",
       " (85, 0.06681254506111145),\n",
       " (86, 0.009883454069495201),\n",
       " (87, 0.3949650824069977),\n",
       " (88, -0.045378103852272034),\n",
       " (89, -0.13360051810741425),\n",
       " (90, 0.10562827438116074),\n",
       " (91, 0.03175196051597595),\n",
       " (92, 0.2647310793399811),\n",
       " (93, -0.5927551984786987),\n",
       " (94, -0.40848633646965027),\n",
       " (95, 0.3220668435096741),\n",
       " (96, -0.05197666585445404),\n",
       " (97, 0.2472231388092041),\n",
       " (98, -0.14070841670036316),\n",
       " (99, -0.33196812868118286),\n",
       " (100, 0.17450056970119476)]"
      ]
     },
     "execution_count": 92,
     "metadata": {},
     "output_type": "execute_result"
    }
   ],
   "source": [
    "class W2VRetrievalModel(VectorSpaceRetrievalModel):\n",
    "    def __init__(self, doc_repr):\n",
    "        super().__init__(doc_repr)\n",
    "        \n",
    "        # the dimensionality of the vectors\n",
    "        self.size = 100 \n",
    "        self.min_count = 1\n",
    "    \n",
    "    def train_model(self):\n",
    "        \"\"\"\n",
    "        Trains the W2V model\n",
    "        \"\"\"\n",
    "        # YOUR CODE HERE\n",
    "        self.model = Word2Vec(self.documents)\n",
    "        \n",
    "    def vectorize_documents(self):\n",
    "        \"\"\"\n",
    "            Returns a doc_id -> vector dictionary\n",
    "        \"\"\"\n",
    "        \n",
    "        # YOUR CODE HERE\n",
    "        doc_dict = {}\n",
    "        for doc_id, content in self.doc_repr:\n",
    "            doc_dict[doc_id] = np.zeros(self.size)\n",
    "            for token in content:\n",
    "                if token in self.model:\n",
    "                    doc_dict[doc_id] += self.model[token]\n",
    "            values = list(doc_dict[doc_id] / len(content))\n",
    "            doc_dict[doc_id] = [(dim+1, values[dim]) for dim in range(len(values))]\n",
    "\n",
    "        return doc_dict\n",
    "        \n",
    "    def vectorize_query(self, query):\n",
    "        \"\"\"\n",
    "        Vectorizes the query using the W2V model\n",
    "        \"\"\"\n",
    "        query = process_text(query, **config_2)\n",
    "        # YOUR CODE HERE\n",
    "        vector = np.zeros(self.size)\n",
    "        for token in query:\n",
    "            if token in self.model:\n",
    "                vector += self.model[token]\n",
    "        vector = vector / len(query)\n",
    "        return [(dim+1, vector[dim]) for dim in range(len(vector))]\n",
    "    \n",
    "    \n",
    "class W2VPretrainedRetrievalModel(W2VRetrievalModel):\n",
    "    def __init__(self, doc_repr):\n",
    "        super().__init__(doc_repr)\n",
    "        self.model_name = \"word2vec-google-news-300\"\n",
    "        self.size = 300\n",
    "    \n",
    "    def train_model(self):\n",
    "        \"\"\"\n",
    "        Loads the pretrained model\n",
    "        \"\"\"\n",
    "        self.model = g_downloader.load(self.model_name)\n",
    "\n",
    "w2v = W2VRetrievalModel(doc_repr_2)\n",
    "w2v.train_model()\n",
    "\n",
    "# you can now get a W2V vector for a given query in the following way:\n",
    "w2v.vectorize_query(\"report\")"
   ]
  },
  {
   "cell_type": "code",
   "execution_count": 93,
   "metadata": {
    "deletable": false,
    "editable": false,
    "nbgrader": {
     "cell_type": "code",
     "checksum": "f92b5c5a8c6c4b80652b94223209ab0b",
     "grade": true,
     "grade_id": "cell-b31c0f8d214b8bdf",
     "locked": true,
     "points": 0,
     "schema_version": 3,
     "solution": false,
     "task": false
    }
   },
   "outputs": [
    {
     "name": "stderr",
     "output_type": "stream",
     "text": [
      "<ipython-input-92-58fe68e8332b>:41: DeprecationWarning: Call to deprecated `__contains__` (Method will be removed in 4.0.0, use self.wv.__contains__() instead).\n",
      "  if token in self.model:\n",
      "<ipython-input-92-58fe68e8332b>:42: DeprecationWarning: Call to deprecated `__getitem__` (Method will be removed in 4.0.0, use self.wv.__getitem__() instead).\n",
      "  vector += self.model[token]\n"
     ]
    }
   ],
   "source": [
    "assert len(w2v.vectorize_query(\"report\")) == 100\n",
    "assert len(w2v.vectorize_query(\"this is a sentence that is not mellifluous\")) == 100\n"
   ]
  },
  {
   "cell_type": "markdown",
   "metadata": {
    "deletable": false,
    "editable": false,
    "nbgrader": {
     "cell_type": "markdown",
     "checksum": "8dfaabebcb06f308a7ca61fdc5d369e7",
     "grade": false,
     "grade_id": "cell-c2614fa067386384",
     "locked": true,
     "points": 8,
     "schema_version": 3,
     "solution": false,
     "task": true
    }
   },
   "source": [
    "\\#### Please do not change this. This cell is used for grading."
   ]
  },
  {
   "cell_type": "code",
   "execution_count": 94,
   "metadata": {},
   "outputs": [
    {
     "name": "stderr",
     "output_type": "stream",
     "text": [
      "2021-02-19 12:26:51,670 : INFO : adding document #0 to Dictionary(0 unique tokens: [])\n",
      "2021-02-19 12:26:51,744 : INFO : built Dictionary(5937 unique tokens: ['-', 'algebra', 'intern', 'languag', 'preliminari']...) from 3204 documents (total 115970 corpus positions)\n",
      "2021-02-19 12:26:51,748 : INFO : discarding 4740 tokens: [('repeat', 8), ('glossari', 7), ('inspect', 8), ('uncol', 2), ('rung', 9), ('secant', 2), ('.', 1603), ('acceler', 6), ('diverg', 3), ('induc', 9)]...\n",
      "2021-02-19 12:26:51,749 : INFO : keeping 1197 tokens which were in no less than 10 and no more than 1602 (=50.0%) documents\n",
      "2021-02-19 12:26:51,750 : INFO : resulting dictionary: Dictionary(1197 unique tokens: ['-', 'algebra', 'intern', 'languag', 'preliminari']...)\n",
      "2021-02-19 12:26:51,882 : INFO : loading projection weights from /Users/charlottefelius/gensim-data/word2vec-google-news-300/word2vec-google-news-300.gz\n",
      "2021-02-19 12:27:24,656 : INFO : loaded (3000000, 300) matrix from /Users/charlottefelius/gensim-data/word2vec-google-news-300/word2vec-google-news-300.gz\n"
     ]
    },
    {
     "data": {
      "text/plain": [
       "[(1, -0.142578125),\n",
       " (2, -0.1640625),\n",
       " (3, -0.09033203125),\n",
       " (4, -0.1123046875),\n",
       " (5, 0.10009765625),\n",
       " (6, -0.041259765625),\n",
       " (7, 0.048828125),\n",
       " (8, -0.13671875),\n",
       " (9, 0.1962890625),\n",
       " (10, -0.134765625),\n",
       " (11, -0.017578125),\n",
       " (12, 0.0322265625),\n",
       " (13, 0.09521484375),\n",
       " (14, -0.10595703125),\n",
       " (15, -0.169921875),\n",
       " (16, 0.041015625),\n",
       " (17, -0.263671875),\n",
       " (18, -0.006317138671875),\n",
       " (19, -0.177734375),\n",
       " (20, -0.240234375),\n",
       " (21, 0.3515625),\n",
       " (22, -0.01220703125),\n",
       " (23, -0.162109375),\n",
       " (24, -0.12060546875),\n",
       " (25, 0.043212890625),\n",
       " (26, 0.10986328125),\n",
       " (27, 0.052490234375),\n",
       " (28, 0.1787109375),\n",
       " (29, -0.1455078125),\n",
       " (30, 0.1376953125),\n",
       " (31, -0.08203125),\n",
       " (32, -0.283203125),\n",
       " (33, -0.10888671875),\n",
       " (34, -0.2890625),\n",
       " (35, 0.072265625),\n",
       " (36, -0.04736328125),\n",
       " (37, 0.040283203125),\n",
       " (38, 0.06787109375),\n",
       " (39, 0.11669921875),\n",
       " (40, 0.00083160400390625),\n",
       " (41, 0.068359375),\n",
       " (42, 0.1201171875),\n",
       " (43, -0.08837890625),\n",
       " (44, 0.337890625),\n",
       " (45, -0.044677734375),\n",
       " (46, -0.0301513671875),\n",
       " (47, 0.0076904296875),\n",
       " (48, -0.0211181640625),\n",
       " (49, -0.25390625),\n",
       " (50, 0.1494140625),\n",
       " (51, 0.3984375),\n",
       " (52, 0.0216064453125),\n",
       " (53, -0.023193359375),\n",
       " (54, 0.00634765625),\n",
       " (55, 0.00823974609375),\n",
       " (56, -0.1689453125),\n",
       " (57, 0.037353515625),\n",
       " (58, -0.0634765625),\n",
       " (59, 0.1171875),\n",
       " (60, -0.1484375),\n",
       " (61, -0.07861328125),\n",
       " (62, 0.369140625),\n",
       " (63, -0.224609375),\n",
       " (64, 0.173828125),\n",
       " (65, 0.01385498046875),\n",
       " (66, 0.1875),\n",
       " (67, -0.10107421875),\n",
       " (68, 0.037841796875),\n",
       " (69, 0.0021209716796875),\n",
       " (70, -0.05126953125),\n",
       " (71, 0.09619140625),\n",
       " (72, -0.05712890625),\n",
       " (73, 0.10595703125),\n",
       " (74, -0.02099609375),\n",
       " (75, 0.1611328125),\n",
       " (76, 0.09765625),\n",
       " (77, 0.038330078125),\n",
       " (78, 0.2197265625),\n",
       " (79, 0.1064453125),\n",
       " (80, 0.0859375),\n",
       " (81, 0.1796875),\n",
       " (82, -0.0830078125),\n",
       " (83, -0.033203125),\n",
       " (84, 0.041015625),\n",
       " (85, -0.06494140625),\n",
       " (86, 0.0198974609375),\n",
       " (87, 0.1337890625),\n",
       " (88, -0.09765625),\n",
       " (89, -0.193359375),\n",
       " (90, -0.2353515625),\n",
       " (91, 0.1904296875),\n",
       " (92, 0.0024871826171875),\n",
       " (93, -0.0157470703125),\n",
       " (94, 0.0322265625),\n",
       " (95, -0.2197265625),\n",
       " (96, -0.09130859375),\n",
       " (97, 0.021240234375),\n",
       " (98, 0.158203125),\n",
       " (99, 0.298828125),\n",
       " (100, -0.328125),\n",
       " (101, 0.057373046875),\n",
       " (102, -0.04638671875),\n",
       " (103, 0.11328125),\n",
       " (104, -0.1015625),\n",
       " (105, 0.1806640625),\n",
       " (106, -0.025146484375),\n",
       " (107, -0.166015625),\n",
       " (108, -0.09619140625),\n",
       " (109, 0.018798828125),\n",
       " (110, -0.1943359375),\n",
       " (111, 0.1494140625),\n",
       " (112, -0.056640625),\n",
       " (113, -0.10693359375),\n",
       " (114, -0.150390625),\n",
       " (115, -0.17578125),\n",
       " (116, 0.11279296875),\n",
       " (117, 0.04931640625),\n",
       " (118, 0.2197265625),\n",
       " (119, 0.318359375),\n",
       " (120, 0.1572265625),\n",
       " (121, -0.29296875),\n",
       " (122, 0.10498046875),\n",
       " (123, -0.296875),\n",
       " (124, -0.013427734375),\n",
       " (125, 0.0908203125),\n",
       " (126, 0.0125732421875),\n",
       " (127, -0.051513671875),\n",
       " (128, -0.12890625),\n",
       " (129, 0.01446533203125),\n",
       " (130, 0.12060546875),\n",
       " (131, -0.10107421875),\n",
       " (132, -0.111328125),\n",
       " (133, 0.06396484375),\n",
       " (134, -0.052978515625),\n",
       " (135, -0.043212890625),\n",
       " (136, -0.012939453125),\n",
       " (137, -0.027587890625),\n",
       " (138, -0.09716796875),\n",
       " (139, -0.2021484375),\n",
       " (140, 0.123046875),\n",
       " (141, -0.04248046875),\n",
       " (142, 0.173828125),\n",
       " (143, -0.013671875),\n",
       " (144, 0.1015625),\n",
       " (145, -0.00093841552734375),\n",
       " (146, -0.03564453125),\n",
       " (147, 0.30078125),\n",
       " (148, -0.068359375),\n",
       " (149, -0.05615234375),\n",
       " (150, 0.03759765625),\n",
       " (151, 0.06591796875),\n",
       " (152, 0.040283203125),\n",
       " (153, 0.01190185546875),\n",
       " (154, 0.09619140625),\n",
       " (155, 0.3671875),\n",
       " (156, -0.279296875),\n",
       " (157, -0.052001953125),\n",
       " (158, -0.10693359375),\n",
       " (159, -0.134765625),\n",
       " (160, -0.046142578125),\n",
       " (161, 0.25),\n",
       " (162, 0.00567626953125),\n",
       " (163, -0.014404296875),\n",
       " (164, -0.031005859375),\n",
       " (165, -0.060302734375),\n",
       " (166, 0.10595703125),\n",
       " (167, 0.37890625),\n",
       " (168, 0.058837890625),\n",
       " (169, 0.123046875),\n",
       " (170, -0.115234375),\n",
       " (171, 0.1494140625),\n",
       " (172, -0.1640625),\n",
       " (173, -0.2333984375),\n",
       " (174, -0.07763671875),\n",
       " (175, 0.0267333984375),\n",
       " (176, -0.0211181640625),\n",
       " (177, 0.1943359375),\n",
       " (178, -0.05615234375),\n",
       " (179, -0.006439208984375),\n",
       " (180, -0.169921875),\n",
       " (181, -0.11865234375),\n",
       " (182, -0.0673828125),\n",
       " (183, -0.06884765625),\n",
       " (184, -0.0869140625),\n",
       " (185, -0.1015625),\n",
       " (186, 0.01416015625),\n",
       " (187, -0.201171875),\n",
       " (188, 0.09814453125),\n",
       " (189, -0.01025390625),\n",
       " (190, 0.1875),\n",
       " (191, 0.1962890625),\n",
       " (192, -0.220703125),\n",
       " (193, -0.1962890625),\n",
       " (194, -0.07373046875),\n",
       " (195, 0.06640625),\n",
       " (196, -0.1337890625),\n",
       " (197, 0.18359375),\n",
       " (198, -0.2001953125),\n",
       " (199, 0.1982421875),\n",
       " (200, 0.05029296875),\n",
       " (201, 0.0299072265625),\n",
       " (202, 0.0177001953125),\n",
       " (203, -0.193359375),\n",
       " (204, -0.09619140625),\n",
       " (205, -0.1025390625),\n",
       " (206, 0.212890625),\n",
       " (207, -0.0299072265625),\n",
       " (208, 0.1435546875),\n",
       " (209, 0.041015625),\n",
       " (210, -0.2119140625),\n",
       " (211, 0.2080078125),\n",
       " (212, 0.1376953125),\n",
       " (213, -0.0196533203125),\n",
       " (214, 0.01495361328125),\n",
       " (215, -0.09765625),\n",
       " (216, 0.2431640625),\n",
       " (217, 0.080078125),\n",
       " (218, 0.08251953125),\n",
       " (219, 0.0986328125),\n",
       " (220, 0.056884765625),\n",
       " (221, 0.04248046875),\n",
       " (222, 0.06884765625),\n",
       " (223, -0.035400390625),\n",
       " (224, -0.076171875),\n",
       " (225, -0.00016117095947265625),\n",
       " (226, -0.0751953125),\n",
       " (227, 0.224609375),\n",
       " (228, 0.1513671875),\n",
       " (229, 0.1005859375),\n",
       " (230, 0.10986328125),\n",
       " (231, 0.0238037109375),\n",
       " (232, 0.08837890625),\n",
       " (233, 0.061767578125),\n",
       " (234, -0.10791015625),\n",
       " (235, 0.062255859375),\n",
       " (236, 0.0034332275390625),\n",
       " (237, 0.08056640625),\n",
       " (238, 0.10693359375),\n",
       " (239, 0.0888671875),\n",
       " (240, -0.2373046875),\n",
       " (241, 0.06494140625),\n",
       " (242, 0.01019287109375),\n",
       " (243, -0.08837890625),\n",
       " (244, -0.33203125),\n",
       " (245, 0.004669189453125),\n",
       " (246, 0.212890625),\n",
       " (247, 0.0859375),\n",
       " (248, 0.0203857421875),\n",
       " (249, 0.045654296875),\n",
       " (250, 0.1484375),\n",
       " (251, 0.1181640625),\n",
       " (252, 0.0556640625),\n",
       " (253, -0.1728515625),\n",
       " (254, -0.125),\n",
       " (255, -0.025390625),\n",
       " (256, -0.318359375),\n",
       " (257, 0.0311279296875),\n",
       " (258, 0.0859375),\n",
       " (259, -0.0419921875),\n",
       " (260, 0.15625),\n",
       " (261, 0.1611328125),\n",
       " (262, 0.1982421875),\n",
       " (263, -0.10009765625),\n",
       " (264, 0.203125),\n",
       " (265, 0.12890625),\n",
       " (266, 0.2333984375),\n",
       " (267, -0.267578125),\n",
       " (268, 0.05517578125),\n",
       " (269, 0.048828125),\n",
       " (270, 0.072265625),\n",
       " (271, 0.244140625),\n",
       " (272, 0.244140625),\n",
       " (273, 0.056884765625),\n",
       " (274, -0.0546875),\n",
       " (275, -0.03369140625),\n",
       " (276, -0.12060546875),\n",
       " (277, 0.034912109375),\n",
       " (278, -0.1455078125),\n",
       " (279, 0.08740234375),\n",
       " (280, -0.0830078125),\n",
       " (281, 0.0172119140625),\n",
       " (282, 0.1435546875),\n",
       " (283, -0.12255859375),\n",
       " (284, 0.1796875),\n",
       " (285, 0.130859375),\n",
       " (286, -0.1650390625),\n",
       " (287, 0.01275634765625),\n",
       " (288, 0.16015625),\n",
       " (289, -0.0311279296875),\n",
       " (290, 0.08203125),\n",
       " (291, 0.173828125),\n",
       " (292, -0.16796875),\n",
       " (293, 0.130859375),\n",
       " (294, 0.08544921875),\n",
       " (295, -0.2109375),\n",
       " (296, -0.130859375),\n",
       " (297, -0.0289306640625),\n",
       " (298, -0.10546875),\n",
       " (299, 0.08447265625),\n",
       " (300, -0.1416015625)]"
      ]
     },
     "execution_count": 94,
     "metadata": {},
     "output_type": "execute_result"
    }
   ],
   "source": [
    "w2v_pretrained = W2VPretrainedRetrievalModel(doc_repr_2)\n",
    "w2v_pretrained.train_model()\n",
    "\n",
    "# you can now get an W2V vector for a given query in the following way:\n",
    "w2v_pretrained.vectorize_query(\"report\")"
   ]
  },
  {
   "cell_type": "code",
   "execution_count": 95,
   "metadata": {
    "deletable": false,
    "editable": false,
    "nbgrader": {
     "cell_type": "code",
     "checksum": "0822845afb5eafe5ddb1ffeaa4f4942a",
     "grade": true,
     "grade_id": "cell-1b1466f8ce516f42",
     "locked": true,
     "points": 2,
     "schema_version": 3,
     "solution": false,
     "task": false
    }
   },
   "outputs": [
    {
     "name": "stdout",
     "output_type": "stream",
     "text": [
      "300\n"
     ]
    }
   ],
   "source": [
    "##### Function check\n",
    "\n",
    "print(len(w2v_pretrained.vectorize_query(\"report\")))\n",
    "#####"
   ]
  },
  {
   "cell_type": "code",
   "execution_count": 96,
   "metadata": {},
   "outputs": [
    {
     "name": "stderr",
     "output_type": "stream",
     "text": [
      "<ipython-input-92-58fe68e8332b>:26: DeprecationWarning: Call to deprecated `__contains__` (Method will be removed in 4.0.0, use self.wv.__contains__() instead).\n",
      "  if token in self.model:\n",
      "<ipython-input-92-58fe68e8332b>:27: DeprecationWarning: Call to deprecated `__getitem__` (Method will be removed in 4.0.0, use self.wv.__getitem__() instead).\n",
      "  doc_dict[doc_id] += self.model[token]\n"
     ]
    },
    {
     "data": {
      "application/vnd.jupyter.widget-view+json": {
       "model_id": "7af4704ef4d44a4e94a57c6549ec025e",
       "version_major": 2,
       "version_minor": 0
      },
      "text/plain": [
       "Text(value='', description='Search Bar')"
      ]
     },
     "metadata": {},
     "output_type": "display_data"
    }
   ],
   "source": [
    "drm_w2v = DenseRetrievalRanker(w2v, cosine_sim)\n",
    "\n",
    "# test your LDA model\n",
    "search_fn = drm_w2v.search\n",
    "\n",
    "text = widgets.Text(description=\"Search Bar\", width=200)\n",
    "display(text)\n",
    "\n",
    "\n",
    "text.on_submit(handle_submit_2)"
   ]
  },
  {
   "cell_type": "code",
   "execution_count": 97,
   "metadata": {},
   "outputs": [
    {
     "data": {
      "application/vnd.jupyter.widget-view+json": {
       "model_id": "2ab26eadbfca4d6ea60d074ae1211762",
       "version_major": 2,
       "version_minor": 0
      },
      "text/plain": [
       "Text(value='', description='Search Bar')"
      ]
     },
     "metadata": {},
     "output_type": "display_data"
    }
   ],
   "source": [
    "drm_w2v_pretrained = DenseRetrievalRanker(w2v_pretrained, cosine_sim)\n",
    "\n",
    "# test your LDA model\n",
    "search_fn = drm_w2v_pretrained.search\n",
    "\n",
    "text = widgets.Text(description=\"Search Bar\", width=200)\n",
    "display(text)\n",
    "\n",
    "\n",
    "text.on_submit(handle_submit_2)"
   ]
  },
  {
   "cell_type": "markdown",
   "metadata": {
    "deletable": false,
    "editable": false,
    "nbgrader": {
     "cell_type": "markdown",
     "checksum": "51b778984fd60757974f51047c61eb15",
     "grade": false,
     "grade_id": "cell-b92f701cbc706108",
     "locked": true,
     "schema_version": 3,
     "solution": false,
     "task": false
    }
   },
   "source": [
    "**Implementation (10 points):**\n",
    "For Doc2Vec, you will need to create a list of `TaggedDocument` instead of using the `self.corpus` or `self.documents` variable. Use the document id as the 'tag'.\n",
    "  "
   ]
  },
  {
   "cell_type": "code",
   "execution_count": 98,
   "metadata": {
    "deletable": false,
    "nbgrader": {
     "cell_type": "code",
     "checksum": "1f60fdeb97febb7f4a6fd5bf109aac20",
     "grade": false,
     "grade_id": "cell-680facdcc98a19ab",
     "locked": false,
     "schema_version": 3,
     "solution": true,
     "task": false
    }
   },
   "outputs": [
    {
     "name": "stderr",
     "output_type": "stream",
     "text": [
      "2021-02-19 12:27:25,804 : INFO : adding document #0 to Dictionary(0 unique tokens: [])\n",
      "2021-02-19 12:27:25,879 : INFO : built Dictionary(5937 unique tokens: ['-', 'algebra', 'intern', 'languag', 'preliminari']...) from 3204 documents (total 115970 corpus positions)\n",
      "2021-02-19 12:27:25,883 : INFO : discarding 4740 tokens: [('repeat', 8), ('glossari', 7), ('inspect', 8), ('uncol', 2), ('rung', 9), ('secant', 2), ('.', 1603), ('acceler', 6), ('diverg', 3), ('induc', 9)]...\n",
      "2021-02-19 12:27:25,883 : INFO : keeping 1197 tokens which were in no less than 10 and no more than 1602 (=50.0%) documents\n",
      "2021-02-19 12:27:25,885 : INFO : resulting dictionary: Dictionary(1197 unique tokens: ['-', 'algebra', 'intern', 'languag', 'preliminari']...)\n",
      "2021-02-19 12:27:25,928 : INFO : collecting all words and their counts\n",
      "2021-02-19 12:27:25,929 : INFO : PROGRESS: at example #0, processed 0 words (0/s), 0 word types, 0 tags\n",
      "2021-02-19 12:27:25,943 : INFO : collected 5937 word types and 3205 unique tags from a corpus of 3204 examples and 115970 words\n",
      "2021-02-19 12:27:25,943 : INFO : Loading a fresh vocabulary\n",
      "2021-02-19 12:27:25,949 : INFO : effective_min_count=1 retains 5937 unique words (100% of original 5937, drops 0)\n",
      "2021-02-19 12:27:25,950 : INFO : effective_min_count=1 leaves 115970 word corpus (100% of original 115970, drops 0)\n",
      "2021-02-19 12:27:25,961 : INFO : deleting the raw counts dictionary of 5937 items\n",
      "2021-02-19 12:27:25,962 : INFO : sample=0.001 downsamples 40 most-common words\n",
      "2021-02-19 12:27:25,962 : INFO : downsampling leaves estimated 92346 word corpus (79.6% of prior 115970)\n",
      "2021-02-19 12:27:25,968 : INFO : estimated required memory for 5937 words and 100 dimensions: 9000100 bytes\n",
      "2021-02-19 12:27:25,968 : INFO : resetting layer weights\n",
      "2021-02-19 12:27:27,250 : INFO : training model with 3 workers on 5937 vocabulary and 100 features, using sg=0 hs=0 sample=0.001 negative=5 window=5\n",
      "2021-02-19 12:27:27,405 : INFO : worker thread finished; awaiting finish of 2 more threads\n",
      "2021-02-19 12:27:27,415 : INFO : worker thread finished; awaiting finish of 1 more threads\n",
      "2021-02-19 12:27:27,417 : INFO : worker thread finished; awaiting finish of 0 more threads\n",
      "2021-02-19 12:27:27,417 : INFO : EPOCH - 1 : training on 115970 raw words (95391 effective words) took 0.2s, 581875 effective words/s\n",
      "2021-02-19 12:27:27,577 : INFO : worker thread finished; awaiting finish of 2 more threads\n",
      "2021-02-19 12:27:27,579 : INFO : worker thread finished; awaiting finish of 1 more threads\n",
      "2021-02-19 12:27:27,580 : INFO : worker thread finished; awaiting finish of 0 more threads\n",
      "2021-02-19 12:27:27,581 : INFO : EPOCH - 2 : training on 115970 raw words (95422 effective words) took 0.2s, 596838 effective words/s\n",
      "2021-02-19 12:27:27,733 : INFO : worker thread finished; awaiting finish of 2 more threads\n",
      "2021-02-19 12:27:27,739 : INFO : worker thread finished; awaiting finish of 1 more threads\n",
      "2021-02-19 12:27:27,740 : INFO : worker thread finished; awaiting finish of 0 more threads\n",
      "2021-02-19 12:27:27,740 : INFO : EPOCH - 3 : training on 115970 raw words (95418 effective words) took 0.2s, 605492 effective words/s\n",
      "2021-02-19 12:27:27,891 : INFO : worker thread finished; awaiting finish of 2 more threads\n",
      "2021-02-19 12:27:27,896 : INFO : worker thread finished; awaiting finish of 1 more threads\n",
      "2021-02-19 12:27:27,900 : INFO : worker thread finished; awaiting finish of 0 more threads\n",
      "2021-02-19 12:27:27,900 : INFO : EPOCH - 4 : training on 115970 raw words (95551 effective words) took 0.2s, 607478 effective words/s\n",
      "2021-02-19 12:27:28,056 : INFO : worker thread finished; awaiting finish of 2 more threads\n",
      "2021-02-19 12:27:28,059 : INFO : worker thread finished; awaiting finish of 1 more threads\n",
      "2021-02-19 12:27:28,062 : INFO : worker thread finished; awaiting finish of 0 more threads\n",
      "2021-02-19 12:27:28,062 : INFO : EPOCH - 5 : training on 115970 raw words (95441 effective words) took 0.2s, 594567 effective words/s\n",
      "2021-02-19 12:27:28,213 : INFO : worker thread finished; awaiting finish of 2 more threads\n",
      "2021-02-19 12:27:28,220 : INFO : worker thread finished; awaiting finish of 1 more threads\n",
      "2021-02-19 12:27:28,222 : INFO : worker thread finished; awaiting finish of 0 more threads\n",
      "2021-02-19 12:27:28,222 : INFO : EPOCH - 6 : training on 115970 raw words (95514 effective words) took 0.2s, 606618 effective words/s\n",
      "2021-02-19 12:27:28,378 : INFO : worker thread finished; awaiting finish of 2 more threads\n",
      "2021-02-19 12:27:28,382 : INFO : worker thread finished; awaiting finish of 1 more threads\n",
      "2021-02-19 12:27:28,384 : INFO : worker thread finished; awaiting finish of 0 more threads\n",
      "2021-02-19 12:27:28,384 : INFO : EPOCH - 7 : training on 115970 raw words (95568 effective words) took 0.2s, 596683 effective words/s\n",
      "2021-02-19 12:27:28,536 : INFO : worker thread finished; awaiting finish of 2 more threads\n",
      "2021-02-19 12:27:28,544 : INFO : worker thread finished; awaiting finish of 1 more threads\n",
      "2021-02-19 12:27:28,544 : INFO : worker thread finished; awaiting finish of 0 more threads\n",
      "2021-02-19 12:27:28,544 : INFO : EPOCH - 8 : training on 115970 raw words (95453 effective words) took 0.2s, 603677 effective words/s\n",
      "2021-02-19 12:27:28,699 : INFO : worker thread finished; awaiting finish of 2 more threads\n",
      "2021-02-19 12:27:28,703 : INFO : worker thread finished; awaiting finish of 1 more threads\n",
      "2021-02-19 12:27:28,705 : INFO : worker thread finished; awaiting finish of 0 more threads\n",
      "2021-02-19 12:27:28,705 : INFO : EPOCH - 9 : training on 115970 raw words (95738 effective words) took 0.2s, 604267 effective words/s\n",
      "2021-02-19 12:27:28,859 : INFO : worker thread finished; awaiting finish of 2 more threads\n",
      "2021-02-19 12:27:28,860 : INFO : worker thread finished; awaiting finish of 1 more threads\n",
      "2021-02-19 12:27:28,866 : INFO : worker thread finished; awaiting finish of 0 more threads\n",
      "2021-02-19 12:27:28,866 : INFO : EPOCH - 10 : training on 115970 raw words (95602 effective words) took 0.2s, 604312 effective words/s\n",
      "2021-02-19 12:27:29,019 : INFO : worker thread finished; awaiting finish of 2 more threads\n",
      "2021-02-19 12:27:29,025 : INFO : worker thread finished; awaiting finish of 1 more threads\n",
      "2021-02-19 12:27:29,027 : INFO : worker thread finished; awaiting finish of 0 more threads\n",
      "2021-02-19 12:27:29,027 : INFO : EPOCH - 11 : training on 115970 raw words (95661 effective words) took 0.2s, 601232 effective words/s\n",
      "2021-02-19 12:27:29,174 : INFO : worker thread finished; awaiting finish of 2 more threads\n",
      "2021-02-19 12:27:29,183 : INFO : worker thread finished; awaiting finish of 1 more threads\n",
      "2021-02-19 12:27:29,185 : INFO : worker thread finished; awaiting finish of 0 more threads\n",
      "2021-02-19 12:27:29,185 : INFO : EPOCH - 12 : training on 115970 raw words (95631 effective words) took 0.2s, 613203 effective words/s\n",
      "2021-02-19 12:27:29,333 : INFO : worker thread finished; awaiting finish of 2 more threads\n",
      "2021-02-19 12:27:29,342 : INFO : worker thread finished; awaiting finish of 1 more threads\n",
      "2021-02-19 12:27:29,345 : INFO : worker thread finished; awaiting finish of 0 more threads\n",
      "2021-02-19 12:27:29,345 : INFO : EPOCH - 13 : training on 115970 raw words (95522 effective words) took 0.2s, 606976 effective words/s\n",
      "2021-02-19 12:27:29,497 : INFO : worker thread finished; awaiting finish of 2 more threads\n",
      "2021-02-19 12:27:29,504 : INFO : worker thread finished; awaiting finish of 1 more threads\n",
      "2021-02-19 12:27:29,505 : INFO : worker thread finished; awaiting finish of 0 more threads\n",
      "2021-02-19 12:27:29,505 : INFO : EPOCH - 14 : training on 115970 raw words (95664 effective words) took 0.2s, 605755 effective words/s\n",
      "2021-02-19 12:27:29,660 : INFO : worker thread finished; awaiting finish of 2 more threads\n",
      "2021-02-19 12:27:29,663 : INFO : worker thread finished; awaiting finish of 1 more threads\n",
      "2021-02-19 12:27:29,665 : INFO : worker thread finished; awaiting finish of 0 more threads\n",
      "2021-02-19 12:27:29,665 : INFO : EPOCH - 15 : training on 115970 raw words (95440 effective words) took 0.2s, 605430 effective words/s\n",
      "2021-02-19 12:27:29,818 : INFO : worker thread finished; awaiting finish of 2 more threads\n",
      "2021-02-19 12:27:29,825 : INFO : worker thread finished; awaiting finish of 1 more threads\n"
     ]
    },
    {
     "name": "stderr",
     "output_type": "stream",
     "text": [
      "2021-02-19 12:27:29,825 : INFO : worker thread finished; awaiting finish of 0 more threads\n",
      "2021-02-19 12:27:29,826 : INFO : EPOCH - 16 : training on 115970 raw words (95420 effective words) took 0.2s, 602030 effective words/s\n",
      "2021-02-19 12:27:29,980 : INFO : worker thread finished; awaiting finish of 2 more threads\n",
      "2021-02-19 12:27:29,985 : INFO : worker thread finished; awaiting finish of 1 more threads\n",
      "2021-02-19 12:27:29,987 : INFO : worker thread finished; awaiting finish of 0 more threads\n",
      "2021-02-19 12:27:29,987 : INFO : EPOCH - 17 : training on 115970 raw words (95421 effective words) took 0.2s, 599947 effective words/s\n",
      "2021-02-19 12:27:30,135 : INFO : worker thread finished; awaiting finish of 2 more threads\n",
      "2021-02-19 12:27:30,143 : INFO : worker thread finished; awaiting finish of 1 more threads\n",
      "2021-02-19 12:27:30,145 : INFO : worker thread finished; awaiting finish of 0 more threads\n",
      "2021-02-19 12:27:30,145 : INFO : EPOCH - 18 : training on 115970 raw words (95630 effective words) took 0.2s, 613850 effective words/s\n",
      "2021-02-19 12:27:30,297 : INFO : worker thread finished; awaiting finish of 2 more threads\n",
      "2021-02-19 12:27:30,304 : INFO : worker thread finished; awaiting finish of 1 more threads\n",
      "2021-02-19 12:27:30,305 : INFO : worker thread finished; awaiting finish of 0 more threads\n",
      "2021-02-19 12:27:30,305 : INFO : EPOCH - 19 : training on 115970 raw words (95648 effective words) took 0.2s, 604275 effective words/s\n",
      "2021-02-19 12:27:30,458 : INFO : worker thread finished; awaiting finish of 2 more threads\n",
      "2021-02-19 12:27:30,464 : INFO : worker thread finished; awaiting finish of 1 more threads\n",
      "2021-02-19 12:27:30,465 : INFO : worker thread finished; awaiting finish of 0 more threads\n",
      "2021-02-19 12:27:30,465 : INFO : EPOCH - 20 : training on 115970 raw words (95497 effective words) took 0.2s, 606146 effective words/s\n",
      "2021-02-19 12:27:30,465 : INFO : training on a 2319400 raw words (1910632 effective words) took 3.2s, 594266 effective words/s\n"
     ]
    },
    {
     "data": {
      "text/plain": [
       "[(1, -0.040814254),\n",
       " (2, 0.074434504),\n",
       " (3, -0.0214533),\n",
       " (4, 0.037585028),\n",
       " (5, 0.045548104),\n",
       " (6, 0.015297876),\n",
       " (7, 0.0748866),\n",
       " (8, 0.09676081),\n",
       " (9, 0.044007216),\n",
       " (10, 0.07997817),\n",
       " (11, 0.07808232),\n",
       " (12, 0.016946727),\n",
       " (13, 0.0082056075),\n",
       " (14, 0.013622217),\n",
       " (15, -0.069017194),\n",
       " (16, 0.064324886),\n",
       " (17, -0.12871574),\n",
       " (18, 0.035115357),\n",
       " (19, -0.03632715),\n",
       " (20, -0.030865898),\n",
       " (21, 0.026088497),\n",
       " (22, 0.023661444),\n",
       " (23, 0.060825944),\n",
       " (24, -0.014943234),\n",
       " (25, -0.05357774),\n",
       " (26, -0.030664897),\n",
       " (27, 0.007871541),\n",
       " (28, 0.059328604),\n",
       " (29, -0.0993382),\n",
       " (30, 0.0013794106),\n",
       " (31, 0.025602475),\n",
       " (32, -0.0433987),\n",
       " (33, 0.07922132),\n",
       " (34, -0.09674054),\n",
       " (35, 0.012056878),\n",
       " (36, 0.044358443),\n",
       " (37, 0.008889533),\n",
       " (38, 0.004706637),\n",
       " (39, 0.11102669),\n",
       " (40, 0.031911958),\n",
       " (41, -0.0071042837),\n",
       " (42, -0.010552276),\n",
       " (43, -0.055917438),\n",
       " (44, 0.022759514),\n",
       " (45, 0.092196755),\n",
       " (46, -0.053862803),\n",
       " (47, 0.060604494),\n",
       " (48, 0.03623277),\n",
       " (49, -0.01393677),\n",
       " (50, -0.022636227),\n",
       " (51, 0.09997073),\n",
       " (52, -0.0033189086),\n",
       " (53, 0.014348477),\n",
       " (54, 0.00793279),\n",
       " (55, 0.10728345),\n",
       " (56, -0.017843723),\n",
       " (57, -0.052626945),\n",
       " (58, 0.11729289),\n",
       " (59, -0.041410923),\n",
       " (60, 0.024972595),\n",
       " (61, -0.06568996),\n",
       " (62, 0.025921352),\n",
       " (63, -0.009816348),\n",
       " (64, 0.058087707),\n",
       " (65, 0.01150089),\n",
       " (66, 0.02944421),\n",
       " (67, -0.0025286302),\n",
       " (68, 0.030721543),\n",
       " (69, 0.08126661),\n",
       " (70, -0.054891374),\n",
       " (71, 0.07248694),\n",
       " (72, 0.037596755),\n",
       " (73, 0.0030628121),\n",
       " (74, -0.016316026),\n",
       " (75, -0.06433227),\n",
       " (76, -0.044616893),\n",
       " (77, 0.00039990083),\n",
       " (78, 0.032884896),\n",
       " (79, 0.03323101),\n",
       " (80, -0.011113624),\n",
       " (81, 0.09475444),\n",
       " (82, -0.03071534),\n",
       " (83, 0.020533485),\n",
       " (84, 0.038178865),\n",
       " (85, -0.03832212),\n",
       " (86, -0.0027035265),\n",
       " (87, -0.010058348),\n",
       " (88, 0.015771989),\n",
       " (89, -0.06669016),\n",
       " (90, 0.018491235),\n",
       " (91, 0.02261288),\n",
       " (92, 0.039423246),\n",
       " (93, -0.13149628),\n",
       " (94, -0.030599466),\n",
       " (95, 0.046623137),\n",
       " (96, -0.0098520685),\n",
       " (97, 0.086345725),\n",
       " (98, 0.027267477),\n",
       " (99, -0.045193184),\n",
       " (100, 0.050711483)]"
      ]
     },
     "execution_count": 98,
     "metadata": {},
     "output_type": "execute_result"
    }
   ],
   "source": [
    "class D2VRetrievalModel(VectorSpaceRetrievalModel):\n",
    "    def __init__(self, doc_repr):\n",
    "        super().__init__(doc_repr)\n",
    "        \n",
    "        self.vector_size= 100\n",
    "        self.min_count = 1\n",
    "        self.epochs = 20\n",
    "        \n",
    "        # YOUR CODE HERE\n",
    "        self.docs = []\n",
    "        for doc_id, content in self.doc_repr:\n",
    "            self.docs.append(TaggedDocument(words=content, tags=[doc_id]))\n",
    "        \n",
    "    def train_model(self):\n",
    "        # YOUR CODE HERE\n",
    "        self.model = Doc2Vec(\n",
    "            self.docs,\n",
    "            vector_size=self.vector_size,\n",
    "            min_count=self.min_count,\n",
    "            epochs=self.epochs\n",
    "        )\n",
    "    \n",
    "    def vectorize_documents(self):\n",
    "        \"\"\"\n",
    "            Returns a doc_id -> vector dictionary\n",
    "        \"\"\"\n",
    "        # YOUR CODE HERE\n",
    "        doc_dict = {}\n",
    "        for doc_id, content in self.doc_repr:\n",
    "            vector = self.model.infer_vector(content)\n",
    "            doc_dict[doc_id] = [(dim+1, vector[dim]) for dim in range(len(vector))]\n",
    "        return doc_dict\n",
    "\n",
    "    def vectorize_query(self, query):\n",
    "        # YOUR CODE HERE\n",
    "        query = process_text(query, **config_2)\n",
    "        vector = self.model.infer_vector(query)\n",
    "        return [(dim+1, vector[dim]) for dim in range(len(vector))]\n",
    "        \n",
    "d2v = D2VRetrievalModel(doc_repr_2)\n",
    "d2v.train_model()\n",
    "\n",
    "\n",
    "# # you can now get an LSI vector for a given query in the following way:\n",
    "d2v.vectorize_query(\"report\")"
   ]
  },
  {
   "cell_type": "code",
   "execution_count": 99,
   "metadata": {
    "deletable": false,
    "editable": false,
    "nbgrader": {
     "cell_type": "code",
     "checksum": "e83a363a9d4f136efbdde1426a83925e",
     "grade": true,
     "grade_id": "cell-5e2c5e0c9a2e8cb5",
     "locked": true,
     "points": 0,
     "schema_version": 3,
     "solution": false,
     "task": false
    }
   },
   "outputs": [],
   "source": [
    "#### Please do not change this. This cell is used for grading."
   ]
  },
  {
   "cell_type": "markdown",
   "metadata": {
    "deletable": false,
    "editable": false,
    "nbgrader": {
     "cell_type": "markdown",
     "checksum": "5bb46bf6b9be1e0ca66f0b0bc6260ecb",
     "grade": false,
     "grade_id": "cell-8a49d414f798a595",
     "locked": true,
     "points": 10,
     "schema_version": 3,
     "solution": false,
     "task": true
    }
   },
   "source": [
    "\\#### Please do not change this. This cell is used for grading."
   ]
  },
  {
   "cell_type": "code",
   "execution_count": 100,
   "metadata": {},
   "outputs": [
    {
     "data": {
      "application/vnd.jupyter.widget-view+json": {
       "model_id": "de69f5cb5a4b40d9b074211a11a9c6cb",
       "version_major": 2,
       "version_minor": 0
      },
      "text/plain": [
       "Text(value='', description='Search Bar')"
      ]
     },
     "metadata": {},
     "output_type": "display_data"
    }
   ],
   "source": [
    "drm_d2v = DenseRetrievalRanker(d2v, cosine_sim)\n",
    "\n",
    "# test your LDA model\n",
    "search_fn = drm_d2v.search\n",
    "\n",
    "text = widgets.Text(description=\"Search Bar\", width=200)\n",
    "display(text)\n",
    "\n",
    "\n",
    "text.on_submit(handle_submit_2)"
   ]
  },
  {
   "cell_type": "markdown",
   "metadata": {
    "deletable": false,
    "editable": false,
    "nbgrader": {
     "cell_type": "markdown",
     "checksum": "363ec36c1d03d9f9e1c2045a6e193c14",
     "grade": false,
     "grade_id": "cell-3529ae29eece7b97",
     "locked": true,
     "schema_version": 3,
     "solution": false,
     "task": false
    }
   },
   "source": [
    "---\n",
    "## Section 9: Re-ranking (10 points) <a class=\"anchor\" id=\"reranking\"></a>\n",
    "\n",
    "[Back to Part 2](#part2)\n",
    "\n",
    "To motivate the re-ranking perspective (i.e retrieve with lexical method + rerank with a semantic method), let's search using semantic methods and compare it to BM25's performance, along with their runtime:\n"
   ]
  },
  {
   "cell_type": "code",
   "execution_count": 101,
   "metadata": {
    "deletable": false,
    "editable": false,
    "nbgrader": {
     "cell_type": "code",
     "checksum": "5755f70e3eb28abc65d14d80125338af",
     "grade": false,
     "grade_id": "cell-f8f43bf5ae383128",
     "locked": true,
     "schema_version": 3,
     "solution": false,
     "task": false
    }
   },
   "outputs": [
    {
     "name": "stdout",
     "output_type": "stream",
     "text": [
      "BM25: \n",
      "765 µs ± 3.16 µs per loop (mean ± std. dev. of 7 runs, 1000 loops each)\n",
      "LSI: \n"
     ]
    },
    {
     "name": "stderr",
     "output_type": "stream",
     "text": [
      "<ipython-input-78-56b467aaba55>:19: RuntimeWarning: invalid value encountered in double_scalars\n",
      "  return dot(vec_1, vec_2)/(np.linalg.norm([i[1] for i in vec_1])*np.linalg.norm([j[1] for j in vec_2]))\n"
     ]
    },
    {
     "name": "stdout",
     "output_type": "stream",
     "text": [
      "173 ms ± 3.21 ms per loop (mean ± std. dev. of 7 runs, 10 loops each)\n",
      "LDA: \n",
      "3.95 s ± 39.1 ms per loop (mean ± std. dev. of 7 runs, 1 loop each)\n",
      "W2V: \n"
     ]
    },
    {
     "name": "stderr",
     "output_type": "stream",
     "text": [
      "<ipython-input-92-58fe68e8332b>:41: DeprecationWarning: Call to deprecated `__contains__` (Method will be removed in 4.0.0, use self.wv.__contains__() instead).\n",
      "  if token in self.model:\n",
      "<ipython-input-92-58fe68e8332b>:42: DeprecationWarning: Call to deprecated `__getitem__` (Method will be removed in 4.0.0, use self.wv.__getitem__() instead).\n",
      "  vector += self.model[token]\n"
     ]
    },
    {
     "name": "stdout",
     "output_type": "stream",
     "text": [
      "172 ms ± 2.06 ms per loop (mean ± std. dev. of 7 runs, 10 loops each)\n",
      "W2V(Pretrained): \n",
      "451 ms ± 2.31 ms per loop (mean ± std. dev. of 7 runs, 1 loop each)\n",
      "D2V:\n",
      "194 ms ± 3.46 ms per loop (mean ± std. dev. of 7 runs, 1 loop each)\n"
     ]
    }
   ],
   "source": [
    "query = \"algebraic functions\"\n",
    "print(\"BM25: \")\n",
    "%timeit bm25_search(query, 2)\n",
    "print(\"LSI: \")\n",
    "%timeit drm_lsi.search(query)\n",
    "print(\"LDA: \")\n",
    "%timeit drm_lda.search(query)\n",
    "print(\"W2V: \")\n",
    "%timeit drm_w2v.search(query)\n",
    "print(\"W2V(Pretrained): \")\n",
    "%timeit drm_w2v_pretrained.search(query)\n",
    "print(\"D2V:\")\n",
    "%timeit drm_d2v.search(query)"
   ]
  },
  {
   "cell_type": "markdown",
   "metadata": {
    "deletable": false,
    "editable": false,
    "nbgrader": {
     "cell_type": "markdown",
     "checksum": "ae398da0a8c23c95bcbb0023b7ec6f34",
     "grade": false,
     "grade_id": "cell-db5ff09f97841af7",
     "locked": true,
     "schema_version": 3,
     "solution": false,
     "task": false
    }
   },
   "source": [
    "---\n",
    "\n",
    "**Implementation (10 points):**\n",
    "Re-ranking involves retrieving a small set of documents using simple but fast methods like BM25 and then re-ranking them with the aid of semantic methods such as LDA or LSI. Implement the following class, which takes in an `initial_retrieval_fn` - the initial retrieval function and `vsrm` - an instance of the `VectorSpaceRetrievalModel` class (i.e LSI/LDA) as input. The search function should first retrieve an initial list of K documents, and then these documents are re-ranked using a semantic method. This not only makes retrieval faster, but semantic methods perform poorly when used in isolation, as you will find out."
   ]
  },
  {
   "cell_type": "code",
   "execution_count": 102,
   "metadata": {
    "deletable": false,
    "nbgrader": {
     "cell_type": "code",
     "checksum": "63b6b05a676a2ae3f08d8bed1bc59428",
     "grade": false,
     "grade_id": "cell-5bf47600d1a0c507",
     "locked": false,
     "schema_version": 3,
     "solution": true,
     "task": false
    }
   },
   "outputs": [],
   "source": [
    "# TODO: Implement this! (10 points)\n",
    "class DenseRerankingModel:\n",
    "    def __init__(self, initial_retrieval_fn, vsrm, similarity_fn):\n",
    "        \"\"\"\n",
    "            initial_retrieval_fn: takes in a query and returns a list of [(doc_id, score)] (sorted)\n",
    "            vsrm: instance of `VectorSpaceRetrievalModel`\n",
    "            similarity_fn: function instance that takes in two vectors \n",
    "                            and returns a similarity score e.g cosine_sim defined earlier\n",
    "        \"\"\"\n",
    "        self.ret = initial_retrieval_fn\n",
    "        self.vsrm = vsrm\n",
    "        self.similarity_fn = similarity_fn\n",
    "        self.vectorized_documents = vsrm.vectorize_documents()\n",
    "        \n",
    "        assert len(self.vectorized_documents) == len(doc_repr_2)\n",
    "    \n",
    "    def search(self, query, K=50):\n",
    "        \"\"\"\n",
    "            First, retrieve the top K results using the retrieval function\n",
    "            Then, re-rank the results using the VSRM instance\n",
    "        \"\"\"\n",
    "        # YOUR CODE HERE\n",
    "        query_vector = self.vsrm.vectorize_query(query)   \n",
    "        rank = [] \n",
    "        doc_id = [] \n",
    "        \n",
    "        # Re-rank the top K results using the VSRM instance \n",
    "        for doc in self.ret(query)[:K]:\n",
    "            doc_vector = self.vectorized_documents[doc[0]]\n",
    "            score = self.similarity_fn(query_vector, doc_vector)\n",
    "            doc_id.append(doc[0])\n",
    "            rank.append(score)\n",
    "            \n",
    "        return sorted(zip(doc_id, rank), key=lambda x: x[1], reverse=True)"
   ]
  },
  {
   "cell_type": "code",
   "execution_count": 103,
   "metadata": {
    "deletable": false,
    "editable": false,
    "nbgrader": {
     "cell_type": "code",
     "checksum": "334ab5af96976265cace682ab82a7387",
     "grade": true,
     "grade_id": "cell-52c6d18a4c0b4882",
     "locked": true,
     "points": 0,
     "schema_version": 3,
     "solution": false,
     "task": false
    }
   },
   "outputs": [
    {
     "name": "stderr",
     "output_type": "stream",
     "text": [
      "<ipython-input-92-58fe68e8332b>:26: DeprecationWarning: Call to deprecated `__contains__` (Method will be removed in 4.0.0, use self.wv.__contains__() instead).\n",
      "  if token in self.model:\n",
      "<ipython-input-92-58fe68e8332b>:27: DeprecationWarning: Call to deprecated `__getitem__` (Method will be removed in 4.0.0, use self.wv.__getitem__() instead).\n",
      "  doc_dict[doc_id] += self.model[token]\n"
     ]
    }
   ],
   "source": [
    "##### Function check\n",
    "bm25_search_2 = partial(bm25_search, index_set=2)\n",
    "lsi_rerank = DenseRerankingModel(bm25_search_2, lsi, cosine_sim)\n",
    "lda_rerank = DenseRerankingModel(bm25_search_2, lda, jenson_shannon_sim)\n",
    "w2v_rerank = DenseRerankingModel(bm25_search_2, w2v, cosine_sim)\n",
    "w2v_pretrained_rerank = DenseRerankingModel(bm25_search_2, w2v_pretrained, cosine_sim)\n",
    "d2v_rerank = DenseRerankingModel(bm25_search_2, d2v, cosine_sim)\n",
    "\n",
    "##### "
   ]
  },
  {
   "cell_type": "markdown",
   "metadata": {
    "deletable": false,
    "editable": false,
    "nbgrader": {
     "cell_type": "markdown",
     "checksum": "bd904253f45f84e63bab3a69729058fc",
     "grade": false,
     "grade_id": "cell-93215dfe6bcf7cff",
     "locked": true,
     "points": 10,
     "schema_version": 3,
     "solution": false,
     "task": true
    }
   },
   "source": [
    "\\#### Please do not change this. This cell is used for grading."
   ]
  },
  {
   "cell_type": "markdown",
   "metadata": {
    "deletable": false,
    "editable": false,
    "nbgrader": {
     "cell_type": "markdown",
     "checksum": "b592e60292bfe3d9ef2930a354c4077a",
     "grade": false,
     "grade_id": "cell-aa694ff55fa91e7d",
     "locked": true,
     "schema_version": 3,
     "solution": false,
     "task": false
    }
   },
   "source": [
    "---\n",
    "Now, let us time the new search functions:"
   ]
  },
  {
   "cell_type": "code",
   "execution_count": 104,
   "metadata": {
    "deletable": false,
    "editable": false,
    "nbgrader": {
     "cell_type": "code",
     "checksum": "338c7e3528cba266a865a061287c0e38",
     "grade": false,
     "grade_id": "cell-5edbd481562ad91f",
     "locked": true,
     "schema_version": 3,
     "solution": false,
     "task": false
    }
   },
   "outputs": [
    {
     "name": "stdout",
     "output_type": "stream",
     "text": [
      "BM25: \n",
      "770 µs ± 2.76 µs per loop (mean ± std. dev. of 7 runs, 1000 loops each)\n",
      "LSI: \n",
      "3.72 ms ± 15.2 µs per loop (mean ± std. dev. of 7 runs, 100 loops each)\n",
      "LDA: \n",
      "62.2 ms ± 61.9 µs per loop (mean ± std. dev. of 7 runs, 10 loops each)\n",
      "W2V: \n"
     ]
    },
    {
     "name": "stderr",
     "output_type": "stream",
     "text": [
      "<ipython-input-92-58fe68e8332b>:41: DeprecationWarning: Call to deprecated `__contains__` (Method will be removed in 4.0.0, use self.wv.__contains__() instead).\n",
      "  if token in self.model:\n",
      "<ipython-input-92-58fe68e8332b>:42: DeprecationWarning: Call to deprecated `__getitem__` (Method will be removed in 4.0.0, use self.wv.__getitem__() instead).\n",
      "  vector += self.model[token]\n"
     ]
    },
    {
     "name": "stdout",
     "output_type": "stream",
     "text": [
      "3.58 ms ± 6.96 µs per loop (mean ± std. dev. of 7 runs, 100 loops each)\n",
      "W2V(Pretrained): \n",
      "7.86 ms ± 34.3 µs per loop (mean ± std. dev. of 7 runs, 100 loops each)\n",
      "D2V:\n",
      "4.4 ms ± 5.25 µs per loop (mean ± std. dev. of 7 runs, 100 loops each)\n"
     ]
    }
   ],
   "source": [
    "query = \"algebraic functions\"\n",
    "print(\"BM25: \")\n",
    "%timeit bm25_search(query, 2)\n",
    "print(\"LSI: \")\n",
    "%timeit lsi_rerank.search(query)\n",
    "print(\"LDA: \")\n",
    "%timeit lda_rerank.search(query)\n",
    "print(\"W2V: \")\n",
    "%timeit w2v_rerank.search(query)\n",
    "print(\"W2V(Pretrained): \")\n",
    "%timeit w2v_pretrained_rerank.search(query)\n",
    "print(\"D2V:\")\n",
    "%timeit d2v_rerank.search(query)"
   ]
  },
  {
   "cell_type": "markdown",
   "metadata": {
    "deletable": false,
    "editable": false,
    "nbgrader": {
     "cell_type": "markdown",
     "checksum": "c45c5e3f015b2de89d9d39ae3766368b",
     "grade": false,
     "grade_id": "cell-85c50f2ab9eec301",
     "locked": true,
     "schema_version": 3,
     "solution": false,
     "task": false
    }
   },
   "source": [
    "---\n",
    "As you can see, it is much faster (but BM25 is still orders of magnitude faster)."
   ]
  },
  {
   "cell_type": "markdown",
   "metadata": {
    "deletable": false,
    "editable": false,
    "nbgrader": {
     "cell_type": "markdown",
     "checksum": "1e2f3388e3807659f303fe31a75a010e",
     "grade": false,
     "grade_id": "cell-5071bb99b2af61cb",
     "locked": true,
     "schema_version": 3,
     "solution": false,
     "task": false
    }
   },
   "source": [
    "---\n",
    "## Section 10: Evaluation & Analysis (30 points) <a class=\"anchor\" id=\"reranking_eval\"></a>\n",
    "\n",
    "[Back to Part 2](#part2)\n",
    "\n",
    "[Previously](#evaluation) we have implemented some evaluation metrics and used them for measuring the ranking performance of term-based IR algorithms. In this section, we will do the same for semantic methods, both with and without re-ranking.\n",
    "\n",
    "### Section 10.1: Plot (10 points)\n",
    "\n",
    "First, gather the results. The results should consider the index set, the different search functions and different metrics. Plot the results in bar charts, per metric, with clear labels.\n",
    "\n",
    "Then, gather only the re-ranking models, and plot and compare them with the results obtained in part 1 (only index set 2)."
   ]
  },
  {
   "cell_type": "code",
   "execution_count": 105,
   "metadata": {
    "deletable": false,
    "editable": false,
    "nbgrader": {
     "cell_type": "code",
     "checksum": "4fe81520ac6413a803838913fd64de03",
     "grade": false,
     "grade_id": "cell-b672fe6dfae0b1ce",
     "locked": true,
     "schema_version": 3,
     "solution": false,
     "task": false
    }
   },
   "outputs": [],
   "source": [
    "list_of_sem_search_fns = [\n",
    "    (\"lda\", drm_lda.search),\n",
    "    (\"lsi\", drm_lsi.search),\n",
    "    (\"w2v\", drm_w2v.search),\n",
    "    (\"w2v_pretrained\", drm_w2v_pretrained.search),\n",
    "    (\"d2v\", drm_d2v.search),\n",
    "    (\"lsi_rr\", lsi_rerank.search),\n",
    "    (\"lda_rr\", lda_rerank.search),\n",
    "    (\"w2v_rr\", w2v_rerank.search),\n",
    "    (\"w2v_pretrained_rr\", w2v_pretrained_rerank.search),\n",
    "    (\"d2v_rr\", d2v_rerank.search),\n",
    "    \n",
    "]"
   ]
  },
  {
   "cell_type": "code",
   "execution_count": 106,
   "metadata": {
    "deletable": false,
    "nbgrader": {
     "cell_type": "code",
     "checksum": "54707c4afac084299aeefa047259b4a9",
     "grade": true,
     "grade_id": "cell-7dd8273b0f5a3c22",
     "locked": false,
     "points": 10,
     "schema_version": 3,
     "solution": true,
     "task": false
    }
   },
   "outputs": [
    {
     "name": "stderr",
     "output_type": "stream",
     "text": [
      "<ipython-input-78-56b467aaba55>:19: RuntimeWarning: invalid value encountered in double_scalars\n",
      "  return dot(vec_1, vec_2)/(np.linalg.norm([i[1] for i in vec_1])*np.linalg.norm([j[1] for j in vec_2]))\n",
      "<ipython-input-92-58fe68e8332b>:41: DeprecationWarning: Call to deprecated `__contains__` (Method will be removed in 4.0.0, use self.wv.__contains__() instead).\n",
      "  if token in self.model:\n",
      "<ipython-input-92-58fe68e8332b>:42: DeprecationWarning: Call to deprecated `__getitem__` (Method will be removed in 4.0.0, use self.wv.__getitem__() instead).\n",
      "  vector += self.model[token]\n"
     ]
    },
    {
     "data": {
      "image/png": "[encoded data removed]",
      "text/plain": [
       "<Figure size 432x288 with 1 Axes>"
      ]
     },
     "metadata": {
      "needs_background": "light"
     },
     "output_type": "display_data"
    },
    {
     "data": {
      "image/png": "[encoded data removed]",
      "text/plain": [
       "<Figure size 432x288 with 1 Axes>"
      ]
     },
     "metadata": {
      "needs_background": "light"
     },
     "output_type": "display_data"
    },
    {
     "data": {
      "image/png": "[encoded data removed]",
      "text/plain": [
       "<Figure size 432x288 with 1 Axes>"
      ]
     },
     "metadata": {
      "needs_background": "light"
     },
     "output_type": "display_data"
    },
    {
     "data": {
      "image/png": "[encoded data removed]",
      "text/plain": [
       "<Figure size 432x288 with 1 Axes>"
      ]
     },
     "metadata": {
      "needs_background": "light"
     },
     "output_type": "display_data"
    },
    {
     "data": {
      "image/png": "[encoded data removed]",
      "text/plain": [
       "<Figure size 432x288 with 1 Axes>"
      ]
     },
     "metadata": {
      "needs_background": "light"
     },
     "output_type": "display_data"
    },
    {
     "data": {
      "image/png": "[encoded data removed]",
      "text/plain": [
       "<Figure size 432x288 with 1 Axes>"
      ]
     },
     "metadata": {
      "needs_background": "light"
     },
     "output_type": "display_data"
    },
    {
     "data": {
      "image/png": "[encoded data removed]",
      "text/plain": [
       "<Figure size 432x288 with 1 Axes>"
      ]
     },
     "metadata": {
      "needs_background": "light"
     },
     "output_type": "display_data"
    },
    {
     "data": {
      "image/png": "[encoded data removed]",
      "text/plain": [
       "<Figure size 432x288 with 1 Axes>"
      ]
     },
     "metadata": {
      "needs_background": "light"
     },
     "output_type": "display_data"
    }
   ],
   "source": [
    "# YOUR CODE HERE\n",
    "ERR=[]\n",
    "MAP=[]\n",
    "RECALL1=[]\n",
    "RECALL5=[]\n",
    "RECALL10=[]\n",
    "PRECISION1=[]\n",
    "PRECISION5=[]\n",
    "PRECISION10=[]\n",
    "str_metrics = [\"ERR\",\"MAP\", \"RECALL@1\", \"RECALL@5\", \"RECALL@10\", \"PRECISION@1\", \n",
    "               \"PRECISION@5\", \"PRECISION@10\"]    \n",
    "index = [\"lda\", \"lsi\",\"w2v\",\"w2v_pretrained\",\"d2v\",\"lsi_rr\",\"lda_rr\",\"w2v_rr\",\n",
    "         \"w2v_pretrained_rr\",\"d2v_rr\"]\n",
    "xlabel = \"Methods\"\n",
    "ylabel = \"Metric value (in decimals)\"\n",
    "    \n",
    "for method in list_of_sem_search_fns:\n",
    "\n",
    "    evaluation = evaluate_search_fn(method[1], list_of_metrics)\n",
    "    ERR.append(evaluation['ERR'])\n",
    "    MAP.append(evaluation['MAP'])\n",
    "    RECALL1.append(evaluation['Recall@1'])\n",
    "    RECALL5.append(evaluation['Recall@5'])\n",
    "    RECALL10.append(evaluation['Recall@10'])\n",
    "    PRECISION1.append(evaluation['Precision@1'])\n",
    "    PRECISION5.append(evaluation['Precision@5'])\n",
    "    PRECISION10.append(evaluation['Precision@10'])\n",
    "\n",
    "metrics=[ERR, MAP,  RECALL1,  RECALL5,  RECALL10,  PRECISION1,  PRECISION5,  PRECISION10]\n",
    "\n",
    "for i, metric in enumerate(metrics):\n",
    "\n",
    "    plotdata = pd.DataFrame({\n",
    "    \"Index set 2\": metric,\n",
    "    }, \n",
    "    index=index\n",
    "    )\n",
    "    plotdata.plot(kind=\"bar\")\n",
    "    plt.title(str_metrics[i])\n",
    "    plt.xlabel(xlabel)\n",
    "    plt.ylabel(ylabel)\n",
    "    plt.show()"
   ]
  },
  {
   "cell_type": "markdown",
   "metadata": {
    "deletable": false,
    "editable": false,
    "nbgrader": {
     "cell_type": "markdown",
     "checksum": "a8a3b6189bdde66704c694d85e38d049",
     "grade": false,
     "grade_id": "cell-deb2ef3daa306e82",
     "locked": true,
     "schema_version": 3,
     "solution": false,
     "task": false
    }
   },
   "source": [
    "### Section 10.2: Summary (20 points)\n",
    "\n",
    "Your summary should compare methods from Part 1 and Part 2 (only for index set 2). State what you expected to see in the results, followed by either supporting evidence *or* justify why the results did not support your expectations. Consider the availability of data, scalability, domain/type of data, etc."
   ]
  },
  {
   "cell_type": "code",
   "execution_count": null,
   "metadata": {},
   "outputs": [],
   "source": []
  },
  {
   "cell_type": "markdown",
   "metadata": {
    "deletable": false,
    "nbgrader": {
     "cell_type": "markdown",
     "checksum": "ff97c43837d10bff6aaffa75e1492887",
     "grade": true,
     "grade_id": "cell-ec5dd7d9cf59dd86",
     "locked": false,
     "points": 20,
     "schema_version": 3,
     "solution": true,
     "task": false
    }
   },
   "source": [
    "YOUR ANSWER HERE"
   ]
  }
 ],
 "metadata": {
  "kernelspec": {
   "display_name": "Python 3",
   "language": "python",
   "name": "python3"
  },
  "language_info": {
   "codemirror_mode": {
    "name": "ipython",
    "version": 3
   },
   "file_extension": ".py",
   "mimetype": "text/x-python",
   "name": "python",
   "nbconvert_exporter": "python",
   "pygments_lexer": "ipython3",
   "version": "3.8.5"
  }
 },
 "nbformat": 4,
 "nbformat_minor": 4
}
