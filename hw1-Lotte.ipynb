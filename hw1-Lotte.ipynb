{
 "cells": [
  {
   "cell_type": "markdown",
   "metadata": {
    "deletable": false,
    "editable": false,
    "nbgrader": {
     "cell_type": "markdown",
     "checksum": "758d05f39ab671358f17858c55f7161c",
     "grade": false,
     "grade_id": "cell-c9cd9e550239e812",
     "locked": true,
     "schema_version": 3,
     "solution": false,
     "task": false
    }
   },
   "source": [
    "# Homework 1 (Total Points: 260) <a class=\"anchor\" id=\"top\"></a>\n",
    "\n",
    "\n",
    "**Submission instructions**:\n",
    "- Only the code `TODO: Implement this!` denotes that these sections are graded.\n",
    "- For Part 1: You can use the `nltk`, `numpy` and `matplotlib` libraries here. Other libraries, e.g., `gensim` or `scikit-learn`, may not be used. For Part 2: `gensim` is allowed in addition to the imported libraries in the next code cell\n",
    "- The notebook you submit has to have the student ids, separated by underscores (E.g., `12341234_12341234_12341234.ipynb`). \n",
    "- This will be parsed by a regexp, so please double check your filename.\n",
    "- Only one member of each group has to submit the file to canvas.\n",
    "- Make sure to check that your notebook runs before submission. A quick way to do this is to restart the kernel and run all the cells.  \n",
    "- Please do not delete/add new cells. Removing cells can lead to grade deduction.\n",
    "- Note, that you are not allowed to use Google Colab.\n",
    "\n",
    "\n",
    "**Learning Goals**:\n",
    "- [Part 1, Term-based matching](#part1) (175 points):\n",
    "    - Learn how to load a dataset and process it.\n",
    "    - Learn how to implement several standard IR methods (TF-IDF, BM25, QL) and understand their weaknesses & strengths.\n",
    "    - Learn how to evaluate IR methods.\n",
    "- [Part 2, Semantic-based matching](#part2) (85 points):\n",
    "    - Learn how to implement vector-space retrieval methods (LSI, LDA).\n",
    "    - Learn how to use LSI and LDA for re-ranking\n",
    "\n",
    "    \n",
    "**Resources**: \n",
    "- **Part 1**: Sections 2.3, 4.1, 4.2, 4.3, 5.3, 5.6, 5.7, 6.2, 7, 8 of [Search Engines: Information Retrieval in Practice](https://ciir.cs.umass.edu/downloads/SEIRiP.pdf)\n",
    "- **Part 2**: [LSI - Chapter 18](https://nlp.stanford.edu/IR-book/pdf/18lsi.pdf) from [Introduction to Information Retrieval](https://nlp.stanford.edu/IR-book/) book and the [original LDA paper](https://jmlr.org/papers/volume3/blei03a/blei03a.pdf)"
   ]
  },
  {
   "cell_type": "code",
   "execution_count": 1,
   "metadata": {
    "deletable": false,
    "editable": false,
    "nbgrader": {
     "cell_type": "code",
     "checksum": "c55bfe94ff1f564dd595547e516c4c6e",
     "grade": false,
     "grade_id": "cell-f5357fabdb9660e3",
     "locked": true,
     "schema_version": 3,
     "solution": false,
     "task": false
    }
   },
   "outputs": [],
   "source": [
    "# imports \n",
    "# TODO: Ensure that no additional library is imported in the notebook. \n",
    "# TODO: Only the standard library and the following libraries are allowed:\n",
    "# TODO: You can also use unlisted classes from these libraries or standard libraries (such as defaultdict, Counter, ...).\n",
    "\n",
    "import os\n",
    "import zipfile\n",
    "from functools import partial\n",
    "\n",
    "import nltk\n",
    "import requests\n",
    "import numpy as np\n",
    "from tqdm import tqdm\n",
    "\n",
    "import matplotlib.pyplot as plt\n",
    "from matplotlib.pyplot import cm\n",
    "\n",
    "from ipywidgets import widgets\n",
    "from IPython.display import display, HTML\n",
    "#from IPython.html import widgets\n",
    "from collections import namedtuple\n",
    "\n",
    "%matplotlib inline"
   ]
  },
  {
   "cell_type": "markdown",
   "metadata": {
    "deletable": false,
    "editable": false,
    "nbgrader": {
     "cell_type": "markdown",
     "checksum": "4ef0139c6fbc22b41520721a9275c1e1",
     "grade": false,
     "grade_id": "cell-7428e12ed184408b",
     "locked": true,
     "schema_version": 3,
     "solution": false,
     "task": false
    }
   },
   "source": [
    "\n",
    "# Part 1: Term-based Matching (175 points) <a class=\"anchor\" id=\"part1\"></a>\n",
    "\n",
    "[Back to top](#top)\n",
    "\n",
    "In the first part, we will learn the basics of IR from loading and preprocessing the material, to implementing some well known search algorithms, to evaluating the ranking performance of the implemented algorithms. We will be using the CACM dataset throughout the assignment. The CACM dataset is a collection of titles and abstracts from the journal CACM (Communication of the ACM).\n",
    "\n",
    "Table of contents:\n",
    "- [Section 1: Text Processing](#text_processing) (15 points)\n",
    "- [Section 2: Indexing](#indexing) (10 points)\n",
    "- [Section 3: Ranking](#ranking) (80 points)\n",
    "- [Section 4: Evaluation](#evaluation) (40 points)\n",
    "- [Section 5: Analysis](#analysis) (30 points)\n"
   ]
  },
  {
   "cell_type": "markdown",
   "metadata": {
    "deletable": false,
    "editable": false,
    "nbgrader": {
     "cell_type": "markdown",
     "checksum": "a9050c97b011a926b9e4cf6831eff5bd",
     "grade": false,
     "grade_id": "cell-4b24825cf4ae55ec",
     "locked": true,
     "schema_version": 3,
     "solution": false,
     "task": false
    }
   },
   "source": [
    "---\n",
    "## Section 1: Text Processing (15 points)<a class=\"anchor\" id=\"text_processing\"></a>\n",
    "\n",
    "[Back to Part 1](#part1)\n",
    "\n",
    "In this section, we will load the dataset and learn how to clean up the data to make it usable for an IR system. \n",
    "The points of this section are earned for the following implementations:\n",
    "- `read_cacm_docs` (4 points): Reads in the CACM documents.\n",
    "- `read_queries` (3 points): Reads in the CACM queries.\n",
    "- `load_stopwords` (1 point): Loads the stopwords.\n",
    "- `tokenize` (4 points): Tokenizes the input text.\n",
    "- `stem_token` (3 points): Stems the given token. \n",
    "\n",
    "We are using the [CACM dataset](http://ir.dcs.gla.ac.uk/resources/test_collections/cacm/), which is a small, classic IR dataset, composed of a collection of titles and abstracts from the journal CACM. It comes with relevance judgements for queries, so we can evaluate our IR system. \n"
   ]
  },
  {
   "cell_type": "markdown",
   "metadata": {
    "deletable": false,
    "editable": false,
    "nbgrader": {
     "cell_type": "markdown",
     "checksum": "1de1b97f9ee233ad2348359f0c158eb7",
     "grade": false,
     "grade_id": "cell-45651364e7af6d5a",
     "locked": true,
     "schema_version": 3,
     "solution": false,
     "task": false
    }
   },
   "source": [
    "---\n",
    "### 1.1 Read the CACM documents (4 points)\n",
    "\n",
    "\n",
    "The following cell downloads the dataset and unzips it to a local directory."
   ]
  },
  {
   "cell_type": "code",
   "execution_count": 2,
   "metadata": {
    "deletable": false,
    "editable": false,
    "nbgrader": {
     "cell_type": "code",
     "checksum": "4d43c9ad6e77cc01ce4cef0c34824930",
     "grade": false,
     "grade_id": "cell-bbc3030bb3fe7e02",
     "locked": true,
     "schema_version": 3,
     "solution": false,
     "task": false
    }
   },
   "outputs": [],
   "source": [
    "def download_dataset():\n",
    "    folder_path = os.environ.get(\"IR1_DATA_PATH\")\n",
    "    if not folder_path:\n",
    "        folder_path = \"./datasets/\"\n",
    "    os.makedirs(folder_path, exist_ok=True)\n",
    "    \n",
    "    file_location = os.path.join(folder_path, \"cacm.zip\")\n",
    "    \n",
    "    # download file if it doesn't exist\n",
    "    if not os.path.exists(file_location):\n",
    "        \n",
    "        url = \"https://surfdrive.surf.nl/files/index.php/s/M0FGJpX2p8wDwxR/download\"\n",
    "\n",
    "        with open(file_location, \"wb\") as handle:\n",
    "            print(f\"Downloading file from {url} to {file_location}\")\n",
    "            response = requests.get(url, stream=True)\n",
    "            for data in tqdm(response.iter_content()):\n",
    "                handle.write(data)\n",
    "            print(\"Finished downloading file\")\n",
    "    \n",
    "    if not os.path.exists(os.path.join(folder_path, \"train.txt\")):\n",
    "        \n",
    "        # unzip file\n",
    "        with zipfile.ZipFile(file_location, 'r') as zip_ref:\n",
    "            zip_ref.extractall(folder_path)\n",
    "        \n",
    "download_dataset()"
   ]
  },
  {
   "cell_type": "markdown",
   "metadata": {
    "deletable": false,
    "editable": false,
    "nbgrader": {
     "cell_type": "markdown",
     "checksum": "31609b0d61d0c74cbd69bc43e47c23be",
     "grade": false,
     "grade_id": "cell-a7dd9a9bf98ede05",
     "locked": true,
     "schema_version": 3,
     "solution": false,
     "task": false
    }
   },
   "source": [
    "---\n",
    "\n",
    "You can see a brief description of each file in the dataset by looking at the README file:"
   ]
  },
  {
   "cell_type": "code",
   "execution_count": 3,
   "metadata": {
    "deletable": false,
    "editable": false,
    "nbgrader": {
     "cell_type": "code",
     "checksum": "1783f9999c7d06955e8da815de62ba5f",
     "grade": false,
     "grade_id": "cell-9b6ff1a17124711f",
     "locked": true,
     "schema_version": 3,
     "solution": false,
     "task": false
    }
   },
   "outputs": [
    {
     "name": "stdout",
     "output_type": "stream",
     "text": [
      "Files in this directory with sizes:\r\n",
      "          0 Jun 19 21:01 README\r\n",
      "\r\n",
      "    2187734 Jun 19 20:55 cacm.all              text of documents\r\n",
      "        626 Jun 19 20:58 cite.info             key to citation info\r\n",
      "                                                (the X sections in cacm.all)\r\n",
      "       2668 Jun 19 20:55 common_words           stop words used by smart\r\n",
      "       2194 Jun 19 20:55 make_coll*             shell script to make collection\r\n",
      "       1557 Jun 19 20:55 make_coll_term*        ditto (both useless without\r\n",
      "                                                smart system)\r\n",
      "       9948 Jun 19 20:55 qrels.text             relation giving\r\n",
      "                                                    qid did 0 0\r\n",
      "                                                to indicate dument did is\r\n",
      "                                                relevant to query qid\r\n",
      "      13689 Jun 19 20:55 query.text             Original text of the query\r\n"
     ]
    }
   ],
   "source": [
    "##### Read the README file \n",
    "!cat ./datasets/README\n",
    "#####"
   ]
  },
  {
   "cell_type": "markdown",
   "metadata": {
    "deletable": false,
    "editable": false,
    "nbgrader": {
     "cell_type": "markdown",
     "checksum": "d6a5333ae8e7f69d81900e714cc43852",
     "grade": false,
     "grade_id": "cell-73351431869fda76",
     "locked": true,
     "schema_version": 3,
     "solution": false,
     "task": false
    }
   },
   "source": [
    "---\n",
    "We are interested in 4 files:\n",
    "- `cacm.all` : Contains the text for all documents. Note that some documents do not have abstracts available. \n",
    "- `query.text` : The text of all queries\n",
    "- `qrels.text` : The relevance judgements\n",
    "- `common_words` : A list of common words. This may be used as a collection of stopwords"
   ]
  },
  {
   "cell_type": "code",
   "execution_count": 4,
   "metadata": {
    "deletable": false,
    "editable": false,
    "nbgrader": {
     "cell_type": "code",
     "checksum": "c78e4256a08889ce3d0d985ea799b0a9",
     "grade": false,
     "grade_id": "cell-b44dd14079f278ca",
     "locked": true,
     "schema_version": 3,
     "solution": false,
     "task": false
    }
   },
   "outputs": [
    {
     "name": "stdout",
     "output_type": "stream",
     "text": [
      ".I 1\r\n",
      ".T\r\n",
      "Preliminary Report-International Algebraic Language\r\n",
      ".B\r\n",
      "CACM December, 1958\r\n",
      ".A\r\n",
      "Perlis, A. J.\r\n",
      "Samelson,K.\r\n",
      ".N\r\n",
      "CA581203 JB March 22, 1978  8:28 PM\r\n",
      ".X\r\n",
      "100\t5\t1\r\n",
      "123\t5\t1\r\n",
      "164\t5\t1\r\n",
      "1\t5\t1\r\n",
      "1\t5\t1\r\n",
      "1\t5\t1\r\n",
      "205\t5\t1\r\n",
      "210\t5\t1\r\n",
      "214\t5\t1\r\n",
      "1982\t5\t1\r\n",
      "398\t5\t1\r\n",
      "642\t5\t1\r\n",
      "669\t5\t1\r\n",
      "1\t6\t1\r\n",
      "1\t6\t1\r\n",
      "1\t6\t1\r\n",
      "1\t6\t1\r\n",
      "1\t6\t1\r\n",
      "1\t6\t1\r\n",
      "1\t6\t1\r\n",
      "1\t6\t1\r\n",
      "1\t6\t1\r\n",
      "1\t6\t1\r\n",
      "165\t6\t1\r\n",
      "196\t6\t1\r\n",
      "196\t6\t1\r\n",
      "1273\t6\t1\r\n",
      "1883\t6\t1\r\n",
      "324\t6\t1\r\n",
      "43\t6\t1\r\n",
      "53\t6\t1\r\n",
      "91\t6\t1\r\n",
      "410\t6\t1\r\n",
      "3184\t6\t1\r\n"
     ]
    }
   ],
   "source": [
    "##### The first 45 lines of the CACM dataset forms the first record\n",
    "# We are interested only in 3 fields. \n",
    "# 1. the '.I' field, which is the document id\n",
    "# 2. the '.T' field (the title) and\n",
    "# 3. the '.W' field (the abstract, which may be absent)\n",
    "!head -45 ./datasets/cacm.all\n",
    "#####"
   ]
  },
  {
   "cell_type": "markdown",
   "metadata": {
    "deletable": false,
    "editable": false,
    "nbgrader": {
     "cell_type": "markdown",
     "checksum": "aff7cbe5a15a0e3329dc223e3e31abf3",
     "grade": false,
     "grade_id": "cell-c4bf2e263ec553d8",
     "locked": true,
     "schema_version": 3,
     "solution": false,
     "task": false
    }
   },
   "source": [
    "---\n",
    "\n",
    "**Implementation (4 points):**\n",
    "Write a function to read the `cacm.all` file. Note that each document has a variable number of lines. The `.I` field denotes a new document:"
   ]
  },
  {
   "cell_type": "code",
   "execution_count": 5,
   "metadata": {
    "deletable": false,
    "nbgrader": {
     "cell_type": "code",
     "checksum": "45fef5d5b543ee439176d7fd0a9d20be",
     "grade": false,
     "grade_id": "cell-b736116eb419c624",
     "locked": false,
     "schema_version": 3,
     "solution": true,
     "task": false
    }
   },
   "outputs": [],
   "source": [
    "# TODO: Implement this! (4 points)\n",
    "# Complexity: O(n)\n",
    "\n",
    "def read_cacm_docs(root_folder = \"./datasets/\"):\n",
    "    \"\"\"\n",
    "        Reads in the CACM documents. The dataset is assumed to be in the folder \"./datasets/\" by default\n",
    "        Returns: A list of 2-tuples: (doc_id, document), where 'document' is a single string created by \n",
    "            appending the title and abstract (separated by a \"\\n\"). \n",
    "            In case the record doesn't have an abstract, the document is composed only by the title\n",
    "    \"\"\"\n",
    "    \n",
    "    # Path to cacm.all\n",
    "    path = root_folder + \"cacm.all\"\n",
    "    \n",
    "    # Specify lists for output\n",
    "    doc_id = []\n",
    "    doc_title = []\n",
    "    \n",
    "    # Open and split document into tokens\n",
    "    with open(path, 'r') as file:\n",
    "        doclist = file.read().split(\"\\n\")\n",
    "\n",
    "    # Set counter for index tracking\n",
    "    counter = 0\n",
    "    i = 0\n",
    "    \n",
    "    # Loop through doc to get I., T. and W.\n",
    "    while i < len(doclist) - 1:\n",
    "        counter += 1\n",
    "        \n",
    "        # Append document id and title\n",
    "        doc_id.append(int(doclist[i][3:]))\n",
    "        doc_title.append(doclist[i+2])\n",
    "        \n",
    "        i += 3\n",
    "            \n",
    "        while doclist[i] not in [\".B\", \".A\", \".X\"]:\n",
    "            if doclist[i] == '.W':\n",
    "                i += 1\n",
    "                doc_title[counter-1] += \" \\n\"\n",
    "            else:\n",
    "                doc_title[counter-1] += \" \" + doclist[i]\n",
    "                i += 1\n",
    "        \n",
    "        while doclist[i][:2] != \".I\" and i < len(doclist)-1:\n",
    "            i += 1\n",
    "    \n",
    "    return list(zip(doc_id, doc_title))"
   ]
  },
  {
   "cell_type": "code",
   "execution_count": 6,
   "metadata": {
    "deletable": false,
    "editable": false,
    "nbgrader": {
     "cell_type": "code",
     "checksum": "70472b5c277bb7c417de8da24e4e5261",
     "grade": true,
     "grade_id": "cell-a1c43818e0d3fd79",
     "locked": true,
     "points": 4,
     "schema_version": 3,
     "solution": false,
     "task": false
    }
   },
   "outputs": [],
   "source": [
    "##### Function check\n",
    "docs = read_cacm_docs()\n",
    "\n",
    "assert isinstance(docs, list)\n",
    "assert len(docs) == 3204, \"There should be exactly 3024 documents\"\n",
    "##### "
   ]
  },
  {
   "cell_type": "markdown",
   "metadata": {
    "deletable": false,
    "editable": false,
    "nbgrader": {
     "cell_type": "markdown",
     "checksum": "6fd095d2204cce3935444ca37c7c42da",
     "grade": false,
     "grade_id": "cell-5ed2ddc91f73c60e",
     "locked": true,
     "schema_version": 3,
     "solution": false,
     "task": false
    }
   },
   "source": [
    "---\n",
    "### 1.2 Read the CACM queries (3 points)\n",
    "\n",
    "Next, let us read the queries. They are formatted similarly:"
   ]
  },
  {
   "cell_type": "code",
   "execution_count": 7,
   "metadata": {
    "deletable": false,
    "editable": false,
    "nbgrader": {
     "cell_type": "code",
     "checksum": "5d26c0908e758acb9968b84056b1060a",
     "grade": false,
     "grade_id": "cell-5c7e8e7c4fc2757f",
     "locked": true,
     "schema_version": 3,
     "solution": false,
     "task": false
    }
   },
   "outputs": [
    {
     "name": "stdout",
     "output_type": "stream",
     "text": [
      ".I 1\r\n",
      ".W\r\n",
      " What articles exist which deal with TSS (Time Sharing System), an\r\n",
      "operating system for IBM computers?\r\n",
      ".N\r\n",
      " 1. Richard Alexander, Comp Serv, Langmuir Lab (TSS)\r\n",
      " \r\n",
      ".I 2\r\n",
      ".W\r\n",
      " I am interested in articles written either by Prieve or Udo Pooch\r\n",
      ".A\r\n",
      "Prieve, B.\r\n",
      "Pooch, U.\r\n",
      ".N\r\n",
      " 2. Richard Alexander, Comp Serv, Langmuir Lab (author = Pooch or Prieve)\r\n"
     ]
    }
   ],
   "source": [
    "##### The first 15 lines of 'query.text' has 2 queries\n",
    "# We are interested only in 2 fields. \n",
    "# 1. the '.I' - the query id\n",
    "# 2. the '.W' - the query\n",
    "!head -15 ./datasets/query.text\n",
    "#####"
   ]
  },
  {
   "cell_type": "markdown",
   "metadata": {
    "deletable": false,
    "editable": false,
    "nbgrader": {
     "cell_type": "markdown",
     "checksum": "da34d95924026ea55bf0a9b2070ec237",
     "grade": false,
     "grade_id": "cell-88e293507d2dcef6",
     "locked": true,
     "schema_version": 3,
     "solution": false,
     "task": false
    }
   },
   "source": [
    "---\n",
    "\n",
    "**Implementation (3 points):**\n",
    "Write a function to read the `query.text` file:"
   ]
  },
  {
   "cell_type": "code",
   "execution_count": 8,
   "metadata": {
    "deletable": false,
    "nbgrader": {
     "cell_type": "code",
     "checksum": "f98ac81b2ccb44fe3441e202e980c847",
     "grade": false,
     "grade_id": "cell-433e3ad5d0e2572a",
     "locked": false,
     "schema_version": 3,
     "solution": true,
     "task": false
    }
   },
   "outputs": [],
   "source": [
    "# TODO: Implement this! (3 points)\n",
    "def read_queries(root_folder = \"./datasets/\"):\n",
    "    \"\"\"\n",
    "        Reads in the CACM queries. The dataset is assumed to be in the folder \"./datasets/\" by default\n",
    "        Returns: A list of 2-tuples: (query_id, query)\n",
    "    \"\"\"\n",
    "    \n",
    "    # Path to query.text\n",
    "    path = root_folder + \"query.text\"\n",
    "    \n",
    "    # Open and split document into tokens\n",
    "    with open(path, 'r') as file:\n",
    "        queries = file.read().split(\"\\n\")\n",
    "    \n",
    "    # Define lists\n",
    "    query_id = []\n",
    "    query = []\n",
    "    \n",
    "    # Set counter for tracking index tracking\n",
    "    counter = 0\n",
    "    \n",
    "    # Loop through doc to get I. and W.\n",
    "    for i in range(len(queries)):\n",
    "        if queries[i][0:2] == \".I\":\n",
    "            counter += 1\n",
    "            query_id.append(int(queries[i][3:]))\n",
    "        if  queries[i] == '.W':\n",
    "            query.append(\" \" + queries[i+1][1:])\n",
    "            j = i+2\n",
    "            while queries[j] not in [\".N\", \".A\"]:\n",
    "                query[counter-1] = query[counter-1] + \" \" + queries[j]\n",
    "                j += 1\n",
    "               \n",
    "    \n",
    "    return list(zip(query_id, query))"
   ]
  },
  {
   "cell_type": "code",
   "execution_count": 9,
   "metadata": {
    "deletable": false,
    "editable": false,
    "nbgrader": {
     "cell_type": "code",
     "checksum": "c0e7a9868bd4b92692c33732af640b8b",
     "grade": true,
     "grade_id": "cell-6ec540abce66c598",
     "locked": true,
     "points": 3,
     "schema_version": 3,
     "solution": false,
     "task": false
    }
   },
   "outputs": [],
   "source": [
    "##### Function check\n",
    "queries = read_queries()\n",
    "\n",
    "assert isinstance(queries, list)\n",
    "assert len(queries) == 64 and all([q[1] is not None for q in queries]), \"There should be exactly 64 queries\"\n",
    "##### "
   ]
  },
  {
   "cell_type": "markdown",
   "metadata": {
    "deletable": false,
    "editable": false,
    "nbgrader": {
     "cell_type": "markdown",
     "checksum": "652f9159caea63888e06b54103bd7f32",
     "grade": false,
     "grade_id": "cell-1c31569491d7b782",
     "locked": true,
     "schema_version": 3,
     "solution": false,
     "task": false
    }
   },
   "source": [
    "---\n",
    "### 1.3 Read the stop words (1 point)\n",
    "\n",
    "We use the common words stored in `common_words`:"
   ]
  },
  {
   "cell_type": "code",
   "execution_count": 10,
   "metadata": {
    "deletable": false,
    "editable": false,
    "nbgrader": {
     "cell_type": "code",
     "checksum": "1ad6f5bae6a792504c1c8513ae5751ad",
     "grade": false,
     "grade_id": "cell-34bdb63461418a96",
     "locked": true,
     "schema_version": 3,
     "solution": false,
     "task": false
    }
   },
   "outputs": [
    {
     "name": "stdout",
     "output_type": "stream",
     "text": [
      "a\r\n",
      "about\r\n",
      "above\r\n",
      "accordingly\r\n",
      "across\r\n",
      "after\r\n",
      "afterwards\r\n",
      "again\r\n",
      "against\r\n",
      "all\r\n"
     ]
    }
   ],
   "source": [
    "##### Read the stop words file \n",
    "!head ./datasets/common_words\n",
    "##### Read the README file "
   ]
  },
  {
   "cell_type": "markdown",
   "metadata": {
    "deletable": false,
    "editable": false,
    "nbgrader": {
     "cell_type": "markdown",
     "checksum": "f720edbacd79170351156a443e0018ff",
     "grade": false,
     "grade_id": "cell-4744bde0338895d8",
     "locked": true,
     "schema_version": 3,
     "solution": false,
     "task": false
    }
   },
   "source": [
    "---\n",
    "**Implementation (1 point):**\n",
    "Write a function to read the `common_words` file (For better coverage, try to keep them in lowercase):"
   ]
  },
  {
   "cell_type": "code",
   "execution_count": 11,
   "metadata": {
    "deletable": false,
    "nbgrader": {
     "cell_type": "code",
     "checksum": "e6a9e9bb3ad0f8dc2ec3c497a3149092",
     "grade": false,
     "grade_id": "cell-7357aa40f64e5bcb",
     "locked": false,
     "schema_version": 3,
     "solution": true,
     "task": false
    }
   },
   "outputs": [],
   "source": [
    "# TODO: Implement this! (1 point)\n",
    "def load_stopwords(root_folder = \"./datasets/\"):\n",
    "    \"\"\"\n",
    "        Loads the stopwords. The dataset is assumed to be in the folder \"./datasets/\" by default\n",
    "        Output: A set of stopwords\n",
    "    \"\"\"\n",
    "    \n",
    "    \n",
    "    path = root_folder + \"common_words\"\n",
    "    \n",
    "    # Open and split document into tokens\n",
    "    with open(path, 'r') as file:\n",
    "        stopwords = file.read().lower().split('\\n')[:-1]\n",
    "    \n",
    "    \n",
    "    return set(stopwords)"
   ]
  },
  {
   "cell_type": "code",
   "execution_count": 12,
   "metadata": {
    "deletable": false,
    "editable": false,
    "nbgrader": {
     "cell_type": "code",
     "checksum": "9211b9735b828d89d1a51d8743c448b4",
     "grade": true,
     "grade_id": "cell-2ca3ac162004de97",
     "locked": true,
     "points": 1,
     "schema_version": 3,
     "solution": false,
     "task": false
    }
   },
   "outputs": [],
   "source": [
    "##### Function check\n",
    "stopwords = load_stopwords()\n",
    "\n",
    "assert isinstance(stopwords, set)\n",
    "assert len(stopwords) == 428, \"There should be exactly 428 stop words\"\n",
    "##### "
   ]
  },
  {
   "cell_type": "markdown",
   "metadata": {
    "deletable": false,
    "editable": false,
    "nbgrader": {
     "cell_type": "markdown",
     "checksum": "fc7e419f35dfd3f507d8a7555ce2cde9",
     "grade": false,
     "grade_id": "cell-134b72872f4300cb",
     "locked": true,
     "schema_version": 3,
     "solution": false,
     "task": false
    }
   },
   "source": [
    "---\n",
    "### 1.4 Tokenization (4 points)\n",
    "\n",
    "We can now write some basic text processing functions. \n",
    "A first step is to tokenize the text. \n",
    "\n",
    "**Note**: Use the  `WordPunctTokenizer` available in the `nltk` library:"
   ]
  },
  {
   "cell_type": "code",
   "execution_count": 13,
   "metadata": {
    "deletable": false,
    "nbgrader": {
     "cell_type": "code",
     "checksum": "3f5564d3c75bf22fbf832b3a9b938f37",
     "grade": false,
     "grade_id": "cell-322be4c9499bdc4b",
     "locked": false,
     "schema_version": 3,
     "solution": true,
     "task": false
    }
   },
   "outputs": [],
   "source": [
    "# TODO: Implement this! (4 points)\n",
    "def tokenize(text):\n",
    "    \"\"\"\n",
    "        Tokenizes the input text. Use the WordPunctTokenizer\n",
    "        Input: text - a string\n",
    "        Output: a list of tokens\n",
    "    \"\"\"\n",
    "    \n",
    "    return nltk.WordPunctTokenizer().tokenize(text) "
   ]
  },
  {
   "cell_type": "code",
   "execution_count": 14,
   "metadata": {
    "deletable": false,
    "editable": false,
    "nbgrader": {
     "cell_type": "code",
     "checksum": "f60b93aa03bf9eced64940252eb33fe3",
     "grade": true,
     "grade_id": "cell-7fbf48bf7541a622",
     "locked": true,
     "points": 4,
     "schema_version": 3,
     "solution": false,
     "task": false
    }
   },
   "outputs": [
    {
     "name": "stdout",
     "output_type": "stream",
     "text": [
      "['the', 'quick', 'brown', 'fox', 'jumps', 'over', 'the', 'lazy', 'dog']\n"
     ]
    }
   ],
   "source": [
    "##### Function check\n",
    "text = \"the quick brown fox jumps over the lazy dog\"\n",
    "tokens = tokenize(text)\n",
    "\n",
    "assert isinstance(tokens, list)\n",
    "assert len(tokens) == 9\n",
    "\n",
    "print(tokens)\n",
    "# output: ['the', 'quick', 'brown', 'fox', 'jumps', 'over', 'the', 'lazy', 'dog']\n",
    "#####"
   ]
  },
  {
   "cell_type": "markdown",
   "metadata": {
    "deletable": false,
    "editable": false,
    "nbgrader": {
     "cell_type": "markdown",
     "checksum": "1b1cc868db22735e5e193bc64ff67877",
     "grade": false,
     "grade_id": "cell-fd1b98ae61b697ca",
     "locked": true,
     "schema_version": 3,
     "solution": false,
     "task": false
    }
   },
   "source": [
    "---\n",
    "### 1.5 Stemming (3 points)\n",
    "\n",
    "Write a function to stem tokens. \n",
    "Again, you can use the nltk library for this:"
   ]
  },
  {
   "cell_type": "code",
   "execution_count": 15,
   "metadata": {
    "deletable": false,
    "nbgrader": {
     "cell_type": "code",
     "checksum": "1c4a6aa979d66158c7b6b992af43293a",
     "grade": false,
     "grade_id": "cell-e3f6c8e3f874b28d",
     "locked": false,
     "schema_version": 3,
     "solution": true,
     "task": false
    }
   },
   "outputs": [],
   "source": [
    "# # importing modules \n",
    "# from nltk.stem import PorterStemmer \n",
    "# from nltk.tokenize import word_tokenize \n",
    "   \n",
    "# ps = PorterStemmer() \n",
    "   \n",
    "# sentence = \"Programers program with programing languages\"\n",
    "# words = word_tokenize(sentence) \n",
    "   \n",
    "# for w in words: \n",
    "#     print(w, \" : \", ps.stem(w)) \n",
    "\n",
    "# TODO: Implement this! (3 points)\n",
    "def stem_token(token):\n",
    "    \"\"\"\n",
    "        Stems the given token using the PorterStemmer from the nltk library\n",
    "        Input: a single token\n",
    "        Output: the stem of the token\n",
    "    \"\"\"\n",
    "    \n",
    "    return nltk.PorterStemmer().stem(token)"
   ]
  },
  {
   "cell_type": "code",
   "execution_count": 16,
   "metadata": {
    "deletable": false,
    "editable": false,
    "nbgrader": {
     "cell_type": "code",
     "checksum": "cd2611a46e7c2e92af438d7166cf2616",
     "grade": true,
     "grade_id": "cell-cd6863e6ee6ed205",
     "locked": true,
     "points": 3,
     "schema_version": 3,
     "solution": false,
     "task": false
    }
   },
   "outputs": [],
   "source": [
    "##### Function check\n",
    "\n",
    "assert stem_token('owned') == 'own'\n",
    "assert stem_token('itemization') == 'item'\n",
    "#####"
   ]
  },
  {
   "cell_type": "markdown",
   "metadata": {
    "deletable": false,
    "editable": false,
    "nbgrader": {
     "cell_type": "markdown",
     "checksum": "5fcc93f08a6abcaffd5bd9475e4768e5",
     "grade": false,
     "grade_id": "cell-47c9f90498699110",
     "locked": true,
     "schema_version": 3,
     "solution": false,
     "task": false
    }
   },
   "source": [
    "---\n",
    "### 1.6 Summary\n",
    "\n",
    "The following function puts it all together. Given a string, it tokenizes it and processes it according to the flags that you set."
   ]
  },
  {
   "cell_type": "code",
   "execution_count": 17,
   "metadata": {
    "deletable": false,
    "editable": false,
    "nbgrader": {
     "cell_type": "code",
     "checksum": "2ff2d215ee8e0039c5a91fd3de12e6bd",
     "grade": false,
     "grade_id": "cell-dd0d3f46b30801da",
     "locked": true,
     "schema_version": 3,
     "solution": false,
     "task": false
    }
   },
   "outputs": [],
   "source": [
    "#### Putting it all together\n",
    "def process_text(text, stem=False, remove_stopwords=False, lowercase_text=False):\n",
    "    \n",
    "    tokens = []\n",
    "    for token in tokenize(text):\n",
    "        if remove_stopwords and token.lower() in stopwords:\n",
    "            continue\n",
    "        if stem:\n",
    "            token = stem_token(token)\n",
    "        if lowercase_text:\n",
    "            token = token.lower()\n",
    "        tokens.append(token)\n",
    "\n",
    "    return tokens\n",
    "#### "
   ]
  },
  {
   "cell_type": "markdown",
   "metadata": {
    "deletable": false,
    "editable": false,
    "nbgrader": {
     "cell_type": "markdown",
     "checksum": "02d433b18eb43654fa4306a7bf55b190",
     "grade": false,
     "grade_id": "cell-8d885bfd2edd43ae",
     "locked": true,
     "schema_version": 3,
     "solution": false,
     "task": false
    }
   },
   "source": [
    "---\n",
    "\n",
    "Let's create two sets of preprocessed documents.\n",
    "We can process the documents and queries according to these two configurations:"
   ]
  },
  {
   "cell_type": "code",
   "execution_count": 18,
   "metadata": {
    "deletable": false,
    "editable": false,
    "nbgrader": {
     "cell_type": "code",
     "checksum": "dbe4ca667be6842fdcf512fbcad50c7f",
     "grade": false,
     "grade_id": "cell-d427365ee0fb21d8",
     "locked": true,
     "schema_version": 3,
     "solution": false,
     "task": false
    }
   },
   "outputs": [],
   "source": [
    "# In this configuration:\n",
    "# Don't preprocess the text, except to tokenize \n",
    "config_1 = {\n",
    "  \"stem\": False,\n",
    "  \"remove_stopwords\" : False,\n",
    "  \"lowercase_text\": True\n",
    "} \n",
    "\n",
    "\n",
    "# In this configuration:\n",
    "# Preprocess the text, stem and remove stopwords\n",
    "config_2 = {\n",
    "  \"stem\": True,\n",
    "  \"remove_stopwords\" : True,\n",
    "  \"lowercase_text\": True, \n",
    "} \n",
    "\n",
    "####\n",
    "doc_repr_1 = []\n",
    "doc_repr_2 = []\n",
    "for (doc_id, document) in docs:\n",
    "    doc_repr_1.append((doc_id, process_text(document, **config_1)))\n",
    "    doc_repr_2.append((doc_id, process_text(document, **config_2)))\n",
    "\n",
    "####"
   ]
  },
  {
   "cell_type": "markdown",
   "metadata": {
    "deletable": false,
    "editable": false,
    "nbgrader": {
     "cell_type": "markdown",
     "checksum": "b60589aac19e80941d860d9b3f1e9a16",
     "grade": false,
     "grade_id": "cell-b1c102db61ae7495",
     "locked": true,
     "schema_version": 3,
     "solution": false,
     "task": false
    }
   },
   "source": [
    "--- \n",
    "\n",
    "## Section 2: Indexing (10 points)<a class=\"anchor\" id=\"indexing\"></a>\n",
    "\n",
    "[Back to Part 1](#part1)\n",
    "\n",
    "\n",
    "\n",
    "A retrieval function usually takes in a query document pair, and scores a query against a document.  Our document set is quite small - just a few thousand documents. However, consider a web-scale dataset with a few million documents. In such a scenario, it would become infeasible to score every query and document pair. In such a case, we can build an inverted index. From Wikipedia:\n",
    "\n",
    "> ... , an inverted index (also referred to as a postings file or inverted file) is a database index storing a mapping from content, such as words or numbers, to its locations in a table, .... The purpose of an inverted index is to allow fast full-text searches, at a cost of increased processing when a document is added to the database. ...\n",
    "\n",
    "\n",
    "Consider a simple inverted index, which maps from word to document. This can improve the performance of a retrieval system significantly. In this assignment, we consider a *simple* inverted index, which maps a word to a set of documents. In practice, however, more complex indices might be used.  \n"
   ]
  },
  {
   "cell_type": "markdown",
   "metadata": {
    "deletable": false,
    "editable": false,
    "nbgrader": {
     "cell_type": "markdown",
     "checksum": "710fd943f45523ac36fcb887cc0d4d39",
     "grade": false,
     "grade_id": "cell-fa373192c1b7bb95",
     "locked": true,
     "schema_version": 3,
     "solution": false,
     "task": false
    }
   },
   "source": [
    "### 2.1 Term Frequency-index (10 points)\n",
    "In this assignment, we will be using an index created in memory since our dataset is tiny. To get started, build a simple index that maps each `token` to a list of `(doc_id, count)` where `count` is the count of the `token` in `doc_id`.\n",
    "For consistency, build this index using a python dictionary.\n",
    "    \n",
    "Now, implement a function to build an index:"
   ]
  },
  {
   "cell_type": "code",
   "execution_count": 19,
   "metadata": {
    "deletable": false,
    "nbgrader": {
     "cell_type": "code",
     "checksum": "c281c45196493b87e45e1b3fb4ddd6c9",
     "grade": false,
     "grade_id": "cell-077599b87e953209",
     "locked": false,
     "schema_version": 3,
     "solution": true,
     "task": false
    }
   },
   "outputs": [],
   "source": [
    "def build_tf_index(documents):\n",
    "    \"\"\"\n",
    "        Build an inverted index (with counts). The output is a dictionary which takes in a token\n",
    "        and returns a list of (doc_id, count) where 'count' is the count of the 'token' in 'doc_id'\n",
    "        Input: a list of documents - (doc_id, tokens)\n",
    "        Output: An inverted index. [token] -> [(doc_id, token_count)]\n",
    "    \"\"\"\n",
    "    \n",
    "    inv_index = {}\n",
    "\n",
    "    for document in documents:\n",
    "        \n",
    "        # Create dict to store token info for this document\n",
    "        hashtable = {}\n",
    "        doc_id = int(document[0])\n",
    "        \n",
    "        # Go through all tokens and count them\n",
    "        for token in document[1]:\n",
    "            \n",
    "            # Initialize or increase count\n",
    "            if token not in hashtable:\n",
    "                hashtable[token] = 1\n",
    "            else:\n",
    "                hashtable[token] += 1\n",
    "                \n",
    "        # Go through tokens and append their count to the index\n",
    "        for token, count in hashtable.items():\n",
    "            if token not in inv_index:\n",
    "                inv_index[token] = []\n",
    "            inv_index[token].append((doc_id, count))\n",
    "            \n",
    "    return inv_index"
   ]
  },
  {
   "cell_type": "markdown",
   "metadata": {
    "deletable": false,
    "editable": false,
    "nbgrader": {
     "cell_type": "markdown",
     "checksum": "15e7041b4323d2a290322de538ff7670",
     "grade": false,
     "grade_id": "cell-093aebfa504f96f2",
     "locked": true,
     "schema_version": 3,
     "solution": false,
     "task": false
    }
   },
   "source": [
    "---\n",
    "Now we can build indexed documents and preprocess the queries based on the two configurations:"
   ]
  },
  {
   "cell_type": "code",
   "execution_count": 20,
   "metadata": {
    "deletable": false,
    "editable": false,
    "nbgrader": {
     "cell_type": "code",
     "checksum": "e27540c1d8d77a3779a05f557f3f40c6",
     "grade": false,
     "grade_id": "cell-b2ff1676348b90a8",
     "locked": true,
     "schema_version": 3,
     "solution": false,
     "task": false
    }
   },
   "outputs": [],
   "source": [
    "#### Indexed documents based on the two configs\n",
    "\n",
    "# Create the 2 indices\n",
    "tf_index_1 = build_tf_index(doc_repr_1)\n",
    "tf_index_2 = build_tf_index(doc_repr_2)\n",
    "\n",
    "# This function returns the tf_index of the corresponding config\n",
    "def get_index(index_set):\n",
    "    assert index_set in {1, 2}\n",
    "    return {\n",
    "        1: tf_index_1,\n",
    "        2: tf_index_2\n",
    "    }[index_set]\n",
    "\n",
    "####\n",
    "#### Preprocessed query based on the two configs\n",
    "\n",
    "# This function preprocesses the text given the index set, according to the specified config\n",
    "def preprocess_query(text, index_set):\n",
    "    assert index_set in {1, 2}\n",
    "    if index_set == 1:\n",
    "        return process_text(text, **config_1)\n",
    "    elif index_set == 2:\n",
    "        return process_text(text, **config_2)\n",
    "\n",
    "#### "
   ]
  },
  {
   "cell_type": "code",
   "execution_count": 21,
   "metadata": {
    "deletable": false,
    "editable": false,
    "nbgrader": {
     "cell_type": "code",
     "checksum": "2c50e4b4c68261ff1184277bcf3c38d8",
     "grade": true,
     "grade_id": "cell-fc7c7232d5d2ee46",
     "locked": true,
     "points": 5,
     "schema_version": 3,
     "solution": false,
     "task": false
    }
   },
   "outputs": [
    {
     "name": "stdout",
     "output_type": "stream",
     "text": [
      "[(4, 1), (7, 1), (10, 1), (13, 1), (19, 1), (22, 1), (23, 1), (37, 1), (40, 3), (41, 1)]\n"
     ]
    }
   ],
   "source": [
    "##### Function check\n",
    "\n",
    "print(tf_index_1['computer'][:10])\n",
    "#### "
   ]
  },
  {
   "cell_type": "code",
   "execution_count": 22,
   "metadata": {
    "deletable": false,
    "editable": false,
    "nbgrader": {
     "cell_type": "code",
     "checksum": "02de27463e2a393f46278d6fe3160481",
     "grade": true,
     "grade_id": "cell-ff06bd11204db250",
     "locked": true,
     "points": 5,
     "schema_version": 3,
     "solution": false,
     "task": false
    }
   },
   "outputs": [
    {
     "name": "stdout",
     "output_type": "stream",
     "text": [
      "[(670, 1), (675, 1), (1621, 3), (1681, 1), (2145, 1), (2339, 1), (2572, 1), (2583, 1), (2739, 1), (3012, 1)]\n"
     ]
    }
   ],
   "source": [
    "##### Function check\n",
    "\n",
    "print(tf_index_2['computer'][:10])\n",
    "#### "
   ]
  },
  {
   "cell_type": "markdown",
   "metadata": {
    "deletable": false,
    "editable": false,
    "nbgrader": {
     "cell_type": "markdown",
     "checksum": "982112dca3f9a75e871bea74fe1adab4",
     "grade": false,
     "grade_id": "cell-89eba71f04310291",
     "locked": true,
     "schema_version": 3,
     "solution": false,
     "task": false
    }
   },
   "source": [
    "\n",
    "---\n",
    "## Section 3: Ranking  (80 points) <a class=\"anchor\" id=\"ranking\"></a>\n",
    "\n",
    "[Back to Part 1](#part1)\n",
    "\n",
    "Now that we have cleaned and processed our dataset, we can start building simple IR systems. \n",
    "\n",
    "For now, we consider *simple* IR systems, which involve computing scores from the tokens present in the document/query. More advanced methods are covered in later assignments.\n",
    "\n",
    "We will implement the following methods in this section:\n",
    "- [Section 3.1: Bag of Words](#bow) (10 points)\n",
    "- [Section 3.2: TF-IDF](#tfidf) (15 points)\n",
    "- [Section 3.3: Query Likelihood Model](#qlm) (35 points)\n",
    "- [Section 3.4: BM25](#bm25) (20 points)\n",
    "\n",
    "**Scoring policy:**\n",
    "Your implementations in this section are scored based on the expected performance of your ranking functions.\n",
    "You will get a full mark if your implementation meets the expected performance (measured by some evaluation metric).\n",
    "Otherwise, you may get partial credit.\n",
    "For example, if your *Bag of words* ranking function has 60% of expected performance, you will get 4 out of 10."
   ]
  },
  {
   "cell_type": "markdown",
   "metadata": {
    "deletable": false,
    "editable": false,
    "nbgrader": {
     "cell_type": "markdown",
     "checksum": "97c13d2e2cad60df4a70dcb61ea7c30e",
     "grade": false,
     "grade_id": "cell-3daf70a60e393adf",
     "locked": true,
     "schema_version": 3,
     "solution": false,
     "task": false
    }
   },
   "source": [
    "--- \n",
    "\n",
    "### Section 3.1: Bag of Words (10 points)<a class=\"anchor\" id=\"bow\"></a>\n",
    "\n",
    "Probably the simplest IR model is the Bag of Words (BOW) model.\n",
    "Implement a function that scores and ranks all the documents against a query using this model.   \n",
    "\n",
    "Note that you can use either the count of the token or 'binarize' it i.e set the value equal to 1 if the token appears.   \n"
   ]
  },
  {
   "cell_type": "code",
   "execution_count": 23,
   "metadata": {
    "deletable": false,
    "nbgrader": {
     "cell_type": "code",
     "checksum": "1178c8a8908b0e4dc07add7aa49b7fde",
     "grade": false,
     "grade_id": "cell-de9cf0459c4b9324",
     "locked": false,
     "schema_version": 3,
     "solution": true,
     "task": false
    }
   },
   "outputs": [],
   "source": [
    "# TODO: Implement this! (10 points)\n",
    "def bow_search(query, index_set):\n",
    "    \"\"\"\n",
    "        Perform a search over all documents with the given query. \n",
    "        Note: You have to use the `get_index` function created in the previous cells\n",
    "        Input: \n",
    "            query - a (unprocessed) query\n",
    "            index_set - the index to use\n",
    "        Output: a list of (document_id, score), sorted in descending relevance to the given query \n",
    "    \"\"\"\n",
    "    \n",
    "    index = get_index(index_set)\n",
    "    processed_query = preprocess_query(query, index_set)\n",
    "    \n",
    "    scores = {}\n",
    "    for q in processed_query:\n",
    "        for doc, count in index[q]:\n",
    "            if doc not in scores:\n",
    "                scores[doc] = 0\n",
    "            scores[doc] += count\n",
    "            \n",
    "    return [(d, float(s)) for d, s in sorted(scores.items(), key=lambda t: t[1], reverse=True)]"
   ]
  },
  {
   "cell_type": "code",
   "execution_count": 24,
   "metadata": {
    "deletable": false,
    "editable": false,
    "nbgrader": {
     "cell_type": "code",
     "checksum": "644d6d33cf5075c6d9878d4fe24c6213",
     "grade": true,
     "grade_id": "cell-9f6aceae6dd9125f",
     "locked": true,
     "points": 2,
     "schema_version": 3,
     "solution": false,
     "task": false
    }
   },
   "outputs": [
    {
     "name": "stdout",
     "output_type": "stream",
     "text": [
      "BOW Results:\n",
      "Rank 0(6.0): An Information Algebra - Phase I Report-Language S...\n",
      "Rank 1(6.0): Rejuvenating Experimental Computer Science \\n This...\n",
      "Rank 2(3.0): ALGOL 60 Confidential \\n The ALGOL 60 Report,* whe...\n",
      "Rank 3(2.0): Automatic Abstracting and Indexing Survey and Reco...\n",
      "Rank 4(2.0): A String Language for Symbol Manipulation Based on...\n"
     ]
    }
   ],
   "source": [
    "#### Function check\n",
    "\n",
    "docs_by_id = dict(docs)\n",
    "def print_results(docs, len_limit=50):    \n",
    "    for i, (doc_id, score) in enumerate(docs):\n",
    "        doc_content = docs_by_id[doc_id].strip().replace(\"\\n\", \"\\\\n\")[:len_limit] + \"...\"\n",
    "        print(f\"Rank {i}({score:.2}): {doc_content}\")\n",
    "\n",
    "test_bow = bow_search(\"report\", index_set=1)[:5]\n",
    "print(f\"BOW Results:\")\n",
    "print_results(test_bow)\n",
    "#### "
   ]
  },
  {
   "cell_type": "code",
   "execution_count": 25,
   "metadata": {
    "deletable": false,
    "editable": false,
    "nbgrader": {
     "cell_type": "code",
     "checksum": "8d54c91b913d7a54b25f3358c969fa45",
     "grade": true,
     "grade_id": "cell-4eed3abf233d9b58",
     "locked": true,
     "points": 2,
     "schema_version": 3,
     "solution": false,
     "task": false
    }
   },
   "outputs": [],
   "source": [
    "#### Please do not change this. This cell is used for grading."
   ]
  },
  {
   "cell_type": "code",
   "execution_count": 26,
   "metadata": {
    "deletable": false,
    "editable": false,
    "nbgrader": {
     "cell_type": "code",
     "checksum": "58bcc16d36dc079b7f41f9572423c62b",
     "grade": true,
     "grade_id": "cell-4d65a2d7090c466c",
     "locked": true,
     "points": 3,
     "schema_version": 3,
     "solution": false,
     "task": false
    }
   },
   "outputs": [],
   "source": [
    "#### Please do not change this. This cell is used for grading."
   ]
  },
  {
   "cell_type": "code",
   "execution_count": 27,
   "metadata": {
    "deletable": false,
    "editable": false,
    "nbgrader": {
     "cell_type": "code",
     "checksum": "65e4561970c4eba3e5ce43b142f858af",
     "grade": true,
     "grade_id": "cell-dedf36ab5853ce20",
     "locked": true,
     "points": 3,
     "schema_version": 3,
     "solution": false,
     "task": false
    }
   },
   "outputs": [],
   "source": [
    "#### Please do not change this. This cell is used for grading."
   ]
  },
  {
   "cell_type": "markdown",
   "metadata": {
    "deletable": false,
    "editable": false,
    "nbgrader": {
     "cell_type": "markdown",
     "checksum": "a5c2318004c5ce534b67c7a36bbc7c31",
     "grade": false,
     "grade_id": "cell-a5c09c79ac1f2871",
     "locked": true,
     "schema_version": 3,
     "solution": false,
     "task": false
    }
   },
   "source": [
    "\n",
    "---\n",
    "\n",
    "### Section 3.2: TF-IDF (15 points) <a class=\"anchor\" id=\"tfidf\"></a>\n",
    "\n",
    "Before we implement the tf-idf scoring functions, let's first write a function to compute the document frequencies of all words.  \n",
    "\n",
    "#### 3.2.1 Document frequency (5 points)\n",
    "Compute the document frequencies of all tokens in the collection.  "
   ]
  },
  {
   "cell_type": "code",
   "execution_count": 28,
   "metadata": {
    "deletable": false,
    "nbgrader": {
     "cell_type": "code",
     "checksum": "11cdde77378ded394d7922fe36bbc5d1",
     "grade": false,
     "grade_id": "cell-9a2369f32e864b8a",
     "locked": false,
     "schema_version": 3,
     "solution": true,
     "task": false
    }
   },
   "outputs": [],
   "source": [
    "# TODO: Implement this! (5 points)\n",
    "\n",
    "def compute_df(documents):\n",
    "    \n",
    "    \"\"\"\n",
    "        Compute the document frequency of all terms in the vocabulary\n",
    "        Input: A list of documents\n",
    "        Output: A dictionary with {token: document frequency)\n",
    "    \"\"\"\n",
    "    \n",
    "    df = dict()\n",
    "    \n",
    "    for document in documents:\n",
    "        for token in set(document):\n",
    "            if token in df:\n",
    "                df[token] += 1\n",
    "            else:\n",
    "                df[token] = 1\n",
    "    \n",
    "    return df"
   ]
  },
  {
   "cell_type": "code",
   "execution_count": 29,
   "metadata": {
    "deletable": false,
    "editable": false,
    "nbgrader": {
     "cell_type": "code",
     "checksum": "154985511d7925c5793a1f97dea81880",
     "grade": false,
     "grade_id": "cell-4c3bddd0b73ac90e",
     "locked": true,
     "schema_version": 3,
     "solution": false,
     "task": false
    }
   },
   "outputs": [],
   "source": [
    "#### Compute df based on the two configs\n",
    "\n",
    "# get the document frequencies of each document\n",
    "df_1 = compute_df([d[1] for d in doc_repr_1])\n",
    "df_2 = compute_df([d[1] for d in doc_repr_2])\n",
    "\n",
    "def get_df(index_set):\n",
    "    assert index_set in {1, 2}\n",
    "    return {\n",
    "        1: df_1,\n",
    "        2: df_2\n",
    "    }[index_set]\n",
    "####"
   ]
  },
  {
   "cell_type": "code",
   "execution_count": 30,
   "metadata": {
    "deletable": false,
    "editable": false,
    "nbgrader": {
     "cell_type": "code",
     "checksum": "110cc180068cf3f77c682ee3de2a117c",
     "grade": true,
     "grade_id": "cell-79e8a6db1e5fc46f",
     "locked": true,
     "points": 5,
     "schema_version": 3,
     "solution": false,
     "task": false
    }
   },
   "outputs": [
    {
     "name": "stdout",
     "output_type": "stream",
     "text": [
      "597\n",
      "11\n"
     ]
    }
   ],
   "source": [
    "#### Function check\n",
    "\n",
    "print(df_1['computer'])\n",
    "print(df_2['computer'])\n",
    "####"
   ]
  },
  {
   "cell_type": "markdown",
   "metadata": {
    "deletable": false,
    "editable": false,
    "nbgrader": {
     "cell_type": "markdown",
     "checksum": "6646996a2d016ef86e7cedd2f79a29d1",
     "grade": false,
     "grade_id": "cell-52f6acc487e1b96d",
     "locked": true,
     "schema_version": 3,
     "solution": false,
     "task": false
    }
   },
   "source": [
    "---\n",
    "#### 3.2.2 TF-IDF search (10 points)\n",
    "Next, implement a function that computes a tf-idf score given a query.      "
   ]
  },
  {
   "cell_type": "code",
   "execution_count": 31,
   "metadata": {
    "deletable": false,
    "nbgrader": {
     "cell_type": "code",
     "checksum": "b33c859693d1b383bcb53acea340027f",
     "grade": false,
     "grade_id": "cell-2fb5ba34b2994cd9",
     "locked": false,
     "schema_version": 3,
     "solution": true,
     "task": false
    }
   },
   "outputs": [],
   "source": [
    "# TODO: Implement this! (10 points)\n",
    "\n",
    "def tfidf_search(query, index_set):\n",
    "    \n",
    "    \"\"\"\n",
    "        Perform a search over all documents with the given query using tf-idf. \n",
    "        Note #1: You have to use the `get_index` (and the `get_df`) function created in the previous cells\n",
    "        Input: \n",
    "            query - a (unprocessed) query\n",
    "            index_set - the index to use\n",
    "        Output: a list of (document_id, score), sorted in descending relevance to the given query \n",
    "    \"\"\"\n",
    "    \n",
    "    index = get_index(index_set)\n",
    "    df = get_df(index_set)\n",
    "    processed_query = preprocess_query(query, index_set)\n",
    "    \n",
    "    # Make a set of all involved documents\n",
    "    documents = set([z[0] for z in [y for x in index.values() for y in x]])\n",
    "    \n",
    "    # Make dict of all involved documents, assign score to 0\n",
    "    tf = dict({key: 0 for key in documents})\n",
    "    \n",
    "    # Create new dict with Inverse document frequency\n",
    "    idf = {n: np.log(len(documents)/df[n]) for n in df.keys()}\n",
    "    \n",
    "    # Multiply tf * idf and sum to calculate score\n",
    "    for token in processed_query:\n",
    "        if token not in index.keys():\n",
    "            continue\n",
    "        for doc in index[token]:\n",
    "            tf[doc[0]] += doc[1]*idf[token]\n",
    "    \n",
    "    # Sort and return list\n",
    "    return sorted(tf.items(), key=lambda x:x[1], reverse=True)"
   ]
  },
  {
   "cell_type": "code",
   "execution_count": 32,
   "metadata": {
    "deletable": false,
    "editable": false,
    "nbgrader": {
     "cell_type": "code",
     "checksum": "10b9fd39f3c9a9f3ca274c020ad79323",
     "grade": true,
     "grade_id": "cell-bc68aeeacf42beb3",
     "locked": true,
     "points": 2,
     "schema_version": 3,
     "solution": false,
     "task": false
    }
   },
   "outputs": [
    {
     "name": "stdout",
     "output_type": "stream",
     "text": [
      "TFIDF Results:\n",
      "Rank 0(2.3e+01): An Information Algebra - Phase I Report-Language S...\n",
      "Rank 1(2.3e+01): Rejuvenating Experimental Computer Science \\n This...\n",
      "Rank 2(1.2e+01): ALGOL 60 Confidential \\n The ALGOL 60 Report,* whe...\n",
      "Rank 3(7.8): Automatic Abstracting and Indexing Survey and Reco...\n",
      "Rank 4(7.8): A String Language for Symbol Manipulation Based on...\n"
     ]
    }
   ],
   "source": [
    "#### Function check\n",
    "test_tfidf = tfidf_search(\"report\", index_set=1)[:5]\n",
    "print(f\"TFIDF Results:\")\n",
    "print_results(test_tfidf)\n",
    "####"
   ]
  },
  {
   "cell_type": "code",
   "execution_count": 33,
   "metadata": {
    "deletable": false,
    "editable": false,
    "nbgrader": {
     "cell_type": "code",
     "checksum": "03441f97df9db4996d0f260fcc974e9d",
     "grade": true,
     "grade_id": "cell-c7702fa8179fadb9",
     "locked": true,
     "points": 2,
     "schema_version": 3,
     "solution": false,
     "task": false
    }
   },
   "outputs": [],
   "source": [
    "#### Please do not change this. This cell is used for grading."
   ]
  },
  {
   "cell_type": "code",
   "execution_count": 34,
   "metadata": {
    "deletable": false,
    "editable": false,
    "nbgrader": {
     "cell_type": "code",
     "checksum": "7272cfcbb457a74d23bfec1f85d22d5f",
     "grade": true,
     "grade_id": "cell-3284f50ac29abbaa",
     "locked": true,
     "points": 3,
     "schema_version": 3,
     "solution": false,
     "task": false
    }
   },
   "outputs": [],
   "source": [
    "#### Please do not change this. This cell is used for grading."
   ]
  },
  {
   "cell_type": "code",
   "execution_count": 35,
   "metadata": {
    "deletable": false,
    "editable": false,
    "nbgrader": {
     "cell_type": "code",
     "checksum": "fcbcc867713612b90395d653db8fd5e3",
     "grade": true,
     "grade_id": "cell-d908c80a3155354b",
     "locked": true,
     "points": 3,
     "schema_version": 3,
     "solution": false,
     "task": false
    }
   },
   "outputs": [],
   "source": [
    "#### Please do not change this. This cell is used for grading."
   ]
  },
  {
   "cell_type": "markdown",
   "metadata": {
    "deletable": false,
    "editable": false,
    "nbgrader": {
     "cell_type": "markdown",
     "checksum": "cdffc83f0eaea937cf64a212e7e9af8d",
     "grade": false,
     "grade_id": "cell-f5d923459ba21733",
     "locked": true,
     "schema_version": 3,
     "solution": false,
     "task": false
    }
   },
   "source": [
    "--- \n",
    "\n",
    "### Section 3.3: Query Likelihood Model (35 points) <a class=\"anchor\" id=\"qlm\"></a>\n",
    "\n",
    "In this section, you will implement a simple query likelihood model. \n",
    "\n",
    "\n",
    "#### 3.3.1 Naive QL (15 points)\n",
    "\n",
    "First, let us implement a naive version of a QL model, assuming a multinomial unigram language model (with a uniform prior over the documents). \n",
    "\n"
   ]
  },
  {
   "cell_type": "code",
   "execution_count": 36,
   "metadata": {
    "deletable": false,
    "editable": false,
    "nbgrader": {
     "cell_type": "code",
     "checksum": "b7ae2b7d818b428b4638c1c9206d2aca",
     "grade": false,
     "grade_id": "cell-98505778f7b68e7f",
     "locked": true,
     "schema_version": 3,
     "solution": false,
     "task": false
    }
   },
   "outputs": [],
   "source": [
    "#### Document length for normalization\n",
    "\n",
    "def doc_lengths(documents):\n",
    "    doc_lengths = {doc_id:len(doc) for (doc_id, doc) in documents}\n",
    "    return doc_lengths\n",
    "\n",
    "doc_lengths_1 = doc_lengths(doc_repr_1)\n",
    "doc_lengths_2 = doc_lengths(doc_repr_2)\n",
    "\n",
    "def get_doc_lengths(index_set):\n",
    "    assert index_set in {1, 2}\n",
    "    return {\n",
    "        1: doc_lengths_1,\n",
    "        2: doc_lengths_2\n",
    "    }[index_set]\n",
    "####"
   ]
  },
  {
   "cell_type": "code",
   "execution_count": 37,
   "metadata": {
    "deletable": false,
    "nbgrader": {
     "cell_type": "code",
     "checksum": "cedd08303a914243fefdb6b876977ca1",
     "grade": false,
     "grade_id": "cell-8bcf2b804d636c2e",
     "locked": false,
     "schema_version": 3,
     "solution": true,
     "task": false
    }
   },
   "outputs": [],
   "source": [
    "from collections import defaultdict\n",
    "\n",
    "# TODO: Implement this! (15 points)\n",
    "\n",
    "def naive_ql_search(query, index_set):\n",
    "    \n",
    "    \"\"\"\n",
    "        Perform a search over all documents with the given query using a naive QL model. \n",
    "        Note #1: You have to use the `get_index` (and get_doc_lengths) function created in the previous cells\n",
    "        Input: \n",
    "            query - a (unprocessed) query\n",
    "            index_set - the index to use\n",
    "        Output: a list of (document_id, score), sorted in descending relevance to the given query \n",
    "    \"\"\"\n",
    "    \n",
    "    index = get_index(index_set)\n",
    "    doc_lengths = get_doc_lengths(index_set)\n",
    "    processed_query = preprocess_query(query, index_set)\n",
    "    \n",
    "    # Make a set of all involved documents\n",
    "    documents = set([z[0] for z in [y for x in index.values() for y in x]])\n",
    "    \n",
    "    # Specifiy defaultdict\n",
    "    scores = defaultdict(list)\n",
    "    \n",
    "    # For each term in query\n",
    "    for term in processed_query:\n",
    "        \n",
    "        # If term does not exist in vocab assign 0\n",
    "        if term not in index:\n",
    "            for document in documents:\n",
    "                scores[document].append(0)\n",
    "            continue\n",
    "        \n",
    "        # Collect al doc_ids from documents in which term occurs\n",
    "        in_docs = [x[0] for x in index[term]]\n",
    "        \n",
    "        # For every document\n",
    "        for document in documents:\n",
    "            \n",
    "            # If term occurs in this document append probability\n",
    "            if document in in_docs:            \n",
    "                scores[document].append((index[term][in_docs.index(document)][1]/doc_lengths[document]))\n",
    "                \n",
    "            # If term does not occur, append probability of 0\n",
    "            else:\n",
    "                scores[document].append(0)\n",
    "    \n",
    "    # Take product of all elements\n",
    "    scores.update({n: np.prod([float(y) for y in scores[n]]) for n in scores.keys()})\n",
    "    \n",
    "    # Sort and return list\n",
    "    return sorted(scores.items(), key=lambda x: x[1], reverse=True)"
   ]
  },
  {
   "cell_type": "code",
   "execution_count": 38,
   "metadata": {
    "deletable": false,
    "editable": false,
    "nbgrader": {
     "cell_type": "code",
     "checksum": "b550d15bdad28354c336020a00c33d56",
     "grade": true,
     "grade_id": "cell-5a83ac12ecde8578",
     "locked": true,
     "points": 3,
     "schema_version": 3,
     "solution": false,
     "task": false
    },
    "scrolled": true
   },
   "outputs": [
    {
     "name": "stdout",
     "output_type": "stream",
     "text": [
      "Naive QL Results:\n",
      "Rank 0(0.2): A Report Writer For COBOL...\n",
      "Rank 1(0.2): A CRT Report Generating System...\n",
      "Rank 2(0.17): Preliminary Report-International Algebraic Languag...\n",
      "Rank 3(0.17): Supplement to the ALGOL 60 Report...\n",
      "Rank 4(0.14): ALGOL Sub-Committee Report - Extensions...\n"
     ]
    }
   ],
   "source": [
    "#### Function check\n",
    "test_naiveql = naive_ql_search(\"report\", index_set=1)[:5]\n",
    "print(f\"Naive QL Results:\")\n",
    "print_results(test_naiveql)\n",
    "####"
   ]
  },
  {
   "cell_type": "code",
   "execution_count": 39,
   "metadata": {},
   "outputs": [
    {
     "name": "stdout",
     "output_type": "stream",
     "text": [
      "Naive QL Results:\n",
      "Rank 0(1e-07): A Report Writer For COBOL...\n",
      "Rank 1(1e-07): A CRT Report Generating System...\n",
      "Rank 2(1.7e-08): Preliminary Report-International Algebraic Languag...\n",
      "Rank 3(1.7e-08): Supplement to the ALGOL 60 Report...\n",
      "Rank 4(3.5e-09): ALGOL Sub-Committee Report - Extensions...\n"
     ]
    }
   ],
   "source": [
    "#### Function check\n",
    "test_naiveql = naive_ql_search(\"report \" * 10, index_set=1)[:5]\n",
    "print(f\"Naive QL Results:\")\n",
    "print_results(test_naiveql)\n",
    "####"
   ]
  },
  {
   "cell_type": "code",
   "execution_count": 40,
   "metadata": {
    "scrolled": true
   },
   "outputs": [
    {
     "name": "stdout",
     "output_type": "stream",
     "text": [
      "Naive QL Results:\n",
      "Rank 0(0.0046): Supplement to the ALGOL 60 Report...\n",
      "Rank 1(0.0): Preliminary Report-International Algebraic Languag...\n",
      "Rank 2(0.0): Extraction of Roots by Repeated Subtractions for D...\n",
      "Rank 3(0.0): Techniques Department on Matrix Program Schemes...\n",
      "Rank 4(0.0): Glossary of Computer Engineering and Programming T...\n"
     ]
    }
   ],
   "source": [
    "#### Function check\n",
    "test_naiveql = naive_ql_search(\"report ALGOL Supplement\", index_set=1)[:5]\n",
    "print(f\"Naive QL Results:\")\n",
    "print_results(test_naiveql)\n",
    "####"
   ]
  },
  {
   "cell_type": "code",
   "execution_count": 41,
   "metadata": {
    "deletable": false,
    "editable": false,
    "nbgrader": {
     "cell_type": "code",
     "checksum": "799df1d81c63fe90edbb6c218fc707fb",
     "grade": true,
     "grade_id": "cell-80f4bf2137f997bb",
     "locked": true,
     "points": 2,
     "schema_version": 3,
     "solution": false,
     "task": false
    }
   },
   "outputs": [],
   "source": [
    "#### Please do not change this. This cell is used for grading."
   ]
  },
  {
   "cell_type": "code",
   "execution_count": 42,
   "metadata": {
    "deletable": false,
    "editable": false,
    "nbgrader": {
     "cell_type": "code",
     "checksum": "875a4a517d27e20625d41783cebec118",
     "grade": true,
     "grade_id": "cell-5ce2993458a8ce51",
     "locked": true,
     "points": 3,
     "schema_version": 3,
     "solution": false,
     "task": false
    }
   },
   "outputs": [],
   "source": [
    "#### Please do not change this. This cell is used for grading."
   ]
  },
  {
   "cell_type": "code",
   "execution_count": 43,
   "metadata": {
    "deletable": false,
    "editable": false,
    "nbgrader": {
     "cell_type": "code",
     "checksum": "d5c4e1c3852e71a46f32825b122f1b71",
     "grade": true,
     "grade_id": "cell-7753bdb54e292f3d",
     "locked": true,
     "points": 3,
     "schema_version": 3,
     "solution": false,
     "task": false
    }
   },
   "outputs": [],
   "source": [
    "#### Please do not change this. This cell is used for grading."
   ]
  },
  {
   "cell_type": "code",
   "execution_count": 44,
   "metadata": {
    "deletable": false,
    "editable": false,
    "nbgrader": {
     "cell_type": "code",
     "checksum": "c4d4332d4356e89ce0240f6b80e1899a",
     "grade": true,
     "grade_id": "cell-54e476e2f96e64bb",
     "locked": true,
     "points": 4,
     "schema_version": 3,
     "solution": false,
     "task": false
    }
   },
   "outputs": [],
   "source": [
    "#### Please do not change this. This cell is used for grading."
   ]
  },
  {
   "cell_type": "markdown",
   "metadata": {
    "deletable": false,
    "editable": false,
    "nbgrader": {
     "cell_type": "markdown",
     "checksum": "8d739dc91a22bd48897f603885f95a74",
     "grade": false,
     "grade_id": "cell-5414dfd69dab8b94",
     "locked": true,
     "schema_version": 3,
     "solution": false,
     "task": false
    }
   },
   "source": [
    "---\n",
    "#### 3.3.2 QL (20 points)\n",
    "Now, let's implement a QL model that handles the issues with the naive version. In particular, you will implement a QL model with Jelinek-Mercer Smoothing. That means an interpolated score is computed per word - one term is the same as the previous naive version, and the second term comes from a unigram language model. In addition, you should accumulate the scores by summing the **log** (smoothed) probability which leads to better numerical stability."
   ]
  },
  {
   "cell_type": "code",
   "execution_count": 45,
   "metadata": {
    "deletable": false,
    "nbgrader": {
     "cell_type": "code",
     "checksum": "b8c6abf937ad333e628f1db891f2e29e",
     "grade": false,
     "grade_id": "cell-bb1f506409771257",
     "locked": false,
     "schema_version": 3,
     "solution": true,
     "task": false
    }
   },
   "outputs": [],
   "source": [
    "# TODO: Implement this! (20 points)\n",
    "\n",
    "def ql_search(query, index_set):\n",
    "    \"\"\"\n",
    "        Perform a search over all documents with the given query using a QL model \n",
    "        with Jelinek-Mercer Smoothing (set smoothing=0.1). \n",
    "        \n",
    "        \n",
    "        Note #1: You have to use the `get_index` (and get_doc_lengths) function created in the previous cells\n",
    "        Note #2: You might have to create some variables beforehand and use them in this function\n",
    "        \n",
    "        \n",
    "        Input: \n",
    "            query - a (unprocessed) query\n",
    "            index_set - the index to use\n",
    "        Output: a list of (document_id, score), sorted in descending relevance to the given query \n",
    "    \"\"\"\n",
    "    \n",
    "    index = get_index(index_set)\n",
    "    doc_lengths = get_doc_lengths(index_set)\n",
    "    processed_query = preprocess_query(query, index_set)\n",
    "    \n",
    "    # Collection length\n",
    "    cl = sum(doc_lengths.values())\n",
    "    \n",
    "    # Set smoothing\n",
    "    smoothing = 0.1\n",
    "    \n",
    "    # Make a set of all involved documents\n",
    "    documents = set([z[0] for z in [y for x in index.values() for y in x]])\n",
    "    \n",
    "    # Specifiy defaultdict\n",
    "    scores = defaultdict(list)\n",
    "    \n",
    "    # For each term in query\n",
    "    for term in processed_query:\n",
    "        \n",
    "        # If term does not exist in vocab assign 0\n",
    "        if term not in index:\n",
    "            continue\n",
    "            \n",
    "        # Collect al doc_ids from documents in which term occurs\n",
    "        in_docs = [x[0] for x in index[term]]\n",
    "            \n",
    "        # Collection frequency of term\n",
    "        cft = sum([x[1] for x in index[term]])\n",
    "        \n",
    "        # Second term of score, as this term is indep. of document\n",
    "        colfrac = (1-smoothing)*cft/cl\n",
    "        \n",
    "        # For every document\n",
    "        for document in documents:\n",
    "            \n",
    "            # If term occurs in this document append probability\n",
    "            if document in in_docs:            \n",
    "                scores[document].append(np.log((smoothing*(index[term][in_docs.index(document)][1]/doc_lengths[document]))\n",
    "                                       + colfrac))\n",
    "                \n",
    "            # If term does not occur in document, append second part of equation\n",
    "            else:\n",
    "                scores[document].append(np.log(colfrac))\n",
    "    \n",
    "    # Score equals the logsum of all probabilities\n",
    "    # Note: log(𝑎)+log(𝑏)=log(𝑎𝑏)\n",
    "    scores.update({n: np.sum([float(y) for y in scores[n]]) for n in scores.keys()})\n",
    "    \n",
    "    # Sort and return list\n",
    "    return sorted(scores.items(), key=lambda x: x[1], reverse=True)"
   ]
  },
  {
   "cell_type": "code",
   "execution_count": 46,
   "metadata": {
    "deletable": false,
    "editable": false,
    "nbgrader": {
     "cell_type": "code",
     "checksum": "0b12a7f3355193a257fd9f5f69a66562",
     "grade": true,
     "grade_id": "cell-850e9d6369bcec32",
     "locked": true,
     "points": 4,
     "schema_version": 3,
     "solution": false,
     "task": false
    }
   },
   "outputs": [
    {
     "name": "stdout",
     "output_type": "stream",
     "text": [
      "Rank 0(-3.9): A Report Writer For COBOL...\n",
      "Rank 1(-3.9): A CRT Report Generating System...\n",
      "Rank 2(-4.1): Preliminary Report-International Algebraic Languag...\n",
      "Rank 3(-4.1): Supplement to the ALGOL 60 Report...\n",
      "Rank 4(-4.2): ALGOL Sub-Committee Report - Extensions...\n",
      "\n",
      "Rank 0(-3.9e+01): A Report Writer For COBOL...\n",
      "Rank 1(-3.9e+01): A CRT Report Generating System...\n",
      "Rank 2(-4.1e+01): Preliminary Report-International Algebraic Languag...\n",
      "Rank 3(-4.1e+01): Supplement to the ALGOL 60 Report...\n",
      "Rank 4(-4.2e+01): ALGOL Sub-Committee Report - Extensions...\n"
     ]
    }
   ],
   "source": [
    "#### Function check\n",
    "test_ql_results = ql_search(\"report\", index_set=1)[:5]\n",
    "print_results(test_ql_results)\n",
    "print()\n",
    "test_ql_results_long = ql_search(\"report \" * 10, index_set=1)[:5]\n",
    "print_results(test_ql_results_long)\n",
    "####"
   ]
  },
  {
   "cell_type": "code",
   "execution_count": 47,
   "metadata": {},
   "outputs": [
    {
     "name": "stdout",
     "output_type": "stream",
     "text": [
      "Rank 0(-1.2e+01): Supplement to the ALGOL 60 Report...\n",
      "Rank 1(-2e+01): ALGOL Sub-Committee Report - Extensions...\n",
      "Rank 2(-2e+01): Report on the Algorithmic Language ALGOL 60...\n",
      "Rank 3(-2e+01): Report on SUBSET ALGOL 60 (IFIP)...\n",
      "Rank 4(-2.1e+01): Report on Input-Output Procedures for ALGOL 60 (IF...\n"
     ]
    }
   ],
   "source": [
    "#### Function check\n",
    "test_ql_results_long = ql_search(\"report ALGOL Supplement\", index_set=1)[:5]\n",
    "print_results(test_ql_results_long)\n",
    "####"
   ]
  },
  {
   "cell_type": "code",
   "execution_count": 48,
   "metadata": {
    "deletable": false,
    "editable": false,
    "nbgrader": {
     "cell_type": "code",
     "checksum": "e40be645140389c115849856145f5b59",
     "grade": true,
     "grade_id": "cell-958cdcf6fd6899b7",
     "locked": true,
     "points": 3,
     "schema_version": 3,
     "solution": false,
     "task": false
    }
   },
   "outputs": [],
   "source": [
    "#### Please do not change this. This cell is used for grading."
   ]
  },
  {
   "cell_type": "code",
   "execution_count": 49,
   "metadata": {
    "deletable": false,
    "editable": false,
    "nbgrader": {
     "cell_type": "code",
     "checksum": "41d4aff001df17e7963ba79b45810b30",
     "grade": true,
     "grade_id": "cell-384dc23a0c251f6e",
     "locked": true,
     "points": 4,
     "schema_version": 3,
     "solution": false,
     "task": false
    }
   },
   "outputs": [],
   "source": [
    "#### Please do not change this. This cell is used for grading."
   ]
  },
  {
   "cell_type": "code",
   "execution_count": 50,
   "metadata": {
    "deletable": false,
    "editable": false,
    "nbgrader": {
     "cell_type": "code",
     "checksum": "893e8c5a073abc8ebb763d267b91bc02",
     "grade": true,
     "grade_id": "cell-7218966cba5097cc",
     "locked": true,
     "points": 4,
     "schema_version": 3,
     "solution": false,
     "task": false
    }
   },
   "outputs": [],
   "source": [
    "#### Please do not change this. This cell is used for grading."
   ]
  },
  {
   "cell_type": "code",
   "execution_count": 51,
   "metadata": {
    "deletable": false,
    "editable": false,
    "nbgrader": {
     "cell_type": "code",
     "checksum": "f99cb6f8b1f5830aaed8f06712ff846e",
     "grade": true,
     "grade_id": "cell-481ab073259ae53f",
     "locked": true,
     "points": 5,
     "schema_version": 3,
     "solution": false,
     "task": false
    }
   },
   "outputs": [],
   "source": [
    "#### Please do not change this. This cell is used for grading."
   ]
  },
  {
   "cell_type": "markdown",
   "metadata": {
    "deletable": false,
    "editable": false,
    "nbgrader": {
     "cell_type": "markdown",
     "checksum": "c02f14705d679579b1aa9f78f54779d5",
     "grade": false,
     "grade_id": "cell-f44088bfdac1dc90",
     "locked": true,
     "schema_version": 3,
     "solution": false,
     "task": false
    }
   },
   "source": [
    "--- \n",
    "\n",
    "### Section 3.4: BM25 (20 points) <a class=\"anchor\" id=\"bm25\"></a>\n",
    "\n",
    "In this section, we will implement the BM25 scoring function. \n"
   ]
  },
  {
   "cell_type": "code",
   "execution_count": 52,
   "metadata": {
    "deletable": false,
    "nbgrader": {
     "cell_type": "code",
     "checksum": "e57efe06ea92af1c83784a42eb3d86e0",
     "grade": false,
     "grade_id": "cell-15640fc9b5d00a3c",
     "locked": false,
     "schema_version": 3,
     "solution": true,
     "task": false
    }
   },
   "outputs": [],
   "source": [
    "# TODO: Implement this! (20 points)\n",
    "def bm25_search(query, index_set, k_1=1.5, b=0.75):\n",
    "    \n",
    "    \"\"\"\n",
    "        Perform a search over all documents with the given query using BM25. Use k_1 = 1.5 and b = 0.75\n",
    "        Note #1: You have to use the `get_index` (and `get_doc_lengths`) function created in the previous cells\n",
    "        Note #2: You might have to create some variables beforehand and use them in this function\n",
    "        \n",
    "        Input: \n",
    "            query - a (unprocessed) query\n",
    "            index_set - the index to use\n",
    "        Output: a list of (document_id, score), sorted in descending relevance to the given query \n",
    "    \"\"\"\n",
    "    \n",
    "    index = get_index(index_set)\n",
    "    df = get_df(index_set)\n",
    "    doc_lengths = get_doc_lengths(index_set)\n",
    "    processed_query = preprocess_query(query, index_set)\n",
    "    documents = set([z[0] for z in [y for x in index.values() for y in x]])\n",
    "    \n",
    "    scores = dict({key: 0 for key in documents})\n",
    "    N = len(doc_lengths)\n",
    "    avdl = sum(doc_lengths.values()) / N\n",
    "    for q in processed_query:\n",
    "        if q not in index:\n",
    "            continue\n",
    "        inv_list = index[q]\n",
    "        n = len(inv_list)\n",
    "        \n",
    "        for doc_id, f in inv_list:     \n",
    "            dl = doc_lengths[doc_id]\n",
    "            K = k_1*((1-b) + b*dl/avdl)\n",
    "            score = np.log((N / df[q]) * (((k_1+1)*f) / (K+f)))\n",
    "            scores[doc_id] += score\n",
    "    \n",
    "    return [(d, float(s)) for d, s in sorted(scores.items(), key=lambda t: t[1], reverse=True)]"
   ]
  },
  {
   "cell_type": "code",
   "execution_count": 53,
   "metadata": {
    "deletable": false,
    "editable": false,
    "nbgrader": {
     "cell_type": "code",
     "checksum": "4be9de5d4e94637960d83725422bea6c",
     "grade": true,
     "grade_id": "cell-d10536bca72c74b1",
     "locked": true,
     "points": 3,
     "schema_version": 3,
     "solution": false,
     "task": false
    }
   },
   "outputs": [
    {
     "name": "stdout",
     "output_type": "stream",
     "text": [
      "Rank 0(4.4): A Report Writer For COBOL...\n",
      "Rank 1(4.4): A CRT Report Generating System...\n",
      "Rank 2(4.4): Preliminary Report-International Algebraic Languag...\n",
      "Rank 3(4.4): Supplement to the ALGOL 60 Report...\n",
      "Rank 4(4.4): ALGOL Sub-Committee Report - Extensions...\n"
     ]
    }
   ],
   "source": [
    "#### Function check\n",
    "test_bm25_results = bm25_search(\"report\", index_set=1)[:5]\n",
    "print_results(test_bm25_results)\n",
    "####"
   ]
  },
  {
   "cell_type": "code",
   "execution_count": 54,
   "metadata": {
    "deletable": false,
    "editable": false,
    "nbgrader": {
     "cell_type": "code",
     "checksum": "31b550d6a46ae4f8ede88788799ac2b9",
     "grade": true,
     "grade_id": "cell-60f6ec5052712d79",
     "locked": true,
     "points": 5,
     "schema_version": 3,
     "solution": false,
     "task": false
    }
   },
   "outputs": [],
   "source": [
    "#### Please do not change this. This cell is used for grading."
   ]
  },
  {
   "cell_type": "code",
   "execution_count": 55,
   "metadata": {
    "deletable": false,
    "editable": false,
    "nbgrader": {
     "cell_type": "code",
     "checksum": "3da2ec16bfe781916e71755d65aa2983",
     "grade": true,
     "grade_id": "cell-5d17524043a5abcc",
     "locked": true,
     "points": 5,
     "schema_version": 3,
     "solution": false,
     "task": false
    }
   },
   "outputs": [],
   "source": [
    "#### Please do not change this. This cell is used for grading."
   ]
  },
  {
   "cell_type": "code",
   "execution_count": 56,
   "metadata": {
    "deletable": false,
    "editable": false,
    "nbgrader": {
     "cell_type": "code",
     "checksum": "e7b563d54fa84c20909c0ae107010541",
     "grade": true,
     "grade_id": "cell-ff8e704eda1184e3",
     "locked": true,
     "points": 3,
     "schema_version": 3,
     "solution": false,
     "task": false
    }
   },
   "outputs": [],
   "source": [
    "#### Please do not change this. This cell is used for grading."
   ]
  },
  {
   "cell_type": "code",
   "execution_count": 57,
   "metadata": {
    "deletable": false,
    "editable": false,
    "nbgrader": {
     "cell_type": "code",
     "checksum": "b013f90974b396630a8831d6f1d7e5f7",
     "grade": true,
     "grade_id": "cell-a52310500a2543cb",
     "locked": true,
     "points": 4,
     "schema_version": 3,
     "solution": false,
     "task": false
    }
   },
   "outputs": [],
   "source": [
    "#### Please do not change this. This cell is used for grading."
   ]
  },
  {
   "cell_type": "markdown",
   "metadata": {
    "deletable": false,
    "editable": false,
    "nbgrader": {
     "cell_type": "markdown",
     "checksum": "8fcf67cb7d5e8b26cb9bf1f0aa42c847",
     "grade": false,
     "grade_id": "cell-8b2b412c81d62f2d",
     "locked": true,
     "schema_version": 3,
     "solution": false,
     "task": false
    }
   },
   "source": [
    "\n",
    "---\n",
    "\n",
    "### 3.5. Test Your Functions\n",
    "\n",
    "The widget below allows you to play with the search functions you've written so far. Use this to test your search functions and ensure that they work as expected."
   ]
  },
  {
   "cell_type": "code",
   "execution_count": 58,
   "metadata": {
    "deletable": false,
    "editable": false,
    "nbgrader": {
     "cell_type": "code",
     "checksum": "dfeb204b390acc0794dbdcac92b0cf2c",
     "grade": false,
     "grade_id": "cell-c9c2bb76354e8d97",
     "locked": true,
     "schema_version": 3,
     "solution": false,
     "task": false
    }
   },
   "outputs": [],
   "source": [
    "#### Highlighter function\n",
    "# class for results\n",
    "ResultRow = namedtuple(\"ResultRow\", [\"doc_id\", \"snippet\", \"score\"])\n",
    "# doc_id -> doc\n",
    "docs_by_id = dict((d[0], d[1]) for d in docs)\n",
    "\n",
    "def highlight_text(document, query, tol=17):\n",
    "    import re\n",
    "    tokens = tokenize(query)\n",
    "    regex = \"|\".join(f\"(\\\\b{t}\\\\b)\" for t in tokens)\n",
    "    regex = re.compile(regex, flags=re.IGNORECASE)\n",
    "    output = \"\"\n",
    "    i = 0\n",
    "    for m in regex.finditer(document):\n",
    "        start_idx = max(0, m.start() - tol)\n",
    "        end_idx = min(len(document), m.end() + tol)\n",
    "        output += \"\".join([\"...\",\n",
    "                        document[start_idx:m.start()],\n",
    "                        \"<strong>\",\n",
    "                        document[m.start():m.end()],\n",
    "                        \"</strong>\",\n",
    "                        document[m.end():end_idx],\n",
    "                        \"...\"])\n",
    "    return output.replace(\"\\n\", \" \")\n",
    "\n",
    "\n",
    "def make_results(query, search_fn, index_set):\n",
    "    results = []\n",
    "    for doc_id, score in search_fn(query, index_set):\n",
    "        highlight = highlight_text(docs_by_id[doc_id], query)\n",
    "        if len(highlight.strip()) == 0:\n",
    "            highlight = docs_by_id[doc_id]\n",
    "        results.append(ResultRow(doc_id, highlight, score))\n",
    "    return results\n",
    "####"
   ]
  },
  {
   "cell_type": "code",
   "execution_count": 59,
   "metadata": {},
   "outputs": [
    {
     "data": {
      "application/vnd.jupyter.widget-view+json": {
       "model_id": "b912461678134ec492ea157f90cd1bc0",
       "version_major": 2,
       "version_minor": 0
      },
      "text/plain": [
       "Text(value='', description='Search Bar')"
      ]
     },
     "metadata": {},
     "output_type": "display_data"
    }
   ],
   "source": [
    "# TODO: Set this to the function you want to test!\n",
    "# this function should take in a query (string)\n",
    "# and return a sorted list of (doc_id, score) \n",
    "# with the most relevant document in the first position\n",
    "\n",
    "search_fn = bm25_search\n",
    "index_set = 1\n",
    "\n",
    "text = widgets.Text(description=\"Search Bar\", width=200)\n",
    "display(text)\n",
    "\n",
    "def handle_submit(sender):\n",
    "    print(f\"Searching for: '{sender.value}'\")\n",
    "    \n",
    "    results = make_results(sender.value, search_fn, index_set)\n",
    "    \n",
    "    # display only the top 5\n",
    "    results = results[:5]\n",
    "    \n",
    "    body = \"\"\n",
    "    for idx, r in enumerate(results):\n",
    "        body += f\"<li>Document #{r.doc_id}({r.score}): {r.snippet}</li>\"\n",
    "    display(HTML(f\"<ul>{body}</ul>\"))\n",
    "    \n",
    "\n",
    "text.on_submit(handle_submit)"
   ]
  },
  {
   "cell_type": "markdown",
   "metadata": {
    "deletable": false,
    "editable": false,
    "nbgrader": {
     "cell_type": "markdown",
     "checksum": "b315c280048a50e8bad7d6250f6f39d1",
     "grade": false,
     "grade_id": "cell-8d46fe8e4f3d8cdb",
     "locked": true,
     "schema_version": 3,
     "solution": false,
     "task": false
    }
   },
   "source": [
    "---\n",
    "\n",
    "## Section 4: Evaluation (40 points) <a class=\"anchor\" id=\"evaluation\"></a>\n",
    "\n",
    "[Back to Part 1](#part1)\n",
    "\n",
    "Before we jump in and implement an algorithm for retrieval, we first have to learn how to evaluate such a system. In particular, we will work with offline evaluation metrics. These metrics are computed on a dataset with known relevance judgements.\n",
    "\n",
    "Implement the following evaluation metrics. \n",
    "\n",
    "1. Precision (7 points)\n",
    "2. Recall (7 points)\n",
    "3. Mean Average Precision (12 points)\n",
    "4. Expected Reciprocal Rank (12 points)"
   ]
  },
  {
   "cell_type": "markdown",
   "metadata": {
    "deletable": false,
    "editable": false,
    "nbgrader": {
     "cell_type": "markdown",
     "checksum": "82e90076c51893e31fec5c40c49d1828",
     "grade": false,
     "grade_id": "cell-3419fd3bc663d7cc",
     "locked": true,
     "schema_version": 3,
     "solution": false,
     "task": false
    }
   },
   "source": [
    "---\n",
    "### 4.1 Read relevance labels (2 points)\n",
    "\n",
    "Let's take a look at the `qrels.text` file, which contains the ground truth relevance scores. The relevance labels for CACM are binary - either 0 or 1. \n"
   ]
  },
  {
   "cell_type": "code",
   "execution_count": 60,
   "metadata": {
    "deletable": false,
    "editable": false,
    "nbgrader": {
     "cell_type": "code",
     "checksum": "6c11025f5a222796f2882c73c1634799",
     "grade": false,
     "grade_id": "cell-6b738366059dde9e",
     "locked": true,
     "schema_version": 3,
     "solution": false,
     "task": false
    }
   },
   "outputs": [
    {
     "name": "stdout",
     "output_type": "stream",
     "text": [
      "01 1410  0 0\r\n",
      "01 1572  0 0\r\n",
      "01 1605  0 0\r\n",
      "01 2020  0 0\r\n",
      "01 2358  0 0\r\n",
      "02 2434  0 0\r\n",
      "02 2863  0 0\r\n",
      "02 3078  0 0\r\n",
      "03 1134  0 0\r\n",
      "03 1613  0 0\r\n"
     ]
    }
   ],
   "source": [
    "!head ./datasets/qrels.text"
   ]
  },
  {
   "cell_type": "markdown",
   "metadata": {
    "deletable": false,
    "editable": false,
    "nbgrader": {
     "cell_type": "markdown",
     "checksum": "e77d7cc6aae69fdbadb5ac9f78f8a560",
     "grade": false,
     "grade_id": "cell-10e16bff2753ffbb",
     "locked": true,
     "schema_version": 3,
     "solution": false,
     "task": false
    }
   },
   "source": [
    "---\n",
    "**Implementation (2 points):**\n",
    "The first column is the query_id and the second column is the document_id. You can safely ignore the 3rd and 4th columns. Write a function to read in the file:"
   ]
  },
  {
   "cell_type": "code",
   "execution_count": 61,
   "metadata": {
    "deletable": false,
    "nbgrader": {
     "cell_type": "code",
     "checksum": "ef347565a0990ddbd049835105753d59",
     "grade": false,
     "grade_id": "cell-ee5253a4ef602fce",
     "locked": false,
     "schema_version": 3,
     "solution": true,
     "task": false
    }
   },
   "outputs": [],
   "source": [
    "# TODO: Implement this! (2 points)\n",
    "def read_qrels(root_folder = \"./datasets/\"):\n",
    "    \"\"\"\n",
    "        Reads the qrels.text file. \n",
    "        Output: A dictionary: query_id -> [list of relevant documents]\n",
    "    \"\"\"\n",
    "    \n",
    "    path = root_folder + \"qrels.text\"\n",
    "    queries = {}\n",
    "    \n",
    "    # Open and split document into lines\n",
    "    with open(path, 'r') as file:\n",
    "        q_list = file.read().splitlines()\n",
    "    \n",
    "    # Save each query and add relevant documents\n",
    "    for q in q_list:\n",
    "        query_id, document_id, _, _ = [int(i) for i in q.split()]\n",
    "        if query_id not in queries:\n",
    "            queries[query_id] = []\n",
    "        queries[query_id].append(document_id)\n",
    "    \n",
    "    return queries"
   ]
  },
  {
   "cell_type": "code",
   "execution_count": 62,
   "metadata": {
    "deletable": false,
    "editable": false,
    "nbgrader": {
     "cell_type": "code",
     "checksum": "6a258a834392cc8cbf8af5d4ccdee81f",
     "grade": true,
     "grade_id": "cell-72215605fbe24f65",
     "locked": true,
     "points": 2,
     "schema_version": 3,
     "solution": false,
     "task": false
    }
   },
   "outputs": [],
   "source": [
    "#### Function check\n",
    "qrels = read_qrels()\n",
    "\n",
    "assert len(qrels) == 52, \"There should be 52 queries with relevance judgements\"\n",
    "assert sum(len(j) for j in qrels.values()) == 796, \"There should be a total of 796 Relevance Judgements\"\n",
    "####"
   ]
  },
  {
   "cell_type": "markdown",
   "metadata": {
    "deletable": false,
    "editable": false,
    "nbgrader": {
     "cell_type": "markdown",
     "checksum": "6c9e7428a52e291a2cdf92a379730d4c",
     "grade": false,
     "grade_id": "cell-176a6fb2939d0420",
     "locked": true,
     "schema_version": 3,
     "solution": false,
     "task": false
    }
   },
   "source": [
    "---\n",
    "**Note:** For a given query `query_id`, you can assume that documents *not* in `qrels[query_id]` are not relevant to `query_id`. \n"
   ]
  },
  {
   "cell_type": "markdown",
   "metadata": {
    "deletable": false,
    "editable": false,
    "nbgrader": {
     "cell_type": "markdown",
     "checksum": "b26a818c7b4f7ad490e00b35ea0edd69",
     "grade": false,
     "grade_id": "cell-bd8341b72cdd89bb",
     "locked": true,
     "schema_version": 3,
     "solution": false,
     "task": false
    }
   },
   "source": [
    "---\n",
    "### 4.2 Precision (7 points)\n",
    "Implement the `precision@k` metric:"
   ]
  },
  {
   "cell_type": "code",
   "execution_count": 63,
   "metadata": {
    "deletable": false,
    "nbgrader": {
     "cell_type": "code",
     "checksum": "ad3cc3234a361d269ecb6b59cc447e9f",
     "grade": false,
     "grade_id": "cell-494bd0cce108ed67",
     "locked": false,
     "schema_version": 3,
     "solution": true,
     "task": false
    }
   },
   "outputs": [],
   "source": [
    "# TODO: Implement this! (7 points)\n",
    "def precision_k(results, relevant_docs, k):\n",
    "    \"\"\"\n",
    "        Compute Precision@K\n",
    "        Input: \n",
    "            results: A sorted list of 2-tuples (document_id, score), \n",
    "                    with the most relevant document in the first position\n",
    "            relevant_docs: A set of relevant documents. \n",
    "            k: the cut-off\n",
    "        Output: Precision@K\n",
    "    \"\"\"\n",
    "    results = set([d[0] for d in results[:k]])\n",
    "    relevant_docs = set(relevant_docs)\n",
    "    TP = relevant_docs.intersection(results)\n",
    "    return len(TP) / k"
   ]
  },
  {
   "cell_type": "code",
   "execution_count": 64,
   "metadata": {
    "deletable": false,
    "editable": false,
    "nbgrader": {
     "cell_type": "code",
     "checksum": "964b214dbfff8fc53cada864019ee863",
     "grade": true,
     "grade_id": "cell-e7ff0d91c319ca64",
     "locked": true,
     "points": 7,
     "schema_version": 3,
     "solution": false,
     "task": false
    }
   },
   "outputs": [
    {
     "name": "stdout",
     "output_type": "stream",
     "text": [
      "query: What articles exist which deal with TSS (Time Sharing System), an operating system for IBM computers?\n",
      "precision@10 = 0.1\n"
     ]
    }
   ],
   "source": [
    "#### Function check\n",
    "qid = queries[0][0]\n",
    "qtext = queries[0][1]\n",
    "print(f'query:{qtext}')\n",
    "results = bm25_search(qtext, 2)\n",
    "precision = precision_k(results, qrels[qid], 10)\n",
    "print(f'precision@10 = {precision}')\n",
    "####"
   ]
  },
  {
   "cell_type": "markdown",
   "metadata": {
    "deletable": false,
    "editable": false,
    "nbgrader": {
     "cell_type": "markdown",
     "checksum": "8fd3b3998197c7097a40348500affb68",
     "grade": false,
     "grade_id": "cell-afd95f865bc7191e",
     "locked": true,
     "schema_version": 3,
     "solution": false,
     "task": false
    }
   },
   "source": [
    "---\n",
    "### 4.3 Recall (7 points)\n",
    "Implement the `recall@k` metric:"
   ]
  },
  {
   "cell_type": "code",
   "execution_count": 65,
   "metadata": {
    "deletable": false,
    "nbgrader": {
     "cell_type": "code",
     "checksum": "b2020e5741ae03b3fe35817ed8f4ccaa",
     "grade": false,
     "grade_id": "cell-c323fc8c3f8a7cf8",
     "locked": false,
     "schema_version": 3,
     "solution": true,
     "task": false
    }
   },
   "outputs": [],
   "source": [
    "# TODO: Implement this! (7 points)\n",
    "def recall_k(results, relevant_docs, k):\n",
    "    \"\"\"\n",
    "        Compute Recall@K\n",
    "        Input: \n",
    "            results: A sorted list of 2-tuples (document_id, score), with the most relevant document in the first position\n",
    "            relevant_docs: A set of relevant documents. \n",
    "            k: the cut-off\n",
    "        Output: Recall@K\n",
    "    \"\"\"\n",
    "    results = set([d[0] for d in results[:k]])\n",
    "    relevant_docs = set(relevant_docs)\n",
    "    TP = relevant_docs.intersection(results)\n",
    "    return len(TP) / len(relevant_docs)"
   ]
  },
  {
   "cell_type": "code",
   "execution_count": 66,
   "metadata": {
    "deletable": false,
    "editable": false,
    "nbgrader": {
     "cell_type": "code",
     "checksum": "56b6e0b8522f8b2dffbfb3206b2efa84",
     "grade": true,
     "grade_id": "cell-b25172161aef165c",
     "locked": true,
     "points": 7,
     "schema_version": 3,
     "solution": false,
     "task": false
    }
   },
   "outputs": [
    {
     "name": "stdout",
     "output_type": "stream",
     "text": [
      "query: SETL, Very High Level Languages\n",
      "recall@10 = 0.2631578947368421\n"
     ]
    }
   ],
   "source": [
    "#### Function check\n",
    "qid = queries[10][0]\n",
    "qtext = queries[10][1]\n",
    "print(f'query:{qtext}')\n",
    "results = bm25_search(qtext, 2)\n",
    "recall = recall_k(results, qrels[qid], 10)\n",
    "print(f'recall@10 = {recall}')\n",
    "####"
   ]
  },
  {
   "cell_type": "markdown",
   "metadata": {
    "deletable": false,
    "editable": false,
    "nbgrader": {
     "cell_type": "markdown",
     "checksum": "d43c63fa38f333e0b52d41639b2655f7",
     "grade": false,
     "grade_id": "cell-77fd2e7a39a74739",
     "locked": true,
     "schema_version": 3,
     "solution": false,
     "task": false
    }
   },
   "source": [
    "---\n",
    "### 4.4 Mean Average Precision (12 points)\n",
    "Implement the `map` metric:"
   ]
  },
  {
   "cell_type": "code",
   "execution_count": 67,
   "metadata": {
    "deletable": false,
    "nbgrader": {
     "cell_type": "code",
     "checksum": "aae2c62f2ffd76f5b6c004e9519b9f14",
     "grade": false,
     "grade_id": "cell-e50925fa9093a30d",
     "locked": false,
     "schema_version": 3,
     "solution": true,
     "task": false
    }
   },
   "outputs": [],
   "source": [
    "# TODO: Implement this! (12 points)\n",
    "def average_precision(results, relevant_docs):\n",
    "    \"\"\"\n",
    "        Compute Average Precision (for a single query - the results are \n",
    "        averaged across queries to get MAP in the next few cells)\n",
    "        Hint: You can use the recall_k and precision_k functions here!\n",
    "        Input: \n",
    "            results: A sorted list of 2-tuples (document_id, score), with the most \n",
    "                    relevant document in the first position\n",
    "            relevant_docs: A set of relevant documents. \n",
    "        Output: Average Precision\n",
    "    \"\"\"\n",
    "    ap = 0\n",
    "    found = 0\n",
    "    for i in range(len(results)):\n",
    "        # Compute precisions at relevant documents\n",
    "        if results[i][0] in relevant_docs:\n",
    "            ap += precision_k(results, relevant_docs, i+1)\n",
    "            found += 1\n",
    "        # Stop early in case we already found all relevant documents\n",
    "        if found > len(relevant_docs):\n",
    "            break\n",
    "\n",
    "    return ap / len(relevant_docs)"
   ]
  },
  {
   "cell_type": "code",
   "execution_count": 68,
   "metadata": {
    "deletable": false,
    "editable": false,
    "nbgrader": {
     "cell_type": "code",
     "checksum": "5db8cb2dfd3a77554f4147b409f47f38",
     "grade": true,
     "grade_id": "cell-8a1f7ec98571e58b",
     "locked": true,
     "points": 12,
     "schema_version": 3,
     "solution": false,
     "task": false
    }
   },
   "outputs": [
    {
     "name": "stdout",
     "output_type": "stream",
     "text": [
      "query: computational complexity, intractability, class-complete reductions, algorithms and efficiency\n",
      "MAP = 0.23598489537146516\n"
     ]
    }
   ],
   "source": [
    "#### Function check\n",
    "qid = queries[20][0]\n",
    "qtext = queries[20][1]\n",
    "print(f'query:{qtext}')\n",
    "results = bm25_search(qtext, 2)\n",
    "mean_ap = average_precision(results, qrels[qid])\n",
    "print(f'MAP = {mean_ap}')\n",
    "####"
   ]
  },
  {
   "cell_type": "markdown",
   "metadata": {
    "deletable": false,
    "editable": false,
    "nbgrader": {
     "cell_type": "markdown",
     "checksum": "cb645b79d04cc3eed33ca060a5e7bf0f",
     "grade": false,
     "grade_id": "cell-1da18f0fe6f6d7be",
     "locked": true,
     "schema_version": 3,
     "solution": false,
     "task": false
    }
   },
   "source": [
    "---\n",
    "### 4.5 Expected Reciprocal Rank (12 points)\n",
    "Implement the `err` metric:"
   ]
  },
  {
   "cell_type": "code",
   "execution_count": 69,
   "metadata": {
    "deletable": false,
    "nbgrader": {
     "cell_type": "code",
     "checksum": "9ac94db728e23ea1f5dc0d509473c6fb",
     "grade": false,
     "grade_id": "cell-64262889f9b267ea",
     "locked": false,
     "schema_version": 3,
     "solution": true,
     "task": false
    }
   },
   "outputs": [],
   "source": [
    "# TODO: Implement this! (12 points)\n",
    "def err(results, relevant_docs):\n",
    "    \"\"\"\n",
    "        Compute the expected reciprocal rank.\n",
    "        Hint: https://dl.acm.org/doi/pdf/10.1145/1645953.1646033?download=true\n",
    "        Input: \n",
    "            results: A sorted list of 2-tuples (document_id, score), with the most \n",
    "                    relevant document in the first position\n",
    "            relevant_docs: A set of relevant documents. \n",
    "        Output: ERR\n",
    "        \n",
    "    \"\"\"\n",
    "    ERR = 0\n",
    "    # Relevance probabilities are constant because of binary grading\n",
    "    # 0.5 for relevant documents and 0 for non-relevant ones\n",
    "    rel_prob = 0.5\n",
    "    rel_count = 0\n",
    "    for r in range(len(results)):\n",
    "        doc_id = results[r][0]\n",
    "        # We only have to compute for relevant documents as\n",
    "        # non-relevant documents zero out the product\n",
    "        if doc_id in relevant_docs:\n",
    "            rel_count += 1\n",
    "            # (1-0) = 1, so non-relevant documents don't matter\n",
    "            # (1-0.5) = 0.5, so all relevant documents worth the same as the r-th one\n",
    "            ERR += np.power(rel_prob, rel_count) / (r+1)\n",
    "        \n",
    "    return ERR"
   ]
  },
  {
   "cell_type": "code",
   "execution_count": 70,
   "metadata": {
    "deletable": false,
    "editable": false,
    "nbgrader": {
     "cell_type": "code",
     "checksum": "eb97e6d89a0b992b642e4e0ff36ff9f5",
     "grade": true,
     "grade_id": "cell-071e3970ff1afae4",
     "locked": true,
     "points": 12,
     "schema_version": 3,
     "solution": false,
     "task": false
    }
   },
   "outputs": [
    {
     "name": "stdout",
     "output_type": "stream",
     "text": [
      "query: I'd like to find articles describing the use of singular value decomposition in digital image processing.  Applications include finding approximations to the original image and restoring images that are subject to noise. An article on the subject is H.C. Andrews and C.L. Patterson \"Outer product expansions and their uses in digital image processing\", American Mathematical Monthly, vol. 82.\n",
      "ERR = 0.2916666666666667\n"
     ]
    }
   ],
   "source": [
    "#### Function check\n",
    "qid = queries[30][0]\n",
    "qtext = queries[30][1]\n",
    "print(f'query:{qtext}')\n",
    "results = bm25_search(qtext, 2)\n",
    "ERR = err(results, qrels[qid])\n",
    "print(f'ERR = {ERR}')\n",
    "####"
   ]
  },
  {
   "cell_type": "markdown",
   "metadata": {
    "deletable": false,
    "editable": false,
    "nbgrader": {
     "cell_type": "markdown",
     "checksum": "5bd94caf77cfa5f34675df758d91002d",
     "grade": false,
     "grade_id": "cell-43709a765f353946",
     "locked": true,
     "schema_version": 3,
     "solution": false,
     "task": false
    }
   },
   "source": [
    "---\n",
    "### 4.6 Evaluate Search Functions\n",
    "\n",
    "Let's define some metrics@k using [partial functions](https://docs.python.org/3/library/functools.html#functools.partial)"
   ]
  },
  {
   "cell_type": "code",
   "execution_count": 71,
   "metadata": {
    "deletable": false,
    "editable": false,
    "nbgrader": {
     "cell_type": "code",
     "checksum": "49ccc158e5fb7340ace55e90eeb9d62a",
     "grade": false,
     "grade_id": "cell-dab560e18e340da8",
     "locked": true,
     "schema_version": 3,
     "solution": false,
     "task": false
    }
   },
   "outputs": [],
   "source": [
    "#### metrics@k functions\n",
    "\n",
    "recall_at_1 = partial(recall_k, k=1)\n",
    "recall_at_5 = partial(recall_k, k=5)\n",
    "recall_at_10 = partial(recall_k, k=10)\n",
    "precision_at_1 = partial(precision_k, k=1)\n",
    "precision_at_5 = partial(precision_k, k=5)\n",
    "precision_at_10 = partial(precision_k, k=10)\n",
    "\n",
    "\n",
    "list_of_metrics = [\n",
    "    (\"ERR\", err),\n",
    "    (\"MAP\", average_precision),\n",
    "    (\"Recall@1\",recall_at_1),\n",
    "    (\"Recall@5\", recall_at_5),\n",
    "    (\"Recall@10\", recall_at_10),\n",
    "    (\"Precision@1\", precision_at_1),\n",
    "    (\"Precision@5\", precision_at_5),\n",
    "    (\"Precision@10\", precision_at_10)]\n",
    "####"
   ]
  },
  {
   "cell_type": "markdown",
   "metadata": {
    "deletable": false,
    "editable": false,
    "nbgrader": {
     "cell_type": "markdown",
     "checksum": "fb541002c03221b453b8936290020ea5",
     "grade": false,
     "grade_id": "cell-580a2bdc66d03b47",
     "locked": true,
     "schema_version": 3,
     "solution": false,
     "task": false
    }
   },
   "source": [
    "---\n",
    "\n",
    "The following function evaluates a `search_fn` using the `metric_fn`. Note that the final number is averaged over all the queries"
   ]
  },
  {
   "cell_type": "code",
   "execution_count": 72,
   "metadata": {},
   "outputs": [],
   "source": [
    "#### Evaluate a search function\n",
    "\n",
    "list_of_search_fns = [\n",
    "    (\"BOW\", bow_search),\n",
    "    (\"TF-IDF\", tfidf_search),\n",
    "    (\"NaiveQL\", naive_ql_search),\n",
    "    (\"QL\", ql_search),\n",
    "    (\"BM25\", bm25_search)\n",
    "]\n",
    "\n",
    "def evaluate_search_fn(search_fn, metric_fns, index_set=None):\n",
    "    # build a dict query_id -> query \n",
    "    queries_by_id = dict((q[0], q[1]) for q in queries)\n",
    "    \n",
    "    metrics = {}\n",
    "    for metric, metric_fn in metric_fns:\n",
    "        metrics[metric] = np.zeros(len(qrels), dtype=np.float32)\n",
    "    \n",
    "    for i, (query_id, relevant_docs) in enumerate(qrels.items()):\n",
    "        query = queries_by_id[query_id]\n",
    "        if index_set:\n",
    "            results = search_fn(query, index_set)\n",
    "        else:\n",
    "            results = search_fn(query)\n",
    "        \n",
    "        for metric, metric_fn in metric_fns:\n",
    "            metrics[metric][i] = metric_fn(results, relevant_docs)\n",
    "\n",
    "    \n",
    "    \n",
    "    final_dict = {}\n",
    "    for metric, metric_vals in metrics.items():\n",
    "        final_dict[metric] = metric_vals.mean()\n",
    "    \n",
    "    return final_dict\n",
    "####"
   ]
  },
  {
   "cell_type": "markdown",
   "metadata": {
    "deletable": false,
    "editable": false,
    "nbgrader": {
     "cell_type": "markdown",
     "checksum": "6ea67534f74a8f81e1f504794f641709",
     "grade": false,
     "grade_id": "cell-b156d83a0649cbb4",
     "locked": true,
     "schema_version": 3,
     "solution": false,
     "task": false
    }
   },
   "source": [
    "## Section 5: Analysis (30 points) <a class=\"anchor\" id=\"analysis\"></a>\n",
    "\n",
    "[Back to Part 1](#part1)\n",
    "\n",
    "In the final section of Part1, we will compare the different term-based IR algorithms and different preprocessing configurations and analyze their advantages and disadvantages.\n",
    "\n",
    "### Section 5.1: Plot (20 points)\n",
    "\n",
    "First, gather the results. The results should consider the index set, the different search functions and different metrics. Plot the results in bar charts, per metric, with clear labels.\n",
    "\n",
    "**Rubric:**\n",
    "- Each Metric is plotted: 7 points\n",
    "- Each Method is plotted: 7 points\n",
    "- Clear titles, x label, y labels and legends (if applicable): 6 points"
   ]
  },
  {
   "cell_type": "code",
   "execution_count": 73,
   "metadata": {
    "deletable": false,
    "nbgrader": {
     "cell_type": "code",
     "checksum": "7e2588a925d13ddf588abe8311dc9cfc",
     "grade": true,
     "grade_id": "cell-46fda42a25863a04",
     "locked": false,
     "points": 20,
     "schema_version": 3,
     "solution": true,
     "task": false
    }
   },
   "outputs": [],
   "source": [
    "# YOUR CODE HERE\n",
    "# raise NotImplementedError()"
   ]
  },
  {
   "cell_type": "markdown",
   "metadata": {
    "deletable": false,
    "editable": false,
    "nbgrader": {
     "cell_type": "markdown",
     "checksum": "e88c444a0acf4e398c65e289169b75f7",
     "grade": false,
     "grade_id": "cell-8aabe3bcf265deb0",
     "locked": true,
     "points": 10,
     "schema_version": 3,
     "solution": false,
     "task": true
    }
   },
   "source": [
    "---\n",
    "### Section 5.2: Summary (10 points)\n",
    "Write a summary of what you observe in the results.\n",
    "Your summary should compare results across the 2 indices and the methods being used. State what you expected to see in the results, followed by either supporting evidence *or* justify why the results did not support your expectations.      "
   ]
  },
  {
   "cell_type": "markdown",
   "metadata": {},
   "source": [
    "Write your answer here!"
   ]
  },
  {
   "cell_type": "markdown",
   "metadata": {
    "deletable": false,
    "editable": false,
    "nbgrader": {
     "cell_type": "markdown",
     "checksum": "b3eb77be74eecca205fc7b47316d1627",
     "grade": false,
     "grade_id": "cell-bb60dd5c092d0f2e",
     "locked": true,
     "schema_version": 3,
     "solution": false,
     "task": false
    }
   },
   "source": [
    "---\n",
    "---\n",
    "# Part 2: Semantic-based Matching (85 points) <a class=\"anchor\" id=\"part2\"></a>\n",
    "\n",
    "[Back to top](#top)\n",
    "\n",
    "We will now experiment with methods that go beyond lexical methods like TF-IDF, which operate at the word level and are high dimensional and sparse, and look at methods which constructs low dimensional dense representations of queries and documents. \n",
    "\n",
    "Since these low-dimensional methods have a higher time complexity, they are typically used in conjunction with methods like BM-25. That is, instead of searching through potentially million documents to find matches using low dimensional vectors, a list of K documents are retrieved using BM25, and then **re-ranked** using the other method. This is the method that is going to be applied in the following exercises. \n",
    "\n",
    "LSI/LDA takes documents that are similar on a semantic level - for instance, if they are describing the same topic - and projects them into nearby vectors, despite having low lexical overlap.\n",
    "\n",
    "In this assignment, you will use `gensim` to create LSI/LDA models and use them in re-ranking. \n",
    "\n",
    "**Note**: The following exercises only uses `doc_repr_2` and `config_2`\n",
    "\n",
    "Table of contents:\n",
    "- [Section 6: LSI](#lsi) (15 points)\n",
    "- [Section 7: LDA](#lda) (10 points)\n",
    "- [Section 8: Word2Vec/Doc2Vec](#2vec) (20 points)\n",
    "- [Section 8: Re-ranking](#reranking) (10 points)\n",
    "- [Section 9: Re-ranking Evaluation](#reranking_eval) (30 points)"
   ]
  },
  {
   "cell_type": "markdown",
   "metadata": {
    "deletable": false,
    "editable": false,
    "nbgrader": {
     "cell_type": "markdown",
     "checksum": "f7c7b2cab82f576ed0acf836ca57171c",
     "grade": false,
     "grade_id": "cell-6b2c81e7a8abd180",
     "locked": true,
     "schema_version": 3,
     "solution": false,
     "task": false
    }
   },
   "source": [
    "---\n",
    "## Section 6: Latent Semantic Indexing (LSI) (15 points) <a class=\"anchor\" id=\"lsi\"></a>\n",
    "\n",
    "[Back to Part 2](#part2)\n",
    "\n",
    "LSI is one of the methods to embed the queries and documents into vectors. It is based on a method similar to Principal Component Analysis (PCA) for obtaining a dense concept matrix out of the sparse term-document matrix.\n",
    "\n",
    "See [wikipedia](https://en.wikipedia.org/wiki/Latent_semantic_analysis), particularly [#Mathematics_of_LSI](https://en.wikipedia.org/wiki/Latent_semantic_analysis#Mathematics_of_LSI)."
   ]
  },
  {
   "cell_type": "code",
   "execution_count": 74,
   "metadata": {
    "deletable": false,
    "editable": false,
    "nbgrader": {
     "cell_type": "code",
     "checksum": "c17ee75319cb517e2bf48ec3d9efc329",
     "grade": false,
     "grade_id": "cell-59913daee47f680d",
     "locked": true,
     "schema_version": 3,
     "solution": false,
     "task": false
    }
   },
   "outputs": [],
   "source": [
    "from gensim.corpora import Dictionary\n",
    "from gensim.models import LdaModel, LsiModel, Word2Vec\n",
    "from gensim.models.doc2vec import Doc2Vec, TaggedDocument\n",
    "from gensim import downloader as g_downloader\n",
    "# gensim uses logging, so set it up \n",
    "import logging\n",
    "logging.basicConfig(format='%(asctime)s : %(levelname)s : %(message)s', level=logging.INFO)"
   ]
  },
  {
   "cell_type": "markdown",
   "metadata": {
    "deletable": false,
    "editable": false,
    "nbgrader": {
     "cell_type": "markdown",
     "checksum": "5fce140c546759b54a9fc060901ae77c",
     "grade": false,
     "grade_id": "cell-3644faff4976598a",
     "locked": true,
     "schema_version": 3,
     "solution": false,
     "task": false
    }
   },
   "source": [
    "---\n",
    "### Section 6.1: Cosine Similarity (5 points)<a class=\"anchor\" id=\"cosing_sim\"></a>\n",
    "Before we begin, let us first define our method of similarity for the LSI model, the cosine similarity:\n",
    "\n",
    "$$\\text{similarity} = \\cos(\\theta) = {\\mathbf{A} \\cdot \\mathbf{B} \\over \\|\\mathbf{A}\\| \\|\\mathbf{B}\\|} = \\frac{ \\sum\\limits_{i=1}^{n}{A_i  B_i} }{ \\sqrt{\\sum\\limits_{i=1}^{n}{A_i^2}}  \\sqrt{\\sum\\limits_{i=1}^{n}{B_i^2}} }$$\n",
    "\n",
    "Since we are using gensim, the types of vectors returned by their classes are of the form defined below (they are not just simple vectors):"
   ]
  },
  {
   "cell_type": "code",
   "execution_count": 75,
   "metadata": {
    "deletable": false,
    "editable": false,
    "nbgrader": {
     "cell_type": "code",
     "checksum": "4e340e1a1d546f430c018fd0760e707a",
     "grade": false,
     "grade_id": "cell-3995a50f951314d5",
     "locked": true,
     "schema_version": 3,
     "solution": false,
     "task": false
    }
   },
   "outputs": [],
   "source": [
    "# 1, 2, 3 are either latent dimensions (LSI), or topics (LDA)\n",
    "# The second value in each tuple is a number (LSI) or a probability (LDA)  \n",
    "example_vec_1 = [(1, 0.2), (2, 0.3), (3, 0.4)]\n",
    "example_vec_2 = [(1, 0.2), (2, 0.7), (3, 0.4)]"
   ]
  },
  {
   "cell_type": "markdown",
   "metadata": {
    "deletable": false,
    "editable": false,
    "nbgrader": {
     "cell_type": "markdown",
     "checksum": "20832fd4f579f49ae204b0efee02edd1",
     "grade": false,
     "grade_id": "cell-5e54d581858dc8f7",
     "locked": true,
     "schema_version": 3,
     "solution": false,
     "task": false
    }
   },
   "source": [
    "---\n",
    "**Implementation (2+3 points):**\n",
    "Now, implement the `dot product` operation on these types of vectors and using this operator, implement the `cosine similarity` (don't forget: two functions to implement!):"
   ]
  },
  {
   "cell_type": "code",
   "execution_count": 76,
   "metadata": {
    "deletable": false,
    "nbgrader": {
     "cell_type": "code",
     "checksum": "06a712ee75fc213a21c5f0067fd8fe28",
     "grade": false,
     "grade_id": "cell-0e8189f5f93de33f",
     "locked": false,
     "schema_version": 3,
     "solution": true,
     "task": false
    }
   },
   "outputs": [],
   "source": [
    "# TODO: Implement this! (2 points)\n",
    "def dot(vec_1,vec_2): \n",
    "    \"\"\"\n",
    "        vec_1 and vec_2 are of the form: [(int, float), (int, float), ...]\n",
    "        Return the dot product of two such vectors, computed only on the floats\n",
    "        You can assume that the lengths of the vectors are the same, and the dimensions are aligned \n",
    "            i.e you won't get: vec_1 = [(1, 0.2)] ; vec_2 = [(2, 0.3)] \n",
    "                                (dimensions are unaligned and lengths are different)\n",
    "    \"\"\"\n",
    "    # YOUR CODE HERE\n",
    "        \n",
    "    return sum([i[1]*j[1] for i,j in zip(vec_1, vec_2)])\n",
    "\n",
    "# TODO: Implement this! (3 points)\n",
    "def cosine_sim(vec_1, vec_2):\n",
    "    # YOUR CODE HERE\n",
    "    \n",
    "    try:\n",
    "        return dot(vec_1, vec_2)/(np.linalg.norm([i[1] for i in vec_1])*np.linalg.norm([j[1] for j in vec_2]))\n",
    "    except ZeroDivisionError:\n",
    "        return 0"
   ]
  },
  {
   "cell_type": "code",
   "execution_count": 77,
   "metadata": {
    "deletable": false,
    "editable": false,
    "nbgrader": {
     "cell_type": "code",
     "checksum": "d22a4a7325ba7815a808390388f534a1",
     "grade": true,
     "grade_id": "cell-b25d04ed6b79fd35",
     "locked": true,
     "points": 2,
     "schema_version": 3,
     "solution": false,
     "task": false
    }
   },
   "outputs": [
    {
     "name": "stdout",
     "output_type": "stream",
     "text": [
      "vectors: ([(1, 0.2), (2, 0.3), (3, 0.4)], [(1, 0.2), (2, 0.7), (3, 0.4)])\n",
      "dot product = 0.41000000000000003\n",
      "cosine similarity = 0.9165587597202866\n"
     ]
    }
   ],
   "source": [
    "##### Function check\n",
    "print(f'vectors: {(example_vec_1,example_vec_2)}')\n",
    "print(f'dot product = {dot(example_vec_1,example_vec_2)}')\n",
    "print(f'cosine similarity = {cosine_sim(example_vec_1,example_vec_2)}')\n",
    "##### "
   ]
  },
  {
   "cell_type": "code",
   "execution_count": 78,
   "metadata": {
    "deletable": false,
    "editable": false,
    "nbgrader": {
     "cell_type": "code",
     "checksum": "0744131724ce76b1b3f163b4bae5f700",
     "grade": true,
     "grade_id": "cell-ae3c4466866ace77",
     "locked": true,
     "points": 3,
     "schema_version": 3,
     "solution": false,
     "task": false
    }
   },
   "outputs": [],
   "source": [
    "#### Please do not change this. This cell is used for grading."
   ]
  },
  {
   "cell_type": "markdown",
   "metadata": {
    "deletable": false,
    "editable": false,
    "nbgrader": {
     "cell_type": "markdown",
     "checksum": "9b123f599f9ea372d14676e23f1c6a52",
     "grade": false,
     "grade_id": "cell-4b2534067c44fcdf",
     "locked": true,
     "schema_version": 3,
     "solution": false,
     "task": false
    }
   },
   "source": [
    "---\n",
    "### Section 6.2: LSI Retrieval (10 points)<a class=\"anchor\" id=\"lsi_retrieval\"></a>\n",
    "LSI retrieval is simply ranking the documents based on their cosine similarity to the query vector.\n",
    "First, let's write a parent class for vector-based retrieval models:"
   ]
  },
  {
   "cell_type": "code",
   "execution_count": 79,
   "metadata": {
    "deletable": false,
    "editable": false,
    "nbgrader": {
     "cell_type": "code",
     "checksum": "ecc111d58182570e2252b8ef5d6b02af",
     "grade": false,
     "grade_id": "cell-937936cea18711ee",
     "locked": true,
     "schema_version": 3,
     "solution": false,
     "task": false
    }
   },
   "outputs": [],
   "source": [
    "class VectorSpaceRetrievalModel:\n",
    "    \"\"\"\n",
    "        Parent class for Dense Vector Retrieval models\n",
    "    \"\"\"\n",
    "    def __init__(self, doc_repr):\n",
    "        \"\"\"\n",
    "            document_collection: \n",
    "                [\n",
    "                    (doc_id_1, [token 1, token 2, ...]), \n",
    "                    (doc_id_2, [token 1, token 2, ....]) \n",
    "                    ...\n",
    "                ]\n",
    "\n",
    "        \"\"\"\n",
    "        self.doc_repr = doc_repr\n",
    "        self.documents = [_[1] for _ in self.doc_repr]\n",
    "        \n",
    "        # construct a dictionary\n",
    "        self.dictionary = Dictionary(self.documents)\n",
    "        # Filter out words that occur less than 20 documents, or more than 50% of the documents.\n",
    "        self.dictionary.filter_extremes(no_below=10)\n",
    "        self.corpus = [self.dictionary.doc2bow(doc) for doc in self.documents]\n",
    "    \n",
    "        # Make a index to word dictionary.\n",
    "        temp = self.dictionary[0]  # This is only to \"load\" the dictionary.\n",
    "        self.id2word = self.dictionary.id2token\n",
    "        \n",
    "        # this is set by the train_model function\n",
    "        self.model = None\n",
    "        \n",
    "        \n",
    "    def vectorize_documents(self):\n",
    "        \"\"\"\n",
    "            Returns a doc_id -> vector dictionary\n",
    "        \"\"\"\n",
    "        vectors = {}\n",
    "        for (doc_id, _), cc in zip(self.doc_repr, self.corpus):\n",
    "            vectors[doc_id] = self.model[cc]\n",
    "        return vectors\n",
    "\n",
    "    def vectorize_query(self, query):\n",
    "        # Note the use of config_2 here!\n",
    "        query = process_text(query, **config_2)\n",
    "        query_vector = self.dictionary.doc2bow(query)\n",
    "        return self.model[query_vector]\n",
    "    \n",
    "    def train_model(self):\n",
    "        \"\"\"\n",
    "            Trains a model and sets the 'self.model' variable. \n",
    "            Make sure to use the variables created in the __init__ method.\n",
    "            e.g the variables which may be useful: {corpus, dictionary, id2word}\n",
    "        \"\"\"\n",
    "        raise NotImplementedError()"
   ]
  },
  {
   "cell_type": "markdown",
   "metadata": {
    "deletable": false,
    "editable": false,
    "nbgrader": {
     "cell_type": "markdown",
     "checksum": "ff161eefd9b81b768cd6361bc1a502b0",
     "grade": false,
     "grade_id": "cell-704a18c2f80cd60c",
     "locked": true,
     "schema_version": 3,
     "solution": false,
     "task": false
    }
   },
   "source": [
    "---\n",
    "**Implementation (5 points):**\n",
    "Implement the `train_model` method in the following class (note that this is only one line of code in `gensim`!). Ensure that the parameters defined in the `__init__` method are not changed, and are *used in the `train_method` function*. Normally, the hyperaparameter space will be searched using grid search / other methods - in this assignment we have provided the hyperparameters for you.\n",
    "\n",
    "The last two lines of code train an LSI model on the list of documents which have been stemmed, lower-cased and have stopwords removed. "
   ]
  },
  {
   "cell_type": "code",
   "execution_count": 80,
   "metadata": {
    "deletable": false,
    "nbgrader": {
     "cell_type": "code",
     "checksum": "0e90eedc27c248bc1ae050518a46a46c",
     "grade": false,
     "grade_id": "cell-307682c9089f15d6",
     "locked": false,
     "schema_version": 3,
     "solution": true,
     "task": false
    }
   },
   "outputs": [],
   "source": [
    "# TODO: Implement this! (5 points)\n",
    "class LsiRetrievalModel(VectorSpaceRetrievalModel):\n",
    "    def __init__(self, doc_repr):\n",
    "        super().__init__(doc_repr)\n",
    "        \n",
    "        self.num_topics = 100\n",
    "        self.chunksize = 2000\n",
    "    \n",
    "    def train_model(self):\n",
    "        # YOUR CODE HERE\n",
    "        \n",
    "        self.model = LsiModel(self.corpus, id2word=self.id2word, num_topics=self.num_topics, chunksize=self.chunksize)"
   ]
  },
  {
   "cell_type": "code",
   "execution_count": 81,
   "metadata": {
    "deletable": false,
    "editable": false,
    "nbgrader": {
     "cell_type": "code",
     "checksum": "00399cfe13d60cb4beed1271e36004b0",
     "grade": true,
     "grade_id": "cell-5ce512650c1b2dfb",
     "locked": true,
     "points": 0,
     "schema_version": 3,
     "solution": false,
     "task": false
    }
   },
   "outputs": [
    {
     "name": "stderr",
     "output_type": "stream",
     "text": [
      "2021-02-14 16:48:17,679 : INFO : adding document #0 to Dictionary(0 unique tokens: [])\n",
      "2021-02-14 16:48:17,762 : INFO : built Dictionary(5937 unique tokens: ['-', 'algebra', 'intern', 'languag', 'preliminari']...) from 3204 documents (total 115970 corpus positions)\n",
      "2021-02-14 16:48:17,766 : INFO : discarding 4740 tokens: [('repeat', 8), ('glossari', 7), ('inspect', 8), ('uncol', 2), ('rung', 9), ('secant', 2), ('.', 1603), ('acceler', 6), ('diverg', 3), ('induc', 9)]...\n",
      "2021-02-14 16:48:17,766 : INFO : keeping 1197 tokens which were in no less than 10 and no more than 1602 (=50.0%) documents\n",
      "2021-02-14 16:48:17,768 : INFO : resulting dictionary: Dictionary(1197 unique tokens: ['-', 'algebra', 'intern', 'languag', 'preliminari']...)\n",
      "2021-02-14 16:48:17,815 : INFO : using serial LSI version on this node\n",
      "2021-02-14 16:48:17,816 : INFO : updating model with new documents\n",
      "2021-02-14 16:48:17,816 : INFO : preparing a new chunk of documents\n",
      "2021-02-14 16:48:17,826 : INFO : using 100 extra samples and 2 power iterations\n",
      "2021-02-14 16:48:17,827 : INFO : 1st phase: constructing (1197, 200) action matrix\n",
      "2021-02-14 16:48:17,842 : INFO : orthonormalizing (1197, 200) action matrix\n",
      "2021-02-14 16:48:17,987 : INFO : 2nd phase: running dense svd on (200, 2000) matrix\n",
      "2021-02-14 16:48:18,123 : INFO : computing the final decomposition\n",
      "2021-02-14 16:48:18,123 : INFO : keeping 100 factors (discarding 13.428% of energy spectrum)\n",
      "2021-02-14 16:48:18,126 : INFO : processed documents up to #2000\n",
      "2021-02-14 16:48:18,126 : INFO : topic #0(152.127): 0.741*\",\" + 0.342*\"-\" + 0.211*\"system\" + 0.204*\"program\" + 0.192*\"comput\" + 0.146*\"(\" + 0.127*\"languag\" + 0.108*\")\" + 0.084*\"gener\" + 0.083*\"data\"\n",
      "2021-02-14 16:48:18,127 : INFO : topic #1(60.600): -0.607*\"(\" + -0.434*\")\" + -0.366*\"algorithm\" + -0.300*\"-\" + 0.237*\",\" + 0.213*\"system\" + 0.132*\"comput\" + -0.096*\"[\" + 0.093*\"program\" + -0.084*\"])\"\n",
      "2021-02-14 16:48:18,127 : INFO : topic #2(57.438): 0.744*\"-\" + -0.452*\",\" + 0.263*\"system\" + -0.214*\"(\" + -0.166*\")\" + 0.107*\"time\" + 0.105*\"program\" + -0.094*\"algorithm\" + 0.068*\"comput\" + 0.067*\"share\"\n",
      "2021-02-14 16:48:18,127 : INFO : topic #3(48.370): -0.483*\"system\" + -0.375*\"program\" + -0.367*\"comput\" + 0.363*\"-\" + 0.308*\",\" + -0.212*\"(\" + -0.168*\")\" + -0.147*\"algorithm\" + 0.144*\"languag\" + -0.119*\"time\"\n",
      "2021-02-14 16:48:18,128 : INFO : topic #4(45.710): -0.489*\"comput\" + 0.475*\"languag\" + 0.428*\"program\" + -0.238*\"method\" + -0.141*\"problem\" + 0.121*\"system\" + 0.109*\")\" + -0.107*\"equat\" + -0.100*\"algorithm\" + 0.099*\"(\"\n",
      "2021-02-14 16:48:18,128 : INFO : preparing a new chunk of documents\n",
      "2021-02-14 16:48:18,136 : INFO : using 100 extra samples and 2 power iterations\n",
      "2021-02-14 16:48:18,136 : INFO : 1st phase: constructing (1197, 200) action matrix\n",
      "2021-02-14 16:48:18,146 : INFO : orthonormalizing (1197, 200) action matrix\n",
      "2021-02-14 16:48:18,332 : INFO : 2nd phase: running dense svd on (200, 1204) matrix\n",
      "2021-02-14 16:48:18,438 : INFO : computing the final decomposition\n",
      "2021-02-14 16:48:18,438 : INFO : keeping 100 factors (discarding 14.020% of energy spectrum)\n",
      "2021-02-14 16:48:18,440 : INFO : merging projections: (1197, 100) + (1197, 100)\n",
      "2021-02-14 16:48:18,506 : INFO : keeping 100 factors (discarding 8.173% of energy spectrum)\n",
      "2021-02-14 16:48:18,509 : INFO : processed documents up to #3204\n",
      "2021-02-14 16:48:18,510 : INFO : topic #0(225.136): 0.759*\",\" + 0.337*\"-\" + 0.196*\"system\" + 0.186*\"program\" + 0.166*\"comput\" + 0.139*\"(\" + 0.103*\")\" + 0.103*\"algorithm\" + 0.099*\"languag\" + 0.087*\"time\"\n",
      "2021-02-14 16:48:18,510 : INFO : topic #1(87.805): 0.613*\"-\" + -0.399*\",\" + 0.399*\"(\" + 0.326*\"algorithm\" + 0.293*\")\" + -0.129*\"system\" + -0.107*\"program\" + 0.085*\"method\" + 0.077*\"time\" + 0.062*\"1\"\n",
      "2021-02-14 16:48:18,511 : INFO : topic #2(81.909): 0.550*\"-\" + -0.434*\"(\" + 0.355*\"system\" + -0.321*\")\" + -0.291*\",\" + -0.266*\"algorithm\" + 0.146*\"program\" + 0.123*\"comput\" + 0.078*\"time\" + -0.064*\"[\"\n",
      "2021-02-14 16:48:18,511 : INFO : topic #3(72.432): -0.693*\"program\" + 0.339*\",\" + 0.279*\"-\" + -0.251*\"(\" + -0.221*\"system\" + -0.214*\"languag\" + -0.204*\")\" + -0.160*\"comput\" + -0.099*\"data\" + -0.056*\"execut\"\n",
      "2021-02-14 16:48:18,512 : INFO : topic #4(68.523): -0.673*\"system\" + 0.453*\"program\" + 0.254*\"languag\" + 0.212*\"-\" + -0.179*\"comput\" + -0.165*\"(\" + -0.121*\")\" + -0.115*\"model\" + 0.101*\",\" + -0.098*\"algorithm\"\n"
     ]
    },
    {
     "data": {
      "text/plain": [
       "[(0, 0.01521721701128651),\n",
       " (1, -0.01628138333116389),\n",
       " (2, -0.00016742373977551763),\n",
       " (3, -0.0018930378826455326),\n",
       " (4, -0.009487589691334893),\n",
       " (5, -0.004634316771987595),\n",
       " (6, 0.02695853351923618),\n",
       " (7, 0.016802168894632697),\n",
       " (8, -0.03166601553338791),\n",
       " (9, -0.000777001454443961),\n",
       " (10, 0.0023438042799367852),\n",
       " (11, -0.01727653433956524),\n",
       " (12, -0.0003491837981983645),\n",
       " (13, 0.0012016687884990563),\n",
       " (14, 0.004372424732935422),\n",
       " (15, 0.005258791921621377),\n",
       " (16, 0.00480144741341728),\n",
       " (17, 0.0020854402947404673),\n",
       " (18, -0.01773519276757521),\n",
       " (19, 0.020552433878636606),\n",
       " (20, -0.009443100450220742),\n",
       " (21, -0.013196027343663146),\n",
       " (22, 0.048220544218979984),\n",
       " (23, 0.023545489837345897),\n",
       " (24, -0.011864213851772571),\n",
       " (25, -0.010757124568771795),\n",
       " (26, 0.009044177426892196),\n",
       " (27, 0.07672873262343788),\n",
       " (28, -0.06299655961621128),\n",
       " (29, 0.031815932585366656),\n",
       " (30, 0.041971058496887675),\n",
       " (31, 0.04368482751396911),\n",
       " (32, -0.07158200247166051),\n",
       " (33, 0.047973827428948526),\n",
       " (34, -0.02495242882651605),\n",
       " (35, 0.06316025784917857),\n",
       " (36, 0.044128924089475226),\n",
       " (37, 4.683314475718153e-05),\n",
       " (38, -0.06248740623275756),\n",
       " (39, 0.02890291872340881),\n",
       " (40, -0.039597004996391974),\n",
       " (41, -0.04113164764585545),\n",
       " (42, 0.02037192849695263),\n",
       " (43, 0.007799596495400236),\n",
       " (44, 0.021648228827717393),\n",
       " (45, 0.055419007798829814),\n",
       " (46, -0.005850377458805359),\n",
       " (47, 0.004938172298242222),\n",
       " (48, 0.015041347274121),\n",
       " (49, 0.02951642816773602),\n",
       " (50, 0.014404876440206923),\n",
       " (51, 0.054714401518348846),\n",
       " (52, -0.00864737448262371),\n",
       " (53, 0.006628953384307655),\n",
       " (54, 0.0384300927439062),\n",
       " (55, 0.029917886129466602),\n",
       " (56, 0.0016034853904784516),\n",
       " (57, -0.021450064106912706),\n",
       " (58, -0.012208528421381312),\n",
       " (59, 0.0385200274721744),\n",
       " (60, -0.0070794678612592955),\n",
       " (61, -0.05268344110674661),\n",
       " (62, -4.9686272116326174e-06),\n",
       " (63, 0.04017304471345673),\n",
       " (64, -0.05877003469303185),\n",
       " (65, 0.04441786034502215),\n",
       " (66, -0.007178706061967873),\n",
       " (67, 0.047536782207720917),\n",
       " (68, -0.03808557290937872),\n",
       " (69, -0.03504055928326615),\n",
       " (70, -0.03947791976442428),\n",
       " (71, -0.02514499641860503),\n",
       " (72, 0.055727091857207936),\n",
       " (73, -0.05846457763757109),\n",
       " (74, -0.03085509596770452),\n",
       " (75, 0.04443291356603819),\n",
       " (76, -0.025132987775911345),\n",
       " (77, 0.0004682546963105383),\n",
       " (78, 0.07117833919190461),\n",
       " (79, 0.03984585050009609),\n",
       " (80, -0.007115576696907478),\n",
       " (81, -0.0008653191859137183),\n",
       " (82, 0.053957413024253935),\n",
       " (83, -0.003101347866968182),\n",
       " (84, -0.020705938383159754),\n",
       " (85, 0.009339032322072944),\n",
       " (86, -0.031501795247160486),\n",
       " (87, 0.028032498733886253),\n",
       " (88, -0.042653951278977156),\n",
       " (89, -0.08139264601235108),\n",
       " (90, -0.03000862749056975),\n",
       " (91, 0.004738167163348411),\n",
       " (92, -0.03681216106430988),\n",
       " (93, -0.07273402421478761),\n",
       " (94, 0.029188345806207237),\n",
       " (95, -0.031944833441371355),\n",
       " (96, -0.010169558302134674),\n",
       " (97, -0.008688820069645718),\n",
       " (98, 0.019960229271057416),\n",
       " (99, 0.04117132332719489)]"
      ]
     },
     "execution_count": 81,
     "metadata": {},
     "output_type": "execute_result"
    }
   ],
   "source": [
    "##### Function check\n",
    "lsi = LsiRetrievalModel(doc_repr_2)\n",
    "lsi.train_model()\n",
    "\n",
    "# you can now get an LSI vector for a given query in the following way:\n",
    "lsi.vectorize_query(\"report\")\n",
    "##### "
   ]
  },
  {
   "cell_type": "markdown",
   "metadata": {
    "deletable": false,
    "editable": false,
    "nbgrader": {
     "cell_type": "markdown",
     "checksum": "7116bb9f576c5bb04934e1d59c51d729",
     "grade": false,
     "grade_id": "cell-4c5eeb557b4fca2f",
     "locked": true,
     "points": 5,
     "schema_version": 3,
     "solution": false,
     "task": true
    }
   },
   "source": [
    "\\#### Please do not change this. This cell is used for grading."
   ]
  },
  {
   "cell_type": "markdown",
   "metadata": {
    "deletable": false,
    "editable": false,
    "nbgrader": {
     "cell_type": "markdown",
     "checksum": "1068a108600b8c1539117d543e720354",
     "grade": false,
     "grade_id": "cell-c4e50296cd17a555",
     "locked": true,
     "schema_version": 3,
     "solution": false,
     "task": false
    }
   },
   "source": [
    "---\n",
    "Next, implement a basic ranking class for vector space retrieval (used for all semantic methods): "
   ]
  },
  {
   "cell_type": "code",
   "execution_count": 82,
   "metadata": {
    "deletable": false,
    "nbgrader": {
     "cell_type": "code",
     "checksum": "1a8389d2f0635c3405e2b0b27ed9f327",
     "grade": false,
     "grade_id": "cell-250515d288e80cdc",
     "locked": false,
     "schema_version": 3,
     "solution": true,
     "task": false
    }
   },
   "outputs": [],
   "source": [
    "# TODO: Implement this! (5 points)\n",
    "\n",
    "class DenseRetrievalRanker:\n",
    "    def __init__(self, vsrm, similarity_fn):\n",
    "        \"\"\"\n",
    "            vsrm: instance of `VectorSpaceRetrievalModel`\n",
    "            similarity_fn: function instance that takes in two vectors \n",
    "                            and returns a similarity score e.g cosine_sim defined earlier\n",
    "        \"\"\"\n",
    "        self.vsrm = vsrm \n",
    "        self.vectorized_documents = self.vsrm.vectorize_documents()\n",
    "        self.similarity_fn = similarity_fn\n",
    "    \n",
    "    def _compute_sim(self, query_vector):\n",
    "        \"\"\"\n",
    "            Compute the similarity of `query_vector` to documents in \n",
    "            `self.vectorized_documents` using `self.similarity_fn`\n",
    "            Returns a list of (doc_id, score) tuples\n",
    "        \"\"\"\n",
    "        \n",
    "        # YOUR CODE HERE\n",
    "        \n",
    "        # Calculate cosine similarity score for every document\n",
    "        scores = {key: self.similarity_fn(query_vector, value) for (key, value) in self.vectorized_documents.items()}\n",
    "        \n",
    "        # Return list with tuples containing document_id sorted on score in descending order\n",
    "        return sorted(scores.items(), key=lambda x: x[1], reverse=True)\n",
    "    \n",
    "    def search(self, query):\n",
    "        scores = self._compute_sim(self.vsrm.vectorize_query(query))\n",
    "        scores.sort(key=lambda _:-_[1])\n",
    "        return scores "
   ]
  },
  {
   "cell_type": "code",
   "execution_count": 83,
   "metadata": {
    "deletable": false,
    "editable": false,
    "nbgrader": {
     "cell_type": "code",
     "checksum": "f237dd1ef6c1783c06797f4b514421f5",
     "grade": true,
     "grade_id": "cell-b73068b3e77a8e31",
     "locked": true,
     "points": 0,
     "schema_version": 3,
     "solution": false,
     "task": false
    }
   },
   "outputs": [
    {
     "name": "stderr",
     "output_type": "stream",
     "text": [
      "<ipython-input-76-56b467aaba55>:19: RuntimeWarning: invalid value encountered in double_scalars\n",
      "  return dot(vec_1, vec_2)/(np.linalg.norm([i[1] for i in vec_1])*np.linalg.norm([j[1] for j in vec_2]))\n"
     ]
    },
    {
     "data": {
      "text/plain": [
       "[(599, 0.8057825833106537),\n",
       " (53, 0.49513982528086603),\n",
       " (1339, 0.4438209037157682),\n",
       " (2181, 0.43472938756158347),\n",
       " (196, 0.4230009364967407)]"
      ]
     },
     "execution_count": 83,
     "metadata": {},
     "output_type": "execute_result"
    }
   ],
   "source": [
    "##### Function check\n",
    "drm_lsi = DenseRetrievalRanker(lsi, cosine_sim)\n",
    "drm_lsi.search(\"report\")[:5]\n",
    "##### "
   ]
  },
  {
   "cell_type": "markdown",
   "metadata": {
    "deletable": false,
    "editable": false,
    "nbgrader": {
     "cell_type": "markdown",
     "checksum": "5b3f19fdcaa585d263706d5a26038799",
     "grade": false,
     "grade_id": "cell-034c755a6502b868",
     "locked": true,
     "points": 5,
     "schema_version": 3,
     "solution": false,
     "task": true
    }
   },
   "source": [
    "\\#### Please do not change this. This cell is used for grading."
   ]
  },
  {
   "cell_type": "markdown",
   "metadata": {
    "deletable": false,
    "editable": false,
    "nbgrader": {
     "cell_type": "markdown",
     "checksum": "dcafef6e037033c46304b914f7c78bdf",
     "grade": false,
     "grade_id": "cell-d1df23f497d5ed6b",
     "locked": true,
     "schema_version": 3,
     "solution": false,
     "task": false
    }
   },
   "source": [
    "---\n",
    "Now, you can test your LSI model in the following cell: try finding queries which are lexically different to documents, but semantically similar - does LSI work well for these queries?!"
   ]
  },
  {
   "cell_type": "code",
   "execution_count": 84,
   "metadata": {
    "deletable": false,
    "editable": false,
    "nbgrader": {
     "cell_type": "code",
     "checksum": "11734bc7674377b340ad51297a8e8bb5",
     "grade": false,
     "grade_id": "cell-efd1d08dfc04ec3e",
     "locked": true,
     "schema_version": 3,
     "solution": false,
     "task": false
    }
   },
   "outputs": [
    {
     "data": {
      "application/vnd.jupyter.widget-view+json": {
       "model_id": "2c28398cac844949af5f1d9b25ca490d",
       "version_major": 2,
       "version_minor": 0
      },
      "text/plain": [
       "Text(value='', description='Search Bar')"
      ]
     },
     "metadata": {},
     "output_type": "display_data"
    }
   ],
   "source": [
    "# test your LSI model\n",
    "search_fn = drm_lsi.search\n",
    "\n",
    "text = widgets.Text(description=\"Search Bar\", width=200)\n",
    "display(text)\n",
    "\n",
    "def make_results_2(query, search_fn):\n",
    "    results = []\n",
    "    for doc_id, score in search_fn(query):\n",
    "        highlight = highlight_text(docs_by_id[doc_id], query)\n",
    "        if len(highlight.strip()) == 0:\n",
    "            highlight = docs_by_id[doc_id]\n",
    "        results.append(ResultRow(doc_id, highlight, score))\n",
    "    return results\n",
    "\n",
    "def handle_submit_2(sender):\n",
    "    print(f\"Searching for: '{sender.value}' (SEARCH FN: {search_fn})\")\n",
    "    \n",
    "    results = make_results_2(sender.value, search_fn)\n",
    "    \n",
    "    # display only the top 5\n",
    "    results = results[:5]\n",
    "    \n",
    "    body = \"\"\n",
    "    for idx, r in enumerate(results):\n",
    "        body += f\"<li>Document #{r.doc_id}({r.score}): {r.snippet}</li>\"\n",
    "    display(HTML(f\"<ul>{body}</ul>\"))\n",
    "    \n",
    "\n",
    "text.on_submit(handle_submit_2)"
   ]
  },
  {
   "cell_type": "markdown",
   "metadata": {
    "deletable": false,
    "editable": false,
    "nbgrader": {
     "cell_type": "markdown",
     "checksum": "d074ce1ca48384cdda78742741c938be",
     "grade": false,
     "grade_id": "cell-3a86cef264d8f6cf",
     "locked": true,
     "schema_version": 3,
     "solution": false,
     "task": false
    }
   },
   "source": [
    "---\n",
    "## Section 7: Latent Dirichlet Allocation (LDA) (10 points) <a class=\"anchor\" id=\"lda\"></a>\n",
    "\n",
    "[Back to Part 2](#part2)\n",
    "\n",
    "The specifics of LDA is out of the scope of this assignment, but we will use the `gensim` implementation to perform search using LDA over our small document collection. The key thing to remember is that LDA, unlike LSI, outputs a topic **distribution**, not a vector. With that in mind, let's first define a similarity measure.\n"
   ]
  },
  {
   "cell_type": "markdown",
   "metadata": {
    "deletable": false,
    "editable": false,
    "nbgrader": {
     "cell_type": "markdown",
     "checksum": "db01092373b18f0c9dfed1bb17db4ad9",
     "grade": false,
     "grade_id": "cell-6b78ad22c2d60ba7",
     "locked": true,
     "schema_version": 3,
     "solution": false,
     "task": false
    }
   },
   "source": [
    "---\n",
    "### Section 7.1: Jenson-Shannon divergence (5 points) <a class=\"anchor\" id=\"js_sim\"></a>\n",
    "\n",
    "The Jenson-Shannon divergence is a symmetric and finite measure on two probability distributions (unlike the KL, which is neither). For identical distributions, the JSD is equal to 0, and since our code uses 0 as irrelevant and higher scores as relevant, we use `(1 - JSD)` as the score or 'similarity' in our setup\n",
    "\n",
    "**Note**: the JSD is bounded to \\[0,1\\] only if we use log base 2. So please ensure that you're using `np.log2` instead of `np.log`"
   ]
  },
  {
   "cell_type": "code",
   "execution_count": 85,
   "metadata": {
    "deletable": false,
    "nbgrader": {
     "cell_type": "code",
     "checksum": "a579e6cd7a24a3516bc9a84528b392d3",
     "grade": false,
     "grade_id": "cell-d2376a85a4841e98",
     "locked": false,
     "schema_version": 3,
     "solution": true,
     "task": false
    }
   },
   "outputs": [],
   "source": [
    "## TODO: Implement this! (5 points)\n",
    "# Note for TA: if assert_prob = True, in part 9 numerical value error (it is not exactly 1.0000 and thus function\n",
    "#errors)\n",
    "def jenson_shannon_divergence(vec_1, vec_2, assert_prob=False):\n",
    "    \"\"\"\n",
    "        Computes the Jensen-Shannon divergence between two probability distributions. \n",
    "        NOTE: DO NOT RETURN 1 - JSD here, that is handled by the next function which is already implemented! \n",
    "        The inputs are *gensim* vectors - same as the vectors for the cosine_sim function\n",
    "        assert_prob is a flag that checks if the inputs are proper probability distributions \n",
    "            i.e they sum to 1 and are positive - use this to check your inputs if needed. \n",
    "                (This is optional to implement, but recommended - \n",
    "                you can the default to False to save a few ms off the runtime)\n",
    "    \"\"\"\n",
    "    # YOUR CODE HERE\n",
    "    \n",
    "    if assert_prob:\n",
    "        if sum([x for _, x in vec_1 if x>=0]) != 1 or sum([y for _, y in vec_2 if y>=0]) != 1:\n",
    "            raise ValueError(f\"Invalid distribution encountered\")\n",
    " \n",
    "    # Calculate M = 0.5 (P + Q)\n",
    "    M = [(P[1] + Q[1])/2 for P, Q in zip(vec_1, vec_2)]\n",
    "    \n",
    "    # JSD = 0.5 * sum(log P - log M) + 0.5 * Q*sum(log Q - log M)\n",
    "    return 0.5*sum([P[1]*(np.log2(P[1]/m)) for P, m in zip (vec_1, M)]) + 0.5*sum([Q[1]*np.log2(Q[1]/m) for Q, m in zip (vec_2, M)])\n",
    "    \n",
    "\n",
    "def jenson_shannon_sim(vec_1, vec_2, assert_prob=False):\n",
    "    return 1 - jenson_shannon_divergence(vec_1, vec_2)"
   ]
  },
  {
   "cell_type": "code",
   "execution_count": 86,
   "metadata": {
    "deletable": false,
    "editable": false,
    "nbgrader": {
     "cell_type": "code",
     "checksum": "ab340aa941c9fb5c89b3fd0a9139e246",
     "grade": true,
     "grade_id": "cell-487c6d2933f38053",
     "locked": true,
     "points": 5,
     "schema_version": 3,
     "solution": false,
     "task": false
    }
   },
   "outputs": [
    {
     "data": {
      "text/plain": [
       "0.9251064410358459"
      ]
     },
     "execution_count": 86,
     "metadata": {},
     "output_type": "execute_result"
    }
   ],
   "source": [
    "##### Function check\n",
    "vec_1 = [(1, 0.3), (2, 0.4), (3, 0.3)]\n",
    "vec_2 = [(1, 0.1), (2, 0.7), (3, 0.2)]\n",
    "jenson_shannon_sim(vec_1, vec_2, assert_prob=True)\n",
    "##### "
   ]
  },
  {
   "cell_type": "markdown",
   "metadata": {
    "deletable": false,
    "editable": false,
    "nbgrader": {
     "cell_type": "markdown",
     "checksum": "0a1583a5f23e3390038331cce67f5d8e",
     "grade": false,
     "grade_id": "cell-4535cc67a50b80fa",
     "locked": true,
     "schema_version": 3,
     "solution": false,
     "task": false
    }
   },
   "source": [
    "---\n",
    "### Section 7.2: LDA retrieval (5 points) <a class=\"anchor\" id=\"lda_ret\"></a>\n",
    "\n",
    "Implement the `train_model` method in the following class (note that this is only one line of code in `gensim`!). Ensure that the parameters defined in the `__init__` method are not changed, and are *used in the `train_method` function*. You do not need to set this. Normally, the hyperaparameter space will be searched using grid search / other methods. Note that training the LDA model might take some time\n",
    "\n",
    "The last two lines of code train an LDA model on the list of documents which have been stemmed, lower-cased and have stopwords removed. "
   ]
  },
  {
   "cell_type": "code",
   "execution_count": 87,
   "metadata": {
    "deletable": false,
    "nbgrader": {
     "cell_type": "code",
     "checksum": "27de8e4fa85536bb396b73bfc51b3f50",
     "grade": false,
     "grade_id": "cell-021a48dff4a8bb91",
     "locked": false,
     "schema_version": 3,
     "solution": true,
     "task": false
    }
   },
   "outputs": [],
   "source": [
    "# TODO: Implement this! (5 points)\n",
    "class LdaRetrievalModel(VectorSpaceRetrievalModel):\n",
    "    def __init__(self, doc_repr):\n",
    "        super().__init__(doc_repr)\n",
    "        \n",
    "        # use these parameters in the train_model method\n",
    "        self.num_topics = 100\n",
    "        self.chunksize = 2000\n",
    "        self.passes = 20\n",
    "        self.iterations = 400\n",
    "        self.eval_every = 10\n",
    "        # this is need to get full vectors\n",
    "        self.minimum_probability=0.0\n",
    "        self.alpha='auto'\n",
    "        self.eta='auto'\n",
    "    \n",
    "    \n",
    "    def train_model(self):\n",
    "        # YOUR CODE HERE\n",
    "        self.model = LdaModel(self.corpus, id2word=self.id2word, num_topics=self.num_topics, chunksize=self.chunksize, \n",
    "                        passes=self.passes, iterations=self.iterations, eval_every=self.eval_every, \n",
    "                        minimum_probability=self.minimum_probability, alpha=self.alpha, eta=self.eta)"
   ]
  },
  {
   "cell_type": "code",
   "execution_count": 88,
   "metadata": {
    "deletable": false,
    "editable": false,
    "nbgrader": {
     "cell_type": "code",
     "checksum": "be70fcb8098d0b6ce64cd2a10e6a05b7",
     "grade": true,
     "grade_id": "cell-86750b715f0345fd",
     "locked": true,
     "points": 0,
     "schema_version": 3,
     "solution": false,
     "task": false
    }
   },
   "outputs": [
    {
     "name": "stderr",
     "output_type": "stream",
     "text": [
      "2021-02-14 16:48:19,071 : INFO : adding document #0 to Dictionary(0 unique tokens: [])\n",
      "2021-02-14 16:48:19,154 : INFO : built Dictionary(5937 unique tokens: ['-', 'algebra', 'intern', 'languag', 'preliminari']...) from 3204 documents (total 115970 corpus positions)\n",
      "2021-02-14 16:48:19,158 : INFO : discarding 4740 tokens: [('repeat', 8), ('glossari', 7), ('inspect', 8), ('uncol', 2), ('rung', 9), ('secant', 2), ('.', 1603), ('acceler', 6), ('diverg', 3), ('induc', 9)]...\n",
      "2021-02-14 16:48:19,158 : INFO : keeping 1197 tokens which were in no less than 10 and no more than 1602 (=50.0%) documents\n",
      "2021-02-14 16:48:19,160 : INFO : resulting dictionary: Dictionary(1197 unique tokens: ['-', 'algebra', 'intern', 'languag', 'preliminari']...)\n",
      "2021-02-14 16:48:19,205 : INFO : using autotuned alpha, starting with [0.01, 0.01, 0.01, 0.01, 0.01, 0.01, 0.01, 0.01, 0.01, 0.01, 0.01, 0.01, 0.01, 0.01, 0.01, 0.01, 0.01, 0.01, 0.01, 0.01, 0.01, 0.01, 0.01, 0.01, 0.01, 0.01, 0.01, 0.01, 0.01, 0.01, 0.01, 0.01, 0.01, 0.01, 0.01, 0.01, 0.01, 0.01, 0.01, 0.01, 0.01, 0.01, 0.01, 0.01, 0.01, 0.01, 0.01, 0.01, 0.01, 0.01, 0.01, 0.01, 0.01, 0.01, 0.01, 0.01, 0.01, 0.01, 0.01, 0.01, 0.01, 0.01, 0.01, 0.01, 0.01, 0.01, 0.01, 0.01, 0.01, 0.01, 0.01, 0.01, 0.01, 0.01, 0.01, 0.01, 0.01, 0.01, 0.01, 0.01, 0.01, 0.01, 0.01, 0.01, 0.01, 0.01, 0.01, 0.01, 0.01, 0.01, 0.01, 0.01, 0.01, 0.01, 0.01, 0.01, 0.01, 0.01, 0.01, 0.01]\n",
      "2021-02-14 16:48:19,205 : INFO : using serial LDA version on this node\n",
      "2021-02-14 16:48:19,214 : INFO : running online (multi-pass) LDA training, 100 topics, 20 passes over the supplied corpus of 3204 documents, updating model once every 2000 documents, evaluating perplexity every 3204 documents, iterating 400x with a convergence threshold of 0.001000\n",
      "2021-02-14 16:48:19,214 : INFO : PROGRESS: pass 0, at document #2000/3204\n",
      "2021-02-14 16:48:20,124 : INFO : optimized alpha [0.009813952, 0.009782798, 0.009798878, 0.009772553, 0.009823212, 0.009808676, 0.009855672, 0.009844718, 0.00982914, 0.0098243635, 0.009788166, 0.0097933635, 0.009788227, 0.0099274935, 0.009809158, 0.009824387, 0.009793192, 0.009808669, 0.009855499, 0.009803893, 0.009819595, 0.009943841, 0.009813815, 0.009798535, 0.009819344, 0.009813864, 0.009886817, 0.009885043, 0.00978306, 0.0097571835, 0.009793435, 0.009808685, 0.009767417, 0.009814207, 0.009762353, 0.009782885, 0.009793186, 0.009809188, 0.009834707, 0.009808716, 0.009824439, 0.009819344, 0.009814029, 0.009864626, 0.009844906, 0.009777734, 0.009997313, 0.009891731, 0.009808696, 0.009803823, 0.009908487, 0.009787638, 0.009808959, 0.009865084, 0.009783125, 0.009798549, 0.009788195, 0.009762405, 0.009793584, 0.009803723, 0.009808747, 0.009829854, 0.010059731, 0.009834474, 0.009948622, 0.009798464, 0.009818995, 0.009803815, 0.009875131, 0.009819532, 0.009901594, 0.009793382, 0.009808913, 0.009954487, 0.009783032, 0.009876239, 0.009824318, 0.009876732, 0.009777728, 0.009907703, 0.009808833, 0.009782959, 0.009824435, 0.009861371, 0.009783135, 0.009824869, 0.009849752, 0.009787963, 0.009788283, 0.009777871, 0.009819038, 0.009803556, 0.009876957, 0.009772618, 0.009780901, 0.010021909, 0.009824477, 0.009793372, 0.009939464, 0.009860869]\n",
      "2021-02-14 16:48:20,127 : INFO : merging changes from 2000 documents into a model of 3204 documents\n",
      "2021-02-14 16:48:20,130 : INFO : topic #94 (0.010): 0.048*\"analysi\" + 0.043*\"data\" + 0.030*\"sampl\" + 0.024*\"experi\" + 0.018*\"numer\" + 0.018*\"fourier\" + 0.018*\"decomposit\" + 0.018*\"mean\" + 0.018*\"formula\" + 0.018*\"statist\"\n",
      "2021-02-14 16:48:20,130 : INFO : topic #1 (0.010): 0.090*\"(\" + 0.090*\"algorithm\" + 0.068*\"[\" + 0.068*\"])\" + 0.045*\"function\" + 0.023*\"analysi\" + 0.023*\"distribut\" + 0.023*\"rel\" + 0.023*\"symmetr\" + 0.023*\"solut\"\n",
      "2021-02-14 16:48:20,131 : INFO : topic #98 (0.010): 0.069*\",\" + 0.026*\"-\" + 0.022*\"program\" + 0.018*\"comput\" + 0.012*\"time\" + 0.012*\"(\" + 0.011*\"problem\" + 0.011*\"languag\" + 0.009*\"paper\" + 0.009*\"tabl\"\n",
      "2021-02-14 16:48:20,131 : INFO : topic #46 (0.010): 0.092*\",\" + 0.039*\"comput\" + 0.025*\"-\" + 0.019*\"languag\" + 0.017*\"program\" + 0.011*\"system\" + 0.010*\"problem\" + 0.009*\"(\" + 0.008*\"process\" + 0.008*\"'\"\n",
      "2021-02-14 16:48:20,131 : INFO : topic #62 (0.010): 0.079*\",\" + 0.027*\"-\" + 0.026*\"system\" + 0.021*\"(\" + 0.020*\"program\" + 0.017*\"comput\" + 0.015*\")\" + 0.013*\"gener\" + 0.011*\"\"\" + 0.011*\"time\"\n",
      "2021-02-14 16:48:20,131 : INFO : topic diff=83.358948, rho=1.000000\n",
      "2021-02-14 16:48:20,751 : INFO : -7.269 per-word bound, 154.2 perplexity estimate based on a held-out corpus of 1204 documents with 49783 words\n",
      "2021-02-14 16:48:20,751 : INFO : PROGRESS: pass 0, at document #3204/3204\n",
      "2021-02-14 16:48:21,234 : INFO : optimized alpha [0.010019556, 0.009689383, 0.009989289, 0.009737731, 0.009751737, 0.010088631, 0.009939171, 0.009920215, 0.009864306, 0.00980707, 0.009934135, 0.010154488, 0.009899275, 0.009991737, 0.009844775, 0.00992363, 0.009897452, 0.009749172, 0.009795532, 0.0099571375, 0.010051235, 0.010134913, 0.009819403, 0.010008784, 0.010078877, 0.009978086, 0.010154062, 0.009919025, 0.010223824, 0.009495978, 0.0101273935, 0.010126373, 0.009737887, 0.010085187, 0.009663074, 0.010015748, 0.009828334, 0.009857049, 0.009958288, 0.00985495, 0.010071229, 0.009826188, 0.009813462, 0.009709451, 0.0099872835, 0.009852543, 0.010480161, 0.0100643765, 0.009837414, 0.010174618, 0.010484701, 0.009728819, 0.009920891, 0.009833834, 0.00989514, 0.009840391, 0.010044942, 0.0099471, 0.009910975, 0.009774283, 0.009813686, 0.010054762, 0.010526764, 0.009922293, 0.010186696, 0.0099394135, 0.009812352, 0.009974672, 0.00981418, 0.01007409, 0.00981072, 0.009987187, 0.00980256, 0.010241283, 0.009917837, 0.009822728, 0.009990328, 0.009964359, 0.010004476, 0.010032866, 0.010090966, 0.010004892, 0.009836404, 0.01036584, 0.009852953, 0.010085099, 0.009830706, 0.009782408, 0.009900146, 0.0099578, 0.009736295, 0.0098154135, 0.010157789, 0.010046286, 0.009997028, 0.010207528, 0.010172098, 0.010050578, 0.01061214, 0.010015185]\n",
      "2021-02-14 16:48:21,237 : INFO : merging changes from 1204 documents into a model of 3204 documents\n",
      "2021-02-14 16:48:21,240 : INFO : topic #29 (0.009): 0.001*\"implic\" + 0.001*\"favor\" + 0.001*\"adapt\" + 0.001*\"polygon\" + 0.001*\"stage\" + 0.001*\"situat\" + 0.001*\"respons\" + 0.001*\"industri\" + 0.001*\"regress\" + 0.001*\"drive\"\n",
      "2021-02-14 16:48:21,241 : INFO : topic #1 (0.010): 0.165*\"algorithm\" + 0.141*\"(\" + 0.096*\"[\" + 0.094*\")\" + 0.092*\"function\" + 0.058*\"gamma\" + 0.042*\"wave\" + 0.042*\"regular\" + 0.028*\"effici\" + 0.026*\"s22\"\n",
      "2021-02-14 16:48:21,241 : INFO : topic #50 (0.010): 0.080*\"system\" + 0.065*\",\" + 0.038*\"-\" + 0.030*\"data\" + 0.024*\"program\" + 0.019*\"user\" + 0.019*\"oper\" + 0.016*\"process\" + 0.014*\"inform\" + 0.012*\"perform\"\n",
      "2021-02-14 16:48:21,241 : INFO : topic #62 (0.011): 0.085*\",\" + 0.026*\"-\" + 0.025*\"system\" + 0.020*\"(\" + 0.016*\")\" + 0.015*\"\"\" + 0.013*\"comput\" + 0.012*\"program\" + 0.012*\"problem\" + 0.011*\"process\"\n",
      "2021-02-14 16:48:21,242 : INFO : topic #98 (0.011): 0.078*\",\" + 0.025*\"-\" + 0.022*\"program\" + 0.019*\"tabl\" + 0.018*\"decis\" + 0.017*\"optim\" + 0.014*\"control\" + 0.014*\"comput\" + 0.013*\"paper\" + 0.012*\"design\"\n",
      "2021-02-14 16:48:21,242 : INFO : topic diff=0.781866, rho=0.707107\n",
      "2021-02-14 16:48:21,246 : INFO : PROGRESS: pass 1, at document #2000/3204\n",
      "2021-02-14 16:48:21,690 : INFO : optimized alpha [0.00997858, 0.0098780375, 0.009941189, 0.010108263, 0.00975726, 0.010029551, 0.009932608, 0.009822891, 0.009876349, 0.009780473, 0.009907512, 0.010197034, 0.009928609, 0.00990891, 0.009823177, 0.009908197, 0.009847427, 0.0098193465, 0.009877414, 0.009885524, 0.009988669, 0.010043815, 0.009813701, 0.010045497, 0.010015649, 0.009948122, 0.010100087, 0.009832663, 0.010251385, 0.009348255, 0.010038016, 0.010071781, 0.010001301, 0.010018817, 0.009755864, 0.010024146, 0.009798299, 0.009803953, 0.009960784, 0.009808765, 0.010016003, 0.009862234, 0.009723878, 0.009697915, 0.00991244, 0.009813846, 0.0104516875, 0.010009686, 0.009765659, 0.010100775, 0.010589882, 0.0096824495, 0.00993237, 0.009830933, 0.009814243, 0.009900629, 0.010070125, 0.009909105, 0.009895904, 0.009832159, 0.00984477, 0.009981723, 0.010477705, 0.009983308, 0.010091188, 0.0099472655, 0.009769632, 0.009940286, 0.009953232, 0.01006215, 0.009760883, 0.009968154, 0.009710791, 0.010169751, 0.009875218, 0.0097471485, 0.010102542, 0.00987441, 0.010015666, 0.0099577, 0.01009952, 0.009979193, 0.009794061, 0.0102491155, 0.009824993, 0.01007025, 0.009941194, 0.009963517, 0.009941487, 0.009901573, 0.009720977, 0.009752176, 0.010129064, 0.010112846, 0.009980188, 0.010161846, 0.010218089, 0.010105914, 0.01053195, 0.009942831]\n"
     ]
    },
    {
     "name": "stderr",
     "output_type": "stream",
     "text": [
      "2021-02-14 16:48:21,693 : INFO : merging changes from 2000 documents into a model of 3204 documents\n",
      "2021-02-14 16:48:21,696 : INFO : topic #29 (0.009): 0.001*\"implic\" + 0.001*\"favor\" + 0.001*\"adapt\" + 0.001*\"polygon\" + 0.001*\"stage\" + 0.001*\"situat\" + 0.001*\"respons\" + 0.001*\"industri\" + 0.001*\"regress\" + 0.001*\"drive\"\n",
      "2021-02-14 16:48:21,697 : INFO : topic #51 (0.010): 0.059*\"parallel\" + 0.055*\"goal\" + 0.038*\"program\" + 0.037*\"design\" + 0.037*\"tabl\" + 0.037*\"repetit\" + 0.034*\"notat\" + 0.034*\"process\" + 0.032*\"system\" + 0.030*\"path\"\n",
      "2021-02-14 16:48:21,697 : INFO : topic #62 (0.010): 0.089*\",\" + 0.025*\"-\" + 0.025*\"system\" + 0.019*\"(\" + 0.015*\")\" + 0.015*\"\"\" + 0.013*\"comput\" + 0.013*\"program\" + 0.012*\"process\" + 0.012*\"problem\"\n",
      "2021-02-14 16:48:21,698 : INFO : topic #98 (0.011): 0.078*\",\" + 0.027*\"-\" + 0.025*\"program\" + 0.019*\"tabl\" + 0.018*\"decis\" + 0.015*\"comput\" + 0.014*\"control\" + 0.014*\"optim\" + 0.013*\"time\" + 0.012*\"paper\"\n",
      "2021-02-14 16:48:21,698 : INFO : topic #50 (0.011): 0.085*\"system\" + 0.067*\",\" + 0.040*\"-\" + 0.032*\"data\" + 0.026*\"program\" + 0.021*\"user\" + 0.019*\"process\" + 0.019*\"oper\" + 0.014*\"inform\" + 0.012*\"time\"\n",
      "2021-02-14 16:48:21,698 : INFO : topic diff=0.308126, rho=0.526900\n",
      "2021-02-14 16:48:22,213 : INFO : -6.891 per-word bound, 118.7 perplexity estimate based on a held-out corpus of 1204 documents with 49783 words\n",
      "2021-02-14 16:48:22,214 : INFO : PROGRESS: pass 1, at document #3204/3204\n",
      "2021-02-14 16:48:22,601 : INFO : optimized alpha [0.010177401, 0.00993891, 0.010048193, 0.010378587, 0.009741686, 0.0102570355, 0.010061964, 0.009928601, 0.0099995835, 0.00985264, 0.010157824, 0.010457634, 0.010072775, 0.009998245, 0.009951047, 0.010048557, 0.010017036, 0.009875991, 0.009864289, 0.010021967, 0.010193556, 0.0101149855, 0.009889329, 0.010207844, 0.010273548, 0.010207237, 0.010291539, 0.009895178, 0.010736088, 0.009171277, 0.010329545, 0.010382709, 0.010327199, 0.01025809, 0.009890514, 0.010274113, 0.009990881, 0.009875959, 0.010118823, 0.009953479, 0.010223782, 0.009942577, 0.009821482, 0.0096447, 0.010068726, 0.009940072, 0.010701569, 0.010130005, 0.009854133, 0.010390068, 0.011022873, 0.009762837, 0.010121972, 0.009822458, 0.00992966, 0.010020316, 0.010352458, 0.010174412, 0.010041192, 0.00988066, 0.009945552, 0.010262538, 0.010638363, 0.010127655, 0.010237153, 0.010233609, 0.0098626055, 0.010090799, 0.009947572, 0.010316991, 0.009737106, 0.010144749, 0.009765146, 0.010334624, 0.010063446, 0.009720412, 0.010333951, 0.009884193, 0.010287968, 0.010047184, 0.01038315, 0.010198663, 0.009874767, 0.010481577, 0.0100167915, 0.0102077015, 0.0099752685, 0.010005938, 0.010153304, 0.010123967, 0.009719576, 0.009810782, 0.010353643, 0.010394051, 0.010217833, 0.010232118, 0.010453469, 0.010402411, 0.010890969, 0.010054144]\n",
      "2021-02-14 16:48:22,604 : INFO : merging changes from 1204 documents into a model of 3204 documents\n",
      "2021-02-14 16:48:22,607 : INFO : topic #29 (0.009): 0.001*\"implic\" + 0.001*\"favor\" + 0.001*\"adapt\" + 0.001*\"polygon\" + 0.001*\"stage\" + 0.001*\"situat\" + 0.001*\"respons\" + 0.001*\"industri\" + 0.001*\"regress\" + 0.001*\"drive\"\n",
      "2021-02-14 16:48:22,608 : INFO : topic #43 (0.010): 0.078*\"simul\" + 0.064*\"comput\" + 0.045*\"uniform\" + 0.044*\"simultan\" + 0.038*\"algorithm\" + 0.037*\"evalu\" + 0.037*\"(\" + 0.036*\"polynomi\" + 0.029*\"symmetr\" + 0.025*\"telephon\"\n",
      "2021-02-14 16:48:22,608 : INFO : topic #28 (0.011): 0.176*\"]\" + 0.059*\"approxim\" + 0.057*\"1\" + 0.047*\"2\" + 0.036*\"5\" + 0.036*\"linear\" + 0.033*\"/\" + 0.031*\"primari\" + 0.029*\"norm\" + 0.026*\")\"\n",
      "2021-02-14 16:48:22,609 : INFO : topic #98 (0.011): 0.081*\",\" + 0.026*\"-\" + 0.025*\"program\" + 0.023*\"tabl\" + 0.022*\"decis\" + 0.022*\"optim\" + 0.019*\"control\" + 0.014*\"paper\" + 0.013*\"time\" + 0.013*\"design\"\n",
      "2021-02-14 16:48:22,609 : INFO : topic #50 (0.011): 0.096*\"system\" + 0.072*\",\" + 0.041*\"-\" + 0.033*\"data\" + 0.028*\"user\" + 0.023*\"program\" + 0.023*\"oper\" + 0.019*\"process\" + 0.014*\"inform\" + 0.012*\"time\"\n",
      "2021-02-14 16:48:22,610 : INFO : topic diff=0.414195, rho=0.526900\n",
      "2021-02-14 16:48:22,614 : INFO : PROGRESS: pass 2, at document #2000/3204\n",
      "2021-02-14 16:48:23,041 : INFO : optimized alpha [0.010168525, 0.0102750575, 0.010034428, 0.0107157575, 0.009768538, 0.0102054225, 0.010074897, 0.009869161, 0.010004524, 0.00989955, 0.010153454, 0.010523031, 0.01013381, 0.00994253, 0.009989882, 0.010074722, 0.010018974, 0.009998465, 0.010000355, 0.00997766, 0.010156216, 0.010036015, 0.009898808, 0.010268784, 0.010225037, 0.010211831, 0.010256958, 0.009846422, 0.010780618, 0.009050626, 0.010276492, 0.010347931, 0.010899485, 0.010204666, 0.010035682, 0.010308208, 0.010002988, 0.009837049, 0.010170232, 0.009956874, 0.0101928, 0.010017011, 0.009777873, 0.009718046, 0.009995218, 0.009905671, 0.010655939, 0.010115501, 0.009803244, 0.010346107, 0.011159118, 0.009757061, 0.010152703, 0.009834491, 0.009879937, 0.010142169, 0.01044307, 0.010178961, 0.010058018, 0.010062463, 0.009996592, 0.010231601, 0.010581203, 0.01022867, 0.01017469, 0.010250348, 0.009876255, 0.010076559, 0.010061857, 0.010348182, 0.009695736, 0.010134337, 0.0097135985, 0.010278128, 0.010034244, 0.0096801175, 0.01053605, 0.009817076, 0.010343767, 0.01000543, 0.010420196, 0.010195918, 0.009898623, 0.010369376, 0.010007203, 0.01021372, 0.0100920275, 0.010127618, 0.010287189, 0.010098847, 0.009762538, 0.009779206, 0.010365458, 0.01047327, 0.010258526, 0.010204801, 0.010505318, 0.010493677, 0.010815104, 0.010002426]\n",
      "2021-02-14 16:48:23,044 : INFO : merging changes from 2000 documents into a model of 3204 documents\n",
      "2021-02-14 16:48:23,047 : INFO : topic #29 (0.009): 0.001*\"implic\" + 0.001*\"favor\" + 0.001*\"adapt\" + 0.001*\"polygon\" + 0.001*\"stage\" + 0.001*\"situat\" + 0.001*\"respons\" + 0.001*\"industri\" + 0.001*\"regress\" + 0.001*\"drive\"\n",
      "2021-02-14 16:48:23,047 : INFO : topic #75 (0.010): 0.056*\",\" + 0.040*\"comput\" + 0.034*\"input\" + 0.031*\"output\" + 0.022*\"-\" + 0.020*\"system\" + 0.018*\"control\" + 0.018*\"inform\" + 0.017*\"charact\" + 0.017*\"mechan\"\n",
      "2021-02-14 16:48:23,048 : INFO : topic #98 (0.011): 0.082*\",\" + 0.028*\"-\" + 0.026*\"program\" + 0.021*\"tabl\" + 0.020*\"decis\" + 0.019*\"control\" + 0.019*\"optim\" + 0.013*\"paper\" + 0.013*\"comput\" + 0.013*\"time\"\n",
      "2021-02-14 16:48:23,048 : INFO : topic #32 (0.011): 0.303*\")\" + 0.298*\"(\" + 0.268*\"algorithm\" + 0.030*\"partit\" + 0.029*\"function\" + 0.015*\"gener\" + 0.013*\"elementari\" + 0.013*\"fraction\" + 0.013*\"constraint\" + 0.009*\"continu\"\n",
      "2021-02-14 16:48:23,049 : INFO : topic #50 (0.011): 0.101*\"system\" + 0.074*\",\" + 0.043*\"-\" + 0.034*\"data\" + 0.029*\"user\" + 0.024*\"program\" + 0.023*\"oper\" + 0.022*\"process\" + 0.014*\"time\" + 0.014*\"inform\"\n",
      "2021-02-14 16:48:23,049 : INFO : topic diff=0.376057, rho=0.466151\n",
      "2021-02-14 16:48:23,526 : INFO : -6.781 per-word bound, 109.9 perplexity estimate based on a held-out corpus of 1204 documents with 49783 words\n",
      "2021-02-14 16:48:23,526 : INFO : PROGRESS: pass 2, at document #3204/3204\n",
      "2021-02-14 16:48:23,880 : INFO : optimized alpha [0.010377618, 0.010377534, 0.01016919, 0.011014741, 0.0097597735, 0.01039636, 0.010241888, 0.0099908495, 0.0101376455, 0.010006195, 0.010377756, 0.010765132, 0.010246229, 0.010022864, 0.01011919, 0.010242781, 0.010201272, 0.010094941, 0.010058142, 0.010083471, 0.0103629, 0.0101045, 0.01000918, 0.010437114, 0.010471815, 0.010451907, 0.0104316985, 0.009949174, 0.011244399, 0.008905231, 0.010585861, 0.010663448, 0.011417611, 0.010374485, 0.010221595, 0.010552122, 0.010241649, 0.009901757, 0.010362617, 0.010124929, 0.010406477, 0.010139046, 0.009918702, 0.009713872, 0.010170315, 0.010029999, 0.010853359, 0.010238501, 0.00989407, 0.010589075, 0.011509787, 0.009897902, 0.010362097, 0.009854955, 0.010018036, 0.010287645, 0.010738118, 0.010440942, 0.010199238, 0.010127354, 0.010148675, 0.010608964, 0.010698858, 0.0103882905, 0.010352766, 0.0105359545, 0.010063384, 0.010246294, 0.010067939, 0.010621067, 0.00967738, 0.010307927, 0.009823804, 0.010424948, 0.010210185, 0.009686307, 0.010776497, 0.009843111, 0.010628976, 0.01010108, 0.010696841, 0.010427989, 0.01001328, 0.010564182, 0.010186256, 0.010343757, 0.010168805, 0.0101606585, 0.010577764, 0.010364878, 0.009804208, 0.009877706, 0.010533233, 0.010737991, 0.010515525, 0.01028824, 0.010699306, 0.010727887, 0.011107024, 0.010133339]\n"
     ]
    },
    {
     "name": "stderr",
     "output_type": "stream",
     "text": [
      "2021-02-14 16:48:23,883 : INFO : merging changes from 1204 documents into a model of 3204 documents\n",
      "2021-02-14 16:48:23,887 : INFO : topic #29 (0.009): 0.001*\"implic\" + 0.001*\"favor\" + 0.001*\"adapt\" + 0.001*\"polygon\" + 0.001*\"stage\" + 0.001*\"situat\" + 0.001*\"respons\" + 0.001*\"industri\" + 0.001*\"regress\" + 0.001*\"drive\"\n",
      "2021-02-14 16:48:23,887 : INFO : topic #70 (0.010): 0.070*\",\" + 0.057*\"count\" + 0.050*\"usag\" + 0.043*\"-\" + 0.034*\"diagram\" + 0.028*\"comput\" + 0.027*\"composit\" + 0.025*\"effici\" + 0.022*\"machin\" + 0.022*\"greater\"\n",
      "2021-02-14 16:48:23,888 : INFO : topic #28 (0.011): 0.186*\"]\" + 0.072*\"1\" + 0.055*\"approxim\" + 0.052*\"2\" + 0.037*\"5\" + 0.036*\"linear\" + 0.033*\"primari\" + 0.030*\"root\" + 0.028*\"norm\" + 0.025*\"/\"\n",
      "2021-02-14 16:48:23,888 : INFO : topic #32 (0.011): 0.298*\")\" + 0.297*\"(\" + 0.291*\"algorithm\" + 0.025*\"partit\" + 0.024*\"function\" + 0.015*\"gener\" + 0.013*\"fraction\" + 0.013*\"elementari\" + 0.008*\"constraint\" + 0.007*\"continu\"\n",
      "2021-02-14 16:48:23,888 : INFO : topic #50 (0.012): 0.110*\"system\" + 0.077*\",\" + 0.044*\"-\" + 0.035*\"user\" + 0.030*\"data\" + 0.025*\"oper\" + 0.021*\"program\" + 0.021*\"process\" + 0.015*\"time\" + 0.014*\"inform\"\n",
      "2021-02-14 16:48:23,889 : INFO : topic diff=0.506480, rho=0.466151\n",
      "2021-02-14 16:48:23,893 : INFO : PROGRESS: pass 3, at document #2000/3204\n",
      "2021-02-14 16:48:24,300 : INFO : optimized alpha [0.010379315, 0.010745307, 0.010189149, 0.011343984, 0.009810113, 0.010346436, 0.010297016, 0.009950118, 0.010128762, 0.010081023, 0.010390108, 0.010842111, 0.010301847, 0.009990553, 0.010173647, 0.010285627, 0.010215224, 0.010230598, 0.010217105, 0.010058877, 0.010332281, 0.010041011, 0.0100497175, 0.010501189, 0.010425968, 0.010476752, 0.010415254, 0.009933268, 0.011298151, 0.008803322, 0.01054828, 0.01064495, 0.012097936, 0.010349873, 0.010378743, 0.010595234, 0.010264165, 0.0098695075, 0.010450715, 0.010166259, 0.010401659, 0.010254397, 0.00990842, 0.009818391, 0.010129458, 0.009992474, 0.010817972, 0.010240672, 0.009859272, 0.010549712, 0.011656088, 0.009915635, 0.010406844, 0.009881298, 0.009975051, 0.010401495, 0.010876806, 0.0104632415, 0.010218559, 0.010354855, 0.010246757, 0.010608857, 0.010644924, 0.010511019, 0.010299956, 0.010567059, 0.010113351, 0.0102589, 0.010202397, 0.010677232, 0.009650431, 0.010299942, 0.009792108, 0.010380231, 0.010193836, 0.009678736, 0.010988645, 0.009782234, 0.010707664, 0.010072387, 0.010751811, 0.010448325, 0.010054203, 0.010468929, 0.010191846, 0.010375811, 0.010292891, 0.010287048, 0.010743077, 0.010359857, 0.009873085, 0.009893415, 0.010538633, 0.0108296685, 0.010569242, 0.010270833, 0.010750538, 0.010810283, 0.011030883, 0.010095155]\n",
      "2021-02-14 16:48:24,303 : INFO : merging changes from 2000 documents into a model of 3204 documents\n",
      "2021-02-14 16:48:24,306 : INFO : topic #29 (0.009): 0.001*\"implic\" + 0.001*\"favor\" + 0.001*\"adapt\" + 0.001*\"polygon\" + 0.001*\"stage\" + 0.001*\"situat\" + 0.001*\"respons\" + 0.001*\"industri\" + 0.001*\"regress\" + 0.001*\"drive\"\n",
      "2021-02-14 16:48:24,307 : INFO : topic #70 (0.010): 0.069*\",\" + 0.045*\"-\" + 0.044*\"diagram\" + 0.042*\"count\" + 0.037*\"usag\" + 0.031*\"comput\" + 0.027*\"machin\" + 0.025*\"gener\" + 0.025*\"effici\" + 0.023*\"method\"\n",
      "2021-02-14 16:48:24,307 : INFO : topic #3 (0.011): 0.373*\"(\" + 0.329*\")\" + 0.080*\"algorithm\" + 0.046*\"1\" + 0.040*\"integr\" + 0.016*\"seri\" + 0.016*\"complet\" + 0.013*\"program\" + 0.012*\"fourier\" + 0.012*\"ellipt\"\n",
      "2021-02-14 16:48:24,307 : INFO : topic #50 (0.012): 0.114*\"system\" + 0.078*\",\" + 0.046*\"-\" + 0.034*\"user\" + 0.032*\"data\" + 0.025*\"oper\" + 0.024*\"process\" + 0.023*\"program\" + 0.016*\"time\" + 0.015*\"share\"\n",
      "2021-02-14 16:48:24,308 : INFO : topic #32 (0.012): 0.308*\")\" + 0.303*\"(\" + 0.294*\"algorithm\" + 0.024*\"function\" + 0.020*\"partit\" + 0.012*\"gener\" + 0.010*\"fraction\" + 0.008*\"elementari\" + 0.007*\"constraint\" + 0.007*\"continu\"\n",
      "2021-02-14 16:48:24,308 : INFO : topic diff=0.513248, rho=0.422502\n",
      "2021-02-14 16:48:24,781 : INFO : -6.699 per-word bound, 103.9 perplexity estimate based on a held-out corpus of 1204 documents with 49783 words\n",
      "2021-02-14 16:48:24,781 : INFO : PROGRESS: pass 3, at document #3204/3204\n",
      "2021-02-14 16:48:25,124 : INFO : optimized alpha [0.010549033, 0.010854931, 0.01033384, 0.011759309, 0.009823692, 0.010495415, 0.010490551, 0.010086051, 0.01025413, 0.010188867, 0.010613955, 0.011079897, 0.010400378, 0.010099916, 0.010313024, 0.010443, 0.010400055, 0.010357731, 0.01030117, 0.010159105, 0.010492332, 0.010129716, 0.010189585, 0.010636489, 0.010644994, 0.010712013, 0.010593309, 0.010051931, 0.011739398, 0.00867987, 0.010840611, 0.010935995, 0.012625489, 0.010519811, 0.010611092, 0.010830578, 0.010505526, 0.009957186, 0.010656518, 0.010334267, 0.010623511, 0.010408876, 0.010065145, 0.009852723, 0.010318808, 0.01010287, 0.011029806, 0.01034579, 0.009953283, 0.0107724555, 0.011964641, 0.010048166, 0.010617496, 0.009924967, 0.010129838, 0.010523001, 0.011161445, 0.010744736, 0.010351178, 0.010404887, 0.0104110055, 0.01097833, 0.010767865, 0.010682277, 0.010473749, 0.010834165, 0.010370794, 0.010461356, 0.010221588, 0.010970549, 0.009646211, 0.010455171, 0.009896534, 0.010495881, 0.010387134, 0.009685749, 0.011237409, 0.009818163, 0.010986514, 0.010184927, 0.011010486, 0.010690829, 0.010187293, 0.010643304, 0.010377137, 0.010516824, 0.010398728, 0.010331046, 0.011027604, 0.010652452, 0.009921575, 0.010007976, 0.010687972, 0.011054207, 0.010831899, 0.01034371, 0.010897786, 0.011040736, 0.01127455, 0.010211336]\n",
      "2021-02-14 16:48:25,127 : INFO : merging changes from 1204 documents into a model of 3204 documents\n",
      "2021-02-14 16:48:25,131 : INFO : topic #29 (0.009): 0.001*\"implic\" + 0.001*\"favor\" + 0.001*\"adapt\" + 0.001*\"polygon\" + 0.001*\"stage\" + 0.001*\"situat\" + 0.001*\"respons\" + 0.001*\"industri\" + 0.001*\"regress\" + 0.001*\"drive\"\n",
      "2021-02-14 16:48:25,131 : INFO : topic #70 (0.010): 0.077*\",\" + 0.068*\"count\" + 0.056*\"usag\" + 0.041*\"-\" + 0.038*\"diagram\" + 0.031*\"comput\" + 0.029*\"effici\" + 0.029*\"composit\" + 0.028*\"greater\" + 0.027*\"machin\"\n",
      "2021-02-14 16:48:25,131 : INFO : topic #3 (0.012): 0.406*\"(\" + 0.347*\")\" + 0.058*\"algorithm\" + 0.049*\"1\" + 0.029*\"integr\" + 0.015*\"complet\" + 0.013*\"problem\" + 0.012*\"program\" + 0.010*\"fourier\" + 0.010*\"seri\"\n",
      "2021-02-14 16:48:25,132 : INFO : topic #50 (0.012): 0.121*\"system\" + 0.080*\",\" + 0.047*\"-\" + 0.040*\"user\" + 0.027*\"data\" + 0.027*\"oper\" + 0.022*\"process\" + 0.020*\"program\" + 0.017*\"time\" + 0.016*\"share\"\n",
      "2021-02-14 16:48:25,132 : INFO : topic #32 (0.013): 0.316*\"algorithm\" + 0.299*\"(\" + 0.299*\")\" + 0.022*\"function\" + 0.016*\"partit\" + 0.012*\"gener\" + 0.011*\"fraction\" + 0.007*\"elementari\" + 0.006*\"continu\" + 0.004*\"constraint\"\n",
      "2021-02-14 16:48:25,133 : INFO : topic diff=0.628930, rho=0.422502\n",
      "2021-02-14 16:48:25,137 : INFO : PROGRESS: pass 4, at document #2000/3204\n",
      "2021-02-14 16:48:25,533 : INFO : optimized alpha [0.010566567, 0.01125436, 0.010374359, 0.01209143, 0.009895756, 0.01045334, 0.010572186, 0.010050419, 0.010249838, 0.010270186, 0.010632545, 0.011152676, 0.010458071, 0.010086285, 0.010367412, 0.010492452, 0.010414282, 0.010490308, 0.010469734, 0.010144735, 0.010465794, 0.010068084, 0.010228848, 0.010704031, 0.010609804, 0.010750476, 0.010577432, 0.010049077, 0.011792988, 0.008591693, 0.010812019, 0.0109294485, 0.013344382, 0.010515281, 0.010807512, 0.010877871, 0.010537408, 0.009923964, 0.0107484665, 0.010382183, 0.010630327, 0.010550832, 0.01006109, 0.009965504, 0.010288435, 0.010074449, 0.010993835, 0.010356148, 0.009937284, 0.010739112, 0.012129158, 0.01007418, 0.010677039, 0.009959469, 0.010099813, 0.01064964, 0.011310214, 0.010778339, 0.0103729265, 0.010644873, 0.0105328625, 0.011011868, 0.010724892, 0.010833949, 0.0104327835, 0.010859402, 0.010454677, 0.010476114, 0.0103607215, 0.011051452, 0.009630644, 0.010449377, 0.009875293, 0.010459112, 0.010377158, 0.009714478, 0.01146568, 0.00976955, 0.0110820085, 0.010164723, 0.011066795, 0.010723052, 0.010233026, 0.010561674, 0.010393575, 0.010573227, 0.0105284, 0.0104567725, 0.011217164, 0.010666575, 0.009980006, 0.010065492, 0.010692548, 0.011155971, 0.010905958, 0.010344804, 0.010951403, 0.011114206, 0.011202693, 0.010170364]\n",
      "2021-02-14 16:48:25,536 : INFO : merging changes from 2000 documents into a model of 3204 documents\n",
      "2021-02-14 16:48:25,539 : INFO : topic #29 (0.009): 0.001*\"implic\" + 0.001*\"favor\" + 0.001*\"adapt\" + 0.001*\"polygon\" + 0.001*\"stage\" + 0.001*\"situat\" + 0.001*\"respons\" + 0.001*\"industri\" + 0.001*\"regress\" + 0.001*\"drive\"\n"
     ]
    },
    {
     "name": "stderr",
     "output_type": "stream",
     "text": [
      "2021-02-14 16:48:25,540 : INFO : topic #70 (0.010): 0.075*\",\" + 0.050*\"count\" + 0.046*\"diagram\" + 0.044*\"-\" + 0.044*\"usag\" + 0.034*\"comput\" + 0.032*\"machin\" + 0.028*\"effici\" + 0.028*\"gener\" + 0.026*\"greater\"\n",
      "2021-02-14 16:48:25,540 : INFO : topic #3 (0.012): 0.402*\"(\" + 0.348*\")\" + 0.057*\"algorithm\" + 0.047*\"1\" + 0.034*\"integr\" + 0.015*\"complet\" + 0.012*\"seri\" + 0.011*\"program\" + 0.011*\"ellipt\" + 0.011*\"fourier\"\n",
      "2021-02-14 16:48:25,540 : INFO : topic #50 (0.012): 0.123*\"system\" + 0.080*\",\" + 0.049*\"-\" + 0.038*\"user\" + 0.028*\"data\" + 0.027*\"oper\" + 0.025*\"process\" + 0.022*\"program\" + 0.018*\"time\" + 0.017*\"share\"\n",
      "2021-02-14 16:48:25,541 : INFO : topic #32 (0.013): 0.311*\"algorithm\" + 0.307*\")\" + 0.304*\"(\" + 0.022*\"function\" + 0.014*\"partit\" + 0.011*\"gener\" + 0.009*\"fraction\" + 0.006*\"continu\" + 0.005*\"elementari\" + 0.005*\"constraint\"\n",
      "2021-02-14 16:48:25,541 : INFO : topic diff=0.610432, rho=0.389191\n",
      "2021-02-14 16:48:25,995 : INFO : -6.643 per-word bound, 100.0 perplexity estimate based on a held-out corpus of 1204 documents with 49783 words\n",
      "2021-02-14 16:48:25,995 : INFO : PROGRESS: pass 4, at document #3204/3204\n",
      "2021-02-14 16:48:26,317 : INFO : optimized alpha [0.010721011, 0.011379114, 0.010542484, 0.012583719, 0.009911738, 0.01059183, 0.010773704, 0.01017351, 0.0103830155, 0.0103732925, 0.01086218, 0.0114005655, 0.010546042, 0.010181403, 0.010510276, 0.010635367, 0.010600009, 0.010614975, 0.010570749, 0.010238081, 0.010607772, 0.0101607805, 0.0103755705, 0.010833019, 0.01082412, 0.010984277, 0.010756929, 0.010179158, 0.012207038, 0.008484429, 0.011089226, 0.011219765, 0.0139035545, 0.010676732, 0.011084876, 0.011090555, 0.0107905865, 0.010025172, 0.010975778, 0.010548709, 0.010847907, 0.010711549, 0.010226404, 0.010025996, 0.010508621, 0.010183824, 0.011172924, 0.010457175, 0.010069959, 0.010960562, 0.012411088, 0.0102072405, 0.010884279, 0.010013132, 0.010260379, 0.010779283, 0.011588862, 0.01107402, 0.010489439, 0.010699712, 0.010709727, 0.011404242, 0.010849848, 0.0109859, 0.010618373, 0.01112002, 0.010744195, 0.01068518, 0.010394409, 0.011341515, 0.009640815, 0.01057989, 0.010004503, 0.010590866, 0.010570894, 0.009737611, 0.011702633, 0.009820052, 0.011372532, 0.010292495, 0.011319754, 0.01097413, 0.010376763, 0.010744389, 0.010572863, 0.010728493, 0.010615685, 0.010507224, 0.01151838, 0.010961947, 0.010047717, 0.01020432, 0.0108207865, 0.011376239, 0.011159075, 0.010409307, 0.011084475, 0.01130739, 0.011414919, 0.010285102]\n",
      "2021-02-14 16:48:26,320 : INFO : merging changes from 1204 documents into a model of 3204 documents\n",
      "2021-02-14 16:48:26,323 : INFO : topic #29 (0.008): 0.001*\"implic\" + 0.001*\"favor\" + 0.001*\"adapt\" + 0.001*\"polygon\" + 0.001*\"stage\" + 0.001*\"situat\" + 0.001*\"respons\" + 0.001*\"industri\" + 0.001*\"regress\" + 0.001*\"drive\"\n",
      "2021-02-14 16:48:26,324 : INFO : topic #70 (0.010): 0.083*\",\" + 0.071*\"count\" + 0.058*\"usag\" + 0.039*\"diagram\" + 0.039*\"-\" + 0.037*\"effici\" + 0.034*\"comput\" + 0.033*\"greater\" + 0.032*\"machin\" + 0.030*\"composit\"\n",
      "2021-02-14 16:48:26,324 : INFO : topic #50 (0.012): 0.128*\"system\" + 0.081*\",\" + 0.050*\"-\" + 0.043*\"user\" + 0.027*\"oper\" + 0.024*\"data\" + 0.023*\"process\" + 0.020*\"program\" + 0.019*\"time\" + 0.018*\"share\"\n",
      "2021-02-14 16:48:26,324 : INFO : topic #3 (0.013): 0.427*\"(\" + 0.362*\")\" + 0.049*\"1\" + 0.042*\"algorithm\" + 0.027*\"integr\" + 0.013*\"complet\" + 0.010*\"program\" + 0.010*\"problem\" + 0.009*\"fourier\" + 0.008*\"seri\"\n",
      "2021-02-14 16:48:26,325 : INFO : topic #32 (0.014): 0.332*\"algorithm\" + 0.298*\")\" + 0.297*\"(\" + 0.020*\"function\" + 0.011*\"partit\" + 0.011*\"gener\" + 0.010*\"fraction\" + 0.005*\"continu\" + 0.005*\"elementari\" + 0.003*\"constraint\"\n",
      "2021-02-14 16:48:26,325 : INFO : topic diff=0.674851, rho=0.389191\n",
      "2021-02-14 16:48:26,329 : INFO : PROGRESS: pass 5, at document #2000/3204\n",
      "2021-02-14 16:48:26,727 : INFO : optimized alpha [0.010739183, 0.0118006375, 0.010582008, 0.01294998, 0.009990672, 0.01056022, 0.010874054, 0.01014032, 0.010382673, 0.010468553, 0.010880449, 0.011476419, 0.0105984025, 0.010172751, 0.010570644, 0.010693229, 0.010622299, 0.01074971, 0.010739906, 0.010226964, 0.010584772, 0.010105921, 0.010423464, 0.010902185, 0.010792127, 0.011027353, 0.010757181, 0.010183802, 0.012263637, 0.008406821, 0.011062532, 0.0112158265, 0.01464125, 0.010685791, 0.011288236, 0.011132073, 0.010827095, 0.009994482, 0.011079918, 0.010608731, 0.010857342, 0.010875027, 0.010238808, 0.010148772, 0.010486779, 0.010159395, 0.011151139, 0.010482372, 0.010078731, 0.010940299, 0.01257783, 0.01024452, 0.010947597, 0.010054953, 0.010239482, 0.010904539, 0.011733492, 0.01111602, 0.010511785, 0.010945387, 0.010838413, 0.011466609, 0.010816028, 0.011145198, 0.010589052, 0.011150388, 0.010851825, 0.010713687, 0.010533108, 0.011427212, 0.009636284, 0.0105840275, 0.0099882, 0.010564325, 0.010556946, 0.009797391, 0.01192874, 0.009784881, 0.011484448, 0.010277364, 0.011377815, 0.01100718, 0.010436593, 0.010667875, 0.010591408, 0.010798971, 0.010722499, 0.010627419, 0.011724007, 0.010991389, 0.010108312, 0.0102656195, 0.010830911, 0.011473684, 0.011248158, 0.010430117, 0.011140728, 0.011367506, 0.011349181, 0.010249059]\n",
      "2021-02-14 16:48:26,730 : INFO : merging changes from 2000 documents into a model of 3204 documents\n",
      "2021-02-14 16:48:26,733 : INFO : topic #29 (0.008): 0.001*\"implic\" + 0.001*\"favor\" + 0.001*\"adapt\" + 0.001*\"polygon\" + 0.001*\"stage\" + 0.001*\"situat\" + 0.001*\"respons\" + 0.001*\"industri\" + 0.001*\"regress\" + 0.001*\"drive\"\n",
      "2021-02-14 16:48:26,734 : INFO : topic #70 (0.010): 0.083*\",\" + 0.054*\"count\" + 0.048*\"diagram\" + 0.048*\"usag\" + 0.040*\"-\" + 0.040*\"machin\" + 0.037*\"comput\" + 0.036*\"effici\" + 0.030*\"greater\" + 0.030*\"gener\"\n",
      "2021-02-14 16:48:26,734 : INFO : topic #50 (0.013): 0.130*\"system\" + 0.081*\",\" + 0.053*\"-\" + 0.041*\"user\" + 0.027*\"oper\" + 0.026*\"process\" + 0.025*\"data\" + 0.022*\"program\" + 0.020*\"time\" + 0.019*\"share\"\n",
      "2021-02-14 16:48:26,735 : INFO : topic #3 (0.013): 0.423*\"(\" + 0.363*\")\" + 0.048*\"1\" + 0.043*\"algorithm\" + 0.030*\"integr\" + 0.014*\"complet\" + 0.010*\"ellipt\" + 0.010*\"seri\" + 0.010*\"fourier\" + 0.009*\"program\"\n",
      "2021-02-14 16:48:26,735 : INFO : topic #32 (0.015): 0.326*\"algorithm\" + 0.306*\")\" + 0.301*\"(\" + 0.020*\"function\" + 0.009*\"partit\" + 0.009*\"fraction\" + 0.009*\"gener\" + 0.005*\"continu\" + 0.004*\"constraint\" + 0.004*\"elementari\"\n",
      "2021-02-14 16:48:26,736 : INFO : topic diff=0.617373, rho=0.362690\n",
      "2021-02-14 16:48:27,192 : INFO : -6.604 per-word bound, 97.3 perplexity estimate based on a held-out corpus of 1204 documents with 49783 words\n",
      "2021-02-14 16:48:27,193 : INFO : PROGRESS: pass 5, at document #3204/3204\n",
      "2021-02-14 16:48:27,513 : INFO : optimized alpha [0.010878034, 0.011933663, 0.010746643, 0.013492608, 0.010008727, 0.010696937, 0.011078031, 0.010268331, 0.010495407, 0.010581125, 0.011110504, 0.011731844, 0.010680899, 0.010277794, 0.010701777, 0.010834046, 0.010806979, 0.010886145, 0.01085023, 0.010311948, 0.010715061, 0.0102089215, 0.01058686, 0.011026506, 0.011017138, 0.011251811, 0.010942635, 0.010321651, 0.012655498, 0.008312077, 0.011331495, 0.01148077, 0.015227578, 0.010850679, 0.01158999, 0.011319277, 0.011096425, 0.010089919, 0.011328871, 0.010768967, 0.011095893, 0.011055896, 0.01039464, 0.010229646, 0.010713967, 0.010262549, 0.011336951, 0.010580636, 0.010231008, 0.011152439, 0.012849216, 0.010379042, 0.011163407, 0.010108494, 0.010393892, 0.011035965, 0.0120089315, 0.011433993, 0.010621281, 0.01099843, 0.011011903, 0.011867084, 0.010946936, 0.011314865, 0.010770407, 0.011414211, 0.0111543005, 0.010937001, 0.010582981, 0.011710055, 0.0096616335, 0.01070997, 0.010112897, 0.010698102, 0.010752327, 0.0098312, 0.012171298, 0.00984498, 0.011795642, 0.0104069365, 0.011613848, 0.0112581, 0.010600352, 0.010846395, 0.010766692, 0.010958146, 0.010816944, 0.010680699, 0.012079495, 0.011311992, 0.010180981, 0.010405479, 0.010967844, 0.011695439, 0.011498196, 0.010506977, 0.0112760225, 0.0115528125, 0.011545549, 0.0103571005]\n",
      "2021-02-14 16:48:27,517 : INFO : merging changes from 1204 documents into a model of 3204 documents\n",
      "2021-02-14 16:48:27,520 : INFO : topic #29 (0.008): 0.001*\"implic\" + 0.001*\"favor\" + 0.001*\"adapt\" + 0.001*\"polygon\" + 0.001*\"stage\" + 0.001*\"situat\" + 0.001*\"respons\" + 0.001*\"industri\" + 0.001*\"regress\" + 0.001*\"drive\"\n"
     ]
    },
    {
     "name": "stderr",
     "output_type": "stream",
     "text": [
      "2021-02-14 16:48:27,520 : INFO : topic #70 (0.010): 0.090*\",\" + 0.071*\"count\" + 0.062*\"usag\" + 0.045*\"effici\" + 0.040*\"diagram\" + 0.038*\"machin\" + 0.036*\"-\" + 0.035*\"comput\" + 0.035*\"greater\" + 0.030*\"composit\"\n",
      "2021-02-14 16:48:27,521 : INFO : topic #50 (0.013): 0.134*\"system\" + 0.083*\",\" + 0.053*\"-\" + 0.045*\"user\" + 0.028*\"oper\" + 0.024*\"process\" + 0.021*\"data\" + 0.020*\"time\" + 0.020*\"share\" + 0.019*\"program\"\n",
      "2021-02-14 16:48:27,521 : INFO : topic #3 (0.013): 0.442*\"(\" + 0.373*\")\" + 0.049*\"1\" + 0.032*\"algorithm\" + 0.025*\"integr\" + 0.013*\"complet\" + 0.009*\"fourier\" + 0.008*\"program\" + 0.007*\"problem\" + 0.007*\"machin\"\n",
      "2021-02-14 16:48:27,521 : INFO : topic #32 (0.015): 0.345*\"algorithm\" + 0.298*\")\" + 0.295*\"(\" + 0.018*\"function\" + 0.010*\"fraction\" + 0.008*\"gener\" + 0.008*\"partit\" + 0.005*\"continu\" + 0.003*\"elementari\" + 0.003*\"constraint\"\n",
      "2021-02-14 16:48:27,522 : INFO : topic diff=0.641410, rho=0.362690\n",
      "2021-02-14 16:48:27,526 : INFO : PROGRESS: pass 6, at document #2000/3204\n",
      "2021-02-14 16:48:27,916 : INFO : optimized alpha [0.010896979, 0.012367495, 0.01079658, 0.013877519, 0.010087373, 0.010672621, 0.011188544, 0.010249389, 0.0104970345, 0.010677049, 0.011134373, 0.011804952, 0.010723297, 0.010278754, 0.010764376, 0.010894291, 0.010833046, 0.011029356, 0.011006336, 0.010301928, 0.010689651, 0.0101595465, 0.0106355855, 0.011095869, 0.010985806, 0.011295582, 0.010953531, 0.010329488, 0.012722024, 0.008242867, 0.011312357, 0.011473651, 0.016031148, 0.010857082, 0.011813229, 0.011355998, 0.011146826, 0.010073581, 0.011431327, 0.010825671, 0.011113263, 0.011231113, 0.010411356, 0.010355299, 0.010697812, 0.01023812, 0.011327603, 0.010608292, 0.010251236, 0.011142081, 0.013014885, 0.010424868, 0.011222907, 0.010158674, 0.010373927, 0.01115324, 0.012148543, 0.011489884, 0.010655298, 0.011241619, 0.011162854, 0.011946984, 0.010918918, 0.01147271, 0.010751347, 0.011449405, 0.011277263, 0.010976186, 0.010718553, 0.011796616, 0.0096582705, 0.010717578, 0.010100937, 0.010680507, 0.010743931, 0.009903511, 0.012400913, 0.009817829, 0.011925689, 0.010399798, 0.011672087, 0.01129213, 0.010687702, 0.010777786, 0.010789234, 0.011041869, 0.010931383, 0.010793091, 0.012298255, 0.011347819, 0.0102351, 0.0104776155, 0.010979045, 0.011795384, 0.011588113, 0.010543282, 0.011335057, 0.011599231, 0.011494988, 0.010316231]\n",
      "2021-02-14 16:48:27,919 : INFO : merging changes from 2000 documents into a model of 3204 documents\n",
      "2021-02-14 16:48:27,922 : INFO : topic #29 (0.008): 0.001*\"implic\" + 0.001*\"favor\" + 0.001*\"adapt\" + 0.001*\"polygon\" + 0.001*\"stage\" + 0.001*\"situat\" + 0.001*\"respons\" + 0.001*\"industri\" + 0.001*\"regress\" + 0.001*\"drive\"\n",
      "2021-02-14 16:48:27,922 : INFO : topic #70 (0.010): 0.090*\",\" + 0.056*\"count\" + 0.052*\"usag\" + 0.049*\"diagram\" + 0.044*\"machin\" + 0.043*\"effici\" + 0.037*\"-\" + 0.037*\"comput\" + 0.032*\"greater\" + 0.031*\"gener\"\n",
      "2021-02-14 16:48:27,923 : INFO : topic #50 (0.013): 0.136*\"system\" + 0.083*\",\" + 0.056*\"-\" + 0.043*\"user\" + 0.028*\"oper\" + 0.026*\"process\" + 0.023*\"data\" + 0.022*\"time\" + 0.021*\"share\" + 0.021*\"program\"\n",
      "2021-02-14 16:48:27,923 : INFO : topic #3 (0.014): 0.438*\"(\" + 0.374*\")\" + 0.048*\"1\" + 0.032*\"algorithm\" + 0.027*\"integr\" + 0.013*\"complet\" + 0.010*\"ellipt\" + 0.009*\"fourier\" + 0.007*\"program\" + 0.007*\"seri\"\n",
      "2021-02-14 16:48:27,924 : INFO : topic #32 (0.016): 0.339*\"algorithm\" + 0.304*\")\" + 0.298*\"(\" + 0.019*\"function\" + 0.009*\"fraction\" + 0.007*\"partit\" + 0.007*\"gener\" + 0.005*\"continu\" + 0.003*\"constraint\" + 0.003*\"elementari\"\n",
      "2021-02-14 16:48:27,924 : INFO : topic diff=0.569037, rho=0.340958\n",
      "2021-02-14 16:48:28,369 : INFO : -6.577 per-word bound, 95.5 perplexity estimate based on a held-out corpus of 1204 documents with 49783 words\n",
      "2021-02-14 16:48:28,369 : INFO : PROGRESS: pass 6, at document #3204/3204\n",
      "2021-02-14 16:48:28,681 : INFO : optimized alpha [0.011016288, 0.012505631, 0.0109715, 0.0144472355, 0.01011872, 0.010805299, 0.011393072, 0.010379561, 0.01061605, 0.010807993, 0.011357008, 0.012062433, 0.010801368, 0.010398921, 0.010888729, 0.011037118, 0.011014887, 0.01116795, 0.0111229615, 0.010388634, 0.010816192, 0.010260376, 0.010796955, 0.011229331, 0.0112061845, 0.011515955, 0.011139153, 0.010469277, 0.013106258, 0.008158041, 0.011562405, 0.011736198, 0.016667163, 0.011019875, 0.012147536, 0.011524142, 0.011401382, 0.010178566, 0.011685846, 0.010987242, 0.011340882, 0.011428852, 0.01055639, 0.010440331, 0.01090826, 0.0103389695, 0.011517072, 0.010710597, 0.010422217, 0.011337429, 0.013270377, 0.010558549, 0.011431739, 0.010217953, 0.01052349, 0.011290374, 0.012408576, 0.011798586, 0.010756027, 0.011286874, 0.011327877, 0.012330736, 0.011055693, 0.011636969, 0.010945236, 0.011707972, 0.01159106, 0.011186063, 0.010765055, 0.012077415, 0.0096996, 0.010837028, 0.010222225, 0.01081965, 0.010923696, 0.00993261, 0.012629056, 0.009906041, 0.012235178, 0.010534675, 0.0118770655, 0.0115253115, 0.010855694, 0.010956523, 0.01095884, 0.011205769, 0.011017232, 0.010849369, 0.01266693, 0.011655791, 0.010312725, 0.010619359, 0.011115104, 0.012009989, 0.011843447, 0.010619132, 0.011466494, 0.011761915, 0.011674845, 0.010404052]\n",
      "2021-02-14 16:48:28,683 : INFO : merging changes from 1204 documents into a model of 3204 documents\n",
      "2021-02-14 16:48:28,687 : INFO : topic #29 (0.008): 0.001*\"implic\" + 0.001*\"favor\" + 0.001*\"adapt\" + 0.001*\"polygon\" + 0.001*\"stage\" + 0.001*\"situat\" + 0.001*\"respons\" + 0.001*\"industri\" + 0.001*\"regress\" + 0.001*\"drive\"\n",
      "2021-02-14 16:48:28,687 : INFO : topic #70 (0.010): 0.096*\",\" + 0.071*\"count\" + 0.063*\"usag\" + 0.055*\"effici\" + 0.044*\"machin\" + 0.040*\"diagram\" + 0.036*\"comput\" + 0.035*\"greater\" + 0.034*\"-\" + 0.029*\"composit\"\n",
      "2021-02-14 16:48:28,688 : INFO : topic #50 (0.013): 0.139*\"system\" + 0.083*\",\" + 0.056*\"-\" + 0.047*\"user\" + 0.029*\"oper\" + 0.024*\"process\" + 0.022*\"time\" + 0.021*\"share\" + 0.019*\"data\" + 0.019*\"program\"\n",
      "2021-02-14 16:48:28,688 : INFO : topic #3 (0.014): 0.453*\"(\" + 0.382*\")\" + 0.050*\"1\" + 0.025*\"algorithm\" + 0.022*\"integr\" + 0.012*\"complet\" + 0.008*\"fourier\" + 0.006*\"program\" + 0.006*\"machin\" + 0.006*\"part\"\n",
      "2021-02-14 16:48:28,688 : INFO : topic #32 (0.017): 0.359*\"algorithm\" + 0.296*\")\" + 0.291*\"(\" + 0.018*\"function\" + 0.010*\"fraction\" + 0.006*\"gener\" + 0.006*\"partit\" + 0.004*\"continu\" + 0.002*\"elementari\" + 0.002*\"constraint\"\n",
      "2021-02-14 16:48:28,689 : INFO : topic diff=0.576448, rho=0.340958\n",
      "2021-02-14 16:48:28,693 : INFO : PROGRESS: pass 7, at document #2000/3204\n",
      "2021-02-14 16:48:29,075 : INFO : optimized alpha [0.011028967, 0.01293366, 0.011024079, 0.0148411095, 0.010205507, 0.010790924, 0.011513712, 0.010363191, 0.010624556, 0.010904985, 0.01138631, 0.012127472, 0.01084557, 0.01040829, 0.010953688, 0.011101575, 0.011042735, 0.0113091115, 0.011278341, 0.010382873, 0.010795639, 0.010219028, 0.010851844, 0.011302787, 0.011175383, 0.011564421, 0.011156144, 0.01047989, 0.013167819, 0.00809567, 0.011546556, 0.01173754, 0.01751231, 0.011038095, 0.012387664, 0.011560604, 0.011452246, 0.0101665575, 0.011787378, 0.0110465195, 0.011360298, 0.011614498, 0.0105737755, 0.010579425, 0.010904357, 0.010317786, 0.011517004, 0.010745741, 0.0104443515, 0.011334282, 0.013435713, 0.010610713, 0.011489875, 0.0102676535, 0.01051111, 0.011402541, 0.012540211, 0.011862196, 0.010793819, 0.011527029, 0.01147864, 0.012433759, 0.0110364, 0.011807342, 0.010926462, 0.011746041, 0.011716264, 0.011230063, 0.010901827, 0.012167283, 0.009714411, 0.010842547, 0.010217437, 0.010815055, 0.010916922, 0.010011673, 0.012849064, 0.009883866, 0.012375498, 0.0105294725, 0.011926295, 0.011562352, 0.010954945, 0.010901742, 0.010983404, 0.011294812, 0.011135622, 0.010970912, 0.012883218, 0.0116922865, 0.010367874, 0.010689888, 0.011132875, 0.012109007, 0.011932712, 0.010650507, 0.0115189515, 0.011809555, 0.011626601, 0.0103676105]\n",
      "2021-02-14 16:48:29,078 : INFO : merging changes from 2000 documents into a model of 3204 documents\n",
      "2021-02-14 16:48:29,081 : INFO : topic #29 (0.008): 0.001*\"implic\" + 0.001*\"favor\" + 0.001*\"adapt\" + 0.001*\"polygon\" + 0.001*\"stage\" + 0.001*\"situat\" + 0.001*\"respons\" + 0.001*\"industri\" + 0.001*\"regress\" + 0.001*\"drive\"\n",
      "2021-02-14 16:48:29,082 : INFO : topic #70 (0.010): 0.095*\",\" + 0.056*\"count\" + 0.054*\"usag\" + 0.053*\"machin\" + 0.052*\"effici\" + 0.048*\"diagram\" + 0.038*\"comput\" + 0.035*\"-\" + 0.033*\"gener\" + 0.031*\"greater\"\n"
     ]
    },
    {
     "name": "stderr",
     "output_type": "stream",
     "text": [
      "2021-02-14 16:48:29,082 : INFO : topic #50 (0.013): 0.141*\"system\" + 0.083*\",\" + 0.058*\"-\" + 0.045*\"user\" + 0.029*\"oper\" + 0.026*\"process\" + 0.024*\"time\" + 0.023*\"share\" + 0.020*\"program\" + 0.020*\"data\"\n",
      "2021-02-14 16:48:29,083 : INFO : topic #3 (0.015): 0.451*\"(\" + 0.383*\")\" + 0.049*\"1\" + 0.024*\"algorithm\" + 0.024*\"integr\" + 0.013*\"complet\" + 0.009*\"ellipt\" + 0.007*\"fourier\" + 0.006*\"program\" + 0.006*\"machin\"\n",
      "2021-02-14 16:48:29,083 : INFO : topic #32 (0.018): 0.350*\"algorithm\" + 0.302*\")\" + 0.295*\"(\" + 0.018*\"function\" + 0.008*\"fraction\" + 0.005*\"partit\" + 0.005*\"gener\" + 0.004*\"continu\" + 0.003*\"constraint\" + 0.002*\"elementari\"\n",
      "2021-02-14 16:48:29,084 : INFO : topic diff=0.504443, rho=0.322715\n",
      "2021-02-14 16:48:29,543 : INFO : -6.549 per-word bound, 93.7 perplexity estimate based on a held-out corpus of 1204 documents with 49783 words\n",
      "2021-02-14 16:48:29,544 : INFO : PROGRESS: pass 7, at document #3204/3204\n",
      "2021-02-14 16:48:29,862 : INFO : optimized alpha [0.011142863, 0.013053416, 0.011188554, 0.015436685, 0.010238094, 0.010920607, 0.011713412, 0.010495951, 0.010755409, 0.011033008, 0.011603038, 0.012381631, 0.010937504, 0.01053447, 0.011081234, 0.011244106, 0.011219665, 0.011444506, 0.011398419, 0.010468559, 0.010907745, 0.0103294235, 0.01102382, 0.011424171, 0.011389533, 0.011775898, 0.011342891, 0.010613479, 0.013539287, 0.008018965, 0.011780242, 0.011992868, 0.018164055, 0.011190644, 0.012749561, 0.011721304, 0.011712585, 0.010269727, 0.012038995, 0.011207092, 0.011585114, 0.011813936, 0.010721007, 0.010674295, 0.011115124, 0.010408709, 0.011710966, 0.010849187, 0.010619536, 0.011521278, 0.0137033155, 0.010752765, 0.01170271, 0.010335222, 0.010665572, 0.011533262, 0.012790304, 0.012179389, 0.010895825, 0.0115686795, 0.011639674, 0.012817032, 0.011167119, 0.011976991, 0.011121073, 0.011997808, 0.012036351, 0.011449371, 0.010951367, 0.012427977, 0.009770041, 0.010956605, 0.010341743, 0.010956818, 0.01108604, 0.010039448, 0.013061316, 0.009968294, 0.012721668, 0.010681239, 0.012125887, 0.011786223, 0.011127798, 0.011090497, 0.011151616, 0.011470146, 0.011229146, 0.011024131, 0.01329458, 0.012021202, 0.010441909, 0.010842578, 0.011265893, 0.012324448, 0.012194545, 0.010734611, 0.011647503, 0.011942138, 0.011807983, 0.010451692]\n",
      "2021-02-14 16:48:29,865 : INFO : merging changes from 1204 documents into a model of 3204 documents\n",
      "2021-02-14 16:48:29,868 : INFO : topic #29 (0.008): 0.001*\"implic\" + 0.001*\"favor\" + 0.001*\"adapt\" + 0.001*\"polygon\" + 0.001*\"stage\" + 0.001*\"situat\" + 0.001*\"respons\" + 0.001*\"industri\" + 0.001*\"regress\" + 0.001*\"drive\"\n",
      "2021-02-14 16:48:29,868 : INFO : topic #70 (0.010): 0.102*\",\" + 0.067*\"count\" + 0.065*\"effici\" + 0.063*\"usag\" + 0.053*\"machin\" + 0.039*\"comput\" + 0.038*\"diagram\" + 0.033*\"greater\" + 0.032*\"-\" + 0.031*\"gener\"\n",
      "2021-02-14 16:48:29,869 : INFO : topic #50 (0.014): 0.144*\"system\" + 0.083*\",\" + 0.058*\"-\" + 0.048*\"user\" + 0.029*\"oper\" + 0.025*\"process\" + 0.023*\"time\" + 0.022*\"share\" + 0.019*\"program\" + 0.017*\"data\"\n",
      "2021-02-14 16:48:29,869 : INFO : topic #3 (0.015): 0.463*\"(\" + 0.389*\")\" + 0.050*\"1\" + 0.020*\"integr\" + 0.019*\"algorithm\" + 0.012*\"complet\" + 0.007*\"fourier\" + 0.006*\"part\" + 0.006*\"ellipt\" + 0.005*\"machin\"\n",
      "2021-02-14 16:48:29,869 : INFO : topic #32 (0.018): 0.367*\"algorithm\" + 0.294*\")\" + 0.290*\"(\" + 0.017*\"function\" + 0.009*\"fraction\" + 0.005*\"partit\" + 0.004*\"gener\" + 0.004*\"continu\" + 0.002*\"constraint\" + 0.002*\"elementari\"\n",
      "2021-02-14 16:48:29,870 : INFO : topic diff=0.505773, rho=0.322715\n",
      "2021-02-14 16:48:29,873 : INFO : PROGRESS: pass 8, at document #2000/3204\n",
      "2021-02-14 16:48:30,236 : INFO : optimized alpha [0.011158493, 0.013476583, 0.011245534, 0.015828857, 0.010323251, 0.010905225, 0.011829778, 0.010481847, 0.010773373, 0.011134802, 0.011635672, 0.012454742, 0.010978346, 0.010538464, 0.011145201, 0.011316172, 0.011249322, 0.0115806945, 0.0115466695, 0.010464996, 0.010886674, 0.010298197, 0.011079593, 0.011501729, 0.011360951, 0.011829034, 0.011358676, 0.010620239, 0.013594384, 0.007962259, 0.011767643, 0.011994768, 0.019064559, 0.011211332, 0.01299809, 0.011755867, 0.0117677, 0.010261619, 0.012143612, 0.011279233, 0.011615436, 0.011999479, 0.010739054, 0.01080694, 0.0111191785, 0.010392053, 0.011721325, 0.010877928, 0.010646839, 0.011521289, 0.013864915, 0.0108176, 0.011756086, 0.010384614, 0.010655029, 0.011650111, 0.012930499, 0.012248615, 0.010937167, 0.011806854, 0.011794409, 0.012915322, 0.011150402, 0.012141712, 0.011107518, 0.0120314425, 0.012162498, 0.011494419, 0.011093209, 0.012515663, 0.009795167, 0.010967056, 0.01033551, 0.010952399, 0.011085943, 0.010115567, 0.013280689, 0.00994904, 0.012884041, 0.010682514, 0.0121762995, 0.011820992, 0.011242124, 0.0110375695, 0.011174787, 0.0115627535, 0.011353545, 0.011153071, 0.013503317, 0.012063909, 0.01049333, 0.010915099, 0.011284554, 0.012422983, 0.012287283, 0.010774928, 0.011706798, 0.011987391, 0.011770619, 0.010425604]\n",
      "2021-02-14 16:48:30,239 : INFO : merging changes from 2000 documents into a model of 3204 documents\n",
      "2021-02-14 16:48:30,242 : INFO : topic #29 (0.008): 0.001*\"implic\" + 0.001*\"favor\" + 0.001*\"adapt\" + 0.001*\"polygon\" + 0.001*\"stage\" + 0.001*\"situat\" + 0.001*\"respons\" + 0.001*\"industri\" + 0.001*\"regress\" + 0.001*\"drive\"\n",
      "2021-02-14 16:48:30,242 : INFO : topic #70 (0.010): 0.101*\",\" + 0.063*\"effici\" + 0.060*\"machin\" + 0.055*\"usag\" + 0.055*\"count\" + 0.046*\"diagram\" + 0.041*\"comput\" + 0.035*\"gener\" + 0.033*\"-\" + 0.031*\"greater\"\n",
      "2021-02-14 16:48:30,243 : INFO : topic #50 (0.014): 0.145*\"system\" + 0.083*\",\" + 0.061*\"-\" + 0.046*\"user\" + 0.029*\"oper\" + 0.026*\"process\" + 0.025*\"time\" + 0.024*\"share\" + 0.020*\"program\" + 0.017*\"data\"\n",
      "2021-02-14 16:48:30,243 : INFO : topic #3 (0.016): 0.461*\"(\" + 0.390*\")\" + 0.049*\"1\" + 0.020*\"integr\" + 0.018*\"algorithm\" + 0.012*\"complet\" + 0.009*\"ellipt\" + 0.006*\"fourier\" + 0.006*\"part\" + 0.005*\"machin\"\n",
      "2021-02-14 16:48:30,243 : INFO : topic #32 (0.019): 0.357*\"algorithm\" + 0.301*\")\" + 0.294*\"(\" + 0.018*\"function\" + 0.008*\"fraction\" + 0.004*\"partit\" + 0.004*\"continu\" + 0.003*\"gener\" + 0.003*\"constraint\" + 0.002*\"elementari\"\n",
      "2021-02-14 16:48:30,243 : INFO : topic diff=0.440008, rho=0.307119\n",
      "2021-02-14 16:48:30,662 : INFO : -6.530 per-word bound, 92.4 perplexity estimate based on a held-out corpus of 1204 documents with 49783 words\n",
      "2021-02-14 16:48:30,663 : INFO : PROGRESS: pass 8, at document #3204/3204\n",
      "2021-02-14 16:48:30,958 : INFO : optimized alpha [0.011273488, 0.013599611, 0.011406717, 0.016452208, 0.010351789, 0.011018563, 0.012047202, 0.010614811, 0.010888045, 0.011266245, 0.011847755, 0.012709937, 0.011069417, 0.010678733, 0.011276208, 0.011467508, 0.011422373, 0.011719447, 0.011676306, 0.010552749, 0.0109886285, 0.010412354, 0.011245292, 0.0116239805, 0.011572967, 0.012048041, 0.0115414625, 0.010754156, 0.013951488, 0.007892287, 0.011993043, 0.012237996, 0.019737318, 0.011355123, 0.013372565, 0.011907273, 0.012031612, 0.010365945, 0.0123902075, 0.011454029, 0.011832468, 0.012198147, 0.01088057, 0.0109032225, 0.011328124, 0.010471506, 0.01190199, 0.010977215, 0.01080463, 0.011716075, 0.014126964, 0.010954273, 0.011961413, 0.010449381, 0.010811881, 0.0117664, 0.013175529, 0.012572467, 0.011035087, 0.011851332, 0.011952247, 0.013302679, 0.011284754, 0.012301641, 0.011300698, 0.012274673, 0.012496385, 0.011700105, 0.011142874, 0.0127647435, 0.009858875, 0.011079352, 0.010462866, 0.011091446, 0.011254242, 0.010149934, 0.013488457, 0.010030209, 0.0132351015, 0.010822913, 0.012365312, 0.012039791, 0.0114202555, 0.011233295, 0.01133374, 0.011734663, 0.011457402, 0.011220743, 0.013920665, 0.012395971, 0.01056435, 0.011070365, 0.011420967, 0.012630627, 0.012543869, 0.010855666, 0.011839267, 0.012111281, 0.011948153, 0.010492931]\n",
      "2021-02-14 16:48:30,961 : INFO : merging changes from 1204 documents into a model of 3204 documents\n",
      "2021-02-14 16:48:30,964 : INFO : topic #29 (0.008): 0.001*\"implic\" + 0.001*\"favor\" + 0.001*\"adapt\" + 0.001*\"polygon\" + 0.001*\"stage\" + 0.001*\"situat\" + 0.001*\"respons\" + 0.001*\"industri\" + 0.001*\"regress\" + 0.001*\"drive\"\n",
      "2021-02-14 16:48:30,964 : INFO : topic #70 (0.010): 0.107*\",\" + 0.075*\"effici\" + 0.064*\"count\" + 0.060*\"machin\" + 0.060*\"usag\" + 0.040*\"comput\" + 0.036*\"diagram\" + 0.033*\"gener\" + 0.032*\"greater\" + 0.031*\"-\"\n"
     ]
    },
    {
     "name": "stderr",
     "output_type": "stream",
     "text": [
      "2021-02-14 16:48:30,965 : INFO : topic #50 (0.014): 0.148*\"system\" + 0.084*\",\" + 0.060*\"-\" + 0.049*\"user\" + 0.029*\"oper\" + 0.025*\"process\" + 0.024*\"time\" + 0.023*\"share\" + 0.018*\"program\" + 0.017*\"design\"\n",
      "2021-02-14 16:48:30,965 : INFO : topic #3 (0.016): 0.472*\"(\" + 0.394*\")\" + 0.050*\"1\" + 0.017*\"integr\" + 0.014*\"algorithm\" + 0.011*\"complet\" + 0.006*\"fourier\" + 0.006*\"part\" + 0.006*\"ellipt\" + 0.005*\"machin\"\n",
      "2021-02-14 16:48:30,965 : INFO : topic #32 (0.020): 0.373*\"algorithm\" + 0.293*\")\" + 0.288*\"(\" + 0.016*\"function\" + 0.009*\"fraction\" + 0.003*\"partit\" + 0.003*\"continu\" + 0.003*\"gener\" + 0.002*\"constraint\" + 0.001*\"elementari\"\n",
      "2021-02-14 16:48:30,966 : INFO : topic diff=0.440248, rho=0.307119\n",
      "2021-02-14 16:48:30,970 : INFO : PROGRESS: pass 9, at document #2000/3204\n",
      "2021-02-14 16:48:31,332 : INFO : optimized alpha [0.011286888, 0.014017127, 0.011466404, 0.016848171, 0.010443222, 0.01101037, 0.012166852, 0.010605852, 0.010900528, 0.011362939, 0.011883716, 0.012783451, 0.011113746, 0.010687085, 0.011341059, 0.0115486905, 0.0114537785, 0.011851374, 0.0118251275, 0.010557346, 0.010968607, 0.010388737, 0.011308737, 0.011709072, 0.011549772, 0.012098585, 0.011561281, 0.010763622, 0.013998688, 0.007840335, 0.011981742, 0.0122296205, 0.020693656, 0.011374874, 0.013624466, 0.011938518, 0.012083875, 0.010361315, 0.012494584, 0.0115234945, 0.011869796, 0.012387811, 0.010896133, 0.011031758, 0.011324489, 0.010449784, 0.01191153, 0.011013096, 0.010830574, 0.011720687, 0.014285539, 0.0110215265, 0.012015976, 0.010498625, 0.010802985, 0.011874113, 0.013309121, 0.012645579, 0.011081439, 0.012083153, 0.01211132, 0.01340039, 0.011273775, 0.012461492, 0.011300483, 0.012311574, 0.012627412, 0.011742881, 0.011285024, 0.012850743, 0.0098950025, 0.011091074, 0.010456849, 0.011091968, 0.011260351, 0.01022657, 0.013706116, 0.01001651, 0.013410262, 0.010825572, 0.012418849, 0.012076035, 0.011549323, 0.011191895, 0.011359003, 0.011830938, 0.011584511, 0.011350452, 0.014111984, 0.012441143, 0.010612552, 0.011149936, 0.011448961, 0.012725445, 0.012642067, 0.010897909, 0.011899907, 0.0121564865, 0.011911964, 0.010468493]\n",
      "2021-02-14 16:48:31,334 : INFO : merging changes from 2000 documents into a model of 3204 documents\n",
      "2021-02-14 16:48:31,338 : INFO : topic #29 (0.008): 0.001*\"implic\" + 0.001*\"favor\" + 0.001*\"adapt\" + 0.001*\"polygon\" + 0.001*\"stage\" + 0.001*\"situat\" + 0.001*\"respons\" + 0.001*\"industri\" + 0.001*\"regress\" + 0.001*\"drive\"\n",
      "2021-02-14 16:48:31,338 : INFO : topic #70 (0.010): 0.105*\",\" + 0.072*\"effici\" + 0.067*\"machin\" + 0.053*\"usag\" + 0.052*\"count\" + 0.043*\"diagram\" + 0.042*\"comput\" + 0.036*\"gener\" + 0.032*\"-\" + 0.031*\"greater\"\n",
      "2021-02-14 16:48:31,339 : INFO : topic #50 (0.014): 0.148*\"system\" + 0.084*\",\" + 0.063*\"-\" + 0.047*\"user\" + 0.029*\"oper\" + 0.026*\"process\" + 0.026*\"time\" + 0.025*\"share\" + 0.020*\"program\" + 0.016*\"design\"\n",
      "2021-02-14 16:48:31,339 : INFO : topic #3 (0.017): 0.470*\"(\" + 0.395*\")\" + 0.050*\"1\" + 0.016*\"integr\" + 0.013*\"algorithm\" + 0.012*\"complet\" + 0.009*\"ellipt\" + 0.006*\"fourier\" + 0.006*\"part\" + 0.005*\"machin\"\n",
      "2021-02-14 16:48:31,339 : INFO : topic #32 (0.021): 0.364*\"algorithm\" + 0.299*\")\" + 0.292*\"(\" + 0.017*\"function\" + 0.008*\"fraction\" + 0.003*\"continu\" + 0.003*\"constraint\" + 0.003*\"partit\" + 0.002*\"gener\" + 0.001*\"elementari\"\n",
      "2021-02-14 16:48:31,340 : INFO : topic diff=0.382246, rho=0.293585\n",
      "2021-02-14 16:48:31,757 : INFO : -6.515 per-word bound, 91.4 perplexity estimate based on a held-out corpus of 1204 documents with 49783 words\n",
      "2021-02-14 16:48:31,757 : INFO : PROGRESS: pass 9, at document #3204/3204\n",
      "2021-02-14 16:48:32,043 : INFO : optimized alpha [0.011397762, 0.014140171, 0.011619246, 0.017468683, 0.010478178, 0.011122418, 0.012381217, 0.010741902, 0.011019167, 0.01148966, 0.012094918, 0.0130405845, 0.011206922, 0.010819846, 0.011470198, 0.011709036, 0.011618243, 0.011982284, 0.011952846, 0.01064204, 0.01106702, 0.010504022, 0.011466154, 0.011829769, 0.0117576085, 0.012310652, 0.0117550455, 0.010895492, 0.01434959, 0.007776056, 0.0121967895, 0.012459154, 0.021368656, 0.011524665, 0.013999382, 0.012084518, 0.01236102, 0.010472207, 0.0127496, 0.011695378, 0.012080135, 0.012589504, 0.011035402, 0.011140303, 0.011529532, 0.010526575, 0.012100939, 0.011119651, 0.010983049, 0.011911857, 0.014550294, 0.011169752, 0.012214711, 0.010560989, 0.010970447, 0.011985889, 0.013536976, 0.012977124, 0.011170363, 0.012124592, 0.01226975, 0.013783185, 0.011403384, 0.012624873, 0.011504046, 0.012553487, 0.012954467, 0.011918977, 0.011343195, 0.013092279, 0.009983294, 0.011193867, 0.010579723, 0.011226142, 0.011428406, 0.010264589, 0.013920498, 0.010102161, 0.013780632, 0.010955735, 0.012601476, 0.01228789, 0.011730587, 0.011403194, 0.0115152635, 0.012005959, 0.0116928555, 0.011417978, 0.014532663, 0.012771327, 0.0106809735, 0.011297357, 0.011577668, 0.01292942, 0.012894559, 0.010981129, 0.012015872, 0.012269797, 0.012095072, 0.010543806]\n",
      "2021-02-14 16:48:32,046 : INFO : merging changes from 1204 documents into a model of 3204 documents\n",
      "2021-02-14 16:48:32,049 : INFO : topic #29 (0.008): 0.001*\"implic\" + 0.001*\"favor\" + 0.001*\"adapt\" + 0.001*\"polygon\" + 0.001*\"stage\" + 0.001*\"situat\" + 0.001*\"respons\" + 0.001*\"industri\" + 0.001*\"regress\" + 0.001*\"drive\"\n",
      "2021-02-14 16:48:32,049 : INFO : topic #70 (0.010): 0.112*\",\" + 0.085*\"effici\" + 0.068*\"machin\" + 0.060*\"count\" + 0.057*\"usag\" + 0.042*\"comput\" + 0.034*\"diagram\" + 0.034*\"gener\" + 0.031*\"greater\" + 0.029*\"-\"\n",
      "2021-02-14 16:48:32,050 : INFO : topic #88 (0.015): 0.297*\"problem\" + 0.094*\"solut\" + 0.061*\"comput\" + 0.039*\"mathemat\" + 0.036*\"numer\" + 0.033*\"program\" + 0.025*\"involv\" + 0.023*\"linear\" + 0.020*\",\" + 0.020*\"appli\"\n",
      "2021-02-14 16:48:32,050 : INFO : topic #3 (0.017): 0.479*\"(\" + 0.397*\")\" + 0.050*\"1\" + 0.014*\"integr\" + 0.011*\"complet\" + 0.010*\"algorithm\" + 0.006*\"fourier\" + 0.006*\"part\" + 0.006*\"ellipt\" + 0.005*\"machin\"\n",
      "2021-02-14 16:48:32,050 : INFO : topic #32 (0.021): 0.380*\"algorithm\" + 0.292*\")\" + 0.287*\"(\" + 0.016*\"function\" + 0.009*\"fraction\" + 0.003*\"continu\" + 0.002*\"partit\" + 0.002*\"gener\" + 0.002*\"constraint\" + 0.001*\"elementari\"\n",
      "2021-02-14 16:48:32,051 : INFO : topic diff=0.383368, rho=0.293585\n",
      "2021-02-14 16:48:32,055 : INFO : PROGRESS: pass 10, at document #2000/3204\n",
      "2021-02-14 16:48:32,410 : INFO : optimized alpha [0.011410762, 0.014550834, 0.011678413, 0.017869037, 0.010572874, 0.011120896, 0.012502791, 0.010736135, 0.011049884, 0.011584951, 0.012132488, 0.013109139, 0.011251441, 0.010833908, 0.011536116, 0.011785936, 0.011646629, 0.012113838, 0.012102637, 0.010643698, 0.011054324, 0.010488823, 0.01152895, 0.011915579, 0.011739478, 0.012364096, 0.011780292, 0.010909174, 0.014387265, 0.007728189, 0.012185052, 0.012451838, 0.022325927, 0.011553196, 0.014257061, 0.012119593, 0.01241929, 0.010467772, 0.012857624, 0.011764072, 0.012122532, 0.0127784815, 0.011053286, 0.01127778, 0.011531874, 0.010506144, 0.012114824, 0.011159043, 0.011007859, 0.011920802, 0.01471033, 0.011245835, 0.012267013, 0.010607271, 0.010972287, 0.01209359, 0.013662594, 0.013063097, 0.0112217385, 0.012357705, 0.012421362, 0.013886572, 0.01139434, 0.012785731, 0.011501523, 0.012600665, 0.013087128, 0.011954908, 0.011482941, 0.013176891, 0.010036687, 0.01120211, 0.010570838, 0.011232984, 0.011433945, 0.010340445, 0.014137, 0.010087778, 0.01394172, 0.010961263, 0.012652761, 0.012322258, 0.011857905, 0.01136894, 0.011540992, 0.012109425, 0.011819605, 0.011555219, 0.01472945, 0.012815448, 0.010726202, 0.0113775255, 0.011606269, 0.013020872, 0.012996651, 0.011029953, 0.012072755, 0.012315219, 0.012070003, 0.010522268]\n",
      "2021-02-14 16:48:32,413 : INFO : merging changes from 2000 documents into a model of 3204 documents\n",
      "2021-02-14 16:48:32,416 : INFO : topic #29 (0.008): 0.001*\"implic\" + 0.001*\"favor\" + 0.001*\"adapt\" + 0.001*\"polygon\" + 0.001*\"stage\" + 0.001*\"situat\" + 0.001*\"respons\" + 0.001*\"industri\" + 0.001*\"regress\" + 0.001*\"drive\"\n",
      "2021-02-14 16:48:32,416 : INFO : topic #77 (0.010): 0.105*\",\" + 0.049*\"vector\" + 0.042*\"assumpt\" + 0.036*\"transact\" + 0.036*\"consist\" + 0.030*\"signific\" + 0.030*\"obtain\" + 0.024*\"reflect\" + 0.024*\"simplifi\" + 0.020*\"subprogram\"\n",
      "2021-02-14 16:48:32,417 : INFO : topic #88 (0.015): 0.295*\"problem\" + 0.093*\"solut\" + 0.061*\"comput\" + 0.039*\"mathemat\" + 0.036*\"numer\" + 0.034*\"program\" + 0.024*\"involv\" + 0.023*\"linear\" + 0.020*\",\" + 0.019*\"appli\"\n"
     ]
    },
    {
     "name": "stderr",
     "output_type": "stream",
     "text": [
      "2021-02-14 16:48:32,417 : INFO : topic #3 (0.018): 0.477*\"(\" + 0.398*\")\" + 0.050*\"1\" + 0.014*\"integr\" + 0.011*\"complet\" + 0.009*\"algorithm\" + 0.009*\"ellipt\" + 0.006*\"fourier\" + 0.006*\"part\" + 0.005*\"machin\"\n",
      "2021-02-14 16:48:32,417 : INFO : topic #32 (0.022): 0.370*\"algorithm\" + 0.298*\")\" + 0.291*\"(\" + 0.017*\"function\" + 0.008*\"fraction\" + 0.003*\"continu\" + 0.003*\"constraint\" + 0.002*\"partit\" + 0.002*\"gener\" + 0.001*\"elementari\"\n",
      "2021-02-14 16:48:32,418 : INFO : topic diff=0.332399, rho=0.281696\n",
      "2021-02-14 16:48:32,826 : INFO : -6.501 per-word bound, 90.5 perplexity estimate based on a held-out corpus of 1204 documents with 49783 words\n",
      "2021-02-14 16:48:32,827 : INFO : PROGRESS: pass 10, at document #3204/3204\n",
      "2021-02-14 16:48:33,113 : INFO : optimized alpha [0.0115207555, 0.014664473, 0.011832004, 0.018536862, 0.010611408, 0.011234508, 0.01271765, 0.010865392, 0.01117775, 0.011715799, 0.012340646, 0.013350153, 0.011346761, 0.010959956, 0.011658385, 0.011955285, 0.011806068, 0.012246036, 0.012231753, 0.010730726, 0.011149493, 0.010610389, 0.011684355, 0.012046413, 0.011949499, 0.012567247, 0.011965679, 0.011041962, 0.014732978, 0.0076687853, 0.012396601, 0.012677803, 0.022941947, 0.011703673, 0.014633192, 0.012260869, 0.012692742, 0.010575114, 0.013112594, 0.01193917, 0.012318425, 0.012974707, 0.011195983, 0.011401046, 0.01172573, 0.010578133, 0.012304422, 0.011272683, 0.011153059, 0.012106303, 0.014967913, 0.011389666, 0.012471699, 0.010665018, 0.011134629, 0.012201472, 0.013883893, 0.013390972, 0.011312968, 0.012396365, 0.012577746, 0.014282181, 0.011533366, 0.01294681, 0.011704687, 0.012845039, 0.013408064, 0.0121285925, 0.011544001, 0.013408758, 0.010129237, 0.011298877, 0.010692302, 0.011365585, 0.011596885, 0.010379605, 0.014338192, 0.010173151, 0.014315732, 0.0110821575, 0.012826909, 0.012530937, 0.0120452875, 0.011595601, 0.011695125, 0.012282275, 0.011921305, 0.011630794, 0.015161418, 0.013144603, 0.010792308, 0.011523105, 0.011728078, 0.013218787, 0.013242738, 0.011105145, 0.0121876765, 0.012418837, 0.012250279, 0.010587825]\n",
      "2021-02-14 16:48:33,116 : INFO : merging changes from 1204 documents into a model of 3204 documents\n",
      "2021-02-14 16:48:33,119 : INFO : topic #29 (0.008): 0.001*\"implic\" + 0.001*\"favor\" + 0.001*\"adapt\" + 0.001*\"polygon\" + 0.001*\"stage\" + 0.001*\"situat\" + 0.001*\"respons\" + 0.001*\"industri\" + 0.001*\"regress\" + 0.001*\"drive\"\n",
      "2021-02-14 16:48:33,120 : INFO : topic #70 (0.010): 0.116*\",\" + 0.092*\"effici\" + 0.077*\"machin\" + 0.057*\"count\" + 0.054*\"usag\" + 0.043*\"comput\" + 0.033*\"gener\" + 0.032*\"diagram\" + 0.030*\"part\" + 0.029*\"greater\"\n",
      "2021-02-14 16:48:33,120 : INFO : topic #88 (0.015): 0.313*\"problem\" + 0.098*\"solut\" + 0.059*\"comput\" + 0.035*\"mathemat\" + 0.035*\"program\" + 0.031*\"numer\" + 0.024*\"involv\" + 0.024*\"linear\" + 0.020*\",\" + 0.019*\"appli\"\n",
      "2021-02-14 16:48:33,120 : INFO : topic #3 (0.019): 0.483*\"(\" + 0.402*\")\" + 0.050*\"1\" + 0.011*\"integr\" + 0.011*\"complet\" + 0.008*\"algorithm\" + 0.006*\"fourier\" + 0.006*\"ellipt\" + 0.006*\"part\" + 0.004*\"machin\"\n",
      "2021-02-14 16:48:33,120 : INFO : topic #32 (0.023): 0.385*\"algorithm\" + 0.289*\")\" + 0.286*\"(\" + 0.016*\"function\" + 0.009*\"fraction\" + 0.003*\"continu\" + 0.002*\"constraint\" + 0.002*\"gener\" + 0.001*\"partit\" + 0.001*\"elementari\"\n",
      "2021-02-14 16:48:33,121 : INFO : topic diff=0.334702, rho=0.281696\n",
      "2021-02-14 16:48:33,125 : INFO : PROGRESS: pass 11, at document #2000/3204\n",
      "2021-02-14 16:48:33,479 : INFO : optimized alpha [0.011534927, 0.0150688235, 0.011889245, 0.01896486, 0.010706452, 0.011233112, 0.012835906, 0.010864121, 0.011221083, 0.011808456, 0.01238146, 0.013417773, 0.01138533, 0.010976491, 0.0117191365, 0.01203141, 0.011836438, 0.012380903, 0.012377978, 0.010739792, 0.01113437, 0.010599995, 0.01174987, 0.012131391, 0.011929575, 0.012620333, 0.011988082, 0.011053589, 0.014767716, 0.0076244366, 0.012386109, 0.01266631, 0.023916962, 0.011731088, 0.014889291, 0.012298011, 0.012750151, 0.010579525, 0.013220949, 0.012003969, 0.012362436, 0.013163348, 0.01121917, 0.011536853, 0.011727461, 0.010554468, 0.012324148, 0.0113139525, 0.011175313, 0.012119474, 0.01511961, 0.011472771, 0.012523774, 0.010711502, 0.011136085, 0.012309571, 0.013998271, 0.013473754, 0.011362814, 0.012626171, 0.0127273835, 0.014383709, 0.011526093, 0.013107302, 0.011707871, 0.0128865475, 0.013540695, 0.0121613545, 0.011687977, 0.0134977605, 0.010193521, 0.011311623, 0.010689478, 0.011372084, 0.011603499, 0.010461933, 0.0145599395, 0.01016636, 0.0144980075, 0.01109054, 0.012878154, 0.012568691, 0.0121743865, 0.011566283, 0.011719726, 0.0123963, 0.0120399045, 0.011777206, 0.015356033, 0.013187842, 0.010834829, 0.011602452, 0.011762133, 0.013309016, 0.013341693, 0.011160161, 0.01223941, 0.012464607, 0.0122306775, 0.010568985]\n",
      "2021-02-14 16:48:33,481 : INFO : merging changes from 2000 documents into a model of 3204 documents\n",
      "2021-02-14 16:48:33,484 : INFO : topic #29 (0.008): 0.001*\"implic\" + 0.001*\"favor\" + 0.001*\"adapt\" + 0.001*\"polygon\" + 0.001*\"stage\" + 0.001*\"situat\" + 0.001*\"respons\" + 0.001*\"industri\" + 0.001*\"regress\" + 0.001*\"drive\"\n",
      "2021-02-14 16:48:33,484 : INFO : topic #77 (0.010): 0.104*\",\" + 0.051*\"vector\" + 0.043*\"assumpt\" + 0.038*\"consist\" + 0.037*\"transact\" + 0.033*\"signific\" + 0.031*\"obtain\" + 0.024*\"reflect\" + 0.024*\"simplifi\" + 0.021*\"improv\"\n",
      "2021-02-14 16:48:33,485 : INFO : topic #88 (0.015): 0.310*\"problem\" + 0.097*\"solut\" + 0.059*\"comput\" + 0.036*\"program\" + 0.035*\"mathemat\" + 0.032*\"numer\" + 0.024*\"linear\" + 0.023*\"involv\" + 0.020*\",\" + 0.019*\"appli\"\n",
      "2021-02-14 16:48:33,485 : INFO : topic #3 (0.019): 0.482*\"(\" + 0.403*\")\" + 0.049*\"1\" + 0.011*\"complet\" + 0.010*\"integr\" + 0.009*\"ellipt\" + 0.007*\"algorithm\" + 0.006*\"fourier\" + 0.005*\"part\" + 0.004*\"machin\"\n",
      "2021-02-14 16:48:33,485 : INFO : topic #32 (0.024): 0.375*\"algorithm\" + 0.295*\")\" + 0.290*\"(\" + 0.017*\"function\" + 0.008*\"fraction\" + 0.003*\"constraint\" + 0.003*\"continu\" + 0.001*\"gener\" + 0.001*\"partit\" + 0.001*\"elementari\"\n",
      "2021-02-14 16:48:33,485 : INFO : topic diff=0.291108, rho=0.271143\n",
      "2021-02-14 16:48:33,891 : INFO : -6.489 per-word bound, 89.8 perplexity estimate based on a held-out corpus of 1204 documents with 49783 words\n",
      "2021-02-14 16:48:33,892 : INFO : PROGRESS: pass 11, at document #3204/3204\n",
      "2021-02-14 16:48:34,177 : INFO : optimized alpha [0.011646939, 0.015173186, 0.012041221, 0.01963578, 0.010743651, 0.011351076, 0.013066316, 0.010984812, 0.011350379, 0.011924802, 0.012598354, 0.013665169, 0.011480419, 0.0110964775, 0.011843077, 0.012209839, 0.011988777, 0.012514792, 0.012511606, 0.01083162, 0.011219151, 0.010739804, 0.011900964, 0.012266545, 0.012142163, 0.012818275, 0.012168611, 0.011192699, 0.015102477, 0.0075692656, 0.0125891445, 0.012886443, 0.024587985, 0.011874652, 0.01527379, 0.012440636, 0.013023615, 0.010686179, 0.013476375, 0.012177244, 0.012558884, 0.013351627, 0.011365437, 0.011661772, 0.011910846, 0.010622123, 0.012508779, 0.011434592, 0.01131897, 0.012299941, 0.01538493, 0.011623119, 0.012723158, 0.010769941, 0.011294068, 0.012411224, 0.014229809, 0.013804737, 0.0114538735, 0.012665215, 0.012876515, 0.014799505, 0.011669082, 0.013263694, 0.01191385, 0.013136567, 0.0138559975, 0.012324757, 0.011746654, 0.013736165, 0.01028808, 0.011410666, 0.010812231, 0.011503483, 0.0117645785, 0.010509302, 0.014755506, 0.010253905, 0.014880029, 0.01120782, 0.013044483, 0.0127861705, 0.012351834, 0.0117899105, 0.011869591, 0.012578713, 0.012140985, 0.011863363, 0.01581752, 0.013516726, 0.010901416, 0.011743971, 0.011883061, 0.013513416, 0.013588122, 0.0112331165, 0.012353735, 0.012562274, 0.0124060605, 0.0106400745]\n",
      "2021-02-14 16:48:34,180 : INFO : merging changes from 1204 documents into a model of 3204 documents\n",
      "2021-02-14 16:48:34,183 : INFO : topic #29 (0.008): 0.001*\"implic\" + 0.001*\"favor\" + 0.001*\"adapt\" + 0.001*\"polygon\" + 0.001*\"stage\" + 0.001*\"situat\" + 0.001*\"respons\" + 0.001*\"industri\" + 0.001*\"regress\" + 0.001*\"drive\"\n",
      "2021-02-14 16:48:34,184 : INFO : topic #77 (0.010): 0.104*\",\" + 0.054*\"vector\" + 0.044*\"assumpt\" + 0.044*\"transact\" + 0.042*\"consist\" + 0.035*\"signific\" + 0.031*\"obtain\" + 0.029*\"reflect\" + 0.024*\"simplifi\" + 0.023*\"system\"\n",
      "2021-02-14 16:48:34,184 : INFO : topic #88 (0.016): 0.327*\"problem\" + 0.101*\"solut\" + 0.057*\"comput\" + 0.036*\"program\" + 0.032*\"mathemat\" + 0.027*\"numer\" + 0.025*\"linear\" + 0.024*\"involv\" + 0.020*\",\" + 0.019*\"appli\"\n"
     ]
    },
    {
     "name": "stderr",
     "output_type": "stream",
     "text": [
      "2021-02-14 16:48:34,184 : INFO : topic #3 (0.020): 0.489*\"(\" + 0.405*\")\" + 0.050*\"1\" + 0.011*\"complet\" + 0.008*\"integr\" + 0.006*\"ellipt\" + 0.006*\"algorithm\" + 0.006*\"fourier\" + 0.006*\"part\" + 0.003*\"machin\"\n",
      "2021-02-14 16:48:34,184 : INFO : topic #32 (0.025): 0.389*\"algorithm\" + 0.288*\")\" + 0.284*\"(\" + 0.016*\"function\" + 0.009*\"fraction\" + 0.002*\"continu\" + 0.002*\"constraint\" + 0.001*\"gener\" + 0.001*\"partit\" + 0.001*\"elementari\"\n",
      "2021-02-14 16:48:34,185 : INFO : topic diff=0.294466, rho=0.271143\n",
      "2021-02-14 16:48:34,189 : INFO : PROGRESS: pass 12, at document #2000/3204\n",
      "2021-02-14 16:48:34,534 : INFO : optimized alpha [0.011662275, 0.015577563, 0.012099891, 0.020090144, 0.010837794, 0.011352706, 0.013183687, 0.010984988, 0.011390967, 0.012018255, 0.012639075, 0.01373387, 0.011520996, 0.011119822, 0.011903631, 0.012293414, 0.012019587, 0.01264659, 0.012657934, 0.010844867, 0.011200398, 0.010730912, 0.011963003, 0.01235249, 0.012133231, 0.012871112, 0.012193159, 0.011203755, 0.01513251, 0.0075280014, 0.01258322, 0.012874442, 0.02556136, 0.011901073, 0.015522603, 0.012481458, 0.013078625, 0.010690499, 0.013581717, 0.012244883, 0.012601228, 0.013534987, 0.011389247, 0.011799235, 0.011907199, 0.010599723, 0.012529187, 0.011477689, 0.011346334, 0.012313881, 0.015538837, 0.011707166, 0.012780205, 0.010816685, 0.01130555, 0.012523189, 0.014340943, 0.013895283, 0.011499391, 0.012894045, 0.013017916, 0.0149090085, 0.011669553, 0.013420671, 0.011917864, 0.0131898895, 0.01398712, 0.012351358, 0.011890482, 0.013827861, 0.010357585, 0.011421611, 0.010815062, 0.011511172, 0.011773737, 0.01059241, 0.014972898, 0.010251556, 0.015062521, 0.011212896, 0.013090507, 0.012823965, 0.012489372, 0.0117574055, 0.011894784, 0.012688374, 0.012253539, 0.012009826, 0.016020363, 0.013568108, 0.010944353, 0.011825774, 0.011916127, 0.0136079835, 0.01369131, 0.011285276, 0.01241063, 0.012606751, 0.012388309, 0.010620818]\n",
      "2021-02-14 16:48:34,536 : INFO : merging changes from 2000 documents into a model of 3204 documents\n",
      "2021-02-14 16:48:34,539 : INFO : topic #29 (0.008): 0.001*\"implic\" + 0.001*\"favor\" + 0.001*\"adapt\" + 0.001*\"polygon\" + 0.001*\"stage\" + 0.001*\"situat\" + 0.001*\"respons\" + 0.001*\"industri\" + 0.001*\"regress\" + 0.001*\"drive\"\n",
      "2021-02-14 16:48:34,540 : INFO : topic #77 (0.010): 0.104*\",\" + 0.052*\"vector\" + 0.044*\"assumpt\" + 0.041*\"consist\" + 0.037*\"transact\" + 0.035*\"signific\" + 0.031*\"obtain\" + 0.024*\"reflect\" + 0.024*\"simplifi\" + 0.021*\"improv\"\n",
      "2021-02-14 16:48:34,540 : INFO : topic #88 (0.016): 0.324*\"problem\" + 0.101*\"solut\" + 0.057*\"comput\" + 0.037*\"program\" + 0.031*\"mathemat\" + 0.028*\"numer\" + 0.025*\"linear\" + 0.023*\"involv\" + 0.020*\",\" + 0.018*\"appli\"\n",
      "2021-02-14 16:48:34,540 : INFO : topic #3 (0.020): 0.487*\"(\" + 0.406*\")\" + 0.049*\"1\" + 0.011*\"complet\" + 0.008*\"ellipt\" + 0.007*\"integr\" + 0.006*\"fourier\" + 0.005*\"part\" + 0.005*\"algorithm\" + 0.003*\"machin\"\n",
      "2021-02-14 16:48:34,540 : INFO : topic #32 (0.026): 0.379*\"algorithm\" + 0.293*\")\" + 0.288*\"(\" + 0.017*\"function\" + 0.008*\"fraction\" + 0.003*\"constraint\" + 0.003*\"continu\" + 0.001*\"elementari\" + 0.001*\"gener\" + 0.001*\"partit\"\n",
      "2021-02-14 16:48:34,541 : INFO : topic diff=0.257233, rho=0.261694\n",
      "2021-02-14 16:48:34,950 : INFO : -6.478 per-word bound, 89.1 perplexity estimate based on a held-out corpus of 1204 documents with 49783 words\n",
      "2021-02-14 16:48:34,951 : INFO : PROGRESS: pass 12, at document #3204/3204\n",
      "2021-02-14 16:48:35,235 : INFO : optimized alpha [0.011771317, 0.015676292, 0.012242748, 0.020746963, 0.010878542, 0.011467585, 0.013412635, 0.01110729, 0.01152192, 0.012136622, 0.012853874, 0.013990974, 0.011613464, 0.011236637, 0.012021662, 0.01246765, 0.012175811, 0.012782275, 0.01279335, 0.010936653, 0.011278038, 0.010862478, 0.012112934, 0.012484078, 0.012364964, 0.013064371, 0.012377368, 0.011339297, 0.015457031, 0.007476525, 0.012784069, 0.013086431, 0.026273776, 0.012053886, 0.015902605, 0.0126230875, 0.0133554125, 0.0107967155, 0.013832075, 0.012416677, 0.012790277, 0.01371881, 0.011529338, 0.011931054, 0.012093999, 0.010665723, 0.012720474, 0.011600186, 0.011493706, 0.012489838, 0.01579504, 0.011848764, 0.01297776, 0.01087348, 0.011454639, 0.012629819, 0.014579635, 0.014224034, 0.011595424, 0.012930727, 0.013163131, 0.015326728, 0.011816522, 0.0135727925, 0.012119184, 0.01344065, 0.014297537, 0.012513247, 0.011952133, 0.014064225, 0.010458676, 0.011517933, 0.010939296, 0.011644182, 0.011935851, 0.010633653, 0.015163213, 0.010339034, 0.015459791, 0.011332013, 0.013252555, 0.013036525, 0.01266826, 0.011986253, 0.012038181, 0.012863689, 0.012354273, 0.012095896, 0.0164744, 0.013894451, 0.011006692, 0.01196106, 0.012023309, 0.013813416, 0.013935631, 0.011366153, 0.012530064, 0.012701583, 0.012559166, 0.010694769]\n",
      "2021-02-14 16:48:35,238 : INFO : merging changes from 1204 documents into a model of 3204 documents\n",
      "2021-02-14 16:48:35,241 : INFO : topic #29 (0.007): 0.001*\"implic\" + 0.001*\"favor\" + 0.001*\"adapt\" + 0.001*\"polygon\" + 0.001*\"stage\" + 0.001*\"situat\" + 0.001*\"respons\" + 0.001*\"industri\" + 0.001*\"regress\" + 0.001*\"drive\"\n",
      "2021-02-14 16:48:35,241 : INFO : topic #77 (0.010): 0.103*\",\" + 0.056*\"vector\" + 0.045*\"assumpt\" + 0.044*\"consist\" + 0.044*\"transact\" + 0.038*\"signific\" + 0.032*\"obtain\" + 0.028*\"reflect\" + 0.024*\"simplifi\" + 0.024*\"system\"\n",
      "2021-02-14 16:48:35,242 : INFO : topic #88 (0.016): 0.340*\"problem\" + 0.105*\"solut\" + 0.055*\"comput\" + 0.037*\"program\" + 0.027*\"mathemat\" + 0.026*\"linear\" + 0.023*\"involv\" + 0.023*\"numer\" + 0.020*\",\" + 0.018*\"present\"\n",
      "2021-02-14 16:48:35,242 : INFO : topic #3 (0.021): 0.493*\"(\" + 0.407*\")\" + 0.049*\"1\" + 0.011*\"complet\" + 0.006*\"ellipt\" + 0.006*\"fourier\" + 0.006*\"part\" + 0.005*\"integr\" + 0.004*\"algorithm\" + 0.003*\"machin\"\n",
      "2021-02-14 16:48:35,242 : INFO : topic #32 (0.026): 0.393*\"algorithm\" + 0.287*\")\" + 0.282*\"(\" + 0.016*\"function\" + 0.009*\"fraction\" + 0.002*\"continu\" + 0.002*\"constraint\" + 0.001*\"elementari\" + 0.001*\"gener\" + 0.001*\"partit\"\n",
      "2021-02-14 16:48:35,243 : INFO : topic diff=0.261635, rho=0.261694\n",
      "2021-02-14 16:48:35,247 : INFO : PROGRESS: pass 13, at document #2000/3204\n",
      "2021-02-14 16:48:35,588 : INFO : optimized alpha [0.011786275, 0.016075213, 0.012301408, 0.02120197, 0.01097062, 0.011470615, 0.013530802, 0.011111554, 0.011562825, 0.012232537, 0.012894552, 0.014062562, 0.01165451, 0.011266473, 0.012082181, 0.012549098, 0.012203962, 0.012912915, 0.012941658, 0.01095102, 0.011265947, 0.01085227, 0.012176393, 0.012575842, 0.012352205, 0.013115442, 0.012402415, 0.011354255, 0.015486679, 0.0074379533, 0.012776032, 0.013072289, 0.02726712, 0.012085513, 0.016142149, 0.012662685, 0.013409827, 0.010799539, 0.0139417155, 0.0124808, 0.0128376875, 0.013900693, 0.011558165, 0.012065927, 0.012094597, 0.010644443, 0.012744787, 0.0116435485, 0.011520143, 0.0125061935, 0.01593957, 0.011941358, 0.0130296545, 0.010919151, 0.011465546, 0.012742408, 0.014691473, 0.014320545, 0.011645706, 0.013153979, 0.013294921, 0.015434546, 0.011821352, 0.013726599, 0.012130154, 0.013496884, 0.014425621, 0.012540374, 0.012089978, 0.014151583, 0.010534594, 0.011531624, 0.010940566, 0.011651614, 0.011942947, 0.010716297, 0.015374971, 0.0103381965, 0.015642552, 0.011338376, 0.013297157, 0.013071085, 0.012806347, 0.011968995, 0.012064023, 0.012977447, 0.012470562, 0.012244067, 0.016681794, 0.013939765, 0.011050077, 0.012043905, 0.012053928, 0.013905387, 0.014041341, 0.011418493, 0.012585439, 0.012748236, 0.012547889, 0.010680463]\n",
      "2021-02-14 16:48:35,591 : INFO : merging changes from 2000 documents into a model of 3204 documents\n",
      "2021-02-14 16:48:35,594 : INFO : topic #29 (0.007): 0.001*\"implic\" + 0.001*\"favor\" + 0.001*\"adapt\" + 0.001*\"polygon\" + 0.001*\"stage\" + 0.001*\"situat\" + 0.001*\"respons\" + 0.001*\"industri\" + 0.001*\"regress\" + 0.001*\"drive\"\n",
      "2021-02-14 16:48:35,594 : INFO : topic #77 (0.010): 0.103*\",\" + 0.054*\"vector\" + 0.045*\"assumpt\" + 0.043*\"consist\" + 0.038*\"signific\" + 0.037*\"transact\" + 0.031*\"obtain\" + 0.024*\"reflect\" + 0.024*\"simplifi\" + 0.022*\"improv\"\n",
      "2021-02-14 16:48:35,595 : INFO : topic #88 (0.017): 0.336*\"problem\" + 0.104*\"solut\" + 0.055*\"comput\" + 0.037*\"program\" + 0.026*\"linear\" + 0.026*\"mathemat\" + 0.024*\"numer\" + 0.023*\"involv\" + 0.020*\",\" + 0.019*\"present\"\n",
      "2021-02-14 16:48:35,595 : INFO : topic #3 (0.021): 0.492*\"(\" + 0.407*\")\" + 0.049*\"1\" + 0.011*\"complet\" + 0.008*\"ellipt\" + 0.006*\"fourier\" + 0.005*\"part\" + 0.004*\"integr\" + 0.004*\"algorithm\" + 0.003*\"machin\"\n"
     ]
    },
    {
     "name": "stderr",
     "output_type": "stream",
     "text": [
      "2021-02-14 16:48:35,595 : INFO : topic #32 (0.027): 0.383*\"algorithm\" + 0.292*\")\" + 0.287*\"(\" + 0.017*\"function\" + 0.008*\"fraction\" + 0.003*\"constraint\" + 0.002*\"continu\" + 0.001*\"elementari\" + 0.001*\"gener\" + 0.000*\"partit\"\n",
      "2021-02-14 16:48:35,595 : INFO : topic diff=0.229917, rho=0.253169\n",
      "2021-02-14 16:48:35,998 : INFO : -6.471 per-word bound, 88.7 perplexity estimate based on a held-out corpus of 1204 documents with 49783 words\n",
      "2021-02-14 16:48:35,998 : INFO : PROGRESS: pass 13, at document #3204/3204\n",
      "2021-02-14 16:48:36,283 : INFO : optimized alpha [0.011895169, 0.016161876, 0.012453946, 0.021883558, 0.011017057, 0.011585109, 0.013744106, 0.011230868, 0.011685792, 0.012347913, 0.013105, 0.014311837, 0.0117470855, 0.01138764, 0.012199784, 0.012727502, 0.012353932, 0.013047944, 0.013084549, 0.011047624, 0.011348883, 0.010989989, 0.012328011, 0.012704156, 0.012584541, 0.0133044, 0.012577377, 0.011484251, 0.015805027, 0.007389733, 0.012974995, 0.013285073, 0.027953235, 0.012247587, 0.016524449, 0.01280351, 0.0136847235, 0.010910022, 0.014190435, 0.012648847, 0.0130308885, 0.014086262, 0.01169498, 0.012197158, 0.01228752, 0.010708941, 0.012940192, 0.011765615, 0.011668867, 0.012675533, 0.016193926, 0.0120847775, 0.013217408, 0.010972161, 0.011611251, 0.012845953, 0.0149439, 0.014650613, 0.011744238, 0.01318846, 0.013428112, 0.015838062, 0.011962345, 0.013877663, 0.012329891, 0.013740127, 0.014734592, 0.012690473, 0.012152074, 0.014374213, 0.010644515, 0.011637846, 0.011059405, 0.011786467, 0.012106334, 0.010765459, 0.015550601, 0.010425711, 0.016058955, 0.011452136, 0.013460966, 0.0132818995, 0.012978766, 0.012200958, 0.012209081, 0.013160008, 0.012573786, 0.012332751, 0.017156808, 0.014261246, 0.011108474, 0.012183467, 0.012160997, 0.014106302, 0.014283976, 0.011502166, 0.012696455, 0.012840542, 0.012720168, 0.010752569]\n",
      "2021-02-14 16:48:36,286 : INFO : merging changes from 1204 documents into a model of 3204 documents\n",
      "2021-02-14 16:48:36,289 : INFO : topic #29 (0.007): 0.001*\"implic\" + 0.001*\"favor\" + 0.001*\"adapt\" + 0.001*\"polygon\" + 0.001*\"stage\" + 0.001*\"situat\" + 0.001*\"respons\" + 0.001*\"industri\" + 0.001*\"regress\" + 0.001*\"drive\"\n",
      "2021-02-14 16:48:36,289 : INFO : topic #77 (0.010): 0.102*\",\" + 0.058*\"vector\" + 0.046*\"consist\" + 0.045*\"assumpt\" + 0.044*\"transact\" + 0.041*\"signific\" + 0.032*\"obtain\" + 0.028*\"reflect\" + 0.025*\"system\" + 0.025*\"simplifi\"\n",
      "2021-02-14 16:48:36,289 : INFO : topic #88 (0.017): 0.351*\"problem\" + 0.107*\"solut\" + 0.054*\"comput\" + 0.037*\"program\" + 0.027*\"linear\" + 0.023*\"mathemat\" + 0.023*\"involv\" + 0.020*\"numer\" + 0.020*\",\" + 0.019*\"present\"\n",
      "2021-02-14 16:48:36,290 : INFO : topic #3 (0.022): 0.496*\"(\" + 0.409*\")\" + 0.049*\"1\" + 0.011*\"complet\" + 0.006*\"ellipt\" + 0.006*\"fourier\" + 0.005*\"part\" + 0.003*\"integr\" + 0.003*\"algorithm\" + 0.002*\"machin\"\n",
      "2021-02-14 16:48:36,290 : INFO : topic #32 (0.028): 0.397*\"algorithm\" + 0.284*\")\" + 0.282*\"(\" + 0.016*\"function\" + 0.009*\"fraction\" + 0.002*\"constraint\" + 0.002*\"continu\" + 0.000*\"elementari\" + 0.000*\"gener\" + 0.000*\"partit\"\n",
      "2021-02-14 16:48:36,290 : INFO : topic diff=0.234761, rho=0.253169\n",
      "2021-02-14 16:48:36,294 : INFO : PROGRESS: pass 14, at document #2000/3204\n",
      "2021-02-14 16:48:36,640 : INFO : optimized alpha [0.011911241, 0.016555432, 0.012511054, 0.022330955, 0.01110995, 0.011590925, 0.013859883, 0.011233596, 0.0117256325, 0.012441775, 0.01314579, 0.014377562, 0.011787194, 0.011420885, 0.012258845, 0.012808598, 0.012381134, 0.013177662, 0.013231816, 0.011060331, 0.011333185, 0.010981195, 0.01239428, 0.012792315, 0.012585241, 0.013353837, 0.012599887, 0.011501518, 0.015828473, 0.0073535545, 0.012966509, 0.013273746, 0.028972363, 0.012279649, 0.016756674, 0.012841987, 0.013735345, 0.01091544, 0.014297471, 0.012714404, 0.013078391, 0.014266985, 0.011724422, 0.012334081, 0.012287571, 0.010688656, 0.012966717, 0.011807878, 0.011694426, 0.012694268, 0.016343236, 0.012176868, 0.013269324, 0.011018217, 0.011623111, 0.012960983, 0.015058398, 0.014753229, 0.011800648, 0.013404854, 0.013562284, 0.015946427, 0.011969874, 0.014035311, 0.012339989, 0.013801067, 0.014857939, 0.012713598, 0.012288768, 0.0144627895, 0.0107254805, 0.011652649, 0.011060517, 0.011796465, 0.012117321, 0.010845054, 0.015754797, 0.010424991, 0.016246442, 0.011459708, 0.013509212, 0.013315026, 0.013120697, 0.012180155, 0.012232572, 0.013276329, 0.012687685, 0.01247827, 0.017360767, 0.014304243, 0.011148244, 0.012265904, 0.012190923, 0.014195919, 0.014399435, 0.011554831, 0.012753675, 0.012887725, 0.012707203, 0.010740261]\n",
      "2021-02-14 16:48:36,643 : INFO : merging changes from 2000 documents into a model of 3204 documents\n",
      "2021-02-14 16:48:36,646 : INFO : topic #29 (0.007): 0.001*\"implic\" + 0.001*\"favor\" + 0.001*\"adapt\" + 0.001*\"polygon\" + 0.001*\"stage\" + 0.001*\"situat\" + 0.001*\"respons\" + 0.001*\"industri\" + 0.001*\"regress\" + 0.001*\"drive\"\n",
      "2021-02-14 16:48:36,646 : INFO : topic #77 (0.010): 0.102*\",\" + 0.056*\"vector\" + 0.045*\"assumpt\" + 0.045*\"consist\" + 0.040*\"signific\" + 0.037*\"transact\" + 0.032*\"obtain\" + 0.025*\"reflect\" + 0.024*\"simplifi\" + 0.023*\"system\"\n",
      "2021-02-14 16:48:36,646 : INFO : topic #88 (0.017): 0.347*\"problem\" + 0.107*\"solut\" + 0.054*\"comput\" + 0.038*\"program\" + 0.027*\"linear\" + 0.023*\"mathemat\" + 0.022*\"involv\" + 0.020*\"numer\" + 0.019*\",\" + 0.019*\"present\"\n",
      "2021-02-14 16:48:36,647 : INFO : topic #3 (0.022): 0.495*\"(\" + 0.409*\")\" + 0.049*\"1\" + 0.011*\"complet\" + 0.008*\"ellipt\" + 0.005*\"fourier\" + 0.005*\"part\" + 0.003*\"algorithm\" + 0.003*\"integr\" + 0.002*\"machin\"\n",
      "2021-02-14 16:48:36,647 : INFO : topic #32 (0.029): 0.387*\"algorithm\" + 0.290*\")\" + 0.286*\"(\" + 0.017*\"function\" + 0.008*\"fraction\" + 0.003*\"constraint\" + 0.002*\"continu\" + 0.000*\"elementari\" + 0.000*\"gener\" + 0.000*\"partit\"\n",
      "2021-02-14 16:48:36,647 : INFO : topic diff=0.207836, rho=0.245426\n",
      "2021-02-14 16:48:37,049 : INFO : -6.462 per-word bound, 88.1 perplexity estimate based on a held-out corpus of 1204 documents with 49783 words\n",
      "2021-02-14 16:48:37,050 : INFO : PROGRESS: pass 14, at document #3204/3204\n",
      "2021-02-14 16:48:37,329 : INFO : optimized alpha [0.0120176785, 0.01663695, 0.012660442, 0.02299275, 0.011159648, 0.011710027, 0.0140839275, 0.011347961, 0.011845843, 0.012559547, 0.01335228, 0.014625253, 0.011877604, 0.011541821, 0.012373712, 0.012980903, 0.012527743, 0.013309544, 0.013368811, 0.011156986, 0.011411989, 0.011115966, 0.012545245, 0.012925579, 0.012821304, 0.013538882, 0.012771291, 0.011633371, 0.016141178, 0.007308228, 0.013161289, 0.013484715, 0.029730417, 0.012440859, 0.017131452, 0.012979651, 0.014000218, 0.011023503, 0.014550755, 0.012881655, 0.01326513, 0.014448764, 0.011858273, 0.012472435, 0.012484332, 0.010751822, 0.013158214, 0.011919893, 0.011844785, 0.012865278, 0.016596215, 0.012322277, 0.013461486, 0.011067703, 0.011772828, 0.013061819, 0.015306283, 0.01508497, 0.011901767, 0.013437352, 0.01368669, 0.016355686, 0.01211276, 0.014182761, 0.012543598, 0.014045578, 0.015165703, 0.012855164, 0.012348943, 0.014693147, 0.010839717, 0.01175171, 0.011181256, 0.011930831, 0.012277273, 0.010890719, 0.015929116, 0.010514798, 0.016659753, 0.011575669, 0.01366933, 0.013521706, 0.013295159, 0.012415598, 0.0123769045, 0.013458173, 0.012790856, 0.012561835, 0.017846717, 0.0146212885, 0.011205291, 0.012404947, 0.012295437, 0.014392686, 0.014640778, 0.01164372, 0.012867366, 0.012980452, 0.012880983, 0.010819668]\n",
      "2021-02-14 16:48:37,331 : INFO : merging changes from 1204 documents into a model of 3204 documents\n",
      "2021-02-14 16:48:37,335 : INFO : topic #29 (0.007): 0.001*\"implic\" + 0.001*\"favor\" + 0.001*\"adapt\" + 0.001*\"polygon\" + 0.001*\"stage\" + 0.001*\"situat\" + 0.001*\"respons\" + 0.001*\"industri\" + 0.001*\"regress\" + 0.001*\"drive\"\n",
      "2021-02-14 16:48:37,335 : INFO : topic #77 (0.011): 0.101*\",\" + 0.060*\"vector\" + 0.047*\"consist\" + 0.045*\"assumpt\" + 0.043*\"transact\" + 0.042*\"signific\" + 0.032*\"obtain\" + 0.028*\"reflect\" + 0.026*\"system\" + 0.025*\"simplifi\"\n",
      "2021-02-14 16:48:37,335 : INFO : topic #88 (0.018): 0.361*\"problem\" + 0.111*\"solut\" + 0.052*\"comput\" + 0.037*\"program\" + 0.028*\"linear\" + 0.023*\"involv\" + 0.020*\"mathemat\" + 0.020*\"present\" + 0.019*\",\" + 0.019*\"discuss\"\n",
      "2021-02-14 16:48:37,336 : INFO : topic #3 (0.023): 0.498*\"(\" + 0.410*\")\" + 0.049*\"1\" + 0.010*\"complet\" + 0.006*\"ellipt\" + 0.006*\"fourier\" + 0.005*\"part\" + 0.002*\"algorithm\" + 0.002*\"integr\" + 0.002*\"machin\"\n"
     ]
    },
    {
     "name": "stderr",
     "output_type": "stream",
     "text": [
      "2021-02-14 16:48:37,336 : INFO : topic #32 (0.030): 0.402*\"algorithm\" + 0.281*\")\" + 0.281*\"(\" + 0.016*\"function\" + 0.009*\"fraction\" + 0.002*\"constraint\" + 0.002*\"continu\" + 0.000*\"elementari\" + 0.000*\"gener\" + 0.000*\"partit\"\n",
      "2021-02-14 16:48:37,336 : INFO : topic diff=0.212897, rho=0.245426\n",
      "2021-02-14 16:48:37,340 : INFO : PROGRESS: pass 15, at document #2000/3204\n",
      "2021-02-14 16:48:37,696 : INFO : optimized alpha [0.012033407, 0.01702741, 0.01271928, 0.023439884, 0.011253469, 0.011715653, 0.014205956, 0.011351942, 0.011886145, 0.012656055, 0.013396495, 0.014688869, 0.011916894, 0.011577021, 0.01243294, 0.013064827, 0.012557058, 0.013440116, 0.013515307, 0.011172115, 0.011398361, 0.01110584, 0.012611502, 0.013018106, 0.012833534, 0.013590083, 0.012792925, 0.011655671, 0.01616069, 0.0072741956, 0.013154003, 0.013472893, 0.030787146, 0.01246892, 0.017360508, 0.01302019, 0.014048896, 0.011028777, 0.0146623235, 0.012947171, 0.013314447, 0.014631912, 0.011889737, 0.01261168, 0.0124852825, 0.010731165, 0.013188533, 0.011959816, 0.011866662, 0.012880162, 0.016748616, 0.012419981, 0.013516753, 0.011110264, 0.011786987, 0.013176224, 0.01542546, 0.015190208, 0.011959874, 0.013650496, 0.013825036, 0.016468676, 0.012121385, 0.014339412, 0.01255587, 0.0141064245, 0.015295283, 0.01288218, 0.012483266, 0.014779555, 0.010924396, 0.0117676165, 0.011184933, 0.011941889, 0.0122847855, 0.010972767, 0.016126193, 0.010516653, 0.016843913, 0.011591335, 0.013716259, 0.013548661, 0.013433178, 0.012389808, 0.012401103, 0.013573945, 0.012901075, 0.012709486, 0.018055655, 0.014662093, 0.011244336, 0.012488619, 0.012324705, 0.014480108, 0.014755605, 0.011695324, 0.012923414, 0.013028158, 0.012872643, 0.010809222]\n",
      "2021-02-14 16:48:37,699 : INFO : merging changes from 2000 documents into a model of 3204 documents\n",
      "2021-02-14 16:48:37,703 : INFO : topic #29 (0.007): 0.001*\"implic\" + 0.001*\"favor\" + 0.001*\"adapt\" + 0.001*\"polygon\" + 0.001*\"stage\" + 0.001*\"situat\" + 0.001*\"respons\" + 0.001*\"industri\" + 0.001*\"regress\" + 0.001*\"drive\"\n",
      "2021-02-14 16:48:37,703 : INFO : topic #77 (0.011): 0.100*\",\" + 0.059*\"vector\" + 0.046*\"consist\" + 0.046*\"assumpt\" + 0.041*\"signific\" + 0.037*\"transact\" + 0.031*\"obtain\" + 0.025*\"reflect\" + 0.024*\"simplifi\" + 0.024*\"system\"\n",
      "2021-02-14 16:48:37,704 : INFO : topic #88 (0.018): 0.357*\"problem\" + 0.110*\"solut\" + 0.053*\"comput\" + 0.038*\"program\" + 0.029*\"linear\" + 0.022*\"involv\" + 0.020*\"present\" + 0.020*\"mathemat\" + 0.019*\",\" + 0.019*\"discuss\"\n",
      "2021-02-14 16:48:37,704 : INFO : topic #3 (0.023): 0.497*\"(\" + 0.410*\")\" + 0.049*\"1\" + 0.011*\"complet\" + 0.008*\"ellipt\" + 0.005*\"fourier\" + 0.005*\"part\" + 0.002*\"algorithm\" + 0.002*\"integr\" + 0.002*\"machin\"\n",
      "2021-02-14 16:48:37,705 : INFO : topic #32 (0.031): 0.391*\"algorithm\" + 0.287*\")\" + 0.285*\"(\" + 0.017*\"function\" + 0.008*\"fraction\" + 0.003*\"constraint\" + 0.002*\"continu\" + 0.000*\"elementari\" + 0.000*\"gener\" + 0.000*\"partit\"\n",
      "2021-02-14 16:48:37,705 : INFO : topic diff=0.189876, rho=0.238352\n",
      "2021-02-14 16:48:38,106 : INFO : -6.455 per-word bound, 87.8 perplexity estimate based on a held-out corpus of 1204 documents with 49783 words\n",
      "2021-02-14 16:48:38,106 : INFO : PROGRESS: pass 15, at document #3204/3204\n",
      "2021-02-14 16:48:38,381 : INFO : optimized alpha [0.012142318, 0.017094161, 0.012860591, 0.02412654, 0.0113107525, 0.011836834, 0.014420943, 0.011463901, 0.012006198, 0.012763681, 0.01360203, 0.014941258, 0.012002924, 0.011697799, 0.012547741, 0.013231309, 0.012705628, 0.013574434, 0.0136545915, 0.011262296, 0.011477819, 0.011237938, 0.012767075, 0.013169319, 0.013068453, 0.013779686, 0.012958511, 0.011787187, 0.016464956, 0.007231452, 0.013350211, 0.013679857, 0.03147773, 0.012631963, 0.017738098, 0.013154942, 0.014312441, 0.011141165, 0.014920723, 0.013111199, 0.013505783, 0.014804293, 0.012030313, 0.012744857, 0.012678476, 0.010790984, 0.013373973, 0.012074247, 0.012014076, 0.0130478535, 0.017007258, 0.012562664, 0.013699968, 0.0111586545, 0.011931471, 0.013277163, 0.015669066, 0.015530028, 0.012061199, 0.013683827, 0.013949325, 0.016874462, 0.012271152, 0.014489197, 0.012758459, 0.014358392, 0.01559923, 0.013020779, 0.0125416545, 0.015005819, 0.011043045, 0.011862204, 0.011307636, 0.012080779, 0.01243913, 0.011015091, 0.016293142, 0.010606666, 0.017260738, 0.011709501, 0.01387588, 0.013751575, 0.013612479, 0.012628947, 0.01254496, 0.013763448, 0.013004387, 0.012798539, 0.018535323, 0.014983743, 0.011300129, 0.012624865, 0.012427037, 0.0146787455, 0.015001668, 0.011784609, 0.01304243, 0.013121343, 0.013040356, 0.010895591]\n",
      "2021-02-14 16:48:38,384 : INFO : merging changes from 1204 documents into a model of 3204 documents\n",
      "2021-02-14 16:48:38,387 : INFO : topic #29 (0.007): 0.001*\"implic\" + 0.001*\"favor\" + 0.001*\"adapt\" + 0.001*\"polygon\" + 0.001*\"stage\" + 0.001*\"situat\" + 0.001*\"respons\" + 0.001*\"industri\" + 0.001*\"regress\" + 0.001*\"drive\"\n",
      "2021-02-14 16:48:38,388 : INFO : topic #77 (0.011): 0.100*\",\" + 0.063*\"vector\" + 0.048*\"consist\" + 0.046*\"assumpt\" + 0.043*\"transact\" + 0.043*\"signific\" + 0.032*\"obtain\" + 0.028*\"reflect\" + 0.027*\"system\" + 0.025*\"simplifi\"\n",
      "2021-02-14 16:48:38,388 : INFO : topic #88 (0.019): 0.371*\"problem\" + 0.113*\"solut\" + 0.051*\"comput\" + 0.037*\"program\" + 0.029*\"linear\" + 0.023*\"involv\" + 0.020*\"present\" + 0.020*\"discuss\" + 0.019*\",\" + 0.017*\"mathemat\"\n",
      "2021-02-14 16:48:38,388 : INFO : topic #3 (0.024): 0.500*\"(\" + 0.410*\")\" + 0.049*\"1\" + 0.010*\"complet\" + 0.006*\"ellipt\" + 0.005*\"fourier\" + 0.005*\"part\" + 0.002*\"algorithm\" + 0.002*\"chang\" + 0.002*\"machin\"\n",
      "2021-02-14 16:48:38,389 : INFO : topic #32 (0.031): 0.406*\"algorithm\" + 0.280*\"(\" + 0.279*\")\" + 0.016*\"function\" + 0.009*\"fraction\" + 0.002*\"constraint\" + 0.002*\"continu\" + 0.000*\"elementari\" + 0.000*\"gener\" + 0.000*\"partit\"\n",
      "2021-02-14 16:48:38,389 : INFO : topic diff=0.194830, rho=0.238352\n",
      "2021-02-14 16:48:38,393 : INFO : PROGRESS: pass 16, at document #2000/3204\n",
      "2021-02-14 16:48:38,739 : INFO : optimized alpha [0.012157717, 0.017477877, 0.012919619, 0.024561971, 0.011402959, 0.011840874, 0.014551053, 0.011466431, 0.012045599, 0.012856979, 0.013646347, 0.01500471, 0.012042849, 0.0117363315, 0.012608632, 0.013313541, 0.012739931, 0.01370288, 0.013798859, 0.011275853, 0.011464744, 0.011229152, 0.012836373, 0.013266243, 0.013085809, 0.013832671, 0.012980856, 0.011808877, 0.01648449, 0.0071993293, 0.013339408, 0.0136676375, 0.032552663, 0.012662003, 0.017964134, 0.01319601, 0.014359233, 0.011154089, 0.015024715, 0.013176762, 0.013556786, 0.014986734, 0.0120623475, 0.012885072, 0.012683272, 0.010769958, 0.013406421, 0.012120342, 0.012040854, 0.013065146, 0.017161004, 0.012663014, 0.013753831, 0.011203062, 0.01194508, 0.013391148, 0.015785778, 0.015636241, 0.012116724, 0.013892446, 0.01408383, 0.016992072, 0.0122893425, 0.014641713, 0.012766918, 0.0144206155, 0.015717207, 0.013044012, 0.012675244, 0.015093684, 0.011128909, 0.011881977, 0.011312435, 0.012089974, 0.012450479, 0.01109569, 0.016485186, 0.010611009, 0.0174399, 0.011722029, 0.013924713, 0.013774197, 0.013754742, 0.012605652, 0.012568454, 0.013877274, 0.013114152, 0.0129469, 0.01874733, 0.0150259035, 0.011338512, 0.012708397, 0.012460012, 0.014765822, 0.015121114, 0.011835193, 0.013097255, 0.0131696435, 0.013039439, 0.010886816]\n",
      "2021-02-14 16:48:38,741 : INFO : merging changes from 2000 documents into a model of 3204 documents\n",
      "2021-02-14 16:48:38,744 : INFO : topic #29 (0.007): 0.001*\"implic\" + 0.001*\"favor\" + 0.001*\"adapt\" + 0.001*\"polygon\" + 0.001*\"stage\" + 0.001*\"situat\" + 0.001*\"respons\" + 0.001*\"industri\" + 0.001*\"regress\" + 0.001*\"drive\"\n",
      "2021-02-14 16:48:38,745 : INFO : topic #77 (0.011): 0.099*\",\" + 0.062*\"vector\" + 0.047*\"consist\" + 0.046*\"assumpt\" + 0.041*\"signific\" + 0.038*\"transact\" + 0.031*\"obtain\" + 0.025*\"system\" + 0.025*\"reflect\" + 0.024*\"simplifi\"\n",
      "2021-02-14 16:48:38,745 : INFO : topic #88 (0.019): 0.367*\"problem\" + 0.112*\"solut\" + 0.052*\"comput\" + 0.038*\"program\" + 0.030*\"linear\" + 0.022*\"involv\" + 0.020*\"present\" + 0.019*\"discuss\" + 0.019*\",\" + 0.017*\"mathemat\"\n",
      "2021-02-14 16:48:38,745 : INFO : topic #3 (0.025): 0.498*\"(\" + 0.410*\")\" + 0.049*\"1\" + 0.011*\"complet\" + 0.008*\"ellipt\" + 0.005*\"fourier\" + 0.005*\"part\" + 0.002*\"algorithm\" + 0.002*\"chang\" + 0.001*\"machin\"\n"
     ]
    },
    {
     "name": "stderr",
     "output_type": "stream",
     "text": [
      "2021-02-14 16:48:38,746 : INFO : topic #32 (0.033): 0.394*\"algorithm\" + 0.286*\")\" + 0.285*\"(\" + 0.017*\"function\" + 0.008*\"fraction\" + 0.003*\"constraint\" + 0.002*\"continu\" + 0.000*\"elementari\" + 0.000*\"gener\" + 0.000*\"partit\"\n",
      "2021-02-14 16:48:38,746 : INFO : topic diff=0.174917, rho=0.231857\n",
      "2021-02-14 16:48:39,152 : INFO : -6.448 per-word bound, 87.3 perplexity estimate based on a held-out corpus of 1204 documents with 49783 words\n",
      "2021-02-14 16:48:39,152 : INFO : PROGRESS: pass 16, at document #3204/3204\n",
      "2021-02-14 16:48:39,426 : INFO : optimized alpha [0.012264544, 0.017513126, 0.013070884, 0.025231304, 0.011461127, 0.011971188, 0.014774343, 0.011578425, 0.012163327, 0.012962316, 0.0138536645, 0.015247512, 0.012129427, 0.011868632, 0.01272113, 0.013487388, 0.012883274, 0.013837105, 0.013940611, 0.011370793, 0.011547129, 0.011358795, 0.012984262, 0.013440345, 0.013335148, 0.01401094, 0.013145979, 0.011940251, 0.01678751, 0.0071589164, 0.013526918, 0.01387629, 0.033318244, 0.012824603, 0.018334271, 0.013325565, 0.014619108, 0.011268691, 0.015282509, 0.013335341, 0.013739658, 0.015152854, 0.012202695, 0.013020656, 0.012875773, 0.010830792, 0.013593987, 0.012242021, 0.012185676, 0.013232363, 0.017415673, 0.012800652, 0.013939246, 0.011248305, 0.012096253, 0.013487192, 0.016031705, 0.015993692, 0.012220738, 0.013921329, 0.014202694, 0.017404404, 0.012434028, 0.01478551, 0.012968782, 0.014674732, 0.016026642, 0.01317991, 0.012732, 0.015316392, 0.011254141, 0.0119770095, 0.011430651, 0.01222631, 0.012606772, 0.011141356, 0.01664505, 0.010699249, 0.017840032, 0.011840218, 0.014084095, 0.013968327, 0.013944511, 0.012838829, 0.0127120055, 0.014063715, 0.013222768, 0.013028642, 0.019224344, 0.015346708, 0.011386505, 0.012842059, 0.012557788, 0.014960931, 0.015363716, 0.011924987, 0.013213868, 0.013263415, 0.013204175, 0.010973577]\n",
      "2021-02-14 16:48:39,429 : INFO : merging changes from 1204 documents into a model of 3204 documents\n",
      "2021-02-14 16:48:39,432 : INFO : topic #29 (0.007): 0.001*\"implic\" + 0.001*\"favor\" + 0.001*\"adapt\" + 0.001*\"polygon\" + 0.001*\"stage\" + 0.001*\"situat\" + 0.001*\"respons\" + 0.001*\"industri\" + 0.001*\"regress\" + 0.001*\"drive\"\n",
      "2021-02-14 16:48:39,433 : INFO : topic #77 (0.011): 0.098*\",\" + 0.066*\"vector\" + 0.049*\"consist\" + 0.046*\"assumpt\" + 0.043*\"transact\" + 0.043*\"signific\" + 0.032*\"obtain\" + 0.028*\"reflect\" + 0.028*\"system\" + 0.025*\"simplifi\"\n",
      "2021-02-14 16:48:39,434 : INFO : topic #88 (0.019): 0.380*\"problem\" + 0.115*\"solut\" + 0.050*\"comput\" + 0.037*\"program\" + 0.030*\"linear\" + 0.023*\"involv\" + 0.021*\"present\" + 0.020*\"discuss\" + 0.019*\",\" + 0.016*\"appli\"\n",
      "2021-02-14 16:48:39,434 : INFO : topic #3 (0.025): 0.501*\"(\" + 0.411*\")\" + 0.049*\"1\" + 0.010*\"complet\" + 0.006*\"ellipt\" + 0.005*\"part\" + 0.005*\"fourier\" + 0.002*\"chang\" + 0.001*\"algorithm\" + 0.001*\"machin\"\n",
      "2021-02-14 16:48:39,435 : INFO : topic #32 (0.033): 0.409*\"algorithm\" + 0.280*\"(\" + 0.277*\")\" + 0.016*\"function\" + 0.009*\"fraction\" + 0.002*\"constraint\" + 0.002*\"continu\" + 0.000*\"elementari\" + 0.000*\"gener\" + 0.000*\"partit\"\n",
      "2021-02-14 16:48:39,435 : INFO : topic diff=0.179683, rho=0.231857\n",
      "2021-02-14 16:48:39,439 : INFO : PROGRESS: pass 17, at document #2000/3204\n",
      "2021-02-14 16:48:39,784 : INFO : optimized alpha [0.01228099, 0.017891752, 0.013130133, 0.025695011, 0.011555726, 0.011976333, 0.014905996, 0.0115821725, 0.012203251, 0.013054019, 0.013899788, 0.015307315, 0.012171353, 0.011903581, 0.012783769, 0.013574103, 0.012915288, 0.013963582, 0.01408598, 0.011386689, 0.011538507, 0.011350059, 0.013056538, 0.013537034, 0.013368038, 0.014062598, 0.013169055, 0.01196141, 0.016807204, 0.007128532, 0.0135189025, 0.013866829, 0.034376297, 0.012855252, 0.018557196, 0.013365718, 0.014667499, 0.011281296, 0.015389515, 0.0134010445, 0.013790991, 0.015329537, 0.012238023, 0.013163401, 0.012879924, 0.010809407, 0.013622273, 0.012288564, 0.012211682, 0.013248973, 0.01756262, 0.012902256, 0.0139949145, 0.011294542, 0.012112079, 0.013599335, 0.016145933, 0.016097344, 0.012279442, 0.014127247, 0.014340004, 0.017515004, 0.012454573, 0.014939072, 0.012977931, 0.014735146, 0.016145764, 0.013203992, 0.012865026, 0.015398865, 0.011345133, 0.011999109, 0.01143655, 0.0122379195, 0.012616193, 0.011221893, 0.016832376, 0.01070719, 0.018022208, 0.01185511, 0.014133434, 0.013988424, 0.01409114, 0.012822392, 0.01273479, 0.014178874, 0.013330766, 0.013172016, 0.019437468, 0.015395551, 0.011423003, 0.012925535, 0.012593045, 0.01504779, 0.01548608, 0.0119869495, 0.013267593, 0.0133092925, 0.013206042, 0.010966352]\n",
      "2021-02-14 16:48:39,787 : INFO : merging changes from 2000 documents into a model of 3204 documents\n",
      "2021-02-14 16:48:39,790 : INFO : topic #29 (0.007): 0.001*\"implic\" + 0.001*\"favor\" + 0.001*\"adapt\" + 0.001*\"polygon\" + 0.001*\"stage\" + 0.001*\"situat\" + 0.001*\"respons\" + 0.001*\"industri\" + 0.001*\"regress\" + 0.001*\"drive\"\n",
      "2021-02-14 16:48:39,790 : INFO : topic #77 (0.011): 0.097*\",\" + 0.064*\"vector\" + 0.048*\"consist\" + 0.046*\"assumpt\" + 0.043*\"signific\" + 0.038*\"transact\" + 0.031*\"obtain\" + 0.026*\"system\" + 0.025*\"reflect\" + 0.024*\"simplifi\"\n",
      "2021-02-14 16:48:39,791 : INFO : topic #88 (0.019): 0.375*\"problem\" + 0.115*\"solut\" + 0.051*\"comput\" + 0.038*\"program\" + 0.031*\"linear\" + 0.022*\"involv\" + 0.021*\"present\" + 0.020*\"discuss\" + 0.019*\",\" + 0.016*\"appli\"\n",
      "2021-02-14 16:48:39,791 : INFO : topic #3 (0.026): 0.499*\"(\" + 0.411*\")\" + 0.048*\"1\" + 0.011*\"complet\" + 0.008*\"ellipt\" + 0.005*\"fourier\" + 0.005*\"part\" + 0.002*\"chang\" + 0.001*\"algorithm\" + 0.001*\"machin\"\n",
      "2021-02-14 16:48:39,791 : INFO : topic #32 (0.034): 0.398*\"algorithm\" + 0.284*\"(\" + 0.283*\")\" + 0.017*\"function\" + 0.008*\"fraction\" + 0.003*\"constraint\" + 0.002*\"continu\" + 0.000*\"elementari\" + 0.000*\"gener\" + 0.000*\"partit\"\n",
      "2021-02-14 16:48:39,792 : INFO : topic diff=0.162369, rho=0.225865\n",
      "2021-02-14 16:48:40,190 : INFO : -6.442 per-word bound, 86.9 perplexity estimate based on a held-out corpus of 1204 documents with 49783 words\n",
      "2021-02-14 16:48:40,190 : INFO : PROGRESS: pass 17, at document #3204/3204\n",
      "2021-02-14 16:48:40,464 : INFO : optimized alpha [0.0123858815, 0.017919747, 0.013273843, 0.026379758, 0.01161695, 0.012099826, 0.015123569, 0.01169212, 0.012325744, 0.013157262, 0.014109191, 0.015558033, 0.012253993, 0.012033634, 0.012894101, 0.013745235, 0.013058516, 0.014097872, 0.014232983, 0.011482057, 0.011621562, 0.011488311, 0.013211768, 0.013705804, 0.013645041, 0.014251066, 0.013331461, 0.012090543, 0.017106041, 0.0070902207, 0.013700674, 0.014069449, 0.035166577, 0.013012662, 0.018923406, 0.013495369, 0.014929433, 0.011396066, 0.01564977, 0.013559425, 0.013968311, 0.015492545, 0.012376035, 0.013301479, 0.013064655, 0.010867178, 0.013806937, 0.012403447, 0.01235861, 0.013415897, 0.017819926, 0.013037582, 0.014177468, 0.01134314, 0.012265227, 0.013690689, 0.016379006, 0.016457904, 0.012381487, 0.014154532, 0.01445902, 0.017927652, 0.0125968605, 0.015082805, 0.013174296, 0.014986058, 0.016457923, 0.013332448, 0.012922692, 0.015615237, 0.011464144, 0.012092372, 0.011554807, 0.012371823, 0.01276979, 0.011264407, 0.016988695, 0.010797883, 0.018419465, 0.011975651, 0.014289945, 0.014174172, 0.01428355, 0.013062191, 0.012878255, 0.014362534, 0.013432159, 0.013254265, 0.019926433, 0.015713021, 0.011467895, 0.013056814, 0.012688963, 0.015245174, 0.015728196, 0.012077343, 0.013384646, 0.013401231, 0.013370534, 0.011053548]\n",
      "2021-02-14 16:48:40,467 : INFO : merging changes from 1204 documents into a model of 3204 documents\n",
      "2021-02-14 16:48:40,470 : INFO : topic #29 (0.007): 0.001*\"implic\" + 0.001*\"favor\" + 0.001*\"adapt\" + 0.001*\"polygon\" + 0.001*\"stage\" + 0.001*\"situat\" + 0.001*\"respons\" + 0.001*\"industri\" + 0.001*\"regress\" + 0.001*\"drive\"\n",
      "2021-02-14 16:48:40,470 : INFO : topic #77 (0.011): 0.097*\",\" + 0.067*\"vector\" + 0.049*\"consist\" + 0.046*\"assumpt\" + 0.044*\"signific\" + 0.043*\"transact\" + 0.031*\"obtain\" + 0.029*\"system\" + 0.028*\"reflect\" + 0.025*\"simplifi\"\n",
      "2021-02-14 16:48:40,471 : INFO : topic #88 (0.020): 0.387*\"problem\" + 0.117*\"solut\" + 0.049*\"comput\" + 0.037*\"program\" + 0.032*\"linear\" + 0.022*\"involv\" + 0.021*\"present\" + 0.020*\"discuss\" + 0.019*\",\" + 0.015*\"appli\"\n",
      "2021-02-14 16:48:40,471 : INFO : topic #3 (0.026): 0.502*\"(\" + 0.411*\")\" + 0.049*\"1\" + 0.010*\"complet\" + 0.006*\"ellipt\" + 0.005*\"part\" + 0.005*\"fourier\" + 0.002*\"chang\" + 0.001*\"machin\" + 0.001*\"algorithm\"\n"
     ]
    },
    {
     "name": "stderr",
     "output_type": "stream",
     "text": [
      "2021-02-14 16:48:40,471 : INFO : topic #32 (0.035): 0.413*\"algorithm\" + 0.278*\"(\" + 0.275*\")\" + 0.016*\"function\" + 0.009*\"fraction\" + 0.002*\"constraint\" + 0.001*\"continu\" + 0.000*\"elementari\" + 0.000*\"gener\" + 0.000*\"partit\"\n",
      "2021-02-14 16:48:40,472 : INFO : topic diff=0.166831, rho=0.225865\n",
      "2021-02-14 16:48:40,476 : INFO : PROGRESS: pass 18, at document #2000/3204\n",
      "2021-02-14 16:48:40,819 : INFO : optimized alpha [0.012402036, 0.018297482, 0.013327478, 0.026831018, 0.011714013, 0.0121034095, 0.015260142, 0.011697058, 0.012364847, 0.013243141, 0.014157191, 0.015616047, 0.012293908, 0.012069176, 0.012957058, 0.013831961, 0.013089779, 0.014222518, 0.01438117, 0.011498958, 0.011614603, 0.01148205, 0.013284218, 0.013805414, 0.0136796, 0.014304528, 0.0133538, 0.012113859, 0.017125973, 0.007061415, 0.013693882, 0.014061107, 0.03626763, 0.0130453585, 0.019141296, 0.013536164, 0.014974489, 0.011410885, 0.01575294, 0.013625327, 0.014018492, 0.015668774, 0.012411959, 0.01344253, 0.013072617, 0.010845405, 0.013846736, 0.0124491565, 0.012386637, 0.013430337, 0.017962385, 0.013136236, 0.014230248, 0.011387426, 0.01228178, 0.01380259, 0.016498314, 0.016562618, 0.012441907, 0.014359497, 0.014597446, 0.018043147, 0.012618135, 0.015232578, 0.013185635, 0.015053031, 0.016572835, 0.013357431, 0.013055239, 0.015701104, 0.01155388, 0.012116759, 0.011560501, 0.0123898825, 0.012780166, 0.011346263, 0.017165843, 0.010805717, 0.01860666, 0.01198885, 0.014338166, 0.014194987, 0.014437958, 0.013040744, 0.012898995, 0.01447593, 0.013541421, 0.013398603, 0.020142766, 0.015754571, 0.011502622, 0.013141743, 0.012722109, 0.015330232, 0.015846811, 0.012131603, 0.013437388, 0.013447795, 0.013373505, 0.011050276]\n",
      "2021-02-14 16:48:40,822 : INFO : merging changes from 2000 documents into a model of 3204 documents\n",
      "2021-02-14 16:48:40,825 : INFO : topic #29 (0.007): 0.001*\"implic\" + 0.001*\"favor\" + 0.001*\"adapt\" + 0.001*\"polygon\" + 0.001*\"stage\" + 0.001*\"situat\" + 0.001*\"respons\" + 0.001*\"industri\" + 0.001*\"regress\" + 0.001*\"drive\"\n",
      "2021-02-14 16:48:40,826 : INFO : topic #77 (0.011): 0.095*\",\" + 0.066*\"vector\" + 0.048*\"consist\" + 0.046*\"assumpt\" + 0.043*\"signific\" + 0.038*\"transact\" + 0.031*\"obtain\" + 0.028*\"system\" + 0.025*\"simplifi\" + 0.025*\"reflect\"\n",
      "2021-02-14 16:48:40,826 : INFO : topic #88 (0.020): 0.382*\"problem\" + 0.116*\"solut\" + 0.050*\"comput\" + 0.038*\"program\" + 0.032*\"linear\" + 0.022*\"involv\" + 0.021*\"present\" + 0.020*\"discuss\" + 0.018*\",\" + 0.015*\"appli\"\n",
      "2021-02-14 16:48:40,826 : INFO : topic #3 (0.027): 0.500*\"(\" + 0.411*\")\" + 0.048*\"1\" + 0.011*\"complet\" + 0.008*\"ellipt\" + 0.005*\"fourier\" + 0.005*\"part\" + 0.002*\"chang\" + 0.001*\"machin\" + 0.001*\"algorithm\"\n",
      "2021-02-14 16:48:40,827 : INFO : topic #32 (0.036): 0.402*\"algorithm\" + 0.282*\"(\" + 0.281*\")\" + 0.017*\"function\" + 0.008*\"fraction\" + 0.003*\"constraint\" + 0.002*\"continu\" + 0.000*\"elementari\" + 0.000*\"gener\" + 0.000*\"partit\"\n",
      "2021-02-14 16:48:40,827 : INFO : topic diff=0.151748, rho=0.220316\n",
      "2021-02-14 16:48:41,223 : INFO : -6.436 per-word bound, 86.6 perplexity estimate based on a held-out corpus of 1204 documents with 49783 words\n",
      "2021-02-14 16:48:41,223 : INFO : PROGRESS: pass 18, at document #3204/3204\n",
      "2021-02-14 16:48:41,497 : INFO : optimized alpha [0.012505134, 0.01830797, 0.013476224, 0.027516717, 0.011778249, 0.012222601, 0.0154722, 0.011802995, 0.012483015, 0.013342025, 0.014371454, 0.015860546, 0.012375023, 0.012201612, 0.013070099, 0.014003107, 0.013230635, 0.014354374, 0.014523048, 0.011594831, 0.011700495, 0.011626639, 0.013434672, 0.013971728, 0.013966845, 0.014490164, 0.013516122, 0.012243147, 0.017414613, 0.0070250113, 0.013872826, 0.014258096, 0.037043996, 0.0131979175, 0.019500144, 0.013666006, 0.015233251, 0.011527926, 0.01601016, 0.013783682, 0.014198377, 0.01583174, 0.012556839, 0.013578371, 0.013261886, 0.010900287, 0.014031294, 0.012566684, 0.012535799, 0.013597056, 0.018205957, 0.013276619, 0.014407287, 0.011433052, 0.01243262, 0.013894503, 0.016749121, 0.016938446, 0.012544403, 0.014385264, 0.014719454, 0.018466258, 0.01276511, 0.015376371, 0.013379254, 0.015298164, 0.016887978, 0.013483671, 0.013111432, 0.015923081, 0.01168381, 0.012210663, 0.011678905, 0.012523964, 0.012933645, 0.011387878, 0.017325202, 0.010898827, 0.019004565, 0.012109577, 0.014494733, 0.014375228, 0.014627887, 0.013277556, 0.013044848, 0.014648931, 0.013640716, 0.013478965, 0.020640517, 0.01606889, 0.011544637, 0.013270782, 0.012818615, 0.015524548, 0.01608859, 0.012220429, 0.013542397, 0.013538016, 0.013535341, 0.011138051]\n",
      "2021-02-14 16:48:41,499 : INFO : merging changes from 1204 documents into a model of 3204 documents\n",
      "2021-02-14 16:48:41,502 : INFO : topic #29 (0.007): 0.001*\"implic\" + 0.001*\"favor\" + 0.001*\"adapt\" + 0.001*\"polygon\" + 0.001*\"stage\" + 0.001*\"situat\" + 0.001*\"respons\" + 0.001*\"industri\" + 0.001*\"regress\" + 0.001*\"drive\"\n",
      "2021-02-14 16:48:41,503 : INFO : topic #45 (0.011): 0.228*\"$\" + 0.199*\"algorithm\" + 0.178*\"))\" + 0.169*\"(\" + 0.071*\"famili\" + 0.071*\"tool\" + 0.024*\"modifi\" + 0.011*\"numer\" + 0.010*\"report\" + 0.008*\"d1\"\n",
      "2021-02-14 16:48:41,503 : INFO : topic #88 (0.021): 0.394*\"problem\" + 0.118*\"solut\" + 0.048*\"comput\" + 0.038*\"program\" + 0.033*\"linear\" + 0.022*\"present\" + 0.022*\"involv\" + 0.021*\"discuss\" + 0.018*\",\" + 0.015*\"appli\"\n",
      "2021-02-14 16:48:41,504 : INFO : topic #3 (0.028): 0.503*\"(\" + 0.411*\")\" + 0.049*\"1\" + 0.010*\"complet\" + 0.006*\"ellipt\" + 0.005*\"part\" + 0.005*\"fourier\" + 0.001*\"chang\" + 0.001*\"machin\" + 0.001*\"algorithm\"\n",
      "2021-02-14 16:48:41,504 : INFO : topic #32 (0.037): 0.416*\"algorithm\" + 0.277*\"(\" + 0.273*\")\" + 0.016*\"function\" + 0.008*\"fraction\" + 0.002*\"constraint\" + 0.001*\"continu\" + 0.000*\"elementari\" + 0.000*\"gener\" + 0.000*\"partit\"\n",
      "2021-02-14 16:48:41,504 : INFO : topic diff=0.155901, rho=0.220316\n",
      "2021-02-14 16:48:41,508 : INFO : PROGRESS: pass 19, at document #2000/3204\n",
      "2021-02-14 16:48:41,849 : INFO : optimized alpha [0.012521004, 0.018682841, 0.013528767, 0.027984656, 0.011876538, 0.0122260265, 0.015601774, 0.011807818, 0.012524037, 0.013426584, 0.014419741, 0.015915189, 0.012412951, 0.012237741, 0.013133442, 0.014086883, 0.0132625615, 0.01447886, 0.014667917, 0.011610165, 0.011698882, 0.011620262, 0.013505851, 0.014069825, 0.014013595, 0.014543975, 0.013539211, 0.0122686, 0.017431041, 0.006997635, 0.013865722, 0.014249358, 0.03814786, 0.0132283885, 0.019708704, 0.013705952, 0.015275084, 0.011543632, 0.01611654, 0.013848311, 0.014250477, 0.016005844, 0.012591964, 0.0137148015, 0.013266348, 0.010880526, 0.014068524, 0.012621065, 0.01256038, 0.013612431, 0.018360233, 0.013381003, 0.014463657, 0.011477936, 0.012447314, 0.0140063, 0.016864443, 0.01704435, 0.012606635, 0.01458797, 0.014852958, 0.018586675, 0.012785771, 0.015525807, 0.0133884605, 0.015371636, 0.017005978, 0.013511034, 0.013242228, 0.016003791, 0.011779994, 0.012233391, 0.011684362, 0.01253757, 0.012943527, 0.011468568, 0.017505547, 0.010910044, 0.019186959, 0.012121115, 0.014538802, 0.014395267, 0.014779117, 0.0132598905, 0.013066421, 0.014763905, 0.013749891, 0.013622998, 0.02085814, 0.016111994, 0.01157768, 0.013355776, 0.0128512895, 0.01560791, 0.016208664, 0.01227785, 0.013597126, 0.013585269, 0.013542382, 0.011134932]\n",
      "2021-02-14 16:48:41,852 : INFO : merging changes from 2000 documents into a model of 3204 documents\n",
      "2021-02-14 16:48:41,855 : INFO : topic #29 (0.007): 0.001*\"implic\" + 0.001*\"favor\" + 0.001*\"adapt\" + 0.001*\"polygon\" + 0.001*\"stage\" + 0.001*\"situat\" + 0.001*\"respons\" + 0.001*\"industri\" + 0.001*\"regress\" + 0.001*\"drive\"\n",
      "2021-02-14 16:48:41,855 : INFO : topic #77 (0.011): 0.094*\",\" + 0.067*\"vector\" + 0.049*\"consist\" + 0.046*\"assumpt\" + 0.044*\"signific\" + 0.038*\"transact\" + 0.031*\"obtain\" + 0.028*\"system\" + 0.025*\"simplifi\" + 0.025*\"reflect\"\n",
      "2021-02-14 16:48:41,856 : INFO : topic #88 (0.021): 0.388*\"problem\" + 0.117*\"solut\" + 0.049*\"comput\" + 0.039*\"program\" + 0.034*\"linear\" + 0.022*\"present\" + 0.021*\"involv\" + 0.020*\"discuss\" + 0.018*\",\" + 0.015*\"appli\"\n",
      "2021-02-14 16:48:41,856 : INFO : topic #3 (0.028): 0.502*\"(\" + 0.411*\")\" + 0.048*\"1\" + 0.011*\"complet\" + 0.008*\"ellipt\" + 0.005*\"part\" + 0.005*\"fourier\" + 0.001*\"chang\" + 0.001*\"machin\" + 0.001*\"algorithm\"\n",
      "2021-02-14 16:48:41,857 : INFO : topic #32 (0.038): 0.405*\"algorithm\" + 0.281*\"(\" + 0.279*\")\" + 0.017*\"function\" + 0.008*\"fraction\" + 0.003*\"constraint\" + 0.001*\"continu\" + 0.000*\"elementari\" + 0.000*\"gener\" + 0.000*\"partit\"\n"
     ]
    },
    {
     "name": "stderr",
     "output_type": "stream",
     "text": [
      "2021-02-14 16:48:41,857 : INFO : topic diff=0.142531, rho=0.215156\n",
      "2021-02-14 16:48:42,266 : INFO : -6.431 per-word bound, 86.3 perplexity estimate based on a held-out corpus of 1204 documents with 49783 words\n",
      "2021-02-14 16:48:42,266 : INFO : PROGRESS: pass 19, at document #3204/3204\n",
      "2021-02-14 16:48:42,541 : INFO : optimized alpha [0.012624699, 0.018679753, 0.013672837, 0.028666051, 0.011941612, 0.012349929, 0.015816882, 0.011912032, 0.012642595, 0.013521295, 0.014618449, 0.016168028, 0.012499334, 0.012376997, 0.013239897, 0.014255643, 0.013398854, 0.014608453, 0.014809919, 0.011698155, 0.011785488, 0.011762773, 0.013656479, 0.014241295, 0.014324183, 0.014724323, 0.013699143, 0.012398189, 0.017719148, 0.0069629746, 0.01404448, 0.014448626, 0.038913056, 0.013378705, 0.020053064, 0.013831215, 0.0155308535, 0.011658955, 0.016373709, 0.014009251, 0.0144201135, 0.016166054, 0.012736967, 0.013850946, 0.013455513, 0.010936579, 0.014265984, 0.012734499, 0.012709615, 0.013774277, 0.018600484, 0.013516937, 0.014646106, 0.0115227485, 0.012593811, 0.014096362, 0.017121416, 0.0174211, 0.0127096735, 0.014617466, 0.014970056, 0.019027535, 0.01292124, 0.015669754, 0.013586758, 0.01562506, 0.017315311, 0.0136352135, 0.013297043, 0.016217075, 0.011914641, 0.012327913, 0.01180092, 0.01267184, 0.013097015, 0.011511383, 0.017661672, 0.011003636, 0.019599121, 0.012244347, 0.014690289, 0.014575389, 0.014969341, 0.013503571, 0.013210078, 0.01493709, 0.013852292, 0.0136990445, 0.021365328, 0.016423374, 0.011616943, 0.013480368, 0.012946206, 0.015799316, 0.016447537, 0.012367423, 0.013707733, 0.013673815, 0.013706744, 0.011225265]\n",
      "2021-02-14 16:48:42,544 : INFO : merging changes from 1204 documents into a model of 3204 documents\n",
      "2021-02-14 16:48:42,547 : INFO : topic #29 (0.007): 0.001*\"implic\" + 0.001*\"favor\" + 0.001*\"adapt\" + 0.001*\"polygon\" + 0.001*\"stage\" + 0.001*\"situat\" + 0.001*\"respons\" + 0.001*\"industri\" + 0.001*\"regress\" + 0.001*\"drive\"\n",
      "2021-02-14 16:48:42,547 : INFO : topic #45 (0.011): 0.228*\"$\" + 0.198*\"algorithm\" + 0.178*\"))\" + 0.170*\"(\" + 0.072*\"famili\" + 0.071*\"tool\" + 0.024*\"modifi\" + 0.010*\"numer\" + 0.008*\"report\" + 0.008*\"d1\"\n",
      "2021-02-14 16:48:42,548 : INFO : topic #88 (0.021): 0.398*\"problem\" + 0.119*\"solut\" + 0.047*\"comput\" + 0.038*\"program\" + 0.034*\"linear\" + 0.022*\"present\" + 0.021*\"involv\" + 0.021*\"discuss\" + 0.018*\",\" + 0.015*\"appli\"\n",
      "2021-02-14 16:48:42,548 : INFO : topic #3 (0.029): 0.504*\"(\" + 0.411*\")\" + 0.049*\"1\" + 0.010*\"complet\" + 0.006*\"ellipt\" + 0.005*\"part\" + 0.005*\"fourier\" + 0.001*\"chang\" + 0.001*\"machin\" + 0.001*\"algorithm\"\n",
      "2021-02-14 16:48:42,549 : INFO : topic #32 (0.039): 0.417*\"algorithm\" + 0.277*\"(\" + 0.273*\")\" + 0.016*\"function\" + 0.008*\"fraction\" + 0.002*\"constraint\" + 0.001*\"continu\" + 0.000*\"elementari\" + 0.000*\"gener\" + 0.000*\"partit\"\n",
      "2021-02-14 16:48:42,549 : INFO : topic diff=0.146567, rho=0.215156\n"
     ]
    },
    {
     "data": {
      "text/plain": [
       "[(0, 0.005158832),\n",
       " (1, 0.0076331096),\n",
       " (2, 0.0055871326),\n",
       " (3, 0.011713811),\n",
       " (4, 0.004879702),\n",
       " (5, 0.0050465525),\n",
       " (6, 0.0064632543),\n",
       " (7, 0.0048676147),\n",
       " (8, 0.005166145),\n",
       " (9, 0.005525208),\n",
       " (10, 0.0059735384),\n",
       " (11, 0.006606743),\n",
       " (12, 0.0051076044),\n",
       " (13, 0.0050576134),\n",
       " (14, 0.0054102205),\n",
       " (15, 0.005825285),\n",
       " (16, 0.005475175),\n",
       " (17, 0.0059694536),\n",
       " (18, 0.0060517783),\n",
       " (19, 0.004780218),\n",
       " (20, 0.004815905),\n",
       " (21, 0.004806623),\n",
       " (22, 0.0055804485),\n",
       " (23, 0.0058194217),\n",
       " (24, 0.005853292),\n",
       " (25, 0.0060168016),\n",
       " (26, 0.0055978824),\n",
       " (27, 0.0050662733),\n",
       " (28, 0.007240577),\n",
       " (29, 0.002845281),\n",
       " (30, 0.0057389974),\n",
       " (31, 0.0059041437),\n",
       " (32, 0.015901046),\n",
       " (33, 0.0054669417),\n",
       " (34, 0.008194285),\n",
       " (35, 0.0056518507),\n",
       " (36, 0.0063463743),\n",
       " (37, 0.0047642),\n",
       " (38, 0.0066907904),\n",
       " (39, 0.005724602),\n",
       " (40, 0.0058924924),\n",
       " (41, 0.006605936),\n",
       " (42, 0.005204708),\n",
       " (43, 0.0056599136),\n",
       " (44, 0.005498328),\n",
       " (45, 0.004469015),\n",
       " (46, 0.0058295107),\n",
       " (47, 0.0052036997),\n",
       " (48, 0.005193531),\n",
       " (49, 0.005628584),\n",
       " (50, 0.0076007177),\n",
       " (51, 0.0055234274),\n",
       " (52, 0.00598484),\n",
       " (53, 0.004708542),\n",
       " (54, 0.0051462105),\n",
       " (55, 0.0057601975),\n",
       " (56, 0.0069963257),\n",
       " (57, 0.007118786),\n",
       " (58, 0.0051935553),\n",
       " (59, 0.005973137),\n",
       " (60, 0.0061172154),\n",
       " (61, 0.0077752233),\n",
       " (62, 0.0052800076),\n",
       " (63, 0.0064031333),\n",
       " (64, 0.005551958),\n",
       " (65, 0.0063848696),\n",
       " (66, 0.0070755575),\n",
       " (67, 0.005571759),\n",
       " (68, 0.005433572),\n",
       " (69, 0.0066267853),\n",
       " (70, 0.0048686806),\n",
       " (71, 0.0050375564),\n",
       " (72, 0.004822211),\n",
       " (73, 0.0051780953),\n",
       " (74, 0.0053518345),\n",
       " (75, 0.0047038975),\n",
       " (76, 0.007217091),\n",
       " (77, 0.004496417),\n",
       " (78, 0.008008791),\n",
       " (79, 0.0050034085),\n",
       " (80, 0.0060028946),\n",
       " (81, 0.005955943),\n",
       " (82, 0.0061169234),\n",
       " (83, 0.0055179656),\n",
       " (84, 0.0053980355),\n",
       " (85, 0.4147307),\n",
       " (86, 0.0056604636),\n",
       " (87, 0.005597842),\n",
       " (88, 0.008730516),\n",
       " (89, 0.0067110853),\n",
       " (90, 0.0047470327),\n",
       " (91, 0.0055084843),\n",
       " (92, 0.0052902093),\n",
       " (93, 0.006456076),\n",
       " (94, 0.0067209587),\n",
       " (95, 0.0050537013),\n",
       " (96, 0.005601392),\n",
       " (97, 0.005587532),\n",
       " (98, 0.005600988),\n",
       " (99, 0.004586981)]"
      ]
     },
     "execution_count": 88,
     "metadata": {},
     "output_type": "execute_result"
    }
   ],
   "source": [
    "##### Function check\n",
    "lda = LdaRetrievalModel(doc_repr_2)\n",
    "lda.train_model()\n",
    "\n",
    "# you can now get an LDA vector for a given query in the following way:\n",
    "lda.vectorize_query(\"report\")\n",
    "##### "
   ]
  },
  {
   "cell_type": "markdown",
   "metadata": {
    "deletable": false,
    "editable": false,
    "nbgrader": {
     "cell_type": "markdown",
     "checksum": "32d83b6ea79ca3ddb789a7f8805a1b25",
     "grade": false,
     "grade_id": "cell-0e24b727d5908c0e",
     "locked": true,
     "points": 5,
     "schema_version": 3,
     "solution": false,
     "task": true
    }
   },
   "source": [
    "\\#### Please do not change this. This cell is used for grading."
   ]
  },
  {
   "cell_type": "markdown",
   "metadata": {
    "deletable": false,
    "editable": false,
    "nbgrader": {
     "cell_type": "markdown",
     "checksum": "114a934f0b9ce696e6cf09d3b8da6a3d",
     "grade": false,
     "grade_id": "cell-b1bffcb970b18aeb",
     "locked": true,
     "schema_version": 3,
     "solution": false,
     "task": false
    }
   },
   "source": [
    "---\n",
    "Now we can use the `DenseRetrievalModel` class to obtain an LDA search function.\n",
    "You can test your LDA model in the following cell: Try finding queries which are lexically different to documents, but semantically similar - does LDA work well for these queries?!"
   ]
  },
  {
   "cell_type": "code",
   "execution_count": 89,
   "metadata": {},
   "outputs": [
    {
     "data": {
      "application/vnd.jupyter.widget-view+json": {
       "model_id": "48828d5f91124ed6a3a670a4e39f9b02",
       "version_major": 2,
       "version_minor": 0
      },
      "text/plain": [
       "Text(value='', description='Search Bar')"
      ]
     },
     "metadata": {},
     "output_type": "display_data"
    }
   ],
   "source": [
    "drm_lda = DenseRetrievalRanker(lda, jenson_shannon_sim)\n",
    "\n",
    "# test your LDA model\n",
    "search_fn = drm_lda.search\n",
    "\n",
    "text = widgets.Text(description=\"Search Bar\", width=200)\n",
    "display(text)\n",
    "\n",
    "\n",
    "text.on_submit(handle_submit_2)"
   ]
  },
  {
   "cell_type": "markdown",
   "metadata": {
    "deletable": false,
    "editable": false,
    "nbgrader": {
     "cell_type": "markdown",
     "checksum": "9d7f15863b655119b45f4d89354e5661",
     "grade": false,
     "grade_id": "cell-190cd0854b2791cc",
     "locked": true,
     "schema_version": 3,
     "solution": false,
     "task": false
    }
   },
   "source": [
    "## Section 8: Word2Vec/Doc2Vec (20 points) <a class=\"anchor\" id=\"2vec\"></a>\n",
    "\n",
    "[Back to Part 2](#part2)\n",
    "\n",
    "We will implement two other methods here, the Word2Vec model and the Doc2Vec model, also using `gensim`. Word2Vec creates representations of words, not documents, so the word level vectors need to be aggregated to obtain a representation for the document. Here, we will simply take the mean of the vectors. \n",
    "\n",
    "\n",
    "A drawback of these models is that they need a lot of training data. Our dataset is tiny, so in addition to using a model trained on the data, we will also use a pre-trained model for Word2Vec (this will be automatically downloaded).     \n",
    "\n",
    "*Note*:\n",
    "1. The code in vectorize_documents / vectorize_query should return gensim-like vectors i.e `[(dim, val), .. (dim, val)]`. \n",
    "2. For Word2Vec: You should also handle the following two cases: (a) A word in the query is not present in the vocabulary of the model and (b) none of the words in the query are present in the model - you can return 0 scores for all documents in this case. For either of these, you can check if a `word` is present in the vocab by using `word in self.model`\n"
   ]
  },
  {
   "cell_type": "code",
   "execution_count": 90,
   "metadata": {
    "deletable": false,
    "nbgrader": {
     "cell_type": "code",
     "checksum": "83ab733608ed14c29c09b36b4e1b6daa",
     "grade": false,
     "grade_id": "cell-2b73759f9baf688f",
     "locked": false,
     "schema_version": 3,
     "solution": true,
     "task": false
    }
   },
   "outputs": [
    {
     "name": "stderr",
     "output_type": "stream",
     "text": [
      "2021-02-14 16:48:43,694 : INFO : adding document #0 to Dictionary(0 unique tokens: [])\n",
      "2021-02-14 16:48:43,777 : INFO : built Dictionary(5937 unique tokens: ['-', 'algebra', 'intern', 'languag', 'preliminari']...) from 3204 documents (total 115970 corpus positions)\n",
      "2021-02-14 16:48:43,781 : INFO : discarding 4740 tokens: [('repeat', 8), ('glossari', 7), ('inspect', 8), ('uncol', 2), ('rung', 9), ('secant', 2), ('.', 1603), ('acceler', 6), ('diverg', 3), ('induc', 9)]...\n",
      "2021-02-14 16:48:43,781 : INFO : keeping 1197 tokens which were in no less than 10 and no more than 1602 (=50.0%) documents\n",
      "2021-02-14 16:48:43,783 : INFO : resulting dictionary: Dictionary(1197 unique tokens: ['-', 'algebra', 'intern', 'languag', 'preliminari']...)\n",
      "2021-02-14 16:48:43,831 : INFO : collecting all words and their counts\n",
      "2021-02-14 16:48:43,832 : INFO : PROGRESS: at sentence #0, processed 0 words, keeping 0 word types\n",
      "2021-02-14 16:48:43,845 : INFO : collected 5937 word types from a corpus of 115970 raw words and 3204 sentences\n",
      "2021-02-14 16:48:43,845 : INFO : Loading a fresh vocabulary\n",
      "2021-02-14 16:48:43,849 : INFO : effective_min_count=5 retains 2069 unique words (34% of original 5937, drops 3868)\n",
      "2021-02-14 16:48:43,849 : INFO : effective_min_count=5 leaves 109262 word corpus (94% of original 115970, drops 6708)\n",
      "2021-02-14 16:48:43,854 : INFO : deleting the raw counts dictionary of 5937 items\n",
      "2021-02-14 16:48:43,855 : INFO : sample=0.001 downsamples 44 most-common words\n",
      "2021-02-14 16:48:43,856 : INFO : downsampling leaves estimated 84994 word corpus (77.8% of prior 109262)\n",
      "2021-02-14 16:48:43,858 : INFO : estimated required memory for 2069 words and 100 dimensions: 2689700 bytes\n",
      "2021-02-14 16:48:43,859 : INFO : resetting layer weights\n",
      "2021-02-14 16:48:44,159 : INFO : training model with 3 workers on 2069 vocabulary and 100 features, using sg=0 hs=0 sample=0.001 negative=5 window=5\n",
      "2021-02-14 16:48:44,197 : INFO : worker thread finished; awaiting finish of 2 more threads\n",
      "2021-02-14 16:48:44,199 : INFO : worker thread finished; awaiting finish of 1 more threads\n",
      "2021-02-14 16:48:44,200 : INFO : worker thread finished; awaiting finish of 0 more threads\n",
      "2021-02-14 16:48:44,200 : INFO : EPOCH - 1 : training on 115970 raw words (84905 effective words) took 0.0s, 2292494 effective words/s\n",
      "2021-02-14 16:48:44,238 : INFO : worker thread finished; awaiting finish of 2 more threads\n",
      "2021-02-14 16:48:44,240 : INFO : worker thread finished; awaiting finish of 1 more threads\n",
      "2021-02-14 16:48:44,241 : INFO : worker thread finished; awaiting finish of 0 more threads\n",
      "2021-02-14 16:48:44,241 : INFO : EPOCH - 2 : training on 115970 raw words (84984 effective words) took 0.0s, 2314400 effective words/s\n",
      "2021-02-14 16:48:44,281 : INFO : worker thread finished; awaiting finish of 2 more threads\n",
      "2021-02-14 16:48:44,283 : INFO : worker thread finished; awaiting finish of 1 more threads\n",
      "2021-02-14 16:48:44,284 : INFO : worker thread finished; awaiting finish of 0 more threads\n",
      "2021-02-14 16:48:44,285 : INFO : EPOCH - 3 : training on 115970 raw words (84866 effective words) took 0.0s, 2045890 effective words/s\n",
      "2021-02-14 16:48:44,324 : INFO : worker thread finished; awaiting finish of 2 more threads\n",
      "2021-02-14 16:48:44,325 : INFO : worker thread finished; awaiting finish of 1 more threads\n",
      "2021-02-14 16:48:44,326 : INFO : worker thread finished; awaiting finish of 0 more threads\n",
      "2021-02-14 16:48:44,326 : INFO : EPOCH - 4 : training on 115970 raw words (85022 effective words) took 0.0s, 2166396 effective words/s\n",
      "2021-02-14 16:48:44,369 : INFO : worker thread finished; awaiting finish of 2 more threads\n",
      "2021-02-14 16:48:44,370 : INFO : worker thread finished; awaiting finish of 1 more threads\n",
      "2021-02-14 16:48:44,371 : INFO : worker thread finished; awaiting finish of 0 more threads\n",
      "2021-02-14 16:48:44,371 : INFO : EPOCH - 5 : training on 115970 raw words (85021 effective words) took 0.0s, 1977687 effective words/s\n",
      "2021-02-14 16:48:44,372 : INFO : training on a 579850 raw words (424798 effective words) took 0.2s, 2003300 effective words/s\n",
      "<ipython-input-90-58fe68e8332b>:41: DeprecationWarning: Call to deprecated `__contains__` (Method will be removed in 4.0.0, use self.wv.__contains__() instead).\n",
      "  if token in self.model:\n",
      "<ipython-input-90-58fe68e8332b>:42: DeprecationWarning: Call to deprecated `__getitem__` (Method will be removed in 4.0.0, use self.wv.__getitem__() instead).\n",
      "  vector += self.model[token]\n"
     ]
    },
    {
     "data": {
      "text/plain": [
       "[(1, 0.5186378359794617),\n",
       " (2, 0.4106886684894562),\n",
       " (3, -0.28466159105300903),\n",
       " (4, 0.16464239358901978),\n",
       " (5, -0.7143939137458801),\n",
       " (6, -0.3429802358150482),\n",
       " (7, 0.001524992985650897),\n",
       " (8, 0.3702363967895508),\n",
       " (9, 0.3202510476112366),\n",
       " (10, 0.524116575717926),\n",
       " (11, -0.2719111442565918),\n",
       " (12, 0.025970863178372383),\n",
       " (13, 0.06032619625329971),\n",
       " (14, -0.05306322127580643),\n",
       " (15, -0.07226842641830444),\n",
       " (16, 0.004693465773016214),\n",
       " (17, -0.13017289340496063),\n",
       " (18, 0.3717740476131439),\n",
       " (19, 0.33895403146743774),\n",
       " (20, -0.23581135272979736),\n",
       " (21, -0.016321903094649315),\n",
       " (22, -0.10351818799972534),\n",
       " (23, -0.24264360964298248),\n",
       " (24, -0.1955231875181198),\n",
       " (25, -0.2334461212158203),\n",
       " (26, -0.42841416597366333),\n",
       " (27, -0.4016002416610718),\n",
       " (28, -0.09704328328371048),\n",
       " (29, 0.23361480236053467),\n",
       " (30, -0.16590815782546997),\n",
       " (31, -0.4380455017089844),\n",
       " (32, -0.5029312968254089),\n",
       " (33, -0.05854091793298721),\n",
       " (34, 0.30974021553993225),\n",
       " (35, 0.0981430858373642),\n",
       " (36, 0.41350439190864563),\n",
       " (37, 0.38055193424224854),\n",
       " (38, -0.08140260726213455),\n",
       " (39, 0.5827594995498657),\n",
       " (40, 0.09839551895856857),\n",
       " (41, 0.5341113209724426),\n",
       " (42, -0.18922053277492523),\n",
       " (43, 0.5021140575408936),\n",
       " (44, -0.3478686809539795),\n",
       " (45, -0.026209628209471703),\n",
       " (46, -0.29998642206192017),\n",
       " (47, 0.38345566391944885),\n",
       " (48, 0.15268610417842865),\n",
       " (49, -0.12247417122125626),\n",
       " (50, -0.3216470777988434),\n",
       " (51, 0.1020144671201706),\n",
       " (52, 0.28066039085388184),\n",
       " (53, -0.05543185770511627),\n",
       " (54, -0.005990475416183472),\n",
       " (55, 0.010370131582021713),\n",
       " (56, -0.23009604215621948),\n",
       " (57, 0.0743870809674263),\n",
       " (58, 0.25492554903030396),\n",
       " (59, -0.42415574193000793),\n",
       " (60, 0.06751848757266998),\n",
       " (61, -0.4377646744251251),\n",
       " (62, -0.5790557265281677),\n",
       " (63, 0.48298099637031555),\n",
       " (64, -0.5444747805595398),\n",
       " (65, 0.07916384935379028),\n",
       " (66, -0.06129520758986473),\n",
       " (67, 0.2712899446487427),\n",
       " (68, 0.023730190470814705),\n",
       " (69, -0.14751900732517242),\n",
       " (70, 0.1057656928896904),\n",
       " (71, -0.18044045567512512),\n",
       " (72, -0.3572118580341339),\n",
       " (73, 0.1232648566365242),\n",
       " (74, -0.3230573832988739),\n",
       " (75, -0.26462414860725403),\n",
       " (76, 0.07776497304439545),\n",
       " (77, 0.4397912621498108),\n",
       " (78, -0.1614406406879425),\n",
       " (79, 0.029884077608585358),\n",
       " (80, -0.2881820499897003),\n",
       " (81, 0.04350306838750839),\n",
       " (82, -0.24525003135204315),\n",
       " (83, -0.41474097967147827),\n",
       " (84, 0.19859802722930908),\n",
       " (85, -0.0011317316675558686),\n",
       " (86, -0.3479107916355133),\n",
       " (87, 0.3098145127296448),\n",
       " (88, 0.1060609370470047),\n",
       " (89, 0.2770281136035919),\n",
       " (90, -0.20460902154445648),\n",
       " (91, -0.23291580379009247),\n",
       " (92, 0.08795575797557831),\n",
       " (93, -0.3994731307029724),\n",
       " (94, -0.3590790331363678),\n",
       " (95, -0.4720408618450165),\n",
       " (96, -0.09613339602947235),\n",
       " (97, -0.03391819819808006),\n",
       " (98, 0.1486186683177948),\n",
       " (99, -0.05533445253968239),\n",
       " (100, 0.28039875626564026)]"
      ]
     },
     "execution_count": 90,
     "metadata": {},
     "output_type": "execute_result"
    }
   ],
   "source": [
    "class W2VRetrievalModel(VectorSpaceRetrievalModel):\n",
    "    def __init__(self, doc_repr):\n",
    "        super().__init__(doc_repr)\n",
    "        \n",
    "        # the dimensionality of the vectors\n",
    "        self.size = 100 \n",
    "        self.min_count = 1\n",
    "    \n",
    "    def train_model(self):\n",
    "        \"\"\"\n",
    "        Trains the W2V model\n",
    "        \"\"\"\n",
    "        # YOUR CODE HERE\n",
    "        self.model = Word2Vec(self.documents)\n",
    "        \n",
    "    def vectorize_documents(self):\n",
    "        \"\"\"\n",
    "            Returns a doc_id -> vector dictionary\n",
    "        \"\"\"\n",
    "        \n",
    "        # YOUR CODE HERE\n",
    "        doc_dict = {}\n",
    "        for doc_id, content in self.doc_repr:\n",
    "            doc_dict[doc_id] = np.zeros(self.size)\n",
    "            for token in content:\n",
    "                if token in self.model:\n",
    "                    doc_dict[doc_id] += self.model[token]\n",
    "            values = list(doc_dict[doc_id] / len(content))\n",
    "            doc_dict[doc_id] = [(dim+1, values[dim]) for dim in range(len(values))]\n",
    "\n",
    "        return doc_dict\n",
    "        \n",
    "    def vectorize_query(self, query):\n",
    "        \"\"\"\n",
    "        Vectorizes the query using the W2V model\n",
    "        \"\"\"\n",
    "        query = process_text(query, **config_2)\n",
    "        # YOUR CODE HERE\n",
    "        vector = np.zeros(self.size)\n",
    "        for token in query:\n",
    "            if token in self.model:\n",
    "                vector += self.model[token]\n",
    "        vector = vector / len(query)\n",
    "        return [(dim+1, vector[dim]) for dim in range(len(vector))]\n",
    "    \n",
    "    \n",
    "class W2VPretrainedRetrievalModel(W2VRetrievalModel):\n",
    "    def __init__(self, doc_repr):\n",
    "        super().__init__(doc_repr)\n",
    "        self.model_name = \"word2vec-google-news-300\"\n",
    "        self.size = 300\n",
    "    \n",
    "    def train_model(self):\n",
    "        \"\"\"\n",
    "        Loads the pretrained model\n",
    "        \"\"\"\n",
    "        self.model = g_downloader.load(self.model_name)\n",
    "\n",
    "w2v = W2VRetrievalModel(doc_repr_2)\n",
    "w2v.train_model()\n",
    "\n",
    "# you can now get a W2V vector for a given query in the following way:\n",
    "w2v.vectorize_query(\"report\")"
   ]
  },
  {
   "cell_type": "code",
   "execution_count": 91,
   "metadata": {
    "deletable": false,
    "editable": false,
    "nbgrader": {
     "cell_type": "code",
     "checksum": "f92b5c5a8c6c4b80652b94223209ab0b",
     "grade": true,
     "grade_id": "cell-b31c0f8d214b8bdf",
     "locked": true,
     "points": 0,
     "schema_version": 3,
     "solution": false,
     "task": false
    }
   },
   "outputs": [
    {
     "name": "stderr",
     "output_type": "stream",
     "text": [
      "<ipython-input-90-58fe68e8332b>:41: DeprecationWarning: Call to deprecated `__contains__` (Method will be removed in 4.0.0, use self.wv.__contains__() instead).\n",
      "  if token in self.model:\n",
      "<ipython-input-90-58fe68e8332b>:42: DeprecationWarning: Call to deprecated `__getitem__` (Method will be removed in 4.0.0, use self.wv.__getitem__() instead).\n",
      "  vector += self.model[token]\n"
     ]
    }
   ],
   "source": [
    "assert len(w2v.vectorize_query(\"report\")) == 100\n",
    "assert len(w2v.vectorize_query(\"this is a sentence that is not mellifluous\")) == 100\n"
   ]
  },
  {
   "cell_type": "markdown",
   "metadata": {
    "deletable": false,
    "editable": false,
    "nbgrader": {
     "cell_type": "markdown",
     "checksum": "8dfaabebcb06f308a7ca61fdc5d369e7",
     "grade": false,
     "grade_id": "cell-c2614fa067386384",
     "locked": true,
     "points": 8,
     "schema_version": 3,
     "solution": false,
     "task": true
    }
   },
   "source": [
    "\\#### Please do not change this. This cell is used for grading."
   ]
  },
  {
   "cell_type": "code",
   "execution_count": 92,
   "metadata": {},
   "outputs": [
    {
     "name": "stderr",
     "output_type": "stream",
     "text": [
      "2021-02-14 16:48:44,389 : INFO : adding document #0 to Dictionary(0 unique tokens: [])\n",
      "2021-02-14 16:48:44,471 : INFO : built Dictionary(5937 unique tokens: ['-', 'algebra', 'intern', 'languag', 'preliminari']...) from 3204 documents (total 115970 corpus positions)\n",
      "2021-02-14 16:48:44,475 : INFO : discarding 4740 tokens: [('repeat', 8), ('glossari', 7), ('inspect', 8), ('uncol', 2), ('rung', 9), ('secant', 2), ('.', 1603), ('acceler', 6), ('diverg', 3), ('induc', 9)]...\n",
      "2021-02-14 16:48:44,476 : INFO : keeping 1197 tokens which were in no less than 10 and no more than 1602 (=50.0%) documents\n",
      "2021-02-14 16:48:44,477 : INFO : resulting dictionary: Dictionary(1197 unique tokens: ['-', 'algebra', 'intern', 'languag', 'preliminari']...)\n",
      "2021-02-14 16:48:44,688 : INFO : loading projection weights from /Users/charlottefelius/gensim-data/word2vec-google-news-300/word2vec-google-news-300.gz\n",
      "2021-02-14 16:49:18,010 : INFO : loaded (3000000, 300) matrix from /Users/charlottefelius/gensim-data/word2vec-google-news-300/word2vec-google-news-300.gz\n"
     ]
    },
    {
     "data": {
      "text/plain": [
       "[(1, -0.142578125),\n",
       " (2, -0.1640625),\n",
       " (3, -0.09033203125),\n",
       " (4, -0.1123046875),\n",
       " (5, 0.10009765625),\n",
       " (6, -0.041259765625),\n",
       " (7, 0.048828125),\n",
       " (8, -0.13671875),\n",
       " (9, 0.1962890625),\n",
       " (10, -0.134765625),\n",
       " (11, -0.017578125),\n",
       " (12, 0.0322265625),\n",
       " (13, 0.09521484375),\n",
       " (14, -0.10595703125),\n",
       " (15, -0.169921875),\n",
       " (16, 0.041015625),\n",
       " (17, -0.263671875),\n",
       " (18, -0.006317138671875),\n",
       " (19, -0.177734375),\n",
       " (20, -0.240234375),\n",
       " (21, 0.3515625),\n",
       " (22, -0.01220703125),\n",
       " (23, -0.162109375),\n",
       " (24, -0.12060546875),\n",
       " (25, 0.043212890625),\n",
       " (26, 0.10986328125),\n",
       " (27, 0.052490234375),\n",
       " (28, 0.1787109375),\n",
       " (29, -0.1455078125),\n",
       " (30, 0.1376953125),\n",
       " (31, -0.08203125),\n",
       " (32, -0.283203125),\n",
       " (33, -0.10888671875),\n",
       " (34, -0.2890625),\n",
       " (35, 0.072265625),\n",
       " (36, -0.04736328125),\n",
       " (37, 0.040283203125),\n",
       " (38, 0.06787109375),\n",
       " (39, 0.11669921875),\n",
       " (40, 0.00083160400390625),\n",
       " (41, 0.068359375),\n",
       " (42, 0.1201171875),\n",
       " (43, -0.08837890625),\n",
       " (44, 0.337890625),\n",
       " (45, -0.044677734375),\n",
       " (46, -0.0301513671875),\n",
       " (47, 0.0076904296875),\n",
       " (48, -0.0211181640625),\n",
       " (49, -0.25390625),\n",
       " (50, 0.1494140625),\n",
       " (51, 0.3984375),\n",
       " (52, 0.0216064453125),\n",
       " (53, -0.023193359375),\n",
       " (54, 0.00634765625),\n",
       " (55, 0.00823974609375),\n",
       " (56, -0.1689453125),\n",
       " (57, 0.037353515625),\n",
       " (58, -0.0634765625),\n",
       " (59, 0.1171875),\n",
       " (60, -0.1484375),\n",
       " (61, -0.07861328125),\n",
       " (62, 0.369140625),\n",
       " (63, -0.224609375),\n",
       " (64, 0.173828125),\n",
       " (65, 0.01385498046875),\n",
       " (66, 0.1875),\n",
       " (67, -0.10107421875),\n",
       " (68, 0.037841796875),\n",
       " (69, 0.0021209716796875),\n",
       " (70, -0.05126953125),\n",
       " (71, 0.09619140625),\n",
       " (72, -0.05712890625),\n",
       " (73, 0.10595703125),\n",
       " (74, -0.02099609375),\n",
       " (75, 0.1611328125),\n",
       " (76, 0.09765625),\n",
       " (77, 0.038330078125),\n",
       " (78, 0.2197265625),\n",
       " (79, 0.1064453125),\n",
       " (80, 0.0859375),\n",
       " (81, 0.1796875),\n",
       " (82, -0.0830078125),\n",
       " (83, -0.033203125),\n",
       " (84, 0.041015625),\n",
       " (85, -0.06494140625),\n",
       " (86, 0.0198974609375),\n",
       " (87, 0.1337890625),\n",
       " (88, -0.09765625),\n",
       " (89, -0.193359375),\n",
       " (90, -0.2353515625),\n",
       " (91, 0.1904296875),\n",
       " (92, 0.0024871826171875),\n",
       " (93, -0.0157470703125),\n",
       " (94, 0.0322265625),\n",
       " (95, -0.2197265625),\n",
       " (96, -0.09130859375),\n",
       " (97, 0.021240234375),\n",
       " (98, 0.158203125),\n",
       " (99, 0.298828125),\n",
       " (100, -0.328125),\n",
       " (101, 0.057373046875),\n",
       " (102, -0.04638671875),\n",
       " (103, 0.11328125),\n",
       " (104, -0.1015625),\n",
       " (105, 0.1806640625),\n",
       " (106, -0.025146484375),\n",
       " (107, -0.166015625),\n",
       " (108, -0.09619140625),\n",
       " (109, 0.018798828125),\n",
       " (110, -0.1943359375),\n",
       " (111, 0.1494140625),\n",
       " (112, -0.056640625),\n",
       " (113, -0.10693359375),\n",
       " (114, -0.150390625),\n",
       " (115, -0.17578125),\n",
       " (116, 0.11279296875),\n",
       " (117, 0.04931640625),\n",
       " (118, 0.2197265625),\n",
       " (119, 0.318359375),\n",
       " (120, 0.1572265625),\n",
       " (121, -0.29296875),\n",
       " (122, 0.10498046875),\n",
       " (123, -0.296875),\n",
       " (124, -0.013427734375),\n",
       " (125, 0.0908203125),\n",
       " (126, 0.0125732421875),\n",
       " (127, -0.051513671875),\n",
       " (128, -0.12890625),\n",
       " (129, 0.01446533203125),\n",
       " (130, 0.12060546875),\n",
       " (131, -0.10107421875),\n",
       " (132, -0.111328125),\n",
       " (133, 0.06396484375),\n",
       " (134, -0.052978515625),\n",
       " (135, -0.043212890625),\n",
       " (136, -0.012939453125),\n",
       " (137, -0.027587890625),\n",
       " (138, -0.09716796875),\n",
       " (139, -0.2021484375),\n",
       " (140, 0.123046875),\n",
       " (141, -0.04248046875),\n",
       " (142, 0.173828125),\n",
       " (143, -0.013671875),\n",
       " (144, 0.1015625),\n",
       " (145, -0.00093841552734375),\n",
       " (146, -0.03564453125),\n",
       " (147, 0.30078125),\n",
       " (148, -0.068359375),\n",
       " (149, -0.05615234375),\n",
       " (150, 0.03759765625),\n",
       " (151, 0.06591796875),\n",
       " (152, 0.040283203125),\n",
       " (153, 0.01190185546875),\n",
       " (154, 0.09619140625),\n",
       " (155, 0.3671875),\n",
       " (156, -0.279296875),\n",
       " (157, -0.052001953125),\n",
       " (158, -0.10693359375),\n",
       " (159, -0.134765625),\n",
       " (160, -0.046142578125),\n",
       " (161, 0.25),\n",
       " (162, 0.00567626953125),\n",
       " (163, -0.014404296875),\n",
       " (164, -0.031005859375),\n",
       " (165, -0.060302734375),\n",
       " (166, 0.10595703125),\n",
       " (167, 0.37890625),\n",
       " (168, 0.058837890625),\n",
       " (169, 0.123046875),\n",
       " (170, -0.115234375),\n",
       " (171, 0.1494140625),\n",
       " (172, -0.1640625),\n",
       " (173, -0.2333984375),\n",
       " (174, -0.07763671875),\n",
       " (175, 0.0267333984375),\n",
       " (176, -0.0211181640625),\n",
       " (177, 0.1943359375),\n",
       " (178, -0.05615234375),\n",
       " (179, -0.006439208984375),\n",
       " (180, -0.169921875),\n",
       " (181, -0.11865234375),\n",
       " (182, -0.0673828125),\n",
       " (183, -0.06884765625),\n",
       " (184, -0.0869140625),\n",
       " (185, -0.1015625),\n",
       " (186, 0.01416015625),\n",
       " (187, -0.201171875),\n",
       " (188, 0.09814453125),\n",
       " (189, -0.01025390625),\n",
       " (190, 0.1875),\n",
       " (191, 0.1962890625),\n",
       " (192, -0.220703125),\n",
       " (193, -0.1962890625),\n",
       " (194, -0.07373046875),\n",
       " (195, 0.06640625),\n",
       " (196, -0.1337890625),\n",
       " (197, 0.18359375),\n",
       " (198, -0.2001953125),\n",
       " (199, 0.1982421875),\n",
       " (200, 0.05029296875),\n",
       " (201, 0.0299072265625),\n",
       " (202, 0.0177001953125),\n",
       " (203, -0.193359375),\n",
       " (204, -0.09619140625),\n",
       " (205, -0.1025390625),\n",
       " (206, 0.212890625),\n",
       " (207, -0.0299072265625),\n",
       " (208, 0.1435546875),\n",
       " (209, 0.041015625),\n",
       " (210, -0.2119140625),\n",
       " (211, 0.2080078125),\n",
       " (212, 0.1376953125),\n",
       " (213, -0.0196533203125),\n",
       " (214, 0.01495361328125),\n",
       " (215, -0.09765625),\n",
       " (216, 0.2431640625),\n",
       " (217, 0.080078125),\n",
       " (218, 0.08251953125),\n",
       " (219, 0.0986328125),\n",
       " (220, 0.056884765625),\n",
       " (221, 0.04248046875),\n",
       " (222, 0.06884765625),\n",
       " (223, -0.035400390625),\n",
       " (224, -0.076171875),\n",
       " (225, -0.00016117095947265625),\n",
       " (226, -0.0751953125),\n",
       " (227, 0.224609375),\n",
       " (228, 0.1513671875),\n",
       " (229, 0.1005859375),\n",
       " (230, 0.10986328125),\n",
       " (231, 0.0238037109375),\n",
       " (232, 0.08837890625),\n",
       " (233, 0.061767578125),\n",
       " (234, -0.10791015625),\n",
       " (235, 0.062255859375),\n",
       " (236, 0.0034332275390625),\n",
       " (237, 0.08056640625),\n",
       " (238, 0.10693359375),\n",
       " (239, 0.0888671875),\n",
       " (240, -0.2373046875),\n",
       " (241, 0.06494140625),\n",
       " (242, 0.01019287109375),\n",
       " (243, -0.08837890625),\n",
       " (244, -0.33203125),\n",
       " (245, 0.004669189453125),\n",
       " (246, 0.212890625),\n",
       " (247, 0.0859375),\n",
       " (248, 0.0203857421875),\n",
       " (249, 0.045654296875),\n",
       " (250, 0.1484375),\n",
       " (251, 0.1181640625),\n",
       " (252, 0.0556640625),\n",
       " (253, -0.1728515625),\n",
       " (254, -0.125),\n",
       " (255, -0.025390625),\n",
       " (256, -0.318359375),\n",
       " (257, 0.0311279296875),\n",
       " (258, 0.0859375),\n",
       " (259, -0.0419921875),\n",
       " (260, 0.15625),\n",
       " (261, 0.1611328125),\n",
       " (262, 0.1982421875),\n",
       " (263, -0.10009765625),\n",
       " (264, 0.203125),\n",
       " (265, 0.12890625),\n",
       " (266, 0.2333984375),\n",
       " (267, -0.267578125),\n",
       " (268, 0.05517578125),\n",
       " (269, 0.048828125),\n",
       " (270, 0.072265625),\n",
       " (271, 0.244140625),\n",
       " (272, 0.244140625),\n",
       " (273, 0.056884765625),\n",
       " (274, -0.0546875),\n",
       " (275, -0.03369140625),\n",
       " (276, -0.12060546875),\n",
       " (277, 0.034912109375),\n",
       " (278, -0.1455078125),\n",
       " (279, 0.08740234375),\n",
       " (280, -0.0830078125),\n",
       " (281, 0.0172119140625),\n",
       " (282, 0.1435546875),\n",
       " (283, -0.12255859375),\n",
       " (284, 0.1796875),\n",
       " (285, 0.130859375),\n",
       " (286, -0.1650390625),\n",
       " (287, 0.01275634765625),\n",
       " (288, 0.16015625),\n",
       " (289, -0.0311279296875),\n",
       " (290, 0.08203125),\n",
       " (291, 0.173828125),\n",
       " (292, -0.16796875),\n",
       " (293, 0.130859375),\n",
       " (294, 0.08544921875),\n",
       " (295, -0.2109375),\n",
       " (296, -0.130859375),\n",
       " (297, -0.0289306640625),\n",
       " (298, -0.10546875),\n",
       " (299, 0.08447265625),\n",
       " (300, -0.1416015625)]"
      ]
     },
     "execution_count": 92,
     "metadata": {},
     "output_type": "execute_result"
    }
   ],
   "source": [
    "w2v_pretrained = W2VPretrainedRetrievalModel(doc_repr_2)\n",
    "w2v_pretrained.train_model()\n",
    "\n",
    "# you can now get an W2V vector for a given query in the following way:\n",
    "w2v_pretrained.vectorize_query(\"report\")"
   ]
  },
  {
   "cell_type": "code",
   "execution_count": 93,
   "metadata": {
    "deletable": false,
    "editable": false,
    "nbgrader": {
     "cell_type": "code",
     "checksum": "0822845afb5eafe5ddb1ffeaa4f4942a",
     "grade": true,
     "grade_id": "cell-1b1466f8ce516f42",
     "locked": true,
     "points": 2,
     "schema_version": 3,
     "solution": false,
     "task": false
    }
   },
   "outputs": [
    {
     "name": "stdout",
     "output_type": "stream",
     "text": [
      "300\n"
     ]
    }
   ],
   "source": [
    "##### Function check\n",
    "\n",
    "print(len(w2v_pretrained.vectorize_query(\"report\")))\n",
    "#####"
   ]
  },
  {
   "cell_type": "code",
   "execution_count": 94,
   "metadata": {},
   "outputs": [
    {
     "name": "stderr",
     "output_type": "stream",
     "text": [
      "<ipython-input-90-58fe68e8332b>:26: DeprecationWarning: Call to deprecated `__contains__` (Method will be removed in 4.0.0, use self.wv.__contains__() instead).\n",
      "  if token in self.model:\n",
      "<ipython-input-90-58fe68e8332b>:27: DeprecationWarning: Call to deprecated `__getitem__` (Method will be removed in 4.0.0, use self.wv.__getitem__() instead).\n",
      "  doc_dict[doc_id] += self.model[token]\n"
     ]
    },
    {
     "data": {
      "application/vnd.jupyter.widget-view+json": {
       "model_id": "a1ec344e7c8b42c3ad0122b5cb416384",
       "version_major": 2,
       "version_minor": 0
      },
      "text/plain": [
       "Text(value='', description='Search Bar')"
      ]
     },
     "metadata": {},
     "output_type": "display_data"
    }
   ],
   "source": [
    "drm_w2v = DenseRetrievalRanker(w2v, cosine_sim)\n",
    "\n",
    "# test your LDA model\n",
    "search_fn = drm_w2v.search\n",
    "\n",
    "text = widgets.Text(description=\"Search Bar\", width=200)\n",
    "display(text)\n",
    "\n",
    "\n",
    "text.on_submit(handle_submit_2)"
   ]
  },
  {
   "cell_type": "code",
   "execution_count": 95,
   "metadata": {},
   "outputs": [
    {
     "data": {
      "application/vnd.jupyter.widget-view+json": {
       "model_id": "debfd00554b24a5d982b06b87339522b",
       "version_major": 2,
       "version_minor": 0
      },
      "text/plain": [
       "Text(value='', description='Search Bar')"
      ]
     },
     "metadata": {},
     "output_type": "display_data"
    }
   ],
   "source": [
    "drm_w2v_pretrained = DenseRetrievalRanker(w2v_pretrained, cosine_sim)\n",
    "\n",
    "# test your LDA model\n",
    "search_fn = drm_w2v_pretrained.search\n",
    "\n",
    "text = widgets.Text(description=\"Search Bar\", width=200)\n",
    "display(text)\n",
    "\n",
    "\n",
    "text.on_submit(handle_submit_2)"
   ]
  },
  {
   "cell_type": "markdown",
   "metadata": {
    "deletable": false,
    "editable": false,
    "nbgrader": {
     "cell_type": "markdown",
     "checksum": "51b778984fd60757974f51047c61eb15",
     "grade": false,
     "grade_id": "cell-b92f701cbc706108",
     "locked": true,
     "schema_version": 3,
     "solution": false,
     "task": false
    }
   },
   "source": [
    "**Implementation (10 points):**\n",
    "For Doc2Vec, you will need to create a list of `TaggedDocument` instead of using the `self.corpus` or `self.documents` variable. Use the document id as the 'tag'.\n",
    "  "
   ]
  },
  {
   "cell_type": "code",
   "execution_count": 96,
   "metadata": {
    "deletable": false,
    "nbgrader": {
     "cell_type": "code",
     "checksum": "1f60fdeb97febb7f4a6fd5bf109aac20",
     "grade": false,
     "grade_id": "cell-680facdcc98a19ab",
     "locked": false,
     "schema_version": 3,
     "solution": true,
     "task": false
    }
   },
   "outputs": [
    {
     "name": "stderr",
     "output_type": "stream",
     "text": [
      "2021-02-14 16:49:19,280 : INFO : adding document #0 to Dictionary(0 unique tokens: [])\n",
      "2021-02-14 16:49:19,360 : INFO : built Dictionary(5937 unique tokens: ['-', 'algebra', 'intern', 'languag', 'preliminari']...) from 3204 documents (total 115970 corpus positions)\n",
      "2021-02-14 16:49:19,364 : INFO : discarding 4740 tokens: [('repeat', 8), ('glossari', 7), ('inspect', 8), ('uncol', 2), ('rung', 9), ('secant', 2), ('.', 1603), ('acceler', 6), ('diverg', 3), ('induc', 9)]...\n",
      "2021-02-14 16:49:19,365 : INFO : keeping 1197 tokens which were in no less than 10 and no more than 1602 (=50.0%) documents\n",
      "2021-02-14 16:49:19,367 : INFO : resulting dictionary: Dictionary(1197 unique tokens: ['-', 'algebra', 'intern', 'languag', 'preliminari']...)\n",
      "2021-02-14 16:49:19,412 : INFO : collecting all words and their counts\n",
      "2021-02-14 16:49:19,413 : INFO : PROGRESS: at example #0, processed 0 words (0/s), 0 word types, 0 tags\n",
      "2021-02-14 16:49:19,427 : INFO : collected 5937 word types and 3205 unique tags from a corpus of 3204 examples and 115970 words\n",
      "2021-02-14 16:49:19,428 : INFO : Loading a fresh vocabulary\n",
      "2021-02-14 16:49:19,435 : INFO : effective_min_count=1 retains 5937 unique words (100% of original 5937, drops 0)\n",
      "2021-02-14 16:49:19,435 : INFO : effective_min_count=1 leaves 115970 word corpus (100% of original 115970, drops 0)\n",
      "2021-02-14 16:49:19,446 : INFO : deleting the raw counts dictionary of 5937 items\n",
      "2021-02-14 16:49:19,447 : INFO : sample=0.001 downsamples 40 most-common words\n",
      "2021-02-14 16:49:19,447 : INFO : downsampling leaves estimated 92346 word corpus (79.6% of prior 115970)\n",
      "2021-02-14 16:49:19,454 : INFO : estimated required memory for 5937 words and 100 dimensions: 9000100 bytes\n",
      "2021-02-14 16:49:19,455 : INFO : resetting layer weights\n",
      "2021-02-14 16:49:20,721 : INFO : training model with 3 workers on 5937 vocabulary and 100 features, using sg=0 hs=0 sample=0.001 negative=5 window=5\n",
      "2021-02-14 16:49:20,885 : INFO : worker thread finished; awaiting finish of 2 more threads\n",
      "2021-02-14 16:49:20,891 : INFO : worker thread finished; awaiting finish of 1 more threads\n",
      "2021-02-14 16:49:20,892 : INFO : worker thread finished; awaiting finish of 0 more threads\n",
      "2021-02-14 16:49:20,893 : INFO : EPOCH - 1 : training on 115970 raw words (95567 effective words) took 0.2s, 567530 effective words/s\n",
      "2021-02-14 16:49:21,053 : INFO : worker thread finished; awaiting finish of 2 more threads\n",
      "2021-02-14 16:49:21,061 : INFO : worker thread finished; awaiting finish of 1 more threads\n",
      "2021-02-14 16:49:21,064 : INFO : worker thread finished; awaiting finish of 0 more threads\n",
      "2021-02-14 16:49:21,064 : INFO : EPOCH - 2 : training on 115970 raw words (95695 effective words) took 0.2s, 565904 effective words/s\n",
      "2021-02-14 16:49:21,223 : INFO : worker thread finished; awaiting finish of 2 more threads\n",
      "2021-02-14 16:49:21,232 : INFO : worker thread finished; awaiting finish of 1 more threads\n",
      "2021-02-14 16:49:21,232 : INFO : worker thread finished; awaiting finish of 0 more threads\n",
      "2021-02-14 16:49:21,232 : INFO : EPOCH - 3 : training on 115970 raw words (95723 effective words) took 0.2s, 576292 effective words/s\n",
      "2021-02-14 16:49:21,393 : INFO : worker thread finished; awaiting finish of 2 more threads\n",
      "2021-02-14 16:49:21,399 : INFO : worker thread finished; awaiting finish of 1 more threads\n",
      "2021-02-14 16:49:21,401 : INFO : worker thread finished; awaiting finish of 0 more threads\n",
      "2021-02-14 16:49:21,401 : INFO : EPOCH - 4 : training on 115970 raw words (95601 effective words) took 0.2s, 574127 effective words/s\n",
      "2021-02-14 16:49:21,561 : INFO : worker thread finished; awaiting finish of 2 more threads\n",
      "2021-02-14 16:49:21,568 : INFO : worker thread finished; awaiting finish of 1 more threads\n",
      "2021-02-14 16:49:21,570 : INFO : worker thread finished; awaiting finish of 0 more threads\n",
      "2021-02-14 16:49:21,570 : INFO : EPOCH - 5 : training on 115970 raw words (95485 effective words) took 0.2s, 574630 effective words/s\n",
      "2021-02-14 16:49:21,731 : INFO : worker thread finished; awaiting finish of 2 more threads\n",
      "2021-02-14 16:49:21,737 : INFO : worker thread finished; awaiting finish of 1 more threads\n",
      "2021-02-14 16:49:21,738 : INFO : worker thread finished; awaiting finish of 0 more threads\n",
      "2021-02-14 16:49:21,738 : INFO : EPOCH - 6 : training on 115970 raw words (95545 effective words) took 0.2s, 575853 effective words/s\n",
      "2021-02-14 16:49:21,897 : INFO : worker thread finished; awaiting finish of 2 more threads\n",
      "2021-02-14 16:49:21,906 : INFO : worker thread finished; awaiting finish of 1 more threads\n",
      "2021-02-14 16:49:21,908 : INFO : worker thread finished; awaiting finish of 0 more threads\n",
      "2021-02-14 16:49:21,908 : INFO : EPOCH - 7 : training on 115970 raw words (95520 effective words) took 0.2s, 569949 effective words/s\n",
      "2021-02-14 16:49:22,070 : INFO : worker thread finished; awaiting finish of 2 more threads\n",
      "2021-02-14 16:49:22,075 : INFO : worker thread finished; awaiting finish of 1 more threads\n",
      "2021-02-14 16:49:22,076 : INFO : worker thread finished; awaiting finish of 0 more threads\n",
      "2021-02-14 16:49:22,077 : INFO : EPOCH - 8 : training on 115970 raw words (95468 effective words) took 0.2s, 576473 effective words/s\n",
      "2021-02-14 16:49:22,232 : INFO : worker thread finished; awaiting finish of 2 more threads\n",
      "2021-02-14 16:49:22,243 : INFO : worker thread finished; awaiting finish of 1 more threads\n",
      "2021-02-14 16:49:22,247 : INFO : worker thread finished; awaiting finish of 0 more threads\n",
      "2021-02-14 16:49:22,247 : INFO : EPOCH - 9 : training on 115970 raw words (95635 effective words) took 0.2s, 571834 effective words/s\n",
      "2021-02-14 16:49:22,406 : INFO : worker thread finished; awaiting finish of 2 more threads\n",
      "2021-02-14 16:49:22,413 : INFO : worker thread finished; awaiting finish of 1 more threads\n",
      "2021-02-14 16:49:22,416 : INFO : worker thread finished; awaiting finish of 0 more threads\n",
      "2021-02-14 16:49:22,416 : INFO : EPOCH - 10 : training on 115970 raw words (95646 effective words) took 0.2s, 574770 effective words/s\n",
      "2021-02-14 16:49:22,572 : INFO : worker thread finished; awaiting finish of 2 more threads\n",
      "2021-02-14 16:49:22,583 : INFO : worker thread finished; awaiting finish of 1 more threads\n",
      "2021-02-14 16:49:22,583 : INFO : worker thread finished; awaiting finish of 0 more threads\n",
      "2021-02-14 16:49:22,583 : INFO : EPOCH - 11 : training on 115970 raw words (95546 effective words) took 0.2s, 577974 effective words/s\n",
      "2021-02-14 16:49:22,740 : INFO : worker thread finished; awaiting finish of 2 more threads\n",
      "2021-02-14 16:49:22,750 : INFO : worker thread finished; awaiting finish of 1 more threads\n",
      "2021-02-14 16:49:22,751 : INFO : worker thread finished; awaiting finish of 0 more threads\n",
      "2021-02-14 16:49:22,751 : INFO : EPOCH - 12 : training on 115970 raw words (95585 effective words) took 0.2s, 575422 effective words/s\n",
      "2021-02-14 16:49:22,911 : INFO : worker thread finished; awaiting finish of 2 more threads\n",
      "2021-02-14 16:49:22,919 : INFO : worker thread finished; awaiting finish of 1 more threads\n",
      "2021-02-14 16:49:22,920 : INFO : worker thread finished; awaiting finish of 0 more threads\n",
      "2021-02-14 16:49:22,921 : INFO : EPOCH - 13 : training on 115970 raw words (95529 effective words) took 0.2s, 571297 effective words/s\n",
      "2021-02-14 16:49:23,078 : INFO : worker thread finished; awaiting finish of 2 more threads\n",
      "2021-02-14 16:49:23,087 : INFO : worker thread finished; awaiting finish of 1 more threads\n",
      "2021-02-14 16:49:23,089 : INFO : worker thread finished; awaiting finish of 0 more threads\n",
      "2021-02-14 16:49:23,089 : INFO : EPOCH - 14 : training on 115970 raw words (95486 effective words) took 0.2s, 575535 effective words/s\n",
      "2021-02-14 16:49:23,248 : INFO : worker thread finished; awaiting finish of 2 more threads\n",
      "2021-02-14 16:49:23,254 : INFO : worker thread finished; awaiting finish of 1 more threads\n",
      "2021-02-14 16:49:23,258 : INFO : worker thread finished; awaiting finish of 0 more threads\n",
      "2021-02-14 16:49:23,258 : INFO : EPOCH - 15 : training on 115970 raw words (95496 effective words) took 0.2s, 573651 effective words/s\n",
      "2021-02-14 16:49:23,418 : INFO : worker thread finished; awaiting finish of 2 more threads\n",
      "2021-02-14 16:49:23,426 : INFO : worker thread finished; awaiting finish of 1 more threads\n"
     ]
    },
    {
     "name": "stderr",
     "output_type": "stream",
     "text": [
      "2021-02-14 16:49:23,427 : INFO : worker thread finished; awaiting finish of 0 more threads\n",
      "2021-02-14 16:49:23,427 : INFO : EPOCH - 16 : training on 115970 raw words (95474 effective words) took 0.2s, 575710 effective words/s\n",
      "2021-02-14 16:49:23,581 : INFO : worker thread finished; awaiting finish of 2 more threads\n",
      "2021-02-14 16:49:23,594 : INFO : worker thread finished; awaiting finish of 1 more threads\n",
      "2021-02-14 16:49:23,595 : INFO : worker thread finished; awaiting finish of 0 more threads\n",
      "2021-02-14 16:49:23,596 : INFO : EPOCH - 17 : training on 115970 raw words (95481 effective words) took 0.2s, 572483 effective words/s\n",
      "2021-02-14 16:49:23,755 : INFO : worker thread finished; awaiting finish of 2 more threads\n",
      "2021-02-14 16:49:23,762 : INFO : worker thread finished; awaiting finish of 1 more threads\n",
      "2021-02-14 16:49:23,763 : INFO : worker thread finished; awaiting finish of 0 more threads\n",
      "2021-02-14 16:49:23,763 : INFO : EPOCH - 18 : training on 115970 raw words (95489 effective words) took 0.2s, 576796 effective words/s\n",
      "2021-02-14 16:49:23,917 : INFO : worker thread finished; awaiting finish of 2 more threads\n",
      "2021-02-14 16:49:23,928 : INFO : worker thread finished; awaiting finish of 1 more threads\n",
      "2021-02-14 16:49:23,930 : INFO : worker thread finished; awaiting finish of 0 more threads\n",
      "2021-02-14 16:49:23,930 : INFO : EPOCH - 19 : training on 115970 raw words (95439 effective words) took 0.2s, 578821 effective words/s\n",
      "2021-02-14 16:49:24,088 : INFO : worker thread finished; awaiting finish of 2 more threads\n",
      "2021-02-14 16:49:24,097 : INFO : worker thread finished; awaiting finish of 1 more threads\n",
      "2021-02-14 16:49:24,099 : INFO : worker thread finished; awaiting finish of 0 more threads\n",
      "2021-02-14 16:49:24,099 : INFO : EPOCH - 20 : training on 115970 raw words (95488 effective words) took 0.2s, 572125 effective words/s\n",
      "2021-02-14 16:49:24,100 : INFO : training on a 2319400 raw words (1910898 effective words) took 3.4s, 565715 effective words/s\n"
     ]
    },
    {
     "data": {
      "text/plain": [
       "[(1, 0.07438623),\n",
       " (2, 0.011124175),\n",
       " (3, -0.04812732),\n",
       " (4, 0.058049332),\n",
       " (5, -0.10926891),\n",
       " (6, 0.0040588104),\n",
       " (7, -0.014575478),\n",
       " (8, 0.06626364),\n",
       " (9, 0.05913307),\n",
       " (10, 0.11412705),\n",
       " (11, -0.041080523),\n",
       " (12, -0.053734004),\n",
       " (13, 0.016203258),\n",
       " (14, -0.0038779585),\n",
       " (15, -0.03175775),\n",
       " (16, 0.0025963846),\n",
       " (17, 0.003691737),\n",
       " (18, 0.091751054),\n",
       " (19, 0.05658325),\n",
       " (20, 0.023845203),\n",
       " (21, 0.026830371),\n",
       " (22, 0.03148203),\n",
       " (23, -0.02085671),\n",
       " (24, 0.0065233014),\n",
       " (25, -0.02503466),\n",
       " (26, -0.0631105),\n",
       " (27, -0.0019156778),\n",
       " (28, 0.0053187152),\n",
       " (29, 0.10496218),\n",
       " (30, -0.027715972),\n",
       " (31, -0.08729309),\n",
       " (32, -0.08273834),\n",
       " (33, -0.028941331),\n",
       " (34, 0.062591195),\n",
       " (35, 0.06087224),\n",
       " (36, 0.07047317),\n",
       " (37, -0.031160196),\n",
       " (38, -0.093346864),\n",
       " (39, 0.07367998),\n",
       " (40, 0.06277701),\n",
       " (41, 0.0930202),\n",
       " (42, -0.041853897),\n",
       " (43, 0.04830617),\n",
       " (44, -0.06246463),\n",
       " (45, 0.04001404),\n",
       " (46, -0.06463881),\n",
       " (47, 0.024967913),\n",
       " (48, -0.023919912),\n",
       " (49, -0.070957534),\n",
       " (50, 0.012147568),\n",
       " (51, -0.01330944),\n",
       " (52, 0.035335883),\n",
       " (53, 0.019290622),\n",
       " (54, 0.00244958),\n",
       " (55, 0.07492347),\n",
       " (56, 0.0051118233),\n",
       " (57, 0.04717433),\n",
       " (58, 0.014500177),\n",
       " (59, -0.09175439),\n",
       " (60, 0.013252028),\n",
       " (61, -0.1250953),\n",
       " (62, -0.06813531),\n",
       " (63, 0.030367956),\n",
       " (64, -0.06863202),\n",
       " (65, 0.030214306),\n",
       " (66, -0.024855524),\n",
       " (67, 0.0077206893),\n",
       " (68, -0.011314678),\n",
       " (69, 0.0006037208),\n",
       " (70, 0.007650329),\n",
       " (71, -0.08396186),\n",
       " (72, -0.018706603),\n",
       " (73, 0.021104984),\n",
       " (74, -0.08405655),\n",
       " (75, -0.007227274),\n",
       " (76, 0.061465774),\n",
       " (77, -0.0059229103),\n",
       " (78, -0.037809115),\n",
       " (79, 0.02654565),\n",
       " (80, -0.023145132),\n",
       " (81, -0.028409498),\n",
       " (82, -0.0068849167),\n",
       " (83, -0.056431677),\n",
       " (84, 0.053324327),\n",
       " (85, 0.0075262003),\n",
       " (86, 0.034192905),\n",
       " (87, 0.03908152),\n",
       " (88, -0.02843236),\n",
       " (89, 0.04575451),\n",
       " (90, -0.02010916),\n",
       " (91, -0.1022236),\n",
       " (92, -0.016718136),\n",
       " (93, -0.08571346),\n",
       " (94, -0.09329002),\n",
       " (95, -0.05555366),\n",
       " (96, -0.04824934),\n",
       " (97, -0.00538967),\n",
       " (98, -0.018579561),\n",
       " (99, -0.006342813),\n",
       " (100, 0.049190167)]"
      ]
     },
     "execution_count": 96,
     "metadata": {},
     "output_type": "execute_result"
    }
   ],
   "source": [
    "class D2VRetrievalModel(VectorSpaceRetrievalModel):\n",
    "    def __init__(self, doc_repr):\n",
    "        super().__init__(doc_repr)\n",
    "        \n",
    "        self.vector_size= 100\n",
    "        self.min_count = 1\n",
    "        self.epochs = 20\n",
    "        \n",
    "        # YOUR CODE HERE\n",
    "        self.docs = []\n",
    "        for doc_id, content in self.doc_repr:\n",
    "            self.docs.append(TaggedDocument(words=content, tags=[doc_id]))\n",
    "        \n",
    "    def train_model(self):\n",
    "        # YOUR CODE HERE\n",
    "        self.model = Doc2Vec(\n",
    "            self.docs,\n",
    "            vector_size=self.vector_size,\n",
    "            min_count=self.min_count,\n",
    "            epochs=self.epochs\n",
    "        )\n",
    "    \n",
    "    def vectorize_documents(self):\n",
    "        \"\"\"\n",
    "            Returns a doc_id -> vector dictionary\n",
    "        \"\"\"\n",
    "        # YOUR CODE HERE\n",
    "        doc_dict = {}\n",
    "        for doc_id, content in self.doc_repr:\n",
    "            vector = self.model.infer_vector(content)\n",
    "            doc_dict[doc_id] = [(dim+1, vector[dim]) for dim in range(len(vector))]\n",
    "        return doc_dict\n",
    "\n",
    "    def vectorize_query(self, query):\n",
    "        # YOUR CODE HERE\n",
    "        query = process_text(query, **config_2)\n",
    "        vector = self.model.infer_vector(query)\n",
    "        return [(dim+1, vector[dim]) for dim in range(len(vector))]\n",
    "        \n",
    "d2v = D2VRetrievalModel(doc_repr_2)\n",
    "d2v.train_model()\n",
    "\n",
    "\n",
    "# # you can now get an LSI vector for a given query in the following way:\n",
    "d2v.vectorize_query(\"report\")"
   ]
  },
  {
   "cell_type": "code",
   "execution_count": 97,
   "metadata": {
    "deletable": false,
    "editable": false,
    "nbgrader": {
     "cell_type": "code",
     "checksum": "e83a363a9d4f136efbdde1426a83925e",
     "grade": true,
     "grade_id": "cell-5e2c5e0c9a2e8cb5",
     "locked": true,
     "points": 0,
     "schema_version": 3,
     "solution": false,
     "task": false
    }
   },
   "outputs": [],
   "source": [
    "#### Please do not change this. This cell is used for grading."
   ]
  },
  {
   "cell_type": "markdown",
   "metadata": {
    "deletable": false,
    "editable": false,
    "nbgrader": {
     "cell_type": "markdown",
     "checksum": "5bb46bf6b9be1e0ca66f0b0bc6260ecb",
     "grade": false,
     "grade_id": "cell-8a49d414f798a595",
     "locked": true,
     "points": 10,
     "schema_version": 3,
     "solution": false,
     "task": true
    }
   },
   "source": [
    "\\#### Please do not change this. This cell is used for grading."
   ]
  },
  {
   "cell_type": "code",
   "execution_count": 98,
   "metadata": {},
   "outputs": [
    {
     "data": {
      "application/vnd.jupyter.widget-view+json": {
       "model_id": "13cceb3d6df8457cb4cf5ad3240169ff",
       "version_major": 2,
       "version_minor": 0
      },
      "text/plain": [
       "Text(value='', description='Search Bar')"
      ]
     },
     "metadata": {},
     "output_type": "display_data"
    }
   ],
   "source": [
    "drm_d2v = DenseRetrievalRanker(d2v, cosine_sim)\n",
    "\n",
    "# test your LDA model\n",
    "search_fn = drm_d2v.search\n",
    "\n",
    "text = widgets.Text(description=\"Search Bar\", width=200)\n",
    "display(text)\n",
    "\n",
    "\n",
    "text.on_submit(handle_submit_2)"
   ]
  },
  {
   "cell_type": "markdown",
   "metadata": {
    "deletable": false,
    "editable": false,
    "nbgrader": {
     "cell_type": "markdown",
     "checksum": "363ec36c1d03d9f9e1c2045a6e193c14",
     "grade": false,
     "grade_id": "cell-3529ae29eece7b97",
     "locked": true,
     "schema_version": 3,
     "solution": false,
     "task": false
    }
   },
   "source": [
    "---\n",
    "## Section 9: Re-ranking (10 points) <a class=\"anchor\" id=\"reranking\"></a>\n",
    "\n",
    "[Back to Part 2](#part2)\n",
    "\n",
    "To motivate the re-ranking perspective (i.e retrieve with lexical method + rerank with a semantic method), let's search using semantic methods and compare it to BM25's performance, along with their runtime:\n"
   ]
  },
  {
   "cell_type": "code",
   "execution_count": 99,
   "metadata": {
    "deletable": false,
    "editable": false,
    "nbgrader": {
     "cell_type": "code",
     "checksum": "5755f70e3eb28abc65d14d80125338af",
     "grade": false,
     "grade_id": "cell-f8f43bf5ae383128",
     "locked": true,
     "schema_version": 3,
     "solution": false,
     "task": false
    }
   },
   "outputs": [
    {
     "name": "stdout",
     "output_type": "stream",
     "text": [
      "BM25: \n",
      "8.54 ms ± 665 µs per loop (mean ± std. dev. of 7 runs, 100 loops each)\n",
      "LSI: \n"
     ]
    },
    {
     "name": "stderr",
     "output_type": "stream",
     "text": [
      "<ipython-input-76-56b467aaba55>:19: RuntimeWarning: invalid value encountered in double_scalars\n",
      "  return dot(vec_1, vec_2)/(np.linalg.norm([i[1] for i in vec_1])*np.linalg.norm([j[1] for j in vec_2]))\n"
     ]
    },
    {
     "name": "stdout",
     "output_type": "stream",
     "text": [
      "169 ms ± 1.42 ms per loop (mean ± std. dev. of 7 runs, 10 loops each)\n",
      "LDA: \n",
      "3.85 s ± 28.6 ms per loop (mean ± std. dev. of 7 runs, 1 loop each)\n",
      "W2V: \n"
     ]
    },
    {
     "name": "stderr",
     "output_type": "stream",
     "text": [
      "<ipython-input-90-58fe68e8332b>:41: DeprecationWarning: Call to deprecated `__contains__` (Method will be removed in 4.0.0, use self.wv.__contains__() instead).\n",
      "  if token in self.model:\n",
      "<ipython-input-90-58fe68e8332b>:42: DeprecationWarning: Call to deprecated `__getitem__` (Method will be removed in 4.0.0, use self.wv.__getitem__() instead).\n",
      "  vector += self.model[token]\n"
     ]
    },
    {
     "name": "stdout",
     "output_type": "stream",
     "text": [
      "185 ms ± 11.9 ms per loop (mean ± std. dev. of 7 runs, 1 loop each)\n",
      "W2V(Pretrained): \n",
      "445 ms ± 14.4 ms per loop (mean ± std. dev. of 7 runs, 1 loop each)\n",
      "D2V:\n",
      "196 ms ± 4.97 ms per loop (mean ± std. dev. of 7 runs, 1 loop each)\n"
     ]
    }
   ],
   "source": [
    "query = \"algebraic functions\"\n",
    "print(\"BM25: \")\n",
    "%timeit bm25_search(query, 2)\n",
    "print(\"LSI: \")\n",
    "%timeit drm_lsi.search(query)\n",
    "print(\"LDA: \")\n",
    "%timeit drm_lda.search(query)\n",
    "print(\"W2V: \")\n",
    "%timeit drm_w2v.search(query)\n",
    "print(\"W2V(Pretrained): \")\n",
    "%timeit drm_w2v_pretrained.search(query)\n",
    "print(\"D2V:\")\n",
    "%timeit drm_d2v.search(query)"
   ]
  },
  {
   "cell_type": "markdown",
   "metadata": {
    "deletable": false,
    "editable": false,
    "nbgrader": {
     "cell_type": "markdown",
     "checksum": "ae398da0a8c23c95bcbb0023b7ec6f34",
     "grade": false,
     "grade_id": "cell-db5ff09f97841af7",
     "locked": true,
     "schema_version": 3,
     "solution": false,
     "task": false
    }
   },
   "source": [
    "---\n",
    "\n",
    "**Implementation (10 points):**\n",
    "Re-ranking involves retrieving a small set of documents using simple but fast methods like BM25 and then re-ranking them with the aid of semantic methods such as LDA or LSI. Implement the following class, which takes in an `initial_retrieval_fn` - the initial retrieval function and `vsrm` - an instance of the `VectorSpaceRetrievalModel` class (i.e LSI/LDA) as input. The search function should first retrieve an initial list of K documents, and then these documents are re-ranked using a semantic method. This not only makes retrieval faster, but semantic methods perform poorly when used in isolation, as you will find out."
   ]
  },
  {
   "cell_type": "code",
   "execution_count": 100,
   "metadata": {
    "deletable": false,
    "nbgrader": {
     "cell_type": "code",
     "checksum": "63b6b05a676a2ae3f08d8bed1bc59428",
     "grade": false,
     "grade_id": "cell-5bf47600d1a0c507",
     "locked": false,
     "schema_version": 3,
     "solution": true,
     "task": false
    }
   },
   "outputs": [],
   "source": [
    "# TODO: Implement this! (10 points)\n",
    "class DenseRerankingModel:\n",
    "    def __init__(self, initial_retrieval_fn, vsrm, similarity_fn):\n",
    "        \"\"\"\n",
    "            initial_retrieval_fn: takes in a query and returns a list of [(doc_id, score)] (sorted)\n",
    "            vsrm: instance of `VectorSpaceRetrievalModel`\n",
    "            similarity_fn: function instance that takes in two vectors \n",
    "                            and returns a similarity score e.g cosine_sim defined earlier\n",
    "        \"\"\"\n",
    "        self.ret = initial_retrieval_fn\n",
    "        self.vsrm = vsrm\n",
    "        self.similarity_fn = similarity_fn\n",
    "        self.vectorized_documents = vsrm.vectorize_documents()\n",
    "        \n",
    "        assert len(self.vectorized_documents) == len(doc_repr_2)\n",
    "    \n",
    "    def search(self, query, K=50):\n",
    "        \"\"\"\n",
    "            First, retrieve the top K results using the retrieval function\n",
    "            Then, re-rank the results using the VSRM instance\n",
    "        \"\"\"\n",
    "        # YOUR CODE HERE\n",
    "        raise NotImplementedError()"
   ]
  },
  {
   "cell_type": "code",
   "execution_count": 101,
   "metadata": {
    "deletable": false,
    "editable": false,
    "nbgrader": {
     "cell_type": "code",
     "checksum": "334ab5af96976265cace682ab82a7387",
     "grade": true,
     "grade_id": "cell-52c6d18a4c0b4882",
     "locked": true,
     "points": 0,
     "schema_version": 3,
     "solution": false,
     "task": false
    }
   },
   "outputs": [
    {
     "name": "stderr",
     "output_type": "stream",
     "text": [
      "<ipython-input-90-58fe68e8332b>:26: DeprecationWarning: Call to deprecated `__contains__` (Method will be removed in 4.0.0, use self.wv.__contains__() instead).\n",
      "  if token in self.model:\n",
      "<ipython-input-90-58fe68e8332b>:27: DeprecationWarning: Call to deprecated `__getitem__` (Method will be removed in 4.0.0, use self.wv.__getitem__() instead).\n",
      "  doc_dict[doc_id] += self.model[token]\n"
     ]
    }
   ],
   "source": [
    "##### Function check\n",
    "bm25_search_2 = partial(bm25_search, index_set=2)\n",
    "lsi_rerank = DenseRerankingModel(bm25_search_2, lsi, cosine_sim)\n",
    "lda_rerank = DenseRerankingModel(bm25_search_2, lda, jenson_shannon_sim)\n",
    "w2v_rerank = DenseRerankingModel(bm25_search_2, w2v, cosine_sim)\n",
    "w2v_pretrained_rerank = DenseRerankingModel(bm25_search_2, w2v_pretrained, cosine_sim)\n",
    "d2v_rerank = DenseRerankingModel(bm25_search_2, d2v, cosine_sim)\n",
    "\n",
    "##### "
   ]
  },
  {
   "cell_type": "markdown",
   "metadata": {
    "deletable": false,
    "editable": false,
    "nbgrader": {
     "cell_type": "markdown",
     "checksum": "bd904253f45f84e63bab3a69729058fc",
     "grade": false,
     "grade_id": "cell-93215dfe6bcf7cff",
     "locked": true,
     "points": 10,
     "schema_version": 3,
     "solution": false,
     "task": true
    }
   },
   "source": [
    "\\#### Please do not change this. This cell is used for grading."
   ]
  },
  {
   "cell_type": "markdown",
   "metadata": {
    "deletable": false,
    "editable": false,
    "nbgrader": {
     "cell_type": "markdown",
     "checksum": "b592e60292bfe3d9ef2930a354c4077a",
     "grade": false,
     "grade_id": "cell-aa694ff55fa91e7d",
     "locked": true,
     "schema_version": 3,
     "solution": false,
     "task": false
    }
   },
   "source": [
    "---\n",
    "Now, let us time the new search functions:"
   ]
  },
  {
   "cell_type": "code",
   "execution_count": 102,
   "metadata": {
    "deletable": false,
    "editable": false,
    "nbgrader": {
     "cell_type": "code",
     "checksum": "338c7e3528cba266a865a061287c0e38",
     "grade": false,
     "grade_id": "cell-5edbd481562ad91f",
     "locked": true,
     "schema_version": 3,
     "solution": false,
     "task": false
    }
   },
   "outputs": [
    {
     "name": "stdout",
     "output_type": "stream",
     "text": [
      "BM25: \n",
      "9.15 ms ± 670 µs per loop (mean ± std. dev. of 7 runs, 100 loops each)\n",
      "LSI: \n"
     ]
    },
    {
     "ename": "NotImplementedError",
     "evalue": "",
     "output_type": "error",
     "traceback": [
      "\u001b[0;31m---------------------------------------------------------------------------\u001b[0m",
      "\u001b[0;31mNotImplementedError\u001b[0m                       Traceback (most recent call last)",
      "\u001b[0;32m<ipython-input-102-0e4c10ccfe4a>\u001b[0m in \u001b[0;36m<module>\u001b[0;34m\u001b[0m\n\u001b[1;32m      3\u001b[0m \u001b[0mget_ipython\u001b[0m\u001b[0;34m(\u001b[0m\u001b[0;34m)\u001b[0m\u001b[0;34m.\u001b[0m\u001b[0mrun_line_magic\u001b[0m\u001b[0;34m(\u001b[0m\u001b[0;34m'timeit'\u001b[0m\u001b[0;34m,\u001b[0m \u001b[0;34m'bm25_search(query, 2)'\u001b[0m\u001b[0;34m)\u001b[0m\u001b[0;34m\u001b[0m\u001b[0;34m\u001b[0m\u001b[0m\n\u001b[1;32m      4\u001b[0m \u001b[0mprint\u001b[0m\u001b[0;34m(\u001b[0m\u001b[0;34m\"LSI: \"\u001b[0m\u001b[0;34m)\u001b[0m\u001b[0;34m\u001b[0m\u001b[0;34m\u001b[0m\u001b[0m\n\u001b[0;32m----> 5\u001b[0;31m \u001b[0mget_ipython\u001b[0m\u001b[0;34m(\u001b[0m\u001b[0;34m)\u001b[0m\u001b[0;34m.\u001b[0m\u001b[0mrun_line_magic\u001b[0m\u001b[0;34m(\u001b[0m\u001b[0;34m'timeit'\u001b[0m\u001b[0;34m,\u001b[0m \u001b[0;34m'lsi_rerank.search(query)'\u001b[0m\u001b[0;34m)\u001b[0m\u001b[0;34m\u001b[0m\u001b[0;34m\u001b[0m\u001b[0m\n\u001b[0m\u001b[1;32m      6\u001b[0m \u001b[0mprint\u001b[0m\u001b[0;34m(\u001b[0m\u001b[0;34m\"LDA: \"\u001b[0m\u001b[0;34m)\u001b[0m\u001b[0;34m\u001b[0m\u001b[0;34m\u001b[0m\u001b[0m\n\u001b[1;32m      7\u001b[0m \u001b[0mget_ipython\u001b[0m\u001b[0;34m(\u001b[0m\u001b[0;34m)\u001b[0m\u001b[0;34m.\u001b[0m\u001b[0mrun_line_magic\u001b[0m\u001b[0;34m(\u001b[0m\u001b[0;34m'timeit'\u001b[0m\u001b[0;34m,\u001b[0m \u001b[0;34m'lda_rerank.search(query)'\u001b[0m\u001b[0;34m)\u001b[0m\u001b[0;34m\u001b[0m\u001b[0;34m\u001b[0m\u001b[0m\n",
      "\u001b[0;32m/usr/local/anaconda3/lib/python3.8/site-packages/IPython/core/interactiveshell.py\u001b[0m in \u001b[0;36mrun_line_magic\u001b[0;34m(self, magic_name, line, _stack_depth)\u001b[0m\n\u001b[1;32m   2325\u001b[0m                 \u001b[0mkwargs\u001b[0m\u001b[0;34m[\u001b[0m\u001b[0;34m'local_ns'\u001b[0m\u001b[0;34m]\u001b[0m \u001b[0;34m=\u001b[0m \u001b[0mself\u001b[0m\u001b[0;34m.\u001b[0m\u001b[0mget_local_scope\u001b[0m\u001b[0;34m(\u001b[0m\u001b[0mstack_depth\u001b[0m\u001b[0;34m)\u001b[0m\u001b[0;34m\u001b[0m\u001b[0;34m\u001b[0m\u001b[0m\n\u001b[1;32m   2326\u001b[0m             \u001b[0;32mwith\u001b[0m \u001b[0mself\u001b[0m\u001b[0;34m.\u001b[0m\u001b[0mbuiltin_trap\u001b[0m\u001b[0;34m:\u001b[0m\u001b[0;34m\u001b[0m\u001b[0;34m\u001b[0m\u001b[0m\n\u001b[0;32m-> 2327\u001b[0;31m                 \u001b[0mresult\u001b[0m \u001b[0;34m=\u001b[0m \u001b[0mfn\u001b[0m\u001b[0;34m(\u001b[0m\u001b[0;34m*\u001b[0m\u001b[0margs\u001b[0m\u001b[0;34m,\u001b[0m \u001b[0;34m**\u001b[0m\u001b[0mkwargs\u001b[0m\u001b[0;34m)\u001b[0m\u001b[0;34m\u001b[0m\u001b[0;34m\u001b[0m\u001b[0m\n\u001b[0m\u001b[1;32m   2328\u001b[0m             \u001b[0;32mreturn\u001b[0m \u001b[0mresult\u001b[0m\u001b[0;34m\u001b[0m\u001b[0;34m\u001b[0m\u001b[0m\n\u001b[1;32m   2329\u001b[0m \u001b[0;34m\u001b[0m\u001b[0m\n",
      "\u001b[0;32m<decorator-gen-53>\u001b[0m in \u001b[0;36mtimeit\u001b[0;34m(self, line, cell, local_ns)\u001b[0m\n",
      "\u001b[0;32m/usr/local/anaconda3/lib/python3.8/site-packages/IPython/core/magic.py\u001b[0m in \u001b[0;36m<lambda>\u001b[0;34m(f, *a, **k)\u001b[0m\n\u001b[1;32m    185\u001b[0m     \u001b[0;31m# but it's overkill for just that one bit of state.\u001b[0m\u001b[0;34m\u001b[0m\u001b[0;34m\u001b[0m\u001b[0;34m\u001b[0m\u001b[0m\n\u001b[1;32m    186\u001b[0m     \u001b[0;32mdef\u001b[0m \u001b[0mmagic_deco\u001b[0m\u001b[0;34m(\u001b[0m\u001b[0marg\u001b[0m\u001b[0;34m)\u001b[0m\u001b[0;34m:\u001b[0m\u001b[0;34m\u001b[0m\u001b[0;34m\u001b[0m\u001b[0m\n\u001b[0;32m--> 187\u001b[0;31m         \u001b[0mcall\u001b[0m \u001b[0;34m=\u001b[0m \u001b[0;32mlambda\u001b[0m \u001b[0mf\u001b[0m\u001b[0;34m,\u001b[0m \u001b[0;34m*\u001b[0m\u001b[0ma\u001b[0m\u001b[0;34m,\u001b[0m \u001b[0;34m**\u001b[0m\u001b[0mk\u001b[0m\u001b[0;34m:\u001b[0m \u001b[0mf\u001b[0m\u001b[0;34m(\u001b[0m\u001b[0;34m*\u001b[0m\u001b[0ma\u001b[0m\u001b[0;34m,\u001b[0m \u001b[0;34m**\u001b[0m\u001b[0mk\u001b[0m\u001b[0;34m)\u001b[0m\u001b[0;34m\u001b[0m\u001b[0;34m\u001b[0m\u001b[0m\n\u001b[0m\u001b[1;32m    188\u001b[0m \u001b[0;34m\u001b[0m\u001b[0m\n\u001b[1;32m    189\u001b[0m         \u001b[0;32mif\u001b[0m \u001b[0mcallable\u001b[0m\u001b[0;34m(\u001b[0m\u001b[0marg\u001b[0m\u001b[0;34m)\u001b[0m\u001b[0;34m:\u001b[0m\u001b[0;34m\u001b[0m\u001b[0;34m\u001b[0m\u001b[0m\n",
      "\u001b[0;32m/usr/local/anaconda3/lib/python3.8/site-packages/IPython/core/magics/execution.py\u001b[0m in \u001b[0;36mtimeit\u001b[0;34m(self, line, cell, local_ns)\u001b[0m\n\u001b[1;32m   1167\u001b[0m             \u001b[0;32mfor\u001b[0m \u001b[0mindex\u001b[0m \u001b[0;32min\u001b[0m \u001b[0mrange\u001b[0m\u001b[0;34m(\u001b[0m\u001b[0;36m0\u001b[0m\u001b[0;34m,\u001b[0m \u001b[0;36m10\u001b[0m\u001b[0;34m)\u001b[0m\u001b[0;34m:\u001b[0m\u001b[0;34m\u001b[0m\u001b[0;34m\u001b[0m\u001b[0m\n\u001b[1;32m   1168\u001b[0m                 \u001b[0mnumber\u001b[0m \u001b[0;34m=\u001b[0m \u001b[0;36m10\u001b[0m \u001b[0;34m**\u001b[0m \u001b[0mindex\u001b[0m\u001b[0;34m\u001b[0m\u001b[0;34m\u001b[0m\u001b[0m\n\u001b[0;32m-> 1169\u001b[0;31m                 \u001b[0mtime_number\u001b[0m \u001b[0;34m=\u001b[0m \u001b[0mtimer\u001b[0m\u001b[0;34m.\u001b[0m\u001b[0mtimeit\u001b[0m\u001b[0;34m(\u001b[0m\u001b[0mnumber\u001b[0m\u001b[0;34m)\u001b[0m\u001b[0;34m\u001b[0m\u001b[0;34m\u001b[0m\u001b[0m\n\u001b[0m\u001b[1;32m   1170\u001b[0m                 \u001b[0;32mif\u001b[0m \u001b[0mtime_number\u001b[0m \u001b[0;34m>=\u001b[0m \u001b[0;36m0.2\u001b[0m\u001b[0;34m:\u001b[0m\u001b[0;34m\u001b[0m\u001b[0;34m\u001b[0m\u001b[0m\n\u001b[1;32m   1171\u001b[0m                     \u001b[0;32mbreak\u001b[0m\u001b[0;34m\u001b[0m\u001b[0;34m\u001b[0m\u001b[0m\n",
      "\u001b[0;32m/usr/local/anaconda3/lib/python3.8/site-packages/IPython/core/magics/execution.py\u001b[0m in \u001b[0;36mtimeit\u001b[0;34m(self, number)\u001b[0m\n\u001b[1;32m    167\u001b[0m         \u001b[0mgc\u001b[0m\u001b[0;34m.\u001b[0m\u001b[0mdisable\u001b[0m\u001b[0;34m(\u001b[0m\u001b[0;34m)\u001b[0m\u001b[0;34m\u001b[0m\u001b[0;34m\u001b[0m\u001b[0m\n\u001b[1;32m    168\u001b[0m         \u001b[0;32mtry\u001b[0m\u001b[0;34m:\u001b[0m\u001b[0;34m\u001b[0m\u001b[0;34m\u001b[0m\u001b[0m\n\u001b[0;32m--> 169\u001b[0;31m             \u001b[0mtiming\u001b[0m \u001b[0;34m=\u001b[0m \u001b[0mself\u001b[0m\u001b[0;34m.\u001b[0m\u001b[0minner\u001b[0m\u001b[0;34m(\u001b[0m\u001b[0mit\u001b[0m\u001b[0;34m,\u001b[0m \u001b[0mself\u001b[0m\u001b[0;34m.\u001b[0m\u001b[0mtimer\u001b[0m\u001b[0;34m)\u001b[0m\u001b[0;34m\u001b[0m\u001b[0;34m\u001b[0m\u001b[0m\n\u001b[0m\u001b[1;32m    170\u001b[0m         \u001b[0;32mfinally\u001b[0m\u001b[0;34m:\u001b[0m\u001b[0;34m\u001b[0m\u001b[0;34m\u001b[0m\u001b[0m\n\u001b[1;32m    171\u001b[0m             \u001b[0;32mif\u001b[0m \u001b[0mgcold\u001b[0m\u001b[0;34m:\u001b[0m\u001b[0;34m\u001b[0m\u001b[0;34m\u001b[0m\u001b[0m\n",
      "\u001b[0;32m<magic-timeit>\u001b[0m in \u001b[0;36minner\u001b[0;34m(_it, _timer)\u001b[0m\n",
      "\u001b[0;32m<ipython-input-100-509fca99fa5c>\u001b[0m in \u001b[0;36msearch\u001b[0;34m(self, query, K)\u001b[0m\n\u001b[1;32m     21\u001b[0m         \"\"\"\n\u001b[1;32m     22\u001b[0m         \u001b[0;31m# YOUR CODE HERE\u001b[0m\u001b[0;34m\u001b[0m\u001b[0;34m\u001b[0m\u001b[0;34m\u001b[0m\u001b[0m\n\u001b[0;32m---> 23\u001b[0;31m         \u001b[0;32mraise\u001b[0m \u001b[0mNotImplementedError\u001b[0m\u001b[0;34m(\u001b[0m\u001b[0;34m)\u001b[0m\u001b[0;34m\u001b[0m\u001b[0;34m\u001b[0m\u001b[0m\n\u001b[0m",
      "\u001b[0;31mNotImplementedError\u001b[0m: "
     ]
    }
   ],
   "source": [
    "query = \"algebraic functions\"\n",
    "print(\"BM25: \")\n",
    "%timeit bm25_search(query, 2)\n",
    "print(\"LSI: \")\n",
    "%timeit lsi_rerank.search(query)\n",
    "print(\"LDA: \")\n",
    "%timeit lda_rerank.search(query)\n",
    "print(\"W2V: \")\n",
    "%timeit w2v_rerank.search(query)\n",
    "print(\"W2V(Pretrained): \")\n",
    "%timeit w2v_pretrained_rerank.search(query)\n",
    "print(\"D2V:\")\n",
    "%timeit d2v_rerank.search(query)"
   ]
  },
  {
   "cell_type": "markdown",
   "metadata": {
    "deletable": false,
    "editable": false,
    "nbgrader": {
     "cell_type": "markdown",
     "checksum": "c45c5e3f015b2de89d9d39ae3766368b",
     "grade": false,
     "grade_id": "cell-85c50f2ab9eec301",
     "locked": true,
     "schema_version": 3,
     "solution": false,
     "task": false
    }
   },
   "source": [
    "---\n",
    "As you can see, it is much faster (but BM25 is still orders of magnitude faster)."
   ]
  },
  {
   "cell_type": "markdown",
   "metadata": {
    "deletable": false,
    "editable": false,
    "nbgrader": {
     "cell_type": "markdown",
     "checksum": "1e2f3388e3807659f303fe31a75a010e",
     "grade": false,
     "grade_id": "cell-5071bb99b2af61cb",
     "locked": true,
     "schema_version": 3,
     "solution": false,
     "task": false
    }
   },
   "source": [
    "---\n",
    "## Section 10: Evaluation & Analysis (30 points) <a class=\"anchor\" id=\"reranking_eval\"></a>\n",
    "\n",
    "[Back to Part 2](#part2)\n",
    "\n",
    "[Previously](#evaluation) we have implemented some evaluation metrics and used them for measuring the ranking performance of term-based IR algorithms. In this section, we will do the same for semantic methods, both with and without re-ranking.\n",
    "\n",
    "### Section 10.1: Plot (10 points)\n",
    "\n",
    "First, gather the results. The results should consider the index set, the different search functions and different metrics. Plot the results in bar charts, per metric, with clear labels.\n",
    "\n",
    "Then, gather only the re-ranking models, and plot and compare them with the results obtained in part 1 (only index set 2)."
   ]
  },
  {
   "cell_type": "code",
   "execution_count": null,
   "metadata": {
    "deletable": false,
    "editable": false,
    "nbgrader": {
     "cell_type": "code",
     "checksum": "4fe81520ac6413a803838913fd64de03",
     "grade": false,
     "grade_id": "cell-b672fe6dfae0b1ce",
     "locked": true,
     "schema_version": 3,
     "solution": false,
     "task": false
    }
   },
   "outputs": [],
   "source": [
    "list_of_sem_search_fns = [\n",
    "    (\"lda\", drm_lda.search),\n",
    "    (\"lsi\", drm_lsi.search),\n",
    "    (\"w2v\", drm_w2v.search),\n",
    "    (\"w2v_pretrained\", drm_w2v_pretrained.search),\n",
    "    (\"d2v\", drm_d2v.search),\n",
    "    (\"lsi_rr\", lsi_rerank.search),\n",
    "    (\"lda_rr\", lda_rerank.search),\n",
    "    (\"w2v_rr\", w2v_rerank.search),\n",
    "    (\"w2v_pretrained_rr\", w2v_pretrained_rerank.search),\n",
    "    (\"d2v_rr\", d2v_rerank.search),\n",
    "    \n",
    "]"
   ]
  },
  {
   "cell_type": "code",
   "execution_count": null,
   "metadata": {
    "deletable": false,
    "nbgrader": {
     "cell_type": "code",
     "checksum": "54707c4afac084299aeefa047259b4a9",
     "grade": true,
     "grade_id": "cell-7dd8273b0f5a3c22",
     "locked": false,
     "points": 10,
     "schema_version": 3,
     "solution": true,
     "task": false
    }
   },
   "outputs": [],
   "source": [
    "# YOUR CODE HERE\n",
    "raise NotImplementedError()"
   ]
  },
  {
   "cell_type": "markdown",
   "metadata": {
    "deletable": false,
    "editable": false,
    "nbgrader": {
     "cell_type": "markdown",
     "checksum": "a8a3b6189bdde66704c694d85e38d049",
     "grade": false,
     "grade_id": "cell-deb2ef3daa306e82",
     "locked": true,
     "schema_version": 3,
     "solution": false,
     "task": false
    }
   },
   "source": [
    "### Section 10.2: Summary (20 points)\n",
    "\n",
    "Your summary should compare methods from Part 1 and Part 2 (only for index set 2). State what you expected to see in the results, followed by either supporting evidence *or* justify why the results did not support your expectations. Consider the availability of data, scalability, domain/type of data, etc."
   ]
  },
  {
   "cell_type": "markdown",
   "metadata": {
    "deletable": false,
    "nbgrader": {
     "cell_type": "markdown",
     "checksum": "ff97c43837d10bff6aaffa75e1492887",
     "grade": true,
     "grade_id": "cell-ec5dd7d9cf59dd86",
     "locked": false,
     "points": 20,
     "schema_version": 3,
     "solution": true,
     "task": false
    }
   },
   "source": [
    "YOUR ANSWER HERE"
   ]
  }
 ],
 "metadata": {
  "kernelspec": {
   "display_name": "Python 3",
   "language": "python",
   "name": "python3"
  },
  "language_info": {
   "codemirror_mode": {
    "name": "ipython",
    "version": 3
   },
   "file_extension": ".py",
   "mimetype": "text/x-python",
   "name": "python",
   "nbconvert_exporter": "python",
   "pygments_lexer": "ipython3",
   "version": "3.8.5"
  }
 },
 "nbformat": 4,
 "nbformat_minor": 4
}
