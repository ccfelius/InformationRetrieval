{
 "cells": [
  {
   "cell_type": "markdown",
   "metadata": {
    "deletable": false,
    "editable": false,
    "nbgrader": {
     "cell_type": "markdown",
     "checksum": "549d14426afb2109edb71ef6e0223d5b",
     "grade": false,
     "grade_id": "cell-133a4667b3e842fd",
     "locked": true,
     "schema_version": 3,
     "solution": false,
     "task": false
    }
   },
   "source": [
    "# Homework 2: Learning to Rank <a class=\"anchor\" id=\"toptop\"></a>"
   ]
  },
  {
   "cell_type": "markdown",
   "metadata": {
    "deletable": false,
    "editable": false,
    "nbgrader": {
     "cell_type": "markdown",
     "checksum": "188d0bd6218df31e0a8795322a1b9912",
     "grade": false,
     "grade_id": "cell-9409dd22f820096c",
     "locked": true,
     "schema_version": 3,
     "solution": false,
     "task": false
    }
   },
   "source": [
    "**Submission instructions**:\n",
    "- Only the code `TODO: Implement this!` denotes that these sections are graded. Please do not delete the comment #YOUR CODE HERE.\n",
    "- Vectoriize your code instead of using for-loop when implementing Neural Nets.\n",
    "- The notebook you submit has to have the student ids, separated by underscores (E.g., `12341234_12341234_12341234.ipynb`). \n",
    "- This will be parsed by a regexp, so please double check your filename.\n",
    "- Only one member of each group has to submit the file to canvas.\n",
    "- Make sure to check that your notebook runs before submission. A quick way to do this is to restart the kernel and run all the cells.  \n",
    "- Please do not delete/add new cells. Removing cells can lead to grade deduction. Also do not change the number of parameters in the pre-defined functions.\n",
    "- Note, that you are not allowed to use Google Colab.\n",
    "\n",
    "**Learning Goals**:\n",
    "- Part 1: Offline LTR\n",
    "  - Learn how to implement pointwise, pairwise and listwise algorithms for learning to rank \n",
    "- Part 2: Online LTR\n",
    "  - Implement learning to rank algorithms from historical clicks and online evaluation of ranking algorithms.\n",
    "- Learn their weaknesses & strengths and when each method is suitable. \n",
    "\n",
    "\n",
    "\n",
    "**Files to submit along with the completed notebook**:\n",
    "- `pointwise_regression.json`\n",
    "- `pointwise_classification.json`\n",
    "- `pairwise.json`\n",
    "- `listwise.json`\n",
    "- `biased_model.json'\n",
    "- `unbiased_model.json'\n",
    "\n",
    "\n",
    "---\n",
    "**Recommended Reading**:\n",
    "- Part 1:\n",
    "  - Chris Burges, Tal Shaked, Erin Renshaw, Ari Lazier, Matt Deeds, Nicole Hamilton, and Greg Hullender. Learning to rank using gradient descent. InProceedings of the 22nd international conference on Machine learning, pages 89–96, 2005.\n",
    "  - Christopher J Burges, Robert Ragno, and Quoc V Le. Learning to rank with nonsmooth cost functions. In Advances inneural information processing systems, pages 193–200, 2007\n",
    "  - (Sections 1, 2 and 4) Christopher JC Burges. From ranknet to lambdarank to lambdamart: An overview. Learning, 11(23-581):81, 2010\n",
    "  \n",
    "\n",
    "Additional Resources: \n",
    "- This assignment requires knowledge of [PyTorch](https://pytorch.org/). If you are unfamiliar with PyTorch, you can go over [these series of tutorials](https://pytorch.org/tutorials/beginner/deep_learning_60min_blitz.html)\n",
    "\n",
    "In the previous assignment, you experimented with retrieval with different ranking functions and in addition, different document representations. \n",
    "\n",
    "This assignment deals directly with learning to rank (LTR). In offline LTR (Part 1), You will learn how to implement methods from the three approaches associated with learning to rank: pointwise, pairwise and listwise. \n",
    "\n",
    "In Part 2, you will learn about online LTR. Instead of using manually judged datasets, in online LTR, we learn from user interactions. You will learn how to simulate clicks using click models, how to learn unbiasedly from historical clicks and how to evaluate different rankers in an online environment using multileaving methods. \n",
    "\n",
    "**Note:**\n",
    "  - The dataset used in this assignment is +100Mb in size. You may need around 2Gb of RAM for running the whole notebook.\n"
   ]
  },
  {
   "cell_type": "markdown",
   "metadata": {
    "deletable": false,
    "editable": false,
    "nbgrader": {
     "cell_type": "markdown",
     "checksum": "2a595c150f39970fb6ad72e463fe8b44",
     "grade": false,
     "grade_id": "cell-09127508ac207429",
     "locked": true,
     "schema_version": 3,
     "solution": false,
     "task": false
    }
   },
   "source": [
    "# Table of Contents  <a class=\"anchor\" id=\"top\"></a>\n",
    "\n",
    "[Back to top](#toptop)\n",
    "\n",
    "\n",
    "Table of contents:\n",
    "\n",
    "\n",
    " - [Chapter 1: Offline LTR](#o_LTR) (345 points)\n",
    "     - [Section 1: Dataset and Utility](#dataU) \n",
    "     - [Section 2: Pointwtise LTR](#pointwiseLTR) (55 points)\n",
    "     - [Section 3: Pairwise LTR](#pairwiseLTR) (60 points)\n",
    "     - [Section 4: Pairwise Speed-up RankNet](#SpairwiseLTR) (70 points)\n",
    "     - [Section 5: Listwise LTR](#listwiseLTR) (80 points)\n",
    "     - [Section 6: Evaluation](#evaluation1) (70 points)\n",
    " - [Chapter 2: Online LTR](#onLTR) (180 points)\n",
    "     - [Section 1: Clicks Simulation](#clicks) (15 points)\n",
    "     - [Section 2: Counterfactual](#cLTR) (90 points)\n",
    "     - [Section 3: Online Evaluation](#on_eval) (75 points)"
   ]
  },
  {
   "cell_type": "code",
   "execution_count": 1,
   "metadata": {
    "deletable": false,
    "editable": false,
    "nbgrader": {
     "cell_type": "code",
     "checksum": "7be29958190a403c77402e97c21c5252",
     "grade": false,
     "grade_id": "cell-b08a635cb01047dd",
     "locked": true,
     "schema_version": 3,
     "solution": false,
     "task": false
    }
   },
   "outputs": [],
   "source": [
    "import os\n",
    "import json\n",
    "import itertools\n",
    "from argparse import Namespace\n",
    "from collections import OrderedDict\n",
    "from functools import partial\n",
    "\n",
    "\n",
    "import torch\n",
    "import numpy as np\n",
    "from torch import nn\n",
    "from torch.optim import Adam\n",
    "import torch.nn.functional as F\n",
    "from tqdm.notebook import tqdm, trange\n",
    "from torch.utils.data import Dataset, DataLoader\n",
    "\n",
    "\n",
    "import matplotlib.pyplot as plt\n",
    "from matplotlib.pyplot import cm\n",
    "\n",
    "import pandas as pd\n",
    "\n",
    "import dataset\n",
    "import evaluate\n"
   ]
  },
  {
   "cell_type": "markdown",
   "metadata": {
    "deletable": false,
    "editable": false,
    "nbgrader": {
     "cell_type": "markdown",
     "checksum": "8f126271fe03e0c82c752179a1293748",
     "grade": false,
     "grade_id": "cell-ef602d983baa9d90",
     "locked": true,
     "schema_version": 3,
     "solution": false,
     "task": false
    }
   },
   "source": [
    "# Chapter 1: Offline LTR <a class=\"anchor\" id=\"o_LTR\"></a>"
   ]
  },
  {
   "cell_type": "markdown",
   "metadata": {
    "deletable": false,
    "editable": false,
    "nbgrader": {
     "cell_type": "markdown",
     "checksum": "83d5c5098ff7e903a1d4475f78d028be",
     "grade": false,
     "grade_id": "cell-9978e0796016b961",
     "locked": true,
     "schema_version": 3,
     "solution": false,
     "task": false
    }
   },
   "source": [
    "A typical setup of learning to rank involves a feature vector constructed using a query-document pair, and a set of relevance judgements. You are given a set of triples (`query`, `document`, `relevance grade`); where relevance grade is an *ordinal* variable  with  5  grades,  for example: {`perfect`,`excellent`,`good`,`fair`,`bad`),  typically  labeled  by human annotators.  \n",
    "\n",
    "In this assignment, you are already given the feature vector for a given document and query pair. To access these vectors, see the following code cells (note: the dataset will be automatically downloaded & the first time the next cell runs, it will take a while!)"
   ]
  },
  {
   "cell_type": "markdown",
   "metadata": {
    "deletable": false,
    "editable": false,
    "nbgrader": {
     "cell_type": "markdown",
     "checksum": "62aa687b659ad249d6b6190d4b1f7d9e",
     "grade": false,
     "grade_id": "cell-d60b3e2cd8d41210",
     "locked": true,
     "schema_version": 3,
     "solution": false,
     "task": false
    }
   },
   "source": [
    "## Section 1: Data and Utility <a class=\"anchor\" id=\"dataU\"></a>\n",
    "\n",
    "[Back to TOC](#top)\n",
    "\n",
    "First let's get familiar with the dataset and some utility methods for our implementations.\n",
    "\n",
    "### Section 1.1 Dataset stats\n",
    "\n",
    "| Split Name | \\# queries | \\# docs | \\# features |\n",
    "| :- | :--: | :--: | :--: |\n",
    "| train | 2735 | 85227 | 501 |\n",
    "| validation | 403 | 12794 | 501 |\n",
    "| test | 949 | 29881 | 501 |\n"
   ]
  },
  {
   "cell_type": "code",
   "execution_count": 2,
   "metadata": {
    "deletable": false,
    "editable": false,
    "nbgrader": {
     "cell_type": "code",
     "checksum": "e11c95b755f0b252276313365c6ff290",
     "grade": false,
     "grade_id": "cell-d4779843ecb42649",
     "locked": true,
     "schema_version": 3,
     "solution": false,
     "task": false
    }
   },
   "outputs": [],
   "source": [
    "dataset.download_dataset()\n",
    "data = dataset.get_dataset()\n",
    "# there is only 1 fold for this dataset \n",
    "data = data.get_data_folds()[0]\n",
    "# read in the data\n",
    "data.read_data()"
   ]
  },
  {
   "cell_type": "code",
   "execution_count": 3,
   "metadata": {
    "deletable": false,
    "editable": false,
    "nbgrader": {
     "cell_type": "code",
     "checksum": "8008b140d6012489be5056ec30e90444",
     "grade": false,
     "grade_id": "cell-2a79356db5683374",
     "locked": true,
     "schema_version": 3,
     "solution": false,
     "task": false
    }
   },
   "outputs": [
    {
     "name": "stdout",
     "output_type": "stream",
     "text": [
      "Number of features: 501\n",
      "Split: train\n",
      "\tNumber of queries 2735\n",
      "\tNumber of docs 85227\n",
      "Split: validation\n",
      "\tNumber of queries 403\n",
      "\tNumber of docs 12794\n",
      "Split: test\n",
      "\tNumber of queries 949\n",
      "\tNumber of docs 29881\n"
     ]
    }
   ],
   "source": [
    "print(f\"Number of features: {data.num_features}\")\n",
    "# print some statistics\n",
    "for split in [\"train\", \"validation\", \"test\"]:\n",
    "    print(f\"Split: {split}\")\n",
    "    split = getattr(data, split)\n",
    "    print(f\"\\tNumber of queries {split.num_queries()}\")\n",
    "    print(f\"\\tNumber of docs {split.num_docs()}\")"
   ]
  },
  {
   "cell_type": "markdown",
   "metadata": {
    "deletable": false,
    "editable": false,
    "nbgrader": {
     "cell_type": "markdown",
     "checksum": "70b764af87765e64827eb896b0ad8643",
     "grade": false,
     "grade_id": "cell-5b034476f52f28bb",
     "locked": true,
     "schema_version": 3,
     "solution": false,
     "task": false
    }
   },
   "source": [
    "### Section 1.2 Utility classes/methods\n",
    "\n",
    "The following cells contain code that will be useful for the assigment. "
   ]
  },
  {
   "cell_type": "code",
   "execution_count": 4,
   "metadata": {
    "deletable": false,
    "editable": false,
    "nbgrader": {
     "cell_type": "code",
     "checksum": "cb52800727e7a5fe81c92706c34e6471",
     "grade": false,
     "grade_id": "cell-4ad2f0d8e4f66d37",
     "locked": true,
     "schema_version": 3,
     "solution": false,
     "task": false
    }
   },
   "outputs": [],
   "source": [
    "# these is a useful class to create torch DataLoaders, and can be used during training\n",
    "class LTRData(Dataset):\n",
    "    def __init__(self, data, split):\n",
    "        split = {\n",
    "            \"train\": data.train,\n",
    "            \"validation\": data.validation,\n",
    "            \"test\": data.test\n",
    "        }.get(split)\n",
    "        assert split is not None, \"Invalid split!\"\n",
    "        features, labels = split.feature_matrix, split.label_vector\n",
    "        self.features = torch.FloatTensor(features)\n",
    "        self.labels = torch.FloatTensor(labels)\n",
    "    \n",
    "    def __len__(self):\n",
    "        return self.features.size(0)\n",
    "\n",
    "    def __getitem__(self, i):\n",
    "        return self.features[i], self.labels[i]"
   ]
  },
  {
   "cell_type": "code",
   "execution_count": 5,
   "metadata": {
    "deletable": false,
    "editable": false,
    "nbgrader": {
     "cell_type": "code",
     "checksum": "61170cd9d5a02b3f9e23364bf7d46c95",
     "grade": false,
     "grade_id": "cell-6be5d30fd0264dc3",
     "locked": true,
     "schema_version": 3,
     "solution": false,
     "task": false
    }
   },
   "outputs": [
    {
     "name": "stdout",
     "output_type": "stream",
     "text": [
      "torch.Size([32, 501]) torch.Size([32])\n"
     ]
    }
   ],
   "source": [
    "## example \n",
    "train_dl = DataLoader(LTRData(data, \"train\"), batch_size=32, shuffle=True)\n",
    "# this is how you would use it to quickly iterate over the train/val/test sets \n",
    "# - (of course, without the break statement!)\n",
    "for (x, y) in train_dl:\n",
    "    print(x.size(), y.size())\n",
    "    break"
   ]
  },
  {
   "cell_type": "markdown",
   "metadata": {
    "deletable": false,
    "editable": false,
    "nbgrader": {
     "cell_type": "markdown",
     "checksum": "50bdb8c74b13357983e5f5f435b70115",
     "grade": false,
     "grade_id": "cell-a79c0f58db4af010",
     "locked": true,
     "schema_version": 3,
     "solution": false,
     "task": false
    }
   },
   "source": [
    "`evaluate_model` evaluates a model, on a given split."
   ]
  },
  {
   "cell_type": "code",
   "execution_count": 6,
   "metadata": {
    "deletable": false,
    "editable": false,
    "nbgrader": {
     "cell_type": "code",
     "checksum": "7ca1e81dd1f55111cda0a04093fd223b",
     "grade": false,
     "grade_id": "cell-b66759e20b89e0b5",
     "locked": true,
     "schema_version": 3,
     "solution": false,
     "task": false
    }
   },
   "outputs": [],
   "source": [
    "# this function evaluates a model, on a given split\n",
    "def evaluate_model(pred_fn, split, batch_size=256, print_results=False, q_level=False):\n",
    "    dl = DataLoader(LTRData(data, split), batch_size=batch_size)\n",
    "    all_scores = []\n",
    "    all_labels = []\n",
    "    for (x, y) in tqdm(dl, desc=f'Eval ({split})', leave=False):\n",
    "        all_labels.append(y.squeeze().numpy())\n",
    "        \n",
    "        with torch.no_grad():\n",
    "            output = pred_fn(x)\n",
    "            all_scores.append(output.squeeze().numpy())\n",
    "            \n",
    "    split = {\n",
    "            \"train\": data.train,\n",
    "            \"validation\": data.validation,\n",
    "            \"test\": data.test\n",
    "    }.get(split)   \n",
    "    results = evaluate.evaluate2(np.asarray(all_scores), np.asarray(all_labels), print_results=print_results, q_level=q_level)\n",
    "\n",
    "    return results\n"
   ]
  },
  {
   "cell_type": "code",
   "execution_count": 7,
   "metadata": {
    "deletable": false,
    "editable": false,
    "nbgrader": {
     "cell_type": "code",
     "checksum": "c605f95e2cd732774f1813a69bb8c3fc",
     "grade": false,
     "grade_id": "cell-66bc9b1a832d14d0",
     "locked": true,
     "schema_version": 3,
     "solution": false,
     "task": false
    }
   },
   "outputs": [
    {
     "data": {
      "application/vnd.jupyter.widget-view+json": {
       "model_id": "",
       "version_major": 2,
       "version_minor": 0
      },
      "text/plain": [
       "Eval (validation):   0%|          | 0/50 [00:00<?, ?it/s]"
      ]
     },
     "metadata": {},
     "output_type": "display_data"
    },
    {
     "name": "stdout",
     "output_type": "stream",
     "text": [
      "\"metric\": \"mean\" (\"standard deviation\")\n",
      "dcg: 81.5263 (20.30438)\n",
      "dcg@03: 3.3016 (2.22189)\n",
      "dcg@05: 4.9539 (2.80962)\n",
      "dcg@10: 8.1515 (3.75737)\n",
      "dcg@20: 13.4690 (5.86335)\n",
      "ndcg: 0.6550 (0.05473)\n",
      "ndcg@03: 0.1180 (0.08297)\n",
      "ndcg@05: 0.1348 (0.08042)\n",
      "ndcg@10: 0.1622 (0.07897)\n",
      "ndcg@20: 0.2008 (0.07960)\n",
      "precision@01: 0.0200 (0.14000)\n",
      "precision@03: 0.0600 (0.12806)\n",
      "precision@05: 0.0760 (0.11926)\n",
      "precision@10: 0.0900 (0.10050)\n",
      "precision@20: 0.1010 (0.07842)\n",
      "recall@01: 0.0007 (0.00483)\n",
      "recall@03: 0.0080 (0.01888)\n",
      "recall@05: 0.0168 (0.02868)\n",
      "recall@10: 0.0392 (0.05210)\n",
      "recall@20: 0.0835 (0.06458)\n",
      "relevant rank: 131.0898 (75.43811)\n",
      "relevant rank per query: 3096.3400 (1466.14619)\n"
     ]
    },
    {
     "name": "stderr",
     "output_type": "stream",
     "text": [
      "/usr/local/anaconda3/envs/torchenv/lib/python3.8/site-packages/numpy/core/_asarray.py:83: VisibleDeprecationWarning: Creating an ndarray from ragged nested sequences (which is a list-or-tuple of lists-or-tuples-or ndarrays with different lengths or shapes) is deprecated. If you meant to do this, you must specify 'dtype=object' when creating the ndarray\n",
      "  return array(a, dtype, copy=False, order=order)\n"
     ]
    }
   ],
   "source": [
    "## example \n",
    "# function that scores a given feature vector e.g a network\n",
    "net = nn.Linear(501, 1)\n",
    "# the evaluate method accepts a function. more specifically, a callable (such as pytorch modules) \n",
    "def notwork(x):\n",
    "    return net(x)\n",
    "# evaluate the function\n",
    "_ = evaluate_model(notwork, \"validation\", print_results=True)"
   ]
  },
  {
   "cell_type": "markdown",
   "metadata": {
    "deletable": false,
    "editable": false,
    "nbgrader": {
     "cell_type": "markdown",
     "checksum": "f71c11c5be87af7e7109a463a1e24c6c",
     "grade": false,
     "grade_id": "cell-66ae15ed8cb736b5",
     "locked": true,
     "schema_version": 3,
     "solution": false,
     "task": false
    }
   },
   "source": [
    "The next cell is used to generate reproducible results:"
   ]
  },
  {
   "cell_type": "code",
   "execution_count": 8,
   "metadata": {
    "deletable": false,
    "editable": false,
    "nbgrader": {
     "cell_type": "code",
     "checksum": "d81a93ddde3c0ae3be42eba5a6ba025d",
     "grade": false,
     "grade_id": "cell-df3d4a5ebf6dece6",
     "locked": true,
     "schema_version": 3,
     "solution": false,
     "task": false
    }
   },
   "outputs": [],
   "source": [
    "# use to get reproducible results\n",
    "def seed(random_seed):\n",
    "    import random\n",
    "    torch.manual_seed(random_seed)\n",
    "    torch.backends.cudnn.deterministic = True\n",
    "    torch.backends.cudnn.benchmark = False\n",
    "    np.random.seed(random_seed)\n",
    "    random.seed(random_seed)\n",
    "    "
   ]
  },
  {
   "cell_type": "markdown",
   "metadata": {
    "deletable": false,
    "editable": false,
    "nbgrader": {
     "cell_type": "markdown",
     "checksum": "acd2f7fa9d402a7704d9f7f5fc1c2c89",
     "grade": false,
     "grade_id": "cell-a29483034efce729",
     "locked": true,
     "schema_version": 3,
     "solution": false,
     "task": false
    }
   },
   "source": [
    "## Section 2: Pointwise LTR (55 points) <a class=\"anchor\" id=\"pointwiseLTR\"></a>\n",
    "\n",
    "[Back to TOC](#top)\n",
    "\n",
    "Let $x \\in \\mathbb{R}^d$ be an input feature vector, containing features for a query-document pair. Let $f: \\mathbb{R}^d \\rightarrow \\mathbb{R} $ be a function that maps this feature vector to a number $f(x)$ - either a relevance score (regression) or label (classification). The data $\\{x \\}$ are treated as feature vectors and the relevance judgements are treated as the target which we want to predict. \n",
    "\n",
    "In this section, you will implement a simple Pointwise model using either a regression or classification loss, and use the train set to train this model to predict (or classify) the relevance score. \n"
   ]
  },
  {
   "cell_type": "markdown",
   "metadata": {
    "deletable": false,
    "editable": false,
    "nbgrader": {
     "cell_type": "markdown",
     "checksum": "a0f5f848b2a3509141e384bd4d101923",
     "grade": false,
     "grade_id": "cell-fdcb0b1bd78f6eda",
     "locked": true,
     "schema_version": 3,
     "solution": false,
     "task": false
    }
   },
   "source": [
    "### Section 2.1: Neural Model (5 points)\n",
    "\n",
    "In the following cell, you will implement a simple pointwise LTR model: \n",
    "- Use a neural network to learn a Pointwise model using both a regression and a classification loss, using the relevance grades as the label. Use the following parameters: \n",
    "  - Layers: $501 (input) \\rightarrow 256 \\rightarrow o$ where $o$ is either 5 for classification or 1 for regression, where each layer is a linear layer (`nn.Linear`) with a ReLu activation function (`nn.ReLU`) in between the layers. Use the default weight initialization scheme. (Hint: use `nn.Sequential` for a one-line forward function!)\n",
    "  - Note: Do not use a `nn.Softmax` function here - it will be taken care of later!\n",
    "  - This network will also be used by other methods i.e Pairwise \n"
   ]
  },
  {
   "cell_type": "code",
   "execution_count": 9,
   "metadata": {
    "deletable": false,
    "nbgrader": {
     "cell_type": "code",
     "checksum": "cbaeb826028de6d6d7429ee18c90f455",
     "grade": false,
     "grade_id": "cell-e6ebad1d98f78bf0",
     "locked": false,
     "schema_version": 3,
     "solution": true,
     "task": false
    }
   },
   "outputs": [],
   "source": [
    "# TODO: Implement this! (5 points)\n",
    "class NeuralModule(nn.Module):\n",
    "    def __init__(self, output_dim):\n",
    "        \"\"\"\n",
    "        Initializes the Pointwise neural network. \n",
    "        Input: output_dim: The dimension of the output layer. In this assignment, \n",
    "                it is either 1 (regression) or 5 (classification)\n",
    "        \"\"\"\n",
    "        # YOUR CODE HERE\n",
    "        super().__init__()\n",
    "        self.model = nn.Sequential(\n",
    "            nn.Linear(in_features=501, out_features=256),\n",
    "            nn.ReLU(),\n",
    "            nn.Linear(in_features=256, out_features=output_dim))\n",
    "    \n",
    "    def forward(self, x):\n",
    "        \"\"\"\n",
    "        Takes in an input feature vector (of size 501) and produces the (regression/classification) output \n",
    "        Input: x: a [N, 501] tensor\n",
    "        Output: a [N, output_dim] tensor\n",
    "        \"\"\"\n",
    "        # YOUR CODE HERE\n",
    "        return self.model(x)\n",
    "        "
   ]
  },
  {
   "cell_type": "code",
   "execution_count": 10,
   "metadata": {
    "deletable": false,
    "editable": false,
    "nbgrader": {
     "cell_type": "code",
     "checksum": "eebff5ba2f470a05674e79514a6ba7bc",
     "grade": false,
     "grade_id": "cell-2326178594a8f44c",
     "locked": true,
     "schema_version": 3,
     "solution": false,
     "task": false
    }
   },
   "outputs": [],
   "source": [
    "point_nn_clf = NeuralModule(5)\n",
    "point_nn_reg = NeuralModule(1)"
   ]
  },
  {
   "cell_type": "code",
   "execution_count": 11,
   "metadata": {
    "deletable": false,
    "nbgrader": {
     "cell_type": "code",
     "checksum": "958fde08e4a9f04e633dc82bc85082dd",
     "grade": true,
     "grade_id": "cell-917f63ec6b575f59",
     "locked": false,
     "points": 3,
     "schema_version": 3,
     "solution": true,
     "task": false
    }
   },
   "outputs": [
    {
     "ename": "NotImplementedError",
     "evalue": "",
     "output_type": "error",
     "traceback": [
      "\u001b[0;31m---------------------------------------------------------------------------\u001b[0m",
      "\u001b[0;31mNotImplementedError\u001b[0m                       Traceback (most recent call last)",
      "\u001b[0;32m<ipython-input-11-15b94d1fa268>\u001b[0m in \u001b[0;36m<module>\u001b[0;34m\u001b[0m\n\u001b[1;32m      1\u001b[0m \u001b[0;31m# YOUR CODE HERE\u001b[0m\u001b[0;34m\u001b[0m\u001b[0;34m\u001b[0m\u001b[0;34m\u001b[0m\u001b[0m\n\u001b[0;32m----> 2\u001b[0;31m \u001b[0;32mraise\u001b[0m \u001b[0mNotImplementedError\u001b[0m\u001b[0;34m(\u001b[0m\u001b[0;34m)\u001b[0m\u001b[0;34m\u001b[0m\u001b[0;34m\u001b[0m\u001b[0m\n\u001b[0m",
      "\u001b[0;31mNotImplementedError\u001b[0m: "
     ]
    }
   ],
   "source": [
    "# YOUR CODE HERE\n",
    "raise NotImplementedError()"
   ]
  },
  {
   "cell_type": "code",
   "execution_count": 12,
   "metadata": {
    "deletable": false,
    "editable": false,
    "nbgrader": {
     "cell_type": "code",
     "checksum": "73bba77f886ccd469eb1b3c4370c830f",
     "grade": true,
     "grade_id": "cell-bd3bbcd6d22aa9b2",
     "locked": true,
     "points": 1,
     "schema_version": 3,
     "solution": false,
     "task": false
    }
   },
   "outputs": [],
   "source": [
    "# test the forward function\n",
    "n = 10\n",
    "inp = torch.rand(n, data.num_features)\n",
    "out = point_nn_clf(inp)\n",
    "### BEGIN HIDDEN TEST\n",
    "n = 20\n",
    "inp = torch.rand(n, data.num_features)\n",
    "out = point_nn_clf(inp)\n",
    "assert out.size(0) == n\n",
    "assert out.size(1) == 5\n",
    "### END HIDDEN TEST"
   ]
  },
  {
   "cell_type": "code",
   "execution_count": 13,
   "metadata": {
    "deletable": false,
    "editable": false,
    "nbgrader": {
     "cell_type": "code",
     "checksum": "5dfa481e9b325b14fdb26e39618d6169",
     "grade": true,
     "grade_id": "cell-1d92c755e64de89f",
     "locked": true,
     "points": 1,
     "schema_version": 3,
     "solution": false,
     "task": false
    }
   },
   "outputs": [],
   "source": [
    "# test the forward function\n",
    "n = 10\n",
    "inp = torch.rand(n, data.num_features)\n",
    "out = point_nn_reg(inp)\n",
    "### BEGIN HIDDEN TEST\n",
    "n = 20\n",
    "inp = torch.rand(n, data.num_features)\n",
    "out = point_nn_reg(inp)\n",
    "assert out.size(0) == n\n",
    "assert out.size(1) == 1\n",
    "### END HIDDEN TEST"
   ]
  },
  {
   "cell_type": "markdown",
   "metadata": {},
   "source": [
    "### Section 2.2: Loss Functions (5 points)\n",
    "Pointwise LTR algorithms use pointwise loss functions.\n",
    "Usually, the popular loss functions for pointwise LTR are:\n",
    " - Cross entropy loss for classification (3 points)\n",
    " - Regression loss (2 points)"
   ]
  },
  {
   "cell_type": "markdown",
   "metadata": {},
   "source": [
    "**Implementation (3 points):**\n",
    "Implement cross entropy loss and and then cross entropy prediction."
   ]
  },
  {
   "cell_type": "code",
   "execution_count": 14,
   "metadata": {
    "deletable": false,
    "nbgrader": {
     "cell_type": "code",
     "checksum": "a82ac14d42f8800a3fcf1fe5153dd1d3",
     "grade": false,
     "grade_id": "cell-d095f3c75bd11bc3",
     "locked": false,
     "schema_version": 3,
     "solution": true,
     "task": false
    }
   },
   "outputs": [],
   "source": [
    "# TODO: Implement this! (2 points)\n",
    "def clf_loss(output, target):\n",
    "    \"\"\"\n",
    "    Cross entropy loss - returns a single number. \n",
    "    output: (float) tensor, shape - [N, 5] \n",
    "    target: (float/long) tensor, shape - [N]. \n",
    "    \n",
    "    Hint: This function should also handle cases when target is either long/float types \n",
    "    \"\"\"\n",
    "    assert output.size(0) == target.size(0)\n",
    "    assert output.size(1) == 5\n",
    "\n",
    "    # YOUR CODE HERE\n",
    "    criterion = nn.CrossEntropyLoss()\n",
    "    loss = criterion(output, target.long())\n",
    "    return loss"
   ]
  },
  {
   "cell_type": "code",
   "execution_count": 15,
   "metadata": {
    "deletable": false,
    "editable": false,
    "nbgrader": {
     "cell_type": "code",
     "checksum": "ec3127e3b21ab74c2771110450b46559",
     "grade": true,
     "grade_id": "cell-eb43efcf784d82d9",
     "locked": true,
     "points": 2,
     "schema_version": 3,
     "solution": false,
     "task": false
    }
   },
   "outputs": [
    {
     "name": "stdout",
     "output_type": "stream",
     "text": [
      "your results: [1.5910069942474365, 1.600582480430603, 1.6723783016204834, 1.8065980672836304, 1.6385562419891357]\n",
      "expected results: [1.5910069942474365, 1.600582480430603, 1.6723783016204834, 1.8065979480743408, 1.6385562419891357]\n"
     ]
    }
   ],
   "source": [
    "## Test clf_loss\n",
    "g = torch.manual_seed(42)\n",
    "tests = [torch.rand(5, 5, generator=g) for _ in range(5)]\n",
    "target = torch.LongTensor([1, 2, 3, 4, 0])\n",
    "\n",
    "results = [1.5910069942474365, \n",
    "           1.600582480430603, \n",
    "           1.6723783016204834, \n",
    "           1.8065979480743408, \n",
    "           1.6385562419891357]\n",
    "\n",
    "l1 = [clf_loss(output, target).item() for output in tests]\n",
    "print(f'your results: {l1}')\n",
    "print(f'expected results: {results}')\n"
   ]
  },
  {
   "cell_type": "code",
   "execution_count": 16,
   "metadata": {
    "deletable": false,
    "nbgrader": {
     "cell_type": "code",
     "checksum": "c1e1871d067d534d41585fe9d657244a",
     "grade": false,
     "grade_id": "cell-d01649f26022bf4c",
     "locked": false,
     "schema_version": 3,
     "solution": true,
     "task": false
    }
   },
   "outputs": [],
   "source": [
    "# TODO: Implement this! (1 points)\n",
    "def clf_pred(inp, net):\n",
    "    \"\"\"\n",
    "    The output of the classifier network produces a [Nx5] output corresponding to \n",
    "    the relevance labels (each row does *not* add to 1!)\n",
    "    This function should predict the most probable relevance from the relevance labels\n",
    "    \n",
    "    inp: The input [N, num_features]\n",
    "    net: the neural network, takes in [N, num_features] and outputs [N, 5]\n",
    "    \n",
    "    return: a [N, 1] (long) tensor, the relevance labels\n",
    "    \"\"\"\n",
    "    scores = net(inp)\n",
    "    prediction = torch.max(scores, 1)\n",
    "    return torch.LongTensor(prediction[1])"
   ]
  },
  {
   "cell_type": "code",
   "execution_count": 17,
   "metadata": {
    "deletable": false,
    "editable": false,
    "nbgrader": {
     "cell_type": "code",
     "checksum": "2e01b7aa6f5cebb78e604f9fa5d8da29",
     "grade": true,
     "grade_id": "cell-1f5c809567bf7f02",
     "locked": true,
     "points": 1,
     "schema_version": 3,
     "solution": false,
     "task": false
    }
   },
   "outputs": [
    {
     "name": "stdout",
     "output_type": "stream",
     "text": [
      "your results:[3 3 2 1 2 4 4 1 3 1]\n",
      "expected:[3 3 2 1 2 4 4 1 3 1]\n"
     ]
    }
   ],
   "source": [
    "g = torch.manual_seed(42)\n",
    "def clf_(inp):\n",
    "    return torch.rand(inp.size(0), 5, generator=g)\n",
    "\n",
    "inp = torch.rand(10, 5, generator=g)\n",
    "r = np.array([3, 3, 2, 1, 2, 4, 4, 1, 3, 1])\n",
    "p = clf_pred(inp, clf_).numpy()\n",
    "print(f'your results:{p}')\n",
    "print(f'expected:{r}')\n"
   ]
  },
  {
   "cell_type": "code",
   "execution_count": 18,
   "metadata": {
    "deletable": false,
    "editable": false,
    "nbgrader": {
     "cell_type": "code",
     "checksum": "6cf6191b552e4daea3f0fd4a91e15fd4",
     "grade": false,
     "grade_id": "cell-a4f04b744ef63756",
     "locked": true,
     "schema_version": 3,
     "solution": false,
     "task": false
    }
   },
   "outputs": [
    {
     "data": {
      "text/plain": [
       "array([4, 4, 4, 4, 4])"
      ]
     },
     "execution_count": 18,
     "metadata": {},
     "output_type": "execute_result"
    }
   ],
   "source": [
    "# NOTE:\n",
    "# to construct a predictor for a particular network, see this example\n",
    "# (this will be required in the next cell)\n",
    "clf_pred_fn = partial(clf_pred, net=point_nn_clf)\n",
    "# the 'net' argument doesn't need to be provided anymore!\n",
    "clf_pred_fn(torch.rand(5, data.num_features)).numpy()\n"
   ]
  },
  {
   "cell_type": "markdown",
   "metadata": {
    "deletable": false,
    "editable": false,
    "nbgrader": {
     "cell_type": "markdown",
     "checksum": "e14973fb674e1e9adb553605e4e7b333",
     "grade": false,
     "grade_id": "cell-d683efd6ca306e81",
     "locked": true,
     "schema_version": 3,
     "solution": false,
     "task": false
    }
   },
   "source": [
    "**Implementation (2 points):**\n",
    "Implement regression loss."
   ]
  },
  {
   "cell_type": "code",
   "execution_count": 19,
   "metadata": {
    "deletable": false,
    "nbgrader": {
     "cell_type": "code",
     "checksum": "5f2b905ddb927ed981bb294825674993",
     "grade": false,
     "grade_id": "cell-c024ed97d7100038",
     "locked": false,
     "schema_version": 3,
     "solution": true,
     "task": false
    }
   },
   "outputs": [],
   "source": [
    "# TODO: Implement this! (2 points)\n",
    "def reg_loss(output, target):\n",
    "    \"\"\"\n",
    "    Regression loss - returns a single number. \n",
    "    Make sure to use the TODO loss!\n",
    "    output: (float) tensor, shape - [N, 1] \n",
    "    target: (float) tensor, shape - [N]. \n",
    "    \"\"\"\n",
    "    assert target.dim() == 1\n",
    "    assert output.size(0) == target.size(0)\n",
    "    assert output.size(1) == 1\n",
    "    \n",
    "    # YOUR CODE HERE\n",
    "    \n",
    "    # Remove axes of length one from the output\n",
    "    output = output.squeeze() \n",
    "    criterion = torch.nn.MSELoss()\n",
    "    loss = criterion(output, target)\n",
    "    return loss"
   ]
  },
  {
   "cell_type": "code",
   "execution_count": 20,
   "metadata": {
    "deletable": false,
    "editable": false,
    "nbgrader": {
     "cell_type": "code",
     "checksum": "064dde728a201a97f97ca266c8641a0e",
     "grade": true,
     "grade_id": "cell-24edd9d567aac9da",
     "locked": true,
     "points": 2,
     "schema_version": 3,
     "solution": false,
     "task": false
    }
   },
   "outputs": [
    {
     "name": "stdout",
     "output_type": "stream",
     "text": [
      "your results:[4.800000190734863, 3.0, 7.599999904632568, 5.400000095367432, 0.6000000238418579]\n",
      "expected:[4.800000190734863, 3.0, 7.599999904632568, 5.400000095367432, 0.6000000238418579]\n"
     ]
    }
   ],
   "source": [
    "## Test reg_loss\n",
    "g = torch.manual_seed(42)\n",
    "output = [torch.randint(low=0, high=5, size=(5, 1), generator=g).float() for _ in range(5)]\n",
    "target = torch.randint(low=0, high=5, size=(5,), generator=g).float()\n",
    "\n",
    "l = [reg_loss(o, target).item() for o in output]\n",
    "r = [4.800000190734863, \n",
    "     3.0, \n",
    "     7.599999904632568, \n",
    "     5.400000095367432, \n",
    "     0.6000000238418579]\n",
    "print(f'your results:{l}')\n",
    "print(f'expected:{r}')"
   ]
  },
  {
   "cell_type": "markdown",
   "metadata": {
    "deletable": false,
    "editable": false,
    "nbgrader": {
     "cell_type": "markdown",
     "checksum": "0eddb61dde344891ea7efc8fdd67752f",
     "grade": false,
     "grade_id": "cell-0977a61ec0cfa7ed",
     "locked": true,
     "schema_version": 3,
     "solution": false,
     "task": false
    }
   },
   "source": [
    "**Implementation (45 points):**\n",
    "Now implement a wrapper for training a pointwise LTR, that takes the model and the loss function as input and trains the model.\n",
    "\n",
    "**Rubric:**\n",
    " - Network is trained for specified epochs, and iterates over the entire dataset and (train) data is shuffled : 5 points\n",
    " - Evaluation on the validation set: 5 points\n",
    " - Training (e.g optimizer, zero_grad, backward): 10 points\n",
    " - Appropriate loss function & prediction function: 5 points\n",
    " - Both classification / regression models handled appropriately: 5 points\n",
    " - Performance as expected: 15 points"
   ]
  },
  {
   "cell_type": "code",
   "execution_count": 21,
   "metadata": {
    "deletable": false,
    "nbgrader": {
     "cell_type": "code",
     "checksum": "8dbfd2a686ecc7ab254a4e5e9b332119",
     "grade": false,
     "grade_id": "cell-9361533c572e304b",
     "locked": false,
     "schema_version": 3,
     "solution": true,
     "task": false
    }
   },
   "outputs": [],
   "source": [
    "# TODO: Implement this! (45 points)\n",
    "def train_pointwise(net, loss, params):\n",
    "    \"\"\"\n",
    "    This function should train a Pointwise network, \n",
    "    trained based on the loss (either \"clf\" / \"reg\"). \n",
    "    \n",
    "    The network is trained using the Adam optimizer\n",
    "        \n",
    "    \n",
    "    Note: Do not change the function definition! \n",
    "    \n",
    "    \n",
    "    Hints:\n",
    "    1. Use the LTRData class defined above\n",
    "    2. You will have to construct a partial function if loss=\"clf\" \n",
    "       before using it in evaluate_model() (see cells after the defn of clf_pred)\n",
    "    \n",
    "    net: the neural network to be trained\n",
    "    \n",
    "    loss: one of \"clf\" or \"reg\"\n",
    "    \n",
    "    params: params is an object which contains config used in training \n",
    "        (eg. params.epochs - the number of epochs to train). \n",
    "        For a full list of these params, see the next cell. \n",
    "    \n",
    "    Returns: a dictionary containing: \"metrics_val\" (a list of dictionaries) and \n",
    "             \"metrics_train\" (a list of dictionaries). \n",
    "             \n",
    "             \"metrics_val\" should contain metrics (the metrics in params.metrics) computed\n",
    "             after each epoch on the validation set (metrics_train is similar). \n",
    "             You can use this to debug your models.\n",
    "    \n",
    "    \"\"\"\n",
    "    \n",
    "    assert loss in {\"clf\", \"reg\"}\n",
    "    \n",
    "    val_metrics_epoch = []\n",
    "    train_metrics_epoch = []\n",
    "    \n",
    "    # YOUR CODE HERE\n",
    "    epochs = params.epochs\n",
    "    lr = params.lr\n",
    "    batch_size = params.batch_size\n",
    "    metrics = params.metrics\n",
    "    \n",
    "    train_dl = DataLoader(LTRData(data, \"train\"), batch_size=batch_size, shuffle=True)\n",
    "    optimizer = torch.optim.Adam(net.parameters(), lr=lr)\n",
    "    \n",
    "    if loss == 'clf':\n",
    "        pred_fn = partial(clf_pred, net=net)\n",
    "        loss_fn = clf_loss\n",
    "    else:\n",
    "        pred_fn = net\n",
    "        loss_fn = reg_loss\n",
    "    \n",
    "    for epoch in range(epochs):\n",
    "        net.train()\n",
    "        for (x, y) in tqdm(train_dl):\n",
    "            pred = net(x)\n",
    "            loss = loss_fn(pred, y)\n",
    "            optimizer.zero_grad()\n",
    "            loss.backward()\n",
    "            optimizer.step()\n",
    "        \n",
    "        net.eval()\n",
    "        m_trn = evaluate_model(pred_fn, \"train\")\n",
    "        train_metrics_epoch.append({m: m_trn[m] for m in metrics})\n",
    "        \n",
    "        m_val = evaluate_model(pred_fn, \"validation\")\n",
    "        val_metrics_epoch.append({m: m_val[m] for m in metrics})\n",
    "\n",
    "    return {\n",
    "        \"metrics_val\": val_metrics_epoch,\n",
    "        \"metrics_train\": train_metrics_epoch\n",
    "    }"
   ]
  },
  {
   "cell_type": "code",
   "execution_count": 22,
   "metadata": {},
   "outputs": [
    {
     "data": {
      "application/vnd.jupyter.widget-view+json": {
       "model_id": "bb40ecd0e94d487db27738a89fb88ed8",
       "version_major": 2,
       "version_minor": 0
      },
      "text/plain": [
       "  0%|          | 0/333 [00:00<?, ?it/s]"
      ]
     },
     "metadata": {},
     "output_type": "display_data"
    },
    {
     "data": {
      "application/vnd.jupyter.widget-view+json": {
       "model_id": "",
       "version_major": 2,
       "version_minor": 0
      },
      "text/plain": [
       "Eval (train):   0%|          | 0/333 [00:00<?, ?it/s]"
      ]
     },
     "metadata": {},
     "output_type": "display_data"
    },
    {
     "data": {
      "application/vnd.jupyter.widget-view+json": {
       "model_id": "",
       "version_major": 2,
       "version_minor": 0
      },
      "text/plain": [
       "Eval (validation):   0%|          | 0/50 [00:00<?, ?it/s]"
      ]
     },
     "metadata": {},
     "output_type": "display_data"
    },
    {
     "data": {
      "application/vnd.jupyter.widget-view+json": {
       "model_id": "0bfe9c0f31d44e34afe2f5727c814636",
       "version_major": 2,
       "version_minor": 0
      },
      "text/plain": [
       "  0%|          | 0/333 [00:00<?, ?it/s]"
      ]
     },
     "metadata": {},
     "output_type": "display_data"
    },
    {
     "data": {
      "application/vnd.jupyter.widget-view+json": {
       "model_id": "",
       "version_major": 2,
       "version_minor": 0
      },
      "text/plain": [
       "Eval (train):   0%|          | 0/333 [00:00<?, ?it/s]"
      ]
     },
     "metadata": {},
     "output_type": "display_data"
    },
    {
     "data": {
      "application/vnd.jupyter.widget-view+json": {
       "model_id": "",
       "version_major": 2,
       "version_minor": 0
      },
      "text/plain": [
       "Eval (validation):   0%|          | 0/50 [00:00<?, ?it/s]"
      ]
     },
     "metadata": {},
     "output_type": "display_data"
    }
   ],
   "source": [
    "# Change this to test your code!\n",
    "pointwise_test_params = Namespace(epochs=1, \n",
    "                    lr=1e-3,\n",
    "                    batch_size=256,\n",
    "                   metrics={\"ndcg\"})\n",
    "# uncomment to test your code\n",
    "## train a regression model\n",
    "met_reg = train_pointwise(point_nn_reg, \"reg\", pointwise_test_params)\n",
    "## train a classification model\n",
    "met_clf = train_pointwise(point_nn_clf, \"clf\", pointwise_test_params)"
   ]
  },
  {
   "cell_type": "markdown",
   "metadata": {
    "deletable": false,
    "editable": false,
    "nbgrader": {
     "cell_type": "markdown",
     "checksum": "738eaae8abdea0f21d248a0d677bc424",
     "grade": false,
     "grade_id": "cell-27ec0e0dd8a5d98d",
     "locked": true,
     "schema_version": 3,
     "solution": false,
     "task": false
    }
   },
   "source": [
    "The next cell is used to generate reproducible results which should be submitted with the assignment:"
   ]
  },
  {
   "cell_type": "code",
   "execution_count": 23,
   "metadata": {
    "deletable": false,
    "editable": false,
    "nbgrader": {
     "cell_type": "code",
     "checksum": "8a485ad0b3f14de6ee384fa6b42ab36f",
     "grade": false,
     "grade_id": "cell-11e8cbc591a51256",
     "locked": true,
     "schema_version": 3,
     "solution": false,
     "task": false
    }
   },
   "outputs": [],
   "source": [
    "\n",
    "    \n",
    "def create_results(net, train_fn, prediction_fn, results_file, *train_params):\n",
    "    \n",
    "    print(\"Training Model\")\n",
    "    metrics = train_fn(net, *train_params)\n",
    "    net.eval()\n",
    "    test_metrics, test_qq = evaluate_model(prediction_fn, \"test\", print_results=True, q_level=True)\n",
    "    \n",
    "    \n",
    "    test_q = {}\n",
    "    for m in {\"ndcg\", \"precision@05\", \"recall@05\"}:\n",
    "        test_q[m] = test_qq[m]\n",
    "    \n",
    "    with open(results_file, \"w\") as writer:\n",
    "        json.dump({\n",
    "            \"metrics\": metrics,\n",
    "            \"test_metrics\": test_metrics,\n",
    "            \"test_query_level_metrics\": test_q,\n",
    "        }, writer, indent=2)\n"
   ]
  },
  {
   "cell_type": "markdown",
   "metadata": {
    "deletable": false,
    "editable": false,
    "nbgrader": {
     "cell_type": "markdown",
     "checksum": "5926b542770cebafc36574bbff9b7d3e",
     "grade": false,
     "grade_id": "cell-16ed543545863f61",
     "locked": true,
     "schema_version": 3,
     "solution": false,
     "task": false
    }
   },
   "source": [
    "Now use the above functions to generate your `json` files for submission:"
   ]
  },
  {
   "cell_type": "code",
   "execution_count": 24,
   "metadata": {
    "deletable": false,
    "editable": false,
    "nbgrader": {
     "cell_type": "code",
     "checksum": "eef82389f05e60a59c9bddefc6570264",
     "grade": false,
     "grade_id": "cell-cb8314e4e579adac",
     "locked": true,
     "schema_version": 3,
     "solution": false,
     "task": false
    }
   },
   "outputs": [
    {
     "name": "stdout",
     "output_type": "stream",
     "text": [
      "Training Model\n"
     ]
    },
    {
     "data": {
      "application/vnd.jupyter.widget-view+json": {
       "model_id": "523389093ba5499590f8096836cd0a5b",
       "version_major": 2,
       "version_minor": 0
      },
      "text/plain": [
       "  0%|          | 0/333 [00:00<?, ?it/s]"
      ]
     },
     "metadata": {},
     "output_type": "display_data"
    },
    {
     "data": {
      "application/vnd.jupyter.widget-view+json": {
       "model_id": "",
       "version_major": 2,
       "version_minor": 0
      },
      "text/plain": [
       "Eval (train):   0%|          | 0/333 [00:00<?, ?it/s]"
      ]
     },
     "metadata": {},
     "output_type": "display_data"
    },
    {
     "data": {
      "application/vnd.jupyter.widget-view+json": {
       "model_id": "",
       "version_major": 2,
       "version_minor": 0
      },
      "text/plain": [
       "Eval (validation):   0%|          | 0/50 [00:00<?, ?it/s]"
      ]
     },
     "metadata": {},
     "output_type": "display_data"
    },
    {
     "data": {
      "application/vnd.jupyter.widget-view+json": {
       "model_id": "b45f3472369b43219530abe521354427",
       "version_major": 2,
       "version_minor": 0
      },
      "text/plain": [
       "  0%|          | 0/333 [00:00<?, ?it/s]"
      ]
     },
     "metadata": {},
     "output_type": "display_data"
    },
    {
     "data": {
      "application/vnd.jupyter.widget-view+json": {
       "model_id": "",
       "version_major": 2,
       "version_minor": 0
      },
      "text/plain": [
       "Eval (train):   0%|          | 0/333 [00:00<?, ?it/s]"
      ]
     },
     "metadata": {},
     "output_type": "display_data"
    },
    {
     "data": {
      "application/vnd.jupyter.widget-view+json": {
       "model_id": "",
       "version_major": 2,
       "version_minor": 0
      },
      "text/plain": [
       "Eval (validation):   0%|          | 0/50 [00:00<?, ?it/s]"
      ]
     },
     "metadata": {},
     "output_type": "display_data"
    },
    {
     "data": {
      "application/vnd.jupyter.widget-view+json": {
       "model_id": "7607d340b37443ec992180b525b32358",
       "version_major": 2,
       "version_minor": 0
      },
      "text/plain": [
       "  0%|          | 0/333 [00:00<?, ?it/s]"
      ]
     },
     "metadata": {},
     "output_type": "display_data"
    },
    {
     "data": {
      "application/vnd.jupyter.widget-view+json": {
       "model_id": "",
       "version_major": 2,
       "version_minor": 0
      },
      "text/plain": [
       "Eval (train):   0%|          | 0/333 [00:00<?, ?it/s]"
      ]
     },
     "metadata": {},
     "output_type": "display_data"
    },
    {
     "data": {
      "application/vnd.jupyter.widget-view+json": {
       "model_id": "",
       "version_major": 2,
       "version_minor": 0
      },
      "text/plain": [
       "Eval (validation):   0%|          | 0/50 [00:00<?, ?it/s]"
      ]
     },
     "metadata": {},
     "output_type": "display_data"
    },
    {
     "data": {
      "application/vnd.jupyter.widget-view+json": {
       "model_id": "d3da16d6e2fb43bd86bf728231a58883",
       "version_major": 2,
       "version_minor": 0
      },
      "text/plain": [
       "  0%|          | 0/333 [00:00<?, ?it/s]"
      ]
     },
     "metadata": {},
     "output_type": "display_data"
    },
    {
     "data": {
      "application/vnd.jupyter.widget-view+json": {
       "model_id": "",
       "version_major": 2,
       "version_minor": 0
      },
      "text/plain": [
       "Eval (train):   0%|          | 0/333 [00:00<?, ?it/s]"
      ]
     },
     "metadata": {},
     "output_type": "display_data"
    },
    {
     "data": {
      "application/vnd.jupyter.widget-view+json": {
       "model_id": "",
       "version_major": 2,
       "version_minor": 0
      },
      "text/plain": [
       "Eval (validation):   0%|          | 0/50 [00:00<?, ?it/s]"
      ]
     },
     "metadata": {},
     "output_type": "display_data"
    },
    {
     "data": {
      "application/vnd.jupyter.widget-view+json": {
       "model_id": "21e08a395b2d492cb1e4196f0c01ad59",
       "version_major": 2,
       "version_minor": 0
      },
      "text/plain": [
       "  0%|          | 0/333 [00:00<?, ?it/s]"
      ]
     },
     "metadata": {},
     "output_type": "display_data"
    },
    {
     "data": {
      "application/vnd.jupyter.widget-view+json": {
       "model_id": "",
       "version_major": 2,
       "version_minor": 0
      },
      "text/plain": [
       "Eval (train):   0%|          | 0/333 [00:00<?, ?it/s]"
      ]
     },
     "metadata": {},
     "output_type": "display_data"
    },
    {
     "data": {
      "application/vnd.jupyter.widget-view+json": {
       "model_id": "",
       "version_major": 2,
       "version_minor": 0
      },
      "text/plain": [
       "Eval (validation):   0%|          | 0/50 [00:00<?, ?it/s]"
      ]
     },
     "metadata": {},
     "output_type": "display_data"
    },
    {
     "data": {
      "application/vnd.jupyter.widget-view+json": {
       "model_id": "855fee11aa2548fdb8913e8cd8daa3a1",
       "version_major": 2,
       "version_minor": 0
      },
      "text/plain": [
       "  0%|          | 0/333 [00:00<?, ?it/s]"
      ]
     },
     "metadata": {},
     "output_type": "display_data"
    },
    {
     "data": {
      "application/vnd.jupyter.widget-view+json": {
       "model_id": "",
       "version_major": 2,
       "version_minor": 0
      },
      "text/plain": [
       "Eval (train):   0%|          | 0/333 [00:00<?, ?it/s]"
      ]
     },
     "metadata": {},
     "output_type": "display_data"
    },
    {
     "data": {
      "application/vnd.jupyter.widget-view+json": {
       "model_id": "",
       "version_major": 2,
       "version_minor": 0
      },
      "text/plain": [
       "Eval (validation):   0%|          | 0/50 [00:00<?, ?it/s]"
      ]
     },
     "metadata": {},
     "output_type": "display_data"
    },
    {
     "data": {
      "application/vnd.jupyter.widget-view+json": {
       "model_id": "efd2da646dcd410abcbd71bf5f7f1cc6",
       "version_major": 2,
       "version_minor": 0
      },
      "text/plain": [
       "  0%|          | 0/333 [00:00<?, ?it/s]"
      ]
     },
     "metadata": {},
     "output_type": "display_data"
    },
    {
     "data": {
      "application/vnd.jupyter.widget-view+json": {
       "model_id": "",
       "version_major": 2,
       "version_minor": 0
      },
      "text/plain": [
       "Eval (train):   0%|          | 0/333 [00:00<?, ?it/s]"
      ]
     },
     "metadata": {},
     "output_type": "display_data"
    },
    {
     "data": {
      "application/vnd.jupyter.widget-view+json": {
       "model_id": "",
       "version_major": 2,
       "version_minor": 0
      },
      "text/plain": [
       "Eval (validation):   0%|          | 0/50 [00:00<?, ?it/s]"
      ]
     },
     "metadata": {},
     "output_type": "display_data"
    },
    {
     "data": {
      "application/vnd.jupyter.widget-view+json": {
       "model_id": "bdc9ebd97aa743518fcb725abd0a977b",
       "version_major": 2,
       "version_minor": 0
      },
      "text/plain": [
       "  0%|          | 0/333 [00:00<?, ?it/s]"
      ]
     },
     "metadata": {},
     "output_type": "display_data"
    },
    {
     "data": {
      "application/vnd.jupyter.widget-view+json": {
       "model_id": "",
       "version_major": 2,
       "version_minor": 0
      },
      "text/plain": [
       "Eval (train):   0%|          | 0/333 [00:00<?, ?it/s]"
      ]
     },
     "metadata": {},
     "output_type": "display_data"
    },
    {
     "data": {
      "application/vnd.jupyter.widget-view+json": {
       "model_id": "",
       "version_major": 2,
       "version_minor": 0
      },
      "text/plain": [
       "Eval (validation):   0%|          | 0/50 [00:00<?, ?it/s]"
      ]
     },
     "metadata": {},
     "output_type": "display_data"
    },
    {
     "data": {
      "application/vnd.jupyter.widget-view+json": {
       "model_id": "f724609acadf443cb369f8b7d337f33d",
       "version_major": 2,
       "version_minor": 0
      },
      "text/plain": [
       "  0%|          | 0/333 [00:00<?, ?it/s]"
      ]
     },
     "metadata": {},
     "output_type": "display_data"
    },
    {
     "data": {
      "application/vnd.jupyter.widget-view+json": {
       "model_id": "",
       "version_major": 2,
       "version_minor": 0
      },
      "text/plain": [
       "Eval (train):   0%|          | 0/333 [00:00<?, ?it/s]"
      ]
     },
     "metadata": {},
     "output_type": "display_data"
    },
    {
     "data": {
      "application/vnd.jupyter.widget-view+json": {
       "model_id": "",
       "version_major": 2,
       "version_minor": 0
      },
      "text/plain": [
       "Eval (validation):   0%|          | 0/50 [00:00<?, ?it/s]"
      ]
     },
     "metadata": {},
     "output_type": "display_data"
    },
    {
     "data": {
      "application/vnd.jupyter.widget-view+json": {
       "model_id": "1a05bde35ac341c3905f68187af790b5",
       "version_major": 2,
       "version_minor": 0
      },
      "text/plain": [
       "  0%|          | 0/333 [00:00<?, ?it/s]"
      ]
     },
     "metadata": {},
     "output_type": "display_data"
    },
    {
     "data": {
      "application/vnd.jupyter.widget-view+json": {
       "model_id": "",
       "version_major": 2,
       "version_minor": 0
      },
      "text/plain": [
       "Eval (train):   0%|          | 0/333 [00:00<?, ?it/s]"
      ]
     },
     "metadata": {},
     "output_type": "display_data"
    },
    {
     "data": {
      "application/vnd.jupyter.widget-view+json": {
       "model_id": "",
       "version_major": 2,
       "version_minor": 0
      },
      "text/plain": [
       "Eval (validation):   0%|          | 0/50 [00:00<?, ?it/s]"
      ]
     },
     "metadata": {},
     "output_type": "display_data"
    },
    {
     "data": {
      "application/vnd.jupyter.widget-view+json": {
       "model_id": "0d4406c5ece7441396e94ff37f3a3939",
       "version_major": 2,
       "version_minor": 0
      },
      "text/plain": [
       "  0%|          | 0/333 [00:00<?, ?it/s]"
      ]
     },
     "metadata": {},
     "output_type": "display_data"
    },
    {
     "data": {
      "application/vnd.jupyter.widget-view+json": {
       "model_id": "",
       "version_major": 2,
       "version_minor": 0
      },
      "text/plain": [
       "Eval (train):   0%|          | 0/333 [00:00<?, ?it/s]"
      ]
     },
     "metadata": {},
     "output_type": "display_data"
    },
    {
     "data": {
      "application/vnd.jupyter.widget-view+json": {
       "model_id": "",
       "version_major": 2,
       "version_minor": 0
      },
      "text/plain": [
       "Eval (validation):   0%|          | 0/50 [00:00<?, ?it/s]"
      ]
     },
     "metadata": {},
     "output_type": "display_data"
    },
    {
     "data": {
      "application/vnd.jupyter.widget-view+json": {
       "model_id": "",
       "version_major": 2,
       "version_minor": 0
      },
      "text/plain": [
       "Eval (test):   0%|          | 0/117 [00:00<?, ?it/s]"
      ]
     },
     "metadata": {},
     "output_type": "display_data"
    },
    {
     "name": "stdout",
     "output_type": "stream",
     "text": [
      "\"metric\": \"mean\" (\"standard deviation\")\n",
      "dcg: 113.0421 (25.27161)\n",
      "dcg@03: 21.6468 (8.26373)\n",
      "dcg@05: 27.7049 (10.58726)\n",
      "dcg@10: 36.5582 (13.01399)\n",
      "dcg@20: 46.9664 (14.73442)\n",
      "ndcg: 0.8719 (0.05406)\n",
      "ndcg@03: 0.7365 (0.22878)\n",
      "ndcg@05: 0.7141 (0.20548)\n",
      "ndcg@10: 0.6936 (0.17153)\n",
      "ndcg@20: 0.6822 (0.14087)\n",
      "precision@01: 0.8462 (0.36080)\n",
      "precision@03: 0.7493 (0.30788)\n",
      "precision@05: 0.6786 (0.28639)\n",
      "precision@10: 0.5735 (0.23908)\n",
      "precision@20: 0.4449 (0.19397)\n",
      "recall@01: 0.0380 (0.02790)\n",
      "recall@03: 0.1009 (0.06092)\n",
      "recall@05: 0.1494 (0.08568)\n",
      "recall@10: 0.2458 (0.11527)\n",
      "recall@20: 0.3666 (0.13992)\n",
      "relevant rank: 62.6742 (61.18353)\n",
      "relevant rank per query: 1612.9231 (957.11789)\n"
     ]
    }
   ],
   "source": [
    "seed(42)\n",
    "params_regr = Namespace(epochs=11, \n",
    "                    lr=1e-3,\n",
    "                    batch_size=256,\n",
    "                    metrics={\"ndcg\", \"precision@05\", \"recall@05\"})\n",
    "\n",
    "pointwise_regression_model = NeuralModule(1)\n",
    "create_results(pointwise_regression_model, \n",
    "               train_pointwise, \n",
    "               pointwise_regression_model,\n",
    "               \"./pointwise_regression.json\", \n",
    "               \"reg\", params_regr)\n",
    "# persist models\n",
    "torch.save(pointwise_regression_model.state_dict(), \"./pointwise_regr_wt\")"
   ]
  },
  {
   "cell_type": "code",
   "execution_count": 25,
   "metadata": {
    "deletable": false,
    "editable": false,
    "nbgrader": {
     "cell_type": "code",
     "checksum": "6ddac4c7614df42d2655e2304eba1c21",
     "grade": false,
     "grade_id": "cell-8b25e13a53ad95ac",
     "locked": true,
     "schema_version": 3,
     "solution": false,
     "task": false
    }
   },
   "outputs": [
    {
     "name": "stdout",
     "output_type": "stream",
     "text": [
      "Training Model\n"
     ]
    },
    {
     "data": {
      "application/vnd.jupyter.widget-view+json": {
       "model_id": "128667317c4f4badad57c8a4dbac621d",
       "version_major": 2,
       "version_minor": 0
      },
      "text/plain": [
       "  0%|          | 0/333 [00:00<?, ?it/s]"
      ]
     },
     "metadata": {},
     "output_type": "display_data"
    },
    {
     "data": {
      "application/vnd.jupyter.widget-view+json": {
       "model_id": "",
       "version_major": 2,
       "version_minor": 0
      },
      "text/plain": [
       "Eval (train):   0%|          | 0/333 [00:00<?, ?it/s]"
      ]
     },
     "metadata": {},
     "output_type": "display_data"
    },
    {
     "data": {
      "application/vnd.jupyter.widget-view+json": {
       "model_id": "",
       "version_major": 2,
       "version_minor": 0
      },
      "text/plain": [
       "Eval (validation):   0%|          | 0/50 [00:00<?, ?it/s]"
      ]
     },
     "metadata": {},
     "output_type": "display_data"
    },
    {
     "data": {
      "application/vnd.jupyter.widget-view+json": {
       "model_id": "40b939f23ff94a4f980789206694e2e1",
       "version_major": 2,
       "version_minor": 0
      },
      "text/plain": [
       "  0%|          | 0/333 [00:00<?, ?it/s]"
      ]
     },
     "metadata": {},
     "output_type": "display_data"
    },
    {
     "data": {
      "application/vnd.jupyter.widget-view+json": {
       "model_id": "",
       "version_major": 2,
       "version_minor": 0
      },
      "text/plain": [
       "Eval (train):   0%|          | 0/333 [00:00<?, ?it/s]"
      ]
     },
     "metadata": {},
     "output_type": "display_data"
    },
    {
     "data": {
      "application/vnd.jupyter.widget-view+json": {
       "model_id": "",
       "version_major": 2,
       "version_minor": 0
      },
      "text/plain": [
       "Eval (validation):   0%|          | 0/50 [00:00<?, ?it/s]"
      ]
     },
     "metadata": {},
     "output_type": "display_data"
    },
    {
     "data": {
      "application/vnd.jupyter.widget-view+json": {
       "model_id": "bbbdc5af8a0246ecbf5789524e962064",
       "version_major": 2,
       "version_minor": 0
      },
      "text/plain": [
       "  0%|          | 0/333 [00:00<?, ?it/s]"
      ]
     },
     "metadata": {},
     "output_type": "display_data"
    },
    {
     "data": {
      "application/vnd.jupyter.widget-view+json": {
       "model_id": "",
       "version_major": 2,
       "version_minor": 0
      },
      "text/plain": [
       "Eval (train):   0%|          | 0/333 [00:00<?, ?it/s]"
      ]
     },
     "metadata": {},
     "output_type": "display_data"
    },
    {
     "data": {
      "application/vnd.jupyter.widget-view+json": {
       "model_id": "",
       "version_major": 2,
       "version_minor": 0
      },
      "text/plain": [
       "Eval (validation):   0%|          | 0/50 [00:00<?, ?it/s]"
      ]
     },
     "metadata": {},
     "output_type": "display_data"
    },
    {
     "data": {
      "application/vnd.jupyter.widget-view+json": {
       "model_id": "e08148d95b824065b67103f4ef391a49",
       "version_major": 2,
       "version_minor": 0
      },
      "text/plain": [
       "  0%|          | 0/333 [00:00<?, ?it/s]"
      ]
     },
     "metadata": {},
     "output_type": "display_data"
    },
    {
     "data": {
      "application/vnd.jupyter.widget-view+json": {
       "model_id": "",
       "version_major": 2,
       "version_minor": 0
      },
      "text/plain": [
       "Eval (train):   0%|          | 0/333 [00:00<?, ?it/s]"
      ]
     },
     "metadata": {},
     "output_type": "display_data"
    },
    {
     "data": {
      "application/vnd.jupyter.widget-view+json": {
       "model_id": "",
       "version_major": 2,
       "version_minor": 0
      },
      "text/plain": [
       "Eval (validation):   0%|          | 0/50 [00:00<?, ?it/s]"
      ]
     },
     "metadata": {},
     "output_type": "display_data"
    },
    {
     "data": {
      "application/vnd.jupyter.widget-view+json": {
       "model_id": "ecd7a12831db446495de518fc4d53167",
       "version_major": 2,
       "version_minor": 0
      },
      "text/plain": [
       "  0%|          | 0/333 [00:00<?, ?it/s]"
      ]
     },
     "metadata": {},
     "output_type": "display_data"
    },
    {
     "data": {
      "application/vnd.jupyter.widget-view+json": {
       "model_id": "",
       "version_major": 2,
       "version_minor": 0
      },
      "text/plain": [
       "Eval (train):   0%|          | 0/333 [00:00<?, ?it/s]"
      ]
     },
     "metadata": {},
     "output_type": "display_data"
    },
    {
     "data": {
      "application/vnd.jupyter.widget-view+json": {
       "model_id": "",
       "version_major": 2,
       "version_minor": 0
      },
      "text/plain": [
       "Eval (validation):   0%|          | 0/50 [00:00<?, ?it/s]"
      ]
     },
     "metadata": {},
     "output_type": "display_data"
    },
    {
     "data": {
      "application/vnd.jupyter.widget-view+json": {
       "model_id": "e04ea0366265487f9901856339b2babb",
       "version_major": 2,
       "version_minor": 0
      },
      "text/plain": [
       "  0%|          | 0/333 [00:00<?, ?it/s]"
      ]
     },
     "metadata": {},
     "output_type": "display_data"
    },
    {
     "data": {
      "application/vnd.jupyter.widget-view+json": {
       "model_id": "",
       "version_major": 2,
       "version_minor": 0
      },
      "text/plain": [
       "Eval (train):   0%|          | 0/333 [00:00<?, ?it/s]"
      ]
     },
     "metadata": {},
     "output_type": "display_data"
    },
    {
     "data": {
      "application/vnd.jupyter.widget-view+json": {
       "model_id": "",
       "version_major": 2,
       "version_minor": 0
      },
      "text/plain": [
       "Eval (validation):   0%|          | 0/50 [00:00<?, ?it/s]"
      ]
     },
     "metadata": {},
     "output_type": "display_data"
    },
    {
     "data": {
      "application/vnd.jupyter.widget-view+json": {
       "model_id": "1b68ec6afc254e5893ac94204aa86d47",
       "version_major": 2,
       "version_minor": 0
      },
      "text/plain": [
       "  0%|          | 0/333 [00:00<?, ?it/s]"
      ]
     },
     "metadata": {},
     "output_type": "display_data"
    },
    {
     "data": {
      "application/vnd.jupyter.widget-view+json": {
       "model_id": "",
       "version_major": 2,
       "version_minor": 0
      },
      "text/plain": [
       "Eval (train):   0%|          | 0/333 [00:00<?, ?it/s]"
      ]
     },
     "metadata": {},
     "output_type": "display_data"
    },
    {
     "data": {
      "application/vnd.jupyter.widget-view+json": {
       "model_id": "",
       "version_major": 2,
       "version_minor": 0
      },
      "text/plain": [
       "Eval (validation):   0%|          | 0/50 [00:00<?, ?it/s]"
      ]
     },
     "metadata": {},
     "output_type": "display_data"
    },
    {
     "data": {
      "application/vnd.jupyter.widget-view+json": {
       "model_id": "6da6decd3df943d6818d374220cff3c0",
       "version_major": 2,
       "version_minor": 0
      },
      "text/plain": [
       "  0%|          | 0/333 [00:00<?, ?it/s]"
      ]
     },
     "metadata": {},
     "output_type": "display_data"
    },
    {
     "data": {
      "application/vnd.jupyter.widget-view+json": {
       "model_id": "",
       "version_major": 2,
       "version_minor": 0
      },
      "text/plain": [
       "Eval (train):   0%|          | 0/333 [00:00<?, ?it/s]"
      ]
     },
     "metadata": {},
     "output_type": "display_data"
    },
    {
     "data": {
      "application/vnd.jupyter.widget-view+json": {
       "model_id": "",
       "version_major": 2,
       "version_minor": 0
      },
      "text/plain": [
       "Eval (validation):   0%|          | 0/50 [00:00<?, ?it/s]"
      ]
     },
     "metadata": {},
     "output_type": "display_data"
    },
    {
     "data": {
      "application/vnd.jupyter.widget-view+json": {
       "model_id": "6eb424d076a54c8391a9b6e694c3fde6",
       "version_major": 2,
       "version_minor": 0
      },
      "text/plain": [
       "  0%|          | 0/333 [00:00<?, ?it/s]"
      ]
     },
     "metadata": {},
     "output_type": "display_data"
    },
    {
     "data": {
      "application/vnd.jupyter.widget-view+json": {
       "model_id": "",
       "version_major": 2,
       "version_minor": 0
      },
      "text/plain": [
       "Eval (train):   0%|          | 0/333 [00:00<?, ?it/s]"
      ]
     },
     "metadata": {},
     "output_type": "display_data"
    },
    {
     "data": {
      "application/vnd.jupyter.widget-view+json": {
       "model_id": "",
       "version_major": 2,
       "version_minor": 0
      },
      "text/plain": [
       "Eval (validation):   0%|          | 0/50 [00:00<?, ?it/s]"
      ]
     },
     "metadata": {},
     "output_type": "display_data"
    },
    {
     "data": {
      "application/vnd.jupyter.widget-view+json": {
       "model_id": "4f76f73b89174058aaaa0486a02c2367",
       "version_major": 2,
       "version_minor": 0
      },
      "text/plain": [
       "  0%|          | 0/333 [00:00<?, ?it/s]"
      ]
     },
     "metadata": {},
     "output_type": "display_data"
    },
    {
     "data": {
      "application/vnd.jupyter.widget-view+json": {
       "model_id": "",
       "version_major": 2,
       "version_minor": 0
      },
      "text/plain": [
       "Eval (train):   0%|          | 0/333 [00:00<?, ?it/s]"
      ]
     },
     "metadata": {},
     "output_type": "display_data"
    },
    {
     "data": {
      "application/vnd.jupyter.widget-view+json": {
       "model_id": "",
       "version_major": 2,
       "version_minor": 0
      },
      "text/plain": [
       "Eval (validation):   0%|          | 0/50 [00:00<?, ?it/s]"
      ]
     },
     "metadata": {},
     "output_type": "display_data"
    },
    {
     "data": {
      "application/vnd.jupyter.widget-view+json": {
       "model_id": "2f26d4f3d66043ccbdb806cc34db3ae2",
       "version_major": 2,
       "version_minor": 0
      },
      "text/plain": [
       "  0%|          | 0/333 [00:00<?, ?it/s]"
      ]
     },
     "metadata": {},
     "output_type": "display_data"
    },
    {
     "data": {
      "application/vnd.jupyter.widget-view+json": {
       "model_id": "",
       "version_major": 2,
       "version_minor": 0
      },
      "text/plain": [
       "Eval (train):   0%|          | 0/333 [00:00<?, ?it/s]"
      ]
     },
     "metadata": {},
     "output_type": "display_data"
    },
    {
     "data": {
      "application/vnd.jupyter.widget-view+json": {
       "model_id": "",
       "version_major": 2,
       "version_minor": 0
      },
      "text/plain": [
       "Eval (validation):   0%|          | 0/50 [00:00<?, ?it/s]"
      ]
     },
     "metadata": {},
     "output_type": "display_data"
    },
    {
     "data": {
      "application/vnd.jupyter.widget-view+json": {
       "model_id": "f39d1acbc1a940158247f4e2dddb0562",
       "version_major": 2,
       "version_minor": 0
      },
      "text/plain": [
       "  0%|          | 0/333 [00:00<?, ?it/s]"
      ]
     },
     "metadata": {},
     "output_type": "display_data"
    },
    {
     "data": {
      "application/vnd.jupyter.widget-view+json": {
       "model_id": "",
       "version_major": 2,
       "version_minor": 0
      },
      "text/plain": [
       "Eval (train):   0%|          | 0/333 [00:00<?, ?it/s]"
      ]
     },
     "metadata": {},
     "output_type": "display_data"
    },
    {
     "data": {
      "application/vnd.jupyter.widget-view+json": {
       "model_id": "",
       "version_major": 2,
       "version_minor": 0
      },
      "text/plain": [
       "Eval (validation):   0%|          | 0/50 [00:00<?, ?it/s]"
      ]
     },
     "metadata": {},
     "output_type": "display_data"
    },
    {
     "data": {
      "application/vnd.jupyter.widget-view+json": {
       "model_id": "340336392a0f493da2bb1c563460cd32",
       "version_major": 2,
       "version_minor": 0
      },
      "text/plain": [
       "  0%|          | 0/333 [00:00<?, ?it/s]"
      ]
     },
     "metadata": {},
     "output_type": "display_data"
    },
    {
     "data": {
      "application/vnd.jupyter.widget-view+json": {
       "model_id": "",
       "version_major": 2,
       "version_minor": 0
      },
      "text/plain": [
       "Eval (train):   0%|          | 0/333 [00:00<?, ?it/s]"
      ]
     },
     "metadata": {},
     "output_type": "display_data"
    },
    {
     "data": {
      "application/vnd.jupyter.widget-view+json": {
       "model_id": "",
       "version_major": 2,
       "version_minor": 0
      },
      "text/plain": [
       "Eval (validation):   0%|          | 0/50 [00:00<?, ?it/s]"
      ]
     },
     "metadata": {},
     "output_type": "display_data"
    },
    {
     "data": {
      "application/vnd.jupyter.widget-view+json": {
       "model_id": "",
       "version_major": 2,
       "version_minor": 0
      },
      "text/plain": [
       "Eval (test):   0%|          | 0/117 [00:00<?, ?it/s]"
      ]
     },
     "metadata": {},
     "output_type": "display_data"
    },
    {
     "name": "stdout",
     "output_type": "stream",
     "text": [
      "\"metric\": \"mean\" (\"standard deviation\")\n",
      "dcg: 106.2841 (23.82761)\n",
      "dcg@03: 18.7750 (9.29225)\n",
      "dcg@05: 22.7144 (11.00661)\n",
      "dcg@10: 28.6539 (12.50528)\n",
      "dcg@20: 36.3295 (13.04381)\n",
      "ndcg: 0.8203 (0.05849)\n",
      "ndcg@03: 0.6379 (0.27880)\n",
      "ndcg@05: 0.5840 (0.23676)\n",
      "ndcg@10: 0.5415 (0.18077)\n",
      "ndcg@20: 0.5269 (0.13510)\n",
      "precision@01: 0.7265 (0.44576)\n",
      "precision@03: 0.6439 (0.33962)\n",
      "precision@05: 0.5299 (0.30418)\n",
      "precision@10: 0.3846 (0.22289)\n",
      "precision@20: 0.2850 (0.14025)\n",
      "recall@01: 0.0338 (0.02987)\n",
      "recall@03: 0.0847 (0.05930)\n",
      "recall@05: 0.1131 (0.08145)\n",
      "recall@10: 0.1588 (0.10085)\n",
      "recall@20: 0.2337 (0.11130)\n",
      "relevant rank: 78.8711 (66.07048)\n",
      "relevant rank per query: 2029.7521 (1102.90310)\n"
     ]
    }
   ],
   "source": [
    "seed(42)\n",
    "params_clf = Namespace(epochs=13, \n",
    "                    lr=1e-3,\n",
    "                    batch_size=256,\n",
    "                    metrics={\"ndcg\", \"precision@05\", \"recall@05\"})\n",
    "\n",
    "pointwise_classification_model = NeuralModule(5)\n",
    "create_results(pointwise_classification_model,\n",
    "               train_pointwise,\n",
    "               partial(clf_pred, net=pointwise_classification_model),\n",
    "               \"./pointwise_classification.json\", \"clf\", params_clf)\n",
    "\n",
    "torch.save(pointwise_classification_model.state_dict(), \"./pointwise_clf_wt\")"
   ]
  },
  {
   "cell_type": "markdown",
   "metadata": {
    "deletable": false,
    "nbgrader": {
     "cell_type": "markdown",
     "checksum": "2ab42dfe7a4ffdce839f7f3990147830",
     "grade": true,
     "grade_id": "cell-ccb9cdbf2280bcff",
     "locked": false,
     "points": 30,
     "schema_version": 3,
     "solution": true,
     "task": false
    }
   },
   "source": [
    "YOUR ANSWER HERE"
   ]
  },
  {
   "cell_type": "code",
   "execution_count": 26,
   "metadata": {
    "deletable": false,
    "editable": false,
    "nbgrader": {
     "cell_type": "code",
     "checksum": "e8123d91619096913bd0809c27781857",
     "grade": true,
     "grade_id": "cell-780585f47729739e",
     "locked": true,
     "points": 15,
     "schema_version": 3,
     "solution": false,
     "task": false
    }
   },
   "outputs": [],
   "source": [
    "assert os.path.exists(\"./pointwise_regression.json\")\n",
    "assert os.path.exists(\"./pointwise_classification.json\")"
   ]
  },
  {
   "cell_type": "markdown",
   "metadata": {
    "deletable": false,
    "editable": false,
    "nbgrader": {
     "cell_type": "markdown",
     "checksum": "ed8a82c097df5799c15c9000475ad11e",
     "grade": false,
     "grade_id": "cell-e48bb26c37eacea9",
     "locked": true,
     "schema_version": 3,
     "solution": false,
     "task": false
    }
   },
   "source": [
    "## Section 3: Pairwise LTR (60 points) <a class=\"anchor\" id=\"pairwiseLTR\"></a>\n",
    "\n",
    "[Back to TOC](#top)\n",
    "\n",
    "In this section,  you will learn and implement RankNet, a  pairwise learning to rank algorithm.\n",
    "\n",
    "For a given query, consider two documents $D_i$ and $D_j$ with two different ground truth relevance  labels,  with  feature  vectors $x_i$ and $x_j$ respectively.   The  RankNet  model,  just  like  the pointwise model, uses $f$ to predict scores i.e $s_i=f(x_i)$ and $s_j=f(x_j)$, but uses a different loss during  training. $D_i \\triangleright D_j$ denotes  the  event  that $D_i$ should  be  ranked  higher  than $D_j$.   The  two outputs $s_i$ and $s_j$ are mapped to a learned probability that $D_i \\triangleright D_j$: \n",
    "\n",
    "\n",
    "$$        P_{ij} = \\frac{1}{1 + e^{-\\sigma(s_i - s_j)}} $$\n",
    "  \n",
    "where $\\sigma$ is a parameter that determines the shape of the sigmoid. The loss of the RankNet model is the cross entropy cost function:\n",
    "\n",
    "$$        C = - \\bar{P}_{ij} \\log P_{ij} - (1-\\bar{P}_{ij}) \\log (1 - P_{ij}) $$\n",
    "\n",
    "As the name suggests, in the pairwise approach to LTR, we optimize a loss $l$ over pairs of documents. Let $S_{ij} \\in \\{0, \\pm1 \\}$ be equal to $1$ if the relevance of document $i$ is greater than document $j$; $-1$ if document $j$ is more relevant than document $i$; and 0 if they have the same relevance. This gives us $\\bar{P}_{ij} = \\frac{1}{2} (1 + S_{ij})$ so that $\\bar{P}_{ij} = 1$ if $D_i \\triangleright D_j$; $\\bar{P}_{ij} = 0$ if $D_j \\triangleright D_i$; and finally $\\bar{P}_{ij} = \\frac{1}{2}$ if the relevance is identical. This gives us:\n",
    "\n",
    "$$        C = \\frac{1}{2}(1- S_{ij})\\sigma(s_i - s_j) + \\log(1+ e^{-\\sigma(s_i - s_j)}) $$\n",
    "\n",
    "Now, consider a single query for which $n$ documents have been returned. Let the output scores of the ranker be $s_j$ ; $j=\\{1, \\dots, n \\}$, the model parameters be $w_k \\in \\mathbb{R}^W$, and let the set of pairs of document indices used for training be $\\mathcal{P}$. Then, the total cost is $C_T = \\sum_{i,j \\in \\mathcal{P}} C(s_i; s_j)$. \n",
    "\n",
    "\n",
    "\n",
    "- Implement RankNet. You should construct training samples by creating all possible pairs of documents for a given query and optimizing the loss above. Use the following parameters:\n",
    "  - Layers: $501 (input) \\rightarrow 256 \\rightarrow 1$, where each layer is a linear layer (`nn.Linear`) with a ReLu activation function (`nn.ReLu`) in between the layers. Use the default weight initialization scheme. (Hint: use `nn.Sequential` for a one-line forward function!)"
   ]
  },
  {
   "cell_type": "markdown",
   "metadata": {
    "deletable": false,
    "editable": false,
    "nbgrader": {
     "cell_type": "markdown",
     "checksum": "e80a1fc2830a7bfe3be62c3bbf1df5b7",
     "grade": false,
     "grade_id": "cell-5359ecd282448c2a",
     "locked": true,
     "schema_version": 3,
     "solution": false,
     "task": false
    }
   },
   "source": [
    "For the pairwise loss, we need to have a structured **dataloader** which detects the documents associated with a specific query:"
   ]
  },
  {
   "cell_type": "code",
   "execution_count": 27,
   "metadata": {
    "deletable": false,
    "editable": false,
    "nbgrader": {
     "cell_type": "code",
     "checksum": "0e50a3b3ef0bf4fba2f792073ebb8443",
     "grade": false,
     "grade_id": "cell-0009b5254fc5f2ad",
     "locked": true,
     "schema_version": 3,
     "solution": false,
     "task": false
    }
   },
   "outputs": [
    {
     "name": "stdout",
     "output_type": "stream",
     "text": [
      "Query 273 has 35 query-document pairs\n",
      "Shape of features for Query 273: torch.Size([35, 501])\n"
     ]
    }
   ],
   "source": [
    "class QueryGroupedLTRData(Dataset):\n",
    "    def __init__(self, data, split):\n",
    "        self.split = {\n",
    "            \"train\": data.train,\n",
    "            \"validation\": data.validation,\n",
    "            \"test\": data.test\n",
    "        }.get(split)\n",
    "        assert self.split is not None, \"Invalid split!\"\n",
    "    \n",
    "    def __len__(self):\n",
    "        return self.split.num_queries()\n",
    "\n",
    "    def __getitem__(self, q_i):\n",
    "        feature = torch.FloatTensor(self.split.query_feat(q_i))\n",
    "        labels = torch.FloatTensor(self.split.query_labels(q_i))\n",
    "        return q_i, feature, labels\n",
    "\n",
    "# the return types are different from what pytorch expects, \n",
    "# so we will define a custom collate function which takes in\n",
    "# a batch and returns tensors (qids, features, labels) \n",
    "def qg_collate_fn(batch):\n",
    "    \n",
    "    qids = []\n",
    "    features = []\n",
    "    labels = []\n",
    "    \n",
    "    for (q, f, l) in batch:\n",
    "        qids.append(q)\n",
    "        features.append(f)\n",
    "        labels.append(l)\n",
    "    \n",
    "    return qids, features, labels\n",
    "    \n",
    "    \n",
    "## example - NOTE the collate_fn argument!\n",
    "train_dl = DataLoader(QueryGroupedLTRData(data, \"train\"), batch_size=1, shuffle=True, collate_fn=qg_collate_fn)\n",
    "# this is how you would use it to quickly iterate over the train/val/test sets \n",
    "for (qids, x, y) in train_dl:\n",
    "    # different from the previous data loader, qids, x and y aren't tensors, but lists!\n",
    "    for q_i, features_i, labels_i in zip(qids, x, y):\n",
    "        print(f\"Query {q_i} has {len(features_i)} query-document pairs\")\n",
    "        print(f\"Shape of features for Query {q_i}: {features_i.size()}\")\n",
    "        break\n",
    "    break\n",
    "        "
   ]
  },
  {
   "cell_type": "markdown",
   "metadata": {
    "deletable": false,
    "editable": false,
    "nbgrader": {
     "cell_type": "markdown",
     "checksum": "3c719c1aca6aa05893f903f78d75ba94",
     "grade": false,
     "grade_id": "cell-acdb1bfcd2ec582e",
     "locked": true,
     "schema_version": 3,
     "solution": false,
     "task": false
    }
   },
   "source": [
    "**Implementation (25 points):**\n",
    "First, implement the pairwaise loss, described above.\n",
    "\n",
    "**Rubric:**\n",
    " - Each ordering <i,j> combination is considered: 10 points\n",
    " - Proper application of the formula: 10 points\n",
    " - Mean loss: 5 points"
   ]
  },
  {
   "cell_type": "code",
   "execution_count": 28,
   "metadata": {
    "deletable": false,
    "nbgrader": {
     "cell_type": "code",
     "checksum": "3dcefb2b21b4524aa03cdf22382934ba",
     "grade": false,
     "grade_id": "cell-3a612aeb9e982639",
     "locked": false,
     "schema_version": 3,
     "solution": true,
     "task": false
    }
   },
   "outputs": [],
   "source": [
    "# TODO: Implement this! (25 points)\n",
    "def pairwise_loss(scores, labels):\n",
    "    \"\"\"\n",
    "    Compute and return the pairwise loss *for a single query*. To compute this, compute the loss for each \n",
    "    ordering in a query, and then return the mean. Use sigma=1.\n",
    "    \n",
    "    For a query, consider all possible ways of comparing 2 document-query pairs.\n",
    "    \n",
    "    Hint: See the next cell for an example which should make it clear how the inputs look like\n",
    "    \n",
    "    scores: tensor of size [N, 1] (the output of a neural network), where N = length of <query, document> pairs\n",
    "    labels: tensor of size [N], contains the relevance labels \n",
    "    \n",
    "    \"\"\"\n",
    "    # if there's only one rating\n",
    "    if labels.size(0) < 2:\n",
    "        return None\n",
    "    # YOUR CODE HERE\n",
    "    sigma = 1.\n",
    "    \n",
    "    # Get all combinations of documents\n",
    "    score_combs = torch.combinations(scores.squeeze())\n",
    "    label_combs = torch.combinations(labels.squeeze())\n",
    "    \n",
    "    # Compute S_ij\n",
    "    S = (label_combs[:,0] > label_combs[:,1]).float() - (label_combs[:,0] < label_combs[:,1]).float()\n",
    "    \n",
    "    # Compute C\n",
    "    C = 0.5*(1-S)*sigma*(score_combs[:,0]-score_combs[:,1])\n",
    "    C += torch.log(1 + torch.exp(-sigma*(score_combs[:,0]-score_combs[:,1])))\n",
    "\n",
    "    return C.sum()\n",
    "    "
   ]
  },
  {
   "cell_type": "code",
   "execution_count": 29,
   "metadata": {
    "deletable": false,
    "editable": false,
    "nbgrader": {
     "cell_type": "code",
     "checksum": "234a4669f7c7e14949006be676cabb90",
     "grade": false,
     "grade_id": "cell-01f6e909bc892bc8",
     "locked": true,
     "schema_version": 3,
     "solution": false,
     "task": false
    }
   },
   "outputs": [
    {
     "name": "stdout",
     "output_type": "stream",
     "text": [
      "tensor(6.8692)\n",
      "tensor(0.2014)\n"
     ]
    }
   ],
   "source": [
    "# Let's say we have 2 queries, the first one with 5 <document, query> pairs \n",
    "#    and the second one with 2 <document, query> pairs. The two variables can\n",
    "#    look something like this (note the shape, not the values):\n",
    "\n",
    "scores_1 = torch.FloatTensor([0.2, 2.3, 4.5, 0.2, 1.0])\n",
    "labels_1 = torch.FloatTensor([1, 2, 3, 0, 4])\n",
    "\n",
    "\n",
    "scores_2 = torch.FloatTensor([3.2, 1.7])\n",
    "labels_2 = torch.FloatTensor([3, 1])\n",
    "\n",
    "print(pairwise_loss(scores_1, labels_1))\n",
    "print(pairwise_loss(scores_2, labels_2))"
   ]
  },
  {
   "cell_type": "markdown",
   "metadata": {
    "deletable": false,
    "nbgrader": {
     "cell_type": "code",
     "checksum": "618bd72120cdd1baae3f22733f124d6c",
     "grade": true,
     "grade_id": "cell-5f706c38e99721df",
     "locked": false,
     "points": 25,
     "schema_version": 3,
     "solution": true,
     "task": false
    }
   },
   "source": [
    "See rubric."
   ]
  },
  {
   "cell_type": "markdown",
   "metadata": {
    "deletable": false,
    "editable": false,
    "nbgrader": {
     "cell_type": "markdown",
     "checksum": "b63a41669c7a768f5420d43968a53212",
     "grade": false,
     "grade_id": "cell-45f14561e4843320",
     "locked": true,
     "schema_version": 3,
     "solution": false,
     "task": false
    }
   },
   "source": [
    "**Implementation (35 points):**\n",
    "Now implement the wrapper for the pairwise LTR.\n",
    "\n",
    "**Rubric:**\n",
    " - Network is trained for specified epochs, and iterates over the entire dataset\n",
    " - and (train) data is shuffled : 10 points\n",
    " - Loss calculation: 10 points\n",
    " - Evaluation on the validation set: 5 points\n",
    " - Training (e.g optimizer, zero_grad, backward): 10 points"
   ]
  },
  {
   "cell_type": "code",
   "execution_count": 30,
   "metadata": {
    "deletable": false,
    "nbgrader": {
     "cell_type": "code",
     "checksum": "31ad65b3cbd923af54ff56f804bbc93c",
     "grade": false,
     "grade_id": "cell-a85c38ca94031203",
     "locked": false,
     "schema_version": 3,
     "solution": true,
     "task": false
    }
   },
   "outputs": [],
   "source": [
    "# TODO: Implement this! (35 points)\n",
    "def train_pairwise(net, params):\n",
    "    \"\"\"\n",
    "    This function should train the given network using the pairwise loss\n",
    "    \n",
    "    Returns: a dictionary containing: \"metrics_val\" (a list of dictionaries) and \n",
    "             \"metrics_train\" (a list of dictionaries). \n",
    "             \n",
    "             \"metrics_val\" should contain metrics (the metrics in params.metrics) computed\n",
    "             after each epoch on the validation set (metrics_train is similar). \n",
    "             You can use this to debug your models\n",
    "    \n",
    "    Note: Do not change the function definition! \n",
    "    Note: You can assume params.batch_size will always be equal to 1\n",
    "    \n",
    "    Hint: Consider the case when the loss function returns 'None'\n",
    "    \n",
    "    net: the neural network to be trained\n",
    "    \n",
    "    params: params is an object which contains config used in training \n",
    "        (eg. params.epochs - the number of epochs to train). \n",
    "        For a full list of these params, see the next cell. \n",
    "    \"\"\"\n",
    "\n",
    "    val_metrics_epoch = []\n",
    "    train_metrics_epoch = []\n",
    "    # YOUR CODE HERE\n",
    "    epochs = params.epochs\n",
    "    lr = params.lr\n",
    "    batch_size = params.batch_size\n",
    "    metrics = params.metrics\n",
    "    \n",
    "    train_dl = DataLoader(QueryGroupedLTRData(data, \"train\"), batch_size=batch_size, shuffle=True)\n",
    "    optimizer = torch.optim.Adam(net.parameters(), lr=lr)\n",
    "\n",
    "    pred_fn = net\n",
    "    loss_fn = pairwise_loss\n",
    "    \n",
    "    for epoch in range(epochs):\n",
    "        net.train()\n",
    "        for (_, x, y) in tqdm(train_dl):\n",
    "            # Since batch size is 1\n",
    "            x = x[0]\n",
    "            y = y[0]\n",
    "            scores = net(x)\n",
    "            loss = loss_fn(scores, y)\n",
    "            if loss is None:\n",
    "                continue\n",
    "            optimizer.zero_grad()\n",
    "            loss.backward()\n",
    "            optimizer.step()\n",
    "        \n",
    "        net.eval()\n",
    "        m_trn = evaluate_model(pred_fn, \"train\")\n",
    "        train_metrics_epoch.append({m: m_trn[m] for m in metrics})\n",
    "        \n",
    "        m_val = evaluate_model(pred_fn, \"validation\")\n",
    "        val_metrics_epoch.append({m: m_val[m] for m in metrics})\n",
    "    \n",
    "    return {\n",
    "        \"metrics_val\": val_metrics_epoch,\n",
    "        \"metrics_train\": train_metrics_epoch\n",
    "    }"
   ]
  },
  {
   "cell_type": "code",
   "execution_count": 31,
   "metadata": {
    "deletable": false,
    "editable": false,
    "nbgrader": {
     "cell_type": "code",
     "checksum": "b4b97202b1befddb4af2ec7851c5d174",
     "grade": false,
     "grade_id": "cell-19ec0cf692c86b75",
     "locked": true,
     "schema_version": 3,
     "solution": false,
     "task": false
    }
   },
   "outputs": [],
   "source": [
    "pairwise_params_test = Namespace(epochs=1, lr=1e-3, batch_size=1, metrics={\"ndcg\"})\n",
    "## uncomment to test your code\n",
    "# pairwise_net = NeuralModule(1)\n",
    "# train_pairwise(pairwise_net, pairwise_params_test)\n",
    "# pairwise_test, pairwise_q = evaluate_model(pairwise_net,\n",
    "#                                          \"test\", print_results=True, q_level=True)"
   ]
  },
  {
   "cell_type": "code",
   "execution_count": null,
   "metadata": {
    "deletable": false,
    "nbgrader": {
     "cell_type": "code",
     "checksum": "52558867a0a7f79d6c42ceab4f26a132",
     "grade": true,
     "grade_id": "cell-34178113ea5e9331",
     "locked": false,
     "points": 35,
     "schema_version": 3,
     "solution": true,
     "task": false
    }
   },
   "outputs": [],
   "source": [
    "# YOUR CODE HERE\n",
    "raise NotImplementedError()"
   ]
  },
  {
   "cell_type": "markdown",
   "metadata": {
    "deletable": false,
    "editable": false,
    "nbgrader": {
     "cell_type": "markdown",
     "checksum": "3867bfe2e108bffb3ae69f5ddfd68834",
     "grade": false,
     "grade_id": "cell-3a95bb01f72fc76c",
     "locked": true,
     "schema_version": 3,
     "solution": false,
     "task": false
    }
   },
   "source": [
    "## Section 4: Pairwise: Speed-up RankNet (70 points) <a class=\"anchor\" id=\"SpairwiseLTR\"></a>\n",
    "\n",
    "[Back to TOC](#top)\n",
    "\n",
    "To speed up training of the previous model, we can consider a sped up version of the model, where instead of `.backward` on the loss, we use `torch.backward(lambda_i)`. \n",
    "\n",
    "The derivative of the total cost $C_T$ with respect to the model parameters $w_k$ is:\n",
    "\n",
    "$$        \\frac{\\partial C_T}{\\partial w_k} = \\sum_{(i,j) \\in \\mathcal{P}} \\frac{\\partial C(s_i, s_j)}{\\partial s_i} \\frac{\\partial s_i}{\\partial w_k} + \\frac{\\partial C(s_i, s_j)}{\\partial s_j} \\frac{\\partial s_j}{\\partial w_k} $$\n",
    "\n",
    "We can rewrite this sum by considering the set of indices $j$ , for which $\\{i,j\\}$ is a valid pair, denoted by $\\mathcal{P}_i$, and the set of document indices $\\mathcal{D}$:\n",
    "\n",
    "$$\n",
    "\\frac{\\partial C_T}{\\partial w_k} = \\sum_{i \\in \\mathcal{D}}\n",
    "\\frac{\\partial s_i}{\\partial w_k} \\sum_{j \\in \\mathcal{P}_i} \n",
    "\\frac{\\partial C(s_i, s_j)}{\\partial s_i} \n",
    "$$\n",
    "\n",
    "This sped of version of the algorithm first computes scores $s_i$ for all the documents. Then for each $j= 1, \\dots, n$, compute:\n",
    "\n",
    "$$\n",
    "\\lambda_{ij} = \\frac{\\partial C(s_i, s_j)}{\\partial s_i} = \\sigma \\bigg( \\frac{1}{2}(1 - S_{ij}) -  \\frac{1}{1 + e^{\\sigma(s_i -s_j))}} \\bigg) \\\\\n",
    "\\lambda_i = \\sum_{j \\in \\mathcal{P}_i} \\frac{\\partial C(s_i, s_j)}{\\partial s_i} = \\sum_{j \\in \\mathcal{P}_i} \\lambda_{ij}\n",
    "$$\n",
    "\n",
    "That gives us:\n",
    "\n",
    "$$\n",
    "\\frac{\\partial C_T}{\\partial w_k} = \\sum_{i \\in \\mathcal{D}}\n",
    "\\frac{\\partial s_i}{\\partial w_k} \\lambda_i\n",
    "$$\n",
    "\n",
    "This can be directly optimized in pytorch using: `torch.autograd.backward(scores, lambda_i)` \n",
    " \n"
   ]
  },
  {
   "cell_type": "markdown",
   "metadata": {
    "deletable": false,
    "editable": false,
    "nbgrader": {
     "cell_type": "markdown",
     "checksum": "c88f76d295dd1dc2778cd2413b4c58e8",
     "grade": false,
     "grade_id": "cell-2a9b7b682a011642",
     "locked": true,
     "schema_version": 3,
     "solution": false,
     "task": false
    }
   },
   "source": [
    "**Implementation (20 points):**\n",
    "Implement the sped-up version of pairwise loss, described above.\n",
    "\n",
    "**Rubric:**\n",
    " - Each ordering <i,j> combination is considered: 10 points\n",
    " - Proper application of the formula: 10 points"
   ]
  },
  {
   "cell_type": "code",
   "execution_count": 32,
   "metadata": {
    "deletable": false,
    "nbgrader": {
     "cell_type": "code",
     "checksum": "4cea38cdd68cb70d08e33827bffc53a8",
     "grade": false,
     "grade_id": "cell-ba7f8d8631e3f1d6",
     "locked": false,
     "schema_version": 3,
     "solution": true,
     "task": false
    }
   },
   "outputs": [],
   "source": [
    "# TODO: Implement this! (20 points)\n",
    "def compute_lambda_i(scores, labels):\n",
    "    \"\"\"\n",
    "    Compute \\lambda_i (defined in the previous cell). (assume sigma=1.)\n",
    "    \n",
    "    scores: tensor of size [N, 1] (the output of a neural network), where N = length of <query, document> pairs\n",
    "    labels: tensor of size [N], contains the relevance labels \n",
    "    \n",
    "    return: \\lambda_i, a tensor of shape: [N, 1]\n",
    "    \"\"\"\n",
    "    \n",
    "    # YOUR CODE HERE\n",
    "    sigma = 1.\n",
    "    \n",
    "    # Compute all combinations, even when i=j\n",
    "    score_cart = torch.cartesian_prod(scores.squeeze(), scores.squeeze())\n",
    "    label_cart = torch.cartesian_prod(labels.squeeze(), labels.squeeze())\n",
    "    \n",
    "    # Compute S\n",
    "    S = (label_cart[:,0] > label_cart[:,1]).float() - (label_cart[:,0] < label_cart[:,1]).float()\n",
    "    \n",
    "    # Compute lambda_ij\n",
    "    lambda_ij = sigma*(0.5*(1-S) - 1./(1+torch.exp(sigma*(score_cart[:,0]-score_cart[:,1]))))\n",
    "    lambda_ij = lambda_ij.reshape(len(scores), len(scores))\n",
    "    \n",
    "    #Compute lambda_i\n",
    "    lambda_i = lambda_ij.sum(dim=1).reshape(-1,1)\n",
    "    return lambda_i"
   ]
  },
  {
   "cell_type": "code",
   "execution_count": null,
   "metadata": {
    "deletable": false,
    "nbgrader": {
     "cell_type": "code",
     "checksum": "9c4533f39d3dfbefdd4b56c61316eac8",
     "grade": true,
     "grade_id": "cell-756179237da34c57",
     "locked": false,
     "points": 20,
     "schema_version": 3,
     "solution": true,
     "task": false
    }
   },
   "outputs": [],
   "source": [
    "# YOUR CODE HERE\n",
    "raise NotImplementedError()"
   ]
  },
  {
   "cell_type": "markdown",
   "metadata": {
    "deletable": false,
    "editable": false,
    "nbgrader": {
     "cell_type": "markdown",
     "checksum": "00482b2615dc28ead4c745a705e5fafb",
     "grade": false,
     "grade_id": "cell-ed55c62fbba08923",
     "locked": true,
     "schema_version": 3,
     "solution": false,
     "task": false
    }
   },
   "source": [
    "**Implementation (50 points):**\n",
    "Using the sped-up loss function `compute_lambda_i`, implement the spedup wrapper for pairwise training.\n",
    "\n",
    "**Rubric:**\n",
    " - Network is trained for specified epochs, and iterates over the entire dataset and (train) data is shuffled : 10 points\n",
    " - Loss calculation: 10 points\n",
    " - Evaluation on the validation set: 5 points\n",
    " - Training (e.g optimizer, zero_grad, backward): 10 points\n",
    " - Performance as expected: 15 points"
   ]
  },
  {
   "cell_type": "code",
   "execution_count": 33,
   "metadata": {
    "deletable": false,
    "nbgrader": {
     "cell_type": "code",
     "checksum": "14e4da9878b2e0a3603437b29a66a07c",
     "grade": false,
     "grade_id": "cell-ddfeb927c2f4a31c",
     "locked": false,
     "schema_version": 3,
     "solution": true,
     "task": false
    }
   },
   "outputs": [],
   "source": [
    "# TODO: Implement this! (50 points)\n",
    "def train_pairwise_spedup(net, params):\n",
    "    \"\"\"\n",
    "    This function should train the given network using the sped up pairwise loss\n",
    "    \n",
    "    \n",
    "    Note: Do not change the function definition! \n",
    "    Note: You can assume params.batch_size will always be equal to 1\n",
    "    \n",
    "    \n",
    "    net: the neural network to be trained\n",
    "    \n",
    "    params: params is an object which contains config used in training \n",
    "        (eg. params.epochs - the number of epochs to train). \n",
    "        For a full list of these params, see the next cell. \n",
    "    \n",
    "    Returns: a dictionary containing: \"metrics_val\" (a list of dictionaries) and \n",
    "             \"metrics_train\" (a list of dictionaries). \n",
    "             \n",
    "             \"metrics_val\" should contain metrics (the metrics in params.metrics) computed\n",
    "             after each epoch on the validation set (metrics_train is similar). \n",
    "             You can use this to debug your models\n",
    "    \"\"\"\n",
    "    \n",
    "    val_metrics_epoch = []\n",
    "    train_metrics_epoch = []\n",
    "    # YOUR CODE HERE\n",
    "    epochs = params.epochs\n",
    "    lr = params.lr\n",
    "    batch_size = params.batch_size\n",
    "    metrics = params.metrics\n",
    "    \n",
    "    train_dl = DataLoader(QueryGroupedLTRData(data, \"train\"), batch_size=batch_size, shuffle=True)\n",
    "    optimizer = torch.optim.Adam(net.parameters(), lr=lr)\n",
    "\n",
    "    pred_fn = net\n",
    "    loss_fn = compute_lambda_i\n",
    "    \n",
    "    for epoch in range(epochs):\n",
    "        net.train()\n",
    "        for (_, x, y) in tqdm(train_dl):\n",
    "            # Since batch size is 1\n",
    "            x = x[0]\n",
    "            y = y[0]\n",
    "            scores = net(x)\n",
    "            lambda_i = loss_fn(scores, y)\n",
    "            optimizer.zero_grad()\n",
    "            torch.autograd.backward(scores, lambda_i)\n",
    "            optimizer.step()\n",
    "        \n",
    "        net.eval()\n",
    "        m_trn = evaluate_model(pred_fn, \"train\")\n",
    "        train_metrics_epoch.append({m: m_trn[m] for m in metrics})\n",
    "        \n",
    "        m_val = evaluate_model(pred_fn, \"validation\")\n",
    "        val_metrics_epoch.append({m: m_val[m] for m in metrics})\n",
    "    \n",
    "    return {\n",
    "        \"metrics_val\": val_metrics_epoch,\n",
    "        \"metrics_train\": train_metrics_epoch\n",
    "    }"
   ]
  },
  {
   "cell_type": "code",
   "execution_count": null,
   "metadata": {
    "deletable": false,
    "editable": false,
    "nbgrader": {
     "cell_type": "code",
     "checksum": "cb9b27b6ec712d8d1146751bc150791e",
     "grade": false,
     "grade_id": "cell-f80dc2eae24968ee",
     "locked": true,
     "schema_version": 3,
     "solution": false,
     "task": false
    }
   },
   "outputs": [],
   "source": [
    "# uncomment to test your code\n",
    "# pairwise_spedup_params_test = Namespace(epochs=1, lr=1e-3, batch_size=1, metrics={\"ndcg@10\",\"ndcg\"})\n",
    "# pairwise_net_spedup = NeuralModule(1)\n",
    "# train_pairwise_spedup(pairwise_net_spedup, pairwise_spedup_params_test)"
   ]
  },
  {
   "cell_type": "markdown",
   "metadata": {
    "deletable": false,
    "editable": false,
    "nbgrader": {
     "cell_type": "markdown",
     "checksum": "c173b7020a1122f7218bbf37ee370884",
     "grade": false,
     "grade_id": "cell-20aa326063f673c2",
     "locked": true,
     "schema_version": 3,
     "solution": false,
     "task": false
    }
   },
   "source": [
    "The next cell creates the results file you will have to submit. *Note that the next cell trains and evaluates only the sped-up version - this is intentional!*"
   ]
  },
  {
   "cell_type": "code",
   "execution_count": 34,
   "metadata": {
    "deletable": false,
    "editable": false,
    "nbgrader": {
     "cell_type": "code",
     "checksum": "77211db554a4bb37582d7c61c7170243",
     "grade": false,
     "grade_id": "cell-32660e207ce6d16a",
     "locked": true,
     "schema_version": 3,
     "solution": false,
     "task": false
    },
    "scrolled": true
   },
   "outputs": [
    {
     "name": "stdout",
     "output_type": "stream",
     "text": [
      "Training Model\n"
     ]
    },
    {
     "data": {
      "application/vnd.jupyter.widget-view+json": {
       "model_id": "7f2ba45c0dd34acdbb7f47575fa645e3",
       "version_major": 2,
       "version_minor": 0
      },
      "text/plain": [
       "  0%|          | 0/2735 [00:00<?, ?it/s]"
      ]
     },
     "metadata": {},
     "output_type": "display_data"
    },
    {
     "data": {
      "application/vnd.jupyter.widget-view+json": {
       "model_id": "",
       "version_major": 2,
       "version_minor": 0
      },
      "text/plain": [
       "Eval (train):   0%|          | 0/333 [00:00<?, ?it/s]"
      ]
     },
     "metadata": {},
     "output_type": "display_data"
    },
    {
     "data": {
      "application/vnd.jupyter.widget-view+json": {
       "model_id": "",
       "version_major": 2,
       "version_minor": 0
      },
      "text/plain": [
       "Eval (validation):   0%|          | 0/50 [00:00<?, ?it/s]"
      ]
     },
     "metadata": {},
     "output_type": "display_data"
    },
    {
     "data": {
      "application/vnd.jupyter.widget-view+json": {
       "model_id": "34a95ff650a24c83bed7cde2a04bb80f",
       "version_major": 2,
       "version_minor": 0
      },
      "text/plain": [
       "  0%|          | 0/2735 [00:00<?, ?it/s]"
      ]
     },
     "metadata": {},
     "output_type": "display_data"
    },
    {
     "data": {
      "application/vnd.jupyter.widget-view+json": {
       "model_id": "",
       "version_major": 2,
       "version_minor": 0
      },
      "text/plain": [
       "Eval (train):   0%|          | 0/333 [00:00<?, ?it/s]"
      ]
     },
     "metadata": {},
     "output_type": "display_data"
    },
    {
     "data": {
      "application/vnd.jupyter.widget-view+json": {
       "model_id": "",
       "version_major": 2,
       "version_minor": 0
      },
      "text/plain": [
       "Eval (validation):   0%|          | 0/50 [00:00<?, ?it/s]"
      ]
     },
     "metadata": {},
     "output_type": "display_data"
    },
    {
     "data": {
      "application/vnd.jupyter.widget-view+json": {
       "model_id": "b292680749a14d28b267b98a46f335e5",
       "version_major": 2,
       "version_minor": 0
      },
      "text/plain": [
       "  0%|          | 0/2735 [00:00<?, ?it/s]"
      ]
     },
     "metadata": {},
     "output_type": "display_data"
    },
    {
     "data": {
      "application/vnd.jupyter.widget-view+json": {
       "model_id": "",
       "version_major": 2,
       "version_minor": 0
      },
      "text/plain": [
       "Eval (train):   0%|          | 0/333 [00:00<?, ?it/s]"
      ]
     },
     "metadata": {},
     "output_type": "display_data"
    },
    {
     "data": {
      "application/vnd.jupyter.widget-view+json": {
       "model_id": "",
       "version_major": 2,
       "version_minor": 0
      },
      "text/plain": [
       "Eval (validation):   0%|          | 0/50 [00:00<?, ?it/s]"
      ]
     },
     "metadata": {},
     "output_type": "display_data"
    },
    {
     "data": {
      "application/vnd.jupyter.widget-view+json": {
       "model_id": "e36ad45f7cfa4c0da530d7e262edf70c",
       "version_major": 2,
       "version_minor": 0
      },
      "text/plain": [
       "  0%|          | 0/2735 [00:00<?, ?it/s]"
      ]
     },
     "metadata": {},
     "output_type": "display_data"
    },
    {
     "data": {
      "application/vnd.jupyter.widget-view+json": {
       "model_id": "",
       "version_major": 2,
       "version_minor": 0
      },
      "text/plain": [
       "Eval (train):   0%|          | 0/333 [00:00<?, ?it/s]"
      ]
     },
     "metadata": {},
     "output_type": "display_data"
    },
    {
     "data": {
      "application/vnd.jupyter.widget-view+json": {
       "model_id": "",
       "version_major": 2,
       "version_minor": 0
      },
      "text/plain": [
       "Eval (validation):   0%|          | 0/50 [00:00<?, ?it/s]"
      ]
     },
     "metadata": {},
     "output_type": "display_data"
    },
    {
     "data": {
      "application/vnd.jupyter.widget-view+json": {
       "model_id": "907bba06a71248d8891455bf85bb5a75",
       "version_major": 2,
       "version_minor": 0
      },
      "text/plain": [
       "  0%|          | 0/2735 [00:00<?, ?it/s]"
      ]
     },
     "metadata": {},
     "output_type": "display_data"
    },
    {
     "data": {
      "application/vnd.jupyter.widget-view+json": {
       "model_id": "",
       "version_major": 2,
       "version_minor": 0
      },
      "text/plain": [
       "Eval (train):   0%|          | 0/333 [00:00<?, ?it/s]"
      ]
     },
     "metadata": {},
     "output_type": "display_data"
    },
    {
     "data": {
      "application/vnd.jupyter.widget-view+json": {
       "model_id": "",
       "version_major": 2,
       "version_minor": 0
      },
      "text/plain": [
       "Eval (validation):   0%|          | 0/50 [00:00<?, ?it/s]"
      ]
     },
     "metadata": {},
     "output_type": "display_data"
    },
    {
     "data": {
      "application/vnd.jupyter.widget-view+json": {
       "model_id": "03d417d1f0884af59a249b16ea5fb76a",
       "version_major": 2,
       "version_minor": 0
      },
      "text/plain": [
       "  0%|          | 0/2735 [00:00<?, ?it/s]"
      ]
     },
     "metadata": {},
     "output_type": "display_data"
    },
    {
     "data": {
      "application/vnd.jupyter.widget-view+json": {
       "model_id": "",
       "version_major": 2,
       "version_minor": 0
      },
      "text/plain": [
       "Eval (train):   0%|          | 0/333 [00:00<?, ?it/s]"
      ]
     },
     "metadata": {},
     "output_type": "display_data"
    },
    {
     "data": {
      "application/vnd.jupyter.widget-view+json": {
       "model_id": "",
       "version_major": 2,
       "version_minor": 0
      },
      "text/plain": [
       "Eval (validation):   0%|          | 0/50 [00:00<?, ?it/s]"
      ]
     },
     "metadata": {},
     "output_type": "display_data"
    },
    {
     "data": {
      "application/vnd.jupyter.widget-view+json": {
       "model_id": "4aa9830280b84cfc88097e05f96dda78",
       "version_major": 2,
       "version_minor": 0
      },
      "text/plain": [
       "  0%|          | 0/2735 [00:00<?, ?it/s]"
      ]
     },
     "metadata": {},
     "output_type": "display_data"
    },
    {
     "data": {
      "application/vnd.jupyter.widget-view+json": {
       "model_id": "",
       "version_major": 2,
       "version_minor": 0
      },
      "text/plain": [
       "Eval (train):   0%|          | 0/333 [00:00<?, ?it/s]"
      ]
     },
     "metadata": {},
     "output_type": "display_data"
    },
    {
     "data": {
      "application/vnd.jupyter.widget-view+json": {
       "model_id": "",
       "version_major": 2,
       "version_minor": 0
      },
      "text/plain": [
       "Eval (validation):   0%|          | 0/50 [00:00<?, ?it/s]"
      ]
     },
     "metadata": {},
     "output_type": "display_data"
    },
    {
     "data": {
      "application/vnd.jupyter.widget-view+json": {
       "model_id": "91e3a98e8d5b4a28a63186ed99404a54",
       "version_major": 2,
       "version_minor": 0
      },
      "text/plain": [
       "  0%|          | 0/2735 [00:00<?, ?it/s]"
      ]
     },
     "metadata": {},
     "output_type": "display_data"
    },
    {
     "data": {
      "application/vnd.jupyter.widget-view+json": {
       "model_id": "",
       "version_major": 2,
       "version_minor": 0
      },
      "text/plain": [
       "Eval (train):   0%|          | 0/333 [00:00<?, ?it/s]"
      ]
     },
     "metadata": {},
     "output_type": "display_data"
    },
    {
     "data": {
      "application/vnd.jupyter.widget-view+json": {
       "model_id": "",
       "version_major": 2,
       "version_minor": 0
      },
      "text/plain": [
       "Eval (validation):   0%|          | 0/50 [00:00<?, ?it/s]"
      ]
     },
     "metadata": {},
     "output_type": "display_data"
    },
    {
     "data": {
      "application/vnd.jupyter.widget-view+json": {
       "model_id": "",
       "version_major": 2,
       "version_minor": 0
      },
      "text/plain": [
       "Eval (test):   0%|          | 0/117 [00:00<?, ?it/s]"
      ]
     },
     "metadata": {},
     "output_type": "display_data"
    },
    {
     "name": "stdout",
     "output_type": "stream",
     "text": [
      "\"metric\": \"mean\" (\"standard deviation\")\n",
      "dcg: 110.5635 (23.79958)\n",
      "dcg@03: 19.3227 (7.75637)\n",
      "dcg@05: 24.7348 (8.69601)\n",
      "dcg@10: 33.1663 (10.88837)\n",
      "dcg@20: 43.3525 (12.90653)\n",
      "ndcg: 0.8541 (0.04748)\n",
      "ndcg@03: 0.6634 (0.22599)\n",
      "ndcg@05: 0.6446 (0.17458)\n",
      "ndcg@10: 0.6338 (0.14352)\n",
      "ndcg@20: 0.6319 (0.12161)\n",
      "precision@01: 0.7521 (0.43177)\n",
      "precision@03: 0.7179 (0.28450)\n",
      "precision@05: 0.6444 (0.26163)\n",
      "precision@10: 0.5299 (0.22005)\n",
      "precision@20: 0.4085 (0.17678)\n",
      "recall@01: 0.0340 (0.02834)\n",
      "recall@03: 0.0971 (0.05450)\n",
      "recall@05: 0.1438 (0.08109)\n",
      "recall@10: 0.2287 (0.10716)\n",
      "recall@20: 0.3392 (0.13254)\n",
      "relevant rank: 65.1103 (62.39569)\n",
      "relevant rank per query: 1675.6154 (1026.35234)\n"
     ]
    }
   ],
   "source": [
    "seed(42)\n",
    "params = Namespace(epochs=8, \n",
    "                    lr=1e-3,\n",
    "                    batch_size=1,\n",
    "                    metrics={\"ndcg\", \"precision@05\", \"recall@05\"})\n",
    "pairwise_model = NeuralModule(1)\n",
    "\n",
    "create_results(pairwise_model, \n",
    "               train_pairwise_spedup, \n",
    "               pairwise_model,\n",
    "               \"./pairwise.json\",\n",
    "               params)\n",
    "# persist model\n",
    "torch.save(pairwise_model.state_dict(), \"./pairwise_wt\")"
   ]
  },
  {
   "cell_type": "markdown",
   "metadata": {
    "deletable": false,
    "nbgrader": {
     "cell_type": "markdown",
     "checksum": "3cc6f1a702be838b6e26733b089d5bda",
     "grade": true,
     "grade_id": "cell-8aad7ba1f8c6c23c",
     "locked": false,
     "points": 35,
     "schema_version": 3,
     "solution": true,
     "task": false
    }
   },
   "source": [
    "YOUR ANSWER HERE"
   ]
  },
  {
   "cell_type": "code",
   "execution_count": 35,
   "metadata": {
    "deletable": false,
    "editable": false,
    "nbgrader": {
     "cell_type": "code",
     "checksum": "5b46d1ebc1676bc1dbce629b0a978326",
     "grade": true,
     "grade_id": "cell-3dc8ee835753e5aa",
     "locked": true,
     "points": 15,
     "schema_version": 3,
     "solution": false,
     "task": false
    }
   },
   "outputs": [],
   "source": [
    "assert os.path.exists(\"./pairwise.json\")"
   ]
  },
  {
   "cell_type": "markdown",
   "metadata": {
    "deletable": false,
    "editable": false,
    "nbgrader": {
     "cell_type": "markdown",
     "checksum": "60ad8126d68fcf4814988ad22c335c2a",
     "grade": false,
     "grade_id": "cell-14e048f55b2e6aea",
     "locked": true,
     "schema_version": 3,
     "solution": false,
     "task": false
    }
   },
   "source": [
    "##  Section 5: Listwise LTR (80 points) <a class=\"anchor\" id=\"listwiseLTR\"></a>\n",
    "\n",
    "[Back to TOC](#top)\n",
    "\n",
    "In this section, you will implement LambdaRank, a listwise approach to LTR. Consider the computation of $\\lambda$ for sped-up RankNet (that you've already implemented). $\\lambda$ here amounts to the 'force' on a document given its neighbours in the ranked list. The design of $\\lambda$ in LambdaRank is similar to RankNet, but is scaled by DCG gain from swapping the two documents in question. Let's suppose that the corresponding ranks of doucment $D_i$ and $D_j$ are $r_i$ and $r_j$ respectively. Given a ranking measure $IRM$, such as $NDCG$ or $ERR$, the lambda function in LambdaRank is defined as:\n",
    "\n",
    "\n",
    "$$        \\frac{\\partial C}{\\partial s_i} = \\sum_{j \\in D} \\lambda_{ij} \\cdot |\\bigtriangleup IRM (i,j)| $$\n",
    "\n",
    "Where $|\\bigtriangleup IRM(i,j)|$ is the absolute difference in $IRM$ after swapping the rank positions $r_i$ and $r_j$ while leaving everything else unchanged ($| \\cdot |$ denotes the absolute value). Note that we do not backpropogate $|\\bigtriangleup IRM|$, it is treated as a constant that scales the gradients. In this assignment we will use $|\\bigtriangleup NDCG|$"
   ]
  },
  {
   "cell_type": "markdown",
   "metadata": {
    "deletable": false,
    "editable": false,
    "nbgrader": {
     "cell_type": "markdown",
     "checksum": "0caedecf5dcfd8b561a99f58ea756abd",
     "grade": false,
     "grade_id": "cell-351c194e6797d0a0",
     "locked": true,
     "schema_version": 3,
     "solution": false,
     "task": false
    }
   },
   "source": [
    "**Implementation (30 points):**\n",
    "Implement the listwise loss.\n",
    "\n",
    "**Rubric:**\n",
    " - Each ordering <i,j> combination is considered: 10 points\n",
    " - Computing $|\\bigtriangleup NDCG|$: 10 points \n",
    " - Proper application of the formula: 10 points "
   ]
  },
  {
   "cell_type": "code",
   "execution_count": 36,
   "metadata": {
    "deletable": false,
    "nbgrader": {
     "cell_type": "code",
     "checksum": "a0ba4266e951c80236d3dc6f0e0c32a5",
     "grade": false,
     "grade_id": "cell-48f6a2a1c4a529b6",
     "locked": false,
     "schema_version": 3,
     "solution": true,
     "task": false
    }
   },
   "outputs": [],
   "source": [
    "# TODO: Implement this! (30 points)\n",
    "def listwise_loss(scores, labels):\n",
    "    \n",
    "    \"\"\"\n",
    "    Compute the LambdaRank loss. (assume sigma=1.)\n",
    "    \n",
    "    scores: tensor of size [N, 1] (the output of a neural network), where N = length of <query, document> pairs\n",
    "    labels: tensor of size [N], contains the relevance labels \n",
    "    \n",
    "    returns: a tensor of size [N, 1]\n",
    "    \"\"\"\n",
    "    \n",
    "    # YOUR CODE HERE\n",
    "    sigma = 1.\n",
    "    labels = labels.squeeze() + 1 # Apperantly adding +1 to the labels helps with training\n",
    "    scores = scores.squeeze()\n",
    "    \n",
    "    score_cart = torch.cartesian_prod(scores, scores)\n",
    "    label_cart = torch.cartesian_prod(labels, labels)\n",
    "    \n",
    "    S = (label_cart[:,0] > label_cart[:,1]).float() - (label_cart[:,0] < label_cart[:,1]).float()\n",
    "    \n",
    "    lambda_ij = sigma*(0.5*(1-S) - 1./(1+torch.exp(sigma*(score_cart[:,0]-score_cart[:,1]))))\n",
    "    lambda_ij = lambda_ij.reshape(len(scores), len(scores))\n",
    "    \n",
    "    with torch.no_grad():\n",
    "        # Best DCG\n",
    "        best_rel = torch.sort(labels, descending=True).values\n",
    "        best_dcg = torch.sum((2**best_rel-1) / torch.log2(torch.arange(1,len(labels)+1).float()+1))\n",
    "        \n",
    "        # Current ranking based on scores\n",
    "        cur_ranking = torch.sort(scores, descending=True).indices\n",
    "        # Inverse ranking, index i contains r_i for s_i\n",
    "        cur_inv_rank = torch.sort(cur_ranking).indices + 1\n",
    "        # Create all documents combinations to swap\n",
    "        to_swap = torch.cartesian_prod(torch.arange(len(labels)), torch.arange(len(labels)))\n",
    "        \n",
    "        # nDCG is a sum thus most values cancel in the delta.\n",
    "        # The only values that matter after swapping document i and j, are\n",
    "        # The relevance of document i at rank of document i - relevance of document j at rank of document i\n",
    "        delta_dcg_ij = (2**labels[to_swap[:,0]] - 2**labels[to_swap[:,1]])/torch.log2(cur_inv_rank[to_swap[:,0]].float()+1)\n",
    "        # And the relevance of document j at rank of document j - relevance of document i at rank of document j\n",
    "        delta_dcg_ij += (2**labels[to_swap[:,1]] - 2**labels[to_swap[:,0]])/torch.log2(cur_inv_rank[to_swap[:,1]].float()+1)\n",
    "        \n",
    "        delta_dcg_ij = delta_dcg_ij.reshape(len(labels), len(labels))\n",
    "        delta_ndcg_ij = delta_dcg_ij / best_dcg\n",
    "        delta_ndcg_ij = torch.abs(delta_ndcg_ij)\n",
    "        \n",
    "    return (lambda_ij * delta_ndcg_ij).sum(dim=1).reshape(-1,1)\n",
    "        "
   ]
  },
  {
   "cell_type": "code",
   "execution_count": 37,
   "metadata": {
    "deletable": false,
    "editable": false,
    "nbgrader": {
     "cell_type": "code",
     "checksum": "28f708cd49db29860a2774a320685d18",
     "grade": false,
     "grade_id": "cell-7ffca014e68d2c32",
     "locked": true,
     "schema_version": 3,
     "solution": false,
     "task": false
    }
   },
   "outputs": [
    {
     "name": "stdout",
     "output_type": "stream",
     "text": [
      "tensor([[ 0.0161],\n",
      "        [ 0.0551],\n",
      "        [ 0.1592],\n",
      "        [ 0.0300],\n",
      "        [-0.2605]])\n",
      "tensor([[-0.0478],\n",
      "        [ 0.0478]])\n"
     ]
    }
   ],
   "source": [
    "scores_1 = torch.FloatTensor([0.2, 2.3, 4.5, 0.2, 1.0])\n",
    "labels_1 = torch.FloatTensor([1, 2, 3, 0, 4])\n",
    "\n",
    "\n",
    "scores_2 = torch.FloatTensor([3.2, 1.7])\n",
    "labels_2 = torch.FloatTensor([3, 1])\n",
    "\n",
    "\n",
    "print(listwise_loss(scores_1, labels_1))\n",
    "\n",
    "\n",
    "\n",
    "print(listwise_loss(scores_2, labels_2))"
   ]
  },
  {
   "cell_type": "code",
   "execution_count": null,
   "metadata": {
    "deletable": false,
    "nbgrader": {
     "cell_type": "code",
     "checksum": "b3c154e9791120fcb899928865f40d30",
     "grade": true,
     "grade_id": "cell-fadab94bb19ea7ee",
     "locked": false,
     "points": 30,
     "schema_version": 3,
     "solution": true,
     "task": false
    }
   },
   "outputs": [],
   "source": [
    "# YOUR CODE HERE\n",
    "raise NotImplementedError()"
   ]
  },
  {
   "cell_type": "markdown",
   "metadata": {
    "deletable": false,
    "editable": false,
    "nbgrader": {
     "cell_type": "markdown",
     "checksum": "48df2b36472c6f03f84a293fea5d3602",
     "grade": false,
     "grade_id": "cell-7dec2c279f77b272",
     "locked": true,
     "schema_version": 3,
     "solution": false,
     "task": false
    }
   },
   "source": [
    "##### **Implementation (50 points):**\n",
    "And use the loss function above to train a listwise LTR.\n",
    "\n",
    "**Rubric:**\n",
    " - Network is trained for specified epochs, and iterates over the entire dataset and (train) data is shuffled : 10 points\n",
    " - Loss calculation: 10 points\n",
    " - Evaluation on the validation set: 5 points\n",
    " - Training (e.g optimizer, zero_grad, backward): 10 points\n",
    " - Performance as expected: 15 points"
   ]
  },
  {
   "cell_type": "code",
   "execution_count": 38,
   "metadata": {
    "deletable": false,
    "nbgrader": {
     "cell_type": "code",
     "checksum": "786e51ea263d0ea82a5ec251344f7d0e",
     "grade": false,
     "grade_id": "cell-34c4d0bdbb753580",
     "locked": false,
     "schema_version": 3,
     "solution": true,
     "task": false
    }
   },
   "outputs": [],
   "source": [
    "# TODO: Implement this! (50 points)\n",
    "def train_listwise(net, params):\n",
    "    \"\"\"\n",
    "    This function should train the given network using the listwise (LambdaRank) loss\n",
    "    \n",
    "    Note: Do not change the function definition! \n",
    "    Note: You can assume params.batch_size will always be equal to 1\n",
    "    \n",
    "    \n",
    "    net: the neural network to be trained\n",
    "    \n",
    "    params: params is an object which contains config used in training \n",
    "        (eg. params.epochs - the number of epochs to train). \n",
    "        For a full list of these params, see the next cell. \n",
    "        \n",
    "    Returns: a dictionary containing: \"metrics_val\" (a list of dictionaries) and \n",
    "             \"metrics_train\" (a list of dictionaries). \n",
    "             \n",
    "             \"metrics_val\" should contain metrics (the metrics in params.metrics) computed\n",
    "             after each epoch on the validation set (metrics_train is similar). \n",
    "             You can use this to debug your models\n",
    "    \"\"\"\n",
    "    \n",
    "    val_metrics_epoch = []\n",
    "    train_metrics_epoch = []\n",
    "    # YOUR CODE HERE\n",
    "    epochs = params.epochs\n",
    "    lr = params.lr\n",
    "    batch_size = params.batch_size\n",
    "    metrics = params.metrics\n",
    "    \n",
    "    train_dl = DataLoader(QueryGroupedLTRData(data, \"train\"), batch_size=batch_size, shuffle=True)\n",
    "    optimizer = torch.optim.Adam(net.parameters(), lr=lr)\n",
    "\n",
    "    pred_fn = net\n",
    "    loss_fn = listwise_loss\n",
    "    \n",
    "    for epoch in range(epochs):\n",
    "        net.train()\n",
    "        for (_, x, y) in tqdm(train_dl):\n",
    "            # Since batch size is 1\n",
    "            x = x[0]\n",
    "            y = y[0]\n",
    "            scores = net(x)\n",
    "            lambda_i = loss_fn(scores, y)\n",
    "            optimizer.zero_grad()\n",
    "            torch.autograd.backward(scores, lambda_i)\n",
    "            optimizer.step()\n",
    "        \n",
    "        net.eval()\n",
    "        m_trn = evaluate_model(pred_fn, \"train\")\n",
    "        train_metrics_epoch.append({m: m_trn[m] for m in metrics})\n",
    "        \n",
    "        m_val = evaluate_model(pred_fn, \"validation\")\n",
    "        val_metrics_epoch.append({m: m_val[m] for m in metrics})\n",
    "    \n",
    "    return {\n",
    "        \"metrics_val\": val_metrics_epoch,\n",
    "        \"metrics_train\": train_metrics_epoch\n",
    "    }"
   ]
  },
  {
   "cell_type": "code",
   "execution_count": null,
   "metadata": {
    "deletable": false,
    "editable": false,
    "nbgrader": {
     "cell_type": "code",
     "checksum": "109d4be0105ee65f2e446c5d1a961eea",
     "grade": false,
     "grade_id": "cell-36910488e505a73a",
     "locked": true,
     "schema_version": 3,
     "solution": false,
     "task": false
    }
   },
   "outputs": [],
   "source": [
    "# uncomment to test your code\n",
    "# listwise_params_test = Namespace(epochs=1, lr=1e-3, batch_size=1, metrics={\"ndcg\"})\n",
    "# listwise_net = NeuralModule(1)\n",
    "# train_listwise(listwise_net, listwise_params_test)\n",
    "# evaluate_model(listwise_net, \"test\", print_results=True)"
   ]
  },
  {
   "cell_type": "markdown",
   "metadata": {
    "deletable": false,
    "editable": false,
    "nbgrader": {
     "cell_type": "markdown",
     "checksum": "275a63cf01f8efa9cb9b42b45d41aa9b",
     "grade": false,
     "grade_id": "cell-27de808a4c9d6bf6",
     "locked": true,
     "schema_version": 3,
     "solution": false,
     "task": false
    }
   },
   "source": [
    "The following cell saves your results in `listwise.json` file for submission."
   ]
  },
  {
   "cell_type": "code",
   "execution_count": 39,
   "metadata": {
    "deletable": false,
    "editable": false,
    "nbgrader": {
     "cell_type": "code",
     "checksum": "5b50d890fdac41f183467a165cc71ae6",
     "grade": false,
     "grade_id": "cell-8c3dde9e1dcde277",
     "locked": true,
     "schema_version": 3,
     "solution": false,
     "task": false
    }
   },
   "outputs": [
    {
     "name": "stdout",
     "output_type": "stream",
     "text": [
      "Training Model\n"
     ]
    },
    {
     "data": {
      "application/vnd.jupyter.widget-view+json": {
       "model_id": "7cc3ffae22c04f7cade7f18b0d3a6a01",
       "version_major": 2,
       "version_minor": 0
      },
      "text/plain": [
       "  0%|          | 0/2735 [00:00<?, ?it/s]"
      ]
     },
     "metadata": {},
     "output_type": "display_data"
    },
    {
     "data": {
      "application/vnd.jupyter.widget-view+json": {
       "model_id": "",
       "version_major": 2,
       "version_minor": 0
      },
      "text/plain": [
       "Eval (train):   0%|          | 0/333 [00:00<?, ?it/s]"
      ]
     },
     "metadata": {},
     "output_type": "display_data"
    },
    {
     "data": {
      "application/vnd.jupyter.widget-view+json": {
       "model_id": "",
       "version_major": 2,
       "version_minor": 0
      },
      "text/plain": [
       "Eval (validation):   0%|          | 0/50 [00:00<?, ?it/s]"
      ]
     },
     "metadata": {},
     "output_type": "display_data"
    },
    {
     "data": {
      "application/vnd.jupyter.widget-view+json": {
       "model_id": "d38a13fe68834a478956a12778d89487",
       "version_major": 2,
       "version_minor": 0
      },
      "text/plain": [
       "  0%|          | 0/2735 [00:00<?, ?it/s]"
      ]
     },
     "metadata": {},
     "output_type": "display_data"
    },
    {
     "data": {
      "application/vnd.jupyter.widget-view+json": {
       "model_id": "",
       "version_major": 2,
       "version_minor": 0
      },
      "text/plain": [
       "Eval (train):   0%|          | 0/333 [00:00<?, ?it/s]"
      ]
     },
     "metadata": {},
     "output_type": "display_data"
    },
    {
     "data": {
      "application/vnd.jupyter.widget-view+json": {
       "model_id": "",
       "version_major": 2,
       "version_minor": 0
      },
      "text/plain": [
       "Eval (validation):   0%|          | 0/50 [00:00<?, ?it/s]"
      ]
     },
     "metadata": {},
     "output_type": "display_data"
    },
    {
     "data": {
      "application/vnd.jupyter.widget-view+json": {
       "model_id": "66b820ce658a4db6a48361ec7007423a",
       "version_major": 2,
       "version_minor": 0
      },
      "text/plain": [
       "  0%|          | 0/2735 [00:00<?, ?it/s]"
      ]
     },
     "metadata": {},
     "output_type": "display_data"
    },
    {
     "data": {
      "application/vnd.jupyter.widget-view+json": {
       "model_id": "",
       "version_major": 2,
       "version_minor": 0
      },
      "text/plain": [
       "Eval (train):   0%|          | 0/333 [00:00<?, ?it/s]"
      ]
     },
     "metadata": {},
     "output_type": "display_data"
    },
    {
     "data": {
      "application/vnd.jupyter.widget-view+json": {
       "model_id": "",
       "version_major": 2,
       "version_minor": 0
      },
      "text/plain": [
       "Eval (validation):   0%|          | 0/50 [00:00<?, ?it/s]"
      ]
     },
     "metadata": {},
     "output_type": "display_data"
    },
    {
     "data": {
      "application/vnd.jupyter.widget-view+json": {
       "model_id": "4ce166eee9a3451591b8ef017bc1c238",
       "version_major": 2,
       "version_minor": 0
      },
      "text/plain": [
       "  0%|          | 0/2735 [00:00<?, ?it/s]"
      ]
     },
     "metadata": {},
     "output_type": "display_data"
    },
    {
     "data": {
      "application/vnd.jupyter.widget-view+json": {
       "model_id": "",
       "version_major": 2,
       "version_minor": 0
      },
      "text/plain": [
       "Eval (train):   0%|          | 0/333 [00:00<?, ?it/s]"
      ]
     },
     "metadata": {},
     "output_type": "display_data"
    },
    {
     "data": {
      "application/vnd.jupyter.widget-view+json": {
       "model_id": "",
       "version_major": 2,
       "version_minor": 0
      },
      "text/plain": [
       "Eval (validation):   0%|          | 0/50 [00:00<?, ?it/s]"
      ]
     },
     "metadata": {},
     "output_type": "display_data"
    },
    {
     "data": {
      "application/vnd.jupyter.widget-view+json": {
       "model_id": "8807e10130804065999fd36ee4937596",
       "version_major": 2,
       "version_minor": 0
      },
      "text/plain": [
       "  0%|          | 0/2735 [00:00<?, ?it/s]"
      ]
     },
     "metadata": {},
     "output_type": "display_data"
    },
    {
     "data": {
      "application/vnd.jupyter.widget-view+json": {
       "model_id": "",
       "version_major": 2,
       "version_minor": 0
      },
      "text/plain": [
       "Eval (train):   0%|          | 0/333 [00:00<?, ?it/s]"
      ]
     },
     "metadata": {},
     "output_type": "display_data"
    },
    {
     "data": {
      "application/vnd.jupyter.widget-view+json": {
       "model_id": "",
       "version_major": 2,
       "version_minor": 0
      },
      "text/plain": [
       "Eval (validation):   0%|          | 0/50 [00:00<?, ?it/s]"
      ]
     },
     "metadata": {},
     "output_type": "display_data"
    },
    {
     "data": {
      "application/vnd.jupyter.widget-view+json": {
       "model_id": "c533fe8de88046a38f1a68adeb52523b",
       "version_major": 2,
       "version_minor": 0
      },
      "text/plain": [
       "  0%|          | 0/2735 [00:00<?, ?it/s]"
      ]
     },
     "metadata": {},
     "output_type": "display_data"
    },
    {
     "data": {
      "application/vnd.jupyter.widget-view+json": {
       "model_id": "",
       "version_major": 2,
       "version_minor": 0
      },
      "text/plain": [
       "Eval (train):   0%|          | 0/333 [00:00<?, ?it/s]"
      ]
     },
     "metadata": {},
     "output_type": "display_data"
    },
    {
     "data": {
      "application/vnd.jupyter.widget-view+json": {
       "model_id": "",
       "version_major": 2,
       "version_minor": 0
      },
      "text/plain": [
       "Eval (validation):   0%|          | 0/50 [00:00<?, ?it/s]"
      ]
     },
     "metadata": {},
     "output_type": "display_data"
    },
    {
     "data": {
      "application/vnd.jupyter.widget-view+json": {
       "model_id": "fe67aa5d60ee41159724aec6e9752a84",
       "version_major": 2,
       "version_minor": 0
      },
      "text/plain": [
       "  0%|          | 0/2735 [00:00<?, ?it/s]"
      ]
     },
     "metadata": {},
     "output_type": "display_data"
    },
    {
     "data": {
      "application/vnd.jupyter.widget-view+json": {
       "model_id": "",
       "version_major": 2,
       "version_minor": 0
      },
      "text/plain": [
       "Eval (train):   0%|          | 0/333 [00:00<?, ?it/s]"
      ]
     },
     "metadata": {},
     "output_type": "display_data"
    },
    {
     "data": {
      "application/vnd.jupyter.widget-view+json": {
       "model_id": "",
       "version_major": 2,
       "version_minor": 0
      },
      "text/plain": [
       "Eval (validation):   0%|          | 0/50 [00:00<?, ?it/s]"
      ]
     },
     "metadata": {},
     "output_type": "display_data"
    },
    {
     "data": {
      "application/vnd.jupyter.widget-view+json": {
       "model_id": "84ac9c17053a42b1bddad70fa88f0d70",
       "version_major": 2,
       "version_minor": 0
      },
      "text/plain": [
       "  0%|          | 0/2735 [00:00<?, ?it/s]"
      ]
     },
     "metadata": {},
     "output_type": "display_data"
    },
    {
     "data": {
      "application/vnd.jupyter.widget-view+json": {
       "model_id": "",
       "version_major": 2,
       "version_minor": 0
      },
      "text/plain": [
       "Eval (train):   0%|          | 0/333 [00:00<?, ?it/s]"
      ]
     },
     "metadata": {},
     "output_type": "display_data"
    },
    {
     "data": {
      "application/vnd.jupyter.widget-view+json": {
       "model_id": "",
       "version_major": 2,
       "version_minor": 0
      },
      "text/plain": [
       "Eval (validation):   0%|          | 0/50 [00:00<?, ?it/s]"
      ]
     },
     "metadata": {},
     "output_type": "display_data"
    },
    {
     "data": {
      "application/vnd.jupyter.widget-view+json": {
       "model_id": "",
       "version_major": 2,
       "version_minor": 0
      },
      "text/plain": [
       "Eval (test):   0%|          | 0/117 [00:00<?, ?it/s]"
      ]
     },
     "metadata": {},
     "output_type": "display_data"
    },
    {
     "name": "stdout",
     "output_type": "stream",
     "text": [
      "\"metric\": \"mean\" (\"standard deviation\")\n",
      "dcg: 112.2658 (24.63662)\n",
      "dcg@03: 21.8042 (8.08646)\n",
      "dcg@05: 27.3282 (9.45355)\n",
      "dcg@10: 35.6769 (11.86239)\n",
      "dcg@20: 45.7698 (13.73212)\n",
      "ndcg: 0.8662 (0.04938)\n",
      "ndcg@03: 0.7449 (0.22485)\n",
      "ndcg@05: 0.7086 (0.18294)\n",
      "ndcg@10: 0.6780 (0.15074)\n",
      "ndcg@20: 0.6654 (0.12749)\n",
      "precision@01: 0.8376 (0.36881)\n",
      "precision@03: 0.7607 (0.28527)\n",
      "precision@05: 0.6769 (0.24923)\n",
      "precision@10: 0.5479 (0.21626)\n",
      "precision@20: 0.4184 (0.17778)\n",
      "recall@01: 0.0379 (0.02637)\n",
      "recall@03: 0.1034 (0.05800)\n",
      "recall@05: 0.1506 (0.07698)\n",
      "recall@10: 0.2383 (0.11254)\n",
      "recall@20: 0.3491 (0.13274)\n",
      "relevant rank: 63.6749 (61.04369)\n",
      "relevant rank per query: 1638.6752 (987.52581)\n"
     ]
    }
   ],
   "source": [
    "seed(42)\n",
    "params = Namespace(epochs=8, \n",
    "                    lr=1e-4,\n",
    "                    batch_size=1,\n",
    "                    metrics={\"ndcg\", \"precision@05\", \"recall@05\"})\n",
    "listwise_model = NeuralModule(1)\n",
    "\n",
    "create_results(listwise_model, \n",
    "               train_listwise, \n",
    "               listwise_model,\n",
    "               \"./listwise.json\",\n",
    "               params)\n",
    "\n",
    "# persist model\n",
    "torch.save(listwise_model.state_dict(), \"./listwise_wt\")"
   ]
  },
  {
   "cell_type": "markdown",
   "metadata": {
    "deletable": false,
    "nbgrader": {
     "cell_type": "markdown",
     "checksum": "cbccf7ada9159548390a5d8d28df92d1",
     "grade": true,
     "grade_id": "cell-6c37b60a428d000a",
     "locked": false,
     "points": 35,
     "schema_version": 3,
     "solution": true,
     "task": false
    }
   },
   "source": [
    "YOUR ANSWER HERE"
   ]
  },
  {
   "cell_type": "code",
   "execution_count": 40,
   "metadata": {
    "deletable": false,
    "editable": false,
    "nbgrader": {
     "cell_type": "code",
     "checksum": "4e086691009a4dc0f8013c9f7f2d61bf",
     "grade": true,
     "grade_id": "cell-6c8d3b2e4ab668b1",
     "locked": true,
     "points": 15,
     "schema_version": 3,
     "solution": false,
     "task": false
    }
   },
   "outputs": [],
   "source": [
    "assert os.path.exists(\"./listwise.json\")"
   ]
  },
  {
   "cell_type": "markdown",
   "metadata": {
    "deletable": false,
    "editable": false,
    "nbgrader": {
     "cell_type": "markdown",
     "checksum": "1a1aaed7333acfcbdf24046a15cc5a2b",
     "grade": false,
     "grade_id": "cell-e47b21d69c9be1e4",
     "locked": true,
     "schema_version": 3,
     "solution": false,
     "task": false
    }
   },
   "source": [
    "## Section 6: Comparing Pointwise, Pairwise and Listwise (70 points) <a class=\"anchor\" id=\"evaluation1\"></a>\n",
    "\n",
    "[Back to TOC](#top)\n",
    "\n",
    "In the next few cells, we will compare the methods you've implemented. Helper functions are provided for you, which you can use to make some conclusions. You can modify the code as needed (you are encouraged to do so!)"
   ]
  },
  {
   "cell_type": "code",
   "execution_count": 41,
   "metadata": {},
   "outputs": [
    {
     "data": {
      "text/plain": [
       "<matplotlib.legend.Legend at 0x7f81b33305b0>"
      ]
     },
     "execution_count": 41,
     "metadata": {},
     "output_type": "execute_result"
    },
    {
     "data": {
      "image/png": "[encoded data removed]",
      "text/plain": [
       "<Figure size 432x288 with 1 Axes>"
      ]
     },
     "metadata": {
      "needs_background": "light"
     },
     "output_type": "display_data"
    }
   ],
   "source": [
    "def autolabel(ax, rects, labels):\n",
    "    \"\"\"Attach a text label above each bar in *rects*, displaying its height.\"\"\"\n",
    "    for l, rect in zip(labels, rects):\n",
    "        height = rect.get_height()\n",
    "        ax.annotate('{}'.format(l),\n",
    "                    xy=(rect.get_x() + rect.get_width() / 2, height),\n",
    "                    xytext=(0, 3),  # 3 points vertical offset\n",
    "                    textcoords=\"offset points\",\n",
    "                    ha='center', va='bottom',\n",
    "                   fontsize=7)\n",
    "\n",
    "def compare_methods(labels, metrics, metrics_to_plot={\"ndcg\", \"precision@05\", \"recall@05\"}):\n",
    "    \"\"\"\n",
    "    Constructs bar plots to compare different methods. \n",
    "    \n",
    "    labels: list/tuple of length N\n",
    "    metrics: list/tuple of length N, containing dictionary containing the test set results \n",
    "    metrics_to_plot: set of metrics to plot - each metric creates a separate plot \n",
    "    \"\"\"\n",
    "    assert len(metrics) == len(labels)\n",
    "    \n",
    "    x = np.arange(len(metrics_to_plot)) \n",
    "    fig, axes = plt.subplots(nrows=1, ncols=len(metrics_to_plot), sharey=False)\n",
    "    fig.set_figheight(7)\n",
    "    fig.set_figwidth(15)\n",
    "    \n",
    "    colors = cm.get_cmap(\"Set1\").colors\n",
    "\n",
    "    for metric, ax, c in zip(metrics_to_plot, axes, colors):\n",
    "        m = [_[metric][0] for _ in metrics]  \n",
    "        std = [_[metric][1] for _ in metrics]\n",
    "        x = np.arange(len(labels))\n",
    "        rects = ax.bar(x, m, label=metric, color=c)\n",
    "        \n",
    "        l = [\"{0:.4f}({1:.4f})\".format(_[metric][0], _[metric][1]) for _ in metrics]\n",
    "        autolabel(ax, rects, l)\n",
    "        \n",
    "        ax.set_xticks(x)\n",
    "        ax.set_xticklabels(labels, rotation=45)\n",
    "        ax.set_yticks(np.linspace(0, 1, num=11))\n",
    "        ax.set_ylim(ymin=min(m) - 0.05, ymax= max(m) + 0.05)\n",
    "        ax.set_title(metric)\n",
    "    \n",
    "    \n",
    "\n",
    "def plot_distribution(labels, q_metrics, metric=\"recall@05\"):\n",
    "    \"\"\"\n",
    "    Plots the distribution of NDCG scores\n",
    "    \n",
    "    labels: list/tuple of length N\n",
    "    q_metrics: list/tuple of dictionaries with length N, containing the query level results\n",
    "    metric: the metric to plot\n",
    "    \n",
    "    \"\"\"\n",
    "    \n",
    "    n = len(labels)\n",
    "    # nC2\n",
    "    n_plots = int((n*(n-1))/2)\n",
    "    \n",
    "    fig, axes = plt.subplots(nrows=n_plots, ncols=1)\n",
    "    fig.set_figheight(8 * n_plots)\n",
    "    fig.set_figwidth(10)\n",
    "    \n",
    "    colors = cm.get_cmap(\"Set1\").colors\n",
    "    \n",
    "    for idx, (i, j) in enumerate(itertools.combinations(range(n), 2)):\n",
    "        ax = axes[idx]\n",
    "        \n",
    "        im = q_metrics[i][metric]\n",
    "        jm = q_metrics[j][metric]\n",
    "        \n",
    "        ax.hist(im, bins=50, label=labels[i], color=colors[i], alpha=0.55)\n",
    "        ax.hist(jm, bins=50, label=labels[j], color=colors[j], alpha=0.55)\n",
    "        \n",
    "        ax.set_title(f\"{labels[i]} vs {labels[j]}\")\n",
    "        ax.legend()\n",
    "        ax.set_ylabel(\"Count\")\n",
    "        ax.set_xlabel(\"NDCG (binned)\")\n",
    "\n",
    "# Plot for rate of convergence\n",
    "import json\n",
    "\n",
    "def get_metric(dicti, metric='ndcg'):\n",
    "    return [a[metric][0] for a in dicti['metrics']['metrics_val']]\n",
    "\n",
    "with open('pointwise_classification.json') as file:\n",
    "    point_c = json.load(file)\n",
    "\n",
    "with open('pointwise_regression.json') as file:\n",
    "    point_r = json.load(file)\n",
    "point_r_ndcg = [a['ndcg'][0] for a in point_r['metrics']['metrics_val']]\n",
    "\n",
    "with open('pairwise.json') as file:\n",
    "    pairw = json.load(file)\n",
    "pairw_ndcg = [a['ndcg'][0] for a in pairw['metrics']['metrics_val']]\n",
    "\n",
    "with open('listwise.json') as file:\n",
    "    listw = json.load(file)\n",
    "listw_ndcg = [a['ndcg'][0] for a in listw['metrics']['metrics_val']]\n",
    "\n",
    "plt.plot(get_metric(point_c), label='pointwise classification')\n",
    "plt.plot(get_metric(point_r), label='pointwise regression')\n",
    "plt.plot(get_metric(pairw), label='pairwise')\n",
    "plt.plot(get_metric(listw), label='listwise')\n",
    "plt.xlabel('Number of epochs')\n",
    "plt.ylabel('Metric score')\n",
    "plt.title('Rates of Convergence')\n",
    "plt.legend()"
   ]
  },
  {
   "cell_type": "code",
   "execution_count": 42,
   "metadata": {
    "deletable": false,
    "editable": false,
    "nbgrader": {
     "cell_type": "code",
     "checksum": "10071c1830b37c08ea6accb26accb372",
     "grade": false,
     "grade_id": "cell-b8d4e6f2d2e78550",
     "locked": true,
     "schema_version": 3,
     "solution": false,
     "task": false
    }
   },
   "outputs": [],
   "source": [
    "# Load metrics and models\n",
    "\n",
    "pointwise_regr_model = NeuralModule(1)\n",
    "pointwise_regr_model.load_state_dict(torch.load(\"./pointwise_regr_wt\"))\n",
    "\n",
    "pointwise_clf_model = NeuralModule(5)\n",
    "pointwise_clf_model.load_state_dict(torch.load(\"./pointwise_clf_wt\"))\n",
    "pointwise_clf_pred_fn = partial(clf_pred, net=pointwise_clf_model)\n",
    "\n",
    "pairwise_model = NeuralModule(1)\n",
    "pairwise_model.load_state_dict(torch.load(\"./pairwise_wt\"))\n",
    "\n",
    "listwise_model = NeuralModule(1)\n",
    "listwise_model.load_state_dict(torch.load(\"./listwise_wt\"))\n",
    "\n",
    "\n",
    "methods = [\n",
    "    {\"results_file\": \"./pointwise_regression.json\", \"label\": \"Pointwise (R)\"},\n",
    "    {\"results_file\": \"./pointwise_classification.json\", \"label\": \"Pointwise (C)\"},\n",
    "    {\"results_file\": \"./pairwise.json\", \"label\": \"Pairwise\"},\n",
    "    {\"results_file\": \"./listwise.json\", \"label\": \"Listwise\"}\n",
    "]\n",
    "\n",
    "labels = []\n",
    "results = []\n",
    "q_results = []\n",
    "for m in methods:\n",
    "    labels.append(m[\"label\"])\n",
    "    \n",
    "    with open(m[\"results_file\"]) as reader:\n",
    "        r = json.load(reader)\n",
    "    \n",
    "    results.append(r[\"test_metrics\"])\n",
    "    q_results.append(r[\"test_query_level_metrics\"])\n",
    "\n"
   ]
  },
  {
   "cell_type": "code",
   "execution_count": 43,
   "metadata": {
    "deletable": false,
    "editable": false,
    "nbgrader": {
     "cell_type": "code",
     "checksum": "62939c8a4fe146ee5833f48a92142e10",
     "grade": false,
     "grade_id": "cell-c4ac703bc5a62d3b",
     "locked": true,
     "schema_version": 3,
     "solution": false,
     "task": false
    },
    "scrolled": false
   },
   "outputs": [
    {
     "data": {
      "image/png": "[encoded data removed]",
      "text/plain": [
       "<Figure size 1080x504 with 3 Axes>"
      ]
     },
     "metadata": {
      "needs_background": "light"
     },
     "output_type": "display_data"
    }
   ],
   "source": [
    "compare_methods(labels, results)"
   ]
  },
  {
   "cell_type": "code",
   "execution_count": 44,
   "metadata": {
    "deletable": false,
    "editable": false,
    "nbgrader": {
     "cell_type": "code",
     "checksum": "aa461417560d69ebe07df21a8ad9b48e",
     "grade": false,
     "grade_id": "cell-a1ea52fda896045e",
     "locked": true,
     "schema_version": 3,
     "solution": false,
     "task": false
    },
    "scrolled": true
   },
   "outputs": [
    {
     "data": {
      "image/png": "[encoded data removed]",
      "text/plain": [
       "<Figure size 720x3456 with 6 Axes>"
      ]
     },
     "metadata": {
      "needs_background": "light"
     },
     "output_type": "display_data"
    }
   ],
   "source": [
    "plot_distribution(labels, q_results)"
   ]
  },
  {
   "cell_type": "markdown",
   "metadata": {
    "deletable": false,
    "editable": false,
    "nbgrader": {
     "cell_type": "markdown",
     "checksum": "c6e424fb4065a175111443cfbf26c618",
     "grade": false,
     "grade_id": "cell-d6d65f1ab73cda9a",
     "locked": true,
     "schema_version": 3,
     "solution": false,
     "task": false
    }
   },
   "source": [
    "In the next cell, report the performance metrics for the methods (25 points):\n",
    "\n",
    "\n",
    "\n",
    "|     Model    | NDCG (s.d)| Precision@5 (s.d) | Recall@5 (s.d) |\n",
    "|:------------:|:----------:|:-----------:|:--------:|\n",
    "| Pointwise(R) |            |             |          |\n",
    "| Pointwise(C) |            |             |          |\n",
    "|   Pairwise   |            |             |          |\n",
    "|   Listwise   |            |             |          |\n",
    "\n",
    "\n",
    "\n",
    "**Rubric:** Each reported <Method, Metric> carries 2 points. "
   ]
  },
  {
   "cell_type": "markdown",
   "metadata": {
    "deletable": false,
    "nbgrader": {
     "cell_type": "markdown",
     "checksum": "89bf20199df56a7b90fa88c132800f23",
     "grade": true,
     "grade_id": "cell-5e733f8b8649a66f",
     "locked": false,
     "points": 25,
     "schema_version": 3,
     "solution": true,
     "task": false
    }
   },
   "source": [
    "|     Model    | NDCG (s.d)| Precision@5 (s.d) | Recall@5 (s.d) |\n",
    "|:------------:|:----------:|:-----------:|:--------:|\n",
    "| Pointwise(R) |0.8710 (0.0511)|0.6821 (0.2759)|0.1505 (0.0831)|\n",
    "| Pointwise(C) |0.8361 (0.0578)|0.6291 (0.2856)|0.1378 (0.0864)|\n",
    "|   Pairwise   |0.8644 (0.0519)|0.6120 (0.2592)|0.1352 (0.0769)|\n",
    "|   Listwise   |0.8644 (0.0505)|0.6701 (0.2580)|0.1489 (0.0790)|"
   ]
  },
  {
   "cell_type": "markdown",
   "metadata": {
    "deletable": false,
    "editable": false,
    "nbgrader": {
     "cell_type": "markdown",
     "checksum": "c36dc224821c1146261aa2e8d06bd419",
     "grade": false,
     "grade_id": "cell-067c6d8584df601e",
     "locked": true,
     "schema_version": 3,
     "solution": false,
     "task": false
    }
   },
   "source": [
    "Write a conclusion in the next cell, considering (45 points):\n",
    "- rates of convergence\n",
    "- time complexity\n",
    "- performance wrt the 3 metrics\n",
    "- performance across queries\n",
    "- ... any other observations"
   ]
  },
  {
   "cell_type": "markdown",
   "metadata": {
    "deletable": false,
    "nbgrader": {
     "cell_type": "markdown",
     "checksum": "4b8b4816351280cae45a1e498d1408fe",
     "grade": true,
     "grade_id": "cell-115db704e85b78c1",
     "locked": false,
     "points": 45,
     "schema_version": 3,
     "solution": true,
     "task": false
    }
   },
   "source": [
    "### Rate of convergence\n",
    "One approach to compare the different models is via their rates of convergence. In general we can measure this by checking after how many epochs do their loss their values converge. However we can also infer it by the convergence of their performance based on an arbitrary metric instead. Then the rate of convergence estimates how many epochs it takes for the model to reach the optimal value.\n",
    "\n",
    "Figure \"Rates of Convergence\" shows that overall all the models have a quick rate of convergence. Pointwise regression, pairwise and listwise models converge instantly, as illustrated by the relatively shallow slopes of the curves. In comparison, pointwise classification needs relatively more epochs to reach its optimal performance. However, this difference is relatively small (in the zero to two epochs range) and still converges at a fast rate. \n",
    "\n",
    "### Time complexity:\n",
    "\n",
    "|     Model    | Complexity |\n",
    "|:------------:|:----------:|\n",
    "| Pointwise(R) |   $O(n)$   |\n",
    "| Pointwise(C) |   $O(n)$   |\n",
    "|   Pairwise   |  $O(n^2)$  |\n",
    "|   Listwise   |  $O(n^2)$  |\n",
    "\n",
    "The second approach to evaluate methods is by time complexity. Since all models use similar training functions, the evaluation focuses on the different loss functions as only those have different complexities. An overview is presented in the table above.\n",
    "\n",
    "Both Pointwise losses are linear since all documents are evaluated once. This yields a complexity of $O(n)$. The Pairwise and Listwise losses consider document pairs instead of single documents, thus their complexity is $O(n^2)$. We have to note that while the Listwise approach and the Pairwise Speed-up approach uses the Cartesian product to generate document pairs, the original Pairwise method generates them by taking all combinations, which in theory creates less pairs, thus ends up using less operations.\n",
    "\n",
    "### Speed\n",
    "\n",
    "|       Model       |Avg. Time(s)|\n",
    "|:-----------------:|:----------:|\n",
    "|    Pointwise(R)   |    2 s     |\n",
    "|    Pointwise(C)   |    2 s     |\n",
    "|      Pairwise     |   7.4 s    |\n",
    "| Pairwise Speed-up |    6 s     |\n",
    "|      Listwise     |   7.25 s   |\n",
    "\n",
    "As expected from the linear complexity, the Pointwise approaches are the fastest. The Pointwise methods can also benefit from the fact that they use a larger than 1 batch size. This can be seen from the fact that an epoch takes only of 333 iterations for them instead 2735 iterations, which is the case for all other methods. This means that while all methods are vectorized, the gain of it is only materialized in the Pointwise losses. The speedup pairwise version is faster than normal pairwise, but only slightly. However, for large datasets, many epochs and a larger batch size the difference in runtime could be significant. Listwise is one of the slowest methods which is expected as it is also one of the most sophisticated methods.\n",
    "\n",
    "### Metrics\n",
    "Pointwise regression outperforms Listwise and Pairwise for all metrics, but the difference for recall is minimal. Pointwise Classification performs the worst. When looking at precision and NDCG, the difference between Pointwise regression and the other models is more evident. The good performance of pointwise regression is probably due to the small size of the model and dataset. It is likely that more sophisticated methods do not outperform simple pointwise methods due to the small size of the dataset. Pointwise regression performs good in this case since the dataset is small and simple statistical methods such as regression tend to perform better in general on small datasets. All models have much worse performance for recall than for precision, meaning that the majority of all relevant documents are not filtered. However, if there are many relevant documents in general, which is true in this case, recall@05 is expected to be low.\n",
    "\n",
    "### Queries\n",
    "For nDCG, the plots resemble a skewed normal distribution with peaks around 0.85-0.9. This means the methods perform pretty well. Precision@05 has a similar distribution to nDCG. With respect to Precision@05, Regression Pointwise outperforms all other methods most of the time. Classification Pointwise is close to listwise, and outperforms pairwise concerning this metric. The fact that the Classification Pointwise approach is not a clear worst method for this metric shows that different methods might be good at different information retrieval tasks. Lastly, when examining recall one can state that the results are relatively bad for all queries. However, as mentioned before, since there are many relevant documents, the recall is expected to be low."
   ]
  },
  {
   "cell_type": "markdown",
   "metadata": {
    "deletable": false,
    "editable": false,
    "nbgrader": {
     "cell_type": "markdown",
     "checksum": "0b56e576a11e8312912751b345e72bfa",
     "grade": false,
     "grade_id": "cell-1693a9c859f14127",
     "locked": true,
     "schema_version": 3,
     "solution": false,
     "task": false
    }
   },
   "source": [
    "# Chapter 2: Online LTR (180 points) <a class=\"anchor\" id=\"onLTR\"></a>\n",
    "\n",
    "[Back to TOC](#top)\n",
    "\n",
    "In this part we want to use user interactions for training learning to rank algorithms.\n",
    "This part consists of the following sections:\n",
    " - Clicks Simulation (15 points)\n",
    " - Counterfactual Learning to Rank (80 points)\n",
    " - Online Evaluation (50 points)\n"
   ]
  },
  {
   "cell_type": "markdown",
   "metadata": {
    "deletable": false,
    "editable": false,
    "nbgrader": {
     "cell_type": "markdown",
     "checksum": "676f010e1d093ec248035d00c6888bf4",
     "grade": false,
     "grade_id": "cell-cb0180fd80d4f2cd",
     "locked": true,
     "schema_version": 3,
     "solution": false,
     "task": false
    }
   },
   "source": [
    "## Section 1: Clicks Simulation (15 points) <a class=\"anchor\" id=\"clicks\"></a>\n",
    "\n",
    "[Back to TOC](#top)\n",
    "\n",
    "In online LTR, we work with user interactions such as clicks.\n",
    "One way to test online LTR algorithms is to conduce semi-synthetic experiments.\n",
    "In semi-synthetic experiments, the feature vectors of a LTR dataset (similar to what you used in Part 1) are used.\n",
    "But instead of using the relevance labels for training the LTR algorithm, **simulated clicks** are used.\n",
    "\n",
    "In this section we want to simulate clicks based on the labels and use the generated clicks in later sections to train our Counterfactual LTR (CLTR) algorithm.\n",
    "\n",
    "First we need to have a *production ranker* that determines the order of documents for each query.\n",
    "The click probability of each document depends on its rank in the results list as well as its relevance."
   ]
  },
  {
   "cell_type": "code",
   "execution_count": 45,
   "metadata": {
    "deletable": false,
    "editable": false,
    "nbgrader": {
     "cell_type": "code",
     "checksum": "efe77df779addec15df70a2bd8a7aaee",
     "grade": false,
     "grade_id": "cell-4ae04e0717236f54",
     "locked": true,
     "schema_version": 3,
     "solution": false,
     "task": false
    }
   },
   "outputs": [
    {
     "name": "stdout",
     "output_type": "stream",
     "text": [
      "ranks has 3 keys: dict_keys(['train', 'valid', 'test'])\n",
      "train shape:(85227,)\n",
      "valid shape:(12794,)\n",
      "test shape:(29881,)\n"
     ]
    }
   ],
   "source": [
    "ranks = dataset.load_production_ranker()\n",
    "print(f'ranks has {len(ranks.keys())} keys: {ranks.keys()}')\n",
    "for key in ranks:\n",
    "    print(f'{key} shape:{ranks[key].shape}')\n",
    "    \n",
    "data.train.ranks = ranks['train']\n",
    "data.validation.ranks = ranks['valid']\n",
    "data.test.ranks = ranks['test']"
   ]
  },
  {
   "cell_type": "markdown",
   "metadata": {
    "deletable": false,
    "editable": false,
    "nbgrader": {
     "cell_type": "markdown",
     "checksum": "bc0ae9b0654edea0e837893b613af5b8",
     "grade": false,
     "grade_id": "cell-86dfb91f27aeb1cc",
     "locked": true,
     "schema_version": 3,
     "solution": false,
     "task": false
    }
   },
   "source": [
    "**Implementation (5 points):**\n",
    "Now use the `ranks` to generate clicks.\n",
    "We assume documents with label $[3,4]$ are relevant and labels $[0,1,2]$ are non-relevant.\n",
    "We also assume the examination probability of a document at rank $r$ is $\\frac{1}{r}$.\n",
    "Finally, we assume a $0.05$ noise.\n",
    "\n",
    "This means that the click probability of a document with label $[3,4]$ at rank $r$ is $\\frac{1}{r}$, while the click probability of a document with label $[0,1,2]$ at rank $r$ is $\\frac{0.05}{r}$."
   ]
  },
  {
   "cell_type": "code",
   "execution_count": 46,
   "metadata": {
    "deletable": false,
    "nbgrader": {
     "cell_type": "code",
     "checksum": "8bdfcf8895e430580912b057991ac7c0",
     "grade": false,
     "grade_id": "cell-6302b18566bcece2",
     "locked": false,
     "schema_version": 3,
     "solution": true,
     "task": false
    }
   },
   "outputs": [],
   "source": [
    "# TODO: Implement this! (5 points)\n",
    "def generate_clicks(ranking, query_labels):\n",
    "    \"\"\"\n",
    "    Generates random clicks based on the given list of ranking and relevance labels for the documents of one query.\n",
    "    Input:\n",
    "        ranking: contains the rank of documents, eg. ranking[5]=0 means that document 5 is shown at rank 0.\n",
    "        query_labels: contains the labels of documents, eg. query_labels[5]=3 means that document 5 has a label equal to 3.\n",
    "    Output:\n",
    "        A np.array of clicked positions, eq. clicked=[1,4] meanse that documents at ranks 1 and 4 have been clicked. Note that document at rank 1 may differ from document 1 (see description of ranking input).\n",
    "        \n",
    "    Hint: Use the np.random.binomial function for generating click from probability.\n",
    "    \"\"\"\n",
    "    theta = 1. / np.arange(1, ranking.shape[0] + 1)\n",
    "    noise_prob = 0.05 * theta\n",
    "    # YOUR CODE HERE\n",
    "    # Sort by ranking\n",
    "    inds = ranking.argsort()\n",
    "    ranking = ranking[inds]\n",
    "    query_labels = query_labels[inds]\n",
    "    # Create list of actual probs based on labels\n",
    "    probs = (query_labels > 2) * theta + (query_labels < 3) * noise_prob\n",
    "    # Sample clicks\n",
    "    clicked = ranking[np.random.binomial(1, probs) > 0]\n",
    "    \n",
    "    return clicked.astype(np.int32)\n",
    " "
   ]
  },
  {
   "cell_type": "code",
   "execution_count": 47,
   "metadata": {
    "deletable": false,
    "editable": false,
    "nbgrader": {
     "cell_type": "code",
     "checksum": "6d5eeabc53fd3a13bb33d46f631ab3d5",
     "grade": true,
     "grade_id": "cell-098685a98a1887f4",
     "locked": true,
     "points": 5,
     "schema_version": 3,
     "solution": false,
     "task": false
    }
   },
   "outputs": [
    {
     "name": "stdout",
     "output_type": "stream",
     "text": [
      "clicks: [0 1 6]\n",
      "expected clicks for seed 4: [0 1 6]\n"
     ]
    }
   ],
   "source": [
    "ranking = np.array([2, 1, 3, 0, 4, 7, 5, 6])\n",
    "labels = np.array([0, 3, 4, 1, 1, 2, 4, 3])\n",
    "\n",
    "np.random.seed(4)\n",
    "print(f'clicks: {generate_clicks(ranking, labels)}')\n",
    "print('expected clicks for seed 4: [0 1 6]')\n",
    "\n"
   ]
  },
  {
   "cell_type": "markdown",
   "metadata": {
    "deletable": false,
    "editable": false,
    "nbgrader": {
     "cell_type": "markdown",
     "checksum": "5fdf6ed2c6545213fb432e06dafb088e",
     "grade": false,
     "grade_id": "cell-a45b9902b9ff34c7",
     "locked": true,
     "schema_version": 3,
     "solution": false,
     "task": false
    }
   },
   "source": [
    "**Implementation (10 points):**\n",
    "Use `generate_clicks` to simulate clicks for different query sessions.\n",
    "For this, randomly select a query id, generate random clicks on documents of that query using your `generate_clicks` implementation and only keep the clicks on `topk` positions (i.e. do not consider clicks on ranks after `topk` rank).\n",
    "Repeat this process until you have `click_count` number of clicks."
   ]
  },
  {
   "cell_type": "code",
   "execution_count": 48,
   "metadata": {
    "deletable": false,
    "nbgrader": {
     "cell_type": "code",
     "checksum": "ea8a1c5964a999322c4b30bdeecf88e6",
     "grade": false,
     "grade_id": "cell-cef4496878e0428a",
     "locked": false,
     "schema_version": 3,
     "solution": true,
     "task": false
    }
   },
   "outputs": [],
   "source": [
    "# TODO: Implement this! (10 points)\n",
    "def simulate_clicks(data, split_name, click_count, topk=20):\n",
    "    \"\"\"\n",
    "    Simulate click_count clicks on topk results on the specified split of the data.\n",
    "    Output:\n",
    "        A list L=[L_0, L_1, ..., L_n] of lists. Each L_i is itself a list of clicks over the documents of query number i\n",
    "        eg. L_0=[0,2,0,1,0,5,2] means that in the sessions of the first query, the documents at positions 0,1,2 and 5 were clicked 3,1,2 and 1 times, respectively.\n",
    "    \"\"\"\n",
    "    data_split = getattr(data, split_name)\n",
    "#     argsorted, doclist_ranges = dataset.clean_and_sort(ranks, data_split, topk)\n",
    "\n",
    "#     click_data_split = Namespace(feature_matrix = data_split.feature_matrix[argsorted,:],\n",
    "#                                 doclist_ranges = doclist_ranges,\n",
    "#                                 clicks = None)\n",
    "#     labels = data_split.label_vector[argsorted]\n",
    "\n",
    "#     num_queries = click_data_split.doclist_ranges.shape[0] - 1\n",
    "    num_queries = data_split.doclist_ranges.shape[0] - 1\n",
    "    clicks = [[] for _ in range(num_queries)]\n",
    "    np.random.seed(42)\n",
    "    \n",
    "    # YOUR CODE HERE\n",
    "    count = 0\n",
    "    while count < click_count:\n",
    "        # Sample random query\n",
    "        qid = np.random.randint(num_queries)\n",
    "        qrange = data_split.query_range(qid)\n",
    "        \n",
    "        # Get clicks\n",
    "        qlabels = data_split.query_labels(qid)\n",
    "        qranking = data_split.ranks[qrange[0]:qrange[1]]\n",
    "        qclicks = generate_clicks(qranking, qlabels)\n",
    "        qclicks = qclicks[qclicks<=topk].tolist()\n",
    "        clicks[qid] += qclicks\n",
    "        \n",
    "        count += len(qclicks)\n",
    "        \n",
    "    return clicks\n"
   ]
  },
  {
   "cell_type": "markdown",
   "metadata": {
    "deletable": false,
    "editable": false,
    "nbgrader": {
     "cell_type": "markdown",
     "checksum": "257a37637e4baec5b5da06cfb28f9c10",
     "grade": false,
     "grade_id": "cell-d31c106145d57d5a",
     "locked": true,
     "schema_version": 3,
     "solution": false,
     "task": false
    }
   },
   "source": [
    "Use `simulate_clicks` function to simulate clicks for train and validation sets.\n",
    "\n",
    "**Note:**\n",
    "You can dump your generated clicks using pickle or numby and load them in your future runs to avoid long waiting times."
   ]
  },
  {
   "cell_type": "code",
   "execution_count": 49,
   "metadata": {
    "deletable": false,
    "editable": false,
    "nbgrader": {
     "cell_type": "code",
     "checksum": "fe427c2102d2999e8bd2a6243c0d18b6",
     "grade": true,
     "grade_id": "cell-c7adb3055f3a3d5c",
     "locked": true,
     "points": 10,
     "schema_version": 3,
     "solution": false,
     "task": false
    }
   },
   "outputs": [
    {
     "name": "stdout",
     "output_type": "stream",
     "text": [
      "10000 clicks simulated over 2735 queries.\n",
      "On average, each session has 3.656307129798903 clicks.\n",
      "min number of clicks per session:0\n",
      "max number of clicks per session:43\n"
     ]
    }
   ],
   "source": [
    "train_clicks = simulate_clicks(data,'train', click_count = 10000)\n",
    "\n",
    "assert isinstance(train_clicks, list)\n",
    "session_clicks = np.array(list(map(len, train_clicks)))\n",
    "print(f'{session_clicks.sum()} clicks simulated over {session_clicks.shape[0]} queries.')\n",
    "print(f'On average, each session has {session_clicks.mean()} clicks.')\n",
    "print(f'min number of clicks per session:{session_clicks.min()}')\n",
    "print(f'max number of clicks per session:{session_clicks.max()}')\n",
    "\n"
   ]
  },
  {
   "cell_type": "markdown",
   "metadata": {
    "deletable": false,
    "editable": false,
    "nbgrader": {
     "cell_type": "markdown",
     "checksum": "87c03dbedf499cbb4ce724f2e97dc8aa",
     "grade": false,
     "grade_id": "cell-f6996aa4808d7747",
     "locked": true,
     "schema_version": 3,
     "solution": false,
     "task": false
    }
   },
   "source": [
    "For our new click data, we need a new dataloader.\n",
    "`QueryGroupedOnlineLTRData` provides what you will need for training an LTR model from the clicks:"
   ]
  },
  {
   "cell_type": "code",
   "execution_count": 50,
   "metadata": {
    "deletable": false,
    "editable": false,
    "nbgrader": {
     "cell_type": "code",
     "checksum": "da61ee98e6094a5bf41deff34136be4e",
     "grade": false,
     "grade_id": "cell-036f66cea8bae0bd",
     "locked": true,
     "schema_version": 3,
     "solution": false,
     "task": false
    }
   },
   "outputs": [],
   "source": [
    "class QueryGroupedOnlineLTRData(Dataset):\n",
    "    def __init__(self, data, split, clicks, topk):\n",
    "        self.split = {\n",
    "            \"train\": data.train,\n",
    "            \"validation\": data.validation,\n",
    "            \"test\": data.test\n",
    "        }.get(split)\n",
    "        assert self.split is not None, \"Invalid split!\"\n",
    "        self.clicks = clicks\n",
    "        self.topk = topk\n",
    "    \n",
    "    def __len__(self):\n",
    "        return self.split.num_queries()\n",
    "\n",
    "    def __getitem__(self, q_i):\n",
    "        s_i = self.split.doclist_ranges[q_i]\n",
    "        e_i = self.split.doclist_ranges[q_i + 1]\n",
    "        feature_ = self.split.feature_matrix[s_i:e_i,:]\n",
    "        ranking = self.split.ranks[s_i:e_i]\n",
    "        inverse_ranking = np.argsort(ranking)\n",
    "#       We re-order the rows of feature matrix so that in coincides with the ranking of documents.\n",
    "#       We also cut the documents after rank topk.\n",
    "        feature = torch.FloatTensor(feature_[inverse_ranking[:self.topk],:])\n",
    "        clicks = self.clicks[q_i]\n",
    "        return q_i, feature, clicks\n",
    "    \n",
    "def qgo_collate_fn(batch):\n",
    "    \n",
    "    qids = []\n",
    "    features = []\n",
    "    clicks = []\n",
    "    \n",
    "    for (q, f, l) in batch:\n",
    "        qids.append(q)\n",
    "        features.append(f)\n",
    "        clicks.append(l)\n",
    "    return qids, features, clicks\n",
    "    "
   ]
  },
  {
   "cell_type": "markdown",
   "metadata": {
    "deletable": false,
    "editable": false,
    "nbgrader": {
     "cell_type": "markdown",
     "checksum": "33284e30370a8dfdd116267499660b27",
     "grade": false,
     "grade_id": "cell-3ff364596e375e19",
     "locked": true,
     "schema_version": 3,
     "solution": false,
     "task": false
    }
   },
   "source": [
    "## Section 2: Counterfactual LTR (90 points) <a class=\"anchor\" id=\"cLTR\"></a>\n",
    "\n",
    "[Back to TOC](#top)\n",
    "\n",
    "Now we want to use the simulated clicks and train a counterfactual LTR algorithm.\n",
    "We will use a simple loss function:\n",
    "\n",
    "$$\n",
    "L=\\frac{1}{|Q|} \\sum_{q \\in Q} \\sum_{d \\in D_q} r(d, q) \\cdot \\lambda(\\bar{rank}(d, D_q))\n",
    "$$\n",
    "where $Q$ is the set of queries, $D_q$ is the list of documents shown to the user for query $q$, $r(d, q)$ is the relevance of document $d$ to query $q$ and $rank(d, D_q)$ is the rank of $d$ in $D_q$.\n",
    "\n",
    "In this assignment, we use sigmoid-like bound for $\\lambda(\\bar{rank}(d, D_q))$:\n",
    "\n",
    "$$\n",
    "\\lambda(\\bar{rank}(d, D_q)) = \\sum_{d' \\in D_q} log\\left(\n",
    "1+exp\\left(-2\\cdot(f(d)-f(d')\\right)\n",
    "\\right)\n",
    "$$\n"
   ]
  },
  {
   "cell_type": "markdown",
   "metadata": {
    "deletable": false,
    "editable": false,
    "nbgrader": {
     "cell_type": "markdown",
     "checksum": "a52232af5a6b442146258942ced99353",
     "grade": false,
     "grade_id": "cell-5d364d940f11536e",
     "locked": true,
     "schema_version": 3,
     "solution": false,
     "task": false
    }
   },
   "source": [
    "### Section 2.1. Biased LTR (20 points)\n",
    "\n",
    "Remember that we do not have the explicit relevance in the online settings.\n",
    "Instead, we have to learn from the clicks.\n",
    "Clicks, implicitly indicate relevance.\n",
    "A naive approach for learning from clicks would be to replace relevance with clicks and train a model with the loss function:\n",
    "\n",
    "$$\n",
    "L_{biased}=\\frac{1}{|Q|} \\sum_{q \\in Q} \\sum_{d \\in D_q} c(d, q) \\cdot \\lambda(\\bar{rank}(d, D_q))\n",
    "$$\n",
    "where $c(d, q)$ indicates the number of times $d$ was clicked for query $q$."
   ]
  },
  {
   "cell_type": "code",
   "execution_count": 51,
   "metadata": {
    "deletable": false,
    "nbgrader": {
     "cell_type": "code",
     "checksum": "defc1880152e68dd36c21992263f8d56",
     "grade": false,
     "grade_id": "cell-6b45762861989c96",
     "locked": false,
     "schema_version": 3,
     "solution": true,
     "task": false
    }
   },
   "outputs": [],
   "source": [
    "# TODO: Implement this! (20 points)\n",
    "def online_loss_biased(scores, clicks):\n",
    "    \"\"\"\n",
    "    Compute and return the biased online loss *for a single query*. To compute this, use L_{biased} formula above.\n",
    "    \n",
    "    scores: tensor of size [N, 1] (the output of a neural network), where N = length of <query, document> pairs\n",
    "    clicks: list of clicked ranks. \n",
    "    \n",
    "    Note: the scores are aligned with the click positions, i.e. scores[0] corresponds to the 0 rand, etc.\n",
    "    \n",
    "    \"\"\"\n",
    "    from collections import Counter\n",
    "    click_counts = Counter(clicks)\n",
    "    \n",
    "    # YOUR CODE HERE\n",
    "    loss = 0\n",
    "    for i, score in enumerate(scores):\n",
    "        # Compute sigmoid like bound\n",
    "        bound = torch.sum(torch.log(1 + torch.exp(-2 * (score - scores))))\n",
    "        # Add to loss\n",
    "        loss += click_counts[i] * bound\n",
    "    return loss"
   ]
  },
  {
   "cell_type": "code",
   "execution_count": 52,
   "metadata": {
    "deletable": false,
    "editable": false,
    "nbgrader": {
     "cell_type": "code",
     "checksum": "dd1acc24a7415fcae69fa183a51afb28",
     "grade": true,
     "grade_id": "cell-d09e7eb339052376",
     "locked": true,
     "points": 20,
     "schema_version": 3,
     "solution": false,
     "task": false
    }
   },
   "outputs": [
    {
     "name": "stdout",
     "output_type": "stream",
     "text": [
      "biased loss: 139.16244506835938\n",
      "expected: -6.205410003662109\n"
     ]
    }
   ],
   "source": [
    "scores = torch.FloatTensor([1.2, -2, 1.1, 2.4, 0, 1.2])[:,None]\n",
    "clicks = [0, 0, 1, 3, 1, 4, 0, 5, 0, 1, 2]\n",
    "print(f'biased loss: {online_loss_biased(scores, clicks)}')\n",
    "print(f'expected: -6.205410003662109')\n",
    "\n"
   ]
  },
  {
   "cell_type": "markdown",
   "metadata": {
    "deletable": false,
    "editable": false,
    "nbgrader": {
     "cell_type": "markdown",
     "checksum": "48efe214b4ffd699be8ebbbf0016b467",
     "grade": false,
     "grade_id": "cell-318d7a3b824c5f99",
     "locked": true,
     "schema_version": 3,
     "solution": false,
     "task": false
    }
   },
   "source": [
    "### Section 2.2. Unbiased LTR (10 points)\n",
    "Now modify `online_loss_biased` to debias the clicks, using IPS method:\n",
    "\n",
    "$$\n",
    "L_{unbiased}=\\frac{1}{|Q|} \\sum_{q \\in Q} \\sum_{d \\in D_q} \\frac{c(d, q)}{P\\left(o(d,q)=1\\right)} \\cdot \\lambda(\\bar{rank}(d, D_q))\n",
    "$$\n",
    "where $P\\left(o(d,q)=1\\right)$ indicates the probability that $d$ was observed by the user for query $q$."
   ]
  },
  {
   "cell_type": "code",
   "execution_count": 53,
   "metadata": {
    "deletable": false,
    "nbgrader": {
     "cell_type": "code",
     "checksum": "6e0238d2d1cabe1a3d21b0cc44a54d61",
     "grade": false,
     "grade_id": "cell-9362e909abcb1d91",
     "locked": false,
     "schema_version": 3,
     "solution": true,
     "task": false
    }
   },
   "outputs": [],
   "source": [
    "# TODO: Implement this! (10 points)\n",
    "def online_loss_unbiased(scores, clicks):\n",
    "    \"\"\"\n",
    "    Compute and return the unbiased online loss *for a single query*. To compute this, use L_{unbiased} formula above.\n",
    "    \n",
    "    scores: tensor of size [N, 1] (the output of a neural network), where N = length of <query, document> pairs\n",
    "    clicks: list of clicked ranks. \n",
    "    \n",
    "    Note 1: the scores are aligned with the click positions, i.e. scores[0] corresponds to the 0 rand, etc.\n",
    "    Note 2: the weights are provided.\n",
    "    \n",
    "    \"\"\"\n",
    "    from collections import Counter\n",
    "    click_counts = Counter(clicks)\n",
    "    weights = torch.Tensor((1./np.arange(1,scores.shape[0]+1))[:,None])\n",
    "\n",
    "    # YOUR CODE HERE\n",
    "    loss = 0\n",
    "    for i, score in enumerate(scores):\n",
    "        # Compute bound\n",
    "        bound = torch.sum(torch.log(1 + torch.exp(-2 * (score - scores))))\n",
    "        # Add to loss with weight\n",
    "        loss += click_counts[i] / weights[i] * bound\n",
    "    return loss"
   ]
  },
  {
   "cell_type": "code",
   "execution_count": 54,
   "metadata": {
    "deletable": false,
    "editable": false,
    "nbgrader": {
     "cell_type": "code",
     "checksum": "e2bcac0a6c4afe70fca335c8d648122f",
     "grade": true,
     "grade_id": "cell-30b468279fbb6de5",
     "locked": true,
     "points": 10,
     "schema_version": 3,
     "solution": false,
     "task": false
    }
   },
   "outputs": [
    {
     "name": "stdout",
     "output_type": "stream",
     "text": [
      "biased loss: tensor([323.6815])\n",
      "expected: -17.11062240600586\n"
     ]
    }
   ],
   "source": [
    "scores = torch.FloatTensor([1.2, -2, 1.1, 2.4, 0, 1.2])[:,None]\n",
    "clicks = [0, 0, 1, 3, 1, 4, 0, 5, 0, 1, 2]\n",
    "print(f'biased loss: {online_loss_unbiased(scores, clicks)}')\n",
    "print(f'expected: -17.11062240600586')\n"
   ]
  },
  {
   "cell_type": "markdown",
   "metadata": {
    "deletable": false,
    "editable": false,
    "nbgrader": {
     "cell_type": "markdown",
     "checksum": "f4f49c8953f6080ec340ebe076f9caf6",
     "grade": false,
     "grade_id": "cell-e385419532bb6535",
     "locked": true,
     "schema_version": 3,
     "solution": false,
     "task": false
    }
   },
   "source": [
    "**Implementation (60 points):**\n",
    "In the next cell, write a wrapper that uses your loss functions and simulated clicks to train an online LTR method (no evaluation on validation set is required):\n",
    "\n",
    "**Rubric:**\n",
    " - Network is trained for specified epochs, and iterates over the entire dataset and (train) data is shuffled : 10 points\n",
    " - Loss calculation: 10 points\n",
    " - Training (e.g optimizer, zero_grad, backward): 10 points\n",
    " - Performance as expected for biased loss: 15 points\n",
    " - Performance as expected for unbiased loss: 15 points"
   ]
  },
  {
   "cell_type": "code",
   "execution_count": 55,
   "metadata": {
    "deletable": false,
    "nbgrader": {
     "cell_type": "code",
     "checksum": "1113e39b6c82d64e959436f049df22ac",
     "grade": false,
     "grade_id": "cell-155a60a13f0dabb3",
     "locked": false,
     "schema_version": 3,
     "solution": true,
     "task": false
    }
   },
   "outputs": [],
   "source": [
    "# TODO: Implement this! (60 points)\n",
    "def train_online(net, train_clicks, loss_fn, params):\n",
    "    \"\"\"\n",
    "    Use QueryGroupedOnlineLTRData to load the data train split and clicks.\n",
    "    Use the appropriate loss_fn (biased/unbiased).\n",
    "    No need to use validation set.\n",
    "    \"\"\"\n",
    "    # YOUR CODE HERE\n",
    "    epochs = params.epochs\n",
    "    lr = params.lr\n",
    "    topk = params.topk\n",
    "    \n",
    "    train_dl = DataLoader(QueryGroupedOnlineLTRData(data=data, split=\"train\", clicks=train_clicks, topk=topk),\n",
    "                          batch_size=1, shuffle=True)\n",
    "    optimizer = torch.optim.Adam(net.parameters(), lr=lr)\n",
    "    \n",
    "    for epoch in range(epochs):\n",
    "        for (q_i, feature, clicks) in tqdm(train_dl):\n",
    "            scores = net(feature).squeeze()\n",
    "            clicks = [c.item() for c in clicks]\n",
    "            loss = loss_fn(scores, clicks)\n",
    "            optimizer.zero_grad()\n",
    "            loss.backward()\n",
    "            optimizer.step()"
   ]
  },
  {
   "cell_type": "code",
   "execution_count": 56,
   "metadata": {
    "deletable": false,
    "editable": false,
    "nbgrader": {
     "cell_type": "code",
     "checksum": "688a802dd604c3f002a9c5b26822b42d",
     "grade": false,
     "grade_id": "cell-2899cebacae54c00",
     "locked": true,
     "schema_version": 3,
     "solution": false,
     "task": false
    }
   },
   "outputs": [
    {
     "data": {
      "application/vnd.jupyter.widget-view+json": {
       "model_id": "06f184c93f4f45b595885ac983883747",
       "version_major": 2,
       "version_minor": 0
      },
      "text/plain": [
       "  0%|          | 0/2735 [00:00<?, ?it/s]"
      ]
     },
     "metadata": {},
     "output_type": "display_data"
    },
    {
     "data": {
      "application/vnd.jupyter.widget-view+json": {
       "model_id": "a9be1024954f4ab5adf2184d330a930c",
       "version_major": 2,
       "version_minor": 0
      },
      "text/plain": [
       "  0%|          | 0/2735 [00:00<?, ?it/s]"
      ]
     },
     "metadata": {},
     "output_type": "display_data"
    },
    {
     "data": {
      "application/vnd.jupyter.widget-view+json": {
       "model_id": "617d6c7503564c6093128436ceb1171e",
       "version_major": 2,
       "version_minor": 0
      },
      "text/plain": [
       "  0%|          | 0/2735 [00:00<?, ?it/s]"
      ]
     },
     "metadata": {},
     "output_type": "display_data"
    },
    {
     "data": {
      "application/vnd.jupyter.widget-view+json": {
       "model_id": "bdaab5c0e5634b8a977e8a95a28098cc",
       "version_major": 2,
       "version_minor": 0
      },
      "text/plain": [
       "  0%|          | 0/2735 [00:00<?, ?it/s]"
      ]
     },
     "metadata": {},
     "output_type": "display_data"
    },
    {
     "data": {
      "application/vnd.jupyter.widget-view+json": {
       "model_id": "53d14df36fb04d13835d8c430c7b04f4",
       "version_major": 2,
       "version_minor": 0
      },
      "text/plain": [
       "  0%|          | 0/2735 [00:00<?, ?it/s]"
      ]
     },
     "metadata": {},
     "output_type": "display_data"
    },
    {
     "data": {
      "application/vnd.jupyter.widget-view+json": {
       "model_id": "c33df701253648efb6d82ac59d5364b1",
       "version_major": 2,
       "version_minor": 0
      },
      "text/plain": [
       "  0%|          | 0/2735 [00:00<?, ?it/s]"
      ]
     },
     "metadata": {},
     "output_type": "display_data"
    }
   ],
   "source": [
    "params = Namespace(epochs=3, lr=1e-3, topk=20)\n",
    "train_clicks = simulate_clicks(data,'train', click_count = 50000)\n",
    "biased_net = NeuralModule(1)\n",
    "train_online(biased_net, train_clicks, online_loss_biased, params)\n",
    "unbiased_net = NeuralModule(1)\n",
    "train_online(unbiased_net, train_clicks, online_loss_unbiased, params)"
   ]
  },
  {
   "cell_type": "code",
   "execution_count": 57,
   "metadata": {
    "deletable": false,
    "editable": false,
    "nbgrader": {
     "cell_type": "code",
     "checksum": "6ff8105a6912656bef1bf2642a977fee",
     "grade": false,
     "grade_id": "cell-0511eb2be587f032",
     "locked": true,
     "schema_version": 3,
     "solution": false,
     "task": false
    }
   },
   "outputs": [
    {
     "data": {
      "application/vnd.jupyter.widget-view+json": {
       "model_id": "",
       "version_major": 2,
       "version_minor": 0
      },
      "text/plain": [
       "Eval (test):   0%|          | 0/117 [00:00<?, ?it/s]"
      ]
     },
     "metadata": {},
     "output_type": "display_data"
    },
    {
     "name": "stdout",
     "output_type": "stream",
     "text": [
      "\"metric\": \"mean\" (\"standard deviation\")\n",
      "dcg: 109.1740 (23.90413)\n",
      "dcg@03: 18.9241 (8.12920)\n",
      "dcg@05: 24.1070 (9.37118)\n",
      "dcg@10: 31.6826 (11.39454)\n",
      "dcg@20: 41.7011 (13.16750)\n",
      "ndcg: 0.8428 (0.05372)\n",
      "ndcg@03: 0.6442 (0.24107)\n",
      "ndcg@05: 0.6238 (0.19630)\n",
      "ndcg@10: 0.6043 (0.16168)\n",
      "ndcg@20: 0.6073 (0.13628)\n",
      "precision@01: 0.7350 (0.44131)\n",
      "precision@03: 0.6695 (0.30969)\n",
      "precision@05: 0.5983 (0.26214)\n",
      "precision@10: 0.4795 (0.21977)\n",
      "precision@20: 0.3949 (0.17943)\n",
      "recall@01: 0.0349 (0.03101)\n",
      "recall@03: 0.0909 (0.05968)\n",
      "recall@05: 0.1349 (0.08353)\n",
      "recall@10: 0.2070 (0.11253)\n",
      "recall@20: 0.3249 (0.13356)\n",
      "relevant rank: 66.2707 (62.33038)\n",
      "relevant rank per query: 1705.4786 (1013.35017)\n"
     ]
    },
    {
     "data": {
      "application/vnd.jupyter.widget-view+json": {
       "model_id": "",
       "version_major": 2,
       "version_minor": 0
      },
      "text/plain": [
       "Eval (test):   0%|          | 0/117 [00:00<?, ?it/s]"
      ]
     },
     "metadata": {},
     "output_type": "display_data"
    },
    {
     "name": "stdout",
     "output_type": "stream",
     "text": [
      "\"metric\": \"mean\" (\"standard deviation\")\n",
      "dcg: 108.5806 (24.66567)\n",
      "dcg@03: 17.7651 (8.56962)\n",
      "dcg@05: 22.6039 (9.95726)\n",
      "dcg@10: 31.1355 (11.97967)\n",
      "dcg@20: 41.1478 (14.25984)\n",
      "ndcg: 0.8371 (0.05929)\n",
      "ndcg@03: 0.6046 (0.26210)\n",
      "ndcg@05: 0.5848 (0.21930)\n",
      "ndcg@10: 0.5919 (0.17582)\n",
      "ndcg@20: 0.5966 (0.14986)\n",
      "precision@01: 0.7265 (0.44576)\n",
      "precision@03: 0.5983 (0.32479)\n",
      "precision@05: 0.5402 (0.27082)\n",
      "precision@10: 0.4752 (0.23053)\n",
      "precision@20: 0.3838 (0.18197)\n",
      "recall@01: 0.0343 (0.03126)\n",
      "recall@03: 0.0820 (0.06734)\n",
      "recall@05: 0.1202 (0.08627)\n",
      "recall@10: 0.2011 (0.11267)\n",
      "recall@20: 0.3149 (0.14034)\n",
      "relevant rank: 67.3853 (62.23752)\n",
      "relevant rank per query: 1734.1624 (1035.41339)\n"
     ]
    },
    {
     "data": {
      "text/plain": [
       "{'dcg': (108.58062581012712, 24.66566937176916),\n",
       " 'dcg@03': (17.76507859526886, 8.569624106705518),\n",
       " 'dcg@05': (22.603945410667027, 9.957261973583254),\n",
       " 'dcg@10': (31.135521769796387, 11.97967474235565),\n",
       " 'dcg@20': (41.14781059028917, 14.259843999110892),\n",
       " 'ndcg': (0.8371367602667418, 0.0592892840266118),\n",
       " 'ndcg@03': (0.6045564116233775, 0.2621044261669658),\n",
       " 'ndcg@05': (0.5848168582498636, 0.21929945647378424),\n",
       " 'ndcg@10': (0.591910749837485, 0.17581666939131874),\n",
       " 'ndcg@20': (0.5965643843498246, 0.14985896611372235),\n",
       " 'precision@01': (0.7264957264957265, 0.4457574294155657),\n",
       " 'precision@03': (0.5982905982905983, 0.32478632478632474),\n",
       " 'precision@05': (0.54017094017094, 0.27082016269666426),\n",
       " 'precision@10': (0.4752136752136752, 0.23053486041002688),\n",
       " 'precision@20': (0.3837606837606838, 0.18196799989049683),\n",
       " 'recall@01': (0.03434873253843818, 0.031256283874490955),\n",
       " 'recall@03': (0.08201728974579568, 0.06734104546224573),\n",
       " 'recall@05': (0.12019464997211564, 0.08626932836406678),\n",
       " 'recall@10': (0.20111157561195125, 0.11267004608898433),\n",
       " 'recall@20': (0.314905943555027, 0.14033613642053974),\n",
       " 'relevant rank': (67.3852540684158, 62.237524856466315),\n",
       " 'relevant rank per query': (1734.162393162393, 1035.4133899841045)}"
      ]
     },
     "execution_count": 57,
     "metadata": {},
     "output_type": "execute_result"
    }
   ],
   "source": [
    "evaluate_model(biased_net, 'test', print_results=True)\n",
    "evaluate_model(unbiased_net, 'test', print_results=True)\n"
   ]
  },
  {
   "cell_type": "code",
   "execution_count": 58,
   "metadata": {
    "deletable": false,
    "editable": false,
    "nbgrader": {
     "cell_type": "code",
     "checksum": "3a5138ee2bdc3b5682d5ed8b7bcc1202",
     "grade": false,
     "grade_id": "cell-c497608f3d46e769",
     "locked": true,
     "schema_version": 3,
     "solution": false,
     "task": false
    }
   },
   "outputs": [
    {
     "name": "stdout",
     "output_type": "stream",
     "text": [
      "Training Model\n"
     ]
    },
    {
     "data": {
      "application/vnd.jupyter.widget-view+json": {
       "model_id": "d0d447df1ceb454f9a3e4d73318c8ada",
       "version_major": 2,
       "version_minor": 0
      },
      "text/plain": [
       "  0%|          | 0/2735 [00:00<?, ?it/s]"
      ]
     },
     "metadata": {},
     "output_type": "display_data"
    },
    {
     "data": {
      "application/vnd.jupyter.widget-view+json": {
       "model_id": "03e0475b1b844fea95e11f9862623627",
       "version_major": 2,
       "version_minor": 0
      },
      "text/plain": [
       "  0%|          | 0/2735 [00:00<?, ?it/s]"
      ]
     },
     "metadata": {},
     "output_type": "display_data"
    },
    {
     "data": {
      "application/vnd.jupyter.widget-view+json": {
       "model_id": "27434c2cc8d74a278a7987d19ad82418",
       "version_major": 2,
       "version_minor": 0
      },
      "text/plain": [
       "  0%|          | 0/2735 [00:00<?, ?it/s]"
      ]
     },
     "metadata": {},
     "output_type": "display_data"
    },
    {
     "data": {
      "application/vnd.jupyter.widget-view+json": {
       "model_id": "",
       "version_major": 2,
       "version_minor": 0
      },
      "text/plain": [
       "Eval (test):   0%|          | 0/117 [00:00<?, ?it/s]"
      ]
     },
     "metadata": {},
     "output_type": "display_data"
    },
    {
     "name": "stdout",
     "output_type": "stream",
     "text": [
      "\"metric\": \"mean\" (\"standard deviation\")\n",
      "dcg: 109.2172 (24.54517)\n",
      "dcg@03: 19.3566 (8.73417)\n",
      "dcg@05: 24.2997 (10.18526)\n",
      "dcg@10: 32.1643 (11.62151)\n",
      "dcg@20: 41.4158 (13.23251)\n",
      "ndcg: 0.8422 (0.05804)\n",
      "ndcg@03: 0.6623 (0.26311)\n",
      "ndcg@05: 0.6312 (0.21695)\n",
      "ndcg@10: 0.6133 (0.16674)\n",
      "ndcg@20: 0.6033 (0.13865)\n",
      "precision@01: 0.7607 (0.42667)\n",
      "precision@03: 0.6809 (0.32728)\n",
      "precision@05: 0.5932 (0.27166)\n",
      "precision@10: 0.4889 (0.21113)\n",
      "precision@20: 0.3786 (0.18014)\n",
      "recall@01: 0.0344 (0.02888)\n",
      "recall@03: 0.0919 (0.06230)\n",
      "recall@05: 0.1304 (0.07805)\n",
      "recall@10: 0.2072 (0.10261)\n",
      "recall@20: 0.3114 (0.13363)\n",
      "relevant rank: 68.3228 (63.86684)\n",
      "relevant rank per query: 1758.2906 (1032.39031)\n"
     ]
    }
   ],
   "source": [
    "seed(42)\n",
    "train_clicks = simulate_clicks(data,'train', click_count = 50000)\n",
    "params = Namespace(epochs=3, \n",
    "                    lr=1e-3,\n",
    "                    batch_size=1,\n",
    "                    topk=20,\n",
    "                    metrics={\"ndcg\", \"precision@05\", \"recall@05\"})\n",
    "biased_model = NeuralModule(1)\n",
    "\n",
    "create_results(biased_model, \n",
    "               train_online, \n",
    "               biased_model,\n",
    "               \"./biased_model.json\",\n",
    "               train_clicks,\n",
    "               online_loss_biased,\n",
    "               params)\n",
    "# persist model\n",
    "torch.save(biased_model.state_dict(), \"./biased_wt\")"
   ]
  },
  {
   "cell_type": "code",
   "execution_count": 59,
   "metadata": {
    "deletable": false,
    "editable": false,
    "nbgrader": {
     "cell_type": "code",
     "checksum": "d9b104b0cc6204f1f3c6ac9bbf88171f",
     "grade": false,
     "grade_id": "cell-9df7065c5b887449",
     "locked": true,
     "schema_version": 3,
     "solution": false,
     "task": false
    }
   },
   "outputs": [
    {
     "name": "stdout",
     "output_type": "stream",
     "text": [
      "Training Model\n"
     ]
    },
    {
     "data": {
      "application/vnd.jupyter.widget-view+json": {
       "model_id": "e01edceb60224a9cb60dd31736988250",
       "version_major": 2,
       "version_minor": 0
      },
      "text/plain": [
       "  0%|          | 0/2735 [00:00<?, ?it/s]"
      ]
     },
     "metadata": {},
     "output_type": "display_data"
    },
    {
     "data": {
      "application/vnd.jupyter.widget-view+json": {
       "model_id": "e7d919c2dc2b424cba228d1ad2788625",
       "version_major": 2,
       "version_minor": 0
      },
      "text/plain": [
       "  0%|          | 0/2735 [00:00<?, ?it/s]"
      ]
     },
     "metadata": {},
     "output_type": "display_data"
    },
    {
     "data": {
      "application/vnd.jupyter.widget-view+json": {
       "model_id": "58238c90f2ac43a09117863619689799",
       "version_major": 2,
       "version_minor": 0
      },
      "text/plain": [
       "  0%|          | 0/2735 [00:00<?, ?it/s]"
      ]
     },
     "metadata": {},
     "output_type": "display_data"
    },
    {
     "data": {
      "application/vnd.jupyter.widget-view+json": {
       "model_id": "",
       "version_major": 2,
       "version_minor": 0
      },
      "text/plain": [
       "Eval (test):   0%|          | 0/117 [00:00<?, ?it/s]"
      ]
     },
     "metadata": {},
     "output_type": "display_data"
    },
    {
     "name": "stdout",
     "output_type": "stream",
     "text": [
      "\"metric\": \"mean\" (\"standard deviation\")\n",
      "dcg: 109.0444 (24.50306)\n",
      "dcg@03: 19.0523 (8.48665)\n",
      "dcg@05: 24.3357 (9.81980)\n",
      "dcg@10: 32.2788 (12.10702)\n",
      "dcg@20: 41.7940 (13.76262)\n",
      "ndcg: 0.8408 (0.05660)\n",
      "ndcg@03: 0.6478 (0.25266)\n",
      "ndcg@05: 0.6273 (0.20339)\n",
      "ndcg@10: 0.6110 (0.16786)\n",
      "ndcg@20: 0.6064 (0.13882)\n",
      "precision@01: 0.7692 (0.42133)\n",
      "precision@03: 0.6724 (0.31422)\n",
      "precision@05: 0.6051 (0.25682)\n",
      "precision@10: 0.4855 (0.22198)\n",
      "precision@20: 0.3863 (0.17561)\n",
      "recall@01: 0.0351 (0.02826)\n",
      "recall@03: 0.0904 (0.05795)\n",
      "recall@05: 0.1335 (0.07071)\n",
      "recall@10: 0.2073 (0.10374)\n",
      "recall@20: 0.3182 (0.13283)\n",
      "relevant rank: 67.9837 (62.89749)\n",
      "relevant rank per query: 1749.5641 (1036.44852)\n"
     ]
    }
   ],
   "source": [
    "seed(42)\n",
    "\n",
    "params = Namespace(epochs=3, \n",
    "                    lr=1e-3,\n",
    "                    batch_size=1,\n",
    "                    topk=20,\n",
    "                    metrics={\"ndcg\", \"precision@05\", \"recall@05\"})\n",
    "unbiased_model = NeuralModule(1)\n",
    "\n",
    "create_results(unbiased_model, \n",
    "               train_online, \n",
    "               unbiased_model,\n",
    "               \"./unbiased_model.json\",\n",
    "               train_clicks,\n",
    "               online_loss_unbiased,\n",
    "               params)\n",
    "# persist model\n",
    "torch.save(biased_model.state_dict(), \"./unbiased_wt\")"
   ]
  },
  {
   "cell_type": "code",
   "execution_count": null,
   "metadata": {
    "deletable": false,
    "nbgrader": {
     "cell_type": "code",
     "checksum": "93ede3bc5a61edfb93777647c3ae0b1a",
     "grade": true,
     "grade_id": "cell-5a98cb1d4dccab54",
     "locked": false,
     "points": 30,
     "schema_version": 3,
     "solution": true,
     "task": false
    }
   },
   "outputs": [],
   "source": [
    "# YOUR CODE HERE\n",
    "raise NotImplementedError()"
   ]
  },
  {
   "cell_type": "code",
   "execution_count": null,
   "metadata": {
    "deletable": false,
    "editable": false,
    "nbgrader": {
     "cell_type": "code",
     "checksum": "34fad8b3eebaaca7a38cf37fb55433e3",
     "grade": true,
     "grade_id": "cell-6eaff35ed2f350ea",
     "locked": true,
     "points": 15,
     "schema_version": 3,
     "solution": false,
     "task": false
    }
   },
   "outputs": [],
   "source": []
  },
  {
   "cell_type": "code",
   "execution_count": null,
   "metadata": {
    "deletable": false,
    "editable": false,
    "nbgrader": {
     "cell_type": "code",
     "checksum": "f8cc768ddc4dd12732fc4c1b42cf015d",
     "grade": true,
     "grade_id": "cell-6a1e7d45a6b24c7c",
     "locked": true,
     "points": 15,
     "schema_version": 3,
     "solution": false,
     "task": false
    }
   },
   "outputs": [],
   "source": []
  },
  {
   "cell_type": "markdown",
   "metadata": {
    "deletable": false,
    "editable": false,
    "nbgrader": {
     "cell_type": "markdown",
     "checksum": "ca775c32f1df7ef6d70c60b3e365adf4",
     "grade": false,
     "grade_id": "cell-08980b08558f70e8",
     "locked": true,
     "schema_version": 3,
     "solution": false,
     "task": false
    }
   },
   "source": [
    "### Section 2.3: Comparison (20 points)\n",
    "\n",
    "Now we can compare two loss functions: biased and unbiased.\n",
    "We want to see how they can improve by increasing the number of training clicks.\n",
    "Train both biased and unbaised models on $[2000, 10000, 50000]$ number of clicks and compare the results.\n",
    "\n",
    "Plot the results in a **single** figure with x-axis showing the number of trainin clicks and y-axis showing the nDCG@10.\n",
    "Discuss your observations.\n",
    "\n",
    "\n",
    "**Rubric:**\n",
    "- Two curves are plotted in the figure: 10 points\n",
    "- Clear titles, x label, y labels and legends (if applicable): 5 points\n",
    "- Explain what you observe: 5 points"
   ]
  },
  {
   "cell_type": "code",
   "execution_count": 60,
   "metadata": {
    "deletable": false,
    "nbgrader": {
     "cell_type": "code",
     "checksum": "76693360dd6493e5811d1908eacf8227",
     "grade": true,
     "grade_id": "cell-f51a0be2734c9352",
     "locked": false,
     "points": 20,
     "schema_version": 3,
     "solution": true,
     "task": false
    }
   },
   "outputs": [
    {
     "data": {
      "application/vnd.jupyter.widget-view+json": {
       "model_id": "d4422c59f141428d8afb0ab5fa22b12b",
       "version_major": 2,
       "version_minor": 0
      },
      "text/plain": [
       "  0%|          | 0/2735 [00:00<?, ?it/s]"
      ]
     },
     "metadata": {},
     "output_type": "display_data"
    },
    {
     "data": {
      "application/vnd.jupyter.widget-view+json": {
       "model_id": "84379edfe4d94a4abd0567e1a18f03ba",
       "version_major": 2,
       "version_minor": 0
      },
      "text/plain": [
       "  0%|          | 0/2735 [00:00<?, ?it/s]"
      ]
     },
     "metadata": {},
     "output_type": "display_data"
    },
    {
     "data": {
      "application/vnd.jupyter.widget-view+json": {
       "model_id": "830713949b074c3d87d542fdca4370eb",
       "version_major": 2,
       "version_minor": 0
      },
      "text/plain": [
       "  0%|          | 0/2735 [00:00<?, ?it/s]"
      ]
     },
     "metadata": {},
     "output_type": "display_data"
    },
    {
     "data": {
      "application/vnd.jupyter.widget-view+json": {
       "model_id": "cf7805f2fbc94f9a83cd9eae43cee503",
       "version_major": 2,
       "version_minor": 0
      },
      "text/plain": [
       "  0%|          | 0/2735 [00:00<?, ?it/s]"
      ]
     },
     "metadata": {},
     "output_type": "display_data"
    },
    {
     "data": {
      "application/vnd.jupyter.widget-view+json": {
       "model_id": "e9e6d741e90a49bc8ca2d063cb921440",
       "version_major": 2,
       "version_minor": 0
      },
      "text/plain": [
       "  0%|          | 0/2735 [00:00<?, ?it/s]"
      ]
     },
     "metadata": {},
     "output_type": "display_data"
    },
    {
     "data": {
      "application/vnd.jupyter.widget-view+json": {
       "model_id": "67ce0b7515aa467e9a8f86c808ccfe54",
       "version_major": 2,
       "version_minor": 0
      },
      "text/plain": [
       "  0%|          | 0/2735 [00:00<?, ?it/s]"
      ]
     },
     "metadata": {},
     "output_type": "display_data"
    },
    {
     "data": {
      "application/vnd.jupyter.widget-view+json": {
       "model_id": "5cc50aab209b4c688b6b755a53e658b6",
       "version_major": 2,
       "version_minor": 0
      },
      "text/plain": [
       "  0%|          | 0/2735 [00:00<?, ?it/s]"
      ]
     },
     "metadata": {},
     "output_type": "display_data"
    },
    {
     "data": {
      "application/vnd.jupyter.widget-view+json": {
       "model_id": "b412b79c07ce4e83a71fba632b9b8ce5",
       "version_major": 2,
       "version_minor": 0
      },
      "text/plain": [
       "  0%|          | 0/2735 [00:00<?, ?it/s]"
      ]
     },
     "metadata": {},
     "output_type": "display_data"
    },
    {
     "data": {
      "application/vnd.jupyter.widget-view+json": {
       "model_id": "c8bff636a6834898a0c9bd12adf41fa3",
       "version_major": 2,
       "version_minor": 0
      },
      "text/plain": [
       "  0%|          | 0/2735 [00:00<?, ?it/s]"
      ]
     },
     "metadata": {},
     "output_type": "display_data"
    },
    {
     "data": {
      "application/vnd.jupyter.widget-view+json": {
       "model_id": "880a9dcebf7c4df0a770b84f40faef9a",
       "version_major": 2,
       "version_minor": 0
      },
      "text/plain": [
       "  0%|          | 0/2735 [00:00<?, ?it/s]"
      ]
     },
     "metadata": {},
     "output_type": "display_data"
    },
    {
     "data": {
      "application/vnd.jupyter.widget-view+json": {
       "model_id": "b3d8932e7a894ed38463898553019556",
       "version_major": 2,
       "version_minor": 0
      },
      "text/plain": [
       "  0%|          | 0/2735 [00:00<?, ?it/s]"
      ]
     },
     "metadata": {},
     "output_type": "display_data"
    },
    {
     "data": {
      "application/vnd.jupyter.widget-view+json": {
       "model_id": "b0200f634ccb48db853c3c301dad8fde",
       "version_major": 2,
       "version_minor": 0
      },
      "text/plain": [
       "  0%|          | 0/2735 [00:00<?, ?it/s]"
      ]
     },
     "metadata": {},
     "output_type": "display_data"
    },
    {
     "data": {
      "application/vnd.jupyter.widget-view+json": {
       "model_id": "9af07a17e42e47298b15f2526ec77a61",
       "version_major": 2,
       "version_minor": 0
      },
      "text/plain": [
       "  0%|          | 0/2735 [00:00<?, ?it/s]"
      ]
     },
     "metadata": {},
     "output_type": "display_data"
    },
    {
     "data": {
      "application/vnd.jupyter.widget-view+json": {
       "model_id": "be11bdb9cc7249c0986350800dbd8da4",
       "version_major": 2,
       "version_minor": 0
      },
      "text/plain": [
       "  0%|          | 0/2735 [00:00<?, ?it/s]"
      ]
     },
     "metadata": {},
     "output_type": "display_data"
    },
    {
     "data": {
      "application/vnd.jupyter.widget-view+json": {
       "model_id": "c7edc99b15714eca82eee71d9dd68670",
       "version_major": 2,
       "version_minor": 0
      },
      "text/plain": [
       "  0%|          | 0/2735 [00:00<?, ?it/s]"
      ]
     },
     "metadata": {},
     "output_type": "display_data"
    },
    {
     "data": {
      "application/vnd.jupyter.widget-view+json": {
       "model_id": "47737a606ab247b4a1e0b8e77e1cfbf1",
       "version_major": 2,
       "version_minor": 0
      },
      "text/plain": [
       "  0%|          | 0/2735 [00:00<?, ?it/s]"
      ]
     },
     "metadata": {},
     "output_type": "display_data"
    },
    {
     "data": {
      "application/vnd.jupyter.widget-view+json": {
       "model_id": "33b2410ee2514249b9daf3a69dbce966",
       "version_major": 2,
       "version_minor": 0
      },
      "text/plain": [
       "  0%|          | 0/2735 [00:00<?, ?it/s]"
      ]
     },
     "metadata": {},
     "output_type": "display_data"
    },
    {
     "data": {
      "application/vnd.jupyter.widget-view+json": {
       "model_id": "46dfbbc714c445c18492aa415f5aa066",
       "version_major": 2,
       "version_minor": 0
      },
      "text/plain": [
       "  0%|          | 0/2735 [00:00<?, ?it/s]"
      ]
     },
     "metadata": {},
     "output_type": "display_data"
    },
    {
     "data": {
      "application/vnd.jupyter.widget-view+json": {
       "model_id": "",
       "version_major": 2,
       "version_minor": 0
      },
      "text/plain": [
       "Eval (test):   0%|          | 0/117 [00:00<?, ?it/s]"
      ]
     },
     "metadata": {},
     "output_type": "display_data"
    },
    {
     "data": {
      "application/vnd.jupyter.widget-view+json": {
       "model_id": "",
       "version_major": 2,
       "version_minor": 0
      },
      "text/plain": [
       "Eval (test):   0%|          | 0/117 [00:00<?, ?it/s]"
      ]
     },
     "metadata": {},
     "output_type": "display_data"
    },
    {
     "data": {
      "application/vnd.jupyter.widget-view+json": {
       "model_id": "",
       "version_major": 2,
       "version_minor": 0
      },
      "text/plain": [
       "Eval (test):   0%|          | 0/117 [00:00<?, ?it/s]"
      ]
     },
     "metadata": {},
     "output_type": "display_data"
    },
    {
     "data": {
      "application/vnd.jupyter.widget-view+json": {
       "model_id": "",
       "version_major": 2,
       "version_minor": 0
      },
      "text/plain": [
       "Eval (test):   0%|          | 0/117 [00:00<?, ?it/s]"
      ]
     },
     "metadata": {},
     "output_type": "display_data"
    },
    {
     "data": {
      "application/vnd.jupyter.widget-view+json": {
       "model_id": "",
       "version_major": 2,
       "version_minor": 0
      },
      "text/plain": [
       "Eval (test):   0%|          | 0/117 [00:00<?, ?it/s]"
      ]
     },
     "metadata": {},
     "output_type": "display_data"
    },
    {
     "data": {
      "application/vnd.jupyter.widget-view+json": {
       "model_id": "",
       "version_major": 2,
       "version_minor": 0
      },
      "text/plain": [
       "Eval (test):   0%|          | 0/117 [00:00<?, ?it/s]"
      ]
     },
     "metadata": {},
     "output_type": "display_data"
    },
    {
     "data": {
      "image/png": "[encoded data removed]",
      "text/plain": [
       "<Figure size 432x288 with 1 Axes>"
      ]
     },
     "metadata": {
      "needs_background": "light"
     },
     "output_type": "display_data"
    }
   ],
   "source": [
    "# YOUR CODE HERE\n",
    "seed(42)\n",
    "\n",
    "# Clicks\n",
    "train_clicks_2k  = simulate_clicks(data,'train', click_count = 2000)\n",
    "train_clicks_10k = simulate_clicks(data,'train', click_count = 10000)\n",
    "train_clicks_50k = simulate_clicks(data,'train', click_count = 50000)\n",
    "\n",
    "# Biased models\n",
    "biased_net_2k = NeuralModule(1)\n",
    "train_online(biased_net_2k, train_clicks_2k, online_loss_biased, params)\n",
    "biased_net_10k = NeuralModule(1)\n",
    "train_online(biased_net_10k, train_clicks_10k, online_loss_biased, params)\n",
    "biased_net_50k = NeuralModule(1)\n",
    "train_online(biased_net_50k, train_clicks_50k, online_loss_biased, params)\n",
    "\n",
    "# Unbiased models\n",
    "unbiased_net_2k = NeuralModule(1)\n",
    "train_online(unbiased_net_2k, train_clicks_2k, online_loss_unbiased, params)\n",
    "unbiased_net_10k = NeuralModule(1)\n",
    "train_online(unbiased_net_10k, train_clicks_10k, online_loss_unbiased, params)\n",
    "unbiased_net_50k = NeuralModule(1)\n",
    "train_online(unbiased_net_50k, train_clicks_50k, online_loss_unbiased, params)\n",
    "\n",
    "# Scores\n",
    "biased_2k_score  = evaluate_model(biased_net_2k, 'test')['ndcg@10'][0]\n",
    "biased_10k_score = evaluate_model(biased_net_10k, 'test')['ndcg@10'][0]\n",
    "biased_50k_score = evaluate_model(biased_net_50k, 'test')['ndcg@10'][0]\n",
    "\n",
    "unbiased_2k_score  = evaluate_model(unbiased_net_2k, 'test')['ndcg@10'][0]\n",
    "unbiased_10k_score = evaluate_model(unbiased_net_10k, 'test')['ndcg@10'][0]\n",
    "unbiased_50k_score = evaluate_model(unbiased_net_50k, 'test')['ndcg@10'][0]\n",
    "\n",
    "biased_scores = [biased_2k_score, biased_10k_score, biased_50k_score]\n",
    "unbiased_scores = [unbiased_2k_score, unbiased_10k_score, unbiased_50k_score]\n",
    "\n",
    "# Plotting\n",
    "ticks = np.array([0, 1, 2])\n",
    "plt.plot(biased_scores, label='Biased model')\n",
    "plt.plot(unbiased_scores, label='Unbiased model')\n",
    "plt.xticks(ticks, labels=['2000', '10000', '50000'])\n",
    "plt.xlabel('Number of simulated clicks')\n",
    "plt.ylabel('nDCG@10 score')\n",
    "plt.legend()\n",
    "plt.show()\n",
    "\n",
    "\n",
    "# Explanation: \n",
    "# In general we expect that the biased approach converges faster, and to a lower performance.\n",
    "# This is indeed showcased by the plot which shows that even after 50 000 clicks, the unbiased model\n",
    "# is still increasing in performance while the biased model produces a more flat curve at that point."
   ]
  },
  {
   "cell_type": "markdown",
   "metadata": {
    "deletable": false,
    "editable": false,
    "nbgrader": {
     "cell_type": "markdown",
     "checksum": "ce47393cb34036b50fde6780cdb9f772",
     "grade": false,
     "grade_id": "cell-6bd0ff7cecc1b060",
     "locked": true,
     "schema_version": 3,
     "solution": false,
     "task": false
    }
   },
   "source": [
    "## Section 3: Online Evaluation (75 points) <a class=\"anchor\" id=\"on_eval\"></a>\n",
    "\n",
    "[Back to TOC](#top)\n",
    "\n",
    "Sometimes, in online search engines, we want to compare two or more different ranking functions based on the user interactions.\n",
    "This comparison is done via online evaluation.\n",
    "\n",
    "In this section we implement one of the online evaluation methods: probabilistic multileaving.\n",
    "\n",
    "We compare three rankers:\n",
    " - Production ranker: the ranks that are provided to you for doing the click simulation.\n",
    " - Biased method from previous section.\n",
    " - Unbiased method from previous section"
   ]
  },
  {
   "cell_type": "markdown",
   "metadata": {
    "deletable": false,
    "editable": false,
    "nbgrader": {
     "cell_type": "markdown",
     "checksum": "590bdae1272cdd45e304d0498de730bc",
     "grade": false,
     "grade_id": "cell-6ca9cf6f08e6b7f3",
     "locked": true,
     "schema_version": 3,
     "solution": false,
     "task": false
    }
   },
   "source": [
    "Before proceeding, we need some auxiliary functions:\n",
    "\n",
    " - `invert_ranking` gets the ranking and gives the inverted rankings. This means that for an input with `rank[d]=r`, the output would be `i_rank[r]=d`.\n",
    "\n",
    "\n",
    " - `get_predictions` gives a dictionary of predictions, i.e. `predictions[qid]` is the list of scores produced by the given model.\n"
   ]
  },
  {
   "cell_type": "code",
   "execution_count": 61,
   "metadata": {
    "deletable": false,
    "editable": false,
    "nbgrader": {
     "cell_type": "code",
     "checksum": "98f77357b3d3088c738c97a90bd05061",
     "grade": false,
     "grade_id": "cell-3ae14fda3426a247",
     "locked": true,
     "schema_version": 3,
     "solution": false,
     "task": false
    }
   },
   "outputs": [],
   "source": [
    "def get_predictions(net, test_clicks, topk):\n",
    "    test_dl = DataLoader(QueryGroupedOnlineLTRData(data, 'test', test_clicks, topk), \n",
    "                          batch_size=1, \n",
    "                          shuffle=False,\n",
    "                          collate_fn=qg_collate_fn)\n",
    "    predictions = {}\n",
    "    for qids, x, _ in test_dl:\n",
    "        predictions[qids[0]] = net(x[0]).detach().numpy()[:,0]\n",
    "    return predictions\n",
    "\n",
    "\n",
    "def invert_rankings(rankings):\n",
    "    '''\n",
    "    Invert indices in a matrix of rankings, ranking per row.\n",
    "    '''\n",
    "    inverted = np.zeros(rankings.shape)\n",
    "    \n",
    "    inverted[np.arange(rankings.shape[0])[:,None],rankings] = np.arange(rankings.shape[1])[None,:]\n",
    "    return inverted\n"
   ]
  },
  {
   "cell_type": "markdown",
   "metadata": {
    "deletable": false,
    "editable": false,
    "nbgrader": {
     "cell_type": "markdown",
     "checksum": "715b799e36aa757ed9db3dd60c9b724e",
     "grade": false,
     "grade_id": "cell-7bbf6c13e9eaea91",
     "locked": true,
     "schema_version": 3,
     "solution": false,
     "task": false
    }
   },
   "source": [
    "The next cell helps you build the ranking matrix for each query in the test set.\n",
    "The first row is the production ranker, the second row is the biased ranker and the third row is the unbiased ranker."
   ]
  },
  {
   "cell_type": "code",
   "execution_count": 62,
   "metadata": {
    "deletable": false,
    "editable": false,
    "nbgrader": {
     "cell_type": "code",
     "checksum": "8f2a6904a62575980830a95ed5ee238d",
     "grade": false,
     "grade_id": "cell-3bdf5ac68c468d35",
     "locked": true,
     "schema_version": 3,
     "solution": false,
     "task": false
    }
   },
   "outputs": [],
   "source": [
    "# we only need the ranking of the production ranker for the test set. No clicks have to be simulated here.\n",
    "test_clicks = simulate_clicks(data, 'test', click_count = 0)\n",
    "biased_predictions = get_predictions(biased_net, test_clicks, 20)\n",
    "unbiased_prediction = get_predictions(unbiased_net, test_clicks, 20)\n",
    "\n",
    "def get_ranking_matrix(qid, topk):\n",
    "    ranking_matrix = np.empty([3, min(data.test.query_size(qid), topk)], dtype=np.int32)\n",
    "    ranking = data.test.ranks[data.test.doclist_ranges[qid]:data.test.doclist_ranges[qid+1]]\n",
    "    ranking_matrix[0,:] = np.arange(ranking_matrix.shape[1])\n",
    "    ranking_matrix[1,:] = np.argsort(-biased_predictions[qid])\n",
    "    ranking_matrix[2,:] = np.argsort(-unbiased_prediction[qid])\n",
    "    return ranking_matrix"
   ]
  },
  {
   "cell_type": "code",
   "execution_count": 63,
   "metadata": {
    "deletable": false,
    "editable": false,
    "nbgrader": {
     "cell_type": "code",
     "checksum": "c5cc0c513947abfc38bd19f364c24992",
     "grade": false,
     "grade_id": "cell-77d4e88031772611",
     "locked": true,
     "schema_version": 3,
     "solution": false,
     "task": false
    }
   },
   "outputs": [
    {
     "name": "stdout",
     "output_type": "stream",
     "text": [
      "[[ 0  1  2  3  4  5  6  7  8  9 10 11 12 13 14 15 16 17 18 19]\n",
      " [13  3  6 18 16  5 12 14  2  1  8  4  0 17 10 19  9 15  7 11]\n",
      " [13  3  6 18 16  2  8  1  5  0 12 14 17  9  4 19 10  7 15 11]]\n"
     ]
    }
   ],
   "source": [
    "print(get_ranking_matrix(0, 20))"
   ]
  },
  {
   "cell_type": "markdown",
   "metadata": {
    "deletable": false,
    "editable": false,
    "nbgrader": {
     "cell_type": "markdown",
     "checksum": "d3a1de51e80c9251462e68fb16b4fb0f",
     "grade": false,
     "grade_id": "cell-ff251675418a5a1a",
     "locked": true,
     "schema_version": 3,
     "solution": false,
     "task": false
    }
   },
   "source": [
    "### Section 3.1 Multileaving (10 points)\n",
    "\n",
    "Given the rankings of multiple rankers, we want to decide how to fill the results list and show it to the users.\n",
    "Implement the following function."
   ]
  },
  {
   "cell_type": "code",
   "execution_count": 64,
   "metadata": {
    "deletable": false,
    "nbgrader": {
     "cell_type": "code",
     "checksum": "c1f9c735274c6a469bd089afd078bcf9",
     "grade": false,
     "grade_id": "cell-fcf5351ca3d36caa",
     "locked": false,
     "schema_version": 3,
     "solution": true,
     "task": false
    }
   },
   "outputs": [],
   "source": [
    "# TODO: Implement this! (10 points)\n",
    "def make_multileaving(inverted_rankings, topk):\n",
    "    '''\n",
    "    ARGS: (all np.array of docids)\n",
    "    - inverted_rankings: matrix (rankers x documents) where [x,y] corresponds to the rank of doc y in ranker x\n",
    "    RETURNS\n",
    "    - ranking of indices corresponding to inverted_rankings\n",
    "    '''\n",
    "    n_rankers = inverted_rankings.shape[0]\n",
    "    n = inverted_rankings.shape[1]\n",
    "    k = min(n, topk)\n",
    "\n",
    "    # YOUR CODE HERE\n",
    "    result_list = []\n",
    "    inv_ranks = torch.Tensor(1 / (inverted_rankings + 1))\n",
    "    probs = inv_ranks / inv_ranks.sum(dim=1).view(3,1)\n",
    "    sampled_rankers = torch.randint(0, n_rankers, (k,))\n",
    "    \n",
    "    for ranker in sampled_rankers:\n",
    "        # Sample doc\n",
    "        doc = torch.multinomial(probs[ranker], 1)[0].item()\n",
    "        # Add doc to list\n",
    "        result_list.append(doc)\n",
    "        # Remove doc from rankers\n",
    "        probs[:, doc] = 0\n",
    "        \n",
    "    return np.array(result_list)"
   ]
  },
  {
   "cell_type": "code",
   "execution_count": 65,
   "metadata": {},
   "outputs": [
    {
     "name": "stdout",
     "output_type": "stream",
     "text": [
      "[ 2  3 17  0  4 13  9  6  1 10 18  7 14 16 12  5 19  8 15 11]\n"
     ]
    }
   ],
   "source": [
    "print(make_multileaving(invert_rankings(get_ranking_matrix(0, 20)), 20))"
   ]
  },
  {
   "cell_type": "code",
   "execution_count": null,
   "metadata": {
    "deletable": false,
    "nbgrader": {
     "cell_type": "code",
     "checksum": "51819e8bd101b87700217e0ea4983c40",
     "grade": true,
     "grade_id": "cell-a7f83f82f0a41b58",
     "locked": false,
     "points": 10,
     "schema_version": 3,
     "solution": true,
     "task": false
    }
   },
   "outputs": [],
   "source": [
    "# YOUR CODE HERE\n",
    "raise NotImplementedError()"
   ]
  },
  {
   "cell_type": "markdown",
   "metadata": {
    "deletable": false,
    "editable": false,
    "nbgrader": {
     "cell_type": "markdown",
     "checksum": "1ca3e1ec97c81db9c4a9e3d7ec81919c",
     "grade": false,
     "grade_id": "cell-024ab191ba5fc1c3",
     "locked": true,
     "schema_version": 3,
     "solution": false,
     "task": false
    }
   },
   "source": [
    "### Section 3.2: Probability of rankers (15 points)\n",
    "\n",
    "We have shown the multileaved list to the user and they clicked on some documents.\n",
    "In this function we want to calculate the probability that the clicked documents belong to a specific ranker.\n",
    "\n",
    "Note that the results of rankers are not unique and each document in the results list may belong to different rankers.\n",
    "So we need to assign a *probability* to each click belonging to each ranker."
   ]
  },
  {
   "cell_type": "code",
   "execution_count": 66,
   "metadata": {
    "deletable": false,
    "nbgrader": {
     "cell_type": "code",
     "checksum": "e6150d058189bef659154cdb1e700d18",
     "grade": false,
     "grade_id": "cell-06a948902936dd40",
     "locked": false,
     "schema_version": 3,
     "solution": true,
     "task": false
    }
   },
   "outputs": [],
   "source": [
    "# TODO: Implement this! (15 points)\n",
    "def probability_of_list(result_list, inverted_rankings, clicked_docs):\n",
    "    '''\n",
    "    ARGS: (all np.array of docids)\n",
    "    - result_list: the multileaved list\n",
    "    - inverted_rankings: matrix (rankers x documents) where [x,y] corresponds to the rank of doc y in ranker x\n",
    "    - clicked_docs: boolean array of result_list length indicating clicks\n",
    "    RETURNS\n",
    "    -sigmas: matrix (rankers x clicked_docs) with probabilty ranker added clicked doc\n",
    "    '''\n",
    "    n_docs = inverted_rankings.shape[1]\n",
    "    n_rankers = inverted_rankings.shape[0]\n",
    "\n",
    "    # click_doc_ind = result_list[clicked_docs]\n",
    "    \n",
    "    # YOUR CODE HERE\n",
    "    \n",
    "    # Compute probability of a document given ranker\n",
    "    inv_ranks = torch.Tensor(1 / (inverted_rankings + 1))\n",
    "    probs_per_ranker = inv_ranks / inv_ranks.sum(dim=1).view(-1,1)\n",
    "    # Filter out non-clicked docs\n",
    "    clicked = probs_per_ranker[:,clicked_docs]\n",
    "    # Probability of a ranker given documents\n",
    "    probs = clicked / clicked.sum(dim=0)\n",
    "    return probs"
   ]
  },
  {
   "cell_type": "code",
   "execution_count": 67,
   "metadata": {
    "deletable": false,
    "editable": false,
    "nbgrader": {
     "cell_type": "code",
     "checksum": "216c6987df2ad52d86dec05976823892",
     "grade": false,
     "grade_id": "cell-cb41d992a09ed02e",
     "locked": true,
     "schema_version": 3,
     "solution": false,
     "task": false
    }
   },
   "outputs": [
    {
     "name": "stdout",
     "output_type": "stream",
     "text": [
      "ranking matrix:\n",
      " [[ 0  1  2  3  4  5  6  7  8  9 10 11 12 13 14 15 16 17 18 19]\n",
      " [13  3  6 18 16  5 12 14  2  1  8  4  0 17 10 19  9 15  7 11]\n",
      " [13  3  6 18 16  2  8  1  5  0 12 14 17  9  4 19 10  7 15 11]]\n",
      "results list (shown to user):\n",
      " [ 6  3  2  8 13  1 14 12  0  9 16 10  7  5 17  4 11 18 15 19]\n",
      "clicked documents: [0, 4, 9, 10]\n",
      "probabilities:\n",
      " tensor([[0.8497, 0.5714, 0.4343, 0.4201],\n",
      "        [0.0654, 0.2381, 0.2555, 0.3081],\n",
      "        [0.0850, 0.1905, 0.3102, 0.2718]])\n"
     ]
    }
   ],
   "source": [
    "ranking_matrix = get_ranking_matrix(0, 20)\n",
    "result_list = make_multileaving(invert_rankings(ranking_matrix), 20)\n",
    "clicks = [0,4,9,10]\n",
    "probabilities = probability_of_list(result_list, invert_rankings(ranking_matrix), clicks)\n",
    "print(f'ranking matrix:\\n {ranking_matrix}')\n",
    "print(f'results list (shown to user):\\n {result_list}')\n",
    "print(f'clicked documents: {clicks}')\n",
    "print(f'probabilities:\\n {probabilities}')"
   ]
  },
  {
   "cell_type": "code",
   "execution_count": null,
   "metadata": {
    "deletable": false,
    "nbgrader": {
     "cell_type": "code",
     "checksum": "9b4921314264ee89e72d616cf8ee8f33",
     "grade": true,
     "grade_id": "cell-41eadc2f4faaf437",
     "locked": false,
     "points": 15,
     "schema_version": 3,
     "solution": true,
     "task": false
    }
   },
   "outputs": [],
   "source": [
    "# YOUR CODE HERE\n",
    "raise NotImplementedError()"
   ]
  },
  {
   "cell_type": "markdown",
   "metadata": {
    "deletable": false,
    "editable": false,
    "nbgrader": {
     "cell_type": "markdown",
     "checksum": "7cdd78a87da0a5d3a05207c5e926eef4",
     "grade": false,
     "grade_id": "cell-95c4e4ae05ce7198",
     "locked": true,
     "schema_version": 3,
     "solution": false,
     "task": false
    }
   },
   "source": [
    "### Section 3.3: Preference matrix (10 points)\n",
    "\n",
    "Given the probabilities of each ranker being clicked, we want to calculate a preference matrix that for each pair of rankers tells us which one is preferred by the clicks."
   ]
  },
  {
   "cell_type": "code",
   "execution_count": 68,
   "metadata": {
    "deletable": false,
    "nbgrader": {
     "cell_type": "code",
     "checksum": "ec8f2075b4b94720bdf96898d4254589",
     "grade": false,
     "grade_id": "cell-931bf5baba8e9eac",
     "locked": false,
     "schema_version": 3,
     "solution": true,
     "task": false
    }
   },
   "outputs": [],
   "source": [
    "# TODO: Implement this! (10 points)\n",
    "def preferences_of_list(probs):\n",
    "    '''\n",
    "    ARGS:\n",
    "    -probs: rankers x clicked docs matrix with probabilities ranker added clicked doc  (use probability_of_list)\n",
    "    -n_samples: number of samples to base preference matrix on\n",
    "    RETURNS:\n",
    "    - preference matrix: matrix (rankers x rankers) in this matrix [x,y] > 0 means x won over y and [x,y] < 0 means x lost from y\n",
    "      the value is analogous to the (average) degree of preference\n",
    "    '''\n",
    "    n_samples = 10\n",
    "    n_clicks = probs.shape[1]\n",
    "    n_rankers = probs.shape[0]\n",
    "    \n",
    "    # YOUR CODE HERE\n",
    "    from collections import Counter\n",
    "    \n",
    "    # All possible assignments\n",
    "    assignments = torch.tensor(list(itertools.product(list(range(n_rankers)), repeat=n_clicks)), dtype=torch.int64)\n",
    "    # Probabilities of all assignments\n",
    "    assignment_probs = torch.gather(probs, 0, assignments).prod(dim=1)\n",
    "    # Sample assignments\n",
    "    sampled_inds = torch.multinomial(assignment_probs, n_samples, replacement=True)\n",
    "    sampled_assignments = assignments[sampled_inds]\n",
    "    \n",
    "    # Initialize preference matrix\n",
    "    pref_matrix = torch.zeros((n_rankers, n_rankers))\n",
    "    \n",
    "    for sample in sampled_assignments:\n",
    "        # Initialize outcome for this sample\n",
    "        outcome_matrix = torch.zeros((n_rankers, n_rankers))\n",
    "        \n",
    "        # Count assignments w.r.t. rankers\n",
    "        assign_counts = Counter(sample.tolist())\n",
    "        # Loop over rankers\n",
    "        for i in range(n_rankers):\n",
    "            for j in range(n_rankers):\n",
    "                # If a ranker \"i\" wins over ranker \"j\", then outcome_matrix[i,j] = 1\n",
    "                outcome_matrix[i,j] = assign_counts[i] > assign_counts[j]\n",
    "            \n",
    "        # Substract transposed outcome to put -1 for losers\n",
    "        outcome_matrix = outcome_matrix - outcome_matrix.T\n",
    "        # Weighted outcome with its probability based on slides\n",
    "        pref_matrix = pref_matrix + outcome_matrix\n",
    "    \n",
    "    return (pref_matrix / n_samples).numpy()\n",
    "        \n",
    "\n",
    "def infer_preferences(inverted_rankings, result_list, clicked_docs):\n",
    "    n_rankers = inverted_rankings.shape[0]\n",
    "    if np.any(clicked_docs):\n",
    "        return preferences_of_list(probability_of_list(result_list,\n",
    "                                        inverted_rankings,\n",
    "                                        clicked_docs))\n",
    "    else:\n",
    "        return np.zeros((n_rankers, n_rankers))\n"
   ]
  },
  {
   "cell_type": "code",
   "execution_count": 69,
   "metadata": {
    "deletable": false,
    "editable": false,
    "nbgrader": {
     "cell_type": "code",
     "checksum": "c2342811f833dbdbc29a5f7f5725b576",
     "grade": false,
     "grade_id": "cell-9598544608fbcde8",
     "locked": true,
     "schema_version": 3,
     "solution": false,
     "task": false
    },
    "scrolled": false
   },
   "outputs": [
    {
     "name": "stdout",
     "output_type": "stream",
     "text": [
      "[[ 0.   0.3  0.5]\n",
      " [-0.3  0.   0.2]\n",
      " [-0.5 -0.2  0. ]]\n"
     ]
    }
   ],
   "source": [
    "print(preferences_of_list(probabilities))"
   ]
  },
  {
   "cell_type": "code",
   "execution_count": null,
   "metadata": {
    "deletable": false,
    "nbgrader": {
     "cell_type": "code",
     "checksum": "e79d7a1992af19a5fcd6711ece693800",
     "grade": true,
     "grade_id": "cell-601defbd1e14a840",
     "locked": false,
     "points": 10,
     "schema_version": 3,
     "solution": true,
     "task": false
    }
   },
   "outputs": [],
   "source": [
    "# YOUR CODE HERE\n",
    "raise NotImplementedError()"
   ]
  },
  {
   "cell_type": "markdown",
   "metadata": {
    "deletable": false,
    "editable": false,
    "nbgrader": {
     "cell_type": "markdown",
     "checksum": "0360fb3c0a060e97efd327ec0cc79468",
     "grade": false,
     "grade_id": "cell-766b24e1ede46a8c",
     "locked": true,
     "schema_version": 3,
     "solution": false,
     "task": false
    }
   },
   "source": [
    "Now we can simulate the multileaving to see how our target rankers are evaluated by it."
   ]
  },
  {
   "cell_type": "code",
   "execution_count": 70,
   "metadata": {
    "deletable": false,
    "editable": false,
    "nbgrader": {
     "cell_type": "code",
     "checksum": "2d071088604059a588482912e2a0dfd2",
     "grade": false,
     "grade_id": "cell-45aaaa7c7a055fed",
     "locked": true,
     "schema_version": 3,
     "solution": false,
     "task": false
    }
   },
   "outputs": [],
   "source": [
    "def simulate_multileaving(n_impressions, topk):\n",
    "    n_samples = 10\n",
    "    impressions = 0\n",
    "    pref_update = 0\n",
    "    total_pref = np.zeros((3, 3))\n",
    "    for step_i in range(n_impressions):\n",
    "        qid = np.random.randint(0, data.test.doclist_ranges.shape[0] - 1)\n",
    "\n",
    "        start_i = data.test.doclist_ranges[qid]\n",
    "        end_i = data.test.doclist_ranges[qid + 1]\n",
    "        n_query_docs = end_i - start_i\n",
    "        query_labels = data.test.label_vector[start_i:end_i]\n",
    "\n",
    "        inverted_rankings = invert_rankings(get_ranking_matrix(qid, topk))\n",
    "        multileaving = make_multileaving(inverted_rankings, topk)\n",
    "\n",
    "        cur_clicks = generate_clicks(multileaving, query_labels)\n",
    "\n",
    "        if np.any(cur_clicks):\n",
    "            pref = infer_preferences(inverted_rankings, multileaving, cur_clicks)\n",
    "            total_pref += pref\n",
    "            pref_update += 1\n",
    "    return total_pref / pref_update\n"
   ]
  },
  {
   "cell_type": "code",
   "execution_count": 71,
   "metadata": {
    "deletable": false,
    "editable": false,
    "nbgrader": {
     "cell_type": "code",
     "checksum": "95b61f7faa7cb7febe3d00fb66d0cda3",
     "grade": false,
     "grade_id": "cell-eae8a938c37a37f1",
     "locked": true,
     "schema_version": 3,
     "solution": false,
     "task": false
    }
   },
   "outputs": [
    {
     "data": {
      "text/plain": [
       "array([[ 0.        ,  0.23599303,  0.23630662],\n",
       "       [-0.23599303,  0.        ,  0.00038328],\n",
       "       [-0.23630662, -0.00038328,  0.        ]])"
      ]
     },
     "execution_count": 71,
     "metadata": {},
     "output_type": "execute_result"
    }
   ],
   "source": [
    "simulate_multileaving(10000, 20)"
   ]
  },
  {
   "cell_type": "markdown",
   "metadata": {
    "deletable": false,
    "editable": false,
    "nbgrader": {
     "cell_type": "markdown",
     "checksum": "29bb96f857fa7ae1dc2d816a1b888d7b",
     "grade": false,
     "grade_id": "cell-04ee05c85dd0304d",
     "locked": true,
     "schema_version": 3,
     "solution": false,
     "task": false
    }
   },
   "source": [
    "### Section 3.4: Analysis (40 points)\n",
    "\n",
    "Analyze the behavior of your multileaving implementation by testing it with two different `topk` values: $[5,20]$ and with different number of evaluation clicks: $[2000, 10000, 50000]$.\n",
    "\n",
    "Put the preference of the unbiased method over the biased method (i.e. `pref[2,1]` in the matrix output of `simulate_multileaving` function) for these experiments in a table.\n",
    "\n",
    "**Rubric:**\n",
    "- Six experiments: 12 points\n",
    "- Analysis of the observations: 28 points"
   ]
  },
  {
   "cell_type": "code",
   "execution_count": 72,
   "metadata": {
    "deletable": false,
    "nbgrader": {
     "cell_type": "code",
     "checksum": "fd41d14078b1ad160c02cf690c45e55f",
     "grade": true,
     "grade_id": "cell-d88f4eb3035e6fbb",
     "locked": false,
     "points": 40,
     "schema_version": 3,
     "solution": true,
     "task": false
    }
   },
   "outputs": [
    {
     "name": "stdout",
     "output_type": "stream",
     "text": [
      "topk: 5, clicks: 2000 0.027531645814829236\n",
      "topk: 5, clicks: 10000 -0.002746931694704911\n",
      "topk: 5, clicks: 50000 0.0035861258574053515\n",
      "topk: 20, clicks: 2000 -0.004804270825882399\n",
      "topk: 20, clicks: 10000 0.007472067218086573\n",
      "topk: 20, clicks: 50000 -0.0027498462106756052\n"
     ]
    },
    {
     "data": {
      "text/html": [
       "<div>\n",
       "<style scoped>\n",
       "    .dataframe tbody tr th:only-of-type {\n",
       "        vertical-align: middle;\n",
       "    }\n",
       "\n",
       "    .dataframe tbody tr th {\n",
       "        vertical-align: top;\n",
       "    }\n",
       "\n",
       "    .dataframe thead th {\n",
       "        text-align: right;\n",
       "    }\n",
       "</style>\n",
       "<table border=\"1\" class=\"dataframe\">\n",
       "  <thead>\n",
       "    <tr style=\"text-align: right;\">\n",
       "      <th></th>\n",
       "      <th>2000</th>\n",
       "      <th>10000</th>\n",
       "      <th>50000</th>\n",
       "    </tr>\n",
       "  </thead>\n",
       "  <tbody>\n",
       "    <tr>\n",
       "      <th>5</th>\n",
       "      <td>0.027532</td>\n",
       "      <td>-0.002747</td>\n",
       "      <td>0.003586</td>\n",
       "    </tr>\n",
       "    <tr>\n",
       "      <th>20</th>\n",
       "      <td>-0.004804</td>\n",
       "      <td>0.007472</td>\n",
       "      <td>-0.002750</td>\n",
       "    </tr>\n",
       "  </tbody>\n",
       "</table>\n",
       "</div>"
      ],
      "text/plain": [
       "        2000     10000     50000\n",
       "5   0.027532 -0.002747  0.003586\n",
       "20 -0.004804  0.007472 -0.002750"
      ]
     },
     "metadata": {},
     "output_type": "display_data"
    }
   ],
   "source": [
    "# YOUR CODE HERE\n",
    "from IPython.display import display\n",
    "seed(42)\n",
    "\n",
    "biased_predictions = get_predictions(biased_net, test_clicks, 5)\n",
    "unbiased_prediction = get_predictions(unbiased_net, test_clicks, 5)\n",
    "mtx_2k_5   = simulate_multileaving(2000,   5)\n",
    "print('topk: 5, clicks: 2000', mtx_2k_5[2,1])\n",
    "mtx_10k_5  = simulate_multileaving(10000,  5)\n",
    "print('topk: 5, clicks: 10000', mtx_10k_5[2,1])\n",
    "mtx_50k_5  = simulate_multileaving(50000,  5)\n",
    "print('topk: 5, clicks: 50000', mtx_50k_5[2,1])\n",
    "\n",
    "biased_predictions = get_predictions(biased_net, test_clicks, 20)\n",
    "unbiased_prediction = get_predictions(unbiased_net, test_clicks, 20)\n",
    "mtx_2k_20  = simulate_multileaving(2000,  20)\n",
    "print('topk: 20, clicks: 2000', mtx_2k_20[2,1])\n",
    "mtx_10k_20 = simulate_multileaving(10000, 20)\n",
    "print('topk: 20, clicks: 10000', mtx_10k_20[2,1])\n",
    "mtx_50k_20 = simulate_multileaving(50000, 20)\n",
    "print('topk: 20, clicks: 50000', mtx_50k_20[2,1])\n",
    "\n",
    "clicks = [\n",
    "    {\n",
    "        '2000':  mtx_2k_5[2,1],\n",
    "        '10000': mtx_10k_5[2,1],\n",
    "        '50000': mtx_50k_5[2,1]\n",
    "    },\n",
    "    {\n",
    "        '2000':  mtx_2k_20[2,1],\n",
    "        '10000': mtx_10k_20[2,1],\n",
    "        '50000': mtx_50k_20[2,1]\n",
    "    }\n",
    "]\n",
    "df = pd.DataFrame(clicks, index=['5', '20'])\n",
    "display(df)\n",
    "\n",
    "# The different number of \"clicks\" correspond to how precise the output of the preference matrix is,\n",
    "# as the methods are evaluated over more instances of user interactions. However based on this we get\n",
    "# that the Unbiased method should be worse than the Biased one. After running many experiments, we\n",
    "# concluded that these values are highly volatile and thus we cannot infer any useful conclusions from it."
   ]
  }
 ],
 "metadata": {
  "kernelspec": {
   "display_name": "Python 3",
   "language": "python",
   "name": "python3"
  },
  "language_info": {
   "codemirror_mode": {
    "name": "ipython",
    "version": 3
   },
   "file_extension": ".py",
   "mimetype": "text/x-python",
   "name": "python",
   "nbconvert_exporter": "python",
   "pygments_lexer": "ipython3",
   "version": "3.6.9"
  },
  "toc": {
   "base_numbering": "",
   "nav_menu": {},
   "number_sections": false,
   "sideBar": true,
   "skip_h1_title": false,
   "title_cell": "Table of Contents",
   "title_sidebar": "Contents",
   "toc_cell": false,
   "toc_position": {
    "height": "calc(100% - 180px)",
    "left": "10px",
    "top": "150px",
    "width": "280px"
   },
   "toc_section_display": true,
   "toc_window_display": true
  }
 },
 "nbformat": 4,
 "nbformat_minor": 4
}
