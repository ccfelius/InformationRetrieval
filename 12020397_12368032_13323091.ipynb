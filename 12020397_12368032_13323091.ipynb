{
 "cells": [
  {
   "cell_type": "markdown",
   "metadata": {
    "deletable": false,
    "editable": false,
    "nbgrader": {
     "cell_type": "markdown",
     "checksum": "758d05f39ab671358f17858c55f7161c",
     "grade": false,
     "grade_id": "cell-c9cd9e550239e812",
     "locked": true,
     "schema_version": 3,
     "solution": false,
     "task": false
    }
   },
   "source": [
    "# Homework 1 (Total Points: 260) <a class=\"anchor\" id=\"top\"></a>\n",
    "\n",
    "\n",
    "**Submission instructions**:\n",
    "- Only the code `TODO: Implement this!` denotes that these sections are graded.\n",
    "- For Part 1: You can use the `nltk`, `numpy` and `matplotlib` libraries here. Other libraries, e.g., `gensim` or `scikit-learn`, may not be used. For Part 2: `gensim` is allowed in addition to the imported libraries in the next code cell\n",
    "- The notebook you submit has to have the student ids, separated by underscores (E.g., `12341234_12341234_12341234.ipynb`). \n",
    "- This will be parsed by a regexp, so please double check your filename.\n",
    "- Only one member of each group has to submit the file to canvas.\n",
    "- Make sure to check that your notebook runs before submission. A quick way to do this is to restart the kernel and run all the cells.  \n",
    "- Please do not delete/add new cells. Removing cells can lead to grade deduction.\n",
    "- Note, that you are not allowed to use Google Colab.\n",
    "\n",
    "\n",
    "**Learning Goals**:\n",
    "- [Part 1, Term-based matching](#part1) (175 points):\n",
    "    - Learn how to load a dataset and process it.\n",
    "    - Learn how to implement several standard IR methods (TF-IDF, BM25, QL) and understand their weaknesses & strengths.\n",
    "    - Learn how to evaluate IR methods.\n",
    "- [Part 2, Semantic-based matching](#part2) (85 points):\n",
    "    - Learn how to implement vector-space retrieval methods (LSI, LDA).\n",
    "    - Learn how to use LSI and LDA for re-ranking\n",
    "\n",
    "    \n",
    "**Resources**: \n",
    "- **Part 1**: Sections 2.3, 4.1, 4.2, 4.3, 5.3, 5.6, 5.7, 6.2, 7, 8 of [Search Engines: Information Retrieval in Practice](https://ciir.cs.umass.edu/downloads/SEIRiP.pdf)\n",
    "- **Part 2**: [LSI - Chapter 18](https://nlp.stanford.edu/IR-book/pdf/18lsi.pdf) from [Introduction to Information Retrieval](https://nlp.stanford.edu/IR-book/) book and the [original LDA paper](https://jmlr.org/papers/volume3/blei03a/blei03a.pdf)"
   ]
  },
  {
   "cell_type": "code",
   "execution_count": 1,
   "metadata": {
    "deletable": false,
    "editable": false,
    "nbgrader": {
     "cell_type": "code",
     "checksum": "c55bfe94ff1f564dd595547e516c4c6e",
     "grade": false,
     "grade_id": "cell-f5357fabdb9660e3",
     "locked": true,
     "schema_version": 3,
     "solution": false,
     "task": false
    }
   },
   "outputs": [],
   "source": [
    "# imports \n",
    "# TODO: Ensure that no additional library is imported in the notebook. \n",
    "# TODO: Only the standard library and the following libraries are allowed:\n",
    "# TODO: You can also use unlisted classes from these libraries or standard libraries (such as defaultdict, Counter, ...).\n",
    "\n",
    "import os\n",
    "import zipfile\n",
    "from functools import partial\n",
    "\n",
    "import nltk\n",
    "import requests\n",
    "import numpy as np\n",
    "from tqdm import tqdm\n",
    "\n",
    "import matplotlib.pyplot as plt\n",
    "from matplotlib.pyplot import cm\n",
    "\n",
    "from ipywidgets import widgets\n",
    "from IPython.display import display, HTML\n",
    "#from IPython.html import widgets\n",
    "from collections import namedtuple\n",
    "\n",
    "%matplotlib inline"
   ]
  },
  {
   "cell_type": "markdown",
   "metadata": {
    "deletable": false,
    "editable": false,
    "nbgrader": {
     "cell_type": "markdown",
     "checksum": "4ef0139c6fbc22b41520721a9275c1e1",
     "grade": false,
     "grade_id": "cell-7428e12ed184408b",
     "locked": true,
     "schema_version": 3,
     "solution": false,
     "task": false
    }
   },
   "source": [
    "\n",
    "# Part 1: Term-based Matching (175 points) <a class=\"anchor\" id=\"part1\"></a>\n",
    "\n",
    "[Back to top](#top)\n",
    "\n",
    "In the first part, we will learn the basics of IR from loading and preprocessing the material, to implementing some well known search algorithms, to evaluating the ranking performance of the implemented algorithms. We will be using the CACM dataset throughout the assignment. The CACM dataset is a collection of titles and abstracts from the journal CACM (Communication of the ACM).\n",
    "\n",
    "Table of contents:\n",
    "- [Section 1: Text Processing](#text_processing) (15 points)\n",
    "- [Section 2: Indexing](#indexing) (10 points)\n",
    "- [Section 3: Ranking](#ranking) (80 points)\n",
    "- [Section 4: Evaluation](#evaluation) (40 points)\n",
    "- [Section 5: Analysis](#analysis) (30 points)\n"
   ]
  },
  {
   "cell_type": "markdown",
   "metadata": {
    "deletable": false,
    "editable": false,
    "nbgrader": {
     "cell_type": "markdown",
     "checksum": "a9050c97b011a926b9e4cf6831eff5bd",
     "grade": false,
     "grade_id": "cell-4b24825cf4ae55ec",
     "locked": true,
     "schema_version": 3,
     "solution": false,
     "task": false
    }
   },
   "source": [
    "---\n",
    "## Section 1: Text Processing (15 points)<a class=\"anchor\" id=\"text_processing\"></a>\n",
    "\n",
    "[Back to Part 1](#part1)\n",
    "\n",
    "In this section, we will load the dataset and learn how to clean up the data to make it usable for an IR system. \n",
    "The points of this section are earned for the following implementations:\n",
    "- `read_cacm_docs` (4 points): Reads in the CACM documents.\n",
    "- `read_queries` (3 points): Reads in the CACM queries.\n",
    "- `load_stopwords` (1 point): Loads the stopwords.\n",
    "- `tokenize` (4 points): Tokenizes the input text.\n",
    "- `stem_token` (3 points): Stems the given token. \n",
    "\n",
    "We are using the [CACM dataset](http://ir.dcs.gla.ac.uk/resources/test_collections/cacm/), which is a small, classic IR dataset, composed of a collection of titles and abstracts from the journal CACM. It comes with relevance judgements for queries, so we can evaluate our IR system. \n"
   ]
  },
  {
   "cell_type": "markdown",
   "metadata": {
    "deletable": false,
    "editable": false,
    "nbgrader": {
     "cell_type": "markdown",
     "checksum": "1de1b97f9ee233ad2348359f0c158eb7",
     "grade": false,
     "grade_id": "cell-45651364e7af6d5a",
     "locked": true,
     "schema_version": 3,
     "solution": false,
     "task": false
    }
   },
   "source": [
    "---\n",
    "### 1.1 Read the CACM documents (4 points)\n",
    "\n",
    "\n",
    "The following cell downloads the dataset and unzips it to a local directory."
   ]
  },
  {
   "cell_type": "code",
   "execution_count": 2,
   "metadata": {
    "deletable": false,
    "editable": false,
    "nbgrader": {
     "cell_type": "code",
     "checksum": "4d43c9ad6e77cc01ce4cef0c34824930",
     "grade": false,
     "grade_id": "cell-bbc3030bb3fe7e02",
     "locked": true,
     "schema_version": 3,
     "solution": false,
     "task": false
    }
   },
   "outputs": [],
   "source": [
    "def download_dataset():\n",
    "    folder_path = os.environ.get(\"IR1_DATA_PATH\")\n",
    "    if not folder_path:\n",
    "        folder_path = \"./datasets/\"\n",
    "    os.makedirs(folder_path, exist_ok=True)\n",
    "    \n",
    "    file_location = os.path.join(folder_path, \"cacm.zip\")\n",
    "    \n",
    "    # download file if it doesn't exist\n",
    "    if not os.path.exists(file_location):\n",
    "        \n",
    "        url = \"https://surfdrive.surf.nl/files/index.php/s/M0FGJpX2p8wDwxR/download\"\n",
    "\n",
    "        with open(file_location, \"wb\") as handle:\n",
    "            print(f\"Downloading file from {url} to {file_location}\")\n",
    "            response = requests.get(url, stream=True)\n",
    "            for data in tqdm(response.iter_content()):\n",
    "                handle.write(data)\n",
    "            print(\"Finished downloading file\")\n",
    "    \n",
    "    if not os.path.exists(os.path.join(folder_path, \"train.txt\")):\n",
    "        \n",
    "        # unzip file\n",
    "        with zipfile.ZipFile(file_location, 'r') as zip_ref:\n",
    "            zip_ref.extractall(folder_path)\n",
    "        \n",
    "download_dataset()"
   ]
  },
  {
   "cell_type": "markdown",
   "metadata": {
    "deletable": false,
    "editable": false,
    "nbgrader": {
     "cell_type": "markdown",
     "checksum": "31609b0d61d0c74cbd69bc43e47c23be",
     "grade": false,
     "grade_id": "cell-a7dd9a9bf98ede05",
     "locked": true,
     "schema_version": 3,
     "solution": false,
     "task": false
    }
   },
   "source": [
    "---\n",
    "\n",
    "You can see a brief description of each file in the dataset by looking at the README file:"
   ]
  },
  {
   "cell_type": "code",
   "execution_count": 3,
   "metadata": {
    "deletable": false,
    "editable": false,
    "nbgrader": {
     "cell_type": "code",
     "checksum": "1783f9999c7d06955e8da815de62ba5f",
     "grade": false,
     "grade_id": "cell-9b6ff1a17124711f",
     "locked": true,
     "schema_version": 3,
     "solution": false,
     "task": false
    }
   },
   "outputs": [
    {
     "name": "stdout",
     "output_type": "stream",
     "text": [
      "Files in this directory with sizes:\r\n",
      "          0 Jun 19 21:01 README\r\n",
      "\r\n",
      "    2187734 Jun 19 20:55 cacm.all              text of documents\r\n",
      "        626 Jun 19 20:58 cite.info             key to citation info\r\n",
      "                                                (the X sections in cacm.all)\r\n",
      "       2668 Jun 19 20:55 common_words           stop words used by smart\r\n",
      "       2194 Jun 19 20:55 make_coll*             shell script to make collection\r\n",
      "       1557 Jun 19 20:55 make_coll_term*        ditto (both useless without\r\n",
      "                                                smart system)\r\n",
      "       9948 Jun 19 20:55 qrels.text             relation giving\r\n",
      "                                                    qid did 0 0\r\n",
      "                                                to indicate dument did is\r\n",
      "                                                relevant to query qid\r\n",
      "      13689 Jun 19 20:55 query.text             Original text of the query\r\n"
     ]
    }
   ],
   "source": [
    "##### Read the README file \n",
    "!cat ./datasets/README\n",
    "#####"
   ]
  },
  {
   "cell_type": "markdown",
   "metadata": {
    "deletable": false,
    "editable": false,
    "nbgrader": {
     "cell_type": "markdown",
     "checksum": "d6a5333ae8e7f69d81900e714cc43852",
     "grade": false,
     "grade_id": "cell-73351431869fda76",
     "locked": true,
     "schema_version": 3,
     "solution": false,
     "task": false
    }
   },
   "source": [
    "---\n",
    "We are interested in 4 files:\n",
    "- `cacm.all` : Contains the text for all documents. Note that some documents do not have abstracts available. \n",
    "- `query.text` : The text of all queries\n",
    "- `qrels.text` : The relevance judgements\n",
    "- `common_words` : A list of common words. This may be used as a collection of stopwords"
   ]
  },
  {
   "cell_type": "code",
   "execution_count": 4,
   "metadata": {
    "deletable": false,
    "editable": false,
    "nbgrader": {
     "cell_type": "code",
     "checksum": "c78e4256a08889ce3d0d985ea799b0a9",
     "grade": false,
     "grade_id": "cell-b44dd14079f278ca",
     "locked": true,
     "schema_version": 3,
     "solution": false,
     "task": false
    }
   },
   "outputs": [
    {
     "name": "stdout",
     "output_type": "stream",
     "text": [
      ".I 1\r\n",
      ".T\r\n",
      "Preliminary Report-International Algebraic Language\r\n",
      ".B\r\n",
      "CACM December, 1958\r\n",
      ".A\r\n",
      "Perlis, A. J.\r\n",
      "Samelson,K.\r\n",
      ".N\r\n",
      "CA581203 JB March 22, 1978  8:28 PM\r\n",
      ".X\r\n",
      "100\t5\t1\r\n",
      "123\t5\t1\r\n",
      "164\t5\t1\r\n",
      "1\t5\t1\r\n",
      "1\t5\t1\r\n",
      "1\t5\t1\r\n",
      "205\t5\t1\r\n",
      "210\t5\t1\r\n",
      "214\t5\t1\r\n",
      "1982\t5\t1\r\n",
      "398\t5\t1\r\n",
      "642\t5\t1\r\n",
      "669\t5\t1\r\n",
      "1\t6\t1\r\n",
      "1\t6\t1\r\n",
      "1\t6\t1\r\n",
      "1\t6\t1\r\n",
      "1\t6\t1\r\n",
      "1\t6\t1\r\n",
      "1\t6\t1\r\n",
      "1\t6\t1\r\n",
      "1\t6\t1\r\n",
      "1\t6\t1\r\n",
      "165\t6\t1\r\n",
      "196\t6\t1\r\n",
      "196\t6\t1\r\n",
      "1273\t6\t1\r\n",
      "1883\t6\t1\r\n",
      "324\t6\t1\r\n",
      "43\t6\t1\r\n",
      "53\t6\t1\r\n",
      "91\t6\t1\r\n",
      "410\t6\t1\r\n",
      "3184\t6\t1\r\n"
     ]
    }
   ],
   "source": [
    "##### The first 45 lines of the CACM dataset forms the first record\n",
    "# We are interested only in 3 fields. \n",
    "# 1. the '.I' field, which is the document id\n",
    "# 2. the '.T' field (the title) and\n",
    "# 3. the '.W' field (the abstract, which may be absent)\n",
    "!head -45 ./datasets/cacm.all\n",
    "#####"
   ]
  },
  {
   "cell_type": "markdown",
   "metadata": {
    "deletable": false,
    "editable": false,
    "nbgrader": {
     "cell_type": "markdown",
     "checksum": "aff7cbe5a15a0e3329dc223e3e31abf3",
     "grade": false,
     "grade_id": "cell-c4bf2e263ec553d8",
     "locked": true,
     "schema_version": 3,
     "solution": false,
     "task": false
    }
   },
   "source": [
    "---\n",
    "\n",
    "**Implementation (4 points):**\n",
    "Write a function to read the `cacm.all` file. Note that each document has a variable number of lines. The `.I` field denotes a new document:"
   ]
  },
  {
   "cell_type": "code",
   "execution_count": 5,
   "metadata": {
    "deletable": false,
    "nbgrader": {
     "cell_type": "code",
     "checksum": "45fef5d5b543ee439176d7fd0a9d20be",
     "grade": false,
     "grade_id": "cell-b736116eb419c624",
     "locked": false,
     "schema_version": 3,
     "solution": true,
     "task": false
    }
   },
   "outputs": [],
   "source": [
    "# TODO: Implement this! (4 points)\n",
    "# Complexity: O(n)\n",
    "\n",
    "def read_cacm_docs(root_folder = \"./datasets/\"):\n",
    "    \"\"\"\n",
    "        Reads in the CACM documents. The dataset is assumed to be in the folder \"./datasets/\" by default\n",
    "        Returns: A list of 2-tuples: (doc_id, document), where 'document' is a single string created by \n",
    "            appending the title and abstract (separated by a \"\\n\"). \n",
    "            In case the record doesn't have an abstract, the document is composed only by the title\n",
    "    \"\"\"\n",
    "    # YOUR CODE HERE\n",
    "    \n",
    "    # Path to cacm.all\n",
    "    path = root_folder + \"cacm.all\"\n",
    "    \n",
    "    # Specify lists for output\n",
    "    doc_id = []\n",
    "    doc_title = []\n",
    "    \n",
    "    # Open and split document into tokens\n",
    "    with open(path, 'r') as file:\n",
    "        doclist = file.read().split(\"\\n\")\n",
    "\n",
    "    # Set counter for index tracking\n",
    "    counter = 0\n",
    "    i = 0\n",
    "    \n",
    "    # Loop through doc to get I., T. and W.\n",
    "    while i < len(doclist) - 1:\n",
    "        counter += 1\n",
    "        \n",
    "        # Append document id and title\n",
    "        doc_id.append(int(doclist[i][3:]))\n",
    "        doc_title.append(doclist[i+2])\n",
    "        \n",
    "        i += 3\n",
    "            \n",
    "        while doclist[i] not in [\".B\", \".A\", \".X\"]:\n",
    "            if doclist[i] == '.W':\n",
    "                i += 1\n",
    "                doc_title[counter-1] += \" \\n\"\n",
    "            else:\n",
    "                doc_title[counter-1] += \" \" + doclist[i]\n",
    "                i += 1\n",
    "        \n",
    "        while doclist[i][:2] != \".I\" and i < len(doclist)-1:\n",
    "            i += 1\n",
    "    \n",
    "    return list(zip(doc_id, doc_title))"
   ]
  },
  {
   "cell_type": "code",
   "execution_count": 6,
   "metadata": {
    "deletable": false,
    "editable": false,
    "nbgrader": {
     "cell_type": "code",
     "checksum": "70472b5c277bb7c417de8da24e4e5261",
     "grade": true,
     "grade_id": "cell-a1c43818e0d3fd79",
     "locked": true,
     "points": 4,
     "schema_version": 3,
     "solution": false,
     "task": false
    }
   },
   "outputs": [],
   "source": [
    "##### Function check\n",
    "docs = read_cacm_docs()\n",
    "\n",
    "assert isinstance(docs, list)\n",
    "assert len(docs) == 3204, \"There should be exactly 3024 documents\"\n",
    "##### "
   ]
  },
  {
   "cell_type": "markdown",
   "metadata": {
    "deletable": false,
    "editable": false,
    "nbgrader": {
     "cell_type": "markdown",
     "checksum": "6fd095d2204cce3935444ca37c7c42da",
     "grade": false,
     "grade_id": "cell-5ed2ddc91f73c60e",
     "locked": true,
     "schema_version": 3,
     "solution": false,
     "task": false
    }
   },
   "source": [
    "---\n",
    "### 1.2 Read the CACM queries (3 points)\n",
    "\n",
    "Next, let us read the queries. They are formatted similarly:"
   ]
  },
  {
   "cell_type": "code",
   "execution_count": 7,
   "metadata": {
    "deletable": false,
    "editable": false,
    "nbgrader": {
     "cell_type": "code",
     "checksum": "5d26c0908e758acb9968b84056b1060a",
     "grade": false,
     "grade_id": "cell-5c7e8e7c4fc2757f",
     "locked": true,
     "schema_version": 3,
     "solution": false,
     "task": false
    }
   },
   "outputs": [
    {
     "name": "stdout",
     "output_type": "stream",
     "text": [
      ".I 1\r\n",
      ".W\r\n",
      " What articles exist which deal with TSS (Time Sharing System), an\r\n",
      "operating system for IBM computers?\r\n",
      ".N\r\n",
      " 1. Richard Alexander, Comp Serv, Langmuir Lab (TSS)\r\n",
      " \r\n",
      ".I 2\r\n",
      ".W\r\n",
      " I am interested in articles written either by Prieve or Udo Pooch\r\n",
      ".A\r\n",
      "Prieve, B.\r\n",
      "Pooch, U.\r\n",
      ".N\r\n",
      " 2. Richard Alexander, Comp Serv, Langmuir Lab (author = Pooch or Prieve)\r\n"
     ]
    }
   ],
   "source": [
    "##### The first 15 lines of 'query.text' has 2 queries\n",
    "# We are interested only in 2 fields. \n",
    "# 1. the '.I' - the query id\n",
    "# 2. the '.W' - the query\n",
    "!head -15 ./datasets/query.text\n",
    "#####"
   ]
  },
  {
   "cell_type": "markdown",
   "metadata": {
    "deletable": false,
    "editable": false,
    "nbgrader": {
     "cell_type": "markdown",
     "checksum": "da34d95924026ea55bf0a9b2070ec237",
     "grade": false,
     "grade_id": "cell-88e293507d2dcef6",
     "locked": true,
     "schema_version": 3,
     "solution": false,
     "task": false
    }
   },
   "source": [
    "---\n",
    "\n",
    "**Implementation (3 points):**\n",
    "Write a function to read the `query.text` file:"
   ]
  },
  {
   "cell_type": "code",
   "execution_count": 8,
   "metadata": {
    "deletable": false,
    "nbgrader": {
     "cell_type": "code",
     "checksum": "f98ac81b2ccb44fe3441e202e980c847",
     "grade": false,
     "grade_id": "cell-433e3ad5d0e2572a",
     "locked": false,
     "schema_version": 3,
     "solution": true,
     "task": false
    }
   },
   "outputs": [],
   "source": [
    "# TODO: Implement this! (3 points)\n",
    "\n",
    "def read_queries(root_folder = \"./datasets/\"):\n",
    "    \"\"\"\n",
    "        Reads in the CACM queries. The dataset is assumed to be in the folder \"./datasets/\" by default\n",
    "        Returns: A list of 2-tuples: (query_id, query)\n",
    "    \"\"\"\n",
    "    # YOUR CODE HERE\n",
    "    \n",
    "    # Path to query.text\n",
    "    path = root_folder + \"query.text\"\n",
    "    \n",
    "    # Open and split document into tokens\n",
    "    with open(path, 'r') as file:\n",
    "        queries = file.read().split(\"\\n\")\n",
    "    \n",
    "    # Define lists\n",
    "    query_id = []\n",
    "    query = []\n",
    "    \n",
    "    # Set counter for tracking index tracking\n",
    "    counter = 0\n",
    "    \n",
    "    # Loop through doc to get I. and W.\n",
    "    for i in range(len(queries)):\n",
    "        if queries[i][0:2] == \".I\":\n",
    "            counter += 1\n",
    "            query_id.append(int(queries[i][3:]))\n",
    "        if  queries[i] == '.W':\n",
    "            query.append(\" \" + queries[i+1][1:])\n",
    "            j = i+2\n",
    "            while queries[j] not in [\".N\", \".A\"]:\n",
    "                query[counter-1] = query[counter-1] + \" \" + queries[j]\n",
    "                j += 1\n",
    "               \n",
    "    \n",
    "    return list(zip(query_id, query))"
   ]
  },
  {
   "cell_type": "code",
   "execution_count": 9,
   "metadata": {
    "deletable": false,
    "editable": false,
    "nbgrader": {
     "cell_type": "code",
     "checksum": "c0e7a9868bd4b92692c33732af640b8b",
     "grade": true,
     "grade_id": "cell-6ec540abce66c598",
     "locked": true,
     "points": 3,
     "schema_version": 3,
     "solution": false,
     "task": false
    }
   },
   "outputs": [],
   "source": [
    "##### Function check\n",
    "queries = read_queries()\n",
    "\n",
    "assert isinstance(queries, list)\n",
    "assert len(queries) == 64 and all([q[1] is not None for q in queries]), \"There should be exactly 64 queries\"\n",
    "##### "
   ]
  },
  {
   "cell_type": "markdown",
   "metadata": {
    "deletable": false,
    "editable": false,
    "nbgrader": {
     "cell_type": "markdown",
     "checksum": "652f9159caea63888e06b54103bd7f32",
     "grade": false,
     "grade_id": "cell-1c31569491d7b782",
     "locked": true,
     "schema_version": 3,
     "solution": false,
     "task": false
    }
   },
   "source": [
    "---\n",
    "### 1.3 Read the stop words (1 point)\n",
    "\n",
    "We use the common words stored in `common_words`:"
   ]
  },
  {
   "cell_type": "code",
   "execution_count": 10,
   "metadata": {
    "deletable": false,
    "editable": false,
    "nbgrader": {
     "cell_type": "code",
     "checksum": "1ad6f5bae6a792504c1c8513ae5751ad",
     "grade": false,
     "grade_id": "cell-34bdb63461418a96",
     "locked": true,
     "schema_version": 3,
     "solution": false,
     "task": false
    }
   },
   "outputs": [
    {
     "name": "stdout",
     "output_type": "stream",
     "text": [
      "a\r\n",
      "about\r\n",
      "above\r\n",
      "accordingly\r\n",
      "across\r\n",
      "after\r\n",
      "afterwards\r\n",
      "again\r\n",
      "against\r\n",
      "all\r\n"
     ]
    }
   ],
   "source": [
    "##### Read the stop words file \n",
    "!head ./datasets/common_words\n",
    "##### Read the README file "
   ]
  },
  {
   "cell_type": "markdown",
   "metadata": {
    "deletable": false,
    "editable": false,
    "nbgrader": {
     "cell_type": "markdown",
     "checksum": "f720edbacd79170351156a443e0018ff",
     "grade": false,
     "grade_id": "cell-4744bde0338895d8",
     "locked": true,
     "schema_version": 3,
     "solution": false,
     "task": false
    }
   },
   "source": [
    "---\n",
    "**Implementation (1 point):**\n",
    "Write a function to read the `common_words` file (For better coverage, try to keep them in lowercase):"
   ]
  },
  {
   "cell_type": "code",
   "execution_count": 11,
   "metadata": {
    "deletable": false,
    "nbgrader": {
     "cell_type": "code",
     "checksum": "e6a9e9bb3ad0f8dc2ec3c497a3149092",
     "grade": false,
     "grade_id": "cell-7357aa40f64e5bcb",
     "locked": false,
     "schema_version": 3,
     "solution": true,
     "task": false
    }
   },
   "outputs": [],
   "source": [
    "# TODO: Implement this! (1 point)\n",
    "def load_stopwords(root_folder = \"./datasets/\"):\n",
    "    \"\"\"\n",
    "        Loads the stopwords. The dataset is assumed to be in the folder \"./datasets/\" by default\n",
    "        Output: A set of stopwords\n",
    "    \"\"\"\n",
    "    \n",
    "    # YOUR CODE HERE\n",
    "    \n",
    "    path = root_folder + \"common_words\"\n",
    "    \n",
    "    # Open and split document into tokens\n",
    "    with open(path, 'r') as file:\n",
    "        stopwords = file.read().lower().split('\\n')[:-1]\n",
    "    \n",
    "    \n",
    "    return set(stopwords)"
   ]
  },
  {
   "cell_type": "code",
   "execution_count": 12,
   "metadata": {
    "deletable": false,
    "editable": false,
    "nbgrader": {
     "cell_type": "code",
     "checksum": "9211b9735b828d89d1a51d8743c448b4",
     "grade": true,
     "grade_id": "cell-2ca3ac162004de97",
     "locked": true,
     "points": 1,
     "schema_version": 3,
     "solution": false,
     "task": false
    }
   },
   "outputs": [],
   "source": [
    "##### Function check\n",
    "stopwords = load_stopwords()\n",
    "\n",
    "assert isinstance(stopwords, set)\n",
    "assert len(stopwords) == 428, \"There should be exactly 428 stop words\"\n",
    "##### "
   ]
  },
  {
   "cell_type": "markdown",
   "metadata": {
    "deletable": false,
    "editable": false,
    "nbgrader": {
     "cell_type": "markdown",
     "checksum": "fc7e419f35dfd3f507d8a7555ce2cde9",
     "grade": false,
     "grade_id": "cell-134b72872f4300cb",
     "locked": true,
     "schema_version": 3,
     "solution": false,
     "task": false
    }
   },
   "source": [
    "---\n",
    "### 1.4 Tokenization (4 points)\n",
    "\n",
    "We can now write some basic text processing functions. \n",
    "A first step is to tokenize the text. \n",
    "\n",
    "**Note**: Use the  `WordPunctTokenizer` available in the `nltk` library:"
   ]
  },
  {
   "cell_type": "code",
   "execution_count": 13,
   "metadata": {
    "deletable": false,
    "nbgrader": {
     "cell_type": "code",
     "checksum": "3f5564d3c75bf22fbf832b3a9b938f37",
     "grade": false,
     "grade_id": "cell-322be4c9499bdc4b",
     "locked": false,
     "schema_version": 3,
     "solution": true,
     "task": false
    }
   },
   "outputs": [],
   "source": [
    "# TODO: Implement this! (4 points)\n",
    "def tokenize(text):\n",
    "    \"\"\"\n",
    "        Tokenizes the input text. Use the WordPunctTokenizer\n",
    "        Input: text - a string\n",
    "        Output: a list of tokens\n",
    "    \"\"\"\n",
    "    # YOUR CODE HERE\n",
    "    \n",
    "    return nltk.WordPunctTokenizer().tokenize(text) "
   ]
  },
  {
   "cell_type": "code",
   "execution_count": 14,
   "metadata": {
    "deletable": false,
    "editable": false,
    "nbgrader": {
     "cell_type": "code",
     "checksum": "f60b93aa03bf9eced64940252eb33fe3",
     "grade": true,
     "grade_id": "cell-7fbf48bf7541a622",
     "locked": true,
     "points": 4,
     "schema_version": 3,
     "solution": false,
     "task": false
    }
   },
   "outputs": [
    {
     "name": "stdout",
     "output_type": "stream",
     "text": [
      "['the', 'quick', 'brown', 'fox', 'jumps', 'over', 'the', 'lazy', 'dog']\n"
     ]
    }
   ],
   "source": [
    "##### Function check\n",
    "text = \"the quick brown fox jumps over the lazy dog\"\n",
    "tokens = tokenize(text)\n",
    "\n",
    "assert isinstance(tokens, list)\n",
    "assert len(tokens) == 9\n",
    "\n",
    "print(tokens)\n",
    "# output: ['the', 'quick', 'brown', 'fox', 'jumps', 'over', 'the', 'lazy', 'dog']\n",
    "#####"
   ]
  },
  {
   "cell_type": "markdown",
   "metadata": {
    "deletable": false,
    "editable": false,
    "nbgrader": {
     "cell_type": "markdown",
     "checksum": "1b1cc868db22735e5e193bc64ff67877",
     "grade": false,
     "grade_id": "cell-fd1b98ae61b697ca",
     "locked": true,
     "schema_version": 3,
     "solution": false,
     "task": false
    }
   },
   "source": [
    "---\n",
    "### 1.5 Stemming (3 points)\n",
    "\n",
    "Write a function to stem tokens. \n",
    "Again, you can use the nltk library for this:"
   ]
  },
  {
   "cell_type": "code",
   "execution_count": 15,
   "metadata": {
    "deletable": false,
    "nbgrader": {
     "cell_type": "code",
     "checksum": "1c4a6aa979d66158c7b6b992af43293a",
     "grade": false,
     "grade_id": "cell-e3f6c8e3f874b28d",
     "locked": false,
     "schema_version": 3,
     "solution": true,
     "task": false
    }
   },
   "outputs": [],
   "source": [
    "# TODO: Implement this! (3 points)\n",
    "def stem_token(token):\n",
    "    \"\"\"\n",
    "        Stems the given token using the PorterStemmer from the nltk library\n",
    "        Input: a single token\n",
    "        Output: the stem of the token\n",
    "    \"\"\"\n",
    "    # YOUR CODE HERE\n",
    "    \n",
    "    return nltk.PorterStemmer().stem(token)"
   ]
  },
  {
   "cell_type": "code",
   "execution_count": 16,
   "metadata": {
    "deletable": false,
    "editable": false,
    "nbgrader": {
     "cell_type": "code",
     "checksum": "cd2611a46e7c2e92af438d7166cf2616",
     "grade": true,
     "grade_id": "cell-cd6863e6ee6ed205",
     "locked": true,
     "points": 3,
     "schema_version": 3,
     "solution": false,
     "task": false
    }
   },
   "outputs": [],
   "source": [
    "##### Function check\n",
    "\n",
    "assert stem_token('owned') == 'own'\n",
    "assert stem_token('itemization') == 'item'\n",
    "#####"
   ]
  },
  {
   "cell_type": "markdown",
   "metadata": {
    "deletable": false,
    "editable": false,
    "nbgrader": {
     "cell_type": "markdown",
     "checksum": "5fcc93f08a6abcaffd5bd9475e4768e5",
     "grade": false,
     "grade_id": "cell-47c9f90498699110",
     "locked": true,
     "schema_version": 3,
     "solution": false,
     "task": false
    }
   },
   "source": [
    "---\n",
    "### 1.6 Summary\n",
    "\n",
    "The following function puts it all together. Given a string, it tokenizes it and processes it according to the flags that you set."
   ]
  },
  {
   "cell_type": "code",
   "execution_count": 17,
   "metadata": {
    "deletable": false,
    "editable": false,
    "nbgrader": {
     "cell_type": "code",
     "checksum": "2ff2d215ee8e0039c5a91fd3de12e6bd",
     "grade": false,
     "grade_id": "cell-dd0d3f46b30801da",
     "locked": true,
     "schema_version": 3,
     "solution": false,
     "task": false
    }
   },
   "outputs": [],
   "source": [
    "#### Putting it all together\n",
    "def process_text(text, stem=False, remove_stopwords=False, lowercase_text=False):\n",
    "    \n",
    "    tokens = []\n",
    "    for token in tokenize(text):\n",
    "        if remove_stopwords and token.lower() in stopwords:\n",
    "            continue\n",
    "        if stem:\n",
    "            token = stem_token(token)\n",
    "        if lowercase_text:\n",
    "            token = token.lower()\n",
    "        tokens.append(token)\n",
    "\n",
    "    return tokens\n",
    "#### "
   ]
  },
  {
   "cell_type": "markdown",
   "metadata": {
    "deletable": false,
    "editable": false,
    "nbgrader": {
     "cell_type": "markdown",
     "checksum": "02d433b18eb43654fa4306a7bf55b190",
     "grade": false,
     "grade_id": "cell-8d885bfd2edd43ae",
     "locked": true,
     "schema_version": 3,
     "solution": false,
     "task": false
    }
   },
   "source": [
    "---\n",
    "\n",
    "Let's create two sets of preprocessed documents.\n",
    "We can process the documents and queries according to these two configurations:"
   ]
  },
  {
   "cell_type": "code",
   "execution_count": 18,
   "metadata": {
    "deletable": false,
    "editable": false,
    "nbgrader": {
     "cell_type": "code",
     "checksum": "dbe4ca667be6842fdcf512fbcad50c7f",
     "grade": false,
     "grade_id": "cell-d427365ee0fb21d8",
     "locked": true,
     "schema_version": 3,
     "solution": false,
     "task": false
    }
   },
   "outputs": [],
   "source": [
    "# In this configuration:\n",
    "# Don't preprocess the text, except to tokenize \n",
    "config_1 = {\n",
    "  \"stem\": False,\n",
    "  \"remove_stopwords\" : False,\n",
    "  \"lowercase_text\": True\n",
    "} \n",
    "\n",
    "\n",
    "# In this configuration:\n",
    "# Preprocess the text, stem and remove stopwords\n",
    "config_2 = {\n",
    "  \"stem\": True,\n",
    "  \"remove_stopwords\" : True,\n",
    "  \"lowercase_text\": True, \n",
    "} \n",
    "\n",
    "####\n",
    "doc_repr_1 = []\n",
    "doc_repr_2 = []\n",
    "for (doc_id, document) in docs:\n",
    "    doc_repr_1.append((doc_id, process_text(document, **config_1)))\n",
    "    doc_repr_2.append((doc_id, process_text(document, **config_2)))\n",
    "\n",
    "####"
   ]
  },
  {
   "cell_type": "markdown",
   "metadata": {
    "deletable": false,
    "editable": false,
    "nbgrader": {
     "cell_type": "markdown",
     "checksum": "b60589aac19e80941d860d9b3f1e9a16",
     "grade": false,
     "grade_id": "cell-b1c102db61ae7495",
     "locked": true,
     "schema_version": 3,
     "solution": false,
     "task": false
    }
   },
   "source": [
    "--- \n",
    "\n",
    "## Section 2: Indexing (10 points)<a class=\"anchor\" id=\"indexing\"></a>\n",
    "\n",
    "[Back to Part 1](#part1)\n",
    "\n",
    "\n",
    "\n",
    "A retrieval function usually takes in a query document pair, and scores a query against a document.  Our document set is quite small - just a few thousand documents. However, consider a web-scale dataset with a few million documents. In such a scenario, it would become infeasible to score every query and document pair. In such a case, we can build an inverted index. From Wikipedia:\n",
    "\n",
    "> ... , an inverted index (also referred to as a postings file or inverted file) is a database index storing a mapping from content, such as words or numbers, to its locations in a table, .... The purpose of an inverted index is to allow fast full-text searches, at a cost of increased processing when a document is added to the database. ...\n",
    "\n",
    "\n",
    "Consider a simple inverted index, which maps from word to document. This can improve the performance of a retrieval system significantly. In this assignment, we consider a *simple* inverted index, which maps a word to a set of documents. In practice, however, more complex indices might be used.  \n"
   ]
  },
  {
   "cell_type": "markdown",
   "metadata": {
    "deletable": false,
    "editable": false,
    "nbgrader": {
     "cell_type": "markdown",
     "checksum": "710fd943f45523ac36fcb887cc0d4d39",
     "grade": false,
     "grade_id": "cell-fa373192c1b7bb95",
     "locked": true,
     "schema_version": 3,
     "solution": false,
     "task": false
    }
   },
   "source": [
    "### 2.1 Term Frequency-index (10 points)\n",
    "In this assignment, we will be using an index created in memory since our dataset is tiny. To get started, build a simple index that maps each `token` to a list of `(doc_id, count)` where `count` is the count of the `token` in `doc_id`.\n",
    "For consistency, build this index using a python dictionary.\n",
    "    \n",
    "Now, implement a function to build an index:"
   ]
  },
  {
   "cell_type": "code",
   "execution_count": 19,
   "metadata": {
    "deletable": false,
    "nbgrader": {
     "cell_type": "code",
     "checksum": "c281c45196493b87e45e1b3fb4ddd6c9",
     "grade": false,
     "grade_id": "cell-077599b87e953209",
     "locked": false,
     "schema_version": 3,
     "solution": true,
     "task": false
    }
   },
   "outputs": [],
   "source": [
    "# TODO: Implement this! (10 points)\n",
    "def build_tf_index(documents):\n",
    "    \"\"\"\n",
    "        Build an inverted index (with counts). The output is a dictionary which takes in a token\n",
    "        and returns a list of (doc_id, count) where 'count' is the count of the 'token' in 'doc_id'\n",
    "        Input: a list of documents - (doc_id, tokens) \n",
    "        Output: An inverted index. [token] -> [(doc_id, token_count)]\n",
    "    \"\"\"\n",
    "    inv_index = {}\n",
    "\n",
    "    for document in documents:\n",
    "        \n",
    "        # Create dict to store token info for this document\n",
    "        hashtable = {}\n",
    "        doc_id = document[0]\n",
    "        \n",
    "        # Go through all tokens and count them\n",
    "        for token in document[1]:\n",
    "            \n",
    "            # Initialize or increase count\n",
    "            if token not in hashtable:\n",
    "                hashtable[token] = 0\n",
    "            hashtable[token] += 1\n",
    "            \n",
    "        # Go through tokens and append their count to the index\n",
    "        for token, count in hashtable.items():\n",
    "            if token not in inv_index:\n",
    "                inv_index[token] = []\n",
    "            inv_index[token].append((doc_id, count))\n",
    "    return inv_index"
   ]
  },
  {
   "cell_type": "markdown",
   "metadata": {
    "deletable": false,
    "editable": false,
    "nbgrader": {
     "cell_type": "markdown",
     "checksum": "15e7041b4323d2a290322de538ff7670",
     "grade": false,
     "grade_id": "cell-093aebfa504f96f2",
     "locked": true,
     "schema_version": 3,
     "solution": false,
     "task": false
    }
   },
   "source": [
    "---\n",
    "Now we can build indexed documents and preprocess the queries based on the two configurations:"
   ]
  },
  {
   "cell_type": "code",
   "execution_count": 20,
   "metadata": {
    "deletable": false,
    "editable": false,
    "nbgrader": {
     "cell_type": "code",
     "checksum": "e27540c1d8d77a3779a05f557f3f40c6",
     "grade": false,
     "grade_id": "cell-b2ff1676348b90a8",
     "locked": true,
     "schema_version": 3,
     "solution": false,
     "task": false
    }
   },
   "outputs": [],
   "source": [
    "#### Indexed documents based on the two configs\n",
    "\n",
    "# Create the 2 indices\n",
    "tf_index_1 = build_tf_index(doc_repr_1)\n",
    "tf_index_2 = build_tf_index(doc_repr_2)\n",
    "\n",
    "# This function returns the tf_index of the corresponding config\n",
    "def get_index(index_set):\n",
    "    assert index_set in {1, 2}\n",
    "    return {\n",
    "        1: tf_index_1,\n",
    "        2: tf_index_2\n",
    "    }[index_set]\n",
    "\n",
    "####\n",
    "#### Preprocessed query based on the two configs\n",
    "\n",
    "# This function preprocesses the text given the index set, according to the specified config\n",
    "def preprocess_query(text, index_set):\n",
    "    assert index_set in {1, 2}\n",
    "    if index_set == 1:\n",
    "        return process_text(text, **config_1)\n",
    "    elif index_set == 2:\n",
    "        return process_text(text, **config_2)\n",
    "\n",
    "#### "
   ]
  },
  {
   "cell_type": "code",
   "execution_count": 21,
   "metadata": {
    "deletable": false,
    "editable": false,
    "nbgrader": {
     "cell_type": "code",
     "checksum": "2c50e4b4c68261ff1184277bcf3c38d8",
     "grade": true,
     "grade_id": "cell-fc7c7232d5d2ee46",
     "locked": true,
     "points": 5,
     "schema_version": 3,
     "solution": false,
     "task": false
    }
   },
   "outputs": [
    {
     "name": "stdout",
     "output_type": "stream",
     "text": [
      "[(4, 1), (7, 1), (10, 1), (13, 1), (19, 1), (22, 1), (23, 1), (37, 1), (40, 3), (41, 1)]\n"
     ]
    }
   ],
   "source": [
    "##### Function check\n",
    "\n",
    "print(tf_index_1['computer'][:10])\n",
    "#### "
   ]
  },
  {
   "cell_type": "code",
   "execution_count": 22,
   "metadata": {
    "deletable": false,
    "editable": false,
    "nbgrader": {
     "cell_type": "code",
     "checksum": "02de27463e2a393f46278d6fe3160481",
     "grade": true,
     "grade_id": "cell-ff06bd11204db250",
     "locked": true,
     "points": 5,
     "schema_version": 3,
     "solution": false,
     "task": false
    }
   },
   "outputs": [
    {
     "name": "stdout",
     "output_type": "stream",
     "text": [
      "[(670, 1), (675, 1), (1621, 3), (1681, 1), (2145, 1), (2339, 1), (2572, 1), (2583, 1), (2739, 1), (3012, 1)]\n"
     ]
    }
   ],
   "source": [
    "##### Function check\n",
    "\n",
    "print(tf_index_2['computer'][:10])\n",
    "#### "
   ]
  },
  {
   "cell_type": "markdown",
   "metadata": {
    "deletable": false,
    "editable": false,
    "nbgrader": {
     "cell_type": "markdown",
     "checksum": "982112dca3f9a75e871bea74fe1adab4",
     "grade": false,
     "grade_id": "cell-89eba71f04310291",
     "locked": true,
     "schema_version": 3,
     "solution": false,
     "task": false
    }
   },
   "source": [
    "\n",
    "---\n",
    "## Section 3: Ranking  (80 points) <a class=\"anchor\" id=\"ranking\"></a>\n",
    "\n",
    "[Back to Part 1](#part1)\n",
    "\n",
    "Now that we have cleaned and processed our dataset, we can start building simple IR systems. \n",
    "\n",
    "For now, we consider *simple* IR systems, which involve computing scores from the tokens present in the document/query. More advanced methods are covered in later assignments.\n",
    "\n",
    "We will implement the following methods in this section:\n",
    "- [Section 3.1: Bag of Words](#bow) (10 points)\n",
    "- [Section 3.2: TF-IDF](#tfidf) (15 points)\n",
    "- [Section 3.3: Query Likelihood Model](#qlm) (35 points)\n",
    "- [Section 3.4: BM25](#bm25) (20 points)\n",
    "\n",
    "**Scoring policy:**\n",
    "Your implementations in this section are scored based on the expected performance of your ranking functions.\n",
    "You will get a full mark if your implementation meets the expected performance (measured by some evaluation metric).\n",
    "Otherwise, you may get partial credit.\n",
    "For example, if your *Bag of words* ranking function has 60% of expected performance, you will get 4 out of 10."
   ]
  },
  {
   "cell_type": "markdown",
   "metadata": {
    "deletable": false,
    "editable": false,
    "nbgrader": {
     "cell_type": "markdown",
     "checksum": "97c13d2e2cad60df4a70dcb61ea7c30e",
     "grade": false,
     "grade_id": "cell-3daf70a60e393adf",
     "locked": true,
     "schema_version": 3,
     "solution": false,
     "task": false
    }
   },
   "source": [
    "--- \n",
    "\n",
    "### Section 3.1: Bag of Words (10 points)<a class=\"anchor\" id=\"bow\"></a>\n",
    "\n",
    "Probably the simplest IR model is the Bag of Words (BOW) model.\n",
    "Implement a function that scores and ranks all the documents against a query using this model.   \n",
    "\n",
    "Note that you can use either the count of the token or 'binarize' it i.e set the value equal to 1 if the token appears.   \n"
   ]
  },
  {
   "cell_type": "code",
   "execution_count": 23,
   "metadata": {
    "deletable": false,
    "nbgrader": {
     "cell_type": "code",
     "checksum": "1178c8a8908b0e4dc07add7aa49b7fde",
     "grade": false,
     "grade_id": "cell-de9cf0459c4b9324",
     "locked": false,
     "schema_version": 3,
     "solution": true,
     "task": false
    }
   },
   "outputs": [],
   "source": [
    "## TODO Implement this\n",
    "\n",
    "from collections import defaultdict\n",
    "\n",
    "def bow_search(query, index_set):\n",
    "    \"\"\"\n",
    "        Perform a search over all documents with the given query. \n",
    "        Note: You have to use the `get_index` function created in the previous cells\n",
    "        Input: \n",
    "            query - a (unprocessed) query\n",
    "            index_set - the index to use\n",
    "        Output: a list of (document_id, score), sorted in descending relevance to the given query \n",
    "    \"\"\"\n",
    "    index = get_index(index_set)\n",
    "    processed_query = preprocess_query(query, index_set)\n",
    "    \n",
    "    # YOUR CODE HERE\n",
    "    scores = defaultdict(lambda : 0)\n",
    "    \n",
    "    for q in processed_query:\n",
    "        if q not in index.keys():\n",
    "            continue\n",
    "        for doc, count in index[q]:\n",
    "            scores[doc] += count\n",
    "            \n",
    "    return [(d, float(s)) for d, s in sorted(scores.items(), key=lambda t: t[1], reverse=True)]"
   ]
  },
  {
   "cell_type": "code",
   "execution_count": 24,
   "metadata": {
    "deletable": false,
    "editable": false,
    "nbgrader": {
     "cell_type": "code",
     "checksum": "644d6d33cf5075c6d9878d4fe24c6213",
     "grade": true,
     "grade_id": "cell-9f6aceae6dd9125f",
     "locked": true,
     "points": 2,
     "schema_version": 3,
     "solution": false,
     "task": false
    }
   },
   "outputs": [
    {
     "name": "stdout",
     "output_type": "stream",
     "text": [
      "BOW Results:\n",
      "Rank 0(6.0): An Information Algebra - Phase I Report-Language S...\n",
      "Rank 1(6.0): Rejuvenating Experimental Computer Science \\n This...\n",
      "Rank 2(3.0): ALGOL 60 Confidential \\n The ALGOL 60 Report,* whe...\n",
      "Rank 3(2.0): Automatic Abstracting and Indexing Survey and Reco...\n",
      "Rank 4(2.0): A String Language for Symbol Manipulation Based on...\n"
     ]
    }
   ],
   "source": [
    "#### Function check\n",
    "\n",
    "docs_by_id = dict(docs)\n",
    "def print_results(docs, len_limit=50):    \n",
    "    for i, (doc_id, score) in enumerate(docs):\n",
    "        doc_content = docs_by_id[doc_id].strip().replace(\"\\n\", \"\\\\n\")[:len_limit] + \"...\"\n",
    "        print(f\"Rank {i}({score:.2}): {doc_content}\")\n",
    "\n",
    "test_bow = bow_search(\"report\", index_set=1)[:5]\n",
    "print(f\"BOW Results:\")\n",
    "print_results(test_bow)\n",
    "#### "
   ]
  },
  {
   "cell_type": "code",
   "execution_count": 25,
   "metadata": {
    "deletable": false,
    "editable": false,
    "nbgrader": {
     "cell_type": "code",
     "checksum": "8d54c91b913d7a54b25f3358c969fa45",
     "grade": true,
     "grade_id": "cell-4eed3abf233d9b58",
     "locked": true,
     "points": 2,
     "schema_version": 3,
     "solution": false,
     "task": false
    }
   },
   "outputs": [],
   "source": [
    "#### Please do not change this. This cell is used for grading."
   ]
  },
  {
   "cell_type": "code",
   "execution_count": 26,
   "metadata": {
    "deletable": false,
    "editable": false,
    "nbgrader": {
     "cell_type": "code",
     "checksum": "58bcc16d36dc079b7f41f9572423c62b",
     "grade": true,
     "grade_id": "cell-4d65a2d7090c466c",
     "locked": true,
     "points": 3,
     "schema_version": 3,
     "solution": false,
     "task": false
    }
   },
   "outputs": [],
   "source": [
    "#### Please do not change this. This cell is used for grading."
   ]
  },
  {
   "cell_type": "code",
   "execution_count": 27,
   "metadata": {
    "deletable": false,
    "editable": false,
    "nbgrader": {
     "cell_type": "code",
     "checksum": "65e4561970c4eba3e5ce43b142f858af",
     "grade": true,
     "grade_id": "cell-dedf36ab5853ce20",
     "locked": true,
     "points": 3,
     "schema_version": 3,
     "solution": false,
     "task": false
    }
   },
   "outputs": [],
   "source": [
    "#### Please do not change this. This cell is used for grading."
   ]
  },
  {
   "cell_type": "markdown",
   "metadata": {
    "deletable": false,
    "editable": false,
    "nbgrader": {
     "cell_type": "markdown",
     "checksum": "a5c2318004c5ce534b67c7a36bbc7c31",
     "grade": false,
     "grade_id": "cell-a5c09c79ac1f2871",
     "locked": true,
     "schema_version": 3,
     "solution": false,
     "task": false
    }
   },
   "source": [
    "\n",
    "---\n",
    "\n",
    "### Section 3.2: TF-IDF (15 points) <a class=\"anchor\" id=\"tfidf\"></a>\n",
    "\n",
    "Before we implement the tf-idf scoring functions, let's first write a function to compute the document frequencies of all words.  \n",
    "\n",
    "#### 3.2.1 Document frequency (5 points)\n",
    "Compute the document frequencies of all tokens in the collection.  "
   ]
  },
  {
   "cell_type": "code",
   "execution_count": 28,
   "metadata": {
    "deletable": false,
    "nbgrader": {
     "cell_type": "code",
     "checksum": "11cdde77378ded394d7922fe36bbc5d1",
     "grade": false,
     "grade_id": "cell-9a2369f32e864b8a",
     "locked": false,
     "schema_version": 3,
     "solution": true,
     "task": false
    }
   },
   "outputs": [],
   "source": [
    "# TODO: Implement this! (5 points)\n",
    "\n",
    "def compute_df(documents):\n",
    "    \n",
    "    \"\"\"\n",
    "        Compute the document frequency of all terms in the vocabulary\n",
    "        Input: A list of documents\n",
    "        Output: A dictionary with {token: document frequency)\n",
    "    \"\"\"\n",
    "    # YOUR CODE HERE\n",
    "    \n",
    "    df = defaultdict(lambda: 0)\n",
    "    \n",
    "    for document in documents:\n",
    "        for token in set(document):\n",
    "                df[token] += 1\n",
    "    \n",
    "    return df"
   ]
  },
  {
   "cell_type": "code",
   "execution_count": 29,
   "metadata": {
    "deletable": false,
    "editable": false,
    "nbgrader": {
     "cell_type": "code",
     "checksum": "154985511d7925c5793a1f97dea81880",
     "grade": false,
     "grade_id": "cell-4c3bddd0b73ac90e",
     "locked": true,
     "schema_version": 3,
     "solution": false,
     "task": false
    }
   },
   "outputs": [],
   "source": [
    "#### Compute df based on the two configs\n",
    "\n",
    "# get the document frequencies of each document\n",
    "df_1 = compute_df([d[1] for d in doc_repr_1])\n",
    "df_2 = compute_df([d[1] for d in doc_repr_2])\n",
    "\n",
    "def get_df(index_set):\n",
    "    assert index_set in {1, 2}\n",
    "    return {\n",
    "        1: df_1,\n",
    "        2: df_2\n",
    "    }[index_set]\n",
    "####"
   ]
  },
  {
   "cell_type": "code",
   "execution_count": 30,
   "metadata": {
    "deletable": false,
    "editable": false,
    "nbgrader": {
     "cell_type": "code",
     "checksum": "110cc180068cf3f77c682ee3de2a117c",
     "grade": true,
     "grade_id": "cell-79e8a6db1e5fc46f",
     "locked": true,
     "points": 5,
     "schema_version": 3,
     "solution": false,
     "task": false
    }
   },
   "outputs": [
    {
     "name": "stdout",
     "output_type": "stream",
     "text": [
      "597\n",
      "11\n"
     ]
    }
   ],
   "source": [
    "#### Function check\n",
    "\n",
    "print(df_1['computer'])\n",
    "print(df_2['computer'])\n",
    "####"
   ]
  },
  {
   "cell_type": "markdown",
   "metadata": {
    "deletable": false,
    "editable": false,
    "nbgrader": {
     "cell_type": "markdown",
     "checksum": "6646996a2d016ef86e7cedd2f79a29d1",
     "grade": false,
     "grade_id": "cell-52f6acc487e1b96d",
     "locked": true,
     "schema_version": 3,
     "solution": false,
     "task": false
    }
   },
   "source": [
    "---\n",
    "#### 3.2.2 TF-IDF search (10 points)\n",
    "Next, implement a function that computes a tf-idf score given a query.      "
   ]
  },
  {
   "cell_type": "code",
   "execution_count": 31,
   "metadata": {
    "deletable": false,
    "nbgrader": {
     "cell_type": "code",
     "checksum": "b33c859693d1b383bcb53acea340027f",
     "grade": false,
     "grade_id": "cell-2fb5ba34b2994cd9",
     "locked": false,
     "schema_version": 3,
     "solution": true,
     "task": false
    }
   },
   "outputs": [],
   "source": [
    "# TODO: Implement this! (10 points)\n",
    "\n",
    "def tfidf_search(query, index_set):\n",
    "    \n",
    "    \"\"\"\n",
    "        Perform a search over all documents with the given query using tf-idf. \n",
    "        Note #1: You have to use the `get_index` (and the `get_df`) function created in the previous cells\n",
    "        Input: \n",
    "            query - a (unprocessed) query\n",
    "            index_set - the index to use\n",
    "        Output: a list of (document_id, score), sorted in descending relevance to the given query \n",
    "    \"\"\"\n",
    "    \n",
    "    index = get_index(index_set)\n",
    "    df = get_df(index_set)\n",
    "    processed_query = preprocess_query(query, index_set)\n",
    "    \n",
    "    # YOUR CODE HERE\n",
    "    \n",
    "    # Make a set of all involved documents\n",
    "    documents = set([z[0] for z in [y for x in index.values() for y in x]])\n",
    "    \n",
    "    # Make dict of all involved documents, assign score to 0\n",
    "    tf = defaultdict(lambda: 0)\n",
    "    \n",
    "    # Create new dict with Inverse document frequency\n",
    "    idf = {n: np.log(len(documents)/df[n]) for n in df.keys()}\n",
    "    \n",
    "    # Multiply tf * idf and sum to calculate score\n",
    "    for token in processed_query:\n",
    "        if token not in index.keys():\n",
    "            continue\n",
    "        for doc, count in index[token]:\n",
    "            tf[doc] += count*idf[token]\n",
    "    \n",
    "    # Sort and return list\n",
    "    return sorted(tf.items(), key=lambda x:x[1], reverse=True)"
   ]
  },
  {
   "cell_type": "code",
   "execution_count": 32,
   "metadata": {
    "deletable": false,
    "editable": false,
    "nbgrader": {
     "cell_type": "code",
     "checksum": "10b9fd39f3c9a9f3ca274c020ad79323",
     "grade": true,
     "grade_id": "cell-bc68aeeacf42beb3",
     "locked": true,
     "points": 2,
     "schema_version": 3,
     "solution": false,
     "task": false
    }
   },
   "outputs": [
    {
     "name": "stdout",
     "output_type": "stream",
     "text": [
      "TFIDF Results:\n",
      "Rank 0(2.3e+01): An Information Algebra - Phase I Report-Language S...\n",
      "Rank 1(2.3e+01): Rejuvenating Experimental Computer Science \\n This...\n",
      "Rank 2(1.2e+01): ALGOL 60 Confidential \\n The ALGOL 60 Report,* whe...\n",
      "Rank 3(7.8): Automatic Abstracting and Indexing Survey and Reco...\n",
      "Rank 4(7.8): A String Language for Symbol Manipulation Based on...\n"
     ]
    }
   ],
   "source": [
    "#### Function check\n",
    "test_tfidf = tfidf_search(\"report\", index_set=1)[:5]\n",
    "print(f\"TFIDF Results:\")\n",
    "print_results(test_tfidf)\n",
    "####"
   ]
  },
  {
   "cell_type": "code",
   "execution_count": 33,
   "metadata": {
    "deletable": false,
    "editable": false,
    "nbgrader": {
     "cell_type": "code",
     "checksum": "03441f97df9db4996d0f260fcc974e9d",
     "grade": true,
     "grade_id": "cell-c7702fa8179fadb9",
     "locked": true,
     "points": 2,
     "schema_version": 3,
     "solution": false,
     "task": false
    }
   },
   "outputs": [],
   "source": [
    "#### Please do not change this. This cell is used for grading."
   ]
  },
  {
   "cell_type": "code",
   "execution_count": 34,
   "metadata": {
    "deletable": false,
    "editable": false,
    "nbgrader": {
     "cell_type": "code",
     "checksum": "7272cfcbb457a74d23bfec1f85d22d5f",
     "grade": true,
     "grade_id": "cell-3284f50ac29abbaa",
     "locked": true,
     "points": 3,
     "schema_version": 3,
     "solution": false,
     "task": false
    }
   },
   "outputs": [],
   "source": [
    "#### Please do not change this. This cell is used for grading."
   ]
  },
  {
   "cell_type": "code",
   "execution_count": 35,
   "metadata": {
    "deletable": false,
    "editable": false,
    "nbgrader": {
     "cell_type": "code",
     "checksum": "fcbcc867713612b90395d653db8fd5e3",
     "grade": true,
     "grade_id": "cell-d908c80a3155354b",
     "locked": true,
     "points": 3,
     "schema_version": 3,
     "solution": false,
     "task": false
    }
   },
   "outputs": [],
   "source": [
    "#### Please do not change this. This cell is used for grading."
   ]
  },
  {
   "cell_type": "markdown",
   "metadata": {
    "deletable": false,
    "editable": false,
    "nbgrader": {
     "cell_type": "markdown",
     "checksum": "cdffc83f0eaea937cf64a212e7e9af8d",
     "grade": false,
     "grade_id": "cell-f5d923459ba21733",
     "locked": true,
     "schema_version": 3,
     "solution": false,
     "task": false
    }
   },
   "source": [
    "--- \n",
    "\n",
    "### Section 3.3: Query Likelihood Model (35 points) <a class=\"anchor\" id=\"qlm\"></a>\n",
    "\n",
    "In this section, you will implement a simple query likelihood model. \n",
    "\n",
    "\n",
    "#### 3.3.1 Naive QL (15 points)\n",
    "\n",
    "First, let us implement a naive version of a QL model, assuming a multinomial unigram language model (with a uniform prior over the documents). \n",
    "\n"
   ]
  },
  {
   "cell_type": "code",
   "execution_count": 36,
   "metadata": {
    "deletable": false,
    "editable": false,
    "nbgrader": {
     "cell_type": "code",
     "checksum": "b7ae2b7d818b428b4638c1c9206d2aca",
     "grade": false,
     "grade_id": "cell-98505778f7b68e7f",
     "locked": true,
     "schema_version": 3,
     "solution": false,
     "task": false
    }
   },
   "outputs": [],
   "source": [
    "#### Document length for normalization\n",
    "\n",
    "def doc_lengths(documents):\n",
    "    doc_lengths = {doc_id:len(doc) for (doc_id, doc) in documents}\n",
    "    return doc_lengths\n",
    "\n",
    "doc_lengths_1 = doc_lengths(doc_repr_1)\n",
    "doc_lengths_2 = doc_lengths(doc_repr_2)\n",
    "\n",
    "def get_doc_lengths(index_set):\n",
    "    assert index_set in {1, 2}\n",
    "    return {\n",
    "        1: doc_lengths_1,\n",
    "        2: doc_lengths_2\n",
    "    }[index_set]\n",
    "####"
   ]
  },
  {
   "cell_type": "code",
   "execution_count": 37,
   "metadata": {
    "deletable": false,
    "nbgrader": {
     "cell_type": "code",
     "checksum": "cedd08303a914243fefdb6b876977ca1",
     "grade": false,
     "grade_id": "cell-8bcf2b804d636c2e",
     "locked": false,
     "schema_version": 3,
     "solution": true,
     "task": false
    }
   },
   "outputs": [],
   "source": [
    "# TODO: Implement this! (15 points)\n",
    "def naive_ql_search(query, index_set):\n",
    "    \"\"\"\n",
    "        Perform a search over all documents with the given query using a naive QL model. \n",
    "        Note #1: You have to use the `get_index` (and get_doc_lengths) function created in the previous cells\n",
    "        Input: \n",
    "            query - a (unprocessed) query\n",
    "            index_set - the index to use\n",
    "        Output: a list of (document_id, score), sorted in descending relevance to the given query \n",
    "    \"\"\"\n",
    "    index = get_index(index_set)\n",
    "    doc_lengths = get_doc_lengths(index_set)\n",
    "    processed_query = preprocess_query(query, index_set)\n",
    "    \n",
    "    # YOUR CODE HERE\n",
    "    \n",
    "    # Make a set of all involved documents\n",
    "    documents = set([z[0] for z in [y for x in index.values() for y in x]])\n",
    "    \n",
    "    # Specifiy defaultdict\n",
    "    scores = defaultdict(list)\n",
    "    in_docs = {}\n",
    "    \n",
    "    # For each term in query\n",
    "    for term in processed_query:\n",
    "        \n",
    "        # If term does not exist skip it \n",
    "        if term not in index:\n",
    "            continue\n",
    "        \n",
    "        # Collect all doc_ids from documents in which the first existing term occurs\n",
    "        # If first existing term does not occur in a document, but second term appears\n",
    "        # in another document this value will be 0 anyways, so don't take into account\n",
    "        \n",
    "        in_docs = [x for x, y in index[term]]\n",
    "        \n",
    "        break\n",
    "    \n",
    "    # Loop again through terms\n",
    "    for term in processed_query:\n",
    "        \n",
    "        if term not in index:\n",
    "            continue\n",
    "        \n",
    "        for document in in_docs: \n",
    "            if document in [x for x, y in index[term]]:\n",
    "                scores[document].append((index[term][[x for x, y in index[term]].index(document)][1])/doc_lengths[document])                \n",
    "          \n",
    "            # If term does not occur, remove from in_docs to save computing time\n",
    "            # Set probability to 0   \n",
    "            else:\n",
    "                scores[document].append(0)\n",
    "                in_docs.remove(document)\n",
    "    \n",
    "    # Take product of all elements\n",
    "    scores.update({n: np.prod([float(y) for y in scores[n]]) for n in scores.keys()})\n",
    "    \n",
    "    # Sort and return list\n",
    "    return sorted(scores.items(), key=lambda x: x[1], reverse=True)"
   ]
  },
  {
   "cell_type": "code",
   "execution_count": 38,
   "metadata": {
    "deletable": false,
    "editable": false,
    "nbgrader": {
     "cell_type": "code",
     "checksum": "b550d15bdad28354c336020a00c33d56",
     "grade": true,
     "grade_id": "cell-5a83ac12ecde8578",
     "locked": true,
     "points": 3,
     "schema_version": 3,
     "solution": false,
     "task": false
    },
    "scrolled": true
   },
   "outputs": [
    {
     "name": "stdout",
     "output_type": "stream",
     "text": [
      "Naive QL Results:\n",
      "Rank 0(0.2): A Report Writer For COBOL...\n",
      "Rank 1(0.2): A CRT Report Generating System...\n",
      "Rank 2(0.17): Preliminary Report-International Algebraic Languag...\n",
      "Rank 3(0.17): Supplement to the ALGOL 60 Report...\n",
      "Rank 4(0.14): ALGOL Sub-Committee Report - Extensions...\n"
     ]
    }
   ],
   "source": [
    "#### Function check\n",
    "test_naiveql = naive_ql_search(\"report\", index_set=1)[:5]\n",
    "print(f\"Naive QL Results:\")\n",
    "print_results(test_naiveql)\n",
    "####"
   ]
  },
  {
   "cell_type": "code",
   "execution_count": 39,
   "metadata": {
    "deletable": false,
    "editable": false,
    "nbgrader": {
     "cell_type": "code",
     "checksum": "799df1d81c63fe90edbb6c218fc707fb",
     "grade": true,
     "grade_id": "cell-80f4bf2137f997bb",
     "locked": true,
     "points": 2,
     "schema_version": 3,
     "solution": false,
     "task": false
    }
   },
   "outputs": [],
   "source": [
    "#### Please do not change this. This cell is used for grading."
   ]
  },
  {
   "cell_type": "code",
   "execution_count": 40,
   "metadata": {
    "deletable": false,
    "editable": false,
    "nbgrader": {
     "cell_type": "code",
     "checksum": "875a4a517d27e20625d41783cebec118",
     "grade": true,
     "grade_id": "cell-5ce2993458a8ce51",
     "locked": true,
     "points": 3,
     "schema_version": 3,
     "solution": false,
     "task": false
    }
   },
   "outputs": [],
   "source": [
    "#### Please do not change this. This cell is used for grading."
   ]
  },
  {
   "cell_type": "code",
   "execution_count": 41,
   "metadata": {
    "deletable": false,
    "editable": false,
    "nbgrader": {
     "cell_type": "code",
     "checksum": "d5c4e1c3852e71a46f32825b122f1b71",
     "grade": true,
     "grade_id": "cell-7753bdb54e292f3d",
     "locked": true,
     "points": 3,
     "schema_version": 3,
     "solution": false,
     "task": false
    }
   },
   "outputs": [],
   "source": [
    "#### Please do not change this. This cell is used for grading."
   ]
  },
  {
   "cell_type": "code",
   "execution_count": 42,
   "metadata": {
    "deletable": false,
    "editable": false,
    "nbgrader": {
     "cell_type": "code",
     "checksum": "c4d4332d4356e89ce0240f6b80e1899a",
     "grade": true,
     "grade_id": "cell-54e476e2f96e64bb",
     "locked": true,
     "points": 4,
     "schema_version": 3,
     "solution": false,
     "task": false
    }
   },
   "outputs": [],
   "source": [
    "#### Please do not change this. This cell is used for grading."
   ]
  },
  {
   "cell_type": "markdown",
   "metadata": {
    "deletable": false,
    "editable": false,
    "nbgrader": {
     "cell_type": "markdown",
     "checksum": "8d739dc91a22bd48897f603885f95a74",
     "grade": false,
     "grade_id": "cell-5414dfd69dab8b94",
     "locked": true,
     "schema_version": 3,
     "solution": false,
     "task": false
    }
   },
   "source": [
    "---\n",
    "#### 3.3.2 QL (20 points)\n",
    "Now, let's implement a QL model that handles the issues with the naive version. In particular, you will implement a QL model with Jelinek-Mercer Smoothing. That means an interpolated score is computed per word - one term is the same as the previous naive version, and the second term comes from a unigram language model. In addition, you should accumulate the scores by summing the **log** (smoothed) probability which leads to better numerical stability."
   ]
  },
  {
   "cell_type": "code",
   "execution_count": 43,
   "metadata": {
    "deletable": false,
    "nbgrader": {
     "cell_type": "code",
     "checksum": "b8c6abf937ad333e628f1db891f2e29e",
     "grade": false,
     "grade_id": "cell-bb1f506409771257",
     "locked": false,
     "schema_version": 3,
     "solution": true,
     "task": false
    }
   },
   "outputs": [],
   "source": [
    "# TODO: Implement this! (20 points)\n",
    "\n",
    "def ql_search(query, index_set):\n",
    "    \"\"\"\n",
    "        Perform a search over all documents with the given query using a QL model \n",
    "        with Jelinek-Mercer Smoothing (set smoothing=0.1). \n",
    "        \n",
    "        \n",
    "        Note #1: You have to use the `get_index` (and get_doc_lengths) function created in the previous cells\n",
    "        Note #2: You might have to create some variables beforehand and use them in this function\n",
    "        \n",
    "        \n",
    "        Input: \n",
    "            query - a (unprocessed) query\n",
    "            index_set - the index to use\n",
    "        Output: a list of (document_id, score), sorted in descending relevance to the given query \n",
    "    \"\"\"\n",
    "    \n",
    "    index = get_index(index_set)\n",
    "    doc_lengths = get_doc_lengths(index_set)\n",
    "    processed_query = preprocess_query(query, index_set)\n",
    "    \n",
    "    # YOUR CODE HERE\n",
    "    \n",
    "    # Collection length\n",
    "    cl = sum(doc_lengths.values())\n",
    "    \n",
    "    # Set smoothing\n",
    "    smoothing = 0.1\n",
    "    labda = 1-smoothing\n",
    "    \n",
    "    # Specifiy defaultdict\n",
    "    scores = defaultdict(list)\n",
    "    \n",
    "    # keep track of all documents that contain a query\n",
    "    in_docs = set()\n",
    "    new_query = []\n",
    "    colfrac = []\n",
    "    \n",
    "    # For each term in query\n",
    "    for term in processed_query:\n",
    "        \n",
    "        # If term does not exist in vocab, skip\n",
    "        if term not in index:\n",
    "            continue\n",
    "        \n",
    "        # Add existing term to new query\n",
    "        new_query.append(term)\n",
    "        cft = 0\n",
    "    \n",
    "        for doc, item in index[term]:\n",
    "            \n",
    "            # Collect al doc_ids from documents in which term occurs\n",
    "            in_docs.add(doc)\n",
    "            \n",
    "            # Collection frequency of term\n",
    "            cft += item\n",
    "        \n",
    "        # Second term of score, as this term is indep. of document\n",
    "        colfrac.append((1-labda)*cft/cl)\n",
    "        \n",
    "    for i, q in enumerate(new_query):\n",
    "        for document in in_docs:       \n",
    "            \n",
    "            if not document in [x for x, y in index[q]]:\n",
    "                \n",
    "                # If term does not occur in document, append second part of equation and continue\n",
    "                with np.errstate(divide='ignore'):\n",
    "                    scores[document].append(np.log(colfrac[i]))\n",
    "                continue\n",
    "                \n",
    "            # Get frequency of term in particular document\n",
    "            freq = (index[q][([x for x, y in index[q]].index(document))][1])\n",
    "            \n",
    "            scores[document].append(np.log((labda*(freq/doc_lengths[document])) + ((1-labda)*colfrac[i])))\n",
    "    \n",
    "    # Score equals the logsum of all probabilities\n",
    "    # Convert log back to normal\n",
    "    scores.update({n: np.exp(np.sum([float(y) for y in scores[n]])) for n in scores.keys()})\n",
    "    \n",
    "    # Sort and return list\n",
    "    # Score is in interval [0,1]\n",
    "    return sorted(scores.items(), key=lambda x: x[1], reverse=True)"
   ]
  },
  {
   "cell_type": "code",
   "execution_count": 44,
   "metadata": {
    "deletable": false,
    "editable": false,
    "nbgrader": {
     "cell_type": "code",
     "checksum": "0b12a7f3355193a257fd9f5f69a66562",
     "grade": true,
     "grade_id": "cell-850e9d6369bcec32",
     "locked": true,
     "points": 4,
     "schema_version": 3,
     "solution": false,
     "task": false
    }
   },
   "outputs": [
    {
     "name": "stdout",
     "output_type": "stream",
     "text": [
      "Rank 0(0.18): A CRT Report Generating System...\n",
      "Rank 1(0.18): A Report Writer For COBOL...\n",
      "Rank 2(0.15): Preliminary Report-International Algebraic Languag...\n",
      "Rank 3(0.15): Supplement to the ALGOL 60 Report...\n",
      "Rank 4(0.13): ALGOL Sub-Committee Report - Extensions...\n",
      "\n",
      "Rank 0(3.6e-08): A CRT Report Generating System...\n",
      "Rank 1(3.6e-08): A Report Writer For COBOL...\n",
      "Rank 2(5.8e-09): Preliminary Report-International Algebraic Languag...\n",
      "Rank 3(5.8e-09): Supplement to the ALGOL 60 Report...\n",
      "Rank 4(1.2e-09): ALGOL Sub-Committee Report - Extensions...\n"
     ]
    }
   ],
   "source": [
    "#### Function check\n",
    "test_ql_results = ql_search(\"report\", index_set=1)[:5]\n",
    "print_results(test_ql_results)\n",
    "print()\n",
    "test_ql_results_long = ql_search(\"report \" * 10, index_set=1)[:5]\n",
    "print_results(test_ql_results_long)\n",
    "####"
   ]
  },
  {
   "cell_type": "code",
   "execution_count": 45,
   "metadata": {
    "deletable": false,
    "editable": false,
    "nbgrader": {
     "cell_type": "code",
     "checksum": "e40be645140389c115849856145f5b59",
     "grade": true,
     "grade_id": "cell-958cdcf6fd6899b7",
     "locked": true,
     "points": 3,
     "schema_version": 3,
     "solution": false,
     "task": false
    }
   },
   "outputs": [],
   "source": [
    "#### Please do not change this. This cell is used for grading."
   ]
  },
  {
   "cell_type": "code",
   "execution_count": 46,
   "metadata": {
    "deletable": false,
    "editable": false,
    "nbgrader": {
     "cell_type": "code",
     "checksum": "41d4aff001df17e7963ba79b45810b30",
     "grade": true,
     "grade_id": "cell-384dc23a0c251f6e",
     "locked": true,
     "points": 4,
     "schema_version": 3,
     "solution": false,
     "task": false
    }
   },
   "outputs": [],
   "source": [
    "#### Please do not change this. This cell is used for grading."
   ]
  },
  {
   "cell_type": "code",
   "execution_count": 47,
   "metadata": {
    "deletable": false,
    "editable": false,
    "nbgrader": {
     "cell_type": "code",
     "checksum": "893e8c5a073abc8ebb763d267b91bc02",
     "grade": true,
     "grade_id": "cell-7218966cba5097cc",
     "locked": true,
     "points": 4,
     "schema_version": 3,
     "solution": false,
     "task": false
    }
   },
   "outputs": [],
   "source": [
    "#### Please do not change this. This cell is used for grading."
   ]
  },
  {
   "cell_type": "code",
   "execution_count": 48,
   "metadata": {
    "deletable": false,
    "editable": false,
    "nbgrader": {
     "cell_type": "code",
     "checksum": "f99cb6f8b1f5830aaed8f06712ff846e",
     "grade": true,
     "grade_id": "cell-481ab073259ae53f",
     "locked": true,
     "points": 5,
     "schema_version": 3,
     "solution": false,
     "task": false
    }
   },
   "outputs": [],
   "source": [
    "#### Please do not change this. This cell is used for grading."
   ]
  },
  {
   "cell_type": "markdown",
   "metadata": {
    "deletable": false,
    "editable": false,
    "nbgrader": {
     "cell_type": "markdown",
     "checksum": "c02f14705d679579b1aa9f78f54779d5",
     "grade": false,
     "grade_id": "cell-f44088bfdac1dc90",
     "locked": true,
     "schema_version": 3,
     "solution": false,
     "task": false
    }
   },
   "source": [
    "--- \n",
    "\n",
    "### Section 3.4: BM25 (20 points) <a class=\"anchor\" id=\"bm25\"></a>\n",
    "\n",
    "In this section, we will implement the BM25 scoring function. \n"
   ]
  },
  {
   "cell_type": "code",
   "execution_count": 49,
   "metadata": {
    "deletable": false,
    "nbgrader": {
     "cell_type": "code",
     "checksum": "e57efe06ea92af1c83784a42eb3d86e0",
     "grade": false,
     "grade_id": "cell-15640fc9b5d00a3c",
     "locked": false,
     "schema_version": 3,
     "solution": true,
     "task": false
    }
   },
   "outputs": [],
   "source": [
    "# TODO: Implement this! (20 points)\n",
    "def bm25_search(query, index_set, k_1=1.5, b=0.75):\n",
    "    \n",
    "    \"\"\"\n",
    "        Perform a search over all documents with the given query using BM25. Use k_1 = 1.5 and b = 0.75\n",
    "        Note #1: You have to use the `get_index` (and `get_doc_lengths`) function created in the previous cells\n",
    "        Note #2: You might have to create some variables beforehand and use them in this function\n",
    "        \n",
    "        Input: \n",
    "            query - a (unprocessed) query\n",
    "            index_set - the index to use\n",
    "        Output: a list of (document_id, score), sorted in descending relevance to the given query \n",
    "    \"\"\"\n",
    "    \n",
    "    index = get_index(index_set)\n",
    "    df = get_df(index_set)\n",
    "    doc_lengths = get_doc_lengths(index_set)\n",
    "    processed_query = preprocess_query(query, index_set)\n",
    "    \n",
    "    # YOUR CODE HERE\n",
    "    \n",
    "    # Average document length\n",
    "    avdl = sum(doc_lengths.values()) / len(doc_lengths)\n",
    "    scores = defaultdict(lambda: 0)\n",
    "    \n",
    "    for token in processed_query:\n",
    "        if token not in index:\n",
    "            continue\n",
    "        for doc_id, tf in index[token]:\n",
    "            \n",
    "            idf = np.log(len(doc_lengths)/df[token])\n",
    "            second_part = (k_1 * tf) / (k_1 * ((1 - b) + b * doc_lengths[doc_id] / avdl) + tf)\n",
    "            scores[doc_id] += idf * second_part\n",
    "            \n",
    "    return [(d, float(s)) for d, s in sorted(scores.items(), key=lambda t: t[1], reverse=True)]"
   ]
  },
  {
   "cell_type": "code",
   "execution_count": 50,
   "metadata": {
    "deletable": false,
    "editable": false,
    "nbgrader": {
     "cell_type": "code",
     "checksum": "4be9de5d4e94637960d83725422bea6c",
     "grade": true,
     "grade_id": "cell-d10536bca72c74b1",
     "locked": true,
     "points": 3,
     "schema_version": 3,
     "solution": false,
     "task": false
    }
   },
   "outputs": [
    {
     "name": "stdout",
     "output_type": "stream",
     "text": [
      "Rank 0(4.0): A Report Writer For COBOL...\n",
      "Rank 1(4.0): A CRT Report Generating System...\n",
      "Rank 2(4.0): Preliminary Report-International Algebraic Languag...\n",
      "Rank 3(4.0): Supplement to the ALGOL 60 Report...\n",
      "Rank 4(3.9): ALGOL Sub-Committee Report - Extensions...\n"
     ]
    }
   ],
   "source": [
    "#### Function check\n",
    "test_bm25_results = bm25_search(\"report\", index_set=1)[:5]\n",
    "print_results(test_bm25_results)\n",
    "####"
   ]
  },
  {
   "cell_type": "code",
   "execution_count": 51,
   "metadata": {
    "deletable": false,
    "editable": false,
    "nbgrader": {
     "cell_type": "code",
     "checksum": "31b550d6a46ae4f8ede88788799ac2b9",
     "grade": true,
     "grade_id": "cell-60f6ec5052712d79",
     "locked": true,
     "points": 5,
     "schema_version": 3,
     "solution": false,
     "task": false
    }
   },
   "outputs": [],
   "source": [
    "#### Please do not change this. This cell is used for grading."
   ]
  },
  {
   "cell_type": "code",
   "execution_count": 52,
   "metadata": {
    "deletable": false,
    "editable": false,
    "nbgrader": {
     "cell_type": "code",
     "checksum": "3da2ec16bfe781916e71755d65aa2983",
     "grade": true,
     "grade_id": "cell-5d17524043a5abcc",
     "locked": true,
     "points": 5,
     "schema_version": 3,
     "solution": false,
     "task": false
    }
   },
   "outputs": [],
   "source": [
    "#### Please do not change this. This cell is used for grading."
   ]
  },
  {
   "cell_type": "code",
   "execution_count": 53,
   "metadata": {
    "deletable": false,
    "editable": false,
    "nbgrader": {
     "cell_type": "code",
     "checksum": "e7b563d54fa84c20909c0ae107010541",
     "grade": true,
     "grade_id": "cell-ff8e704eda1184e3",
     "locked": true,
     "points": 3,
     "schema_version": 3,
     "solution": false,
     "task": false
    }
   },
   "outputs": [],
   "source": [
    "#### Please do not change this. This cell is used for grading."
   ]
  },
  {
   "cell_type": "code",
   "execution_count": 54,
   "metadata": {
    "deletable": false,
    "editable": false,
    "nbgrader": {
     "cell_type": "code",
     "checksum": "b013f90974b396630a8831d6f1d7e5f7",
     "grade": true,
     "grade_id": "cell-a52310500a2543cb",
     "locked": true,
     "points": 4,
     "schema_version": 3,
     "solution": false,
     "task": false
    }
   },
   "outputs": [],
   "source": [
    "#### Please do not change this. This cell is used for grading."
   ]
  },
  {
   "cell_type": "markdown",
   "metadata": {
    "deletable": false,
    "editable": false,
    "nbgrader": {
     "cell_type": "markdown",
     "checksum": "8fcf67cb7d5e8b26cb9bf1f0aa42c847",
     "grade": false,
     "grade_id": "cell-8b2b412c81d62f2d",
     "locked": true,
     "schema_version": 3,
     "solution": false,
     "task": false
    }
   },
   "source": [
    "\n",
    "---\n",
    "\n",
    "### 3.5. Test Your Functions\n",
    "\n",
    "The widget below allows you to play with the search functions you've written so far. Use this to test your search functions and ensure that they work as expected."
   ]
  },
  {
   "cell_type": "code",
   "execution_count": 55,
   "metadata": {
    "deletable": false,
    "editable": false,
    "nbgrader": {
     "cell_type": "code",
     "checksum": "dfeb204b390acc0794dbdcac92b0cf2c",
     "grade": false,
     "grade_id": "cell-c9c2bb76354e8d97",
     "locked": true,
     "schema_version": 3,
     "solution": false,
     "task": false
    }
   },
   "outputs": [],
   "source": [
    "#### Highlighter function\n",
    "# class for results\n",
    "ResultRow = namedtuple(\"ResultRow\", [\"doc_id\", \"snippet\", \"score\"])\n",
    "# doc_id -> doc\n",
    "docs_by_id = dict((d[0], d[1]) for d in docs)\n",
    "\n",
    "def highlight_text(document, query, tol=17):\n",
    "    import re\n",
    "    tokens = tokenize(query)\n",
    "    regex = \"|\".join(f\"(\\\\b{t}\\\\b)\" for t in tokens)\n",
    "    regex = re.compile(regex, flags=re.IGNORECASE)\n",
    "    output = \"\"\n",
    "    i = 0\n",
    "    for m in regex.finditer(document):\n",
    "        start_idx = max(0, m.start() - tol)\n",
    "        end_idx = min(len(document), m.end() + tol)\n",
    "        output += \"\".join([\"...\",\n",
    "                        document[start_idx:m.start()],\n",
    "                        \"<strong>\",\n",
    "                        document[m.start():m.end()],\n",
    "                        \"</strong>\",\n",
    "                        document[m.end():end_idx],\n",
    "                        \"...\"])\n",
    "    return output.replace(\"\\n\", \" \")\n",
    "\n",
    "\n",
    "def make_results(query, search_fn, index_set):\n",
    "    results = []\n",
    "    for doc_id, score in search_fn(query, index_set):\n",
    "        highlight = highlight_text(docs_by_id[doc_id], query)\n",
    "        if len(highlight.strip()) == 0:\n",
    "            highlight = docs_by_id[doc_id]\n",
    "        results.append(ResultRow(doc_id, highlight, score))\n",
    "    return results\n",
    "####"
   ]
  },
  {
   "cell_type": "code",
   "execution_count": 56,
   "metadata": {},
   "outputs": [
    {
     "data": {
      "application/vnd.jupyter.widget-view+json": {
       "model_id": "a2d8540615cd4451b6fc9b75524d6250",
       "version_major": 2,
       "version_minor": 0
      },
      "text/plain": [
       "Text(value='', description='Search Bar')"
      ]
     },
     "metadata": {},
     "output_type": "display_data"
    }
   ],
   "source": [
    "# TODO: Set this to the function you want to test!\n",
    "# this function should take in a query (string)\n",
    "# and return a sorted list of (doc_id, score) \n",
    "# with the most relevant document in the first position\n",
    "\n",
    "search_fn = bm25_search\n",
    "index_set = 1\n",
    "\n",
    "text = widgets.Text(description=\"Search Bar\", width=200)\n",
    "display(text)\n",
    "\n",
    "def handle_submit(sender):\n",
    "    print(f\"Searching for: '{sender.value}'\")\n",
    "    \n",
    "    results = make_results(sender.value, search_fn, index_set)\n",
    "    \n",
    "    # display only the top 5\n",
    "    results = results[:5]\n",
    "    \n",
    "    body = \"\"\n",
    "    for idx, r in enumerate(results):\n",
    "        body += f\"<li>Document #{r.doc_id}({r.score}): {r.snippet}</li>\"\n",
    "    display(HTML(f\"<ul>{body}</ul>\"))\n",
    "    \n",
    "\n",
    "text.on_submit(handle_submit)"
   ]
  },
  {
   "cell_type": "markdown",
   "metadata": {
    "deletable": false,
    "editable": false,
    "nbgrader": {
     "cell_type": "markdown",
     "checksum": "b315c280048a50e8bad7d6250f6f39d1",
     "grade": false,
     "grade_id": "cell-8d46fe8e4f3d8cdb",
     "locked": true,
     "schema_version": 3,
     "solution": false,
     "task": false
    }
   },
   "source": [
    "---\n",
    "\n",
    "## Section 4: Evaluation (40 points) <a class=\"anchor\" id=\"evaluation\"></a>\n",
    "\n",
    "[Back to Part 1](#part1)\n",
    "\n",
    "Before we jump in and implement an algorithm for retrieval, we first have to learn how to evaluate such a system. In particular, we will work with offline evaluation metrics. These metrics are computed on a dataset with known relevance judgements.\n",
    "\n",
    "Implement the following evaluation metrics. \n",
    "\n",
    "1. Precision (7 points)\n",
    "2. Recall (7 points)\n",
    "3. Mean Average Precision (12 points)\n",
    "4. Expected Reciprocal Rank (12 points)"
   ]
  },
  {
   "cell_type": "markdown",
   "metadata": {
    "deletable": false,
    "editable": false,
    "nbgrader": {
     "cell_type": "markdown",
     "checksum": "82e90076c51893e31fec5c40c49d1828",
     "grade": false,
     "grade_id": "cell-3419fd3bc663d7cc",
     "locked": true,
     "schema_version": 3,
     "solution": false,
     "task": false
    }
   },
   "source": [
    "---\n",
    "### 4.1 Read relevance labels (2 points)\n",
    "\n",
    "Let's take a look at the `qrels.text` file, which contains the ground truth relevance scores. The relevance labels for CACM are binary - either 0 or 1. \n"
   ]
  },
  {
   "cell_type": "code",
   "execution_count": 57,
   "metadata": {
    "deletable": false,
    "editable": false,
    "nbgrader": {
     "cell_type": "code",
     "checksum": "6c11025f5a222796f2882c73c1634799",
     "grade": false,
     "grade_id": "cell-6b738366059dde9e",
     "locked": true,
     "schema_version": 3,
     "solution": false,
     "task": false
    }
   },
   "outputs": [
    {
     "name": "stdout",
     "output_type": "stream",
     "text": [
      "01 1410  0 0\r\n",
      "01 1572  0 0\r\n",
      "01 1605  0 0\r\n",
      "01 2020  0 0\r\n",
      "01 2358  0 0\r\n",
      "02 2434  0 0\r\n",
      "02 2863  0 0\r\n",
      "02 3078  0 0\r\n",
      "03 1134  0 0\r\n",
      "03 1613  0 0\r\n"
     ]
    }
   ],
   "source": [
    "!head ./datasets/qrels.text"
   ]
  },
  {
   "cell_type": "markdown",
   "metadata": {
    "deletable": false,
    "editable": false,
    "nbgrader": {
     "cell_type": "markdown",
     "checksum": "e77d7cc6aae69fdbadb5ac9f78f8a560",
     "grade": false,
     "grade_id": "cell-10e16bff2753ffbb",
     "locked": true,
     "schema_version": 3,
     "solution": false,
     "task": false
    }
   },
   "source": [
    "---\n",
    "**Implementation (2 points):**\n",
    "The first column is the query_id and the second column is the document_id. You can safely ignore the 3rd and 4th columns. Write a function to read in the file:"
   ]
  },
  {
   "cell_type": "code",
   "execution_count": 58,
   "metadata": {
    "deletable": false,
    "nbgrader": {
     "cell_type": "code",
     "checksum": "ef347565a0990ddbd049835105753d59",
     "grade": false,
     "grade_id": "cell-ee5253a4ef602fce",
     "locked": false,
     "schema_version": 3,
     "solution": true,
     "task": false
    }
   },
   "outputs": [],
   "source": [
    "# TODO: Implement this! (2 points)\n",
    "def read_qrels(root_folder = \"./datasets/\"):\n",
    "    \"\"\"\n",
    "        Reads the qrels.text file. \n",
    "        Output: A dictionary: query_id -> [list of relevant documents]\n",
    "    \"\"\"\n",
    "    # YOUR CODE HERE\n",
    "    \n",
    "    path = root_folder + \"qrels.text\"\n",
    "    queries = {}\n",
    "    \n",
    "    # Open and split document into lines\n",
    "    with open(path, 'r') as file:\n",
    "        q_list = file.read().splitlines()\n",
    "    \n",
    "    # Save each query and add relevant documents\n",
    "    for q in q_list:\n",
    "        query_id, document_id, _, _ = [int(i) for i in q.split()]\n",
    "        if query_id not in queries:\n",
    "            queries[query_id] = []\n",
    "        queries[query_id].append(document_id)\n",
    "    \n",
    "    return queries"
   ]
  },
  {
   "cell_type": "code",
   "execution_count": 59,
   "metadata": {
    "deletable": false,
    "editable": false,
    "nbgrader": {
     "cell_type": "code",
     "checksum": "6a258a834392cc8cbf8af5d4ccdee81f",
     "grade": true,
     "grade_id": "cell-72215605fbe24f65",
     "locked": true,
     "points": 2,
     "schema_version": 3,
     "solution": false,
     "task": false
    }
   },
   "outputs": [],
   "source": [
    "#### Function check\n",
    "qrels = read_qrels()\n",
    "\n",
    "assert len(qrels) == 52, \"There should be 52 queries with relevance judgements\"\n",
    "assert sum(len(j) for j in qrels.values()) == 796, \"There should be a total of 796 Relevance Judgements\"\n",
    "####"
   ]
  },
  {
   "cell_type": "markdown",
   "metadata": {
    "deletable": false,
    "editable": false,
    "nbgrader": {
     "cell_type": "markdown",
     "checksum": "6c9e7428a52e291a2cdf92a379730d4c",
     "grade": false,
     "grade_id": "cell-176a6fb2939d0420",
     "locked": true,
     "schema_version": 3,
     "solution": false,
     "task": false
    }
   },
   "source": [
    "---\n",
    "**Note:** For a given query `query_id`, you can assume that documents *not* in `qrels[query_id]` are not relevant to `query_id`. \n"
   ]
  },
  {
   "cell_type": "markdown",
   "metadata": {
    "deletable": false,
    "editable": false,
    "nbgrader": {
     "cell_type": "markdown",
     "checksum": "b26a818c7b4f7ad490e00b35ea0edd69",
     "grade": false,
     "grade_id": "cell-bd8341b72cdd89bb",
     "locked": true,
     "schema_version": 3,
     "solution": false,
     "task": false
    }
   },
   "source": [
    "---\n",
    "### 4.2 Precision (7 points)\n",
    "Implement the `precision@k` metric:"
   ]
  },
  {
   "cell_type": "code",
   "execution_count": 60,
   "metadata": {
    "deletable": false,
    "nbgrader": {
     "cell_type": "code",
     "checksum": "ad3cc3234a361d269ecb6b59cc447e9f",
     "grade": false,
     "grade_id": "cell-494bd0cce108ed67",
     "locked": false,
     "schema_version": 3,
     "solution": true,
     "task": false
    }
   },
   "outputs": [],
   "source": [
    "# TODO: Implement this! (7 points)\n",
    "def precision_k(results, relevant_docs, k):\n",
    "    \"\"\"\n",
    "        Compute Precision@K\n",
    "        Input: \n",
    "            results: A sorted list of 2-tuples (document_id, score), \n",
    "                    with the most relevant document in the first position\n",
    "            relevant_docs: A set of relevant documents. \n",
    "            k: the cut-off\n",
    "        Output: Precision@K\n",
    "    \"\"\"\n",
    "    # YOUR CODE HERE\n",
    "    \n",
    "    results = set([d[0] for d in results[:k]])\n",
    "    relevant_docs = set(relevant_docs)\n",
    "    TP = relevant_docs.intersection(results)\n",
    "    return len(TP) / k"
   ]
  },
  {
   "cell_type": "code",
   "execution_count": 61,
   "metadata": {
    "deletable": false,
    "editable": false,
    "nbgrader": {
     "cell_type": "code",
     "checksum": "964b214dbfff8fc53cada864019ee863",
     "grade": true,
     "grade_id": "cell-e7ff0d91c319ca64",
     "locked": true,
     "points": 7,
     "schema_version": 3,
     "solution": false,
     "task": false
    }
   },
   "outputs": [
    {
     "name": "stdout",
     "output_type": "stream",
     "text": [
      "query: What articles exist which deal with TSS (Time Sharing System), an operating system for IBM computers?\n",
      "precision@10 = 0.2\n"
     ]
    }
   ],
   "source": [
    "#### Function check\n",
    "qid = queries[0][0]\n",
    "qtext = queries[0][1]\n",
    "print(f'query:{qtext}')\n",
    "results = bm25_search(qtext, 2)\n",
    "precision = precision_k(results, qrels[qid], 10)\n",
    "print(f'precision@10 = {precision}')\n",
    "####"
   ]
  },
  {
   "cell_type": "markdown",
   "metadata": {
    "deletable": false,
    "editable": false,
    "nbgrader": {
     "cell_type": "markdown",
     "checksum": "8fd3b3998197c7097a40348500affb68",
     "grade": false,
     "grade_id": "cell-afd95f865bc7191e",
     "locked": true,
     "schema_version": 3,
     "solution": false,
     "task": false
    }
   },
   "source": [
    "---\n",
    "### 4.3 Recall (7 points)\n",
    "Implement the `recall@k` metric:"
   ]
  },
  {
   "cell_type": "code",
   "execution_count": 62,
   "metadata": {
    "deletable": false,
    "nbgrader": {
     "cell_type": "code",
     "checksum": "b2020e5741ae03b3fe35817ed8f4ccaa",
     "grade": false,
     "grade_id": "cell-c323fc8c3f8a7cf8",
     "locked": false,
     "schema_version": 3,
     "solution": true,
     "task": false
    }
   },
   "outputs": [],
   "source": [
    "# TODO: Implement this! (7 points)\n",
    "def recall_k(results, relevant_docs, k):\n",
    "    \"\"\"\n",
    "        Compute Recall@K\n",
    "        Input: \n",
    "            results: A sorted list of 2-tuples (document_id, score), with the most relevant document in the first position\n",
    "            relevant_docs: A set of relevant documents. \n",
    "            k: the cut-off\n",
    "        Output: Recall@K\n",
    "    \"\"\"\n",
    "    # YOUR CODE HERE\n",
    "    results = set([d[0] for d in results[:k]])\n",
    "    relevant_docs = set(relevant_docs)\n",
    "    TP = relevant_docs.intersection(results)\n",
    "    return len(TP) / len(relevant_docs)"
   ]
  },
  {
   "cell_type": "code",
   "execution_count": 63,
   "metadata": {
    "deletable": false,
    "editable": false,
    "nbgrader": {
     "cell_type": "code",
     "checksum": "56b6e0b8522f8b2dffbfb3206b2efa84",
     "grade": true,
     "grade_id": "cell-b25172161aef165c",
     "locked": true,
     "points": 7,
     "schema_version": 3,
     "solution": false,
     "task": false
    }
   },
   "outputs": [
    {
     "name": "stdout",
     "output_type": "stream",
     "text": [
      "query: SETL, Very High Level Languages\n",
      "recall@10 = 0.3157894736842105\n"
     ]
    }
   ],
   "source": [
    "#### Function check\n",
    "qid = queries[10][0]\n",
    "qtext = queries[10][1]\n",
    "print(f'query:{qtext}')\n",
    "results = bm25_search(qtext, 2)\n",
    "recall = recall_k(results, qrels[qid], 10)\n",
    "print(f'recall@10 = {recall}')\n",
    "####"
   ]
  },
  {
   "cell_type": "markdown",
   "metadata": {
    "deletable": false,
    "editable": false,
    "nbgrader": {
     "cell_type": "markdown",
     "checksum": "d43c63fa38f333e0b52d41639b2655f7",
     "grade": false,
     "grade_id": "cell-77fd2e7a39a74739",
     "locked": true,
     "schema_version": 3,
     "solution": false,
     "task": false
    }
   },
   "source": [
    "---\n",
    "### 4.4 Mean Average Precision (12 points)\n",
    "Implement the `map` metric:"
   ]
  },
  {
   "cell_type": "code",
   "execution_count": 64,
   "metadata": {
    "deletable": false,
    "nbgrader": {
     "cell_type": "code",
     "checksum": "aae2c62f2ffd76f5b6c004e9519b9f14",
     "grade": false,
     "grade_id": "cell-e50925fa9093a30d",
     "locked": false,
     "schema_version": 3,
     "solution": true,
     "task": false
    }
   },
   "outputs": [],
   "source": [
    "# TODO: Implement this! (12 points)\n",
    "def average_precision(results, relevant_docs):\n",
    "    \"\"\"\n",
    "        Compute Average Precision (for a single query - the results are \n",
    "        averaged across queries to get MAP in the next few cells)\n",
    "        Hint: You can use the recall_k and precision_k functions here!\n",
    "        Input: \n",
    "            results: A sorted list of 2-tuples (document_id, score), with the most \n",
    "                    relevant document in the first position\n",
    "            relevant_docs: A set of relevant documents. \n",
    "        Output: Average Precision\n",
    "    \"\"\"\n",
    "    # YOUR CODE HERE\n",
    "    \n",
    "    ap = 0\n",
    "    found = 0\n",
    "    for i in range(len(results)):\n",
    "        # Compute precisions at relevant documents\n",
    "        if results[i][0] in relevant_docs:\n",
    "            ap += precision_k(results, relevant_docs, i+1)\n",
    "            found += 1\n",
    "        # Stop early in case we already found all relevant documents\n",
    "        if found > len(relevant_docs):\n",
    "            break\n",
    "\n",
    "    return ap / len(relevant_docs)"
   ]
  },
  {
   "cell_type": "code",
   "execution_count": 65,
   "metadata": {
    "deletable": false,
    "editable": false,
    "nbgrader": {
     "cell_type": "code",
     "checksum": "5db8cb2dfd3a77554f4147b409f47f38",
     "grade": true,
     "grade_id": "cell-8a1f7ec98571e58b",
     "locked": true,
     "points": 12,
     "schema_version": 3,
     "solution": false,
     "task": false
    }
   },
   "outputs": [
    {
     "name": "stdout",
     "output_type": "stream",
     "text": [
      "query: computational complexity, intractability, class-complete reductions, algorithms and efficiency\n",
      "MAP = 0.17269233631989397\n"
     ]
    }
   ],
   "source": [
    "#### Function check\n",
    "qid = queries[20][0]\n",
    "qtext = queries[20][1]\n",
    "print(f'query:{qtext}')\n",
    "results = bm25_search(qtext, 2)\n",
    "mean_ap = average_precision(results, qrels[qid])\n",
    "print(f'MAP = {mean_ap}')\n",
    "####"
   ]
  },
  {
   "cell_type": "markdown",
   "metadata": {
    "deletable": false,
    "editable": false,
    "nbgrader": {
     "cell_type": "markdown",
     "checksum": "cb645b79d04cc3eed33ca060a5e7bf0f",
     "grade": false,
     "grade_id": "cell-1da18f0fe6f6d7be",
     "locked": true,
     "schema_version": 3,
     "solution": false,
     "task": false
    }
   },
   "source": [
    "---\n",
    "### 4.5 Expected Reciprocal Rank (12 points)\n",
    "Implement the `err` metric:"
   ]
  },
  {
   "cell_type": "code",
   "execution_count": 66,
   "metadata": {
    "deletable": false,
    "nbgrader": {
     "cell_type": "code",
     "checksum": "9ac94db728e23ea1f5dc0d509473c6fb",
     "grade": false,
     "grade_id": "cell-64262889f9b267ea",
     "locked": false,
     "schema_version": 3,
     "solution": true,
     "task": false
    }
   },
   "outputs": [],
   "source": [
    "# TODO: Implement this! (12 points)\n",
    "def err(results, relevant_docs):\n",
    "    \"\"\"\n",
    "        Compute the expected reciprocal rank.\n",
    "        Hint: https://dl.acm.org/doi/pdf/10.1145/1645953.1646033?download=true\n",
    "        Input: \n",
    "            results: A sorted list of 2-tuples (document_id, score), with the most \n",
    "                    relevant document in the first position\n",
    "            relevant_docs: A set of relevant documents. \n",
    "        Output: ERR\n",
    "        \n",
    "    \"\"\"\n",
    "    # YOUR CODE HERE\n",
    "    \n",
    "    ERR = 0\n",
    "    # Relevance probabilities are constant because of binary grading\n",
    "    # 0.5 for relevant documents and 0 for non-relevant ones\n",
    "    rel_prob = 0.5\n",
    "    rel_count = 0\n",
    "    for r in range(len(results)):\n",
    "        doc_id = results[r][0]\n",
    "        # We only have to compute for relevant documents as\n",
    "        # non-relevant documents zero out the product\n",
    "        if doc_id in relevant_docs:\n",
    "            rel_count += 1\n",
    "            # (1-0) = 1, so non-relevant documents don't matter\n",
    "            # (1-0.5) = 0.5, so all relevant documents worth the same as the r-th one\n",
    "            ERR += np.power(rel_prob, rel_count) / (r+1)\n",
    "        \n",
    "    return ERR"
   ]
  },
  {
   "cell_type": "code",
   "execution_count": 67,
   "metadata": {
    "deletable": false,
    "editable": false,
    "nbgrader": {
     "cell_type": "code",
     "checksum": "eb97e6d89a0b992b642e4e0ff36ff9f5",
     "grade": true,
     "grade_id": "cell-071e3970ff1afae4",
     "locked": true,
     "points": 12,
     "schema_version": 3,
     "solution": false,
     "task": false
    }
   },
   "outputs": [
    {
     "name": "stdout",
     "output_type": "stream",
     "text": [
      "query: I'd like to find articles describing the use of singular value decomposition in digital image processing.  Applications include finding approximations to the original image and restoring images that are subject to noise. An article on the subject is H.C. Andrews and C.L. Patterson \"Outer product expansions and their uses in digital image processing\", American Mathematical Monthly, vol. 82.\n",
      "ERR = 0.625\n"
     ]
    }
   ],
   "source": [
    "#### Function check\n",
    "qid = queries[30][0]\n",
    "qtext = queries[30][1]\n",
    "print(f'query:{qtext}')\n",
    "results = bm25_search(qtext, 2)\n",
    "ERR = err(results, qrels[qid])\n",
    "print(f'ERR = {ERR}')\n",
    "####"
   ]
  },
  {
   "cell_type": "markdown",
   "metadata": {
    "deletable": false,
    "editable": false,
    "nbgrader": {
     "cell_type": "markdown",
     "checksum": "5bd94caf77cfa5f34675df758d91002d",
     "grade": false,
     "grade_id": "cell-43709a765f353946",
     "locked": true,
     "schema_version": 3,
     "solution": false,
     "task": false
    }
   },
   "source": [
    "---\n",
    "### 4.6 Evaluate Search Functions\n",
    "\n",
    "Let's define some metrics@k using [partial functions](https://docs.python.org/3/library/functools.html#functools.partial)"
   ]
  },
  {
   "cell_type": "code",
   "execution_count": 68,
   "metadata": {
    "deletable": false,
    "editable": false,
    "nbgrader": {
     "cell_type": "code",
     "checksum": "49ccc158e5fb7340ace55e90eeb9d62a",
     "grade": false,
     "grade_id": "cell-dab560e18e340da8",
     "locked": true,
     "schema_version": 3,
     "solution": false,
     "task": false
    }
   },
   "outputs": [],
   "source": [
    "#### metrics@k functions\n",
    "\n",
    "recall_at_1 = partial(recall_k, k=1)\n",
    "recall_at_5 = partial(recall_k, k=5)\n",
    "recall_at_10 = partial(recall_k, k=10)\n",
    "precision_at_1 = partial(precision_k, k=1)\n",
    "precision_at_5 = partial(precision_k, k=5)\n",
    "precision_at_10 = partial(precision_k, k=10)\n",
    "\n",
    "\n",
    "list_of_metrics = [\n",
    "    (\"ERR\", err),\n",
    "    (\"MAP\", average_precision),\n",
    "    (\"Recall@1\",recall_at_1),\n",
    "    (\"Recall@5\", recall_at_5),\n",
    "    (\"Recall@10\", recall_at_10),\n",
    "    (\"Precision@1\", precision_at_1),\n",
    "    (\"Precision@5\", precision_at_5),\n",
    "    (\"Precision@10\", precision_at_10)]\n",
    "####"
   ]
  },
  {
   "cell_type": "markdown",
   "metadata": {
    "deletable": false,
    "editable": false,
    "nbgrader": {
     "cell_type": "markdown",
     "checksum": "fb541002c03221b453b8936290020ea5",
     "grade": false,
     "grade_id": "cell-580a2bdc66d03b47",
     "locked": true,
     "schema_version": 3,
     "solution": false,
     "task": false
    }
   },
   "source": [
    "---\n",
    "\n",
    "The following function evaluates a `search_fn` using the `metric_fn`. Note that the final number is averaged over all the queries"
   ]
  },
  {
   "cell_type": "code",
   "execution_count": 69,
   "metadata": {},
   "outputs": [],
   "source": [
    "#### Evaluate a search function\n",
    "\n",
    "list_of_search_fns = [\n",
    "    (\"BOW\", bow_search),\n",
    "    (\"TF-IDF\", tfidf_search),\n",
    "    (\"NaiveQL\", naive_ql_search),\n",
    "    (\"QL\", ql_search),\n",
    "    (\"BM25\", bm25_search)\n",
    "]\n",
    "\n",
    "def evaluate_search_fn(search_fn, metric_fns, index_set=None):\n",
    "    # build a dict query_id -> query \n",
    "    queries_by_id = dict((q[0], q[1]) for q in queries)\n",
    "    \n",
    "    metrics = {}\n",
    "    for metric, metric_fn in metric_fns:\n",
    "        metrics[metric] = np.zeros(len(qrels), dtype=np.float32)\n",
    "    \n",
    "    for i, (query_id, relevant_docs) in enumerate(qrels.items()):\n",
    "        query = queries_by_id[query_id]\n",
    "        if index_set:\n",
    "            results = search_fn(query, index_set)\n",
    "        else:\n",
    "            results = search_fn(query)\n",
    "        \n",
    "        for metric, metric_fn in metric_fns:\n",
    "            metrics[metric][i] = metric_fn(results, relevant_docs)\n",
    "\n",
    "    \n",
    "    \n",
    "    final_dict = {}\n",
    "    for metric, metric_vals in metrics.items():\n",
    "        final_dict[metric] = metric_vals.mean()\n",
    "    \n",
    "    return final_dict\n",
    "####"
   ]
  },
  {
   "cell_type": "markdown",
   "metadata": {
    "deletable": false,
    "editable": false,
    "nbgrader": {
     "cell_type": "markdown",
     "checksum": "6ea67534f74a8f81e1f504794f641709",
     "grade": false,
     "grade_id": "cell-b156d83a0649cbb4",
     "locked": true,
     "schema_version": 3,
     "solution": false,
     "task": false
    }
   },
   "source": [
    "## Section 5: Analysis (30 points) <a class=\"anchor\" id=\"analysis\"></a>\n",
    "\n",
    "[Back to Part 1](#part1)\n",
    "\n",
    "In the final section of Part1, we will compare the different term-based IR algorithms and different preprocessing configurations and analyze their advantages and disadvantages.\n",
    "\n",
    "### Section 5.1: Plot (20 points)\n",
    "\n",
    "First, gather the results. The results should consider the index set, the different search functions and different metrics. Plot the results in bar charts, per metric, with clear labels.\n",
    "\n",
    "**Rubric:**\n",
    "- Each Metric is plotted: 7 points\n",
    "- Each Method is plotted: 7 points\n",
    "- Clear titles, x label, y labels and legends (if applicable): 6 points"
   ]
  },
  {
   "cell_type": "code",
   "execution_count": 70,
   "metadata": {
    "deletable": false,
    "nbgrader": {
     "cell_type": "code",
     "checksum": "7e2588a925d13ddf588abe8311dc9cfc",
     "grade": true,
     "grade_id": "cell-46fda42a25863a04",
     "locked": false,
     "points": 20,
     "schema_version": 3,
     "solution": true,
     "task": false
    }
   },
   "outputs": [
    {
     "data": {
      "image/png": "[encoded data removed]",
      "text/plain": [
       "<Figure size 432x288 with 1 Axes>"
      ]
     },
     "metadata": {
      "needs_background": "light"
     },
     "output_type": "display_data"
    },
    {
     "data": {
      "image/png": "[encoded data removed]",
      "text/plain": [
       "<Figure size 432x288 with 1 Axes>"
      ]
     },
     "metadata": {
      "needs_background": "light"
     },
     "output_type": "display_data"
    },
    {
     "data": {
      "image/png": "[encoded data removed]",
      "text/plain": [
       "<Figure size 432x288 with 1 Axes>"
      ]
     },
     "metadata": {
      "needs_background": "light"
     },
     "output_type": "display_data"
    },
    {
     "data": {
      "image/png": "[encoded data removed]",
      "text/plain": [
       "<Figure size 432x288 with 1 Axes>"
      ]
     },
     "metadata": {
      "needs_background": "light"
     },
     "output_type": "display_data"
    },
    {
     "data": {
      "image/png": "[encoded data removed]",
      "text/plain": [
       "<Figure size 432x288 with 1 Axes>"
      ]
     },
     "metadata": {
      "needs_background": "light"
     },
     "output_type": "display_data"
    },
    {
     "data": {
      "image/png": "[encoded data removed]",
      "text/plain": [
       "<Figure size 432x288 with 1 Axes>"
      ]
     },
     "metadata": {
      "needs_background": "light"
     },
     "output_type": "display_data"
    },
    {
     "data": {
      "image/png": "[encoded data removed]",
      "text/plain": [
       "<Figure size 432x288 with 1 Axes>"
      ]
     },
     "metadata": {
      "needs_background": "light"
     },
     "output_type": "display_data"
    },
    {
     "data": {
      "image/png": "[encoded data removed]",
      "text/plain": [
       "<Figure size 432x288 with 1 Axes>"
      ]
     },
     "metadata": {
      "needs_background": "light"
     },
     "output_type": "display_data"
    }
   ],
   "source": [
    "# YOUR CODE HERE\n",
    "\n",
    "import pandas as pd\n",
    "\n",
    "ERR=[]\n",
    "MAP=[]\n",
    "RECALL1=[]\n",
    "RECALL5=[]\n",
    "RECALL10=[]\n",
    "PRECISION1=[]\n",
    "PRECISION5=[]\n",
    "PRECISION10=[]\n",
    "\n",
    "for i in {1,2}:\n",
    "    \n",
    "    for method in list_of_search_fns:\n",
    "        \n",
    "        evaluation = evaluate_search_fn(method[1], list_of_metrics, index_set=i)\n",
    "\n",
    "        ERR.append(evaluation['ERR'])\n",
    "        MAP.append(evaluation['MAP'])\n",
    "        RECALL1.append(evaluation['Recall@1'])\n",
    "        RECALL5.append(evaluation['Recall@5'])\n",
    "        RECALL10.append(evaluation['Recall@10'])\n",
    "        PRECISION1.append(evaluation['Precision@1'])\n",
    "        PRECISION5.append(evaluation['Precision@5'])\n",
    "        PRECISION10.append(evaluation['Precision@10'])\n",
    "\n",
    "metrics=[ERR, MAP,  RECALL1,  RECALL5,  RECALL10,  PRECISION1,  PRECISION5,  PRECISION10]\n",
    "str_metrics = [\"ERR\",\"MAP\", \"RECALL@1\", \"RECALL@5\", \"RECALL@10\", \"PRECISION@1\", \"PRECISION@5\", \"PRECISION@10\"]    \n",
    "\n",
    "\n",
    "index = [\"BOW\",\"TF-IDF\",\"NaiveQL\", \"QL\",\"BM25\"]\n",
    "xlabel = \"Methods\"\n",
    "ylabel = \"Metric value (in decimals)\"\n",
    "\n",
    "for i, metric in enumerate(metrics):\n",
    "\n",
    "    plotdata = pd.DataFrame({\n",
    "    \"Index set 1\": metric[0:5],\n",
    "    \"Index set 2\": metric[5:10]\n",
    "    }, \n",
    "    index=index\n",
    "    )\n",
    "    plotdata.plot(kind=\"bar\")\n",
    "    plt.title(str_metrics[i])\n",
    "    plt.xlabel(xlabel)\n",
    "    plt.ylabel(ylabel)\n",
    "    plt.show()"
   ]
  },
  {
   "cell_type": "markdown",
   "metadata": {
    "deletable": false,
    "editable": false,
    "nbgrader": {
     "cell_type": "markdown",
     "checksum": "e88c444a0acf4e398c65e289169b75f7",
     "grade": false,
     "grade_id": "cell-8aabe3bcf265deb0",
     "locked": true,
     "points": 10,
     "schema_version": 3,
     "solution": false,
     "task": true
    }
   },
   "source": [
    "---\n",
    "### Section 5.2: Summary (10 points)\n",
    "Write a summary of what you observe in the results.\n",
    "Your summary should compare results across the 2 indices and the methods being used. State what you expected to see in the results, followed by either supporting evidence *or* justify why the results did not support your expectations.      "
   ]
  },
  {
   "cell_type": "markdown",
   "metadata": {},
   "source": [
    "In general, we expect index set 1 to have significant lower probability scores than index set 2 since the text in index set 1 (except from tokenization) has not been pre-processed. Pre-processing involved converting terms to their stems (stemming) and removing stop words which allows methods to perform better. This belief is supported by our results, that show that for every method and metric, index 2 performs significantly better. All scores mentioned below are therefore based on index set 2.\n",
    "\n",
    "We expected Bag of Words (**BOW**) to obtain low scores for the evaluation metrics as this algorithm only takes term frequency (*TF*) into account. However, if a term occurs in a lot of documents, it’s not representative. **TF-IDF**, takes this in consideration by multiplying the term frequency in a document with the inverse document frequency (*IDF*) function, which measures how rare the term is over all documents. Hence this  evaluation scores relatively higher. This claim is supported by the plots in which **TF-IDF** obtaines higher scores compared to **BOW**.\n",
    "\n",
    "In contrast, Naïve Query Likelihood (**naïve QL**) is likely to be lower in comparison to **BOW** and **TF-IDF**, since all documents that not contain *all* terms of the query are discarded with a score of zero which results in a highly skewed ranking of the documents. Alternatively, Query Likelihood (**QL**) solves this problem by taking the term frequency in the *whole* collection, referred to as collection frequency, into account. Moreover, **QL** makes use of smoothing, where a correct setting of the smoothing constant ($\\lambda$) is crucial. Namely, a high value of $\\lambda$ is suitable for shorther queries as a larger value tends to retrieve documents that contain *all* query words, while a low value of $\\lambda$ is suitable for long queries. Since **QL** tends to perform better due to the smoothing, the values of the evaluation metrics will be higher then the scores for **naïve QL**. In addition, it is likely that  **QL** will perform better in comparison to **BOW** and **TF-IDF** as the latter is mathematically equivalent to **QL**, but **QL** incorporates smoothing. This hypothesis is supported by the results, as **BOW**, **TF-IDF** and **naïve QL** have significantly lower scores - 0.05, 0.12 and 0.03 respectively for recall@5 - compared to **QL** which has a score of 0.19 for recall@5. Moreover, also the precision of **QL** (0.37 for precision@5) is way higher compared to the precision of **BOW, TF-IDF** and **naïve QL** which obtained a precision of 0.08, 0.20 and 0.1 for precision@5 respectively.\n",
    "\n",
    "Similar to **TF-IDF**, the method **BM25** (BM stands for Best Match) measures the rareness of term frequency with *IDF*. The difference is that **BM25** controls the contribution of *TF* to the score to minimize the impact of more term occurrences to the score. Essentially, BM25 improves the scoring and will have a significant higher evaluation in comparison. This claim is justified by the results, as the **BM25** metrics show scores $> 0.3$ for recall@10 and $> 0.5$ for precision@1. In comparison, the second highest metric probability for **QL** is 0.27 for recall@10 and this is followed by **TF-IDF** which obtained a score of 0.20 for recall@10.\n",
    "\n",
    "Note that, in general, recall increases as k increases but in contrary precision decreases. However, this behaviour is expected due to the nature of the metrics. "
   ]
  },
  {
   "cell_type": "markdown",
   "metadata": {
    "deletable": false,
    "editable": false,
    "nbgrader": {
     "cell_type": "markdown",
     "checksum": "b3eb77be74eecca205fc7b47316d1627",
     "grade": false,
     "grade_id": "cell-bb60dd5c092d0f2e",
     "locked": true,
     "schema_version": 3,
     "solution": false,
     "task": false
    }
   },
   "source": [
    "---\n",
    "---\n",
    "# Part 2: Semantic-based Matching (85 points) <a class=\"anchor\" id=\"part2\"></a>\n",
    "\n",
    "[Back to top](#top)\n",
    "\n",
    "We will now experiment with methods that go beyond lexical methods like TF-IDF, which operate at the word level and are high dimensional and sparse, and look at methods which constructs low dimensional dense representations of queries and documents. \n",
    "\n",
    "Since these low-dimensional methods have a higher time complexity, they are typically used in conjunction with methods like BM-25. That is, instead of searching through potentially million documents to find matches using low dimensional vectors, a list of K documents are retrieved using BM25, and then **re-ranked** using the other method. This is the method that is going to be applied in the following exercises. \n",
    "\n",
    "LSI/LDA takes documents that are similar on a semantic level - for instance, if they are describing the same topic - and projects them into nearby vectors, despite having low lexical overlap.\n",
    "\n",
    "In this assignment, you will use `gensim` to create LSI/LDA models and use them in re-ranking. \n",
    "\n",
    "**Note**: The following exercises only uses `doc_repr_2` and `config_2`\n",
    "\n",
    "Table of contents:\n",
    "- [Section 6: LSI](#lsi) (15 points)\n",
    "- [Section 7: LDA](#lda) (10 points)\n",
    "- [Section 8: Word2Vec/Doc2Vec](#2vec) (20 points)\n",
    "- [Section 8: Re-ranking](#reranking) (10 points)\n",
    "- [Section 9: Re-ranking Evaluation](#reranking_eval) (30 points)"
   ]
  },
  {
   "cell_type": "markdown",
   "metadata": {
    "deletable": false,
    "editable": false,
    "nbgrader": {
     "cell_type": "markdown",
     "checksum": "f7c7b2cab82f576ed0acf836ca57171c",
     "grade": false,
     "grade_id": "cell-6b2c81e7a8abd180",
     "locked": true,
     "schema_version": 3,
     "solution": false,
     "task": false
    }
   },
   "source": [
    "---\n",
    "## Section 6: Latent Semantic Indexing (LSI) (15 points) <a class=\"anchor\" id=\"lsi\"></a>\n",
    "\n",
    "[Back to Part 2](#part2)\n",
    "\n",
    "LSI is one of the methods to embed the queries and documents into vectors. It is based on a method similar to Principal Component Analysis (PCA) for obtaining a dense concept matrix out of the sparse term-document matrix.\n",
    "\n",
    "See [wikipedia](https://en.wikipedia.org/wiki/Latent_semantic_analysis), particularly [#Mathematics_of_LSI](https://en.wikipedia.org/wiki/Latent_semantic_analysis#Mathematics_of_LSI)."
   ]
  },
  {
   "cell_type": "code",
   "execution_count": 71,
   "metadata": {
    "deletable": false,
    "editable": false,
    "nbgrader": {
     "cell_type": "code",
     "checksum": "c17ee75319cb517e2bf48ec3d9efc329",
     "grade": false,
     "grade_id": "cell-59913daee47f680d",
     "locked": true,
     "schema_version": 3,
     "solution": false,
     "task": false
    }
   },
   "outputs": [],
   "source": [
    "from gensim.corpora import Dictionary\n",
    "from gensim.models import LdaModel, LsiModel, Word2Vec\n",
    "from gensim.models.doc2vec import Doc2Vec, TaggedDocument\n",
    "from gensim import downloader as g_downloader\n",
    "# gensim uses logging, so set it up \n",
    "import logging\n",
    "logging.basicConfig(format='%(asctime)s : %(levelname)s : %(message)s', level=logging.INFO)"
   ]
  },
  {
   "cell_type": "markdown",
   "metadata": {
    "deletable": false,
    "editable": false,
    "nbgrader": {
     "cell_type": "markdown",
     "checksum": "5fce140c546759b54a9fc060901ae77c",
     "grade": false,
     "grade_id": "cell-3644faff4976598a",
     "locked": true,
     "schema_version": 3,
     "solution": false,
     "task": false
    }
   },
   "source": [
    "---\n",
    "### Section 6.1: Cosine Similarity (5 points)<a class=\"anchor\" id=\"cosing_sim\"></a>\n",
    "Before we begin, let us first define our method of similarity for the LSI model, the cosine similarity:\n",
    "\n",
    "$$\\text{similarity} = \\cos(\\theta) = {\\mathbf{A} \\cdot \\mathbf{B} \\over \\|\\mathbf{A}\\| \\|\\mathbf{B}\\|} = \\frac{ \\sum\\limits_{i=1}^{n}{A_i  B_i} }{ \\sqrt{\\sum\\limits_{i=1}^{n}{A_i^2}}  \\sqrt{\\sum\\limits_{i=1}^{n}{B_i^2}} }$$\n",
    "\n",
    "Since we are using gensim, the types of vectors returned by their classes are of the form defined below (they are not just simple vectors):"
   ]
  },
  {
   "cell_type": "code",
   "execution_count": 72,
   "metadata": {
    "deletable": false,
    "editable": false,
    "nbgrader": {
     "cell_type": "code",
     "checksum": "4e340e1a1d546f430c018fd0760e707a",
     "grade": false,
     "grade_id": "cell-3995a50f951314d5",
     "locked": true,
     "schema_version": 3,
     "solution": false,
     "task": false
    }
   },
   "outputs": [],
   "source": [
    "# 1, 2, 3 are either latent dimensions (LSI), or topics (LDA)\n",
    "# The second value in each tuple is a number (LSI) or a probability (LDA)  \n",
    "example_vec_1 = [(1, 0.2), (2, 0.3), (3, 0.4)]\n",
    "example_vec_2 = [(1, 0.2), (2, 0.7), (3, 0.4)]"
   ]
  },
  {
   "cell_type": "markdown",
   "metadata": {
    "deletable": false,
    "editable": false,
    "nbgrader": {
     "cell_type": "markdown",
     "checksum": "20832fd4f579f49ae204b0efee02edd1",
     "grade": false,
     "grade_id": "cell-5e54d581858dc8f7",
     "locked": true,
     "schema_version": 3,
     "solution": false,
     "task": false
    }
   },
   "source": [
    "---\n",
    "**Implementation (2+3 points):**\n",
    "Now, implement the `dot product` operation on these types of vectors and using this operator, implement the `cosine similarity` (don't forget: two functions to implement!):"
   ]
  },
  {
   "cell_type": "code",
   "execution_count": 73,
   "metadata": {
    "deletable": false,
    "nbgrader": {
     "cell_type": "code",
     "checksum": "06a712ee75fc213a21c5f0067fd8fe28",
     "grade": false,
     "grade_id": "cell-0e8189f5f93de33f",
     "locked": false,
     "schema_version": 3,
     "solution": true,
     "task": false
    }
   },
   "outputs": [],
   "source": [
    "# TODO: Implement this! (2 points)\n",
    "def dot(vec_1,vec_2): \n",
    "    \"\"\"\n",
    "        vec_1 and vec_2 are of the form: [(int, float), (int, float), ...]\n",
    "        Return the dot product of two such vectors, computed only on the floats\n",
    "        You can assume that the lengths of the vectors are the same, and the dimensions are aligned \n",
    "            i.e you won't get: vec_1 = [(1, 0.2)] ; vec_2 = [(2, 0.3)] \n",
    "                                (dimensions are unaligned and lengths are different)\n",
    "    \"\"\"\n",
    "    # YOUR CODE HERE\n",
    "        \n",
    "    return sum([i[1]*j[1] for i,j in zip(vec_1, vec_2)])\n",
    "\n",
    "# TODO: Implement this! (3 points)\n",
    "def cosine_sim(vec_1, vec_2):\n",
    "    # YOUR CODE HERE\n",
    "\n",
    "        return dot(vec_1, vec_2)/(np.linalg.norm([i[1] for i in vec_1])*np.linalg.norm([j[1] for j in vec_2]))"
   ]
  },
  {
   "cell_type": "code",
   "execution_count": 74,
   "metadata": {
    "deletable": false,
    "editable": false,
    "nbgrader": {
     "cell_type": "code",
     "checksum": "d22a4a7325ba7815a808390388f534a1",
     "grade": true,
     "grade_id": "cell-b25d04ed6b79fd35",
     "locked": true,
     "points": 2,
     "schema_version": 3,
     "solution": false,
     "task": false
    }
   },
   "outputs": [
    {
     "name": "stdout",
     "output_type": "stream",
     "text": [
      "vectors: ([(1, 0.2), (2, 0.3), (3, 0.4)], [(1, 0.2), (2, 0.7), (3, 0.4)])\n",
      "dot product = 0.41000000000000003\n",
      "cosine similarity = 0.9165587597202866\n"
     ]
    }
   ],
   "source": [
    "##### Function check\n",
    "print(f'vectors: {(example_vec_1,example_vec_2)}')\n",
    "print(f'dot product = {dot(example_vec_1,example_vec_2)}')\n",
    "print(f'cosine similarity = {cosine_sim(example_vec_1,example_vec_2)}')\n",
    "##### "
   ]
  },
  {
   "cell_type": "code",
   "execution_count": 75,
   "metadata": {
    "deletable": false,
    "editable": false,
    "nbgrader": {
     "cell_type": "code",
     "checksum": "0744131724ce76b1b3f163b4bae5f700",
     "grade": true,
     "grade_id": "cell-ae3c4466866ace77",
     "locked": true,
     "points": 3,
     "schema_version": 3,
     "solution": false,
     "task": false
    }
   },
   "outputs": [],
   "source": [
    "#### Please do not change this. This cell is used for grading."
   ]
  },
  {
   "cell_type": "markdown",
   "metadata": {
    "deletable": false,
    "editable": false,
    "nbgrader": {
     "cell_type": "markdown",
     "checksum": "9b123f599f9ea372d14676e23f1c6a52",
     "grade": false,
     "grade_id": "cell-4b2534067c44fcdf",
     "locked": true,
     "schema_version": 3,
     "solution": false,
     "task": false
    }
   },
   "source": [
    "---\n",
    "### Section 6.2: LSI Retrieval (10 points)<a class=\"anchor\" id=\"lsi_retrieval\"></a>\n",
    "LSI retrieval is simply ranking the documents based on their cosine similarity to the query vector.\n",
    "First, let's write a parent class for vector-based retrieval models:"
   ]
  },
  {
   "cell_type": "code",
   "execution_count": 76,
   "metadata": {
    "deletable": false,
    "editable": false,
    "nbgrader": {
     "cell_type": "code",
     "checksum": "ecc111d58182570e2252b8ef5d6b02af",
     "grade": false,
     "grade_id": "cell-937936cea18711ee",
     "locked": true,
     "schema_version": 3,
     "solution": false,
     "task": false
    }
   },
   "outputs": [],
   "source": [
    "class VectorSpaceRetrievalModel:\n",
    "    \"\"\"\n",
    "        Parent class for Dense Vector Retrieval models\n",
    "    \"\"\"\n",
    "    def __init__(self, doc_repr):\n",
    "        \"\"\"\n",
    "            document_collection: \n",
    "                [\n",
    "                    (doc_id_1, [token 1, token 2, ...]), \n",
    "                    (doc_id_2, [token 1, token 2, ....]) \n",
    "                    ...\n",
    "                ]\n",
    "\n",
    "        \"\"\"\n",
    "        self.doc_repr = doc_repr\n",
    "        self.documents = [_[1] for _ in self.doc_repr]\n",
    "        \n",
    "        # construct a dictionary\n",
    "        self.dictionary = Dictionary(self.documents)\n",
    "        # Filter out words that occur less than 20 documents, or more than 50% of the documents.\n",
    "        self.dictionary.filter_extremes(no_below=10)\n",
    "        self.corpus = [self.dictionary.doc2bow(doc) for doc in self.documents]\n",
    "    \n",
    "        # Make a index to word dictionary.\n",
    "        temp = self.dictionary[0]  # This is only to \"load\" the dictionary.\n",
    "        self.id2word = self.dictionary.id2token\n",
    "        \n",
    "        # this is set by the train_model function\n",
    "        self.model = None\n",
    "        \n",
    "        \n",
    "    def vectorize_documents(self):\n",
    "        \"\"\"\n",
    "            Returns a doc_id -> vector dictionary\n",
    "        \"\"\"\n",
    "        vectors = {}\n",
    "        for (doc_id, _), cc in zip(self.doc_repr, self.corpus):\n",
    "            vectors[doc_id] = self.model[cc]\n",
    "        return vectors\n",
    "\n",
    "    def vectorize_query(self, query):\n",
    "        # Note the use of config_2 here!\n",
    "        query = process_text(query, **config_2)\n",
    "        query_vector = self.dictionary.doc2bow(query)\n",
    "        return self.model[query_vector]\n",
    "    \n",
    "    def train_model(self):\n",
    "        \"\"\"\n",
    "            Trains a model and sets the 'self.model' variable. \n",
    "            Make sure to use the variables created in the __init__ method.\n",
    "            e.g the variables which may be useful: {corpus, dictionary, id2word}\n",
    "        \"\"\"\n",
    "        raise NotImplementedError()"
   ]
  },
  {
   "cell_type": "markdown",
   "metadata": {
    "deletable": false,
    "editable": false,
    "nbgrader": {
     "cell_type": "markdown",
     "checksum": "ff161eefd9b81b768cd6361bc1a502b0",
     "grade": false,
     "grade_id": "cell-704a18c2f80cd60c",
     "locked": true,
     "schema_version": 3,
     "solution": false,
     "task": false
    }
   },
   "source": [
    "---\n",
    "**Implementation (5 points):**\n",
    "Implement the `train_model` method in the following class (note that this is only one line of code in `gensim`!). Ensure that the parameters defined in the `__init__` method are not changed, and are *used in the `train_method` function*. Normally, the hyperaparameter space will be searched using grid search / other methods - in this assignment we have provided the hyperparameters for you.\n",
    "\n",
    "The last two lines of code train an LSI model on the list of documents which have been stemmed, lower-cased and have stopwords removed. "
   ]
  },
  {
   "cell_type": "code",
   "execution_count": 77,
   "metadata": {
    "deletable": false,
    "nbgrader": {
     "cell_type": "code",
     "checksum": "0e90eedc27c248bc1ae050518a46a46c",
     "grade": false,
     "grade_id": "cell-307682c9089f15d6",
     "locked": false,
     "schema_version": 3,
     "solution": true,
     "task": false
    }
   },
   "outputs": [],
   "source": [
    "# TODO: Implement this! (5 points)\n",
    "class LsiRetrievalModel(VectorSpaceRetrievalModel):\n",
    "    def __init__(self, doc_repr):\n",
    "        super().__init__(doc_repr)\n",
    "        \n",
    "        self.num_topics = 100\n",
    "        self.chunksize = 2000\n",
    "    \n",
    "    def train_model(self):\n",
    "        # YOUR CODE HERE\n",
    "        self.model = LsiModel(self.corpus, id2word=self.id2word, num_topics=self.num_topics, chunksize=self.chunksize)"
   ]
  },
  {
   "cell_type": "code",
   "execution_count": 78,
   "metadata": {
    "deletable": false,
    "editable": false,
    "nbgrader": {
     "cell_type": "code",
     "checksum": "00399cfe13d60cb4beed1271e36004b0",
     "grade": true,
     "grade_id": "cell-5ce512650c1b2dfb",
     "locked": true,
     "points": 0,
     "schema_version": 3,
     "solution": false,
     "task": false
    }
   },
   "outputs": [
    {
     "name": "stderr",
     "output_type": "stream",
     "text": [
      "2021-02-19 20:16:52,051 : INFO : adding document #0 to Dictionary(0 unique tokens: [])\n",
      "2021-02-19 20:16:52,188 : INFO : built Dictionary(5937 unique tokens: ['-', 'algebra', 'intern', 'languag', 'preliminari']...) from 3204 documents (total 115970 corpus positions)\n",
      "2021-02-19 20:16:52,199 : INFO : discarding 4740 tokens: [('repeat', 8), ('glossari', 7), ('inspect', 8), ('uncol', 2), ('rung', 9), ('secant', 2), ('.', 1603), ('acceler', 6), ('diverg', 3), ('induc', 9)]...\n",
      "2021-02-19 20:16:52,200 : INFO : keeping 1197 tokens which were in no less than 10 and no more than 1602 (=50.0%) documents\n",
      "2021-02-19 20:16:52,203 : INFO : resulting dictionary: Dictionary(1197 unique tokens: ['-', 'algebra', 'intern', 'languag', 'preliminari']...)\n",
      "2021-02-19 20:16:52,272 : INFO : using serial LSI version on this node\n",
      "2021-02-19 20:16:52,272 : INFO : updating model with new documents\n",
      "2021-02-19 20:16:52,273 : INFO : preparing a new chunk of documents\n",
      "2021-02-19 20:16:52,286 : INFO : using 100 extra samples and 2 power iterations\n",
      "2021-02-19 20:16:52,287 : INFO : 1st phase: constructing (1197, 200) action matrix\n",
      "2021-02-19 20:16:52,329 : INFO : orthonormalizing (1197, 200) action matrix\n",
      "2021-02-19 20:16:52,608 : INFO : 2nd phase: running dense svd on (200, 2000) matrix\n",
      "2021-02-19 20:16:52,710 : INFO : computing the final decomposition\n",
      "2021-02-19 20:16:52,711 : INFO : keeping 100 factors (discarding 13.423% of energy spectrum)\n",
      "2021-02-19 20:16:52,741 : INFO : processed documents up to #2000\n",
      "2021-02-19 20:16:52,753 : INFO : topic #0(152.127): 0.741*\",\" + 0.342*\"-\" + 0.211*\"system\" + 0.204*\"program\" + 0.192*\"comput\" + 0.146*\"(\" + 0.127*\"languag\" + 0.108*\")\" + 0.084*\"gener\" + 0.083*\"data\"\n",
      "2021-02-19 20:16:52,754 : INFO : topic #1(60.600): -0.607*\"(\" + -0.434*\")\" + -0.366*\"algorithm\" + -0.300*\"-\" + 0.237*\",\" + 0.213*\"system\" + 0.132*\"comput\" + -0.096*\"[\" + 0.093*\"program\" + -0.084*\"])\"\n",
      "2021-02-19 20:16:52,756 : INFO : topic #2(57.438): 0.744*\"-\" + -0.452*\",\" + 0.263*\"system\" + -0.214*\"(\" + -0.166*\")\" + 0.107*\"time\" + 0.105*\"program\" + -0.094*\"algorithm\" + 0.068*\"comput\" + 0.067*\"share\"\n",
      "2021-02-19 20:16:52,757 : INFO : topic #3(48.370): 0.483*\"system\" + 0.375*\"program\" + 0.367*\"comput\" + -0.363*\"-\" + -0.308*\",\" + 0.212*\"(\" + 0.168*\")\" + 0.147*\"algorithm\" + -0.144*\"languag\" + 0.119*\"time\"\n",
      "2021-02-19 20:16:52,758 : INFO : topic #4(45.710): 0.489*\"comput\" + -0.475*\"languag\" + -0.428*\"program\" + 0.238*\"method\" + 0.141*\"problem\" + -0.121*\"system\" + -0.109*\")\" + 0.107*\"equat\" + 0.100*\"algorithm\" + -0.099*\"(\"\n",
      "2021-02-19 20:16:52,759 : INFO : preparing a new chunk of documents\n",
      "2021-02-19 20:16:52,792 : INFO : using 100 extra samples and 2 power iterations\n",
      "2021-02-19 20:16:52,795 : INFO : 1st phase: constructing (1197, 200) action matrix\n",
      "2021-02-19 20:16:52,839 : INFO : orthonormalizing (1197, 200) action matrix\n",
      "2021-02-19 20:16:52,935 : INFO : 2nd phase: running dense svd on (200, 1204) matrix\n",
      "2021-02-19 20:16:53,004 : INFO : computing the final decomposition\n",
      "2021-02-19 20:16:53,005 : INFO : keeping 100 factors (discarding 14.027% of energy spectrum)\n",
      "2021-02-19 20:16:53,030 : INFO : merging projections: (1197, 100) + (1197, 100)\n",
      "2021-02-19 20:16:53,112 : INFO : keeping 100 factors (discarding 8.167% of energy spectrum)\n",
      "2021-02-19 20:16:53,123 : INFO : processed documents up to #3204\n",
      "2021-02-19 20:16:53,126 : INFO : topic #0(225.136): 0.759*\",\" + 0.337*\"-\" + 0.196*\"system\" + 0.186*\"program\" + 0.166*\"comput\" + 0.139*\"(\" + 0.103*\")\" + 0.103*\"algorithm\" + 0.099*\"languag\" + 0.087*\"time\"\n",
      "2021-02-19 20:16:53,127 : INFO : topic #1(87.805): 0.613*\"-\" + -0.399*\",\" + 0.399*\"(\" + 0.326*\"algorithm\" + 0.293*\")\" + -0.129*\"system\" + -0.107*\"program\" + 0.085*\"method\" + 0.077*\"time\" + 0.062*\"1\"\n",
      "2021-02-19 20:16:53,128 : INFO : topic #2(81.909): 0.550*\"-\" + -0.434*\"(\" + 0.355*\"system\" + -0.321*\")\" + -0.291*\",\" + -0.266*\"algorithm\" + 0.146*\"program\" + 0.123*\"comput\" + 0.078*\"time\" + -0.064*\"[\"\n",
      "2021-02-19 20:16:53,129 : INFO : topic #3(72.433): -0.693*\"program\" + 0.339*\",\" + 0.279*\"-\" + -0.251*\"(\" + -0.221*\"system\" + -0.214*\"languag\" + -0.204*\")\" + -0.160*\"comput\" + -0.099*\"data\" + -0.056*\"execut\"\n",
      "2021-02-19 20:16:53,130 : INFO : topic #4(68.523): -0.673*\"system\" + 0.453*\"program\" + 0.254*\"languag\" + 0.212*\"-\" + -0.179*\"comput\" + -0.165*\"(\" + -0.121*\")\" + -0.115*\"model\" + 0.101*\",\" + -0.098*\"algorithm\"\n"
     ]
    },
    {
     "data": {
      "text/plain": [
       "[(0, 0.01521299458303828),\n",
       " (1, -0.01626292030482894),\n",
       " (2, -0.00017274417366801862),\n",
       " (3, -0.0018225860584308057),\n",
       " (4, -0.009433783162439752),\n",
       " (5, -0.004676769198227713),\n",
       " (6, 0.027071491606199614),\n",
       " (7, 0.016815527540782284),\n",
       " (8, -0.03169996073090142),\n",
       " (9, -0.0007413521792763392),\n",
       " (10, 0.0025102078995037813),\n",
       " (11, -0.01737053813359255),\n",
       " (12, -0.0002505239861520323),\n",
       " (13, 0.001282379365238403),\n",
       " (14, 0.004428982422425868),\n",
       " (15, 0.005377122057535578),\n",
       " (16, 0.00557950644607589),\n",
       " (17, 0.0020349272463363564),\n",
       " (18, -0.018159947193165563),\n",
       " (19, 0.02046996368849833),\n",
       " (20, -0.008889437544979454),\n",
       " (21, -0.013023891856600465),\n",
       " (22, 0.04702950736985083),\n",
       " (23, 0.026350151510094403),\n",
       " (24, -0.010149083989642087),\n",
       " (25, -0.010516282075262794),\n",
       " (26, 0.005615288792569261),\n",
       " (27, 0.07747516543687674),\n",
       " (28, -0.06213453648519134),\n",
       " (29, 0.0316337121510241),\n",
       " (30, 0.04292722467192418),\n",
       " (31, 0.04500872492891385),\n",
       " (32, -0.07327974993459932),\n",
       " (33, 0.04251518206352061),\n",
       " (34, -0.02790748017830456),\n",
       " (35, 0.06259300833932338),\n",
       " (36, 0.041854959199585234),\n",
       " (37, -0.013783669820382607),\n",
       " (38, -0.05794337988794869),\n",
       " (39, 0.025632467794983797),\n",
       " (40, -0.042659839331022416),\n",
       " (41, -0.038532192251486325),\n",
       " (42, 0.023446678639691344),\n",
       " (43, 0.0081224048144447),\n",
       " (44, 0.011504268006819404),\n",
       " (45, 0.05580225309644338),\n",
       " (46, -0.006552104704767962),\n",
       " (47, 0.007056213935251813),\n",
       " (48, 0.005122008247761961),\n",
       " (49, 0.030615259814259308),\n",
       " (50, 0.008470688311912429),\n",
       " (51, 0.05567927377572657),\n",
       " (52, -0.00848494439258064),\n",
       " (53, 0.005569507966403632),\n",
       " (54, 0.03951071228283383),\n",
       " (55, 0.027721349346032334),\n",
       " (56, 0.0018802477065508472),\n",
       " (57, -0.0046394130826037105),\n",
       " (58, -0.018804970937597726),\n",
       " (59, 0.04214369863363451),\n",
       " (60, -0.004885376813657298),\n",
       " (61, -0.054181633742502566),\n",
       " (62, 0.015134943659053511),\n",
       " (63, 0.03614017718949062),\n",
       " (64, -0.02843005676072051),\n",
       " (65, 0.06468917537117427),\n",
       " (66, 0.0030509005463344755),\n",
       " (67, -0.04793403799287694),\n",
       " (68, 0.007862726236881414),\n",
       " (69, -0.043718806082097696),\n",
       " (70, -0.05692419024525808),\n",
       " (71, -0.016475584236324357),\n",
       " (72, 0.04677800568066367),\n",
       " (73, -0.06914975163950812),\n",
       " (74, -0.05287468814664961),\n",
       " (75, 0.03090036070085203),\n",
       " (76, 0.04290330210498522),\n",
       " (77, 0.008426236483880262),\n",
       " (78, 0.05714989981362846),\n",
       " (79, -0.005445878845578501),\n",
       " (80, -0.0032135392577231844),\n",
       " (81, 0.00568784847546995),\n",
       " (82, 0.046779987287228916),\n",
       " (83, 0.02279287600274292),\n",
       " (84, 0.035776523381282774),\n",
       " (85, -0.047994920156597405),\n",
       " (86, -0.034560835341876914),\n",
       " (87, -0.0570961210885891),\n",
       " (88, 0.020015105114148068),\n",
       " (89, -0.08274450486369447),\n",
       " (90, -0.04486449036326365),\n",
       " (91, 0.0210328770895305),\n",
       " (92, -0.03357145784442013),\n",
       " (93, 0.052794014962732505),\n",
       " (94, -0.03302833765768404),\n",
       " (95, 0.04310762942538045),\n",
       " (96, 0.009905728594829032),\n",
       " (97, -0.01653536401606756),\n",
       " (98, -0.020266201887346777),\n",
       " (99, 0.004650509034482435)]"
      ]
     },
     "execution_count": 78,
     "metadata": {},
     "output_type": "execute_result"
    }
   ],
   "source": [
    "##### Function check\n",
    "lsi = LsiRetrievalModel(doc_repr_2)\n",
    "lsi.train_model()\n",
    "\n",
    "# you can now get an LSI vector for a given query in the following way:\n",
    "lsi.vectorize_query(\"report\")\n",
    "##### "
   ]
  },
  {
   "cell_type": "markdown",
   "metadata": {
    "deletable": false,
    "editable": false,
    "nbgrader": {
     "cell_type": "markdown",
     "checksum": "7116bb9f576c5bb04934e1d59c51d729",
     "grade": false,
     "grade_id": "cell-4c5eeb557b4fca2f",
     "locked": true,
     "points": 5,
     "schema_version": 3,
     "solution": false,
     "task": true
    }
   },
   "source": [
    "\\#### Please do not change this. This cell is used for grading."
   ]
  },
  {
   "cell_type": "markdown",
   "metadata": {
    "deletable": false,
    "editable": false,
    "nbgrader": {
     "cell_type": "markdown",
     "checksum": "1068a108600b8c1539117d543e720354",
     "grade": false,
     "grade_id": "cell-c4e50296cd17a555",
     "locked": true,
     "schema_version": 3,
     "solution": false,
     "task": false
    }
   },
   "source": [
    "---\n",
    "Next, implement a basic ranking class for vector space retrieval (used for all semantic methods): "
   ]
  },
  {
   "cell_type": "code",
   "execution_count": 79,
   "metadata": {
    "deletable": false,
    "nbgrader": {
     "cell_type": "code",
     "checksum": "1a8389d2f0635c3405e2b0b27ed9f327",
     "grade": false,
     "grade_id": "cell-250515d288e80cdc",
     "locked": false,
     "schema_version": 3,
     "solution": true,
     "task": false
    }
   },
   "outputs": [],
   "source": [
    "# TODO: Implement this! (5 points)\n",
    "\n",
    "class DenseRetrievalRanker:\n",
    "    def __init__(self, vsrm, similarity_fn):\n",
    "        \"\"\"\n",
    "            vsrm: instance of `VectorSpaceRetrievalModel`\n",
    "            similarity_fn: function instance that takes in two vectors \n",
    "                            and returns a similarity score e.g cosine_sim defined earlier\n",
    "        \"\"\"\n",
    "        self.vsrm = vsrm \n",
    "        self.vectorized_documents = self.vsrm.vectorize_documents()\n",
    "        self.similarity_fn = similarity_fn\n",
    "    \n",
    "    def _compute_sim(self, query_vector):\n",
    "        \"\"\"\n",
    "            Compute the similarity of `query_vector` to documents in \n",
    "            `self.vectorized_documents` using `self.similarity_fn`\n",
    "            Returns a list of (doc_id, score) tuples\n",
    "        \"\"\"\n",
    "        \n",
    "        # YOUR CODE HERE\n",
    "        \n",
    "        # Calculate cosine similarity score for every document\n",
    "        scores = {key: self.similarity_fn(query_vector, value) for (key, value) in self.vectorized_documents.items()}\n",
    "        \n",
    "        # Return list with tuples containing document_id sorted on score in descending order\n",
    "        return sorted(scores.items(), key=lambda x: x[1], reverse=True)\n",
    "    \n",
    "    def search(self, query):\n",
    "        scores = self._compute_sim(self.vsrm.vectorize_query(query))\n",
    "        scores.sort(key=lambda _:-_[1])\n",
    "        return scores "
   ]
  },
  {
   "cell_type": "code",
   "execution_count": 80,
   "metadata": {
    "deletable": false,
    "editable": false,
    "nbgrader": {
     "cell_type": "code",
     "checksum": "f237dd1ef6c1783c06797f4b514421f5",
     "grade": true,
     "grade_id": "cell-b73068b3e77a8e31",
     "locked": true,
     "points": 0,
     "schema_version": 3,
     "solution": false,
     "task": false
    }
   },
   "outputs": [
    {
     "name": "stderr",
     "output_type": "stream",
     "text": [
      "/home/matyi/university/venv/lib/python3.6/site-packages/ipykernel_launcher.py:18: RuntimeWarning: invalid value encountered in double_scalars\n"
     ]
    },
    {
     "data": {
      "text/plain": [
       "[(599, 0.7920464158812651),\n",
       " (53, 0.49343900862983175),\n",
       " (1339, 0.4557131473212767),\n",
       " (2181, 0.424684077578171),\n",
       " (196, 0.413889307273635)]"
      ]
     },
     "execution_count": 80,
     "metadata": {},
     "output_type": "execute_result"
    }
   ],
   "source": [
    "##### Function check\n",
    "drm_lsi = DenseRetrievalRanker(lsi, cosine_sim)\n",
    "drm_lsi.search(\"report\")[:5]\n",
    "##### "
   ]
  },
  {
   "cell_type": "markdown",
   "metadata": {
    "deletable": false,
    "editable": false,
    "nbgrader": {
     "cell_type": "markdown",
     "checksum": "5b3f19fdcaa585d263706d5a26038799",
     "grade": false,
     "grade_id": "cell-034c755a6502b868",
     "locked": true,
     "points": 5,
     "schema_version": 3,
     "solution": false,
     "task": true
    }
   },
   "source": [
    "\\#### Please do not change this. This cell is used for grading."
   ]
  },
  {
   "cell_type": "markdown",
   "metadata": {
    "deletable": false,
    "editable": false,
    "nbgrader": {
     "cell_type": "markdown",
     "checksum": "dcafef6e037033c46304b914f7c78bdf",
     "grade": false,
     "grade_id": "cell-d1df23f497d5ed6b",
     "locked": true,
     "schema_version": 3,
     "solution": false,
     "task": false
    }
   },
   "source": [
    "---\n",
    "Now, you can test your LSI model in the following cell: try finding queries which are lexically different to documents, but semantically similar - does LSI work well for these queries?!"
   ]
  },
  {
   "cell_type": "code",
   "execution_count": 81,
   "metadata": {
    "deletable": false,
    "editable": false,
    "nbgrader": {
     "cell_type": "code",
     "checksum": "11734bc7674377b340ad51297a8e8bb5",
     "grade": false,
     "grade_id": "cell-efd1d08dfc04ec3e",
     "locked": true,
     "schema_version": 3,
     "solution": false,
     "task": false
    }
   },
   "outputs": [
    {
     "data": {
      "application/vnd.jupyter.widget-view+json": {
       "model_id": "7bb7d64bf0d34b7aaaadbad3ebf59c7d",
       "version_major": 2,
       "version_minor": 0
      },
      "text/plain": [
       "Text(value='', description='Search Bar')"
      ]
     },
     "metadata": {},
     "output_type": "display_data"
    }
   ],
   "source": [
    "# test your LSI model\n",
    "search_fn = drm_lsi.search\n",
    "\n",
    "text = widgets.Text(description=\"Search Bar\", width=200)\n",
    "display(text)\n",
    "\n",
    "def make_results_2(query, search_fn):\n",
    "    results = []\n",
    "    for doc_id, score in search_fn(query):\n",
    "        highlight = highlight_text(docs_by_id[doc_id], query)\n",
    "        if len(highlight.strip()) == 0:\n",
    "            highlight = docs_by_id[doc_id]\n",
    "        results.append(ResultRow(doc_id, highlight, score))\n",
    "    return results\n",
    "\n",
    "def handle_submit_2(sender):\n",
    "    print(f\"Searching for: '{sender.value}' (SEARCH FN: {search_fn})\")\n",
    "    \n",
    "    results = make_results_2(sender.value, search_fn)\n",
    "    \n",
    "    # display only the top 5\n",
    "    results = results[:5]\n",
    "    \n",
    "    body = \"\"\n",
    "    for idx, r in enumerate(results):\n",
    "        body += f\"<li>Document #{r.doc_id}({r.score}): {r.snippet}</li>\"\n",
    "    display(HTML(f\"<ul>{body}</ul>\"))\n",
    "    \n",
    "\n",
    "text.on_submit(handle_submit_2)"
   ]
  },
  {
   "cell_type": "markdown",
   "metadata": {
    "deletable": false,
    "editable": false,
    "nbgrader": {
     "cell_type": "markdown",
     "checksum": "d074ce1ca48384cdda78742741c938be",
     "grade": false,
     "grade_id": "cell-3a86cef264d8f6cf",
     "locked": true,
     "schema_version": 3,
     "solution": false,
     "task": false
    }
   },
   "source": [
    "---\n",
    "## Section 7: Latent Dirichlet Allocation (LDA) (10 points) <a class=\"anchor\" id=\"lda\"></a>\n",
    "\n",
    "[Back to Part 2](#part2)\n",
    "\n",
    "The specifics of LDA is out of the scope of this assignment, but we will use the `gensim` implementation to perform search using LDA over our small document collection. The key thing to remember is that LDA, unlike LSI, outputs a topic **distribution**, not a vector. With that in mind, let's first define a similarity measure.\n"
   ]
  },
  {
   "cell_type": "markdown",
   "metadata": {
    "deletable": false,
    "editable": false,
    "nbgrader": {
     "cell_type": "markdown",
     "checksum": "db01092373b18f0c9dfed1bb17db4ad9",
     "grade": false,
     "grade_id": "cell-6b78ad22c2d60ba7",
     "locked": true,
     "schema_version": 3,
     "solution": false,
     "task": false
    }
   },
   "source": [
    "---\n",
    "### Section 7.1: Jenson-Shannon divergence (5 points) <a class=\"anchor\" id=\"js_sim\"></a>\n",
    "\n",
    "The Jenson-Shannon divergence is a symmetric and finite measure on two probability distributions (unlike the KL, which is neither). For identical distributions, the JSD is equal to 0, and since our code uses 0 as irrelevant and higher scores as relevant, we use `(1 - JSD)` as the score or 'similarity' in our setup\n",
    "\n",
    "**Note**: the JSD is bounded to \\[0,1\\] only if we use log base 2. So please ensure that you're using `np.log2` instead of `np.log`"
   ]
  },
  {
   "cell_type": "code",
   "execution_count": 82,
   "metadata": {
    "deletable": false,
    "nbgrader": {
     "cell_type": "code",
     "checksum": "a579e6cd7a24a3516bc9a84528b392d3",
     "grade": false,
     "grade_id": "cell-d2376a85a4841e98",
     "locked": false,
     "schema_version": 3,
     "solution": true,
     "task": false
    }
   },
   "outputs": [],
   "source": [
    "## TODO: Implement this! (5 points)\n",
    "# Note for TA: if assert_prob = True, in part 9 numerical value error (it is not exactly 1.0000 and thus function\n",
    "#errors)\n",
    "def jenson_shannon_divergence(vec_1, vec_2, assert_prob=False):\n",
    "    \"\"\"\n",
    "        Computes the Jensen-Shannon divergence between two probability distributions. \n",
    "        NOTE: DO NOT RETURN 1 - JSD here, that is handled by the next function which is already implemented! \n",
    "        The inputs are *gensim* vectors - same as the vectors for the cosine_sim function\n",
    "        assert_prob is a flag that checks if the inputs are proper probability distributions \n",
    "            i.e they sum to 1 and are positive - use this to check your inputs if needed. \n",
    "                (This is optional to implement, but recommended - \n",
    "                you can the default to False to save a few ms off the runtime)\n",
    "    \"\"\"\n",
    "    # YOUR CODE HERE\n",
    "    \n",
    "    if assert_prob:\n",
    "        if sum([x for _, x in vec_1 if x>=0]) != 1 or sum([y for _, y in vec_2 if y>=0]) != 1:\n",
    "            raise ValueError(f\"Invalid distribution encountered\")\n",
    " \n",
    "    # Calculate M = 0.5 (P + Q)\n",
    "    M = [(P[1] + Q[1])/2 for P, Q in zip(vec_1, vec_2)]\n",
    "    \n",
    "    # JSD = 0.5 * sum(log P - log M) + 0.5 * Q*sum(log Q - log M)\n",
    "    return 0.5*sum([P[1]*(np.log2(P[1]/m)) for P, m in zip (vec_1, M)]) + 0.5*sum([Q[1]*np.log2(Q[1]/m) for Q, m in zip (vec_2, M)])\n",
    "    \n",
    "\n",
    "def jenson_shannon_sim(vec_1, vec_2, assert_prob=False):\n",
    "    return 1 - jenson_shannon_divergence(vec_1, vec_2)"
   ]
  },
  {
   "cell_type": "code",
   "execution_count": 83,
   "metadata": {
    "deletable": false,
    "editable": false,
    "nbgrader": {
     "cell_type": "code",
     "checksum": "ab340aa941c9fb5c89b3fd0a9139e246",
     "grade": true,
     "grade_id": "cell-487c6d2933f38053",
     "locked": true,
     "points": 5,
     "schema_version": 3,
     "solution": false,
     "task": false
    }
   },
   "outputs": [
    {
     "data": {
      "text/plain": [
       "0.9251064410358459"
      ]
     },
     "execution_count": 83,
     "metadata": {},
     "output_type": "execute_result"
    }
   ],
   "source": [
    "##### Function check\n",
    "vec_1 = [(1, 0.3), (2, 0.4), (3, 0.3)]\n",
    "vec_2 = [(1, 0.1), (2, 0.7), (3, 0.2)]\n",
    "jenson_shannon_sim(vec_1, vec_2, assert_prob=True)\n",
    "##### "
   ]
  },
  {
   "cell_type": "markdown",
   "metadata": {
    "deletable": false,
    "editable": false,
    "nbgrader": {
     "cell_type": "markdown",
     "checksum": "0a1583a5f23e3390038331cce67f5d8e",
     "grade": false,
     "grade_id": "cell-4535cc67a50b80fa",
     "locked": true,
     "schema_version": 3,
     "solution": false,
     "task": false
    }
   },
   "source": [
    "---\n",
    "### Section 7.2: LDA retrieval (5 points) <a class=\"anchor\" id=\"lda_ret\"></a>\n",
    "\n",
    "Implement the `train_model` method in the following class (note that this is only one line of code in `gensim`!). Ensure that the parameters defined in the `__init__` method are not changed, and are *used in the `train_method` function*. You do not need to set this. Normally, the hyperaparameter space will be searched using grid search / other methods. Note that training the LDA model might take some time\n",
    "\n",
    "The last two lines of code train an LDA model on the list of documents which have been stemmed, lower-cased and have stopwords removed. "
   ]
  },
  {
   "cell_type": "code",
   "execution_count": 84,
   "metadata": {
    "deletable": false,
    "nbgrader": {
     "cell_type": "code",
     "checksum": "27de8e4fa85536bb396b73bfc51b3f50",
     "grade": false,
     "grade_id": "cell-021a48dff4a8bb91",
     "locked": false,
     "schema_version": 3,
     "solution": true,
     "task": false
    }
   },
   "outputs": [],
   "source": [
    "# TODO: Implement this! (5 points)\n",
    "class LdaRetrievalModel(VectorSpaceRetrievalModel):\n",
    "    def __init__(self, doc_repr):\n",
    "        super().__init__(doc_repr)\n",
    "        \n",
    "        # use these parameters in the train_model method\n",
    "        self.num_topics = 100\n",
    "        self.chunksize = 2000\n",
    "        self.passes = 20\n",
    "        self.iterations = 400\n",
    "        self.eval_every = 10\n",
    "        # this is need to get full vectors\n",
    "        self.minimum_probability=0.0\n",
    "        self.alpha='auto'\n",
    "        self.eta='auto'\n",
    "    \n",
    "    \n",
    "    def train_model(self):\n",
    "        # YOUR CODE HERE\n",
    "        self.model = LdaModel(self.corpus, id2word=self.id2word, num_topics=self.num_topics, chunksize=self.chunksize, \n",
    "                        passes=self.passes, iterations=self.iterations, eval_every=self.eval_every, \n",
    "                        minimum_probability=self.minimum_probability, alpha=self.alpha, eta=self.eta)"
   ]
  },
  {
   "cell_type": "code",
   "execution_count": 85,
   "metadata": {
    "deletable": false,
    "editable": false,
    "nbgrader": {
     "cell_type": "code",
     "checksum": "be70fcb8098d0b6ce64cd2a10e6a05b7",
     "grade": true,
     "grade_id": "cell-86750b715f0345fd",
     "locked": true,
     "points": 0,
     "schema_version": 3,
     "solution": false,
     "task": false
    }
   },
   "outputs": [
    {
     "name": "stderr",
     "output_type": "stream",
     "text": [
      "2021-02-19 20:16:54,549 : INFO : adding document #0 to Dictionary(0 unique tokens: [])\n",
      "2021-02-19 20:16:54,685 : INFO : built Dictionary(5937 unique tokens: ['-', 'algebra', 'intern', 'languag', 'preliminari']...) from 3204 documents (total 115970 corpus positions)\n",
      "2021-02-19 20:16:54,690 : INFO : discarding 4740 tokens: [('repeat', 8), ('glossari', 7), ('inspect', 8), ('uncol', 2), ('rung', 9), ('secant', 2), ('.', 1603), ('acceler', 6), ('diverg', 3), ('induc', 9)]...\n",
      "2021-02-19 20:16:54,690 : INFO : keeping 1197 tokens which were in no less than 10 and no more than 1602 (=50.0%) documents\n",
      "2021-02-19 20:16:54,694 : INFO : resulting dictionary: Dictionary(1197 unique tokens: ['-', 'algebra', 'intern', 'languag', 'preliminari']...)\n",
      "2021-02-19 20:16:54,760 : INFO : using autotuned alpha, starting with [0.01, 0.01, 0.01, 0.01, 0.01, 0.01, 0.01, 0.01, 0.01, 0.01, 0.01, 0.01, 0.01, 0.01, 0.01, 0.01, 0.01, 0.01, 0.01, 0.01, 0.01, 0.01, 0.01, 0.01, 0.01, 0.01, 0.01, 0.01, 0.01, 0.01, 0.01, 0.01, 0.01, 0.01, 0.01, 0.01, 0.01, 0.01, 0.01, 0.01, 0.01, 0.01, 0.01, 0.01, 0.01, 0.01, 0.01, 0.01, 0.01, 0.01, 0.01, 0.01, 0.01, 0.01, 0.01, 0.01, 0.01, 0.01, 0.01, 0.01, 0.01, 0.01, 0.01, 0.01, 0.01, 0.01, 0.01, 0.01, 0.01, 0.01, 0.01, 0.01, 0.01, 0.01, 0.01, 0.01, 0.01, 0.01, 0.01, 0.01, 0.01, 0.01, 0.01, 0.01, 0.01, 0.01, 0.01, 0.01, 0.01, 0.01, 0.01, 0.01, 0.01, 0.01, 0.01, 0.01, 0.01, 0.01, 0.01, 0.01]\n",
      "2021-02-19 20:16:54,760 : INFO : using serial LDA version on this node\n",
      "2021-02-19 20:16:54,777 : INFO : running online (multi-pass) LDA training, 100 topics, 20 passes over the supplied corpus of 3204 documents, updating model once every 2000 documents, evaluating perplexity every 3204 documents, iterating 400x with a convergence threshold of 0.001000\n",
      "2021-02-19 20:16:54,777 : INFO : PROGRESS: pass 0, at document #2000/3204\n",
      "2021-02-19 20:16:56,524 : INFO : optimized alpha [0.009835746, 0.009820372, 0.009820709, 0.009779113, 0.009810345, 0.009918634, 0.009856979, 0.009815693, 0.009887805, 0.009943782, 0.009866369, 0.009902011, 0.009862216, 0.009856609, 0.009877931, 0.009844852, 0.009799629, 0.0097945435, 0.00982057, 0.009830761, 0.009789147, 0.009846334, 0.009810236, 0.009799706, 0.00979453, 0.009778824, 0.009856895, 0.009887059, 0.009825774, 0.009789325, 0.009794632, 0.009929487, 0.009809937, 0.009789255, 0.009830563, 0.009815326, 0.00983553, 0.009794532, 0.009825337, 0.009914671, 0.009877821, 0.009855048, 0.009789291, 0.009815404, 0.00985619, 0.00988313, 0.009804938, 0.009763477, 0.009862371, 0.009778997, 0.009799643, 0.009773854, 0.0098828515, 0.009814871, 0.009784058, 0.009830032, 0.00984634, 0.009789467, 0.009799775, 0.00979974, 0.009810052, 0.009810181, 0.009831066, 0.009784132, 0.009919267, 0.009820017, 0.009897783, 0.009773967, 0.00990917, 0.009835498, 0.009820359, 0.009940082, 0.009814116, 0.009805009, 0.009794513, 0.009810097, 0.009831418, 0.009794423, 0.009820486, 0.009813542, 0.009950656, 0.00982559, 0.009852001, 0.009866784, 0.009768589, 0.009824926, 0.00982571, 0.009800009, 0.009893359, 0.009763481, 0.009861341, 0.0097841825, 0.009836288, 0.0098363515, 0.009804911, 0.009773737, 0.009809693, 0.009789323, 0.009768726, 0.009794396]\n",
      "2021-02-19 20:16:56,534 : INFO : merging changes from 2000 documents into a model of 3204 documents\n",
      "2021-02-19 20:16:56,557 : INFO : topic #47 (0.010): 0.065*\"60\" + 0.065*\"express\" + 0.065*\"compil\" + 0.065*\"boolean\" + 0.065*\"condit\" + 0.065*\"statement\" + 0.065*\"algol\" + 0.065*\"techniqu\" + 0.000*\"stage\" + 0.000*\"instanc\"\n",
      "2021-02-19 20:16:56,557 : INFO : topic #98 (0.010): 0.064*\"comput\" + 0.051*\"graphic\" + 0.038*\"plotter\" + 0.038*\"digit\" + 0.038*\"inform\" + 0.026*\"half\" + 0.026*\"method\" + 0.026*\"imag\" + 0.026*\"obtain\" + 0.026*\",\"\n",
      "2021-02-19 20:16:56,559 : INFO : topic #71 (0.010): 0.073*\",\" + 0.032*\"-\" + 0.028*\"comput\" + 0.026*\"system\" + 0.024*\"algorithm\" + 0.022*\"program\" + 0.015*\"(\" + 0.012*\"sort\" + 0.012*\"oper\" + 0.010*\")\"\n",
      "2021-02-19 20:16:56,559 : INFO : topic #5 (0.010): 0.060*\"-\" + 0.046*\",\" + 0.029*\"(\" + 0.022*\"problem\" + 0.022*\")\" + 0.020*\"code\" + 0.019*\"system\" + 0.017*\"algorithm\" + 0.014*\"time\" + 0.014*\"comput\"\n",
      "2021-02-19 20:16:56,560 : INFO : topic #80 (0.010): 0.070*\",\" + 0.057*\"-\" + 0.023*\"system\" + 0.019*\"program\" + 0.014*\"algorithm\" + 0.014*\"list\" + 0.010*\"method\" + 0.010*\"comput\" + 0.010*\"function\" + 0.009*\"time\"\n",
      "2021-02-19 20:16:56,561 : INFO : topic diff=82.542465, rho=1.000000\n",
      "2021-02-19 20:16:57,732 : INFO : -7.294 per-word bound, 156.9 perplexity estimate based on a held-out corpus of 1204 documents with 49783 words\n",
      "2021-02-19 20:16:57,733 : INFO : PROGRESS: pass 0, at document #3204/3204\n",
      "2021-02-19 20:16:58,675 : INFO : optimized alpha [0.009770965, 0.00990932, 0.009974795, 0.010060156, 0.009934355, 0.010310737, 0.010023568, 0.010188179, 0.010054786, 0.009893888, 0.0102227405, 0.009988643, 0.01018936, 0.010086682, 0.010259323, 0.010194629, 0.009734923, 0.009882698, 0.009850506, 0.009906501, 0.0097009195, 0.009970791, 0.010081874, 0.0100231385, 0.009834776, 0.009831259, 0.009952659, 0.009837607, 0.010139356, 0.009730729, 0.0099595655, 0.010018137, 0.010013159, 0.009835615, 0.010076401, 0.0099923825, 0.010075279, 0.009806091, 0.009871713, 0.010382698, 0.010223613, 0.009765426, 0.0097944, 0.009991846, 0.010274942, 0.010013984, 0.009899944, 0.009605913, 0.010046847, 0.009644311, 0.009922454, 0.009773408, 0.010226543, 0.009702818, 0.009707571, 0.009829758, 0.009928621, 0.009837393, 0.01005235, 0.009776623, 0.009952143, 0.010021914, 0.009973064, 0.009958837, 0.010168625, 0.009772273, 0.009925861, 0.009686638, 0.01020172, 0.009880928, 0.009897445, 0.010230767, 0.010228256, 0.010038862, 0.009853252, 0.009875525, 0.010171064, 0.010038341, 0.010133506, 0.009707286, 0.010176482, 0.010047859, 0.010089527, 0.010084352, 0.009697915, 0.009978562, 0.009890459, 0.009865819, 0.009940842, 0.009530653, 0.010001707, 0.009819194, 0.010096725, 0.010127144, 0.009839983, 0.009744204, 0.009703417, 0.009875835, 0.0097686015, 0.009851699]\n",
      "2021-02-19 20:16:58,684 : INFO : merging changes from 1204 documents into a model of 3204 documents\n",
      "2021-02-19 20:16:58,694 : INFO : topic #89 (0.010): 0.227*\"statement\" + 0.196*\"iter\" + 0.054*\"element\" + 0.042*\"recent\" + 0.041*\"languag\" + 0.039*\"structur\" + 0.035*\"addit\" + 0.022*\")\" + 0.016*\"(\" + 0.008*\"express\"\n",
      "2021-02-19 20:16:58,695 : INFO : topic #47 (0.010): 0.240*\"condit\" + 0.199*\"boolean\" + 0.147*\"express\" + 0.116*\"compil\" + 0.053*\"statement\" + 0.042*\"techniqu\" + 0.037*\"algol\" + 0.035*\"60\" + 0.000*\"stage\" + 0.000*\"adapt\"\n",
      "2021-02-19 20:16:58,696 : INFO : topic #5 (0.010): 0.060*\"-\" + 0.050*\",\" + 0.029*\"problem\" + 0.021*\"(\" + 0.020*\"correct\" + 0.020*\"detect\" + 0.019*\"softwar\" + 0.019*\"system\" + 0.018*\")\" + 0.017*\"time\"\n",
      "2021-02-19 20:16:58,696 : INFO : topic #44 (0.010): 0.074*\"key\" + 0.056*\"(\" + 0.048*\")\" + 0.038*\"queri\" + 0.032*\",\" + 0.029*\"algorithm\" + 0.027*\"access\" + 0.026*\";\" + 0.023*\"index\" + 0.023*\"method\"\n",
      "2021-02-19 20:16:58,697 : INFO : topic #39 (0.010): 0.098*\",\" + 0.071*\"comput\" + 0.028*\"scienc\" + 0.026*\"program\" + 0.024*\"system\" + 0.014*\"present\" + 0.013*\"-\" + 0.013*\"educ\" + 0.013*\"cours\" + 0.010*\"univers\"\n",
      "2021-02-19 20:16:58,698 : INFO : topic diff=0.728759, rho=0.707107\n",
      "2021-02-19 20:16:58,709 : INFO : PROGRESS: pass 1, at document #2000/3204\n",
      "2021-02-19 20:16:59,646 : INFO : optimized alpha [0.009669705, 0.009843942, 0.009956411, 0.010109188, 0.009868747, 0.010203536, 0.009942818, 0.010124951, 0.0100107845, 0.009813847, 0.010125915, 0.009967138, 0.010156711, 0.009990739, 0.010189421, 0.01015872, 0.009686124, 0.009873469, 0.009876102, 0.009830623, 0.009914179, 0.009909658, 0.01003159, 0.009955111, 0.009939921, 0.010124224, 0.009894833, 0.009792018, 0.010133861, 0.009808701, 0.009932427, 0.009964948, 0.009923379, 0.009813337, 0.009982816, 0.009962231, 0.01013548, 0.009773902, 0.009883229, 0.010494807, 0.010132737, 0.009862932, 0.0097515965, 0.009919167, 0.010247817, 0.009976197, 0.00988493, 0.009698991, 0.009987738, 0.009671027, 0.009885791, 0.009840048, 0.010118791, 0.009722508, 0.009690357, 0.009781788, 0.009841614, 0.009908421, 0.009964634, 0.009844642, 0.009901666, 0.009943114, 0.009951877, 0.009984524, 0.010062541, 0.009769085, 0.009801988, 0.00963873, 0.01015853, 0.009839423, 0.009869445, 0.010114768, 0.010423602, 0.009997007, 0.009828327, 0.009900419, 0.010125418, 0.009961273, 0.010066099, 0.00998935, 0.010171848, 0.009979349, 0.010004679, 0.010017921, 0.009805787, 0.00986893, 0.009799207, 0.009833078, 0.009843363, 0.009527819, 0.00997114, 0.009771419, 0.010014178, 0.010089943, 0.009836086, 0.010034515, 0.009678356, 0.009910013, 0.009835452, 0.009799931]\n"
     ]
    },
    {
     "name": "stderr",
     "output_type": "stream",
     "text": [
      "2021-02-19 20:16:59,655 : INFO : merging changes from 2000 documents into a model of 3204 documents\n",
      "2021-02-19 20:16:59,665 : INFO : topic #89 (0.010): 0.347*\"statement\" + 0.311*\"iter\" + 0.061*\"element\" + 0.047*\"languag\" + 0.033*\"recent\" + 0.022*\"structur\" + 0.022*\"addit\" + 0.013*\")\" + 0.012*\"(\" + 0.010*\"made\"\n",
      "2021-02-19 20:16:59,666 : INFO : topic #0 (0.010): 0.041*\"method\" + 0.040*\",\" + 0.022*\"data\" + 0.020*\"present\" + 0.018*\"techniqu\" + 0.017*\"need\" + 0.017*\"matrix\" + 0.016*\"alloc\" + 0.016*\"-\" + 0.016*\"system\"\n",
      "2021-02-19 20:16:59,667 : INFO : topic #5 (0.010): 0.066*\"-\" + 0.052*\",\" + 0.028*\"problem\" + 0.018*\"(\" + 0.018*\"correct\" + 0.018*\"code\" + 0.018*\"system\" + 0.017*\")\" + 0.016*\"time\" + 0.016*\"detect\"\n",
      "2021-02-19 20:16:59,668 : INFO : topic #72 (0.010): 0.149*\")\" + 0.144*\"(\" + 0.067*\"]\" + 0.059*\"algorithm\" + 0.038*\"propos\" + 0.036*\"*\" + 0.031*\"approxim\" + 0.029*\"standard\" + 0.028*\"corrigendum\" + 0.027*\"[\"\n",
      "2021-02-19 20:16:59,668 : INFO : topic #39 (0.010): 0.099*\",\" + 0.081*\"comput\" + 0.028*\"program\" + 0.028*\"scienc\" + 0.021*\"system\" + 0.015*\"univers\" + 0.014*\"present\" + 0.013*\"-\" + 0.012*\"educ\" + 0.012*\"cours\"\n",
      "2021-02-19 20:16:59,669 : INFO : topic diff=0.330746, rho=0.526900\n",
      "2021-02-19 20:17:00,769 : INFO : -6.898 per-word bound, 119.2 perplexity estimate based on a held-out corpus of 1204 documents with 49783 words\n",
      "2021-02-19 20:17:00,769 : INFO : PROGRESS: pass 1, at document #3204/3204\n",
      "2021-02-19 20:17:01,635 : INFO : optimized alpha [0.009648268, 0.009963158, 0.0101734605, 0.010487249, 0.010010192, 0.010462039, 0.0100938855, 0.010388291, 0.0101353945, 0.009776357, 0.010376231, 0.010027571, 0.010408086, 0.010118335, 0.010362708, 0.01041391, 0.009684798, 0.010053613, 0.009920928, 0.009936584, 0.0099297855, 0.010042427, 0.010270676, 0.010184614, 0.010052213, 0.010447279, 0.009970898, 0.009793247, 0.010315555, 0.009843992, 0.010121799, 0.010004495, 0.010127893, 0.010001417, 0.0101267155, 0.010142803, 0.010336846, 0.009844601, 0.010032082, 0.010819952, 0.010370349, 0.00983672, 0.009817927, 0.010028872, 0.010579143, 0.010042695, 0.010069679, 0.009726346, 0.010067783, 0.0096391495, 0.0100437105, 0.009931, 0.010281326, 0.009677327, 0.009727002, 0.009853059, 0.009930246, 0.009943976, 0.010264016, 0.009901951, 0.010064686, 0.010137147, 0.010079589, 0.01014105, 0.010226017, 0.009770218, 0.009890836, 0.009698034, 0.010332212, 0.009926642, 0.009971147, 0.010304324, 0.010884931, 0.0101807155, 0.0099735465, 0.009970784, 0.010408901, 0.010210151, 0.010346924, 0.010093382, 0.010308639, 0.010100757, 0.01011522, 0.010189333, 0.0100219, 0.009935882, 0.009896529, 0.009922635, 0.009818967, 0.009469317, 0.0101240035, 0.009885343, 0.010200471, 0.010299193, 0.009954568, 0.010097098, 0.009651155, 0.010035571, 0.009961425, 0.009929946]\n",
      "2021-02-19 20:17:01,644 : INFO : merging changes from 1204 documents into a model of 3204 documents\n",
      "2021-02-19 20:17:01,654 : INFO : topic #89 (0.009): 0.427*\"statement\" + 0.284*\"iter\" + 0.086*\"element\" + 0.039*\"languag\" + 0.021*\"structur\" + 0.017*\"recent\" + 0.016*\"addit\" + 0.010*\")\" + 0.008*\"(\" + 0.004*\"made\"\n",
      "2021-02-19 20:17:01,655 : INFO : topic #96 (0.010): 0.102*\"segment\" + 0.076*\")\" + 0.076*\"(\" + 0.063*\"consum\" + 0.059*\"ii\" + 0.056*\"algorithm\" + 0.053*\"notat\" + 0.044*\"finit\" + 0.036*\"goal\" + 0.031*\"divisor\"\n",
      "2021-02-19 20:17:01,656 : INFO : topic #44 (0.011): 0.086*\"key\" + 0.052*\"(\" + 0.043*\")\" + 0.039*\"queri\" + 0.035*\",\" + 0.033*\"access\" + 0.032*\"index\" + 0.031*\";\" + 0.021*\"method\" + 0.021*\"attribut\"\n",
      "2021-02-19 20:17:01,656 : INFO : topic #39 (0.011): 0.099*\",\" + 0.090*\"comput\" + 0.034*\"scienc\" + 0.027*\"program\" + 0.021*\"system\" + 0.017*\"educ\" + 0.016*\"cours\" + 0.015*\"present\" + 0.013*\"univers\" + 0.013*\"-\"\n",
      "2021-02-19 20:17:01,657 : INFO : topic #72 (0.011): 0.188*\")\" + 0.168*\"(\" + 0.130*\"]\" + 0.062*\"algorithm\" + 0.050*\"[\" + 0.039*\"corrigendum\" + 0.031*\"propos\" + 0.025*\"-\" + 0.021*\"*\" + 0.020*\"5\"\n",
      "2021-02-19 20:17:01,658 : INFO : topic diff=0.399186, rho=0.526900\n",
      "2021-02-19 20:17:01,667 : INFO : PROGRESS: pass 2, at document #2000/3204\n",
      "2021-02-19 20:17:02,581 : INFO : optimized alpha [0.009596675, 0.009936082, 0.010203963, 0.010560231, 0.009989704, 0.010379577, 0.010038889, 0.010336983, 0.010117959, 0.009734427, 0.01030047, 0.010037465, 0.010423722, 0.010060067, 0.010299949, 0.010387186, 0.009657404, 0.010082001, 0.0099651115, 0.009891084, 0.010137146, 0.010014253, 0.010247974, 0.010184792, 0.010145303, 0.01109576, 0.009948886, 0.009777971, 0.010336173, 0.00995044, 0.010160316, 0.009965788, 0.010068477, 0.010024954, 0.010055774, 0.010122017, 0.010383272, 0.009858161, 0.0100769345, 0.010961508, 0.010297793, 0.009923155, 0.009797204, 0.009974529, 0.010580798, 0.010021737, 0.010076261, 0.009918796, 0.01004488, 0.00970924, 0.010055378, 0.010034128, 0.010185866, 0.009689108, 0.009751236, 0.0098344525, 0.009868413, 0.010050081, 0.0102143595, 0.010036868, 0.010035814, 0.010080512, 0.010082048, 0.010174739, 0.010127063, 0.009781937, 0.009794909, 0.0096883485, 0.010302717, 0.009918286, 0.009976844, 0.010215571, 0.011031489, 0.010142433, 0.0099787945, 0.010049272, 0.010399881, 0.010158623, 0.010333216, 0.010255149, 0.010315878, 0.010035534, 0.010043068, 0.010158421, 0.010220338, 0.0098551195, 0.009837812, 0.00992684, 0.009755108, 0.009548419, 0.010117466, 0.009873075, 0.010138418, 0.010269306, 0.009995235, 0.010538562, 0.009689588, 0.010126426, 0.01008824, 0.009897693]\n",
      "2021-02-19 20:17:02,590 : INFO : merging changes from 2000 documents into a model of 3204 documents\n",
      "2021-02-19 20:17:02,599 : INFO : topic #89 (0.010): 0.434*\"statement\" + 0.298*\"iter\" + 0.092*\"element\" + 0.039*\"languag\" + 0.015*\"structur\" + 0.015*\"recent\" + 0.014*\"addit\" + 0.010*\"made\" + 0.009*\")\" + 0.008*\"(\"\n",
      "2021-02-19 20:17:02,599 : INFO : topic #0 (0.010): 0.050*\"method\" + 0.039*\",\" + 0.030*\"data\" + 0.026*\"bit\" + 0.023*\"shift\" + 0.023*\"binari\" + 0.022*\"present\" + 0.021*\"need\" + 0.018*\"build\" + 0.017*\"techniqu\"\n",
      "2021-02-19 20:17:02,600 : INFO : topic #39 (0.011): 0.100*\",\" + 0.098*\"comput\" + 0.032*\"scienc\" + 0.029*\"program\" + 0.019*\"system\" + 0.018*\"univers\" + 0.017*\"educ\" + 0.015*\"present\" + 0.015*\"cours\" + 0.013*\"-\"\n",
      "2021-02-19 20:17:02,601 : INFO : topic #72 (0.011): 0.177*\")\" + 0.168*\"(\" + 0.086*\"]\" + 0.049*\"propos\" + 0.047*\"algorithm\" + 0.039*\"*\" + 0.034*\"[\" + 0.034*\"standard\" + 0.029*\"corrigendum\" + 0.028*\"-\"\n",
      "2021-02-19 20:17:02,602 : INFO : topic #25 (0.011): 0.277*\"(\" + 0.261*\")\" + 0.244*\"algorithm\" + 0.082*\"integr\" + 0.039*\"surfac\" + 0.021*\"exponenti\" + 0.013*\"connect\" + 0.011*\"fit\" + 0.010*\"definit\" + 0.009*\"romberg\"\n",
      "2021-02-19 20:17:02,603 : INFO : topic diff=0.379583, rho=0.466151\n",
      "2021-02-19 20:17:03,660 : INFO : -6.774 per-word bound, 109.4 perplexity estimate based on a held-out corpus of 1204 documents with 49783 words\n",
      "2021-02-19 20:17:03,660 : INFO : PROGRESS: pass 2, at document #3204/3204\n",
      "2021-02-19 20:17:04,550 : INFO : optimized alpha [0.009610299, 0.0100772185, 0.010409951, 0.010923963, 0.010178168, 0.010565169, 0.01022083, 0.010539911, 0.010272715, 0.009738466, 0.010539877, 0.010122843, 0.010656953, 0.010217162, 0.010421285, 0.010631368, 0.009676848, 0.010289956, 0.0100318985, 0.010082854, 0.010164171, 0.010128388, 0.010453528, 0.010434308, 0.01028374, 0.011637439, 0.010036344, 0.009799639, 0.0104486095, 0.010031496, 0.010324817, 0.009994118, 0.010254657, 0.010243673, 0.010195494, 0.0102746645, 0.010558356, 0.009974711, 0.010236618, 0.011267669, 0.010505489, 0.009900038, 0.009894857, 0.0101114325, 0.010907411, 0.0100810155, 0.01025233, 0.009975658, 0.0101005435, 0.009689115, 0.0102474475, 0.010153053, 0.010306404, 0.009715169, 0.009803076, 0.009936913, 0.009997932, 0.010128037, 0.010483396, 0.0101061, 0.010200725, 0.010312566, 0.010219129, 0.010317313, 0.010268902, 0.009806641, 0.009894071, 0.009783107, 0.010445244, 0.010011693, 0.010082851, 0.01040075, 0.011453574, 0.010290105, 0.010158699, 0.010126679, 0.010596555, 0.010432663, 0.010597311, 0.010362485, 0.010477957, 0.010128185, 0.010114105, 0.010327142, 0.0105089545, 0.009927308, 0.009978715, 0.010029743, 0.009732466, 0.009527172, 0.010273081, 0.010016796, 0.010320502, 0.010439389, 0.010143223, 0.010605076, 0.009708004, 0.010272907, 0.0102307955, 0.010055802]\n",
      "2021-02-19 20:17:04,559 : INFO : merging changes from 1204 documents into a model of 3204 documents\n"
     ]
    },
    {
     "name": "stderr",
     "output_type": "stream",
     "text": [
      "2021-02-19 20:17:04,568 : INFO : topic #89 (0.010): 0.465*\"statement\" + 0.283*\"iter\" + 0.104*\"element\" + 0.031*\"languag\" + 0.014*\"structur\" + 0.011*\"addit\" + 0.010*\"recent\" + 0.007*\")\" + 0.006*\"(\" + 0.005*\"made\"\n",
      "2021-02-19 20:17:04,569 : INFO : topic #0 (0.010): 0.057*\"method\" + 0.045*\"shift\" + 0.039*\",\" + 0.037*\"bit\" + 0.034*\"binari\" + 0.030*\"data\" + 0.025*\"build\" + 0.021*\"need\" + 0.020*\"present\" + 0.020*\"plan\"\n",
      "2021-02-19 20:17:04,569 : INFO : topic #39 (0.011): 0.100*\"comput\" + 0.099*\",\" + 0.036*\"scienc\" + 0.026*\"program\" + 0.019*\"educ\" + 0.019*\"system\" + 0.018*\"cours\" + 0.016*\"present\" + 0.015*\"univers\" + 0.013*\":\"\n",
      "2021-02-19 20:17:04,570 : INFO : topic #72 (0.011): 0.202*\")\" + 0.181*\"(\" + 0.137*\"]\" + 0.055*\"[\" + 0.047*\"algorithm\" + 0.039*\"corrigendum\" + 0.038*\"propos\" + 0.026*\"-\" + 0.025*\"*\" + 0.021*\"5\"\n",
      "2021-02-19 20:17:04,571 : INFO : topic #25 (0.012): 0.299*\"(\" + 0.269*\")\" + 0.242*\"algorithm\" + 0.062*\"integr\" + 0.049*\"surfac\" + 0.020*\"exponenti\" + 0.014*\"connect\" + 0.008*\"fit\" + 0.007*\"definit\" + 0.006*\"romberg\"\n",
      "2021-02-19 20:17:04,572 : INFO : topic diff=0.498369, rho=0.466151\n",
      "2021-02-19 20:17:04,581 : INFO : PROGRESS: pass 3, at document #2000/3204\n",
      "2021-02-19 20:17:05,486 : INFO : optimized alpha [0.009587947, 0.010084465, 0.010461194, 0.011025956, 0.010175813, 0.0105055375, 0.010180936, 0.010491996, 0.010267248, 0.009712688, 0.010482782, 0.010145001, 0.01071993, 0.01017475, 0.010371399, 0.010614274, 0.00968628, 0.010349694, 0.01007006, 0.010064044, 0.010350078, 0.010115821, 0.010442729, 0.01045512, 0.01035958, 0.012519761, 0.010025349, 0.0098057585, 0.010482838, 0.010194843, 0.010370162, 0.009968764, 0.010202025, 0.010285776, 0.01014635, 0.010270559, 0.010606364, 0.010012371, 0.010309419, 0.01139917, 0.010449661, 0.009980956, 0.009882561, 0.010074945, 0.010929032, 0.0100864135, 0.010265975, 0.0101928925, 0.01007638, 0.009776218, 0.010289793, 0.0102599505, 0.010229382, 0.009755345, 0.009829494, 0.009934879, 0.009954722, 0.010268202, 0.010451598, 0.010257503, 0.010180274, 0.010283636, 0.010238665, 0.010351732, 0.010181743, 0.009842856, 0.009825202, 0.009791044, 0.010433887, 0.01002988, 0.0100988075, 0.010328451, 0.011588946, 0.010276675, 0.010190694, 0.010247863, 0.010603212, 0.010392227, 0.010603315, 0.010466202, 0.010503954, 0.010080536, 0.010060847, 0.010309225, 0.010748156, 0.00987253, 0.009944388, 0.010057155, 0.009687854, 0.009607915, 0.010290661, 0.010045642, 0.010274415, 0.010413662, 0.010212025, 0.01105447, 0.009757778, 0.01040137, 0.010383798, 0.010023629]\n",
      "2021-02-19 20:17:05,495 : INFO : merging changes from 2000 documents into a model of 3204 documents\n",
      "2021-02-19 20:17:05,506 : INFO : topic #0 (0.010): 0.057*\"method\" + 0.038*\"bit\" + 0.037*\",\" + 0.034*\"data\" + 0.033*\"binari\" + 0.031*\"shift\" + 0.023*\"present\" + 0.023*\"need\" + 0.022*\"plan\" + 0.021*\"build\"\n",
      "2021-02-19 20:17:05,506 : INFO : topic #88 (0.010): 0.064*\",\" + 0.040*\"system\" + 0.037*\"-\" + 0.037*\"comput\" + 0.027*\"monitor\" + 0.020*\"oper\" + 0.017*\"telephon\" + 0.017*\"time\" + 0.015*\"share\" + 0.015*\"constraint\"\n",
      "2021-02-19 20:17:05,507 : INFO : topic #39 (0.011): 0.106*\"comput\" + 0.100*\",\" + 0.034*\"scienc\" + 0.028*\"program\" + 0.019*\"educ\" + 0.019*\"univers\" + 0.017*\"cours\" + 0.016*\"system\" + 0.016*\"present\" + 0.013*\"report\"\n",
      "2021-02-19 20:17:05,508 : INFO : topic #72 (0.012): 0.185*\")\" + 0.176*\"(\" + 0.099*\"]\" + 0.054*\"propos\" + 0.042*\"*\" + 0.039*\"[\" + 0.037*\"standard\" + 0.034*\"algorithm\" + 0.031*\"corrigendum\" + 0.030*\"-\"\n",
      "2021-02-19 20:17:05,508 : INFO : topic #25 (0.013): 0.316*\"(\" + 0.297*\")\" + 0.243*\"algorithm\" + 0.059*\"integr\" + 0.025*\"surfac\" + 0.017*\"exponenti\" + 0.008*\"connect\" + 0.007*\"romberg\" + 0.007*\"definit\" + 0.005*\"fit\"\n",
      "2021-02-19 20:17:05,510 : INFO : topic diff=0.514406, rho=0.422502\n",
      "2021-02-19 20:17:06,657 : INFO : -6.694 per-word bound, 103.5 perplexity estimate based on a held-out corpus of 1204 documents with 49783 words\n",
      "2021-02-19 20:17:06,658 : INFO : PROGRESS: pass 3, at document #3204/3204\n",
      "2021-02-19 20:17:07,557 : INFO : optimized alpha [0.009642419, 0.01021333, 0.010657363, 0.011371566, 0.010384363, 0.010686152, 0.0103763025, 0.010666232, 0.010412191, 0.009731886, 0.010698209, 0.010244474, 0.010938074, 0.010325461, 0.010493228, 0.010845608, 0.00972191, 0.01056961, 0.010127177, 0.010303892, 0.010380204, 0.010201775, 0.010634429, 0.010743949, 0.01048542, 0.013227595, 0.010123224, 0.009840228, 0.010555184, 0.010314345, 0.01054605, 0.010030971, 0.010379452, 0.010508633, 0.010298912, 0.010413425, 0.0107698, 0.01015761, 0.010484435, 0.0116818, 0.010647112, 0.009981491, 0.009968332, 0.010246505, 0.0112654315, 0.010137288, 0.010426905, 0.0102608465, 0.0101312855, 0.00978213, 0.010502342, 0.010378678, 0.010332431, 0.009827682, 0.009883777, 0.010038994, 0.010101372, 0.010385632, 0.010669059, 0.01033768, 0.010330951, 0.010518142, 0.010360047, 0.010463248, 0.010297126, 0.009883024, 0.009940596, 0.009891303, 0.010552681, 0.010140056, 0.01021693, 0.0105051175, 0.012007115, 0.010433212, 0.0103841685, 0.010317353, 0.010798166, 0.010673213, 0.010876181, 0.010574422, 0.01068181, 0.010179568, 0.010144474, 0.01048556, 0.0110465, 0.0099635655, 0.010083525, 0.010161779, 0.009690457, 0.009605794, 0.01046897, 0.010226496, 0.010484828, 0.010616933, 0.010372295, 0.011137641, 0.009788559, 0.010575005, 0.010531718, 0.010181978]\n",
      "2021-02-19 20:17:07,566 : INFO : merging changes from 1204 documents into a model of 3204 documents\n",
      "2021-02-19 20:17:07,577 : INFO : topic #0 (0.010): 0.058*\"method\" + 0.049*\"bit\" + 0.048*\"binari\" + 0.048*\"shift\" + 0.037*\",\" + 0.033*\"data\" + 0.027*\"build\" + 0.026*\"plan\" + 0.022*\"need\" + 0.022*\"present\"\n",
      "2021-02-19 20:17:07,577 : INFO : topic #89 (0.010): 0.487*\"statement\" + 0.282*\"iter\" + 0.113*\"element\" + 0.025*\"languag\" + 0.011*\"structur\" + 0.009*\"addit\" + 0.008*\"recent\" + 0.006*\"made\" + 0.003*\")\" + 0.003*\"(\"\n",
      "2021-02-19 20:17:07,578 : INFO : topic #39 (0.012): 0.107*\"comput\" + 0.098*\",\" + 0.038*\"scienc\" + 0.025*\"program\" + 0.021*\"educ\" + 0.019*\"cours\" + 0.017*\"system\" + 0.017*\"present\" + 0.016*\"univers\" + 0.014*\":\"\n",
      "2021-02-19 20:17:07,579 : INFO : topic #72 (0.012): 0.205*\")\" + 0.184*\"(\" + 0.144*\"]\" + 0.056*\"[\" + 0.048*\"propos\" + 0.039*\"corrigendum\" + 0.033*\"algorithm\" + 0.028*\"*\" + 0.028*\"-\" + 0.025*\"5\"\n",
      "2021-02-19 20:17:07,579 : INFO : topic #25 (0.013): 0.336*\"(\" + 0.307*\")\" + 0.234*\"algorithm\" + 0.045*\"integr\" + 0.027*\"surfac\" + 0.016*\"exponenti\" + 0.008*\"connect\" + 0.005*\"romberg\" + 0.005*\"definit\" + 0.004*\"fit\"\n",
      "2021-02-19 20:17:07,580 : INFO : topic diff=0.625636, rho=0.422502\n",
      "2021-02-19 20:17:07,592 : INFO : PROGRESS: pass 4, at document #2000/3204\n",
      "2021-02-19 20:17:08,517 : INFO : optimized alpha [0.009648947, 0.010233745, 0.010750494, 0.011505462, 0.010385174, 0.0106431525, 0.010350747, 0.010610866, 0.010421117, 0.009724739, 0.010648533, 0.010293305, 0.011026035, 0.010294188, 0.010467847, 0.010841248, 0.009748431, 0.010644766, 0.010154899, 0.010292929, 0.010551286, 0.010190616, 0.010627651, 0.010784656, 0.010549181, 0.014309453, 0.010121244, 0.00987168, 0.010599662, 0.010511151, 0.010610076, 0.010024062, 0.0103402985, 0.010562947, 0.010261341, 0.010411276, 0.010811507, 0.010217929, 0.010563895, 0.011808329, 0.010605127, 0.010066627, 0.009968984, 0.010238335, 0.011300464, 0.010146795, 0.010447095, 0.010488632, 0.010113998, 0.009876592, 0.010596535, 0.010479927, 0.010278469, 0.009885879, 0.009908461, 0.010058789, 0.010081063, 0.010552963, 0.0106530795, 0.010497187, 0.010329957, 0.010502287, 0.010396419, 0.010498955, 0.010227669, 0.009934305, 0.00988544, 0.009914074, 0.010542081, 0.010164819, 0.010239606, 0.010446193, 0.012127279, 0.010424454, 0.010421205, 0.010436233, 0.010805492, 0.010641837, 0.010905541, 0.010670432, 0.0106987255, 0.010150112, 0.010116142, 0.010482579, 0.011305083, 0.0099176075, 0.010051548, 0.010193139, 0.009655035, 0.009688517, 0.010498795, 0.01031051, 0.010453484, 0.010600406, 0.01045618, 0.011578542, 0.009846348, 0.010715183, 0.01069323, 0.010155714]\n",
      "2021-02-19 20:17:08,526 : INFO : merging changes from 2000 documents into a model of 3204 documents\n",
      "2021-02-19 20:17:08,536 : INFO : topic #88 (0.010): 0.069*\",\" + 0.041*\"comput\" + 0.040*\"system\" + 0.037*\"-\" + 0.031*\"monitor\" + 0.023*\"oper\" + 0.019*\"telephon\" + 0.017*\"time\" + 0.017*\"extend\" + 0.017*\"share\"\n"
     ]
    },
    {
     "name": "stderr",
     "output_type": "stream",
     "text": [
      "2021-02-19 20:17:08,537 : INFO : topic #0 (0.010): 0.057*\"method\" + 0.050*\"bit\" + 0.046*\"binari\" + 0.037*\"data\" + 0.036*\",\" + 0.034*\"shift\" + 0.025*\"plan\" + 0.025*\"build\" + 0.024*\"present\" + 0.024*\"transmiss\"\n",
      "2021-02-19 20:17:08,538 : INFO : topic #39 (0.012): 0.113*\"comput\" + 0.099*\",\" + 0.036*\"scienc\" + 0.028*\"program\" + 0.020*\"educ\" + 0.019*\"univers\" + 0.018*\"cours\" + 0.016*\"present\" + 0.015*\"system\" + 0.013*\"report\"\n",
      "2021-02-19 20:17:08,538 : INFO : topic #72 (0.012): 0.185*\")\" + 0.174*\"(\" + 0.108*\"]\" + 0.064*\"propos\" + 0.044*\"*\" + 0.042*\"[\" + 0.040*\"standard\" + 0.032*\"corrigendum\" + 0.030*\"-\" + 0.030*\"american\"\n",
      "2021-02-19 20:17:08,539 : INFO : topic #25 (0.014): 0.342*\"(\" + 0.322*\")\" + 0.233*\"algorithm\" + 0.045*\"integr\" + 0.016*\"surfac\" + 0.014*\"exponenti\" + 0.006*\"romberg\" + 0.005*\"definit\" + 0.005*\"connect\" + 0.003*\"fit\"\n",
      "2021-02-19 20:17:08,540 : INFO : topic diff=0.612675, rho=0.389191\n",
      "2021-02-19 20:17:09,655 : INFO : -6.637 per-word bound, 99.5 perplexity estimate based on a held-out corpus of 1204 documents with 49783 words\n",
      "2021-02-19 20:17:09,656 : INFO : PROGRESS: pass 4, at document #3204/3204\n",
      "2021-02-19 20:17:10,539 : INFO : optimized alpha [0.009724969, 0.010359997, 0.01095432, 0.011835361, 0.010579558, 0.0108109, 0.010539336, 0.010755278, 0.010562448, 0.009752954, 0.010876644, 0.010415561, 0.011269436, 0.010430963, 0.010601508, 0.011081941, 0.009794533, 0.010874315, 0.0102145765, 0.010573913, 0.010574327, 0.010267274, 0.010805778, 0.011041795, 0.010682767, 0.015107997, 0.010208807, 0.0098974705, 0.010683829, 0.010634755, 0.010769971, 0.010095135, 0.010505298, 0.010819368, 0.010409589, 0.0105302185, 0.010959755, 0.010372781, 0.010733508, 0.012076998, 0.010792383, 0.010109947, 0.010061632, 0.010461261, 0.011616699, 0.010200919, 0.01061014, 0.0105533935, 0.010172061, 0.009888284, 0.010836787, 0.0105897905, 0.010381192, 0.010004093, 0.009975078, 0.010184807, 0.010214144, 0.010692379, 0.010859194, 0.0105809, 0.010480171, 0.010748519, 0.010532669, 0.010622585, 0.010345147, 0.009971614, 0.010024977, 0.010013514, 0.010666107, 0.010280194, 0.010362562, 0.010610456, 0.012518998, 0.010563006, 0.010618523, 0.010503295, 0.010986873, 0.010949556, 0.011182522, 0.010794523, 0.010867515, 0.0102521, 0.010217428, 0.010677154, 0.011612536, 0.01002189, 0.010190615, 0.010316894, 0.009674957, 0.009692954, 0.010709213, 0.010492483, 0.010677028, 0.010779206, 0.010618741, 0.0116782915, 0.0098908255, 0.010879918, 0.010840674, 0.010319232]\n",
      "2021-02-19 20:17:10,549 : INFO : merging changes from 1204 documents into a model of 3204 documents\n",
      "2021-02-19 20:17:10,558 : INFO : topic #88 (0.010): 0.075*\",\" + 0.042*\"comput\" + 0.038*\"system\" + 0.033*\"-\" + 0.030*\"monitor\" + 0.023*\"oper\" + 0.022*\"extend\" + 0.021*\"share\" + 0.018*\"constraint\" + 0.018*\"time\"\n",
      "2021-02-19 20:17:10,559 : INFO : topic #89 (0.010): 0.499*\"statement\" + 0.282*\"iter\" + 0.118*\"element\" + 0.020*\"languag\" + 0.009*\"structur\" + 0.007*\"addit\" + 0.006*\"recent\" + 0.006*\"made\" + 0.002*\")\" + 0.001*\"(\"\n",
      "2021-02-19 20:17:10,560 : INFO : topic #39 (0.012): 0.112*\"comput\" + 0.098*\",\" + 0.039*\"scienc\" + 0.024*\"program\" + 0.022*\"educ\" + 0.020*\"cours\" + 0.017*\"univers\" + 0.017*\"present\" + 0.015*\"system\" + 0.014*\":\"\n",
      "2021-02-19 20:17:10,561 : INFO : topic #72 (0.013): 0.205*\")\" + 0.182*\"(\" + 0.147*\"]\" + 0.055*\"propos\" + 0.054*\"[\" + 0.040*\"corrigendum\" + 0.031*\"*\" + 0.030*\"standard\" + 0.029*\"-\" + 0.027*\"5\"\n",
      "2021-02-19 20:17:10,561 : INFO : topic #25 (0.015): 0.362*\"(\" + 0.332*\")\" + 0.220*\"algorithm\" + 0.036*\"integr\" + 0.014*\"exponenti\" + 0.012*\"surfac\" + 0.005*\"connect\" + 0.005*\"romberg\" + 0.003*\"definit\" + 0.002*\"fit\"\n",
      "2021-02-19 20:17:10,562 : INFO : topic diff=0.678968, rho=0.389191\n",
      "2021-02-19 20:17:10,571 : INFO : PROGRESS: pass 5, at document #2000/3204\n",
      "2021-02-19 20:17:11,424 : INFO : optimized alpha [0.009745654, 0.010397932, 0.011061751, 0.011982845, 0.010589137, 0.010778194, 0.010524296, 0.010705384, 0.010570593, 0.009763305, 0.010838822, 0.010474588, 0.011405607, 0.010409265, 0.010585446, 0.011080431, 0.0098376265, 0.010964163, 0.010253929, 0.010571346, 0.010739463, 0.01025726, 0.010800707, 0.011097011, 0.010755935, 0.016360454, 0.010223887, 0.009938362, 0.01073743, 0.010829274, 0.010851273, 0.010092824, 0.010472075, 0.010887001, 0.010379946, 0.010526187, 0.011006319, 0.010442388, 0.010817679, 0.012208925, 0.010764285, 0.010210292, 0.010064258, 0.010475288, 0.011641357, 0.010212286, 0.010638175, 0.010786991, 0.010166031, 0.009979017, 0.010948887, 0.0106887305, 0.010342737, 0.01008395, 0.00999293, 0.010206787, 0.010200716, 0.0108586205, 0.010851148, 0.0107508395, 0.010484652, 0.010737964, 0.010587857, 0.010659739, 0.010282746, 0.01002913, 0.00997341, 0.010053027, 0.010659926, 0.010314559, 0.010396928, 0.010555203, 0.012632891, 0.010571919, 0.010658292, 0.01061527, 0.011007184, 0.010927726, 0.011216762, 0.010890341, 0.010886768, 0.010236042, 0.010196921, 0.010698717, 0.011860308, 0.009992198, 0.010180923, 0.010353729, 0.009646824, 0.0097657535, 0.010736295, 0.010597933, 0.010658115, 0.010763114, 0.010707143, 0.012104463, 0.009954218, 0.011020025, 0.011005317, 0.010296029]\n",
      "2021-02-19 20:17:11,433 : INFO : merging changes from 2000 documents into a model of 3204 documents\n",
      "2021-02-19 20:17:11,442 : INFO : topic #88 (0.010): 0.073*\",\" + 0.044*\"comput\" + 0.040*\"system\" + 0.036*\"-\" + 0.033*\"monitor\" + 0.024*\"oper\" + 0.019*\"telephon\" + 0.018*\"time\" + 0.018*\"extend\" + 0.018*\"share\"\n",
      "2021-02-19 20:17:11,443 : INFO : topic #0 (0.010): 0.058*\"bit\" + 0.057*\"binari\" + 0.056*\"method\" + 0.038*\"data\" + 0.035*\"shift\" + 0.035*\",\" + 0.030*\"transmiss\" + 0.028*\"field\" + 0.026*\"build\" + 0.026*\"plan\"\n",
      "2021-02-19 20:17:11,444 : INFO : topic #39 (0.012): 0.117*\"comput\" + 0.100*\",\" + 0.036*\"scienc\" + 0.026*\"program\" + 0.021*\"educ\" + 0.020*\"univers\" + 0.019*\"cours\" + 0.017*\"present\" + 0.014*\"system\" + 0.013*\"report\"\n",
      "2021-02-19 20:17:11,444 : INFO : topic #72 (0.013): 0.185*\")\" + 0.171*\"(\" + 0.113*\"]\" + 0.069*\"propos\" + 0.046*\"standard\" + 0.046*\"*\" + 0.042*\"[\" + 0.033*\"corrigendum\" + 0.033*\"american\" + 0.031*\"-\"\n",
      "2021-02-19 20:17:11,445 : INFO : topic #25 (0.016): 0.362*\"(\" + 0.339*\")\" + 0.221*\"algorithm\" + 0.037*\"integr\" + 0.012*\"exponenti\" + 0.008*\"surfac\" + 0.005*\"romberg\" + 0.004*\"definit\" + 0.003*\"connect\" + 0.001*\"fit\"\n",
      "2021-02-19 20:17:11,445 : INFO : topic diff=0.624059, rho=0.362690\n",
      "2021-02-19 20:17:12,473 : INFO : -6.594 per-word bound, 96.6 perplexity estimate based on a held-out corpus of 1204 documents with 49783 words\n",
      "2021-02-19 20:17:12,473 : INFO : PROGRESS: pass 5, at document #3204/3204\n",
      "2021-02-19 20:17:13,388 : INFO : optimized alpha [0.009831803, 0.010519614, 0.011254202, 0.012326758, 0.010785335, 0.01094902, 0.010727496, 0.010844302, 0.010706693, 0.009808366, 0.0110571105, 0.01060229, 0.011650363, 0.010563245, 0.010730248, 0.011304323, 0.009883983, 0.011174468, 0.010322408, 0.010869927, 0.010766371, 0.010326352, 0.010955057, 0.01135417, 0.010890971, 0.017288143, 0.010328006, 0.009974964, 0.01078674, 0.010964393, 0.011008237, 0.010159738, 0.0106272735, 0.011159898, 0.010528713, 0.010637776, 0.011152294, 0.010600767, 0.010970835, 0.012459478, 0.010960241, 0.010262914, 0.0101544745, 0.010730631, 0.01194851, 0.010263423, 0.010801135, 0.010842931, 0.010211575, 0.0099898, 0.011230064, 0.010788199, 0.010445794, 0.010197942, 0.010055618, 0.010343917, 0.010338353, 0.011028898, 0.011028906, 0.010841575, 0.010638756, 0.010973953, 0.010732062, 0.010779043, 0.010396596, 0.010085279, 0.010113742, 0.010161571, 0.010782894, 0.010429218, 0.010522013, 0.010716217, 0.013006512, 0.01071177, 0.010863803, 0.010680788, 0.011191434, 0.011239292, 0.011489578, 0.011039704, 0.011045454, 0.010341256, 0.010301464, 0.0109116025, 0.012143294, 0.010090186, 0.010336345, 0.010479464, 0.009666708, 0.009770097, 0.01094469, 0.010779163, 0.010882348, 0.010928068, 0.010863212, 0.012220718, 0.009998739, 0.011194714, 0.011166868, 0.010468475]\n",
      "2021-02-19 20:17:13,397 : INFO : merging changes from 1204 documents into a model of 3204 documents\n",
      "2021-02-19 20:17:13,407 : INFO : topic #88 (0.010): 0.080*\",\" + 0.045*\"comput\" + 0.038*\"system\" + 0.033*\"-\" + 0.032*\"monitor\" + 0.024*\"oper\" + 0.022*\"extend\" + 0.021*\"share\" + 0.019*\"time\" + 0.019*\"requir\"\n",
      "2021-02-19 20:17:13,408 : INFO : topic #89 (0.010): 0.507*\"statement\" + 0.284*\"iter\" + 0.116*\"element\" + 0.016*\"languag\" + 0.008*\"structur\" + 0.007*\"made\" + 0.006*\"recent\" + 0.006*\"addit\" + 0.001*\")\" + 0.001*\"(\"\n"
     ]
    },
    {
     "name": "stderr",
     "output_type": "stream",
     "text": [
      "2021-02-19 20:17:13,408 : INFO : topic #39 (0.012): 0.116*\"comput\" + 0.099*\",\" + 0.039*\"scienc\" + 0.024*\"program\" + 0.023*\"educ\" + 0.020*\"cours\" + 0.017*\"univers\" + 0.017*\"present\" + 0.015*\":\" + 0.014*\"system\"\n",
      "2021-02-19 20:17:13,409 : INFO : topic #72 (0.013): 0.205*\")\" + 0.178*\"(\" + 0.151*\"]\" + 0.060*\"propos\" + 0.051*\"[\" + 0.041*\"corrigendum\" + 0.035*\"standard\" + 0.033*\"*\" + 0.030*\"-\" + 0.027*\"5\"\n",
      "2021-02-19 20:17:13,409 : INFO : topic #25 (0.017): 0.377*\"(\" + 0.347*\")\" + 0.208*\"algorithm\" + 0.031*\"integr\" + 0.012*\"exponenti\" + 0.007*\"surfac\" + 0.004*\"romberg\" + 0.004*\"connect\" + 0.003*\"definit\" + 0.001*\"fit\"\n",
      "2021-02-19 20:17:13,410 : INFO : topic diff=0.650735, rho=0.362690\n",
      "2021-02-19 20:17:13,420 : INFO : PROGRESS: pass 6, at document #2000/3204\n",
      "2021-02-19 20:17:14,367 : INFO : optimized alpha [0.009873384, 0.010560719, 0.011363987, 0.012465087, 0.010799184, 0.010915725, 0.01072543, 0.010801047, 0.010723388, 0.009833858, 0.011027894, 0.010672813, 0.011832222, 0.010546107, 0.010722108, 0.011309466, 0.009940374, 0.011268824, 0.010363335, 0.010867261, 0.010923526, 0.010322862, 0.010946102, 0.011424941, 0.010950878, 0.018638907, 0.010356506, 0.010024329, 0.01084149, 0.011154369, 0.011092733, 0.010173674, 0.010597414, 0.011230815, 0.010507671, 0.010639486, 0.01119789, 0.010675512, 0.0110503845, 0.012584466, 0.010927129, 0.010361547, 0.01015713, 0.0107718855, 0.011978309, 0.010276426, 0.01082534, 0.011076027, 0.010208385, 0.010082851, 0.011348028, 0.010880156, 0.010418846, 0.010277143, 0.010071096, 0.0103732515, 0.010339613, 0.011200997, 0.011020697, 0.011005588, 0.010655307, 0.010975835, 0.0108008245, 0.010817691, 0.010345362, 0.010138216, 0.010065037, 0.010209389, 0.010782656, 0.010470602, 0.01055978, 0.010665693, 0.013131138, 0.010741848, 0.010909967, 0.010787115, 0.011217747, 0.011229819, 0.011518609, 0.011139771, 0.011067023, 0.010336921, 0.010285817, 0.010945929, 0.01236957, 0.010066009, 0.01033578, 0.010506982, 0.009651378, 0.009844327, 0.010988158, 0.0108959405, 0.010880158, 0.010921852, 0.0109487865, 0.012633413, 0.010065809, 0.01134147, 0.0113393385, 0.01045314]\n",
      "2021-02-19 20:17:14,376 : INFO : merging changes from 2000 documents into a model of 3204 documents\n",
      "2021-02-19 20:17:14,386 : INFO : topic #88 (0.010): 0.078*\",\" + 0.047*\"comput\" + 0.039*\"system\" + 0.036*\"monitor\" + 0.035*\"-\" + 0.025*\"oper\" + 0.020*\"extend\" + 0.019*\"telephon\" + 0.019*\"time\" + 0.018*\"share\"\n",
      "2021-02-19 20:17:14,387 : INFO : topic #9 (0.010): 0.139*\"gener\" + 0.062*\"-\" + 0.055*\",\" + 0.050*\"number\" + 0.034*\"purpos\" + 0.033*\"random\" + 0.023*\"test\" + 0.021*\"line\" + 0.021*\"(\" + 0.020*\"comparison\"\n",
      "2021-02-19 20:17:14,387 : INFO : topic #95 (0.013): 0.287*\"[\" + 0.220*\"algorithm\" + 0.202*\"])\" + 0.201*\"(\" + 0.029*\"d1\" + 0.015*\"quadratur\" + 0.011*\"f4\" + 0.007*\"gaussian\" + 0.004*\"solut\" + 0.003*\"linear\"\n",
      "2021-02-19 20:17:14,388 : INFO : topic #72 (0.013): 0.185*\")\" + 0.168*\"(\" + 0.116*\"]\" + 0.074*\"propos\" + 0.050*\"standard\" + 0.046*\"*\" + 0.040*\"[\" + 0.035*\"american\" + 0.034*\"corrigendum\" + 0.032*\"-\"\n",
      "2021-02-19 20:17:14,389 : INFO : topic #25 (0.019): 0.374*\"(\" + 0.349*\")\" + 0.212*\"algorithm\" + 0.032*\"integr\" + 0.011*\"exponenti\" + 0.005*\"romberg\" + 0.005*\"surfac\" + 0.003*\"definit\" + 0.003*\"connect\" + 0.001*\"fit\"\n",
      "2021-02-19 20:17:14,391 : INFO : topic diff=0.578755, rho=0.340958\n",
      "2021-02-19 20:17:15,542 : INFO : -6.562 per-word bound, 94.5 perplexity estimate based on a held-out corpus of 1204 documents with 49783 words\n",
      "2021-02-19 20:17:15,542 : INFO : PROGRESS: pass 6, at document #3204/3204\n",
      "2021-02-19 20:17:16,538 : INFO : optimized alpha [0.009968994, 0.010681962, 0.011560328, 0.012785625, 0.010985732, 0.01109047, 0.010915774, 0.010923506, 0.0108555835, 0.009893618, 0.011226148, 0.010800037, 0.012100657, 0.010707429, 0.01087483, 0.011516079, 0.01000404, 0.011488452, 0.010431236, 0.011159429, 0.010941835, 0.010388632, 0.0111018615, 0.011693665, 0.011094383, 0.019716153, 0.010469918, 0.010067588, 0.010885072, 0.011282133, 0.011244703, 0.010240032, 0.01075668, 0.011534103, 0.010660766, 0.010733104, 0.011339409, 0.010835075, 0.01120503, 0.012812337, 0.0111100925, 0.0104258545, 0.010242693, 0.01103475, 0.01227204, 0.010331085, 0.010980079, 0.011136767, 0.010254873, 0.010092929, 0.01166341, 0.010980167, 0.010522659, 0.0103849545, 0.010136319, 0.010526981, 0.010470232, 0.011385275, 0.011205316, 0.011090901, 0.010810734, 0.01122565, 0.010953173, 0.010924472, 0.010465406, 0.010205748, 0.010215514, 0.010323787, 0.010902296, 0.010594192, 0.010681262, 0.010827597, 0.013493859, 0.01088058, 0.011112078, 0.010857807, 0.011396069, 0.01153755, 0.011782511, 0.01129077, 0.011223879, 0.010442567, 0.010393838, 0.0111737475, 0.0126548875, 0.010167538, 0.010486354, 0.010626233, 0.009687731, 0.009848607, 0.011192833, 0.011071507, 0.011097021, 0.01107847, 0.011109415, 0.012769978, 0.010107827, 0.011520283, 0.01149263, 0.010616892]\n",
      "2021-02-19 20:17:16,548 : INFO : merging changes from 1204 documents into a model of 3204 documents\n",
      "2021-02-19 20:17:16,558 : INFO : topic #88 (0.010): 0.085*\",\" + 0.046*\"comput\" + 0.038*\"system\" + 0.032*\"monitor\" + 0.032*\"-\" + 0.026*\"oper\" + 0.025*\"extend\" + 0.020*\"share\" + 0.020*\"requir\" + 0.020*\"time\"\n",
      "2021-02-19 20:17:16,559 : INFO : topic #9 (0.010): 0.141*\"gener\" + 0.060*\"-\" + 0.055*\",\" + 0.048*\"number\" + 0.030*\"purpos\" + 0.028*\"comparison\" + 0.028*\"random\" + 0.022*\"line\" + 0.020*\"test\" + 0.020*\"synthes\"\n",
      "2021-02-19 20:17:16,559 : INFO : topic #39 (0.013): 0.118*\"comput\" + 0.099*\",\" + 0.040*\"scienc\" + 0.024*\"educ\" + 0.023*\"program\" + 0.021*\"cours\" + 0.018*\"univers\" + 0.017*\"present\" + 0.015*\":\" + 0.014*\"system\"\n",
      "2021-02-19 20:17:16,560 : INFO : topic #72 (0.013): 0.206*\")\" + 0.175*\"(\" + 0.152*\"]\" + 0.066*\"propos\" + 0.046*\"[\" + 0.041*\"corrigendum\" + 0.038*\"standard\" + 0.034*\"*\" + 0.031*\"-\" + 0.026*\"5\"\n",
      "2021-02-19 20:17:16,561 : INFO : topic #25 (0.020): 0.387*\"(\" + 0.355*\")\" + 0.199*\"algorithm\" + 0.028*\"integr\" + 0.011*\"exponenti\" + 0.004*\"surfac\" + 0.004*\"romberg\" + 0.004*\"connect\" + 0.003*\"definit\" + 0.001*\"fit\"\n",
      "2021-02-19 20:17:16,562 : INFO : topic diff=0.587231, rho=0.340958\n",
      "2021-02-19 20:17:16,574 : INFO : PROGRESS: pass 7, at document #2000/3204\n",
      "2021-02-19 20:17:17,548 : INFO : optimized alpha [0.010015114, 0.010719331, 0.011676762, 0.012936696, 0.011007228, 0.0110565685, 0.01092382, 0.010880857, 0.01086603, 0.009926268, 0.011203068, 0.01087969, 0.01229031, 0.010699388, 0.010880843, 0.0115183005, 0.010066028, 0.011587681, 0.010477176, 0.011164141, 0.011095842, 0.010389173, 0.011098433, 0.011771668, 0.01116381, 0.021213466, 0.010507241, 0.01012632, 0.010937568, 0.011463329, 0.01133438, 0.010255332, 0.010731426, 0.011613941, 0.010645611, 0.010736669, 0.011384427, 0.010915054, 0.011289937, 0.012929312, 0.011088938, 0.010545628, 0.010250432, 0.0110820485, 0.012300788, 0.010347226, 0.011002806, 0.011363437, 0.010262499, 0.010181964, 0.011796999, 0.011071552, 0.010493886, 0.010465598, 0.010159514, 0.010559731, 0.010471323, 0.011551143, 0.01120234, 0.0112483855, 0.010834865, 0.011235173, 0.01103121, 0.010963003, 0.010423911, 0.0102646, 0.010170741, 0.010374331, 0.010900175, 0.010645535, 0.010727571, 0.01078287, 0.013614316, 0.010919673, 0.011166426, 0.010952528, 0.011416797, 0.011533946, 0.01181269, 0.01138616, 0.011242145, 0.010438567, 0.0103841685, 0.011230999, 0.012879777, 0.0101547865, 0.010488848, 0.010664433, 0.009675547, 0.0099197235, 0.011237267, 0.011181585, 0.011108552, 0.011068639, 0.0111891385, 0.013175778, 0.010172027, 0.011666662, 0.011669646, 0.010603552]\n",
      "2021-02-19 20:17:17,557 : INFO : merging changes from 2000 documents into a model of 3204 documents\n",
      "2021-02-19 20:17:17,568 : INFO : topic #88 (0.010): 0.083*\",\" + 0.048*\"comput\" + 0.038*\"system\" + 0.036*\"monitor\" + 0.034*\"-\" + 0.027*\"oper\" + 0.024*\"extend\" + 0.020*\"time\" + 0.019*\"telephon\" + 0.019*\"requir\"\n",
      "2021-02-19 20:17:17,569 : INFO : topic #9 (0.010): 0.154*\"gener\" + 0.063*\"-\" + 0.055*\",\" + 0.053*\"number\" + 0.036*\"purpos\" + 0.033*\"random\" + 0.024*\"comparison\" + 0.022*\"test\" + 0.021*\"line\" + 0.019*\"pseudo\"\n",
      "2021-02-19 20:17:17,569 : INFO : topic #95 (0.013): 0.290*\"[\" + 0.225*\"algorithm\" + 0.205*\"(\" + 0.198*\"])\" + 0.029*\"d1\" + 0.015*\"quadratur\" + 0.011*\"f4\" + 0.005*\"gaussian\" + 0.003*\"exact\" + 0.002*\"solut\"\n"
     ]
    },
    {
     "name": "stderr",
     "output_type": "stream",
     "text": [
      "2021-02-19 20:17:17,570 : INFO : topic #72 (0.014): 0.186*\")\" + 0.167*\"(\" + 0.118*\"]\" + 0.078*\"propos\" + 0.053*\"standard\" + 0.047*\"*\" + 0.036*\"american\" + 0.036*\"[\" + 0.034*\"corrigendum\" + 0.034*\"-\"\n",
      "2021-02-19 20:17:17,571 : INFO : topic #25 (0.021): 0.382*\"(\" + 0.356*\")\" + 0.204*\"algorithm\" + 0.030*\"integr\" + 0.010*\"exponenti\" + 0.005*\"romberg\" + 0.003*\"definit\" + 0.003*\"surfac\" + 0.003*\"connect\" + 0.000*\"fit\"\n",
      "2021-02-19 20:17:17,572 : INFO : topic diff=0.515540, rho=0.322715\n",
      "2021-02-19 20:17:18,826 : INFO : -6.536 per-word bound, 92.8 perplexity estimate based on a held-out corpus of 1204 documents with 49783 words\n",
      "2021-02-19 20:17:18,826 : INFO : PROGRESS: pass 7, at document #3204/3204\n",
      "2021-02-19 20:17:19,841 : INFO : optimized alpha [0.010117097, 0.010840747, 0.011865038, 0.013271026, 0.011179881, 0.011223585, 0.011109067, 0.011000733, 0.010995156, 0.0099995285, 0.0114169475, 0.011010064, 0.01255606, 0.010868146, 0.011044476, 0.011716148, 0.010140152, 0.011798553, 0.010541877, 0.0114458, 0.011115454, 0.0104577765, 0.011238262, 0.012055976, 0.011306952, 0.022372512, 0.010621217, 0.0101703135, 0.010979112, 0.011581742, 0.011491722, 0.010324317, 0.010892313, 0.011920021, 0.0107975695, 0.010837677, 0.011519526, 0.011082406, 0.011453042, 0.013140463, 0.011254777, 0.010623555, 0.010334912, 0.011353457, 0.012593292, 0.010396828, 0.011150758, 0.011422966, 0.010310024, 0.010194193, 0.0121189365, 0.011169595, 0.010590269, 0.01058792, 0.010232747, 0.010712549, 0.010613185, 0.011721712, 0.011382058, 0.011341235, 0.010983537, 0.011478324, 0.011176861, 0.011061721, 0.010547181, 0.010334487, 0.010325544, 0.0104862405, 0.011023362, 0.010775099, 0.010843621, 0.010928935, 0.013957184, 0.011055139, 0.011360326, 0.011019591, 0.01159046, 0.011839808, 0.012066355, 0.011548732, 0.011389077, 0.010542276, 0.01049299, 0.011480323, 0.01317229, 0.010257299, 0.010649796, 0.010786867, 0.009710783, 0.00992398, 0.011442509, 0.011355686, 0.011337618, 0.011221268, 0.011354728, 0.013322106, 0.010211982, 0.011837701, 0.011825374, 0.010765769]\n",
      "2021-02-19 20:17:19,849 : INFO : merging changes from 1204 documents into a model of 3204 documents\n",
      "2021-02-19 20:17:19,859 : INFO : topic #88 (0.010): 0.089*\",\" + 0.046*\"comput\" + 0.037*\"system\" + 0.034*\"monitor\" + 0.031*\"-\" + 0.028*\"extend\" + 0.027*\"oper\" + 0.022*\"requir\" + 0.021*\"time\" + 0.020*\"share\"\n",
      "2021-02-19 20:17:19,859 : INFO : topic #89 (0.010): 0.518*\"statement\" + 0.284*\"iter\" + 0.113*\"element\" + 0.012*\"languag\" + 0.008*\"structur\" + 0.006*\"recent\" + 0.006*\"made\" + 0.006*\"addit\" + 0.000*\")\" + 0.000*\"(\"\n",
      "2021-02-19 20:17:19,860 : INFO : topic #95 (0.013): 0.309*\"[\" + 0.239*\"algorithm\" + 0.199*\"(\" + 0.158*\"])\" + 0.036*\"d1\" + 0.017*\"quadratur\" + 0.014*\"f4\" + 0.006*\"gaussian\" + 0.004*\"exact\" + 0.002*\"solut\"\n",
      "2021-02-19 20:17:19,860 : INFO : topic #72 (0.014): 0.206*\")\" + 0.174*\"(\" + 0.153*\"]\" + 0.070*\"propos\" + 0.042*\"standard\" + 0.042*\"corrigendum\" + 0.040*\"[\" + 0.035*\"*\" + 0.032*\"-\" + 0.027*\"american\"\n",
      "2021-02-19 20:17:19,861 : INFO : topic #25 (0.022): 0.393*\"(\" + 0.362*\")\" + 0.192*\"algorithm\" + 0.026*\"integr\" + 0.010*\"exponenti\" + 0.004*\"romberg\" + 0.003*\"connect\" + 0.002*\"definit\" + 0.002*\"surfac\" + 0.000*\"fit\"\n",
      "2021-02-19 20:17:19,863 : INFO : topic diff=0.519279, rho=0.322715\n",
      "2021-02-19 20:17:19,876 : INFO : PROGRESS: pass 8, at document #2000/3204\n",
      "2021-02-19 20:17:20,870 : INFO : optimized alpha [0.010169068, 0.010876409, 0.011986166, 0.01341849, 0.011198227, 0.0111908, 0.011121354, 0.0109636625, 0.011005002, 0.010047981, 0.011393928, 0.011093276, 0.01275563, 0.010873411, 0.011053147, 0.0117194075, 0.010204428, 0.011900925, 0.010597411, 0.011446956, 0.011262113, 0.010457107, 0.011236466, 0.012133977, 0.011382051, 0.023959301, 0.01066177, 0.010234604, 0.011031386, 0.011767595, 0.011586472, 0.0103423735, 0.010871144, 0.0120049585, 0.010784419, 0.0108462, 0.011560682, 0.011160655, 0.011541439, 0.013258668, 0.011230595, 0.010766794, 0.010347238, 0.0114118485, 0.012619272, 0.010415933, 0.011173924, 0.011642577, 0.010321135, 0.010279825, 0.0122474395, 0.011271066, 0.010569659, 0.010671842, 0.010256744, 0.010746925, 0.01062211, 0.011880391, 0.011378649, 0.011498397, 0.011009683, 0.011484573, 0.011256826, 0.011096844, 0.010514217, 0.010397318, 0.010284045, 0.010533062, 0.011024707, 0.010822601, 0.010887919, 0.010889474, 0.014069725, 0.011100963, 0.01141903, 0.011105525, 0.011611668, 0.011839937, 0.012103436, 0.011645487, 0.011406353, 0.010540147, 0.010496854, 0.011555611, 0.013392755, 0.010249999, 0.01065337, 0.010821751, 0.009698391, 0.009990913, 0.011484462, 0.01146848, 0.011351226, 0.011221965, 0.011434546, 0.013722673, 0.010272139, 0.011987901, 0.01200755, 0.010752546]\n",
      "2021-02-19 20:17:20,879 : INFO : merging changes from 2000 documents into a model of 3204 documents\n",
      "2021-02-19 20:17:20,889 : INFO : topic #88 (0.010): 0.088*\",\" + 0.049*\"comput\" + 0.037*\"monitor\" + 0.037*\"system\" + 0.033*\"-\" + 0.029*\"oper\" + 0.027*\"extend\" + 0.021*\"requir\" + 0.021*\"time\" + 0.019*\"telephon\"\n",
      "2021-02-19 20:17:20,889 : INFO : topic #89 (0.010): 0.516*\"statement\" + 0.292*\"iter\" + 0.104*\"element\" + 0.012*\"languag\" + 0.008*\"made\" + 0.008*\"recent\" + 0.008*\"structur\" + 0.006*\"addit\" + 0.000*\")\" + 0.000*\"(\"\n",
      "2021-02-19 20:17:20,890 : INFO : topic #95 (0.014): 0.293*\"[\" + 0.228*\"algorithm\" + 0.208*\"(\" + 0.194*\"])\" + 0.029*\"d1\" + 0.015*\"quadratur\" + 0.011*\"f4\" + 0.005*\"gaussian\" + 0.003*\"exact\" + 0.001*\"solut\"\n",
      "2021-02-19 20:17:20,891 : INFO : topic #72 (0.014): 0.187*\")\" + 0.166*\"(\" + 0.121*\"]\" + 0.082*\"propos\" + 0.055*\"standard\" + 0.047*\"*\" + 0.037*\"american\" + 0.035*\"corrigendum\" + 0.034*\"-\" + 0.031*\"[\"\n",
      "2021-02-19 20:17:20,891 : INFO : topic #25 (0.024): 0.387*\"(\" + 0.362*\")\" + 0.198*\"algorithm\" + 0.028*\"integr\" + 0.009*\"exponenti\" + 0.004*\"romberg\" + 0.003*\"definit\" + 0.003*\"connect\" + 0.002*\"surfac\" + 0.000*\"fit\"\n",
      "2021-02-19 20:17:20,892 : INFO : topic diff=0.452597, rho=0.307119\n",
      "2021-02-19 20:17:22,027 : INFO : -6.518 per-word bound, 91.6 perplexity estimate based on a held-out corpus of 1204 documents with 49783 words\n",
      "2021-02-19 20:17:22,028 : INFO : PROGRESS: pass 8, at document #3204/3204\n",
      "2021-02-19 20:17:22,991 : INFO : optimized alpha [0.010259093, 0.010995709, 0.012173561, 0.0137471035, 0.011372982, 0.011348322, 0.011308335, 0.011070295, 0.0111376345, 0.010131226, 0.011591109, 0.011241219, 0.013030004, 0.011049731, 0.011213175, 0.011915714, 0.010283272, 0.012107342, 0.010670243, 0.011731237, 0.011280159, 0.01052585, 0.011373676, 0.012406568, 0.011525366, 0.025225662, 0.010773889, 0.010279266, 0.011071281, 0.0118806735, 0.011749474, 0.010419317, 0.011031306, 0.012336443, 0.01094697, 0.010948782, 0.0116903065, 0.0113246115, 0.01169233, 0.013454868, 0.011381184, 0.010843833, 0.010428296, 0.01169251, 0.012911867, 0.010466422, 0.01132751, 0.011704305, 0.010367011, 0.010291481, 0.012592487, 0.011364798, 0.0106731225, 0.010797399, 0.010327001, 0.010891165, 0.0107775405, 0.0120505635, 0.011568981, 0.011592817, 0.011160954, 0.011740015, 0.011402642, 0.011182902, 0.010632622, 0.010466904, 0.010443427, 0.010648525, 0.011143194, 0.010958124, 0.010996504, 0.011035335, 0.014408962, 0.011228122, 0.011620569, 0.011166648, 0.011787701, 0.012142095, 0.012370411, 0.011813552, 0.01155626, 0.010642381, 0.01060941, 0.011823791, 0.013707017, 0.010356185, 0.010816402, 0.010925269, 0.0097352695, 0.0099977115, 0.011685157, 0.011636095, 0.011581303, 0.011380143, 0.0115938615, 0.013871992, 0.0103130005, 0.012161452, 0.012157061, 0.010922184]\n",
      "2021-02-19 20:17:23,000 : INFO : merging changes from 1204 documents into a model of 3204 documents\n",
      "2021-02-19 20:17:23,010 : INFO : topic #88 (0.010): 0.093*\",\" + 0.047*\"comput\" + 0.036*\"system\" + 0.034*\"monitor\" + 0.030*\"extend\" + 0.030*\"-\" + 0.028*\"oper\" + 0.023*\"requir\" + 0.022*\"time\" + 0.019*\"share\"\n",
      "2021-02-19 20:17:23,011 : INFO : topic #89 (0.010): 0.520*\"statement\" + 0.283*\"iter\" + 0.113*\"element\" + 0.010*\"languag\" + 0.008*\"structur\" + 0.007*\"recent\" + 0.006*\"made\" + 0.005*\"addit\" + 0.000*\")\" + 0.000*\"(\"\n",
      "2021-02-19 20:17:23,012 : INFO : topic #95 (0.014): 0.313*\"[\" + 0.239*\"algorithm\" + 0.202*\"(\" + 0.156*\"])\" + 0.035*\"d1\" + 0.017*\"quadratur\" + 0.013*\"f4\" + 0.006*\"gaussian\" + 0.004*\"exact\" + 0.001*\"solut\"\n",
      "2021-02-19 20:17:23,012 : INFO : topic #72 (0.014): 0.206*\")\" + 0.172*\"(\" + 0.155*\"]\" + 0.074*\"propos\" + 0.044*\"standard\" + 0.042*\"corrigendum\" + 0.036*\"*\" + 0.034*\"[\" + 0.033*\"-\" + 0.029*\"american\"\n"
     ]
    },
    {
     "name": "stderr",
     "output_type": "stream",
     "text": [
      "2021-02-19 20:17:23,013 : INFO : topic #25 (0.025): 0.397*\"(\" + 0.367*\")\" + 0.188*\"algorithm\" + 0.024*\"integr\" + 0.009*\"exponenti\" + 0.004*\"romberg\" + 0.003*\"connect\" + 0.002*\"definit\" + 0.001*\"surfac\" + 0.000*\"fit\"\n",
      "2021-02-19 20:17:23,014 : INFO : topic diff=0.455919, rho=0.307119\n",
      "2021-02-19 20:17:23,024 : INFO : PROGRESS: pass 9, at document #2000/3204\n",
      "2021-02-19 20:17:24,030 : INFO : optimized alpha [0.010310764, 0.011036429, 0.012296163, 0.013897612, 0.011393546, 0.011316561, 0.011334655, 0.011033423, 0.01115694, 0.010179519, 0.011570017, 0.011326474, 0.013243985, 0.011059204, 0.011229578, 0.01191815, 0.010358898, 0.012207693, 0.010727018, 0.0117377415, 0.011423603, 0.010528789, 0.01137521, 0.012488445, 0.01160776, 0.026862964, 0.010817712, 0.010344466, 0.01111701, 0.012064717, 0.011847784, 0.010436881, 0.011008936, 0.012428649, 0.010945179, 0.01095707, 0.011729724, 0.011406618, 0.011782667, 0.013558703, 0.011356135, 0.010992276, 0.010443432, 0.011754895, 0.0129373465, 0.0104867555, 0.01135276, 0.011921326, 0.010381303, 0.010374215, 0.012707334, 0.011481202, 0.010656747, 0.010883121, 0.010348739, 0.010927196, 0.010792148, 0.012202817, 0.011566707, 0.0117400475, 0.011202292, 0.011755228, 0.0114932675, 0.011205246, 0.010607437, 0.010530697, 0.010404834, 0.010695097, 0.011137846, 0.011011813, 0.011043985, 0.010998932, 0.014537934, 0.011281998, 0.011676651, 0.011249695, 0.011821801, 0.012142227, 0.012401452, 0.011915432, 0.011586264, 0.010645175, 0.010619428, 0.01191489, 0.013931919, 0.01035384, 0.010821043, 0.010965318, 0.009729801, 0.010062447, 0.011740376, 0.011745113, 0.0115969675, 0.011378798, 0.0116792265, 0.014270619, 0.010374143, 0.012315967, 0.0123449275, 0.010913773]\n",
      "2021-02-19 20:17:24,039 : INFO : merging changes from 2000 documents into a model of 3204 documents\n",
      "2021-02-19 20:17:24,048 : INFO : topic #88 (0.010): 0.091*\",\" + 0.049*\"comput\" + 0.038*\"monitor\" + 0.036*\"system\" + 0.032*\"-\" + 0.029*\"oper\" + 0.028*\"extend\" + 0.022*\"time\" + 0.022*\"requir\" + 0.019*\"telephon\"\n",
      "2021-02-19 20:17:24,049 : INFO : topic #89 (0.010): 0.517*\"statement\" + 0.291*\"iter\" + 0.105*\"element\" + 0.011*\"languag\" + 0.008*\"recent\" + 0.008*\"structur\" + 0.008*\"made\" + 0.006*\"addit\" + 0.000*\")\" + 0.000*\"(\"\n",
      "2021-02-19 20:17:24,050 : INFO : topic #95 (0.014): 0.295*\"[\" + 0.230*\"algorithm\" + 0.211*\"(\" + 0.190*\"])\" + 0.028*\"d1\" + 0.015*\"quadratur\" + 0.011*\"f4\" + 0.005*\"gaussian\" + 0.003*\"exact\" + 0.001*\"linear\"\n",
      "2021-02-19 20:17:24,051 : INFO : topic #72 (0.015): 0.188*\")\" + 0.165*\"(\" + 0.122*\"]\" + 0.085*\"propos\" + 0.058*\"standard\" + 0.047*\"*\" + 0.038*\"american\" + 0.035*\"-\" + 0.035*\"corrigendum\" + 0.032*\"inform\"\n",
      "2021-02-19 20:17:24,051 : INFO : topic #25 (0.027): 0.391*\"(\" + 0.366*\")\" + 0.195*\"algorithm\" + 0.024*\"integr\" + 0.009*\"exponenti\" + 0.004*\"romberg\" + 0.003*\"definit\" + 0.003*\"connect\" + 0.001*\"surfac\" + 0.000*\"fit\"\n",
      "2021-02-19 20:17:24,052 : INFO : topic diff=0.396171, rho=0.293585\n",
      "2021-02-19 20:17:25,261 : INFO : -6.502 per-word bound, 90.6 perplexity estimate based on a held-out corpus of 1204 documents with 49783 words\n",
      "2021-02-19 20:17:25,262 : INFO : PROGRESS: pass 9, at document #3204/3204\n",
      "2021-02-19 20:17:26,265 : INFO : optimized alpha [0.010402516, 0.011151403, 0.012483578, 0.014225052, 0.011570743, 0.011474058, 0.011512898, 0.011149908, 0.01128762, 0.010267334, 0.0117719285, 0.011477761, 0.013511505, 0.011226951, 0.011400724, 0.012099105, 0.0104423575, 0.012410691, 0.010797033, 0.012014099, 0.0114403535, 0.010600395, 0.01150481, 0.012772157, 0.011754511, 0.0282183, 0.010933775, 0.010395036, 0.011155596, 0.012176041, 0.01201115, 0.010518718, 0.011166209, 0.012765232, 0.011099484, 0.011061318, 0.011857522, 0.011573411, 0.011925392, 0.013741422, 0.011504125, 0.011095592, 0.0105114095, 0.012034163, 0.013224698, 0.010540684, 0.011503845, 0.011976711, 0.010430896, 0.010387932, 0.013045201, 0.011573914, 0.010753971, 0.010998943, 0.010424115, 0.011061084, 0.010955524, 0.012370317, 0.011759219, 0.011830557, 0.011348428, 0.012009033, 0.011642581, 0.011279924, 0.010737427, 0.010602734, 0.010563803, 0.010803788, 0.011263114, 0.0111452555, 0.011162153, 0.011134243, 0.014871433, 0.011415644, 0.011863235, 0.011305522, 0.011997813, 0.012453955, 0.0126575865, 0.012086426, 0.011750898, 0.010746359, 0.010738413, 0.012199743, 0.01425533, 0.010463881, 0.010975908, 0.0110759195, 0.00976813, 0.010069187, 0.011934683, 0.011915707, 0.01183436, 0.011525946, 0.011833089, 0.01441654, 0.010416017, 0.012483512, 0.012491949, 0.011088282]\n",
      "2021-02-19 20:17:26,276 : INFO : merging changes from 1204 documents into a model of 3204 documents\n",
      "2021-02-19 20:17:26,290 : INFO : topic #88 (0.010): 0.096*\",\" + 0.047*\"comput\" + 0.035*\"system\" + 0.035*\"monitor\" + 0.031*\"extend\" + 0.029*\"-\" + 0.029*\"oper\" + 0.024*\"requir\" + 0.023*\"time\" + 0.019*\"share\"\n",
      "2021-02-19 20:17:26,291 : INFO : topic #89 (0.010): 0.521*\"statement\" + 0.282*\"iter\" + 0.113*\"element\" + 0.009*\"languag\" + 0.009*\"structur\" + 0.007*\"recent\" + 0.006*\"made\" + 0.005*\"addit\" + 0.000*\")\" + 0.000*\"(\"\n",
      "2021-02-19 20:17:26,291 : INFO : topic #95 (0.014): 0.315*\"[\" + 0.240*\"algorithm\" + 0.205*\"(\" + 0.155*\"])\" + 0.034*\"d1\" + 0.017*\"quadratur\" + 0.013*\"f4\" + 0.005*\"gaussian\" + 0.003*\"exact\" + 0.001*\"linear\"\n",
      "2021-02-19 20:17:26,292 : INFO : topic #72 (0.015): 0.206*\")\" + 0.170*\"(\" + 0.155*\"]\" + 0.076*\"propos\" + 0.048*\"standard\" + 0.042*\"corrigendum\" + 0.037*\"*\" + 0.034*\"-\" + 0.030*\"american\" + 0.028*\"[\"\n",
      "2021-02-19 20:17:26,293 : INFO : topic #25 (0.028): 0.400*\"(\" + 0.371*\")\" + 0.185*\"algorithm\" + 0.022*\"integr\" + 0.008*\"exponenti\" + 0.004*\"romberg\" + 0.003*\"connect\" + 0.002*\"definit\" + 0.001*\"surfac\" + 0.000*\"fit\"\n",
      "2021-02-19 20:17:26,293 : INFO : topic diff=0.400273, rho=0.293585\n",
      "2021-02-19 20:17:26,306 : INFO : PROGRESS: pass 10, at document #2000/3204\n",
      "2021-02-19 20:17:27,248 : INFO : optimized alpha [0.010453947, 0.011193823, 0.012611536, 0.01438721, 0.011595027, 0.011443151, 0.011537928, 0.011117769, 0.0113093825, 0.010324306, 0.011754204, 0.011562005, 0.013740324, 0.011237187, 0.011419269, 0.012107822, 0.010520142, 0.012511184, 0.010858132, 0.012013891, 0.011579579, 0.010611068, 0.0115112355, 0.012858085, 0.011835831, 0.029932708, 0.010986958, 0.010464147, 0.011206425, 0.012355469, 0.012109772, 0.010541804, 0.011144332, 0.012864695, 0.0111021325, 0.011072461, 0.011897199, 0.011654223, 0.012011106, 0.01383774, 0.011478134, 0.01126055, 0.0105262995, 0.0120989485, 0.013251679, 0.010557644, 0.01152634, 0.012185037, 0.010450959, 0.010468171, 0.01315981, 0.0116835525, 0.010742991, 0.011083505, 0.010448191, 0.011095723, 0.010972388, 0.012513262, 0.011758137, 0.011978721, 0.011389813, 0.012024259, 0.011738726, 0.011293711, 0.010714631, 0.010668993, 0.010529269, 0.010851773, 0.011259527, 0.011204975, 0.011209515, 0.011099188, 0.014993496, 0.011475587, 0.011922091, 0.011387641, 0.012026836, 0.01245404, 0.012686562, 0.012193546, 0.011792847, 0.01074918, 0.010761735, 0.012315226, 0.014473286, 0.010476432, 0.010983169, 0.011117747, 0.009762091, 0.010132032, 0.011989356, 0.012028071, 0.011858711, 0.011521104, 0.0119173275, 0.014805912, 0.010476758, 0.012637304, 0.012682353, 0.011084363]\n",
      "2021-02-19 20:17:27,257 : INFO : merging changes from 2000 documents into a model of 3204 documents\n",
      "2021-02-19 20:17:27,268 : INFO : topic #88 (0.010): 0.095*\",\" + 0.050*\"comput\" + 0.038*\"monitor\" + 0.035*\"system\" + 0.031*\"-\" + 0.030*\"oper\" + 0.029*\"extend\" + 0.023*\"requir\" + 0.023*\"time\" + 0.019*\"telephon\"\n",
      "2021-02-19 20:17:27,269 : INFO : topic #89 (0.010): 0.518*\"statement\" + 0.290*\"iter\" + 0.105*\"element\" + 0.010*\"languag\" + 0.009*\"structur\" + 0.008*\"recent\" + 0.008*\"made\" + 0.006*\"addit\" + 0.000*\")\" + 0.000*\"(\"\n",
      "2021-02-19 20:17:27,269 : INFO : topic #95 (0.015): 0.297*\"[\" + 0.230*\"algorithm\" + 0.214*\"(\" + 0.188*\"])\" + 0.028*\"d1\" + 0.015*\"quadratur\" + 0.011*\"f4\" + 0.005*\"gaussian\" + 0.002*\"exact\" + 0.000*\"linear\"\n",
      "2021-02-19 20:17:27,270 : INFO : topic #72 (0.015): 0.188*\")\" + 0.164*\"(\" + 0.123*\"]\" + 0.087*\"propos\" + 0.061*\"standard\" + 0.047*\"*\" + 0.039*\"american\" + 0.036*\"-\" + 0.035*\"corrigendum\" + 0.033*\"inform\"\n",
      "2021-02-19 20:17:27,271 : INFO : topic #25 (0.030): 0.394*\"(\" + 0.370*\")\" + 0.192*\"algorithm\" + 0.022*\"integr\" + 0.008*\"exponenti\" + 0.004*\"romberg\" + 0.003*\"definit\" + 0.002*\"connect\" + 0.001*\"surfac\" + 0.000*\"fit\"\n"
     ]
    },
    {
     "name": "stderr",
     "output_type": "stream",
     "text": [
      "2021-02-19 20:17:27,272 : INFO : topic diff=0.347637, rho=0.281696\n",
      "2021-02-19 20:17:28,427 : INFO : -6.488 per-word bound, 89.8 perplexity estimate based on a held-out corpus of 1204 documents with 49783 words\n",
      "2021-02-19 20:17:28,427 : INFO : PROGRESS: pass 10, at document #3204/3204\n",
      "2021-02-19 20:17:29,299 : INFO : optimized alpha [0.010547615, 0.011318245, 0.01277837, 0.014724577, 0.011769671, 0.011603767, 0.011721853, 0.011227848, 0.011427916, 0.010419011, 0.011961302, 0.011706029, 0.014011416, 0.011408002, 0.011587944, 0.012283188, 0.010610677, 0.012711333, 0.010925711, 0.012291901, 0.011597924, 0.010687813, 0.0116366735, 0.01314749, 0.012005618, 0.03134204, 0.011101897, 0.010510438, 0.011243843, 0.012462544, 0.012276667, 0.010621042, 0.0113019, 0.013201363, 0.011259383, 0.011173364, 0.012026379, 0.011813272, 0.012149246, 0.014021277, 0.011618656, 0.011373472, 0.0105971005, 0.012386235, 0.013531518, 0.010610003, 0.011686216, 0.012237369, 0.010504059, 0.010478953, 0.013481989, 0.011772837, 0.01084476, 0.011198119, 0.010523534, 0.011225334, 0.011133569, 0.012678627, 0.011944965, 0.012074266, 0.011534103, 0.012277173, 0.011905817, 0.011355373, 0.010848233, 0.010741041, 0.010688318, 0.010964448, 0.011380898, 0.0113369245, 0.0113318255, 0.011232821, 0.015318726, 0.011612958, 0.012108907, 0.011438715, 0.012203162, 0.012755571, 0.012944972, 0.012364943, 0.011966427, 0.010854636, 0.01088469, 0.012632157, 0.01481368, 0.010590371, 0.01113844, 0.011232639, 0.0098088235, 0.01013875, 0.012177989, 0.012193699, 0.012095564, 0.011658031, 0.012063659, 0.014955779, 0.010526944, 0.01280549, 0.01282751, 0.01125363]\n",
      "2021-02-19 20:17:29,311 : INFO : merging changes from 1204 documents into a model of 3204 documents\n",
      "2021-02-19 20:17:29,322 : INFO : topic #88 (0.010): 0.099*\",\" + 0.048*\"comput\" + 0.035*\"monitor\" + 0.034*\"system\" + 0.032*\"extend\" + 0.030*\"oper\" + 0.029*\"-\" + 0.026*\"requir\" + 0.024*\"time\" + 0.019*\"singl\"\n",
      "2021-02-19 20:17:29,323 : INFO : topic #89 (0.010): 0.521*\"statement\" + 0.282*\"iter\" + 0.114*\"element\" + 0.010*\"structur\" + 0.009*\"languag\" + 0.007*\"recent\" + 0.006*\"made\" + 0.005*\"addit\" + 0.000*\")\" + 0.000*\"(\"\n",
      "2021-02-19 20:17:29,324 : INFO : topic #95 (0.015): 0.317*\"[\" + 0.239*\"algorithm\" + 0.207*\"(\" + 0.154*\"])\" + 0.034*\"d1\" + 0.017*\"quadratur\" + 0.013*\"f4\" + 0.005*\"gaussian\" + 0.003*\"exact\" + 0.000*\"linear\"\n",
      "2021-02-19 20:17:29,324 : INFO : topic #72 (0.015): 0.206*\")\" + 0.169*\"(\" + 0.155*\"]\" + 0.079*\"propos\" + 0.052*\"standard\" + 0.042*\"corrigendum\" + 0.037*\"*\" + 0.035*\"-\" + 0.031*\"american\" + 0.028*\"inform\"\n",
      "2021-02-19 20:17:29,325 : INFO : topic #25 (0.031): 0.403*\"(\" + 0.375*\")\" + 0.182*\"algorithm\" + 0.020*\"integr\" + 0.008*\"exponenti\" + 0.004*\"romberg\" + 0.003*\"connect\" + 0.002*\"definit\" + 0.000*\"surfac\" + 0.000*\"fit\"\n",
      "2021-02-19 20:17:29,326 : INFO : topic diff=0.353461, rho=0.281696\n",
      "2021-02-19 20:17:29,336 : INFO : PROGRESS: pass 11, at document #2000/3204\n",
      "2021-02-19 20:17:30,307 : INFO : optimized alpha [0.010600374, 0.011357657, 0.012903021, 0.014886626, 0.0117959445, 0.011575162, 0.011748846, 0.01120473, 0.011448919, 0.010482848, 0.011943354, 0.011791005, 0.014238293, 0.011417513, 0.01161186, 0.012294567, 0.010692082, 0.01280538, 0.010989609, 0.012290242, 0.011733435, 0.010717339, 0.011647458, 0.013233833, 0.012086019, 0.033131316, 0.011157968, 0.010580508, 0.011290333, 0.012637812, 0.0123741375, 0.010642047, 0.011283495, 0.013295622, 0.011264646, 0.011185752, 0.0120663475, 0.011893218, 0.012224176, 0.014124166, 0.011595003, 0.011553457, 0.010621893, 0.012450053, 0.013558224, 0.010631131, 0.011709252, 0.012439391, 0.010520911, 0.010556976, 0.013594891, 0.011876306, 0.01083868, 0.011286312, 0.010549893, 0.011260303, 0.0111571755, 0.012819655, 0.011946628, 0.012226891, 0.011580328, 0.012294207, 0.012025349, 0.011361336, 0.010829055, 0.010808345, 0.010654597, 0.011007934, 0.011381967, 0.011400973, 0.0113854315, 0.011201991, 0.015438524, 0.011675736, 0.0121705625, 0.0115153855, 0.012232593, 0.012759224, 0.012968393, 0.012472351, 0.012019845, 0.010857404, 0.010907135, 0.012754769, 0.015031126, 0.010605421, 0.011145134, 0.011274656, 0.009804791, 0.010201285, 0.012233887, 0.012309641, 0.012121595, 0.011656404, 0.01214211, 0.0153426565, 0.010587425, 0.012962515, 0.013017244, 0.011257019]\n",
      "2021-02-19 20:17:30,316 : INFO : merging changes from 2000 documents into a model of 3204 documents\n",
      "2021-02-19 20:17:30,327 : INFO : topic #88 (0.010): 0.098*\",\" + 0.051*\"comput\" + 0.039*\"monitor\" + 0.034*\"system\" + 0.030*\"-\" + 0.030*\"oper\" + 0.030*\"extend\" + 0.025*\"requir\" + 0.023*\"time\" + 0.018*\"telephon\"\n",
      "2021-02-19 20:17:30,327 : INFO : topic #89 (0.010): 0.518*\"statement\" + 0.289*\"iter\" + 0.107*\"element\" + 0.010*\"languag\" + 0.009*\"structur\" + 0.008*\"made\" + 0.008*\"recent\" + 0.006*\"addit\" + 0.000*\")\" + 0.000*\"(\"\n",
      "2021-02-19 20:17:30,328 : INFO : topic #95 (0.015): 0.299*\"[\" + 0.230*\"algorithm\" + 0.215*\"(\" + 0.185*\"])\" + 0.028*\"d1\" + 0.015*\"quadratur\" + 0.011*\"f4\" + 0.004*\"gaussian\" + 0.002*\"exact\" + 0.000*\"linear\"\n",
      "2021-02-19 20:17:30,329 : INFO : topic #72 (0.015): 0.189*\")\" + 0.163*\"(\" + 0.125*\"]\" + 0.089*\"propos\" + 0.065*\"standard\" + 0.047*\"*\" + 0.040*\"american\" + 0.037*\"-\" + 0.036*\"corrigendum\" + 0.034*\"inform\"\n",
      "2021-02-19 20:17:30,329 : INFO : topic #25 (0.033): 0.396*\"(\" + 0.373*\")\" + 0.190*\"algorithm\" + 0.020*\"integr\" + 0.008*\"exponenti\" + 0.004*\"romberg\" + 0.003*\"definit\" + 0.002*\"connect\" + 0.000*\"surfac\" + 0.000*\"fit\"\n",
      "2021-02-19 20:17:30,331 : INFO : topic diff=0.306702, rho=0.271143\n",
      "2021-02-19 20:17:31,512 : INFO : -6.478 per-word bound, 89.2 perplexity estimate based on a held-out corpus of 1204 documents with 49783 words\n",
      "2021-02-19 20:17:31,513 : INFO : PROGRESS: pass 11, at document #3204/3204\n",
      "2021-02-19 20:17:32,416 : INFO : optimized alpha [0.01069597, 0.011483557, 0.013074187, 0.015227897, 0.011963207, 0.01173389, 0.011925396, 0.0113115655, 0.011582222, 0.010584283, 0.012142187, 0.011928367, 0.014503853, 0.011594164, 0.011783991, 0.012465107, 0.010789603, 0.013009095, 0.011060024, 0.01257037, 0.011753348, 0.010789443, 0.011774561, 0.013511492, 0.012254076, 0.034641497, 0.011274625, 0.010634888, 0.011331909, 0.012741144, 0.01254498, 0.010721367, 0.011441772, 0.013660163, 0.011415035, 0.011281141, 0.012191703, 0.012053378, 0.012361092, 0.01430564, 0.011736689, 0.011670706, 0.010688221, 0.01274603, 0.013828416, 0.010679656, 0.011862126, 0.012494648, 0.0105701955, 0.010562671, 0.0139143765, 0.011967974, 0.010942492, 0.01140004, 0.010623008, 0.011396388, 0.011324229, 0.012980477, 0.012133874, 0.012330104, 0.011715238, 0.012546812, 0.012204663, 0.011403353, 0.01095145, 0.010878174, 0.010816492, 0.011119829, 0.011512806, 0.0115343295, 0.011504182, 0.011331763, 0.015759593, 0.011811748, 0.012352327, 0.011567404, 0.012412451, 0.013062812, 0.013211779, 0.012647529, 0.01221046, 0.010962224, 0.011036469, 0.013084388, 0.015382257, 0.010730574, 0.011306105, 0.011388717, 0.009854883, 0.010207974, 0.012423066, 0.012470686, 0.012366872, 0.011797432, 0.012289739, 0.015489809, 0.010636066, 0.013128846, 0.013160908, 0.011424224]\n",
      "2021-02-19 20:17:32,424 : INFO : merging changes from 1204 documents into a model of 3204 documents\n",
      "2021-02-19 20:17:32,436 : INFO : topic #88 (0.010): 0.102*\",\" + 0.049*\"comput\" + 0.035*\"monitor\" + 0.033*\"system\" + 0.033*\"extend\" + 0.030*\"oper\" + 0.029*\"-\" + 0.028*\"requir\" + 0.024*\"time\" + 0.020*\"singl\"\n",
      "2021-02-19 20:17:32,437 : INFO : topic #89 (0.010): 0.521*\"statement\" + 0.282*\"iter\" + 0.115*\"element\" + 0.010*\"structur\" + 0.008*\"languag\" + 0.007*\"recent\" + 0.006*\"made\" + 0.005*\"addit\" + 0.000*\")\" + 0.000*\"(\"\n",
      "2021-02-19 20:17:32,438 : INFO : topic #95 (0.015): 0.319*\"[\" + 0.237*\"algorithm\" + 0.208*\"(\" + 0.153*\"])\" + 0.033*\"d1\" + 0.017*\"quadratur\" + 0.013*\"f4\" + 0.005*\"gaussian\" + 0.003*\"exact\" + 0.000*\"linear\"\n",
      "2021-02-19 20:17:32,438 : INFO : topic #72 (0.016): 0.203*\")\" + 0.167*\"(\" + 0.157*\"]\" + 0.082*\"propos\" + 0.055*\"standard\" + 0.043*\"corrigendum\" + 0.038*\"*\" + 0.036*\"-\" + 0.032*\"american\" + 0.029*\"inform\"\n",
      "2021-02-19 20:17:32,439 : INFO : topic #25 (0.035): 0.404*\"(\" + 0.377*\")\" + 0.180*\"algorithm\" + 0.018*\"integr\" + 0.007*\"exponenti\" + 0.004*\"romberg\" + 0.003*\"connect\" + 0.002*\"definit\" + 0.000*\"surfac\" + 0.000*\"fit\"\n",
      "2021-02-19 20:17:32,440 : INFO : topic diff=0.313215, rho=0.271143\n"
     ]
    },
    {
     "name": "stderr",
     "output_type": "stream",
     "text": [
      "2021-02-19 20:17:32,451 : INFO : PROGRESS: pass 12, at document #2000/3204\n",
      "2021-02-19 20:17:33,328 : INFO : optimized alpha [0.010745907, 0.011523211, 0.013197693, 0.0153918285, 0.011989915, 0.011710485, 0.01195283, 0.011292361, 0.011608648, 0.010653443, 0.012128857, 0.012012681, 0.014732933, 0.011612138, 0.011825294, 0.012472515, 0.010876023, 0.013097064, 0.011128114, 0.0125673795, 0.0118855685, 0.010818277, 0.011781871, 0.013600326, 0.012338577, 0.036492072, 0.011332149, 0.010704624, 0.011380365, 0.012912666, 0.012644802, 0.010744712, 0.011425107, 0.013756544, 0.011421366, 0.011297694, 0.012228837, 0.012131172, 0.012438774, 0.014407419, 0.011718292, 0.01186886, 0.01071255, 0.012810698, 0.013853184, 0.0107032545, 0.011884213, 0.012692581, 0.010585482, 0.010640136, 0.014022095, 0.012068832, 0.010941089, 0.011487491, 0.010650132, 0.011434688, 0.011354206, 0.013118212, 0.012134948, 0.01248104, 0.011763123, 0.0125656435, 0.012326463, 0.011405181, 0.010938614, 0.010945168, 0.010787698, 0.011162085, 0.011513733, 0.01159663, 0.011557766, 0.0113033885, 0.015873477, 0.011880483, 0.012415235, 0.011640619, 0.012447208, 0.013071637, 0.013228365, 0.012757176, 0.012270112, 0.010969213, 0.01106108, 0.013222838, 0.015599623, 0.010752117, 0.011315184, 0.01143549, 0.009853969, 0.010270354, 0.012473742, 0.012585432, 0.012397854, 0.011801983, 0.01236919, 0.01587077, 0.010699209, 0.013284173, 0.013343478, 0.011424131]\n",
      "2021-02-19 20:17:33,337 : INFO : merging changes from 2000 documents into a model of 3204 documents\n",
      "2021-02-19 20:17:33,346 : INFO : topic #88 (0.010): 0.101*\",\" + 0.052*\"comput\" + 0.039*\"monitor\" + 0.033*\"system\" + 0.031*\"extend\" + 0.030*\"oper\" + 0.030*\"-\" + 0.027*\"requir\" + 0.023*\"time\" + 0.019*\"singl\"\n",
      "2021-02-19 20:17:33,347 : INFO : topic #89 (0.010): 0.516*\"statement\" + 0.288*\"iter\" + 0.112*\"element\" + 0.009*\"structur\" + 0.009*\"languag\" + 0.008*\"made\" + 0.007*\"recent\" + 0.006*\"addit\" + 0.000*\")\" + 0.000*\"(\"\n",
      "2021-02-19 20:17:33,348 : INFO : topic #95 (0.016): 0.301*\"[\" + 0.230*\"algorithm\" + 0.216*\"(\" + 0.184*\"])\" + 0.028*\"d1\" + 0.015*\"quadratur\" + 0.011*\"f4\" + 0.004*\"gaussian\" + 0.002*\"exact\" + 0.000*\"linear\"\n",
      "2021-02-19 20:17:33,350 : INFO : topic #72 (0.016): 0.187*\")\" + 0.162*\"(\" + 0.126*\"]\" + 0.091*\"propos\" + 0.068*\"standard\" + 0.047*\"*\" + 0.040*\"american\" + 0.038*\"-\" + 0.036*\"corrigendum\" + 0.036*\"inform\"\n",
      "2021-02-19 20:17:33,350 : INFO : topic #25 (0.036): 0.398*\"(\" + 0.375*\")\" + 0.188*\"algorithm\" + 0.019*\"integr\" + 0.007*\"exponenti\" + 0.004*\"romberg\" + 0.002*\"definit\" + 0.002*\"connect\" + 0.000*\"surfac\" + 0.000*\"fit\"\n",
      "2021-02-19 20:17:33,351 : INFO : topic diff=0.273079, rho=0.261694\n",
      "2021-02-19 20:17:34,420 : INFO : -6.468 per-word bound, 88.6 perplexity estimate based on a held-out corpus of 1204 documents with 49783 words\n",
      "2021-02-19 20:17:34,421 : INFO : PROGRESS: pass 12, at document #3204/3204\n",
      "2021-02-19 20:17:35,275 : INFO : optimized alpha [0.010834326, 0.01164327, 0.013361527, 0.015747946, 0.012153042, 0.011872771, 0.012125103, 0.011391482, 0.011748807, 0.010768509, 0.0123202, 0.012143884, 0.014993682, 0.01179736, 0.012006293, 0.012644187, 0.010980421, 0.01330459, 0.011198923, 0.012850199, 0.011909603, 0.010890802, 0.011897805, 0.013866955, 0.012507988, 0.038079076, 0.011445748, 0.010769099, 0.011425918, 0.013012627, 0.012814269, 0.01081951, 0.011581792, 0.014128645, 0.011572945, 0.011395469, 0.012348168, 0.0122926105, 0.012577334, 0.014574462, 0.011858878, 0.011990478, 0.010784093, 0.013115839, 0.01411749, 0.010750572, 0.012035777, 0.012742485, 0.010640572, 0.01063651, 0.014320943, 0.012165532, 0.011047041, 0.0116055645, 0.010721211, 0.011577241, 0.011529738, 0.013277775, 0.012312229, 0.012592023, 0.011894472, 0.012807557, 0.012496328, 0.011443876, 0.011065017, 0.0110129565, 0.010945533, 0.011270946, 0.011643676, 0.011734151, 0.011673413, 0.011427247, 0.016184254, 0.012020709, 0.012600718, 0.011691045, 0.01263093, 0.013375195, 0.013454764, 0.012936353, 0.012459108, 0.011068815, 0.011187052, 0.013554378, 0.015948623, 0.010883495, 0.011482187, 0.011549057, 0.009907243, 0.010277016, 0.012655638, 0.012750633, 0.012646429, 0.011944597, 0.0125048505, 0.016012153, 0.0107464325, 0.013449011, 0.0134859495, 0.0115821995]\n",
      "2021-02-19 20:17:35,284 : INFO : merging changes from 1204 documents into a model of 3204 documents\n",
      "2021-02-19 20:17:35,294 : INFO : topic #88 (0.010): 0.105*\",\" + 0.049*\"comput\" + 0.035*\"monitor\" + 0.033*\"extend\" + 0.031*\"system\" + 0.030*\"oper\" + 0.030*\"requir\" + 0.029*\"-\" + 0.024*\"time\" + 0.021*\"singl\"\n",
      "2021-02-19 20:17:35,295 : INFO : topic #89 (0.010): 0.519*\"statement\" + 0.281*\"iter\" + 0.118*\"element\" + 0.011*\"structur\" + 0.008*\"languag\" + 0.006*\"recent\" + 0.006*\"made\" + 0.005*\"addit\" + 0.000*\")\" + 0.000*\"(\"\n",
      "2021-02-19 20:17:35,295 : INFO : topic #95 (0.016): 0.321*\"[\" + 0.236*\"algorithm\" + 0.209*\"(\" + 0.153*\"])\" + 0.033*\"d1\" + 0.016*\"quadratur\" + 0.013*\"f4\" + 0.005*\"gaussian\" + 0.002*\"exact\" + 0.000*\"linear\"\n",
      "2021-02-19 20:17:35,296 : INFO : topic #72 (0.016): 0.200*\")\" + 0.165*\"(\" + 0.157*\"]\" + 0.084*\"propos\" + 0.059*\"standard\" + 0.043*\"corrigendum\" + 0.038*\"*\" + 0.037*\"-\" + 0.033*\"american\" + 0.031*\"inform\"\n",
      "2021-02-19 20:17:35,297 : INFO : topic #25 (0.038): 0.405*\"(\" + 0.379*\")\" + 0.179*\"algorithm\" + 0.017*\"integr\" + 0.007*\"exponenti\" + 0.004*\"romberg\" + 0.003*\"connect\" + 0.002*\"definit\" + 0.000*\"surfac\" + 0.000*\"fit\"\n",
      "2021-02-19 20:17:35,297 : INFO : topic diff=0.279672, rho=0.261694\n",
      "2021-02-19 20:17:35,310 : INFO : PROGRESS: pass 13, at document #2000/3204\n",
      "2021-02-19 20:17:36,164 : INFO : optimized alpha [0.010883028, 0.011683348, 0.013494295, 0.015924487, 0.012180278, 0.011848205, 0.012156123, 0.01137303, 0.011775839, 0.010849774, 0.012308236, 0.012229306, 0.015219484, 0.011823354, 0.012046235, 0.01265745, 0.011077504, 0.013396968, 0.01126975, 0.012850772, 0.012038958, 0.010925982, 0.011901905, 0.013953201, 0.012599806, 0.0399938, 0.011509072, 0.0108372355, 0.011474794, 0.013180843, 0.01291333, 0.010846453, 0.011571158, 0.014221925, 0.011575899, 0.01141455, 0.0123858275, 0.012368386, 0.012659371, 0.014669903, 0.011843933, 0.012191902, 0.010810692, 0.013184832, 0.01414404, 0.0107683465, 0.012057011, 0.012938331, 0.010659824, 0.010710854, 0.014425575, 0.012264113, 0.011055614, 0.011692502, 0.010750488, 0.011618801, 0.0115630925, 0.013407713, 0.012317501, 0.012739969, 0.011939587, 0.012826665, 0.012630014, 0.011446231, 0.0110496385, 0.0110798, 0.010918607, 0.011314982, 0.011644504, 0.01179779, 0.011724168, 0.0114011625, 0.016288267, 0.012101375, 0.012664882, 0.011762556, 0.012666019, 0.013385692, 0.013463081, 0.0130434465, 0.012518564, 0.011077057, 0.011217985, 0.013703815, 0.016164025, 0.01090715, 0.011492139, 0.011597587, 0.009906696, 0.010338032, 0.012703085, 0.012866056, 0.012682326, 0.011953324, 0.0125823645, 0.01639157, 0.010809513, 0.013597856, 0.013673839, 0.011584693]\n",
      "2021-02-19 20:17:36,175 : INFO : merging changes from 2000 documents into a model of 3204 documents\n",
      "2021-02-19 20:17:36,185 : INFO : topic #88 (0.010): 0.103*\",\" + 0.052*\"comput\" + 0.038*\"monitor\" + 0.031*\"extend\" + 0.031*\"system\" + 0.031*\"oper\" + 0.030*\"-\" + 0.028*\"requir\" + 0.024*\"time\" + 0.019*\"singl\"\n",
      "2021-02-19 20:17:36,186 : INFO : topic #89 (0.010): 0.515*\"statement\" + 0.287*\"iter\" + 0.115*\"element\" + 0.010*\"structur\" + 0.009*\"languag\" + 0.008*\"made\" + 0.007*\"recent\" + 0.006*\"addit\" + 0.000*\")\" + 0.000*\"(\"\n",
      "2021-02-19 20:17:36,187 : INFO : topic #72 (0.016): 0.185*\")\" + 0.161*\"(\" + 0.128*\"]\" + 0.092*\"propos\" + 0.071*\"standard\" + 0.048*\"*\" + 0.041*\"american\" + 0.039*\"-\" + 0.037*\"inform\" + 0.037*\"corrigendum\"\n",
      "2021-02-19 20:17:36,188 : INFO : topic #95 (0.016): 0.303*\"[\" + 0.230*\"algorithm\" + 0.217*\"(\" + 0.182*\"])\" + 0.028*\"d1\" + 0.014*\"quadratur\" + 0.011*\"f4\" + 0.004*\"gaussian\" + 0.002*\"exact\" + 0.000*\"linear\"\n",
      "2021-02-19 20:17:36,189 : INFO : topic #25 (0.040): 0.399*\"(\" + 0.376*\")\" + 0.187*\"algorithm\" + 0.018*\"integr\" + 0.007*\"exponenti\" + 0.004*\"romberg\" + 0.002*\"definit\" + 0.002*\"connect\" + 0.000*\"surfac\" + 0.000*\"fit\"\n",
      "2021-02-19 20:17:36,190 : INFO : topic diff=0.244624, rho=0.253169\n",
      "2021-02-19 20:17:37,198 : INFO : -6.460 per-word bound, 88.0 perplexity estimate based on a held-out corpus of 1204 documents with 49783 words\n",
      "2021-02-19 20:17:37,199 : INFO : PROGRESS: pass 13, at document #3204/3204\n"
     ]
    },
    {
     "name": "stderr",
     "output_type": "stream",
     "text": [
      "2021-02-19 20:17:38,042 : INFO : optimized alpha [0.010973775, 0.011805386, 0.013651493, 0.016286107, 0.012337093, 0.012006622, 0.012332315, 0.011469709, 0.011917808, 0.010971417, 0.012510899, 0.012362535, 0.01550157, 0.012009684, 0.01223346, 0.012822503, 0.01118633, 0.01360881, 0.011343379, 0.013131403, 0.012061926, 0.011001384, 0.012025071, 0.014206098, 0.012765549, 0.041595012, 0.011622315, 0.010902254, 0.011511903, 0.013277697, 0.013079075, 0.01092404, 0.011726647, 0.014617129, 0.0117190825, 0.011509852, 0.012502174, 0.012528814, 0.012791966, 0.014842258, 0.011976024, 0.012320687, 0.01088957, 0.013499634, 0.014403015, 0.010819113, 0.012202455, 0.012986007, 0.010715819, 0.010709683, 0.014713359, 0.012363293, 0.011163768, 0.011810085, 0.010819803, 0.011758087, 0.011744713, 0.013560742, 0.012495928, 0.012847939, 0.012070305, 0.013074836, 0.012804381, 0.011484293, 0.011182442, 0.0111480765, 0.011077374, 0.011425928, 0.011781278, 0.011929555, 0.011841946, 0.011519596, 0.016603196, 0.012240842, 0.012846403, 0.011811594, 0.012848397, 0.0136785675, 0.013693168, 0.01322413, 0.012708782, 0.011181172, 0.011343371, 0.014040689, 0.016514668, 0.011044677, 0.011650621, 0.011705856, 0.009969382, 0.010344674, 0.012883553, 0.013027445, 0.012934687, 0.012095177, 0.012720047, 0.01653092, 0.010857728, 0.013755882, 0.013812519, 0.011748829]\n",
      "2021-02-19 20:17:38,050 : INFO : merging changes from 1204 documents into a model of 3204 documents\n",
      "2021-02-19 20:17:38,060 : INFO : topic #88 (0.010): 0.108*\",\" + 0.050*\"comput\" + 0.035*\"monitor\" + 0.033*\"extend\" + 0.031*\"requir\" + 0.031*\"oper\" + 0.030*\"system\" + 0.029*\"-\" + 0.025*\"time\" + 0.021*\"singl\"\n",
      "2021-02-19 20:17:38,061 : INFO : topic #89 (0.010): 0.518*\"statement\" + 0.280*\"iter\" + 0.121*\"element\" + 0.011*\"structur\" + 0.008*\"languag\" + 0.006*\"made\" + 0.006*\"recent\" + 0.005*\"addit\" + 0.000*\")\" + 0.000*\"(\"\n",
      "2021-02-19 20:17:38,062 : INFO : topic #95 (0.017): 0.322*\"[\" + 0.236*\"algorithm\" + 0.210*\"(\" + 0.153*\"])\" + 0.033*\"d1\" + 0.017*\"quadratur\" + 0.012*\"f4\" + 0.005*\"gaussian\" + 0.002*\"exact\" + 0.000*\"linear\"\n",
      "2021-02-19 20:17:38,063 : INFO : topic #72 (0.017): 0.198*\")\" + 0.164*\"(\" + 0.158*\"]\" + 0.086*\"propos\" + 0.062*\"standard\" + 0.043*\"corrigendum\" + 0.039*\"*\" + 0.038*\"-\" + 0.033*\"american\" + 0.032*\"inform\"\n",
      "2021-02-19 20:17:38,064 : INFO : topic #25 (0.042): 0.406*\"(\" + 0.380*\")\" + 0.178*\"algorithm\" + 0.016*\"integr\" + 0.007*\"exponenti\" + 0.004*\"romberg\" + 0.003*\"connect\" + 0.002*\"definit\" + 0.000*\"surfac\" + 0.000*\"fit\"\n",
      "2021-02-19 20:17:38,065 : INFO : topic diff=0.251047, rho=0.253169\n",
      "2021-02-19 20:17:38,075 : INFO : PROGRESS: pass 14, at document #2000/3204\n",
      "2021-02-19 20:17:38,983 : INFO : optimized alpha [0.011019988, 0.011847311, 0.01377996, 0.016465405, 0.012364899, 0.011983875, 0.01236995, 0.01145194, 0.011951442, 0.011055242, 0.012506245, 0.012443006, 0.01572655, 0.012036236, 0.0122766355, 0.012830377, 0.0112856645, 0.013697208, 0.011409882, 0.013130709, 0.012188651, 0.011037208, 0.012029045, 0.014288112, 0.012856884, 0.043549784, 0.011691413, 0.010967613, 0.011561278, 0.013446099, 0.013177567, 0.010954467, 0.011718871, 0.014723623, 0.011720317, 0.011529983, 0.012538861, 0.012602785, 0.012872108, 0.014933528, 0.011962834, 0.012521115, 0.010916957, 0.013571248, 0.01442795, 0.010843396, 0.012222892, 0.013180112, 0.010738835, 0.0107851075, 0.014815203, 0.0124627985, 0.0111749265, 0.011895152, 0.010847181, 0.0118014, 0.011776889, 0.0136864, 0.012500622, 0.0129915485, 0.012115716, 0.013102145, 0.012948251, 0.011487112, 0.011167366, 0.011213452, 0.011054915, 0.011475828, 0.011784844, 0.011993141, 0.011897338, 0.011494251, 0.016703947, 0.012324149, 0.012908793, 0.0118860025, 0.012888701, 0.013690815, 0.013698767, 0.013328842, 0.0127633475, 0.011191975, 0.0113734305, 0.0141996965, 0.01673234, 0.011068934, 0.011662919, 0.011753221, 0.009969134, 0.010404435, 0.01292314, 0.013145337, 0.01296891, 0.0121035, 0.012791001, 0.016907148, 0.010919475, 0.013906963, 0.014004199, 0.011752315]\n",
      "2021-02-19 20:17:38,992 : INFO : merging changes from 2000 documents into a model of 3204 documents\n",
      "2021-02-19 20:17:39,002 : INFO : topic #88 (0.010): 0.106*\",\" + 0.053*\"comput\" + 0.038*\"monitor\" + 0.031*\"extend\" + 0.031*\"oper\" + 0.030*\"-\" + 0.029*\"system\" + 0.029*\"requir\" + 0.024*\"time\" + 0.020*\"singl\"\n",
      "2021-02-19 20:17:39,003 : INFO : topic #89 (0.010): 0.513*\"statement\" + 0.285*\"iter\" + 0.118*\"element\" + 0.010*\"structur\" + 0.009*\"languag\" + 0.007*\"made\" + 0.006*\"recent\" + 0.006*\"addit\" + 0.000*\")\" + 0.000*\"(\"\n",
      "2021-02-19 20:17:39,004 : INFO : topic #84 (0.017): 0.480*\"function\" + 0.234*\"distribut\" + 0.094*\"random\" + 0.068*\"gener\" + 0.032*\"satisfi\" + 0.026*\"number\" + 0.023*\"g5\" + 0.017*\"approxim\" + 0.007*\"similar\" + 0.002*\"ration\"\n",
      "2021-02-19 20:17:39,005 : INFO : topic #95 (0.017): 0.304*\"[\" + 0.230*\"algorithm\" + 0.217*\"(\" + 0.181*\"])\" + 0.028*\"d1\" + 0.015*\"quadratur\" + 0.011*\"f4\" + 0.004*\"gaussian\" + 0.002*\"exact\" + 0.000*\"linear\"\n",
      "2021-02-19 20:17:39,005 : INFO : topic #25 (0.044): 0.400*\"(\" + 0.378*\")\" + 0.186*\"algorithm\" + 0.017*\"integr\" + 0.007*\"exponenti\" + 0.004*\"romberg\" + 0.002*\"connect\" + 0.002*\"definit\" + 0.000*\"surfac\" + 0.000*\"fit\"\n",
      "2021-02-19 20:17:39,007 : INFO : topic diff=0.221039, rho=0.245426\n",
      "2021-02-19 20:17:40,085 : INFO : -6.452 per-word bound, 87.6 perplexity estimate based on a held-out corpus of 1204 documents with 49783 words\n",
      "2021-02-19 20:17:40,086 : INFO : PROGRESS: pass 14, at document #3204/3204\n",
      "2021-02-19 20:17:40,878 : INFO : optimized alpha [0.011108633, 0.011964196, 0.013933811, 0.016839629, 0.0125233745, 0.012143738, 0.012547854, 0.01154638, 0.012112565, 0.0111766225, 0.012702373, 0.012573337, 0.016007788, 0.012214087, 0.012480386, 0.0129996445, 0.011403602, 0.013899381, 0.0114863375, 0.013412189, 0.0122106485, 0.011115374, 0.012144505, 0.014545424, 0.013021852, 0.045109533, 0.011802114, 0.0110310335, 0.011607033, 0.013531822, 0.013350701, 0.0110324975, 0.011873431, 0.015137244, 0.01186275, 0.011625494, 0.0126551045, 0.012757298, 0.013012251, 0.01509889, 0.012086964, 0.012659667, 0.0109939575, 0.013882503, 0.014685068, 0.010904202, 0.012370148, 0.013231017, 0.010800338, 0.010781881, 0.015086252, 0.012562027, 0.011287589, 0.012005227, 0.010912673, 0.011940134, 0.011964873, 0.013838679, 0.012667644, 0.013099402, 0.012246021, 0.0133487955, 0.013135465, 0.01152461, 0.011299564, 0.0112823015, 0.011212647, 0.011586583, 0.011918562, 0.012126922, 0.012014896, 0.01160999, 0.017009655, 0.01246808, 0.013086669, 0.011936115, 0.0130674, 0.013981768, 0.013921626, 0.013505819, 0.012955123, 0.011293704, 0.011496069, 0.014548283, 0.01708515, 0.011203619, 0.011820504, 0.0118590295, 0.010028392, 0.010413165, 0.013099859, 0.0133113805, 0.013222682, 0.01223467, 0.012930859, 0.017041253, 0.0109687075, 0.014058553, 0.014136398, 0.011903427]\n",
      "2021-02-19 20:17:40,886 : INFO : merging changes from 1204 documents into a model of 3204 documents\n",
      "2021-02-19 20:17:40,898 : INFO : topic #88 (0.010): 0.110*\",\" + 0.050*\"comput\" + 0.035*\"monitor\" + 0.033*\"extend\" + 0.032*\"requir\" + 0.031*\"oper\" + 0.028*\"-\" + 0.028*\"system\" + 0.025*\"time\" + 0.022*\"singl\"\n",
      "2021-02-19 20:17:40,899 : INFO : topic #89 (0.010): 0.516*\"statement\" + 0.279*\"iter\" + 0.125*\"element\" + 0.011*\"structur\" + 0.007*\"languag\" + 0.006*\"made\" + 0.006*\"addit\" + 0.005*\"recent\" + 0.000*\")\" + 0.000*\"(\"\n",
      "2021-02-19 20:17:40,900 : INFO : topic #95 (0.017): 0.323*\"[\" + 0.235*\"algorithm\" + 0.210*\"(\" + 0.153*\"])\" + 0.032*\"d1\" + 0.017*\"quadratur\" + 0.012*\"f4\" + 0.005*\"gaussian\" + 0.002*\"exact\" + 0.000*\"linear\"\n",
      "2021-02-19 20:17:40,900 : INFO : topic #84 (0.017): 0.476*\"function\" + 0.254*\"distribut\" + 0.083*\"random\" + 0.067*\"gener\" + 0.034*\"satisfi\" + 0.025*\"number\" + 0.021*\"g5\" + 0.016*\"approxim\" + 0.007*\"similar\" + 0.002*\"ration\"\n",
      "2021-02-19 20:17:40,901 : INFO : topic #25 (0.045): 0.407*\"(\" + 0.382*\")\" + 0.178*\"algorithm\" + 0.016*\"integr\" + 0.007*\"exponenti\" + 0.004*\"romberg\" + 0.003*\"connect\" + 0.002*\"definit\" + 0.000*\"surfac\" + 0.000*\"fit\"\n",
      "2021-02-19 20:17:40,903 : INFO : topic diff=0.227135, rho=0.245426\n",
      "2021-02-19 20:17:40,914 : INFO : PROGRESS: pass 15, at document #2000/3204\n",
      "2021-02-19 20:17:41,697 : INFO : optimized alpha [0.011160504, 0.012002254, 0.014061635, 0.017019734, 0.012554773, 0.012122689, 0.012585847, 0.011531984, 0.012146667, 0.011265617, 0.012694196, 0.012659707, 0.016235914, 0.012239662, 0.012528219, 0.013016364, 0.011506719, 0.013990632, 0.011551514, 0.0134053575, 0.012335011, 0.011153119, 0.012148366, 0.014625223, 0.013112804, 0.047099087, 0.011871175, 0.011096419, 0.011658323, 0.013695864, 0.01344877, 0.011066302, 0.011868399, 0.015240783, 0.011863749, 0.011657764, 0.012692426, 0.012829599, 0.013096893, 0.015189831, 0.0120755145, 0.012854998, 0.011026081, 0.013946852, 0.014708443, 0.010929426, 0.012391364, 0.013423693, 0.010819065, 0.01085585, 0.015178295, 0.012664079, 0.011302564, 0.012090007, 0.010936972, 0.011983819, 0.012004592, 0.013960337, 0.0126718795, 0.013248365, 0.012291796, 0.013376282, 0.013289963, 0.011529226, 0.011286056, 0.011346374, 0.011189013, 0.0116367815, 0.011916126, 0.0121949, 0.012066157, 0.01158672, 0.017113447, 0.012558562, 0.013153774, 0.012006191, 0.013109702, 0.013990741, 0.01392969, 0.0136131365, 0.013008161, 0.011302915, 0.011529502, 0.014711855, 0.01729945, 0.011227156, 0.011832218, 0.011911041, 0.0100320615, 0.010471817, 0.013142895, 0.013428633, 0.013260158, 0.012245669, 0.0130048925, 0.017414568, 0.011030562, 0.01420367, 0.01432012, 0.01190512]\n"
     ]
    },
    {
     "name": "stderr",
     "output_type": "stream",
     "text": [
      "2021-02-19 20:17:41,706 : INFO : merging changes from 2000 documents into a model of 3204 documents\n",
      "2021-02-19 20:17:41,716 : INFO : topic #88 (0.010): 0.108*\",\" + 0.053*\"comput\" + 0.038*\"monitor\" + 0.031*\"extend\" + 0.031*\"oper\" + 0.030*\"requir\" + 0.029*\"-\" + 0.028*\"system\" + 0.025*\"time\" + 0.021*\"singl\"\n",
      "2021-02-19 20:17:41,716 : INFO : topic #89 (0.010): 0.511*\"statement\" + 0.284*\"iter\" + 0.122*\"element\" + 0.010*\"structur\" + 0.008*\"languag\" + 0.007*\"made\" + 0.006*\"addit\" + 0.006*\"recent\" + 0.000*\")\" + 0.000*\"(\"\n",
      "2021-02-19 20:17:41,717 : INFO : topic #84 (0.017): 0.494*\"function\" + 0.235*\"distribut\" + 0.086*\"random\" + 0.064*\"gener\" + 0.033*\"satisfi\" + 0.023*\"g5\" + 0.023*\"number\" + 0.016*\"approxim\" + 0.007*\"similar\" + 0.002*\"ration\"\n",
      "2021-02-19 20:17:41,718 : INFO : topic #95 (0.017): 0.304*\"[\" + 0.230*\"algorithm\" + 0.217*\"(\" + 0.180*\"])\" + 0.028*\"d1\" + 0.015*\"quadratur\" + 0.011*\"f4\" + 0.004*\"gaussian\" + 0.002*\"exact\" + 0.000*\"linear\"\n",
      "2021-02-19 20:17:41,719 : INFO : topic #25 (0.047): 0.400*\"(\" + 0.379*\")\" + 0.185*\"algorithm\" + 0.016*\"integr\" + 0.007*\"exponenti\" + 0.004*\"romberg\" + 0.002*\"connect\" + 0.002*\"definit\" + 0.000*\"surfac\" + 0.000*\"fit\"\n",
      "2021-02-19 20:17:41,720 : INFO : topic diff=0.201079, rho=0.238352\n",
      "2021-02-19 20:17:42,679 : INFO : -6.446 per-word bound, 87.2 perplexity estimate based on a held-out corpus of 1204 documents with 49783 words\n",
      "2021-02-19 20:17:42,680 : INFO : PROGRESS: pass 15, at document #3204/3204\n",
      "2021-02-19 20:17:43,436 : INFO : optimized alpha [0.011245028, 0.012119018, 0.014212228, 0.017400453, 0.012712745, 0.01229143, 0.012760468, 0.011631363, 0.012312189, 0.011395946, 0.012886668, 0.012792419, 0.01652969, 0.012426623, 0.01274124, 0.013187554, 0.011626976, 0.0141892, 0.011626264, 0.013685425, 0.012353702, 0.011231774, 0.012261403, 0.014875524, 0.013272075, 0.04872654, 0.01198192, 0.0111605935, 0.011703079, 0.013781758, 0.013615893, 0.01114268, 0.012029391, 0.015664356, 0.012003303, 0.011753578, 0.012806187, 0.012983677, 0.013236814, 0.015345521, 0.012197039, 0.012995814, 0.0110992715, 0.014260309, 0.014958231, 0.010989011, 0.012530663, 0.013472614, 0.010877129, 0.010850714, 0.015442056, 0.012760948, 0.0114175305, 0.012200102, 0.011001063, 0.012126944, 0.012194229, 0.014112226, 0.012830552, 0.013358752, 0.01242927, 0.013621843, 0.013492854, 0.011566221, 0.0114223985, 0.011415882, 0.01134817, 0.01174517, 0.012059132, 0.012326006, 0.012183618, 0.011702363, 0.01741372, 0.012707194, 0.013330936, 0.012055106, 0.013285192, 0.014269127, 0.014148511, 0.013789428, 0.013196437, 0.01141367, 0.011647358, 0.015055239, 0.017661566, 0.011356988, 0.011993871, 0.012021712, 0.010098195, 0.010480495, 0.013318823, 0.013594085, 0.013510352, 0.012371798, 0.013144402, 0.017543606, 0.011078643, 0.014349103, 0.014457784, 0.012053221]\n",
      "2021-02-19 20:17:43,445 : INFO : merging changes from 1204 documents into a model of 3204 documents\n",
      "2021-02-19 20:17:43,455 : INFO : topic #88 (0.010): 0.113*\",\" + 0.051*\"comput\" + 0.034*\"monitor\" + 0.033*\"requir\" + 0.033*\"extend\" + 0.030*\"oper\" + 0.028*\"-\" + 0.027*\"system\" + 0.026*\"time\" + 0.023*\"singl\"\n",
      "2021-02-19 20:17:43,456 : INFO : topic #89 (0.010): 0.514*\"statement\" + 0.278*\"iter\" + 0.128*\"element\" + 0.011*\"structur\" + 0.007*\"languag\" + 0.006*\"made\" + 0.006*\"addit\" + 0.005*\"recent\" + 0.000*\")\" + 0.000*\"(\"\n",
      "2021-02-19 20:17:43,456 : INFO : topic #95 (0.018): 0.323*\"[\" + 0.235*\"algorithm\" + 0.211*\"(\" + 0.153*\"])\" + 0.032*\"d1\" + 0.017*\"quadratur\" + 0.012*\"f4\" + 0.005*\"gaussian\" + 0.002*\"exact\" + 0.000*\"linear\"\n",
      "2021-02-19 20:17:43,458 : INFO : topic #84 (0.018): 0.491*\"function\" + 0.254*\"distribut\" + 0.077*\"random\" + 0.061*\"gener\" + 0.035*\"satisfi\" + 0.022*\"number\" + 0.021*\"g5\" + 0.015*\"approxim\" + 0.007*\"similar\" + 0.002*\"ration\"\n",
      "2021-02-19 20:17:43,459 : INFO : topic #25 (0.049): 0.407*\"(\" + 0.382*\")\" + 0.177*\"algorithm\" + 0.015*\"integr\" + 0.007*\"exponenti\" + 0.004*\"romberg\" + 0.003*\"connect\" + 0.002*\"definit\" + 0.000*\"surfac\" + 0.000*\"fit\"\n",
      "2021-02-19 20:17:43,459 : INFO : topic diff=0.207124, rho=0.238352\n",
      "2021-02-19 20:17:43,471 : INFO : PROGRESS: pass 16, at document #2000/3204\n",
      "2021-02-19 20:17:44,238 : INFO : optimized alpha [0.011290647, 0.012156203, 0.014329661, 0.01758373, 0.0127447145, 0.012274769, 0.012797411, 0.01161611, 0.012349631, 0.011490063, 0.012884159, 0.012878649, 0.016755275, 0.012451182, 0.012786183, 0.013206623, 0.011733798, 0.014280199, 0.011694285, 0.01368218, 0.012475896, 0.011264896, 0.012266656, 0.014956828, 0.013364332, 0.05074903, 0.012058136, 0.011224798, 0.011758945, 0.01394005, 0.013713651, 0.011181091, 0.012025491, 0.015759576, 0.012004087, 0.011787953, 0.01284416, 0.013060517, 0.013321268, 0.015438155, 0.012184429, 0.013183009, 0.011130857, 0.014322377, 0.014980121, 0.0110189775, 0.0125512425, 0.013662534, 0.010902042, 0.010923349, 0.01552996, 0.012859714, 0.011433451, 0.012286158, 0.011024995, 0.01216958, 0.01223701, 0.014231785, 0.0128329415, 0.0135117555, 0.012473994, 0.013654309, 0.013664252, 0.01156986, 0.011409038, 0.011478777, 0.011324723, 0.011797094, 0.012060719, 0.012394038, 0.0122380825, 0.011679678, 0.017512532, 0.012800404, 0.013396443, 0.0121239135, 0.013332617, 0.01428166, 0.014152386, 0.013897914, 0.013249616, 0.011423938, 0.011685363, 0.01521834, 0.01788697, 0.011381209, 0.012004987, 0.012074057, 0.010105496, 0.010538119, 0.013363724, 0.013712503, 0.013549484, 0.012389769, 0.013218447, 0.01791218, 0.011140673, 0.014490151, 0.01463736, 0.01205458]\n",
      "2021-02-19 20:17:44,248 : INFO : merging changes from 2000 documents into a model of 3204 documents\n",
      "2021-02-19 20:17:44,258 : INFO : topic #88 (0.010): 0.111*\",\" + 0.054*\"comput\" + 0.037*\"monitor\" + 0.031*\"requir\" + 0.031*\"extend\" + 0.031*\"oper\" + 0.029*\"-\" + 0.026*\"system\" + 0.026*\"time\" + 0.022*\"singl\"\n",
      "2021-02-19 20:17:44,259 : INFO : topic #89 (0.011): 0.510*\"statement\" + 0.284*\"iter\" + 0.125*\"element\" + 0.010*\"structur\" + 0.007*\"languag\" + 0.007*\"made\" + 0.006*\"addit\" + 0.005*\"recent\" + 0.000*\")\" + 0.000*\"(\"\n",
      "2021-02-19 20:17:44,259 : INFO : topic #95 (0.018): 0.306*\"[\" + 0.230*\"algorithm\" + 0.217*\"(\" + 0.179*\"])\" + 0.028*\"d1\" + 0.015*\"quadratur\" + 0.011*\"f4\" + 0.004*\"gaussian\" + 0.001*\"exact\" + 0.000*\"linear\"\n",
      "2021-02-19 20:17:44,260 : INFO : topic #84 (0.018): 0.508*\"function\" + 0.234*\"distribut\" + 0.080*\"random\" + 0.059*\"gener\" + 0.034*\"satisfi\" + 0.023*\"g5\" + 0.021*\"number\" + 0.014*\"approxim\" + 0.007*\"similar\" + 0.002*\"ration\"\n",
      "2021-02-19 20:17:44,261 : INFO : topic #25 (0.051): 0.401*\"(\" + 0.379*\")\" + 0.185*\"algorithm\" + 0.016*\"integr\" + 0.007*\"exponenti\" + 0.004*\"romberg\" + 0.002*\"connect\" + 0.002*\"definit\" + 0.000*\"surfac\" + 0.000*\"fit\"\n",
      "2021-02-19 20:17:44,262 : INFO : topic diff=0.184459, rho=0.231857\n",
      "2021-02-19 20:17:45,194 : INFO : -6.439 per-word bound, 86.8 perplexity estimate based on a held-out corpus of 1204 documents with 49783 words\n",
      "2021-02-19 20:17:45,195 : INFO : PROGRESS: pass 16, at document #3204/3204\n",
      "2021-02-19 20:17:45,926 : INFO : optimized alpha [0.011373454, 0.012275367, 0.014471685, 0.017974652, 0.012902284, 0.012445214, 0.012971641, 0.011720324, 0.012517186, 0.011633883, 0.013080738, 0.013011324, 0.017042186, 0.012630383, 0.013001144, 0.013377291, 0.01185187, 0.0144726485, 0.011769669, 0.013958564, 0.012496232, 0.011346404, 0.012379855, 0.015206341, 0.013523306, 0.052390344, 0.01216907, 0.011289801, 0.011800541, 0.014026288, 0.013880485, 0.011258138, 0.012183602, 0.016193492, 0.012143358, 0.011879579, 0.012953124, 0.013209245, 0.013461116, 0.01559374, 0.012305868, 0.013328731, 0.011202553, 0.014635412, 0.015228796, 0.011083833, 0.012685521, 0.013709571, 0.010961124, 0.010920613, 0.015783735, 0.012954446, 0.011548458, 0.012394047, 0.01109207, 0.012312488, 0.012426238, 0.01437795, 0.012991103, 0.013632694, 0.012611313, 0.013899063, 0.0138672395, 0.011606401, 0.011549533, 0.011546826, 0.011485463, 0.011901099, 0.012203477, 0.012525035, 0.012353271, 0.011797607, 0.017807698, 0.012948755, 0.013565252, 0.012171735, 0.013518037, 0.014564383, 0.014373017, 0.014081775, 0.013434728, 0.011530366, 0.011807804, 0.015571227, 0.018245067, 0.011508676, 0.012163778, 0.012175487, 0.010172345, 0.010546738, 0.013536568, 0.013882975, 0.013796457, 0.012511108, 0.013360414, 0.01803638, 0.011189839, 0.014632516, 0.014769132, 0.012202249]\n"
     ]
    },
    {
     "name": "stderr",
     "output_type": "stream",
     "text": [
      "2021-02-19 20:17:45,935 : INFO : merging changes from 1204 documents into a model of 3204 documents\n",
      "2021-02-19 20:17:45,945 : INFO : topic #88 (0.010): 0.115*\",\" + 0.052*\"comput\" + 0.034*\"requir\" + 0.034*\"monitor\" + 0.033*\"extend\" + 0.030*\"oper\" + 0.028*\"-\" + 0.027*\"time\" + 0.025*\"system\" + 0.023*\"singl\"\n",
      "2021-02-19 20:17:45,946 : INFO : topic #89 (0.011): 0.513*\"statement\" + 0.278*\"iter\" + 0.130*\"element\" + 0.012*\"structur\" + 0.006*\"languag\" + 0.006*\"made\" + 0.006*\"addit\" + 0.005*\"recent\" + 0.000*\")\" + 0.000*\"(\"\n",
      "2021-02-19 20:17:45,946 : INFO : topic #95 (0.018): 0.324*\"[\" + 0.235*\"algorithm\" + 0.211*\"(\" + 0.153*\"])\" + 0.032*\"d1\" + 0.017*\"quadratur\" + 0.012*\"f4\" + 0.005*\"gaussian\" + 0.001*\"exact\" + 0.000*\"linear\"\n",
      "2021-02-19 20:17:45,947 : INFO : topic #84 (0.018): 0.504*\"function\" + 0.253*\"distribut\" + 0.071*\"random\" + 0.057*\"gener\" + 0.035*\"satisfi\" + 0.021*\"g5\" + 0.020*\"number\" + 0.013*\"approxim\" + 0.007*\"similar\" + 0.002*\"ration\"\n",
      "2021-02-19 20:17:45,947 : INFO : topic #25 (0.052): 0.407*\"(\" + 0.383*\")\" + 0.177*\"algorithm\" + 0.015*\"integr\" + 0.007*\"exponenti\" + 0.004*\"romberg\" + 0.003*\"connect\" + 0.002*\"definit\" + 0.000*\"surfac\" + 0.000*\"fit\"\n",
      "2021-02-19 20:17:45,948 : INFO : topic diff=0.190208, rho=0.231857\n",
      "2021-02-19 20:17:45,960 : INFO : PROGRESS: pass 17, at document #2000/3204\n",
      "2021-02-19 20:17:46,721 : INFO : optimized alpha [0.011419563, 0.012310335, 0.014590544, 0.018163102, 0.012929026, 0.012424254, 0.013013491, 0.011706803, 0.012556494, 0.011739869, 0.01307772, 0.013100536, 0.017265528, 0.012651208, 0.0130536575, 0.013401764, 0.011961212, 0.014565072, 0.011836461, 0.01395577, 0.012616443, 0.011380236, 0.012384995, 0.015282086, 0.013616912, 0.054455366, 0.012245325, 0.011355478, 0.011854179, 0.014185494, 0.0139717, 0.0112984525, 0.012178124, 0.016291356, 0.0121439425, 0.011916033, 0.012990345, 0.013289103, 0.0135425, 0.01568099, 0.012296325, 0.013514053, 0.011234855, 0.014698811, 0.015249381, 0.011118331, 0.012706987, 0.013896974, 0.010988254, 0.010990795, 0.01586589, 0.013061724, 0.011567928, 0.012477233, 0.011115666, 0.012354195, 0.012472095, 0.014500451, 0.012996097, 0.013786773, 0.012655015, 0.013933255, 0.014048152, 0.011611739, 0.011540147, 0.011609926, 0.011460841, 0.011949333, 0.012209016, 0.012591818, 0.0124053275, 0.01177411, 0.017903646, 0.013049137, 0.013629272, 0.012239399, 0.013567345, 0.014575516, 0.0143760955, 0.014191454, 0.013485048, 0.011541675, 0.011843709, 0.015742738, 0.018461121, 0.011533591, 0.012174379, 0.012229654, 0.010180825, 0.010603435, 0.013583364, 0.014001084, 0.013841959, 0.012528652, 0.013431465, 0.018404469, 0.011249573, 0.01477803, 0.014954729, 0.012206105]\n",
      "2021-02-19 20:17:46,730 : INFO : merging changes from 2000 documents into a model of 3204 documents\n",
      "2021-02-19 20:17:46,740 : INFO : topic #88 (0.010): 0.113*\",\" + 0.055*\"comput\" + 0.036*\"monitor\" + 0.033*\"requir\" + 0.032*\"extend\" + 0.030*\"oper\" + 0.029*\"-\" + 0.027*\"time\" + 0.025*\"system\" + 0.023*\"singl\"\n",
      "2021-02-19 20:17:46,741 : INFO : topic #89 (0.011): 0.510*\"statement\" + 0.283*\"iter\" + 0.127*\"element\" + 0.011*\"structur\" + 0.007*\"made\" + 0.007*\"languag\" + 0.006*\"addit\" + 0.005*\"recent\" + 0.000*\")\" + 0.000*\"(\"\n",
      "2021-02-19 20:17:46,741 : INFO : topic #95 (0.018): 0.306*\"[\" + 0.230*\"algorithm\" + 0.217*\"(\" + 0.179*\"])\" + 0.028*\"d1\" + 0.015*\"quadratur\" + 0.011*\"f4\" + 0.004*\"gaussian\" + 0.001*\"exact\" + 0.000*\"linear\"\n",
      "2021-02-19 20:17:46,742 : INFO : topic #84 (0.018): 0.523*\"function\" + 0.235*\"distribut\" + 0.072*\"random\" + 0.055*\"gener\" + 0.033*\"satisfi\" + 0.023*\"g5\" + 0.019*\"number\" + 0.013*\"approxim\" + 0.008*\"similar\" + 0.002*\"ration\"\n",
      "2021-02-19 20:17:46,743 : INFO : topic #25 (0.054): 0.401*\"(\" + 0.380*\")\" + 0.184*\"algorithm\" + 0.016*\"integr\" + 0.007*\"exponenti\" + 0.004*\"romberg\" + 0.002*\"connect\" + 0.002*\"definit\" + 0.000*\"surfac\" + 0.000*\"fit\"\n",
      "2021-02-19 20:17:46,744 : INFO : topic diff=0.170958, rho=0.225865\n",
      "2021-02-19 20:17:47,681 : INFO : -6.434 per-word bound, 86.5 perplexity estimate based on a held-out corpus of 1204 documents with 49783 words\n",
      "2021-02-19 20:17:47,681 : INFO : PROGRESS: pass 17, at document #3204/3204\n",
      "2021-02-19 20:17:48,422 : INFO : optimized alpha [0.011500805, 0.012431957, 0.014735488, 0.018544117, 0.013083998, 0.012601218, 0.013190072, 0.0118113095, 0.01273838, 0.011897096, 0.013276303, 0.013225952, 0.017548976, 0.012839578, 0.013265945, 0.013572132, 0.012079519, 0.01475701, 0.011910341, 0.014233947, 0.012636066, 0.011466644, 0.012496114, 0.0155223645, 0.013775725, 0.056146257, 0.012356555, 0.011421307, 0.011903961, 0.014264235, 0.01413575, 0.011374062, 0.012331273, 0.01673284, 0.012278476, 0.01200597, 0.0131046325, 0.013430388, 0.013679783, 0.015836574, 0.012422549, 0.013657379, 0.011309369, 0.01500902, 0.015494265, 0.0111798495, 0.012838876, 0.013942249, 0.0110483365, 0.010988268, 0.016112937, 0.013164138, 0.011687493, 0.01258771, 0.011183573, 0.012492434, 0.012656304, 0.014649387, 0.013156512, 0.013910404, 0.012792361, 0.014180097, 0.01426478, 0.01164786, 0.011680428, 0.011676603, 0.011618969, 0.012049148, 0.012347018, 0.012715824, 0.012516016, 0.011887685, 0.01819394, 0.013197502, 0.013802958, 0.012286238, 0.0137474295, 0.014854589, 0.014598692, 0.014380333, 0.013667346, 0.011646166, 0.011966315, 0.016105646, 0.018811746, 0.0116588855, 0.012328304, 0.012331483, 0.010250365, 0.01061202, 0.0137482425, 0.014166148, 0.014096461, 0.012654896, 0.013570884, 0.018523999, 0.011295681, 0.014920235, 0.015089334, 0.012353517]\n",
      "2021-02-19 20:17:48,431 : INFO : merging changes from 1204 documents into a model of 3204 documents\n",
      "2021-02-19 20:17:48,441 : INFO : topic #88 (0.010): 0.117*\",\" + 0.053*\"comput\" + 0.035*\"requir\" + 0.033*\"monitor\" + 0.033*\"extend\" + 0.030*\"oper\" + 0.028*\"-\" + 0.028*\"time\" + 0.024*\"system\" + 0.023*\"singl\"\n",
      "2021-02-19 20:17:48,442 : INFO : topic #89 (0.011): 0.512*\"statement\" + 0.277*\"iter\" + 0.131*\"element\" + 0.012*\"structur\" + 0.006*\"addit\" + 0.006*\"made\" + 0.006*\"languag\" + 0.004*\"recent\" + 0.000*\")\" + 0.000*\"(\"\n",
      "2021-02-19 20:17:48,443 : INFO : topic #3 (0.019): 0.391*\"system\" + 0.116*\"-\" + 0.111*\"user\" + 0.077*\"share\" + 0.074*\"time\" + 0.036*\"termin\" + 0.017*\"effect\" + 0.014*\"comput\" + 0.013*\"gener\" + 0.012*\"perform\"\n",
      "2021-02-19 20:17:48,444 : INFO : topic #84 (0.019): 0.519*\"function\" + 0.254*\"distribut\" + 0.063*\"random\" + 0.053*\"gener\" + 0.035*\"satisfi\" + 0.021*\"g5\" + 0.018*\"number\" + 0.012*\"approxim\" + 0.008*\"similar\" + 0.002*\"ration\"\n",
      "2021-02-19 20:17:48,445 : INFO : topic #25 (0.056): 0.408*\"(\" + 0.383*\")\" + 0.176*\"algorithm\" + 0.014*\"integr\" + 0.007*\"exponenti\" + 0.004*\"romberg\" + 0.003*\"connect\" + 0.002*\"definit\" + 0.000*\"surfac\" + 0.000*\"fit\"\n",
      "2021-02-19 20:17:48,446 : INFO : topic diff=0.176247, rho=0.225865\n",
      "2021-02-19 20:17:48,457 : INFO : PROGRESS: pass 18, at document #2000/3204\n",
      "2021-02-19 20:17:49,182 : INFO : optimized alpha [0.011547392, 0.012470354, 0.014852566, 0.018737858, 0.013117226, 0.012580236, 0.013233904, 0.011798122, 0.012778088, 0.012014941, 0.0132756885, 0.013313723, 0.017770076, 0.0128681315, 0.013321536, 0.013591298, 0.012194069, 0.014849374, 0.011978738, 0.014229994, 0.012757218, 0.01150118, 0.01250258, 0.015604773, 0.013870773, 0.058240544, 0.012433006, 0.011488485, 0.011958102, 0.014418137, 0.014230117, 0.011415, 0.012328357, 0.016831622, 0.012282954, 0.012040472, 0.013141131, 0.013513326, 0.013762726, 0.015922105, 0.012411708, 0.013839507, 0.011343682, 0.015068759, 0.015513522, 0.011215085, 0.012861261, 0.014127341, 0.011072624, 0.011059785, 0.016194822, 0.013295621, 0.011716948, 0.012668208, 0.011208079, 0.012533258, 0.012709418, 0.014765173, 0.013159664, 0.014062619, 0.01283655, 0.014217645, 0.014461669, 0.0116548, 0.011669722, 0.011740006, 0.011591909, 0.012096555, 0.012352306, 0.012782882, 0.012572697, 0.011864721, 0.018285248, 0.013296393, 0.013868721, 0.01235423, 0.013790924, 0.014865972, 0.014602588, 0.014488229, 0.013716512, 0.011657269, 0.012010783, 0.016275255, 0.019018484, 0.011685754, 0.012342498, 0.012386116, 0.0102553675, 0.010667879, 0.013792407, 0.014285613, 0.014142116, 0.012667809, 0.013643673, 0.018889764, 0.011355731, 0.015063696, 0.015269348, 0.012357045]\n",
      "2021-02-19 20:17:49,191 : INFO : merging changes from 2000 documents into a model of 3204 documents\n"
     ]
    },
    {
     "name": "stderr",
     "output_type": "stream",
     "text": [
      "2021-02-19 20:17:49,201 : INFO : topic #88 (0.010): 0.115*\",\" + 0.055*\"comput\" + 0.036*\"monitor\" + 0.033*\"requir\" + 0.031*\"extend\" + 0.030*\"oper\" + 0.029*\"-\" + 0.027*\"time\" + 0.024*\"system\" + 0.023*\"singl\"\n",
      "2021-02-19 20:17:49,202 : INFO : topic #89 (0.011): 0.509*\"statement\" + 0.283*\"iter\" + 0.129*\"element\" + 0.011*\"structur\" + 0.007*\"made\" + 0.006*\"addit\" + 0.006*\"languag\" + 0.005*\"recent\" + 0.000*\")\" + 0.000*\"(\"\n",
      "2021-02-19 20:17:49,203 : INFO : topic #95 (0.019): 0.307*\"[\" + 0.230*\"algorithm\" + 0.217*\"(\" + 0.178*\"])\" + 0.028*\"d1\" + 0.015*\"quadratur\" + 0.011*\"f4\" + 0.004*\"gaussian\" + 0.001*\"exact\" + 0.000*\"linear\"\n",
      "2021-02-19 20:17:49,204 : INFO : topic #84 (0.019): 0.539*\"function\" + 0.237*\"distribut\" + 0.061*\"random\" + 0.051*\"gener\" + 0.033*\"satisfi\" + 0.023*\"g5\" + 0.017*\"number\" + 0.012*\"approxim\" + 0.008*\"similar\" + 0.002*\"ration\"\n",
      "2021-02-19 20:17:49,204 : INFO : topic #25 (0.058): 0.402*\"(\" + 0.381*\")\" + 0.184*\"algorithm\" + 0.014*\"integr\" + 0.007*\"exponenti\" + 0.004*\"romberg\" + 0.002*\"connect\" + 0.002*\"definit\" + 0.000*\"surfac\" + 0.000*\"fit\"\n",
      "2021-02-19 20:17:49,206 : INFO : topic diff=0.159465, rho=0.220316\n",
      "2021-02-19 20:17:50,107 : INFO : -6.429 per-word bound, 86.1 perplexity estimate based on a held-out corpus of 1204 documents with 49783 words\n",
      "2021-02-19 20:17:50,108 : INFO : PROGRESS: pass 18, at document #3204/3204\n",
      "2021-02-19 20:17:50,878 : INFO : optimized alpha [0.011631375, 0.012594518, 0.01499224, 0.019126171, 0.013269745, 0.012749908, 0.013408024, 0.01190955, 0.012981442, 0.012163776, 0.013483604, 0.013451673, 0.018050183, 0.013065876, 0.013541015, 0.013756545, 0.012317213, 0.015041322, 0.012051217, 0.014510205, 0.012776146, 0.011590289, 0.012611871, 0.015835907, 0.0140271, 0.059881337, 0.012549177, 0.011553073, 0.012000371, 0.014494839, 0.014396864, 0.011493441, 0.01248137, 0.01728442, 0.012419783, 0.012133263, 0.013253448, 0.013657199, 0.013895149, 0.016074963, 0.012533548, 0.013980452, 0.01142103, 0.015384562, 0.0157577, 0.0112796035, 0.0129885925, 0.014170961, 0.0111317, 0.011057426, 0.016438408, 0.013400922, 0.011838949, 0.012774463, 0.011276864, 0.012667012, 0.012895952, 0.014903287, 0.013315092, 0.014183992, 0.012969297, 0.014464246, 0.014692257, 0.011690508, 0.011809908, 0.011807563, 0.011749729, 0.012196796, 0.012497203, 0.012914108, 0.012683924, 0.01197857, 0.01857109, 0.013449766, 0.014042418, 0.012397843, 0.013975902, 0.015149988, 0.014824726, 0.01468492, 0.01389099, 0.011757845, 0.01213353, 0.016642647, 0.019365162, 0.011813356, 0.012494077, 0.012490735, 0.01032179, 0.010676428, 0.013959728, 0.014448093, 0.014396665, 0.012791961, 0.01378324, 0.019004796, 0.011403027, 0.015208705, 0.015403858, 0.012502088]\n",
      "2021-02-19 20:17:50,887 : INFO : merging changes from 1204 documents into a model of 3204 documents\n",
      "2021-02-19 20:17:50,898 : INFO : topic #88 (0.010): 0.119*\",\" + 0.053*\"comput\" + 0.036*\"requir\" + 0.033*\"monitor\" + 0.033*\"extend\" + 0.029*\"oper\" + 0.028*\"-\" + 0.028*\"time\" + 0.024*\"singl\" + 0.023*\"system\"\n",
      "2021-02-19 20:17:50,899 : INFO : topic #89 (0.011): 0.512*\"statement\" + 0.277*\"iter\" + 0.133*\"element\" + 0.012*\"structur\" + 0.006*\"addit\" + 0.006*\"made\" + 0.005*\"languag\" + 0.004*\"recent\" + 0.000*\")\" + 0.000*\"(\"\n",
      "2021-02-19 20:17:50,900 : INFO : topic #3 (0.019): 0.398*\"system\" + 0.116*\"-\" + 0.110*\"user\" + 0.077*\"share\" + 0.072*\"time\" + 0.036*\"termin\" + 0.017*\"effect\" + 0.015*\"comput\" + 0.012*\"gener\" + 0.012*\"level\"\n",
      "2021-02-19 20:17:50,900 : INFO : topic #84 (0.019): 0.532*\"function\" + 0.255*\"distribut\" + 0.054*\"random\" + 0.049*\"gener\" + 0.035*\"satisfi\" + 0.022*\"g5\" + 0.016*\"number\" + 0.011*\"approxim\" + 0.008*\"similar\" + 0.002*\"ration\"\n",
      "2021-02-19 20:17:50,901 : INFO : topic #25 (0.060): 0.408*\"(\" + 0.384*\")\" + 0.176*\"algorithm\" + 0.013*\"integr\" + 0.007*\"exponenti\" + 0.004*\"romberg\" + 0.003*\"connect\" + 0.002*\"definit\" + 0.000*\"surfac\" + 0.000*\"fit\"\n",
      "2021-02-19 20:17:50,902 : INFO : topic diff=0.164652, rho=0.220316\n",
      "2021-02-19 20:17:50,915 : INFO : PROGRESS: pass 19, at document #2000/3204\n",
      "2021-02-19 20:17:51,745 : INFO : optimized alpha [0.011678477, 0.012632141, 0.015110896, 0.019323694, 0.013303633, 0.012730316, 0.013449373, 0.011899243, 0.013020087, 0.012288302, 0.013485235, 0.0135396365, 0.018273147, 0.01309207, 0.013595318, 0.0137796, 0.01243177, 0.015133726, 0.012118603, 0.014503545, 0.012895639, 0.011623004, 0.012619583, 0.015921762, 0.014120686, 0.061980747, 0.012627223, 0.01161802, 0.01205638, 0.014646766, 0.0144896945, 0.011533735, 0.012478227, 0.017387718, 0.012423975, 0.012171151, 0.013289289, 0.013740301, 0.013978317, 0.016160827, 0.012522917, 0.0141624, 0.011454845, 0.015445694, 0.015777482, 0.011319223, 0.013009078, 0.014353919, 0.011160539, 0.01112313, 0.016516605, 0.013535222, 0.01187421, 0.012857833, 0.011301054, 0.012709782, 0.012954984, 0.015019002, 0.013319391, 0.014335948, 0.0130154425, 0.014495743, 0.014904163, 0.01169643, 0.011803009, 0.011869996, 0.011725358, 0.012243374, 0.012503538, 0.012981445, 0.012739687, 0.011958684, 0.018661968, 0.013548682, 0.014103842, 0.012463515, 0.0140167875, 0.015159967, 0.014829432, 0.014795897, 0.013937502, 0.011768737, 0.012181072, 0.016817313, 0.019570949, 0.011837093, 0.012509127, 0.012541765, 0.010332452, 0.010732643, 0.014008849, 0.014567448, 0.014444024, 0.012805948, 0.013857746, 0.019368371, 0.011462197, 0.015355128, 0.015590273, 0.012503981]\n",
      "2021-02-19 20:17:51,758 : INFO : merging changes from 2000 documents into a model of 3204 documents\n",
      "2021-02-19 20:17:51,770 : INFO : topic #88 (0.010): 0.117*\",\" + 0.056*\"comput\" + 0.036*\"monitor\" + 0.034*\"requir\" + 0.032*\"extend\" + 0.029*\"oper\" + 0.029*\"-\" + 0.028*\"time\" + 0.023*\"system\" + 0.023*\"singl\"\n",
      "2021-02-19 20:17:51,772 : INFO : topic #89 (0.011): 0.508*\"statement\" + 0.282*\"iter\" + 0.132*\"element\" + 0.011*\"structur\" + 0.007*\"made\" + 0.006*\"addit\" + 0.005*\"languag\" + 0.005*\"recent\" + 0.000*\")\" + 0.000*\"(\"\n",
      "2021-02-19 20:17:51,773 : INFO : topic #95 (0.019): 0.307*\"[\" + 0.230*\"algorithm\" + 0.217*\"(\" + 0.178*\"])\" + 0.028*\"d1\" + 0.015*\"quadratur\" + 0.011*\"f4\" + 0.004*\"gaussian\" + 0.000*\"exact\" + 0.000*\"linear\"\n",
      "2021-02-19 20:17:51,774 : INFO : topic #84 (0.020): 0.552*\"function\" + 0.239*\"distribut\" + 0.051*\"random\" + 0.048*\"gener\" + 0.034*\"satisfi\" + 0.023*\"g5\" + 0.015*\"number\" + 0.011*\"approxim\" + 0.009*\"similar\" + 0.002*\"ration\"\n",
      "2021-02-19 20:17:51,775 : INFO : topic #25 (0.062): 0.403*\"(\" + 0.382*\")\" + 0.183*\"algorithm\" + 0.013*\"integr\" + 0.007*\"exponenti\" + 0.004*\"romberg\" + 0.002*\"connect\" + 0.002*\"definit\" + 0.000*\"surfac\" + 0.000*\"fit\"\n",
      "2021-02-19 20:17:51,776 : INFO : topic diff=0.149835, rho=0.215156\n",
      "2021-02-19 20:17:52,827 : INFO : -6.424 per-word bound, 85.9 perplexity estimate based on a held-out corpus of 1204 documents with 49783 words\n",
      "2021-02-19 20:17:52,827 : INFO : PROGRESS: pass 19, at document #3204/3204\n",
      "2021-02-19 20:17:53,554 : INFO : optimized alpha [0.011754752, 0.012761182, 0.015242642, 0.019709354, 0.01345866, 0.012908959, 0.013623563, 0.012008838, 0.013219027, 0.01244206, 0.013690513, 0.013675517, 0.01855342, 0.013282679, 0.01381732, 0.013947375, 0.012555338, 0.0153283905, 0.012187586, 0.014780827, 0.012918504, 0.011708609, 0.012724808, 0.016141338, 0.01427714, 0.063606, 0.012743822, 0.011677287, 0.012097913, 0.01472158, 0.014651412, 0.01161504, 0.012626787, 0.017842704, 0.012558667, 0.012264589, 0.013394925, 0.013879501, 0.014111033, 0.01630811, 0.0126427645, 0.014298499, 0.011534962, 0.015753519, 0.016015625, 0.011384688, 0.013134379, 0.014395952, 0.011222723, 0.0111209415, 0.01675396, 0.013650512, 0.011996482, 0.012966837, 0.011366686, 0.012846083, 0.013134624, 0.01516011, 0.013474922, 0.014455205, 0.013146163, 0.014736967, 0.015143806, 0.011731783, 0.01194973, 0.011936321, 0.011878813, 0.012341968, 0.012644024, 0.0131129725, 0.012856014, 0.012070709, 0.01894012, 0.013699891, 0.014270005, 0.012504102, 0.014186593, 0.01544093, 0.015048671, 0.015000515, 0.014112049, 0.0118718725, 0.012308686, 0.017189406, 0.019927526, 0.011960639, 0.012660782, 0.012649233, 0.01039781, 0.010741127, 0.0141711775, 0.0147248665, 0.014698716, 0.012930474, 0.0140001215, 0.019479001, 0.011508632, 0.015497494, 0.015727984, 0.01264458]\n",
      "2021-02-19 20:17:53,566 : INFO : merging changes from 1204 documents into a model of 3204 documents\n"
     ]
    },
    {
     "name": "stderr",
     "output_type": "stream",
     "text": [
      "2021-02-19 20:17:53,578 : INFO : topic #88 (0.010): 0.120*\",\" + 0.054*\"comput\" + 0.036*\"requir\" + 0.033*\"extend\" + 0.033*\"monitor\" + 0.029*\"time\" + 0.028*\"-\" + 0.028*\"oper\" + 0.024*\"singl\" + 0.022*\"system\"\n",
      "2021-02-19 20:17:53,579 : INFO : topic #89 (0.011): 0.511*\"statement\" + 0.277*\"iter\" + 0.135*\"element\" + 0.012*\"structur\" + 0.006*\"addit\" + 0.006*\"made\" + 0.004*\"languag\" + 0.004*\"recent\" + 0.000*\")\" + 0.000*\"(\"\n",
      "2021-02-19 20:17:53,580 : INFO : topic #3 (0.020): 0.404*\"system\" + 0.117*\"-\" + 0.110*\"user\" + 0.077*\"share\" + 0.071*\"time\" + 0.036*\"termin\" + 0.017*\"effect\" + 0.015*\"comput\" + 0.012*\"gener\" + 0.012*\"level\"\n",
      "2021-02-19 20:17:53,581 : INFO : topic #84 (0.020): 0.545*\"function\" + 0.256*\"distribut\" + 0.046*\"gener\" + 0.046*\"random\" + 0.035*\"satisfi\" + 0.022*\"g5\" + 0.015*\"number\" + 0.010*\"approxim\" + 0.008*\"similar\" + 0.001*\"ration\"\n",
      "2021-02-19 20:17:53,582 : INFO : topic #25 (0.064): 0.409*\"(\" + 0.385*\")\" + 0.176*\"algorithm\" + 0.012*\"integr\" + 0.007*\"exponenti\" + 0.003*\"romberg\" + 0.003*\"connect\" + 0.002*\"definit\" + 0.000*\"surfac\" + 0.000*\"fit\"\n",
      "2021-02-19 20:17:53,583 : INFO : topic diff=0.154478, rho=0.215156\n"
     ]
    },
    {
     "data": {
      "text/plain": [
       "[(0, 0.0048574023),\n",
       " (1, 0.005273288),\n",
       " (2, 0.006298699),\n",
       " (3, 0.008144474),\n",
       " (4, 0.0055615064),\n",
       " (5, 0.005334354),\n",
       " (6, 0.005629649),\n",
       " (7, 0.004962398),\n",
       " (8, 0.005462483),\n",
       " (9, 0.005141418),\n",
       " (10, 0.0056573143),\n",
       " (11, 0.0056511182),\n",
       " (12, 0.0076668086),\n",
       " (13, 0.005488786),\n",
       " (14, 0.0057097147),\n",
       " (15, 0.0057634576),\n",
       " (16, 0.0051882276),\n",
       " (17, 0.006334133),\n",
       " (18, 0.005036262),\n",
       " (19, 0.006107864),\n",
       " (20, 0.005338298),\n",
       " (21, 0.004838335),\n",
       " (22, 0.0052582575),\n",
       " (23, 0.006670066),\n",
       " (24, 0.0058997255),\n",
       " (25, 0.026283834),\n",
       " (26, 0.0052661146),\n",
       " (27, 0.0048253913),\n",
       " (28, 0.0049992064),\n",
       " (29, 0.0060833814),\n",
       " (30, 0.006054386),\n",
       " (31, 0.004799669),\n",
       " (32, 0.0052177524),\n",
       " (33, 0.0073731197),\n",
       " (34, 0.005189603),\n",
       " (35, 0.0050680814),\n",
       " (36, 0.005535169),\n",
       " (37, 0.00573541),\n",
       " (38, 0.0058310856),\n",
       " (39, 0.006738981),\n",
       " (40, 0.0052243546),\n",
       " (41, 0.0059085516),\n",
       " (42, 0.004766579),\n",
       " (43, 0.006509808),\n",
       " (44, 0.006618118),\n",
       " (45, 0.0047044815),\n",
       " (46, 0.005427504),\n",
       " (47, 0.0059488225),\n",
       " (48, 0.0046375524),\n",
       " (49, 0.0045954934),\n",
       " (50, 0.006923219),\n",
       " (51, 0.005640785),\n",
       " (52, 0.004957292),\n",
       " (53, 0.005358271),\n",
       " (54, 0.004697042),\n",
       " (55, 0.005308372),\n",
       " (56, 0.005427605),\n",
       " (57, 0.0062645944),\n",
       " (58, 0.005568226),\n",
       " (59, 0.0059733074),\n",
       " (60, 0.0054323734),\n",
       " (61, 0.0060897395),\n",
       " (62, 0.006257857),\n",
       " (63, 0.0048479107),\n",
       " (64, 0.004937973),\n",
       " (65, 0.004932432),\n",
       " (66, 0.004908668),\n",
       " (67, 0.005100057),\n",
       " (68, 0.005224875),\n",
       " (69, 0.0054186583),\n",
       " (70, 0.005312476),\n",
       " (71, 0.004987965),\n",
       " (72, 0.007826603),\n",
       " (73, 0.00566119),\n",
       " (74, 0.0058967774),\n",
       " (75, 0.0051670554),\n",
       " (76, 0.005862309),\n",
       " (77, 0.006380637),\n",
       " (78, 0.0062185447),\n",
       " (79, 0.006198645),\n",
       " (80, 0.005831505),\n",
       " (81, 0.0049058),\n",
       " (82, 0.0050863037),\n",
       " (83, 0.007103158),\n",
       " (84, 0.0082346285),\n",
       " (85, 0.0049424805),\n",
       " (86, 0.0052318),\n",
       " (87, 0.005227028),\n",
       " (88, 0.004296675),\n",
       " (89, 0.004438543),\n",
       " (90, 0.005855939),\n",
       " (91, 0.006084739),\n",
       " (92, 0.006073933),\n",
       " (93, 0.005343245),\n",
       " (94, 0.005785254),\n",
       " (95, 0.008049285),\n",
       " (96, 0.0047556986),\n",
       " (97, 0.41963163),\n",
       " (98, 0.0064992565),\n",
       " (99, 0.0052251047)]"
      ]
     },
     "execution_count": 85,
     "metadata": {},
     "output_type": "execute_result"
    }
   ],
   "source": [
    "##### Function check\n",
    "lda = LdaRetrievalModel(doc_repr_2)\n",
    "lda.train_model()\n",
    "\n",
    "# you can now get an LDA vector for a given query in the following way:\n",
    "lda.vectorize_query(\"report\")\n",
    "##### "
   ]
  },
  {
   "cell_type": "markdown",
   "metadata": {
    "deletable": false,
    "editable": false,
    "nbgrader": {
     "cell_type": "markdown",
     "checksum": "32d83b6ea79ca3ddb789a7f8805a1b25",
     "grade": false,
     "grade_id": "cell-0e24b727d5908c0e",
     "locked": true,
     "points": 5,
     "schema_version": 3,
     "solution": false,
     "task": true
    }
   },
   "source": [
    "\\#### Please do not change this. This cell is used for grading."
   ]
  },
  {
   "cell_type": "markdown",
   "metadata": {
    "deletable": false,
    "editable": false,
    "nbgrader": {
     "cell_type": "markdown",
     "checksum": "114a934f0b9ce696e6cf09d3b8da6a3d",
     "grade": false,
     "grade_id": "cell-b1bffcb970b18aeb",
     "locked": true,
     "schema_version": 3,
     "solution": false,
     "task": false
    }
   },
   "source": [
    "---\n",
    "Now we can use the `DenseRetrievalModel` class to obtain an LDA search function.\n",
    "You can test your LDA model in the following cell: Try finding queries which are lexically different to documents, but semantically similar - does LDA work well for these queries?!"
   ]
  },
  {
   "cell_type": "code",
   "execution_count": 86,
   "metadata": {},
   "outputs": [
    {
     "data": {
      "application/vnd.jupyter.widget-view+json": {
       "model_id": "bfa9f75fedb04a208721672c0486f0fe",
       "version_major": 2,
       "version_minor": 0
      },
      "text/plain": [
       "Text(value='', description='Search Bar')"
      ]
     },
     "metadata": {},
     "output_type": "display_data"
    }
   ],
   "source": [
    "drm_lda = DenseRetrievalRanker(lda, jenson_shannon_sim)\n",
    "\n",
    "# test your LDA model\n",
    "search_fn = drm_lda.search\n",
    "\n",
    "text = widgets.Text(description=\"Search Bar\", width=200)\n",
    "display(text)\n",
    "\n",
    "\n",
    "text.on_submit(handle_submit_2)"
   ]
  },
  {
   "cell_type": "markdown",
   "metadata": {
    "deletable": false,
    "editable": false,
    "nbgrader": {
     "cell_type": "markdown",
     "checksum": "9d7f15863b655119b45f4d89354e5661",
     "grade": false,
     "grade_id": "cell-190cd0854b2791cc",
     "locked": true,
     "schema_version": 3,
     "solution": false,
     "task": false
    }
   },
   "source": [
    "## Section 8: Word2Vec/Doc2Vec (20 points) <a class=\"anchor\" id=\"2vec\"></a>\n",
    "\n",
    "[Back to Part 2](#part2)\n",
    "\n",
    "We will implement two other methods here, the Word2Vec model and the Doc2Vec model, also using `gensim`. Word2Vec creates representations of words, not documents, so the word level vectors need to be aggregated to obtain a representation for the document. Here, we will simply take the mean of the vectors. \n",
    "\n",
    "\n",
    "A drawback of these models is that they need a lot of training data. Our dataset is tiny, so in addition to using a model trained on the data, we will also use a pre-trained model for Word2Vec (this will be automatically downloaded).     \n",
    "\n",
    "*Note*:\n",
    "1. The code in vectorize_documents / vectorize_query should return gensim-like vectors i.e `[(dim, val), .. (dim, val)]`. \n",
    "2. For Word2Vec: You should also handle the following two cases: (a) A word in the query is not present in the vocabulary of the model and (b) none of the words in the query are present in the model - you can return 0 scores for all documents in this case. For either of these, you can check if a `word` is present in the vocab by using `word in self.model`\n"
   ]
  },
  {
   "cell_type": "code",
   "execution_count": 87,
   "metadata": {
    "deletable": false,
    "nbgrader": {
     "cell_type": "code",
     "checksum": "83ab733608ed14c29c09b36b4e1b6daa",
     "grade": false,
     "grade_id": "cell-2b73759f9baf688f",
     "locked": false,
     "schema_version": 3,
     "solution": true,
     "task": false
    }
   },
   "outputs": [
    {
     "name": "stderr",
     "output_type": "stream",
     "text": [
      "2021-02-19 20:17:55,563 : INFO : adding document #0 to Dictionary(0 unique tokens: [])\n",
      "2021-02-19 20:17:55,688 : INFO : built Dictionary(5937 unique tokens: ['-', 'algebra', 'intern', 'languag', 'preliminari']...) from 3204 documents (total 115970 corpus positions)\n",
      "2021-02-19 20:17:55,695 : INFO : discarding 4740 tokens: [('repeat', 8), ('glossari', 7), ('inspect', 8), ('uncol', 2), ('rung', 9), ('secant', 2), ('.', 1603), ('acceler', 6), ('diverg', 3), ('induc', 9)]...\n",
      "2021-02-19 20:17:55,696 : INFO : keeping 1197 tokens which were in no less than 10 and no more than 1602 (=50.0%) documents\n",
      "2021-02-19 20:17:55,699 : INFO : resulting dictionary: Dictionary(1197 unique tokens: ['-', 'algebra', 'intern', 'languag', 'preliminari']...)\n",
      "2021-02-19 20:17:55,775 : INFO : collecting all words and their counts\n",
      "2021-02-19 20:17:55,776 : INFO : PROGRESS: at sentence #0, processed 0 words, keeping 0 word types\n",
      "2021-02-19 20:17:55,794 : INFO : collected 5937 word types from a corpus of 115970 raw words and 3204 sentences\n",
      "2021-02-19 20:17:55,795 : INFO : Loading a fresh vocabulary\n",
      "2021-02-19 20:17:55,801 : INFO : effective_min_count=5 retains 2069 unique words (34% of original 5937, drops 3868)\n",
      "2021-02-19 20:17:55,803 : INFO : effective_min_count=5 leaves 109262 word corpus (94% of original 115970, drops 6708)\n",
      "2021-02-19 20:17:55,810 : INFO : deleting the raw counts dictionary of 5937 items\n",
      "2021-02-19 20:17:55,811 : INFO : sample=0.001 downsamples 44 most-common words\n",
      "2021-02-19 20:17:55,811 : INFO : downsampling leaves estimated 84994 word corpus (77.8% of prior 109262)\n",
      "2021-02-19 20:17:55,818 : INFO : estimated required memory for 2069 words and 100 dimensions: 2689700 bytes\n",
      "2021-02-19 20:17:55,819 : INFO : resetting layer weights\n",
      "2021-02-19 20:17:56,171 : INFO : training model with 3 workers on 2069 vocabulary and 100 features, using sg=0 hs=0 sample=0.001 negative=5 window=5\n",
      "2021-02-19 20:17:56,245 : INFO : worker thread finished; awaiting finish of 2 more threads\n",
      "2021-02-19 20:17:56,246 : INFO : worker thread finished; awaiting finish of 1 more threads\n",
      "2021-02-19 20:17:56,248 : INFO : worker thread finished; awaiting finish of 0 more threads\n",
      "2021-02-19 20:17:56,249 : INFO : EPOCH - 1 : training on 115970 raw words (84821 effective words) took 0.1s, 1152206 effective words/s\n",
      "2021-02-19 20:17:56,307 : INFO : worker thread finished; awaiting finish of 2 more threads\n",
      "2021-02-19 20:17:56,309 : INFO : worker thread finished; awaiting finish of 1 more threads\n",
      "2021-02-19 20:17:56,310 : INFO : worker thread finished; awaiting finish of 0 more threads\n",
      "2021-02-19 20:17:56,310 : INFO : EPOCH - 2 : training on 115970 raw words (85100 effective words) took 0.1s, 1473487 effective words/s\n",
      "2021-02-19 20:17:56,366 : INFO : worker thread finished; awaiting finish of 2 more threads\n",
      "2021-02-19 20:17:56,371 : INFO : worker thread finished; awaiting finish of 1 more threads\n",
      "2021-02-19 20:17:56,373 : INFO : worker thread finished; awaiting finish of 0 more threads\n",
      "2021-02-19 20:17:56,374 : INFO : EPOCH - 3 : training on 115970 raw words (84936 effective words) took 0.1s, 1490103 effective words/s\n",
      "2021-02-19 20:17:56,441 : INFO : worker thread finished; awaiting finish of 2 more threads\n",
      "2021-02-19 20:17:56,450 : INFO : worker thread finished; awaiting finish of 1 more threads\n",
      "2021-02-19 20:17:56,452 : INFO : worker thread finished; awaiting finish of 0 more threads\n",
      "2021-02-19 20:17:56,452 : INFO : EPOCH - 4 : training on 115970 raw words (84948 effective words) took 0.1s, 1140672 effective words/s\n",
      "2021-02-19 20:17:56,516 : INFO : worker thread finished; awaiting finish of 2 more threads\n",
      "2021-02-19 20:17:56,521 : INFO : worker thread finished; awaiting finish of 1 more threads\n",
      "2021-02-19 20:17:56,521 : INFO : worker thread finished; awaiting finish of 0 more threads\n",
      "2021-02-19 20:17:56,522 : INFO : EPOCH - 5 : training on 115970 raw words (84999 effective words) took 0.1s, 1352124 effective words/s\n",
      "2021-02-19 20:17:56,522 : INFO : training on a 579850 raw words (424804 effective words) took 0.4s, 1212268 effective words/s\n",
      "/home/matyi/university/venv/lib/python3.6/site-packages/ipykernel_launcher.py:41: DeprecationWarning: Call to deprecated `__contains__` (Method will be removed in 4.0.0, use self.wv.__contains__() instead).\n",
      "/home/matyi/university/venv/lib/python3.6/site-packages/ipykernel_launcher.py:42: DeprecationWarning: Call to deprecated `__getitem__` (Method will be removed in 4.0.0, use self.wv.__getitem__() instead).\n"
     ]
    },
    {
     "data": {
      "text/plain": [
       "[(1, 0.11654447764158249),\n",
       " (2, 0.18518491089344025),\n",
       " (3, -0.356779009103775),\n",
       " (4, -0.7614927291870117),\n",
       " (5, 0.23576518893241882),\n",
       " (6, 0.4037812054157257),\n",
       " (7, -0.6003475189208984),\n",
       " (8, -0.20523494482040405),\n",
       " (9, -0.06915607303380966),\n",
       " (10, -0.22388944029808044),\n",
       " (11, 0.12941592931747437),\n",
       " (12, 0.28074410557746887),\n",
       " (13, -0.16322307288646698),\n",
       " (14, -0.38742053508758545),\n",
       " (15, 0.13191945850849152),\n",
       " (16, 0.2204982191324234),\n",
       " (17, -0.2479347288608551),\n",
       " (18, -0.07820520550012589),\n",
       " (19, 0.5777581334114075),\n",
       " (20, 0.1031380444765091),\n",
       " (21, -0.044156547635793686),\n",
       " (22, -0.46761220693588257),\n",
       " (23, 0.2329345941543579),\n",
       " (24, 0.21743255853652954),\n",
       " (25, 0.5143215656280518),\n",
       " (26, 0.031729333102703094),\n",
       " (27, -0.24805839359760284),\n",
       " (28, -0.3111983835697174),\n",
       " (29, -0.08090857416391373),\n",
       " (30, -0.8020403385162354),\n",
       " (31, -0.3537065088748932),\n",
       " (32, 0.11868280917406082),\n",
       " (33, 0.4400906264781952),\n",
       " (34, 0.14389736950397491),\n",
       " (35, -0.14754346013069153),\n",
       " (36, 0.03339504078030586),\n",
       " (37, -0.15858963131904602),\n",
       " (38, 0.22540509700775146),\n",
       " (39, 0.1933358758687973),\n",
       " (40, 0.33502134680747986),\n",
       " (41, -0.05248841270804405),\n",
       " (42, 0.1487099528312683),\n",
       " (43, 0.5707311630249023),\n",
       " (44, 0.3091828525066376),\n",
       " (45, -0.5498825907707214),\n",
       " (46, -0.05923037603497505),\n",
       " (47, -0.008244628086686134),\n",
       " (48, -0.07130418717861176),\n",
       " (49, 0.2527545690536499),\n",
       " (50, -0.059820253401994705),\n",
       " (51, -0.07917056977748871),\n",
       " (52, 0.2733463943004608),\n",
       " (53, 0.2417740374803543),\n",
       " (54, 0.761590301990509),\n",
       " (55, -0.1828317940235138),\n",
       " (56, 0.10491913557052612),\n",
       " (57, 0.2679656744003296),\n",
       " (58, -0.0625777393579483),\n",
       " (59, -0.3796628713607788),\n",
       " (60, 0.5145819187164307),\n",
       " (61, -0.12802617251873016),\n",
       " (62, -0.07886747270822525),\n",
       " (63, 0.5472263693809509),\n",
       " (64, 0.06950493156909943),\n",
       " (65, 0.23490284383296967),\n",
       " (66, -0.09697263687849045),\n",
       " (67, 0.11712068319320679),\n",
       " (68, -0.4142623245716095),\n",
       " (69, 0.40087199211120605),\n",
       " (70, -0.311175674200058),\n",
       " (71, 0.18471527099609375),\n",
       " (72, 0.23353935778141022),\n",
       " (73, 0.117433100938797),\n",
       " (74, -0.3971160352230072),\n",
       " (75, 0.19074130058288574),\n",
       " (76, 0.1306091994047165),\n",
       " (77, 0.005594494752585888),\n",
       " (78, 0.007036780472844839),\n",
       " (79, 0.4245564639568329),\n",
       " (80, -0.03346269205212593),\n",
       " (81, -0.17973735928535461),\n",
       " (82, -0.23623540997505188),\n",
       " (83, 0.5480897426605225),\n",
       " (84, -0.3175053000450134),\n",
       " (85, 0.18729516863822937),\n",
       " (86, -0.14642943441867828),\n",
       " (87, 0.007256665267050266),\n",
       " (88, -0.06530458480119705),\n",
       " (89, -0.11404416710138321),\n",
       " (90, 0.10736250132322311),\n",
       " (91, -0.4824637770652771),\n",
       " (92, -0.25327610969543457),\n",
       " (93, 0.20937803387641907),\n",
       " (94, 0.32591691613197327),\n",
       " (95, -0.04947949945926666),\n",
       " (96, 0.0005557110416702926),\n",
       " (97, -0.39061954617500305),\n",
       " (98, -0.1991329938173294),\n",
       " (99, 0.18784181773662567),\n",
       " (100, 0.21450990438461304)]"
      ]
     },
     "execution_count": 87,
     "metadata": {},
     "output_type": "execute_result"
    }
   ],
   "source": [
    "class W2VRetrievalModel(VectorSpaceRetrievalModel):\n",
    "    def __init__(self, doc_repr):\n",
    "        super().__init__(doc_repr)\n",
    "        \n",
    "        # the dimensionality of the vectors\n",
    "        self.size = 100 \n",
    "        self.min_count = 1\n",
    "    \n",
    "    def train_model(self):\n",
    "        \"\"\"\n",
    "        Trains the W2V model\n",
    "        \"\"\"\n",
    "        # YOUR CODE HERE\n",
    "        self.model = Word2Vec(self.documents)\n",
    "        \n",
    "    def vectorize_documents(self):\n",
    "        \"\"\"\n",
    "            Returns a doc_id -> vector dictionary\n",
    "        \"\"\"\n",
    "        \n",
    "        # YOUR CODE HERE\n",
    "        doc_dict = {}\n",
    "        for doc_id, content in self.doc_repr:\n",
    "            doc_dict[doc_id] = np.zeros(self.size)\n",
    "            for token in content:\n",
    "                if token in self.model:\n",
    "                    doc_dict[doc_id] += self.model[token]\n",
    "            values = list(doc_dict[doc_id] / len(content))\n",
    "            doc_dict[doc_id] = [(dim+1, values[dim]) for dim in range(len(values))]\n",
    "\n",
    "        return doc_dict\n",
    "        \n",
    "    def vectorize_query(self, query):\n",
    "        \"\"\"\n",
    "        Vectorizes the query using the W2V model\n",
    "        \"\"\"\n",
    "        query = process_text(query, **config_2)\n",
    "        # YOUR CODE HERE\n",
    "        vector = np.zeros(self.size)\n",
    "        for token in query:\n",
    "            if token in self.model:\n",
    "                vector += self.model[token]\n",
    "        vector = vector / len(query)\n",
    "        return [(dim+1, vector[dim]) for dim in range(len(vector))]\n",
    "    \n",
    "    \n",
    "class W2VPretrainedRetrievalModel(W2VRetrievalModel):\n",
    "    def __init__(self, doc_repr):\n",
    "        super().__init__(doc_repr)\n",
    "        self.model_name = \"word2vec-google-news-300\"\n",
    "        self.size = 300\n",
    "    \n",
    "    def train_model(self):\n",
    "        \"\"\"\n",
    "        Loads the pretrained model\n",
    "        \"\"\"\n",
    "        self.model = g_downloader.load(self.model_name)\n",
    "\n",
    "w2v = W2VRetrievalModel(doc_repr_2)\n",
    "w2v.train_model()\n",
    "\n",
    "# you can now get a W2V vector for a given query in the following way:\n",
    "w2v.vectorize_query(\"report\")"
   ]
  },
  {
   "cell_type": "code",
   "execution_count": 88,
   "metadata": {
    "deletable": false,
    "editable": false,
    "nbgrader": {
     "cell_type": "code",
     "checksum": "f92b5c5a8c6c4b80652b94223209ab0b",
     "grade": true,
     "grade_id": "cell-b31c0f8d214b8bdf",
     "locked": true,
     "points": 0,
     "schema_version": 3,
     "solution": false,
     "task": false
    }
   },
   "outputs": [
    {
     "name": "stderr",
     "output_type": "stream",
     "text": [
      "/home/matyi/university/venv/lib/python3.6/site-packages/ipykernel_launcher.py:41: DeprecationWarning: Call to deprecated `__contains__` (Method will be removed in 4.0.0, use self.wv.__contains__() instead).\n",
      "/home/matyi/university/venv/lib/python3.6/site-packages/ipykernel_launcher.py:42: DeprecationWarning: Call to deprecated `__getitem__` (Method will be removed in 4.0.0, use self.wv.__getitem__() instead).\n"
     ]
    }
   ],
   "source": [
    "assert len(w2v.vectorize_query(\"report\")) == 100\n",
    "assert len(w2v.vectorize_query(\"this is a sentence that is not mellifluous\")) == 100\n"
   ]
  },
  {
   "cell_type": "markdown",
   "metadata": {
    "deletable": false,
    "editable": false,
    "nbgrader": {
     "cell_type": "markdown",
     "checksum": "8dfaabebcb06f308a7ca61fdc5d369e7",
     "grade": false,
     "grade_id": "cell-c2614fa067386384",
     "locked": true,
     "points": 8,
     "schema_version": 3,
     "solution": false,
     "task": true
    }
   },
   "source": [
    "\\#### Please do not change this. This cell is used for grading."
   ]
  },
  {
   "cell_type": "code",
   "execution_count": 89,
   "metadata": {},
   "outputs": [
    {
     "name": "stderr",
     "output_type": "stream",
     "text": [
      "2021-02-19 20:17:56,619 : INFO : adding document #0 to Dictionary(0 unique tokens: [])\n",
      "2021-02-19 20:17:56,745 : INFO : built Dictionary(5937 unique tokens: ['-', 'algebra', 'intern', 'languag', 'preliminari']...) from 3204 documents (total 115970 corpus positions)\n",
      "2021-02-19 20:17:56,751 : INFO : discarding 4740 tokens: [('repeat', 8), ('glossari', 7), ('inspect', 8), ('uncol', 2), ('rung', 9), ('secant', 2), ('.', 1603), ('acceler', 6), ('diverg', 3), ('induc', 9)]...\n",
      "2021-02-19 20:17:56,752 : INFO : keeping 1197 tokens which were in no less than 10 and no more than 1602 (=50.0%) documents\n",
      "2021-02-19 20:17:56,755 : INFO : resulting dictionary: Dictionary(1197 unique tokens: ['-', 'algebra', 'intern', 'languag', 'preliminari']...)\n",
      "2021-02-19 20:17:56,940 : INFO : loading projection weights from /home/matyi/gensim-data/word2vec-google-news-300/word2vec-google-news-300.gz\n",
      "2021-02-19 20:19:27,213 : INFO : loaded (3000000, 300) matrix from /home/matyi/gensim-data/word2vec-google-news-300/word2vec-google-news-300.gz\n"
     ]
    },
    {
     "data": {
      "text/plain": [
       "[(1, -0.142578125),\n",
       " (2, -0.1640625),\n",
       " (3, -0.09033203125),\n",
       " (4, -0.1123046875),\n",
       " (5, 0.10009765625),\n",
       " (6, -0.041259765625),\n",
       " (7, 0.048828125),\n",
       " (8, -0.13671875),\n",
       " (9, 0.1962890625),\n",
       " (10, -0.134765625),\n",
       " (11, -0.017578125),\n",
       " (12, 0.0322265625),\n",
       " (13, 0.09521484375),\n",
       " (14, -0.10595703125),\n",
       " (15, -0.169921875),\n",
       " (16, 0.041015625),\n",
       " (17, -0.263671875),\n",
       " (18, -0.006317138671875),\n",
       " (19, -0.177734375),\n",
       " (20, -0.240234375),\n",
       " (21, 0.3515625),\n",
       " (22, -0.01220703125),\n",
       " (23, -0.162109375),\n",
       " (24, -0.12060546875),\n",
       " (25, 0.043212890625),\n",
       " (26, 0.10986328125),\n",
       " (27, 0.052490234375),\n",
       " (28, 0.1787109375),\n",
       " (29, -0.1455078125),\n",
       " (30, 0.1376953125),\n",
       " (31, -0.08203125),\n",
       " (32, -0.283203125),\n",
       " (33, -0.10888671875),\n",
       " (34, -0.2890625),\n",
       " (35, 0.072265625),\n",
       " (36, -0.04736328125),\n",
       " (37, 0.040283203125),\n",
       " (38, 0.06787109375),\n",
       " (39, 0.11669921875),\n",
       " (40, 0.00083160400390625),\n",
       " (41, 0.068359375),\n",
       " (42, 0.1201171875),\n",
       " (43, -0.08837890625),\n",
       " (44, 0.337890625),\n",
       " (45, -0.044677734375),\n",
       " (46, -0.0301513671875),\n",
       " (47, 0.0076904296875),\n",
       " (48, -0.0211181640625),\n",
       " (49, -0.25390625),\n",
       " (50, 0.1494140625),\n",
       " (51, 0.3984375),\n",
       " (52, 0.0216064453125),\n",
       " (53, -0.023193359375),\n",
       " (54, 0.00634765625),\n",
       " (55, 0.00823974609375),\n",
       " (56, -0.1689453125),\n",
       " (57, 0.037353515625),\n",
       " (58, -0.0634765625),\n",
       " (59, 0.1171875),\n",
       " (60, -0.1484375),\n",
       " (61, -0.07861328125),\n",
       " (62, 0.369140625),\n",
       " (63, -0.224609375),\n",
       " (64, 0.173828125),\n",
       " (65, 0.01385498046875),\n",
       " (66, 0.1875),\n",
       " (67, -0.10107421875),\n",
       " (68, 0.037841796875),\n",
       " (69, 0.0021209716796875),\n",
       " (70, -0.05126953125),\n",
       " (71, 0.09619140625),\n",
       " (72, -0.05712890625),\n",
       " (73, 0.10595703125),\n",
       " (74, -0.02099609375),\n",
       " (75, 0.1611328125),\n",
       " (76, 0.09765625),\n",
       " (77, 0.038330078125),\n",
       " (78, 0.2197265625),\n",
       " (79, 0.1064453125),\n",
       " (80, 0.0859375),\n",
       " (81, 0.1796875),\n",
       " (82, -0.0830078125),\n",
       " (83, -0.033203125),\n",
       " (84, 0.041015625),\n",
       " (85, -0.06494140625),\n",
       " (86, 0.0198974609375),\n",
       " (87, 0.1337890625),\n",
       " (88, -0.09765625),\n",
       " (89, -0.193359375),\n",
       " (90, -0.2353515625),\n",
       " (91, 0.1904296875),\n",
       " (92, 0.0024871826171875),\n",
       " (93, -0.0157470703125),\n",
       " (94, 0.0322265625),\n",
       " (95, -0.2197265625),\n",
       " (96, -0.09130859375),\n",
       " (97, 0.021240234375),\n",
       " (98, 0.158203125),\n",
       " (99, 0.298828125),\n",
       " (100, -0.328125),\n",
       " (101, 0.057373046875),\n",
       " (102, -0.04638671875),\n",
       " (103, 0.11328125),\n",
       " (104, -0.1015625),\n",
       " (105, 0.1806640625),\n",
       " (106, -0.025146484375),\n",
       " (107, -0.166015625),\n",
       " (108, -0.09619140625),\n",
       " (109, 0.018798828125),\n",
       " (110, -0.1943359375),\n",
       " (111, 0.1494140625),\n",
       " (112, -0.056640625),\n",
       " (113, -0.10693359375),\n",
       " (114, -0.150390625),\n",
       " (115, -0.17578125),\n",
       " (116, 0.11279296875),\n",
       " (117, 0.04931640625),\n",
       " (118, 0.2197265625),\n",
       " (119, 0.318359375),\n",
       " (120, 0.1572265625),\n",
       " (121, -0.29296875),\n",
       " (122, 0.10498046875),\n",
       " (123, -0.296875),\n",
       " (124, -0.013427734375),\n",
       " (125, 0.0908203125),\n",
       " (126, 0.0125732421875),\n",
       " (127, -0.051513671875),\n",
       " (128, -0.12890625),\n",
       " (129, 0.01446533203125),\n",
       " (130, 0.12060546875),\n",
       " (131, -0.10107421875),\n",
       " (132, -0.111328125),\n",
       " (133, 0.06396484375),\n",
       " (134, -0.052978515625),\n",
       " (135, -0.043212890625),\n",
       " (136, -0.012939453125),\n",
       " (137, -0.027587890625),\n",
       " (138, -0.09716796875),\n",
       " (139, -0.2021484375),\n",
       " (140, 0.123046875),\n",
       " (141, -0.04248046875),\n",
       " (142, 0.173828125),\n",
       " (143, -0.013671875),\n",
       " (144, 0.1015625),\n",
       " (145, -0.00093841552734375),\n",
       " (146, -0.03564453125),\n",
       " (147, 0.30078125),\n",
       " (148, -0.068359375),\n",
       " (149, -0.05615234375),\n",
       " (150, 0.03759765625),\n",
       " (151, 0.06591796875),\n",
       " (152, 0.040283203125),\n",
       " (153, 0.01190185546875),\n",
       " (154, 0.09619140625),\n",
       " (155, 0.3671875),\n",
       " (156, -0.279296875),\n",
       " (157, -0.052001953125),\n",
       " (158, -0.10693359375),\n",
       " (159, -0.134765625),\n",
       " (160, -0.046142578125),\n",
       " (161, 0.25),\n",
       " (162, 0.00567626953125),\n",
       " (163, -0.014404296875),\n",
       " (164, -0.031005859375),\n",
       " (165, -0.060302734375),\n",
       " (166, 0.10595703125),\n",
       " (167, 0.37890625),\n",
       " (168, 0.058837890625),\n",
       " (169, 0.123046875),\n",
       " (170, -0.115234375),\n",
       " (171, 0.1494140625),\n",
       " (172, -0.1640625),\n",
       " (173, -0.2333984375),\n",
       " (174, -0.07763671875),\n",
       " (175, 0.0267333984375),\n",
       " (176, -0.0211181640625),\n",
       " (177, 0.1943359375),\n",
       " (178, -0.05615234375),\n",
       " (179, -0.006439208984375),\n",
       " (180, -0.169921875),\n",
       " (181, -0.11865234375),\n",
       " (182, -0.0673828125),\n",
       " (183, -0.06884765625),\n",
       " (184, -0.0869140625),\n",
       " (185, -0.1015625),\n",
       " (186, 0.01416015625),\n",
       " (187, -0.201171875),\n",
       " (188, 0.09814453125),\n",
       " (189, -0.01025390625),\n",
       " (190, 0.1875),\n",
       " (191, 0.1962890625),\n",
       " (192, -0.220703125),\n",
       " (193, -0.1962890625),\n",
       " (194, -0.07373046875),\n",
       " (195, 0.06640625),\n",
       " (196, -0.1337890625),\n",
       " (197, 0.18359375),\n",
       " (198, -0.2001953125),\n",
       " (199, 0.1982421875),\n",
       " (200, 0.05029296875),\n",
       " (201, 0.0299072265625),\n",
       " (202, 0.0177001953125),\n",
       " (203, -0.193359375),\n",
       " (204, -0.09619140625),\n",
       " (205, -0.1025390625),\n",
       " (206, 0.212890625),\n",
       " (207, -0.0299072265625),\n",
       " (208, 0.1435546875),\n",
       " (209, 0.041015625),\n",
       " (210, -0.2119140625),\n",
       " (211, 0.2080078125),\n",
       " (212, 0.1376953125),\n",
       " (213, -0.0196533203125),\n",
       " (214, 0.01495361328125),\n",
       " (215, -0.09765625),\n",
       " (216, 0.2431640625),\n",
       " (217, 0.080078125),\n",
       " (218, 0.08251953125),\n",
       " (219, 0.0986328125),\n",
       " (220, 0.056884765625),\n",
       " (221, 0.04248046875),\n",
       " (222, 0.06884765625),\n",
       " (223, -0.035400390625),\n",
       " (224, -0.076171875),\n",
       " (225, -0.00016117095947265625),\n",
       " (226, -0.0751953125),\n",
       " (227, 0.224609375),\n",
       " (228, 0.1513671875),\n",
       " (229, 0.1005859375),\n",
       " (230, 0.10986328125),\n",
       " (231, 0.0238037109375),\n",
       " (232, 0.08837890625),\n",
       " (233, 0.061767578125),\n",
       " (234, -0.10791015625),\n",
       " (235, 0.062255859375),\n",
       " (236, 0.0034332275390625),\n",
       " (237, 0.08056640625),\n",
       " (238, 0.10693359375),\n",
       " (239, 0.0888671875),\n",
       " (240, -0.2373046875),\n",
       " (241, 0.06494140625),\n",
       " (242, 0.01019287109375),\n",
       " (243, -0.08837890625),\n",
       " (244, -0.33203125),\n",
       " (245, 0.004669189453125),\n",
       " (246, 0.212890625),\n",
       " (247, 0.0859375),\n",
       " (248, 0.0203857421875),\n",
       " (249, 0.045654296875),\n",
       " (250, 0.1484375),\n",
       " (251, 0.1181640625),\n",
       " (252, 0.0556640625),\n",
       " (253, -0.1728515625),\n",
       " (254, -0.125),\n",
       " (255, -0.025390625),\n",
       " (256, -0.318359375),\n",
       " (257, 0.0311279296875),\n",
       " (258, 0.0859375),\n",
       " (259, -0.0419921875),\n",
       " (260, 0.15625),\n",
       " (261, 0.1611328125),\n",
       " (262, 0.1982421875),\n",
       " (263, -0.10009765625),\n",
       " (264, 0.203125),\n",
       " (265, 0.12890625),\n",
       " (266, 0.2333984375),\n",
       " (267, -0.267578125),\n",
       " (268, 0.05517578125),\n",
       " (269, 0.048828125),\n",
       " (270, 0.072265625),\n",
       " (271, 0.244140625),\n",
       " (272, 0.244140625),\n",
       " (273, 0.056884765625),\n",
       " (274, -0.0546875),\n",
       " (275, -0.03369140625),\n",
       " (276, -0.12060546875),\n",
       " (277, 0.034912109375),\n",
       " (278, -0.1455078125),\n",
       " (279, 0.08740234375),\n",
       " (280, -0.0830078125),\n",
       " (281, 0.0172119140625),\n",
       " (282, 0.1435546875),\n",
       " (283, -0.12255859375),\n",
       " (284, 0.1796875),\n",
       " (285, 0.130859375),\n",
       " (286, -0.1650390625),\n",
       " (287, 0.01275634765625),\n",
       " (288, 0.16015625),\n",
       " (289, -0.0311279296875),\n",
       " (290, 0.08203125),\n",
       " (291, 0.173828125),\n",
       " (292, -0.16796875),\n",
       " (293, 0.130859375),\n",
       " (294, 0.08544921875),\n",
       " (295, -0.2109375),\n",
       " (296, -0.130859375),\n",
       " (297, -0.0289306640625),\n",
       " (298, -0.10546875),\n",
       " (299, 0.08447265625),\n",
       " (300, -0.1416015625)]"
      ]
     },
     "execution_count": 89,
     "metadata": {},
     "output_type": "execute_result"
    }
   ],
   "source": [
    "w2v_pretrained = W2VPretrainedRetrievalModel(doc_repr_2)\n",
    "w2v_pretrained.train_model()\n",
    "\n",
    "# you can now get an W2V vector for a given query in the following way:\n",
    "w2v_pretrained.vectorize_query(\"report\")"
   ]
  },
  {
   "cell_type": "code",
   "execution_count": 90,
   "metadata": {
    "deletable": false,
    "editable": false,
    "nbgrader": {
     "cell_type": "code",
     "checksum": "0822845afb5eafe5ddb1ffeaa4f4942a",
     "grade": true,
     "grade_id": "cell-1b1466f8ce516f42",
     "locked": true,
     "points": 2,
     "schema_version": 3,
     "solution": false,
     "task": false
    }
   },
   "outputs": [
    {
     "name": "stdout",
     "output_type": "stream",
     "text": [
      "300\n"
     ]
    }
   ],
   "source": [
    "##### Function check\n",
    "\n",
    "print(len(w2v_pretrained.vectorize_query(\"report\")))\n",
    "#####"
   ]
  },
  {
   "cell_type": "code",
   "execution_count": 91,
   "metadata": {},
   "outputs": [
    {
     "name": "stderr",
     "output_type": "stream",
     "text": [
      "/home/matyi/university/venv/lib/python3.6/site-packages/ipykernel_launcher.py:26: DeprecationWarning: Call to deprecated `__contains__` (Method will be removed in 4.0.0, use self.wv.__contains__() instead).\n",
      "/home/matyi/university/venv/lib/python3.6/site-packages/ipykernel_launcher.py:27: DeprecationWarning: Call to deprecated `__getitem__` (Method will be removed in 4.0.0, use self.wv.__getitem__() instead).\n"
     ]
    },
    {
     "data": {
      "application/vnd.jupyter.widget-view+json": {
       "model_id": "23a3c4f8aa7c406cac641adfe658945d",
       "version_major": 2,
       "version_minor": 0
      },
      "text/plain": [
       "Text(value='', description='Search Bar')"
      ]
     },
     "metadata": {},
     "output_type": "display_data"
    }
   ],
   "source": [
    "drm_w2v = DenseRetrievalRanker(w2v, cosine_sim)\n",
    "\n",
    "# test your LDA model\n",
    "search_fn = drm_w2v.search\n",
    "\n",
    "text = widgets.Text(description=\"Search Bar\", width=200)\n",
    "display(text)\n",
    "\n",
    "\n",
    "text.on_submit(handle_submit_2)"
   ]
  },
  {
   "cell_type": "code",
   "execution_count": 92,
   "metadata": {},
   "outputs": [
    {
     "data": {
      "application/vnd.jupyter.widget-view+json": {
       "model_id": "160f89c31ddc44f49f2ef55d51f11ad6",
       "version_major": 2,
       "version_minor": 0
      },
      "text/plain": [
       "Text(value='', description='Search Bar')"
      ]
     },
     "metadata": {},
     "output_type": "display_data"
    }
   ],
   "source": [
    "drm_w2v_pretrained = DenseRetrievalRanker(w2v_pretrained, cosine_sim)\n",
    "\n",
    "# test your LDA model\n",
    "search_fn = drm_w2v_pretrained.search\n",
    "\n",
    "text = widgets.Text(description=\"Search Bar\", width=200)\n",
    "display(text)\n",
    "\n",
    "\n",
    "text.on_submit(handle_submit_2)"
   ]
  },
  {
   "cell_type": "markdown",
   "metadata": {
    "deletable": false,
    "editable": false,
    "nbgrader": {
     "cell_type": "markdown",
     "checksum": "51b778984fd60757974f51047c61eb15",
     "grade": false,
     "grade_id": "cell-b92f701cbc706108",
     "locked": true,
     "schema_version": 3,
     "solution": false,
     "task": false
    }
   },
   "source": [
    "**Implementation (10 points):**\n",
    "For Doc2Vec, you will need to create a list of `TaggedDocument` instead of using the `self.corpus` or `self.documents` variable. Use the document id as the 'tag'.\n",
    "  "
   ]
  },
  {
   "cell_type": "code",
   "execution_count": 93,
   "metadata": {
    "deletable": false,
    "nbgrader": {
     "cell_type": "code",
     "checksum": "1f60fdeb97febb7f4a6fd5bf109aac20",
     "grade": false,
     "grade_id": "cell-680facdcc98a19ab",
     "locked": false,
     "schema_version": 3,
     "solution": true,
     "task": false
    }
   },
   "outputs": [
    {
     "name": "stderr",
     "output_type": "stream",
     "text": [
      "2021-02-19 20:19:32,779 : INFO : adding document #0 to Dictionary(0 unique tokens: [])\n",
      "2021-02-19 20:19:32,881 : INFO : built Dictionary(5937 unique tokens: ['-', 'algebra', 'intern', 'languag', 'preliminari']...) from 3204 documents (total 115970 corpus positions)\n",
      "2021-02-19 20:19:32,887 : INFO : discarding 4740 tokens: [('repeat', 8), ('glossari', 7), ('inspect', 8), ('uncol', 2), ('rung', 9), ('secant', 2), ('.', 1603), ('acceler', 6), ('diverg', 3), ('induc', 9)]...\n",
      "2021-02-19 20:19:32,887 : INFO : keeping 1197 tokens which were in no less than 10 and no more than 1602 (=50.0%) documents\n",
      "2021-02-19 20:19:32,890 : INFO : resulting dictionary: Dictionary(1197 unique tokens: ['-', 'algebra', 'intern', 'languag', 'preliminari']...)\n",
      "2021-02-19 20:19:33,297 : INFO : collecting all words and their counts\n",
      "2021-02-19 20:19:33,299 : INFO : PROGRESS: at example #0, processed 0 words (0/s), 0 word types, 0 tags\n",
      "2021-02-19 20:19:33,347 : INFO : collected 5937 word types and 3205 unique tags from a corpus of 3204 examples and 115970 words\n",
      "2021-02-19 20:19:33,347 : INFO : Loading a fresh vocabulary\n",
      "2021-02-19 20:19:33,357 : INFO : effective_min_count=1 retains 5937 unique words (100% of original 5937, drops 0)\n",
      "2021-02-19 20:19:33,357 : INFO : effective_min_count=1 leaves 115970 word corpus (100% of original 115970, drops 0)\n",
      "2021-02-19 20:19:33,391 : INFO : deleting the raw counts dictionary of 5937 items\n",
      "2021-02-19 20:19:33,392 : INFO : sample=0.001 downsamples 40 most-common words\n",
      "2021-02-19 20:19:33,392 : INFO : downsampling leaves estimated 92346 word corpus (79.6% of prior 115970)\n",
      "2021-02-19 20:19:33,447 : INFO : estimated required memory for 5937 words and 100 dimensions: 9000100 bytes\n",
      "2021-02-19 20:19:33,448 : INFO : resetting layer weights\n",
      "2021-02-19 20:19:35,027 : INFO : training model with 3 workers on 5937 vocabulary and 100 features, using sg=0 hs=0 sample=0.001 negative=5 window=5\n",
      "2021-02-19 20:19:37,198 : INFO : EPOCH 1 - PROGRESS: at 7.93% examples, 7175 words/s, in_qsize 5, out_qsize 0\n",
      "2021-02-19 20:19:37,343 : INFO : worker thread finished; awaiting finish of 2 more threads\n",
      "2021-02-19 20:19:37,350 : INFO : worker thread finished; awaiting finish of 1 more threads\n",
      "2021-02-19 20:19:37,356 : INFO : worker thread finished; awaiting finish of 0 more threads\n",
      "2021-02-19 20:19:37,357 : INFO : EPOCH - 1 : training on 115970 raw words (95504 effective words) took 1.3s, 73460 effective words/s\n",
      "2021-02-19 20:19:37,559 : INFO : worker thread finished; awaiting finish of 2 more threads\n",
      "2021-02-19 20:19:37,565 : INFO : worker thread finished; awaiting finish of 1 more threads\n",
      "2021-02-19 20:19:37,572 : INFO : worker thread finished; awaiting finish of 0 more threads\n",
      "2021-02-19 20:19:37,572 : INFO : EPOCH - 2 : training on 115970 raw words (95438 effective words) took 0.2s, 449937 effective words/s\n",
      "2021-02-19 20:19:37,748 : INFO : worker thread finished; awaiting finish of 2 more threads\n",
      "2021-02-19 20:19:37,762 : INFO : worker thread finished; awaiting finish of 1 more threads\n",
      "2021-02-19 20:19:37,766 : INFO : worker thread finished; awaiting finish of 0 more threads\n",
      "2021-02-19 20:19:37,767 : INFO : EPOCH - 3 : training on 115970 raw words (95430 effective words) took 0.2s, 501893 effective words/s\n",
      "2021-02-19 20:19:37,940 : INFO : worker thread finished; awaiting finish of 2 more threads\n",
      "2021-02-19 20:19:37,953 : INFO : worker thread finished; awaiting finish of 1 more threads\n",
      "2021-02-19 20:19:37,953 : INFO : worker thread finished; awaiting finish of 0 more threads\n",
      "2021-02-19 20:19:37,954 : INFO : EPOCH - 4 : training on 115970 raw words (95609 effective words) took 0.2s, 520868 effective words/s\n",
      "2021-02-19 20:19:38,139 : INFO : worker thread finished; awaiting finish of 2 more threads\n",
      "2021-02-19 20:19:38,142 : INFO : worker thread finished; awaiting finish of 1 more threads\n",
      "2021-02-19 20:19:38,152 : INFO : worker thread finished; awaiting finish of 0 more threads\n",
      "2021-02-19 20:19:38,152 : INFO : EPOCH - 5 : training on 115970 raw words (95440 effective words) took 0.2s, 489701 effective words/s\n",
      "2021-02-19 20:19:38,343 : INFO : worker thread finished; awaiting finish of 2 more threads\n",
      "2021-02-19 20:19:38,350 : INFO : worker thread finished; awaiting finish of 1 more threads\n",
      "2021-02-19 20:19:38,355 : INFO : worker thread finished; awaiting finish of 0 more threads\n",
      "2021-02-19 20:19:38,355 : INFO : EPOCH - 6 : training on 115970 raw words (95564 effective words) took 0.2s, 480328 effective words/s\n",
      "2021-02-19 20:19:38,530 : INFO : worker thread finished; awaiting finish of 2 more threads\n",
      "2021-02-19 20:19:38,539 : INFO : worker thread finished; awaiting finish of 1 more threads\n",
      "2021-02-19 20:19:38,545 : INFO : worker thread finished; awaiting finish of 0 more threads\n",
      "2021-02-19 20:19:38,545 : INFO : EPOCH - 7 : training on 115970 raw words (95465 effective words) took 0.2s, 512692 effective words/s\n",
      "2021-02-19 20:19:38,732 : INFO : worker thread finished; awaiting finish of 2 more threads\n",
      "2021-02-19 20:19:38,737 : INFO : worker thread finished; awaiting finish of 1 more threads\n",
      "2021-02-19 20:19:38,743 : INFO : worker thread finished; awaiting finish of 0 more threads\n",
      "2021-02-19 20:19:38,744 : INFO : EPOCH - 8 : training on 115970 raw words (95551 effective words) took 0.2s, 488727 effective words/s\n",
      "2021-02-19 20:19:38,936 : INFO : worker thread finished; awaiting finish of 2 more threads\n",
      "2021-02-19 20:19:38,937 : INFO : worker thread finished; awaiting finish of 1 more threads\n",
      "2021-02-19 20:19:38,947 : INFO : worker thread finished; awaiting finish of 0 more threads\n",
      "2021-02-19 20:19:38,948 : INFO : EPOCH - 9 : training on 115970 raw words (95529 effective words) took 0.2s, 476936 effective words/s\n",
      "2021-02-19 20:19:39,153 : INFO : worker thread finished; awaiting finish of 2 more threads\n",
      "2021-02-19 20:19:39,156 : INFO : worker thread finished; awaiting finish of 1 more threads\n",
      "2021-02-19 20:19:39,165 : INFO : worker thread finished; awaiting finish of 0 more threads\n",
      "2021-02-19 20:19:39,165 : INFO : EPOCH - 10 : training on 115970 raw words (95541 effective words) took 0.2s, 446593 effective words/s\n",
      "2021-02-19 20:19:39,362 : INFO : worker thread finished; awaiting finish of 2 more threads\n",
      "2021-02-19 20:19:39,371 : INFO : worker thread finished; awaiting finish of 1 more threads\n",
      "2021-02-19 20:19:39,375 : INFO : worker thread finished; awaiting finish of 0 more threads\n",
      "2021-02-19 20:19:39,375 : INFO : EPOCH - 11 : training on 115970 raw words (95611 effective words) took 0.2s, 464791 effective words/s\n",
      "2021-02-19 20:19:39,570 : INFO : worker thread finished; awaiting finish of 2 more threads\n",
      "2021-02-19 20:19:39,579 : INFO : worker thread finished; awaiting finish of 1 more threads\n",
      "2021-02-19 20:19:39,583 : INFO : worker thread finished; awaiting finish of 0 more threads\n",
      "2021-02-19 20:19:39,583 : INFO : EPOCH - 12 : training on 115970 raw words (95467 effective words) took 0.2s, 466561 effective words/s\n",
      "2021-02-19 20:19:39,790 : INFO : worker thread finished; awaiting finish of 2 more threads\n",
      "2021-02-19 20:19:39,801 : INFO : worker thread finished; awaiting finish of 1 more threads\n",
      "2021-02-19 20:19:39,806 : INFO : worker thread finished; awaiting finish of 0 more threads\n",
      "2021-02-19 20:19:39,807 : INFO : EPOCH - 13 : training on 115970 raw words (95545 effective words) took 0.2s, 434409 effective words/s\n",
      "2021-02-19 20:19:40,018 : INFO : worker thread finished; awaiting finish of 2 more threads\n",
      "2021-02-19 20:19:40,037 : INFO : worker thread finished; awaiting finish of 1 more threads\n",
      "2021-02-19 20:19:40,040 : INFO : worker thread finished; awaiting finish of 0 more threads\n",
      "2021-02-19 20:19:40,041 : INFO : EPOCH - 14 : training on 115970 raw words (95557 effective words) took 0.2s, 414294 effective words/s\n",
      "2021-02-19 20:19:40,255 : INFO : worker thread finished; awaiting finish of 2 more threads\n",
      "2021-02-19 20:19:40,264 : INFO : worker thread finished; awaiting finish of 1 more threads\n",
      "2021-02-19 20:19:40,271 : INFO : worker thread finished; awaiting finish of 0 more threads\n",
      "2021-02-19 20:19:40,271 : INFO : EPOCH - 15 : training on 115970 raw words (95407 effective words) took 0.2s, 422348 effective words/s\n",
      "2021-02-19 20:19:40,491 : INFO : worker thread finished; awaiting finish of 2 more threads\n"
     ]
    },
    {
     "name": "stderr",
     "output_type": "stream",
     "text": [
      "2021-02-19 20:19:40,497 : INFO : worker thread finished; awaiting finish of 1 more threads\n",
      "2021-02-19 20:19:40,501 : INFO : worker thread finished; awaiting finish of 0 more threads\n",
      "2021-02-19 20:19:40,502 : INFO : EPOCH - 16 : training on 115970 raw words (95525 effective words) took 0.2s, 419440 effective words/s\n",
      "2021-02-19 20:19:40,731 : INFO : worker thread finished; awaiting finish of 2 more threads\n",
      "2021-02-19 20:19:40,741 : INFO : worker thread finished; awaiting finish of 1 more threads\n",
      "2021-02-19 20:19:40,748 : INFO : worker thread finished; awaiting finish of 0 more threads\n",
      "2021-02-19 20:19:40,748 : INFO : EPOCH - 17 : training on 115970 raw words (95487 effective words) took 0.2s, 396490 effective words/s\n",
      "2021-02-19 20:19:40,976 : INFO : worker thread finished; awaiting finish of 2 more threads\n",
      "2021-02-19 20:19:40,990 : INFO : worker thread finished; awaiting finish of 1 more threads\n",
      "2021-02-19 20:19:40,990 : INFO : worker thread finished; awaiting finish of 0 more threads\n",
      "2021-02-19 20:19:40,991 : INFO : EPOCH - 18 : training on 115970 raw words (95609 effective words) took 0.2s, 400986 effective words/s\n",
      "2021-02-19 20:19:41,175 : INFO : worker thread finished; awaiting finish of 2 more threads\n",
      "2021-02-19 20:19:41,182 : INFO : worker thread finished; awaiting finish of 1 more threads\n",
      "2021-02-19 20:19:41,190 : INFO : worker thread finished; awaiting finish of 0 more threads\n",
      "2021-02-19 20:19:41,191 : INFO : EPOCH - 19 : training on 115970 raw words (95512 effective words) took 0.2s, 486183 effective words/s\n",
      "2021-02-19 20:19:41,366 : INFO : worker thread finished; awaiting finish of 2 more threads\n",
      "2021-02-19 20:19:41,375 : INFO : worker thread finished; awaiting finish of 1 more threads\n",
      "2021-02-19 20:19:41,380 : INFO : worker thread finished; awaiting finish of 0 more threads\n",
      "2021-02-19 20:19:41,381 : INFO : EPOCH - 20 : training on 115970 raw words (95618 effective words) took 0.2s, 510394 effective words/s\n",
      "2021-02-19 20:19:41,381 : INFO : training on a 2319400 raw words (1910409 effective words) took 6.4s, 300655 effective words/s\n"
     ]
    },
    {
     "data": {
      "text/plain": [
       "[(1, 0.06376954),\n",
       " (2, 0.08280469),\n",
       " (3, -0.005791311),\n",
       " (4, -0.046803232),\n",
       " (5, 0.047576413),\n",
       " (6, 0.07302254),\n",
       " (7, -0.15548149),\n",
       " (8, -0.019507535),\n",
       " (9, 0.051079724),\n",
       " (10, -0.015396497),\n",
       " (11, 0.0031121639),\n",
       " (12, 0.00031078557),\n",
       " (13, 0.011346255),\n",
       " (14, -0.06030824),\n",
       " (15, 0.0041621933),\n",
       " (16, 0.08404316),\n",
       " (17, -0.07252788),\n",
       " (18, -0.025616525),\n",
       " (19, 0.1580388),\n",
       " (20, 0.00985351),\n",
       " (21, -0.021036427),\n",
       " (22, -0.09700106),\n",
       " (23, 0.033572502),\n",
       " (24, 0.016272549),\n",
       " (25, 0.047475167),\n",
       " (26, -0.07473148),\n",
       " (27, 0.0015831084),\n",
       " (28, -0.03172413),\n",
       " (29, -0.011039639),\n",
       " (30, -0.13276222),\n",
       " (31, -0.047752876),\n",
       " (32, -0.023536883),\n",
       " (33, 0.0674463),\n",
       " (34, -0.05201134),\n",
       " (35, 0.014267993),\n",
       " (36, 0.071019135),\n",
       " (37, -0.06128509),\n",
       " (38, 0.0955582),\n",
       " (39, 0.006732571),\n",
       " (40, -0.001274467),\n",
       " (41, -0.012806071),\n",
       " (42, 0.04869396),\n",
       " (43, 0.08394662),\n",
       " (44, 0.07076261),\n",
       " (45, -0.06837499),\n",
       " (46, -0.020479456),\n",
       " (47, 0.024846874),\n",
       " (48, 0.0005437967),\n",
       " (49, 0.02348877),\n",
       " (50, -0.0025813065),\n",
       " (51, 0.046332594),\n",
       " (52, 0.041948225),\n",
       " (53, 0.04981267),\n",
       " (54, 0.10950286),\n",
       " (55, -0.008771986),\n",
       " (56, -0.021704674),\n",
       " (57, 0.051772818),\n",
       " (58, 0.007834008),\n",
       " (59, -0.049865857),\n",
       " (60, 0.07829065),\n",
       " (61, -0.04078552),\n",
       " (62, -0.034935705),\n",
       " (63, 0.056325242),\n",
       " (64, 0.007360441),\n",
       " (65, 0.058014434),\n",
       " (66, -0.05131573),\n",
       " (67, 0.031114034),\n",
       " (68, -0.019783406),\n",
       " (69, 0.046243835),\n",
       " (70, 0.006220191),\n",
       " (71, 0.028997641),\n",
       " (72, 0.069076516),\n",
       " (73, 0.016960775),\n",
       " (74, -0.07075725),\n",
       " (75, -0.0013027531),\n",
       " (76, 0.024896063),\n",
       " (77, -0.00088886207),\n",
       " (78, 0.01695696),\n",
       " (79, 0.04058642),\n",
       " (80, 0.0012812106),\n",
       " (81, -0.04997995),\n",
       " (82, -0.069783226),\n",
       " (83, 0.09406988),\n",
       " (84, -0.11370689),\n",
       " (85, 0.035644755),\n",
       " (86, -0.007268479),\n",
       " (87, -0.023850929),\n",
       " (88, 0.03672238),\n",
       " (89, 0.0011985217),\n",
       " (90, 0.010004178),\n",
       " (91, -0.0026742716),\n",
       " (92, -0.035250288),\n",
       " (93, -0.023463672),\n",
       " (94, 0.05101061),\n",
       " (95, -0.077467255),\n",
       " (96, -0.045508053),\n",
       " (97, -0.08544761),\n",
       " (98, -0.05255474),\n",
       " (99, 0.0096766045),\n",
       " (100, -0.0028067604)]"
      ]
     },
     "execution_count": 93,
     "metadata": {},
     "output_type": "execute_result"
    }
   ],
   "source": [
    "class D2VRetrievalModel(VectorSpaceRetrievalModel):\n",
    "    def __init__(self, doc_repr):\n",
    "        super().__init__(doc_repr)\n",
    "        \n",
    "        self.vector_size= 100\n",
    "        self.min_count = 1\n",
    "        self.epochs = 20\n",
    "        \n",
    "        # YOUR CODE HERE\n",
    "        self.docs = []\n",
    "        for doc_id, content in self.doc_repr:\n",
    "            self.docs.append(TaggedDocument(words=content, tags=[doc_id]))\n",
    "        \n",
    "    def train_model(self):\n",
    "        # YOUR CODE HERE\n",
    "        self.model = Doc2Vec(\n",
    "            self.docs,\n",
    "            vector_size=self.vector_size,\n",
    "            min_count=self.min_count,\n",
    "            epochs=self.epochs\n",
    "        )\n",
    "    \n",
    "    def vectorize_documents(self):\n",
    "        \"\"\"\n",
    "            Returns a doc_id -> vector dictionary\n",
    "        \"\"\"\n",
    "        # YOUR CODE HERE\n",
    "        doc_dict = {}\n",
    "        for doc_id, content in self.doc_repr:\n",
    "            vector = self.model.infer_vector(content)\n",
    "            doc_dict[doc_id] = [(dim+1, vector[dim]) for dim in range(len(vector))]\n",
    "        return doc_dict\n",
    "\n",
    "    def vectorize_query(self, query):\n",
    "        # YOUR CODE HERE\n",
    "        query = process_text(query, **config_2)\n",
    "        vector = self.model.infer_vector(query)\n",
    "        return [(dim+1, vector[dim]) for dim in range(len(vector))]\n",
    "        \n",
    "d2v = D2VRetrievalModel(doc_repr_2)\n",
    "d2v.train_model()\n",
    "\n",
    "\n",
    "# # you can now get an LSI vector for a given query in the following way:\n",
    "d2v.vectorize_query(\"report\")"
   ]
  },
  {
   "cell_type": "code",
   "execution_count": 94,
   "metadata": {
    "deletable": false,
    "editable": false,
    "nbgrader": {
     "cell_type": "code",
     "checksum": "e83a363a9d4f136efbdde1426a83925e",
     "grade": true,
     "grade_id": "cell-5e2c5e0c9a2e8cb5",
     "locked": true,
     "points": 0,
     "schema_version": 3,
     "solution": false,
     "task": false
    }
   },
   "outputs": [],
   "source": [
    "#### Please do not change this. This cell is used for grading."
   ]
  },
  {
   "cell_type": "markdown",
   "metadata": {
    "deletable": false,
    "editable": false,
    "nbgrader": {
     "cell_type": "markdown",
     "checksum": "5bb46bf6b9be1e0ca66f0b0bc6260ecb",
     "grade": false,
     "grade_id": "cell-8a49d414f798a595",
     "locked": true,
     "points": 10,
     "schema_version": 3,
     "solution": false,
     "task": true
    }
   },
   "source": [
    "\\#### Please do not change this. This cell is used for grading."
   ]
  },
  {
   "cell_type": "code",
   "execution_count": 95,
   "metadata": {},
   "outputs": [
    {
     "data": {
      "application/vnd.jupyter.widget-view+json": {
       "model_id": "a69ca11aee3a485386dc685d7c947277",
       "version_major": 2,
       "version_minor": 0
      },
      "text/plain": [
       "Text(value='', description='Search Bar')"
      ]
     },
     "metadata": {},
     "output_type": "display_data"
    }
   ],
   "source": [
    "drm_d2v = DenseRetrievalRanker(d2v, cosine_sim)\n",
    "\n",
    "# test your LDA model\n",
    "search_fn = drm_d2v.search\n",
    "\n",
    "text = widgets.Text(description=\"Search Bar\", width=200)\n",
    "display(text)\n",
    "\n",
    "\n",
    "text.on_submit(handle_submit_2)"
   ]
  },
  {
   "cell_type": "markdown",
   "metadata": {
    "deletable": false,
    "editable": false,
    "nbgrader": {
     "cell_type": "markdown",
     "checksum": "363ec36c1d03d9f9e1c2045a6e193c14",
     "grade": false,
     "grade_id": "cell-3529ae29eece7b97",
     "locked": true,
     "schema_version": 3,
     "solution": false,
     "task": false
    }
   },
   "source": [
    "---\n",
    "## Section 9: Re-ranking (10 points) <a class=\"anchor\" id=\"reranking\"></a>\n",
    "\n",
    "[Back to Part 2](#part2)\n",
    "\n",
    "To motivate the re-ranking perspective (i.e retrieve with lexical method + rerank with a semantic method), let's search using semantic methods and compare it to BM25's performance, along with their runtime:\n"
   ]
  },
  {
   "cell_type": "code",
   "execution_count": 96,
   "metadata": {
    "deletable": false,
    "editable": false,
    "nbgrader": {
     "cell_type": "code",
     "checksum": "5755f70e3eb28abc65d14d80125338af",
     "grade": false,
     "grade_id": "cell-f8f43bf5ae383128",
     "locked": true,
     "schema_version": 3,
     "solution": false,
     "task": false
    }
   },
   "outputs": [
    {
     "name": "stdout",
     "output_type": "stream",
     "text": [
      "BM25: \n",
      "934 µs ± 21.6 µs per loop (mean ± std. dev. of 7 runs, 1000 loops each)\n",
      "LSI: \n"
     ]
    },
    {
     "name": "stderr",
     "output_type": "stream",
     "text": [
      "/home/matyi/university/venv/lib/python3.6/site-packages/ipykernel_launcher.py:18: RuntimeWarning: invalid value encountered in double_scalars\n"
     ]
    },
    {
     "name": "stdout",
     "output_type": "stream",
     "text": [
      "200 ms ± 19.2 ms per loop (mean ± std. dev. of 7 runs, 1 loop each)\n",
      "LDA: \n",
      "3.78 s ± 50.5 ms per loop (mean ± std. dev. of 7 runs, 1 loop each)\n",
      "W2V: \n"
     ]
    },
    {
     "name": "stderr",
     "output_type": "stream",
     "text": [
      "/home/matyi/university/venv/lib/python3.6/site-packages/ipykernel_launcher.py:41: DeprecationWarning: Call to deprecated `__contains__` (Method will be removed in 4.0.0, use self.wv.__contains__() instead).\n",
      "/home/matyi/university/venv/lib/python3.6/site-packages/ipykernel_launcher.py:42: DeprecationWarning: Call to deprecated `__getitem__` (Method will be removed in 4.0.0, use self.wv.__getitem__() instead).\n"
     ]
    },
    {
     "name": "stdout",
     "output_type": "stream",
     "text": [
      "216 ms ± 4.48 ms per loop (mean ± std. dev. of 7 runs, 1 loop each)\n",
      "W2V(Pretrained): \n",
      "492 ms ± 29.4 ms per loop (mean ± std. dev. of 7 runs, 1 loop each)\n",
      "D2V:\n",
      "212 ms ± 9.23 ms per loop (mean ± std. dev. of 7 runs, 1 loop each)\n"
     ]
    }
   ],
   "source": [
    "query = \"algebraic functions\"\n",
    "print(\"BM25: \")\n",
    "%timeit bm25_search(query, 2)\n",
    "print(\"LSI: \")\n",
    "%timeit drm_lsi.search(query)\n",
    "print(\"LDA: \")\n",
    "%timeit drm_lda.search(query)\n",
    "print(\"W2V: \")\n",
    "%timeit drm_w2v.search(query)\n",
    "print(\"W2V(Pretrained): \")\n",
    "%timeit drm_w2v_pretrained.search(query)\n",
    "print(\"D2V:\")\n",
    "%timeit drm_d2v.search(query)"
   ]
  },
  {
   "cell_type": "markdown",
   "metadata": {
    "deletable": false,
    "editable": false,
    "nbgrader": {
     "cell_type": "markdown",
     "checksum": "ae398da0a8c23c95bcbb0023b7ec6f34",
     "grade": false,
     "grade_id": "cell-db5ff09f97841af7",
     "locked": true,
     "schema_version": 3,
     "solution": false,
     "task": false
    }
   },
   "source": [
    "---\n",
    "\n",
    "**Implementation (10 points):**\n",
    "Re-ranking involves retrieving a small set of documents using simple but fast methods like BM25 and then re-ranking them with the aid of semantic methods such as LDA or LSI. Implement the following class, which takes in an `initial_retrieval_fn` - the initial retrieval function and `vsrm` - an instance of the `VectorSpaceRetrievalModel` class (i.e LSI/LDA) as input. The search function should first retrieve an initial list of K documents, and then these documents are re-ranked using a semantic method. This not only makes retrieval faster, but semantic methods perform poorly when used in isolation, as you will find out."
   ]
  },
  {
   "cell_type": "code",
   "execution_count": 97,
   "metadata": {
    "deletable": false,
    "nbgrader": {
     "cell_type": "code",
     "checksum": "63b6b05a676a2ae3f08d8bed1bc59428",
     "grade": false,
     "grade_id": "cell-5bf47600d1a0c507",
     "locked": false,
     "schema_version": 3,
     "solution": true,
     "task": false
    }
   },
   "outputs": [],
   "source": [
    "# TODO: Implement this! (10 points)\n",
    "class DenseRerankingModel:\n",
    "    def __init__(self, initial_retrieval_fn, vsrm, similarity_fn):\n",
    "        \"\"\"\n",
    "            initial_retrieval_fn: takes in a query and returns a list of [(doc_id, score)] (sorted)\n",
    "            vsrm: instance of `VectorSpaceRetrievalModel`\n",
    "            similarity_fn: function instance that takes in two vectors \n",
    "                            and returns a similarity score e.g cosine_sim defined earlier\n",
    "        \"\"\"\n",
    "        self.ret = initial_retrieval_fn\n",
    "        self.vsrm = vsrm\n",
    "        self.similarity_fn = similarity_fn\n",
    "        self.vectorized_documents = vsrm.vectorize_documents()\n",
    "        \n",
    "        assert len(self.vectorized_documents) == len(doc_repr_2)\n",
    "    \n",
    "    def search(self, query, K=50):\n",
    "        \"\"\"\n",
    "            First, retrieve the top K results using the retrieval function\n",
    "            Then, re-rank the results using the VSRM instance\n",
    "        \"\"\"\n",
    "        # YOUR CODE HERE\n",
    "        query_vector = self.vsrm.vectorize_query(query)   \n",
    "        rank = [] \n",
    "        doc_id = [] \n",
    "        \n",
    "        # Re-rank the top K results using the VSRM instance \n",
    "        for doc in self.ret(query)[:K]:\n",
    "            doc_vector = self.vectorized_documents[doc[0]]\n",
    "            score = self.similarity_fn(query_vector, doc_vector)\n",
    "            doc_id.append(doc[0])\n",
    "            rank.append(score)\n",
    "            \n",
    "        return sorted(zip(doc_id, rank), key=lambda x: x[1], reverse=True)"
   ]
  },
  {
   "cell_type": "code",
   "execution_count": 98,
   "metadata": {
    "deletable": false,
    "editable": false,
    "nbgrader": {
     "cell_type": "code",
     "checksum": "334ab5af96976265cace682ab82a7387",
     "grade": true,
     "grade_id": "cell-52c6d18a4c0b4882",
     "locked": true,
     "points": 0,
     "schema_version": 3,
     "solution": false,
     "task": false
    }
   },
   "outputs": [
    {
     "name": "stderr",
     "output_type": "stream",
     "text": [
      "/home/matyi/university/venv/lib/python3.6/site-packages/ipykernel_launcher.py:26: DeprecationWarning: Call to deprecated `__contains__` (Method will be removed in 4.0.0, use self.wv.__contains__() instead).\n",
      "/home/matyi/university/venv/lib/python3.6/site-packages/ipykernel_launcher.py:27: DeprecationWarning: Call to deprecated `__getitem__` (Method will be removed in 4.0.0, use self.wv.__getitem__() instead).\n"
     ]
    }
   ],
   "source": [
    "##### Function check\n",
    "bm25_search_2 = partial(bm25_search, index_set=2)\n",
    "lsi_rerank = DenseRerankingModel(bm25_search_2, lsi, cosine_sim)\n",
    "lda_rerank = DenseRerankingModel(bm25_search_2, lda, jenson_shannon_sim)\n",
    "w2v_rerank = DenseRerankingModel(bm25_search_2, w2v, cosine_sim)\n",
    "w2v_pretrained_rerank = DenseRerankingModel(bm25_search_2, w2v_pretrained, cosine_sim)\n",
    "d2v_rerank = DenseRerankingModel(bm25_search_2, d2v, cosine_sim)\n",
    "\n",
    "##### "
   ]
  },
  {
   "cell_type": "markdown",
   "metadata": {
    "deletable": false,
    "editable": false,
    "nbgrader": {
     "cell_type": "markdown",
     "checksum": "bd904253f45f84e63bab3a69729058fc",
     "grade": false,
     "grade_id": "cell-93215dfe6bcf7cff",
     "locked": true,
     "points": 10,
     "schema_version": 3,
     "solution": false,
     "task": true
    }
   },
   "source": [
    "\\#### Please do not change this. This cell is used for grading."
   ]
  },
  {
   "cell_type": "markdown",
   "metadata": {
    "deletable": false,
    "editable": false,
    "nbgrader": {
     "cell_type": "markdown",
     "checksum": "b592e60292bfe3d9ef2930a354c4077a",
     "grade": false,
     "grade_id": "cell-aa694ff55fa91e7d",
     "locked": true,
     "schema_version": 3,
     "solution": false,
     "task": false
    }
   },
   "source": [
    "---\n",
    "Now, let us time the new search functions:"
   ]
  },
  {
   "cell_type": "code",
   "execution_count": 99,
   "metadata": {
    "deletable": false,
    "editable": false,
    "nbgrader": {
     "cell_type": "code",
     "checksum": "338c7e3528cba266a865a061287c0e38",
     "grade": false,
     "grade_id": "cell-5edbd481562ad91f",
     "locked": true,
     "schema_version": 3,
     "solution": false,
     "task": false
    }
   },
   "outputs": [
    {
     "name": "stdout",
     "output_type": "stream",
     "text": [
      "BM25: \n",
      "927 µs ± 43.8 µs per loop (mean ± std. dev. of 7 runs, 1000 loops each)\n",
      "LSI: \n",
      "4.55 ms ± 304 µs per loop (mean ± std. dev. of 7 runs, 100 loops each)\n",
      "LDA: \n",
      "61.5 ms ± 3.38 ms per loop (mean ± std. dev. of 7 runs, 10 loops each)\n",
      "W2V: \n"
     ]
    },
    {
     "name": "stderr",
     "output_type": "stream",
     "text": [
      "/home/matyi/university/venv/lib/python3.6/site-packages/ipykernel_launcher.py:41: DeprecationWarning: Call to deprecated `__contains__` (Method will be removed in 4.0.0, use self.wv.__contains__() instead).\n",
      "/home/matyi/university/venv/lib/python3.6/site-packages/ipykernel_launcher.py:42: DeprecationWarning: Call to deprecated `__getitem__` (Method will be removed in 4.0.0, use self.wv.__getitem__() instead).\n"
     ]
    },
    {
     "name": "stdout",
     "output_type": "stream",
     "text": [
      "4.23 ms ± 380 µs per loop (mean ± std. dev. of 7 runs, 100 loops each)\n",
      "W2V(Pretrained): \n",
      "8.38 ms ± 394 µs per loop (mean ± std. dev. of 7 runs, 100 loops each)\n",
      "D2V:\n",
      "4.94 ms ± 28.7 µs per loop (mean ± std. dev. of 7 runs, 100 loops each)\n"
     ]
    }
   ],
   "source": [
    "query = \"algebraic functions\"\n",
    "print(\"BM25: \")\n",
    "%timeit bm25_search(query, 2)\n",
    "print(\"LSI: \")\n",
    "%timeit lsi_rerank.search(query)\n",
    "print(\"LDA: \")\n",
    "%timeit lda_rerank.search(query)\n",
    "print(\"W2V: \")\n",
    "%timeit w2v_rerank.search(query)\n",
    "print(\"W2V(Pretrained): \")\n",
    "%timeit w2v_pretrained_rerank.search(query)\n",
    "print(\"D2V:\")\n",
    "%timeit d2v_rerank.search(query)"
   ]
  },
  {
   "cell_type": "markdown",
   "metadata": {
    "deletable": false,
    "editable": false,
    "nbgrader": {
     "cell_type": "markdown",
     "checksum": "c45c5e3f015b2de89d9d39ae3766368b",
     "grade": false,
     "grade_id": "cell-85c50f2ab9eec301",
     "locked": true,
     "schema_version": 3,
     "solution": false,
     "task": false
    }
   },
   "source": [
    "---\n",
    "As you can see, it is much faster (but BM25 is still orders of magnitude faster)."
   ]
  },
  {
   "cell_type": "markdown",
   "metadata": {
    "deletable": false,
    "editable": false,
    "nbgrader": {
     "cell_type": "markdown",
     "checksum": "1e2f3388e3807659f303fe31a75a010e",
     "grade": false,
     "grade_id": "cell-5071bb99b2af61cb",
     "locked": true,
     "schema_version": 3,
     "solution": false,
     "task": false
    }
   },
   "source": [
    "---\n",
    "## Section 10: Evaluation & Analysis (30 points) <a class=\"anchor\" id=\"reranking_eval\"></a>\n",
    "\n",
    "[Back to Part 2](#part2)\n",
    "\n",
    "[Previously](#evaluation) we have implemented some evaluation metrics and used them for measuring the ranking performance of term-based IR algorithms. In this section, we will do the same for semantic methods, both with and without re-ranking.\n",
    "\n",
    "### Section 10.1: Plot (10 points)\n",
    "\n",
    "First, gather the results. The results should consider the index set, the different search functions and different metrics. Plot the results in bar charts, per metric, with clear labels.\n",
    "\n",
    "Then, gather only the re-ranking models, and plot and compare them with the results obtained in part 1 (only index set 2)."
   ]
  },
  {
   "cell_type": "code",
   "execution_count": 100,
   "metadata": {
    "deletable": false,
    "editable": false,
    "nbgrader": {
     "cell_type": "code",
     "checksum": "4fe81520ac6413a803838913fd64de03",
     "grade": false,
     "grade_id": "cell-b672fe6dfae0b1ce",
     "locked": true,
     "schema_version": 3,
     "solution": false,
     "task": false
    }
   },
   "outputs": [],
   "source": [
    "list_of_sem_search_fns = [\n",
    "    (\"lda\", drm_lda.search),\n",
    "    (\"lsi\", drm_lsi.search),\n",
    "    (\"w2v\", drm_w2v.search),\n",
    "    (\"w2v_pretrained\", drm_w2v_pretrained.search),\n",
    "    (\"d2v\", drm_d2v.search),\n",
    "    (\"lsi_rr\", lsi_rerank.search),\n",
    "    (\"lda_rr\", lda_rerank.search),\n",
    "    (\"w2v_rr\", w2v_rerank.search),\n",
    "    (\"w2v_pretrained_rr\", w2v_pretrained_rerank.search),\n",
    "    (\"d2v_rr\", d2v_rerank.search),\n",
    "    \n",
    "]"
   ]
  },
  {
   "cell_type": "code",
   "execution_count": 101,
   "metadata": {
    "deletable": false,
    "nbgrader": {
     "cell_type": "code",
     "checksum": "54707c4afac084299aeefa047259b4a9",
     "grade": true,
     "grade_id": "cell-7dd8273b0f5a3c22",
     "locked": false,
     "points": 10,
     "schema_version": 3,
     "solution": true,
     "task": false
    }
   },
   "outputs": [
    {
     "name": "stderr",
     "output_type": "stream",
     "text": [
      "/home/matyi/university/venv/lib/python3.6/site-packages/ipykernel_launcher.py:18: RuntimeWarning: invalid value encountered in double_scalars\n",
      "/home/matyi/university/venv/lib/python3.6/site-packages/ipykernel_launcher.py:41: DeprecationWarning: Call to deprecated `__contains__` (Method will be removed in 4.0.0, use self.wv.__contains__() instead).\n",
      "/home/matyi/university/venv/lib/python3.6/site-packages/ipykernel_launcher.py:42: DeprecationWarning: Call to deprecated `__getitem__` (Method will be removed in 4.0.0, use self.wv.__getitem__() instead).\n"
     ]
    },
    {
     "data": {
      "image/png": "[encoded data removed]",
      "text/plain": [
       "<Figure size 432x288 with 1 Axes>"
      ]
     },
     "metadata": {
      "needs_background": "light"
     },
     "output_type": "display_data"
    },
    {
     "data": {
      "image/png": "[encoded data removed]",
      "text/plain": [
       "<Figure size 432x288 with 1 Axes>"
      ]
     },
     "metadata": {
      "needs_background": "light"
     },
     "output_type": "display_data"
    },
    {
     "data": {
      "image/png": "[encoded data removed]",
      "text/plain": [
       "<Figure size 432x288 with 1 Axes>"
      ]
     },
     "metadata": {
      "needs_background": "light"
     },
     "output_type": "display_data"
    },
    {
     "data": {
      "image/png": "[encoded data removed]",
      "text/plain": [
       "<Figure size 432x288 with 1 Axes>"
      ]
     },
     "metadata": {
      "needs_background": "light"
     },
     "output_type": "display_data"
    },
    {
     "data": {
      "image/png": "[encoded data removed]",
      "text/plain": [
       "<Figure size 432x288 with 1 Axes>"
      ]
     },
     "metadata": {
      "needs_background": "light"
     },
     "output_type": "display_data"
    },
    {
     "data": {
      "image/png": "[encoded data removed]",
      "text/plain": [
       "<Figure size 432x288 with 1 Axes>"
      ]
     },
     "metadata": {
      "needs_background": "light"
     },
     "output_type": "display_data"
    },
    {
     "data": {
      "image/png": "[encoded data removed]",
      "text/plain": [
       "<Figure size 432x288 with 1 Axes>"
      ]
     },
     "metadata": {
      "needs_background": "light"
     },
     "output_type": "display_data"
    },
    {
     "data": {
      "image/png": "[encoded data removed]",
      "text/plain": [
       "<Figure size 432x288 with 1 Axes>"
      ]
     },
     "metadata": {
      "needs_background": "light"
     },
     "output_type": "display_data"
    }
   ],
   "source": [
    "# YOUR CODE HERE\n",
    "ERR=[]\n",
    "MAP=[]\n",
    "RECALL1=[]\n",
    "RECALL5=[]\n",
    "RECALL10=[]\n",
    "PRECISION1=[]\n",
    "PRECISION5=[]\n",
    "PRECISION10=[]\n",
    "str_metrics = [\"ERR\",\"MAP\", \"RECALL@1\", \"RECALL@5\", \"RECALL@10\", \"PRECISION@1\", \n",
    "               \"PRECISION@5\", \"PRECISION@10\"]    \n",
    "index = [\"lda\", \"lsi\",\"w2v\",\"w2v_pretrained\",\"d2v\",\"lsi_rr\",\"lda_rr\",\"w2v_rr\",\n",
    "         \"w2v_pretrained_rr\",\"d2v_rr\"]\n",
    "xlabel = \"Methods\"\n",
    "ylabel = \"Metric value (in decimals)\"\n",
    "    \n",
    "for method in list_of_sem_search_fns:\n",
    "\n",
    "    evaluation = evaluate_search_fn(method[1], list_of_metrics)\n",
    "    ERR.append(evaluation['ERR'])\n",
    "    MAP.append(evaluation['MAP'])\n",
    "    RECALL1.append(evaluation['Recall@1'])\n",
    "    RECALL5.append(evaluation['Recall@5'])\n",
    "    RECALL10.append(evaluation['Recall@10'])\n",
    "    PRECISION1.append(evaluation['Precision@1'])\n",
    "    PRECISION5.append(evaluation['Precision@5'])\n",
    "    PRECISION10.append(evaluation['Precision@10'])\n",
    "\n",
    "metrics= [ERR, MAP,  RECALL1,  RECALL5,  RECALL10,  PRECISION1,  PRECISION5,  PRECISION10]\n",
    "\n",
    "for i, metric in enumerate(metrics):\n",
    "\n",
    "    plotdata = pd.DataFrame({\n",
    "    \"Index set 2\": metric,\n",
    "    }, \n",
    "    index=index\n",
    "    )\n",
    "    plotdata.plot(kind=\"bar\")\n",
    "    plt.title(str_metrics[i])\n",
    "    plt.xlabel(xlabel)\n",
    "    plt.ylabel(ylabel)\n",
    "    plt.show()"
   ]
  },
  {
   "cell_type": "markdown",
   "metadata": {
    "deletable": false,
    "editable": false,
    "nbgrader": {
     "cell_type": "markdown",
     "checksum": "a8a3b6189bdde66704c694d85e38d049",
     "grade": false,
     "grade_id": "cell-deb2ef3daa306e82",
     "locked": true,
     "schema_version": 3,
     "solution": false,
     "task": false
    }
   },
   "source": [
    "### Section 10.2: Summary (20 points)\n",
    "\n",
    "Your summary should compare methods from Part 1 and Part 2 (only for index set 2). State what you expected to see in the results, followed by either supporting evidence *or* justify why the results did not support your expectations. Consider the availability of data, scalability, domain/type of data, etc."
   ]
  },
  {
   "cell_type": "code",
   "execution_count": null,
   "metadata": {},
   "outputs": [],
   "source": []
  },
  {
   "cell_type": "markdown",
   "metadata": {
    "deletable": false,
    "nbgrader": {
     "cell_type": "markdown",
     "checksum": "ff97c43837d10bff6aaffa75e1492887",
     "grade": true,
     "grade_id": "cell-ec5dd7d9cf59dd86",
     "locked": false,
     "points": 20,
     "schema_version": 3,
     "solution": true,
     "task": false
    }
   },
   "source": [
    "We can see that the semantic vector based models of the second part perform significantly worse than term-based models of the first part. This result can be attributed due to two main factors. One of them is the specialised domain of the data which is constrained to scientific research papers of a single journal in the area of computer science and information systems. The corpus contains extremely fine grained semantic topics and very similar contexts for words. Because of this, vectors in the LDA and LSI models are hard to differentiate with cosine similarity. Word2vec also cannot learn separate groups of similar words based on contexts. In general semantic based models are able to properly differentiate between meanings of words and documents.\n",
    "\n",
    "The other factor is the corpus size. This is showcased by the large difference between untraned word2vec and its pretrained counterpart. Eventhough the pretrained version was trained on the GoogleNews corpus of diverse topics, most of which are not related to our corpus, it still easily outperforms all semantic models. Compared to the GoogleNews corpus, our corpus is tiny and thus vector based models do not have enough data to learn accurate numerical representations. This shows the data inefficiency of these sophisticated models.\n",
    "\n",
    "Reranking improves effectiveness of vector based models by a lot. This is due to the fact that they all use BM25 to generate the initial ranking. However these reranked result lists still perform worse than the original BM25 method. This means reranking actually worsens the output of BM25. While reranking didn't helo the effectiveness of vector based models compared to term-based ones, it greatly improves its speed. As we can see from the timing experiments, reranking only the top 50 results takes the fraction of the time of ranking all 3000 documents.\n",
    "\n",
    "Across all different evaluation methods, the pretrained word2vec model has the most stable performance even at recall@1, where all other models struggle. The recall@k score increases for the other methods in parallel  with the value of k. Next to the pretrained word2vec, doc2vec also performs fairly well, while other models have similar, worse performance.\n",
    "\n",
    "In conclusion we can state that complicated semantic based models do not work well on a higly specialized and small corpus such as ours. It is better to stick to simpler, term-based methods as they outperform semantic based ones."
   ]
  },
  {
   "cell_type": "code",
   "execution_count": null,
   "metadata": {},
   "outputs": [],
   "source": []
  }
 ],
 "metadata": {
  "kernelspec": {
   "display_name": "Python 3",
   "language": "python",
   "name": "python3"
  },
  "language_info": {
   "codemirror_mode": {
    "name": "ipython",
    "version": 3
   },
   "file_extension": ".py",
   "mimetype": "text/x-python",
   "name": "python",
   "nbconvert_exporter": "python",
   "pygments_lexer": "ipython3",
   "version": "3.6.9"
  }
 },
 "nbformat": 4,
 "nbformat_minor": 4
}
