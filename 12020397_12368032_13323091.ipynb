{
 "cells": [
  {
   "cell_type": "markdown",
   "metadata": {
    "deletable": false,
    "editable": false,
    "nbgrader": {
     "cell_type": "markdown",
     "checksum": "758d05f39ab671358f17858c55f7161c",
     "grade": false,
     "grade_id": "cell-c9cd9e550239e812",
     "locked": true,
     "schema_version": 3,
     "solution": false,
     "task": false
    }
   },
   "source": [
    "# Homework 1 (Total Points: 260) <a class=\"anchor\" id=\"top\"></a>\n",
    "\n",
    "\n",
    "**Submission instructions**:\n",
    "- Only the code `TODO: Implement this!` denotes that these sections are graded.\n",
    "- For Part 1: You can use the `nltk`, `numpy` and `matplotlib` libraries here. Other libraries, e.g., `gensim` or `scikit-learn`, may not be used. For Part 2: `gensim` is allowed in addition to the imported libraries in the next code cell\n",
    "- The notebook you submit has to have the student ids, separated by underscores (E.g., `12341234_12341234_12341234.ipynb`). \n",
    "- This will be parsed by a regexp, so please double check your filename.\n",
    "- Only one member of each group has to submit the file to canvas.\n",
    "- Make sure to check that your notebook runs before submission. A quick way to do this is to restart the kernel and run all the cells.  \n",
    "- Please do not delete/add new cells. Removing cells can lead to grade deduction.\n",
    "- Note, that you are not allowed to use Google Colab.\n",
    "\n",
    "\n",
    "**Learning Goals**:\n",
    "- [Part 1, Term-based matching](#part1) (175 points):\n",
    "    - Learn how to load a dataset and process it.\n",
    "    - Learn how to implement several standard IR methods (TF-IDF, BM25, QL) and understand their weaknesses & strengths.\n",
    "    - Learn how to evaluate IR methods.\n",
    "- [Part 2, Semantic-based matching](#part2) (85 points):\n",
    "    - Learn how to implement vector-space retrieval methods (LSI, LDA).\n",
    "    - Learn how to use LSI and LDA for re-ranking\n",
    "\n",
    "    \n",
    "**Resources**: \n",
    "- **Part 1**: Sections 2.3, 4.1, 4.2, 4.3, 5.3, 5.6, 5.7, 6.2, 7, 8 of [Search Engines: Information Retrieval in Practice](https://ciir.cs.umass.edu/downloads/SEIRiP.pdf)\n",
    "- **Part 2**: [LSI - Chapter 18](https://nlp.stanford.edu/IR-book/pdf/18lsi.pdf) from [Introduction to Information Retrieval](https://nlp.stanford.edu/IR-book/) book and the [original LDA paper](https://jmlr.org/papers/volume3/blei03a/blei03a.pdf)"
   ]
  },
  {
   "cell_type": "code",
   "execution_count": 1,
   "metadata": {
    "deletable": false,
    "editable": false,
    "nbgrader": {
     "cell_type": "code",
     "checksum": "c55bfe94ff1f564dd595547e516c4c6e",
     "grade": false,
     "grade_id": "cell-f5357fabdb9660e3",
     "locked": true,
     "schema_version": 3,
     "solution": false,
     "task": false
    }
   },
   "outputs": [],
   "source": [
    "# imports \n",
    "# TODO: Ensure that no additional library is imported in the notebook. \n",
    "# TODO: Only the standard library and the following libraries are allowed:\n",
    "# TODO: You can also use unlisted classes from these libraries or standard libraries (such as defaultdict, Counter, ...).\n",
    "\n",
    "import os\n",
    "import zipfile\n",
    "from functools import partial\n",
    "\n",
    "import nltk\n",
    "import requests\n",
    "import numpy as np\n",
    "from tqdm import tqdm\n",
    "\n",
    "import matplotlib.pyplot as plt\n",
    "from matplotlib.pyplot import cm\n",
    "\n",
    "from ipywidgets import widgets\n",
    "from IPython.display import display, HTML\n",
    "#from IPython.html import widgets\n",
    "from collections import namedtuple\n",
    "\n",
    "%matplotlib inline"
   ]
  },
  {
   "cell_type": "markdown",
   "metadata": {
    "deletable": false,
    "editable": false,
    "nbgrader": {
     "cell_type": "markdown",
     "checksum": "4ef0139c6fbc22b41520721a9275c1e1",
     "grade": false,
     "grade_id": "cell-7428e12ed184408b",
     "locked": true,
     "schema_version": 3,
     "solution": false,
     "task": false
    }
   },
   "source": [
    "\n",
    "# Part 1: Term-based Matching (175 points) <a class=\"anchor\" id=\"part1\"></a>\n",
    "\n",
    "[Back to top](#top)\n",
    "\n",
    "In the first part, we will learn the basics of IR from loading and preprocessing the material, to implementing some well known search algorithms, to evaluating the ranking performance of the implemented algorithms. We will be using the CACM dataset throughout the assignment. The CACM dataset is a collection of titles and abstracts from the journal CACM (Communication of the ACM).\n",
    "\n",
    "Table of contents:\n",
    "- [Section 1: Text Processing](#text_processing) (15 points)\n",
    "- [Section 2: Indexing](#indexing) (10 points)\n",
    "- [Section 3: Ranking](#ranking) (80 points)\n",
    "- [Section 4: Evaluation](#evaluation) (40 points)\n",
    "- [Section 5: Analysis](#analysis) (30 points)\n"
   ]
  },
  {
   "cell_type": "markdown",
   "metadata": {
    "deletable": false,
    "editable": false,
    "nbgrader": {
     "cell_type": "markdown",
     "checksum": "a9050c97b011a926b9e4cf6831eff5bd",
     "grade": false,
     "grade_id": "cell-4b24825cf4ae55ec",
     "locked": true,
     "schema_version": 3,
     "solution": false,
     "task": false
    }
   },
   "source": [
    "---\n",
    "## Section 1: Text Processing (15 points)<a class=\"anchor\" id=\"text_processing\"></a>\n",
    "\n",
    "[Back to Part 1](#part1)\n",
    "\n",
    "In this section, we will load the dataset and learn how to clean up the data to make it usable for an IR system. \n",
    "The points of this section are earned for the following implementations:\n",
    "- `read_cacm_docs` (4 points): Reads in the CACM documents.\n",
    "- `read_queries` (3 points): Reads in the CACM queries.\n",
    "- `load_stopwords` (1 point): Loads the stopwords.\n",
    "- `tokenize` (4 points): Tokenizes the input text.\n",
    "- `stem_token` (3 points): Stems the given token. \n",
    "\n",
    "We are using the [CACM dataset](http://ir.dcs.gla.ac.uk/resources/test_collections/cacm/), which is a small, classic IR dataset, composed of a collection of titles and abstracts from the journal CACM. It comes with relevance judgements for queries, so we can evaluate our IR system. \n"
   ]
  },
  {
   "cell_type": "markdown",
   "metadata": {
    "deletable": false,
    "editable": false,
    "nbgrader": {
     "cell_type": "markdown",
     "checksum": "1de1b97f9ee233ad2348359f0c158eb7",
     "grade": false,
     "grade_id": "cell-45651364e7af6d5a",
     "locked": true,
     "schema_version": 3,
     "solution": false,
     "task": false
    }
   },
   "source": [
    "---\n",
    "### 1.1 Read the CACM documents (4 points)\n",
    "\n",
    "\n",
    "The following cell downloads the dataset and unzips it to a local directory."
   ]
  },
  {
   "cell_type": "code",
   "execution_count": 2,
   "metadata": {
    "deletable": false,
    "editable": false,
    "nbgrader": {
     "cell_type": "code",
     "checksum": "4d43c9ad6e77cc01ce4cef0c34824930",
     "grade": false,
     "grade_id": "cell-bbc3030bb3fe7e02",
     "locked": true,
     "schema_version": 3,
     "solution": false,
     "task": false
    }
   },
   "outputs": [],
   "source": [
    "def download_dataset():\n",
    "    folder_path = os.environ.get(\"IR1_DATA_PATH\")\n",
    "    if not folder_path:\n",
    "        folder_path = \"./datasets/\"\n",
    "    os.makedirs(folder_path, exist_ok=True)\n",
    "    \n",
    "    file_location = os.path.join(folder_path, \"cacm.zip\")\n",
    "    \n",
    "    # download file if it doesn't exist\n",
    "    if not os.path.exists(file_location):\n",
    "        \n",
    "        url = \"https://surfdrive.surf.nl/files/index.php/s/M0FGJpX2p8wDwxR/download\"\n",
    "\n",
    "        with open(file_location, \"wb\") as handle:\n",
    "            print(f\"Downloading file from {url} to {file_location}\")\n",
    "            response = requests.get(url, stream=True)\n",
    "            for data in tqdm(response.iter_content()):\n",
    "                handle.write(data)\n",
    "            print(\"Finished downloading file\")\n",
    "    \n",
    "    if not os.path.exists(os.path.join(folder_path, \"train.txt\")):\n",
    "        \n",
    "        # unzip file\n",
    "        with zipfile.ZipFile(file_location, 'r') as zip_ref:\n",
    "            zip_ref.extractall(folder_path)\n",
    "        \n",
    "download_dataset()"
   ]
  },
  {
   "cell_type": "markdown",
   "metadata": {
    "deletable": false,
    "editable": false,
    "nbgrader": {
     "cell_type": "markdown",
     "checksum": "31609b0d61d0c74cbd69bc43e47c23be",
     "grade": false,
     "grade_id": "cell-a7dd9a9bf98ede05",
     "locked": true,
     "schema_version": 3,
     "solution": false,
     "task": false
    }
   },
   "source": [
    "---\n",
    "\n",
    "You can see a brief description of each file in the dataset by looking at the README file:"
   ]
  },
  {
   "cell_type": "code",
   "execution_count": 3,
   "metadata": {
    "deletable": false,
    "editable": false,
    "nbgrader": {
     "cell_type": "code",
     "checksum": "1783f9999c7d06955e8da815de62ba5f",
     "grade": false,
     "grade_id": "cell-9b6ff1a17124711f",
     "locked": true,
     "schema_version": 3,
     "solution": false,
     "task": false
    }
   },
   "outputs": [
    {
     "name": "stdout",
     "output_type": "stream",
     "text": [
      "Files in this directory with sizes:\r\n",
      "          0 Jun 19 21:01 README\r\n",
      "\r\n",
      "    2187734 Jun 19 20:55 cacm.all              text of documents\r\n",
      "        626 Jun 19 20:58 cite.info             key to citation info\r\n",
      "                                                (the X sections in cacm.all)\r\n",
      "       2668 Jun 19 20:55 common_words           stop words used by smart\r\n",
      "       2194 Jun 19 20:55 make_coll*             shell script to make collection\r\n",
      "       1557 Jun 19 20:55 make_coll_term*        ditto (both useless without\r\n",
      "                                                smart system)\r\n",
      "       9948 Jun 19 20:55 qrels.text             relation giving\r\n",
      "                                                    qid did 0 0\r\n",
      "                                                to indicate dument did is\r\n",
      "                                                relevant to query qid\r\n",
      "      13689 Jun 19 20:55 query.text             Original text of the query\r\n"
     ]
    }
   ],
   "source": [
    "##### Read the README file \n",
    "!cat ./datasets/README\n",
    "#####"
   ]
  },
  {
   "cell_type": "markdown",
   "metadata": {
    "deletable": false,
    "editable": false,
    "nbgrader": {
     "cell_type": "markdown",
     "checksum": "d6a5333ae8e7f69d81900e714cc43852",
     "grade": false,
     "grade_id": "cell-73351431869fda76",
     "locked": true,
     "schema_version": 3,
     "solution": false,
     "task": false
    }
   },
   "source": [
    "---\n",
    "We are interested in 4 files:\n",
    "- `cacm.all` : Contains the text for all documents. Note that some documents do not have abstracts available. \n",
    "- `query.text` : The text of all queries\n",
    "- `qrels.text` : The relevance judgements\n",
    "- `common_words` : A list of common words. This may be used as a collection of stopwords"
   ]
  },
  {
   "cell_type": "code",
   "execution_count": 4,
   "metadata": {
    "deletable": false,
    "editable": false,
    "nbgrader": {
     "cell_type": "code",
     "checksum": "c78e4256a08889ce3d0d985ea799b0a9",
     "grade": false,
     "grade_id": "cell-b44dd14079f278ca",
     "locked": true,
     "schema_version": 3,
     "solution": false,
     "task": false
    }
   },
   "outputs": [
    {
     "name": "stdout",
     "output_type": "stream",
     "text": [
      ".I 1\r\n",
      ".T\r\n",
      "Preliminary Report-International Algebraic Language\r\n",
      ".B\r\n",
      "CACM December, 1958\r\n",
      ".A\r\n",
      "Perlis, A. J.\r\n",
      "Samelson,K.\r\n",
      ".N\r\n",
      "CA581203 JB March 22, 1978  8:28 PM\r\n",
      ".X\r\n",
      "100\t5\t1\r\n",
      "123\t5\t1\r\n",
      "164\t5\t1\r\n",
      "1\t5\t1\r\n",
      "1\t5\t1\r\n",
      "1\t5\t1\r\n",
      "205\t5\t1\r\n",
      "210\t5\t1\r\n",
      "214\t5\t1\r\n",
      "1982\t5\t1\r\n",
      "398\t5\t1\r\n",
      "642\t5\t1\r\n",
      "669\t5\t1\r\n",
      "1\t6\t1\r\n",
      "1\t6\t1\r\n",
      "1\t6\t1\r\n",
      "1\t6\t1\r\n",
      "1\t6\t1\r\n",
      "1\t6\t1\r\n",
      "1\t6\t1\r\n",
      "1\t6\t1\r\n",
      "1\t6\t1\r\n",
      "1\t6\t1\r\n",
      "165\t6\t1\r\n",
      "196\t6\t1\r\n",
      "196\t6\t1\r\n",
      "1273\t6\t1\r\n",
      "1883\t6\t1\r\n",
      "324\t6\t1\r\n",
      "43\t6\t1\r\n",
      "53\t6\t1\r\n",
      "91\t6\t1\r\n",
      "410\t6\t1\r\n",
      "3184\t6\t1\r\n"
     ]
    }
   ],
   "source": [
    "##### The first 45 lines of the CACM dataset forms the first record\n",
    "# We are interested only in 3 fields. \n",
    "# 1. the '.I' field, which is the document id\n",
    "# 2. the '.T' field (the title) and\n",
    "# 3. the '.W' field (the abstract, which may be absent)\n",
    "!head -45 ./datasets/cacm.all\n",
    "#####"
   ]
  },
  {
   "cell_type": "markdown",
   "metadata": {
    "deletable": false,
    "editable": false,
    "nbgrader": {
     "cell_type": "markdown",
     "checksum": "aff7cbe5a15a0e3329dc223e3e31abf3",
     "grade": false,
     "grade_id": "cell-c4bf2e263ec553d8",
     "locked": true,
     "schema_version": 3,
     "solution": false,
     "task": false
    }
   },
   "source": [
    "---\n",
    "\n",
    "**Implementation (4 points):**\n",
    "Write a function to read the `cacm.all` file. Note that each document has a variable number of lines. The `.I` field denotes a new document:"
   ]
  },
  {
   "cell_type": "code",
   "execution_count": 5,
   "metadata": {
    "deletable": false,
    "nbgrader": {
     "cell_type": "code",
     "checksum": "45fef5d5b543ee439176d7fd0a9d20be",
     "grade": false,
     "grade_id": "cell-b736116eb419c624",
     "locked": false,
     "schema_version": 3,
     "solution": true,
     "task": false
    }
   },
   "outputs": [],
   "source": [
    "# TODO: Implement this! (4 points)\n",
    "# Complexity: O(n)\n",
    "\n",
    "def read_cacm_docs(root_folder = \"./datasets/\"):\n",
    "    \"\"\"\n",
    "        Reads in the CACM documents. The dataset is assumed to be in the folder \"./datasets/\" by default\n",
    "        Returns: A list of 2-tuples: (doc_id, document), where 'document' is a single string created by \n",
    "            appending the title and abstract (separated by a \"\\n\"). \n",
    "            In case the record doesn't have an abstract, the document is composed only by the title\n",
    "    \"\"\"\n",
    "    # YOUR CODE HERE\n",
    "    \n",
    "    # Path to cacm.all\n",
    "    path = root_folder + \"cacm.all\"\n",
    "    \n",
    "    # Specify lists for output\n",
    "    doc_id = []\n",
    "    doc_title = []\n",
    "    \n",
    "    # Open and split document into tokens\n",
    "    with open(path, 'r') as file:\n",
    "        doclist = file.read().split(\"\\n\")\n",
    "\n",
    "    # Set counter for index tracking\n",
    "    counter = 0\n",
    "    i = 0\n",
    "    \n",
    "    # Loop through doc to get I., T. and W.\n",
    "    while i < len(doclist) - 1:\n",
    "        counter += 1\n",
    "        \n",
    "        # Append document id and title\n",
    "        doc_id.append(int(doclist[i][3:]))\n",
    "        doc_title.append(doclist[i+2])\n",
    "        \n",
    "        i += 3\n",
    "            \n",
    "        while doclist[i] not in [\".B\", \".A\", \".X\"]:\n",
    "            if doclist[i] == '.W':\n",
    "                i += 1\n",
    "                doc_title[counter-1] += \" \\n\"\n",
    "            else:\n",
    "                doc_title[counter-1] += \" \" + doclist[i]\n",
    "                i += 1\n",
    "        \n",
    "        while doclist[i][:2] != \".I\" and i < len(doclist)-1:\n",
    "            i += 1\n",
    "    \n",
    "    return list(zip(doc_id, doc_title))"
   ]
  },
  {
   "cell_type": "code",
   "execution_count": 6,
   "metadata": {
    "deletable": false,
    "editable": false,
    "nbgrader": {
     "cell_type": "code",
     "checksum": "70472b5c277bb7c417de8da24e4e5261",
     "grade": true,
     "grade_id": "cell-a1c43818e0d3fd79",
     "locked": true,
     "points": 4,
     "schema_version": 3,
     "solution": false,
     "task": false
    }
   },
   "outputs": [],
   "source": [
    "##### Function check\n",
    "docs = read_cacm_docs()\n",
    "\n",
    "assert isinstance(docs, list)\n",
    "assert len(docs) == 3204, \"There should be exactly 3024 documents\"\n",
    "##### "
   ]
  },
  {
   "cell_type": "markdown",
   "metadata": {
    "deletable": false,
    "editable": false,
    "nbgrader": {
     "cell_type": "markdown",
     "checksum": "6fd095d2204cce3935444ca37c7c42da",
     "grade": false,
     "grade_id": "cell-5ed2ddc91f73c60e",
     "locked": true,
     "schema_version": 3,
     "solution": false,
     "task": false
    }
   },
   "source": [
    "---\n",
    "### 1.2 Read the CACM queries (3 points)\n",
    "\n",
    "Next, let us read the queries. They are formatted similarly:"
   ]
  },
  {
   "cell_type": "code",
   "execution_count": 7,
   "metadata": {
    "deletable": false,
    "editable": false,
    "nbgrader": {
     "cell_type": "code",
     "checksum": "5d26c0908e758acb9968b84056b1060a",
     "grade": false,
     "grade_id": "cell-5c7e8e7c4fc2757f",
     "locked": true,
     "schema_version": 3,
     "solution": false,
     "task": false
    }
   },
   "outputs": [
    {
     "name": "stdout",
     "output_type": "stream",
     "text": [
      ".I 1\r\n",
      ".W\r\n",
      " What articles exist which deal with TSS (Time Sharing System), an\r\n",
      "operating system for IBM computers?\r\n",
      ".N\r\n",
      " 1. Richard Alexander, Comp Serv, Langmuir Lab (TSS)\r\n",
      " \r\n",
      ".I 2\r\n",
      ".W\r\n",
      " I am interested in articles written either by Prieve or Udo Pooch\r\n",
      ".A\r\n",
      "Prieve, B.\r\n",
      "Pooch, U.\r\n",
      ".N\r\n",
      " 2. Richard Alexander, Comp Serv, Langmuir Lab (author = Pooch or Prieve)\r\n"
     ]
    }
   ],
   "source": [
    "##### The first 15 lines of 'query.text' has 2 queries\n",
    "# We are interested only in 2 fields. \n",
    "# 1. the '.I' - the query id\n",
    "# 2. the '.W' - the query\n",
    "!head -15 ./datasets/query.text\n",
    "#####"
   ]
  },
  {
   "cell_type": "markdown",
   "metadata": {
    "deletable": false,
    "editable": false,
    "nbgrader": {
     "cell_type": "markdown",
     "checksum": "da34d95924026ea55bf0a9b2070ec237",
     "grade": false,
     "grade_id": "cell-88e293507d2dcef6",
     "locked": true,
     "schema_version": 3,
     "solution": false,
     "task": false
    }
   },
   "source": [
    "---\n",
    "\n",
    "**Implementation (3 points):**\n",
    "Write a function to read the `query.text` file:"
   ]
  },
  {
   "cell_type": "code",
   "execution_count": 8,
   "metadata": {
    "deletable": false,
    "nbgrader": {
     "cell_type": "code",
     "checksum": "f98ac81b2ccb44fe3441e202e980c847",
     "grade": false,
     "grade_id": "cell-433e3ad5d0e2572a",
     "locked": false,
     "schema_version": 3,
     "solution": true,
     "task": false
    }
   },
   "outputs": [],
   "source": [
    "# TODO: Implement this! (3 points)\n",
    "\n",
    "def read_queries(root_folder = \"./datasets/\"):\n",
    "    \"\"\"\n",
    "        Reads in the CACM queries. The dataset is assumed to be in the folder \"./datasets/\" by default\n",
    "        Returns: A list of 2-tuples: (query_id, query)\n",
    "    \"\"\"\n",
    "    # YOUR CODE HERE\n",
    "    \n",
    "    # Path to query.text\n",
    "    path = root_folder + \"query.text\"\n",
    "    \n",
    "    # Open and split document into tokens\n",
    "    with open(path, 'r') as file:\n",
    "        queries = file.read().split(\"\\n\")\n",
    "    \n",
    "    # Define lists\n",
    "    query_id = []\n",
    "    query = []\n",
    "    \n",
    "    # Set counter for tracking index tracking\n",
    "    counter = 0\n",
    "    \n",
    "    # Loop through doc to get I. and W.\n",
    "    for i in range(len(queries)):\n",
    "        if queries[i][0:2] == \".I\":\n",
    "            counter += 1\n",
    "            query_id.append(int(queries[i][3:]))\n",
    "        if  queries[i] == '.W':\n",
    "            query.append(\" \" + queries[i+1][1:])\n",
    "            j = i+2\n",
    "            while queries[j] not in [\".N\", \".A\"]:\n",
    "                query[counter-1] = query[counter-1] + \" \" + queries[j]\n",
    "                j += 1\n",
    "               \n",
    "    \n",
    "    return list(zip(query_id, query))"
   ]
  },
  {
   "cell_type": "code",
   "execution_count": 9,
   "metadata": {
    "deletable": false,
    "editable": false,
    "nbgrader": {
     "cell_type": "code",
     "checksum": "c0e7a9868bd4b92692c33732af640b8b",
     "grade": true,
     "grade_id": "cell-6ec540abce66c598",
     "locked": true,
     "points": 3,
     "schema_version": 3,
     "solution": false,
     "task": false
    }
   },
   "outputs": [],
   "source": [
    "##### Function check\n",
    "queries = read_queries()\n",
    "\n",
    "assert isinstance(queries, list)\n",
    "assert len(queries) == 64 and all([q[1] is not None for q in queries]), \"There should be exactly 64 queries\"\n",
    "##### "
   ]
  },
  {
   "cell_type": "markdown",
   "metadata": {
    "deletable": false,
    "editable": false,
    "nbgrader": {
     "cell_type": "markdown",
     "checksum": "652f9159caea63888e06b54103bd7f32",
     "grade": false,
     "grade_id": "cell-1c31569491d7b782",
     "locked": true,
     "schema_version": 3,
     "solution": false,
     "task": false
    }
   },
   "source": [
    "---\n",
    "### 1.3 Read the stop words (1 point)\n",
    "\n",
    "We use the common words stored in `common_words`:"
   ]
  },
  {
   "cell_type": "code",
   "execution_count": 10,
   "metadata": {
    "deletable": false,
    "editable": false,
    "nbgrader": {
     "cell_type": "code",
     "checksum": "1ad6f5bae6a792504c1c8513ae5751ad",
     "grade": false,
     "grade_id": "cell-34bdb63461418a96",
     "locked": true,
     "schema_version": 3,
     "solution": false,
     "task": false
    }
   },
   "outputs": [
    {
     "name": "stdout",
     "output_type": "stream",
     "text": [
      "a\r\n",
      "about\r\n",
      "above\r\n",
      "accordingly\r\n",
      "across\r\n",
      "after\r\n",
      "afterwards\r\n",
      "again\r\n",
      "against\r\n",
      "all\r\n"
     ]
    }
   ],
   "source": [
    "##### Read the stop words file \n",
    "!head ./datasets/common_words\n",
    "##### Read the README file "
   ]
  },
  {
   "cell_type": "markdown",
   "metadata": {
    "deletable": false,
    "editable": false,
    "nbgrader": {
     "cell_type": "markdown",
     "checksum": "f720edbacd79170351156a443e0018ff",
     "grade": false,
     "grade_id": "cell-4744bde0338895d8",
     "locked": true,
     "schema_version": 3,
     "solution": false,
     "task": false
    }
   },
   "source": [
    "---\n",
    "**Implementation (1 point):**\n",
    "Write a function to read the `common_words` file (For better coverage, try to keep them in lowercase):"
   ]
  },
  {
   "cell_type": "code",
   "execution_count": 11,
   "metadata": {
    "deletable": false,
    "nbgrader": {
     "cell_type": "code",
     "checksum": "e6a9e9bb3ad0f8dc2ec3c497a3149092",
     "grade": false,
     "grade_id": "cell-7357aa40f64e5bcb",
     "locked": false,
     "schema_version": 3,
     "solution": true,
     "task": false
    }
   },
   "outputs": [],
   "source": [
    "# TODO: Implement this! (1 point)\n",
    "def load_stopwords(root_folder = \"./datasets/\"):\n",
    "    \"\"\"\n",
    "        Loads the stopwords. The dataset is assumed to be in the folder \"./datasets/\" by default\n",
    "        Output: A set of stopwords\n",
    "    \"\"\"\n",
    "    \n",
    "    # YOUR CODE HERE\n",
    "    \n",
    "    path = root_folder + \"common_words\"\n",
    "    \n",
    "    # Open and split document into tokens\n",
    "    with open(path, 'r') as file:\n",
    "        stopwords = file.read().lower().split('\\n')[:-1]\n",
    "    \n",
    "    \n",
    "    return set(stopwords)"
   ]
  },
  {
   "cell_type": "code",
   "execution_count": 12,
   "metadata": {
    "deletable": false,
    "editable": false,
    "nbgrader": {
     "cell_type": "code",
     "checksum": "9211b9735b828d89d1a51d8743c448b4",
     "grade": true,
     "grade_id": "cell-2ca3ac162004de97",
     "locked": true,
     "points": 1,
     "schema_version": 3,
     "solution": false,
     "task": false
    }
   },
   "outputs": [],
   "source": [
    "##### Function check\n",
    "stopwords = load_stopwords()\n",
    "\n",
    "assert isinstance(stopwords, set)\n",
    "assert len(stopwords) == 428, \"There should be exactly 428 stop words\"\n",
    "##### "
   ]
  },
  {
   "cell_type": "markdown",
   "metadata": {
    "deletable": false,
    "editable": false,
    "nbgrader": {
     "cell_type": "markdown",
     "checksum": "fc7e419f35dfd3f507d8a7555ce2cde9",
     "grade": false,
     "grade_id": "cell-134b72872f4300cb",
     "locked": true,
     "schema_version": 3,
     "solution": false,
     "task": false
    }
   },
   "source": [
    "---\n",
    "### 1.4 Tokenization (4 points)\n",
    "\n",
    "We can now write some basic text processing functions. \n",
    "A first step is to tokenize the text. \n",
    "\n",
    "**Note**: Use the  `WordPunctTokenizer` available in the `nltk` library:"
   ]
  },
  {
   "cell_type": "code",
   "execution_count": 13,
   "metadata": {
    "deletable": false,
    "nbgrader": {
     "cell_type": "code",
     "checksum": "3f5564d3c75bf22fbf832b3a9b938f37",
     "grade": false,
     "grade_id": "cell-322be4c9499bdc4b",
     "locked": false,
     "schema_version": 3,
     "solution": true,
     "task": false
    }
   },
   "outputs": [],
   "source": [
    "# TODO: Implement this! (4 points)\n",
    "def tokenize(text):\n",
    "    \"\"\"\n",
    "        Tokenizes the input text. Use the WordPunctTokenizer\n",
    "        Input: text - a string\n",
    "        Output: a list of tokens\n",
    "    \"\"\"\n",
    "    # YOUR CODE HERE\n",
    "    \n",
    "    return nltk.WordPunctTokenizer().tokenize(text) "
   ]
  },
  {
   "cell_type": "code",
   "execution_count": 14,
   "metadata": {
    "deletable": false,
    "editable": false,
    "nbgrader": {
     "cell_type": "code",
     "checksum": "f60b93aa03bf9eced64940252eb33fe3",
     "grade": true,
     "grade_id": "cell-7fbf48bf7541a622",
     "locked": true,
     "points": 4,
     "schema_version": 3,
     "solution": false,
     "task": false
    }
   },
   "outputs": [
    {
     "name": "stdout",
     "output_type": "stream",
     "text": [
      "['the', 'quick', 'brown', 'fox', 'jumps', 'over', 'the', 'lazy', 'dog']\n"
     ]
    }
   ],
   "source": [
    "##### Function check\n",
    "text = \"the quick brown fox jumps over the lazy dog\"\n",
    "tokens = tokenize(text)\n",
    "\n",
    "assert isinstance(tokens, list)\n",
    "assert len(tokens) == 9\n",
    "\n",
    "print(tokens)\n",
    "# output: ['the', 'quick', 'brown', 'fox', 'jumps', 'over', 'the', 'lazy', 'dog']\n",
    "#####"
   ]
  },
  {
   "cell_type": "markdown",
   "metadata": {
    "deletable": false,
    "editable": false,
    "nbgrader": {
     "cell_type": "markdown",
     "checksum": "1b1cc868db22735e5e193bc64ff67877",
     "grade": false,
     "grade_id": "cell-fd1b98ae61b697ca",
     "locked": true,
     "schema_version": 3,
     "solution": false,
     "task": false
    }
   },
   "source": [
    "---\n",
    "### 1.5 Stemming (3 points)\n",
    "\n",
    "Write a function to stem tokens. \n",
    "Again, you can use the nltk library for this:"
   ]
  },
  {
   "cell_type": "code",
   "execution_count": 15,
   "metadata": {
    "deletable": false,
    "nbgrader": {
     "cell_type": "code",
     "checksum": "1c4a6aa979d66158c7b6b992af43293a",
     "grade": false,
     "grade_id": "cell-e3f6c8e3f874b28d",
     "locked": false,
     "schema_version": 3,
     "solution": true,
     "task": false
    }
   },
   "outputs": [],
   "source": [
    "# TODO: Implement this! (3 points)\n",
    "def stem_token(token):\n",
    "    \"\"\"\n",
    "        Stems the given token using the PorterStemmer from the nltk library\n",
    "        Input: a single token\n",
    "        Output: the stem of the token\n",
    "    \"\"\"\n",
    "    # YOUR CODE HERE\n",
    "    \n",
    "    return nltk.PorterStemmer().stem(token)"
   ]
  },
  {
   "cell_type": "code",
   "execution_count": 16,
   "metadata": {
    "deletable": false,
    "editable": false,
    "nbgrader": {
     "cell_type": "code",
     "checksum": "cd2611a46e7c2e92af438d7166cf2616",
     "grade": true,
     "grade_id": "cell-cd6863e6ee6ed205",
     "locked": true,
     "points": 3,
     "schema_version": 3,
     "solution": false,
     "task": false
    }
   },
   "outputs": [],
   "source": [
    "##### Function check\n",
    "\n",
    "assert stem_token('owned') == 'own'\n",
    "assert stem_token('itemization') == 'item'\n",
    "#####"
   ]
  },
  {
   "cell_type": "markdown",
   "metadata": {
    "deletable": false,
    "editable": false,
    "nbgrader": {
     "cell_type": "markdown",
     "checksum": "5fcc93f08a6abcaffd5bd9475e4768e5",
     "grade": false,
     "grade_id": "cell-47c9f90498699110",
     "locked": true,
     "schema_version": 3,
     "solution": false,
     "task": false
    }
   },
   "source": [
    "---\n",
    "### 1.6 Summary\n",
    "\n",
    "The following function puts it all together. Given a string, it tokenizes it and processes it according to the flags that you set."
   ]
  },
  {
   "cell_type": "code",
   "execution_count": 17,
   "metadata": {
    "deletable": false,
    "editable": false,
    "nbgrader": {
     "cell_type": "code",
     "checksum": "2ff2d215ee8e0039c5a91fd3de12e6bd",
     "grade": false,
     "grade_id": "cell-dd0d3f46b30801da",
     "locked": true,
     "schema_version": 3,
     "solution": false,
     "task": false
    }
   },
   "outputs": [],
   "source": [
    "#### Putting it all together\n",
    "def process_text(text, stem=False, remove_stopwords=False, lowercase_text=False):\n",
    "    \n",
    "    tokens = []\n",
    "    for token in tokenize(text):\n",
    "        if remove_stopwords and token.lower() in stopwords:\n",
    "            continue\n",
    "        if stem:\n",
    "            token = stem_token(token)\n",
    "        if lowercase_text:\n",
    "            token = token.lower()\n",
    "        tokens.append(token)\n",
    "\n",
    "    return tokens\n",
    "#### "
   ]
  },
  {
   "cell_type": "markdown",
   "metadata": {
    "deletable": false,
    "editable": false,
    "nbgrader": {
     "cell_type": "markdown",
     "checksum": "02d433b18eb43654fa4306a7bf55b190",
     "grade": false,
     "grade_id": "cell-8d885bfd2edd43ae",
     "locked": true,
     "schema_version": 3,
     "solution": false,
     "task": false
    }
   },
   "source": [
    "---\n",
    "\n",
    "Let's create two sets of preprocessed documents.\n",
    "We can process the documents and queries according to these two configurations:"
   ]
  },
  {
   "cell_type": "code",
   "execution_count": 18,
   "metadata": {
    "deletable": false,
    "editable": false,
    "nbgrader": {
     "cell_type": "code",
     "checksum": "dbe4ca667be6842fdcf512fbcad50c7f",
     "grade": false,
     "grade_id": "cell-d427365ee0fb21d8",
     "locked": true,
     "schema_version": 3,
     "solution": false,
     "task": false
    }
   },
   "outputs": [],
   "source": [
    "# In this configuration:\n",
    "# Don't preprocess the text, except to tokenize \n",
    "config_1 = {\n",
    "  \"stem\": False,\n",
    "  \"remove_stopwords\" : False,\n",
    "  \"lowercase_text\": True\n",
    "} \n",
    "\n",
    "\n",
    "# In this configuration:\n",
    "# Preprocess the text, stem and remove stopwords\n",
    "config_2 = {\n",
    "  \"stem\": True,\n",
    "  \"remove_stopwords\" : True,\n",
    "  \"lowercase_text\": True, \n",
    "} \n",
    "\n",
    "####\n",
    "doc_repr_1 = []\n",
    "doc_repr_2 = []\n",
    "for (doc_id, document) in docs:\n",
    "    doc_repr_1.append((doc_id, process_text(document, **config_1)))\n",
    "    doc_repr_2.append((doc_id, process_text(document, **config_2)))\n",
    "\n",
    "####"
   ]
  },
  {
   "cell_type": "markdown",
   "metadata": {
    "deletable": false,
    "editable": false,
    "nbgrader": {
     "cell_type": "markdown",
     "checksum": "b60589aac19e80941d860d9b3f1e9a16",
     "grade": false,
     "grade_id": "cell-b1c102db61ae7495",
     "locked": true,
     "schema_version": 3,
     "solution": false,
     "task": false
    }
   },
   "source": [
    "--- \n",
    "\n",
    "## Section 2: Indexing (10 points)<a class=\"anchor\" id=\"indexing\"></a>\n",
    "\n",
    "[Back to Part 1](#part1)\n",
    "\n",
    "\n",
    "\n",
    "A retrieval function usually takes in a query document pair, and scores a query against a document.  Our document set is quite small - just a few thousand documents. However, consider a web-scale dataset with a few million documents. In such a scenario, it would become infeasible to score every query and document pair. In such a case, we can build an inverted index. From Wikipedia:\n",
    "\n",
    "> ... , an inverted index (also referred to as a postings file or inverted file) is a database index storing a mapping from content, such as words or numbers, to its locations in a table, .... The purpose of an inverted index is to allow fast full-text searches, at a cost of increased processing when a document is added to the database. ...\n",
    "\n",
    "\n",
    "Consider a simple inverted index, which maps from word to document. This can improve the performance of a retrieval system significantly. In this assignment, we consider a *simple* inverted index, which maps a word to a set of documents. In practice, however, more complex indices might be used.  \n"
   ]
  },
  {
   "cell_type": "markdown",
   "metadata": {
    "deletable": false,
    "editable": false,
    "nbgrader": {
     "cell_type": "markdown",
     "checksum": "710fd943f45523ac36fcb887cc0d4d39",
     "grade": false,
     "grade_id": "cell-fa373192c1b7bb95",
     "locked": true,
     "schema_version": 3,
     "solution": false,
     "task": false
    }
   },
   "source": [
    "### 2.1 Term Frequency-index (10 points)\n",
    "In this assignment, we will be using an index created in memory since our dataset is tiny. To get started, build a simple index that maps each `token` to a list of `(doc_id, count)` where `count` is the count of the `token` in `doc_id`.\n",
    "For consistency, build this index using a python dictionary.\n",
    "    \n",
    "Now, implement a function to build an index:"
   ]
  },
  {
   "cell_type": "code",
   "execution_count": 19,
   "metadata": {
    "deletable": false,
    "nbgrader": {
     "cell_type": "code",
     "checksum": "c281c45196493b87e45e1b3fb4ddd6c9",
     "grade": false,
     "grade_id": "cell-077599b87e953209",
     "locked": false,
     "schema_version": 3,
     "solution": true,
     "task": false
    }
   },
   "outputs": [],
   "source": [
    "from collections import defaultdict\n",
    "\n",
    "def build_tf_index(documents):\n",
    "    \"\"\"\n",
    "        Build an inverted index (with counts). The output is a dictionary which takes in a token\n",
    "        and returns a list of (doc_id, count) where 'count' is the count of the 'token' in 'doc_id'\n",
    "        Input: a list of documents - (doc_id, tokens)\n",
    "        Output: An inverted index. [token] -> [(doc_id, token_count)]\n",
    "    \"\"\"\n",
    "    # YOUR CODE HERE\n",
    "    \n",
    "    inv_index = defaultdict(list)\n",
    "\n",
    "    for docid, text in documents:\n",
    "        \n",
    "        # Create defaultdict to store token info for this document\n",
    "        hashtable = defaultdict(lambda: 0)\n",
    "        doc_id = int(docid)\n",
    "        \n",
    "        # Go through all tokens and count them\n",
    "        for token in text:\n",
    "            \n",
    "            # Increase count\n",
    "            hashtable[token] += 1\n",
    "                \n",
    "        # Go through tokens and append their count to the index\n",
    "        for token, count in hashtable.items():\n",
    "            inv_index[token].append((doc_id, count))\n",
    "            \n",
    "    return inv_index"
   ]
  },
  {
   "cell_type": "markdown",
   "metadata": {
    "deletable": false,
    "editable": false,
    "nbgrader": {
     "cell_type": "markdown",
     "checksum": "15e7041b4323d2a290322de538ff7670",
     "grade": false,
     "grade_id": "cell-093aebfa504f96f2",
     "locked": true,
     "schema_version": 3,
     "solution": false,
     "task": false
    }
   },
   "source": [
    "---\n",
    "Now we can build indexed documents and preprocess the queries based on the two configurations:"
   ]
  },
  {
   "cell_type": "code",
   "execution_count": 20,
   "metadata": {
    "deletable": false,
    "editable": false,
    "nbgrader": {
     "cell_type": "code",
     "checksum": "e27540c1d8d77a3779a05f557f3f40c6",
     "grade": false,
     "grade_id": "cell-b2ff1676348b90a8",
     "locked": true,
     "schema_version": 3,
     "solution": false,
     "task": false
    }
   },
   "outputs": [],
   "source": [
    "#### Indexed documents based on the two configs\n",
    "\n",
    "# Create the 2 indices\n",
    "tf_index_1 = build_tf_index(doc_repr_1)\n",
    "tf_index_2 = build_tf_index(doc_repr_2)\n",
    "\n",
    "# This function returns the tf_index of the corresponding config\n",
    "def get_index(index_set):\n",
    "    assert index_set in {1, 2}\n",
    "    return {\n",
    "        1: tf_index_1,\n",
    "        2: tf_index_2\n",
    "    }[index_set]\n",
    "\n",
    "####\n",
    "#### Preprocessed query based on the two configs\n",
    "\n",
    "# This function preprocesses the text given the index set, according to the specified config\n",
    "def preprocess_query(text, index_set):\n",
    "    assert index_set in {1, 2}\n",
    "    if index_set == 1:\n",
    "        return process_text(text, **config_1)\n",
    "    elif index_set == 2:\n",
    "        return process_text(text, **config_2)\n",
    "\n",
    "#### "
   ]
  },
  {
   "cell_type": "code",
   "execution_count": 21,
   "metadata": {
    "deletable": false,
    "editable": false,
    "nbgrader": {
     "cell_type": "code",
     "checksum": "2c50e4b4c68261ff1184277bcf3c38d8",
     "grade": true,
     "grade_id": "cell-fc7c7232d5d2ee46",
     "locked": true,
     "points": 5,
     "schema_version": 3,
     "solution": false,
     "task": false
    }
   },
   "outputs": [
    {
     "name": "stdout",
     "output_type": "stream",
     "text": [
      "[(4, 1), (7, 1), (10, 1), (13, 1), (19, 1), (22, 1), (23, 1), (37, 1), (40, 3), (41, 1)]\n"
     ]
    }
   ],
   "source": [
    "##### Function check\n",
    "\n",
    "print(tf_index_1['computer'][:10])\n",
    "#### "
   ]
  },
  {
   "cell_type": "code",
   "execution_count": 22,
   "metadata": {
    "deletable": false,
    "editable": false,
    "nbgrader": {
     "cell_type": "code",
     "checksum": "02de27463e2a393f46278d6fe3160481",
     "grade": true,
     "grade_id": "cell-ff06bd11204db250",
     "locked": true,
     "points": 5,
     "schema_version": 3,
     "solution": false,
     "task": false
    }
   },
   "outputs": [
    {
     "name": "stdout",
     "output_type": "stream",
     "text": [
      "[(670, 1), (675, 1), (1621, 3), (1681, 1), (2145, 1), (2339, 1), (2572, 1), (2583, 1), (2739, 1), (3012, 1)]\n"
     ]
    }
   ],
   "source": [
    "##### Function check\n",
    "\n",
    "print(tf_index_2['computer'][:10])\n",
    "#### "
   ]
  },
  {
   "cell_type": "markdown",
   "metadata": {
    "deletable": false,
    "editable": false,
    "nbgrader": {
     "cell_type": "markdown",
     "checksum": "982112dca3f9a75e871bea74fe1adab4",
     "grade": false,
     "grade_id": "cell-89eba71f04310291",
     "locked": true,
     "schema_version": 3,
     "solution": false,
     "task": false
    }
   },
   "source": [
    "\n",
    "---\n",
    "## Section 3: Ranking  (80 points) <a class=\"anchor\" id=\"ranking\"></a>\n",
    "\n",
    "[Back to Part 1](#part1)\n",
    "\n",
    "Now that we have cleaned and processed our dataset, we can start building simple IR systems. \n",
    "\n",
    "For now, we consider *simple* IR systems, which involve computing scores from the tokens present in the document/query. More advanced methods are covered in later assignments.\n",
    "\n",
    "We will implement the following methods in this section:\n",
    "- [Section 3.1: Bag of Words](#bow) (10 points)\n",
    "- [Section 3.2: TF-IDF](#tfidf) (15 points)\n",
    "- [Section 3.3: Query Likelihood Model](#qlm) (35 points)\n",
    "- [Section 3.4: BM25](#bm25) (20 points)\n",
    "\n",
    "**Scoring policy:**\n",
    "Your implementations in this section are scored based on the expected performance of your ranking functions.\n",
    "You will get a full mark if your implementation meets the expected performance (measured by some evaluation metric).\n",
    "Otherwise, you may get partial credit.\n",
    "For example, if your *Bag of words* ranking function has 60% of expected performance, you will get 4 out of 10."
   ]
  },
  {
   "cell_type": "markdown",
   "metadata": {
    "deletable": false,
    "editable": false,
    "nbgrader": {
     "cell_type": "markdown",
     "checksum": "97c13d2e2cad60df4a70dcb61ea7c30e",
     "grade": false,
     "grade_id": "cell-3daf70a60e393adf",
     "locked": true,
     "schema_version": 3,
     "solution": false,
     "task": false
    }
   },
   "source": [
    "--- \n",
    "\n",
    "### Section 3.1: Bag of Words (10 points)<a class=\"anchor\" id=\"bow\"></a>\n",
    "\n",
    "Probably the simplest IR model is the Bag of Words (BOW) model.\n",
    "Implement a function that scores and ranks all the documents against a query using this model.   \n",
    "\n",
    "Note that you can use either the count of the token or 'binarize' it i.e set the value equal to 1 if the token appears.   \n"
   ]
  },
  {
   "cell_type": "code",
   "execution_count": 23,
   "metadata": {
    "deletable": false,
    "nbgrader": {
     "cell_type": "code",
     "checksum": "1178c8a8908b0e4dc07add7aa49b7fde",
     "grade": false,
     "grade_id": "cell-de9cf0459c4b9324",
     "locked": false,
     "schema_version": 3,
     "solution": true,
     "task": false
    }
   },
   "outputs": [],
   "source": [
    "## TODO Implement this\n",
    "\n",
    "from collections import defaultdict\n",
    "\n",
    "def bow_search(query, index_set):\n",
    "    \"\"\"\n",
    "        Perform a search over all documents with the given query. \n",
    "        Note: You have to use the `get_index` function created in the previous cells\n",
    "        Input: \n",
    "            query - a (unprocessed) query\n",
    "            index_set - the index to use\n",
    "        Output: a list of (document_id, score), sorted in descending relevance to the given query \n",
    "    \"\"\"\n",
    "    index = get_index(index_set)\n",
    "    processed_query = preprocess_query(query, index_set)\n",
    "    \n",
    "    # YOUR CODE HERE\n",
    "    scores = defaultdict(lambda : 0)\n",
    "    \n",
    "    for q in processed_query:\n",
    "        if q not in index.keys():\n",
    "            continue\n",
    "        for doc, count in index[q]:\n",
    "            scores[doc] += count\n",
    "            \n",
    "    return [(d, float(s)) for d, s in sorted(scores.items(), key=lambda t: t[1], reverse=True)]"
   ]
  },
  {
   "cell_type": "code",
   "execution_count": 24,
   "metadata": {
    "deletable": false,
    "editable": false,
    "nbgrader": {
     "cell_type": "code",
     "checksum": "644d6d33cf5075c6d9878d4fe24c6213",
     "grade": true,
     "grade_id": "cell-9f6aceae6dd9125f",
     "locked": true,
     "points": 2,
     "schema_version": 3,
     "solution": false,
     "task": false
    }
   },
   "outputs": [
    {
     "name": "stdout",
     "output_type": "stream",
     "text": [
      "BOW Results:\n",
      "Rank 0(6.0): An Information Algebra - Phase I Report-Language S...\n",
      "Rank 1(6.0): Rejuvenating Experimental Computer Science \\n This...\n",
      "Rank 2(3.0): ALGOL 60 Confidential \\n The ALGOL 60 Report,* whe...\n",
      "Rank 3(2.0): Automatic Abstracting and Indexing Survey and Reco...\n",
      "Rank 4(2.0): A String Language for Symbol Manipulation Based on...\n"
     ]
    }
   ],
   "source": [
    "#### Function check\n",
    "\n",
    "docs_by_id = dict(docs)\n",
    "def print_results(docs, len_limit=50):    \n",
    "    for i, (doc_id, score) in enumerate(docs):\n",
    "        doc_content = docs_by_id[doc_id].strip().replace(\"\\n\", \"\\\\n\")[:len_limit] + \"...\"\n",
    "        print(f\"Rank {i}({score:.2}): {doc_content}\")\n",
    "\n",
    "test_bow = bow_search(\"report\", index_set=1)[:5]\n",
    "print(f\"BOW Results:\")\n",
    "print_results(test_bow)\n",
    "#### "
   ]
  },
  {
   "cell_type": "code",
   "execution_count": 25,
   "metadata": {
    "deletable": false,
    "editable": false,
    "nbgrader": {
     "cell_type": "code",
     "checksum": "8d54c91b913d7a54b25f3358c969fa45",
     "grade": true,
     "grade_id": "cell-4eed3abf233d9b58",
     "locked": true,
     "points": 2,
     "schema_version": 3,
     "solution": false,
     "task": false
    }
   },
   "outputs": [],
   "source": [
    "#### Please do not change this. This cell is used for grading."
   ]
  },
  {
   "cell_type": "code",
   "execution_count": 26,
   "metadata": {
    "deletable": false,
    "editable": false,
    "nbgrader": {
     "cell_type": "code",
     "checksum": "58bcc16d36dc079b7f41f9572423c62b",
     "grade": true,
     "grade_id": "cell-4d65a2d7090c466c",
     "locked": true,
     "points": 3,
     "schema_version": 3,
     "solution": false,
     "task": false
    }
   },
   "outputs": [],
   "source": [
    "#### Please do not change this. This cell is used for grading."
   ]
  },
  {
   "cell_type": "code",
   "execution_count": 27,
   "metadata": {
    "deletable": false,
    "editable": false,
    "nbgrader": {
     "cell_type": "code",
     "checksum": "65e4561970c4eba3e5ce43b142f858af",
     "grade": true,
     "grade_id": "cell-dedf36ab5853ce20",
     "locked": true,
     "points": 3,
     "schema_version": 3,
     "solution": false,
     "task": false
    }
   },
   "outputs": [],
   "source": [
    "#### Please do not change this. This cell is used for grading."
   ]
  },
  {
   "cell_type": "markdown",
   "metadata": {
    "deletable": false,
    "editable": false,
    "nbgrader": {
     "cell_type": "markdown",
     "checksum": "a5c2318004c5ce534b67c7a36bbc7c31",
     "grade": false,
     "grade_id": "cell-a5c09c79ac1f2871",
     "locked": true,
     "schema_version": 3,
     "solution": false,
     "task": false
    }
   },
   "source": [
    "\n",
    "---\n",
    "\n",
    "### Section 3.2: TF-IDF (15 points) <a class=\"anchor\" id=\"tfidf\"></a>\n",
    "\n",
    "Before we implement the tf-idf scoring functions, let's first write a function to compute the document frequencies of all words.  \n",
    "\n",
    "#### 3.2.1 Document frequency (5 points)\n",
    "Compute the document frequencies of all tokens in the collection.  "
   ]
  },
  {
   "cell_type": "code",
   "execution_count": 28,
   "metadata": {
    "deletable": false,
    "nbgrader": {
     "cell_type": "code",
     "checksum": "11cdde77378ded394d7922fe36bbc5d1",
     "grade": false,
     "grade_id": "cell-9a2369f32e864b8a",
     "locked": false,
     "schema_version": 3,
     "solution": true,
     "task": false
    }
   },
   "outputs": [],
   "source": [
    "# TODO: Implement this! (5 points)\n",
    "\n",
    "def compute_df(documents):\n",
    "    \n",
    "    \"\"\"\n",
    "        Compute the document frequency of all terms in the vocabulary\n",
    "        Input: A list of documents\n",
    "        Output: A dictionary with {token: document frequency)\n",
    "    \"\"\"\n",
    "    # YOUR CODE HERE\n",
    "    \n",
    "    df = defaultdict(lambda: 0)\n",
    "    \n",
    "    for document in documents:\n",
    "        for token in set(document):\n",
    "                df[token] += 1\n",
    "    \n",
    "    return df"
   ]
  },
  {
   "cell_type": "code",
   "execution_count": 29,
   "metadata": {
    "deletable": false,
    "editable": false,
    "nbgrader": {
     "cell_type": "code",
     "checksum": "154985511d7925c5793a1f97dea81880",
     "grade": false,
     "grade_id": "cell-4c3bddd0b73ac90e",
     "locked": true,
     "schema_version": 3,
     "solution": false,
     "task": false
    }
   },
   "outputs": [],
   "source": [
    "#### Compute df based on the two configs\n",
    "\n",
    "# get the document frequencies of each document\n",
    "df_1 = compute_df([d[1] for d in doc_repr_1])\n",
    "df_2 = compute_df([d[1] for d in doc_repr_2])\n",
    "\n",
    "def get_df(index_set):\n",
    "    assert index_set in {1, 2}\n",
    "    return {\n",
    "        1: df_1,\n",
    "        2: df_2\n",
    "    }[index_set]\n",
    "####"
   ]
  },
  {
   "cell_type": "code",
   "execution_count": 30,
   "metadata": {
    "deletable": false,
    "editable": false,
    "nbgrader": {
     "cell_type": "code",
     "checksum": "110cc180068cf3f77c682ee3de2a117c",
     "grade": true,
     "grade_id": "cell-79e8a6db1e5fc46f",
     "locked": true,
     "points": 5,
     "schema_version": 3,
     "solution": false,
     "task": false
    }
   },
   "outputs": [
    {
     "name": "stdout",
     "output_type": "stream",
     "text": [
      "597\n",
      "11\n"
     ]
    }
   ],
   "source": [
    "#### Function check\n",
    "\n",
    "print(df_1['computer'])\n",
    "print(df_2['computer'])\n",
    "####"
   ]
  },
  {
   "cell_type": "markdown",
   "metadata": {
    "deletable": false,
    "editable": false,
    "nbgrader": {
     "cell_type": "markdown",
     "checksum": "6646996a2d016ef86e7cedd2f79a29d1",
     "grade": false,
     "grade_id": "cell-52f6acc487e1b96d",
     "locked": true,
     "schema_version": 3,
     "solution": false,
     "task": false
    }
   },
   "source": [
    "---\n",
    "#### 3.2.2 TF-IDF search (10 points)\n",
    "Next, implement a function that computes a tf-idf score given a query.      "
   ]
  },
  {
   "cell_type": "code",
   "execution_count": 31,
   "metadata": {
    "deletable": false,
    "nbgrader": {
     "cell_type": "code",
     "checksum": "b33c859693d1b383bcb53acea340027f",
     "grade": false,
     "grade_id": "cell-2fb5ba34b2994cd9",
     "locked": false,
     "schema_version": 3,
     "solution": true,
     "task": false
    }
   },
   "outputs": [],
   "source": [
    "# TODO: Implement this! (10 points)\n",
    "\n",
    "def tfidf_search(query, index_set):\n",
    "    \n",
    "    \"\"\"\n",
    "        Perform a search over all documents with the given query using tf-idf. \n",
    "        Note #1: You have to use the `get_index` (and the `get_df`) function created in the previous cells\n",
    "        Input: \n",
    "            query - a (unprocessed) query\n",
    "            index_set - the index to use\n",
    "        Output: a list of (document_id, score), sorted in descending relevance to the given query \n",
    "    \"\"\"\n",
    "    \n",
    "    index = get_index(index_set)\n",
    "    df = get_df(index_set)\n",
    "    processed_query = preprocess_query(query, index_set)\n",
    "    \n",
    "    # YOUR CODE HERE\n",
    "    \n",
    "    # Make a set of all involved documents\n",
    "    documents = set([z[0] for z in [y for x in index.values() for y in x]])\n",
    "    \n",
    "    # Make dict of all involved documents, assign score to 0\n",
    "    tf = defaultdict(lambda: 0)\n",
    "    \n",
    "    # Create new dict with Inverse document frequency\n",
    "    idf = {n: np.log(len(documents)/df[n]) for n in df.keys()}\n",
    "    \n",
    "    # Multiply tf * idf and sum to calculate score\n",
    "    for token in processed_query:\n",
    "        if token not in index.keys():\n",
    "            continue\n",
    "        for doc, count in index[token]:\n",
    "            tf[doc] += count*idf[token]\n",
    "    \n",
    "    # Sort and return list\n",
    "    return sorted(tf.items(), key=lambda x:x[1], reverse=True)"
   ]
  },
  {
   "cell_type": "code",
   "execution_count": 32,
   "metadata": {
    "deletable": false,
    "editable": false,
    "nbgrader": {
     "cell_type": "code",
     "checksum": "10b9fd39f3c9a9f3ca274c020ad79323",
     "grade": true,
     "grade_id": "cell-bc68aeeacf42beb3",
     "locked": true,
     "points": 2,
     "schema_version": 3,
     "solution": false,
     "task": false
    }
   },
   "outputs": [
    {
     "name": "stdout",
     "output_type": "stream",
     "text": [
      "TFIDF Results:\n",
      "Rank 0(2.3e+01): An Information Algebra - Phase I Report-Language S...\n",
      "Rank 1(2.3e+01): Rejuvenating Experimental Computer Science \\n This...\n",
      "Rank 2(1.2e+01): ALGOL 60 Confidential \\n The ALGOL 60 Report,* whe...\n",
      "Rank 3(7.8): Automatic Abstracting and Indexing Survey and Reco...\n",
      "Rank 4(7.8): A String Language for Symbol Manipulation Based on...\n"
     ]
    }
   ],
   "source": [
    "#### Function check\n",
    "test_tfidf = tfidf_search(\"report\", index_set=1)[:5]\n",
    "print(f\"TFIDF Results:\")\n",
    "print_results(test_tfidf)\n",
    "####"
   ]
  },
  {
   "cell_type": "code",
   "execution_count": 33,
   "metadata": {
    "deletable": false,
    "editable": false,
    "nbgrader": {
     "cell_type": "code",
     "checksum": "03441f97df9db4996d0f260fcc974e9d",
     "grade": true,
     "grade_id": "cell-c7702fa8179fadb9",
     "locked": true,
     "points": 2,
     "schema_version": 3,
     "solution": false,
     "task": false
    }
   },
   "outputs": [],
   "source": [
    "#### Please do not change this. This cell is used for grading."
   ]
  },
  {
   "cell_type": "code",
   "execution_count": 34,
   "metadata": {
    "deletable": false,
    "editable": false,
    "nbgrader": {
     "cell_type": "code",
     "checksum": "7272cfcbb457a74d23bfec1f85d22d5f",
     "grade": true,
     "grade_id": "cell-3284f50ac29abbaa",
     "locked": true,
     "points": 3,
     "schema_version": 3,
     "solution": false,
     "task": false
    }
   },
   "outputs": [],
   "source": [
    "#### Please do not change this. This cell is used for grading."
   ]
  },
  {
   "cell_type": "code",
   "execution_count": 35,
   "metadata": {
    "deletable": false,
    "editable": false,
    "nbgrader": {
     "cell_type": "code",
     "checksum": "fcbcc867713612b90395d653db8fd5e3",
     "grade": true,
     "grade_id": "cell-d908c80a3155354b",
     "locked": true,
     "points": 3,
     "schema_version": 3,
     "solution": false,
     "task": false
    }
   },
   "outputs": [],
   "source": [
    "#### Please do not change this. This cell is used for grading."
   ]
  },
  {
   "cell_type": "markdown",
   "metadata": {
    "deletable": false,
    "editable": false,
    "nbgrader": {
     "cell_type": "markdown",
     "checksum": "cdffc83f0eaea937cf64a212e7e9af8d",
     "grade": false,
     "grade_id": "cell-f5d923459ba21733",
     "locked": true,
     "schema_version": 3,
     "solution": false,
     "task": false
    }
   },
   "source": [
    "--- \n",
    "\n",
    "### Section 3.3: Query Likelihood Model (35 points) <a class=\"anchor\" id=\"qlm\"></a>\n",
    "\n",
    "In this section, you will implement a simple query likelihood model. \n",
    "\n",
    "\n",
    "#### 3.3.1 Naive QL (15 points)\n",
    "\n",
    "First, let us implement a naive version of a QL model, assuming a multinomial unigram language model (with a uniform prior over the documents). \n",
    "\n"
   ]
  },
  {
   "cell_type": "code",
   "execution_count": 36,
   "metadata": {
    "deletable": false,
    "editable": false,
    "nbgrader": {
     "cell_type": "code",
     "checksum": "b7ae2b7d818b428b4638c1c9206d2aca",
     "grade": false,
     "grade_id": "cell-98505778f7b68e7f",
     "locked": true,
     "schema_version": 3,
     "solution": false,
     "task": false
    }
   },
   "outputs": [],
   "source": [
    "#### Document length for normalization\n",
    "\n",
    "def doc_lengths(documents):\n",
    "    doc_lengths = {doc_id:len(doc) for (doc_id, doc) in documents}\n",
    "    return doc_lengths\n",
    "\n",
    "doc_lengths_1 = doc_lengths(doc_repr_1)\n",
    "doc_lengths_2 = doc_lengths(doc_repr_2)\n",
    "\n",
    "def get_doc_lengths(index_set):\n",
    "    assert index_set in {1, 2}\n",
    "    return {\n",
    "        1: doc_lengths_1,\n",
    "        2: doc_lengths_2\n",
    "    }[index_set]\n",
    "####"
   ]
  },
  {
   "cell_type": "code",
   "execution_count": 37,
   "metadata": {
    "deletable": false,
    "nbgrader": {
     "cell_type": "code",
     "checksum": "cedd08303a914243fefdb6b876977ca1",
     "grade": false,
     "grade_id": "cell-8bcf2b804d636c2e",
     "locked": false,
     "schema_version": 3,
     "solution": true,
     "task": false
    }
   },
   "outputs": [],
   "source": [
    "# TODO: Implement this! (15 points)\n",
    "def naive_ql_search(query, index_set):\n",
    "    \"\"\"\n",
    "        Perform a search over all documents with the given query using a naive QL model. \n",
    "        Note #1: You have to use the `get_index` (and get_doc_lengths) function created in the previous cells\n",
    "        Input: \n",
    "            query - a (unprocessed) query\n",
    "            index_set - the index to use\n",
    "        Output: a list of (document_id, score), sorted in descending relevance to the given query \n",
    "    \"\"\"\n",
    "    index = get_index(index_set)\n",
    "    doc_lengths = get_doc_lengths(index_set)\n",
    "    processed_query = preprocess_query(query, index_set)\n",
    "    \n",
    "    # YOUR CODE HERE\n",
    "    \n",
    "    # Make a set of all involved documents\n",
    "    documents = set([z[0] for z in [y for x in index.values() for y in x]])\n",
    "    \n",
    "    # Specifiy defaultdict\n",
    "    scores = defaultdict(list)\n",
    "    in_docs = {}\n",
    "    \n",
    "    # For each term in query\n",
    "    for term in processed_query:\n",
    "        \n",
    "        # If term does not exist skip it \n",
    "        if term not in index:\n",
    "            continue\n",
    "        \n",
    "        # Collect all doc_ids from documents in which the first existing term occurs\n",
    "        # If first existing term does not occur in a document, but second term appears\n",
    "        # in another document this value will be 0 anyways, so don't take into account\n",
    "        \n",
    "        in_docs = [x for x, y in index[term]]\n",
    "        \n",
    "        break\n",
    "    \n",
    "    # Loop again through terms\n",
    "    for term in processed_query:\n",
    "        \n",
    "        if term not in index:\n",
    "            continue\n",
    "        \n",
    "        for document in in_docs: \n",
    "            if document in [x for x, y in index[term]]:\n",
    "                scores[document].append((index[term][[x for x, y in index[term]].index(document)][1])/doc_lengths[document])                \n",
    "          \n",
    "            # If term does not occur, remove from in_docs to save computing time\n",
    "            # Set probability to 0   \n",
    "            else:\n",
    "                scores[document].append(0)\n",
    "                in_docs.remove(document)\n",
    "    \n",
    "    # Take product of all elements\n",
    "    scores.update({n: np.prod([float(y) for y in scores[n]]) for n in scores.keys()})\n",
    "    \n",
    "    # Sort and return list\n",
    "    return sorted(scores.items(), key=lambda x: x[1], reverse=True)"
   ]
  },
  {
   "cell_type": "code",
   "execution_count": 38,
   "metadata": {
    "deletable": false,
    "editable": false,
    "nbgrader": {
     "cell_type": "code",
     "checksum": "b550d15bdad28354c336020a00c33d56",
     "grade": true,
     "grade_id": "cell-5a83ac12ecde8578",
     "locked": true,
     "points": 3,
     "schema_version": 3,
     "solution": false,
     "task": false
    },
    "scrolled": true
   },
   "outputs": [
    {
     "name": "stdout",
     "output_type": "stream",
     "text": [
      "Naive QL Results:\n",
      "Rank 0(0.2): A Report Writer For COBOL...\n",
      "Rank 1(0.2): A CRT Report Generating System...\n",
      "Rank 2(0.17): Preliminary Report-International Algebraic Languag...\n",
      "Rank 3(0.17): Supplement to the ALGOL 60 Report...\n",
      "Rank 4(0.14): ALGOL Sub-Committee Report - Extensions...\n"
     ]
    }
   ],
   "source": [
    "#### Function check\n",
    "test_naiveql = naive_ql_search(\"report\", index_set=1)[:5]\n",
    "print(f\"Naive QL Results:\")\n",
    "print_results(test_naiveql)\n",
    "####"
   ]
  },
  {
   "cell_type": "code",
   "execution_count": 39,
   "metadata": {
    "deletable": false,
    "editable": false,
    "nbgrader": {
     "cell_type": "code",
     "checksum": "799df1d81c63fe90edbb6c218fc707fb",
     "grade": true,
     "grade_id": "cell-80f4bf2137f997bb",
     "locked": true,
     "points": 2,
     "schema_version": 3,
     "solution": false,
     "task": false
    }
   },
   "outputs": [],
   "source": [
    "#### Please do not change this. This cell is used for grading."
   ]
  },
  {
   "cell_type": "code",
   "execution_count": 40,
   "metadata": {
    "deletable": false,
    "editable": false,
    "nbgrader": {
     "cell_type": "code",
     "checksum": "875a4a517d27e20625d41783cebec118",
     "grade": true,
     "grade_id": "cell-5ce2993458a8ce51",
     "locked": true,
     "points": 3,
     "schema_version": 3,
     "solution": false,
     "task": false
    }
   },
   "outputs": [],
   "source": [
    "#### Please do not change this. This cell is used for grading."
   ]
  },
  {
   "cell_type": "code",
   "execution_count": 41,
   "metadata": {
    "deletable": false,
    "editable": false,
    "nbgrader": {
     "cell_type": "code",
     "checksum": "d5c4e1c3852e71a46f32825b122f1b71",
     "grade": true,
     "grade_id": "cell-7753bdb54e292f3d",
     "locked": true,
     "points": 3,
     "schema_version": 3,
     "solution": false,
     "task": false
    }
   },
   "outputs": [],
   "source": [
    "#### Please do not change this. This cell is used for grading."
   ]
  },
  {
   "cell_type": "code",
   "execution_count": 42,
   "metadata": {
    "deletable": false,
    "editable": false,
    "nbgrader": {
     "cell_type": "code",
     "checksum": "c4d4332d4356e89ce0240f6b80e1899a",
     "grade": true,
     "grade_id": "cell-54e476e2f96e64bb",
     "locked": true,
     "points": 4,
     "schema_version": 3,
     "solution": false,
     "task": false
    }
   },
   "outputs": [],
   "source": [
    "#### Please do not change this. This cell is used for grading."
   ]
  },
  {
   "cell_type": "markdown",
   "metadata": {
    "deletable": false,
    "editable": false,
    "nbgrader": {
     "cell_type": "markdown",
     "checksum": "8d739dc91a22bd48897f603885f95a74",
     "grade": false,
     "grade_id": "cell-5414dfd69dab8b94",
     "locked": true,
     "schema_version": 3,
     "solution": false,
     "task": false
    }
   },
   "source": [
    "---\n",
    "#### 3.3.2 QL (20 points)\n",
    "Now, let's implement a QL model that handles the issues with the naive version. In particular, you will implement a QL model with Jelinek-Mercer Smoothing. That means an interpolated score is computed per word - one term is the same as the previous naive version, and the second term comes from a unigram language model. In addition, you should accumulate the scores by summing the **log** (smoothed) probability which leads to better numerical stability."
   ]
  },
  {
   "cell_type": "code",
   "execution_count": 43,
   "metadata": {
    "deletable": false,
    "nbgrader": {
     "cell_type": "code",
     "checksum": "b8c6abf937ad333e628f1db891f2e29e",
     "grade": false,
     "grade_id": "cell-bb1f506409771257",
     "locked": false,
     "schema_version": 3,
     "solution": true,
     "task": false
    }
   },
   "outputs": [],
   "source": [
    "# TODO: Implement this! (20 points)\n",
    "\n",
    "def ql_search(query, index_set):\n",
    "    \"\"\"\n",
    "        Perform a search over all documents with the given query using a QL model \n",
    "        with Jelinek-Mercer Smoothing (set smoothing=0.1). \n",
    "        \n",
    "        \n",
    "        Note #1: You have to use the `get_index` (and get_doc_lengths) function created in the previous cells\n",
    "        Note #2: You might have to create some variables beforehand and use them in this function\n",
    "        \n",
    "        \n",
    "        Input: \n",
    "            query - a (unprocessed) query\n",
    "            index_set - the index to use\n",
    "        Output: a list of (document_id, score), sorted in descending relevance to the given query \n",
    "    \"\"\"\n",
    "    \n",
    "    index = get_index(index_set)\n",
    "    doc_lengths = get_doc_lengths(index_set)\n",
    "    processed_query = preprocess_query(query, index_set)\n",
    "    \n",
    "    # YOUR CODE HERE\n",
    "    \n",
    "    # Collection length\n",
    "    cl = sum(doc_lengths.values())\n",
    "    \n",
    "    # Set smoothing\n",
    "    smoothing = 0.1\n",
    "    labda = 1-smoothing\n",
    "    \n",
    "    # Specifiy defaultdict\n",
    "    scores = defaultdict(list)\n",
    "    \n",
    "    # keep track of all documents that contain a query\n",
    "    in_docs = set()\n",
    "    new_query = []\n",
    "    colfrac = []\n",
    "    \n",
    "    # For each term in query\n",
    "    for term in processed_query:\n",
    "        \n",
    "        # If term does not exist in vocab, skip\n",
    "        if term not in index:\n",
    "            continue\n",
    "        \n",
    "        # Add existing term to new query\n",
    "        new_query.append(term)\n",
    "        cft = 0\n",
    "    \n",
    "        for doc, item in index[term]:\n",
    "            \n",
    "            # Collect al doc_ids from documents in which term occurs\n",
    "            in_docs.add(doc)\n",
    "            \n",
    "            # Collection frequency of term\n",
    "            cft += item\n",
    "        \n",
    "        # Second term of score, as this term is indep. of document\n",
    "        colfrac.append((1-labda)*cft/cl)\n",
    "        \n",
    "    for i, q in enumerate(new_query):\n",
    "        for document in in_docs:       \n",
    "            \n",
    "            if not document in [x for x, y in index[q]]:\n",
    "                \n",
    "                # If term does not occur in document, append second part of equation and continue\n",
    "                with np.errstate(divide='ignore'):\n",
    "                    scores[document].append(np.log(colfrac[i]))\n",
    "                continue\n",
    "                \n",
    "            # Get frequency of term in particular document\n",
    "            freq = (index[q][([x for x, y in index[q]].index(document))][1])\n",
    "            \n",
    "            scores[document].append(np.log((labda*(freq/doc_lengths[document])) + ((1-labda)*colfrac[i])))\n",
    "    \n",
    "    # Score equals the logsum of all probabilities\n",
    "    # Note: log(𝑎)+log(𝑏)=log(𝑎𝑏)\n",
    "    # Convert log back to normal\n",
    "    scores.update({n: np.exp(np.sum([float(y) for y in scores[n]])) for n in scores.keys()})\n",
    "    \n",
    "    # Sort and return list\n",
    "    # Score is in interval [0,1]\n",
    "    return sorted(scores.items(), key=lambda x: x[1], reverse=True)"
   ]
  },
  {
   "cell_type": "code",
   "execution_count": 44,
   "metadata": {
    "deletable": false,
    "editable": false,
    "nbgrader": {
     "cell_type": "code",
     "checksum": "0b12a7f3355193a257fd9f5f69a66562",
     "grade": true,
     "grade_id": "cell-850e9d6369bcec32",
     "locked": true,
     "points": 4,
     "schema_version": 3,
     "solution": false,
     "task": false
    }
   },
   "outputs": [
    {
     "name": "stdout",
     "output_type": "stream",
     "text": [
      "Rank 0(0.18): A CRT Report Generating System...\n",
      "Rank 1(0.18): A Report Writer For COBOL...\n",
      "Rank 2(0.15): Preliminary Report-International Algebraic Languag...\n",
      "Rank 3(0.15): Supplement to the ALGOL 60 Report...\n",
      "Rank 4(0.13): ALGOL Sub-Committee Report - Extensions...\n",
      "\n",
      "Rank 0(3.6e-08): A CRT Report Generating System...\n",
      "Rank 1(3.6e-08): A Report Writer For COBOL...\n",
      "Rank 2(5.8e-09): Preliminary Report-International Algebraic Languag...\n",
      "Rank 3(5.8e-09): Supplement to the ALGOL 60 Report...\n",
      "Rank 4(1.2e-09): ALGOL Sub-Committee Report - Extensions...\n"
     ]
    }
   ],
   "source": [
    "#### Function check\n",
    "test_ql_results = ql_search(\"report\", index_set=1)[:5]\n",
    "print_results(test_ql_results)\n",
    "print()\n",
    "test_ql_results_long = ql_search(\"report \" * 10, index_set=1)[:5]\n",
    "print_results(test_ql_results_long)\n",
    "####"
   ]
  },
  {
   "cell_type": "code",
   "execution_count": 45,
   "metadata": {
    "deletable": false,
    "editable": false,
    "nbgrader": {
     "cell_type": "code",
     "checksum": "e40be645140389c115849856145f5b59",
     "grade": true,
     "grade_id": "cell-958cdcf6fd6899b7",
     "locked": true,
     "points": 3,
     "schema_version": 3,
     "solution": false,
     "task": false
    }
   },
   "outputs": [],
   "source": [
    "#### Please do not change this. This cell is used for grading."
   ]
  },
  {
   "cell_type": "code",
   "execution_count": 46,
   "metadata": {
    "deletable": false,
    "editable": false,
    "nbgrader": {
     "cell_type": "code",
     "checksum": "41d4aff001df17e7963ba79b45810b30",
     "grade": true,
     "grade_id": "cell-384dc23a0c251f6e",
     "locked": true,
     "points": 4,
     "schema_version": 3,
     "solution": false,
     "task": false
    }
   },
   "outputs": [],
   "source": [
    "#### Please do not change this. This cell is used for grading."
   ]
  },
  {
   "cell_type": "code",
   "execution_count": 47,
   "metadata": {
    "deletable": false,
    "editable": false,
    "nbgrader": {
     "cell_type": "code",
     "checksum": "893e8c5a073abc8ebb763d267b91bc02",
     "grade": true,
     "grade_id": "cell-7218966cba5097cc",
     "locked": true,
     "points": 4,
     "schema_version": 3,
     "solution": false,
     "task": false
    }
   },
   "outputs": [],
   "source": [
    "#### Please do not change this. This cell is used for grading."
   ]
  },
  {
   "cell_type": "code",
   "execution_count": 48,
   "metadata": {
    "deletable": false,
    "editable": false,
    "nbgrader": {
     "cell_type": "code",
     "checksum": "f99cb6f8b1f5830aaed8f06712ff846e",
     "grade": true,
     "grade_id": "cell-481ab073259ae53f",
     "locked": true,
     "points": 5,
     "schema_version": 3,
     "solution": false,
     "task": false
    }
   },
   "outputs": [],
   "source": [
    "#### Please do not change this. This cell is used for grading."
   ]
  },
  {
   "cell_type": "markdown",
   "metadata": {
    "deletable": false,
    "editable": false,
    "nbgrader": {
     "cell_type": "markdown",
     "checksum": "c02f14705d679579b1aa9f78f54779d5",
     "grade": false,
     "grade_id": "cell-f44088bfdac1dc90",
     "locked": true,
     "schema_version": 3,
     "solution": false,
     "task": false
    }
   },
   "source": [
    "--- \n",
    "\n",
    "### Section 3.4: BM25 (20 points) <a class=\"anchor\" id=\"bm25\"></a>\n",
    "\n",
    "In this section, we will implement the BM25 scoring function. \n"
   ]
  },
  {
   "cell_type": "code",
   "execution_count": 49,
   "metadata": {
    "deletable": false,
    "nbgrader": {
     "cell_type": "code",
     "checksum": "e57efe06ea92af1c83784a42eb3d86e0",
     "grade": false,
     "grade_id": "cell-15640fc9b5d00a3c",
     "locked": false,
     "schema_version": 3,
     "solution": true,
     "task": false
    }
   },
   "outputs": [],
   "source": [
    "# TODO: Implement this! (20 points)\n",
    "def bm25_search(query, index_set, k_1=1.5, b=0.75):\n",
    "    \n",
    "    \"\"\"\n",
    "        Perform a search over all documents with the given query using BM25. Use k_1 = 1.5 and b = 0.75\n",
    "        Note #1: You have to use the `get_index` (and `get_doc_lengths`) function created in the previous cells\n",
    "        Note #2: You might have to create some variables beforehand and use them in this function\n",
    "        \n",
    "        Input: \n",
    "            query - a (unprocessed) query\n",
    "            index_set - the index to use\n",
    "        Output: a list of (document_id, score), sorted in descending relevance to the given query \n",
    "    \"\"\"\n",
    "    \n",
    "    index = get_index(index_set)\n",
    "    df = get_df(index_set)\n",
    "    doc_lengths = get_doc_lengths(index_set)\n",
    "    processed_query = preprocess_query(query, index_set)\n",
    "    \n",
    "    # YOUR CODE HERE\n",
    "    \n",
    "    # Average document length\n",
    "    avdl = sum(doc_lengths.values()) / len(doc_lengths)\n",
    "    scores = defaultdict(lambda: 0)\n",
    "    \n",
    "    for token in processed_query:\n",
    "        for doc_id, tf in index[token]:\n",
    "            idf = np.log(len(doc_lengths)/df[token])\n",
    "            second_part = (k_1 * tf) / (k_1 * ((1 - b) + b * doc_lengths[doc_id] / avdl) + tf)\n",
    "            scores[doc_id] += idf * second_part\n",
    "            \n",
    "    return [(d, float(s)) for d, s in sorted(scores.items(), key=lambda t: t[1], reverse=True)]"
   ]
  },
  {
   "cell_type": "code",
   "execution_count": 50,
   "metadata": {
    "deletable": false,
    "editable": false,
    "nbgrader": {
     "cell_type": "code",
     "checksum": "4be9de5d4e94637960d83725422bea6c",
     "grade": true,
     "grade_id": "cell-d10536bca72c74b1",
     "locked": true,
     "points": 3,
     "schema_version": 3,
     "solution": false,
     "task": false
    }
   },
   "outputs": [
    {
     "name": "stdout",
     "output_type": "stream",
     "text": [
      "Rank 0(4.0): A Report Writer For COBOL...\n",
      "Rank 1(4.0): A CRT Report Generating System...\n",
      "Rank 2(4.0): Preliminary Report-International Algebraic Languag...\n",
      "Rank 3(4.0): Supplement to the ALGOL 60 Report...\n",
      "Rank 4(3.9): ALGOL Sub-Committee Report - Extensions...\n"
     ]
    }
   ],
   "source": [
    "#### Function check\n",
    "test_bm25_results = bm25_search(\"report\", index_set=1)[:5]\n",
    "print_results(test_bm25_results)\n",
    "####"
   ]
  },
  {
   "cell_type": "code",
   "execution_count": 51,
   "metadata": {
    "deletable": false,
    "editable": false,
    "nbgrader": {
     "cell_type": "code",
     "checksum": "31b550d6a46ae4f8ede88788799ac2b9",
     "grade": true,
     "grade_id": "cell-60f6ec5052712d79",
     "locked": true,
     "points": 5,
     "schema_version": 3,
     "solution": false,
     "task": false
    }
   },
   "outputs": [],
   "source": [
    "#### Please do not change this. This cell is used for grading."
   ]
  },
  {
   "cell_type": "code",
   "execution_count": 52,
   "metadata": {
    "deletable": false,
    "editable": false,
    "nbgrader": {
     "cell_type": "code",
     "checksum": "3da2ec16bfe781916e71755d65aa2983",
     "grade": true,
     "grade_id": "cell-5d17524043a5abcc",
     "locked": true,
     "points": 5,
     "schema_version": 3,
     "solution": false,
     "task": false
    }
   },
   "outputs": [],
   "source": [
    "#### Please do not change this. This cell is used for grading."
   ]
  },
  {
   "cell_type": "code",
   "execution_count": 53,
   "metadata": {
    "deletable": false,
    "editable": false,
    "nbgrader": {
     "cell_type": "code",
     "checksum": "e7b563d54fa84c20909c0ae107010541",
     "grade": true,
     "grade_id": "cell-ff8e704eda1184e3",
     "locked": true,
     "points": 3,
     "schema_version": 3,
     "solution": false,
     "task": false
    }
   },
   "outputs": [],
   "source": [
    "#### Please do not change this. This cell is used for grading."
   ]
  },
  {
   "cell_type": "code",
   "execution_count": 54,
   "metadata": {
    "deletable": false,
    "editable": false,
    "nbgrader": {
     "cell_type": "code",
     "checksum": "b013f90974b396630a8831d6f1d7e5f7",
     "grade": true,
     "grade_id": "cell-a52310500a2543cb",
     "locked": true,
     "points": 4,
     "schema_version": 3,
     "solution": false,
     "task": false
    }
   },
   "outputs": [],
   "source": [
    "#### Please do not change this. This cell is used for grading."
   ]
  },
  {
   "cell_type": "markdown",
   "metadata": {
    "deletable": false,
    "editable": false,
    "nbgrader": {
     "cell_type": "markdown",
     "checksum": "8fcf67cb7d5e8b26cb9bf1f0aa42c847",
     "grade": false,
     "grade_id": "cell-8b2b412c81d62f2d",
     "locked": true,
     "schema_version": 3,
     "solution": false,
     "task": false
    }
   },
   "source": [
    "\n",
    "---\n",
    "\n",
    "### 3.5. Test Your Functions\n",
    "\n",
    "The widget below allows you to play with the search functions you've written so far. Use this to test your search functions and ensure that they work as expected."
   ]
  },
  {
   "cell_type": "code",
   "execution_count": 55,
   "metadata": {
    "deletable": false,
    "editable": false,
    "nbgrader": {
     "cell_type": "code",
     "checksum": "dfeb204b390acc0794dbdcac92b0cf2c",
     "grade": false,
     "grade_id": "cell-c9c2bb76354e8d97",
     "locked": true,
     "schema_version": 3,
     "solution": false,
     "task": false
    }
   },
   "outputs": [],
   "source": [
    "#### Highlighter function\n",
    "# class for results\n",
    "ResultRow = namedtuple(\"ResultRow\", [\"doc_id\", \"snippet\", \"score\"])\n",
    "# doc_id -> doc\n",
    "docs_by_id = dict((d[0], d[1]) for d in docs)\n",
    "\n",
    "def highlight_text(document, query, tol=17):\n",
    "    import re\n",
    "    tokens = tokenize(query)\n",
    "    regex = \"|\".join(f\"(\\\\b{t}\\\\b)\" for t in tokens)\n",
    "    regex = re.compile(regex, flags=re.IGNORECASE)\n",
    "    output = \"\"\n",
    "    i = 0\n",
    "    for m in regex.finditer(document):\n",
    "        start_idx = max(0, m.start() - tol)\n",
    "        end_idx = min(len(document), m.end() + tol)\n",
    "        output += \"\".join([\"...\",\n",
    "                        document[start_idx:m.start()],\n",
    "                        \"<strong>\",\n",
    "                        document[m.start():m.end()],\n",
    "                        \"</strong>\",\n",
    "                        document[m.end():end_idx],\n",
    "                        \"...\"])\n",
    "    return output.replace(\"\\n\", \" \")\n",
    "\n",
    "\n",
    "def make_results(query, search_fn, index_set):\n",
    "    results = []\n",
    "    for doc_id, score in search_fn(query, index_set):\n",
    "        highlight = highlight_text(docs_by_id[doc_id], query)\n",
    "        if len(highlight.strip()) == 0:\n",
    "            highlight = docs_by_id[doc_id]\n",
    "        results.append(ResultRow(doc_id, highlight, score))\n",
    "    return results\n",
    "####"
   ]
  },
  {
   "cell_type": "code",
   "execution_count": 56,
   "metadata": {},
   "outputs": [
    {
     "data": {
      "application/vnd.jupyter.widget-view+json": {
       "model_id": "9e9af5e2cba34df1869f7a7ad2876dfc",
       "version_major": 2,
       "version_minor": 0
      },
      "text/plain": [
       "Text(value='', description='Search Bar')"
      ]
     },
     "metadata": {},
     "output_type": "display_data"
    }
   ],
   "source": [
    "# TODO: Set this to the function you want to test!\n",
    "# this function should take in a query (string)\n",
    "# and return a sorted list of (doc_id, score) \n",
    "# with the most relevant document in the first position\n",
    "\n",
    "search_fn = bm25_search\n",
    "index_set = 1\n",
    "\n",
    "text = widgets.Text(description=\"Search Bar\", width=200)\n",
    "display(text)\n",
    "\n",
    "def handle_submit(sender):\n",
    "    print(f\"Searching for: '{sender.value}'\")\n",
    "    \n",
    "    results = make_results(sender.value, search_fn, index_set)\n",
    "    \n",
    "    # display only the top 5\n",
    "    results = results[:5]\n",
    "    \n",
    "    body = \"\"\n",
    "    for idx, r in enumerate(results):\n",
    "        body += f\"<li>Document #{r.doc_id}({r.score}): {r.snippet}</li>\"\n",
    "    display(HTML(f\"<ul>{body}</ul>\"))\n",
    "    \n",
    "\n",
    "text.on_submit(handle_submit)"
   ]
  },
  {
   "cell_type": "markdown",
   "metadata": {
    "deletable": false,
    "editable": false,
    "nbgrader": {
     "cell_type": "markdown",
     "checksum": "b315c280048a50e8bad7d6250f6f39d1",
     "grade": false,
     "grade_id": "cell-8d46fe8e4f3d8cdb",
     "locked": true,
     "schema_version": 3,
     "solution": false,
     "task": false
    }
   },
   "source": [
    "---\n",
    "\n",
    "## Section 4: Evaluation (40 points) <a class=\"anchor\" id=\"evaluation\"></a>\n",
    "\n",
    "[Back to Part 1](#part1)\n",
    "\n",
    "Before we jump in and implement an algorithm for retrieval, we first have to learn how to evaluate such a system. In particular, we will work with offline evaluation metrics. These metrics are computed on a dataset with known relevance judgements.\n",
    "\n",
    "Implement the following evaluation metrics. \n",
    "\n",
    "1. Precision (7 points)\n",
    "2. Recall (7 points)\n",
    "3. Mean Average Precision (12 points)\n",
    "4. Expected Reciprocal Rank (12 points)"
   ]
  },
  {
   "cell_type": "markdown",
   "metadata": {
    "deletable": false,
    "editable": false,
    "nbgrader": {
     "cell_type": "markdown",
     "checksum": "82e90076c51893e31fec5c40c49d1828",
     "grade": false,
     "grade_id": "cell-3419fd3bc663d7cc",
     "locked": true,
     "schema_version": 3,
     "solution": false,
     "task": false
    }
   },
   "source": [
    "---\n",
    "### 4.1 Read relevance labels (2 points)\n",
    "\n",
    "Let's take a look at the `qrels.text` file, which contains the ground truth relevance scores. The relevance labels for CACM are binary - either 0 or 1. \n"
   ]
  },
  {
   "cell_type": "code",
   "execution_count": 57,
   "metadata": {
    "deletable": false,
    "editable": false,
    "nbgrader": {
     "cell_type": "code",
     "checksum": "6c11025f5a222796f2882c73c1634799",
     "grade": false,
     "grade_id": "cell-6b738366059dde9e",
     "locked": true,
     "schema_version": 3,
     "solution": false,
     "task": false
    }
   },
   "outputs": [
    {
     "name": "stdout",
     "output_type": "stream",
     "text": [
      "01 1410  0 0\r\n",
      "01 1572  0 0\r\n",
      "01 1605  0 0\r\n",
      "01 2020  0 0\r\n",
      "01 2358  0 0\r\n",
      "02 2434  0 0\r\n",
      "02 2863  0 0\r\n",
      "02 3078  0 0\r\n",
      "03 1134  0 0\r\n",
      "03 1613  0 0\r\n"
     ]
    }
   ],
   "source": [
    "!head ./datasets/qrels.text"
   ]
  },
  {
   "cell_type": "markdown",
   "metadata": {
    "deletable": false,
    "editable": false,
    "nbgrader": {
     "cell_type": "markdown",
     "checksum": "e77d7cc6aae69fdbadb5ac9f78f8a560",
     "grade": false,
     "grade_id": "cell-10e16bff2753ffbb",
     "locked": true,
     "schema_version": 3,
     "solution": false,
     "task": false
    }
   },
   "source": [
    "---\n",
    "**Implementation (2 points):**\n",
    "The first column is the query_id and the second column is the document_id. You can safely ignore the 3rd and 4th columns. Write a function to read in the file:"
   ]
  },
  {
   "cell_type": "code",
   "execution_count": 58,
   "metadata": {
    "deletable": false,
    "nbgrader": {
     "cell_type": "code",
     "checksum": "ef347565a0990ddbd049835105753d59",
     "grade": false,
     "grade_id": "cell-ee5253a4ef602fce",
     "locked": false,
     "schema_version": 3,
     "solution": true,
     "task": false
    }
   },
   "outputs": [],
   "source": [
    "# TODO: Implement this! (2 points)\n",
    "def read_qrels(root_folder = \"./datasets/\"):\n",
    "    \"\"\"\n",
    "        Reads the qrels.text file. \n",
    "        Output: A dictionary: query_id -> [list of relevant documents]\n",
    "    \"\"\"\n",
    "    # YOUR CODE HERE\n",
    "    \n",
    "    path = root_folder + \"qrels.text\"\n",
    "    queries = {}\n",
    "    \n",
    "    # Open and split document into lines\n",
    "    with open(path, 'r') as file:\n",
    "        q_list = file.read().splitlines()\n",
    "    \n",
    "    # Save each query and add relevant documents\n",
    "    for q in q_list:\n",
    "        query_id, document_id, _, _ = [int(i) for i in q.split()]\n",
    "        if query_id not in queries:\n",
    "            queries[query_id] = []\n",
    "        queries[query_id].append(document_id)\n",
    "    \n",
    "    return queries"
   ]
  },
  {
   "cell_type": "code",
   "execution_count": 59,
   "metadata": {
    "deletable": false,
    "editable": false,
    "nbgrader": {
     "cell_type": "code",
     "checksum": "6a258a834392cc8cbf8af5d4ccdee81f",
     "grade": true,
     "grade_id": "cell-72215605fbe24f65",
     "locked": true,
     "points": 2,
     "schema_version": 3,
     "solution": false,
     "task": false
    }
   },
   "outputs": [],
   "source": [
    "#### Function check\n",
    "qrels = read_qrels()\n",
    "\n",
    "assert len(qrels) == 52, \"There should be 52 queries with relevance judgements\"\n",
    "assert sum(len(j) for j in qrels.values()) == 796, \"There should be a total of 796 Relevance Judgements\"\n",
    "####"
   ]
  },
  {
   "cell_type": "markdown",
   "metadata": {
    "deletable": false,
    "editable": false,
    "nbgrader": {
     "cell_type": "markdown",
     "checksum": "6c9e7428a52e291a2cdf92a379730d4c",
     "grade": false,
     "grade_id": "cell-176a6fb2939d0420",
     "locked": true,
     "schema_version": 3,
     "solution": false,
     "task": false
    }
   },
   "source": [
    "---\n",
    "**Note:** For a given query `query_id`, you can assume that documents *not* in `qrels[query_id]` are not relevant to `query_id`. \n"
   ]
  },
  {
   "cell_type": "markdown",
   "metadata": {
    "deletable": false,
    "editable": false,
    "nbgrader": {
     "cell_type": "markdown",
     "checksum": "b26a818c7b4f7ad490e00b35ea0edd69",
     "grade": false,
     "grade_id": "cell-bd8341b72cdd89bb",
     "locked": true,
     "schema_version": 3,
     "solution": false,
     "task": false
    }
   },
   "source": [
    "---\n",
    "### 4.2 Precision (7 points)\n",
    "Implement the `precision@k` metric:"
   ]
  },
  {
   "cell_type": "code",
   "execution_count": 60,
   "metadata": {
    "deletable": false,
    "nbgrader": {
     "cell_type": "code",
     "checksum": "ad3cc3234a361d269ecb6b59cc447e9f",
     "grade": false,
     "grade_id": "cell-494bd0cce108ed67",
     "locked": false,
     "schema_version": 3,
     "solution": true,
     "task": false
    }
   },
   "outputs": [],
   "source": [
    "# TODO: Implement this! (7 points)\n",
    "def precision_k(results, relevant_docs, k):\n",
    "    \"\"\"\n",
    "        Compute Precision@K\n",
    "        Input: \n",
    "            results: A sorted list of 2-tuples (document_id, score), \n",
    "                    with the most relevant document in the first position\n",
    "            relevant_docs: A set of relevant documents. \n",
    "            k: the cut-off\n",
    "        Output: Precision@K\n",
    "    \"\"\"\n",
    "    # YOUR CODE HERE\n",
    "    \n",
    "    results = set([d[0] for d in results[:k]])\n",
    "    relevant_docs = set(relevant_docs)\n",
    "    TP = relevant_docs.intersection(results)\n",
    "    return len(TP) / k"
   ]
  },
  {
   "cell_type": "code",
   "execution_count": 61,
   "metadata": {
    "deletable": false,
    "editable": false,
    "nbgrader": {
     "cell_type": "code",
     "checksum": "964b214dbfff8fc53cada864019ee863",
     "grade": true,
     "grade_id": "cell-e7ff0d91c319ca64",
     "locked": true,
     "points": 7,
     "schema_version": 3,
     "solution": false,
     "task": false
    }
   },
   "outputs": [
    {
     "name": "stdout",
     "output_type": "stream",
     "text": [
      "query: What articles exist which deal with TSS (Time Sharing System), an operating system for IBM computers?\n",
      "precision@10 = 0.2\n"
     ]
    }
   ],
   "source": [
    "#### Function check\n",
    "qid = queries[0][0]\n",
    "qtext = queries[0][1]\n",
    "print(f'query:{qtext}')\n",
    "results = bm25_search(qtext, 2)\n",
    "precision = precision_k(results, qrels[qid], 10)\n",
    "print(f'precision@10 = {precision}')\n",
    "####"
   ]
  },
  {
   "cell_type": "markdown",
   "metadata": {
    "deletable": false,
    "editable": false,
    "nbgrader": {
     "cell_type": "markdown",
     "checksum": "8fd3b3998197c7097a40348500affb68",
     "grade": false,
     "grade_id": "cell-afd95f865bc7191e",
     "locked": true,
     "schema_version": 3,
     "solution": false,
     "task": false
    }
   },
   "source": [
    "---\n",
    "### 4.3 Recall (7 points)\n",
    "Implement the `recall@k` metric:"
   ]
  },
  {
   "cell_type": "code",
   "execution_count": 62,
   "metadata": {
    "deletable": false,
    "nbgrader": {
     "cell_type": "code",
     "checksum": "b2020e5741ae03b3fe35817ed8f4ccaa",
     "grade": false,
     "grade_id": "cell-c323fc8c3f8a7cf8",
     "locked": false,
     "schema_version": 3,
     "solution": true,
     "task": false
    }
   },
   "outputs": [],
   "source": [
    "# TODO: Implement this! (7 points)\n",
    "def recall_k(results, relevant_docs, k):\n",
    "    \"\"\"\n",
    "        Compute Recall@K\n",
    "        Input: \n",
    "            results: A sorted list of 2-tuples (document_id, score), with the most relevant document in the first position\n",
    "            relevant_docs: A set of relevant documents. \n",
    "            k: the cut-off\n",
    "        Output: Recall@K\n",
    "    \"\"\"\n",
    "    # YOUR CODE HERE\n",
    "    results = set([d[0] for d in results[:k]])\n",
    "    relevant_docs = set(relevant_docs)\n",
    "    TP = relevant_docs.intersection(results)\n",
    "    return len(TP) / len(relevant_docs)"
   ]
  },
  {
   "cell_type": "code",
   "execution_count": 63,
   "metadata": {
    "deletable": false,
    "editable": false,
    "nbgrader": {
     "cell_type": "code",
     "checksum": "56b6e0b8522f8b2dffbfb3206b2efa84",
     "grade": true,
     "grade_id": "cell-b25172161aef165c",
     "locked": true,
     "points": 7,
     "schema_version": 3,
     "solution": false,
     "task": false
    }
   },
   "outputs": [
    {
     "name": "stdout",
     "output_type": "stream",
     "text": [
      "query: SETL, Very High Level Languages\n",
      "recall@10 = 0.3157894736842105\n"
     ]
    }
   ],
   "source": [
    "#### Function check\n",
    "qid = queries[10][0]\n",
    "qtext = queries[10][1]\n",
    "print(f'query:{qtext}')\n",
    "results = bm25_search(qtext, 2)\n",
    "recall = recall_k(results, qrels[qid], 10)\n",
    "print(f'recall@10 = {recall}')\n",
    "####"
   ]
  },
  {
   "cell_type": "markdown",
   "metadata": {
    "deletable": false,
    "editable": false,
    "nbgrader": {
     "cell_type": "markdown",
     "checksum": "d43c63fa38f333e0b52d41639b2655f7",
     "grade": false,
     "grade_id": "cell-77fd2e7a39a74739",
     "locked": true,
     "schema_version": 3,
     "solution": false,
     "task": false
    }
   },
   "source": [
    "---\n",
    "### 4.4 Mean Average Precision (12 points)\n",
    "Implement the `map` metric:"
   ]
  },
  {
   "cell_type": "code",
   "execution_count": 64,
   "metadata": {
    "deletable": false,
    "nbgrader": {
     "cell_type": "code",
     "checksum": "aae2c62f2ffd76f5b6c004e9519b9f14",
     "grade": false,
     "grade_id": "cell-e50925fa9093a30d",
     "locked": false,
     "schema_version": 3,
     "solution": true,
     "task": false
    }
   },
   "outputs": [],
   "source": [
    "# TODO: Implement this! (12 points)\n",
    "def average_precision(results, relevant_docs):\n",
    "    \"\"\"\n",
    "        Compute Average Precision (for a single query - the results are \n",
    "        averaged across queries to get MAP in the next few cells)\n",
    "        Hint: You can use the recall_k and precision_k functions here!\n",
    "        Input: \n",
    "            results: A sorted list of 2-tuples (document_id, score), with the most \n",
    "                    relevant document in the first position\n",
    "            relevant_docs: A set of relevant documents. \n",
    "        Output: Average Precision\n",
    "    \"\"\"\n",
    "    # YOUR CODE HERE\n",
    "    \n",
    "    ap = 0\n",
    "    found = 0\n",
    "    for i in range(len(results)):\n",
    "        # Compute precisions at relevant documents\n",
    "        if results[i][0] in relevant_docs:\n",
    "            ap += precision_k(results, relevant_docs, i+1)\n",
    "            found += 1\n",
    "        # Stop early in case we already found all relevant documents\n",
    "        if found > len(relevant_docs):\n",
    "            break\n",
    "\n",
    "    return ap / len(relevant_docs)"
   ]
  },
  {
   "cell_type": "code",
   "execution_count": 65,
   "metadata": {
    "deletable": false,
    "editable": false,
    "nbgrader": {
     "cell_type": "code",
     "checksum": "5db8cb2dfd3a77554f4147b409f47f38",
     "grade": true,
     "grade_id": "cell-8a1f7ec98571e58b",
     "locked": true,
     "points": 12,
     "schema_version": 3,
     "solution": false,
     "task": false
    }
   },
   "outputs": [
    {
     "name": "stdout",
     "output_type": "stream",
     "text": [
      "query: computational complexity, intractability, class-complete reductions, algorithms and efficiency\n",
      "MAP = 0.17269233631989397\n"
     ]
    }
   ],
   "source": [
    "#### Function check\n",
    "qid = queries[20][0]\n",
    "qtext = queries[20][1]\n",
    "print(f'query:{qtext}')\n",
    "results = bm25_search(qtext, 2)\n",
    "mean_ap = average_precision(results, qrels[qid])\n",
    "print(f'MAP = {mean_ap}')\n",
    "####"
   ]
  },
  {
   "cell_type": "markdown",
   "metadata": {
    "deletable": false,
    "editable": false,
    "nbgrader": {
     "cell_type": "markdown",
     "checksum": "cb645b79d04cc3eed33ca060a5e7bf0f",
     "grade": false,
     "grade_id": "cell-1da18f0fe6f6d7be",
     "locked": true,
     "schema_version": 3,
     "solution": false,
     "task": false
    }
   },
   "source": [
    "---\n",
    "### 4.5 Expected Reciprocal Rank (12 points)\n",
    "Implement the `err` metric:"
   ]
  },
  {
   "cell_type": "code",
   "execution_count": 66,
   "metadata": {
    "deletable": false,
    "nbgrader": {
     "cell_type": "code",
     "checksum": "9ac94db728e23ea1f5dc0d509473c6fb",
     "grade": false,
     "grade_id": "cell-64262889f9b267ea",
     "locked": false,
     "schema_version": 3,
     "solution": true,
     "task": false
    }
   },
   "outputs": [],
   "source": [
    "# TODO: Implement this! (12 points)\n",
    "def err(results, relevant_docs):\n",
    "    \"\"\"\n",
    "        Compute the expected reciprocal rank.\n",
    "        Hint: https://dl.acm.org/doi/pdf/10.1145/1645953.1646033?download=true\n",
    "        Input: \n",
    "            results: A sorted list of 2-tuples (document_id, score), with the most \n",
    "                    relevant document in the first position\n",
    "            relevant_docs: A set of relevant documents. \n",
    "        Output: ERR\n",
    "        \n",
    "    \"\"\"\n",
    "    # YOUR CODE HERE\n",
    "    \n",
    "    ERR = 0\n",
    "    # Relevance probabilities are constant because of binary grading\n",
    "    # 0.5 for relevant documents and 0 for non-relevant ones\n",
    "    rel_prob = 0.5\n",
    "    rel_count = 0\n",
    "    for r in range(len(results)):\n",
    "        doc_id = results[r][0]\n",
    "        # We only have to compute for relevant documents as\n",
    "        # non-relevant documents zero out the product\n",
    "        if doc_id in relevant_docs:\n",
    "            rel_count += 1\n",
    "            # (1-0) = 1, so non-relevant documents don't matter\n",
    "            # (1-0.5) = 0.5, so all relevant documents worth the same as the r-th one\n",
    "            ERR += np.power(rel_prob, rel_count) / (r+1)\n",
    "        \n",
    "    return ERR"
   ]
  },
  {
   "cell_type": "code",
   "execution_count": 67,
   "metadata": {
    "deletable": false,
    "editable": false,
    "nbgrader": {
     "cell_type": "code",
     "checksum": "eb97e6d89a0b992b642e4e0ff36ff9f5",
     "grade": true,
     "grade_id": "cell-071e3970ff1afae4",
     "locked": true,
     "points": 12,
     "schema_version": 3,
     "solution": false,
     "task": false
    }
   },
   "outputs": [
    {
     "name": "stdout",
     "output_type": "stream",
     "text": [
      "query: I'd like to find articles describing the use of singular value decomposition in digital image processing.  Applications include finding approximations to the original image and restoring images that are subject to noise. An article on the subject is H.C. Andrews and C.L. Patterson \"Outer product expansions and their uses in digital image processing\", American Mathematical Monthly, vol. 82.\n",
      "ERR = 0.625\n"
     ]
    }
   ],
   "source": [
    "#### Function check\n",
    "qid = queries[30][0]\n",
    "qtext = queries[30][1]\n",
    "print(f'query:{qtext}')\n",
    "results = bm25_search(qtext, 2)\n",
    "ERR = err(results, qrels[qid])\n",
    "print(f'ERR = {ERR}')\n",
    "####"
   ]
  },
  {
   "cell_type": "markdown",
   "metadata": {
    "deletable": false,
    "editable": false,
    "nbgrader": {
     "cell_type": "markdown",
     "checksum": "5bd94caf77cfa5f34675df758d91002d",
     "grade": false,
     "grade_id": "cell-43709a765f353946",
     "locked": true,
     "schema_version": 3,
     "solution": false,
     "task": false
    }
   },
   "source": [
    "---\n",
    "### 4.6 Evaluate Search Functions\n",
    "\n",
    "Let's define some metrics@k using [partial functions](https://docs.python.org/3/library/functools.html#functools.partial)"
   ]
  },
  {
   "cell_type": "code",
   "execution_count": 68,
   "metadata": {
    "deletable": false,
    "editable": false,
    "nbgrader": {
     "cell_type": "code",
     "checksum": "49ccc158e5fb7340ace55e90eeb9d62a",
     "grade": false,
     "grade_id": "cell-dab560e18e340da8",
     "locked": true,
     "schema_version": 3,
     "solution": false,
     "task": false
    }
   },
   "outputs": [],
   "source": [
    "#### metrics@k functions\n",
    "\n",
    "recall_at_1 = partial(recall_k, k=1)\n",
    "recall_at_5 = partial(recall_k, k=5)\n",
    "recall_at_10 = partial(recall_k, k=10)\n",
    "precision_at_1 = partial(precision_k, k=1)\n",
    "precision_at_5 = partial(precision_k, k=5)\n",
    "precision_at_10 = partial(precision_k, k=10)\n",
    "\n",
    "\n",
    "list_of_metrics = [\n",
    "    (\"ERR\", err),\n",
    "    (\"MAP\", average_precision),\n",
    "    (\"Recall@1\",recall_at_1),\n",
    "    (\"Recall@5\", recall_at_5),\n",
    "    (\"Recall@10\", recall_at_10),\n",
    "    (\"Precision@1\", precision_at_1),\n",
    "    (\"Precision@5\", precision_at_5),\n",
    "    (\"Precision@10\", precision_at_10)]\n",
    "####"
   ]
  },
  {
   "cell_type": "markdown",
   "metadata": {
    "deletable": false,
    "editable": false,
    "nbgrader": {
     "cell_type": "markdown",
     "checksum": "fb541002c03221b453b8936290020ea5",
     "grade": false,
     "grade_id": "cell-580a2bdc66d03b47",
     "locked": true,
     "schema_version": 3,
     "solution": false,
     "task": false
    }
   },
   "source": [
    "---\n",
    "\n",
    "The following function evaluates a `search_fn` using the `metric_fn`. Note that the final number is averaged over all the queries"
   ]
  },
  {
   "cell_type": "code",
   "execution_count": 69,
   "metadata": {},
   "outputs": [],
   "source": [
    "#### Evaluate a search function\n",
    "\n",
    "list_of_search_fns = [\n",
    "    (\"BOW\", bow_search),\n",
    "    (\"TF-IDF\", tfidf_search),\n",
    "    (\"NaiveQL\", naive_ql_search),\n",
    "    (\"QL\", ql_search),\n",
    "    (\"BM25\", bm25_search)\n",
    "]\n",
    "\n",
    "def evaluate_search_fn(search_fn, metric_fns, index_set=None):\n",
    "    # build a dict query_id -> query \n",
    "    queries_by_id = dict((q[0], q[1]) for q in queries)\n",
    "    \n",
    "    metrics = {}\n",
    "    for metric, metric_fn in metric_fns:\n",
    "        metrics[metric] = np.zeros(len(qrels), dtype=np.float32)\n",
    "    \n",
    "    for i, (query_id, relevant_docs) in enumerate(qrels.items()):\n",
    "        query = queries_by_id[query_id]\n",
    "        if index_set:\n",
    "            results = search_fn(query, index_set)\n",
    "        else:\n",
    "            results = search_fn(query)\n",
    "        \n",
    "        for metric, metric_fn in metric_fns:\n",
    "            metrics[metric][i] = metric_fn(results, relevant_docs)\n",
    "\n",
    "    \n",
    "    \n",
    "    final_dict = {}\n",
    "    for metric, metric_vals in metrics.items():\n",
    "        final_dict[metric] = metric_vals.mean()\n",
    "    \n",
    "    return final_dict\n",
    "####"
   ]
  },
  {
   "cell_type": "markdown",
   "metadata": {
    "deletable": false,
    "editable": false,
    "nbgrader": {
     "cell_type": "markdown",
     "checksum": "6ea67534f74a8f81e1f504794f641709",
     "grade": false,
     "grade_id": "cell-b156d83a0649cbb4",
     "locked": true,
     "schema_version": 3,
     "solution": false,
     "task": false
    }
   },
   "source": [
    "## Section 5: Analysis (30 points) <a class=\"anchor\" id=\"analysis\"></a>\n",
    "\n",
    "[Back to Part 1](#part1)\n",
    "\n",
    "In the final section of Part1, we will compare the different term-based IR algorithms and different preprocessing configurations and analyze their advantages and disadvantages.\n",
    "\n",
    "### Section 5.1: Plot (20 points)\n",
    "\n",
    "First, gather the results. The results should consider the index set, the different search functions and different metrics. Plot the results in bar charts, per metric, with clear labels.\n",
    "\n",
    "**Rubric:**\n",
    "- Each Metric is plotted: 7 points\n",
    "- Each Method is plotted: 7 points\n",
    "- Clear titles, x label, y labels and legends (if applicable): 6 points"
   ]
  },
  {
   "cell_type": "code",
   "execution_count": 70,
   "metadata": {
    "deletable": false,
    "nbgrader": {
     "cell_type": "code",
     "checksum": "7e2588a925d13ddf588abe8311dc9cfc",
     "grade": true,
     "grade_id": "cell-46fda42a25863a04",
     "locked": false,
     "points": 20,
     "schema_version": 3,
     "solution": true,
     "task": false
    }
   },
   "outputs": [
    {
     "name": "stdout",
     "output_type": "stream",
     "text": [
      "         Index set 1  Index set 2\n",
      "BOW         0.055475     0.120442\n",
      "TF-IDF      0.189744     0.269149\n",
      "NaiveQL     0.102295     0.108131\n",
      "QL          0.320367     0.408339\n",
      "BM25        0.380782     0.442712\n"
     ]
    },
    {
     "data": {
      "image/png": "[encoded data removed]",
      "text/plain": [
       "<Figure size 432x288 with 1 Axes>"
      ]
     },
     "metadata": {
      "needs_background": "light"
     },
     "output_type": "display_data"
    },
    {
     "name": "stdout",
     "output_type": "stream",
     "text": [
      "         Index set 1  Index set 2\n",
      "BOW         0.032845     0.069022\n",
      "TF-IDF      0.108298     0.172518\n",
      "NaiveQL     0.041678     0.054491\n",
      "QL          0.174406     0.254297\n",
      "BM25        0.233005     0.320626\n"
     ]
    },
    {
     "data": {
      "image/png": "[encoded data removed]",
      "text/plain": [
       "<Figure size 432x288 with 1 Axes>"
      ]
     },
     "metadata": {
      "needs_background": "light"
     },
     "output_type": "display_data"
    },
    {
     "name": "stdout",
     "output_type": "stream",
     "text": [
      "         Index set 1  Index set 2\n",
      "BOW         0.002710     0.009497\n",
      "TF-IDF      0.038168     0.060249\n",
      "NaiveQL     0.007202     0.009042\n",
      "QL          0.052482     0.067131\n",
      "BM25        0.065026     0.107716\n"
     ]
    },
    {
     "data": {
      "image/png": "[encoded data removed]",
      "text/plain": [
       "<Figure size 432x288 with 1 Axes>"
      ]
     },
     "metadata": {
      "needs_background": "light"
     },
     "output_type": "display_data"
    },
    {
     "name": "stdout",
     "output_type": "stream",
     "text": [
      "         Index set 1  Index set 2\n",
      "BOW         0.032128     0.046550\n",
      "TF-IDF      0.080765     0.122435\n",
      "NaiveQL     0.024350     0.027309\n",
      "QL          0.153379     0.192299\n",
      "BM25        0.193412     0.241670\n"
     ]
    },
    {
     "data": {
      "image/png": "[encoded data removed]",
      "text/plain": [
       "<Figure size 432x288 with 1 Axes>"
      ]
     },
     "metadata": {
      "needs_background": "light"
     },
     "output_type": "display_data"
    },
    {
     "name": "stdout",
     "output_type": "stream",
     "text": [
      "         Index set 1  Index set 2\n",
      "BOW         0.039613     0.082291\n",
      "TF-IDF      0.134988     0.195921\n",
      "NaiveQL     0.043045     0.040571\n",
      "QL          0.206444     0.271161\n",
      "BM25        0.294503     0.322856\n"
     ]
    },
    {
     "data": {
      "image/png": "[encoded data removed]",
      "text/plain": [
       "<Figure size 432x288 with 1 Axes>"
      ]
     },
     "metadata": {
      "needs_background": "light"
     },
     "output_type": "display_data"
    },
    {
     "name": "stdout",
     "output_type": "stream",
     "text": [
      "         Index set 1  Index set 2\n",
      "BOW         0.038462     0.076923\n",
      "TF-IDF      0.230769     0.307692\n",
      "NaiveQL     0.096154     0.115385\n",
      "QL          0.384615     0.538462\n",
      "BM25        0.461538     0.557692\n"
     ]
    },
    {
     "data": {
      "image/png": "[encoded data removed]",
      "text/plain": [
       "<Figure size 432x288 with 1 Axes>"
      ]
     },
     "metadata": {
      "needs_background": "light"
     },
     "output_type": "display_data"
    },
    {
     "name": "stdout",
     "output_type": "stream",
     "text": [
      "         Index set 1  Index set 2\n",
      "BOW         0.034615     0.080769\n",
      "TF-IDF      0.119231     0.196154\n",
      "NaiveQL     0.080769     0.096154\n",
      "QL          0.257692     0.373077\n",
      "BM25        0.300000     0.419231\n"
     ]
    },
    {
     "data": {
      "image/png": "[encoded data removed]",
      "text/plain": [
       "<Figure size 432x288 with 1 Axes>"
      ]
     },
     "metadata": {
      "needs_background": "light"
     },
     "output_type": "display_data"
    },
    {
     "name": "stdout",
     "output_type": "stream",
     "text": [
      "         Index set 1  Index set 2\n",
      "BOW         0.028846     0.075000\n",
      "TF-IDF      0.121154     0.161538\n",
      "NaiveQL     0.067308     0.082692\n",
      "QL          0.196154     0.300000\n",
      "BM25        0.251923     0.328846\n"
     ]
    },
    {
     "data": {
      "image/png": "[encoded data removed]",
      "text/plain": [
       "<Figure size 432x288 with 1 Axes>"
      ]
     },
     "metadata": {
      "needs_background": "light"
     },
     "output_type": "display_data"
    }
   ],
   "source": [
    "# YOUR CODE HERE\n",
    "\n",
    "import pandas as pd\n",
    "\n",
    "ERR=[]\n",
    "MAP=[]\n",
    "RECALL1=[]\n",
    "RECALL5=[]\n",
    "RECALL10=[]\n",
    "PRECISION1=[]\n",
    "PRECISION5=[]\n",
    "PRECISION10=[]\n",
    "\n",
    "for i in {1,2}:\n",
    "    \n",
    "    for method in list_of_search_fns:\n",
    "        \n",
    "        evaluation = evaluate_search_fn(method[1], list_of_metrics, index_set=i)\n",
    "\n",
    "        ERR.append(evaluation['ERR'])\n",
    "        MAP.append(evaluation['MAP'])\n",
    "        RECALL1.append(evaluation['Recall@1'])\n",
    "        RECALL5.append(evaluation['Recall@5'])\n",
    "        RECALL10.append(evaluation['Recall@10'])\n",
    "        PRECISION1.append(evaluation['Precision@1'])\n",
    "        PRECISION5.append(evaluation['Precision@5'])\n",
    "        PRECISION10.append(evaluation['Precision@10'])\n",
    "\n",
    "metrics=[ERR, MAP,  RECALL1,  RECALL5,  RECALL10,  PRECISION1,  PRECISION5,  PRECISION10]\n",
    "str_metrics = [\"ERR\",\"MAP\", \"RECALL@1\", \"RECALL@5\", \"RECALL@10\", \"PRECISION@1\", \"PRECISION@5\", \"PRECISION@10\"]    \n",
    "\n",
    "\n",
    "index = [\"BOW\",\"TF-IDF\",\"NaiveQL\", \"QL\",\"BM25\"]\n",
    "xlabel = \"Methods\"\n",
    "ylabel = \"Metric value (in decimals)\"\n",
    "\n",
    "for i, metric in enumerate(metrics):\n",
    "\n",
    "    plotdata = pd.DataFrame({\n",
    "    \"Index set 1\": metric[0:5],\n",
    "    \"Index set 2\": metric[5:10]\n",
    "    }, \n",
    "    index=index\n",
    "    )\n",
    "    print(plotdata)\n",
    "    plotdata.plot(kind=\"bar\")\n",
    "    plt.title(str_metrics[i])\n",
    "    plt.xlabel(xlabel)\n",
    "    plt.ylabel(ylabel)\n",
    "    plt.show()"
   ]
  },
  {
   "cell_type": "markdown",
   "metadata": {
    "deletable": false,
    "editable": false,
    "nbgrader": {
     "cell_type": "markdown",
     "checksum": "e88c444a0acf4e398c65e289169b75f7",
     "grade": false,
     "grade_id": "cell-8aabe3bcf265deb0",
     "locked": true,
     "points": 10,
     "schema_version": 3,
     "solution": false,
     "task": true
    }
   },
   "source": [
    "---\n",
    "### Section 5.2: Summary (10 points)\n",
    "Write a summary of what you observe in the results.\n",
    "Your summary should compare results across the 2 indices and the methods being used. State what you expected to see in the results, followed by either supporting evidence *or* justify why the results did not support your expectations.      "
   ]
  },
  {
   "cell_type": "markdown",
   "metadata": {},
   "source": [
    "In general, we expect index set 1 to have significant lower probability scores than index set 2 since the text in index set 1 (except from tokenization) has not been pre-processed. Pre-processing involved converting terms to their stems (stemming) and removing stop words which allows methods to perform better. This belief is supported by our results, that show that for every method and metric, index 2 performs significantly better. All scores mentioned below are therefore based on index set 2.\n",
    "\n",
    "We expected Bag of Words (**BOW**) to obtain low scores for the evaluation metrics as this algorithm only takes term frequency (*TF*) into account. However, if a term occurs in a lot of documents, it’s not representative. **TF-IDF**, takes this in consideration by multiplying the term frequency in a document with the inverse document frequency (*IDF*) function, which measures how rare the term is over all documents. Hence this  evaluation scores relatively higher. This claim is supported by the plots in which **TF-IDF** obtaines higher scores compared to **BOW**.\n",
    "\n",
    "In contrast, Naïve Query Likelihood (**naïve QL**) is likely to be lower in comparison to **BOW** and **TF-IDF**, since all documents that not contain *all* terms of the query are discarded with a score of zero which results in a highly skewed ranking of the documents. Alternatively, Query Likelihood (**QL**) solves this problem by taking the term frequency in the *whole* collection, referred to as collection frequency, into account. Moreover, **QL** makes use of smoothing, where a correct setting of the smoothing constant ($\\lambda$) is crucial. Namely, a high value of $\\lambda$ is suitable for shorther queries as a larger value tends to retrieve documents that contain *all* query words, while a low value of $\\lambda$ is suitable for long queries. Since **QL** tends to perform better due to the smoothing, the values of the evaluation metrics will be higher then the scores for **naïve QL**. In addition, it is likely that  **QL** will perform better in comparison to **BOW** and **TF-IDF** as the latter is mathematically equivalent to **QL**, but **QL** incorporates smoothing. This hypothesis is supported by the results, as **BOW**, **TF-IDF** and **naïve QL** have significantly lower scores - 0.05, 0.12 and 0.03 respectively for recall@5 - compared to **QL** which has a score of 0.19 for recall@5. Moreover, also the precision of **QL** (0.37 for precision@5) is way higher compared to the precision of **BOW, TF-IDF** and **naïve QL** which obtained a precision of 0.08, 0.20 and 0.1 for precision@5 respectively.\n",
    "\n",
    "Similar to **TF-IDF**, the method **BM25** (BM stands for Best Match) measures the rareness of term frequency with *IDF*. The difference is that **BM25** controls the contribution of *TF* to the score to minimize the impact of more term occurrences to the score. Essentially, BM25 improves the scoring and will have a significant higher evaluation in comparison. This claim is justified by the results, as the **BM25** metrics show scores $> 0.3$ for recall@10 and $> 0.5$ for precision@1. In comparison, the second highest metric probability for **QL** is 0.27 for recall@10 and this is followed by **TF-IDF** which obtained a score of 0.20 for recall@10."
   ]
  },
  {
   "cell_type": "markdown",
   "metadata": {
    "deletable": false,
    "editable": false,
    "nbgrader": {
     "cell_type": "markdown",
     "checksum": "b3eb77be74eecca205fc7b47316d1627",
     "grade": false,
     "grade_id": "cell-bb60dd5c092d0f2e",
     "locked": true,
     "schema_version": 3,
     "solution": false,
     "task": false
    }
   },
   "source": [
    "---\n",
    "---\n",
    "# Part 2: Semantic-based Matching (85 points) <a class=\"anchor\" id=\"part2\"></a>\n",
    "\n",
    "[Back to top](#top)\n",
    "\n",
    "We will now experiment with methods that go beyond lexical methods like TF-IDF, which operate at the word level and are high dimensional and sparse, and look at methods which constructs low dimensional dense representations of queries and documents. \n",
    "\n",
    "Since these low-dimensional methods have a higher time complexity, they are typically used in conjunction with methods like BM-25. That is, instead of searching through potentially million documents to find matches using low dimensional vectors, a list of K documents are retrieved using BM25, and then **re-ranked** using the other method. This is the method that is going to be applied in the following exercises. \n",
    "\n",
    "LSI/LDA takes documents that are similar on a semantic level - for instance, if they are describing the same topic - and projects them into nearby vectors, despite having low lexical overlap.\n",
    "\n",
    "In this assignment, you will use `gensim` to create LSI/LDA models and use them in re-ranking. \n",
    "\n",
    "**Note**: The following exercises only uses `doc_repr_2` and `config_2`\n",
    "\n",
    "Table of contents:\n",
    "- [Section 6: LSI](#lsi) (15 points)\n",
    "- [Section 7: LDA](#lda) (10 points)\n",
    "- [Section 8: Word2Vec/Doc2Vec](#2vec) (20 points)\n",
    "- [Section 8: Re-ranking](#reranking) (10 points)\n",
    "- [Section 9: Re-ranking Evaluation](#reranking_eval) (30 points)"
   ]
  },
  {
   "cell_type": "markdown",
   "metadata": {
    "deletable": false,
    "editable": false,
    "nbgrader": {
     "cell_type": "markdown",
     "checksum": "f7c7b2cab82f576ed0acf836ca57171c",
     "grade": false,
     "grade_id": "cell-6b2c81e7a8abd180",
     "locked": true,
     "schema_version": 3,
     "solution": false,
     "task": false
    }
   },
   "source": [
    "---\n",
    "## Section 6: Latent Semantic Indexing (LSI) (15 points) <a class=\"anchor\" id=\"lsi\"></a>\n",
    "\n",
    "[Back to Part 2](#part2)\n",
    "\n",
    "LSI is one of the methods to embed the queries and documents into vectors. It is based on a method similar to Principal Component Analysis (PCA) for obtaining a dense concept matrix out of the sparse term-document matrix.\n",
    "\n",
    "See [wikipedia](https://en.wikipedia.org/wiki/Latent_semantic_analysis), particularly [#Mathematics_of_LSI](https://en.wikipedia.org/wiki/Latent_semantic_analysis#Mathematics_of_LSI)."
   ]
  },
  {
   "cell_type": "code",
   "execution_count": 71,
   "metadata": {
    "deletable": false,
    "editable": false,
    "nbgrader": {
     "cell_type": "code",
     "checksum": "c17ee75319cb517e2bf48ec3d9efc329",
     "grade": false,
     "grade_id": "cell-59913daee47f680d",
     "locked": true,
     "schema_version": 3,
     "solution": false,
     "task": false
    }
   },
   "outputs": [],
   "source": [
    "from gensim.corpora import Dictionary\n",
    "from gensim.models import LdaModel, LsiModel, Word2Vec\n",
    "from gensim.models.doc2vec import Doc2Vec, TaggedDocument\n",
    "from gensim import downloader as g_downloader\n",
    "# gensim uses logging, so set it up \n",
    "import logging\n",
    "logging.basicConfig(format='%(asctime)s : %(levelname)s : %(message)s', level=logging.INFO)"
   ]
  },
  {
   "cell_type": "markdown",
   "metadata": {
    "deletable": false,
    "editable": false,
    "nbgrader": {
     "cell_type": "markdown",
     "checksum": "5fce140c546759b54a9fc060901ae77c",
     "grade": false,
     "grade_id": "cell-3644faff4976598a",
     "locked": true,
     "schema_version": 3,
     "solution": false,
     "task": false
    }
   },
   "source": [
    "---\n",
    "### Section 6.1: Cosine Similarity (5 points)<a class=\"anchor\" id=\"cosing_sim\"></a>\n",
    "Before we begin, let us first define our method of similarity for the LSI model, the cosine similarity:\n",
    "\n",
    "$$\\text{similarity} = \\cos(\\theta) = {\\mathbf{A} \\cdot \\mathbf{B} \\over \\|\\mathbf{A}\\| \\|\\mathbf{B}\\|} = \\frac{ \\sum\\limits_{i=1}^{n}{A_i  B_i} }{ \\sqrt{\\sum\\limits_{i=1}^{n}{A_i^2}}  \\sqrt{\\sum\\limits_{i=1}^{n}{B_i^2}} }$$\n",
    "\n",
    "Since we are using gensim, the types of vectors returned by their classes are of the form defined below (they are not just simple vectors):"
   ]
  },
  {
   "cell_type": "code",
   "execution_count": 72,
   "metadata": {
    "deletable": false,
    "editable": false,
    "nbgrader": {
     "cell_type": "code",
     "checksum": "4e340e1a1d546f430c018fd0760e707a",
     "grade": false,
     "grade_id": "cell-3995a50f951314d5",
     "locked": true,
     "schema_version": 3,
     "solution": false,
     "task": false
    }
   },
   "outputs": [],
   "source": [
    "# 1, 2, 3 are either latent dimensions (LSI), or topics (LDA)\n",
    "# The second value in each tuple is a number (LSI) or a probability (LDA)  \n",
    "example_vec_1 = [(1, 0.2), (2, 0.3), (3, 0.4)]\n",
    "example_vec_2 = [(1, 0.2), (2, 0.7), (3, 0.4)]"
   ]
  },
  {
   "cell_type": "markdown",
   "metadata": {
    "deletable": false,
    "editable": false,
    "nbgrader": {
     "cell_type": "markdown",
     "checksum": "20832fd4f579f49ae204b0efee02edd1",
     "grade": false,
     "grade_id": "cell-5e54d581858dc8f7",
     "locked": true,
     "schema_version": 3,
     "solution": false,
     "task": false
    }
   },
   "source": [
    "---\n",
    "**Implementation (2+3 points):**\n",
    "Now, implement the `dot product` operation on these types of vectors and using this operator, implement the `cosine similarity` (don't forget: two functions to implement!):"
   ]
  },
  {
   "cell_type": "code",
   "execution_count": 73,
   "metadata": {
    "deletable": false,
    "nbgrader": {
     "cell_type": "code",
     "checksum": "06a712ee75fc213a21c5f0067fd8fe28",
     "grade": false,
     "grade_id": "cell-0e8189f5f93de33f",
     "locked": false,
     "schema_version": 3,
     "solution": true,
     "task": false
    }
   },
   "outputs": [],
   "source": [
    "# TODO: Implement this! (2 points)\n",
    "def dot(vec_1,vec_2): \n",
    "    \"\"\"\n",
    "        vec_1 and vec_2 are of the form: [(int, float), (int, float), ...]\n",
    "        Return the dot product of two such vectors, computed only on the floats\n",
    "        You can assume that the lengths of the vectors are the same, and the dimensions are aligned \n",
    "            i.e you won't get: vec_1 = [(1, 0.2)] ; vec_2 = [(2, 0.3)] \n",
    "                                (dimensions are unaligned and lengths are different)\n",
    "    \"\"\"\n",
    "    # YOUR CODE HERE\n",
    "        \n",
    "    return sum([i[1]*j[1] for i,j in zip(vec_1, vec_2)])\n",
    "\n",
    "# TODO: Implement this! (3 points)\n",
    "def cosine_sim(vec_1, vec_2):\n",
    "    # YOUR CODE HERE\n",
    "\n",
    "        return dot(vec_1, vec_2)/(np.linalg.norm([i[1] for i in vec_1])*np.linalg.norm([j[1] for j in vec_2]))"
   ]
  },
  {
   "cell_type": "code",
   "execution_count": 74,
   "metadata": {
    "deletable": false,
    "editable": false,
    "nbgrader": {
     "cell_type": "code",
     "checksum": "d22a4a7325ba7815a808390388f534a1",
     "grade": true,
     "grade_id": "cell-b25d04ed6b79fd35",
     "locked": true,
     "points": 2,
     "schema_version": 3,
     "solution": false,
     "task": false
    }
   },
   "outputs": [
    {
     "name": "stdout",
     "output_type": "stream",
     "text": [
      "vectors: ([(1, 0.2), (2, 0.3), (3, 0.4)], [(1, 0.2), (2, 0.7), (3, 0.4)])\n",
      "dot product = 0.41000000000000003\n",
      "cosine similarity = 0.9165587597202866\n"
     ]
    }
   ],
   "source": [
    "##### Function check\n",
    "print(f'vectors: {(example_vec_1,example_vec_2)}')\n",
    "print(f'dot product = {dot(example_vec_1,example_vec_2)}')\n",
    "print(f'cosine similarity = {cosine_sim(example_vec_1,example_vec_2)}')\n",
    "##### "
   ]
  },
  {
   "cell_type": "code",
   "execution_count": 75,
   "metadata": {
    "deletable": false,
    "editable": false,
    "nbgrader": {
     "cell_type": "code",
     "checksum": "0744131724ce76b1b3f163b4bae5f700",
     "grade": true,
     "grade_id": "cell-ae3c4466866ace77",
     "locked": true,
     "points": 3,
     "schema_version": 3,
     "solution": false,
     "task": false
    }
   },
   "outputs": [],
   "source": [
    "#### Please do not change this. This cell is used for grading."
   ]
  },
  {
   "cell_type": "markdown",
   "metadata": {
    "deletable": false,
    "editable": false,
    "nbgrader": {
     "cell_type": "markdown",
     "checksum": "9b123f599f9ea372d14676e23f1c6a52",
     "grade": false,
     "grade_id": "cell-4b2534067c44fcdf",
     "locked": true,
     "schema_version": 3,
     "solution": false,
     "task": false
    }
   },
   "source": [
    "---\n",
    "### Section 6.2: LSI Retrieval (10 points)<a class=\"anchor\" id=\"lsi_retrieval\"></a>\n",
    "LSI retrieval is simply ranking the documents based on their cosine similarity to the query vector.\n",
    "First, let's write a parent class for vector-based retrieval models:"
   ]
  },
  {
   "cell_type": "code",
   "execution_count": 76,
   "metadata": {
    "deletable": false,
    "editable": false,
    "nbgrader": {
     "cell_type": "code",
     "checksum": "ecc111d58182570e2252b8ef5d6b02af",
     "grade": false,
     "grade_id": "cell-937936cea18711ee",
     "locked": true,
     "schema_version": 3,
     "solution": false,
     "task": false
    }
   },
   "outputs": [],
   "source": [
    "class VectorSpaceRetrievalModel:\n",
    "    \"\"\"\n",
    "        Parent class for Dense Vector Retrieval models\n",
    "    \"\"\"\n",
    "    def __init__(self, doc_repr):\n",
    "        \"\"\"\n",
    "            document_collection: \n",
    "                [\n",
    "                    (doc_id_1, [token 1, token 2, ...]), \n",
    "                    (doc_id_2, [token 1, token 2, ....]) \n",
    "                    ...\n",
    "                ]\n",
    "\n",
    "        \"\"\"\n",
    "        self.doc_repr = doc_repr\n",
    "        self.documents = [_[1] for _ in self.doc_repr]\n",
    "        \n",
    "        # construct a dictionary\n",
    "        self.dictionary = Dictionary(self.documents)\n",
    "        # Filter out words that occur less than 20 documents, or more than 50% of the documents.\n",
    "        self.dictionary.filter_extremes(no_below=10)\n",
    "        self.corpus = [self.dictionary.doc2bow(doc) for doc in self.documents]\n",
    "    \n",
    "        # Make a index to word dictionary.\n",
    "        temp = self.dictionary[0]  # This is only to \"load\" the dictionary.\n",
    "        self.id2word = self.dictionary.id2token\n",
    "        \n",
    "        # this is set by the train_model function\n",
    "        self.model = None\n",
    "        \n",
    "        \n",
    "    def vectorize_documents(self):\n",
    "        \"\"\"\n",
    "            Returns a doc_id -> vector dictionary\n",
    "        \"\"\"\n",
    "        vectors = {}\n",
    "        for (doc_id, _), cc in zip(self.doc_repr, self.corpus):\n",
    "            vectors[doc_id] = self.model[cc]\n",
    "        return vectors\n",
    "\n",
    "    def vectorize_query(self, query):\n",
    "        # Note the use of config_2 here!\n",
    "        query = process_text(query, **config_2)\n",
    "        query_vector = self.dictionary.doc2bow(query)\n",
    "        return self.model[query_vector]\n",
    "    \n",
    "    def train_model(self):\n",
    "        \"\"\"\n",
    "            Trains a model and sets the 'self.model' variable. \n",
    "            Make sure to use the variables created in the __init__ method.\n",
    "            e.g the variables which may be useful: {corpus, dictionary, id2word}\n",
    "        \"\"\"\n",
    "        raise NotImplementedError()"
   ]
  },
  {
   "cell_type": "markdown",
   "metadata": {
    "deletable": false,
    "editable": false,
    "nbgrader": {
     "cell_type": "markdown",
     "checksum": "ff161eefd9b81b768cd6361bc1a502b0",
     "grade": false,
     "grade_id": "cell-704a18c2f80cd60c",
     "locked": true,
     "schema_version": 3,
     "solution": false,
     "task": false
    }
   },
   "source": [
    "---\n",
    "**Implementation (5 points):**\n",
    "Implement the `train_model` method in the following class (note that this is only one line of code in `gensim`!). Ensure that the parameters defined in the `__init__` method are not changed, and are *used in the `train_method` function*. Normally, the hyperaparameter space will be searched using grid search / other methods - in this assignment we have provided the hyperparameters for you.\n",
    "\n",
    "The last two lines of code train an LSI model on the list of documents which have been stemmed, lower-cased and have stopwords removed. "
   ]
  },
  {
   "cell_type": "code",
   "execution_count": 77,
   "metadata": {
    "deletable": false,
    "nbgrader": {
     "cell_type": "code",
     "checksum": "0e90eedc27c248bc1ae050518a46a46c",
     "grade": false,
     "grade_id": "cell-307682c9089f15d6",
     "locked": false,
     "schema_version": 3,
     "solution": true,
     "task": false
    }
   },
   "outputs": [],
   "source": [
    "# TODO: Implement this! (5 points)\n",
    "class LsiRetrievalModel(VectorSpaceRetrievalModel):\n",
    "    def __init__(self, doc_repr):\n",
    "        super().__init__(doc_repr)\n",
    "        \n",
    "        self.num_topics = 100\n",
    "        self.chunksize = 2000\n",
    "    \n",
    "    def train_model(self):\n",
    "        # YOUR CODE HERE\n",
    "        self.model = LsiModel(self.corpus, id2word=self.id2word, num_topics=self.num_topics, chunksize=self.chunksize)"
   ]
  },
  {
   "cell_type": "code",
   "execution_count": 78,
   "metadata": {
    "deletable": false,
    "editable": false,
    "nbgrader": {
     "cell_type": "code",
     "checksum": "00399cfe13d60cb4beed1271e36004b0",
     "grade": true,
     "grade_id": "cell-5ce512650c1b2dfb",
     "locked": true,
     "points": 0,
     "schema_version": 3,
     "solution": false,
     "task": false
    }
   },
   "outputs": [
    {
     "name": "stderr",
     "output_type": "stream",
     "text": [
      "2021-02-19 14:25:33,823 : INFO : adding document #0 to Dictionary(0 unique tokens: [])\n",
      "2021-02-19 14:25:33,905 : INFO : built Dictionary(5937 unique tokens: ['-', 'algebra', 'intern', 'languag', 'preliminari']...) from 3204 documents (total 115970 corpus positions)\n",
      "2021-02-19 14:25:33,909 : INFO : discarding 4740 tokens: [('repeat', 8), ('glossari', 7), ('inspect', 8), ('uncol', 2), ('rung', 9), ('secant', 2), ('.', 1603), ('acceler', 6), ('diverg', 3), ('induc', 9)]...\n",
      "2021-02-19 14:25:33,909 : INFO : keeping 1197 tokens which were in no less than 10 and no more than 1602 (=50.0%) documents\n",
      "2021-02-19 14:25:33,911 : INFO : resulting dictionary: Dictionary(1197 unique tokens: ['-', 'algebra', 'intern', 'languag', 'preliminari']...)\n",
      "2021-02-19 14:25:33,957 : INFO : using serial LSI version on this node\n",
      "2021-02-19 14:25:33,957 : INFO : updating model with new documents\n",
      "2021-02-19 14:25:33,957 : INFO : preparing a new chunk of documents\n",
      "2021-02-19 14:25:33,967 : INFO : using 100 extra samples and 2 power iterations\n",
      "2021-02-19 14:25:33,968 : INFO : 1st phase: constructing (1197, 200) action matrix\n",
      "2021-02-19 14:25:33,983 : INFO : orthonormalizing (1197, 200) action matrix\n",
      "2021-02-19 14:25:34,130 : INFO : 2nd phase: running dense svd on (200, 2000) matrix\n",
      "2021-02-19 14:25:34,271 : INFO : computing the final decomposition\n",
      "2021-02-19 14:25:34,272 : INFO : keeping 100 factors (discarding 13.414% of energy spectrum)\n",
      "2021-02-19 14:25:34,274 : INFO : processed documents up to #2000\n",
      "2021-02-19 14:25:34,275 : INFO : topic #0(152.127): 0.741*\",\" + 0.342*\"-\" + 0.211*\"system\" + 0.204*\"program\" + 0.192*\"comput\" + 0.146*\"(\" + 0.127*\"languag\" + 0.108*\")\" + 0.084*\"gener\" + 0.083*\"data\"\n",
      "2021-02-19 14:25:34,275 : INFO : topic #1(60.600): 0.607*\"(\" + 0.434*\")\" + 0.366*\"algorithm\" + 0.300*\"-\" + -0.237*\",\" + -0.213*\"system\" + -0.132*\"comput\" + 0.096*\"[\" + -0.093*\"program\" + 0.084*\"])\"\n",
      "2021-02-19 14:25:34,276 : INFO : topic #2(57.438): 0.744*\"-\" + -0.452*\",\" + 0.263*\"system\" + -0.214*\"(\" + -0.166*\")\" + 0.107*\"time\" + 0.105*\"program\" + -0.094*\"algorithm\" + 0.068*\"comput\" + 0.067*\"share\"\n",
      "2021-02-19 14:25:34,276 : INFO : topic #3(48.370): -0.483*\"system\" + -0.375*\"program\" + -0.367*\"comput\" + 0.363*\"-\" + 0.308*\",\" + -0.212*\"(\" + -0.168*\")\" + -0.147*\"algorithm\" + 0.144*\"languag\" + -0.119*\"time\"\n",
      "2021-02-19 14:25:34,277 : INFO : topic #4(45.710): 0.489*\"comput\" + -0.475*\"languag\" + -0.428*\"program\" + 0.238*\"method\" + 0.141*\"problem\" + -0.121*\"system\" + -0.109*\")\" + 0.107*\"equat\" + 0.100*\"algorithm\" + -0.099*\"(\"\n",
      "2021-02-19 14:25:34,277 : INFO : preparing a new chunk of documents\n",
      "2021-02-19 14:25:34,285 : INFO : using 100 extra samples and 2 power iterations\n",
      "2021-02-19 14:25:34,285 : INFO : 1st phase: constructing (1197, 200) action matrix\n",
      "2021-02-19 14:25:34,294 : INFO : orthonormalizing (1197, 200) action matrix\n",
      "2021-02-19 14:25:34,473 : INFO : 2nd phase: running dense svd on (200, 1204) matrix\n",
      "2021-02-19 14:25:34,579 : INFO : computing the final decomposition\n",
      "2021-02-19 14:25:34,580 : INFO : keeping 100 factors (discarding 13.989% of energy spectrum)\n",
      "2021-02-19 14:25:34,582 : INFO : merging projections: (1197, 100) + (1197, 100)\n",
      "2021-02-19 14:25:34,645 : INFO : keeping 100 factors (discarding 8.164% of energy spectrum)\n",
      "2021-02-19 14:25:34,648 : INFO : processed documents up to #3204\n",
      "2021-02-19 14:25:34,648 : INFO : topic #0(225.136): 0.759*\",\" + 0.337*\"-\" + 0.196*\"system\" + 0.186*\"program\" + 0.166*\"comput\" + 0.139*\"(\" + 0.103*\")\" + 0.103*\"algorithm\" + 0.099*\"languag\" + 0.087*\"time\"\n",
      "2021-02-19 14:25:34,649 : INFO : topic #1(87.805): 0.613*\"-\" + -0.399*\",\" + 0.399*\"(\" + 0.326*\"algorithm\" + 0.293*\")\" + -0.129*\"system\" + -0.107*\"program\" + 0.085*\"method\" + 0.077*\"time\" + 0.062*\"1\"\n",
      "2021-02-19 14:25:34,649 : INFO : topic #2(81.909): 0.550*\"-\" + -0.434*\"(\" + 0.355*\"system\" + -0.321*\")\" + -0.291*\",\" + -0.266*\"algorithm\" + 0.146*\"program\" + 0.123*\"comput\" + 0.078*\"time\" + -0.064*\"[\"\n",
      "2021-02-19 14:25:34,650 : INFO : topic #3(72.433): -0.693*\"program\" + 0.339*\",\" + 0.279*\"-\" + -0.251*\"(\" + -0.221*\"system\" + -0.214*\"languag\" + -0.204*\")\" + -0.160*\"comput\" + -0.099*\"data\" + -0.056*\"execut\"\n",
      "2021-02-19 14:25:34,650 : INFO : topic #4(68.523): -0.673*\"system\" + 0.453*\"program\" + 0.254*\"languag\" + 0.212*\"-\" + -0.179*\"comput\" + -0.165*\"(\" + -0.121*\")\" + -0.115*\"model\" + 0.101*\",\" + -0.098*\"algorithm\"\n"
     ]
    },
    {
     "data": {
      "text/plain": [
       "[(0, 0.01521307373667148),\n",
       " (1, -0.016264690472947884),\n",
       " (2, -0.0001766700155949692),\n",
       " (3, -0.0019276517034513272),\n",
       " (4, -0.009416269139786475),\n",
       " (5, -0.004657151311703072),\n",
       " (6, 0.027120822460588376),\n",
       " (7, 0.01683725497932547),\n",
       " (8, -0.03171380190178061),\n",
       " (9, -0.0006437622329672228),\n",
       " (10, 0.0024166481921862703),\n",
       " (11, -0.0171716024692153),\n",
       " (12, -7.365511077096418e-05),\n",
       " (13, 0.0016125304883007592),\n",
       " (14, 0.0038979906842039076),\n",
       " (15, 0.004983342755121331),\n",
       " (16, 0.005336678375704629),\n",
       " (17, 0.0023055673581687877),\n",
       " (18, -0.017671793885239585),\n",
       " (19, 0.018530215938192426),\n",
       " (20, -0.010680694740310633),\n",
       " (21, -0.01321936841228598),\n",
       " (22, 0.048324889965849854),\n",
       " (23, 0.02554131391148278),\n",
       " (24, -0.010825742254479956),\n",
       " (25, -0.00909905112082542),\n",
       " (26, 0.005945703748514597),\n",
       " (27, 0.07328634969560022),\n",
       " (28, -0.063109401720233),\n",
       " (29, 0.030675739945849163),\n",
       " (30, 0.04419581254065294),\n",
       " (31, 0.05060616883682921),\n",
       " (32, -0.07102787937770337),\n",
       " (33, 0.04783681833922514),\n",
       " (34, -0.027216589555384505),\n",
       " (35, 0.05650537571422149),\n",
       " (36, 0.038375837991800055),\n",
       " (37, -0.00739800281032101),\n",
       " (38, -0.06351377858364446),\n",
       " (39, 0.01729620642002446),\n",
       " (40, -0.041038038939235494),\n",
       " (41, -0.037041836898186166),\n",
       " (42, 0.021556092124305856),\n",
       " (43, 0.012976398060206269),\n",
       " (44, 0.02530245578013321),\n",
       " (45, 0.057010178033416625),\n",
       " (46, -0.013656091461553367),\n",
       " (47, 0.006870298687199395),\n",
       " (48, 0.015424837306666928),\n",
       " (49, 0.030077386828923525),\n",
       " (50, 0.017968736111941934),\n",
       " (51, 0.049154856564791606),\n",
       " (52, -0.009677220434202587),\n",
       " (53, -0.007694250616917281),\n",
       " (54, 0.0407825297280568),\n",
       " (55, 0.02300546195122783),\n",
       " (56, 0.002091047223252634),\n",
       " (57, -0.013853364325958593),\n",
       " (58, -0.007892149996654609),\n",
       " (59, 0.052376150696297745),\n",
       " (60, 0.0010708041007054508),\n",
       " (61, -0.03893290432554677),\n",
       " (62, 0.03157290375529995),\n",
       " (63, 0.018945165919802692),\n",
       " (64, 0.06757767556504857),\n",
       " (65, 0.03577730876354146),\n",
       " (66, 0.012365855120924935),\n",
       " (67, -0.06045238899348194),\n",
       " (68, 0.01714612536633589),\n",
       " (69, -0.04346316745810838),\n",
       " (70, -0.05658711281083238),\n",
       " (71, -0.009479615351534132),\n",
       " (72, 0.01696143514747296),\n",
       " (73, 0.05489413201019712),\n",
       " (74, -0.10431468335374343),\n",
       " (75, 0.027205709082218914),\n",
       " (76, 0.01321322883640293),\n",
       " (77, 0.033564328708591884),\n",
       " (78, 0.02062119646391566),\n",
       " (79, 0.029306150101741764),\n",
       " (80, -0.02774893048476503),\n",
       " (81, -0.005381013371892928),\n",
       " (82, 0.0384176145001835),\n",
       " (83, -0.03921339652921495),\n",
       " (84, -0.028411005064850003),\n",
       " (85, 0.005177788043910454),\n",
       " (86, 0.003948579762180455),\n",
       " (87, 0.010303915900340034),\n",
       " (88, -0.07640422482340134),\n",
       " (89, -0.06736426472097043),\n",
       " (90, -0.061344170691263356),\n",
       " (91, 0.014370570327391079),\n",
       " (92, 0.0246408471076558),\n",
       " (93, -0.029525750541919263),\n",
       " (94, -0.027376440694854162),\n",
       " (95, -0.05042751528831616),\n",
       " (96, 0.0016083670876580053),\n",
       " (97, -0.020102101920606276),\n",
       " (98, 0.0035486374838683047),\n",
       " (99, 0.029144534984437254)]"
      ]
     },
     "execution_count": 78,
     "metadata": {},
     "output_type": "execute_result"
    }
   ],
   "source": [
    "##### Function check\n",
    "lsi = LsiRetrievalModel(doc_repr_2)\n",
    "lsi.train_model()\n",
    "\n",
    "# you can now get an LSI vector for a given query in the following way:\n",
    "lsi.vectorize_query(\"report\")\n",
    "##### "
   ]
  },
  {
   "cell_type": "markdown",
   "metadata": {
    "deletable": false,
    "editable": false,
    "nbgrader": {
     "cell_type": "markdown",
     "checksum": "7116bb9f576c5bb04934e1d59c51d729",
     "grade": false,
     "grade_id": "cell-4c5eeb557b4fca2f",
     "locked": true,
     "points": 5,
     "schema_version": 3,
     "solution": false,
     "task": true
    }
   },
   "source": [
    "\\#### Please do not change this. This cell is used for grading."
   ]
  },
  {
   "cell_type": "markdown",
   "metadata": {
    "deletable": false,
    "editable": false,
    "nbgrader": {
     "cell_type": "markdown",
     "checksum": "1068a108600b8c1539117d543e720354",
     "grade": false,
     "grade_id": "cell-c4e50296cd17a555",
     "locked": true,
     "schema_version": 3,
     "solution": false,
     "task": false
    }
   },
   "source": [
    "---\n",
    "Next, implement a basic ranking class for vector space retrieval (used for all semantic methods): "
   ]
  },
  {
   "cell_type": "code",
   "execution_count": 79,
   "metadata": {
    "deletable": false,
    "nbgrader": {
     "cell_type": "code",
     "checksum": "1a8389d2f0635c3405e2b0b27ed9f327",
     "grade": false,
     "grade_id": "cell-250515d288e80cdc",
     "locked": false,
     "schema_version": 3,
     "solution": true,
     "task": false
    }
   },
   "outputs": [],
   "source": [
    "# TODO: Implement this! (5 points)\n",
    "\n",
    "class DenseRetrievalRanker:\n",
    "    def __init__(self, vsrm, similarity_fn):\n",
    "        \"\"\"\n",
    "            vsrm: instance of `VectorSpaceRetrievalModel`\n",
    "            similarity_fn: function instance that takes in two vectors \n",
    "                            and returns a similarity score e.g cosine_sim defined earlier\n",
    "        \"\"\"\n",
    "        self.vsrm = vsrm \n",
    "        self.vectorized_documents = self.vsrm.vectorize_documents()\n",
    "        self.similarity_fn = similarity_fn\n",
    "    \n",
    "    def _compute_sim(self, query_vector):\n",
    "        \"\"\"\n",
    "            Compute the similarity of `query_vector` to documents in \n",
    "            `self.vectorized_documents` using `self.similarity_fn`\n",
    "            Returns a list of (doc_id, score) tuples\n",
    "        \"\"\"\n",
    "        \n",
    "        # YOUR CODE HERE\n",
    "        \n",
    "        # Calculate cosine similarity score for every document\n",
    "        scores = {key: self.similarity_fn(query_vector, value) for (key, value) in self.vectorized_documents.items()}\n",
    "        \n",
    "        # Return list with tuples containing document_id sorted on score in descending order\n",
    "        return sorted(scores.items(), key=lambda x: x[1], reverse=True)\n",
    "    \n",
    "    def search(self, query):\n",
    "        scores = self._compute_sim(self.vsrm.vectorize_query(query))\n",
    "        scores.sort(key=lambda _:-_[1])\n",
    "        return scores "
   ]
  },
  {
   "cell_type": "code",
   "execution_count": 80,
   "metadata": {
    "deletable": false,
    "editable": false,
    "nbgrader": {
     "cell_type": "code",
     "checksum": "f237dd1ef6c1783c06797f4b514421f5",
     "grade": true,
     "grade_id": "cell-b73068b3e77a8e31",
     "locked": true,
     "points": 0,
     "schema_version": 3,
     "solution": false,
     "task": false
    }
   },
   "outputs": [
    {
     "name": "stderr",
     "output_type": "stream",
     "text": [
      "<ipython-input-73-7b38d90b22d3>:18: RuntimeWarning: invalid value encountered in double_scalars\n",
      "  return dot(vec_1, vec_2)/(np.linalg.norm([i[1] for i in vec_1])*np.linalg.norm([j[1] for j in vec_2]))\n"
     ]
    },
    {
     "data": {
      "text/plain": [
       "[(599, 0.8014410940555905),\n",
       " (53, 0.5116638633394399),\n",
       " (1339, 0.455202450201049),\n",
       " (2181, 0.4199460258090833),\n",
       " (196, 0.41531411075552466)]"
      ]
     },
     "execution_count": 80,
     "metadata": {},
     "output_type": "execute_result"
    }
   ],
   "source": [
    "##### Function check\n",
    "drm_lsi = DenseRetrievalRanker(lsi, cosine_sim)\n",
    "drm_lsi.search(\"report\")[:5]\n",
    "##### "
   ]
  },
  {
   "cell_type": "markdown",
   "metadata": {
    "deletable": false,
    "editable": false,
    "nbgrader": {
     "cell_type": "markdown",
     "checksum": "5b3f19fdcaa585d263706d5a26038799",
     "grade": false,
     "grade_id": "cell-034c755a6502b868",
     "locked": true,
     "points": 5,
     "schema_version": 3,
     "solution": false,
     "task": true
    }
   },
   "source": [
    "\\#### Please do not change this. This cell is used for grading."
   ]
  },
  {
   "cell_type": "markdown",
   "metadata": {
    "deletable": false,
    "editable": false,
    "nbgrader": {
     "cell_type": "markdown",
     "checksum": "dcafef6e037033c46304b914f7c78bdf",
     "grade": false,
     "grade_id": "cell-d1df23f497d5ed6b",
     "locked": true,
     "schema_version": 3,
     "solution": false,
     "task": false
    }
   },
   "source": [
    "---\n",
    "Now, you can test your LSI model in the following cell: try finding queries which are lexically different to documents, but semantically similar - does LSI work well for these queries?!"
   ]
  },
  {
   "cell_type": "code",
   "execution_count": 81,
   "metadata": {
    "deletable": false,
    "editable": false,
    "nbgrader": {
     "cell_type": "code",
     "checksum": "11734bc7674377b340ad51297a8e8bb5",
     "grade": false,
     "grade_id": "cell-efd1d08dfc04ec3e",
     "locked": true,
     "schema_version": 3,
     "solution": false,
     "task": false
    }
   },
   "outputs": [
    {
     "data": {
      "application/vnd.jupyter.widget-view+json": {
       "model_id": "0c787aef59ca4aa8a2cd549dbe288648",
       "version_major": 2,
       "version_minor": 0
      },
      "text/plain": [
       "Text(value='', description='Search Bar')"
      ]
     },
     "metadata": {},
     "output_type": "display_data"
    }
   ],
   "source": [
    "# test your LSI model\n",
    "search_fn = drm_lsi.search\n",
    "\n",
    "text = widgets.Text(description=\"Search Bar\", width=200)\n",
    "display(text)\n",
    "\n",
    "def make_results_2(query, search_fn):\n",
    "    results = []\n",
    "    for doc_id, score in search_fn(query):\n",
    "        highlight = highlight_text(docs_by_id[doc_id], query)\n",
    "        if len(highlight.strip()) == 0:\n",
    "            highlight = docs_by_id[doc_id]\n",
    "        results.append(ResultRow(doc_id, highlight, score))\n",
    "    return results\n",
    "\n",
    "def handle_submit_2(sender):\n",
    "    print(f\"Searching for: '{sender.value}' (SEARCH FN: {search_fn})\")\n",
    "    \n",
    "    results = make_results_2(sender.value, search_fn)\n",
    "    \n",
    "    # display only the top 5\n",
    "    results = results[:5]\n",
    "    \n",
    "    body = \"\"\n",
    "    for idx, r in enumerate(results):\n",
    "        body += f\"<li>Document #{r.doc_id}({r.score}): {r.snippet}</li>\"\n",
    "    display(HTML(f\"<ul>{body}</ul>\"))\n",
    "    \n",
    "\n",
    "text.on_submit(handle_submit_2)"
   ]
  },
  {
   "cell_type": "markdown",
   "metadata": {
    "deletable": false,
    "editable": false,
    "nbgrader": {
     "cell_type": "markdown",
     "checksum": "d074ce1ca48384cdda78742741c938be",
     "grade": false,
     "grade_id": "cell-3a86cef264d8f6cf",
     "locked": true,
     "schema_version": 3,
     "solution": false,
     "task": false
    }
   },
   "source": [
    "---\n",
    "## Section 7: Latent Dirichlet Allocation (LDA) (10 points) <a class=\"anchor\" id=\"lda\"></a>\n",
    "\n",
    "[Back to Part 2](#part2)\n",
    "\n",
    "The specifics of LDA is out of the scope of this assignment, but we will use the `gensim` implementation to perform search using LDA over our small document collection. The key thing to remember is that LDA, unlike LSI, outputs a topic **distribution**, not a vector. With that in mind, let's first define a similarity measure.\n"
   ]
  },
  {
   "cell_type": "markdown",
   "metadata": {
    "deletable": false,
    "editable": false,
    "nbgrader": {
     "cell_type": "markdown",
     "checksum": "db01092373b18f0c9dfed1bb17db4ad9",
     "grade": false,
     "grade_id": "cell-6b78ad22c2d60ba7",
     "locked": true,
     "schema_version": 3,
     "solution": false,
     "task": false
    }
   },
   "source": [
    "---\n",
    "### Section 7.1: Jenson-Shannon divergence (5 points) <a class=\"anchor\" id=\"js_sim\"></a>\n",
    "\n",
    "The Jenson-Shannon divergence is a symmetric and finite measure on two probability distributions (unlike the KL, which is neither). For identical distributions, the JSD is equal to 0, and since our code uses 0 as irrelevant and higher scores as relevant, we use `(1 - JSD)` as the score or 'similarity' in our setup\n",
    "\n",
    "**Note**: the JSD is bounded to \\[0,1\\] only if we use log base 2. So please ensure that you're using `np.log2` instead of `np.log`"
   ]
  },
  {
   "cell_type": "code",
   "execution_count": 82,
   "metadata": {
    "deletable": false,
    "nbgrader": {
     "cell_type": "code",
     "checksum": "a579e6cd7a24a3516bc9a84528b392d3",
     "grade": false,
     "grade_id": "cell-d2376a85a4841e98",
     "locked": false,
     "schema_version": 3,
     "solution": true,
     "task": false
    }
   },
   "outputs": [],
   "source": [
    "## TODO: Implement this! (5 points)\n",
    "# Note for TA: if assert_prob = True, in part 9 numerical value error (it is not exactly 1.0000 and thus function\n",
    "#errors)\n",
    "def jenson_shannon_divergence(vec_1, vec_2, assert_prob=False):\n",
    "    \"\"\"\n",
    "        Computes the Jensen-Shannon divergence between two probability distributions. \n",
    "        NOTE: DO NOT RETURN 1 - JSD here, that is handled by the next function which is already implemented! \n",
    "        The inputs are *gensim* vectors - same as the vectors for the cosine_sim function\n",
    "        assert_prob is a flag that checks if the inputs are proper probability distributions \n",
    "            i.e they sum to 1 and are positive - use this to check your inputs if needed. \n",
    "                (This is optional to implement, but recommended - \n",
    "                you can the default to False to save a few ms off the runtime)\n",
    "    \"\"\"\n",
    "    # YOUR CODE HERE\n",
    "    \n",
    "    if assert_prob:\n",
    "        if sum([x for _, x in vec_1 if x>=0]) != 1 or sum([y for _, y in vec_2 if y>=0]) != 1:\n",
    "            raise ValueError(f\"Invalid distribution encountered\")\n",
    " \n",
    "    # Calculate M = 0.5 (P + Q)\n",
    "    M = [(P[1] + Q[1])/2 for P, Q in zip(vec_1, vec_2)]\n",
    "    \n",
    "    # JSD = 0.5 * sum(log P - log M) + 0.5 * Q*sum(log Q - log M)\n",
    "    return 0.5*sum([P[1]*(np.log2(P[1]/m)) for P, m in zip (vec_1, M)]) + 0.5*sum([Q[1]*np.log2(Q[1]/m) for Q, m in zip (vec_2, M)])\n",
    "    \n",
    "\n",
    "def jenson_shannon_sim(vec_1, vec_2, assert_prob=False):\n",
    "    return 1 - jenson_shannon_divergence(vec_1, vec_2)"
   ]
  },
  {
   "cell_type": "code",
   "execution_count": 83,
   "metadata": {
    "deletable": false,
    "editable": false,
    "nbgrader": {
     "cell_type": "code",
     "checksum": "ab340aa941c9fb5c89b3fd0a9139e246",
     "grade": true,
     "grade_id": "cell-487c6d2933f38053",
     "locked": true,
     "points": 5,
     "schema_version": 3,
     "solution": false,
     "task": false
    }
   },
   "outputs": [
    {
     "data": {
      "text/plain": [
       "0.9251064410358459"
      ]
     },
     "execution_count": 83,
     "metadata": {},
     "output_type": "execute_result"
    }
   ],
   "source": [
    "##### Function check\n",
    "vec_1 = [(1, 0.3), (2, 0.4), (3, 0.3)]\n",
    "vec_2 = [(1, 0.1), (2, 0.7), (3, 0.2)]\n",
    "jenson_shannon_sim(vec_1, vec_2, assert_prob=True)\n",
    "##### "
   ]
  },
  {
   "cell_type": "markdown",
   "metadata": {
    "deletable": false,
    "editable": false,
    "nbgrader": {
     "cell_type": "markdown",
     "checksum": "0a1583a5f23e3390038331cce67f5d8e",
     "grade": false,
     "grade_id": "cell-4535cc67a50b80fa",
     "locked": true,
     "schema_version": 3,
     "solution": false,
     "task": false
    }
   },
   "source": [
    "---\n",
    "### Section 7.2: LDA retrieval (5 points) <a class=\"anchor\" id=\"lda_ret\"></a>\n",
    "\n",
    "Implement the `train_model` method in the following class (note that this is only one line of code in `gensim`!). Ensure that the parameters defined in the `__init__` method are not changed, and are *used in the `train_method` function*. You do not need to set this. Normally, the hyperaparameter space will be searched using grid search / other methods. Note that training the LDA model might take some time\n",
    "\n",
    "The last two lines of code train an LDA model on the list of documents which have been stemmed, lower-cased and have stopwords removed. "
   ]
  },
  {
   "cell_type": "code",
   "execution_count": 84,
   "metadata": {
    "deletable": false,
    "nbgrader": {
     "cell_type": "code",
     "checksum": "27de8e4fa85536bb396b73bfc51b3f50",
     "grade": false,
     "grade_id": "cell-021a48dff4a8bb91",
     "locked": false,
     "schema_version": 3,
     "solution": true,
     "task": false
    }
   },
   "outputs": [],
   "source": [
    "# TODO: Implement this! (5 points)\n",
    "class LdaRetrievalModel(VectorSpaceRetrievalModel):\n",
    "    def __init__(self, doc_repr):\n",
    "        super().__init__(doc_repr)\n",
    "        \n",
    "        # use these parameters in the train_model method\n",
    "        self.num_topics = 100\n",
    "        self.chunksize = 2000\n",
    "        self.passes = 20\n",
    "        self.iterations = 400\n",
    "        self.eval_every = 10\n",
    "        # this is need to get full vectors\n",
    "        self.minimum_probability=0.0\n",
    "        self.alpha='auto'\n",
    "        self.eta='auto'\n",
    "    \n",
    "    \n",
    "    def train_model(self):\n",
    "        # YOUR CODE HERE\n",
    "        self.model = LdaModel(self.corpus, id2word=self.id2word, num_topics=self.num_topics, chunksize=self.chunksize, \n",
    "                        passes=self.passes, iterations=self.iterations, eval_every=self.eval_every, \n",
    "                        minimum_probability=self.minimum_probability, alpha=self.alpha, eta=self.eta)"
   ]
  },
  {
   "cell_type": "code",
   "execution_count": 85,
   "metadata": {
    "deletable": false,
    "editable": false,
    "nbgrader": {
     "cell_type": "code",
     "checksum": "be70fcb8098d0b6ce64cd2a10e6a05b7",
     "grade": true,
     "grade_id": "cell-86750b715f0345fd",
     "locked": true,
     "points": 0,
     "schema_version": 3,
     "solution": false,
     "task": false
    }
   },
   "outputs": [
    {
     "name": "stderr",
     "output_type": "stream",
     "text": [
      "2021-02-19 14:25:35,219 : INFO : adding document #0 to Dictionary(0 unique tokens: [])\n",
      "2021-02-19 14:25:35,303 : INFO : built Dictionary(5937 unique tokens: ['-', 'algebra', 'intern', 'languag', 'preliminari']...) from 3204 documents (total 115970 corpus positions)\n",
      "2021-02-19 14:25:35,308 : INFO : discarding 4740 tokens: [('repeat', 8), ('glossari', 7), ('inspect', 8), ('uncol', 2), ('rung', 9), ('secant', 2), ('.', 1603), ('acceler', 6), ('diverg', 3), ('induc', 9)]...\n",
      "2021-02-19 14:25:35,308 : INFO : keeping 1197 tokens which were in no less than 10 and no more than 1602 (=50.0%) documents\n",
      "2021-02-19 14:25:35,310 : INFO : resulting dictionary: Dictionary(1197 unique tokens: ['-', 'algebra', 'intern', 'languag', 'preliminari']...)\n",
      "2021-02-19 14:25:35,356 : INFO : using autotuned alpha, starting with [0.01, 0.01, 0.01, 0.01, 0.01, 0.01, 0.01, 0.01, 0.01, 0.01, 0.01, 0.01, 0.01, 0.01, 0.01, 0.01, 0.01, 0.01, 0.01, 0.01, 0.01, 0.01, 0.01, 0.01, 0.01, 0.01, 0.01, 0.01, 0.01, 0.01, 0.01, 0.01, 0.01, 0.01, 0.01, 0.01, 0.01, 0.01, 0.01, 0.01, 0.01, 0.01, 0.01, 0.01, 0.01, 0.01, 0.01, 0.01, 0.01, 0.01, 0.01, 0.01, 0.01, 0.01, 0.01, 0.01, 0.01, 0.01, 0.01, 0.01, 0.01, 0.01, 0.01, 0.01, 0.01, 0.01, 0.01, 0.01, 0.01, 0.01, 0.01, 0.01, 0.01, 0.01, 0.01, 0.01, 0.01, 0.01, 0.01, 0.01, 0.01, 0.01, 0.01, 0.01, 0.01, 0.01, 0.01, 0.01, 0.01, 0.01, 0.01, 0.01, 0.01, 0.01, 0.01, 0.01, 0.01, 0.01, 0.01, 0.01]\n",
      "2021-02-19 14:25:35,357 : INFO : using serial LDA version on this node\n",
      "2021-02-19 14:25:35,366 : INFO : running online (multi-pass) LDA training, 100 topics, 20 passes over the supplied corpus of 3204 documents, updating model once every 2000 documents, evaluating perplexity every 3204 documents, iterating 400x with a convergence threshold of 0.001000\n",
      "2021-02-19 14:25:35,366 : INFO : PROGRESS: pass 0, at document #2000/3204\n",
      "2021-02-19 14:25:36,346 : INFO : optimized alpha [0.009823753, 0.009792693, 0.009904918, 0.009777919, 0.009983824, 0.0098441, 0.009860174, 0.009844215, 0.009792715, 0.009787445, 0.00982405, 0.009953623, 0.009839436, 0.009860254, 0.009766671, 0.01009789, 0.009797812, 0.009782286, 0.009771906, 0.009771934, 0.009792208, 0.009844488, 0.009787331, 0.009813034, 0.009782227, 0.009782261, 0.009812963, 0.00982883, 0.009838864, 0.009816512, 0.0098053785, 0.009823355, 0.0098478105, 0.009823597, 0.00981334, 0.009797654, 0.00978736, 0.009792368, 0.00982353, 0.009782025, 0.009772016, 0.009792374, 0.009906942, 0.009802731, 0.009777066, 0.009833783, 0.00981816, 0.0098857805, 0.009849767, 0.009949751, 0.009844482, 0.0099276155, 0.00988135, 0.009808455, 0.009771848, 0.009813591, 0.0097977305, 0.009808096, 0.009849506, 0.009864954, 0.009818728, 0.009823573, 0.009813351, 0.009808145, 0.0097924825, 0.009808128, 0.009844031, 0.009777232, 0.009864949, 0.009797547, 0.009859571, 0.009870952, 0.009891328, 0.009792514, 0.009928779, 0.009815288, 0.009838889, 0.009807845, 0.0098177735, 0.0098132985, 0.009792537, 0.009818107, 0.009792417, 0.009937283, 0.009828386, 0.009813261, 0.009818466, 0.00983697, 0.009797882, 0.009787304, 0.009808272, 0.009808336, 0.009937657, 0.0099117, 0.009792705, 0.009766721, 0.009797775, 0.009839294, 0.00977187, 0.00981107]\n",
      "2021-02-19 14:25:36,349 : INFO : merging changes from 2000 documents into a model of 3204 documents\n",
      "2021-02-19 14:25:36,352 : INFO : topic #54 (0.010): 0.110*\"sort\" + 0.047*\"block\" + 0.047*\"pass\" + 0.047*\"partial\" + 0.032*\"work\" + 0.032*\"gener\" + 0.032*\"number\" + 0.032*\"design\" + 0.032*\")\" + 0.032*\"(\"\n",
      "2021-02-19 14:25:36,353 : INFO : topic #95 (0.010): 0.097*\"telephon\" + 0.078*\"comput\" + 0.039*\"-\" + 0.039*\"user\" + 0.039*\"ordinari\" + 0.020*\"form\" + 0.020*\":\" + 0.020*\"input\" + 0.020*\"output\" + 0.020*\"'\"\n",
      "2021-02-19 14:25:36,353 : INFO : topic #51 (0.010): 0.056*\",\" + 0.049*\"-\" + 0.044*\"program\" + 0.025*\"system\" + 0.019*\"languag\" + 0.017*\"(\" + 0.015*\"comput\" + 0.012*\"data\" + 0.010*\"[\" + 0.009*\"paper\"\n",
      "2021-02-19 14:25:36,353 : INFO : topic #4 (0.010): 0.049*\"-\" + 0.043*\",\" + 0.024*\"(\" + 0.024*\"algorithm\" + 0.019*\"languag\" + 0.018*\"program\" + 0.014*\"storag\" + 0.014*\"comput\" + 0.013*\"process\" + 0.012*\")\"\n",
      "2021-02-19 14:25:36,354 : INFO : topic #15 (0.010): 0.061*\",\" + 0.057*\"-\" + 0.036*\"comput\" + 0.020*\"system\" + 0.018*\"program\" + 0.016*\"(\" + 0.013*\"time\" + 0.012*\"problem\" + 0.011*\"data\" + 0.009*\"algorithm\"\n",
      "2021-02-19 14:25:36,354 : INFO : topic diff=82.710068, rho=1.000000\n",
      "2021-02-19 14:25:36,963 : INFO : -7.288 per-word bound, 156.3 perplexity estimate based on a held-out corpus of 1204 documents with 49783 words\n",
      "2021-02-19 14:25:36,964 : INFO : PROGRESS: pass 0, at document #3204/3204\n",
      "2021-02-19 14:25:37,444 : INFO : optimized alpha [0.010283395, 0.009916211, 0.010477463, 0.009883537, 0.010090424, 0.010026857, 0.009937321, 0.009832228, 0.010028188, 0.009923231, 0.010056324, 0.010103294, 0.010017672, 0.010038634, 0.009591766, 0.010087004, 0.009839426, 0.009900316, 0.009928921, 0.009876623, 0.00965187, 0.0099808965, 0.009845123, 0.009900554, 0.009911575, 0.010056868, 0.0098595675, 0.009964974, 0.009785389, 0.010046508, 0.009862348, 0.0097869, 0.010073166, 0.009982374, 0.010137276, 0.009874711, 0.009635311, 0.009796005, 0.009935657, 0.009741084, 0.009872156, 0.0098964665, 0.010068487, 0.009990775, 0.01010388, 0.009910432, 0.009806069, 0.010045604, 0.009998759, 0.010498945, 0.010057304, 0.010034662, 0.0101749, 0.010010388, 0.009817881, 0.010068519, 0.00993365, 0.009784711, 0.009949484, 0.009911109, 0.009938104, 0.00997694, 0.009966268, 0.0100437105, 0.009774605, 0.009708074, 0.009931776, 0.010012785, 0.009900005, 0.009902454, 0.010042893, 0.0103361355, 0.010140319, 0.0097987475, 0.010401569, 0.010310982, 0.010026653, 0.0098838955, 0.009870621, 0.009959673, 0.010062147, 0.009865238, 0.009832108, 0.010062587, 0.010051495, 0.009749, 0.009906924, 0.010121631, 0.010132569, 0.009704538, 0.009908673, 0.009920517, 0.009966231, 0.010029387, 0.009964262, 0.009679207, 0.009973379, 0.009971132, 0.0100226, 0.010094996]\n",
      "2021-02-19 14:25:37,447 : INFO : merging changes from 1204 documents into a model of 3204 documents\n",
      "2021-02-19 14:25:37,450 : INFO : topic #14 (0.010): 0.263*\"maintain\" + 0.135*\"assembl\" + 0.068*\"zero\" + 0.066*\"requir\" + 0.065*\"pass\" + 0.043*\"descript\" + 0.042*\"librari\" + 0.037*\",\" + 0.026*\"subroutin\" + 0.019*\"tabl\"\n",
      "2021-02-19 14:25:37,450 : INFO : topic #20 (0.010): 0.175*\"(\" + 0.149*\")\" + 0.143*\"algorithm\" + 0.063*\"forward\" + 0.051*\"function\" + 0.041*\"equat\" + 0.035*\"[\" + 0.035*\"solut\" + 0.031*\"quadratur\" + 0.027*\"kind\"\n",
      "2021-02-19 14:25:37,451 : INFO : topic #74 (0.010): 0.061*\",\" + 0.042*\"(\" + 0.033*\"structur\" + 0.033*\"-\" + 0.028*\")\" + 0.025*\"algorithm\" + 0.022*\"node\" + 0.020*\"averag\" + 0.018*\"time\" + 0.014*\"present\"\n",
      "2021-02-19 14:25:37,451 : INFO : topic #49 (0.010): 0.103*\",\" + 0.038*\"system\" + 0.032*\"program\" + 0.025*\"languag\" + 0.023*\"comput\" + 0.017*\"data\" + 0.015*\"-\" + 0.011*\"oper\" + 0.010*\"time\" + 0.009*\"design\"\n",
      "2021-02-19 14:25:37,451 : INFO : topic #2 (0.010): 0.174*\"(\" + 0.169*\"algorithm\" + 0.128*\")\" + 0.062*\"[\" + 0.032*\"corrigendum\" + 0.029*\"$\" + 0.029*\"integr\" + 0.029*\"))\" + 0.021*\"d1\" + 0.016*\"polygon\"\n",
      "2021-02-19 14:25:37,452 : INFO : topic diff=0.745392, rho=0.707107\n",
      "2021-02-19 14:25:37,456 : INFO : PROGRESS: pass 1, at document #2000/3204\n",
      "2021-02-19 14:25:37,883 : INFO : optimized alpha [0.010264623, 0.010001496, 0.01165556, 0.009834114, 0.009992147, 0.009969717, 0.0099092135, 0.0098109115, 0.010016413, 0.009839024, 0.009990924, 0.009999375, 0.009953102, 0.01002519, 0.009527436, 0.010019252, 0.009790861, 0.009869455, 0.0098756645, 0.009913908, 0.010064472, 0.009893105, 0.0099374475, 0.009819458, 0.010094725, 0.010052185, 0.009771554, 0.009933675, 0.009793255, 0.0100132795, 0.009970109, 0.009728659, 0.0101097245, 0.009920539, 0.010225625, 0.009854842, 0.009580516, 0.009833359, 0.009888146, 0.009769731, 0.009868665, 0.009857127, 0.010075936, 0.009896838, 0.010095073, 0.009894437, 0.009781974, 0.009969713, 0.0099214185, 0.010467737, 0.0099620465, 0.009972976, 0.010112803, 0.009913808, 0.009868199, 0.010070313, 0.009899192, 0.00980273, 0.009899646, 0.009798316, 0.009931154, 0.009907416, 0.009923485, 0.010039332, 0.009743007, 0.0096960515, 0.009839565, 0.010003983, 0.009885134, 0.009905409, 0.009937202, 0.010237081, 0.010073554, 0.009767073, 0.010306134, 0.010313794, 0.009980013, 0.009879754, 0.0097850505, 0.009948682, 0.010001315, 0.009845643, 0.00981762, 0.009986162, 0.010136375, 0.009780978, 0.009838944, 0.010094933, 0.010040349, 0.00970008, 0.009838098, 0.009897745, 0.009889791, 0.009964752, 0.009953504, 0.009651929, 0.009947763, 0.009867709, 0.00997275, 0.01001483]\n"
     ]
    },
    {
     "name": "stderr",
     "output_type": "stream",
     "text": [
      "2021-02-19 14:25:37,886 : INFO : merging changes from 2000 documents into a model of 3204 documents\n",
      "2021-02-19 14:25:37,889 : INFO : topic #14 (0.010): 0.230*\"assembl\" + 0.149*\"maintain\" + 0.080*\"pass\" + 0.077*\"subroutin\" + 0.069*\"zero\" + 0.063*\"librari\" + 0.055*\"descript\" + 0.053*\"requir\" + 0.032*\",\" + 0.016*\"tabl\"\n",
      "2021-02-19 14:25:37,889 : INFO : topic #36 (0.010): 0.065*\"instruct\" + 0.059*\"debug\" + 0.058*\"type\" + 0.055*\"comput\" + 0.051*\"program\" + 0.040*\"revers\" + 0.035*\",\" + 0.025*\"parallel\" + 0.024*\"properti\" + 0.023*\"numer\"\n",
      "2021-02-19 14:25:37,890 : INFO : topic #74 (0.010): 0.062*\",\" + 0.040*\"(\" + 0.031*\"structur\" + 0.031*\"-\" + 0.027*\")\" + 0.021*\"algorithm\" + 0.019*\"node\" + 0.018*\"time\" + 0.017*\"averag\" + 0.013*\"present\"\n",
      "2021-02-19 14:25:37,890 : INFO : topic #49 (0.010): 0.105*\",\" + 0.039*\"system\" + 0.032*\"program\" + 0.026*\"comput\" + 0.025*\"languag\" + 0.016*\"data\" + 0.015*\"-\" + 0.011*\"oper\" + 0.011*\"time\" + 0.010*\"process\"\n",
      "2021-02-19 14:25:37,890 : INFO : topic #2 (0.012): 0.202*\"(\" + 0.192*\"algorithm\" + 0.130*\")\" + 0.080*\"[\" + 0.060*\"])\" + 0.030*\"integr\" + 0.012*\"$\" + 0.012*\"d1\" + 0.011*\"complex\" + 0.011*\"corrigendum\"\n",
      "2021-02-19 14:25:37,890 : INFO : topic diff=0.300440, rho=0.526900\n",
      "2021-02-19 14:25:38,398 : INFO : -6.901 per-word bound, 119.5 perplexity estimate based on a held-out corpus of 1204 documents with 49783 words\n",
      "2021-02-19 14:25:38,399 : INFO : PROGRESS: pass 1, at document #3204/3204\n",
      "2021-02-19 14:25:38,780 : INFO : optimized alpha [0.0106514795, 0.010141944, 0.012094436, 0.010057444, 0.009983187, 0.0101377955, 0.009909546, 0.009777737, 0.0102156615, 0.010029163, 0.010128965, 0.010057717, 0.010050518, 0.0101535525, 0.009506786, 0.009959977, 0.009892442, 0.010045499, 0.010058973, 0.0100576505, 0.010467911, 0.009999875, 0.0100450255, 0.009899052, 0.010342546, 0.010369821, 0.009838597, 0.010053003, 0.009825453, 0.010194094, 0.010148078, 0.009709184, 0.010300682, 0.010056773, 0.010456228, 0.009912672, 0.009606472, 0.0099932635, 0.01003812, 0.00990093, 0.010186435, 0.010017824, 0.010191899, 0.010112341, 0.010381572, 0.010070082, 0.00981368, 0.010102601, 0.009997421, 0.01068105, 0.010103523, 0.010004254, 0.010265024, 0.010065329, 0.010033264, 0.010306358, 0.010027289, 0.0098781595, 0.010018814, 0.009839428, 0.010091141, 0.010048125, 0.0101215765, 0.010322802, 0.009870411, 0.00965171, 0.009985117, 0.010319338, 0.00990786, 0.010049411, 0.010091965, 0.010475538, 0.010223991, 0.009847228, 0.010562988, 0.010611722, 0.010186507, 0.010024005, 0.009830702, 0.010049037, 0.010261513, 0.01001327, 0.009926544, 0.010079595, 0.010352595, 0.00981754, 0.009923345, 0.010367141, 0.010341416, 0.009676443, 0.009931144, 0.010038516, 0.0099439705, 0.010096738, 0.010104017, 0.00970235, 0.010101181, 0.009966817, 0.010248979, 0.0102897715]\n",
      "2021-02-19 14:25:38,783 : INFO : merging changes from 1204 documents into a model of 3204 documents\n",
      "2021-02-19 14:25:38,787 : INFO : topic #14 (0.010): 0.261*\"maintain\" + 0.208*\"assembl\" + 0.075*\"requir\" + 0.074*\"pass\" + 0.073*\"librari\" + 0.070*\"subroutin\" + 0.056*\"descript\" + 0.043*\"zero\" + 0.022*\",\" + 0.008*\"locat\"\n",
      "2021-02-19 14:25:38,787 : INFO : topic #65 (0.010): 0.066*\",\" + 0.064*\"digit\" + 0.049*\"automat\" + 0.044*\"method\" + 0.041*\"program\" + 0.038*\"pictur\" + 0.030*\"intend\" + 0.026*\"step\" + 0.024*\"imag\" + 0.022*\"comput\"\n",
      "2021-02-19 14:25:38,787 : INFO : topic #49 (0.011): 0.114*\",\" + 0.040*\"system\" + 0.036*\"program\" + 0.025*\"languag\" + 0.024*\"comput\" + 0.016*\"data\" + 0.015*\"-\" + 0.012*\"user\" + 0.012*\"architectur\" + 0.011*\"design\"\n",
      "2021-02-19 14:25:38,788 : INFO : topic #0 (0.011): 0.060*\"-\" + 0.059*\",\" + 0.035*\"point\" + 0.035*\"comput\" + 0.030*\"edg\" + 0.024*\"^\" + 0.024*\"float\" + 0.022*\"digit\" + 0.022*\"object\" + 0.022*\"2\"\n",
      "2021-02-19 14:25:38,788 : INFO : topic #2 (0.012): 0.202*\"(\" + 0.185*\"algorithm\" + 0.139*\")\" + 0.065*\"[\" + 0.034*\"])\" + 0.028*\"integr\" + 0.026*\"$\" + 0.024*\"corrigendum\" + 0.022*\"))\" + 0.017*\"d1\"\n",
      "2021-02-19 14:25:38,788 : INFO : topic diff=0.426992, rho=0.526900\n",
      "2021-02-19 14:25:38,792 : INFO : PROGRESS: pass 2, at document #2000/3204\n",
      "2021-02-19 14:25:39,192 : INFO : optimized alpha [0.010632812, 0.010301142, 0.01280446, 0.010035524, 0.009911684, 0.010129499, 0.009909951, 0.009797775, 0.010250181, 0.009968063, 0.010066178, 0.0099657085, 0.0100107165, 0.010141208, 0.009506189, 0.009896324, 0.009896266, 0.010045621, 0.0100649735, 0.0101114, 0.0114112655, 0.009939645, 0.010201906, 0.009854413, 0.010605204, 0.010379598, 0.009767333, 0.010032484, 0.009895928, 0.010194845, 0.010322169, 0.009739893, 0.010366331, 0.009980776, 0.01057294, 0.009911994, 0.00961406, 0.010056144, 0.010018876, 0.010027951, 0.010257337, 0.010012627, 0.010234182, 0.010035099, 0.010385528, 0.010116238, 0.009830215, 0.010035637, 0.009918479, 0.0106259165, 0.010052812, 0.009960876, 0.010216874, 0.009994276, 0.010105379, 0.010349971, 0.010024838, 0.009926625, 0.010017227, 0.009756511, 0.010110681, 0.010012474, 0.010089453, 0.010350389, 0.0098676905, 0.00970664, 0.00991543, 0.010342663, 0.009921541, 0.010077348, 0.010010622, 0.010375995, 0.0101741105, 0.009854471, 0.010488729, 0.010661618, 0.010167608, 0.010033933, 0.00977576, 0.010051188, 0.010224589, 0.010028044, 0.009922972, 0.010024818, 0.010446114, 0.009904013, 0.009864125, 0.010389554, 0.010276033, 0.009719548, 0.0099000605, 0.01006745, 0.009898962, 0.010048894, 0.01011515, 0.009727079, 0.01013142, 0.009895774, 0.010240496, 0.010230442]\n",
      "2021-02-19 14:25:39,195 : INFO : merging changes from 2000 documents into a model of 3204 documents\n",
      "2021-02-19 14:25:39,198 : INFO : topic #14 (0.010): 0.243*\"assembl\" + 0.153*\"maintain\" + 0.151*\"subroutin\" + 0.088*\"librari\" + 0.081*\"pass\" + 0.062*\"descript\" + 0.059*\"requir\" + 0.037*\"zero\" + 0.021*\",\" + 0.009*\"tabl\"\n",
      "2021-02-19 14:25:39,198 : INFO : topic #36 (0.010): 0.126*\"instruct\" + 0.090*\"type\" + 0.081*\"program\" + 0.052*\"comput\" + 0.051*\"debug\" + 0.043*\"parallel\" + 0.039*\"execut\" + 0.037*\"revers\" + 0.032*\"symbol\" + 0.029*\",\"\n",
      "2021-02-19 14:25:39,198 : INFO : topic #0 (0.011): 0.065*\"-\" + 0.057*\",\" + 0.038*\"point\" + 0.037*\"comput\" + 0.027*\"float\" + 0.024*\"edg\" + 0.024*\"^\" + 0.023*\"bit\" + 0.022*\"digit\" + 0.021*\"2\"\n",
      "2021-02-19 14:25:39,199 : INFO : topic #20 (0.011): 0.310*\"(\" + 0.290*\")\" + 0.211*\"algorithm\" + 0.045*\"function\" + 0.018*\"solut\" + 0.017*\"-\" + 0.015*\"equat\" + 0.013*\"polynomi\" + 0.010*\"bessel\" + 0.009*\"kind\"\n",
      "2021-02-19 14:25:39,199 : INFO : topic #2 (0.013): 0.193*\"(\" + 0.181*\"algorithm\" + 0.102*\")\" + 0.094*\"[\" + 0.078*\"])\" + 0.032*\"integr\" + 0.017*\"$\" + 0.015*\"complex\" + 0.014*\"d1\" + 0.014*\"corrigendum\"\n",
      "2021-02-19 14:25:39,199 : INFO : topic diff=0.382580, rho=0.466151\n",
      "2021-02-19 14:25:39,660 : INFO : -6.778 per-word bound, 109.8 perplexity estimate based on a held-out corpus of 1204 documents with 49783 words\n",
      "2021-02-19 14:25:39,661 : INFO : PROGRESS: pass 2, at document #3204/3204\n",
      "2021-02-19 14:25:40,000 : INFO : optimized alpha [0.011003046, 0.010432992, 0.01311206, 0.010289895, 0.009953499, 0.010310559, 0.009911326, 0.009793263, 0.010448426, 0.010153391, 0.010181238, 0.010003178, 0.010078082, 0.010243633, 0.009500845, 0.009879398, 0.010010088, 0.0102181705, 0.010275604, 0.010262482, 0.01224992, 0.010031227, 0.010288076, 0.0099334875, 0.010873852, 0.0106614735, 0.009843196, 0.010186049, 0.00993606, 0.010371739, 0.010532407, 0.009757925, 0.010564939, 0.010110183, 0.010774365, 0.009959706, 0.009709606, 0.010300458, 0.010144205, 0.010183399, 0.010649947, 0.010206327, 0.01034893, 0.010219572, 0.010662371, 0.0103040645, 0.009885304, 0.010161979, 0.009998966, 0.010765005, 0.010226127, 0.010005819, 0.010380244, 0.0101529695, 0.010264358, 0.010581077, 0.010154194, 0.010032438, 0.01015077, 0.00984453, 0.01029263, 0.01014157, 0.010277958, 0.010669828, 0.0100275045, 0.009710474, 0.010049052, 0.010626937, 0.009953861, 0.010213101, 0.01012492, 0.010559815, 0.010303888, 0.009949084, 0.010713477, 0.010946135, 0.010355773, 0.010193349, 0.0098481085, 0.010156251, 0.010425563, 0.010224709, 0.010035597, 0.010116453, 0.010638815, 0.009986415, 0.009963096, 0.010621357, 0.010565742, 0.009752833, 0.010029753, 0.010216271, 0.009995079, 0.010213682, 0.010276635, 0.00980643, 0.010291597, 0.009984562, 0.010508135, 0.010492162]\n",
      "2021-02-19 14:25:40,003 : INFO : merging changes from 1204 documents into a model of 3204 documents\n"
     ]
    },
    {
     "name": "stderr",
     "output_type": "stream",
     "text": [
      "2021-02-19 14:25:40,006 : INFO : topic #14 (0.010): 0.233*\"maintain\" + 0.218*\"assembl\" + 0.137*\"subroutin\" + 0.082*\"librari\" + 0.073*\"requir\" + 0.072*\"pass\" + 0.059*\"descript\" + 0.025*\"zero\" + 0.016*\",\" + 0.005*\"system\"\n",
      "2021-02-19 14:25:40,007 : INFO : topic #36 (0.010): 0.137*\"instruct\" + 0.109*\"type\" + 0.095*\"program\" + 0.069*\"execut\" + 0.053*\"parallel\" + 0.042*\"comput\" + 0.039*\"revers\" + 0.037*\"symbol\" + 0.031*\"debug\" + 0.028*\"difficult\"\n",
      "2021-02-19 14:25:40,007 : INFO : topic #0 (0.011): 0.072*\"-\" + 0.060*\",\" + 0.042*\"point\" + 0.033*\"comput\" + 0.031*\"edg\" + 0.027*\"float\" + 0.024*\"^\" + 0.023*\"algorithm\" + 0.022*\"digit\" + 0.022*\"object\"\n",
      "2021-02-19 14:25:40,007 : INFO : topic #20 (0.012): 0.335*\"(\" + 0.309*\")\" + 0.208*\"algorithm\" + 0.038*\"function\" + 0.018*\"-\" + 0.015*\"solut\" + 0.013*\"equat\" + 0.010*\"polynomi\" + 0.007*\"kind\" + 0.006*\"interpol\"\n",
      "2021-02-19 14:25:40,007 : INFO : topic #2 (0.013): 0.191*\"(\" + 0.178*\"algorithm\" + 0.109*\")\" + 0.074*\"[\" + 0.050*\"])\" + 0.033*\"$\" + 0.030*\"integr\" + 0.028*\"))\" + 0.026*\"corrigendum\" + 0.019*\"d1\"\n",
      "2021-02-19 14:25:40,008 : INFO : topic diff=0.519088, rho=0.466151\n",
      "2021-02-19 14:25:40,012 : INFO : PROGRESS: pass 3, at document #2000/3204\n",
      "2021-02-19 14:25:40,409 : INFO : optimized alpha [0.010996359, 0.010623894, 0.013714307, 0.010283353, 0.009905449, 0.0103284195, 0.00992978, 0.009831366, 0.010514797, 0.010110126, 0.010129058, 0.009917885, 0.010062119, 0.010254492, 0.009513731, 0.009841424, 0.010051774, 0.010234836, 0.010303809, 0.010317643, 0.013377179, 0.009979578, 0.010458002, 0.00990222, 0.011165085, 0.010693063, 0.00978402, 0.010197353, 0.010070585, 0.010360504, 0.010728402, 0.0098322, 0.010669459, 0.01004149, 0.010896488, 0.009985302, 0.009760034, 0.01038072, 0.0101395175, 0.01034087, 0.010783281, 0.0102134, 0.0103917625, 0.010166286, 0.01067503, 0.010351799, 0.0099258805, 0.010097064, 0.00992436, 0.010714857, 0.010183651, 0.0099871745, 0.010342511, 0.010101271, 0.010353551, 0.010642264, 0.010173268, 0.010087783, 0.010175041, 0.009776857, 0.010338154, 0.010121997, 0.010269546, 0.010742643, 0.01004566, 0.009806559, 0.009996697, 0.010655352, 0.009975519, 0.010277032, 0.010060589, 0.010475881, 0.010273977, 0.009987646, 0.01064471, 0.011020403, 0.010355241, 0.010203926, 0.0098055685, 0.010175652, 0.010399799, 0.010223883, 0.01005581, 0.010084914, 0.010721218, 0.010078068, 0.009918506, 0.010660834, 0.010510463, 0.00984441, 0.010041974, 0.010250765, 0.010001775, 0.010182669, 0.01029049, 0.009855955, 0.010357949, 0.00992115, 0.01050491, 0.010442747]\n",
      "2021-02-19 14:25:40,412 : INFO : merging changes from 2000 documents into a model of 3204 documents\n",
      "2021-02-19 14:25:40,415 : INFO : topic #14 (0.010): 0.238*\"assembl\" + 0.211*\"subroutin\" + 0.155*\"maintain\" + 0.091*\"librari\" + 0.078*\"pass\" + 0.059*\"descript\" + 0.059*\"requir\" + 0.016*\",\" + 0.013*\"zero\" + 0.007*\"system\"\n",
      "2021-02-19 14:25:40,416 : INFO : topic #59 (0.010): 0.061*\",\" + 0.060*\"program\" + 0.043*\"time\" + 0.034*\"label\" + 0.034*\"-\" + 0.032*\"coordin\" + 0.027*\"delet\" + 0.025*\"techniqu\" + 0.022*\"justifi\" + 0.021*\"realiz\"\n",
      "2021-02-19 14:25:40,416 : INFO : topic #24 (0.011): 0.169*\"languag\" + 0.094*\"program\" + 0.079*\"-\" + 0.067*\"level\" + 0.065*\"translat\" + 0.053*\",\" + 0.049*\"fortran\" + 0.045*\"high\" + 0.044*\"compil\" + 0.027*\"sourc\"\n",
      "2021-02-19 14:25:40,416 : INFO : topic #20 (0.013): 0.339*\"(\" + 0.319*\")\" + 0.211*\"algorithm\" + 0.034*\"function\" + 0.016*\"-\" + 0.012*\"solut\" + 0.012*\"polynomi\" + 0.009*\"equat\" + 0.007*\"kind\" + 0.007*\"bessel\"\n",
      "2021-02-19 14:25:40,417 : INFO : topic #2 (0.014): 0.186*\"(\" + 0.177*\"algorithm\" + 0.100*\"[\" + 0.087*\"])\" + 0.082*\")\" + 0.033*\"integr\" + 0.023*\"$\" + 0.018*\"))\" + 0.018*\"complex\" + 0.016*\"corrigendum\"\n",
      "2021-02-19 14:25:40,417 : INFO : topic diff=0.526460, rho=0.422502\n",
      "2021-02-19 14:25:40,871 : INFO : -6.696 per-word bound, 103.7 perplexity estimate based on a held-out corpus of 1204 documents with 49783 words\n",
      "2021-02-19 14:25:40,871 : INFO : PROGRESS: pass 3, at document #3204/3204\n",
      "2021-02-19 14:25:41,211 : INFO : optimized alpha [0.011331032, 0.010762215, 0.013985784, 0.010546197, 0.009990889, 0.010515566, 0.009939108, 0.00985623, 0.010726361, 0.0102904625, 0.01023434, 0.009971062, 0.010145337, 0.010370059, 0.009523465, 0.009856562, 0.010162811, 0.010396192, 0.01051872, 0.010466459, 0.014513205, 0.010063403, 0.010553534, 0.009989021, 0.01144176, 0.010948821, 0.009871148, 0.010388432, 0.010102567, 0.010514726, 0.010951437, 0.009869399, 0.010877926, 0.010141904, 0.011088237, 0.010042889, 0.009899218, 0.01064955, 0.01025749, 0.010508174, 0.011223589, 0.010412316, 0.01049254, 0.010356583, 0.010944801, 0.010534586, 0.0100144, 0.010230389, 0.0100022415, 0.010853559, 0.010345521, 0.010057455, 0.010491822, 0.010260812, 0.010516969, 0.010919078, 0.01030935, 0.01018787, 0.0103150625, 0.009864835, 0.010493557, 0.010254007, 0.010452878, 0.011045978, 0.01021661, 0.009834407, 0.010108024, 0.010925037, 0.010029952, 0.010411657, 0.010161705, 0.010655016, 0.010399802, 0.010101925, 0.010854178, 0.011267099, 0.010538236, 0.0103531, 0.009892885, 0.010289515, 0.010598385, 0.010429567, 0.01016587, 0.010183255, 0.010893273, 0.010181401, 0.010019749, 0.0108958045, 0.010772935, 0.009895445, 0.010174736, 0.010412113, 0.010136023, 0.010344097, 0.010434225, 0.009938696, 0.0105262445, 0.009995731, 0.01075437, 0.010645821]\n",
      "2021-02-19 14:25:41,214 : INFO : merging changes from 1204 documents into a model of 3204 documents\n",
      "2021-02-19 14:25:41,218 : INFO : topic #14 (0.010): 0.220*\"assembl\" + 0.218*\"maintain\" + 0.186*\"subroutin\" + 0.082*\"librari\" + 0.070*\"pass\" + 0.067*\"requir\" + 0.067*\"descript\" + 0.013*\",\" + 0.007*\"zero\" + 0.005*\"system\"\n",
      "2021-02-19 14:25:41,219 : INFO : topic #65 (0.010): 0.133*\"digit\" + 0.096*\"automat\" + 0.075*\"pictur\" + 0.064*\",\" + 0.045*\"program\" + 0.040*\"method\" + 0.030*\"intend\" + 0.026*\"comput\" + 0.020*\"obtain\" + 0.019*\"romberg\"\n",
      "2021-02-19 14:25:41,219 : INFO : topic #24 (0.011): 0.182*\"languag\" + 0.103*\"program\" + 0.093*\"level\" + 0.075*\"-\" + 0.057*\"translat\" + 0.053*\",\" + 0.052*\"high\" + 0.043*\"compil\" + 0.039*\"fortran\" + 0.027*\"sourc\"\n",
      "2021-02-19 14:25:41,219 : INFO : topic #2 (0.014): 0.184*\"(\" + 0.175*\"algorithm\" + 0.088*\")\" + 0.078*\"[\" + 0.059*\"])\" + 0.041*\"$\" + 0.034*\"))\" + 0.031*\"integr\" + 0.028*\"corrigendum\" + 0.021*\"complex\"\n",
      "2021-02-19 14:25:41,220 : INFO : topic #20 (0.015): 0.355*\"(\" + 0.329*\")\" + 0.208*\"algorithm\" + 0.030*\"function\" + 0.016*\"-\" + 0.010*\"solut\" + 0.009*\"polynomi\" + 0.007*\"equat\" + 0.006*\"kind\" + 0.005*\"interpol\"\n",
      "2021-02-19 14:25:41,220 : INFO : topic diff=0.642146, rho=0.422502\n",
      "2021-02-19 14:25:41,224 : INFO : PROGRESS: pass 4, at document #2000/3204\n",
      "2021-02-19 14:25:41,613 : INFO : optimized alpha [0.011328785, 0.0109748645, 0.014513341, 0.010554889, 0.009963115, 0.010558108, 0.00998648, 0.00990179, 0.010806508, 0.010251806, 0.0101867635, 0.009894336, 0.010146906, 0.010388255, 0.009554909, 0.009832917, 0.010213259, 0.01041316, 0.010556098, 0.010523319, 0.015852466, 0.010016536, 0.01072037, 0.009962697, 0.011729638, 0.010995875, 0.009827005, 0.010414442, 0.010251664, 0.010497605, 0.01116345, 0.009944438, 0.011004937, 0.010079356, 0.011201488, 0.010082743, 0.009957498, 0.010739819, 0.010265145, 0.010669724, 0.011395936, 0.010423892, 0.0105446195, 0.010318828, 0.010958978, 0.010594581, 0.010071634, 0.010170666, 0.009946644, 0.0108050415, 0.0103138825, 0.010052842, 0.010458866, 0.01022892, 0.010617946, 0.011006829, 0.010338823, 0.010249184, 0.010365544, 0.009811109, 0.01054356, 0.010245883, 0.010452503, 0.011125349, 0.010246766, 0.009956589, 0.010072067, 0.010954023, 0.010066181, 0.010470796, 0.010097203, 0.010579346, 0.01038449, 0.010163269, 0.010789667, 0.011350719, 0.010551394, 0.010378762, 0.009859994, 0.010319599, 0.01057158, 0.010429645, 0.010188528, 0.01016862, 0.0109649105, 0.010288417, 0.009994746, 0.010956746, 0.010719983, 0.010013663, 0.010205813, 0.010455756, 0.010195786, 0.010321006, 0.010454811, 0.0100079635, 0.01060398, 0.0099402955, 0.010751985, 0.010599096]\n",
      "2021-02-19 14:25:41,616 : INFO : merging changes from 2000 documents into a model of 3204 documents\n",
      "2021-02-19 14:25:41,619 : INFO : topic #14 (0.010): 0.253*\"subroutin\" + 0.231*\"assembl\" + 0.151*\"maintain\" + 0.088*\"librari\" + 0.074*\"pass\" + 0.062*\"descript\" + 0.057*\"requir\" + 0.013*\",\" + 0.006*\"system\" + 0.005*\"inform\"\n"
     ]
    },
    {
     "name": "stderr",
     "output_type": "stream",
     "text": [
      "2021-02-19 14:25:41,620 : INFO : topic #26 (0.010): 0.077*\"comput\" + 0.066*\"system\" + 0.060*\"stage\" + 0.053*\"-\" + 0.041*\"driven\" + 0.035*\"resourc\" + 0.029*\"situat\" + 0.028*\"\"\" + 0.027*\"implement\" + 0.021*\"back\"\n",
      "2021-02-19 14:25:41,620 : INFO : topic #24 (0.012): 0.192*\"languag\" + 0.105*\"program\" + 0.081*\"-\" + 0.071*\"level\" + 0.064*\"translat\" + 0.052*\",\" + 0.048*\"fortran\" + 0.046*\"compil\" + 0.044*\"high\" + 0.025*\"sourc\"\n",
      "2021-02-19 14:25:41,620 : INFO : topic #2 (0.015): 0.181*\"(\" + 0.175*\"algorithm\" + 0.102*\"[\" + 0.091*\"])\" + 0.065*\")\" + 0.034*\"integr\" + 0.029*\"$\" + 0.023*\"))\" + 0.020*\"complex\" + 0.018*\"corrigendum\"\n",
      "2021-02-19 14:25:41,621 : INFO : topic #20 (0.016): 0.355*\"(\" + 0.333*\")\" + 0.209*\"algorithm\" + 0.028*\"function\" + 0.015*\"-\" + 0.010*\"polynomi\" + 0.008*\"solut\" + 0.006*\"kind\" + 0.006*\"interpol\" + 0.006*\"bessel\"\n",
      "2021-02-19 14:25:41,621 : INFO : topic diff=0.621316, rho=0.389191\n",
      "2021-02-19 14:25:42,055 : INFO : -6.639 per-word bound, 99.7 perplexity estimate based on a held-out corpus of 1204 documents with 49783 words\n",
      "2021-02-19 14:25:42,055 : INFO : PROGRESS: pass 4, at document #3204/3204\n",
      "2021-02-19 14:25:42,360 : INFO : optimized alpha [0.011631681, 0.011098877, 0.014759155, 0.010800716, 0.010075501, 0.010746137, 0.009995561, 0.009941454, 0.011014887, 0.010439691, 0.010294819, 0.009951237, 0.010224183, 0.010519463, 0.009567716, 0.009861282, 0.010342931, 0.010563036, 0.0107427165, 0.010654706, 0.017195353, 0.010111107, 0.010821863, 0.010043706, 0.012013123, 0.011206204, 0.009905041, 0.01062664, 0.010280124, 0.010637451, 0.011389847, 0.00999176, 0.0112210065, 0.010176303, 0.011397802, 0.010139486, 0.01010639, 0.01100615, 0.010388093, 0.010849474, 0.0118915, 0.010626158, 0.010665657, 0.010506083, 0.01121132, 0.010781835, 0.010169837, 0.010297945, 0.010055435, 0.010923258, 0.01048781, 0.010138372, 0.010583905, 0.010370609, 0.010790473, 0.011273873, 0.010478684, 0.01035851, 0.010502224, 0.009909166, 0.010681142, 0.01037845, 0.010629869, 0.011421517, 0.010419227, 0.010001217, 0.010185418, 0.011199307, 0.0101365475, 0.010616103, 0.010191411, 0.01075288, 0.010548922, 0.01027574, 0.011005751, 0.011595968, 0.010735374, 0.010517384, 0.009950889, 0.010425218, 0.010746127, 0.010624912, 0.010310575, 0.010279952, 0.011117218, 0.010397326, 0.0101052355, 0.011183213, 0.010968283, 0.01011249, 0.0103389975, 0.010609146, 0.010364031, 0.010470999, 0.0105780335, 0.010084365, 0.010788283, 0.010006958, 0.010981367, 0.010808733]\n",
      "2021-02-19 14:25:42,362 : INFO : merging changes from 1204 documents into a model of 3204 documents\n",
      "2021-02-19 14:25:42,366 : INFO : topic #14 (0.010): 0.221*\"assembl\" + 0.218*\"subroutin\" + 0.207*\"maintain\" + 0.080*\"librari\" + 0.069*\"pass\" + 0.068*\"descript\" + 0.062*\"requir\" + 0.011*\",\" + 0.004*\"system\" + 0.003*\"inform\"\n",
      "2021-02-19 14:25:42,366 : INFO : topic #59 (0.010): 0.066*\",\" + 0.059*\"program\" + 0.046*\"delet\" + 0.044*\"time\" + 0.040*\"label\" + 0.040*\"insert\" + 0.035*\"-\" + 0.031*\"realiz\" + 0.030*\"coordin\" + 0.028*\"treat\"\n",
      "2021-02-19 14:25:42,366 : INFO : topic #24 (0.012): 0.203*\"languag\" + 0.111*\"program\" + 0.093*\"level\" + 0.076*\"-\" + 0.058*\"translat\" + 0.052*\",\" + 0.051*\"high\" + 0.045*\"compil\" + 0.039*\"fortran\" + 0.026*\"sourc\"\n",
      "2021-02-19 14:25:42,367 : INFO : topic #2 (0.015): 0.177*\"algorithm\" + 0.176*\"(\" + 0.080*\"[\" + 0.069*\")\" + 0.064*\"])\" + 0.047*\"$\" + 0.039*\"))\" + 0.033*\"integr\" + 0.029*\"corrigendum\" + 0.023*\"complex\"\n",
      "2021-02-19 14:25:42,367 : INFO : topic #20 (0.017): 0.369*\"(\" + 0.342*\")\" + 0.201*\"algorithm\" + 0.025*\"function\" + 0.015*\"-\" + 0.008*\"polynomi\" + 0.006*\"solut\" + 0.005*\"kind\" + 0.004*\"interpol\" + 0.004*\"equat\"\n",
      "2021-02-19 14:25:42,367 : INFO : topic diff=0.683804, rho=0.389191\n",
      "2021-02-19 14:25:42,372 : INFO : PROGRESS: pass 5, at document #2000/3204\n",
      "2021-02-19 14:25:42,744 : INFO : optimized alpha [0.011638131, 0.011319354, 0.015255055, 0.010809408, 0.010066309, 0.010793377, 0.010055232, 0.00999378, 0.011097919, 0.010416096, 0.010254585, 0.009886718, 0.010233524, 0.010549859, 0.009601341, 0.009853048, 0.010395878, 0.010578538, 0.01078304, 0.010713736, 0.018681906, 0.010069744, 0.010983501, 0.010027009, 0.012318042, 0.011259714, 0.009864545, 0.010652027, 0.010426471, 0.010630882, 0.011608259, 0.010075099, 0.011351002, 0.0101186065, 0.01151018, 0.010197503, 0.010170153, 0.011110327, 0.010397106, 0.010998316, 0.0120879905, 0.010639893, 0.010722239, 0.010473855, 0.011231215, 0.010847498, 0.010236457, 0.010248056, 0.010005835, 0.010880352, 0.010463436, 0.010143786, 0.010555122, 0.010348292, 0.010889235, 0.011366091, 0.010513683, 0.0104197385, 0.010562815, 0.009857686, 0.010727749, 0.010376398, 0.01062891, 0.011515817, 0.010462209, 0.010127317, 0.010148379, 0.0112271905, 0.010174423, 0.010680871, 0.010141289, 0.010685948, 0.010541788, 0.010338903, 0.010948491, 0.011690718, 0.010758708, 0.01054306, 0.009933327, 0.010470623, 0.010726327, 0.010639631, 0.010335497, 0.010273946, 0.011178001, 0.010513121, 0.01009682, 0.011251902, 0.010927156, 0.010260895, 0.010390691, 0.010653477, 0.010450069, 0.010451031, 0.010599107, 0.0101513425, 0.010884554, 0.009952586, 0.010985891, 0.0107739335]\n",
      "2021-02-19 14:25:42,747 : INFO : merging changes from 2000 documents into a model of 3204 documents\n",
      "2021-02-19 14:25:42,750 : INFO : topic #14 (0.010): 0.272*\"subroutin\" + 0.229*\"assembl\" + 0.149*\"maintain\" + 0.086*\"librari\" + 0.072*\"pass\" + 0.065*\"descript\" + 0.055*\"requir\" + 0.011*\",\" + 0.005*\"system\" + 0.005*\"inform\"\n",
      "2021-02-19 14:25:42,750 : INFO : topic #59 (0.010): 0.064*\",\" + 0.063*\"program\" + 0.045*\"time\" + 0.038*\"-\" + 0.037*\"label\" + 0.036*\"delet\" + 0.035*\"coordin\" + 0.033*\"insert\" + 0.029*\"realiz\" + 0.028*\"techniqu\"\n",
      "2021-02-19 14:25:42,751 : INFO : topic #24 (0.012): 0.213*\"languag\" + 0.111*\"program\" + 0.081*\"-\" + 0.074*\"level\" + 0.063*\"translat\" + 0.052*\",\" + 0.047*\"compil\" + 0.046*\"fortran\" + 0.045*\"high\" + 0.024*\"sourc\"\n",
      "2021-02-19 14:25:42,751 : INFO : topic #2 (0.015): 0.177*\"algorithm\" + 0.175*\"(\" + 0.103*\"[\" + 0.093*\"])\" + 0.054*\")\" + 0.034*\"integr\" + 0.034*\"$\" + 0.026*\"))\" + 0.022*\"complex\" + 0.019*\"corrigendum\"\n",
      "2021-02-19 14:25:42,751 : INFO : topic #20 (0.019): 0.366*\"(\" + 0.343*\")\" + 0.203*\"algorithm\" + 0.025*\"function\" + 0.014*\"-\" + 0.009*\"polynomi\" + 0.006*\"kind\" + 0.005*\"solut\" + 0.005*\"interpol\" + 0.005*\"bessel\"\n",
      "2021-02-19 14:25:42,752 : INFO : topic diff=0.623771, rho=0.362690\n",
      "2021-02-19 14:25:43,180 : INFO : -6.596 per-word bound, 96.7 perplexity estimate based on a held-out corpus of 1204 documents with 49783 words\n",
      "2021-02-19 14:25:43,181 : INFO : PROGRESS: pass 5, at document #3204/3204\n",
      "2021-02-19 14:25:43,483 : INFO : optimized alpha [0.01192511, 0.011421326, 0.015492794, 0.011048223, 0.010193427, 0.010964066, 0.01008238, 0.010043363, 0.011288, 0.010602755, 0.01036249, 0.009946931, 0.010324736, 0.010682913, 0.009611021, 0.009895573, 0.0105303805, 0.01072584, 0.010962039, 0.010837053, 0.020211492, 0.010158873, 0.011074743, 0.01010636, 0.012618186, 0.011451375, 0.009944138, 0.010881568, 0.010452333, 0.010762344, 0.011839993, 0.010134345, 0.011569192, 0.010209857, 0.011666718, 0.010250429, 0.010328932, 0.011383415, 0.010519028, 0.011177769, 0.012613468, 0.010840191, 0.010842293, 0.010650285, 0.011483302, 0.011030625, 0.010337642, 0.010371031, 0.010117444, 0.010991507, 0.010636577, 0.010233586, 0.010682397, 0.010494239, 0.011054912, 0.01166448, 0.010657885, 0.010512887, 0.010713726, 0.009965014, 0.010870044, 0.010497809, 0.010792635, 0.011814777, 0.010627882, 0.01018391, 0.010270421, 0.011476144, 0.010252908, 0.010830372, 0.010233163, 0.010865653, 0.010725637, 0.010447532, 0.011165427, 0.011929695, 0.01092877, 0.01067977, 0.010021868, 0.010563385, 0.010877478, 0.010830158, 0.010456558, 0.010369112, 0.0113309715, 0.010621528, 0.010231256, 0.011472539, 0.011144942, 0.010387369, 0.010522238, 0.010804141, 0.010631119, 0.010592195, 0.010714668, 0.010232186, 0.011084795, 0.010003652, 0.011205626, 0.010964801]\n",
      "2021-02-19 14:25:43,485 : INFO : merging changes from 1204 documents into a model of 3204 documents\n",
      "2021-02-19 14:25:43,488 : INFO : topic #14 (0.010): 0.235*\"subroutin\" + 0.223*\"assembl\" + 0.201*\"maintain\" + 0.080*\"librari\" + 0.070*\"descript\" + 0.063*\"pass\" + 0.058*\"requir\" + 0.009*\",\" + 0.004*\"system\" + 0.003*\"inform\"\n"
     ]
    },
    {
     "name": "stderr",
     "output_type": "stream",
     "text": [
      "2021-02-19 14:25:43,489 : INFO : topic #15 (0.010): 0.112*\"-\" + 0.073*\",\" + 0.049*\"time\" + 0.043*\"comput\" + 0.035*\"processor\" + 0.025*\"system\" + 0.021*\"mode\" + 0.016*\"disk\" + 0.014*\"word\" + 0.014*\"process\"\n",
      "2021-02-19 14:25:43,489 : INFO : topic #40 (0.013): 0.215*\"data\" + 0.095*\"design\" + 0.092*\"system\" + 0.083*\"structur\" + 0.052*\"organ\" + 0.031*\",\" + 0.029*\"process\" + 0.027*\"inform\" + 0.024*\"applic\" + 0.024*\"gener\"\n",
      "2021-02-19 14:25:43,489 : INFO : topic #2 (0.015): 0.179*\"algorithm\" + 0.171*\"(\" + 0.082*\"[\" + 0.067*\"])\" + 0.057*\")\" + 0.051*\"$\" + 0.042*\"))\" + 0.033*\"integr\" + 0.030*\"corrigendum\" + 0.025*\"complex\"\n",
      "2021-02-19 14:25:43,490 : INFO : topic #20 (0.020): 0.377*\"(\" + 0.350*\")\" + 0.196*\"algorithm\" + 0.022*\"function\" + 0.014*\"-\" + 0.007*\"polynomi\" + 0.005*\"kind\" + 0.004*\"solut\" + 0.004*\"interpol\" + 0.004*\"bessel\"\n",
      "2021-02-19 14:25:43,490 : INFO : topic diff=0.646765, rho=0.362690\n",
      "2021-02-19 14:25:43,494 : INFO : PROGRESS: pass 6, at document #2000/3204\n",
      "2021-02-19 14:25:43,863 : INFO : optimized alpha [0.011933532, 0.011640296, 0.015955012, 0.01107419, 0.010196915, 0.011015769, 0.010147882, 0.010096609, 0.011380138, 0.010576109, 0.010332002, 0.009887473, 0.010333706, 0.010720725, 0.009643412, 0.009893753, 0.0105839195, 0.010741996, 0.010999607, 0.010898379, 0.021847542, 0.010129125, 0.011226819, 0.01009454, 0.012920357, 0.011509368, 0.009911697, 0.010923455, 0.010602347, 0.010767139, 0.012067867, 0.010216936, 0.011710749, 0.010161542, 0.011781248, 0.010316141, 0.010390898, 0.011497422, 0.010527393, 0.011321656, 0.012819835, 0.010863348, 0.010899651, 0.010630255, 0.011508709, 0.01109237, 0.010407782, 0.010326007, 0.010085024, 0.01095917, 0.010612999, 0.010247588, 0.010655335, 0.010478382, 0.011159893, 0.011763337, 0.010690729, 0.0105745485, 0.010776299, 0.009922045, 0.010915731, 0.010504799, 0.0107968245, 0.011921707, 0.010668186, 0.010314399, 0.01023921, 0.0115072485, 0.010309873, 0.010900669, 0.010188416, 0.010805815, 0.010720093, 0.010503811, 0.011114223, 0.012035546, 0.0109559735, 0.010703833, 0.010014203, 0.010608358, 0.010862249, 0.010830325, 0.010492578, 0.010367243, 0.011395982, 0.01074083, 0.010226655, 0.011544826, 0.011106992, 0.01055219, 0.010576428, 0.010851339, 0.0107381875, 0.01057313, 0.010736373, 0.010293952, 0.011191293, 0.009960553, 0.011208869, 0.010946393]\n",
      "2021-02-19 14:25:43,866 : INFO : merging changes from 2000 documents into a model of 3204 documents\n",
      "2021-02-19 14:25:43,869 : INFO : topic #14 (0.010): 0.283*\"subroutin\" + 0.230*\"assembl\" + 0.149*\"maintain\" + 0.085*\"librari\" + 0.066*\"descript\" + 0.066*\"pass\" + 0.052*\"requir\" + 0.009*\",\" + 0.004*\"inform\" + 0.004*\"system\"\n",
      "2021-02-19 14:25:43,869 : INFO : topic #15 (0.010): 0.114*\"-\" + 0.075*\",\" + 0.048*\"time\" + 0.045*\"comput\" + 0.035*\"processor\" + 0.024*\"system\" + 0.021*\"mode\" + 0.018*\"disk\" + 0.015*\"word\" + 0.013*\"equal\"\n",
      "2021-02-19 14:25:43,870 : INFO : topic #24 (0.013): 0.231*\"languag\" + 0.114*\"program\" + 0.082*\"-\" + 0.076*\"level\" + 0.062*\"translat\" + 0.051*\",\" + 0.046*\"compil\" + 0.045*\"high\" + 0.045*\"fortran\" + 0.023*\"sourc\"\n",
      "2021-02-19 14:25:43,870 : INFO : topic #2 (0.016): 0.178*\"algorithm\" + 0.172*\"(\" + 0.102*\"[\" + 0.093*\"])\" + 0.046*\")\" + 0.037*\"$\" + 0.035*\"integr\" + 0.029*\"))\" + 0.023*\"complex\" + 0.020*\"corrigendum\"\n",
      "2021-02-19 14:25:43,870 : INFO : topic #20 (0.022): 0.374*\"(\" + 0.350*\")\" + 0.198*\"algorithm\" + 0.023*\"function\" + 0.013*\"-\" + 0.008*\"polynomi\" + 0.006*\"kind\" + 0.005*\"interpol\" + 0.004*\"bessel\" + 0.004*\"differ\"\n",
      "2021-02-19 14:25:43,871 : INFO : topic diff=0.571992, rho=0.340958\n",
      "2021-02-19 14:25:44,291 : INFO : -6.565 per-word bound, 94.7 perplexity estimate based on a held-out corpus of 1204 documents with 49783 words\n",
      "2021-02-19 14:25:44,292 : INFO : PROGRESS: pass 6, at document #3204/3204\n",
      "2021-02-19 14:25:44,581 : INFO : optimized alpha [0.012207511, 0.011739263, 0.016182093, 0.011295755, 0.010343927, 0.011190466, 0.010188249, 0.010175441, 0.011584014, 0.010771636, 0.0104373805, 0.009953714, 0.010435013, 0.010856115, 0.009655873, 0.009951674, 0.01072963, 0.010890905, 0.011172819, 0.011033785, 0.023607314, 0.010219628, 0.011312535, 0.010172822, 0.013223788, 0.011688094, 0.009990201, 0.011152169, 0.010631985, 0.010897931, 0.012313228, 0.010278636, 0.011925629, 0.0102484105, 0.011949422, 0.010380843, 0.010565581, 0.011785447, 0.010645997, 0.011485948, 0.013349631, 0.011066185, 0.011003997, 0.0108008385, 0.011752483, 0.011272815, 0.010512341, 0.01044276, 0.010196688, 0.011055202, 0.010780503, 0.01035042, 0.010773026, 0.010619961, 0.011326736, 0.01208352, 0.010821429, 0.010677741, 0.010935083, 0.010032527, 0.011059982, 0.010634842, 0.010958422, 0.012221936, 0.010822523, 0.010382041, 0.010354985, 0.01174141, 0.010387147, 0.011042438, 0.010272675, 0.010995129, 0.01089487, 0.0106006535, 0.011317301, 0.012273713, 0.011126813, 0.010842641, 0.010112476, 0.010693181, 0.011002607, 0.011023984, 0.0106104035, 0.010472219, 0.011550745, 0.010864809, 0.010380515, 0.011748306, 0.011307711, 0.010710908, 0.010698122, 0.010991157, 0.010935353, 0.010701078, 0.010827318, 0.010361562, 0.011391861, 0.01002394, 0.011408467, 0.011143508]\n",
      "2021-02-19 14:25:44,584 : INFO : merging changes from 1204 documents into a model of 3204 documents\n",
      "2021-02-19 14:25:44,587 : INFO : topic #14 (0.010): 0.245*\"subroutin\" + 0.225*\"assembl\" + 0.197*\"maintain\" + 0.079*\"librari\" + 0.071*\"descript\" + 0.064*\"pass\" + 0.054*\"requir\" + 0.007*\",\" + 0.003*\"system\" + 0.003*\"inform\"\n",
      "2021-02-19 14:25:44,587 : INFO : topic #15 (0.010): 0.113*\"-\" + 0.073*\",\" + 0.050*\"time\" + 0.043*\"comput\" + 0.038*\"processor\" + 0.026*\"system\" + 0.022*\"mode\" + 0.017*\"disk\" + 0.015*\"equal\" + 0.015*\"process\"\n",
      "2021-02-19 14:25:44,587 : INFO : topic #40 (0.013): 0.226*\"data\" + 0.093*\"design\" + 0.091*\"system\" + 0.086*\"structur\" + 0.050*\"organ\" + 0.032*\"process\" + 0.030*\",\" + 0.027*\"inform\" + 0.024*\"gener\" + 0.024*\"applic\"\n",
      "2021-02-19 14:25:44,588 : INFO : topic #2 (0.016): 0.180*\"algorithm\" + 0.167*\"(\" + 0.082*\"[\" + 0.069*\"])\" + 0.053*\"$\" + 0.047*\")\" + 0.044*\"))\" + 0.033*\"integr\" + 0.030*\"corrigendum\" + 0.026*\"complex\"\n",
      "2021-02-19 14:25:44,588 : INFO : topic #20 (0.024): 0.384*\"(\" + 0.358*\")\" + 0.189*\"algorithm\" + 0.020*\"function\" + 0.013*\"-\" + 0.007*\"polynomi\" + 0.005*\"kind\" + 0.004*\"interpol\" + 0.003*\"bessel\" + 0.003*\"differ\"\n",
      "2021-02-19 14:25:44,588 : INFO : topic diff=0.579072, rho=0.340958\n",
      "2021-02-19 14:25:44,592 : INFO : PROGRESS: pass 7, at document #2000/3204\n",
      "2021-02-19 14:25:44,954 : INFO : optimized alpha [0.012212085, 0.011961885, 0.01658786, 0.01132333, 0.010362152, 0.011241233, 0.010252689, 0.010247793, 0.011685083, 0.010745583, 0.010408723, 0.009917868, 0.010448748, 0.0108902445, 0.009688801, 0.009952083, 0.010785726, 0.01091312, 0.011209975, 0.011097526, 0.02541478, 0.0101935305, 0.011458409, 0.010163664, 0.013515837, 0.01174679, 0.0099665085, 0.011202243, 0.010781034, 0.010907699, 0.012553696, 0.010364328, 0.012071089, 0.010204916, 0.01205497, 0.010450442, 0.010629638, 0.011900037, 0.010655693, 0.011623982, 0.013577761, 0.011091118, 0.011069401, 0.010776148, 0.011777534, 0.011338635, 0.01058603, 0.010410533, 0.010171055, 0.011030421, 0.010757662, 0.010365582, 0.010752885, 0.010608193, 0.0114324745, 0.012181183, 0.010852572, 0.010766012, 0.0109981755, 0.009990376, 0.011103388, 0.010646558, 0.010962039, 0.012333641, 0.010867576, 0.010513984, 0.010333915, 0.011775745, 0.01045348, 0.011118304, 0.010234228, 0.010952173, 0.010899734, 0.010664712, 0.011271599, 0.01244105, 0.011152347, 0.010872264, 0.010111942, 0.010736082, 0.010995213, 0.011023476, 0.010649795, 0.01047239, 0.011621851, 0.0109773455, 0.010385911, 0.011826445, 0.011276369, 0.010888832, 0.010758422, 0.011039533, 0.011059302, 0.010684758, 0.010855153, 0.0104206195, 0.011508504, 0.009992133, 0.011408979, 0.011141542]\n",
      "2021-02-19 14:25:44,957 : INFO : merging changes from 2000 documents into a model of 3204 documents\n",
      "2021-02-19 14:25:44,960 : INFO : topic #14 (0.010): 0.288*\"subroutin\" + 0.231*\"assembl\" + 0.150*\"maintain\" + 0.084*\"librari\" + 0.068*\"descript\" + 0.066*\"pass\" + 0.049*\"requir\" + 0.007*\",\" + 0.004*\"inform\" + 0.004*\"system\"\n",
      "2021-02-19 14:25:44,960 : INFO : topic #11 (0.010): 0.072*\",\" + 0.071*\"string\" + 0.030*\"queri\" + 0.026*\"set\" + 0.022*\"-\" + 0.018*\"cell\" + 0.018*\"memori\" + 0.017*\";\" + 0.017*\"request\" + 0.016*\"oper\"\n"
     ]
    },
    {
     "name": "stderr",
     "output_type": "stream",
     "text": [
      "2021-02-19 14:25:44,961 : INFO : topic #40 (0.014): 0.231*\"data\" + 0.093*\"system\" + 0.091*\"design\" + 0.080*\"structur\" + 0.050*\"organ\" + 0.037*\"process\" + 0.030*\",\" + 0.029*\"inform\" + 0.024*\"applic\" + 0.023*\"gener\"\n",
      "2021-02-19 14:25:44,961 : INFO : topic #2 (0.017): 0.178*\"algorithm\" + 0.167*\"(\" + 0.096*\"[\" + 0.089*\"])\" + 0.041*\"$\" + 0.039*\")\" + 0.036*\"integr\" + 0.032*\"))\" + 0.025*\"complex\" + 0.022*\"corrigendum\"\n",
      "2021-02-19 14:25:44,961 : INFO : topic #20 (0.025): 0.380*\"(\" + 0.356*\")\" + 0.192*\"algorithm\" + 0.021*\"function\" + 0.012*\"-\" + 0.008*\"polynomi\" + 0.006*\"kind\" + 0.004*\"interpol\" + 0.004*\"bessel\" + 0.004*\"differ\"\n",
      "2021-02-19 14:25:44,962 : INFO : topic diff=0.505313, rho=0.322715\n",
      "2021-02-19 14:25:45,371 : INFO : -6.538 per-word bound, 92.9 perplexity estimate based on a held-out corpus of 1204 documents with 49783 words\n",
      "2021-02-19 14:25:45,371 : INFO : PROGRESS: pass 7, at document #3204/3204\n",
      "2021-02-19 14:25:45,660 : INFO : optimized alpha [0.0124785835, 0.0120583335, 0.016819928, 0.011547957, 0.010500096, 0.011414341, 0.010293971, 0.010351087, 0.0118838865, 0.010935771, 0.010517899, 0.009984114, 0.010545473, 0.011025487, 0.00970114, 0.0100157745, 0.010922227, 0.01106125, 0.011363505, 0.011226766, 0.02730627, 0.010288281, 0.011545561, 0.0102467565, 0.013801928, 0.011911309, 0.010044279, 0.011449555, 0.0107968515, 0.011035504, 0.012793091, 0.010431271, 0.012306836, 0.010299086, 0.012215363, 0.010514674, 0.01080864, 0.012181386, 0.0107689155, 0.011758834, 0.014125421, 0.011297337, 0.011171793, 0.010948082, 0.0120115, 0.011514477, 0.010694165, 0.010536231, 0.0102833, 0.0111314505, 0.01092062, 0.0104692755, 0.010868213, 0.010746334, 0.011592105, 0.012504291, 0.010991924, 0.010876034, 0.01116793, 0.010101396, 0.011250173, 0.010773605, 0.0111106625, 0.012617057, 0.011012207, 0.010580776, 0.0104418, 0.0120036425, 0.010524241, 0.011259472, 0.010323334, 0.0111393705, 0.011081751, 0.01074532, 0.01148132, 0.0126700625, 0.011321794, 0.011013699, 0.010213914, 0.010811078, 0.011129319, 0.0112149315, 0.010776675, 0.010569941, 0.01176968, 0.011110401, 0.010533118, 0.012037405, 0.01147447, 0.011055668, 0.010877315, 0.0111699775, 0.011254816, 0.010804043, 0.010950676, 0.010498946, 0.011694798, 0.010044904, 0.011587668, 0.011351489]\n",
      "2021-02-19 14:25:45,663 : INFO : merging changes from 1204 documents into a model of 3204 documents\n",
      "2021-02-19 14:25:45,666 : INFO : topic #14 (0.010): 0.251*\"subroutin\" + 0.226*\"assembl\" + 0.195*\"maintain\" + 0.079*\"librari\" + 0.072*\"descript\" + 0.064*\"pass\" + 0.050*\"requir\" + 0.006*\",\" + 0.003*\"system\" + 0.003*\"inform\"\n",
      "2021-02-19 14:25:45,666 : INFO : topic #11 (0.010): 0.074*\",\" + 0.071*\"string\" + 0.036*\"queri\" + 0.027*\"set\" + 0.022*\"cell\" + 0.021*\"-\" + 0.018*\"memori\" + 0.017*\"shown\" + 0.017*\"oper\" + 0.016*\";\"\n",
      "2021-02-19 14:25:45,667 : INFO : topic #40 (0.014): 0.235*\"data\" + 0.092*\"design\" + 0.089*\"system\" + 0.088*\"structur\" + 0.050*\"organ\" + 0.034*\"process\" + 0.029*\",\" + 0.027*\"inform\" + 0.025*\"gener\" + 0.024*\"applic\"\n",
      "2021-02-19 14:25:45,667 : INFO : topic #2 (0.017): 0.182*\"algorithm\" + 0.163*\"(\" + 0.077*\"[\" + 0.066*\"])\" + 0.056*\"$\" + 0.046*\"))\" + 0.039*\")\" + 0.034*\"integr\" + 0.032*\"corrigendum\" + 0.028*\"complex\"\n",
      "2021-02-19 14:25:45,667 : INFO : topic #20 (0.027): 0.390*\"(\" + 0.364*\")\" + 0.183*\"algorithm\" + 0.019*\"function\" + 0.012*\"-\" + 0.007*\"polynomi\" + 0.005*\"kind\" + 0.004*\"interpol\" + 0.003*\"bessel\" + 0.003*\"differ\"\n",
      "2021-02-19 14:25:45,668 : INFO : topic diff=0.508422, rho=0.322715\n",
      "2021-02-19 14:25:45,672 : INFO : PROGRESS: pass 8, at document #2000/3204\n",
      "2021-02-19 14:25:46,022 : INFO : optimized alpha [0.012479748, 0.012275877, 0.017082674, 0.011575349, 0.0105205495, 0.011466163, 0.01036389, 0.010457284, 0.011979131, 0.010920341, 0.010497286, 0.00995837, 0.010558724, 0.011068293, 0.009731705, 0.010022845, 0.010975888, 0.011092392, 0.01140049, 0.011293041, 0.02928948, 0.0102651995, 0.011689667, 0.010239945, 0.014080579, 0.011972686, 0.010022114, 0.01151098, 0.010938726, 0.011049928, 0.013037045, 0.010516909, 0.012452923, 0.010258048, 0.012329646, 0.010588063, 0.0108765345, 0.012300665, 0.010781505, 0.0118774045, 0.014354146, 0.011329129, 0.011229449, 0.010927319, 0.012040076, 0.011582622, 0.010771474, 0.010505491, 0.01026537, 0.0111222975, 0.010898385, 0.010487159, 0.010850789, 0.010743244, 0.011702489, 0.012611171, 0.011033418, 0.010974423, 0.011240263, 0.010062919, 0.01129499, 0.010786379, 0.011117313, 0.012723954, 0.011058554, 0.010712844, 0.010426744, 0.012043195, 0.010594556, 0.011330359, 0.010295169, 0.011102939, 0.011103113, 0.010810175, 0.011442195, 0.012897639, 0.011349316, 0.011041868, 0.010218214, 0.01086242, 0.011127317, 0.01121385, 0.010819353, 0.010570245, 0.011839625, 0.011227285, 0.010542894, 0.012121256, 0.011441991, 0.0112419855, 0.010936748, 0.011219678, 0.011390075, 0.010788414, 0.010980854, 0.010554069, 0.011817848, 0.010009131, 0.01158583, 0.011347047]\n",
      "2021-02-19 14:25:46,025 : INFO : merging changes from 2000 documents into a model of 3204 documents\n",
      "2021-02-19 14:25:46,027 : INFO : topic #14 (0.010): 0.291*\"subroutin\" + 0.232*\"assembl\" + 0.151*\"maintain\" + 0.083*\"librari\" + 0.069*\"descript\" + 0.067*\"pass\" + 0.046*\"requir\" + 0.006*\",\" + 0.004*\"inform\" + 0.004*\"system\"\n",
      "2021-02-19 14:25:46,028 : INFO : topic #11 (0.010): 0.079*\"string\" + 0.073*\",\" + 0.030*\"queri\" + 0.027*\"set\" + 0.022*\"-\" + 0.020*\"cell\" + 0.018*\"request\" + 0.017*\";\" + 0.017*\"memori\" + 0.016*\"oper\"\n",
      "2021-02-19 14:25:46,028 : INFO : topic #40 (0.014): 0.241*\"data\" + 0.092*\"system\" + 0.089*\"design\" + 0.083*\"structur\" + 0.050*\"organ\" + 0.039*\"process\" + 0.028*\",\" + 0.028*\"inform\" + 0.024*\"gener\" + 0.024*\"applic\"\n",
      "2021-02-19 14:25:46,028 : INFO : topic #2 (0.017): 0.178*\"algorithm\" + 0.160*\"(\" + 0.087*\"[\" + 0.079*\"])\" + 0.045*\"$\" + 0.038*\"integr\" + 0.036*\"))\" + 0.034*\")\" + 0.028*\"complex\" + 0.024*\"corrigendum\"\n",
      "2021-02-19 14:25:46,029 : INFO : topic #20 (0.029): 0.385*\"(\" + 0.362*\")\" + 0.187*\"algorithm\" + 0.020*\"function\" + 0.012*\"-\" + 0.007*\"polynomi\" + 0.005*\"kind\" + 0.004*\"interpol\" + 0.004*\"bessel\" + 0.004*\"differ\"\n",
      "2021-02-19 14:25:46,029 : INFO : topic diff=0.442129, rho=0.307119\n",
      "2021-02-19 14:25:46,434 : INFO : -6.517 per-word bound, 91.6 perplexity estimate based on a held-out corpus of 1204 documents with 49783 words\n",
      "2021-02-19 14:25:46,435 : INFO : PROGRESS: pass 8, at document #3204/3204\n",
      "2021-02-19 14:25:46,739 : INFO : optimized alpha [0.012736942, 0.01236421, 0.017285917, 0.011792073, 0.010666806, 0.011635645, 0.010403509, 0.0105995545, 0.012164604, 0.01112315, 0.010599463, 0.010034988, 0.010657046, 0.011212454, 0.009743996, 0.010089334, 0.011123888, 0.011226168, 0.011553856, 0.011414144, 0.0313369, 0.010350897, 0.011778619, 0.010327664, 0.014375874, 0.012121329, 0.010112245, 0.011759255, 0.010950435, 0.0111697875, 0.013275105, 0.010594221, 0.012680873, 0.0103459405, 0.012492971, 0.010646716, 0.011051987, 0.012576801, 0.010895701, 0.011994534, 0.01491431, 0.011539506, 0.011339172, 0.011092692, 0.012271861, 0.01175484, 0.010880581, 0.0106234895, 0.010386531, 0.011216499, 0.01106065, 0.010589346, 0.010958837, 0.0108788265, 0.011867921, 0.012932018, 0.011170155, 0.011096972, 0.011415404, 0.010172159, 0.011435934, 0.010919454, 0.011254473, 0.013005192, 0.011200369, 0.010779294, 0.010538428, 0.012269237, 0.010662317, 0.01146855, 0.010386157, 0.011294627, 0.0112840915, 0.010892815, 0.011644112, 0.013122449, 0.011512369, 0.0111805685, 0.010316126, 0.010937076, 0.011258938, 0.011424158, 0.0109606795, 0.010663955, 0.011987571, 0.011355129, 0.010697947, 0.012330972, 0.01164128, 0.011437399, 0.011045202, 0.011336136, 0.011590766, 0.010908538, 0.011075321, 0.010637159, 0.012021712, 0.010065433, 0.011754592, 0.011555201]\n",
      "2021-02-19 14:25:46,742 : INFO : merging changes from 1204 documents into a model of 3204 documents\n",
      "2021-02-19 14:25:46,746 : INFO : topic #14 (0.010): 0.256*\"subroutin\" + 0.227*\"assembl\" + 0.193*\"maintain\" + 0.078*\"librari\" + 0.074*\"descript\" + 0.065*\"pass\" + 0.047*\"requir\" + 0.005*\",\" + 0.003*\"inform\" + 0.003*\"system\"\n",
      "2021-02-19 14:25:46,747 : INFO : topic #11 (0.010): 0.079*\"string\" + 0.075*\",\" + 0.036*\"queri\" + 0.028*\"set\" + 0.024*\"cell\" + 0.021*\"-\" + 0.018*\"shown\" + 0.018*\"memori\" + 0.017*\";\" + 0.017*\"oper\"\n",
      "2021-02-19 14:25:46,748 : INFO : topic #40 (0.015): 0.244*\"data\" + 0.090*\"design\" + 0.090*\"structur\" + 0.088*\"system\" + 0.049*\"organ\" + 0.037*\"process\" + 0.028*\",\" + 0.027*\"inform\" + 0.025*\"gener\" + 0.023*\"applic\"\n"
     ]
    },
    {
     "name": "stderr",
     "output_type": "stream",
     "text": [
      "2021-02-19 14:25:46,748 : INFO : topic #2 (0.017): 0.179*\"algorithm\" + 0.157*\"(\" + 0.070*\"[\" + 0.061*\"$\" + 0.059*\"])\" + 0.050*\"))\" + 0.036*\"integr\" + 0.036*\")\" + 0.034*\"corrigendum\" + 0.031*\"complex\"\n",
      "2021-02-19 14:25:46,749 : INFO : topic #20 (0.031): 0.393*\"(\" + 0.369*\")\" + 0.178*\"algorithm\" + 0.019*\"function\" + 0.012*\"-\" + 0.006*\"polynomi\" + 0.005*\"kind\" + 0.004*\"interpol\" + 0.003*\"bessel\" + 0.003*\"differ\"\n",
      "2021-02-19 14:25:46,749 : INFO : topic diff=0.445029, rho=0.307119\n",
      "2021-02-19 14:25:46,755 : INFO : PROGRESS: pass 9, at document #2000/3204\n",
      "2021-02-19 14:25:47,109 : INFO : optimized alpha [0.012738714, 0.012573985, 0.017492909, 0.011822813, 0.010695801, 0.011690388, 0.010477254, 0.010730604, 0.012258214, 0.011119097, 0.010581517, 0.010013725, 0.010671454, 0.011250153, 0.009773865, 0.010106953, 0.011178675, 0.0112576615, 0.011594289, 0.0114813205, 0.033449076, 0.010335256, 0.011923345, 0.010322909, 0.01464439, 0.012176707, 0.010092768, 0.011824824, 0.011084438, 0.011185276, 0.013521173, 0.010678463, 0.012822319, 0.010307125, 0.01260872, 0.010723904, 0.0111287, 0.012699198, 0.010907785, 0.012109099, 0.015149053, 0.011576258, 0.011401477, 0.011077263, 0.012302078, 0.011825483, 0.010961545, 0.010601906, 0.010375485, 0.011209635, 0.011048731, 0.010612903, 0.010945607, 0.010874138, 0.011984947, 0.013023153, 0.011218135, 0.011195482, 0.0114816055, 0.010138489, 0.011475606, 0.01093319, 0.011259076, 0.013115639, 0.011248166, 0.010913535, 0.0105256345, 0.012306626, 0.010738086, 0.011536763, 0.010365665, 0.011265759, 0.011302487, 0.010953827, 0.011614473, 0.013382207, 0.011538487, 0.011215778, 0.010323462, 0.010986718, 0.011260297, 0.011425629, 0.011006496, 0.010664481, 0.012060149, 0.011479955, 0.010714886, 0.012422442, 0.011616248, 0.011627731, 0.011113822, 0.01138226, 0.011722018, 0.010896852, 0.011106109, 0.010690329, 0.012146242, 0.010033365, 0.011755869, 0.011551864]\n",
      "2021-02-19 14:25:47,111 : INFO : merging changes from 2000 documents into a model of 3204 documents\n",
      "2021-02-19 14:25:47,114 : INFO : topic #14 (0.010): 0.292*\"subroutin\" + 0.232*\"assembl\" + 0.152*\"maintain\" + 0.082*\"librari\" + 0.071*\"descript\" + 0.068*\"pass\" + 0.043*\"requir\" + 0.005*\",\" + 0.004*\"inform\" + 0.003*\"system\"\n",
      "2021-02-19 14:25:47,115 : INFO : topic #11 (0.010): 0.087*\"string\" + 0.073*\",\" + 0.031*\"queri\" + 0.028*\"set\" + 0.021*\"cell\" + 0.021*\"-\" + 0.018*\"request\" + 0.018*\";\" + 0.017*\"memori\" + 0.016*\"oper\"\n",
      "2021-02-19 14:25:47,115 : INFO : topic #40 (0.015): 0.248*\"data\" + 0.090*\"system\" + 0.088*\"design\" + 0.085*\"structur\" + 0.049*\"organ\" + 0.042*\"process\" + 0.028*\"inform\" + 0.027*\",\" + 0.024*\"gener\" + 0.024*\"applic\"\n",
      "2021-02-19 14:25:47,115 : INFO : topic #2 (0.017): 0.176*\"algorithm\" + 0.154*\"(\" + 0.079*\"[\" + 0.069*\"])\" + 0.050*\"$\" + 0.040*\"))\" + 0.040*\"integr\" + 0.033*\")\" + 0.031*\"complex\" + 0.027*\"corrigendum\"\n",
      "2021-02-19 14:25:47,115 : INFO : topic #20 (0.033): 0.388*\"(\" + 0.366*\")\" + 0.183*\"algorithm\" + 0.019*\"function\" + 0.011*\"-\" + 0.007*\"polynomi\" + 0.005*\"kind\" + 0.004*\"interpol\" + 0.004*\"differ\" + 0.004*\"bessel\"\n",
      "2021-02-19 14:25:47,116 : INFO : topic diff=0.386002, rho=0.293585\n",
      "2021-02-19 14:25:47,538 : INFO : -6.501 per-word bound, 90.6 perplexity estimate based on a held-out corpus of 1204 documents with 49783 words\n",
      "2021-02-19 14:25:47,539 : INFO : PROGRESS: pass 9, at document #3204/3204\n",
      "2021-02-19 14:25:47,817 : INFO : optimized alpha [0.013000418, 0.0126733845, 0.017700044, 0.012032649, 0.010847758, 0.0118540665, 0.010520446, 0.010884158, 0.012443698, 0.011312704, 0.010693148, 0.010095096, 0.010774163, 0.011403239, 0.00978613, 0.01017122, 0.011332663, 0.01139779, 0.011745124, 0.011603604, 0.0355985, 0.010420512, 0.012008528, 0.010407601, 0.014956694, 0.012302199, 0.010184736, 0.012086662, 0.011086987, 0.01132032, 0.013752114, 0.010755455, 0.01304327, 0.010394601, 0.01276612, 0.010785458, 0.011301429, 0.012980472, 0.011020591, 0.012218567, 0.015715607, 0.011780118, 0.011498724, 0.011234234, 0.012526615, 0.011994885, 0.011066626, 0.010723581, 0.010492384, 0.011311757, 0.011224312, 0.010711426, 0.011049838, 0.01099949, 0.012156427, 0.013336054, 0.011366441, 0.01131923, 0.011656767, 0.010241317, 0.011603166, 0.01106426, 0.011396935, 0.013392518, 0.011387759, 0.01097969, 0.010635899, 0.012519608, 0.010805923, 0.011667158, 0.010453524, 0.011462321, 0.011480273, 0.011027866, 0.011823869, 0.013597021, 0.011698753, 0.011352417, 0.010422962, 0.011061324, 0.011392839, 0.011626629, 0.011161841, 0.010757467, 0.012208626, 0.011622933, 0.01086477, 0.012637797, 0.011820276, 0.011823401, 0.011223739, 0.011499964, 0.011925551, 0.011015396, 0.011210856, 0.01077291, 0.012349839, 0.0100904815, 0.011910079, 0.011750491]\n",
      "2021-02-19 14:25:47,820 : INFO : merging changes from 1204 documents into a model of 3204 documents\n",
      "2021-02-19 14:25:47,823 : INFO : topic #14 (0.010): 0.259*\"subroutin\" + 0.228*\"assembl\" + 0.193*\"maintain\" + 0.077*\"librari\" + 0.075*\"descript\" + 0.065*\"pass\" + 0.043*\"requir\" + 0.004*\",\" + 0.003*\"inform\" + 0.003*\"system\"\n",
      "2021-02-19 14:25:47,824 : INFO : topic #97 (0.010): 0.052*\",\" + 0.050*\"/\" + 0.048*\"model\" + 0.046*\"-\" + 0.043*\"buffer\" + 0.040*\"cpu\" + 0.029*\"multiprogram\" + 0.027*\"system\" + 0.027*\"comput\" + 0.026*\"simul\"\n",
      "2021-02-19 14:25:47,824 : INFO : topic #40 (0.016): 0.252*\"data\" + 0.092*\"structur\" + 0.089*\"design\" + 0.086*\"system\" + 0.049*\"organ\" + 0.040*\"process\" + 0.027*\",\" + 0.026*\"inform\" + 0.025*\"gener\" + 0.023*\"applic\"\n",
      "2021-02-19 14:25:47,824 : INFO : topic #2 (0.018): 0.177*\"algorithm\" + 0.152*\"(\" + 0.066*\"$\" + 0.063*\"[\" + 0.053*\"))\" + 0.051*\"])\" + 0.038*\"integr\" + 0.036*\"corrigendum\" + 0.034*\"complex\" + 0.034*\")\"\n",
      "2021-02-19 14:25:47,824 : INFO : topic #20 (0.036): 0.397*\"(\" + 0.373*\")\" + 0.173*\"algorithm\" + 0.018*\"function\" + 0.011*\"-\" + 0.006*\"polynomi\" + 0.004*\"kind\" + 0.004*\"interpol\" + 0.003*\"differ\" + 0.003*\"bessel\"\n",
      "2021-02-19 14:25:47,825 : INFO : topic diff=0.389702, rho=0.293585\n",
      "2021-02-19 14:25:47,829 : INFO : PROGRESS: pass 10, at document #2000/3204\n",
      "2021-02-19 14:25:48,182 : INFO : optimized alpha [0.013004644, 0.012888766, 0.017884938, 0.01206331, 0.010887966, 0.011906765, 0.010593486, 0.011027276, 0.0125360945, 0.011306629, 0.010677509, 0.01007929, 0.010788147, 0.011441017, 0.009815417, 0.010191416, 0.011383845, 0.011429699, 0.011782325, 0.011675108, 0.037873942, 0.010407212, 0.012155888, 0.010403263, 0.015219838, 0.012371221, 0.010169116, 0.012166774, 0.011218567, 0.011335156, 0.014000955, 0.010837112, 0.013173483, 0.0103607075, 0.012883656, 0.01086635, 0.011390085, 0.013102664, 0.011036973, 0.012326152, 0.015956549, 0.01181838, 0.011567238, 0.011217484, 0.012558542, 0.012068109, 0.011148181, 0.010707421, 0.010484765, 0.011316892, 0.0112123415, 0.010735786, 0.011040481, 0.010994968, 0.012268271, 0.013429316, 0.011407799, 0.011430889, 0.011718967, 0.010209146, 0.011648009, 0.011075779, 0.011402874, 0.013489728, 0.011437057, 0.011117948, 0.010625156, 0.012563936, 0.010883969, 0.011729713, 0.010438575, 0.011438703, 0.011505784, 0.011096281, 0.011794521, 0.013861905, 0.011732012, 0.011387822, 0.010437506, 0.011114163, 0.011400535, 0.011627413, 0.011210664, 0.010758152, 0.012285597, 0.011749191, 0.010877793, 0.0127297165, 0.011803844, 0.012023199, 0.011294944, 0.011542849, 0.012053305, 0.011002679, 0.011245357, 0.010833479, 0.012472567, 0.010058833, 0.011916118, 0.011754998]\n",
      "2021-02-19 14:25:48,185 : INFO : merging changes from 2000 documents into a model of 3204 documents\n",
      "2021-02-19 14:25:48,188 : INFO : topic #14 (0.010): 0.293*\"subroutin\" + 0.233*\"assembl\" + 0.153*\"maintain\" + 0.081*\"librari\" + 0.072*\"descript\" + 0.068*\"pass\" + 0.040*\"requir\" + 0.004*\"inform\" + 0.004*\",\" + 0.003*\"system\"\n",
      "2021-02-19 14:25:48,188 : INFO : topic #11 (0.010): 0.096*\"string\" + 0.074*\",\" + 0.032*\"queri\" + 0.028*\"set\" + 0.022*\"cell\" + 0.021*\"-\" + 0.019*\"request\" + 0.018*\";\" + 0.017*\"shown\" + 0.017*\"oper\"\n",
      "2021-02-19 14:25:48,189 : INFO : topic #40 (0.016): 0.257*\"data\" + 0.088*\"system\" + 0.087*\"structur\" + 0.086*\"design\" + 0.048*\"organ\" + 0.045*\"process\" + 0.027*\"inform\" + 0.026*\",\" + 0.024*\"gener\" + 0.023*\"applic\"\n",
      "2021-02-19 14:25:48,189 : INFO : topic #2 (0.018): 0.174*\"algorithm\" + 0.150*\"(\" + 0.073*\"[\" + 0.062*\"])\" + 0.055*\"$\" + 0.043*\"))\" + 0.041*\"integr\" + 0.034*\"complex\" + 0.030*\")\" + 0.029*\"corrigendum\"\n"
     ]
    },
    {
     "name": "stderr",
     "output_type": "stream",
     "text": [
      "2021-02-19 14:25:48,189 : INFO : topic #20 (0.038): 0.391*\"(\" + 0.369*\")\" + 0.179*\"algorithm\" + 0.019*\"function\" + 0.011*\"-\" + 0.007*\"polynomi\" + 0.004*\"kind\" + 0.004*\"interpol\" + 0.003*\"differ\" + 0.003*\"bessel\"\n",
      "2021-02-19 14:25:48,190 : INFO : topic diff=0.338134, rho=0.281696\n",
      "2021-02-19 14:25:48,605 : INFO : -6.487 per-word bound, 89.7 perplexity estimate based on a held-out corpus of 1204 documents with 49783 words\n",
      "2021-02-19 14:25:48,606 : INFO : PROGRESS: pass 10, at document #3204/3204\n",
      "2021-02-19 14:25:48,887 : INFO : optimized alpha [0.013249986, 0.012980924, 0.018088367, 0.012275688, 0.011048363, 0.012062618, 0.010640179, 0.011225949, 0.012707262, 0.011502692, 0.010790661, 0.010158091, 0.010895219, 0.011586672, 0.009827662, 0.010260944, 0.011543938, 0.011560042, 0.011933902, 0.011796099, 0.040117696, 0.010494735, 0.012240543, 0.010487777, 0.01553591, 0.012495367, 0.010258183, 0.012437048, 0.011212686, 0.011463352, 0.014222154, 0.010911424, 0.013397751, 0.010447898, 0.013045004, 0.010920616, 0.011584577, 0.013386758, 0.011143564, 0.01241721, 0.01650823, 0.012010948, 0.011666698, 0.011366898, 0.0127737345, 0.012235265, 0.011247163, 0.010827766, 0.010607889, 0.011418559, 0.011382641, 0.010841396, 0.011151908, 0.011116261, 0.012449002, 0.013732156, 0.01154612, 0.011556084, 0.011900156, 0.01031346, 0.011768651, 0.011210506, 0.011531046, 0.013756395, 0.0115774805, 0.011184061, 0.010736974, 0.012776844, 0.010954523, 0.011855833, 0.010531073, 0.011635038, 0.011689237, 0.011162572, 0.0119978385, 0.014074067, 0.011887424, 0.011520228, 0.010541091, 0.011191368, 0.0115342345, 0.011833661, 0.0113719115, 0.010850668, 0.012435109, 0.011887787, 0.011033319, 0.012939194, 0.011998962, 0.012230871, 0.011398495, 0.011659302, 0.012260229, 0.011125269, 0.011346503, 0.010918335, 0.01267045, 0.010114385, 0.012071003, 0.011958936]\n",
      "2021-02-19 14:25:48,890 : INFO : merging changes from 1204 documents into a model of 3204 documents\n",
      "2021-02-19 14:25:48,893 : INFO : topic #14 (0.010): 0.261*\"subroutin\" + 0.229*\"assembl\" + 0.192*\"maintain\" + 0.077*\"librari\" + 0.076*\"descript\" + 0.066*\"pass\" + 0.040*\"requir\" + 0.003*\"inform\" + 0.003*\",\" + 0.003*\"system\"\n",
      "2021-02-19 14:25:48,894 : INFO : topic #97 (0.010): 0.052*\"/\" + 0.050*\",\" + 0.047*\"model\" + 0.045*\"-\" + 0.043*\"buffer\" + 0.040*\"cpu\" + 0.031*\"multiprogram\" + 0.028*\"system\" + 0.026*\"comput\" + 0.026*\"simul\"\n",
      "2021-02-19 14:25:48,894 : INFO : topic #40 (0.017): 0.260*\"data\" + 0.094*\"structur\" + 0.087*\"design\" + 0.084*\"system\" + 0.048*\"organ\" + 0.042*\"process\" + 0.026*\",\" + 0.026*\"gener\" + 0.025*\"inform\" + 0.023*\"applic\"\n",
      "2021-02-19 14:25:48,894 : INFO : topic #2 (0.018): 0.177*\"algorithm\" + 0.148*\"(\" + 0.069*\"$\" + 0.058*\"[\" + 0.056*\"))\" + 0.046*\"])\" + 0.039*\"integr\" + 0.037*\"corrigendum\" + 0.037*\"complex\" + 0.030*\")\"\n",
      "2021-02-19 14:25:48,895 : INFO : topic #20 (0.040): 0.399*\"(\" + 0.376*\")\" + 0.170*\"algorithm\" + 0.017*\"function\" + 0.011*\"-\" + 0.006*\"polynomi\" + 0.004*\"kind\" + 0.004*\"interpol\" + 0.003*\"differ\" + 0.002*\"bessel\"\n",
      "2021-02-19 14:25:48,895 : INFO : topic diff=0.342552, rho=0.281696\n",
      "2021-02-19 14:25:48,899 : INFO : PROGRESS: pass 11, at document #2000/3204\n",
      "2021-02-19 14:25:49,245 : INFO : optimized alpha [0.013258608, 0.013200526, 0.01826203, 0.012304831, 0.011090239, 0.012113553, 0.010725721, 0.011389148, 0.012798672, 0.011499351, 0.010780067, 0.010144505, 0.010916217, 0.011623126, 0.009856438, 0.010286432, 0.011596502, 0.011589306, 0.011966507, 0.011873505, 0.042519927, 0.010485014, 0.012387547, 0.010489553, 0.01580078, 0.01255894, 0.010244715, 0.012514489, 0.0113346595, 0.011485518, 0.014466452, 0.0109937815, 0.013526288, 0.010418424, 0.013168118, 0.011002309, 0.011672208, 0.013509007, 0.011157929, 0.012526748, 0.016755888, 0.012050797, 0.011734878, 0.011350494, 0.0128074605, 0.012306217, 0.011327954, 0.010815145, 0.010603395, 0.011426959, 0.011373726, 0.01086799, 0.011142974, 0.011115002, 0.012559486, 0.013829612, 0.011587652, 0.011677638, 0.011961906, 0.010283964, 0.011813791, 0.011224596, 0.011541489, 0.0138484845, 0.011629899, 0.011321962, 0.010728169, 0.012815792, 0.011034923, 0.011919662, 0.010528429, 0.0116115855, 0.011727912, 0.011229141, 0.011970405, 0.014381352, 0.011919449, 0.011556056, 0.010558094, 0.011245828, 0.01154326, 0.0118402, 0.011420587, 0.010855977, 0.012509728, 0.012014158, 0.011051675, 0.013030002, 0.011984122, 0.012433962, 0.011469257, 0.011705621, 0.012393184, 0.011116034, 0.011378428, 0.010975655, 0.01278995, 0.010087282, 0.012081559, 0.01196431]\n",
      "2021-02-19 14:25:49,248 : INFO : merging changes from 2000 documents into a model of 3204 documents\n",
      "2021-02-19 14:25:49,251 : INFO : topic #14 (0.010): 0.294*\"subroutin\" + 0.234*\"assembl\" + 0.154*\"maintain\" + 0.081*\"librari\" + 0.073*\"descript\" + 0.069*\"pass\" + 0.037*\"requir\" + 0.004*\"inform\" + 0.003*\"system\" + 0.003*\",\"\n",
      "2021-02-19 14:25:49,251 : INFO : topic #11 (0.010): 0.102*\"string\" + 0.075*\",\" + 0.032*\"queri\" + 0.026*\"set\" + 0.023*\"cell\" + 0.020*\"-\" + 0.019*\"request\" + 0.018*\"shown\" + 0.018*\";\" + 0.017*\"oper\"\n",
      "2021-02-19 14:25:49,252 : INFO : topic #40 (0.017): 0.265*\"data\" + 0.089*\"structur\" + 0.087*\"system\" + 0.084*\"design\" + 0.048*\"organ\" + 0.047*\"process\" + 0.026*\"inform\" + 0.026*\",\" + 0.025*\"gener\" + 0.023*\"applic\"\n",
      "2021-02-19 14:25:49,252 : INFO : topic #2 (0.018): 0.173*\"algorithm\" + 0.146*\"(\" + 0.064*\"[\" + 0.058*\"$\" + 0.055*\"])\" + 0.046*\"))\" + 0.043*\"integr\" + 0.038*\"complex\" + 0.031*\"corrigendum\" + 0.029*\"d1\"\n",
      "2021-02-19 14:25:49,252 : INFO : topic #20 (0.043): 0.394*\"(\" + 0.372*\")\" + 0.176*\"algorithm\" + 0.018*\"function\" + 0.011*\"-\" + 0.007*\"polynomi\" + 0.004*\"interpol\" + 0.004*\"kind\" + 0.003*\"differ\" + 0.003*\"bessel\"\n",
      "2021-02-19 14:25:49,253 : INFO : topic diff=0.297584, rho=0.271143\n",
      "2021-02-19 14:25:49,646 : INFO : -6.474 per-word bound, 88.9 perplexity estimate based on a held-out corpus of 1204 documents with 49783 words\n",
      "2021-02-19 14:25:49,647 : INFO : PROGRESS: pass 11, at document #3204/3204\n",
      "2021-02-19 14:25:49,936 : INFO : optimized alpha [0.013494671, 0.013294914, 0.018462261, 0.012511698, 0.011259147, 0.012265052, 0.010778189, 0.011601991, 0.0129652, 0.011690397, 0.0108924415, 0.010225671, 0.011025113, 0.011764742, 0.009868692, 0.0103539955, 0.011754943, 0.011718491, 0.012121949, 0.011990907, 0.044859044, 0.01057475, 0.012466313, 0.010571627, 0.016110558, 0.012676274, 0.010328909, 0.012788056, 0.011320993, 0.0116204405, 0.014691507, 0.011068163, 0.01375119, 0.010503163, 0.0133336615, 0.011054708, 0.01186217, 0.01379654, 0.011258865, 0.012620368, 0.017303973, 0.012241089, 0.011831395, 0.011493111, 0.01302001, 0.012466021, 0.011421337, 0.010936988, 0.010737474, 0.011530973, 0.011552231, 0.010968125, 0.011251198, 0.011235327, 0.012746751, 0.014126236, 0.01172193, 0.011796539, 0.012146667, 0.010387547, 0.011936254, 0.011355488, 0.011676425, 0.0141156325, 0.011758536, 0.011398326, 0.01083676, 0.013026081, 0.011105804, 0.01204463, 0.010623062, 0.011808095, 0.011906741, 0.011298278, 0.012168231, 0.0145848105, 0.012070536, 0.0116924625, 0.010658683, 0.011318149, 0.011680992, 0.012046579, 0.011577566, 0.010943379, 0.0126605285, 0.012159609, 0.011208, 0.013234148, 0.012182103, 0.012651226, 0.01157219, 0.011815885, 0.0126151685, 0.011235081, 0.011481726, 0.011060397, 0.012979975, 0.010143787, 0.012237498, 0.012168374]\n",
      "2021-02-19 14:25:49,939 : INFO : merging changes from 1204 documents into a model of 3204 documents\n",
      "2021-02-19 14:25:49,943 : INFO : topic #14 (0.010): 0.263*\"subroutin\" + 0.230*\"assembl\" + 0.192*\"maintain\" + 0.077*\"librari\" + 0.076*\"descript\" + 0.066*\"pass\" + 0.037*\"requir\" + 0.003*\"inform\" + 0.003*\"system\" + 0.002*\",\"\n",
      "2021-02-19 14:25:49,943 : INFO : topic #97 (0.010): 0.053*\"/\" + 0.049*\",\" + 0.046*\"model\" + 0.045*\"-\" + 0.043*\"buffer\" + 0.040*\"cpu\" + 0.034*\"multiprogram\" + 0.028*\"system\" + 0.027*\"simul\" + 0.026*\"comput\"\n",
      "2021-02-19 14:25:49,943 : INFO : topic #40 (0.017): 0.269*\"data\" + 0.096*\"structur\" + 0.084*\"design\" + 0.083*\"system\" + 0.047*\"organ\" + 0.045*\"process\" + 0.026*\"gener\" + 0.025*\",\" + 0.024*\"inform\" + 0.023*\"applic\"\n",
      "2021-02-19 14:25:49,944 : INFO : topic #2 (0.018): 0.178*\"algorithm\" + 0.144*\"(\" + 0.072*\"$\" + 0.058*\"))\" + 0.051*\"[\" + 0.040*\"])\" + 0.040*\"complex\" + 0.039*\"integr\" + 0.039*\"corrigendum\" + 0.031*\"d1\"\n"
     ]
    },
    {
     "name": "stderr",
     "output_type": "stream",
     "text": [
      "2021-02-19 14:25:49,944 : INFO : topic #20 (0.045): 0.402*\"(\" + 0.380*\")\" + 0.166*\"algorithm\" + 0.017*\"function\" + 0.011*\"-\" + 0.006*\"polynomi\" + 0.004*\"interpol\" + 0.004*\"kind\" + 0.003*\"differ\" + 0.002*\"bessel\"\n",
      "2021-02-19 14:25:49,945 : INFO : topic diff=0.302576, rho=0.271143\n",
      "2021-02-19 14:25:49,949 : INFO : PROGRESS: pass 12, at document #2000/3204\n",
      "2021-02-19 14:25:50,286 : INFO : optimized alpha [0.013500413, 0.01350874, 0.01863056, 0.012542742, 0.011301059, 0.012312807, 0.010867328, 0.011773365, 0.0130680455, 0.011692785, 0.01088367, 0.0102127595, 0.011049811, 0.011800042, 0.009897027, 0.010374813, 0.011808984, 0.01174686, 0.012153355, 0.012069456, 0.04732978, 0.01056552, 0.012609953, 0.010576388, 0.016371064, 0.012744688, 0.010316101, 0.012871417, 0.011441425, 0.011644901, 0.0149546, 0.011148495, 0.013885681, 0.010476362, 0.013455505, 0.011134407, 0.011950773, 0.013917359, 0.011272906, 0.012715488, 0.017547293, 0.012282596, 0.0118993595, 0.011483152, 0.013052186, 0.012534883, 0.011501571, 0.010927606, 0.010735855, 0.011546872, 0.011543084, 0.0109940255, 0.011241082, 0.011234064, 0.012872866, 0.014218732, 0.01176681, 0.011926226, 0.012204903, 0.01035913, 0.011981715, 0.01137501, 0.0116849365, 0.014204853, 0.0118171275, 0.011540681, 0.010823973, 0.013071939, 0.011185711, 0.012103481, 0.010620677, 0.011787888, 0.0119408695, 0.0113735255, 0.012142654, 0.014910137, 0.01210777, 0.011733334, 0.010676668, 0.011378619, 0.011691137, 0.012047475, 0.011629314, 0.01094727, 0.012736364, 0.01228955, 0.011228517, 0.013322396, 0.012173504, 0.012858215, 0.011644143, 0.011856229, 0.0127519285, 0.011227611, 0.011512791, 0.011111852, 0.013110289, 0.010123489, 0.012247532, 0.012172923]\n",
      "2021-02-19 14:25:50,288 : INFO : merging changes from 2000 documents into a model of 3204 documents\n",
      "2021-02-19 14:25:50,291 : INFO : topic #14 (0.010): 0.295*\"subroutin\" + 0.235*\"assembl\" + 0.155*\"maintain\" + 0.082*\"librari\" + 0.073*\"descript\" + 0.070*\"pass\" + 0.035*\"requir\" + 0.003*\"inform\" + 0.002*\"system\" + 0.002*\",\"\n",
      "2021-02-19 14:25:50,292 : INFO : topic #97 (0.010): 0.052*\"/\" + 0.049*\",\" + 0.044*\"-\" + 0.042*\"model\" + 0.040*\"buffer\" + 0.037*\"cpu\" + 0.035*\"multiprogram\" + 0.029*\"simul\" + 0.028*\"system\" + 0.027*\"comput\"\n",
      "2021-02-19 14:25:50,292 : INFO : topic #40 (0.018): 0.273*\"data\" + 0.091*\"structur\" + 0.085*\"system\" + 0.081*\"design\" + 0.050*\"process\" + 0.047*\"organ\" + 0.025*\"gener\" + 0.025*\"inform\" + 0.025*\",\" + 0.023*\"applic\"\n",
      "2021-02-19 14:25:50,292 : INFO : topic #2 (0.019): 0.175*\"algorithm\" + 0.142*\"(\" + 0.062*\"$\" + 0.056*\"[\" + 0.048*\"))\" + 0.048*\"])\" + 0.044*\"integr\" + 0.041*\"complex\" + 0.032*\"corrigendum\" + 0.030*\"d1\"\n",
      "2021-02-19 14:25:50,292 : INFO : topic #20 (0.047): 0.396*\"(\" + 0.376*\")\" + 0.173*\"algorithm\" + 0.018*\"function\" + 0.010*\"-\" + 0.006*\"polynomi\" + 0.004*\"interpol\" + 0.004*\"kind\" + 0.003*\"differ\" + 0.003*\"bessel\"\n",
      "2021-02-19 14:25:50,293 : INFO : topic diff=0.263687, rho=0.261694\n",
      "2021-02-19 14:25:50,699 : INFO : -6.463 per-word bound, 88.2 perplexity estimate based on a held-out corpus of 1204 documents with 49783 words\n",
      "2021-02-19 14:25:50,699 : INFO : PROGRESS: pass 12, at document #3204/3204\n",
      "2021-02-19 14:25:50,977 : INFO : optimized alpha [0.013722133, 0.01359075, 0.018832216, 0.012739207, 0.011468712, 0.012455001, 0.010922911, 0.012000896, 0.013239049, 0.011889661, 0.010993102, 0.010289474, 0.0111631155, 0.011935348, 0.00990929, 0.010442924, 0.01196874, 0.011870107, 0.012304856, 0.01218368, 0.049708493, 0.010648267, 0.012694162, 0.010656305, 0.016681984, 0.012867091, 0.0104048345, 0.013162833, 0.011433, 0.011781523, 0.015177481, 0.011220649, 0.014114807, 0.010568032, 0.013625484, 0.011187671, 0.012139305, 0.014202688, 0.011371116, 0.012803516, 0.018099511, 0.012471005, 0.011993173, 0.0116271125, 0.013259721, 0.01269335, 0.011594718, 0.011043874, 0.010859448, 0.011650739, 0.011729842, 0.011096344, 0.011351428, 0.011341279, 0.013075404, 0.014497235, 0.011897632, 0.012044599, 0.012388103, 0.01046222, 0.012100841, 0.01150248, 0.011806102, 0.014450721, 0.011947518, 0.011609605, 0.0109368, 0.013277315, 0.011252094, 0.012225018, 0.010717503, 0.011987586, 0.012125983, 0.011438154, 0.012338336, 0.015111853, 0.01225502, 0.011873814, 0.010779239, 0.0114587955, 0.011832906, 0.012251849, 0.011784949, 0.01103236, 0.012891485, 0.012434066, 0.0113908, 0.013515913, 0.012385333, 0.013077082, 0.011746769, 0.011966104, 0.012978161, 0.011341079, 0.011618365, 0.0111965835, 0.013290105, 0.010180932, 0.012399393, 0.012372244]\n",
      "2021-02-19 14:25:50,980 : INFO : merging changes from 1204 documents into a model of 3204 documents\n",
      "2021-02-19 14:25:50,983 : INFO : topic #14 (0.010): 0.265*\"subroutin\" + 0.231*\"assembl\" + 0.192*\"maintain\" + 0.078*\"librari\" + 0.077*\"descript\" + 0.067*\"pass\" + 0.035*\"requir\" + 0.002*\"inform\" + 0.002*\"system\" + 0.001*\",\"\n",
      "2021-02-19 14:25:50,984 : INFO : topic #97 (0.010): 0.055*\"/\" + 0.047*\",\" + 0.044*\"-\" + 0.044*\"model\" + 0.043*\"buffer\" + 0.040*\"cpu\" + 0.035*\"multiprogram\" + 0.030*\"system\" + 0.027*\"simul\" + 0.026*\"comput\"\n",
      "2021-02-19 14:25:50,984 : INFO : topic #40 (0.018): 0.275*\"data\" + 0.099*\"structur\" + 0.082*\"system\" + 0.082*\"design\" + 0.047*\"organ\" + 0.047*\"process\" + 0.027*\"gener\" + 0.024*\",\" + 0.024*\"inform\" + 0.023*\"applic\"\n",
      "2021-02-19 14:25:50,984 : INFO : topic #2 (0.019): 0.177*\"algorithm\" + 0.141*\"(\" + 0.075*\"$\" + 0.060*\"))\" + 0.045*\"[\" + 0.043*\"complex\" + 0.041*\"integr\" + 0.040*\"corrigendum\" + 0.036*\"])\" + 0.032*\"d1\"\n",
      "2021-02-19 14:25:50,985 : INFO : topic #20 (0.050): 0.404*\"(\" + 0.382*\")\" + 0.164*\"algorithm\" + 0.016*\"function\" + 0.010*\"-\" + 0.005*\"polynomi\" + 0.004*\"interpol\" + 0.003*\"kind\" + 0.003*\"differ\" + 0.002*\"bessel\"\n",
      "2021-02-19 14:25:50,985 : INFO : topic diff=0.268768, rho=0.261694\n",
      "2021-02-19 14:25:50,989 : INFO : PROGRESS: pass 13, at document #2000/3204\n",
      "2021-02-19 14:25:51,326 : INFO : optimized alpha [0.013728606, 0.0138077745, 0.019000566, 0.0127689615, 0.011510854, 0.012499784, 0.011011476, 0.012188336, 0.013347955, 0.01189597, 0.010988913, 0.010275889, 0.011190012, 0.011971065, 0.00993723, 0.010466083, 0.012022737, 0.011900717, 0.012338317, 0.012263453, 0.052244972, 0.010644994, 0.012836395, 0.010661133, 0.016942717, 0.012935401, 0.010393896, 0.013260569, 0.011550699, 0.011814214, 0.01544089, 0.011297669, 0.014249926, 0.01054355, 0.0137496665, 0.0112655675, 0.012222814, 0.014324051, 0.011387751, 0.012889872, 0.018350093, 0.012509481, 0.012056537, 0.011614268, 0.013290481, 0.012757117, 0.011673068, 0.011031945, 0.010856432, 0.011652762, 0.011723381, 0.011125795, 0.011343178, 0.01134307, 0.013193819, 0.014587004, 0.011942778, 0.012177909, 0.012449403, 0.010436091, 0.012143548, 0.011519956, 0.011817353, 0.014529967, 0.012004584, 0.011749214, 0.010928569, 0.013323209, 0.011334492, 0.012283852, 0.010715326, 0.0119703375, 0.01216042, 0.011510239, 0.012319209, 0.015432667, 0.012292674, 0.011918052, 0.010799473, 0.01151792, 0.0118441405, 0.012256796, 0.011845727, 0.011037741, 0.012973455, 0.012559744, 0.011413375, 0.013606941, 0.012376241, 0.013291432, 0.011824472, 0.012008456, 0.013117331, 0.011330973, 0.011648593, 0.011249613, 0.013410971, 0.0101643065, 0.012410543, 0.012379288]\n",
      "2021-02-19 14:25:51,328 : INFO : merging changes from 2000 documents into a model of 3204 documents\n",
      "2021-02-19 14:25:51,332 : INFO : topic #14 (0.010): 0.295*\"subroutin\" + 0.236*\"assembl\" + 0.156*\"maintain\" + 0.082*\"librari\" + 0.074*\"descript\" + 0.070*\"pass\" + 0.033*\"requir\" + 0.002*\"inform\" + 0.001*\"system\" + 0.001*\",\"\n",
      "2021-02-19 14:25:51,332 : INFO : topic #97 (0.010): 0.053*\"/\" + 0.048*\",\" + 0.044*\"-\" + 0.040*\"model\" + 0.040*\"buffer\" + 0.037*\"cpu\" + 0.037*\"multiprogram\" + 0.029*\"simul\" + 0.029*\"system\" + 0.027*\"comput\"\n",
      "2021-02-19 14:25:51,332 : INFO : topic #40 (0.018): 0.279*\"data\" + 0.094*\"structur\" + 0.084*\"system\" + 0.079*\"design\" + 0.052*\"process\" + 0.047*\"organ\" + 0.026*\"gener\" + 0.025*\"inform\" + 0.024*\",\" + 0.023*\"applic\"\n",
      "2021-02-19 14:25:51,333 : INFO : topic #2 (0.019): 0.174*\"algorithm\" + 0.138*\"(\" + 0.064*\"$\" + 0.050*\"[\" + 0.050*\"))\" + 0.045*\"integr\" + 0.044*\"complex\" + 0.043*\"])\" + 0.033*\"corrigendum\" + 0.031*\"d1\"\n",
      "2021-02-19 14:25:51,333 : INFO : topic #20 (0.052): 0.398*\"(\" + 0.378*\")\" + 0.171*\"algorithm\" + 0.017*\"function\" + 0.010*\"-\" + 0.005*\"polynomi\" + 0.004*\"interpol\" + 0.003*\"kind\" + 0.003*\"differ\" + 0.002*\"bessel\"\n"
     ]
    },
    {
     "name": "stderr",
     "output_type": "stream",
     "text": [
      "2021-02-19 14:25:51,333 : INFO : topic diff=0.235465, rho=0.253169\n",
      "2021-02-19 14:25:51,734 : INFO : -6.454 per-word bound, 87.7 perplexity estimate based on a held-out corpus of 1204 documents with 49783 words\n",
      "2021-02-19 14:25:51,735 : INFO : PROGRESS: pass 13, at document #3204/3204\n",
      "2021-02-19 14:25:52,016 : INFO : optimized alpha [0.013948366, 0.013895426, 0.019199967, 0.012963836, 0.011687356, 0.012641145, 0.011070196, 0.012420886, 0.013509461, 0.012098854, 0.011105076, 0.010350762, 0.011312441, 0.012113322, 0.00994951, 0.010536983, 0.012178969, 0.01202336, 0.012491329, 0.012377304, 0.05464128, 0.010732439, 0.012920714, 0.010739124, 0.017258557, 0.013051996, 0.010478249, 0.013564528, 0.011542307, 0.011952616, 0.015655437, 0.011370235, 0.014486592, 0.010628537, 0.013915648, 0.011319709, 0.012412883, 0.014613512, 0.011483547, 0.012975419, 0.018906794, 0.01269382, 0.012160719, 0.011742416, 0.013493498, 0.012911923, 0.011761333, 0.011152389, 0.010981772, 0.011759217, 0.011915874, 0.01122325, 0.011448436, 0.011450156, 0.013392305, 0.014857388, 0.012070443, 0.012283021, 0.012641943, 0.010536622, 0.012262348, 0.01164681, 0.011945644, 0.014767685, 0.0121292975, 0.011820908, 0.011038632, 0.013521365, 0.011401434, 0.01241004, 0.010807539, 0.012173483, 0.012341642, 0.011575488, 0.012523735, 0.01562301, 0.012433863, 0.012060396, 0.01090181, 0.011600872, 0.011987573, 0.012462167, 0.012002823, 0.011118396, 0.013122269, 0.012708844, 0.011574556, 0.013807799, 0.012588825, 0.013509428, 0.011926915, 0.012113011, 0.013331427, 0.011441669, 0.011739138, 0.011336863, 0.013601016, 0.01021836, 0.012558801, 0.01257432]\n",
      "2021-02-19 14:25:52,019 : INFO : merging changes from 1204 documents into a model of 3204 documents\n",
      "2021-02-19 14:25:52,022 : INFO : topic #14 (0.010): 0.267*\"subroutin\" + 0.232*\"assembl\" + 0.192*\"maintain\" + 0.078*\"librari\" + 0.077*\"descript\" + 0.068*\"pass\" + 0.032*\"requir\" + 0.001*\"inform\" + 0.001*\"system\" + 0.001*\",\"\n",
      "2021-02-19 14:25:52,022 : INFO : topic #97 (0.010): 0.056*\"/\" + 0.046*\",\" + 0.044*\"-\" + 0.043*\"buffer\" + 0.043*\"model\" + 0.040*\"cpu\" + 0.037*\"multiprogram\" + 0.031*\"system\" + 0.027*\"simul\" + 0.027*\"comput\"\n",
      "2021-02-19 14:25:52,023 : INFO : topic #40 (0.019): 0.282*\"data\" + 0.101*\"structur\" + 0.080*\"system\" + 0.080*\"design\" + 0.049*\"process\" + 0.047*\"organ\" + 0.027*\"gener\" + 0.024*\",\" + 0.023*\"inform\" + 0.022*\"applic\"\n",
      "2021-02-19 14:25:52,023 : INFO : topic #2 (0.019): 0.177*\"algorithm\" + 0.138*\"(\" + 0.077*\"$\" + 0.062*\"))\" + 0.046*\"complex\" + 0.042*\"integr\" + 0.041*\"corrigendum\" + 0.040*\"[\" + 0.033*\"d1\" + 0.032*\"])\"\n",
      "2021-02-19 14:25:52,024 : INFO : topic #20 (0.055): 0.405*\"(\" + 0.384*\")\" + 0.162*\"algorithm\" + 0.016*\"function\" + 0.010*\"-\" + 0.004*\"polynomi\" + 0.004*\"interpol\" + 0.003*\"kind\" + 0.003*\"differ\" + 0.002*\"bessel\"\n",
      "2021-02-19 14:25:52,024 : INFO : topic diff=0.240630, rho=0.253169\n",
      "2021-02-19 14:25:52,028 : INFO : PROGRESS: pass 14, at document #2000/3204\n",
      "2021-02-19 14:25:52,359 : INFO : optimized alpha [0.013950656, 0.014115935, 0.019356595, 0.01299718, 0.011726826, 0.012684716, 0.011159684, 0.01261881, 0.013614511, 0.012107394, 0.011102336, 0.010339103, 0.011337268, 0.012148074, 0.00997832, 0.010564982, 0.01223156, 0.012054631, 0.012520681, 0.012455304, 0.057231106, 0.01072806, 0.013060218, 0.010748017, 0.017513456, 0.013118698, 0.010466524, 0.013670109, 0.0116561, 0.011987354, 0.015923299, 0.011448444, 0.014617309, 0.010610244, 0.014038968, 0.011398759, 0.012500516, 0.01473742, 0.011498456, 0.013063099, 0.019162554, 0.012734024, 0.012230193, 0.011734224, 0.013526272, 0.012972448, 0.011839444, 0.011146277, 0.010986883, 0.011762748, 0.011916326, 0.011252105, 0.011443356, 0.011451982, 0.013514842, 0.014946422, 0.0121144345, 0.0124200145, 0.012709335, 0.010510028, 0.012304081, 0.011662348, 0.01195655, 0.014844601, 0.012188023, 0.011960913, 0.0110347, 0.013567479, 0.01148356, 0.012470468, 0.010809561, 0.012159058, 0.0123764565, 0.011646047, 0.012510696, 0.015982084, 0.012468951, 0.012106505, 0.010921573, 0.011662975, 0.011998339, 0.012469438, 0.0120591475, 0.011122495, 0.013202333, 0.012832197, 0.011596306, 0.013896606, 0.012588496, 0.013719844, 0.012008761, 0.012154362, 0.013464925, 0.011436121, 0.011771599, 0.011390085, 0.01372782, 0.010202648, 0.012566362, 0.012582214]\n",
      "2021-02-19 14:25:52,361 : INFO : merging changes from 2000 documents into a model of 3204 documents\n",
      "2021-02-19 14:25:52,364 : INFO : topic #14 (0.010): 0.296*\"subroutin\" + 0.236*\"assembl\" + 0.157*\"maintain\" + 0.083*\"librari\" + 0.075*\"descript\" + 0.071*\"pass\" + 0.031*\"requir\" + 0.001*\"inform\" + 0.001*\"system\" + 0.001*\",\"\n",
      "2021-02-19 14:25:52,365 : INFO : topic #97 (0.010): 0.054*\"/\" + 0.047*\",\" + 0.044*\"-\" + 0.040*\"buffer\" + 0.039*\"model\" + 0.038*\"multiprogram\" + 0.037*\"cpu\" + 0.030*\"system\" + 0.028*\"simul\" + 0.027*\"comput\"\n",
      "2021-02-19 14:25:52,365 : INFO : topic #40 (0.019): 0.285*\"data\" + 0.095*\"structur\" + 0.083*\"system\" + 0.077*\"design\" + 0.054*\"process\" + 0.047*\"organ\" + 0.026*\"gener\" + 0.024*\"inform\" + 0.024*\",\" + 0.023*\"applic\"\n",
      "2021-02-19 14:25:52,365 : INFO : topic #2 (0.019): 0.174*\"algorithm\" + 0.135*\"(\" + 0.067*\"$\" + 0.052*\"))\" + 0.047*\"complex\" + 0.047*\"integr\" + 0.042*\"[\" + 0.036*\"])\" + 0.035*\"corrigendum\" + 0.032*\"d1\"\n",
      "2021-02-19 14:25:52,366 : INFO : topic #20 (0.057): 0.400*\"(\" + 0.380*\")\" + 0.169*\"algorithm\" + 0.017*\"function\" + 0.010*\"-\" + 0.004*\"interpol\" + 0.004*\"polynomi\" + 0.003*\"differ\" + 0.003*\"kind\" + 0.002*\"bessel\"\n",
      "2021-02-19 14:25:52,366 : INFO : topic diff=0.212659, rho=0.245426\n",
      "2021-02-19 14:25:52,755 : INFO : -6.447 per-word bound, 87.3 perplexity estimate based on a held-out corpus of 1204 documents with 49783 words\n",
      "2021-02-19 14:25:52,756 : INFO : PROGRESS: pass 14, at document #3204/3204\n",
      "2021-02-19 14:25:53,032 : INFO : optimized alpha [0.014163094, 0.014194811, 0.019550303, 0.013190861, 0.011897745, 0.012820282, 0.01122372, 0.012874644, 0.013780983, 0.012316501, 0.011227378, 0.010416572, 0.011454791, 0.012287177, 0.009990612, 0.010634302, 0.012397088, 0.012177013, 0.012670406, 0.012566454, 0.059620444, 0.01081576, 0.013144745, 0.010826484, 0.017827848, 0.013235171, 0.010551142, 0.013982252, 0.011645399, 0.012130214, 0.016139654, 0.011523794, 0.014855754, 0.0106933275, 0.014204191, 0.011451488, 0.01269234, 0.015028729, 0.011594435, 0.0131517155, 0.019736025, 0.012912066, 0.012326915, 0.011864312, 0.013725215, 0.013126575, 0.011925499, 0.011266452, 0.011114031, 0.011871734, 0.012112494, 0.011340368, 0.011543817, 0.011554295, 0.013715229, 0.015221381, 0.012241787, 0.012543085, 0.012911437, 0.010608286, 0.012412553, 0.01178879, 0.012076995, 0.015077778, 0.012304883, 0.012035437, 0.0111445775, 0.013764508, 0.011546431, 0.012591215, 0.01090417, 0.012365949, 0.012559131, 0.011709651, 0.012713765, 0.016171131, 0.012607042, 0.012255705, 0.011021615, 0.011743962, 0.012138647, 0.012686496, 0.01221555, 0.01120137, 0.01335324, 0.012983332, 0.01175425, 0.014090591, 0.012807343, 0.013937349, 0.012111239, 0.012261452, 0.013680987, 0.011546661, 0.011869622, 0.011475279, 0.013914184, 0.010259872, 0.012703643, 0.012781065]\n",
      "2021-02-19 14:25:53,035 : INFO : merging changes from 1204 documents into a model of 3204 documents\n",
      "2021-02-19 14:25:53,038 : INFO : topic #14 (0.010): 0.268*\"subroutin\" + 0.233*\"assembl\" + 0.192*\"maintain\" + 0.079*\"librari\" + 0.077*\"descript\" + 0.068*\"pass\" + 0.030*\"requir\" + 0.001*\"inform\" + 0.001*\"system\" + 0.001*\",\"\n",
      "2021-02-19 14:25:53,039 : INFO : topic #97 (0.010): 0.058*\"/\" + 0.045*\",\" + 0.044*\"-\" + 0.043*\"buffer\" + 0.040*\"model\" + 0.040*\"cpu\" + 0.039*\"multiprogram\" + 0.031*\"system\" + 0.027*\"comput\" + 0.026*\"simul\"\n",
      "2021-02-19 14:25:53,039 : INFO : topic #2 (0.020): 0.176*\"algorithm\" + 0.136*\"(\" + 0.080*\"$\" + 0.064*\"))\" + 0.049*\"complex\" + 0.043*\"integr\" + 0.043*\"corrigendum\" + 0.034*\"d1\" + 0.034*\"[\" + 0.028*\"quadratur\"\n",
      "2021-02-19 14:25:53,039 : INFO : topic #40 (0.020): 0.288*\"data\" + 0.103*\"structur\" + 0.079*\"system\" + 0.078*\"design\" + 0.051*\"process\" + 0.047*\"organ\" + 0.027*\"gener\" + 0.023*\",\" + 0.023*\"inform\" + 0.022*\"applic\"\n",
      "2021-02-19 14:25:53,039 : INFO : topic #20 (0.060): 0.406*\"(\" + 0.386*\")\" + 0.161*\"algorithm\" + 0.016*\"function\" + 0.010*\"-\" + 0.004*\"interpol\" + 0.003*\"polynomi\" + 0.003*\"kind\" + 0.003*\"differ\" + 0.002*\"bessel\"\n"
     ]
    },
    {
     "name": "stderr",
     "output_type": "stream",
     "text": [
      "2021-02-19 14:25:53,040 : INFO : topic diff=0.217762, rho=0.245426\n",
      "2021-02-19 14:25:53,044 : INFO : PROGRESS: pass 15, at document #2000/3204\n",
      "2021-02-19 14:25:53,373 : INFO : optimized alpha [0.0141715, 0.014410479, 0.019714588, 0.013221443, 0.011940462, 0.012864267, 0.01131699, 0.0130821, 0.013885584, 0.012324268, 0.011229998, 0.01040791, 0.011481734, 0.012322516, 0.010019086, 0.010661823, 0.012448324, 0.0122075295, 0.012701869, 0.012644389, 0.062218472, 0.010814229, 0.013281821, 0.010835333, 0.01808359, 0.013297272, 0.010542403, 0.014095616, 0.011758397, 0.012168394, 0.016404575, 0.011599107, 0.014989326, 0.010678306, 0.014323375, 0.011529043, 0.0127826445, 0.015157111, 0.011611863, 0.013234403, 0.019990282, 0.012951039, 0.012399445, 0.011857656, 0.01375679, 0.0131888045, 0.012003425, 0.011260448, 0.011120265, 0.011879571, 0.012113753, 0.011370009, 0.011543158, 0.011556155, 0.01383384, 0.015308, 0.012284731, 0.012679487, 0.012980234, 0.0105837835, 0.012453356, 0.0118080685, 0.01209052, 0.0151434885, 0.0123593295, 0.012173177, 0.011143437, 0.013809203, 0.011631087, 0.012650292, 0.010907528, 0.012357101, 0.012600433, 0.011780252, 0.012694275, 0.016534569, 0.012642742, 0.012305093, 0.0110422475, 0.01181177, 0.012150453, 0.01270066, 0.012273473, 0.011205566, 0.013433117, 0.013104529, 0.011780838, 0.014177355, 0.012810847, 0.014150597, 0.012195839, 0.01230335, 0.013812138, 0.011538533, 0.011901396, 0.011527403, 0.014043615, 0.010246152, 0.012712428, 0.012788169]\n",
      "2021-02-19 14:25:53,375 : INFO : merging changes from 2000 documents into a model of 3204 documents\n",
      "2021-02-19 14:25:53,379 : INFO : topic #14 (0.010): 0.296*\"subroutin\" + 0.237*\"assembl\" + 0.158*\"maintain\" + 0.084*\"librari\" + 0.075*\"descript\" + 0.071*\"pass\" + 0.029*\"requir\" + 0.001*\"inform\" + 0.000*\"system\" + 0.000*\",\"\n",
      "2021-02-19 14:25:53,379 : INFO : topic #97 (0.010): 0.056*\"/\" + 0.046*\",\" + 0.044*\"-\" + 0.040*\"buffer\" + 0.040*\"multiprogram\" + 0.037*\"cpu\" + 0.037*\"model\" + 0.030*\"system\" + 0.028*\"simul\" + 0.028*\"comput\"\n",
      "2021-02-19 14:25:53,379 : INFO : topic #2 (0.020): 0.174*\"algorithm\" + 0.133*\"(\" + 0.070*\"$\" + 0.054*\"))\" + 0.050*\"complex\" + 0.048*\"integr\" + 0.036*\"corrigendum\" + 0.035*\"[\" + 0.033*\"d1\" + 0.030*\"])\"\n",
      "2021-02-19 14:25:53,380 : INFO : topic #40 (0.020): 0.291*\"data\" + 0.097*\"structur\" + 0.081*\"system\" + 0.076*\"design\" + 0.056*\"process\" + 0.047*\"organ\" + 0.026*\"gener\" + 0.023*\"inform\" + 0.023*\",\" + 0.022*\"applic\"\n",
      "2021-02-19 14:25:53,380 : INFO : topic #20 (0.062): 0.401*\"(\" + 0.382*\")\" + 0.168*\"algorithm\" + 0.017*\"function\" + 0.009*\"-\" + 0.004*\"interpol\" + 0.003*\"differ\" + 0.003*\"kind\" + 0.003*\"polynomi\" + 0.002*\"bessel\"\n",
      "2021-02-19 14:25:53,380 : INFO : topic diff=0.193870, rho=0.238352\n",
      "2021-02-19 14:25:53,799 : INFO : -6.439 per-word bound, 86.7 perplexity estimate based on a held-out corpus of 1204 documents with 49783 words\n",
      "2021-02-19 14:25:53,799 : INFO : PROGRESS: pass 15, at document #3204/3204\n",
      "2021-02-19 14:25:54,071 : INFO : optimized alpha [0.014377101, 0.014495161, 0.01991894, 0.013411519, 0.012106051, 0.012994433, 0.011386192, 0.013356862, 0.014040493, 0.012529979, 0.0113570085, 0.010483774, 0.011599166, 0.012458922, 0.010031384, 0.0107275, 0.012605832, 0.012329729, 0.012840941, 0.012750608, 0.06455979, 0.010900074, 0.013364074, 0.010912076, 0.018400144, 0.013411146, 0.010623105, 0.014421771, 0.01174548, 0.012303568, 0.016626215, 0.011670348, 0.015229909, 0.010761744, 0.014482259, 0.011585032, 0.012979048, 0.015444533, 0.011705785, 0.013323452, 0.020573683, 0.013128246, 0.012503913, 0.011977952, 0.013954701, 0.013345116, 0.012087479, 0.011382646, 0.011244893, 0.011981497, 0.012308863, 0.011465538, 0.011646155, 0.011658631, 0.014025231, 0.015575691, 0.012409481, 0.0128049385, 0.013186837, 0.010682046, 0.012564421, 0.011934299, 0.012206094, 0.015369394, 0.0124712745, 0.012245706, 0.011259899, 0.014005409, 0.011699328, 0.012770883, 0.011000195, 0.012560525, 0.012779949, 0.011847064, 0.012888441, 0.016715836, 0.012778012, 0.01246611, 0.01114455, 0.011886181, 0.0122903995, 0.012929617, 0.012436628, 0.011282806, 0.013580897, 0.0132656, 0.011935848, 0.014364934, 0.013028562, 0.014370512, 0.012296058, 0.012408121, 0.014013929, 0.011646708, 0.01199967, 0.011610705, 0.014232048, 0.010302227, 0.012849414, 0.012978377]\n",
      "2021-02-19 14:25:54,074 : INFO : merging changes from 1204 documents into a model of 3204 documents\n",
      "2021-02-19 14:25:54,077 : INFO : topic #14 (0.010): 0.269*\"subroutin\" + 0.234*\"assembl\" + 0.191*\"maintain\" + 0.080*\"librari\" + 0.077*\"descript\" + 0.068*\"pass\" + 0.028*\"requir\" + 0.000*\"inform\" + 0.000*\"system\" + 0.000*\",\"\n",
      "2021-02-19 14:25:54,078 : INFO : topic #97 (0.010): 0.059*\"/\" + 0.044*\",\" + 0.044*\"-\" + 0.043*\"buffer\" + 0.040*\"cpu\" + 0.040*\"multiprogram\" + 0.038*\"model\" + 0.031*\"system\" + 0.027*\"comput\" + 0.025*\"simul\"\n",
      "2021-02-19 14:25:54,078 : INFO : topic #2 (0.020): 0.175*\"algorithm\" + 0.133*\"(\" + 0.082*\"$\" + 0.065*\"))\" + 0.051*\"complex\" + 0.044*\"integr\" + 0.043*\"corrigendum\" + 0.035*\"d1\" + 0.033*\"quadratur\" + 0.028*\"[\"\n",
      "2021-02-19 14:25:54,079 : INFO : topic #40 (0.021): 0.293*\"data\" + 0.105*\"structur\" + 0.078*\"system\" + 0.076*\"design\" + 0.052*\"process\" + 0.047*\"organ\" + 0.028*\"gener\" + 0.023*\",\" + 0.022*\"applic\" + 0.022*\"inform\"\n",
      "2021-02-19 14:25:54,079 : INFO : topic #20 (0.065): 0.408*\"(\" + 0.387*\")\" + 0.160*\"algorithm\" + 0.016*\"function\" + 0.009*\"-\" + 0.004*\"interpol\" + 0.003*\"kind\" + 0.003*\"differ\" + 0.002*\"polynomi\" + 0.002*\"bessel\"\n",
      "2021-02-19 14:25:54,079 : INFO : topic diff=0.198521, rho=0.238352\n",
      "2021-02-19 14:25:54,083 : INFO : PROGRESS: pass 16, at document #2000/3204\n",
      "2021-02-19 14:25:54,416 : INFO : optimized alpha [0.014381349, 0.014704566, 0.020081762, 0.013444155, 0.012146161, 0.013035926, 0.011483193, 0.013580455, 0.014146588, 0.0125412885, 0.011356799, 0.0104742525, 0.011626815, 0.012496316, 0.010059522, 0.010757075, 0.012657317, 0.01236097, 0.012874525, 0.012828559, 0.06718345, 0.010901257, 0.013497337, 0.010919617, 0.018650455, 0.013473507, 0.010617186, 0.014538053, 0.011856431, 0.012347972, 0.016888497, 0.011745647, 0.015359356, 0.010749742, 0.014600914, 0.011662542, 0.013066037, 0.015573959, 0.011720173, 0.013404613, 0.020816702, 0.013167578, 0.012573634, 0.011970009, 0.013986717, 0.013402792, 0.012163896, 0.011378025, 0.011253526, 0.011997832, 0.012305239, 0.011495964, 0.011644189, 0.011657794, 0.014136837, 0.015658198, 0.012450014, 0.012946719, 0.013254089, 0.010659443, 0.012607323, 0.011953069, 0.012216443, 0.01543502, 0.012526048, 0.012382739, 0.011262672, 0.014047122, 0.011782484, 0.012831646, 0.011003562, 0.0125571275, 0.012820114, 0.011919135, 0.012876422, 0.017083779, 0.012814341, 0.012520044, 0.01116475, 0.011955566, 0.012301785, 0.012942706, 0.01249466, 0.011287109, 0.013659164, 0.013383284, 0.011961616, 0.014449852, 0.013034308, 0.014585184, 0.012379127, 0.012449146, 0.01415604, 0.011641488, 0.012033584, 0.011661804, 0.014359472, 0.010287963, 0.012856363, 0.012987875]\n",
      "2021-02-19 14:25:54,418 : INFO : merging changes from 2000 documents into a model of 3204 documents\n",
      "2021-02-19 14:25:54,421 : INFO : topic #14 (0.010): 0.296*\"subroutin\" + 0.237*\"assembl\" + 0.159*\"maintain\" + 0.084*\"librari\" + 0.075*\"descript\" + 0.071*\"pass\" + 0.027*\"requir\" + 0.000*\"inform\" + 0.000*\"system\" + 0.000*\",\"\n",
      "2021-02-19 14:25:54,422 : INFO : topic #97 (0.010): 0.057*\"/\" + 0.045*\",\" + 0.043*\"-\" + 0.041*\"multiprogram\" + 0.040*\"buffer\" + 0.037*\"cpu\" + 0.035*\"model\" + 0.030*\"system\" + 0.027*\"comput\" + 0.026*\"simul\"\n",
      "2021-02-19 14:25:54,422 : INFO : topic #2 (0.020): 0.173*\"algorithm\" + 0.130*\"(\" + 0.072*\"$\" + 0.056*\"))\" + 0.052*\"complex\" + 0.049*\"integr\" + 0.037*\"corrigendum\" + 0.034*\"d1\" + 0.033*\"quadratur\" + 0.028*\"[\"\n",
      "2021-02-19 14:25:54,422 : INFO : topic #40 (0.021): 0.295*\"data\" + 0.100*\"structur\" + 0.080*\"system\" + 0.074*\"design\" + 0.057*\"process\" + 0.047*\"organ\" + 0.027*\"gener\" + 0.023*\"inform\" + 0.023*\",\" + 0.022*\"applic\"\n",
      "2021-02-19 14:25:54,423 : INFO : topic #20 (0.067): 0.403*\"(\" + 0.383*\")\" + 0.167*\"algorithm\" + 0.017*\"function\" + 0.009*\"-\" + 0.004*\"interpol\" + 0.003*\"differ\" + 0.003*\"kind\" + 0.002*\"bessel\" + 0.002*\"polynomi\"\n",
      "2021-02-19 14:25:54,423 : INFO : topic diff=0.178482, rho=0.231857\n",
      "2021-02-19 14:25:54,839 : INFO : -6.433 per-word bound, 86.4 perplexity estimate based on a held-out corpus of 1204 documents with 49783 words\n"
     ]
    },
    {
     "name": "stderr",
     "output_type": "stream",
     "text": [
      "2021-02-19 14:25:54,839 : INFO : PROGRESS: pass 16, at document #3204/3204\n",
      "2021-02-19 14:25:55,112 : INFO : optimized alpha [0.014583249, 0.01478661, 0.020273224, 0.013630954, 0.012323269, 0.013160968, 0.011555293, 0.013861901, 0.014295769, 0.012746239, 0.011492543, 0.010552719, 0.011744301, 0.012632543, 0.01007375, 0.010829888, 0.012819404, 0.012485553, 0.0130158765, 0.012929887, 0.069480404, 0.010983274, 0.013580089, 0.010992764, 0.018965686, 0.013579788, 0.010696306, 0.014867473, 0.011845999, 0.0124854995, 0.017105844, 0.011813079, 0.015593456, 0.0108357025, 0.014762199, 0.011714952, 0.013249556, 0.015860662, 0.011812214, 0.01348647, 0.021405749, 0.013344212, 0.012683335, 0.01209493, 0.0141811855, 0.013548432, 0.012246134, 0.011500146, 0.011382425, 0.012109632, 0.012501927, 0.011591845, 0.011745231, 0.011749174, 0.014324948, 0.015915852, 0.012574766, 0.013074767, 0.01346792, 0.0107557345, 0.012716215, 0.012079254, 0.0123297535, 0.015656851, 0.012640582, 0.012455829, 0.011370383, 0.014245371, 0.011853733, 0.012952273, 0.011100857, 0.012762072, 0.012994044, 0.011982109, 0.013072346, 0.017260673, 0.0129494965, 0.012690421, 0.011265075, 0.012037671, 0.012436733, 0.013183606, 0.0126574915, 0.011362857, 0.013806753, 0.01354147, 0.012118499, 0.014631219, 0.013243418, 0.014802016, 0.012482025, 0.012549381, 0.014360232, 0.011758926, 0.012125136, 0.011738899, 0.014553248, 0.010347075, 0.012993153, 0.013174865]\n",
      "2021-02-19 14:25:55,115 : INFO : merging changes from 1204 documents into a model of 3204 documents\n",
      "2021-02-19 14:25:55,119 : INFO : topic #14 (0.010): 0.270*\"subroutin\" + 0.234*\"assembl\" + 0.191*\"maintain\" + 0.081*\"librari\" + 0.077*\"descript\" + 0.071*\"pass\" + 0.026*\"requir\" + 0.000*\"inform\" + 0.000*\"system\" + 0.000*\",\"\n",
      "2021-02-19 14:25:55,119 : INFO : topic #97 (0.010): 0.060*\"/\" + 0.044*\",\" + 0.044*\"-\" + 0.043*\"buffer\" + 0.041*\"multiprogram\" + 0.040*\"cpu\" + 0.036*\"model\" + 0.032*\"system\" + 0.027*\"comput\" + 0.024*\"predict\"\n",
      "2021-02-19 14:25:55,120 : INFO : topic #2 (0.020): 0.174*\"algorithm\" + 0.130*\"(\" + 0.083*\"$\" + 0.066*\"))\" + 0.053*\"complex\" + 0.045*\"integr\" + 0.044*\"corrigendum\" + 0.037*\"quadratur\" + 0.035*\"d1\" + 0.026*\"a1\"\n",
      "2021-02-19 14:25:55,120 : INFO : topic #40 (0.021): 0.297*\"data\" + 0.107*\"structur\" + 0.077*\"system\" + 0.075*\"design\" + 0.054*\"process\" + 0.047*\"organ\" + 0.028*\"gener\" + 0.022*\",\" + 0.022*\"applic\" + 0.021*\"inform\"\n",
      "2021-02-19 14:25:55,120 : INFO : topic #20 (0.069): 0.409*\"(\" + 0.387*\")\" + 0.159*\"algorithm\" + 0.016*\"function\" + 0.009*\"-\" + 0.004*\"interpol\" + 0.003*\"kind\" + 0.003*\"differ\" + 0.002*\"bessel\" + 0.002*\"polynomi\"\n",
      "2021-02-19 14:25:55,121 : INFO : topic diff=0.183033, rho=0.231857\n",
      "2021-02-19 14:25:55,126 : INFO : PROGRESS: pass 17, at document #2000/3204\n",
      "2021-02-19 14:25:55,458 : INFO : optimized alpha [0.014590237, 0.015006835, 0.020432571, 0.013662522, 0.01236667, 0.013201593, 0.01165209, 0.014092882, 0.014406596, 0.012753867, 0.011489527, 0.010543644, 0.011771354, 0.012666193, 0.010101587, 0.010861488, 0.01286679, 0.012517507, 0.013054461, 0.013004994, 0.072093435, 0.010984574, 0.013711269, 0.011005338, 0.019210609, 0.013637922, 0.010690707, 0.0149986325, 0.011955089, 0.012538833, 0.01736363, 0.011889759, 0.015726104, 0.010821643, 0.014887155, 0.011789903, 0.013342715, 0.01599654, 0.011829102, 0.013561553, 0.021651985, 0.013382412, 0.012751789, 0.012089845, 0.01421049, 0.013604896, 0.012321262, 0.0114955325, 0.011394659, 0.012127017, 0.012504827, 0.011624345, 0.011743419, 0.01174985, 0.0144280745, 0.015999848, 0.012610198, 0.013220786, 0.013533673, 0.010731278, 0.012756822, 0.012100259, 0.012341284, 0.01572423, 0.012697174, 0.012589577, 0.011373116, 0.014295604, 0.011934225, 0.013013336, 0.011106747, 0.012765433, 0.013038985, 0.012063822, 0.013059994, 0.017637305, 0.012983506, 0.012757574, 0.011284848, 0.012108526, 0.012449159, 0.013203201, 0.012715713, 0.011367264, 0.013886633, 0.0136572905, 0.0121504115, 0.014712713, 0.013252925, 0.015021647, 0.012566497, 0.01258963, 0.014503664, 0.0117511125, 0.012159824, 0.011789084, 0.014686872, 0.010333415, 0.012999846, 0.013188222]\n",
      "2021-02-19 14:25:55,461 : INFO : merging changes from 2000 documents into a model of 3204 documents\n",
      "2021-02-19 14:25:55,464 : INFO : topic #14 (0.010): 0.296*\"subroutin\" + 0.237*\"assembl\" + 0.159*\"maintain\" + 0.085*\"librari\" + 0.075*\"descript\" + 0.073*\"pass\" + 0.025*\"requir\" + 0.000*\"inform\" + 0.000*\"system\" + 0.000*\",\"\n",
      "2021-02-19 14:25:55,464 : INFO : topic #97 (0.010): 0.059*\"/\" + 0.044*\",\" + 0.043*\"-\" + 0.042*\"multiprogram\" + 0.040*\"buffer\" + 0.037*\"cpu\" + 0.034*\"model\" + 0.031*\"system\" + 0.027*\"comput\" + 0.025*\"simul\"\n",
      "2021-02-19 14:25:55,465 : INFO : topic #2 (0.020): 0.171*\"algorithm\" + 0.127*\"(\" + 0.075*\"$\" + 0.057*\"))\" + 0.055*\"complex\" + 0.050*\"integr\" + 0.038*\"corrigendum\" + 0.037*\"quadratur\" + 0.035*\"d1\" + 0.028*\"a1\"\n",
      "2021-02-19 14:25:55,465 : INFO : topic #40 (0.022): 0.299*\"data\" + 0.101*\"structur\" + 0.079*\"system\" + 0.073*\"design\" + 0.058*\"process\" + 0.047*\"organ\" + 0.027*\"gener\" + 0.022*\"inform\" + 0.022*\",\" + 0.022*\"applic\"\n",
      "2021-02-19 14:25:55,466 : INFO : topic #20 (0.072): 0.404*\"(\" + 0.383*\")\" + 0.166*\"algorithm\" + 0.017*\"function\" + 0.009*\"-\" + 0.004*\"interpol\" + 0.003*\"differ\" + 0.003*\"kind\" + 0.002*\"bessel\" + 0.002*\"divid\"\n",
      "2021-02-19 14:25:55,466 : INFO : topic diff=0.165724, rho=0.225865\n",
      "2021-02-19 14:25:55,859 : INFO : -6.426 per-word bound, 86.0 perplexity estimate based on a held-out corpus of 1204 documents with 49783 words\n",
      "2021-02-19 14:25:55,860 : INFO : PROGRESS: pass 17, at document #3204/3204\n",
      "2021-02-19 14:25:56,131 : INFO : optimized alpha [0.014785915, 0.015086333, 0.02062315, 0.013851507, 0.012536606, 0.0133217415, 0.011729331, 0.014386604, 0.014541905, 0.012951012, 0.011618584, 0.01062268, 0.011886776, 0.012802375, 0.010113869, 0.010932955, 0.01303117, 0.012642226, 0.013193262, 0.0131043, 0.074291624, 0.011071329, 0.0137894405, 0.011081306, 0.019525107, 0.013747235, 0.010774382, 0.015337303, 0.011944725, 0.0126787545, 0.01757693, 0.011955776, 0.015968679, 0.010908083, 0.015045365, 0.011847846, 0.013533697, 0.01628001, 0.011917195, 0.0136442045, 0.02224313, 0.0135536445, 0.012861834, 0.012214793, 0.014399063, 0.013747913, 0.012401791, 0.01161114, 0.011523519, 0.012241393, 0.012703307, 0.011722864, 0.011847046, 0.011841835, 0.014607705, 0.016253708, 0.012732741, 0.013358999, 0.013747291, 0.010827817, 0.012866085, 0.012224189, 0.012457199, 0.015939455, 0.012811925, 0.012660955, 0.011483156, 0.014507075, 0.011999492, 0.013134134, 0.011208574, 0.012974656, 0.013210239, 0.012120881, 0.013262748, 0.017809873, 0.013121185, 0.012925463, 0.011383344, 0.012200373, 0.012584038, 0.013468975, 0.012878325, 0.011441659, 0.014036774, 0.013812897, 0.0123048, 0.014896591, 0.013466426, 0.015238529, 0.012664955, 0.012690324, 0.014699562, 0.011868639, 0.012256525, 0.01186688, 0.0148720285, 0.010395434, 0.013129257, 0.013369787]\n",
      "2021-02-19 14:25:56,134 : INFO : merging changes from 1204 documents into a model of 3204 documents\n",
      "2021-02-19 14:25:56,137 : INFO : topic #14 (0.010): 0.271*\"subroutin\" + 0.234*\"assembl\" + 0.191*\"maintain\" + 0.081*\"librari\" + 0.077*\"descript\" + 0.070*\"pass\" + 0.024*\"requir\" + 0.000*\"inform\" + 0.000*\"system\" + 0.000*\",\"\n",
      "2021-02-19 14:25:56,138 : INFO : topic #97 (0.010): 0.062*\"/\" + 0.044*\",\" + 0.043*\"-\" + 0.043*\"buffer\" + 0.041*\"multiprogram\" + 0.040*\"cpu\" + 0.035*\"model\" + 0.033*\"system\" + 0.027*\"comput\" + 0.026*\"monitor\"\n",
      "2021-02-19 14:25:56,139 : INFO : topic #2 (0.021): 0.171*\"algorithm\" + 0.128*\"(\" + 0.085*\"$\" + 0.067*\"))\" + 0.056*\"complex\" + 0.046*\"integr\" + 0.045*\"corrigendum\" + 0.040*\"quadratur\" + 0.036*\"d1\" + 0.026*\"a1\"\n",
      "2021-02-19 14:25:56,139 : INFO : topic #40 (0.022): 0.301*\"data\" + 0.108*\"structur\" + 0.076*\"system\" + 0.074*\"design\" + 0.055*\"process\" + 0.047*\"organ\" + 0.028*\"gener\" + 0.022*\",\" + 0.022*\"applic\" + 0.021*\"inform\"\n",
      "2021-02-19 14:25:56,139 : INFO : topic #20 (0.074): 0.410*\"(\" + 0.388*\")\" + 0.159*\"algorithm\" + 0.016*\"function\" + 0.009*\"-\" + 0.004*\"interpol\" + 0.003*\"kind\" + 0.003*\"differ\" + 0.002*\"bessel\" + 0.001*\"divid\"\n",
      "2021-02-19 14:25:56,140 : INFO : topic diff=0.170105, rho=0.225865\n",
      "2021-02-19 14:25:56,144 : INFO : PROGRESS: pass 18, at document #2000/3204\n",
      "2021-02-19 14:25:56,468 : INFO : optimized alpha [0.014792214, 0.015307569, 0.020781536, 0.013882034, 0.012577591, 0.013360024, 0.011829933, 0.014622175, 0.014651023, 0.012962229, 0.011620643, 0.010615127, 0.01191461, 0.012836607, 0.010141436, 0.010965349, 0.013078929, 0.012676296, 0.013232397, 0.0131766675, 0.07689508, 0.011071445, 0.013917207, 0.011090014, 0.019775765, 0.013802735, 0.010770183, 0.015473321, 0.012052089, 0.012735223, 0.017832274, 0.012031212, 0.016099198, 0.010898077, 0.015165026, 0.011924267, 0.013629761, 0.016413579, 0.011933835, 0.0137209585, 0.022485144, 0.013593814, 0.0129277455, 0.012212437, 0.014425785, 0.013804697, 0.012474312, 0.011602719, 0.011534103, 0.012258414, 0.012706987, 0.011757412, 0.011847934, 0.011845203, 0.014715492, 0.016332038, 0.012767448, 0.013498904, 0.01381158, 0.010807585, 0.0129073905, 0.012246044, 0.012468492, 0.016006857, 0.012868935, 0.012794319, 0.011485761, 0.014552747, 0.012081376, 0.01319404, 0.0112156095, 0.012978706, 0.013260068, 0.012198642, 0.013248549, 0.01818955, 0.013155934, 0.012991353, 0.011409069, 0.012271455, 0.012596058, 0.013494756, 0.012938201, 0.011447445, 0.014119832, 0.013927015, 0.012337275, 0.014976464, 0.013476554, 0.01545321, 0.01274673, 0.012731235, 0.01483466, 0.011860919, 0.012287856, 0.011917517, 0.014998937, 0.0103857955, 0.013137188, 0.013380995]\n"
     ]
    },
    {
     "name": "stderr",
     "output_type": "stream",
     "text": [
      "2021-02-19 14:25:56,471 : INFO : merging changes from 2000 documents into a model of 3204 documents\n",
      "2021-02-19 14:25:56,474 : INFO : topic #14 (0.010): 0.296*\"subroutin\" + 0.237*\"assembl\" + 0.160*\"maintain\" + 0.085*\"librari\" + 0.075*\"descript\" + 0.073*\"pass\" + 0.023*\"requir\" + 0.000*\"inform\" + 0.000*\"system\" + 0.000*\",\"\n",
      "2021-02-19 14:25:56,474 : INFO : topic #97 (0.010): 0.060*\"/\" + 0.044*\",\" + 0.043*\"-\" + 0.042*\"multiprogram\" + 0.040*\"buffer\" + 0.037*\"cpu\" + 0.032*\"model\" + 0.032*\"system\" + 0.027*\"comput\" + 0.026*\"monitor\"\n",
      "2021-02-19 14:25:56,475 : INFO : topic #2 (0.021): 0.168*\"algorithm\" + 0.125*\"(\" + 0.077*\"$\" + 0.058*\"))\" + 0.057*\"complex\" + 0.051*\"integr\" + 0.040*\"quadratur\" + 0.039*\"corrigendum\" + 0.036*\"d1\" + 0.028*\"a1\"\n",
      "2021-02-19 14:25:56,475 : INFO : topic #40 (0.022): 0.303*\"data\" + 0.103*\"structur\" + 0.078*\"system\" + 0.071*\"design\" + 0.060*\"process\" + 0.047*\"organ\" + 0.027*\"gener\" + 0.022*\"inform\" + 0.022*\"applic\" + 0.022*\",\"\n",
      "2021-02-19 14:25:56,475 : INFO : topic #20 (0.077): 0.404*\"(\" + 0.384*\")\" + 0.165*\"algorithm\" + 0.017*\"function\" + 0.009*\"-\" + 0.004*\"interpol\" + 0.003*\"differ\" + 0.003*\"kind\" + 0.002*\"bessel\" + 0.002*\"divid\"\n",
      "2021-02-19 14:25:56,475 : INFO : topic diff=0.154923, rho=0.220316\n",
      "2021-02-19 14:25:56,869 : INFO : -6.421 per-word bound, 85.7 perplexity estimate based on a held-out corpus of 1204 documents with 49783 words\n",
      "2021-02-19 14:25:56,869 : INFO : PROGRESS: pass 18, at document #3204/3204\n",
      "2021-02-19 14:25:57,135 : INFO : optimized alpha [0.014987554, 0.01538178, 0.02097163, 0.014068186, 0.012756853, 0.013473116, 0.011905715, 0.014923209, 0.014789552, 0.013173455, 0.011751953, 0.010688907, 0.012030308, 0.01296824, 0.010155569, 0.011039622, 0.013240874, 0.012798875, 0.013368791, 0.013281335, 0.07897821, 0.011150522, 0.013993541, 0.011166763, 0.020085925, 0.013904934, 0.010848494, 0.015827505, 0.01204405, 0.012872928, 0.018034942, 0.012095904, 0.016335525, 0.010987019, 0.015323245, 0.0119788395, 0.013825932, 0.016690787, 0.012020314, 0.013799423, 0.02308601, 0.01376239, 0.013038239, 0.0123420395, 0.014614062, 0.013947827, 0.012550985, 0.011724917, 0.011665212, 0.012368645, 0.012902718, 0.011852059, 0.011943194, 0.0119400155, 0.01490585, 0.0165824, 0.012887927, 0.013622388, 0.014022558, 0.01090637, 0.013012359, 0.012367899, 0.0125847375, 0.016224662, 0.012976917, 0.0128663825, 0.011591801, 0.014753251, 0.012147564, 0.01331275, 0.011315794, 0.01319, 0.01342625, 0.012258977, 0.013440984, 0.018357784, 0.013288898, 0.0131544145, 0.011507959, 0.012359441, 0.012733284, 0.013778011, 0.013107835, 0.01152058, 0.014270048, 0.0140801985, 0.012491658, 0.015160154, 0.013687108, 0.015672954, 0.012850351, 0.012830118, 0.015016823, 0.01197865, 0.0123850955, 0.011996055, 0.0151783805, 0.010444777, 0.013264364, 0.013572242]\n",
      "2021-02-19 14:25:57,138 : INFO : merging changes from 1204 documents into a model of 3204 documents\n",
      "2021-02-19 14:25:57,142 : INFO : topic #14 (0.010): 0.271*\"subroutin\" + 0.234*\"assembl\" + 0.190*\"maintain\" + 0.081*\"librari\" + 0.077*\"descript\" + 0.073*\"pass\" + 0.022*\"requir\" + 0.000*\"inform\" + 0.000*\"system\" + 0.000*\",\"\n",
      "2021-02-19 14:25:57,142 : INFO : topic #97 (0.010): 0.065*\"/\" + 0.044*\"buffer\" + 0.044*\",\" + 0.043*\"-\" + 0.042*\"multiprogram\" + 0.041*\"cpu\" + 0.034*\"system\" + 0.032*\"model\" + 0.027*\"monitor\" + 0.026*\"comput\"\n",
      "2021-02-19 14:25:57,143 : INFO : topic #2 (0.021): 0.169*\"algorithm\" + 0.126*\"(\" + 0.087*\"$\" + 0.068*\"))\" + 0.059*\"complex\" + 0.047*\"integr\" + 0.046*\"corrigendum\" + 0.043*\"quadratur\" + 0.037*\"d1\" + 0.027*\"a1\"\n",
      "2021-02-19 14:25:57,143 : INFO : topic #40 (0.023): 0.304*\"data\" + 0.110*\"structur\" + 0.075*\"system\" + 0.072*\"design\" + 0.056*\"process\" + 0.047*\"organ\" + 0.028*\"gener\" + 0.021*\"applic\" + 0.021*\",\" + 0.021*\"inform\"\n",
      "2021-02-19 14:25:57,143 : INFO : topic #20 (0.079): 0.410*\"(\" + 0.388*\")\" + 0.159*\"algorithm\" + 0.016*\"function\" + 0.009*\"-\" + 0.004*\"interpol\" + 0.003*\"kind\" + 0.003*\"differ\" + 0.002*\"bessel\" + 0.001*\"divid\"\n",
      "2021-02-19 14:25:57,144 : INFO : topic diff=0.159040, rho=0.220316\n",
      "2021-02-19 14:25:57,148 : INFO : PROGRESS: pass 19, at document #2000/3204\n",
      "2021-02-19 14:25:57,475 : INFO : optimized alpha [0.014998122, 0.015600829, 0.021120075, 0.0141007975, 0.012798245, 0.013510697, 0.01200376, 0.015160175, 0.014895462, 0.013190929, 0.011752532, 0.010683948, 0.0120575875, 0.013005947, 0.010182863, 0.011072688, 0.013289019, 0.012833617, 0.013407082, 0.013349603, 0.08151248, 0.011149529, 0.014119525, 0.011177851, 0.020327188, 0.013959477, 0.010844511, 0.015966795, 0.012148485, 0.012934037, 0.018280199, 0.012172776, 0.016467605, 0.0109784575, 0.015442742, 0.012054148, 0.013923383, 0.01681842, 0.01203667, 0.013871988, 0.023333322, 0.013803004, 0.0131044565, 0.012340929, 0.014644564, 0.014003395, 0.0126210395, 0.011719044, 0.0116779655, 0.012389458, 0.012905731, 0.011888632, 0.011941531, 0.011947284, 0.015016686, 0.016660655, 0.012926059, 0.013756182, 0.014083955, 0.010887717, 0.01305438, 0.012389266, 0.012595765, 0.016285188, 0.01303154, 0.012999462, 0.011594346, 0.014805677, 0.012226966, 0.013371585, 0.011325121, 0.013203369, 0.013479449, 0.012338226, 0.013427965, 0.01873857, 0.013325765, 0.013223293, 0.011531971, 0.012432085, 0.012746313, 0.013814304, 0.013167915, 0.011525144, 0.014353251, 0.0141942585, 0.012524669, 0.015238434, 0.013696419, 0.015889384, 0.012929478, 0.012867537, 0.01515999, 0.011974894, 0.012415845, 0.012044583, 0.0153065445, 0.010434449, 0.013272014, 0.013585673]\n",
      "2021-02-19 14:25:57,478 : INFO : merging changes from 2000 documents into a model of 3204 documents\n",
      "2021-02-19 14:25:57,481 : INFO : topic #14 (0.010): 0.296*\"subroutin\" + 0.237*\"assembl\" + 0.160*\"maintain\" + 0.085*\"librari\" + 0.075*\"pass\" + 0.075*\"descript\" + 0.022*\"requir\" + 0.000*\"inform\" + 0.000*\"system\" + 0.000*\",\"\n",
      "2021-02-19 14:25:57,481 : INFO : topic #97 (0.010): 0.063*\"/\" + 0.044*\",\" + 0.043*\"multiprogram\" + 0.042*\"-\" + 0.041*\"buffer\" + 0.038*\"cpu\" + 0.033*\"system\" + 0.029*\"model\" + 0.027*\"monitor\" + 0.026*\"comput\"\n",
      "2021-02-19 14:25:57,482 : INFO : topic #2 (0.021): 0.166*\"algorithm\" + 0.123*\"(\" + 0.078*\"$\" + 0.060*\"complex\" + 0.060*\"))\" + 0.052*\"integr\" + 0.043*\"quadratur\" + 0.040*\"corrigendum\" + 0.036*\"d1\" + 0.029*\"a1\"\n",
      "2021-02-19 14:25:57,482 : INFO : topic #40 (0.023): 0.306*\"data\" + 0.105*\"structur\" + 0.077*\"system\" + 0.070*\"design\" + 0.061*\"process\" + 0.047*\"organ\" + 0.027*\"gener\" + 0.022*\"inform\" + 0.021*\"applic\" + 0.021*\",\"\n",
      "2021-02-19 14:25:57,482 : INFO : topic #20 (0.082): 0.405*\"(\" + 0.384*\")\" + 0.165*\"algorithm\" + 0.017*\"function\" + 0.009*\"-\" + 0.004*\"interpol\" + 0.003*\"differ\" + 0.003*\"kind\" + 0.002*\"bessel\" + 0.002*\"divid\"\n",
      "2021-02-19 14:25:57,482 : INFO : topic diff=0.145656, rho=0.215156\n",
      "2021-02-19 14:25:57,888 : INFO : -6.415 per-word bound, 85.3 perplexity estimate based on a held-out corpus of 1204 documents with 49783 words\n",
      "2021-02-19 14:25:57,889 : INFO : PROGRESS: pass 19, at document #3204/3204\n",
      "2021-02-19 14:25:58,149 : INFO : optimized alpha [0.01519055, 0.015669933, 0.021305935, 0.014284324, 0.0129754, 0.013621878, 0.012082462, 0.015458017, 0.015039789, 0.013399686, 0.01187977, 0.010756515, 0.012169204, 0.013142553, 0.010196934, 0.011147808, 0.01344868, 0.012958829, 0.013546045, 0.01344769, 0.08349866, 0.01122731, 0.01419662, 0.011257306, 0.020640293, 0.014064907, 0.010927368, 0.016322749, 0.012136105, 0.013071988, 0.018482331, 0.012236194, 0.016704, 0.0110679325, 0.015598141, 0.012107635, 0.014127398, 0.017095437, 0.012121724, 0.013946406, 0.023923583, 0.013978838, 0.013215497, 0.012464016, 0.014830083, 0.014144265, 0.012696284, 0.011837259, 0.011804997, 0.012504736, 0.013103577, 0.011983881, 0.012041691, 0.012042683, 0.015215097, 0.016907733, 0.013044632, 0.013880024, 0.014295013, 0.010984894, 0.013164693, 0.01251142, 0.012710122, 0.016496802, 0.013137653, 0.0130699435, 0.0117007755, 0.015008891, 0.012294099, 0.013490699, 0.0114298165, 0.013409747, 0.013645808, 0.0123973815, 0.013625039, 0.018902658, 0.0134614315, 0.013388878, 0.01162928, 0.012520774, 0.012883712, 0.014123228, 0.013332892, 0.011597083, 0.01449848, 0.0143476175, 0.012681354, 0.01542207, 0.013904208, 0.016109336, 0.013028977, 0.012964684, 0.015342331, 0.012088588, 0.012513701, 0.012121749, 0.0154943755, 0.01049621, 0.013397152, 0.013774412]\n"
     ]
    },
    {
     "name": "stderr",
     "output_type": "stream",
     "text": [
      "2021-02-19 14:25:58,152 : INFO : merging changes from 1204 documents into a model of 3204 documents\n",
      "2021-02-19 14:25:58,155 : INFO : topic #14 (0.010): 0.272*\"subroutin\" + 0.234*\"assembl\" + 0.190*\"maintain\" + 0.082*\"librari\" + 0.077*\"descript\" + 0.075*\"pass\" + 0.020*\"requir\" + 0.000*\"inform\" + 0.000*\"system\" + 0.000*\",\"\n",
      "2021-02-19 14:25:58,155 : INFO : topic #97 (0.010): 0.067*\"/\" + 0.044*\"buffer\" + 0.044*\",\" + 0.044*\"multiprogram\" + 0.042*\"-\" + 0.041*\"cpu\" + 0.035*\"system\" + 0.029*\"model\" + 0.028*\"monitor\" + 0.026*\"comput\"\n",
      "2021-02-19 14:25:58,155 : INFO : topic #2 (0.021): 0.165*\"algorithm\" + 0.125*\"(\" + 0.088*\"$\" + 0.069*\"))\" + 0.061*\"complex\" + 0.048*\"integr\" + 0.046*\"corrigendum\" + 0.045*\"quadratur\" + 0.037*\"d1\" + 0.027*\"a1\"\n",
      "2021-02-19 14:25:58,156 : INFO : topic #40 (0.024): 0.308*\"data\" + 0.112*\"structur\" + 0.073*\"system\" + 0.069*\"design\" + 0.058*\"process\" + 0.047*\"organ\" + 0.028*\"gener\" + 0.021*\"applic\" + 0.021*\"develop\" + 0.021*\",\"\n",
      "2021-02-19 14:25:58,156 : INFO : topic #20 (0.083): 0.410*\"(\" + 0.388*\")\" + 0.158*\"algorithm\" + 0.016*\"function\" + 0.009*\"-\" + 0.004*\"interpol\" + 0.003*\"differ\" + 0.003*\"kind\" + 0.002*\"bessel\" + 0.001*\"divid\"\n",
      "2021-02-19 14:25:58,156 : INFO : topic diff=0.149421, rho=0.215156\n"
     ]
    },
    {
     "data": {
      "text/plain": [
       "[(0, 0.0062369797),\n",
       " (1, 0.006433806),\n",
       " (2, 0.008747852),\n",
       " (3, 0.0058648987),\n",
       " (4, 0.005327477),\n",
       " (5, 0.0055929096),\n",
       " (6, 0.004960852),\n",
       " (7, 0.006346797),\n",
       " (8, 0.0061750794),\n",
       " (9, 0.0055016815),\n",
       " (10, 0.00487763),\n",
       " (11, 0.0044164406),\n",
       " (12, 0.0049964665),\n",
       " (13, 0.005396107),\n",
       " (14, 0.0041866866),\n",
       " (15, 0.0045770993),\n",
       " (16, 0.0055217976),\n",
       " (17, 0.0053206733),\n",
       " (18, 0.005561774),\n",
       " (19, 0.005521391),\n",
       " (20, 0.03428312),\n",
       " (21, 0.0046097413),\n",
       " (22, 0.005828889),\n",
       " (23, 0.004622057),\n",
       " (24, 0.008474551),\n",
       " (25, 0.00577481),\n",
       " (26, 0.00448659),\n",
       " (27, 0.006701841),\n",
       " (28, 0.41556272),\n",
       " (29, 0.005367134),\n",
       " (30, 0.0075885286),\n",
       " (31, 0.0050239717),\n",
       " (32, 0.0068583763),\n",
       " (33, 0.0045443033),\n",
       " (34, 0.0064043296),\n",
       " (35, 0.0049711876),\n",
       " (36, 0.0058004675),\n",
       " (37, 0.0070190937),\n",
       " (38, 0.0049769725),\n",
       " (39, 0.0057261554),\n",
       " (40, 0.009822614),\n",
       " (41, 0.0057394714),\n",
       " (42, 0.0054260567),\n",
       " (43, 0.0051175114),\n",
       " (44, 0.006088978),\n",
       " (45, 0.0058073928),\n",
       " (46, 0.0052128765),\n",
       " (47, 0.004860176),\n",
       " (48, 0.0048469296),\n",
       " (49, 0.0051342305),\n",
       " (50, 0.0053801043),\n",
       " (51, 0.004920376),\n",
       " (52, 0.004944112),\n",
       " (53, 0.004944519),\n",
       " (54, 0.006247058),\n",
       " (55, 0.0069420254),\n",
       " (56, 0.0053559025),\n",
       " (57, 0.0056989),\n",
       " (58, 0.0058692875),\n",
       " (59, 0.0045102094),\n",
       " (60, 0.0054051974),\n",
       " (61, 0.0051369746),\n",
       " (62, 0.0052185585),\n",
       " (63, 0.006773304),\n",
       " (64, 0.005394095),\n",
       " (65, 0.005366295),\n",
       " (66, 0.004804138),\n",
       " (67, 0.0061623934),\n",
       " (68, 0.0050477465),\n",
       " (69, 0.00553905),\n",
       " (70, 0.004692887),\n",
       " (71, 0.0055058124),\n",
       " (72, 0.005602735),\n",
       " (73, 0.0050901524),\n",
       " (74, 0.0055942074),\n",
       " (75, 0.0077611073),\n",
       " (76, 0.005527033),\n",
       " (77, 0.0054972437),\n",
       " (78, 0.0047747833),\n",
       " (79, 0.0051408154),\n",
       " (80, 0.005289831),\n",
       " (81, 0.0057987557),\n",
       " (82, 0.0054742573),\n",
       " (83, 0.0047615636),\n",
       " (84, 0.0059528276),\n",
       " (85, 0.005890886),\n",
       " (86, 0.0052067465),\n",
       " (87, 0.006332038),\n",
       " (88, 0.00570883),\n",
       " (89, 0.0066142175),\n",
       " (90, 0.005349475),\n",
       " (91, 0.005323077),\n",
       " (92, 0.0062992983),\n",
       " (93, 0.0049633672),\n",
       " (94, 0.005137911),\n",
       " (95, 0.0049769827),\n",
       " (96, 0.0063617253),\n",
       " (97, 0.0043095644),\n",
       " (98, 0.005500641),\n",
       " (99, 0.0056555374)]"
      ]
     },
     "execution_count": 85,
     "metadata": {},
     "output_type": "execute_result"
    }
   ],
   "source": [
    "##### Function check\n",
    "lda = LdaRetrievalModel(doc_repr_2)\n",
    "lda.train_model()\n",
    "\n",
    "# you can now get an LDA vector for a given query in the following way:\n",
    "lda.vectorize_query(\"report\")\n",
    "##### "
   ]
  },
  {
   "cell_type": "markdown",
   "metadata": {
    "deletable": false,
    "editable": false,
    "nbgrader": {
     "cell_type": "markdown",
     "checksum": "32d83b6ea79ca3ddb789a7f8805a1b25",
     "grade": false,
     "grade_id": "cell-0e24b727d5908c0e",
     "locked": true,
     "points": 5,
     "schema_version": 3,
     "solution": false,
     "task": true
    }
   },
   "source": [
    "\\#### Please do not change this. This cell is used for grading."
   ]
  },
  {
   "cell_type": "markdown",
   "metadata": {
    "deletable": false,
    "editable": false,
    "nbgrader": {
     "cell_type": "markdown",
     "checksum": "114a934f0b9ce696e6cf09d3b8da6a3d",
     "grade": false,
     "grade_id": "cell-b1bffcb970b18aeb",
     "locked": true,
     "schema_version": 3,
     "solution": false,
     "task": false
    }
   },
   "source": [
    "---\n",
    "Now we can use the `DenseRetrievalModel` class to obtain an LDA search function.\n",
    "You can test your LDA model in the following cell: Try finding queries which are lexically different to documents, but semantically similar - does LDA work well for these queries?!"
   ]
  },
  {
   "cell_type": "code",
   "execution_count": 86,
   "metadata": {},
   "outputs": [
    {
     "data": {
      "application/vnd.jupyter.widget-view+json": {
       "model_id": "6929ffa984b74775bf48a9925a193b69",
       "version_major": 2,
       "version_minor": 0
      },
      "text/plain": [
       "Text(value='', description='Search Bar')"
      ]
     },
     "metadata": {},
     "output_type": "display_data"
    }
   ],
   "source": [
    "drm_lda = DenseRetrievalRanker(lda, jenson_shannon_sim)\n",
    "\n",
    "# test your LDA model\n",
    "search_fn = drm_lda.search\n",
    "\n",
    "text = widgets.Text(description=\"Search Bar\", width=200)\n",
    "display(text)\n",
    "\n",
    "\n",
    "text.on_submit(handle_submit_2)"
   ]
  },
  {
   "cell_type": "markdown",
   "metadata": {
    "deletable": false,
    "editable": false,
    "nbgrader": {
     "cell_type": "markdown",
     "checksum": "9d7f15863b655119b45f4d89354e5661",
     "grade": false,
     "grade_id": "cell-190cd0854b2791cc",
     "locked": true,
     "schema_version": 3,
     "solution": false,
     "task": false
    }
   },
   "source": [
    "## Section 8: Word2Vec/Doc2Vec (20 points) <a class=\"anchor\" id=\"2vec\"></a>\n",
    "\n",
    "[Back to Part 2](#part2)\n",
    "\n",
    "We will implement two other methods here, the Word2Vec model and the Doc2Vec model, also using `gensim`. Word2Vec creates representations of words, not documents, so the word level vectors need to be aggregated to obtain a representation for the document. Here, we will simply take the mean of the vectors. \n",
    "\n",
    "\n",
    "A drawback of these models is that they need a lot of training data. Our dataset is tiny, so in addition to using a model trained on the data, we will also use a pre-trained model for Word2Vec (this will be automatically downloaded).     \n",
    "\n",
    "*Note*:\n",
    "1. The code in vectorize_documents / vectorize_query should return gensim-like vectors i.e `[(dim, val), .. (dim, val)]`. \n",
    "2. For Word2Vec: You should also handle the following two cases: (a) A word in the query is not present in the vocabulary of the model and (b) none of the words in the query are present in the model - you can return 0 scores for all documents in this case. For either of these, you can check if a `word` is present in the vocab by using `word in self.model`\n"
   ]
  },
  {
   "cell_type": "code",
   "execution_count": 87,
   "metadata": {
    "deletable": false,
    "nbgrader": {
     "cell_type": "code",
     "checksum": "83ab733608ed14c29c09b36b4e1b6daa",
     "grade": false,
     "grade_id": "cell-2b73759f9baf688f",
     "locked": false,
     "schema_version": 3,
     "solution": true,
     "task": false
    }
   },
   "outputs": [
    {
     "name": "stderr",
     "output_type": "stream",
     "text": [
      "2021-02-19 14:25:59,326 : INFO : adding document #0 to Dictionary(0 unique tokens: [])\n",
      "2021-02-19 14:25:59,409 : INFO : built Dictionary(5937 unique tokens: ['-', 'algebra', 'intern', 'languag', 'preliminari']...) from 3204 documents (total 115970 corpus positions)\n",
      "2021-02-19 14:25:59,413 : INFO : discarding 4740 tokens: [('repeat', 8), ('glossari', 7), ('inspect', 8), ('uncol', 2), ('rung', 9), ('secant', 2), ('.', 1603), ('acceler', 6), ('diverg', 3), ('induc', 9)]...\n",
      "2021-02-19 14:25:59,414 : INFO : keeping 1197 tokens which were in no less than 10 and no more than 1602 (=50.0%) documents\n",
      "2021-02-19 14:25:59,415 : INFO : resulting dictionary: Dictionary(1197 unique tokens: ['-', 'algebra', 'intern', 'languag', 'preliminari']...)\n",
      "2021-02-19 14:25:59,462 : INFO : collecting all words and their counts\n",
      "2021-02-19 14:25:59,463 : INFO : PROGRESS: at sentence #0, processed 0 words, keeping 0 word types\n",
      "2021-02-19 14:25:59,477 : INFO : collected 5937 word types from a corpus of 115970 raw words and 3204 sentences\n",
      "2021-02-19 14:25:59,477 : INFO : Loading a fresh vocabulary\n",
      "2021-02-19 14:25:59,482 : INFO : effective_min_count=5 retains 2069 unique words (34% of original 5937, drops 3868)\n",
      "2021-02-19 14:25:59,483 : INFO : effective_min_count=5 leaves 109262 word corpus (94% of original 115970, drops 6708)\n",
      "2021-02-19 14:25:59,487 : INFO : deleting the raw counts dictionary of 5937 items\n",
      "2021-02-19 14:25:59,488 : INFO : sample=0.001 downsamples 44 most-common words\n",
      "2021-02-19 14:25:59,488 : INFO : downsampling leaves estimated 84994 word corpus (77.8% of prior 109262)\n",
      "2021-02-19 14:25:59,491 : INFO : estimated required memory for 2069 words and 100 dimensions: 2689700 bytes\n",
      "2021-02-19 14:25:59,492 : INFO : resetting layer weights\n",
      "2021-02-19 14:25:59,803 : INFO : training model with 3 workers on 2069 vocabulary and 100 features, using sg=0 hs=0 sample=0.001 negative=5 window=5\n",
      "2021-02-19 14:25:59,842 : INFO : worker thread finished; awaiting finish of 2 more threads\n",
      "2021-02-19 14:25:59,844 : INFO : worker thread finished; awaiting finish of 1 more threads\n",
      "2021-02-19 14:25:59,845 : INFO : worker thread finished; awaiting finish of 0 more threads\n",
      "2021-02-19 14:25:59,845 : INFO : EPOCH - 1 : training on 115970 raw words (84905 effective words) took 0.0s, 2116652 effective words/s\n",
      "2021-02-19 14:25:59,885 : INFO : worker thread finished; awaiting finish of 2 more threads\n",
      "2021-02-19 14:25:59,887 : INFO : worker thread finished; awaiting finish of 1 more threads\n",
      "2021-02-19 14:25:59,888 : INFO : worker thread finished; awaiting finish of 0 more threads\n",
      "2021-02-19 14:25:59,888 : INFO : EPOCH - 2 : training on 115970 raw words (84927 effective words) took 0.0s, 2117275 effective words/s\n",
      "2021-02-19 14:25:59,928 : INFO : worker thread finished; awaiting finish of 2 more threads\n",
      "2021-02-19 14:25:59,930 : INFO : worker thread finished; awaiting finish of 1 more threads\n",
      "2021-02-19 14:25:59,931 : INFO : worker thread finished; awaiting finish of 0 more threads\n",
      "2021-02-19 14:25:59,931 : INFO : EPOCH - 3 : training on 115970 raw words (85131 effective words) took 0.0s, 2079718 effective words/s\n",
      "2021-02-19 14:25:59,971 : INFO : worker thread finished; awaiting finish of 2 more threads\n",
      "2021-02-19 14:25:59,973 : INFO : worker thread finished; awaiting finish of 1 more threads\n",
      "2021-02-19 14:25:59,974 : INFO : worker thread finished; awaiting finish of 0 more threads\n",
      "2021-02-19 14:25:59,974 : INFO : EPOCH - 4 : training on 115970 raw words (84887 effective words) took 0.0s, 2192018 effective words/s\n",
      "2021-02-19 14:26:00,014 : INFO : worker thread finished; awaiting finish of 2 more threads\n",
      "2021-02-19 14:26:00,016 : INFO : worker thread finished; awaiting finish of 1 more threads\n",
      "2021-02-19 14:26:00,017 : INFO : worker thread finished; awaiting finish of 0 more threads\n",
      "2021-02-19 14:26:00,017 : INFO : EPOCH - 5 : training on 115970 raw words (84950 effective words) took 0.0s, 2150304 effective words/s\n",
      "2021-02-19 14:26:00,018 : INFO : training on a 579850 raw words (424800 effective words) took 0.2s, 1980548 effective words/s\n",
      "<ipython-input-87-58fe68e8332b>:41: DeprecationWarning: Call to deprecated `__contains__` (Method will be removed in 4.0.0, use self.wv.__contains__() instead).\n",
      "  if token in self.model:\n",
      "<ipython-input-87-58fe68e8332b>:42: DeprecationWarning: Call to deprecated `__getitem__` (Method will be removed in 4.0.0, use self.wv.__getitem__() instead).\n",
      "  vector += self.model[token]\n"
     ]
    },
    {
     "data": {
      "text/plain": [
       "[(1, -0.2227020561695099),\n",
       " (2, -0.19085149466991425),\n",
       " (3, -0.30764925479888916),\n",
       " (4, -0.38881292939186096),\n",
       " (5, -0.05012403801083565),\n",
       " (6, 0.5064120292663574),\n",
       " (7, 0.11427636444568634),\n",
       " (8, -0.31224745512008667),\n",
       " (9, -0.3668347895145416),\n",
       " (10, 0.5545620918273926),\n",
       " (11, -0.3192692995071411),\n",
       " (12, 0.08906084299087524),\n",
       " (13, 0.060921475291252136),\n",
       " (14, 0.7175635695457458),\n",
       " (15, 0.13864833116531372),\n",
       " (16, 0.07843190431594849),\n",
       " (17, -0.1790107637643814),\n",
       " (18, 0.24309775233268738),\n",
       " (19, 0.14693689346313477),\n",
       " (20, -0.341453492641449),\n",
       " (21, 0.23250362277030945),\n",
       " (22, 0.19237658381462097),\n",
       " (23, -0.11012381315231323),\n",
       " (24, 0.17264056205749512),\n",
       " (25, 0.10976281762123108),\n",
       " (26, -0.3009409010410309),\n",
       " (27, 0.21204033493995667),\n",
       " (28, 0.35574349761009216),\n",
       " (29, 0.1723625212907791),\n",
       " (30, 0.06773097068071365),\n",
       " (31, -0.20947468280792236),\n",
       " (32, 0.295888215303421),\n",
       " (33, -0.12845909595489502),\n",
       " (34, -0.3774619996547699),\n",
       " (35, -0.08351441472768784),\n",
       " (36, -0.04079905524849892),\n",
       " (37, -0.07967269420623779),\n",
       " (38, -0.17072297632694244),\n",
       " (39, -0.17204362154006958),\n",
       " (40, -0.4908774197101593),\n",
       " (41, 0.4682601988315582),\n",
       " (42, 0.010463516227900982),\n",
       " (43, 0.11262349039316177),\n",
       " (44, 0.3803054392337799),\n",
       " (45, 0.1842314600944519),\n",
       " (46, -0.1027800664305687),\n",
       " (47, -0.05039842799305916),\n",
       " (48, -0.07292440533638),\n",
       " (49, 0.18496167659759521),\n",
       " (50, -0.35826820135116577),\n",
       " (51, -0.05066975578665733),\n",
       " (52, -0.5895759463310242),\n",
       " (53, -0.3257732689380646),\n",
       " (54, -0.051652807742357254),\n",
       " (55, 0.1718580275774002),\n",
       " (56, -0.058492209762334824),\n",
       " (57, -0.2849505841732025),\n",
       " (58, -0.19659964740276337),\n",
       " (59, 0.29517340660095215),\n",
       " (60, 0.12826618552207947),\n",
       " (61, 0.016239646822214127),\n",
       " (62, -0.2606402039527893),\n",
       " (63, -0.2530133128166199),\n",
       " (64, -0.07364252209663391),\n",
       " (65, -0.2806595265865326),\n",
       " (66, 0.06780266016721725),\n",
       " (67, -0.4956148564815521),\n",
       " (68, -0.07008800655603409),\n",
       " (69, 0.08993759751319885),\n",
       " (70, 0.6386590600013733),\n",
       " (71, -0.25417715311050415),\n",
       " (72, 0.39734217524528503),\n",
       " (73, 0.7720352411270142),\n",
       " (74, -0.16861921548843384),\n",
       " (75, -0.05867128446698189),\n",
       " (76, 0.426332950592041),\n",
       " (77, 0.314395010471344),\n",
       " (78, 0.3148481249809265),\n",
       " (79, -0.05933456867933273),\n",
       " (80, 0.0705266073346138),\n",
       " (81, -0.6948753595352173),\n",
       " (82, -0.44908180832862854),\n",
       " (83, 0.31979668140411377),\n",
       " (84, 0.24586643278598785),\n",
       " (85, 0.10465728491544724),\n",
       " (86, -0.28465914726257324),\n",
       " (87, -0.507649838924408),\n",
       " (88, 0.11356528848409653),\n",
       " (89, -0.379786878824234),\n",
       " (90, -0.22670726478099823),\n",
       " (91, 0.006386834662407637),\n",
       " (92, -0.04968008026480675),\n",
       " (93, 0.011222030967473984),\n",
       " (94, 0.1626468002796173),\n",
       " (95, -0.13244591653347015),\n",
       " (96, 0.027564208954572678),\n",
       " (97, -0.32681804895401),\n",
       " (98, 0.0734100341796875),\n",
       " (99, -0.559216320514679),\n",
       " (100, 0.46038129925727844)]"
      ]
     },
     "execution_count": 87,
     "metadata": {},
     "output_type": "execute_result"
    }
   ],
   "source": [
    "class W2VRetrievalModel(VectorSpaceRetrievalModel):\n",
    "    def __init__(self, doc_repr):\n",
    "        super().__init__(doc_repr)\n",
    "        \n",
    "        # the dimensionality of the vectors\n",
    "        self.size = 100 \n",
    "        self.min_count = 1\n",
    "    \n",
    "    def train_model(self):\n",
    "        \"\"\"\n",
    "        Trains the W2V model\n",
    "        \"\"\"\n",
    "        # YOUR CODE HERE\n",
    "        self.model = Word2Vec(self.documents)\n",
    "        \n",
    "    def vectorize_documents(self):\n",
    "        \"\"\"\n",
    "            Returns a doc_id -> vector dictionary\n",
    "        \"\"\"\n",
    "        \n",
    "        # YOUR CODE HERE\n",
    "        doc_dict = {}\n",
    "        for doc_id, content in self.doc_repr:\n",
    "            doc_dict[doc_id] = np.zeros(self.size)\n",
    "            for token in content:\n",
    "                if token in self.model:\n",
    "                    doc_dict[doc_id] += self.model[token]\n",
    "            values = list(doc_dict[doc_id] / len(content))\n",
    "            doc_dict[doc_id] = [(dim+1, values[dim]) for dim in range(len(values))]\n",
    "\n",
    "        return doc_dict\n",
    "        \n",
    "    def vectorize_query(self, query):\n",
    "        \"\"\"\n",
    "        Vectorizes the query using the W2V model\n",
    "        \"\"\"\n",
    "        query = process_text(query, **config_2)\n",
    "        # YOUR CODE HERE\n",
    "        vector = np.zeros(self.size)\n",
    "        for token in query:\n",
    "            if token in self.model:\n",
    "                vector += self.model[token]\n",
    "        vector = vector / len(query)\n",
    "        return [(dim+1, vector[dim]) for dim in range(len(vector))]\n",
    "    \n",
    "    \n",
    "class W2VPretrainedRetrievalModel(W2VRetrievalModel):\n",
    "    def __init__(self, doc_repr):\n",
    "        super().__init__(doc_repr)\n",
    "        self.model_name = \"word2vec-google-news-300\"\n",
    "        self.size = 300\n",
    "    \n",
    "    def train_model(self):\n",
    "        \"\"\"\n",
    "        Loads the pretrained model\n",
    "        \"\"\"\n",
    "        self.model = g_downloader.load(self.model_name)\n",
    "\n",
    "w2v = W2VRetrievalModel(doc_repr_2)\n",
    "w2v.train_model()\n",
    "\n",
    "# you can now get a W2V vector for a given query in the following way:\n",
    "w2v.vectorize_query(\"report\")"
   ]
  },
  {
   "cell_type": "code",
   "execution_count": 88,
   "metadata": {
    "deletable": false,
    "editable": false,
    "nbgrader": {
     "cell_type": "code",
     "checksum": "f92b5c5a8c6c4b80652b94223209ab0b",
     "grade": true,
     "grade_id": "cell-b31c0f8d214b8bdf",
     "locked": true,
     "points": 0,
     "schema_version": 3,
     "solution": false,
     "task": false
    }
   },
   "outputs": [
    {
     "name": "stderr",
     "output_type": "stream",
     "text": [
      "<ipython-input-87-58fe68e8332b>:41: DeprecationWarning: Call to deprecated `__contains__` (Method will be removed in 4.0.0, use self.wv.__contains__() instead).\n",
      "  if token in self.model:\n",
      "<ipython-input-87-58fe68e8332b>:42: DeprecationWarning: Call to deprecated `__getitem__` (Method will be removed in 4.0.0, use self.wv.__getitem__() instead).\n",
      "  vector += self.model[token]\n"
     ]
    }
   ],
   "source": [
    "assert len(w2v.vectorize_query(\"report\")) == 100\n",
    "assert len(w2v.vectorize_query(\"this is a sentence that is not mellifluous\")) == 100\n"
   ]
  },
  {
   "cell_type": "markdown",
   "metadata": {
    "deletable": false,
    "editable": false,
    "nbgrader": {
     "cell_type": "markdown",
     "checksum": "8dfaabebcb06f308a7ca61fdc5d369e7",
     "grade": false,
     "grade_id": "cell-c2614fa067386384",
     "locked": true,
     "points": 8,
     "schema_version": 3,
     "solution": false,
     "task": true
    }
   },
   "source": [
    "\\#### Please do not change this. This cell is used for grading."
   ]
  },
  {
   "cell_type": "code",
   "execution_count": 89,
   "metadata": {},
   "outputs": [
    {
     "name": "stderr",
     "output_type": "stream",
     "text": [
      "2021-02-19 14:26:00,029 : INFO : adding document #0 to Dictionary(0 unique tokens: [])\n",
      "2021-02-19 14:26:00,114 : INFO : built Dictionary(5937 unique tokens: ['-', 'algebra', 'intern', 'languag', 'preliminari']...) from 3204 documents (total 115970 corpus positions)\n",
      "2021-02-19 14:26:00,119 : INFO : discarding 4740 tokens: [('repeat', 8), ('glossari', 7), ('inspect', 8), ('uncol', 2), ('rung', 9), ('secant', 2), ('.', 1603), ('acceler', 6), ('diverg', 3), ('induc', 9)]...\n",
      "2021-02-19 14:26:00,119 : INFO : keeping 1197 tokens which were in no less than 10 and no more than 1602 (=50.0%) documents\n",
      "2021-02-19 14:26:00,121 : INFO : resulting dictionary: Dictionary(1197 unique tokens: ['-', 'algebra', 'intern', 'languag', 'preliminari']...)\n",
      "2021-02-19 14:26:00,270 : INFO : loading projection weights from /Users/charlottefelius/gensim-data/word2vec-google-news-300/word2vec-google-news-300.gz\n",
      "2021-02-19 14:26:33,826 : INFO : loaded (3000000, 300) matrix from /Users/charlottefelius/gensim-data/word2vec-google-news-300/word2vec-google-news-300.gz\n"
     ]
    },
    {
     "data": {
      "text/plain": [
       "[(1, -0.142578125),\n",
       " (2, -0.1640625),\n",
       " (3, -0.09033203125),\n",
       " (4, -0.1123046875),\n",
       " (5, 0.10009765625),\n",
       " (6, -0.041259765625),\n",
       " (7, 0.048828125),\n",
       " (8, -0.13671875),\n",
       " (9, 0.1962890625),\n",
       " (10, -0.134765625),\n",
       " (11, -0.017578125),\n",
       " (12, 0.0322265625),\n",
       " (13, 0.09521484375),\n",
       " (14, -0.10595703125),\n",
       " (15, -0.169921875),\n",
       " (16, 0.041015625),\n",
       " (17, -0.263671875),\n",
       " (18, -0.006317138671875),\n",
       " (19, -0.177734375),\n",
       " (20, -0.240234375),\n",
       " (21, 0.3515625),\n",
       " (22, -0.01220703125),\n",
       " (23, -0.162109375),\n",
       " (24, -0.12060546875),\n",
       " (25, 0.043212890625),\n",
       " (26, 0.10986328125),\n",
       " (27, 0.052490234375),\n",
       " (28, 0.1787109375),\n",
       " (29, -0.1455078125),\n",
       " (30, 0.1376953125),\n",
       " (31, -0.08203125),\n",
       " (32, -0.283203125),\n",
       " (33, -0.10888671875),\n",
       " (34, -0.2890625),\n",
       " (35, 0.072265625),\n",
       " (36, -0.04736328125),\n",
       " (37, 0.040283203125),\n",
       " (38, 0.06787109375),\n",
       " (39, 0.11669921875),\n",
       " (40, 0.00083160400390625),\n",
       " (41, 0.068359375),\n",
       " (42, 0.1201171875),\n",
       " (43, -0.08837890625),\n",
       " (44, 0.337890625),\n",
       " (45, -0.044677734375),\n",
       " (46, -0.0301513671875),\n",
       " (47, 0.0076904296875),\n",
       " (48, -0.0211181640625),\n",
       " (49, -0.25390625),\n",
       " (50, 0.1494140625),\n",
       " (51, 0.3984375),\n",
       " (52, 0.0216064453125),\n",
       " (53, -0.023193359375),\n",
       " (54, 0.00634765625),\n",
       " (55, 0.00823974609375),\n",
       " (56, -0.1689453125),\n",
       " (57, 0.037353515625),\n",
       " (58, -0.0634765625),\n",
       " (59, 0.1171875),\n",
       " (60, -0.1484375),\n",
       " (61, -0.07861328125),\n",
       " (62, 0.369140625),\n",
       " (63, -0.224609375),\n",
       " (64, 0.173828125),\n",
       " (65, 0.01385498046875),\n",
       " (66, 0.1875),\n",
       " (67, -0.10107421875),\n",
       " (68, 0.037841796875),\n",
       " (69, 0.0021209716796875),\n",
       " (70, -0.05126953125),\n",
       " (71, 0.09619140625),\n",
       " (72, -0.05712890625),\n",
       " (73, 0.10595703125),\n",
       " (74, -0.02099609375),\n",
       " (75, 0.1611328125),\n",
       " (76, 0.09765625),\n",
       " (77, 0.038330078125),\n",
       " (78, 0.2197265625),\n",
       " (79, 0.1064453125),\n",
       " (80, 0.0859375),\n",
       " (81, 0.1796875),\n",
       " (82, -0.0830078125),\n",
       " (83, -0.033203125),\n",
       " (84, 0.041015625),\n",
       " (85, -0.06494140625),\n",
       " (86, 0.0198974609375),\n",
       " (87, 0.1337890625),\n",
       " (88, -0.09765625),\n",
       " (89, -0.193359375),\n",
       " (90, -0.2353515625),\n",
       " (91, 0.1904296875),\n",
       " (92, 0.0024871826171875),\n",
       " (93, -0.0157470703125),\n",
       " (94, 0.0322265625),\n",
       " (95, -0.2197265625),\n",
       " (96, -0.09130859375),\n",
       " (97, 0.021240234375),\n",
       " (98, 0.158203125),\n",
       " (99, 0.298828125),\n",
       " (100, -0.328125),\n",
       " (101, 0.057373046875),\n",
       " (102, -0.04638671875),\n",
       " (103, 0.11328125),\n",
       " (104, -0.1015625),\n",
       " (105, 0.1806640625),\n",
       " (106, -0.025146484375),\n",
       " (107, -0.166015625),\n",
       " (108, -0.09619140625),\n",
       " (109, 0.018798828125),\n",
       " (110, -0.1943359375),\n",
       " (111, 0.1494140625),\n",
       " (112, -0.056640625),\n",
       " (113, -0.10693359375),\n",
       " (114, -0.150390625),\n",
       " (115, -0.17578125),\n",
       " (116, 0.11279296875),\n",
       " (117, 0.04931640625),\n",
       " (118, 0.2197265625),\n",
       " (119, 0.318359375),\n",
       " (120, 0.1572265625),\n",
       " (121, -0.29296875),\n",
       " (122, 0.10498046875),\n",
       " (123, -0.296875),\n",
       " (124, -0.013427734375),\n",
       " (125, 0.0908203125),\n",
       " (126, 0.0125732421875),\n",
       " (127, -0.051513671875),\n",
       " (128, -0.12890625),\n",
       " (129, 0.01446533203125),\n",
       " (130, 0.12060546875),\n",
       " (131, -0.10107421875),\n",
       " (132, -0.111328125),\n",
       " (133, 0.06396484375),\n",
       " (134, -0.052978515625),\n",
       " (135, -0.043212890625),\n",
       " (136, -0.012939453125),\n",
       " (137, -0.027587890625),\n",
       " (138, -0.09716796875),\n",
       " (139, -0.2021484375),\n",
       " (140, 0.123046875),\n",
       " (141, -0.04248046875),\n",
       " (142, 0.173828125),\n",
       " (143, -0.013671875),\n",
       " (144, 0.1015625),\n",
       " (145, -0.00093841552734375),\n",
       " (146, -0.03564453125),\n",
       " (147, 0.30078125),\n",
       " (148, -0.068359375),\n",
       " (149, -0.05615234375),\n",
       " (150, 0.03759765625),\n",
       " (151, 0.06591796875),\n",
       " (152, 0.040283203125),\n",
       " (153, 0.01190185546875),\n",
       " (154, 0.09619140625),\n",
       " (155, 0.3671875),\n",
       " (156, -0.279296875),\n",
       " (157, -0.052001953125),\n",
       " (158, -0.10693359375),\n",
       " (159, -0.134765625),\n",
       " (160, -0.046142578125),\n",
       " (161, 0.25),\n",
       " (162, 0.00567626953125),\n",
       " (163, -0.014404296875),\n",
       " (164, -0.031005859375),\n",
       " (165, -0.060302734375),\n",
       " (166, 0.10595703125),\n",
       " (167, 0.37890625),\n",
       " (168, 0.058837890625),\n",
       " (169, 0.123046875),\n",
       " (170, -0.115234375),\n",
       " (171, 0.1494140625),\n",
       " (172, -0.1640625),\n",
       " (173, -0.2333984375),\n",
       " (174, -0.07763671875),\n",
       " (175, 0.0267333984375),\n",
       " (176, -0.0211181640625),\n",
       " (177, 0.1943359375),\n",
       " (178, -0.05615234375),\n",
       " (179, -0.006439208984375),\n",
       " (180, -0.169921875),\n",
       " (181, -0.11865234375),\n",
       " (182, -0.0673828125),\n",
       " (183, -0.06884765625),\n",
       " (184, -0.0869140625),\n",
       " (185, -0.1015625),\n",
       " (186, 0.01416015625),\n",
       " (187, -0.201171875),\n",
       " (188, 0.09814453125),\n",
       " (189, -0.01025390625),\n",
       " (190, 0.1875),\n",
       " (191, 0.1962890625),\n",
       " (192, -0.220703125),\n",
       " (193, -0.1962890625),\n",
       " (194, -0.07373046875),\n",
       " (195, 0.06640625),\n",
       " (196, -0.1337890625),\n",
       " (197, 0.18359375),\n",
       " (198, -0.2001953125),\n",
       " (199, 0.1982421875),\n",
       " (200, 0.05029296875),\n",
       " (201, 0.0299072265625),\n",
       " (202, 0.0177001953125),\n",
       " (203, -0.193359375),\n",
       " (204, -0.09619140625),\n",
       " (205, -0.1025390625),\n",
       " (206, 0.212890625),\n",
       " (207, -0.0299072265625),\n",
       " (208, 0.1435546875),\n",
       " (209, 0.041015625),\n",
       " (210, -0.2119140625),\n",
       " (211, 0.2080078125),\n",
       " (212, 0.1376953125),\n",
       " (213, -0.0196533203125),\n",
       " (214, 0.01495361328125),\n",
       " (215, -0.09765625),\n",
       " (216, 0.2431640625),\n",
       " (217, 0.080078125),\n",
       " (218, 0.08251953125),\n",
       " (219, 0.0986328125),\n",
       " (220, 0.056884765625),\n",
       " (221, 0.04248046875),\n",
       " (222, 0.06884765625),\n",
       " (223, -0.035400390625),\n",
       " (224, -0.076171875),\n",
       " (225, -0.00016117095947265625),\n",
       " (226, -0.0751953125),\n",
       " (227, 0.224609375),\n",
       " (228, 0.1513671875),\n",
       " (229, 0.1005859375),\n",
       " (230, 0.10986328125),\n",
       " (231, 0.0238037109375),\n",
       " (232, 0.08837890625),\n",
       " (233, 0.061767578125),\n",
       " (234, -0.10791015625),\n",
       " (235, 0.062255859375),\n",
       " (236, 0.0034332275390625),\n",
       " (237, 0.08056640625),\n",
       " (238, 0.10693359375),\n",
       " (239, 0.0888671875),\n",
       " (240, -0.2373046875),\n",
       " (241, 0.06494140625),\n",
       " (242, 0.01019287109375),\n",
       " (243, -0.08837890625),\n",
       " (244, -0.33203125),\n",
       " (245, 0.004669189453125),\n",
       " (246, 0.212890625),\n",
       " (247, 0.0859375),\n",
       " (248, 0.0203857421875),\n",
       " (249, 0.045654296875),\n",
       " (250, 0.1484375),\n",
       " (251, 0.1181640625),\n",
       " (252, 0.0556640625),\n",
       " (253, -0.1728515625),\n",
       " (254, -0.125),\n",
       " (255, -0.025390625),\n",
       " (256, -0.318359375),\n",
       " (257, 0.0311279296875),\n",
       " (258, 0.0859375),\n",
       " (259, -0.0419921875),\n",
       " (260, 0.15625),\n",
       " (261, 0.1611328125),\n",
       " (262, 0.1982421875),\n",
       " (263, -0.10009765625),\n",
       " (264, 0.203125),\n",
       " (265, 0.12890625),\n",
       " (266, 0.2333984375),\n",
       " (267, -0.267578125),\n",
       " (268, 0.05517578125),\n",
       " (269, 0.048828125),\n",
       " (270, 0.072265625),\n",
       " (271, 0.244140625),\n",
       " (272, 0.244140625),\n",
       " (273, 0.056884765625),\n",
       " (274, -0.0546875),\n",
       " (275, -0.03369140625),\n",
       " (276, -0.12060546875),\n",
       " (277, 0.034912109375),\n",
       " (278, -0.1455078125),\n",
       " (279, 0.08740234375),\n",
       " (280, -0.0830078125),\n",
       " (281, 0.0172119140625),\n",
       " (282, 0.1435546875),\n",
       " (283, -0.12255859375),\n",
       " (284, 0.1796875),\n",
       " (285, 0.130859375),\n",
       " (286, -0.1650390625),\n",
       " (287, 0.01275634765625),\n",
       " (288, 0.16015625),\n",
       " (289, -0.0311279296875),\n",
       " (290, 0.08203125),\n",
       " (291, 0.173828125),\n",
       " (292, -0.16796875),\n",
       " (293, 0.130859375),\n",
       " (294, 0.08544921875),\n",
       " (295, -0.2109375),\n",
       " (296, -0.130859375),\n",
       " (297, -0.0289306640625),\n",
       " (298, -0.10546875),\n",
       " (299, 0.08447265625),\n",
       " (300, -0.1416015625)]"
      ]
     },
     "execution_count": 89,
     "metadata": {},
     "output_type": "execute_result"
    }
   ],
   "source": [
    "w2v_pretrained = W2VPretrainedRetrievalModel(doc_repr_2)\n",
    "w2v_pretrained.train_model()\n",
    "\n",
    "# you can now get an W2V vector for a given query in the following way:\n",
    "w2v_pretrained.vectorize_query(\"report\")"
   ]
  },
  {
   "cell_type": "code",
   "execution_count": 90,
   "metadata": {
    "deletable": false,
    "editable": false,
    "nbgrader": {
     "cell_type": "code",
     "checksum": "0822845afb5eafe5ddb1ffeaa4f4942a",
     "grade": true,
     "grade_id": "cell-1b1466f8ce516f42",
     "locked": true,
     "points": 2,
     "schema_version": 3,
     "solution": false,
     "task": false
    }
   },
   "outputs": [
    {
     "name": "stdout",
     "output_type": "stream",
     "text": [
      "300\n"
     ]
    }
   ],
   "source": [
    "##### Function check\n",
    "\n",
    "print(len(w2v_pretrained.vectorize_query(\"report\")))\n",
    "#####"
   ]
  },
  {
   "cell_type": "code",
   "execution_count": 91,
   "metadata": {},
   "outputs": [
    {
     "name": "stderr",
     "output_type": "stream",
     "text": [
      "<ipython-input-87-58fe68e8332b>:26: DeprecationWarning: Call to deprecated `__contains__` (Method will be removed in 4.0.0, use self.wv.__contains__() instead).\n",
      "  if token in self.model:\n",
      "<ipython-input-87-58fe68e8332b>:27: DeprecationWarning: Call to deprecated `__getitem__` (Method will be removed in 4.0.0, use self.wv.__getitem__() instead).\n",
      "  doc_dict[doc_id] += self.model[token]\n"
     ]
    },
    {
     "data": {
      "application/vnd.jupyter.widget-view+json": {
       "model_id": "add8d14e61fe4a47b2412c48db5ee0ac",
       "version_major": 2,
       "version_minor": 0
      },
      "text/plain": [
       "Text(value='', description='Search Bar')"
      ]
     },
     "metadata": {},
     "output_type": "display_data"
    }
   ],
   "source": [
    "drm_w2v = DenseRetrievalRanker(w2v, cosine_sim)\n",
    "\n",
    "# test your LDA model\n",
    "search_fn = drm_w2v.search\n",
    "\n",
    "text = widgets.Text(description=\"Search Bar\", width=200)\n",
    "display(text)\n",
    "\n",
    "\n",
    "text.on_submit(handle_submit_2)"
   ]
  },
  {
   "cell_type": "code",
   "execution_count": 92,
   "metadata": {},
   "outputs": [
    {
     "data": {
      "application/vnd.jupyter.widget-view+json": {
       "model_id": "4b9f43219ea74eff897a4c3d82fddfbd",
       "version_major": 2,
       "version_minor": 0
      },
      "text/plain": [
       "Text(value='', description='Search Bar')"
      ]
     },
     "metadata": {},
     "output_type": "display_data"
    }
   ],
   "source": [
    "drm_w2v_pretrained = DenseRetrievalRanker(w2v_pretrained, cosine_sim)\n",
    "\n",
    "# test your LDA model\n",
    "search_fn = drm_w2v_pretrained.search\n",
    "\n",
    "text = widgets.Text(description=\"Search Bar\", width=200)\n",
    "display(text)\n",
    "\n",
    "\n",
    "text.on_submit(handle_submit_2)"
   ]
  },
  {
   "cell_type": "markdown",
   "metadata": {
    "deletable": false,
    "editable": false,
    "nbgrader": {
     "cell_type": "markdown",
     "checksum": "51b778984fd60757974f51047c61eb15",
     "grade": false,
     "grade_id": "cell-b92f701cbc706108",
     "locked": true,
     "schema_version": 3,
     "solution": false,
     "task": false
    }
   },
   "source": [
    "**Implementation (10 points):**\n",
    "For Doc2Vec, you will need to create a list of `TaggedDocument` instead of using the `self.corpus` or `self.documents` variable. Use the document id as the 'tag'.\n",
    "  "
   ]
  },
  {
   "cell_type": "code",
   "execution_count": 93,
   "metadata": {
    "deletable": false,
    "nbgrader": {
     "cell_type": "code",
     "checksum": "1f60fdeb97febb7f4a6fd5bf109aac20",
     "grade": false,
     "grade_id": "cell-680facdcc98a19ab",
     "locked": false,
     "schema_version": 3,
     "solution": true,
     "task": false
    }
   },
   "outputs": [
    {
     "name": "stderr",
     "output_type": "stream",
     "text": [
      "2021-02-19 14:26:35,013 : INFO : adding document #0 to Dictionary(0 unique tokens: [])\n",
      "2021-02-19 14:26:35,094 : INFO : built Dictionary(5937 unique tokens: ['-', 'algebra', 'intern', 'languag', 'preliminari']...) from 3204 documents (total 115970 corpus positions)\n",
      "2021-02-19 14:26:35,099 : INFO : discarding 4740 tokens: [('repeat', 8), ('glossari', 7), ('inspect', 8), ('uncol', 2), ('rung', 9), ('secant', 2), ('.', 1603), ('acceler', 6), ('diverg', 3), ('induc', 9)]...\n",
      "2021-02-19 14:26:35,099 : INFO : keeping 1197 tokens which were in no less than 10 and no more than 1602 (=50.0%) documents\n",
      "2021-02-19 14:26:35,102 : INFO : resulting dictionary: Dictionary(1197 unique tokens: ['-', 'algebra', 'intern', 'languag', 'preliminari']...)\n",
      "2021-02-19 14:26:35,158 : INFO : collecting all words and their counts\n",
      "2021-02-19 14:26:35,158 : INFO : PROGRESS: at example #0, processed 0 words (0/s), 0 word types, 0 tags\n",
      "2021-02-19 14:26:35,175 : INFO : collected 5937 word types and 3205 unique tags from a corpus of 3204 examples and 115970 words\n",
      "2021-02-19 14:26:35,176 : INFO : Loading a fresh vocabulary\n",
      "2021-02-19 14:26:35,185 : INFO : effective_min_count=1 retains 5937 unique words (100% of original 5937, drops 0)\n",
      "2021-02-19 14:26:35,186 : INFO : effective_min_count=1 leaves 115970 word corpus (100% of original 115970, drops 0)\n",
      "2021-02-19 14:26:35,199 : INFO : deleting the raw counts dictionary of 5937 items\n",
      "2021-02-19 14:26:35,200 : INFO : sample=0.001 downsamples 40 most-common words\n",
      "2021-02-19 14:26:35,200 : INFO : downsampling leaves estimated 92346 word corpus (79.6% of prior 115970)\n",
      "2021-02-19 14:26:35,212 : INFO : estimated required memory for 5937 words and 100 dimensions: 9000100 bytes\n",
      "2021-02-19 14:26:35,213 : INFO : resetting layer weights\n",
      "2021-02-19 14:26:36,537 : INFO : training model with 3 workers on 5937 vocabulary and 100 features, using sg=0 hs=0 sample=0.001 negative=5 window=5\n",
      "2021-02-19 14:26:36,711 : INFO : worker thread finished; awaiting finish of 2 more threads\n",
      "2021-02-19 14:26:36,715 : INFO : worker thread finished; awaiting finish of 1 more threads\n",
      "2021-02-19 14:26:36,718 : INFO : worker thread finished; awaiting finish of 0 more threads\n",
      "2021-02-19 14:26:36,718 : INFO : EPOCH - 1 : training on 115970 raw words (95481 effective words) took 0.2s, 534423 effective words/s\n",
      "2021-02-19 14:26:36,881 : INFO : worker thread finished; awaiting finish of 2 more threads\n",
      "2021-02-19 14:26:36,888 : INFO : worker thread finished; awaiting finish of 1 more threads\n",
      "2021-02-19 14:26:36,894 : INFO : worker thread finished; awaiting finish of 0 more threads\n",
      "2021-02-19 14:26:36,894 : INFO : EPOCH - 2 : training on 115970 raw words (95531 effective words) took 0.2s, 550341 effective words/s\n",
      "2021-02-19 14:26:37,054 : INFO : worker thread finished; awaiting finish of 2 more threads\n",
      "2021-02-19 14:26:37,061 : INFO : worker thread finished; awaiting finish of 1 more threads\n",
      "2021-02-19 14:26:37,064 : INFO : worker thread finished; awaiting finish of 0 more threads\n",
      "2021-02-19 14:26:37,065 : INFO : EPOCH - 3 : training on 115970 raw words (95540 effective words) took 0.2s, 570745 effective words/s\n",
      "2021-02-19 14:26:37,243 : INFO : worker thread finished; awaiting finish of 2 more threads\n",
      "2021-02-19 14:26:37,245 : INFO : worker thread finished; awaiting finish of 1 more threads\n",
      "2021-02-19 14:26:37,248 : INFO : worker thread finished; awaiting finish of 0 more threads\n",
      "2021-02-19 14:26:37,248 : INFO : EPOCH - 4 : training on 115970 raw words (95487 effective words) took 0.2s, 527475 effective words/s\n",
      "2021-02-19 14:26:37,419 : INFO : worker thread finished; awaiting finish of 2 more threads\n",
      "2021-02-19 14:26:37,427 : INFO : worker thread finished; awaiting finish of 1 more threads\n",
      "2021-02-19 14:26:37,429 : INFO : worker thread finished; awaiting finish of 0 more threads\n",
      "2021-02-19 14:26:37,429 : INFO : EPOCH - 5 : training on 115970 raw words (95457 effective words) took 0.2s, 533111 effective words/s\n",
      "2021-02-19 14:26:37,611 : INFO : worker thread finished; awaiting finish of 2 more threads\n",
      "2021-02-19 14:26:37,621 : INFO : worker thread finished; awaiting finish of 1 more threads\n",
      "2021-02-19 14:26:37,623 : INFO : worker thread finished; awaiting finish of 0 more threads\n",
      "2021-02-19 14:26:37,623 : INFO : EPOCH - 6 : training on 115970 raw words (95617 effective words) took 0.2s, 498573 effective words/s\n",
      "2021-02-19 14:26:37,792 : INFO : worker thread finished; awaiting finish of 2 more threads\n",
      "2021-02-19 14:26:37,804 : INFO : worker thread finished; awaiting finish of 1 more threads\n",
      "2021-02-19 14:26:37,806 : INFO : worker thread finished; awaiting finish of 0 more threads\n",
      "2021-02-19 14:26:37,806 : INFO : EPOCH - 7 : training on 115970 raw words (95572 effective words) took 0.2s, 528647 effective words/s\n",
      "2021-02-19 14:26:37,971 : INFO : worker thread finished; awaiting finish of 2 more threads\n",
      "2021-02-19 14:26:37,974 : INFO : worker thread finished; awaiting finish of 1 more threads\n",
      "2021-02-19 14:26:37,977 : INFO : worker thread finished; awaiting finish of 0 more threads\n",
      "2021-02-19 14:26:37,978 : INFO : EPOCH - 8 : training on 115970 raw words (95517 effective words) took 0.2s, 565691 effective words/s\n",
      "2021-02-19 14:26:38,142 : INFO : worker thread finished; awaiting finish of 2 more threads\n",
      "2021-02-19 14:26:38,148 : INFO : worker thread finished; awaiting finish of 1 more threads\n",
      "2021-02-19 14:26:38,151 : INFO : worker thread finished; awaiting finish of 0 more threads\n",
      "2021-02-19 14:26:38,152 : INFO : EPOCH - 9 : training on 115970 raw words (95593 effective words) took 0.2s, 557691 effective words/s\n",
      "2021-02-19 14:26:38,315 : INFO : worker thread finished; awaiting finish of 2 more threads\n",
      "2021-02-19 14:26:38,319 : INFO : worker thread finished; awaiting finish of 1 more threads\n",
      "2021-02-19 14:26:38,322 : INFO : worker thread finished; awaiting finish of 0 more threads\n",
      "2021-02-19 14:26:38,323 : INFO : EPOCH - 10 : training on 115970 raw words (95484 effective words) took 0.2s, 565720 effective words/s\n",
      "2021-02-19 14:26:38,498 : INFO : worker thread finished; awaiting finish of 2 more threads\n",
      "2021-02-19 14:26:38,509 : INFO : worker thread finished; awaiting finish of 1 more threads\n",
      "2021-02-19 14:26:38,511 : INFO : worker thread finished; awaiting finish of 0 more threads\n",
      "2021-02-19 14:26:38,512 : INFO : EPOCH - 11 : training on 115970 raw words (95409 effective words) took 0.2s, 512006 effective words/s\n",
      "2021-02-19 14:26:38,688 : INFO : worker thread finished; awaiting finish of 2 more threads\n",
      "2021-02-19 14:26:38,696 : INFO : worker thread finished; awaiting finish of 1 more threads\n",
      "2021-02-19 14:26:38,697 : INFO : worker thread finished; awaiting finish of 0 more threads\n",
      "2021-02-19 14:26:38,698 : INFO : EPOCH - 12 : training on 115970 raw words (95489 effective words) took 0.2s, 530597 effective words/s\n",
      "2021-02-19 14:26:38,861 : INFO : worker thread finished; awaiting finish of 2 more threads\n",
      "2021-02-19 14:26:38,867 : INFO : worker thread finished; awaiting finish of 1 more threads\n",
      "2021-02-19 14:26:38,873 : INFO : worker thread finished; awaiting finish of 0 more threads\n",
      "2021-02-19 14:26:38,874 : INFO : EPOCH - 13 : training on 115970 raw words (95561 effective words) took 0.2s, 550684 effective words/s\n",
      "2021-02-19 14:26:39,038 : INFO : worker thread finished; awaiting finish of 2 more threads\n",
      "2021-02-19 14:26:39,045 : INFO : worker thread finished; awaiting finish of 1 more threads\n",
      "2021-02-19 14:26:39,046 : INFO : worker thread finished; awaiting finish of 0 more threads\n",
      "2021-02-19 14:26:39,046 : INFO : EPOCH - 14 : training on 115970 raw words (95542 effective words) took 0.2s, 561329 effective words/s\n",
      "2021-02-19 14:26:39,228 : INFO : worker thread finished; awaiting finish of 2 more threads\n",
      "2021-02-19 14:26:39,235 : INFO : worker thread finished; awaiting finish of 1 more threads\n",
      "2021-02-19 14:26:39,237 : INFO : worker thread finished; awaiting finish of 0 more threads\n",
      "2021-02-19 14:26:39,237 : INFO : EPOCH - 15 : training on 115970 raw words (95509 effective words) took 0.2s, 506689 effective words/s\n",
      "2021-02-19 14:26:39,415 : INFO : worker thread finished; awaiting finish of 2 more threads\n",
      "2021-02-19 14:26:39,427 : INFO : worker thread finished; awaiting finish of 1 more threads\n"
     ]
    },
    {
     "name": "stderr",
     "output_type": "stream",
     "text": [
      "2021-02-19 14:26:39,428 : INFO : worker thread finished; awaiting finish of 0 more threads\n",
      "2021-02-19 14:26:39,428 : INFO : EPOCH - 16 : training on 115970 raw words (95669 effective words) took 0.2s, 510051 effective words/s\n",
      "2021-02-19 14:26:39,600 : INFO : worker thread finished; awaiting finish of 2 more threads\n",
      "2021-02-19 14:26:39,606 : INFO : worker thread finished; awaiting finish of 1 more threads\n",
      "2021-02-19 14:26:39,610 : INFO : worker thread finished; awaiting finish of 0 more threads\n",
      "2021-02-19 14:26:39,610 : INFO : EPOCH - 17 : training on 115970 raw words (95463 effective words) took 0.2s, 530247 effective words/s\n",
      "2021-02-19 14:26:39,773 : INFO : worker thread finished; awaiting finish of 2 more threads\n",
      "2021-02-19 14:26:39,776 : INFO : worker thread finished; awaiting finish of 1 more threads\n",
      "2021-02-19 14:26:39,778 : INFO : worker thread finished; awaiting finish of 0 more threads\n",
      "2021-02-19 14:26:39,778 : INFO : EPOCH - 18 : training on 115970 raw words (95539 effective words) took 0.2s, 577990 effective words/s\n",
      "2021-02-19 14:26:39,942 : INFO : worker thread finished; awaiting finish of 2 more threads\n",
      "2021-02-19 14:26:39,943 : INFO : worker thread finished; awaiting finish of 1 more threads\n",
      "2021-02-19 14:26:39,947 : INFO : worker thread finished; awaiting finish of 0 more threads\n",
      "2021-02-19 14:26:39,947 : INFO : EPOCH - 19 : training on 115970 raw words (95506 effective words) took 0.2s, 573811 effective words/s\n",
      "2021-02-19 14:26:40,109 : INFO : worker thread finished; awaiting finish of 2 more threads\n",
      "2021-02-19 14:26:40,121 : INFO : worker thread finished; awaiting finish of 1 more threads\n",
      "2021-02-19 14:26:40,125 : INFO : worker thread finished; awaiting finish of 0 more threads\n",
      "2021-02-19 14:26:40,126 : INFO : EPOCH - 20 : training on 115970 raw words (95595 effective words) took 0.2s, 542646 effective words/s\n",
      "2021-02-19 14:26:40,126 : INFO : training on a 2319400 raw words (1910561 effective words) took 3.6s, 532417 effective words/s\n"
     ]
    },
    {
     "data": {
      "text/plain": [
       "[(1, -0.034477796),\n",
       " (2, -0.028962947),\n",
       " (3, -0.102006525),\n",
       " (4, -0.032423206),\n",
       " (5, -0.03396968),\n",
       " (6, 0.11954969),\n",
       " (7, 0.035585307),\n",
       " (8, -0.043052774),\n",
       " (9, -0.10865669),\n",
       " (10, 0.06937579),\n",
       " (11, -0.039590675),\n",
       " (12, -0.013896872),\n",
       " (13, -0.01575383),\n",
       " (14, 0.059491735),\n",
       " (15, 0.062352262),\n",
       " (16, -0.04735356),\n",
       " (17, -0.032629),\n",
       " (18, 0.03365761),\n",
       " (19, 0.011618688),\n",
       " (20, 0.006902657),\n",
       " (21, 0.09957757),\n",
       " (22, 0.04068543),\n",
       " (23, -0.013388487),\n",
       " (24, 0.023206417),\n",
       " (25, 0.01772491),\n",
       " (26, -0.07828307),\n",
       " (27, 0.062281877),\n",
       " (28, 0.065782),\n",
       " (29, -0.035654582),\n",
       " (30, 0.08025989),\n",
       " (31, 0.034174148),\n",
       " (32, 0.04203614),\n",
       " (33, 0.0095197335),\n",
       " (34, -0.089791276),\n",
       " (35, 0.031004915),\n",
       " (36, 0.008484591),\n",
       " (37, 0.029005565),\n",
       " (38, -0.0063362606),\n",
       " (39, -0.0105546275),\n",
       " (40, -0.06582949),\n",
       " (41, 0.11684298),\n",
       " (42, 0.0062273433),\n",
       " (43, -0.0065304483),\n",
       " (44, 0.02319659),\n",
       " (45, 0.06075969),\n",
       " (46, 0.01025511),\n",
       " (47, 0.034537084),\n",
       " (48, 0.04419273),\n",
       " (49, 0.03352081),\n",
       " (50, -0.07739722),\n",
       " (51, 0.022565164),\n",
       " (52, -0.0526894),\n",
       " (53, -0.046253797),\n",
       " (54, -0.0385815),\n",
       " (55, -0.019099444),\n",
       " (56, -0.045893904),\n",
       " (57, -0.057662506),\n",
       " (58, -0.09512253),\n",
       " (59, 0.08012369),\n",
       " (60, 0.037325732),\n",
       " (61, 0.017841937),\n",
       " (62, -0.049062107),\n",
       " (63, -0.056353085),\n",
       " (64, 0.048088722),\n",
       " (65, -0.026812153),\n",
       " (66, 0.0056321635),\n",
       " (67, -0.025595473),\n",
       " (68, -0.048655737),\n",
       " (69, 0.020122385),\n",
       " (70, 0.082967676),\n",
       " (71, -0.056089062),\n",
       " (72, 0.06193966),\n",
       " (73, 0.032547284),\n",
       " (74, -0.058618527),\n",
       " (75, 0.05269867),\n",
       " (76, 0.039916147),\n",
       " (77, 0.05846891),\n",
       " (78, 0.043410327),\n",
       " (79, -0.03548174),\n",
       " (80, -0.022590995),\n",
       " (81, -0.051780283),\n",
       " (82, 0.0062673874),\n",
       " (83, 0.04013512),\n",
       " (84, -0.0048826383),\n",
       " (85, -0.0057471017),\n",
       " (86, -0.063175954),\n",
       " (87, -0.1420992),\n",
       " (88, 0.006977125),\n",
       " (89, -0.02032377),\n",
       " (90, -0.037434187),\n",
       " (91, 0.006845141),\n",
       " (92, 0.04130685),\n",
       " (93, 0.006845298),\n",
       " (94, -0.013585664),\n",
       " (95, 0.001090606),\n",
       " (96, 0.044127956),\n",
       " (97, -0.065707944),\n",
       " (98, 0.04367844),\n",
       " (99, -0.010952362),\n",
       " (100, 0.08610692)]"
      ]
     },
     "execution_count": 93,
     "metadata": {},
     "output_type": "execute_result"
    }
   ],
   "source": [
    "class D2VRetrievalModel(VectorSpaceRetrievalModel):\n",
    "    def __init__(self, doc_repr):\n",
    "        super().__init__(doc_repr)\n",
    "        \n",
    "        self.vector_size= 100\n",
    "        self.min_count = 1\n",
    "        self.epochs = 20\n",
    "        \n",
    "        # YOUR CODE HERE\n",
    "        self.docs = []\n",
    "        for doc_id, content in self.doc_repr:\n",
    "            self.docs.append(TaggedDocument(words=content, tags=[doc_id]))\n",
    "        \n",
    "    def train_model(self):\n",
    "        # YOUR CODE HERE\n",
    "        self.model = Doc2Vec(\n",
    "            self.docs,\n",
    "            vector_size=self.vector_size,\n",
    "            min_count=self.min_count,\n",
    "            epochs=self.epochs\n",
    "        )\n",
    "    \n",
    "    def vectorize_documents(self):\n",
    "        \"\"\"\n",
    "            Returns a doc_id -> vector dictionary\n",
    "        \"\"\"\n",
    "        # YOUR CODE HERE\n",
    "        doc_dict = {}\n",
    "        for doc_id, content in self.doc_repr:\n",
    "            vector = self.model.infer_vector(content)\n",
    "            doc_dict[doc_id] = [(dim+1, vector[dim]) for dim in range(len(vector))]\n",
    "        return doc_dict\n",
    "\n",
    "    def vectorize_query(self, query):\n",
    "        # YOUR CODE HERE\n",
    "        query = process_text(query, **config_2)\n",
    "        vector = self.model.infer_vector(query)\n",
    "        return [(dim+1, vector[dim]) for dim in range(len(vector))]\n",
    "        \n",
    "d2v = D2VRetrievalModel(doc_repr_2)\n",
    "d2v.train_model()\n",
    "\n",
    "\n",
    "# # you can now get an LSI vector for a given query in the following way:\n",
    "d2v.vectorize_query(\"report\")"
   ]
  },
  {
   "cell_type": "code",
   "execution_count": 94,
   "metadata": {
    "deletable": false,
    "editable": false,
    "nbgrader": {
     "cell_type": "code",
     "checksum": "e83a363a9d4f136efbdde1426a83925e",
     "grade": true,
     "grade_id": "cell-5e2c5e0c9a2e8cb5",
     "locked": true,
     "points": 0,
     "schema_version": 3,
     "solution": false,
     "task": false
    }
   },
   "outputs": [],
   "source": [
    "#### Please do not change this. This cell is used for grading."
   ]
  },
  {
   "cell_type": "markdown",
   "metadata": {
    "deletable": false,
    "editable": false,
    "nbgrader": {
     "cell_type": "markdown",
     "checksum": "5bb46bf6b9be1e0ca66f0b0bc6260ecb",
     "grade": false,
     "grade_id": "cell-8a49d414f798a595",
     "locked": true,
     "points": 10,
     "schema_version": 3,
     "solution": false,
     "task": true
    }
   },
   "source": [
    "\\#### Please do not change this. This cell is used for grading."
   ]
  },
  {
   "cell_type": "code",
   "execution_count": 95,
   "metadata": {},
   "outputs": [
    {
     "data": {
      "application/vnd.jupyter.widget-view+json": {
       "model_id": "9fd494a251f649fcb5dee93fc3a454a3",
       "version_major": 2,
       "version_minor": 0
      },
      "text/plain": [
       "Text(value='', description='Search Bar')"
      ]
     },
     "metadata": {},
     "output_type": "display_data"
    }
   ],
   "source": [
    "drm_d2v = DenseRetrievalRanker(d2v, cosine_sim)\n",
    "\n",
    "# test your LDA model\n",
    "search_fn = drm_d2v.search\n",
    "\n",
    "text = widgets.Text(description=\"Search Bar\", width=200)\n",
    "display(text)\n",
    "\n",
    "\n",
    "text.on_submit(handle_submit_2)"
   ]
  },
  {
   "cell_type": "markdown",
   "metadata": {
    "deletable": false,
    "editable": false,
    "nbgrader": {
     "cell_type": "markdown",
     "checksum": "363ec36c1d03d9f9e1c2045a6e193c14",
     "grade": false,
     "grade_id": "cell-3529ae29eece7b97",
     "locked": true,
     "schema_version": 3,
     "solution": false,
     "task": false
    }
   },
   "source": [
    "---\n",
    "## Section 9: Re-ranking (10 points) <a class=\"anchor\" id=\"reranking\"></a>\n",
    "\n",
    "[Back to Part 2](#part2)\n",
    "\n",
    "To motivate the re-ranking perspective (i.e retrieve with lexical method + rerank with a semantic method), let's search using semantic methods and compare it to BM25's performance, along with their runtime:\n"
   ]
  },
  {
   "cell_type": "code",
   "execution_count": 96,
   "metadata": {
    "deletable": false,
    "editable": false,
    "nbgrader": {
     "cell_type": "code",
     "checksum": "5755f70e3eb28abc65d14d80125338af",
     "grade": false,
     "grade_id": "cell-f8f43bf5ae383128",
     "locked": true,
     "schema_version": 3,
     "solution": false,
     "task": false
    }
   },
   "outputs": [
    {
     "name": "stdout",
     "output_type": "stream",
     "text": [
      "BM25: \n",
      "763 µs ± 1.93 µs per loop (mean ± std. dev. of 7 runs, 1000 loops each)\n",
      "LSI: \n"
     ]
    },
    {
     "name": "stderr",
     "output_type": "stream",
     "text": [
      "<ipython-input-73-7b38d90b22d3>:18: RuntimeWarning: invalid value encountered in double_scalars\n",
      "  return dot(vec_1, vec_2)/(np.linalg.norm([i[1] for i in vec_1])*np.linalg.norm([j[1] for j in vec_2]))\n"
     ]
    },
    {
     "name": "stdout",
     "output_type": "stream",
     "text": [
      "170 ms ± 3.12 ms per loop (mean ± std. dev. of 7 runs, 10 loops each)\n",
      "LDA: \n",
      "3.91 s ± 52.7 ms per loop (mean ± std. dev. of 7 runs, 1 loop each)\n",
      "W2V: \n"
     ]
    },
    {
     "name": "stderr",
     "output_type": "stream",
     "text": [
      "<ipython-input-87-58fe68e8332b>:41: DeprecationWarning: Call to deprecated `__contains__` (Method will be removed in 4.0.0, use self.wv.__contains__() instead).\n",
      "  if token in self.model:\n",
      "<ipython-input-87-58fe68e8332b>:42: DeprecationWarning: Call to deprecated `__getitem__` (Method will be removed in 4.0.0, use self.wv.__getitem__() instead).\n",
      "  vector += self.model[token]\n"
     ]
    },
    {
     "name": "stdout",
     "output_type": "stream",
     "text": [
      "171 ms ± 2.32 ms per loop (mean ± std. dev. of 7 runs, 10 loops each)\n",
      "W2V(Pretrained): \n",
      "446 ms ± 1.26 ms per loop (mean ± std. dev. of 7 runs, 1 loop each)\n",
      "D2V:\n",
      "200 ms ± 7.45 ms per loop (mean ± std. dev. of 7 runs, 1 loop each)\n"
     ]
    }
   ],
   "source": [
    "query = \"algebraic functions\"\n",
    "print(\"BM25: \")\n",
    "%timeit bm25_search(query, 2)\n",
    "print(\"LSI: \")\n",
    "%timeit drm_lsi.search(query)\n",
    "print(\"LDA: \")\n",
    "%timeit drm_lda.search(query)\n",
    "print(\"W2V: \")\n",
    "%timeit drm_w2v.search(query)\n",
    "print(\"W2V(Pretrained): \")\n",
    "%timeit drm_w2v_pretrained.search(query)\n",
    "print(\"D2V:\")\n",
    "%timeit drm_d2v.search(query)"
   ]
  },
  {
   "cell_type": "markdown",
   "metadata": {
    "deletable": false,
    "editable": false,
    "nbgrader": {
     "cell_type": "markdown",
     "checksum": "ae398da0a8c23c95bcbb0023b7ec6f34",
     "grade": false,
     "grade_id": "cell-db5ff09f97841af7",
     "locked": true,
     "schema_version": 3,
     "solution": false,
     "task": false
    }
   },
   "source": [
    "---\n",
    "\n",
    "**Implementation (10 points):**\n",
    "Re-ranking involves retrieving a small set of documents using simple but fast methods like BM25 and then re-ranking them with the aid of semantic methods such as LDA or LSI. Implement the following class, which takes in an `initial_retrieval_fn` - the initial retrieval function and `vsrm` - an instance of the `VectorSpaceRetrievalModel` class (i.e LSI/LDA) as input. The search function should first retrieve an initial list of K documents, and then these documents are re-ranked using a semantic method. This not only makes retrieval faster, but semantic methods perform poorly when used in isolation, as you will find out."
   ]
  },
  {
   "cell_type": "code",
   "execution_count": 97,
   "metadata": {
    "deletable": false,
    "nbgrader": {
     "cell_type": "code",
     "checksum": "63b6b05a676a2ae3f08d8bed1bc59428",
     "grade": false,
     "grade_id": "cell-5bf47600d1a0c507",
     "locked": false,
     "schema_version": 3,
     "solution": true,
     "task": false
    }
   },
   "outputs": [],
   "source": [
    "# TODO: Implement this! (10 points)\n",
    "class DenseRerankingModel:\n",
    "    def __init__(self, initial_retrieval_fn, vsrm, similarity_fn):\n",
    "        \"\"\"\n",
    "            initial_retrieval_fn: takes in a query and returns a list of [(doc_id, score)] (sorted)\n",
    "            vsrm: instance of `VectorSpaceRetrievalModel`\n",
    "            similarity_fn: function instance that takes in two vectors \n",
    "                            and returns a similarity score e.g cosine_sim defined earlier\n",
    "        \"\"\"\n",
    "        self.ret = initial_retrieval_fn\n",
    "        self.vsrm = vsrm\n",
    "        self.similarity_fn = similarity_fn\n",
    "        self.vectorized_documents = vsrm.vectorize_documents()\n",
    "        \n",
    "        assert len(self.vectorized_documents) == len(doc_repr_2)\n",
    "    \n",
    "    def search(self, query, K=50):\n",
    "        \"\"\"\n",
    "            First, retrieve the top K results using the retrieval function\n",
    "            Then, re-rank the results using the VSRM instance\n",
    "        \"\"\"\n",
    "        # YOUR CODE HERE\n",
    "        query_vector = self.vsrm.vectorize_query(query)   \n",
    "        rank = [] \n",
    "        doc_id = [] \n",
    "        \n",
    "        # Re-rank the top K results using the VSRM instance \n",
    "        for doc in self.ret(query)[:K]:\n",
    "            doc_vector = self.vectorized_documents[doc[0]]\n",
    "            score = self.similarity_fn(query_vector, doc_vector)\n",
    "            doc_id.append(doc[0])\n",
    "            rank.append(score)\n",
    "            \n",
    "        return sorted(zip(doc_id, rank), key=lambda x: x[1], reverse=True)"
   ]
  },
  {
   "cell_type": "code",
   "execution_count": 98,
   "metadata": {
    "deletable": false,
    "editable": false,
    "nbgrader": {
     "cell_type": "code",
     "checksum": "334ab5af96976265cace682ab82a7387",
     "grade": true,
     "grade_id": "cell-52c6d18a4c0b4882",
     "locked": true,
     "points": 0,
     "schema_version": 3,
     "solution": false,
     "task": false
    }
   },
   "outputs": [
    {
     "name": "stderr",
     "output_type": "stream",
     "text": [
      "<ipython-input-87-58fe68e8332b>:26: DeprecationWarning: Call to deprecated `__contains__` (Method will be removed in 4.0.0, use self.wv.__contains__() instead).\n",
      "  if token in self.model:\n",
      "<ipython-input-87-58fe68e8332b>:27: DeprecationWarning: Call to deprecated `__getitem__` (Method will be removed in 4.0.0, use self.wv.__getitem__() instead).\n",
      "  doc_dict[doc_id] += self.model[token]\n"
     ]
    }
   ],
   "source": [
    "##### Function check\n",
    "bm25_search_2 = partial(bm25_search, index_set=2)\n",
    "lsi_rerank = DenseRerankingModel(bm25_search_2, lsi, cosine_sim)\n",
    "lda_rerank = DenseRerankingModel(bm25_search_2, lda, jenson_shannon_sim)\n",
    "w2v_rerank = DenseRerankingModel(bm25_search_2, w2v, cosine_sim)\n",
    "w2v_pretrained_rerank = DenseRerankingModel(bm25_search_2, w2v_pretrained, cosine_sim)\n",
    "d2v_rerank = DenseRerankingModel(bm25_search_2, d2v, cosine_sim)\n",
    "\n",
    "##### "
   ]
  },
  {
   "cell_type": "markdown",
   "metadata": {
    "deletable": false,
    "editable": false,
    "nbgrader": {
     "cell_type": "markdown",
     "checksum": "bd904253f45f84e63bab3a69729058fc",
     "grade": false,
     "grade_id": "cell-93215dfe6bcf7cff",
     "locked": true,
     "points": 10,
     "schema_version": 3,
     "solution": false,
     "task": true
    }
   },
   "source": [
    "\\#### Please do not change this. This cell is used for grading."
   ]
  },
  {
   "cell_type": "markdown",
   "metadata": {
    "deletable": false,
    "editable": false,
    "nbgrader": {
     "cell_type": "markdown",
     "checksum": "b592e60292bfe3d9ef2930a354c4077a",
     "grade": false,
     "grade_id": "cell-aa694ff55fa91e7d",
     "locked": true,
     "schema_version": 3,
     "solution": false,
     "task": false
    }
   },
   "source": [
    "---\n",
    "Now, let us time the new search functions:"
   ]
  },
  {
   "cell_type": "code",
   "execution_count": 99,
   "metadata": {
    "deletable": false,
    "editable": false,
    "nbgrader": {
     "cell_type": "code",
     "checksum": "338c7e3528cba266a865a061287c0e38",
     "grade": false,
     "grade_id": "cell-5edbd481562ad91f",
     "locked": true,
     "schema_version": 3,
     "solution": false,
     "task": false
    }
   },
   "outputs": [
    {
     "name": "stdout",
     "output_type": "stream",
     "text": [
      "BM25: \n",
      "776 µs ± 2.19 µs per loop (mean ± std. dev. of 7 runs, 1000 loops each)\n",
      "LSI: \n",
      "3.73 ms ± 42.8 µs per loop (mean ± std. dev. of 7 runs, 100 loops each)\n",
      "LDA: \n",
      "60.6 ms ± 264 µs per loop (mean ± std. dev. of 7 runs, 10 loops each)\n",
      "W2V: \n"
     ]
    },
    {
     "name": "stderr",
     "output_type": "stream",
     "text": [
      "<ipython-input-87-58fe68e8332b>:41: DeprecationWarning: Call to deprecated `__contains__` (Method will be removed in 4.0.0, use self.wv.__contains__() instead).\n",
      "  if token in self.model:\n",
      "<ipython-input-87-58fe68e8332b>:42: DeprecationWarning: Call to deprecated `__getitem__` (Method will be removed in 4.0.0, use self.wv.__getitem__() instead).\n",
      "  vector += self.model[token]\n"
     ]
    },
    {
     "name": "stdout",
     "output_type": "stream",
     "text": [
      "3.6 ms ± 15.6 µs per loop (mean ± std. dev. of 7 runs, 100 loops each)\n",
      "W2V(Pretrained): \n",
      "7.85 ms ± 17.7 µs per loop (mean ± std. dev. of 7 runs, 100 loops each)\n",
      "D2V:\n",
      "4.39 ms ± 20.1 µs per loop (mean ± std. dev. of 7 runs, 100 loops each)\n"
     ]
    }
   ],
   "source": [
    "query = \"algebraic functions\"\n",
    "print(\"BM25: \")\n",
    "%timeit bm25_search(query, 2)\n",
    "print(\"LSI: \")\n",
    "%timeit lsi_rerank.search(query)\n",
    "print(\"LDA: \")\n",
    "%timeit lda_rerank.search(query)\n",
    "print(\"W2V: \")\n",
    "%timeit w2v_rerank.search(query)\n",
    "print(\"W2V(Pretrained): \")\n",
    "%timeit w2v_pretrained_rerank.search(query)\n",
    "print(\"D2V:\")\n",
    "%timeit d2v_rerank.search(query)"
   ]
  },
  {
   "cell_type": "markdown",
   "metadata": {
    "deletable": false,
    "editable": false,
    "nbgrader": {
     "cell_type": "markdown",
     "checksum": "c45c5e3f015b2de89d9d39ae3766368b",
     "grade": false,
     "grade_id": "cell-85c50f2ab9eec301",
     "locked": true,
     "schema_version": 3,
     "solution": false,
     "task": false
    }
   },
   "source": [
    "---\n",
    "As you can see, it is much faster (but BM25 is still orders of magnitude faster)."
   ]
  },
  {
   "cell_type": "markdown",
   "metadata": {
    "deletable": false,
    "editable": false,
    "nbgrader": {
     "cell_type": "markdown",
     "checksum": "1e2f3388e3807659f303fe31a75a010e",
     "grade": false,
     "grade_id": "cell-5071bb99b2af61cb",
     "locked": true,
     "schema_version": 3,
     "solution": false,
     "task": false
    }
   },
   "source": [
    "---\n",
    "## Section 10: Evaluation & Analysis (30 points) <a class=\"anchor\" id=\"reranking_eval\"></a>\n",
    "\n",
    "[Back to Part 2](#part2)\n",
    "\n",
    "[Previously](#evaluation) we have implemented some evaluation metrics and used them for measuring the ranking performance of term-based IR algorithms. In this section, we will do the same for semantic methods, both with and without re-ranking.\n",
    "\n",
    "### Section 10.1: Plot (10 points)\n",
    "\n",
    "First, gather the results. The results should consider the index set, the different search functions and different metrics. Plot the results in bar charts, per metric, with clear labels.\n",
    "\n",
    "Then, gather only the re-ranking models, and plot and compare them with the results obtained in part 1 (only index set 2)."
   ]
  },
  {
   "cell_type": "code",
   "execution_count": 100,
   "metadata": {
    "deletable": false,
    "editable": false,
    "nbgrader": {
     "cell_type": "code",
     "checksum": "4fe81520ac6413a803838913fd64de03",
     "grade": false,
     "grade_id": "cell-b672fe6dfae0b1ce",
     "locked": true,
     "schema_version": 3,
     "solution": false,
     "task": false
    }
   },
   "outputs": [],
   "source": [
    "list_of_sem_search_fns = [\n",
    "    (\"lda\", drm_lda.search),\n",
    "    (\"lsi\", drm_lsi.search),\n",
    "    (\"w2v\", drm_w2v.search),\n",
    "    (\"w2v_pretrained\", drm_w2v_pretrained.search),\n",
    "    (\"d2v\", drm_d2v.search),\n",
    "    (\"lsi_rr\", lsi_rerank.search),\n",
    "    (\"lda_rr\", lda_rerank.search),\n",
    "    (\"w2v_rr\", w2v_rerank.search),\n",
    "    (\"w2v_pretrained_rr\", w2v_pretrained_rerank.search),\n",
    "    (\"d2v_rr\", d2v_rerank.search),\n",
    "    \n",
    "]"
   ]
  },
  {
   "cell_type": "code",
   "execution_count": 101,
   "metadata": {
    "deletable": false,
    "nbgrader": {
     "cell_type": "code",
     "checksum": "54707c4afac084299aeefa047259b4a9",
     "grade": true,
     "grade_id": "cell-7dd8273b0f5a3c22",
     "locked": false,
     "points": 10,
     "schema_version": 3,
     "solution": true,
     "task": false
    }
   },
   "outputs": [
    {
     "name": "stderr",
     "output_type": "stream",
     "text": [
      "<ipython-input-73-7b38d90b22d3>:18: RuntimeWarning: invalid value encountered in double_scalars\n",
      "  return dot(vec_1, vec_2)/(np.linalg.norm([i[1] for i in vec_1])*np.linalg.norm([j[1] for j in vec_2]))\n",
      "<ipython-input-87-58fe68e8332b>:41: DeprecationWarning: Call to deprecated `__contains__` (Method will be removed in 4.0.0, use self.wv.__contains__() instead).\n",
      "  if token in self.model:\n",
      "<ipython-input-87-58fe68e8332b>:42: DeprecationWarning: Call to deprecated `__getitem__` (Method will be removed in 4.0.0, use self.wv.__getitem__() instead).\n",
      "  vector += self.model[token]\n"
     ]
    },
    {
     "data": {
      "image/png": "[encoded data removed]",
      "text/plain": [
       "<Figure size 432x288 with 1 Axes>"
      ]
     },
     "metadata": {
      "needs_background": "light"
     },
     "output_type": "display_data"
    },
    {
     "data": {
      "image/png": "[encoded data removed]",
      "text/plain": [
       "<Figure size 432x288 with 1 Axes>"
      ]
     },
     "metadata": {
      "needs_background": "light"
     },
     "output_type": "display_data"
    },
    {
     "data": {
      "image/png": "[encoded data removed]",
      "text/plain": [
       "<Figure size 432x288 with 1 Axes>"
      ]
     },
     "metadata": {
      "needs_background": "light"
     },
     "output_type": "display_data"
    },
    {
     "data": {
      "image/png": "[encoded data removed]",
      "text/plain": [
       "<Figure size 432x288 with 1 Axes>"
      ]
     },
     "metadata": {
      "needs_background": "light"
     },
     "output_type": "display_data"
    },
    {
     "data": {
      "image/png": "[encoded data removed]",
      "text/plain": [
       "<Figure size 432x288 with 1 Axes>"
      ]
     },
     "metadata": {
      "needs_background": "light"
     },
     "output_type": "display_data"
    },
    {
     "data": {
      "image/png": "[encoded data removed]",
      "text/plain": [
       "<Figure size 432x288 with 1 Axes>"
      ]
     },
     "metadata": {
      "needs_background": "light"
     },
     "output_type": "display_data"
    },
    {
     "data": {
      "image/png": "[encoded data removed]",
      "text/plain": [
       "<Figure size 432x288 with 1 Axes>"
      ]
     },
     "metadata": {
      "needs_background": "light"
     },
     "output_type": "display_data"
    },
    {
     "data": {
      "image/png": "[encoded data removed]",
      "text/plain": [
       "<Figure size 432x288 with 1 Axes>"
      ]
     },
     "metadata": {
      "needs_background": "light"
     },
     "output_type": "display_data"
    }
   ],
   "source": [
    "# YOUR CODE HERE\n",
    "ERR=[]\n",
    "MAP=[]\n",
    "RECALL1=[]\n",
    "RECALL5=[]\n",
    "RECALL10=[]\n",
    "PRECISION1=[]\n",
    "PRECISION5=[]\n",
    "PRECISION10=[]\n",
    "str_metrics = [\"ERR\",\"MAP\", \"RECALL@1\", \"RECALL@5\", \"RECALL@10\", \"PRECISION@1\", \n",
    "               \"PRECISION@5\", \"PRECISION@10\"]    \n",
    "index = [\"lda\", \"lsi\",\"w2v\",\"w2v_pretrained\",\"d2v\",\"lsi_rr\",\"lda_rr\",\"w2v_rr\",\n",
    "         \"w2v_pretrained_rr\",\"d2v_rr\"]\n",
    "xlabel = \"Methods\"\n",
    "ylabel = \"Metric value (in decimals)\"\n",
    "    \n",
    "for method in list_of_sem_search_fns:\n",
    "\n",
    "    evaluation = evaluate_search_fn(method[1], list_of_metrics)\n",
    "    ERR.append(evaluation['ERR'])\n",
    "    MAP.append(evaluation['MAP'])\n",
    "    RECALL1.append(evaluation['Recall@1'])\n",
    "    RECALL5.append(evaluation['Recall@5'])\n",
    "    RECALL10.append(evaluation['Recall@10'])\n",
    "    PRECISION1.append(evaluation['Precision@1'])\n",
    "    PRECISION5.append(evaluation['Precision@5'])\n",
    "    PRECISION10.append(evaluation['Precision@10'])\n",
    "\n",
    "metrics=[ERR, MAP,  RECALL1,  RECALL5,  RECALL10,  PRECISION1,  PRECISION5,  PRECISION10]\n",
    "\n",
    "for i, metric in enumerate(metrics):\n",
    "\n",
    "    plotdata = pd.DataFrame({\n",
    "    \"Index set 2\": metric,\n",
    "    }, \n",
    "    index=index\n",
    "    )\n",
    "    plotdata.plot(kind=\"bar\")\n",
    "    plt.title(str_metrics[i])\n",
    "    plt.xlabel(xlabel)\n",
    "    plt.ylabel(ylabel)\n",
    "    plt.show()"
   ]
  },
  {
   "cell_type": "markdown",
   "metadata": {
    "deletable": false,
    "editable": false,
    "nbgrader": {
     "cell_type": "markdown",
     "checksum": "a8a3b6189bdde66704c694d85e38d049",
     "grade": false,
     "grade_id": "cell-deb2ef3daa306e82",
     "locked": true,
     "schema_version": 3,
     "solution": false,
     "task": false
    }
   },
   "source": [
    "### Section 10.2: Summary (20 points)\n",
    "\n",
    "Your summary should compare methods from Part 1 and Part 2 (only for index set 2). State what you expected to see in the results, followed by either supporting evidence *or* justify why the results did not support your expectations. Consider the availability of data, scalability, domain/type of data, etc."
   ]
  },
  {
   "cell_type": "code",
   "execution_count": null,
   "metadata": {},
   "outputs": [],
   "source": []
  },
  {
   "cell_type": "markdown",
   "metadata": {
    "deletable": false,
    "nbgrader": {
     "cell_type": "markdown",
     "checksum": "ff97c43837d10bff6aaffa75e1492887",
     "grade": true,
     "grade_id": "cell-ec5dd7d9cf59dd86",
     "locked": false,
     "points": 20,
     "schema_version": 3,
     "solution": true,
     "task": false
    }
   },
   "source": [
    "YOUR ANSWER HERE"
   ]
  }
 ],
 "metadata": {
  "kernelspec": {
   "display_name": "Python 3",
   "language": "python",
   "name": "python3"
  },
  "language_info": {
   "codemirror_mode": {
    "name": "ipython",
    "version": 3
   },
   "file_extension": ".py",
   "mimetype": "text/x-python",
   "name": "python",
   "nbconvert_exporter": "python",
   "pygments_lexer": "ipython3",
   "version": "3.8.5"
  }
 },
 "nbformat": 4,
 "nbformat_minor": 4
}
