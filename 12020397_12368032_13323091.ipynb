{
 "cells": [
  {
   "cell_type": "markdown",
   "metadata": {
    "deletable": false,
    "editable": false,
    "nbgrader": {
     "cell_type": "markdown",
     "checksum": "758d05f39ab671358f17858c55f7161c",
     "grade": false,
     "grade_id": "cell-c9cd9e550239e812",
     "locked": true,
     "schema_version": 3,
     "solution": false,
     "task": false
    }
   },
   "source": [
    "# Homework 1 (Total Points: 260) <a class=\"anchor\" id=\"top\"></a>\n",
    "\n",
    "\n",
    "**Submission instructions**:\n",
    "- Only the code `TODO: Implement this!` denotes that these sections are graded.\n",
    "- For Part 1: You can use the `nltk`, `numpy` and `matplotlib` libraries here. Other libraries, e.g., `gensim` or `scikit-learn`, may not be used. For Part 2: `gensim` is allowed in addition to the imported libraries in the next code cell\n",
    "- The notebook you submit has to have the student ids, separated by underscores (E.g., `12341234_12341234_12341234.ipynb`). \n",
    "- This will be parsed by a regexp, so please double check your filename.\n",
    "- Only one member of each group has to submit the file to canvas.\n",
    "- Make sure to check that your notebook runs before submission. A quick way to do this is to restart the kernel and run all the cells.  \n",
    "- Please do not delete/add new cells. Removing cells can lead to grade deduction.\n",
    "- Note, that you are not allowed to use Google Colab.\n",
    "\n",
    "\n",
    "**Learning Goals**:\n",
    "- [Part 1, Term-based matching](#part1) (175 points):\n",
    "    - Learn how to load a dataset and process it.\n",
    "    - Learn how to implement several standard IR methods (TF-IDF, BM25, QL) and understand their weaknesses & strengths.\n",
    "    - Learn how to evaluate IR methods.\n",
    "- [Part 2, Semantic-based matching](#part2) (85 points):\n",
    "    - Learn how to implement vector-space retrieval methods (LSI, LDA).\n",
    "    - Learn how to use LSI and LDA for re-ranking\n",
    "\n",
    "    \n",
    "**Resources**: \n",
    "- **Part 1**: Sections 2.3, 4.1, 4.2, 4.3, 5.3, 5.6, 5.7, 6.2, 7, 8 of [Search Engines: Information Retrieval in Practice](https://ciir.cs.umass.edu/downloads/SEIRiP.pdf)\n",
    "- **Part 2**: [LSI - Chapter 18](https://nlp.stanford.edu/IR-book/pdf/18lsi.pdf) from [Introduction to Information Retrieval](https://nlp.stanford.edu/IR-book/) book and the [original LDA paper](https://jmlr.org/papers/volume3/blei03a/blei03a.pdf)"
   ]
  },
  {
   "cell_type": "code",
   "execution_count": 126,
   "metadata": {
    "deletable": false,
    "editable": false,
    "nbgrader": {
     "cell_type": "code",
     "checksum": "c55bfe94ff1f564dd595547e516c4c6e",
     "grade": false,
     "grade_id": "cell-f5357fabdb9660e3",
     "locked": true,
     "schema_version": 3,
     "solution": false,
     "task": false
    }
   },
   "outputs": [],
   "source": [
    "# imports \n",
    "# TODO: Ensure that no additional library is imported in the notebook. \n",
    "# TODO: Only the standard library and the following libraries are allowed:\n",
    "# TODO: You can also use unlisted classes from these libraries or standard libraries (such as defaultdict, Counter, ...).\n",
    "\n",
    "import os\n",
    "import zipfile\n",
    "from functools import partial\n",
    "\n",
    "import nltk\n",
    "import requests\n",
    "import numpy as np\n",
    "from tqdm import tqdm\n",
    "\n",
    "import matplotlib.pyplot as plt\n",
    "from matplotlib.pyplot import cm\n",
    "\n",
    "from ipywidgets import widgets\n",
    "from IPython.display import display, HTML\n",
    "#from IPython.html import widgets\n",
    "from collections import namedtuple\n",
    "\n",
    "%matplotlib inline"
   ]
  },
  {
   "cell_type": "markdown",
   "metadata": {
    "deletable": false,
    "editable": false,
    "nbgrader": {
     "cell_type": "markdown",
     "checksum": "4ef0139c6fbc22b41520721a9275c1e1",
     "grade": false,
     "grade_id": "cell-7428e12ed184408b",
     "locked": true,
     "schema_version": 3,
     "solution": false,
     "task": false
    }
   },
   "source": [
    "\n",
    "# Part 1: Term-based Matching (175 points) <a class=\"anchor\" id=\"part1\"></a>\n",
    "\n",
    "[Back to top](#top)\n",
    "\n",
    "In the first part, we will learn the basics of IR from loading and preprocessing the material, to implementing some well known search algorithms, to evaluating the ranking performance of the implemented algorithms. We will be using the CACM dataset throughout the assignment. The CACM dataset is a collection of titles and abstracts from the journal CACM (Communication of the ACM).\n",
    "\n",
    "Table of contents:\n",
    "- [Section 1: Text Processing](#text_processing) (15 points)\n",
    "- [Section 2: Indexing](#indexing) (10 points)\n",
    "- [Section 3: Ranking](#ranking) (80 points)\n",
    "- [Section 4: Evaluation](#evaluation) (40 points)\n",
    "- [Section 5: Analysis](#analysis) (30 points)\n"
   ]
  },
  {
   "cell_type": "markdown",
   "metadata": {
    "deletable": false,
    "editable": false,
    "nbgrader": {
     "cell_type": "markdown",
     "checksum": "a9050c97b011a926b9e4cf6831eff5bd",
     "grade": false,
     "grade_id": "cell-4b24825cf4ae55ec",
     "locked": true,
     "schema_version": 3,
     "solution": false,
     "task": false
    }
   },
   "source": [
    "---\n",
    "## Section 1: Text Processing (15 points)<a class=\"anchor\" id=\"text_processing\"></a>\n",
    "\n",
    "[Back to Part 1](#part1)\n",
    "\n",
    "In this section, we will load the dataset and learn how to clean up the data to make it usable for an IR system. \n",
    "The points of this section are earned for the following implementations:\n",
    "- `read_cacm_docs` (4 points): Reads in the CACM documents.\n",
    "- `read_queries` (3 points): Reads in the CACM queries.\n",
    "- `load_stopwords` (1 point): Loads the stopwords.\n",
    "- `tokenize` (4 points): Tokenizes the input text.\n",
    "- `stem_token` (3 points): Stems the given token. \n",
    "\n",
    "We are using the [CACM dataset](http://ir.dcs.gla.ac.uk/resources/test_collections/cacm/), which is a small, classic IR dataset, composed of a collection of titles and abstracts from the journal CACM. It comes with relevance judgements for queries, so we can evaluate our IR system. \n"
   ]
  },
  {
   "cell_type": "markdown",
   "metadata": {
    "deletable": false,
    "editable": false,
    "nbgrader": {
     "cell_type": "markdown",
     "checksum": "1de1b97f9ee233ad2348359f0c158eb7",
     "grade": false,
     "grade_id": "cell-45651364e7af6d5a",
     "locked": true,
     "schema_version": 3,
     "solution": false,
     "task": false
    }
   },
   "source": [
    "---\n",
    "### 1.1 Read the CACM documents (4 points)\n",
    "\n",
    "\n",
    "The following cell downloads the dataset and unzips it to a local directory."
   ]
  },
  {
   "cell_type": "code",
   "execution_count": 127,
   "metadata": {
    "deletable": false,
    "editable": false,
    "nbgrader": {
     "cell_type": "code",
     "checksum": "4d43c9ad6e77cc01ce4cef0c34824930",
     "grade": false,
     "grade_id": "cell-bbc3030bb3fe7e02",
     "locked": true,
     "schema_version": 3,
     "solution": false,
     "task": false
    }
   },
   "outputs": [],
   "source": [
    "def download_dataset():\n",
    "    folder_path = os.environ.get(\"IR1_DATA_PATH\")\n",
    "    if not folder_path:\n",
    "        folder_path = \"./datasets/\"\n",
    "    os.makedirs(folder_path, exist_ok=True)\n",
    "    \n",
    "    file_location = os.path.join(folder_path, \"cacm.zip\")\n",
    "    \n",
    "    # download file if it doesn't exist\n",
    "    if not os.path.exists(file_location):\n",
    "        \n",
    "        url = \"https://surfdrive.surf.nl/files/index.php/s/M0FGJpX2p8wDwxR/download\"\n",
    "\n",
    "        with open(file_location, \"wb\") as handle:\n",
    "            print(f\"Downloading file from {url} to {file_location}\")\n",
    "            response = requests.get(url, stream=True)\n",
    "            for data in tqdm(response.iter_content()):\n",
    "                handle.write(data)\n",
    "            print(\"Finished downloading file\")\n",
    "    \n",
    "    if not os.path.exists(os.path.join(folder_path, \"train.txt\")):\n",
    "        \n",
    "        # unzip file\n",
    "        with zipfile.ZipFile(file_location, 'r') as zip_ref:\n",
    "            zip_ref.extractall(folder_path)\n",
    "        \n",
    "download_dataset()"
   ]
  },
  {
   "cell_type": "markdown",
   "metadata": {
    "deletable": false,
    "editable": false,
    "nbgrader": {
     "cell_type": "markdown",
     "checksum": "31609b0d61d0c74cbd69bc43e47c23be",
     "grade": false,
     "grade_id": "cell-a7dd9a9bf98ede05",
     "locked": true,
     "schema_version": 3,
     "solution": false,
     "task": false
    }
   },
   "source": [
    "---\n",
    "\n",
    "You can see a brief description of each file in the dataset by looking at the README file:"
   ]
  },
  {
   "cell_type": "code",
   "execution_count": 128,
   "metadata": {
    "deletable": false,
    "editable": false,
    "nbgrader": {
     "cell_type": "code",
     "checksum": "1783f9999c7d06955e8da815de62ba5f",
     "grade": false,
     "grade_id": "cell-9b6ff1a17124711f",
     "locked": true,
     "schema_version": 3,
     "solution": false,
     "task": false
    }
   },
   "outputs": [
    {
     "name": "stderr",
     "output_type": "stream",
     "text": [
      "'cat' is not recognized as an internal or external command,\n",
      "operable program or batch file.\n"
     ]
    }
   ],
   "source": [
    "##### Read the README file \n",
    "!cat ./datasets/README\n",
    "#####"
   ]
  },
  {
   "cell_type": "markdown",
   "metadata": {
    "deletable": false,
    "editable": false,
    "nbgrader": {
     "cell_type": "markdown",
     "checksum": "d6a5333ae8e7f69d81900e714cc43852",
     "grade": false,
     "grade_id": "cell-73351431869fda76",
     "locked": true,
     "schema_version": 3,
     "solution": false,
     "task": false
    }
   },
   "source": [
    "---\n",
    "We are interested in 4 files:\n",
    "- `cacm.all` : Contains the text for all documents. Note that some documents do not have abstracts available. \n",
    "- `query.text` : The text of all queries\n",
    "- `qrels.text` : The relevance judgements\n",
    "- `common_words` : A list of common words. This may be used as a collection of stopwords"
   ]
  },
  {
   "cell_type": "code",
   "execution_count": 129,
   "metadata": {
    "deletable": false,
    "editable": false,
    "nbgrader": {
     "cell_type": "code",
     "checksum": "c78e4256a08889ce3d0d985ea799b0a9",
     "grade": false,
     "grade_id": "cell-b44dd14079f278ca",
     "locked": true,
     "schema_version": 3,
     "solution": false,
     "task": false
    }
   },
   "outputs": [
    {
     "name": "stderr",
     "output_type": "stream",
     "text": [
      "'head' is not recognized as an internal or external command,\n",
      "operable program or batch file.\n"
     ]
    }
   ],
   "source": [
    "##### The first 45 lines of the CACM dataset forms the first record\n",
    "# We are interested only in 3 fields. \n",
    "# 1. the '.I' field, which is the document id\n",
    "# 2. the '.T' field (the title) and\n",
    "# 3. the '.W' field (the abstract, which may be absent)\n",
    "!head -45 ./datasets/cacm.all\n",
    "#####"
   ]
  },
  {
   "cell_type": "markdown",
   "metadata": {
    "deletable": false,
    "editable": false,
    "nbgrader": {
     "cell_type": "markdown",
     "checksum": "aff7cbe5a15a0e3329dc223e3e31abf3",
     "grade": false,
     "grade_id": "cell-c4bf2e263ec553d8",
     "locked": true,
     "schema_version": 3,
     "solution": false,
     "task": false
    }
   },
   "source": [
    "---\n",
    "\n",
    "**Implementation (4 points):**\n",
    "Write a function to read the `cacm.all` file. Note that each document has a variable number of lines. The `.I` field denotes a new document:"
   ]
  },
  {
   "cell_type": "code",
   "execution_count": 130,
   "metadata": {
    "deletable": false,
    "nbgrader": {
     "cell_type": "code",
     "checksum": "45fef5d5b543ee439176d7fd0a9d20be",
     "grade": false,
     "grade_id": "cell-b736116eb419c624",
     "locked": false,
     "schema_version": 3,
     "solution": true,
     "task": false
    }
   },
   "outputs": [],
   "source": [
    "def read_cacm_docs(root_folder = \"./datasets/\"):\n",
    "    \"\"\"\n",
    "        Reads in the CACM documents. The dataset is assumed to be in the folder \"./datasets/\" by default\n",
    "        Returns: A list of 2-tuples: (doc_id, document), where 'document' is a single string created by \n",
    "            appending the title and abstract (separated by a \"\\n\"). \n",
    "            In case the record doesn't have an abstract, the document is composed only by the title\n",
    "    \"\"\"\n",
    "    f = open(root_folder+\"cacm.all\", \"r\")\n",
    "    entries = [] \n",
    "    document = \"\"\n",
    "    doc_id = \"\"\n",
    "    doc = ()\n",
    "    for line in f:\n",
    "        if line.startswith(\".I\"):\n",
    "            doc_id = int(line.strip(\" .I\\n\"))\n",
    "        elif line.startswith(\".T\"):                            \n",
    "            \n",
    "            # Skip to the next line \n",
    "            document = next(f).strip()    \n",
    "            following = \"\"\n",
    "            \n",
    "            # Process the title and abstract with seperate requirements \n",
    "            while not(following.startswith(\".B\")):\n",
    "                if \".W\" in document:\n",
    "                    following = following.replace(\"\\n\", \" \")\n",
    "                document += \" \"+ following\n",
    "                following = next(f)  \n",
    "            document = document.replace(\".W\", \"\").replace(\"\\n \\n\",\" \").strip()\n",
    "        \n",
    "        # Add tuple to list if it is unique \n",
    "        elif doc and doc not in entries: \n",
    "            entries.append(tuple((doc_id, document)))\n",
    "        doc = tuple((doc_id, document))  \n",
    "    f.close()\n",
    "    \n",
    "    return entries"
   ]
  },
  {
   "cell_type": "code",
   "execution_count": 131,
   "metadata": {
    "deletable": false,
    "editable": false,
    "nbgrader": {
     "cell_type": "code",
     "checksum": "70472b5c277bb7c417de8da24e4e5261",
     "grade": true,
     "grade_id": "cell-a1c43818e0d3fd79",
     "locked": true,
     "points": 4,
     "schema_version": 3,
     "solution": false,
     "task": false
    }
   },
   "outputs": [],
   "source": [
    "##### Function check\n",
    "docs = read_cacm_docs()\n",
    "\n",
    "assert isinstance(docs, list)\n",
    "assert len(docs) == 3204, \"There should be exactly 3024 documents\"\n",
    "##### "
   ]
  },
  {
   "cell_type": "markdown",
   "metadata": {
    "deletable": false,
    "editable": false,
    "nbgrader": {
     "cell_type": "markdown",
     "checksum": "6fd095d2204cce3935444ca37c7c42da",
     "grade": false,
     "grade_id": "cell-5ed2ddc91f73c60e",
     "locked": true,
     "schema_version": 3,
     "solution": false,
     "task": false
    }
   },
   "source": [
    "---\n",
    "### 1.2 Read the CACM queries (3 points)\n",
    "\n",
    "Next, let us read the queries. They are formatted similarly:"
   ]
  },
  {
   "cell_type": "code",
   "execution_count": 132,
   "metadata": {
    "deletable": false,
    "editable": false,
    "nbgrader": {
     "cell_type": "code",
     "checksum": "5d26c0908e758acb9968b84056b1060a",
     "grade": false,
     "grade_id": "cell-5c7e8e7c4fc2757f",
     "locked": true,
     "schema_version": 3,
     "solution": false,
     "task": false
    }
   },
   "outputs": [
    {
     "name": "stderr",
     "output_type": "stream",
     "text": [
      "'head' is not recognized as an internal or external command,\n",
      "operable program or batch file.\n"
     ]
    }
   ],
   "source": [
    "##### The first 15 lines of 'query.text' has 2 queries\n",
    "# We are interested only in 2 fields. \n",
    "# 1. the '.I' - the query id\n",
    "# 2. the '.W' - the query\n",
    "!head -15 ./datasets/query.text\n",
    "#####"
   ]
  },
  {
   "cell_type": "markdown",
   "metadata": {
    "deletable": false,
    "editable": false,
    "nbgrader": {
     "cell_type": "markdown",
     "checksum": "da34d95924026ea55bf0a9b2070ec237",
     "grade": false,
     "grade_id": "cell-88e293507d2dcef6",
     "locked": true,
     "schema_version": 3,
     "solution": false,
     "task": false
    }
   },
   "source": [
    "---\n",
    "\n",
    "**Implementation (3 points):**\n",
    "Write a function to read the `query.text` file:"
   ]
  },
  {
   "cell_type": "code",
   "execution_count": 133,
   "metadata": {
    "deletable": false,
    "nbgrader": {
     "cell_type": "code",
     "checksum": "f98ac81b2ccb44fe3441e202e980c847",
     "grade": false,
     "grade_id": "cell-433e3ad5d0e2572a",
     "locked": false,
     "schema_version": 3,
     "solution": true,
     "task": false
    }
   },
   "outputs": [],
   "source": [
    "def read_queries(root_folder = \"./datasets/\"):\n",
    "    \"\"\"\n",
    "        Reads in the CACM queries. The dataset is assumed to be in the folder \"./datasets/\" by default\n",
    "        Returns: A list of 2-tuples: (query_id, query)\n",
    "    \"\"\"\n",
    "    f = open(root_folder+\"query.text\", \"r\")\n",
    "    queries = [] \n",
    "    query = \"\"\n",
    "    query_id = \"\"\n",
    "    doc = ()\n",
    "    for line in f:\n",
    "        if line.startswith(\".I\"):\n",
    "            query_id = int(line.strip(\" .I\\n\"))\n",
    "        elif line.startswith(\".W\"):\n",
    "\n",
    "            # Skip to the next line \n",
    "            query = next(f).strip()    \n",
    "            following = \"\"\n",
    "\n",
    "            # Check for long queries \n",
    "            while not(following.startswith(\".N\")):\n",
    "                query += \" \"+ following.strip()\n",
    "                following = next(f)    \n",
    "            query.strip()\n",
    "\n",
    "        # Add tuple to list if unique \n",
    "        elif doc and doc not in queries: \n",
    "            queries.append(tuple((query_id, query)))\n",
    "        doc = tuple((query_id, query))  \n",
    "    f.close()\n",
    "    \n",
    "    return queries "
   ]
  },
  {
   "cell_type": "code",
   "execution_count": 134,
   "metadata": {
    "deletable": false,
    "editable": false,
    "nbgrader": {
     "cell_type": "code",
     "checksum": "c0e7a9868bd4b92692c33732af640b8b",
     "grade": true,
     "grade_id": "cell-6ec540abce66c598",
     "locked": true,
     "points": 3,
     "schema_version": 3,
     "solution": false,
     "task": false
    }
   },
   "outputs": [],
   "source": [
    "##### Function check\n",
    "queries = read_queries()\n",
    "\n",
    "assert isinstance(queries, list)\n",
    "assert len(queries) == 64 and all([q[1] is not None for q in queries]), \"There should be exactly 64 queries\"\n",
    "##### "
   ]
  },
  {
   "cell_type": "markdown",
   "metadata": {
    "deletable": false,
    "editable": false,
    "nbgrader": {
     "cell_type": "markdown",
     "checksum": "652f9159caea63888e06b54103bd7f32",
     "grade": false,
     "grade_id": "cell-1c31569491d7b782",
     "locked": true,
     "schema_version": 3,
     "solution": false,
     "task": false
    }
   },
   "source": [
    "---\n",
    "### 1.3 Read the stop words (1 point)\n",
    "\n",
    "We use the common words stored in `common_words`:"
   ]
  },
  {
   "cell_type": "code",
   "execution_count": 135,
   "metadata": {
    "deletable": false,
    "editable": false,
    "nbgrader": {
     "cell_type": "code",
     "checksum": "1ad6f5bae6a792504c1c8513ae5751ad",
     "grade": false,
     "grade_id": "cell-34bdb63461418a96",
     "locked": true,
     "schema_version": 3,
     "solution": false,
     "task": false
    }
   },
   "outputs": [
    {
     "name": "stderr",
     "output_type": "stream",
     "text": [
      "'head' is not recognized as an internal or external command,\n",
      "operable program or batch file.\n"
     ]
    }
   ],
   "source": [
    "##### Read the stop words file \n",
    "!head ./datasets/common_words\n",
    "##### Read the README file "
   ]
  },
  {
   "cell_type": "markdown",
   "metadata": {
    "deletable": false,
    "editable": false,
    "nbgrader": {
     "cell_type": "markdown",
     "checksum": "f720edbacd79170351156a443e0018ff",
     "grade": false,
     "grade_id": "cell-4744bde0338895d8",
     "locked": true,
     "schema_version": 3,
     "solution": false,
     "task": false
    }
   },
   "source": [
    "---\n",
    "**Implementation (1 point):**\n",
    "Write a function to read the `common_words` file (For better coverage, try to keep them in lowercase):"
   ]
  },
  {
   "cell_type": "code",
   "execution_count": 136,
   "metadata": {
    "deletable": false,
    "nbgrader": {
     "cell_type": "code",
     "checksum": "e6a9e9bb3ad0f8dc2ec3c497a3149092",
     "grade": false,
     "grade_id": "cell-7357aa40f64e5bcb",
     "locked": false,
     "schema_version": 3,
     "solution": true,
     "task": false
    }
   },
   "outputs": [],
   "source": [
    "def load_stopwords(root_folder = \"./datasets/\"):\n",
    "    \"\"\"\n",
    "        Loads the stopwords. The dataset is assumed to be in the folder \"./datasets/\" by default\n",
    "        Output: A set of stopwords\n",
    "    \"\"\"\n",
    "    f = open(root_folder+\"common_words\", \"r\")\n",
    "    common_words = set()\n",
    "    for word in f: \n",
    "        word = word.strip().lower()\n",
    "        common_words.add(word)   \n",
    "    f.close()\n",
    "    \n",
    "    return common_words "
   ]
  },
  {
   "cell_type": "code",
   "execution_count": 137,
   "metadata": {
    "deletable": false,
    "editable": false,
    "nbgrader": {
     "cell_type": "code",
     "checksum": "9211b9735b828d89d1a51d8743c448b4",
     "grade": true,
     "grade_id": "cell-2ca3ac162004de97",
     "locked": true,
     "points": 1,
     "schema_version": 3,
     "solution": false,
     "task": false
    }
   },
   "outputs": [],
   "source": [
    "##### Function check\n",
    "stopwords = load_stopwords()\n",
    "\n",
    "assert isinstance(stopwords, set)\n",
    "assert len(stopwords) == 428, \"There should be exactly 428 stop words\"\n",
    "##### "
   ]
  },
  {
   "cell_type": "markdown",
   "metadata": {
    "deletable": false,
    "editable": false,
    "nbgrader": {
     "cell_type": "markdown",
     "checksum": "fc7e419f35dfd3f507d8a7555ce2cde9",
     "grade": false,
     "grade_id": "cell-134b72872f4300cb",
     "locked": true,
     "schema_version": 3,
     "solution": false,
     "task": false
    }
   },
   "source": [
    "---\n",
    "### 1.4 Tokenization (4 points)\n",
    "\n",
    "We can now write some basic text processing functions. \n",
    "A first step is to tokenize the text. \n",
    "\n",
    "**Note**: Use the  `WordPunctTokenizer` available in the `nltk` library:"
   ]
  },
  {
   "cell_type": "code",
   "execution_count": 138,
   "metadata": {
    "deletable": false,
    "nbgrader": {
     "cell_type": "code",
     "checksum": "3f5564d3c75bf22fbf832b3a9b938f37",
     "grade": false,
     "grade_id": "cell-322be4c9499bdc4b",
     "locked": false,
     "schema_version": 3,
     "solution": true,
     "task": false
    }
   },
   "outputs": [],
   "source": [
    "def tokenize(text):\n",
    "    \"\"\"\n",
    "        Tokenizes the input text. Use the WordPunctTokenizer\n",
    "        Input: text - a string\n",
    "        Output: a list of tokens\n",
    "    \"\"\"\n",
    "    tokens = nltk.WordPunctTokenizer().tokenize(text)\n",
    "    return tokens"
   ]
  },
  {
   "cell_type": "code",
   "execution_count": 139,
   "metadata": {
    "deletable": false,
    "editable": false,
    "nbgrader": {
     "cell_type": "code",
     "checksum": "f60b93aa03bf9eced64940252eb33fe3",
     "grade": true,
     "grade_id": "cell-7fbf48bf7541a622",
     "locked": true,
     "points": 4,
     "schema_version": 3,
     "solution": false,
     "task": false
    }
   },
   "outputs": [
    {
     "name": "stdout",
     "output_type": "stream",
     "text": [
      "['the', 'quick', 'brown', 'fox', 'jumps', 'over', 'the', 'lazy', 'dog']\n"
     ]
    }
   ],
   "source": [
    "##### Function check\n",
    "text = \"the quick brown fox jumps over the lazy dog\"\n",
    "tokens = tokenize(text)\n",
    "\n",
    "assert isinstance(tokens, list)\n",
    "assert len(tokens) == 9\n",
    "\n",
    "print(tokens)\n",
    "# output: ['the', 'quick', 'brown', 'fox', 'jumps', 'over', 'the', 'lazy', 'dog']\n",
    "#####"
   ]
  },
  {
   "cell_type": "markdown",
   "metadata": {
    "deletable": false,
    "editable": false,
    "nbgrader": {
     "cell_type": "markdown",
     "checksum": "1b1cc868db22735e5e193bc64ff67877",
     "grade": false,
     "grade_id": "cell-fd1b98ae61b697ca",
     "locked": true,
     "schema_version": 3,
     "solution": false,
     "task": false
    }
   },
   "source": [
    "---\n",
    "### 1.5 Stemming (3 points)\n",
    "\n",
    "Write a function to stem tokens. \n",
    "Again, you can use the nltk library for this:"
   ]
  },
  {
   "cell_type": "code",
   "execution_count": 140,
   "metadata": {
    "deletable": false,
    "nbgrader": {
     "cell_type": "code",
     "checksum": "1c4a6aa979d66158c7b6b992af43293a",
     "grade": false,
     "grade_id": "cell-e3f6c8e3f874b28d",
     "locked": false,
     "schema_version": 3,
     "solution": true,
     "task": false
    }
   },
   "outputs": [],
   "source": [
    "def stem_token(token):\n",
    "    \"\"\"\n",
    "        Stems the given token using the PorterStemmer from the nltk library\n",
    "        Input: a single token\n",
    "        Output: the stem of the token\n",
    "    \"\"\"\n",
    "    ps = nltk.PorterStemmer() \n",
    "    stem_token = ps.stem(token)\n",
    "    return stem_token"
   ]
  },
  {
   "cell_type": "code",
   "execution_count": 141,
   "metadata": {
    "deletable": false,
    "editable": false,
    "nbgrader": {
     "cell_type": "code",
     "checksum": "cd2611a46e7c2e92af438d7166cf2616",
     "grade": true,
     "grade_id": "cell-cd6863e6ee6ed205",
     "locked": true,
     "points": 3,
     "schema_version": 3,
     "solution": false,
     "task": false
    }
   },
   "outputs": [],
   "source": [
    "##### Function check\n",
    "\n",
    "assert stem_token('owned') == 'own'\n",
    "assert stem_token('itemization') == 'item'\n",
    "#####"
   ]
  },
  {
   "cell_type": "markdown",
   "metadata": {
    "deletable": false,
    "editable": false,
    "nbgrader": {
     "cell_type": "markdown",
     "checksum": "5fcc93f08a6abcaffd5bd9475e4768e5",
     "grade": false,
     "grade_id": "cell-47c9f90498699110",
     "locked": true,
     "schema_version": 3,
     "solution": false,
     "task": false
    }
   },
   "source": [
    "---\n",
    "### 1.6 Summary\n",
    "\n",
    "The following function puts it all together. Given a string, it tokenizes it and processes it according to the flags that you set."
   ]
  },
  {
   "cell_type": "code",
   "execution_count": 142,
   "metadata": {
    "deletable": false,
    "editable": false,
    "nbgrader": {
     "cell_type": "code",
     "checksum": "2ff2d215ee8e0039c5a91fd3de12e6bd",
     "grade": false,
     "grade_id": "cell-dd0d3f46b30801da",
     "locked": true,
     "schema_version": 3,
     "solution": false,
     "task": false
    }
   },
   "outputs": [],
   "source": [
    "#### Putting it all together\n",
    "def process_text(text, stem=False, remove_stopwords=False, lowercase_text=False):\n",
    "    \n",
    "    tokens = []\n",
    "    for token in tokenize(text):\n",
    "        if remove_stopwords and token.lower() in stopwords:\n",
    "            continue\n",
    "        if stem:\n",
    "            token = stem_token(token)\n",
    "        if lowercase_text:\n",
    "            token = token.lower()\n",
    "        tokens.append(token)\n",
    "\n",
    "    return tokens\n",
    "#### "
   ]
  },
  {
   "cell_type": "markdown",
   "metadata": {
    "deletable": false,
    "editable": false,
    "nbgrader": {
     "cell_type": "markdown",
     "checksum": "02d433b18eb43654fa4306a7bf55b190",
     "grade": false,
     "grade_id": "cell-8d885bfd2edd43ae",
     "locked": true,
     "schema_version": 3,
     "solution": false,
     "task": false
    }
   },
   "source": [
    "---\n",
    "\n",
    "Let's create two sets of preprocessed documents.\n",
    "We can process the documents and queries according to these two configurations:"
   ]
  },
  {
   "cell_type": "code",
   "execution_count": 143,
   "metadata": {
    "deletable": false,
    "editable": false,
    "nbgrader": {
     "cell_type": "code",
     "checksum": "dbe4ca667be6842fdcf512fbcad50c7f",
     "grade": false,
     "grade_id": "cell-d427365ee0fb21d8",
     "locked": true,
     "schema_version": 3,
     "solution": false,
     "task": false
    }
   },
   "outputs": [],
   "source": [
    "# In this configuration:\n",
    "# Don't preprocess the text, except to tokenize \n",
    "config_1 = {\n",
    "  \"stem\": False,\n",
    "  \"remove_stopwords\" : False,\n",
    "  \"lowercase_text\": True\n",
    "} \n",
    "\n",
    "\n",
    "# In this configuration:\n",
    "# Preprocess the text, stem and remove stopwords\n",
    "config_2 = {\n",
    "  \"stem\": True,\n",
    "  \"remove_stopwords\" : True,\n",
    "  \"lowercase_text\": True, \n",
    "} \n",
    "\n",
    "####\n",
    "doc_repr_1 = []\n",
    "doc_repr_2 = []\n",
    "for (doc_id, document) in docs:\n",
    "    doc_repr_1.append((doc_id, process_text(document, **config_1)))\n",
    "    doc_repr_2.append((doc_id, process_text(document, **config_2)))\n",
    "\n",
    "####"
   ]
  },
  {
   "cell_type": "markdown",
   "metadata": {
    "deletable": false,
    "editable": false,
    "nbgrader": {
     "cell_type": "markdown",
     "checksum": "b60589aac19e80941d860d9b3f1e9a16",
     "grade": false,
     "grade_id": "cell-b1c102db61ae7495",
     "locked": true,
     "schema_version": 3,
     "solution": false,
     "task": false
    }
   },
   "source": [
    "--- \n",
    "\n",
    "## Section 2: Indexing (10 points)<a class=\"anchor\" id=\"indexing\"></a>\n",
    "\n",
    "[Back to Part 1](#part1)\n",
    "\n",
    "\n",
    "\n",
    "A retrieval function usually takes in a query document pair, and scores a query against a document.  Our document set is quite small - just a few thousand documents. However, consider a web-scale dataset with a few million documents. In such a scenario, it would become infeasible to score every query and document pair. In such a case, we can build an inverted index. From Wikipedia:\n",
    "\n",
    "> ... , an inverted index (also referred to as a postings file or inverted file) is a database index storing a mapping from content, such as words or numbers, to its locations in a table, .... The purpose of an inverted index is to allow fast full-text searches, at a cost of increased processing when a document is added to the database. ...\n",
    "\n",
    "\n",
    "Consider a simple inverted index, which maps from word to document. This can improve the performance of a retrieval system significantly. In this assignment, we consider a *simple* inverted index, which maps a word to a set of documents. In practice, however, more complex indices might be used.  \n"
   ]
  },
  {
   "cell_type": "markdown",
   "metadata": {
    "deletable": false,
    "editable": false,
    "nbgrader": {
     "cell_type": "markdown",
     "checksum": "710fd943f45523ac36fcb887cc0d4d39",
     "grade": false,
     "grade_id": "cell-fa373192c1b7bb95",
     "locked": true,
     "schema_version": 3,
     "solution": false,
     "task": false
    }
   },
   "source": [
    "### 2.1 Term Frequency-index (10 points)\n",
    "In this assignment, we will be using an index created in memory since our dataset is tiny. To get started, build a simple index that maps each `token` to a list of `(doc_id, count)` where `count` is the count of the `token` in `doc_id`.\n",
    "For consistency, build this index using a python dictionary.\n",
    "    \n",
    "Now, implement a function to build an index:"
   ]
  },
  {
   "cell_type": "code",
   "execution_count": 144,
   "metadata": {
    "deletable": false,
    "nbgrader": {
     "cell_type": "code",
     "checksum": "c281c45196493b87e45e1b3fb4ddd6c9",
     "grade": false,
     "grade_id": "cell-077599b87e953209",
     "locked": false,
     "schema_version": 3,
     "solution": true,
     "task": false
    }
   },
   "outputs": [],
   "source": [
    "import collections \n",
    "\n",
    "def build_tf_index(documents):\n",
    "    \"\"\"\n",
    "        Build an inverted index (with counts). The output is a dictionary which takes in a token\n",
    "        and returns a list of (doc_id, count) where 'count' is the count of the 'token' in 'doc_id'\n",
    "        Input: a list of documents - (doc_id, tokens) \n",
    "        Output: An inverted index. [token] -> [(doc_id, token_count)]\n",
    "    \"\"\"\n",
    "    inv_index = collections.defaultdict(lambda : [])\n",
    "    \n",
    "    for document in documents:\n",
    "        \n",
    "        # Create dict to store token info for this document\n",
    "        hashtable = {}\n",
    "        doc_id = int(document[0])\n",
    "        \n",
    "        # Go through all tokens and count them\n",
    "        for token in document[1]:\n",
    "            \n",
    "            # Create element for dictionary or increase its count\n",
    "            if token not in hashtable:\n",
    "                hashtable[token] = 1\n",
    "            else:\n",
    "                hashtable[token] += 1\n",
    "                \n",
    "        # Go through tokens and append their count to the index\n",
    "        for token, count in hashtable.items():\n",
    "            if token not in inv_index:\n",
    "                inv_index[token] = []\n",
    "            inv_index[token].append((doc_id, count))\n",
    "            \n",
    "    return inv_index"
   ]
  },
  {
   "cell_type": "markdown",
   "metadata": {
    "deletable": false,
    "editable": false,
    "nbgrader": {
     "cell_type": "markdown",
     "checksum": "15e7041b4323d2a290322de538ff7670",
     "grade": false,
     "grade_id": "cell-093aebfa504f96f2",
     "locked": true,
     "schema_version": 3,
     "solution": false,
     "task": false
    }
   },
   "source": [
    "---\n",
    "Now we can build indexed documents and preprocess the queries based on the two configurations:"
   ]
  },
  {
   "cell_type": "code",
   "execution_count": 145,
   "metadata": {
    "deletable": false,
    "editable": false,
    "nbgrader": {
     "cell_type": "code",
     "checksum": "e27540c1d8d77a3779a05f557f3f40c6",
     "grade": false,
     "grade_id": "cell-b2ff1676348b90a8",
     "locked": true,
     "schema_version": 3,
     "solution": false,
     "task": false
    }
   },
   "outputs": [],
   "source": [
    "#### Indexed documents based on the two configs\n",
    "\n",
    "# Create the 2 indices\n",
    "tf_index_1 = build_tf_index(doc_repr_1)\n",
    "tf_index_2 = build_tf_index(doc_repr_2)\n",
    "\n",
    "# This function returns the tf_index of the corresponding config\n",
    "def get_index(index_set):\n",
    "    assert index_set in {1, 2}\n",
    "    return {\n",
    "        1: tf_index_1,\n",
    "        2: tf_index_2\n",
    "    }[index_set]\n",
    "\n",
    "####\n",
    "#### Preprocessed query based on the two configs\n",
    "\n",
    "# This function preprocesses the text given the index set, according to the specified config\n",
    "def preprocess_query(text, index_set):\n",
    "    assert index_set in {1, 2}\n",
    "    if index_set == 1:\n",
    "        return process_text(text, **config_1)\n",
    "    elif index_set == 2:\n",
    "        return process_text(text, **config_2)\n",
    "\n",
    "#### "
   ]
  },
  {
   "cell_type": "code",
   "execution_count": 146,
   "metadata": {
    "deletable": false,
    "editable": false,
    "nbgrader": {
     "cell_type": "code",
     "checksum": "2c50e4b4c68261ff1184277bcf3c38d8",
     "grade": true,
     "grade_id": "cell-fc7c7232d5d2ee46",
     "locked": true,
     "points": 5,
     "schema_version": 3,
     "solution": false,
     "task": false
    }
   },
   "outputs": [
    {
     "name": "stdout",
     "output_type": "stream",
     "text": [
      "[(4, 1), (7, 1), (10, 1), (13, 1), (19, 1), (22, 1), (23, 1), (37, 1), (40, 3), (41, 1)]\n"
     ]
    }
   ],
   "source": [
    "##### Function check\n",
    "\n",
    "print(tf_index_1['computer'][:10])\n",
    "#### "
   ]
  },
  {
   "cell_type": "code",
   "execution_count": 147,
   "metadata": {
    "deletable": false,
    "editable": false,
    "nbgrader": {
     "cell_type": "code",
     "checksum": "02de27463e2a393f46278d6fe3160481",
     "grade": true,
     "grade_id": "cell-ff06bd11204db250",
     "locked": true,
     "points": 5,
     "schema_version": 3,
     "solution": false,
     "task": false
    }
   },
   "outputs": [
    {
     "name": "stdout",
     "output_type": "stream",
     "text": [
      "[(670, 1), (675, 1), (1621, 3), (1681, 1), (2145, 1), (2339, 1), (2572, 1), (2583, 1), (2739, 1), (3012, 1)]\n"
     ]
    }
   ],
   "source": [
    "##### Function check\n",
    "\n",
    "print(tf_index_2['computer'][:10])\n",
    "#### "
   ]
  },
  {
   "cell_type": "markdown",
   "metadata": {
    "deletable": false,
    "editable": false,
    "nbgrader": {
     "cell_type": "markdown",
     "checksum": "982112dca3f9a75e871bea74fe1adab4",
     "grade": false,
     "grade_id": "cell-89eba71f04310291",
     "locked": true,
     "schema_version": 3,
     "solution": false,
     "task": false
    }
   },
   "source": [
    "\n",
    "---\n",
    "## Section 3: Ranking  (80 points) <a class=\"anchor\" id=\"ranking\"></a>\n",
    "\n",
    "[Back to Part 1](#part1)\n",
    "\n",
    "Now that we have cleaned and processed our dataset, we can start building simple IR systems. \n",
    "\n",
    "For now, we consider *simple* IR systems, which involve computing scores from the tokens present in the document/query. More advanced methods are covered in later assignments.\n",
    "\n",
    "We will implement the following methods in this section:\n",
    "- [Section 3.1: Bag of Words](#bow) (10 points)\n",
    "- [Section 3.2: TF-IDF](#tfidf) (15 points)\n",
    "- [Section 3.3: Query Likelihood Model](#qlm) (35 points)\n",
    "- [Section 3.4: BM25](#bm25) (20 points)\n",
    "\n",
    "**Scoring policy:**\n",
    "Your implementations in this section are scored based on the expected performance of your ranking functions.\n",
    "You will get a full mark if your implementation meets the expected performance (measured by some evaluation metric).\n",
    "Otherwise, you may get partial credit.\n",
    "For example, if your *Bag of words* ranking function has 60% of expected performance, you will get 4 out of 10."
   ]
  },
  {
   "cell_type": "markdown",
   "metadata": {
    "deletable": false,
    "editable": false,
    "nbgrader": {
     "cell_type": "markdown",
     "checksum": "97c13d2e2cad60df4a70dcb61ea7c30e",
     "grade": false,
     "grade_id": "cell-3daf70a60e393adf",
     "locked": true,
     "schema_version": 3,
     "solution": false,
     "task": false
    }
   },
   "source": [
    "--- \n",
    "\n",
    "### Section 3.1: Bag of Words (10 points)<a class=\"anchor\" id=\"bow\"></a>\n",
    "\n",
    "Probably the simplest IR model is the Bag of Words (BOW) model.\n",
    "Implement a function that scores and ranks all the documents against a query using this model.   \n",
    "\n",
    "Note that you can use either the count of the token or 'binarize' it i.e set the value equal to 1 if the token appears.   \n"
   ]
  },
  {
   "cell_type": "code",
   "execution_count": 148,
   "metadata": {
    "deletable": false,
    "nbgrader": {
     "cell_type": "code",
     "checksum": "1178c8a8908b0e4dc07add7aa49b7fde",
     "grade": false,
     "grade_id": "cell-de9cf0459c4b9324",
     "locked": false,
     "schema_version": 3,
     "solution": true,
     "task": false
    }
   },
   "outputs": [],
   "source": [
    "def bow_search(query, index_set):\n",
    "    \"\"\"\n",
    "        Perform a search over all documents with the given query. \n",
    "        Note: You have to use the `get_index` function created in the previous cells\n",
    "        Input: \n",
    "            query - a (unprocessed) query\n",
    "            index_set - the index to use\n",
    "        Output: a list of (document_id, score), sorted in descending relevance to the given query \n",
    "    \"\"\"\n",
    "    index = get_index(index_set)\n",
    "    processed_query = preprocess_query(query, index_set)\n",
    "    scores = collections.defaultdict(lambda : 0)\n",
    "    \n",
    "    for q in processed_query:\n",
    "        for doc, count in index[q]:\n",
    "            scores[doc] += count\n",
    "            \n",
    "    return [(d, float(s)) for d, s in sorted(scores.items(), key=lambda t: t[1], reverse=True)]"
   ]
  },
  {
   "cell_type": "code",
   "execution_count": 149,
   "metadata": {
    "deletable": false,
    "editable": false,
    "nbgrader": {
     "cell_type": "code",
     "checksum": "644d6d33cf5075c6d9878d4fe24c6213",
     "grade": true,
     "grade_id": "cell-9f6aceae6dd9125f",
     "locked": true,
     "points": 2,
     "schema_version": 3,
     "solution": false,
     "task": false
    }
   },
   "outputs": [
    {
     "name": "stdout",
     "output_type": "stream",
     "text": [
      "BOW Results:\n",
      "Rank 0(6.0): An Information Algebra - Phase I Report-Language  ...\n",
      "Rank 1(6.0): Rejuvenating Experimental Computer Science  \\n Thi...\n",
      "Rank 2(3.0): ALGOL 60 Confidential  \\n The ALGOL 60 Report,* wh...\n",
      "Rank 3(2.0): Automatic Abstracting and Indexing Survey and Reco...\n",
      "Rank 4(2.0): A String Language for Symbol Manipulation Based on...\n"
     ]
    }
   ],
   "source": [
    "#### Function check\n",
    "\n",
    "docs_by_id = dict(docs)\n",
    "def print_results(docs, len_limit=50):    \n",
    "    for i, (doc_id, score) in enumerate(docs):\n",
    "        doc_content = docs_by_id[doc_id].strip().replace(\"\\n\", \"\\\\n\")[:len_limit] + \"...\"\n",
    "        print(f\"Rank {i}({score:.2}): {doc_content}\")\n",
    "\n",
    "test_bow = bow_search(\"report\", index_set=1)[:5]\n",
    "print(f\"BOW Results:\")\n",
    "print_results(test_bow)\n",
    "#### "
   ]
  },
  {
   "cell_type": "code",
   "execution_count": 150,
   "metadata": {
    "deletable": false,
    "editable": false,
    "nbgrader": {
     "cell_type": "code",
     "checksum": "8d54c91b913d7a54b25f3358c969fa45",
     "grade": true,
     "grade_id": "cell-4eed3abf233d9b58",
     "locked": true,
     "points": 2,
     "schema_version": 3,
     "solution": false,
     "task": false
    }
   },
   "outputs": [],
   "source": [
    "#### Please do not change this. This cell is used for grading."
   ]
  },
  {
   "cell_type": "code",
   "execution_count": 151,
   "metadata": {
    "deletable": false,
    "editable": false,
    "nbgrader": {
     "cell_type": "code",
     "checksum": "58bcc16d36dc079b7f41f9572423c62b",
     "grade": true,
     "grade_id": "cell-4d65a2d7090c466c",
     "locked": true,
     "points": 3,
     "schema_version": 3,
     "solution": false,
     "task": false
    }
   },
   "outputs": [],
   "source": [
    "#### Please do not change this. This cell is used for grading."
   ]
  },
  {
   "cell_type": "code",
   "execution_count": 152,
   "metadata": {
    "deletable": false,
    "editable": false,
    "nbgrader": {
     "cell_type": "code",
     "checksum": "65e4561970c4eba3e5ce43b142f858af",
     "grade": true,
     "grade_id": "cell-dedf36ab5853ce20",
     "locked": true,
     "points": 3,
     "schema_version": 3,
     "solution": false,
     "task": false
    }
   },
   "outputs": [],
   "source": [
    "#### Please do not change this. This cell is used for grading."
   ]
  },
  {
   "cell_type": "markdown",
   "metadata": {
    "deletable": false,
    "editable": false,
    "nbgrader": {
     "cell_type": "markdown",
     "checksum": "a5c2318004c5ce534b67c7a36bbc7c31",
     "grade": false,
     "grade_id": "cell-a5c09c79ac1f2871",
     "locked": true,
     "schema_version": 3,
     "solution": false,
     "task": false
    }
   },
   "source": [
    "\n",
    "---\n",
    "\n",
    "### Section 3.2: TF-IDF (15 points) <a class=\"anchor\" id=\"tfidf\"></a>\n",
    "\n",
    "Before we implement the tf-idf scoring functions, let's first write a function to compute the document frequencies of all words.  \n",
    "\n",
    "#### 3.2.1 Document frequency (5 points)\n",
    "Compute the document frequencies of all tokens in the collection.  "
   ]
  },
  {
   "cell_type": "code",
   "execution_count": 153,
   "metadata": {
    "deletable": false,
    "nbgrader": {
     "cell_type": "code",
     "checksum": "11cdde77378ded394d7922fe36bbc5d1",
     "grade": false,
     "grade_id": "cell-9a2369f32e864b8a",
     "locked": false,
     "schema_version": 3,
     "solution": true,
     "task": false
    }
   },
   "outputs": [],
   "source": [
    "def compute_df(documents):\n",
    "    \"\"\"\n",
    "        Compute the document frequency of all terms in the vocabulary\n",
    "        Input: A list of documents\n",
    "        Output: A dictionary with {token: document frequency)\n",
    "    \"\"\"\n",
    "    df = dict()\n",
    "    for document in documents:\n",
    "        for token in set(document):\n",
    "            if token in df:\n",
    "                df[token] += 1\n",
    "            else:\n",
    "                df[token] = 1\n",
    "    return df"
   ]
  },
  {
   "cell_type": "code",
   "execution_count": 154,
   "metadata": {
    "deletable": false,
    "editable": false,
    "nbgrader": {
     "cell_type": "code",
     "checksum": "154985511d7925c5793a1f97dea81880",
     "grade": false,
     "grade_id": "cell-4c3bddd0b73ac90e",
     "locked": true,
     "schema_version": 3,
     "solution": false,
     "task": false
    }
   },
   "outputs": [],
   "source": [
    "#### Compute df based on the two configs\n",
    "\n",
    "# get the document frequencies of each document\n",
    "df_1 = compute_df([d[1] for d in doc_repr_1])\n",
    "df_2 = compute_df([d[1] for d in doc_repr_2])\n",
    "\n",
    "def get_df(index_set):\n",
    "    assert index_set in {1, 2}\n",
    "    return {\n",
    "        1: df_1,\n",
    "        2: df_2\n",
    "    }[index_set]\n",
    "####"
   ]
  },
  {
   "cell_type": "code",
   "execution_count": 155,
   "metadata": {
    "deletable": false,
    "editable": false,
    "nbgrader": {
     "cell_type": "code",
     "checksum": "110cc180068cf3f77c682ee3de2a117c",
     "grade": true,
     "grade_id": "cell-79e8a6db1e5fc46f",
     "locked": true,
     "points": 5,
     "schema_version": 3,
     "solution": false,
     "task": false
    }
   },
   "outputs": [
    {
     "name": "stdout",
     "output_type": "stream",
     "text": [
      "597\n",
      "11\n"
     ]
    }
   ],
   "source": [
    "#### Function check\n",
    "\n",
    "print(df_1['computer'])\n",
    "print(df_2['computer'])\n",
    "####"
   ]
  },
  {
   "cell_type": "markdown",
   "metadata": {
    "deletable": false,
    "editable": false,
    "nbgrader": {
     "cell_type": "markdown",
     "checksum": "6646996a2d016ef86e7cedd2f79a29d1",
     "grade": false,
     "grade_id": "cell-52f6acc487e1b96d",
     "locked": true,
     "schema_version": 3,
     "solution": false,
     "task": false
    }
   },
   "source": [
    "---\n",
    "#### 3.2.2 TF-IDF search (10 points)\n",
    "Next, implement a function that computes a tf-idf score given a query.      "
   ]
  },
  {
   "cell_type": "code",
   "execution_count": 156,
   "metadata": {
    "deletable": false,
    "nbgrader": {
     "cell_type": "code",
     "checksum": "b33c859693d1b383bcb53acea340027f",
     "grade": false,
     "grade_id": "cell-2fb5ba34b2994cd9",
     "locked": false,
     "schema_version": 3,
     "solution": true,
     "task": false
    }
   },
   "outputs": [],
   "source": [
    "# TODO: Implement this! (10 points)\n",
    "def tfidf_search(query, index_set):\n",
    "    \"\"\"\n",
    "        Perform a search over all documents with the given query using tf-idf. \n",
    "        Note #1: You have to use the `get_index` (and the `get_df`) function created in the previous cells\n",
    "        Input: \n",
    "            query - a (unprocessed) query\n",
    "            index_set - the index to use\n",
    "        Output: a list of (document_id, score), sorted in descending relevance to the given query \n",
    "    \"\"\"\n",
    "    index = get_index(index_set)\n",
    "    df = get_df(index_set)\n",
    "    processed_query = preprocess_query(query, index_set)\n",
    "    \n",
    "    # Make a set of all involved documents\n",
    "    documents = set([z[0] for z in [y for x in index.values() for y in x]])\n",
    "    \n",
    "    # Make dict of all involved documents, assign score to 0\n",
    "    tf = dict({key: 0 for key in documents})\n",
    "    \n",
    "    # Create new dict with Inverse document frequency\n",
    "    idf = {n: np.log(len(documents)/df[n]) for n in df.keys()}\n",
    "    \n",
    "    # Multiply tf * idf and sum to calculate score\n",
    "    for token in processed_query:\n",
    "        if token not in index.keys():\n",
    "            continue\n",
    "        for doc in index[token]:\n",
    "            tf[doc[0]] += doc[1]*idf[token]\n",
    "    \n",
    "    # Sort and return list\n",
    "    return sorted(tf.items(), key=lambda x:x[1], reverse=True)"
   ]
  },
  {
   "cell_type": "code",
   "execution_count": 157,
   "metadata": {
    "deletable": false,
    "editable": false,
    "nbgrader": {
     "cell_type": "code",
     "checksum": "10b9fd39f3c9a9f3ca274c020ad79323",
     "grade": true,
     "grade_id": "cell-bc68aeeacf42beb3",
     "locked": true,
     "points": 2,
     "schema_version": 3,
     "solution": false,
     "task": false
    }
   },
   "outputs": [
    {
     "name": "stdout",
     "output_type": "stream",
     "text": [
      "TFIDF Results:\n",
      "Rank 0(2.3e+01): An Information Algebra - Phase I Report-Language  ...\n",
      "Rank 1(2.3e+01): Rejuvenating Experimental Computer Science  \\n Thi...\n",
      "Rank 2(1.2e+01): ALGOL 60 Confidential  \\n The ALGOL 60 Report,* wh...\n",
      "Rank 3(7.8): Automatic Abstracting and Indexing Survey and Reco...\n",
      "Rank 4(7.8): A String Language for Symbol Manipulation Based on...\n"
     ]
    }
   ],
   "source": [
    "#### Function check\n",
    "test_tfidf = tfidf_search(\"report\", index_set=1)[:5]\n",
    "print(f\"TFIDF Results:\")\n",
    "print_results(test_tfidf)\n",
    "####"
   ]
  },
  {
   "cell_type": "code",
   "execution_count": 158,
   "metadata": {
    "deletable": false,
    "editable": false,
    "nbgrader": {
     "cell_type": "code",
     "checksum": "03441f97df9db4996d0f260fcc974e9d",
     "grade": true,
     "grade_id": "cell-c7702fa8179fadb9",
     "locked": true,
     "points": 2,
     "schema_version": 3,
     "solution": false,
     "task": false
    }
   },
   "outputs": [],
   "source": [
    "#### Please do not change this. This cell is used for grading."
   ]
  },
  {
   "cell_type": "code",
   "execution_count": 159,
   "metadata": {
    "deletable": false,
    "editable": false,
    "nbgrader": {
     "cell_type": "code",
     "checksum": "7272cfcbb457a74d23bfec1f85d22d5f",
     "grade": true,
     "grade_id": "cell-3284f50ac29abbaa",
     "locked": true,
     "points": 3,
     "schema_version": 3,
     "solution": false,
     "task": false
    }
   },
   "outputs": [],
   "source": [
    "#### Please do not change this. This cell is used for grading."
   ]
  },
  {
   "cell_type": "code",
   "execution_count": 160,
   "metadata": {
    "deletable": false,
    "editable": false,
    "nbgrader": {
     "cell_type": "code",
     "checksum": "fcbcc867713612b90395d653db8fd5e3",
     "grade": true,
     "grade_id": "cell-d908c80a3155354b",
     "locked": true,
     "points": 3,
     "schema_version": 3,
     "solution": false,
     "task": false
    }
   },
   "outputs": [],
   "source": [
    "#### Please do not change this. This cell is used for grading."
   ]
  },
  {
   "cell_type": "markdown",
   "metadata": {
    "deletable": false,
    "editable": false,
    "nbgrader": {
     "cell_type": "markdown",
     "checksum": "cdffc83f0eaea937cf64a212e7e9af8d",
     "grade": false,
     "grade_id": "cell-f5d923459ba21733",
     "locked": true,
     "schema_version": 3,
     "solution": false,
     "task": false
    }
   },
   "source": [
    "--- \n",
    "\n",
    "### Section 3.3: Query Likelihood Model (35 points) <a class=\"anchor\" id=\"qlm\"></a>\n",
    "\n",
    "In this section, you will implement a simple query likelihood model. \n",
    "\n",
    "\n",
    "#### 3.3.1 Naive QL (15 points)\n",
    "\n",
    "First, let us implement a naive version of a QL model, assuming a multinomial unigram language model (with a uniform prior over the documents). \n",
    "\n"
   ]
  },
  {
   "cell_type": "code",
   "execution_count": 161,
   "metadata": {
    "deletable": false,
    "editable": false,
    "nbgrader": {
     "cell_type": "code",
     "checksum": "b7ae2b7d818b428b4638c1c9206d2aca",
     "grade": false,
     "grade_id": "cell-98505778f7b68e7f",
     "locked": true,
     "schema_version": 3,
     "solution": false,
     "task": false
    }
   },
   "outputs": [],
   "source": [
    "#### Document length for normalization\n",
    "\n",
    "def doc_lengths(documents):\n",
    "    doc_lengths = {doc_id:len(doc) for (doc_id, doc) in documents}\n",
    "    return doc_lengths\n",
    "\n",
    "doc_lengths_1 = doc_lengths(doc_repr_1)\n",
    "doc_lengths_2 = doc_lengths(doc_repr_2)\n",
    "\n",
    "def get_doc_lengths(index_set):\n",
    "    assert index_set in {1, 2}\n",
    "    return {\n",
    "        1: doc_lengths_1,\n",
    "        2: doc_lengths_2\n",
    "    }[index_set]\n",
    "####"
   ]
  },
  {
   "cell_type": "code",
   "execution_count": 162,
   "metadata": {
    "deletable": false,
    "nbgrader": {
     "cell_type": "code",
     "checksum": "cedd08303a914243fefdb6b876977ca1",
     "grade": false,
     "grade_id": "cell-8bcf2b804d636c2e",
     "locked": false,
     "schema_version": 3,
     "solution": true,
     "task": false
    }
   },
   "outputs": [],
   "source": [
    "from collections import defaultdict\n",
    "\n",
    "def naive_ql_search(query, index_set):\n",
    "    \"\"\"\n",
    "        Perform a search over all documents with the given query using a naive QL model. \n",
    "        Note #1: You have to use the `get_index` (and get_doc_lengths) function created in the previous cells\n",
    "        Input: \n",
    "            query - a (unprocessed) query\n",
    "            index_set - the index to use\n",
    "        Output: a list of (document_id, score), sorted in descending relevance to the given query \n",
    "    \"\"\"\n",
    "    index = get_index(index_set)\n",
    "    doc_lengths = get_doc_lengths(index_set)\n",
    "    processed_query = preprocess_query(query, index_set)\n",
    "    \n",
    "    # Make a set of all involved documents\n",
    "    documents = set([z[0] for z in [y for x in index.values() for y in x]])\n",
    "    \n",
    "    # Specifiy defaultdict\n",
    "    scores = defaultdict(list)\n",
    "    \n",
    "    # For each term in query\n",
    "    for term in processed_query:\n",
    "        \n",
    "        # If term does not exist skip it \n",
    "        if term not in index:\n",
    "            continue\n",
    "        \n",
    "        # Collect al doc_ids from documents in which term occurs\n",
    "        in_docs = [x[0] for x in index[term]]\n",
    "        \n",
    "        # For every document\n",
    "        for document in documents:\n",
    "            \n",
    "            # If term occurs in this document append probability\n",
    "            if document in in_docs:            \n",
    "                scores[document].append((index[term][in_docs.index(document)][1]/doc_lengths[document]))\n",
    "                \n",
    "            # If term does not occur, append probability of 0\n",
    "            else:\n",
    "                scores[document].append(0)\n",
    "    \n",
    "    # Take product of all elements\n",
    "    scores.update({n: np.prod([float(y) for y in scores[n]]) for n in scores.keys()})\n",
    "    \n",
    "    # Sort and return list\n",
    "    return sorted(scores.items(), key=lambda x: x[1], reverse=True)"
   ]
  },
  {
   "cell_type": "code",
   "execution_count": 163,
   "metadata": {
    "deletable": false,
    "editable": false,
    "nbgrader": {
     "cell_type": "code",
     "checksum": "b550d15bdad28354c336020a00c33d56",
     "grade": true,
     "grade_id": "cell-5a83ac12ecde8578",
     "locked": true,
     "points": 3,
     "schema_version": 3,
     "solution": false,
     "task": false
    }
   },
   "outputs": [
    {
     "name": "stdout",
     "output_type": "stream",
     "text": [
      "Naive QL Results:\n",
      "Rank 0(0.2): A Report Writer For COBOL...\n",
      "Rank 1(0.2): A CRT Report Generating System...\n",
      "Rank 2(0.17): Preliminary Report-International Algebraic Languag...\n",
      "Rank 3(0.17): Supplement to the ALGOL 60 Report...\n",
      "Rank 4(0.14): ALGOL Sub-Committee Report - Extensions...\n"
     ]
    }
   ],
   "source": [
    "#### Function check\n",
    "test_naiveql = naive_ql_search(\"report\", index_set=1)[:5]\n",
    "print(f\"Naive QL Results:\")\n",
    "print_results(test_naiveql)\n",
    "####"
   ]
  },
  {
   "cell_type": "code",
   "execution_count": 165,
   "metadata": {},
   "outputs": [
    {
     "name": "stdout",
     "output_type": "stream",
     "text": [
      "Naive QL Results:\n",
      "Rank 0(1e-07): A Report Writer For COBOL...\n",
      "Rank 1(1e-07): A CRT Report Generating System...\n",
      "Rank 2(1.7e-08): Preliminary Report-International Algebraic Languag...\n",
      "Rank 3(1.7e-08): Supplement to the ALGOL 60 Report...\n",
      "Rank 4(3.5e-09): ALGOL Sub-Committee Report - Extensions...\n"
     ]
    }
   ],
   "source": [
    "#### Function check\n",
    "test_naiveql = naive_ql_search(\"report \" * 10, index_set=1)[:5]\n",
    "print(f\"Naive QL Results:\")\n",
    "print_results(test_naiveql)\n",
    "####"
   ]
  },
  {
   "cell_type": "code",
   "execution_count": 166,
   "metadata": {},
   "outputs": [
    {
     "name": "stdout",
     "output_type": "stream",
     "text": [
      "Naive QL Results:\n",
      "Rank 0(0.0046): Supplement to the ALGOL 60 Report...\n",
      "Rank 1(0.0): Preliminary Report-International Algebraic Languag...\n",
      "Rank 2(0.0): Extraction of Roots by Repeated Subtractions for D...\n",
      "Rank 3(0.0): Techniques Department on Matrix Program Schemes...\n",
      "Rank 4(0.0): Glossary of Computer Engineering and Programming T...\n"
     ]
    }
   ],
   "source": [
    "#### Function check\n",
    "test_naiveql = naive_ql_search(\"report ALGOL Supplement\", index_set=1)[:5]\n",
    "print(f\"Naive QL Results:\")\n",
    "print_results(test_naiveql)\n",
    "####"
   ]
  },
  {
   "cell_type": "code",
   "execution_count": 167,
   "metadata": {},
   "outputs": [
    {
     "name": "stdout",
     "output_type": "stream",
     "text": [
      "Naive QL Results:\n",
      "Rank 0(0.2): A Report Writer For COBOL...\n",
      "Rank 1(0.2): A CRT Report Generating System...\n",
      "Rank 2(0.17): Preliminary Report-International Algebraic Languag...\n",
      "Rank 3(0.17): Supplement to the ALGOL 60 Report...\n",
      "Rank 4(0.14): ALGOL Sub-Committee Report - Extensions...\n"
     ]
    }
   ],
   "source": [
    "#### Function check\n",
    "test_naiveql = naive_ql_search(\"report xxdfsdfwedfscx\", index_set=1)[:5]\n",
    "print(f\"Naive QL Results:\")\n",
    "print_results(test_naiveql)\n",
    "####"
   ]
  },
  {
   "cell_type": "code",
   "execution_count": 168,
   "metadata": {
    "deletable": false,
    "editable": false,
    "nbgrader": {
     "cell_type": "code",
     "checksum": "799df1d81c63fe90edbb6c218fc707fb",
     "grade": true,
     "grade_id": "cell-80f4bf2137f997bb",
     "locked": true,
     "points": 2,
     "schema_version": 3,
     "solution": false,
     "task": false
    }
   },
   "outputs": [],
   "source": [
    "#### Please do not change this. This cell is used for grading."
   ]
  },
  {
   "cell_type": "code",
   "execution_count": 169,
   "metadata": {
    "deletable": false,
    "editable": false,
    "nbgrader": {
     "cell_type": "code",
     "checksum": "875a4a517d27e20625d41783cebec118",
     "grade": true,
     "grade_id": "cell-5ce2993458a8ce51",
     "locked": true,
     "points": 3,
     "schema_version": 3,
     "solution": false,
     "task": false
    }
   },
   "outputs": [],
   "source": [
    "#### Please do not change this. This cell is used for grading."
   ]
  },
  {
   "cell_type": "code",
   "execution_count": 170,
   "metadata": {
    "deletable": false,
    "editable": false,
    "nbgrader": {
     "cell_type": "code",
     "checksum": "d5c4e1c3852e71a46f32825b122f1b71",
     "grade": true,
     "grade_id": "cell-7753bdb54e292f3d",
     "locked": true,
     "points": 3,
     "schema_version": 3,
     "solution": false,
     "task": false
    }
   },
   "outputs": [],
   "source": [
    "#### Please do not change this. This cell is used for grading."
   ]
  },
  {
   "cell_type": "code",
   "execution_count": 171,
   "metadata": {
    "deletable": false,
    "editable": false,
    "nbgrader": {
     "cell_type": "code",
     "checksum": "c4d4332d4356e89ce0240f6b80e1899a",
     "grade": true,
     "grade_id": "cell-54e476e2f96e64bb",
     "locked": true,
     "points": 4,
     "schema_version": 3,
     "solution": false,
     "task": false
    }
   },
   "outputs": [],
   "source": [
    "#### Please do not change this. This cell is used for grading."
   ]
  },
  {
   "cell_type": "markdown",
   "metadata": {
    "deletable": false,
    "editable": false,
    "nbgrader": {
     "cell_type": "markdown",
     "checksum": "8d739dc91a22bd48897f603885f95a74",
     "grade": false,
     "grade_id": "cell-5414dfd69dab8b94",
     "locked": true,
     "schema_version": 3,
     "solution": false,
     "task": false
    }
   },
   "source": [
    "---\n",
    "#### 3.3.2 QL (20 points)\n",
    "Now, let's implement a QL model that handles the issues with the naive version. In particular, you will implement a QL model with Jelinek-Mercer Smoothing. That means an interpolated score is computed per word - one term is the same as the previous naive version, and the second term comes from a unigram language model. In addition, you should accumulate the scores by summing the **log** (smoothed) probability which leads to better numerical stability."
   ]
  },
  {
   "cell_type": "code",
   "execution_count": 172,
   "metadata": {
    "deletable": false,
    "nbgrader": {
     "cell_type": "code",
     "checksum": "b8c6abf937ad333e628f1db891f2e29e",
     "grade": false,
     "grade_id": "cell-bb1f506409771257",
     "locked": false,
     "schema_version": 3,
     "solution": true,
     "task": false
    }
   },
   "outputs": [],
   "source": [
    "def ql_search(query, index_set):\n",
    "    \"\"\"\n",
    "        Perform a search over all documents with the given query using a QL model \n",
    "        with Jelinek-Mercer Smoothing (set smoothing=0.1). \n",
    "        \n",
    "        \n",
    "        Note #1: You have to use the `get_index` (and get_doc_lengths) function created in the previous cells\n",
    "        Note #2: You might have to create some variables beforehand and use them in this function\n",
    "        \n",
    "        \n",
    "        Input: \n",
    "            query - a (unprocessed) query\n",
    "            index_set - the index to use\n",
    "        Output: a list of (document_id, score), sorted in descending relevance to the given query \n",
    "    \"\"\"\n",
    "    index = get_index(index_set)\n",
    "    doc_lengths = get_doc_lengths(index_set)\n",
    "    processed_query = preprocess_query(query, index_set)\n",
    "    \n",
    "    # Collection length\n",
    "    cl = sum(doc_lengths.values())\n",
    "    \n",
    "    # Set smoothing\n",
    "    smoothing = 0.1\n",
    "    \n",
    "    # Make a set of all involved documents\n",
    "    documents = set([z[0] for z in [y for x in index.values() for y in x]])\n",
    "    \n",
    "    # Specifiy defaultdict\n",
    "    scores = defaultdict(list)\n",
    "    \n",
    "    # For each term in query\n",
    "    for term in processed_query:\n",
    "        \n",
    "        # If term does not exist in vocab assign 0\n",
    "        if term not in index:\n",
    "            continue\n",
    "            \n",
    "        # Collect al doc_ids from documents in which term occurs\n",
    "        in_docs = [x[0] for x in index[term]]\n",
    "            \n",
    "        # Collection frequency of term\n",
    "        cft = sum([x[1] for x in index[term]])\n",
    "        \n",
    "        # Second term of score, as this term is indep. of document\n",
    "        colfrac = (1-smoothing)*cft/cl\n",
    "        \n",
    "        # For every document\n",
    "        for document in documents:\n",
    "            \n",
    "            # If term occurs in this document append probability\n",
    "            if document in in_docs:            \n",
    "                scores[document].append(np.log((smoothing*(index[term][in_docs.index(document)][1]/doc_lengths[document]))\n",
    "                                       + colfrac))\n",
    "                \n",
    "            # If term does not occur in document, append second part of equation\n",
    "            else:\n",
    "                scores[document].append(np.log(colfrac))\n",
    "    \n",
    "    # Score equals the logsum of all probabilities\n",
    "    # Note: log(𝑎)+log(𝑏)=log(𝑎𝑏)\n",
    "    scores.update({n: np.sum([float(y) for y in scores[n]]) for n in scores.keys()})\n",
    "    \n",
    "    # Sort and return list\n",
    "    return sorted(scores.items(), key=lambda x: x[1], reverse=True)"
   ]
  },
  {
   "cell_type": "code",
   "execution_count": 173,
   "metadata": {
    "deletable": false,
    "editable": false,
    "nbgrader": {
     "cell_type": "code",
     "checksum": "0b12a7f3355193a257fd9f5f69a66562",
     "grade": true,
     "grade_id": "cell-850e9d6369bcec32",
     "locked": true,
     "points": 4,
     "schema_version": 3,
     "solution": false,
     "task": false
    }
   },
   "outputs": [
    {
     "name": "stdout",
     "output_type": "stream",
     "text": [
      "Rank 0(-3.9): A Report Writer For COBOL...\n",
      "Rank 1(-3.9): A CRT Report Generating System...\n",
      "Rank 2(-4.1): Preliminary Report-International Algebraic Languag...\n",
      "Rank 3(-4.1): Supplement to the ALGOL 60 Report...\n",
      "Rank 4(-4.2): ALGOL Sub-Committee Report - Extensions...\n",
      "\n",
      "Rank 0(-3.9e+01): A Report Writer For COBOL...\n",
      "Rank 1(-3.9e+01): A CRT Report Generating System...\n",
      "Rank 2(-4.1e+01): Preliminary Report-International Algebraic Languag...\n",
      "Rank 3(-4.1e+01): Supplement to the ALGOL 60 Report...\n",
      "Rank 4(-4.2e+01): ALGOL Sub-Committee Report - Extensions...\n"
     ]
    }
   ],
   "source": [
    "#### Function check\n",
    "test_ql_results = ql_search(\"report\", index_set=1)[:5]\n",
    "print_results(test_ql_results)\n",
    "print()\n",
    "test_ql_results_long = ql_search(\"report \" * 10, index_set=1)[:5]\n",
    "print_results(test_ql_results_long)\n",
    "####"
   ]
  },
  {
   "cell_type": "code",
   "execution_count": 174,
   "metadata": {},
   "outputs": [
    {
     "name": "stdout",
     "output_type": "stream",
     "text": [
      "Rank 0(-1.2e+01): Supplement to the ALGOL 60 Report...\n",
      "Rank 1(-2e+01): ALGOL Sub-Committee Report - Extensions...\n",
      "Rank 2(-2e+01): Report on SUBSET ALGOL 60 (IFIP)...\n",
      "Rank 3(-2.1e+01): Report on Input-Output Procedures for ALGOL 60 (IF...\n",
      "Rank 4(-2.2e+01): Report on the Algorithmic Language ALGOL 60  .A\\n ...\n"
     ]
    }
   ],
   "source": [
    "#### Function check\n",
    "test_ql_results_long = ql_search(\"report ALGOL Supplement\", index_set=1)[:5]\n",
    "print_results(test_ql_results_long)\n",
    "####"
   ]
  },
  {
   "cell_type": "code",
   "execution_count": 175,
   "metadata": {
    "deletable": false,
    "editable": false,
    "nbgrader": {
     "cell_type": "code",
     "checksum": "e40be645140389c115849856145f5b59",
     "grade": true,
     "grade_id": "cell-958cdcf6fd6899b7",
     "locked": true,
     "points": 3,
     "schema_version": 3,
     "solution": false,
     "task": false
    }
   },
   "outputs": [],
   "source": [
    "#### Please do not change this. This cell is used for grading."
   ]
  },
  {
   "cell_type": "code",
   "execution_count": 176,
   "metadata": {
    "deletable": false,
    "editable": false,
    "nbgrader": {
     "cell_type": "code",
     "checksum": "41d4aff001df17e7963ba79b45810b30",
     "grade": true,
     "grade_id": "cell-384dc23a0c251f6e",
     "locked": true,
     "points": 4,
     "schema_version": 3,
     "solution": false,
     "task": false
    }
   },
   "outputs": [],
   "source": [
    "#### Please do not change this. This cell is used for grading."
   ]
  },
  {
   "cell_type": "code",
   "execution_count": 177,
   "metadata": {
    "deletable": false,
    "editable": false,
    "nbgrader": {
     "cell_type": "code",
     "checksum": "893e8c5a073abc8ebb763d267b91bc02",
     "grade": true,
     "grade_id": "cell-7218966cba5097cc",
     "locked": true,
     "points": 4,
     "schema_version": 3,
     "solution": false,
     "task": false
    }
   },
   "outputs": [],
   "source": [
    "#### Please do not change this. This cell is used for grading."
   ]
  },
  {
   "cell_type": "code",
   "execution_count": 178,
   "metadata": {
    "deletable": false,
    "editable": false,
    "nbgrader": {
     "cell_type": "code",
     "checksum": "f99cb6f8b1f5830aaed8f06712ff846e",
     "grade": true,
     "grade_id": "cell-481ab073259ae53f",
     "locked": true,
     "points": 5,
     "schema_version": 3,
     "solution": false,
     "task": false
    }
   },
   "outputs": [],
   "source": [
    "#### Please do not change this. This cell is used for grading."
   ]
  },
  {
   "cell_type": "markdown",
   "metadata": {
    "deletable": false,
    "editable": false,
    "nbgrader": {
     "cell_type": "markdown",
     "checksum": "c02f14705d679579b1aa9f78f54779d5",
     "grade": false,
     "grade_id": "cell-f44088bfdac1dc90",
     "locked": true,
     "schema_version": 3,
     "solution": false,
     "task": false
    }
   },
   "source": [
    "--- \n",
    "\n",
    "### Section 3.4: BM25 (20 points) <a class=\"anchor\" id=\"bm25\"></a>\n",
    "\n",
    "In this section, we will implement the BM25 scoring function. \n"
   ]
  },
  {
   "cell_type": "code",
   "execution_count": 179,
   "metadata": {
    "deletable": false,
    "nbgrader": {
     "cell_type": "code",
     "checksum": "e57efe06ea92af1c83784a42eb3d86e0",
     "grade": false,
     "grade_id": "cell-15640fc9b5d00a3c",
     "locked": false,
     "schema_version": 3,
     "solution": true,
     "task": false
    }
   },
   "outputs": [],
   "source": [
    "def bm25_search(query, index_set):\n",
    "    \"\"\"\n",
    "        Perform a search over all documents with the given query using BM25. Use k_1 = 1.5 and b = 0.75\n",
    "        Note #1: You have to use the `get_index` (and `get_doc_lengths`) function created in the previous cells\n",
    "        Note #2: You might have to create some variables beforehand and use them in this function\n",
    "        \n",
    "        Input: \n",
    "            query - a (unprocessed) query\n",
    "            index_set - the index to use\n",
    "        Output: a list of (document_id, score), sorted in descending relevance to the given query \n",
    "    \"\"\"\n",
    "    index = get_index(index_set)\n",
    "    df = get_df(index_set)\n",
    "    doc_lengths = get_doc_lengths(index_set)\n",
    "    processed_query = preprocess_query(query, index_set)\n",
    "    \n",
    "    k_1 = 1.5\n",
    "    b = 0.75\n",
    "    N = len(doc_lengths)\n",
    "    avdl = sum(doc_lengths.values()) / N\n",
    "    \n",
    "    scores = dict({key: 0 for key in doc_lengths.keys()})\n",
    "    for token in processed_query:\n",
    "        inv_list = index[token]\n",
    "        for doc_id, tf in inv_list:\n",
    "            idf = np.log(N/df[token])\n",
    "            second_part = (k_1 * tf) / (k_1 * ((1 - b) + b * doc_lengths[doc_id] / avdl) + tf)\n",
    "            scores[doc_id] += idf * second_part\n",
    "            \n",
    "    return [(d, float(s)) for d, s in sorted(scores.items(), key=lambda t: t[1], reverse=True)]"
   ]
  },
  {
   "cell_type": "code",
   "execution_count": 180,
   "metadata": {
    "deletable": false,
    "editable": false,
    "nbgrader": {
     "cell_type": "code",
     "checksum": "4be9de5d4e94637960d83725422bea6c",
     "grade": true,
     "grade_id": "cell-d10536bca72c74b1",
     "locked": true,
     "points": 3,
     "schema_version": 3,
     "solution": false,
     "task": false
    }
   },
   "outputs": [
    {
     "name": "stdout",
     "output_type": "stream",
     "text": [
      "Rank 0(4.0): A Report Writer For COBOL...\n",
      "Rank 1(4.0): A CRT Report Generating System...\n",
      "Rank 2(4.0): Preliminary Report-International Algebraic Languag...\n",
      "Rank 3(4.0): Supplement to the ALGOL 60 Report...\n",
      "Rank 4(3.9): ALGOL Sub-Committee Report - Extensions...\n"
     ]
    }
   ],
   "source": [
    "#### Function check\n",
    "test_bm25_results = bm25_search(\"report\", index_set=1)[:5]\n",
    "print_results(test_bm25_results)\n",
    "####"
   ]
  },
  {
   "cell_type": "code",
   "execution_count": 181,
   "metadata": {
    "deletable": false,
    "editable": false,
    "nbgrader": {
     "cell_type": "code",
     "checksum": "31b550d6a46ae4f8ede88788799ac2b9",
     "grade": true,
     "grade_id": "cell-60f6ec5052712d79",
     "locked": true,
     "points": 5,
     "schema_version": 3,
     "solution": false,
     "task": false
    }
   },
   "outputs": [],
   "source": [
    "#### Please do not change this. This cell is used for grading."
   ]
  },
  {
   "cell_type": "code",
   "execution_count": 182,
   "metadata": {
    "deletable": false,
    "editable": false,
    "nbgrader": {
     "cell_type": "code",
     "checksum": "3da2ec16bfe781916e71755d65aa2983",
     "grade": true,
     "grade_id": "cell-5d17524043a5abcc",
     "locked": true,
     "points": 5,
     "schema_version": 3,
     "solution": false,
     "task": false
    }
   },
   "outputs": [],
   "source": [
    "#### Please do not change this. This cell is used for grading."
   ]
  },
  {
   "cell_type": "code",
   "execution_count": 183,
   "metadata": {
    "deletable": false,
    "editable": false,
    "nbgrader": {
     "cell_type": "code",
     "checksum": "e7b563d54fa84c20909c0ae107010541",
     "grade": true,
     "grade_id": "cell-ff8e704eda1184e3",
     "locked": true,
     "points": 3,
     "schema_version": 3,
     "solution": false,
     "task": false
    }
   },
   "outputs": [],
   "source": [
    "#### Please do not change this. This cell is used for grading."
   ]
  },
  {
   "cell_type": "code",
   "execution_count": 184,
   "metadata": {
    "deletable": false,
    "editable": false,
    "nbgrader": {
     "cell_type": "code",
     "checksum": "b013f90974b396630a8831d6f1d7e5f7",
     "grade": true,
     "grade_id": "cell-a52310500a2543cb",
     "locked": true,
     "points": 4,
     "schema_version": 3,
     "solution": false,
     "task": false
    }
   },
   "outputs": [],
   "source": [
    "#### Please do not change this. This cell is used for grading."
   ]
  },
  {
   "cell_type": "markdown",
   "metadata": {
    "deletable": false,
    "editable": false,
    "nbgrader": {
     "cell_type": "markdown",
     "checksum": "8fcf67cb7d5e8b26cb9bf1f0aa42c847",
     "grade": false,
     "grade_id": "cell-8b2b412c81d62f2d",
     "locked": true,
     "schema_version": 3,
     "solution": false,
     "task": false
    }
   },
   "source": [
    "\n",
    "---\n",
    "\n",
    "### 3.5. Test Your Functions\n",
    "\n",
    "The widget below allows you to play with the search functions you've written so far. Use this to test your search functions and ensure that they work as expected."
   ]
  },
  {
   "cell_type": "code",
   "execution_count": 185,
   "metadata": {
    "deletable": false,
    "editable": false,
    "nbgrader": {
     "cell_type": "code",
     "checksum": "dfeb204b390acc0794dbdcac92b0cf2c",
     "grade": false,
     "grade_id": "cell-c9c2bb76354e8d97",
     "locked": true,
     "schema_version": 3,
     "solution": false,
     "task": false
    }
   },
   "outputs": [],
   "source": [
    "#### Highlighter function\n",
    "# class for results\n",
    "ResultRow = namedtuple(\"ResultRow\", [\"doc_id\", \"snippet\", \"score\"])\n",
    "# doc_id -> doc\n",
    "docs_by_id = dict((d[0], d[1]) for d in docs)\n",
    "\n",
    "def highlight_text(document, query, tol=17):\n",
    "    import re\n",
    "    tokens = tokenize(query)\n",
    "    regex = \"|\".join(f\"(\\\\b{t}\\\\b)\" for t in tokens)\n",
    "    regex = re.compile(regex, flags=re.IGNORECASE)\n",
    "    output = \"\"\n",
    "    i = 0\n",
    "    for m in regex.finditer(document):\n",
    "        start_idx = max(0, m.start() - tol)\n",
    "        end_idx = min(len(document), m.end() + tol)\n",
    "        output += \"\".join([\"...\",\n",
    "                        document[start_idx:m.start()],\n",
    "                        \"<strong>\",\n",
    "                        document[m.start():m.end()],\n",
    "                        \"</strong>\",\n",
    "                        document[m.end():end_idx],\n",
    "                        \"...\"])\n",
    "    return output.replace(\"\\n\", \" \")\n",
    "\n",
    "\n",
    "def make_results(query, search_fn, index_set):\n",
    "    results = []\n",
    "    for doc_id, score in search_fn(query, index_set):\n",
    "        highlight = highlight_text(docs_by_id[doc_id], query)\n",
    "        if len(highlight.strip()) == 0:\n",
    "            highlight = docs_by_id[doc_id]\n",
    "        results.append(ResultRow(doc_id, highlight, score))\n",
    "    return results\n",
    "####"
   ]
  },
  {
   "cell_type": "code",
   "execution_count": 187,
   "metadata": {},
   "outputs": [
    {
     "data": {
      "application/vnd.jupyter.widget-view+json": {
       "model_id": "1ff4b1b55b72452395b53a4b1a062bcb",
       "version_major": 2,
       "version_minor": 0
      },
      "text/plain": [
       "Text(value='', description='Search Bar')"
      ]
     },
     "metadata": {},
     "output_type": "display_data"
    },
    {
     "name": "stdout",
     "output_type": "stream",
     "text": [
      "Searching for: 'math'\n"
     ]
    },
    {
     "data": {
      "text/html": [
       "<ul><li>Document #132(7.044655886901235): ...<strong>Math</strong> Sort (Algorithm ...</li><li>Document #2755(6.793350806786724): ...The New <strong>Math</strong> of Computer Prog...</li><li>Document #2802(2.8129408999369283): ...The New <strong>Math</strong> of Computer Prog...</li><li>Document #1(0.0): Preliminary Report-International Algebraic Language</li><li>Document #2(0.0): Extraction of Roots by Repeated Subtractions for Digital Computers</li></ul>"
      ],
      "text/plain": [
       "<IPython.core.display.HTML object>"
      ]
     },
     "metadata": {},
     "output_type": "display_data"
    }
   ],
   "source": [
    "# this function should take in a query (string)\n",
    "# and return a sorted list of (doc_id, score) \n",
    "# with the most relevant document in the first position\n",
    "search_fn = bm25_search\n",
    "index_set = 1\n",
    "\n",
    "text = widgets.Text(description=\"Search Bar\", width=200)\n",
    "display(text)\n",
    "\n",
    "def handle_submit(sender):\n",
    "    print(f\"Searching for: '{sender.value}'\")\n",
    "    \n",
    "    results = make_results(sender.value, search_fn, index_set)\n",
    "    \n",
    "    # display only the top 5\n",
    "    results = results[:5]\n",
    "    body = \"\"\n",
    "    for idx, r in enumerate(results):\n",
    "        body += f\"<li>Document #{r.doc_id}({r.score}): {r.snippet}</li>\"\n",
    "    display(HTML(f\"<ul>{body}</ul>\"))\n",
    "text.on_submit(handle_submit)"
   ]
  },
  {
   "cell_type": "markdown",
   "metadata": {
    "deletable": false,
    "editable": false,
    "nbgrader": {
     "cell_type": "markdown",
     "checksum": "b315c280048a50e8bad7d6250f6f39d1",
     "grade": false,
     "grade_id": "cell-8d46fe8e4f3d8cdb",
     "locked": true,
     "schema_version": 3,
     "solution": false,
     "task": false
    }
   },
   "source": [
    "---\n",
    "\n",
    "## Section 4: Evaluation (40 points) <a class=\"anchor\" id=\"evaluation\"></a>\n",
    "\n",
    "[Back to Part 1](#part1)\n",
    "\n",
    "Before we jump in and implement an algorithm for retrieval, we first have to learn how to evaluate such a system. In particular, we will work with offline evaluation metrics. These metrics are computed on a dataset with known relevance judgements.\n",
    "\n",
    "Implement the following evaluation metrics. \n",
    "\n",
    "1. Precision (7 points)\n",
    "2. Recall (7 points)\n",
    "3. Mean Average Precision (12 points)\n",
    "4. Expected Reciprocal Rank (12 points)"
   ]
  },
  {
   "cell_type": "markdown",
   "metadata": {
    "deletable": false,
    "editable": false,
    "nbgrader": {
     "cell_type": "markdown",
     "checksum": "82e90076c51893e31fec5c40c49d1828",
     "grade": false,
     "grade_id": "cell-3419fd3bc663d7cc",
     "locked": true,
     "schema_version": 3,
     "solution": false,
     "task": false
    }
   },
   "source": [
    "---\n",
    "### 4.1 Read relevance labels (2 points)\n",
    "\n",
    "Let's take a look at the `qrels.text` file, which contains the ground truth relevance scores. The relevance labels for CACM are binary - either 0 or 1. \n"
   ]
  },
  {
   "cell_type": "code",
   "execution_count": 188,
   "metadata": {
    "deletable": false,
    "editable": false,
    "nbgrader": {
     "cell_type": "code",
     "checksum": "6c11025f5a222796f2882c73c1634799",
     "grade": false,
     "grade_id": "cell-6b738366059dde9e",
     "locked": true,
     "schema_version": 3,
     "solution": false,
     "task": false
    }
   },
   "outputs": [
    {
     "name": "stderr",
     "output_type": "stream",
     "text": [
      "'head' is not recognized as an internal or external command,\n",
      "operable program or batch file.\n"
     ]
    }
   ],
   "source": [
    "!head ./datasets/qrels.text"
   ]
  },
  {
   "cell_type": "markdown",
   "metadata": {
    "deletable": false,
    "editable": false,
    "nbgrader": {
     "cell_type": "markdown",
     "checksum": "e77d7cc6aae69fdbadb5ac9f78f8a560",
     "grade": false,
     "grade_id": "cell-10e16bff2753ffbb",
     "locked": true,
     "schema_version": 3,
     "solution": false,
     "task": false
    }
   },
   "source": [
    "---\n",
    "**Implementation (2 points):**\n",
    "The first column is the query_id and the second column is the document_id. You can safely ignore the 3rd and 4th columns. Write a function to read in the file:"
   ]
  },
  {
   "cell_type": "code",
   "execution_count": 189,
   "metadata": {
    "deletable": false,
    "nbgrader": {
     "cell_type": "code",
     "checksum": "ef347565a0990ddbd049835105753d59",
     "grade": false,
     "grade_id": "cell-ee5253a4ef602fce",
     "locked": false,
     "schema_version": 3,
     "solution": true,
     "task": false
    }
   },
   "outputs": [],
   "source": [
    "def read_qrels(root_folder = \"./datasets/\"):\n",
    "    \"\"\"\n",
    "        Reads the qrels.text file. \n",
    "        Output: A dictionary: query_id -> [list of relevant documents]\n",
    "    \"\"\"\n",
    "    path = root_folder + \"qrels.text\"\n",
    "    queries = {}\n",
    "    \n",
    "    # Open and split document into lines\n",
    "    with open(path, 'r') as file:\n",
    "        q_list = file.read().splitlines()\n",
    "    \n",
    "    # Save each query and add relevant documents\n",
    "    for q in q_list:\n",
    "        query_id, document_id, _, _ = [int(i) for i in q.split()]\n",
    "        if query_id not in queries:\n",
    "            queries[query_id] = []\n",
    "        queries[query_id].append(document_id)\n",
    "        \n",
    "    return queries"
   ]
  },
  {
   "cell_type": "code",
   "execution_count": 190,
   "metadata": {
    "deletable": false,
    "editable": false,
    "nbgrader": {
     "cell_type": "code",
     "checksum": "6a258a834392cc8cbf8af5d4ccdee81f",
     "grade": true,
     "grade_id": "cell-72215605fbe24f65",
     "locked": true,
     "points": 2,
     "schema_version": 3,
     "solution": false,
     "task": false
    }
   },
   "outputs": [],
   "source": [
    "#### Function check\n",
    "qrels = read_qrels()\n",
    "\n",
    "assert len(qrels) == 52, \"There should be 52 queries with relevance judgements\"\n",
    "assert sum(len(j) for j in qrels.values()) == 796, \"There should be a total of 796 Relevance Judgements\"\n",
    "####"
   ]
  },
  {
   "cell_type": "markdown",
   "metadata": {
    "deletable": false,
    "editable": false,
    "nbgrader": {
     "cell_type": "markdown",
     "checksum": "6c9e7428a52e291a2cdf92a379730d4c",
     "grade": false,
     "grade_id": "cell-176a6fb2939d0420",
     "locked": true,
     "schema_version": 3,
     "solution": false,
     "task": false
    }
   },
   "source": [
    "---\n",
    "**Note:** For a given query `query_id`, you can assume that documents *not* in `qrels[query_id]` are not relevant to `query_id`. \n"
   ]
  },
  {
   "cell_type": "markdown",
   "metadata": {
    "deletable": false,
    "editable": false,
    "nbgrader": {
     "cell_type": "markdown",
     "checksum": "b26a818c7b4f7ad490e00b35ea0edd69",
     "grade": false,
     "grade_id": "cell-bd8341b72cdd89bb",
     "locked": true,
     "schema_version": 3,
     "solution": false,
     "task": false
    }
   },
   "source": [
    "---\n",
    "### 4.2 Precision (7 points)\n",
    "Implement the `precision@k` metric:"
   ]
  },
  {
   "cell_type": "code",
   "execution_count": 191,
   "metadata": {
    "deletable": false,
    "nbgrader": {
     "cell_type": "code",
     "checksum": "ad3cc3234a361d269ecb6b59cc447e9f",
     "grade": false,
     "grade_id": "cell-494bd0cce108ed67",
     "locked": false,
     "schema_version": 3,
     "solution": true,
     "task": false
    }
   },
   "outputs": [],
   "source": [
    "def precision_k(results, relevant_docs, k):\n",
    "    \"\"\"\n",
    "        Compute Precision@K\n",
    "        Input: \n",
    "            results: A sorted list of 2-tuples (document_id, score), \n",
    "                    with the most relevant document in the first position\n",
    "            relevant_docs: A set of relevant documents. \n",
    "            k: the cut-off\n",
    "        Output: Precision@K\n",
    "    \"\"\"\n",
    "    results = set([d[0] for d in results[:k]])\n",
    "    relevant_docs = set(relevant_docs)\n",
    "    TP = relevant_docs.intersection(results)\n",
    "    return len(TP) / k"
   ]
  },
  {
   "cell_type": "code",
   "execution_count": 192,
   "metadata": {
    "deletable": false,
    "editable": false,
    "nbgrader": {
     "cell_type": "code",
     "checksum": "964b214dbfff8fc53cada864019ee863",
     "grade": true,
     "grade_id": "cell-e7ff0d91c319ca64",
     "locked": true,
     "points": 7,
     "schema_version": 3,
     "solution": false,
     "task": false
    }
   },
   "outputs": [
    {
     "name": "stdout",
     "output_type": "stream",
     "text": [
      "query:What articles exist which deal with TSS (Time Sharing System), an  operating system for IBM computers?\n",
      "precision@10 = 0.2\n"
     ]
    }
   ],
   "source": [
    "#### Function check\n",
    "qid = queries[0][0]\n",
    "qtext = queries[0][1]\n",
    "print(f'query:{qtext}')\n",
    "results = bm25_search(qtext, 2)\n",
    "precision = precision_k(results, qrels[qid], 10)\n",
    "print(f'precision@10 = {precision}')\n",
    "####"
   ]
  },
  {
   "cell_type": "markdown",
   "metadata": {
    "deletable": false,
    "editable": false,
    "nbgrader": {
     "cell_type": "markdown",
     "checksum": "8fd3b3998197c7097a40348500affb68",
     "grade": false,
     "grade_id": "cell-afd95f865bc7191e",
     "locked": true,
     "schema_version": 3,
     "solution": false,
     "task": false
    }
   },
   "source": [
    "---\n",
    "### 4.3 Recall (7 points)\n",
    "Implement the `recall@k` metric:"
   ]
  },
  {
   "cell_type": "code",
   "execution_count": 193,
   "metadata": {
    "deletable": false,
    "nbgrader": {
     "cell_type": "code",
     "checksum": "b2020e5741ae03b3fe35817ed8f4ccaa",
     "grade": false,
     "grade_id": "cell-c323fc8c3f8a7cf8",
     "locked": false,
     "schema_version": 3,
     "solution": true,
     "task": false
    }
   },
   "outputs": [],
   "source": [
    "def recall_k(results, relevant_docs, k):\n",
    "    \"\"\"\n",
    "        Compute Recall@K\n",
    "        Input: \n",
    "            results: A sorted list of 2-tuples (document_id, score), with the most relevant document in the first position\n",
    "            relevant_docs: A set of relevant documents. \n",
    "            k: the cut-off\n",
    "        Output: Recall@K\n",
    "    \"\"\"\n",
    "    results = set([d[0] for d in results[:k]])\n",
    "    relevant_docs = set(relevant_docs)\n",
    "    TP = relevant_docs.intersection(results)\n",
    "    return len(TP) / len(relevant_docs)"
   ]
  },
  {
   "cell_type": "code",
   "execution_count": 194,
   "metadata": {
    "deletable": false,
    "editable": false,
    "nbgrader": {
     "cell_type": "code",
     "checksum": "56b6e0b8522f8b2dffbfb3206b2efa84",
     "grade": true,
     "grade_id": "cell-b25172161aef165c",
     "locked": true,
     "points": 7,
     "schema_version": 3,
     "solution": false,
     "task": false
    }
   },
   "outputs": [
    {
     "name": "stdout",
     "output_type": "stream",
     "text": [
      "query:SETL, Very High Level Languages \n",
      "recall@10 = 0.3157894736842105\n"
     ]
    }
   ],
   "source": [
    "#### Function check\n",
    "qid = queries[10][0]\n",
    "qtext = queries[10][1]\n",
    "print(f'query:{qtext}')\n",
    "results = bm25_search(qtext, 2)\n",
    "recall = recall_k(results, qrels[qid], 10)\n",
    "print(f'recall@10 = {recall}')\n",
    "####"
   ]
  },
  {
   "cell_type": "markdown",
   "metadata": {
    "deletable": false,
    "editable": false,
    "nbgrader": {
     "cell_type": "markdown",
     "checksum": "d43c63fa38f333e0b52d41639b2655f7",
     "grade": false,
     "grade_id": "cell-77fd2e7a39a74739",
     "locked": true,
     "schema_version": 3,
     "solution": false,
     "task": false
    }
   },
   "source": [
    "---\n",
    "### 4.4 Mean Average Precision (12 points)\n",
    "Implement the `map` metric:"
   ]
  },
  {
   "cell_type": "code",
   "execution_count": 195,
   "metadata": {
    "deletable": false,
    "nbgrader": {
     "cell_type": "code",
     "checksum": "aae2c62f2ffd76f5b6c004e9519b9f14",
     "grade": false,
     "grade_id": "cell-e50925fa9093a30d",
     "locked": false,
     "schema_version": 3,
     "solution": true,
     "task": false
    }
   },
   "outputs": [],
   "source": [
    "# TODO: Implement this! (12 points)\n",
    "def average_precision(results, relevant_docs):\n",
    "    \"\"\"\n",
    "        Compute Average Precision (for a single query - the results are \n",
    "        averaged across queries to get MAP in the next few cells)\n",
    "        Hint: You can use the recall_k and precision_k functions here!\n",
    "        Input: \n",
    "            results: A sorted list of 2-tuples (document_id, score), with the most \n",
    "                    relevant document in the first position\n",
    "            relevant_docs: A set of relevant documents. \n",
    "        Output: Average Precision\n",
    "    \"\"\"\n",
    "    ap = 0\n",
    "    found = 0\n",
    "    for i in range(len(results)):\n",
    "        \n",
    "        # Compute precisions at relevant documents\n",
    "        if results[i][0] in relevant_docs:\n",
    "            ap += precision_k(results, relevant_docs, i+1)\n",
    "            found += 1\n",
    "            \n",
    "        # Stop early in case we already found all relevant documents\n",
    "        if found > len(relevant_docs):\n",
    "            break\n",
    "            \n",
    "    return ap / len(relevant_docs)"
   ]
  },
  {
   "cell_type": "code",
   "execution_count": 196,
   "metadata": {
    "deletable": false,
    "editable": false,
    "nbgrader": {
     "cell_type": "code",
     "checksum": "5db8cb2dfd3a77554f4147b409f47f38",
     "grade": true,
     "grade_id": "cell-8a1f7ec98571e58b",
     "locked": true,
     "points": 12,
     "schema_version": 3,
     "solution": false,
     "task": false
    }
   },
   "outputs": [
    {
     "name": "stdout",
     "output_type": "stream",
     "text": [
      "query:computational complexity, intractability, class-complete reductions,  algorithms and efficiency\n",
      "MAP = 0.17240404110559454\n"
     ]
    }
   ],
   "source": [
    "#### Function check\n",
    "qid = queries[20][0]\n",
    "qtext = queries[20][1]\n",
    "print(f'query:{qtext}')\n",
    "results = bm25_search(qtext, 2)\n",
    "mean_ap = average_precision(results, qrels[qid])\n",
    "print(f'MAP = {mean_ap}')\n",
    "####"
   ]
  },
  {
   "cell_type": "markdown",
   "metadata": {
    "deletable": false,
    "editable": false,
    "nbgrader": {
     "cell_type": "markdown",
     "checksum": "cb645b79d04cc3eed33ca060a5e7bf0f",
     "grade": false,
     "grade_id": "cell-1da18f0fe6f6d7be",
     "locked": true,
     "schema_version": 3,
     "solution": false,
     "task": false
    }
   },
   "source": [
    "---\n",
    "### 4.5 Expected Reciprocal Rank (12 points)\n",
    "Implement the `err` metric:"
   ]
  },
  {
   "cell_type": "code",
   "execution_count": 197,
   "metadata": {
    "deletable": false,
    "nbgrader": {
     "cell_type": "code",
     "checksum": "9ac94db728e23ea1f5dc0d509473c6fb",
     "grade": false,
     "grade_id": "cell-64262889f9b267ea",
     "locked": false,
     "schema_version": 3,
     "solution": true,
     "task": false
    }
   },
   "outputs": [],
   "source": [
    "def err(results, relevant_docs):\n",
    "    \"\"\"\n",
    "        Compute the expected reciprocal rank.\n",
    "        Hint: https://dl.acm.org/doi/pdf/10.1145/1645953.1646033?download=true\n",
    "        Input: \n",
    "            results: A sorted list of 2-tuples (document_id, score), with the most \n",
    "                    relevant document in the first position\n",
    "            relevant_docs: A set of relevant documents. \n",
    "        Output: ERR\n",
    "        \n",
    "    \"\"\"\n",
    "    ERR = 0\n",
    "    \n",
    "    # Relevance probabilities are constant because of binary grading\n",
    "    # 0.5 for relevant documents and 0 for non-relevant ones\n",
    "    rel_prob = 0.5\n",
    "    rel_count = 0\n",
    "    for r in range(len(results)):\n",
    "        doc_id = results[r][0]\n",
    "        \n",
    "        # We only have to compute for relevant documents as\n",
    "        # non-relevant documents zero out the product\n",
    "        if doc_id in relevant_docs:\n",
    "            rel_count += 1\n",
    "            \n",
    "            # (1-0) = 1, so non-relevant documents don't matter\n",
    "            # (1-0.5) = 0.5, so all relevant documents worth the same as the r-th one\n",
    "            ERR += np.power(rel_prob, rel_count) / (r+1)\n",
    "            \n",
    "    return ERR"
   ]
  },
  {
   "cell_type": "code",
   "execution_count": 111,
   "metadata": {
    "deletable": false,
    "editable": false,
    "nbgrader": {
     "cell_type": "code",
     "checksum": "eb97e6d89a0b992b642e4e0ff36ff9f5",
     "grade": true,
     "grade_id": "cell-071e3970ff1afae4",
     "locked": true,
     "points": 12,
     "schema_version": 3,
     "solution": false,
     "task": false
    }
   },
   "outputs": [
    {
     "name": "stdout",
     "output_type": "stream",
     "text": [
      "query:I'd like to find articles describing the use of singular value decomposition  in digital image processing.  Applications include finding approximations to the original image and restoring images that are subject to noise. An article on the subject is H.C. Andrews and C.L. Patterson \"Outer product expansions and their uses in digital image processing\", American Mathematical Monthly, vol. 82. .A Andrews, H.C. Patterson, C.L.\n",
      "ERR = 0.625\n"
     ]
    }
   ],
   "source": [
    "#### Function check\n",
    "qid = queries[30][0]\n",
    "qtext = queries[30][1]\n",
    "print(f'query:{qtext}')\n",
    "results = bm25_search(qtext, 2)\n",
    "ERR = err(results, qrels[qid])\n",
    "print(f'ERR = {ERR}')\n",
    "####"
   ]
  },
  {
   "cell_type": "code",
   "execution_count": 198,
   "metadata": {},
   "outputs": [],
   "source": [
    "#### Function check\n",
    "sample_results = [(i,None) for i in [4,0,1,17,2,5,6,13,9,10,8,20,3,15,16]]\n",
    "sample_qrel = [1,8,5,13,15,2]\n",
    "assert precision_k(sample_results, sample_qrel, 1) == 0., \"precision_k should equal 0.\"\n",
    "assert precision_k(sample_results, sample_qrel, 5) == 0.4, \"precision_k should equal 0.4\"\n",
    "assert precision_k(sample_results, sample_qrel, 10) == 0.4, \"precision_k should equal 0.4\"\n",
    "assert precision_k(sample_results, sample_qrel, 20) == 0.3, \"precision_k should equal 0.3\"\n",
    "assert recall_k(sample_results, sample_qrel, 1) == 0., \"recall_k should equal 0.\"\n",
    "assert np.allclose(recall_k(sample_results, sample_qrel, 5), 1./3.)\n",
    "assert np.allclose(recall_k(sample_results, sample_qrel, 10), 2./3.)\n",
    "assert recall_k(sample_results, sample_qrel, 20) == 1.\n",
    "assert np.allclose(average_precision(sample_results, sample_qrel), 0.436, 0.001)\n",
    "assert np.allclose(err(sample_results, sample_qrel), 0.2492, 0.001)"
   ]
  },
  {
   "cell_type": "markdown",
   "metadata": {
    "deletable": false,
    "editable": false,
    "nbgrader": {
     "cell_type": "markdown",
     "checksum": "5bd94caf77cfa5f34675df758d91002d",
     "grade": false,
     "grade_id": "cell-43709a765f353946",
     "locked": true,
     "schema_version": 3,
     "solution": false,
     "task": false
    }
   },
   "source": [
    "---\n",
    "### 4.6 Evaluate Search Functions\n",
    "\n",
    "Let's define some metrics@k using [partial functions](https://docs.python.org/3/library/functools.html#functools.partial)"
   ]
  },
  {
   "cell_type": "code",
   "execution_count": 199,
   "metadata": {
    "deletable": false,
    "editable": false,
    "nbgrader": {
     "cell_type": "code",
     "checksum": "49ccc158e5fb7340ace55e90eeb9d62a",
     "grade": false,
     "grade_id": "cell-dab560e18e340da8",
     "locked": true,
     "schema_version": 3,
     "solution": false,
     "task": false
    }
   },
   "outputs": [],
   "source": [
    "#### metrics@k functions\n",
    "\n",
    "recall_at_1 = partial(recall_k, k=1)\n",
    "recall_at_5 = partial(recall_k, k=5)\n",
    "recall_at_10 = partial(recall_k, k=10)\n",
    "precision_at_1 = partial(precision_k, k=1)\n",
    "precision_at_5 = partial(precision_k, k=5)\n",
    "precision_at_10 = partial(precision_k, k=10)\n",
    "\n",
    "\n",
    "list_of_metrics = [\n",
    "    (\"ERR\", err),\n",
    "    (\"MAP\", average_precision),\n",
    "    (\"Recall@1\",recall_at_1),\n",
    "    (\"Recall@5\", recall_at_5),\n",
    "    (\"Recall@10\", recall_at_10),\n",
    "    (\"Precision@1\", precision_at_1),\n",
    "    (\"Precision@5\", precision_at_5),\n",
    "    (\"Precision@10\", precision_at_10)]\n",
    "####"
   ]
  },
  {
   "cell_type": "markdown",
   "metadata": {
    "deletable": false,
    "editable": false,
    "nbgrader": {
     "cell_type": "markdown",
     "checksum": "fb541002c03221b453b8936290020ea5",
     "grade": false,
     "grade_id": "cell-580a2bdc66d03b47",
     "locked": true,
     "schema_version": 3,
     "solution": false,
     "task": false
    }
   },
   "source": [
    "---\n",
    "\n",
    "The following function evaluates a `search_fn` using the `metric_fn`. Note that the final number is averaged over all the queries"
   ]
  },
  {
   "cell_type": "code",
   "execution_count": 200,
   "metadata": {},
   "outputs": [],
   "source": [
    "#### Evaluate a search function\n",
    "\n",
    "list_of_search_fns = [\n",
    "    (\"BOW\", bow_search),\n",
    "    (\"TF-IDF\", tfidf_search),\n",
    "    (\"NaiveQL\", naive_ql_search),\n",
    "    (\"QL\", ql_search),\n",
    "    (\"BM25\", bm25_search)\n",
    "]\n",
    "\n",
    "def evaluate_search_fn(search_fn, metric_fns, index_set=None):\n",
    "    # build a dict query_id -> query \n",
    "    queries_by_id = dict((q[0], q[1]) for q in queries)\n",
    "    \n",
    "    metrics = {}\n",
    "    for metric, metric_fn in metric_fns:\n",
    "        metrics[metric] = np.zeros(len(qrels), dtype=np.float32)\n",
    "    \n",
    "    for i, (query_id, relevant_docs) in enumerate(qrels.items()):\n",
    "        query = queries_by_id[query_id]\n",
    "        if index_set:\n",
    "            results = search_fn(query, index_set)\n",
    "        else:\n",
    "            results = search_fn(query)\n",
    "        \n",
    "        for metric, metric_fn in metric_fns:\n",
    "            metrics[metric][i] = metric_fn(results, relevant_docs)\n",
    "    \n",
    "    final_dict = {}\n",
    "    for metric, metric_vals in metrics.items():\n",
    "        final_dict[metric] = metric_vals.mean()\n",
    "    return final_dict\n",
    "####"
   ]
  },
  {
   "cell_type": "markdown",
   "metadata": {
    "deletable": false,
    "editable": false,
    "nbgrader": {
     "cell_type": "markdown",
     "checksum": "6ea67534f74a8f81e1f504794f641709",
     "grade": false,
     "grade_id": "cell-b156d83a0649cbb4",
     "locked": true,
     "schema_version": 3,
     "solution": false,
     "task": false
    }
   },
   "source": [
    "## Section 5: Analysis (30 points) <a class=\"anchor\" id=\"analysis\"></a>\n",
    "\n",
    "[Back to Part 1](#part1)\n",
    "\n",
    "In the final section of Part1, we will compare the different term-based IR algorithms and different preprocessing configurations and analyze their advantages and disadvantages.\n",
    "\n",
    "### Section 5.1: Plot (20 points)\n",
    "\n",
    "First, gather the results. The results should consider the index set, the different search functions and different metrics. Plot the results in bar charts, per metric, with clear labels.\n",
    "\n",
    "**Rubric:**\n",
    "- Each Metric is plotted: 7 points\n",
    "- Each Method is plotted: 7 points\n",
    "- Clear titles, x label, y labels and legends (if applicable): 6 points"
   ]
  },
  {
   "cell_type": "code",
   "execution_count": 201,
   "metadata": {
    "deletable": false,
    "nbgrader": {
     "cell_type": "code",
     "checksum": "7e2588a925d13ddf588abe8311dc9cfc",
     "grade": true,
     "grade_id": "cell-46fda42a25863a04",
     "locked": false,
     "points": 20,
     "schema_version": 3,
     "solution": true,
     "task": false
    },
    "scrolled": true
   },
   "outputs": [
    {
     "data": {
      "image/png": "[encoded data removed]",
      "text/plain": [
       "<Figure size 432x288 with 1 Axes>"
      ]
     },
     "metadata": {
      "needs_background": "light"
     },
     "output_type": "display_data"
    },
    {
     "data": {
      "image/png": "[encoded data removed]",
      "text/plain": [
       "<Figure size 432x288 with 1 Axes>"
      ]
     },
     "metadata": {
      "needs_background": "light"
     },
     "output_type": "display_data"
    },
    {
     "data": {
      "image/png": "[encoded data removed]",
      "text/plain": [
       "<Figure size 432x288 with 1 Axes>"
      ]
     },
     "metadata": {
      "needs_background": "light"
     },
     "output_type": "display_data"
    },
    {
     "name": "stderr",
     "output_type": "stream",
     "text": [
      "c:\\users\\sarah-jane\\documents\\infovis\\lib\\site-packages\\ipykernel_launcher.py:58: RuntimeWarning: divide by zero encountered in log\n"
     ]
    },
    {
     "data": {
      "image/png": "[encoded data removed]",
      "text/plain": [
       "<Figure size 432x288 with 1 Axes>"
      ]
     },
     "metadata": {
      "needs_background": "light"
     },
     "output_type": "display_data"
    },
    {
     "data": {
      "image/png": "[encoded data removed]",
      "text/plain": [
       "<Figure size 432x288 with 1 Axes>"
      ]
     },
     "metadata": {
      "needs_background": "light"
     },
     "output_type": "display_data"
    }
   ],
   "source": [
    "import pandas as pd\n",
    "\n",
    "index = [\"ERR\",\"MAP\",\"Recall@1\",\"Recall@5\",\"Recall@10\", \"Precision@1\",\n",
    "         \"Precision@5\",\"Precision@10\"]\n",
    "xlabel = \"Metrics\"\n",
    "ylabel = \"Probability (in decimals)\"\n",
    "\n",
    "for method in list_of_search_fns:\n",
    "    plotdata = pd.DataFrame({\n",
    "    \"Index set 1\": evaluate_search_fn(method[1], list_of_metrics, index_set=1),\n",
    "    \"Index set 2\": evaluate_search_fn(method[1], list_of_metrics, index_set=2),\n",
    "    }, \n",
    "    index=index\n",
    "    )\n",
    "    plotdata.plot(kind=\"bar\")\n",
    "    plt.title(method[0])\n",
    "    plt.xlabel(xlabel)\n",
    "    plt.ylabel(ylabel)\n",
    "    plt.show()"
   ]
  },
  {
   "cell_type": "markdown",
   "metadata": {
    "deletable": false,
    "editable": false,
    "nbgrader": {
     "cell_type": "markdown",
     "checksum": "e88c444a0acf4e398c65e289169b75f7",
     "grade": false,
     "grade_id": "cell-8aabe3bcf265deb0",
     "locked": true,
     "points": 10,
     "schema_version": 3,
     "solution": false,
     "task": true
    }
   },
   "source": [
    "---\n",
    "### Section 5.2: Summary (10 points)\n",
    "Write a summary of what you observe in the results.\n",
    "Your summary should compare results across the 2 indices and the methods being used. State what you expected to see in the results, followed by either supporting evidence *or* justify why the results did not support your expectations.      "
   ]
  },
  {
   "cell_type": "markdown",
   "metadata": {},
   "source": [
    "In general, we expect index set 1 to have significant lower probability scores than index set 2 because, the text in index set 1 (except from tokenization) has not been pre-processed. Pre-processing involved converting terms to their stems (stemming) and removing stop words which allows methods to perform better. This belief is supported by our results, that show that for every method and metric, index 2 performs relatively better. \n",
    "\n",
    "We expect **BOW** to have the lowest probability scoring because it only ranks based on term frequency (*TF*). However, if a term occurs in a lot of documents it’s not representative. **TF-IDF**, takes this in consideration by multiplying the term frequency in a document with the *IDF* function (inverse document frequency), which measures how rare the term is over all documents. Hence this  evaluation scores relatively higher. This claim is supported by the plots in which the probabilities have higher values for *TF-IDF* with (some) probabilities in the 15%-30% range compared to **BOW** with all evaluations under 12%.\n",
    "\n",
    "In contrast, **naïve QL** evaluation will be lower in comparison to **BOW** and **TF-IDF**, since all documents that not contain a term of the query are discarded with a score of zero. Alternatively, **QL** accounts for zero term frequency which is why the probabilities in this method will be higher in comparison to **BOW** and **naïve QL**, but not for **TF-IDF** because this method considers representativeness which QL does not. This belief is supported by the results, as **naïve QL** scores, for most metrics scores under 8% while **QL** scores as high as 35%. \n",
    "\n",
    "Similar to **TF-IDF**, the method: **BM25** (BM stands for Best Match) measures the rareness of term frequency with *IDF*. The difference is that **BM25** controls the contribution of *TF* to the score to minimize the impact of more term occurrences to the score. Essentially, BM25 improves the scoring and will have a significant higher evaluation in comparison. This claim is justified by the results, as **BM25** metrics, in most cases are higher than 30% as high as 50%. In comparison, the highest metric probability for **TF-IDF** was 35% "
   ]
  },
  {
   "cell_type": "markdown",
   "metadata": {
    "deletable": false,
    "editable": false,
    "nbgrader": {
     "cell_type": "markdown",
     "checksum": "b3eb77be74eecca205fc7b47316d1627",
     "grade": false,
     "grade_id": "cell-bb60dd5c092d0f2e",
     "locked": true,
     "schema_version": 3,
     "solution": false,
     "task": false
    }
   },
   "source": [
    "---\n",
    "---\n",
    "# Part 2: Semantic-based Matching (85 points) <a class=\"anchor\" id=\"part2\"></a>\n",
    "\n",
    "[Back to top](#top)\n",
    "\n",
    "We will now experiment with methods that go beyond lexical methods like TF-IDF, which operate at the word level and are high dimensional and sparse, and look at methods which constructs low dimensional dense representations of queries and documents. \n",
    "\n",
    "Since these low-dimensional methods have a higher time complexity, they are typically used in conjunction with methods like BM-25. That is, instead of searching through potentially million documents to find matches using low dimensional vectors, a list of K documents are retrieved using BM25, and then **re-ranked** using the other method. This is the method that is going to be applied in the following exercises. \n",
    "\n",
    "LSI/LDA takes documents that are similar on a semantic level - for instance, if they are describing the same topic - and projects them into nearby vectors, despite having low lexical overlap.\n",
    "\n",
    "In this assignment, you will use `gensim` to create LSI/LDA models and use them in re-ranking. \n",
    "\n",
    "**Note**: The following exercises only uses `doc_repr_2` and `config_2`\n",
    "\n",
    "Table of contents:\n",
    "- [Section 6: LSI](#lsi) (15 points)\n",
    "- [Section 7: LDA](#lda) (10 points)\n",
    "- [Section 8: Word2Vec/Doc2Vec](#2vec) (20 points)\n",
    "- [Section 8: Re-ranking](#reranking) (10 points)\n",
    "- [Section 9: Re-ranking Evaluation](#reranking_eval) (30 points)"
   ]
  },
  {
   "cell_type": "markdown",
   "metadata": {
    "deletable": false,
    "editable": false,
    "nbgrader": {
     "cell_type": "markdown",
     "checksum": "f7c7b2cab82f576ed0acf836ca57171c",
     "grade": false,
     "grade_id": "cell-6b2c81e7a8abd180",
     "locked": true,
     "schema_version": 3,
     "solution": false,
     "task": false
    }
   },
   "source": [
    "---\n",
    "## Section 6: Latent Semantic Indexing (LSI) (15 points) <a class=\"anchor\" id=\"lsi\"></a>\n",
    "\n",
    "[Back to Part 2](#part2)\n",
    "\n",
    "LSI is one of the methods to embed the queries and documents into vectors. It is based on a method similar to Principal Component Analysis (PCA) for obtaining a dense concept matrix out of the sparse term-document matrix.\n",
    "\n",
    "See [wikipedia](https://en.wikipedia.org/wiki/Latent_semantic_analysis), particularly [#Mathematics_of_LSI](https://en.wikipedia.org/wiki/Latent_semantic_analysis#Mathematics_of_LSI)."
   ]
  },
  {
   "cell_type": "code",
   "execution_count": 202,
   "metadata": {
    "deletable": false,
    "editable": false,
    "nbgrader": {
     "cell_type": "code",
     "checksum": "c17ee75319cb517e2bf48ec3d9efc329",
     "grade": false,
     "grade_id": "cell-59913daee47f680d",
     "locked": true,
     "schema_version": 3,
     "solution": false,
     "task": false
    }
   },
   "outputs": [],
   "source": [
    "from gensim.corpora import Dictionary\n",
    "from gensim.models import LdaModel, LsiModel, Word2Vec\n",
    "from gensim.models.doc2vec import Doc2Vec, TaggedDocument\n",
    "from gensim import downloader as g_downloader\n",
    "# gensim uses logging, so set it up \n",
    "import logging\n",
    "logging.basicConfig(format='%(asctime)s : %(levelname)s : %(message)s', level=logging.INFO)"
   ]
  },
  {
   "cell_type": "markdown",
   "metadata": {
    "deletable": false,
    "editable": false,
    "nbgrader": {
     "cell_type": "markdown",
     "checksum": "5fce140c546759b54a9fc060901ae77c",
     "grade": false,
     "grade_id": "cell-3644faff4976598a",
     "locked": true,
     "schema_version": 3,
     "solution": false,
     "task": false
    }
   },
   "source": [
    "---\n",
    "### Section 6.1: Cosine Similarity (5 points)<a class=\"anchor\" id=\"cosing_sim\"></a>\n",
    "Before we begin, let us first define our method of similarity for the LSI model, the cosine similarity:\n",
    "\n",
    "$$\\text{similarity} = \\cos(\\theta) = {\\mathbf{A} \\cdot \\mathbf{B} \\over \\|\\mathbf{A}\\| \\|\\mathbf{B}\\|} = \\frac{ \\sum\\limits_{i=1}^{n}{A_i  B_i} }{ \\sqrt{\\sum\\limits_{i=1}^{n}{A_i^2}}  \\sqrt{\\sum\\limits_{i=1}^{n}{B_i^2}} }$$\n",
    "\n",
    "Since we are using gensim, the types of vectors returned by their classes are of the form defined below (they are not just simple vectors):"
   ]
  },
  {
   "cell_type": "code",
   "execution_count": 203,
   "metadata": {
    "deletable": false,
    "editable": false,
    "nbgrader": {
     "cell_type": "code",
     "checksum": "4e340e1a1d546f430c018fd0760e707a",
     "grade": false,
     "grade_id": "cell-3995a50f951314d5",
     "locked": true,
     "schema_version": 3,
     "solution": false,
     "task": false
    }
   },
   "outputs": [],
   "source": [
    "# 1, 2, 3 are either latent dimensions (LSI), or topics (LDA)\n",
    "# The second value in each tuple is a number (LSI) or a probability (LDA)  \n",
    "example_vec_1 = [(1, 0.2), (2, 0.3), (3, 0.4)]\n",
    "example_vec_2 = [(1, 0.2), (2, 0.7), (3, 0.4)]"
   ]
  },
  {
   "cell_type": "markdown",
   "metadata": {
    "deletable": false,
    "editable": false,
    "nbgrader": {
     "cell_type": "markdown",
     "checksum": "20832fd4f579f49ae204b0efee02edd1",
     "grade": false,
     "grade_id": "cell-5e54d581858dc8f7",
     "locked": true,
     "schema_version": 3,
     "solution": false,
     "task": false
    }
   },
   "source": [
    "---\n",
    "**Implementation (2+3 points):**\n",
    "Now, implement the `dot product` operation on these types of vectors and using this operator, implement the `cosine similarity` (don't forget: two functions to implement!):"
   ]
  },
  {
   "cell_type": "code",
   "execution_count": 204,
   "metadata": {
    "deletable": false,
    "nbgrader": {
     "cell_type": "code",
     "checksum": "06a712ee75fc213a21c5f0067fd8fe28",
     "grade": false,
     "grade_id": "cell-0e8189f5f93de33f",
     "locked": false,
     "schema_version": 3,
     "solution": true,
     "task": false
    }
   },
   "outputs": [],
   "source": [
    "# TODO: Implement this! (2 points)\n",
    "def dot(vec_1,vec_2): \n",
    "    \"\"\"\n",
    "        vec_1 and vec_2 are of the form: [(int, float), (int, float), ...]\n",
    "        Return the dot product of two such vectors, computed only on the floats\n",
    "        You can assume that the lengths of the vectors are the same, and the dimensions are aligned \n",
    "            i.e you won't get: vec_1 = [(1, 0.2)] ; vec_2 = [(2, 0.3)] \n",
    "                                (dimensions are unaligned and lengths are different)\n",
    "    \"\"\"\n",
    "    return sum([i[1]*j[1] for i,j in zip(vec_1, vec_2)])\n",
    "\n",
    "def cosine_sim(vec_1, vec_2):\n",
    "    try:\n",
    "        return dot(vec_1, vec_2)/(np.linalg.norm([i[1] for i in vec_1])*np.linalg.norm([j[1] for j in vec_2]))\n",
    "    except ZeroDivisionError:\n",
    "        return 0"
   ]
  },
  {
   "cell_type": "code",
   "execution_count": 205,
   "metadata": {
    "deletable": false,
    "editable": false,
    "nbgrader": {
     "cell_type": "code",
     "checksum": "d22a4a7325ba7815a808390388f534a1",
     "grade": true,
     "grade_id": "cell-b25d04ed6b79fd35",
     "locked": true,
     "points": 2,
     "schema_version": 3,
     "solution": false,
     "task": false
    }
   },
   "outputs": [
    {
     "name": "stdout",
     "output_type": "stream",
     "text": [
      "vectors: ([(1, 0.2), (2, 0.3), (3, 0.4)], [(1, 0.2), (2, 0.7), (3, 0.4)])\n",
      "dot product = 0.41000000000000003\n",
      "cosine similarity = 0.9165587597202866\n"
     ]
    }
   ],
   "source": [
    "##### Function check\n",
    "print(f'vectors: {(example_vec_1,example_vec_2)}')\n",
    "print(f'dot product = {dot(example_vec_1,example_vec_2)}')\n",
    "print(f'cosine similarity = {cosine_sim(example_vec_1,example_vec_2)}')\n",
    "##### "
   ]
  },
  {
   "cell_type": "code",
   "execution_count": 206,
   "metadata": {
    "deletable": false,
    "editable": false,
    "nbgrader": {
     "cell_type": "code",
     "checksum": "0744131724ce76b1b3f163b4bae5f700",
     "grade": true,
     "grade_id": "cell-ae3c4466866ace77",
     "locked": true,
     "points": 3,
     "schema_version": 3,
     "solution": false,
     "task": false
    }
   },
   "outputs": [],
   "source": [
    "#### Please do not change this. This cell is used for grading."
   ]
  },
  {
   "cell_type": "markdown",
   "metadata": {
    "deletable": false,
    "editable": false,
    "nbgrader": {
     "cell_type": "markdown",
     "checksum": "9b123f599f9ea372d14676e23f1c6a52",
     "grade": false,
     "grade_id": "cell-4b2534067c44fcdf",
     "locked": true,
     "schema_version": 3,
     "solution": false,
     "task": false
    }
   },
   "source": [
    "---\n",
    "### Section 6.2: LSI Retrieval (10 points)<a class=\"anchor\" id=\"lsi_retrieval\"></a>\n",
    "LSI retrieval is simply ranking the documents based on their cosine similarity to the query vector.\n",
    "First, let's write a parent class for vector-based retrieval models:"
   ]
  },
  {
   "cell_type": "code",
   "execution_count": 207,
   "metadata": {
    "deletable": false,
    "editable": false,
    "nbgrader": {
     "cell_type": "code",
     "checksum": "ecc111d58182570e2252b8ef5d6b02af",
     "grade": false,
     "grade_id": "cell-937936cea18711ee",
     "locked": true,
     "schema_version": 3,
     "solution": false,
     "task": false
    }
   },
   "outputs": [],
   "source": [
    "class VectorSpaceRetrievalModel:\n",
    "    \"\"\"\n",
    "        Parent class for Dense Vector Retrieval models\n",
    "    \"\"\"\n",
    "    def __init__(self, doc_repr):\n",
    "        \"\"\"\n",
    "            document_collection: \n",
    "                [\n",
    "                    (doc_id_1, [token 1, token 2, ...]), \n",
    "                    (doc_id_2, [token 1, token 2, ....]) \n",
    "                    ...\n",
    "                ]\n",
    "\n",
    "        \"\"\"\n",
    "        self.doc_repr = doc_repr\n",
    "        self.documents = [_[1] for _ in self.doc_repr]\n",
    "        \n",
    "        # construct a dictionary\n",
    "        self.dictionary = Dictionary(self.documents)\n",
    "        # Filter out words that occur less than 20 documents, or more than 50% of the documents.\n",
    "        self.dictionary.filter_extremes(no_below=10)\n",
    "        self.corpus = [self.dictionary.doc2bow(doc) for doc in self.documents]\n",
    "    \n",
    "        # Make a index to word dictionary.\n",
    "        temp = self.dictionary[0]  # This is only to \"load\" the dictionary.\n",
    "        self.id2word = self.dictionary.id2token\n",
    "        \n",
    "        # this is set by the train_model function\n",
    "        self.model = None\n",
    "        \n",
    "        \n",
    "    def vectorize_documents(self):\n",
    "        \"\"\"\n",
    "            Returns a doc_id -> vector dictionary\n",
    "        \"\"\"\n",
    "        vectors = {}\n",
    "        for (doc_id, _), cc in zip(self.doc_repr, self.corpus):\n",
    "            vectors[doc_id] = self.model[cc]\n",
    "        return vectors\n",
    "\n",
    "    def vectorize_query(self, query):\n",
    "        # Note the use of config_2 here!\n",
    "        query = process_text(query, **config_2)\n",
    "        query_vector = self.dictionary.doc2bow(query)\n",
    "        return self.model[query_vector]\n",
    "    \n",
    "    def train_model(self):\n",
    "        \"\"\"\n",
    "            Trains a model and sets the 'self.model' variable. \n",
    "            Make sure to use the variables created in the __init__ method.\n",
    "            e.g the variables which may be useful: {corpus, dictionary, id2word}\n",
    "        \"\"\"\n",
    "        raise NotImplementedError()"
   ]
  },
  {
   "cell_type": "markdown",
   "metadata": {
    "deletable": false,
    "editable": false,
    "nbgrader": {
     "cell_type": "markdown",
     "checksum": "ff161eefd9b81b768cd6361bc1a502b0",
     "grade": false,
     "grade_id": "cell-704a18c2f80cd60c",
     "locked": true,
     "schema_version": 3,
     "solution": false,
     "task": false
    }
   },
   "source": [
    "---\n",
    "**Implementation (5 points):**\n",
    "Implement the `train_model` method in the following class (note that this is only one line of code in `gensim`!). Ensure that the parameters defined in the `__init__` method are not changed, and are *used in the `train_method` function*. Normally, the hyperaparameter space will be searched using grid search / other methods - in this assignment we have provided the hyperparameters for you.\n",
    "\n",
    "The last two lines of code train an LSI model on the list of documents which have been stemmed, lower-cased and have stopwords removed. "
   ]
  },
  {
   "cell_type": "code",
   "execution_count": 208,
   "metadata": {
    "deletable": false,
    "nbgrader": {
     "cell_type": "code",
     "checksum": "0e90eedc27c248bc1ae050518a46a46c",
     "grade": false,
     "grade_id": "cell-307682c9089f15d6",
     "locked": false,
     "schema_version": 3,
     "solution": true,
     "task": false
    }
   },
   "outputs": [],
   "source": [
    "# TODO: Implement this! (5 points)\n",
    "class LsiRetrievalModel(VectorSpaceRetrievalModel):\n",
    "    def __init__(self, doc_repr):\n",
    "        super().__init__(doc_repr)\n",
    "        \n",
    "        self.num_topics = 100\n",
    "        self.chunksize = 2000\n",
    "    \n",
    "    def train_model(self):\n",
    "        self.model = LsiModel(self.corpus, id2word=self.id2word, num_topics=self.num_topics, chunksize=self.chunksize)"
   ]
  },
  {
   "cell_type": "code",
   "execution_count": 209,
   "metadata": {
    "deletable": false,
    "editable": false,
    "nbgrader": {
     "cell_type": "code",
     "checksum": "00399cfe13d60cb4beed1271e36004b0",
     "grade": true,
     "grade_id": "cell-5ce512650c1b2dfb",
     "locked": true,
     "points": 0,
     "schema_version": 3,
     "solution": false,
     "task": false
    }
   },
   "outputs": [
    {
     "name": "stderr",
     "output_type": "stream",
     "text": [
      "2021-02-16 21:42:29,962 : INFO : adding document #0 to Dictionary(0 unique tokens: [])\n",
      "2021-02-16 21:42:30,124 : INFO : built Dictionary(5940 unique tokens: ['-', 'algebra', 'intern', 'languag', 'preliminari']...) from 3204 documents (total 115981 corpus positions)\n",
      "2021-02-16 21:42:30,132 : INFO : discarding 4743 tokens: [('repeat', 8), ('glossari', 7), ('inspect', 8), ('uncol', 2), ('rung', 9), ('secant', 2), ('.', 1605), ('acceler', 6), ('diverg', 3), ('induc', 9)]...\n",
      "2021-02-16 21:42:30,133 : INFO : keeping 1197 tokens which were in no less than 10 and no more than 1602 (=50.0%) documents\n",
      "2021-02-16 21:42:30,136 : INFO : resulting dictionary: Dictionary(1197 unique tokens: ['-', 'algebra', 'intern', 'languag', 'preliminari']...)\n",
      "2021-02-16 21:42:30,205 : INFO : using serial LSI version on this node\n",
      "2021-02-16 21:42:30,206 : INFO : updating model with new documents\n",
      "2021-02-16 21:42:30,207 : INFO : preparing a new chunk of documents\n",
      "2021-02-16 21:42:30,217 : INFO : using 100 extra samples and 2 power iterations\n",
      "2021-02-16 21:42:30,218 : INFO : 1st phase: constructing (1197, 200) action matrix\n",
      "2021-02-16 21:42:30,240 : INFO : orthonormalizing (1197, 200) action matrix\n",
      "2021-02-16 21:42:30,377 : INFO : 2nd phase: running dense svd on (200, 2000) matrix\n",
      "2021-02-16 21:42:30,475 : INFO : computing the final decomposition\n",
      "2021-02-16 21:42:30,477 : INFO : keeping 100 factors (discarding 13.448% of energy spectrum)\n",
      "2021-02-16 21:42:30,483 : INFO : processed documents up to #2000\n",
      "2021-02-16 21:42:30,485 : INFO : topic #0(152.140): 0.741*\",\" + 0.342*\"-\" + 0.211*\"system\" + 0.204*\"program\" + 0.192*\"comput\" + 0.146*\"(\" + 0.127*\"languag\" + 0.108*\")\" + 0.084*\"gener\" + 0.083*\"data\"\n",
      "2021-02-16 21:42:30,486 : INFO : topic #1(60.601): -0.607*\"(\" + -0.434*\")\" + -0.366*\"algorithm\" + -0.300*\"-\" + 0.237*\",\" + 0.213*\"system\" + 0.132*\"comput\" + -0.096*\"[\" + 0.093*\"program\" + -0.084*\"])\"\n",
      "2021-02-16 21:42:30,487 : INFO : topic #2(57.447): 0.744*\"-\" + -0.452*\",\" + 0.263*\"system\" + -0.214*\"(\" + -0.167*\")\" + 0.107*\"time\" + 0.106*\"program\" + -0.095*\"algorithm\" + 0.069*\"comput\" + 0.067*\"share\"\n",
      "2021-02-16 21:42:30,488 : INFO : topic #3(48.372): -0.482*\"system\" + -0.375*\"program\" + -0.368*\"comput\" + 0.363*\"-\" + 0.307*\",\" + -0.212*\"(\" + -0.168*\")\" + -0.146*\"algorithm\" + 0.145*\"languag\" + -0.119*\"time\"\n",
      "2021-02-16 21:42:30,489 : INFO : topic #4(45.709): -0.490*\"comput\" + 0.473*\"languag\" + 0.427*\"program\" + -0.238*\"method\" + -0.141*\"problem\" + 0.123*\"system\" + 0.109*\")\" + -0.107*\"equat\" + -0.100*\"algorithm\" + 0.099*\"(\"\n",
      "2021-02-16 21:42:30,490 : INFO : preparing a new chunk of documents\n",
      "2021-02-16 21:42:30,499 : INFO : using 100 extra samples and 2 power iterations\n",
      "2021-02-16 21:42:30,500 : INFO : 1st phase: constructing (1197, 200) action matrix\n",
      "2021-02-16 21:42:30,518 : INFO : orthonormalizing (1197, 200) action matrix\n",
      "2021-02-16 21:42:30,649 : INFO : 2nd phase: running dense svd on (200, 1204) matrix\n",
      "2021-02-16 21:42:30,732 : INFO : computing the final decomposition\n",
      "2021-02-16 21:42:30,733 : INFO : keeping 100 factors (discarding 14.051% of energy spectrum)\n",
      "2021-02-16 21:42:30,736 : INFO : merging projections: (1197, 100) + (1197, 100)\n",
      "2021-02-16 21:42:30,779 : INFO : keeping 100 factors (discarding 8.160% of energy spectrum)\n",
      "2021-02-16 21:42:30,784 : INFO : processed documents up to #3204\n",
      "2021-02-16 21:42:30,785 : INFO : topic #0(225.145): 0.759*\",\" + 0.337*\"-\" + 0.196*\"system\" + 0.186*\"program\" + 0.166*\"comput\" + 0.139*\"(\" + 0.103*\")\" + 0.103*\"algorithm\" + 0.099*\"languag\" + 0.087*\"time\"\n",
      "2021-02-16 21:42:30,786 : INFO : topic #1(87.808): 0.613*\"-\" + -0.400*\",\" + 0.399*\"(\" + 0.326*\"algorithm\" + 0.293*\")\" + -0.129*\"system\" + -0.107*\"program\" + 0.085*\"method\" + 0.077*\"time\" + 0.062*\"1\"\n",
      "2021-02-16 21:42:30,787 : INFO : topic #2(81.912): 0.549*\"-\" + -0.434*\"(\" + 0.355*\"system\" + -0.321*\")\" + -0.290*\",\" + -0.266*\"algorithm\" + 0.146*\"program\" + 0.123*\"comput\" + 0.078*\"time\" + -0.064*\"[\"\n",
      "2021-02-16 21:42:30,788 : INFO : topic #3(72.433): -0.693*\"program\" + 0.339*\",\" + 0.280*\"-\" + -0.251*\"(\" + -0.221*\"system\" + -0.214*\"languag\" + -0.204*\")\" + -0.160*\"comput\" + -0.099*\"data\" + -0.056*\"execut\"\n",
      "2021-02-16 21:42:30,789 : INFO : topic #4(68.523): -0.673*\"system\" + 0.453*\"program\" + 0.254*\"languag\" + 0.212*\"-\" + -0.179*\"comput\" + -0.165*\"(\" + -0.121*\")\" + -0.115*\"model\" + 0.101*\",\" + -0.098*\"algorithm\"\n"
     ]
    },
    {
     "data": {
      "text/plain": [
       "[(0, 0.015241664022282782),\n",
       " (1, -0.016396161289031676),\n",
       " (2, -0.00027220707183060614),\n",
       " (3, -0.001708175941617237),\n",
       " (4, -0.009377097507302071),\n",
       " (5, -0.00469631605167554),\n",
       " (6, 0.027208916636264104),\n",
       " (7, 0.016758060341804493),\n",
       " (8, -0.03178452159771362),\n",
       " (9, -0.0010726042904113178),\n",
       " (10, 0.0024386300186566776),\n",
       " (11, -0.017423683824863475),\n",
       " (12, 0.0001820732366715509),\n",
       " (13, 0.001134504219447414),\n",
       " (14, 0.00445900309278301),\n",
       " (15, 0.005946336660472647),\n",
       " (16, 0.005644437957773511),\n",
       " (17, 0.0028091286138006467),\n",
       " (18, -0.015927940188079644),\n",
       " (19, 0.020692650679275598),\n",
       " (20, -0.009356030702333875),\n",
       " (21, -0.012958239155356675),\n",
       " (22, 0.04730607071475062),\n",
       " (23, 0.025456973299272993),\n",
       " (24, -0.011714903827952403),\n",
       " (25, -0.011410525050549541),\n",
       " (26, 0.005363363462368388),\n",
       " (27, 0.07721638770742809),\n",
       " (28, -0.06500652684005973),\n",
       " (29, 0.02919921110948041),\n",
       " (30, 0.042379675679041134),\n",
       " (31, 0.04691472003389614),\n",
       " (32, -0.06865048459581748),\n",
       " (33, 0.048907447027155604),\n",
       " (34, -0.02521091535163899),\n",
       " (35, 0.06244493055275867),\n",
       " (36, 0.04135518051242525),\n",
       " (37, -0.007503638567280101),\n",
       " (38, -0.06646735947449794),\n",
       " (39, 0.014319680611354748),\n",
       " (40, -0.04541148063151844),\n",
       " (41, -0.03732653012288298),\n",
       " (42, 0.019167056362938275),\n",
       " (43, 0.01800884485904449),\n",
       " (44, 0.021165409127223696),\n",
       " (45, 0.05843247638329237),\n",
       " (46, -0.011532890772688625),\n",
       " (47, 0.010508633711657845),\n",
       " (48, -0.010902398212297134),\n",
       " (49, 0.03116139189496486),\n",
       " (50, -0.013449634426266389),\n",
       " (51, 0.047286775416065116),\n",
       " (52, -0.0080870765105845),\n",
       " (53, 0.007445346771742127),\n",
       " (54, 0.04186693436407042),\n",
       " (55, 0.02467316115380517),\n",
       " (56, 0.005933010726510908),\n",
       " (57, -0.028318095053800296),\n",
       " (58, -0.008344394228917393),\n",
       " (59, 0.038140486615239076),\n",
       " (60, -0.00681620572450813),\n",
       " (61, -0.04863423689596119),\n",
       " (62, 0.01400851985150467),\n",
       " (63, 0.04170845360523749),\n",
       " (64, -0.038197840540861144),\n",
       " (65, 0.05385540223903488),\n",
       " (66, 0.015105160903901724),\n",
       " (67, -0.04877022412438889),\n",
       " (68, 0.023612742951324713),\n",
       " (69, -0.04809415280601062),\n",
       " (70, -0.06700628344415999),\n",
       " (71, -0.00686084948456268),\n",
       " (72, 0.012876636979849355),\n",
       " (73, -0.0028127364937225747),\n",
       " (74, -0.09803301657865741),\n",
       " (75, 0.008913393050287974),\n",
       " (76, 0.048872084765339),\n",
       " (77, 0.0033199420821138186),\n",
       " (78, 0.041887579884710424),\n",
       " (79, 0.04351995527526932),\n",
       " (80, 0.031818876581395775),\n",
       " (81, -0.0040418514672682405),\n",
       " (82, 0.01944656025098837),\n",
       " (83, -0.041730209701576246),\n",
       " (84, 0.03190669859794219),\n",
       " (85, -0.013237869313733629),\n",
       " (86, -0.011536869462622638),\n",
       " (87, 0.001447431093660156),\n",
       " (88, -0.042572863352992554),\n",
       " (89, -0.044838306935734595),\n",
       " (90, -0.09539632383464713),\n",
       " (91, -0.0257378904051144),\n",
       " (92, 0.012740769552765386),\n",
       " (93, 0.040103845946168594),\n",
       " (94, -0.04692338056783981),\n",
       " (95, -0.042162259199662655),\n",
       " (96, 7.17868262209093e-05),\n",
       " (97, -0.007492863631021532),\n",
       " (98, -0.014138804601174271),\n",
       " (99, 0.006129142695809274)]"
      ]
     },
     "execution_count": 209,
     "metadata": {},
     "output_type": "execute_result"
    }
   ],
   "source": [
    "##### Function check\n",
    "lsi = LsiRetrievalModel(doc_repr_2)\n",
    "lsi.train_model()\n",
    "\n",
    "# you can now get an LSI vector for a given query in the following way:\n",
    "lsi.vectorize_query(\"report\")\n",
    "##### "
   ]
  },
  {
   "cell_type": "markdown",
   "metadata": {
    "deletable": false,
    "editable": false,
    "nbgrader": {
     "cell_type": "markdown",
     "checksum": "7116bb9f576c5bb04934e1d59c51d729",
     "grade": false,
     "grade_id": "cell-4c5eeb557b4fca2f",
     "locked": true,
     "points": 5,
     "schema_version": 3,
     "solution": false,
     "task": true
    }
   },
   "source": [
    "\\#### Please do not change this. This cell is used for grading."
   ]
  },
  {
   "cell_type": "markdown",
   "metadata": {
    "deletable": false,
    "editable": false,
    "nbgrader": {
     "cell_type": "markdown",
     "checksum": "1068a108600b8c1539117d543e720354",
     "grade": false,
     "grade_id": "cell-c4e50296cd17a555",
     "locked": true,
     "schema_version": 3,
     "solution": false,
     "task": false
    }
   },
   "source": [
    "---\n",
    "Next, implement a basic ranking class for vector space retrieval (used for all semantic methods): "
   ]
  },
  {
   "cell_type": "code",
   "execution_count": 210,
   "metadata": {
    "deletable": false,
    "nbgrader": {
     "cell_type": "code",
     "checksum": "1a8389d2f0635c3405e2b0b27ed9f327",
     "grade": false,
     "grade_id": "cell-250515d288e80cdc",
     "locked": false,
     "schema_version": 3,
     "solution": true,
     "task": false
    }
   },
   "outputs": [],
   "source": [
    "# TODO: Implement this! (5 points)\n",
    "class DenseRetrievalRanker:\n",
    "    def __init__(self, vsrm, similarity_fn):\n",
    "        \"\"\"\n",
    "            vsrm: instance of `VectorSpaceRetrievalModel`\n",
    "            similarity_fn: function instance that takes in two vectors \n",
    "                            and returns a similarity score e.g cosine_sim defined earlier\n",
    "        \"\"\"\n",
    "        self.vsrm = vsrm \n",
    "        self.vectorized_documents = self.vsrm.vectorize_documents()\n",
    "        self.similarity_fn = similarity_fn\n",
    "    \n",
    "    def _compute_sim(self, query_vector):\n",
    "        \"\"\"\n",
    "            Compute the similarity of `query_vector` to documents in \n",
    "            `self.vectorized_documents` using `self.similarity_fn`\n",
    "            Returns a list of (doc_id, score) tuples\n",
    "        \"\"\"\n",
    "        # Calculate cosine similarity score for every document\n",
    "        scores = {key: self.similarity_fn(query_vector, value) for (key, value) in self.vectorized_documents.items()}\n",
    "        \n",
    "        # Return list with tuples containing document_id sorted on score in descending order\n",
    "        return sorted(scores.items(), key=lambda x: x[1], reverse=True)\n",
    "    \n",
    "    def search(self, query):\n",
    "        scores = self._compute_sim(self.vsrm.vectorize_query(query))\n",
    "        scores.sort(key=lambda _:-_[1])\n",
    "        return scores "
   ]
  },
  {
   "cell_type": "code",
   "execution_count": 211,
   "metadata": {
    "deletable": false,
    "editable": false,
    "nbgrader": {
     "cell_type": "code",
     "checksum": "f237dd1ef6c1783c06797f4b514421f5",
     "grade": true,
     "grade_id": "cell-b73068b3e77a8e31",
     "locked": true,
     "points": 0,
     "schema_version": 3,
     "solution": false,
     "task": false
    }
   },
   "outputs": [
    {
     "name": "stderr",
     "output_type": "stream",
     "text": [
      "c:\\users\\sarah-jane\\documents\\infovis\\lib\\site-packages\\ipykernel_launcher.py:14: RuntimeWarning: invalid value encountered in double_scalars\n",
      "  \n"
     ]
    },
    {
     "data": {
      "text/plain": [
       "[(599, 0.7958221859192685),\n",
       " (53, 0.508039556994885),\n",
       " (1339, 0.4477065619303626),\n",
       " (2181, 0.43175762018841896),\n",
       " (38, 0.40918733336560503)]"
      ]
     },
     "execution_count": 211,
     "metadata": {},
     "output_type": "execute_result"
    }
   ],
   "source": [
    "##### Function check\n",
    "drm_lsi = DenseRetrievalRanker(lsi, cosine_sim)\n",
    "drm_lsi.search(\"report\")[:5]\n",
    "##### "
   ]
  },
  {
   "cell_type": "markdown",
   "metadata": {
    "deletable": false,
    "editable": false,
    "nbgrader": {
     "cell_type": "markdown",
     "checksum": "5b3f19fdcaa585d263706d5a26038799",
     "grade": false,
     "grade_id": "cell-034c755a6502b868",
     "locked": true,
     "points": 5,
     "schema_version": 3,
     "solution": false,
     "task": true
    }
   },
   "source": [
    "\\#### Please do not change this. This cell is used for grading."
   ]
  },
  {
   "cell_type": "markdown",
   "metadata": {
    "deletable": false,
    "editable": false,
    "nbgrader": {
     "cell_type": "markdown",
     "checksum": "dcafef6e037033c46304b914f7c78bdf",
     "grade": false,
     "grade_id": "cell-d1df23f497d5ed6b",
     "locked": true,
     "schema_version": 3,
     "solution": false,
     "task": false
    }
   },
   "source": [
    "---\n",
    "Now, you can test your LSI model in the following cell: try finding queries which are lexically different to documents, but semantically similar - does LSI work well for these queries?!"
   ]
  },
  {
   "cell_type": "code",
   "execution_count": 212,
   "metadata": {
    "deletable": false,
    "editable": false,
    "nbgrader": {
     "cell_type": "code",
     "checksum": "11734bc7674377b340ad51297a8e8bb5",
     "grade": false,
     "grade_id": "cell-efd1d08dfc04ec3e",
     "locked": true,
     "schema_version": 3,
     "solution": false,
     "task": false
    }
   },
   "outputs": [
    {
     "data": {
      "application/vnd.jupyter.widget-view+json": {
       "model_id": "cdc7fd0e97cf4919a8c21f10d485f969",
       "version_major": 2,
       "version_minor": 0
      },
      "text/plain": [
       "Text(value='', description='Search Bar')"
      ]
     },
     "metadata": {},
     "output_type": "display_data"
    }
   ],
   "source": [
    "# test your LSI model\n",
    "search_fn = drm_lsi.search\n",
    "\n",
    "text = widgets.Text(description=\"Search Bar\", width=200)\n",
    "display(text)\n",
    "\n",
    "def make_results_2(query, search_fn):\n",
    "    results = []\n",
    "    for doc_id, score in search_fn(query):\n",
    "        highlight = highlight_text(docs_by_id[doc_id], query)\n",
    "        if len(highlight.strip()) == 0:\n",
    "            highlight = docs_by_id[doc_id]\n",
    "        results.append(ResultRow(doc_id, highlight, score))\n",
    "    return results\n",
    "\n",
    "def handle_submit_2(sender):\n",
    "    print(f\"Searching for: '{sender.value}' (SEARCH FN: {search_fn})\")\n",
    "    \n",
    "    results = make_results_2(sender.value, search_fn)\n",
    "    \n",
    "    # display only the top 5\n",
    "    results = results[:5]\n",
    "    \n",
    "    body = \"\"\n",
    "    for idx, r in enumerate(results):\n",
    "        body += f\"<li>Document #{r.doc_id}({r.score}): {r.snippet}</li>\"\n",
    "    display(HTML(f\"<ul>{body}</ul>\"))\n",
    "    \n",
    "\n",
    "text.on_submit(handle_submit_2)"
   ]
  },
  {
   "cell_type": "markdown",
   "metadata": {
    "deletable": false,
    "editable": false,
    "nbgrader": {
     "cell_type": "markdown",
     "checksum": "d074ce1ca48384cdda78742741c938be",
     "grade": false,
     "grade_id": "cell-3a86cef264d8f6cf",
     "locked": true,
     "schema_version": 3,
     "solution": false,
     "task": false
    }
   },
   "source": [
    "---\n",
    "## Section 7: Latent Dirichlet Allocation (LDA) (10 points) <a class=\"anchor\" id=\"lda\"></a>\n",
    "\n",
    "[Back to Part 2](#part2)\n",
    "\n",
    "The specifics of LDA is out of the scope of this assignment, but we will use the `gensim` implementation to perform search using LDA over our small document collection. The key thing to remember is that LDA, unlike LSI, outputs a topic **distribution**, not a vector. With that in mind, let's first define a similarity measure.\n"
   ]
  },
  {
   "cell_type": "markdown",
   "metadata": {
    "deletable": false,
    "editable": false,
    "nbgrader": {
     "cell_type": "markdown",
     "checksum": "db01092373b18f0c9dfed1bb17db4ad9",
     "grade": false,
     "grade_id": "cell-6b78ad22c2d60ba7",
     "locked": true,
     "schema_version": 3,
     "solution": false,
     "task": false
    }
   },
   "source": [
    "---\n",
    "### Section 7.1: Jenson-Shannon divergence (5 points) <a class=\"anchor\" id=\"js_sim\"></a>\n",
    "\n",
    "The Jenson-Shannon divergence is a symmetric and finite measure on two probability distributions (unlike the KL, which is neither). For identical distributions, the JSD is equal to 0, and since our code uses 0 as irrelevant and higher scores as relevant, we use `(1 - JSD)` as the score or 'similarity' in our setup\n",
    "\n",
    "**Note**: the JSD is bounded to \\[0,1\\] only if we use log base 2. So please ensure that you're using `np.log2` instead of `np.log`"
   ]
  },
  {
   "cell_type": "code",
   "execution_count": 213,
   "metadata": {
    "deletable": false,
    "nbgrader": {
     "cell_type": "code",
     "checksum": "a579e6cd7a24a3516bc9a84528b392d3",
     "grade": false,
     "grade_id": "cell-d2376a85a4841e98",
     "locked": false,
     "schema_version": 3,
     "solution": true,
     "task": false
    }
   },
   "outputs": [],
   "source": [
    "## TODO: Implement this! (5 points)\n",
    "def jenson_shannon_divergence(vec_1, vec_2, assert_prob=False):\n",
    "    \"\"\"\n",
    "        Computes the Jensen-Shannon divergence between two probability distributions. \n",
    "        NOTE: DO NOT RETURN 1 - JSD here, that is handled by the next function which is already implemented! \n",
    "        The inputs are *gensim* vectors - same as the vectors for the cosine_sim function\n",
    "        assert_prob is a flag that checks if the inputs are proper probability distributions \n",
    "            i.e they sum to 1 and are positive - use this to check your inputs if needed. \n",
    "                (This is optional to implement, but recommended - \n",
    "                you can the default to False to save a few ms off the runtime)\n",
    "    \"\"\"\n",
    "    if assert_prob:\n",
    "        if sum([x for _, x in vec_1 if x>=0]) != 1 or sum([y for _, y in vec_2 if y>=0]) != 1:\n",
    "            raise ValueError(f\"Invalid distribution encountered\")\n",
    " \n",
    "    # Calculate M = 0.5 (P + Q)\n",
    "    M = [(P[1] + Q[1])/2 for P, Q in zip(vec_1, vec_2)]\n",
    "    \n",
    "    # JSD = 0.5 * sum(log P - log M) + 0.5 * Q*sum(log Q - log M)\n",
    "    return 0.5*sum([P[1]*(np.log2(P[1]/m)) for P, m in zip (vec_1, M)]) + 0.5*sum([Q[1]*np.log2(Q[1]/m) for Q, m in zip (vec_2, M)])\n",
    "    \n",
    "\n",
    "def jenson_shannon_sim(vec_1, vec_2, assert_prob=False):\n",
    "    return 1 - jenson_shannon_divergence(vec_1, vec_2)\n",
    "\n"
   ]
  },
  {
   "cell_type": "code",
   "execution_count": 214,
   "metadata": {
    "deletable": false,
    "editable": false,
    "nbgrader": {
     "cell_type": "code",
     "checksum": "ab340aa941c9fb5c89b3fd0a9139e246",
     "grade": true,
     "grade_id": "cell-487c6d2933f38053",
     "locked": true,
     "points": 5,
     "schema_version": 3,
     "solution": false,
     "task": false
    }
   },
   "outputs": [
    {
     "data": {
      "text/plain": [
       "0.9251064410358459"
      ]
     },
     "execution_count": 214,
     "metadata": {},
     "output_type": "execute_result"
    }
   ],
   "source": [
    "##### Function check\n",
    "vec_1 = [(1, 0.3), (2, 0.4), (3, 0.3)]\n",
    "vec_2 = [(1, 0.1), (2, 0.7), (3, 0.2)]\n",
    "jenson_shannon_sim(vec_1, vec_2, assert_prob=True)\n",
    "##### "
   ]
  },
  {
   "cell_type": "markdown",
   "metadata": {
    "deletable": false,
    "editable": false,
    "nbgrader": {
     "cell_type": "markdown",
     "checksum": "0a1583a5f23e3390038331cce67f5d8e",
     "grade": false,
     "grade_id": "cell-4535cc67a50b80fa",
     "locked": true,
     "schema_version": 3,
     "solution": false,
     "task": false
    }
   },
   "source": [
    "---\n",
    "### Section 7.2: LDA retrieval (5 points) <a class=\"anchor\" id=\"lda_ret\"></a>\n",
    "\n",
    "Implement the `train_model` method in the following class (note that this is only one line of code in `gensim`!). Ensure that the parameters defined in the `__init__` method are not changed, and are *used in the `train_method` function*. You do not need to set this. Normally, the hyperaparameter space will be searched using grid search / other methods. Note that training the LDA model might take some time\n",
    "\n",
    "The last two lines of code train an LDA model on the list of documents which have been stemmed, lower-cased and have stopwords removed. "
   ]
  },
  {
   "cell_type": "code",
   "execution_count": 215,
   "metadata": {
    "deletable": false,
    "nbgrader": {
     "cell_type": "code",
     "checksum": "27de8e4fa85536bb396b73bfc51b3f50",
     "grade": false,
     "grade_id": "cell-021a48dff4a8bb91",
     "locked": false,
     "schema_version": 3,
     "solution": true,
     "task": false
    }
   },
   "outputs": [],
   "source": [
    "# TODO: Implement this! (5 points)\n",
    "class LdaRetrievalModel(VectorSpaceRetrievalModel):\n",
    "    def __init__(self, doc_repr):\n",
    "        super().__init__(doc_repr)\n",
    "        \n",
    "        # use these parameters in the train_model method\n",
    "        self.num_topics = 100\n",
    "        self.chunksize = 2000\n",
    "        self.passes = 20\n",
    "        self.iterations = 400\n",
    "        self.eval_every = 10\n",
    "        # this is need to get full vectors\n",
    "        self.minimum_probability=0.0\n",
    "        self.alpha='auto'\n",
    "        self.eta='auto'\n",
    "    \n",
    "    \n",
    "    def train_model(self):\n",
    "        self.model = LdaModel(self.corpus, id2word=self.id2word, num_topics=self.num_topics, chunksize=self.chunksize, \n",
    "                        passes=self.passes, iterations=self.iterations, eval_every=self.eval_every, \n",
    "                        minimum_probability=self.minimum_probability, alpha=self.alpha, eta=self.eta)"
   ]
  },
  {
   "cell_type": "code",
   "execution_count": 216,
   "metadata": {
    "deletable": false,
    "editable": false,
    "nbgrader": {
     "cell_type": "code",
     "checksum": "be70fcb8098d0b6ce64cd2a10e6a05b7",
     "grade": true,
     "grade_id": "cell-86750b715f0345fd",
     "locked": true,
     "points": 0,
     "schema_version": 3,
     "solution": false,
     "task": false
    }
   },
   "outputs": [
    {
     "name": "stderr",
     "output_type": "stream",
     "text": [
      "2021-02-16 21:42:31,741 : INFO : adding document #0 to Dictionary(0 unique tokens: [])\n",
      "2021-02-16 21:42:31,901 : INFO : built Dictionary(5940 unique tokens: ['-', 'algebra', 'intern', 'languag', 'preliminari']...) from 3204 documents (total 115981 corpus positions)\n",
      "2021-02-16 21:42:31,911 : INFO : discarding 4743 tokens: [('repeat', 8), ('glossari', 7), ('inspect', 8), ('uncol', 2), ('rung', 9), ('secant', 2), ('.', 1605), ('acceler', 6), ('diverg', 3), ('induc', 9)]...\n",
      "2021-02-16 21:42:31,912 : INFO : keeping 1197 tokens which were in no less than 10 and no more than 1602 (=50.0%) documents\n",
      "2021-02-16 21:42:31,916 : INFO : resulting dictionary: Dictionary(1197 unique tokens: ['-', 'algebra', 'intern', 'languag', 'preliminari']...)\n",
      "2021-02-16 21:42:31,993 : INFO : using autotuned alpha, starting with [0.01, 0.01, 0.01, 0.01, 0.01, 0.01, 0.01, 0.01, 0.01, 0.01, 0.01, 0.01, 0.01, 0.01, 0.01, 0.01, 0.01, 0.01, 0.01, 0.01, 0.01, 0.01, 0.01, 0.01, 0.01, 0.01, 0.01, 0.01, 0.01, 0.01, 0.01, 0.01, 0.01, 0.01, 0.01, 0.01, 0.01, 0.01, 0.01, 0.01, 0.01, 0.01, 0.01, 0.01, 0.01, 0.01, 0.01, 0.01, 0.01, 0.01, 0.01, 0.01, 0.01, 0.01, 0.01, 0.01, 0.01, 0.01, 0.01, 0.01, 0.01, 0.01, 0.01, 0.01, 0.01, 0.01, 0.01, 0.01, 0.01, 0.01, 0.01, 0.01, 0.01, 0.01, 0.01, 0.01, 0.01, 0.01, 0.01, 0.01, 0.01, 0.01, 0.01, 0.01, 0.01, 0.01, 0.01, 0.01, 0.01, 0.01, 0.01, 0.01, 0.01, 0.01, 0.01, 0.01, 0.01, 0.01, 0.01, 0.01]\n",
      "2021-02-16 21:42:31,994 : INFO : using serial LDA version on this node\n",
      "2021-02-16 21:42:32,010 : INFO : running online (multi-pass) LDA training, 100 topics, 20 passes over the supplied corpus of 3204 documents, updating model once every 2000 documents, evaluating perplexity every 3204 documents, iterating 400x with a convergence threshold of 0.001000\n",
      "2021-02-16 21:42:32,011 : INFO : PROGRESS: pass 0, at document #2000/3204\n",
      "2021-02-16 21:42:33,972 : INFO : optimized alpha [0.009865448, 0.0098547945, 0.009861079, 0.009845847, 0.009778243, 0.009793616, 0.009834786, 0.009791941, 0.009845937, 0.009783328, 0.009819653, 0.009773147, 0.009825067, 0.009819693, 0.009855925, 0.009845664, 0.009834932, 0.009891936, 0.009846277, 0.009840274, 0.009783511, 0.0097989, 0.009778311, 0.009819749, 0.009824985, 0.009777636, 0.009783518, 0.00979415, 0.009824873, 0.00987702, 0.00978852, 0.00982008, 0.009830206, 0.009903503, 0.00979893, 0.009794044, 0.009846177, 0.00986089, 0.009809185, 0.0098407585, 0.009778354, 0.009788531, 0.00983484, 0.00981418, 0.009819548, 0.009814374, 0.010031918, 0.010185388, 0.009913518, 0.009830683, 0.0097834, 0.009803802, 0.009814375, 0.009799048, 0.009871713, 0.009799049, 0.009840028, 0.009809481, 0.0097988155, 0.009840126, 0.00985134, 0.009798822, 0.00981456, 0.009871835, 0.0098402705, 0.009788578, 0.0098150745, 0.009768064, 0.009855375, 0.009881014, 0.009778353, 0.009783441, 0.009850784, 0.009954794, 0.009793014, 0.009824669, 0.009823805, 0.009798754, 0.009798935, 0.009783301, 0.00990323, 0.009875902, 0.009861792, 0.009768009, 0.00982525, 0.009876885, 0.009804384, 0.009819635, 0.009793573, 0.00981456, 0.009794041, 0.009829883, 0.009767907, 0.009814519, 0.009856014, 0.009799091, 0.0098144645, 0.009809147, 0.009882042, 0.009891403]\n",
      "2021-02-16 21:42:33,979 : INFO : merging changes from 2000 documents into a model of 3204 documents\n",
      "2021-02-16 21:42:33,994 : INFO : topic #26 (0.010): 0.055*\",\" + 0.048*\"list\" + 0.035*\"compact\" + 0.035*\"system\" + 0.028*\"implement\" + 0.028*\"variabl\" + 0.028*\"comput\" + 0.021*\"garbag\" + 0.021*\"memori\" + 0.021*\"fast\"\n",
      "2021-02-16 21:42:33,995 : INFO : topic #50 (0.010): 0.037*\")\" + 0.037*\"(\" + 0.031*\",\" + 0.025*\"factor\" + 0.025*\"discuss\" + 0.025*\"relat\" + 0.025*\"undergradu\" + 0.025*\"algorithm\" + 0.020*\"method\" + 0.019*\"*\"\n",
      "2021-02-16 21:42:33,996 : INFO : topic #48 (0.010): 0.068*\",\" + 0.039*\"(\" + 0.028*\")\" + 0.025*\"program\" + 0.020*\"-\" + 0.018*\"languag\" + 0.015*\"function\" + 0.014*\"comput\" + 0.010*\"time\" + 0.009*\"pass\"\n",
      "2021-02-16 21:42:33,997 : INFO : topic #46 (0.010): 0.064*\",\" + 0.040*\"-\" + 0.031*\"(\" + 0.023*\"system\" + 0.022*\"comput\" + 0.021*\")\" + 0.020*\"languag\" + 0.020*\"algorithm\" + 0.010*\"design\" + 0.010*\"program\"\n",
      "2021-02-16 21:42:33,997 : INFO : topic #47 (0.010): 0.079*\",\" + 0.026*\"-\" + 0.025*\"system\" + 0.020*\"program\" + 0.018*\"gener\" + 0.017*\"comput\" + 0.014*\"languag\" + 0.014*\"(\" + 0.011*\"problem\" + 0.011*\")\"\n",
      "2021-02-16 21:42:33,999 : INFO : topic diff=82.950409, rho=1.000000\n",
      "2021-02-16 21:42:35,225 : INFO : -7.287 per-word bound, 156.1 perplexity estimate based on a held-out corpus of 1204 documents with 49783 words\n",
      "2021-02-16 21:42:35,227 : INFO : PROGRESS: pass 0, at document #3204/3204\n",
      "2021-02-16 21:42:36,212 : INFO : optimized alpha [0.009952845, 0.01004485, 0.009890916, 0.010053183, 0.009806357, 0.0097871935, 0.009852393, 0.009849336, 0.009952996, 0.0097544715, 0.009971427, 0.009766499, 0.010208163, 0.0098913405, 0.010127117, 0.0102600455, 0.009798413, 0.010009444, 0.010215055, 0.009916143, 0.009848553, 0.009763002, 0.010028153, 0.010080472, 0.009984669, 0.009888587, 0.009958885, 0.0100773, 0.009895177, 0.010204934, 0.010043574, 0.010152509, 0.010019397, 0.010040993, 0.00998467, 0.009906214, 0.009940292, 0.010055702, 0.009872891, 0.01014873, 0.009812911, 0.009799667, 0.009869367, 0.009760272, 0.009913986, 0.009815522, 0.010209634, 0.010706408, 0.010032388, 0.010325241, 0.009730091, 0.009645816, 0.009737456, 0.009962676, 0.009990244, 0.009804931, 0.010122461, 0.010130709, 0.0098043475, 0.009945918, 0.01024364, 0.009804405, 0.010032896, 0.009847966, 0.009869102, 0.0098285675, 0.010430603, 0.010054453, 0.009795526, 0.009914611, 0.009907102, 0.009929246, 0.0099620735, 0.0100431675, 0.009828029, 0.010242126, 0.009982991, 0.009721887, 0.009968526, 0.009976383, 0.009968756, 0.010160329, 0.010075072, 0.009738852, 0.010080784, 0.009989651, 0.010157367, 0.009831533, 0.009722893, 0.0099392235, 0.01001265, 0.009858592, 0.0097142365, 0.009913995, 0.010188375, 0.009923163, 0.009944397, 0.009768111, 0.009971151, 0.009859495]\n",
      "2021-02-16 21:42:36,220 : INFO : merging changes from 1204 documents into a model of 3204 documents\n",
      "2021-02-16 21:42:36,231 : INFO : topic #51 (0.010): 0.082*\"algorithm\" + 0.061*\"zero\" + 0.059*\")\" + 0.057*\"(\" + 0.056*\"differ\" + 0.049*\"method\" + 0.044*\"find\" + 0.043*\"polynomi\" + 0.030*\"reduct\" + 0.027*\"call\"\n",
      "2021-02-16 21:42:36,232 : INFO : topic #88 (0.010): 0.100*\"updat\" + 0.097*\"(\" + 0.087*\"algorithm\" + 0.085*\")\" + 0.044*\"probabl\" + 0.039*\"kind\" + 0.036*\"label\" + 0.032*\"function\" + 0.028*\"markov\" + 0.024*\"matrix\"\n",
      "2021-02-16 21:42:36,233 : INFO : topic #49 (0.010): 0.068*\"program\" + 0.058*\",\" + 0.039*\"languag\" + 0.021*\"abstract\" + 0.020*\"\"\" + 0.015*\"/\" + 0.015*\"proof\" + 0.014*\"data\" + 0.014*\"structur\" + 0.012*\"-\"\n",
      "2021-02-16 21:42:36,234 : INFO : topic #66 (0.010): 0.075*\"tree\" + 0.055*\"-\" + 0.053*\",\" + 0.050*\"search\" + 0.034*\"node\" + 0.025*\"structur\" + 0.021*\"averag\" + 0.020*\"tabl\" + 0.019*\"organ\" + 0.018*\"time\"\n",
      "2021-02-16 21:42:36,234 : INFO : topic #47 (0.011): 0.093*\",\" + 0.028*\"system\" + 0.020*\"-\" + 0.018*\"program\" + 0.014*\"comput\" + 0.013*\"gener\" + 0.011*\"\"\" + 0.011*\"problem\" + 0.010*\"structur\" + 0.010*\"languag\"\n",
      "2021-02-16 21:42:36,235 : INFO : topic diff=0.763588, rho=0.707107\n",
      "2021-02-16 21:42:36,244 : INFO : PROGRESS: pass 1, at document #2000/3204\n",
      "2021-02-16 21:42:37,216 : INFO : optimized alpha [0.010305126, 0.009971743, 0.0098078195, 0.010014508, 0.009774046, 0.009810306, 0.009874857, 0.009960347, 0.009951365, 0.010066157, 0.009907448, 0.009755104, 0.010155146, 0.009858631, 0.010087199, 0.010220035, 0.009717056, 0.009947597, 0.010190317, 0.0098479455, 0.009978449, 0.009744523, 0.010066355, 0.0100032985, 0.009953104, 0.010029401, 0.009958669, 0.010091968, 0.009822284, 0.010130749, 0.010078744, 0.010202359, 0.009976287, 0.009984641, 0.00991972, 0.009841161, 0.009853857, 0.01001429, 0.009804937, 0.010078401, 0.009945176, 0.0097442055, 0.0099446615, 0.009772763, 0.009985849, 0.009783776, 0.010092017, 0.010682535, 0.009965719, 0.0104029775, 0.009662927, 0.009806836, 0.0096783545, 0.009909476, 0.009899974, 0.0097649535, 0.010025008, 0.010062617, 0.009795126, 0.009967148, 0.010171714, 0.009725204, 0.010075446, 0.009805697, 0.009791597, 0.009804467, 0.010367294, 0.010003827, 0.009758651, 0.0098621985, 0.009865619, 0.009878774, 0.009924866, 0.009994887, 0.009787794, 0.010218079, 0.010022578, 0.0097425915, 0.009994189, 0.010706446, 0.0098816175, 0.010094853, 0.009958024, 0.009692141, 0.01010697, 0.00991766, 0.010086575, 0.009838933, 0.009728782, 0.009936997, 0.009979761, 0.009809994, 0.009677793, 0.009851051, 0.010114177, 0.009865169, 0.009888998, 0.009836345, 0.0099185575, 0.009821875]\n"
     ]
    },
    {
     "name": "stderr",
     "output_type": "stream",
     "text": [
      "2021-02-16 21:42:37,224 : INFO : merging changes from 2000 documents into a model of 3204 documents\n",
      "2021-02-16 21:42:37,236 : INFO : topic #52 (0.010): 0.087*\"(\" + 0.059*\"-\" + 0.043*\"modul\" + 0.038*\"),\" + 0.026*\"translat\" + 0.026*\"program\" + 0.023*\"comm\" + 0.019*\"goal\" + 0.018*\"acm\" + 0.017*\"semi\"\n",
      "2021-02-16 21:42:37,237 : INFO : topic #83 (0.010): 0.221*\"list\" + 0.109*\"structur\" + 0.069*\"copi\" + 0.061*\"algorithm\" + 0.052*\"\"\" + 0.040*\"avoid\" + 0.037*\"compact\" + 0.034*\"-\" + 0.031*\"geometr\" + 0.029*\"need\"\n",
      "2021-02-16 21:42:37,237 : INFO : topic #49 (0.010): 0.067*\"program\" + 0.058*\",\" + 0.045*\"languag\" + 0.029*\"algol\" + 0.021*\"\"\" + 0.018*\"abstract\" + 0.017*\"60\" + 0.014*\"/\" + 0.013*\"-\" + 0.013*\"data\"\n",
      "2021-02-16 21:42:37,238 : INFO : topic #47 (0.011): 0.094*\",\" + 0.029*\"system\" + 0.021*\"-\" + 0.019*\"program\" + 0.016*\"gener\" + 0.014*\"comput\" + 0.012*\"\"\" + 0.011*\"process\" + 0.010*\"problem\" + 0.010*\"languag\"\n",
      "2021-02-16 21:42:37,239 : INFO : topic #79 (0.011): 0.254*\"(\" + 0.253*\")\" + 0.213*\"algorithm\" + 0.046*\"integr\" + 0.035*\"complex\" + 0.025*\"exponenti\" + 0.023*\"d1\" + 0.019*\"$\" + 0.019*\"[\" + 0.017*\"quadratur\"\n",
      "2021-02-16 21:42:37,240 : INFO : topic diff=0.297500, rho=0.526900\n",
      "2021-02-16 21:42:38,262 : INFO : -6.901 per-word bound, 119.5 perplexity estimate based on a held-out corpus of 1204 documents with 49783 words\n",
      "2021-02-16 21:42:38,263 : INFO : PROGRESS: pass 1, at document #3204/3204\n",
      "2021-02-16 21:42:39,138 : INFO : optimized alpha [0.010310499, 0.010073576, 0.009928775, 0.010174133, 0.009865845, 0.009919266, 0.009989721, 0.010058981, 0.010030736, 0.010152199, 0.010038717, 0.009893975, 0.010530618, 0.009944129, 0.010308948, 0.010584946, 0.009762294, 0.009982423, 0.010446161, 0.009901266, 0.01016675, 0.009742009, 0.010401135, 0.010270145, 0.0100687845, 0.010284782, 0.010191852, 0.010372024, 0.009867599, 0.010273653, 0.010470573, 0.010522581, 0.010131605, 0.01007406, 0.010221095, 0.009960608, 0.0098293135, 0.010209181, 0.00987945, 0.010300574, 0.010088286, 0.009875509, 0.010049344, 0.009812523, 0.01017576, 0.009895325, 0.010170308, 0.010847564, 0.009988052, 0.0106993895, 0.009678788, 0.009777087, 0.009703138, 0.01003653, 0.010006856, 0.009831738, 0.010205257, 0.010489127, 0.009952761, 0.010054116, 0.010436489, 0.009882867, 0.010288328, 0.00977771, 0.009872001, 0.009930542, 0.010831833, 0.010276767, 0.0097351, 0.009893005, 0.0100544095, 0.010088002, 0.010013025, 0.010034441, 0.009871653, 0.0105758635, 0.010199166, 0.009713863, 0.010182709, 0.011470452, 0.009922634, 0.010353328, 0.01006816, 0.009772621, 0.010321567, 0.009975385, 0.010389811, 0.009994081, 0.009769486, 0.010136061, 0.010285483, 0.009833226, 0.009760815, 0.009965314, 0.010355613, 0.010045613, 0.010074564, 0.009976513, 0.009994233, 0.009766107]\n",
      "2021-02-16 21:42:39,147 : INFO : merging changes from 1204 documents into a model of 3204 documents\n",
      "2021-02-16 21:42:39,158 : INFO : topic #52 (0.010): 0.090*\"(\" + 0.080*\"modul\" + 0.078*\"),\" + 0.052*\"-\" + 0.042*\"goal\" + 0.029*\"semi\" + 0.022*\").\" + 0.021*\"present\" + 0.020*\"program\" + 0.020*\"forc\"\n",
      "2021-02-16 21:42:39,158 : INFO : topic #16 (0.010): 0.054*\"comput\" + 0.048*\"human\" + 0.046*\"-\" + 0.045*\"scienc\" + 0.045*\"encod\" + 0.042*\"solid\" + 0.034*\"procedur\" + 0.025*\"virtual\" + 0.023*\"program\" + 0.022*\"educ\"\n",
      "2021-02-16 21:42:39,159 : INFO : topic #47 (0.011): 0.101*\",\" + 0.030*\"system\" + 0.019*\"program\" + 0.019*\"-\" + 0.015*\"gener\" + 0.014*\"comput\" + 0.013*\"\"\" + 0.011*\"structur\" + 0.011*\"process\" + 0.010*\"design\"\n",
      "2021-02-16 21:42:39,160 : INFO : topic #66 (0.011): 0.097*\"tree\" + 0.071*\"search\" + 0.059*\",\" + 0.050*\"-\" + 0.040*\"node\" + 0.028*\"averag\" + 0.026*\"structur\" + 0.023*\"organ\" + 0.020*\"time\" + 0.018*\"binari\"\n",
      "2021-02-16 21:42:39,161 : INFO : topic #79 (0.011): 0.285*\"(\" + 0.272*\")\" + 0.208*\"algorithm\" + 0.036*\"complex\" + 0.031*\"integr\" + 0.031*\"[\" + 0.020*\"d1\" + 0.019*\"exponenti\" + 0.015*\"quadratur\" + 0.015*\"$\"\n",
      "2021-02-16 21:42:39,162 : INFO : topic diff=0.424166, rho=0.526900\n",
      "2021-02-16 21:42:39,170 : INFO : PROGRESS: pass 2, at document #2000/3204\n",
      "2021-02-16 21:42:40,130 : INFO : optimized alpha [0.0106689455, 0.010019358, 0.009881741, 0.010156328, 0.009897739, 0.009981258, 0.010058728, 0.010209368, 0.010065353, 0.010425206, 0.010013114, 0.009923091, 0.010509018, 0.009939517, 0.010284066, 0.010582646, 0.009724756, 0.009939153, 0.010434247, 0.009861431, 0.010351965, 0.009786861, 0.010479026, 0.010228652, 0.0100697195, 0.010546199, 0.010199615, 0.010404661, 0.009821475, 0.010220074, 0.010566937, 0.010597504, 0.010105174, 0.010058052, 0.01018673, 0.009952813, 0.009770625, 0.010200214, 0.009841421, 0.010241659, 0.010326861, 0.009847445, 0.010122883, 0.009911856, 0.010294037, 0.009909223, 0.010063708, 0.010791516, 0.009928812, 0.010754454, 0.00963545, 0.010042814, 0.009653069, 0.010022795, 0.009925683, 0.009834076, 0.010130657, 0.010454844, 0.01003963, 0.0100703165, 0.010392652, 0.009831058, 0.010358926, 0.009761436, 0.00982581, 0.009966391, 0.01078695, 0.010243848, 0.0097390665, 0.009855289, 0.010085213, 0.010065456, 0.010004342, 0.010012098, 0.009857504, 0.0105777485, 0.010252514, 0.009756571, 0.010214043, 0.012550519, 0.009862006, 0.0103024915, 0.009973159, 0.009787229, 0.010363292, 0.009943823, 0.010373054, 0.010026069, 0.009841631, 0.010128107, 0.010280027, 0.00981987, 0.0097727375, 0.009931183, 0.010285507, 0.010012425, 0.0100840535, 0.010112491, 0.009962788, 0.009742464]\n",
      "2021-02-16 21:42:40,138 : INFO : merging changes from 2000 documents into a model of 3204 documents\n",
      "2021-02-16 21:42:40,150 : INFO : topic #50 (0.010): 0.095*\"profession\" + 0.072*\"unit\" + 0.065*\"impact\" + 0.054*\"concern\" + 0.054*\"undergradu\" + 0.039*\"discuss\" + 0.038*\"relat\" + 0.035*\"1970\" + 0.034*\",\" + 0.034*\"'\"\n",
      "2021-02-16 21:42:40,151 : INFO : topic #52 (0.010): 0.093*\"(\" + 0.073*\"),\" + 0.054*\"-\" + 0.051*\"modul\" + 0.028*\"goal\" + 0.027*\"acm\" + 0.025*\"comm\" + 0.023*\"semi\" + 0.022*\"program\" + 0.020*\"unknown\"\n",
      "2021-02-16 21:42:40,152 : INFO : topic #66 (0.011): 0.089*\"tree\" + 0.077*\"search\" + 0.058*\",\" + 0.050*\"-\" + 0.038*\"node\" + 0.028*\"structur\" + 0.025*\"organ\" + 0.025*\"averag\" + 0.019*\"time\" + 0.018*\"binari\"\n",
      "2021-02-16 21:42:40,153 : INFO : topic #47 (0.011): 0.103*\",\" + 0.029*\"system\" + 0.021*\"program\" + 0.020*\"-\" + 0.017*\"gener\" + 0.014*\"comput\" + 0.013*\"\"\" + 0.011*\"process\" + 0.011*\";\" + 0.011*\"structur\"\n",
      "2021-02-16 21:42:40,153 : INFO : topic #79 (0.013): 0.305*\"(\" + 0.294*\")\" + 0.219*\"algorithm\" + 0.032*\"integr\" + 0.029*\"complex\" + 0.017*\"[\" + 0.016*\"d1\" + 0.015*\"exponenti\" + 0.012*\"quadratur\" + 0.011*\"-\"\n",
      "2021-02-16 21:42:40,154 : INFO : topic diff=0.385883, rho=0.466151\n",
      "2021-02-16 21:42:41,203 : INFO : -6.787 per-word bound, 110.5 perplexity estimate based on a held-out corpus of 1204 documents with 49783 words\n",
      "2021-02-16 21:42:41,204 : INFO : PROGRESS: pass 2, at document #3204/3204\n",
      "2021-02-16 21:42:42,046 : INFO : optimized alpha [0.010668811, 0.0101536885, 0.0100289155, 0.010314767, 0.01002931, 0.010093343, 0.010191901, 0.010375407, 0.010139767, 0.010515207, 0.010122186, 0.010085563, 0.010810634, 0.010031895, 0.01051859, 0.010932808, 0.009789003, 0.009999068, 0.010683778, 0.009917699, 0.010564529, 0.009877236, 0.010793981, 0.010431323, 0.010184998, 0.010846699, 0.010416502, 0.010700779, 0.0098976055, 0.010331101, 0.0110429935, 0.010936815, 0.010267692, 0.010141864, 0.0105130365, 0.010063362, 0.009759583, 0.010402587, 0.009923735, 0.010427832, 0.010513329, 0.01000722, 0.010251301, 0.009961956, 0.010491896, 0.010054713, 0.010094604, 0.010899941, 0.009942829, 0.011003604, 0.009666362, 0.010064176, 0.009707027, 0.01019499, 0.010005924, 0.009901724, 0.010287257, 0.010869332, 0.010242776, 0.010163586, 0.010657688, 0.010002255, 0.010561566, 0.0097389305, 0.009936686, 0.010112993, 0.0112080425, 0.010460401, 0.009758277, 0.009895754, 0.010329092, 0.010295629, 0.010122589, 0.010075951, 0.009951855, 0.010917021, 0.01044619, 0.009770662, 0.010398046, 0.013668658, 0.009931059, 0.010549973, 0.010079422, 0.009908704, 0.010538896, 0.009988081, 0.010653495, 0.010223582, 0.009938908, 0.010313889, 0.010611382, 0.00985722, 0.009926688, 0.010048661, 0.010541775, 0.010193127, 0.010289106, 0.010312502, 0.01003866, 0.00972678]\n",
      "2021-02-16 21:42:42,054 : INFO : merging changes from 1204 documents into a model of 3204 documents\n"
     ]
    },
    {
     "name": "stderr",
     "output_type": "stream",
     "text": [
      "2021-02-16 21:42:42,067 : INFO : topic #50 (0.010): 0.122*\"profession\" + 0.095*\"impact\" + 0.072*\"unit\" + 0.053*\"undergradu\" + 0.052*\"concern\" + 0.045*\"1970\" + 0.042*\"discuss\" + 0.035*\"'\" + 0.035*\"relat\" + 0.034*\",\"\n",
      "2021-02-16 21:42:42,068 : INFO : topic #52 (0.010): 0.098*\"),\" + 0.094*\"(\" + 0.078*\"modul\" + 0.051*\"goal\" + 0.048*\"-\" + 0.029*\"semi\" + 0.028*\").\" + 0.025*\"acm\" + 0.025*\"present\" + 0.021*\"unknown\"\n",
      "2021-02-16 21:42:42,069 : INFO : topic #30 (0.011): 0.180*\"structur\" + 0.097*\"definit\" + 0.081*\"concept\" + 0.071*\"recurs\" + 0.071*\"defin\" + 0.053*\"properti\" + 0.052*\"corrigendum\" + 0.045*\"process\" + 0.038*\"descript\" + 0.036*\"previou\"\n",
      "2021-02-16 21:42:42,069 : INFO : topic #66 (0.011): 0.111*\"tree\" + 0.087*\"search\" + 0.066*\",\" + 0.046*\"-\" + 0.044*\"node\" + 0.032*\"averag\" + 0.027*\"structur\" + 0.023*\"organ\" + 0.021*\"time\" + 0.019*\"binari\"\n",
      "2021-02-16 21:42:42,070 : INFO : topic #79 (0.014): 0.323*\"(\" + 0.301*\")\" + 0.210*\"algorithm\" + 0.029*\"complex\" + 0.025*\"[\" + 0.025*\"integr\" + 0.015*\"d1\" + 0.012*\"exponenti\" + 0.011*\"quadratur\" + 0.011*\"-\"\n",
      "2021-02-16 21:42:42,072 : INFO : topic diff=0.517556, rho=0.466151\n",
      "2021-02-16 21:42:42,081 : INFO : PROGRESS: pass 3, at document #2000/3204\n",
      "2021-02-16 21:42:43,068 : INFO : optimized alpha [0.011036343, 0.010108951, 0.010026689, 0.010293578, 0.010098428, 0.010175388, 0.010263304, 0.010548383, 0.010206244, 0.010763254, 0.010133701, 0.010122304, 0.010813798, 0.010053753, 0.010512409, 0.010939162, 0.009756004, 0.009982339, 0.010689445, 0.009880684, 0.010755585, 0.009964469, 0.010888802, 0.010394831, 0.010207794, 0.011125725, 0.010475316, 0.01073974, 0.00988197, 0.010291956, 0.0111664, 0.011043551, 0.010256385, 0.010149528, 0.010498751, 0.0100822, 0.0097174235, 0.010426678, 0.009908901, 0.010369159, 0.01078625, 0.009991955, 0.010324684, 0.010116428, 0.0106134685, 0.010077535, 0.010003257, 0.010842547, 0.00989781, 0.011022261, 0.009649144, 0.010350536, 0.009687736, 0.010231576, 0.0099423835, 0.009914954, 0.010230515, 0.010838117, 0.01036505, 0.010182644, 0.010634071, 0.009967304, 0.010636685, 0.009744865, 0.009918528, 0.010162313, 0.01116224, 0.010431438, 0.009793927, 0.009858718, 0.010382234, 0.010282333, 0.010129877, 0.010080151, 0.009949936, 0.010939054, 0.010505332, 0.009831168, 0.010434646, 0.014958995, 0.009881564, 0.010517634, 0.009998861, 0.009953451, 0.010616845, 0.009956468, 0.010656494, 0.010269361, 0.010021533, 0.010294603, 0.010642016, 0.009907231, 0.009947729, 0.010035048, 0.0104829725, 0.010179534, 0.01032531, 0.010494366, 0.010027953, 0.009715553]\n",
      "2021-02-16 21:42:43,075 : INFO : merging changes from 2000 documents into a model of 3204 documents\n",
      "2021-02-16 21:42:43,087 : INFO : topic #50 (0.010): 0.106*\"profession\" + 0.080*\"unit\" + 0.069*\"impact\" + 0.061*\"concern\" + 0.054*\"undergradu\" + 0.047*\"factor\" + 0.040*\"discuss\" + 0.039*\"'\" + 0.034*\"1970\" + 0.034*\"relat\"\n",
      "2021-02-16 21:42:43,088 : INFO : topic #52 (0.010): 0.098*\"(\" + 0.097*\"),\" + 0.053*\"modul\" + 0.049*\"-\" + 0.040*\"acm\" + 0.036*\"goal\" + 0.024*\"comm\" + 0.024*\"semi\" + 0.023*\"tutori\" + 0.023*\"present\"\n",
      "2021-02-16 21:42:43,089 : INFO : topic #25 (0.011): 0.378*\"languag\" + 0.097*\"program\" + 0.059*\",\" + 0.055*\"-\" + 0.050*\"translat\" + 0.041*\"assembl\" + 0.036*\"machin\" + 0.016*\"compil\" + 0.015*\"processor\" + 0.013*\"present\"\n",
      "2021-02-16 21:42:43,090 : INFO : topic #66 (0.011): 0.105*\"tree\" + 0.093*\"search\" + 0.064*\",\" + 0.045*\"-\" + 0.042*\"node\" + 0.029*\"averag\" + 0.029*\"structur\" + 0.025*\"organ\" + 0.021*\"time\" + 0.019*\"binari\"\n",
      "2021-02-16 21:42:43,091 : INFO : topic #79 (0.015): 0.328*\"(\" + 0.311*\")\" + 0.218*\"algorithm\" + 0.026*\"integr\" + 0.025*\"complex\" + 0.016*\"[\" + 0.013*\"d1\" + 0.012*\"exponenti\" + 0.010*\"-\" + 0.009*\"quadratur\"\n",
      "2021-02-16 21:42:43,092 : INFO : topic diff=0.525921, rho=0.422502\n",
      "2021-02-16 21:42:44,089 : INFO : -6.708 per-word bound, 104.5 perplexity estimate based on a held-out corpus of 1204 documents with 49783 words\n",
      "2021-02-16 21:42:44,090 : INFO : PROGRESS: pass 3, at document #3204/3204\n",
      "2021-02-16 21:42:44,911 : INFO : optimized alpha [0.011101224, 0.010246249, 0.0101968935, 0.010456922, 0.010243314, 0.010295259, 0.010392015, 0.01072583, 0.010273826, 0.010828263, 0.010258367, 0.010285123, 0.011099357, 0.010177249, 0.01075407, 0.011278332, 0.009825733, 0.010062681, 0.010926138, 0.009929542, 0.010977441, 0.010057268, 0.0112037435, 0.010587473, 0.010367667, 0.011413201, 0.010663244, 0.011028108, 0.009983263, 0.010397084, 0.011657553, 0.011386304, 0.010430634, 0.01025153, 0.010833387, 0.010197453, 0.009709589, 0.010645594, 0.009994919, 0.010539455, 0.010979658, 0.010166674, 0.010467229, 0.010186015, 0.010821304, 0.010214069, 0.010029879, 0.010918488, 0.009930419, 0.011267061, 0.009712393, 0.010385343, 0.009761688, 0.010403809, 0.01003051, 0.010001588, 0.010373516, 0.0112416735, 0.010529469, 0.010303941, 0.010903899, 0.010127544, 0.010837949, 0.009733154, 0.010037624, 0.010317597, 0.011556299, 0.010626022, 0.009846684, 0.009900244, 0.01064348, 0.010507982, 0.0102452645, 0.010153229, 0.010046697, 0.011280124, 0.010697952, 0.009854853, 0.010614112, 0.0162788, 0.009959558, 0.010759673, 0.010110693, 0.010078266, 0.010780876, 0.010015323, 0.010944786, 0.0104726255, 0.010159471, 0.0104646925, 0.010971379, 0.009966245, 0.010095626, 0.010160259, 0.010703315, 0.0103629185, 0.010539295, 0.0107041905, 0.010119031, 0.0097032655]\n",
      "2021-02-16 21:42:44,919 : INFO : merging changes from 1204 documents into a model of 3204 documents\n",
      "2021-02-16 21:42:44,930 : INFO : topic #36 (0.010): 0.081*\",\" + 0.032*\"process\" + 0.030*\"edit\" + 0.029*\"data\" + 0.025*\"comput\" + 0.019*\"number\" + 0.018*\"system\" + 0.018*\"user\" + 0.017*\"interact\" + 0.017*\"-\"\n",
      "2021-02-16 21:42:44,931 : INFO : topic #99 (0.010): 0.099*\"algorithm\" + 0.063*\"fourier\" + 0.060*\"comput\" + 0.047*\"transform\" + 0.042*\"rectangular\" + 0.039*\"fast\" + 0.034*\"-\" + 0.029*\"decomposit\" + 0.027*\"seri\" + 0.021*\"univers\"\n",
      "2021-02-16 21:42:44,932 : INFO : topic #66 (0.012): 0.122*\"tree\" + 0.098*\"search\" + 0.071*\",\" + 0.047*\"node\" + 0.043*\"-\" + 0.034*\"averag\" + 0.028*\"structur\" + 0.023*\"time\" + 0.021*\"organ\" + 0.020*\"binari\"\n",
      "2021-02-16 21:42:44,933 : INFO : topic #30 (0.012): 0.201*\"structur\" + 0.104*\"definit\" + 0.081*\"concept\" + 0.078*\"defin\" + 0.072*\"recurs\" + 0.054*\"properti\" + 0.051*\"process\" + 0.048*\"corrigendum\" + 0.037*\"descript\" + 0.034*\"previou\"\n",
      "2021-02-16 21:42:44,934 : INFO : topic #79 (0.016): 0.339*\"(\" + 0.315*\")\" + 0.210*\"algorithm\" + 0.026*\"complex\" + 0.021*\"integr\" + 0.021*\"[\" + 0.013*\"d1\" + 0.010*\"-\" + 0.010*\"exponenti\" + 0.009*\"quadratur\"\n",
      "2021-02-16 21:42:44,935 : INFO : topic diff=0.638607, rho=0.422502\n",
      "2021-02-16 21:42:44,943 : INFO : PROGRESS: pass 4, at document #2000/3204\n",
      "2021-02-16 21:42:45,771 : INFO : optimized alpha [0.01147395, 0.010213108, 0.010222289, 0.010441085, 0.010337254, 0.010389346, 0.010462227, 0.010894056, 0.010341838, 0.01107996, 0.010293122, 0.010326713, 0.011113447, 0.010223567, 0.010770219, 0.011297138, 0.00982489, 0.010067629, 0.01094744, 0.009904403, 0.011176008, 0.010152307, 0.011313001, 0.010552929, 0.010400764, 0.011687178, 0.010717119, 0.011060378, 0.009986814, 0.01036762, 0.011789457, 0.011511867, 0.010440195, 0.0102710705, 0.010827985, 0.010234915, 0.009684318, 0.010687867, 0.009999232, 0.010495402, 0.01125956, 0.010159848, 0.010541241, 0.010360367, 0.01095552, 0.010232979, 0.009948359, 0.010871222, 0.009906169, 0.011278464, 0.009704843, 0.010675551, 0.009750224, 0.010476019, 0.0099729635, 0.010021922, 0.01032329, 0.011221924, 0.010659864, 0.010321444, 0.010886656, 0.010104768, 0.010913525, 0.009757291, 0.010034833, 0.010382972, 0.011512129, 0.010604711, 0.00989174, 0.009857806, 0.010697935, 0.010494397, 0.01026633, 0.010169625, 0.010045101, 0.011331272, 0.010771126, 0.0099287545, 0.010655647, 0.017754376, 0.00992659, 0.010738826, 0.010037309, 0.010131548, 0.010878439, 0.009996916, 0.010956335, 0.010516565, 0.010259726, 0.01045447, 0.011010585, 0.010024734, 0.010118723, 0.010153711, 0.010645903, 0.010347584, 0.010592798, 0.010900211, 0.010113539, 0.009711597]\n",
      "2021-02-16 21:42:45,777 : INFO : merging changes from 2000 documents into a model of 3204 documents\n",
      "2021-02-16 21:42:45,789 : INFO : topic #50 (0.010): 0.109*\"profession\" + 0.081*\"unit\" + 0.072*\"concern\" + 0.070*\"impact\" + 0.056*\"factor\" + 0.050*\"undergradu\" + 0.043*\"relat\" + 0.040*\"'\" + 0.037*\"discuss\" + 0.033*\"1970\"\n"
     ]
    },
    {
     "name": "stderr",
     "output_type": "stream",
     "text": [
      "2021-02-16 21:42:45,790 : INFO : topic #36 (0.010): 0.081*\",\" + 0.035*\"process\" + 0.030*\"data\" + 0.030*\"edit\" + 0.027*\"comput\" + 0.022*\"procedur\" + 0.019*\"system\" + 0.018*\"output\" + 0.017*\"user\" + 0.017*\"number\"\n",
      "2021-02-16 21:42:45,791 : INFO : topic #25 (0.012): 0.386*\"languag\" + 0.104*\"program\" + 0.060*\",\" + 0.058*\"-\" + 0.057*\"translat\" + 0.039*\"assembl\" + 0.035*\"machin\" + 0.019*\"compil\" + 0.012*\"comput\" + 0.012*\"processor\"\n",
      "2021-02-16 21:42:45,792 : INFO : topic #30 (0.012): 0.192*\"structur\" + 0.107*\"definit\" + 0.086*\"concept\" + 0.079*\"recurs\" + 0.077*\"defin\" + 0.057*\"process\" + 0.047*\"descript\" + 0.046*\"properti\" + 0.041*\"corrigendum\" + 0.027*\"previou\"\n",
      "2021-02-16 21:42:45,792 : INFO : topic #79 (0.018): 0.340*\"(\" + 0.322*\")\" + 0.216*\"algorithm\" + 0.023*\"complex\" + 0.023*\"integr\" + 0.014*\"[\" + 0.012*\"d1\" + 0.010*\"exponenti\" + 0.009*\"-\" + 0.008*\"quadratur\"\n",
      "2021-02-16 21:42:45,793 : INFO : topic diff=0.621223, rho=0.389191\n",
      "2021-02-16 21:42:46,660 : INFO : -6.654 per-word bound, 100.7 perplexity estimate based on a held-out corpus of 1204 documents with 49783 words\n",
      "2021-02-16 21:42:46,660 : INFO : PROGRESS: pass 4, at document #3204/3204\n",
      "2021-02-16 21:42:47,391 : INFO : optimized alpha [0.011575631, 0.010357609, 0.010377382, 0.010592945, 0.010492035, 0.010503833, 0.010581553, 0.011069679, 0.010390805, 0.011119962, 0.010429081, 0.010498125, 0.011395207, 0.01035524, 0.011031403, 0.011641703, 0.00990279, 0.010175334, 0.011218932, 0.009960313, 0.011405174, 0.010294485, 0.011631754, 0.0107112415, 0.010580581, 0.011962239, 0.010885119, 0.011298011, 0.010087472, 0.010479211, 0.012278066, 0.011854647, 0.0106161, 0.010372633, 0.011149621, 0.010341928, 0.0096885115, 0.01091, 0.010085823, 0.010674303, 0.011450813, 0.010352463, 0.010690756, 0.010440766, 0.011149717, 0.0103632705, 0.009978189, 0.010946083, 0.009976768, 0.011514515, 0.00976725, 0.010729549, 0.009832018, 0.0106807845, 0.010058737, 0.010102549, 0.010473096, 0.011613465, 0.010819527, 0.010444131, 0.011160406, 0.010263709, 0.011108344, 0.00975084, 0.010161975, 0.010540805, 0.011878867, 0.010792762, 0.009950474, 0.009903836, 0.010953261, 0.010721827, 0.010380374, 0.010237771, 0.010131833, 0.011663269, 0.010954052, 0.0099701695, 0.010833174, 0.019329075, 0.010005955, 0.010961347, 0.0101448195, 0.010254092, 0.011034545, 0.010058759, 0.011240738, 0.010706427, 0.010437746, 0.010622956, 0.0113313, 0.010095818, 0.010269349, 0.010293448, 0.010861659, 0.010545277, 0.010806665, 0.01112149, 0.010198456, 0.009711226]\n",
      "2021-02-16 21:42:47,398 : INFO : merging changes from 1204 documents into a model of 3204 documents\n",
      "2021-02-16 21:42:47,410 : INFO : topic #99 (0.010): 0.104*\"algorithm\" + 0.067*\"comput\" + 0.065*\"fourier\" + 0.058*\"transform\" + 0.053*\"fast\" + 0.041*\"rectangular\" + 0.032*\"decomposit\" + 0.032*\"-\" + 0.027*\"seri\" + 0.025*\"implement\"\n",
      "2021-02-16 21:42:47,411 : INFO : topic #63 (0.010): 0.076*\"-\" + 0.072*\"parser\" + 0.039*\",\" + 0.034*\"ordinari\" + 0.033*\"procedur\" + 0.023*\"method\" + 0.023*\"differenti\" + 0.021*\"simpl\" + 0.021*\"time\" + 0.020*\"area\"\n",
      "2021-02-16 21:42:47,412 : INFO : topic #25 (0.012): 0.399*\"languag\" + 0.106*\"program\" + 0.060*\",\" + 0.057*\"translat\" + 0.057*\"-\" + 0.035*\"assembl\" + 0.031*\"machin\" + 0.020*\"compil\" + 0.013*\"treat\" + 0.013*\"long\"\n",
      "2021-02-16 21:42:47,412 : INFO : topic #30 (0.012): 0.214*\"structur\" + 0.107*\"definit\" + 0.081*\"defin\" + 0.080*\"concept\" + 0.072*\"recurs\" + 0.053*\"properti\" + 0.053*\"process\" + 0.046*\"corrigendum\" + 0.037*\"descript\" + 0.034*\"previou\"\n",
      "2021-02-16 21:42:47,413 : INFO : topic #79 (0.019): 0.349*\"(\" + 0.325*\")\" + 0.209*\"algorithm\" + 0.025*\"complex\" + 0.019*\"integr\" + 0.016*\"[\" + 0.012*\"d1\" + 0.010*\"-\" + 0.009*\"exponenti\" + 0.008*\"quadratur\"\n",
      "2021-02-16 21:42:47,414 : INFO : topic diff=0.682843, rho=0.389191\n",
      "2021-02-16 21:42:47,423 : INFO : PROGRESS: pass 5, at document #2000/3204\n",
      "2021-02-16 21:42:48,279 : INFO : optimized alpha [0.011978705, 0.010334117, 0.010423639, 0.010593308, 0.010593695, 0.010592364, 0.010656975, 0.011239047, 0.010460674, 0.011350588, 0.010463493, 0.010553861, 0.0114234425, 0.010406267, 0.011087559, 0.011673942, 0.009915173, 0.010193185, 0.011258254, 0.009939703, 0.011600142, 0.010393379, 0.011766057, 0.010688604, 0.0106229475, 0.012229491, 0.010939412, 0.011331313, 0.010109452, 0.010467378, 0.0124191465, 0.012005507, 0.010648019, 0.010391086, 0.011142236, 0.010384662, 0.009675333, 0.010954999, 0.010097672, 0.010640494, 0.011718975, 0.01034919, 0.010762093, 0.010623178, 0.011278573, 0.010386561, 0.009904385, 0.010911261, 0.0099749975, 0.011521919, 0.009771529, 0.011012384, 0.009828967, 0.010771622, 0.010005975, 0.010132933, 0.010431881, 0.011595795, 0.010962226, 0.010456624, 0.011144547, 0.010240241, 0.011180988, 0.0097870035, 0.01016489, 0.010611566, 0.01183421, 0.010781923, 0.010020155, 0.0098672705, 0.011001377, 0.010717605, 0.010402078, 0.010261107, 0.01013992, 0.0117309075, 0.011020398, 0.010047213, 0.010881471, 0.021018097, 0.009977711, 0.010952761, 0.010086392, 0.010306004, 0.0111505445, 0.010046169, 0.0112703815, 0.010745137, 0.010569946, 0.010614986, 0.011368596, 0.01017495, 0.010296336, 0.01029287, 0.0108050285, 0.010530068, 0.010876105, 0.01132441, 0.010199376, 0.009727262]\n",
      "2021-02-16 21:42:48,287 : INFO : merging changes from 2000 documents into a model of 3204 documents\n",
      "2021-02-16 21:42:48,299 : INFO : topic #36 (0.010): 0.082*\",\" + 0.037*\"process\" + 0.032*\"edit\" + 0.029*\"data\" + 0.026*\"comput\" + 0.023*\"procedur\" + 0.020*\"output\" + 0.020*\"formul\" + 0.018*\"system\" + 0.018*\"number\"\n",
      "2021-02-16 21:42:48,300 : INFO : topic #99 (0.010): 0.094*\"algorithm\" + 0.075*\"fourier\" + 0.068*\"comput\" + 0.061*\"fast\" + 0.056*\"transform\" + 0.032*\"rectangular\" + 0.031*\"-\" + 0.031*\"seri\" + 0.029*\"decomposit\" + 0.025*\"implement\"\n",
      "2021-02-16 21:42:48,300 : INFO : topic #25 (0.012): 0.395*\"languag\" + 0.109*\"program\" + 0.062*\"translat\" + 0.062*\"-\" + 0.061*\",\" + 0.038*\"assembl\" + 0.034*\"machin\" + 0.021*\"compil\" + 0.012*\"user\" + 0.012*\"comput\"\n",
      "2021-02-16 21:42:48,301 : INFO : topic #30 (0.012): 0.207*\"structur\" + 0.110*\"definit\" + 0.084*\"concept\" + 0.080*\"defin\" + 0.078*\"recurs\" + 0.058*\"process\" + 0.047*\"descript\" + 0.046*\"properti\" + 0.040*\"corrigendum\" + 0.027*\"previou\"\n",
      "2021-02-16 21:42:48,302 : INFO : topic #79 (0.021): 0.348*\"(\" + 0.330*\")\" + 0.213*\"algorithm\" + 0.022*\"complex\" + 0.021*\"integr\" + 0.011*\"d1\" + 0.011*\"[\" + 0.009*\"-\" + 0.009*\"exponenti\" + 0.007*\"quadratur\"\n",
      "2021-02-16 21:42:48,303 : INFO : topic diff=0.625034, rho=0.362690\n",
      "2021-02-16 21:42:49,230 : INFO : -6.615 per-word bound, 98.0 perplexity estimate based on a held-out corpus of 1204 documents with 49783 words\n",
      "2021-02-16 21:42:49,231 : INFO : PROGRESS: pass 5, at document #3204/3204\n",
      "2021-02-16 21:42:49,995 : INFO : optimized alpha [0.012082812, 0.010473298, 0.010607814, 0.010745745, 0.010761857, 0.010693404, 0.010775434, 0.011424751, 0.010512934, 0.011369114, 0.010616852, 0.0107249385, 0.011690302, 0.01054587, 0.011376122, 0.012001659, 0.010000532, 0.010297647, 0.011591449, 0.009995877, 0.01181374, 0.010542891, 0.012087795, 0.010824398, 0.010802281, 0.0124837, 0.011104256, 0.011552499, 0.010216491, 0.01057566, 0.012887297, 0.012344373, 0.010836883, 0.010505619, 0.011457785, 0.010494585, 0.009689549, 0.011185233, 0.010185275, 0.010812098, 0.011892191, 0.010527939, 0.010906008, 0.010697822, 0.011465181, 0.010512185, 0.009946046, 0.010978941, 0.010057099, 0.011759214, 0.009842366, 0.0110742925, 0.009912016, 0.010978482, 0.0100869695, 0.010208769, 0.010572878, 0.01197585, 0.011129023, 0.010575169, 0.011403696, 0.01039304, 0.011378391, 0.009772941, 0.010300032, 0.010779227, 0.012186085, 0.010962472, 0.010078308, 0.009923276, 0.01126317, 0.010939083, 0.010515701, 0.01034728, 0.010227733, 0.012082418, 0.011202921, 0.010092178, 0.011048626, 0.022763466, 0.010058732, 0.011179569, 0.010193781, 0.010436614, 0.011307562, 0.010122985, 0.011560724, 0.0109439045, 0.010776444, 0.010783421, 0.01167004, 0.010263171, 0.010447379, 0.01042753, 0.011005055, 0.01069403, 0.011111443, 0.011537429, 0.010298013, 0.009736817]\n",
      "2021-02-16 21:42:50,003 : INFO : merging changes from 1204 documents into a model of 3204 documents\n",
      "2021-02-16 21:42:50,014 : INFO : topic #36 (0.010): 0.084*\",\" + 0.037*\"process\" + 0.034*\"edit\" + 0.029*\"data\" + 0.027*\"formul\" + 0.024*\"comput\" + 0.021*\"procedur\" + 0.020*\"number\" + 0.020*\"output\" + 0.019*\"strongli\"\n"
     ]
    },
    {
     "name": "stderr",
     "output_type": "stream",
     "text": [
      "2021-02-16 21:42:50,015 : INFO : topic #99 (0.010): 0.112*\"algorithm\" + 0.070*\"comput\" + 0.065*\"fourier\" + 0.065*\"transform\" + 0.064*\"fast\" + 0.040*\"rectangular\" + 0.037*\"decomposit\" + 0.032*\"implement\" + 0.030*\"-\" + 0.024*\"seri\"\n",
      "2021-02-16 21:42:50,016 : INFO : topic #25 (0.012): 0.408*\"languag\" + 0.110*\"program\" + 0.061*\"translat\" + 0.061*\",\" + 0.060*\"-\" + 0.034*\"assembl\" + 0.031*\"machin\" + 0.022*\"compil\" + 0.012*\"treat\" + 0.012*\"user\"\n",
      "2021-02-16 21:42:50,017 : INFO : topic #30 (0.013): 0.227*\"structur\" + 0.109*\"definit\" + 0.084*\"defin\" + 0.080*\"concept\" + 0.073*\"recurs\" + 0.053*\"process\" + 0.052*\"properti\" + 0.045*\"corrigendum\" + 0.037*\"descript\" + 0.033*\"previou\"\n",
      "2021-02-16 21:42:50,017 : INFO : topic #79 (0.023): 0.355*\"(\" + 0.332*\")\" + 0.207*\"algorithm\" + 0.022*\"complex\" + 0.018*\"integr\" + 0.013*\"[\" + 0.012*\"d1\" + 0.010*\"-\" + 0.008*\"exponenti\" + 0.007*\"quadratur\"\n",
      "2021-02-16 21:42:50,018 : INFO : topic diff=0.645907, rho=0.362690\n",
      "2021-02-16 21:42:50,026 : INFO : PROGRESS: pass 6, at document #2000/3204\n",
      "2021-02-16 21:42:50,859 : INFO : optimized alpha [0.012505892, 0.010451102, 0.010658524, 0.0107532, 0.010869407, 0.010784726, 0.010848883, 0.011588579, 0.010584939, 0.011577408, 0.010660015, 0.0107865315, 0.011725913, 0.010599455, 0.011469329, 0.012030241, 0.010024621, 0.01031822, 0.011677142, 0.009989377, 0.011996417, 0.010647674, 0.012240378, 0.010804919, 0.010857008, 0.01274797, 0.011174404, 0.011587166, 0.010249631, 0.010573892, 0.013029731, 0.012511843, 0.010879673, 0.010521302, 0.0114525985, 0.01053334, 0.00968166, 0.011230918, 0.010207214, 0.010781683, 0.012164871, 0.010540504, 0.010984738, 0.010883191, 0.011583998, 0.010537759, 0.009878412, 0.010949162, 0.010076792, 0.011773462, 0.00985195, 0.011355797, 0.009911262, 0.011072154, 0.010039897, 0.010256997, 0.010537697, 0.0119561115, 0.011272726, 0.010588821, 0.011385286, 0.010374145, 0.011450928, 0.009809642, 0.010311512, 0.010849779, 0.01214957, 0.010953582, 0.010144698, 0.009900058, 0.011313441, 0.0109398365, 0.010543593, 0.010383854, 0.010227019, 0.012153411, 0.0112732295, 0.010170713, 0.011111055, 0.024603665, 0.010031004, 0.011176204, 0.010148076, 0.010487517, 0.01140809, 0.010120337, 0.011595385, 0.010981895, 0.010933798, 0.010773578, 0.011705882, 0.010347159, 0.010485073, 0.010430477, 0.010952969, 0.010677466, 0.011194071, 0.011752148, 0.010300969, 0.009759523]\n",
      "2021-02-16 21:42:50,866 : INFO : merging changes from 2000 documents into a model of 3204 documents\n",
      "2021-02-16 21:42:50,878 : INFO : topic #36 (0.010): 0.084*\",\" + 0.040*\"process\" + 0.034*\"edit\" + 0.028*\"data\" + 0.026*\"procedur\" + 0.025*\"comput\" + 0.025*\"formul\" + 0.022*\"output\" + 0.018*\"number\" + 0.017*\"system\"\n",
      "2021-02-16 21:42:50,879 : INFO : topic #99 (0.010): 0.101*\"algorithm\" + 0.074*\"fourier\" + 0.070*\"fast\" + 0.070*\"comput\" + 0.065*\"transform\" + 0.033*\"implement\" + 0.032*\"rectangular\" + 0.032*\"decomposit\" + 0.030*\"-\" + 0.028*\"seri\"\n",
      "2021-02-16 21:42:50,880 : INFO : topic #25 (0.013): 0.403*\"languag\" + 0.112*\"program\" + 0.065*\"translat\" + 0.065*\"-\" + 0.061*\",\" + 0.037*\"assembl\" + 0.033*\"machin\" + 0.023*\"compil\" + 0.013*\"user\" + 0.012*\"comput\"\n",
      "2021-02-16 21:42:50,880 : INFO : topic #30 (0.013): 0.218*\"structur\" + 0.111*\"definit\" + 0.084*\"concept\" + 0.082*\"defin\" + 0.078*\"recurs\" + 0.058*\"process\" + 0.046*\"descript\" + 0.046*\"properti\" + 0.039*\"corrigendum\" + 0.027*\"previou\"\n",
      "2021-02-16 21:42:50,881 : INFO : topic #79 (0.025): 0.354*\"(\" + 0.335*\")\" + 0.212*\"algorithm\" + 0.020*\"complex\" + 0.020*\"integr\" + 0.011*\"d1\" + 0.009*\"[\" + 0.009*\"-\" + 0.009*\"exponenti\" + 0.007*\"quadratur\"\n",
      "2021-02-16 21:42:50,882 : INFO : topic diff=0.571971, rho=0.340958\n",
      "2021-02-16 21:42:51,875 : INFO : -6.583 per-word bound, 95.9 perplexity estimate based on a held-out corpus of 1204 documents with 49783 words\n",
      "2021-02-16 21:42:51,876 : INFO : PROGRESS: pass 6, at document #3204/3204\n",
      "2021-02-16 21:42:52,726 : INFO : optimized alpha [0.012644199, 0.010586252, 0.010855317, 0.010913319, 0.011044882, 0.01090181, 0.010954877, 0.011762133, 0.010637365, 0.011586814, 0.010823961, 0.010961463, 0.0119742425, 0.010732016, 0.011792204, 0.012347804, 0.010119914, 0.010426198, 0.012061874, 0.010057432, 0.012199998, 0.010792908, 0.012570854, 0.010933809, 0.011034031, 0.012991061, 0.011327821, 0.011807864, 0.010348252, 0.010682659, 0.013502609, 0.012838399, 0.011093868, 0.010624019, 0.011748308, 0.010631468, 0.00969333, 0.011460496, 0.010296214, 0.010938328, 0.012332521, 0.010719698, 0.011121297, 0.010965459, 0.011758236, 0.010666073, 0.009927486, 0.011023342, 0.010175354, 0.012020026, 0.009927697, 0.011425407, 0.0099930875, 0.011282081, 0.010125806, 0.010337769, 0.010671483, 0.012327727, 0.01144079, 0.010710367, 0.011625854, 0.010522194, 0.0116423275, 0.009803025, 0.010466581, 0.0110153165, 0.012468979, 0.011137689, 0.010202659, 0.009953732, 0.011547638, 0.011166453, 0.010651545, 0.010483407, 0.010310392, 0.012491454, 0.011443634, 0.010219048, 0.011269749, 0.026518779, 0.010116799, 0.011395527, 0.010253053, 0.010611572, 0.011560504, 0.010216552, 0.011896472, 0.011171261, 0.0111561185, 0.010942844, 0.012001357, 0.010430618, 0.010637463, 0.010567247, 0.011139927, 0.010839257, 0.011460741, 0.011962218, 0.01039468, 0.009786157]\n",
      "2021-02-16 21:42:52,734 : INFO : merging changes from 1204 documents into a model of 3204 documents\n",
      "2021-02-16 21:42:52,749 : INFO : topic #36 (0.010): 0.086*\",\" + 0.040*\"process\" + 0.036*\"edit\" + 0.032*\"formul\" + 0.028*\"data\" + 0.024*\"procedur\" + 0.022*\"output\" + 0.022*\"comput\" + 0.021*\"number\" + 0.020*\"strongli\"\n",
      "2021-02-16 21:42:52,750 : INFO : topic #63 (0.010): 0.080*\"-\" + 0.074*\"parser\" + 0.041*\",\" + 0.039*\"ordinari\" + 0.037*\"procedur\" + 0.025*\"differenti\" + 0.023*\"time\" + 0.022*\"method\" + 0.022*\"simpl\" + 0.021*\"purpos\"\n",
      "2021-02-16 21:42:52,751 : INFO : topic #25 (0.013): 0.416*\"languag\" + 0.111*\"program\" + 0.064*\"translat\" + 0.063*\"-\" + 0.061*\",\" + 0.034*\"assembl\" + 0.029*\"machin\" + 0.024*\"compil\" + 0.012*\"user\" + 0.012*\"treat\"\n",
      "2021-02-16 21:42:52,752 : INFO : topic #30 (0.014): 0.235*\"structur\" + 0.110*\"definit\" + 0.084*\"defin\" + 0.079*\"concept\" + 0.073*\"recurs\" + 0.054*\"process\" + 0.052*\"properti\" + 0.044*\"corrigendum\" + 0.037*\"descript\" + 0.033*\"previou\"\n",
      "2021-02-16 21:42:52,753 : INFO : topic #79 (0.027): 0.360*\"(\" + 0.337*\")\" + 0.207*\"algorithm\" + 0.021*\"complex\" + 0.018*\"integr\" + 0.011*\"d1\" + 0.010*\"-\" + 0.009*\"[\" + 0.008*\"exponenti\" + 0.007*\"quadratur\"\n",
      "2021-02-16 21:42:52,754 : INFO : topic diff=0.576295, rho=0.340958\n",
      "2021-02-16 21:42:52,763 : INFO : PROGRESS: pass 7, at document #2000/3204\n",
      "2021-02-16 21:42:53,651 : INFO : optimized alpha [0.013065139, 0.010565128, 0.0109227, 0.010925424, 0.011154996, 0.011003303, 0.011030273, 0.011921441, 0.010716805, 0.011771682, 0.010875456, 0.011016456, 0.012005338, 0.010791848, 0.011911442, 0.012371336, 0.01014959, 0.010451011, 0.012166558, 0.010056681, 0.012369877, 0.010907274, 0.012721373, 0.010918943, 0.011091506, 0.013253631, 0.011398284, 0.011849729, 0.010378272, 0.01068468, 0.01364052, 0.013014288, 0.011150348, 0.010646111, 0.011754896, 0.010663307, 0.009693229, 0.011507176, 0.010323998, 0.010916354, 0.012598887, 0.010734679, 0.01118915, 0.011147514, 0.01188334, 0.010692123, 0.009866453, 0.011006784, 0.010210843, 0.012054313, 0.009941925, 0.011703635, 0.00999275, 0.011380643, 0.010083531, 0.0103839375, 0.010643408, 0.0123140635, 0.011576864, 0.010728532, 0.011614829, 0.010504072, 0.011718856, 0.009838675, 0.010475515, 0.011084239, 0.012427971, 0.011130468, 0.010267832, 0.009934122, 0.011600539, 0.011166215, 0.010681731, 0.010528666, 0.010320071, 0.012553889, 0.0115124285, 0.010299221, 0.011334589, 0.028496621, 0.010100885, 0.011397008, 0.010211821, 0.010663563, 0.011673551, 0.010220971, 0.011930076, 0.011210704, 0.011336817, 0.010933118, 0.012036138, 0.01052116, 0.010680068, 0.010575053, 0.011090009, 0.0108267, 0.011554188, 0.012164139, 0.0104011195, 0.00981789]\n",
      "2021-02-16 21:42:53,659 : INFO : merging changes from 2000 documents into a model of 3204 documents\n",
      "2021-02-16 21:42:53,671 : INFO : topic #36 (0.010): 0.086*\",\" + 0.042*\"process\" + 0.035*\"edit\" + 0.029*\"procedur\" + 0.028*\"formul\" + 0.027*\"data\" + 0.025*\"output\" + 0.023*\"comput\" + 0.019*\"number\" + 0.016*\"accord\"\n",
      "2021-02-16 21:42:53,672 : INFO : topic #99 (0.010): 0.107*\"algorithm\" + 0.076*\"transform\" + 0.074*\"fast\" + 0.071*\"fourier\" + 0.070*\"comput\" + 0.040*\"implement\" + 0.034*\"decomposit\" + 0.031*\"rectangular\" + 0.028*\"-\" + 0.026*\"seri\"\n"
     ]
    },
    {
     "name": "stderr",
     "output_type": "stream",
     "text": [
      "2021-02-16 21:42:53,673 : INFO : topic #25 (0.013): 0.411*\"languag\" + 0.113*\"program\" + 0.068*\"translat\" + 0.067*\"-\" + 0.062*\",\" + 0.037*\"assembl\" + 0.031*\"machin\" + 0.024*\"compil\" + 0.014*\"user\" + 0.012*\"comput\"\n",
      "2021-02-16 21:42:53,673 : INFO : topic #30 (0.014): 0.226*\"structur\" + 0.111*\"definit\" + 0.083*\"defin\" + 0.083*\"concept\" + 0.078*\"recurs\" + 0.058*\"process\" + 0.046*\"descript\" + 0.046*\"properti\" + 0.038*\"corrigendum\" + 0.028*\"previou\"\n",
      "2021-02-16 21:42:53,674 : INFO : topic #79 (0.028): 0.358*\"(\" + 0.339*\")\" + 0.211*\"algorithm\" + 0.019*\"integr\" + 0.019*\"complex\" + 0.011*\"d1\" + 0.009*\"-\" + 0.008*\"exponenti\" + 0.007*\"quadratur\" + 0.006*\"[\"\n",
      "2021-02-16 21:42:53,675 : INFO : topic diff=0.502985, rho=0.322715\n",
      "2021-02-16 21:42:54,658 : INFO : -6.559 per-word bound, 94.3 perplexity estimate based on a held-out corpus of 1204 documents with 49783 words\n",
      "2021-02-16 21:42:54,658 : INFO : PROGRESS: pass 7, at document #3204/3204\n",
      "2021-02-16 21:42:55,531 : INFO : optimized alpha [0.013227508, 0.010700126, 0.011129372, 0.01108446, 0.011326268, 0.011132719, 0.0111342855, 0.012087474, 0.010766747, 0.011782697, 0.011047113, 0.011195801, 0.012256774, 0.010927319, 0.012260329, 0.012704143, 0.010248853, 0.010568425, 0.0125875175, 0.010119235, 0.012561684, 0.011058056, 0.013051838, 0.011039194, 0.011252273, 0.013487353, 0.011572428, 0.012061447, 0.010483679, 0.0107828695, 0.014131157, 0.013348572, 0.011395569, 0.010755867, 0.012052313, 0.01075701, 0.009715681, 0.011743305, 0.010406271, 0.011066062, 0.012772239, 0.010909342, 0.011316562, 0.011231285, 0.012056531, 0.01081196, 0.009919445, 0.011072111, 0.010316171, 0.01228832, 0.010025111, 0.011777749, 0.010081897, 0.011588608, 0.010157693, 0.010469416, 0.010771276, 0.012666433, 0.0117470855, 0.010847571, 0.011855293, 0.010645646, 0.011902302, 0.009833186, 0.010652408, 0.011242718, 0.012724979, 0.01130676, 0.010317558, 0.009993902, 0.011841161, 0.011386746, 0.010793552, 0.010629509, 0.0103970785, 0.0128906295, 0.011666139, 0.010342492, 0.01150153, 0.030536726, 0.010188477, 0.011610522, 0.010320541, 0.01078213, 0.011819206, 0.010315676, 0.0122300815, 0.011398333, 0.011578607, 0.011103956, 0.012330502, 0.010608995, 0.010823085, 0.01070864, 0.011262867, 0.010981338, 0.0118242195, 0.012352906, 0.010504861, 0.009862324]\n",
      "2021-02-16 21:42:55,539 : INFO : merging changes from 1204 documents into a model of 3204 documents\n",
      "2021-02-16 21:42:55,553 : INFO : topic #36 (0.010): 0.088*\",\" + 0.043*\"process\" + 0.038*\"edit\" + 0.036*\"formul\" + 0.027*\"data\" + 0.026*\"procedur\" + 0.024*\"output\" + 0.021*\"comput\" + 0.020*\"accord\" + 0.020*\"strongli\"\n",
      "2021-02-16 21:42:55,554 : INFO : topic #63 (0.010): 0.081*\"-\" + 0.074*\"parser\" + 0.042*\",\" + 0.040*\"ordinari\" + 0.040*\"procedur\" + 0.026*\"differenti\" + 0.025*\"time\" + 0.022*\"purpos\" + 0.021*\"gener\" + 0.021*\"simpl\"\n",
      "2021-02-16 21:42:55,555 : INFO : topic #25 (0.013): 0.422*\"languag\" + 0.112*\"program\" + 0.066*\"translat\" + 0.065*\"-\" + 0.062*\",\" + 0.034*\"assembl\" + 0.028*\"machin\" + 0.026*\"compil\" + 0.013*\"user\" + 0.011*\"complet\"\n",
      "2021-02-16 21:42:55,555 : INFO : topic #30 (0.014): 0.242*\"structur\" + 0.111*\"definit\" + 0.084*\"defin\" + 0.078*\"concept\" + 0.073*\"recurs\" + 0.054*\"process\" + 0.051*\"properti\" + 0.043*\"corrigendum\" + 0.038*\"descript\" + 0.033*\"previou\"\n",
      "2021-02-16 21:42:55,557 : INFO : topic #79 (0.031): 0.364*\"(\" + 0.342*\")\" + 0.205*\"algorithm\" + 0.020*\"complex\" + 0.018*\"integr\" + 0.011*\"d1\" + 0.010*\"-\" + 0.008*\"exponenti\" + 0.007*\"quadratur\" + 0.006*\"[\"\n",
      "2021-02-16 21:42:55,558 : INFO : topic diff=0.503483, rho=0.322715\n",
      "2021-02-16 21:42:55,566 : INFO : PROGRESS: pass 8, at document #2000/3204\n",
      "2021-02-16 21:42:56,510 : INFO : optimized alpha [0.013650469, 0.010684896, 0.01120419, 0.011100859, 0.01143234, 0.01123382, 0.011213717, 0.012241237, 0.01084992, 0.011953487, 0.011101387, 0.01124994, 0.01229127, 0.010984616, 0.012396043, 0.012730852, 0.010280501, 0.0105987, 0.012705089, 0.010123747, 0.012725737, 0.01117691, 0.013215174, 0.011025166, 0.011310766, 0.013742974, 0.011639808, 0.012108526, 0.010517397, 0.010793494, 0.014267229, 0.013527329, 0.011472171, 0.010778789, 0.012055251, 0.010790984, 0.009720913, 0.011794526, 0.010431591, 0.011043329, 0.013037425, 0.010923345, 0.011388696, 0.011410922, 0.012167784, 0.010838625, 0.009862516, 0.011062319, 0.010364782, 0.012333805, 0.010045131, 0.012043076, 0.010083374, 0.011688639, 0.010119687, 0.010515525, 0.0107478285, 0.012651016, 0.0118874125, 0.010870033, 0.011841939, 0.01062818, 0.011966278, 0.009872491, 0.010676863, 0.011312207, 0.012683983, 0.011306368, 0.010381965, 0.009980534, 0.0119021805, 0.011389115, 0.01082763, 0.010669728, 0.010401913, 0.012955198, 0.011742903, 0.010418167, 0.011568917, 0.0326435, 0.010178366, 0.011609364, 0.010284745, 0.010827034, 0.011929931, 0.010331316, 0.012257066, 0.011440984, 0.011786261, 0.011099435, 0.012360511, 0.010697739, 0.010865519, 0.010727577, 0.01121846, 0.010972513, 0.011928439, 0.012547, 0.010509554, 0.009900727]\n",
      "2021-02-16 21:42:56,518 : INFO : merging changes from 2000 documents into a model of 3204 documents\n",
      "2021-02-16 21:42:56,530 : INFO : topic #36 (0.010): 0.088*\",\" + 0.045*\"process\" + 0.038*\"edit\" + 0.031*\"formul\" + 0.030*\"procedur\" + 0.027*\"output\" + 0.026*\"data\" + 0.022*\"comput\" + 0.019*\"number\" + 0.017*\"accord\"\n",
      "2021-02-16 21:42:56,531 : INFO : topic #46 (0.010): 0.077*\",\" + 0.048*\"-\" + 0.044*\"deadlock\" + 0.035*\"driven\" + 0.034*\"prevent\" + 0.033*\"system\" + 0.029*\"increment\" + 0.019*\"select\" + 0.018*\"approach\" + 0.017*\"benefit\"\n",
      "2021-02-16 21:42:56,532 : INFO : topic #25 (0.014): 0.417*\"languag\" + 0.113*\"program\" + 0.070*\"translat\" + 0.068*\"-\" + 0.062*\",\" + 0.037*\"assembl\" + 0.030*\"machin\" + 0.027*\"compil\" + 0.015*\"user\" + 0.012*\"comput\"\n",
      "2021-02-16 21:42:56,533 : INFO : topic #30 (0.014): 0.234*\"structur\" + 0.112*\"definit\" + 0.084*\"defin\" + 0.081*\"concept\" + 0.078*\"recurs\" + 0.057*\"process\" + 0.045*\"descript\" + 0.045*\"properti\" + 0.038*\"corrigendum\" + 0.028*\"previou\"\n",
      "2021-02-16 21:42:56,533 : INFO : topic #79 (0.033): 0.361*\"(\" + 0.342*\")\" + 0.209*\"algorithm\" + 0.019*\"integr\" + 0.018*\"complex\" + 0.011*\"d1\" + 0.009*\"-\" + 0.009*\"exponenti\" + 0.007*\"quadratur\" + 0.004*\"[\"\n",
      "2021-02-16 21:42:56,534 : INFO : topic diff=0.437482, rho=0.307119\n",
      "2021-02-16 21:42:57,526 : INFO : -6.540 per-word bound, 93.1 perplexity estimate based on a held-out corpus of 1204 documents with 49783 words\n",
      "2021-02-16 21:42:57,527 : INFO : PROGRESS: pass 8, at document #3204/3204\n",
      "2021-02-16 21:42:58,350 : INFO : optimized alpha [0.01380537, 0.010820248, 0.011435379, 0.011256642, 0.011609119, 0.0113724815, 0.01131925, 0.012416436, 0.010897701, 0.011972303, 0.01126393, 0.011425619, 0.01254669, 0.011117666, 0.012768798, 0.01305044, 0.010378451, 0.010722377, 0.013157482, 0.010191852, 0.012910275, 0.011342121, 0.013547076, 0.011143504, 0.011474358, 0.013957872, 0.01181045, 0.012312521, 0.010613197, 0.010887922, 0.014755597, 0.013863353, 0.01173062, 0.010884297, 0.012349343, 0.010883782, 0.009748164, 0.012022766, 0.010521332, 0.011184258, 0.013213607, 0.011097106, 0.011528466, 0.0114935525, 0.012337532, 0.010959335, 0.009916565, 0.011136926, 0.010482028, 0.012579011, 0.010135391, 0.012125025, 0.010171725, 0.0119044585, 0.010191188, 0.010602891, 0.010881775, 0.012995844, 0.01205121, 0.010981672, 0.012073906, 0.010772387, 0.012139811, 0.009865365, 0.010858493, 0.011461814, 0.012970763, 0.01147609, 0.010429656, 0.010035682, 0.012150059, 0.011601765, 0.010943468, 0.0107609695, 0.010478664, 0.0133053735, 0.011902858, 0.010456948, 0.011741394, 0.03474694, 0.01028089, 0.011824271, 0.010394569, 0.010938231, 0.012069886, 0.010441017, 0.012541442, 0.011621815, 0.012021242, 0.011263906, 0.012636033, 0.010790162, 0.011014145, 0.010864234, 0.011387499, 0.011121144, 0.012199705, 0.012738313, 0.0106173605, 0.009953898]\n",
      "2021-02-16 21:42:58,358 : INFO : merging changes from 1204 documents into a model of 3204 documents\n",
      "2021-02-16 21:42:58,370 : INFO : topic #36 (0.010): 0.090*\",\" + 0.045*\"process\" + 0.040*\"edit\" + 0.039*\"formul\" + 0.029*\"procedur\" + 0.026*\"data\" + 0.026*\"output\" + 0.021*\"accord\" + 0.020*\"number\" + 0.020*\"comput\"\n",
      "2021-02-16 21:42:58,371 : INFO : topic #63 (0.010): 0.083*\"-\" + 0.074*\"parser\" + 0.044*\",\" + 0.041*\"procedur\" + 0.041*\"ordinari\" + 0.026*\"differenti\" + 0.026*\"time\" + 0.023*\"purpos\" + 0.022*\"gener\" + 0.020*\"simpl\"\n"
     ]
    },
    {
     "name": "stderr",
     "output_type": "stream",
     "text": [
      "2021-02-16 21:42:58,371 : INFO : topic #25 (0.014): 0.430*\"languag\" + 0.112*\"program\" + 0.068*\"translat\" + 0.067*\"-\" + 0.062*\",\" + 0.034*\"assembl\" + 0.027*\"compil\" + 0.027*\"machin\" + 0.014*\"user\" + 0.011*\"complet\"\n",
      "2021-02-16 21:42:58,372 : INFO : topic #30 (0.015): 0.249*\"structur\" + 0.113*\"definit\" + 0.085*\"defin\" + 0.078*\"concept\" + 0.074*\"recurs\" + 0.054*\"process\" + 0.046*\"properti\" + 0.043*\"corrigendum\" + 0.038*\"descript\" + 0.034*\"previou\"\n",
      "2021-02-16 21:42:58,372 : INFO : topic #79 (0.035): 0.367*\"(\" + 0.345*\")\" + 0.202*\"algorithm\" + 0.019*\"complex\" + 0.017*\"integr\" + 0.011*\"d1\" + 0.010*\"-\" + 0.008*\"exponenti\" + 0.007*\"quadratur\" + 0.004*\"[\"\n",
      "2021-02-16 21:42:58,373 : INFO : topic diff=0.439056, rho=0.307119\n",
      "2021-02-16 21:42:58,382 : INFO : PROGRESS: pass 9, at document #2000/3204\n",
      "2021-02-16 21:42:59,275 : INFO : optimized alpha [0.014229175, 0.010811974, 0.011513995, 0.011285492, 0.011716746, 0.01148193, 0.011392593, 0.012565594, 0.010982953, 0.012121605, 0.011321045, 0.011475808, 0.01258458, 0.011177884, 0.012920992, 0.013080339, 0.010409031, 0.010754687, 0.013297965, 0.010193598, 0.013067485, 0.01147072, 0.013731538, 0.01113682, 0.01153231, 0.014217726, 0.011880457, 0.012364595, 0.010645822, 0.010900016, 0.01489033, 0.014047571, 0.011826708, 0.010908122, 0.012348864, 0.010919827, 0.009752337, 0.012064468, 0.010555185, 0.011162443, 0.0134729175, 0.011111884, 0.011606503, 0.011673089, 0.012452408, 0.010986553, 0.009864603, 0.01113803, 0.010538279, 0.012629621, 0.010160782, 0.012384183, 0.010176459, 0.012004493, 0.010155497, 0.010649061, 0.010864143, 0.012982597, 0.012190757, 0.011004942, 0.012065544, 0.010753908, 0.0122047495, 0.009906632, 0.010886516, 0.01153207, 0.012929793, 0.011477092, 0.010490367, 0.01002203, 0.012208262, 0.0116067175, 0.010986112, 0.010803023, 0.01048834, 0.013370189, 0.011978478, 0.010536327, 0.011807919, 0.036945306, 0.010271443, 0.011829467, 0.010368193, 0.010979937, 0.01218234, 0.010465345, 0.01257361, 0.011664347, 0.012247365, 0.011264292, 0.012667572, 0.010875915, 0.011058108, 0.0108807385, 0.0113463355, 0.011114128, 0.012312862, 0.012931091, 0.010628253, 0.010001499]\n",
      "2021-02-16 21:42:59,282 : INFO : merging changes from 2000 documents into a model of 3204 documents\n",
      "2021-02-16 21:42:59,295 : INFO : topic #36 (0.010): 0.090*\",\" + 0.047*\"process\" + 0.040*\"edit\" + 0.034*\"formul\" + 0.032*\"procedur\" + 0.029*\"output\" + 0.026*\"data\" + 0.021*\"comput\" + 0.019*\"number\" + 0.017*\"accord\"\n",
      "2021-02-16 21:42:59,296 : INFO : topic #46 (0.010): 0.074*\",\" + 0.046*\"-\" + 0.045*\"deadlock\" + 0.036*\"driven\" + 0.035*\"prevent\" + 0.034*\"system\" + 0.029*\"increment\" + 0.020*\"select\" + 0.019*\"approach\" + 0.018*\"reflect\"\n",
      "2021-02-16 21:42:59,297 : INFO : topic #0 (0.014): 0.245*\"[\" + 0.185*\"algorithm\" + 0.168*\"(\" + 0.161*\"])\" + 0.024*\"random\" + 0.021*\"number\" + 0.017*\"-\" + 0.016*\"tridiagon\" + 0.014*\"gener\" + 0.013*\"polynomi\"\n",
      "2021-02-16 21:42:59,298 : INFO : topic #30 (0.015): 0.241*\"structur\" + 0.114*\"definit\" + 0.085*\"defin\" + 0.081*\"concept\" + 0.078*\"recurs\" + 0.056*\"process\" + 0.045*\"descript\" + 0.041*\"properti\" + 0.038*\"corrigendum\" + 0.029*\"previou\"\n",
      "2021-02-16 21:42:59,298 : INFO : topic #79 (0.037): 0.364*\"(\" + 0.345*\")\" + 0.207*\"algorithm\" + 0.019*\"integr\" + 0.018*\"complex\" + 0.011*\"d1\" + 0.009*\"-\" + 0.009*\"exponenti\" + 0.006*\"quadratur\" + 0.003*\"'\"\n",
      "2021-02-16 21:42:59,299 : INFO : topic diff=0.381640, rho=0.293585\n",
      "2021-02-16 21:43:00,180 : INFO : -6.523 per-word bound, 92.0 perplexity estimate based on a held-out corpus of 1204 documents with 49783 words\n",
      "2021-02-16 21:43:00,181 : INFO : PROGRESS: pass 9, at document #3204/3204\n",
      "2021-02-16 21:43:00,911 : INFO : optimized alpha [0.01438778, 0.010950562, 0.011750105, 0.011438743, 0.011893711, 0.01161583, 0.011502673, 0.012744113, 0.0110289045, 0.012136174, 0.011486579, 0.011645681, 0.012823144, 0.011308917, 0.013328816, 0.013391321, 0.010506122, 0.010876822, 0.0137646105, 0.0102519225, 0.013239302, 0.011642009, 0.014066066, 0.011248379, 0.011707607, 0.014429012, 0.012062943, 0.012568202, 0.010743467, 0.010993781, 0.015363271, 0.014386522, 0.012096073, 0.011012654, 0.012628619, 0.011014679, 0.009779077, 0.012294845, 0.010644378, 0.011306639, 0.013642784, 0.011285587, 0.011761436, 0.011754911, 0.012616402, 0.011100353, 0.009924516, 0.011207513, 0.010656768, 0.012880354, 0.010262821, 0.012464908, 0.010281766, 0.012225757, 0.010234716, 0.010741179, 0.010990817, 0.013318085, 0.012357953, 0.011118119, 0.012293237, 0.010890495, 0.012381552, 0.009900474, 0.011078557, 0.011682161, 0.013207785, 0.011643925, 0.010536306, 0.010082898, 0.012455292, 0.011818232, 0.011103323, 0.010891084, 0.010565011, 0.013715175, 0.01214475, 0.010581409, 0.01198621, 0.039096627, 0.010378061, 0.012028828, 0.010474199, 0.011087172, 0.012326424, 0.010571165, 0.012859217, 0.011839368, 0.012509263, 0.011420433, 0.012928955, 0.010967591, 0.011196326, 0.011010092, 0.011509584, 0.011263079, 0.0125803575, 0.013119475, 0.010745417, 0.010057788]\n",
      "2021-02-16 21:43:00,918 : INFO : merging changes from 1204 documents into a model of 3204 documents\n",
      "2021-02-16 21:43:00,929 : INFO : topic #36 (0.010): 0.092*\",\" + 0.046*\"process\" + 0.043*\"edit\" + 0.041*\"formul\" + 0.033*\"procedur\" + 0.026*\"data\" + 0.026*\"output\" + 0.021*\"accord\" + 0.020*\"strongli\" + 0.019*\"number\"\n",
      "2021-02-16 21:43:00,930 : INFO : topic #63 (0.010): 0.082*\"-\" + 0.075*\"parser\" + 0.045*\",\" + 0.041*\"ordinari\" + 0.041*\"procedur\" + 0.027*\"time\" + 0.027*\"differenti\" + 0.024*\"purpos\" + 0.022*\"gener\" + 0.020*\"simpl\"\n",
      "2021-02-16 21:43:00,931 : INFO : topic #25 (0.014): 0.436*\"languag\" + 0.111*\"program\" + 0.069*\"translat\" + 0.068*\"-\" + 0.063*\",\" + 0.034*\"assembl\" + 0.028*\"compil\" + 0.026*\"machin\" + 0.015*\"user\" + 0.010*\"comput\"\n",
      "2021-02-16 21:43:00,931 : INFO : topic #30 (0.015): 0.255*\"structur\" + 0.116*\"definit\" + 0.086*\"defin\" + 0.077*\"concept\" + 0.074*\"recurs\" + 0.053*\"process\" + 0.042*\"corrigendum\" + 0.042*\"properti\" + 0.038*\"descript\" + 0.035*\"previou\"\n",
      "2021-02-16 21:43:00,932 : INFO : topic #79 (0.039): 0.369*\"(\" + 0.348*\")\" + 0.200*\"algorithm\" + 0.019*\"complex\" + 0.018*\"integr\" + 0.011*\"d1\" + 0.010*\"-\" + 0.008*\"exponenti\" + 0.007*\"quadratur\" + 0.003*\"'\"\n",
      "2021-02-16 21:43:00,933 : INFO : topic diff=0.385764, rho=0.293585\n",
      "2021-02-16 21:43:00,941 : INFO : PROGRESS: pass 10, at document #2000/3204\n",
      "2021-02-16 21:43:01,876 : INFO : optimized alpha [0.0148116015, 0.010950333, 0.011829363, 0.0114697125, 0.011999836, 0.011722137, 0.0115671875, 0.012887413, 0.011119477, 0.012279233, 0.01154823, 0.011692305, 0.012859012, 0.011371984, 0.013499894, 0.013415059, 0.010535783, 0.010908044, 0.013918731, 0.010254073, 0.013397739, 0.011775394, 0.014250219, 0.011240519, 0.011763592, 0.014677397, 0.012137234, 0.012625284, 0.010778145, 0.011004155, 0.015490642, 0.014564149, 0.012201202, 0.011032674, 0.012630347, 0.0110496245, 0.009786536, 0.012341441, 0.010677247, 0.01129992, 0.013894897, 0.011305888, 0.011835277, 0.011928318, 0.01271719, 0.011122021, 0.009879687, 0.011213977, 0.0107218865, 0.012939717, 0.010293226, 0.0127239125, 0.010287895, 0.012327899, 0.010203798, 0.010787424, 0.010972352, 0.013301509, 0.012493682, 0.011140661, 0.012287743, 0.010875686, 0.012452925, 0.009939444, 0.011117793, 0.011750078, 0.01317242, 0.0116479, 0.010605604, 0.010075953, 0.012516318, 0.011827259, 0.011139837, 0.010936503, 0.010573196, 0.013786346, 0.012224757, 0.010657, 0.012055452, 0.041367907, 0.010372058, 0.012033298, 0.010456387, 0.011125968, 0.012440838, 0.010602242, 0.01289278, 0.011885237, 0.01273348, 0.011420626, 0.012958473, 0.011056929, 0.011243468, 0.011035346, 0.011469717, 0.011259367, 0.012702641, 0.013307751, 0.010760563, 0.010112562]\n",
      "2021-02-16 21:43:01,884 : INFO : merging changes from 2000 documents into a model of 3204 documents\n",
      "2021-02-16 21:43:01,897 : INFO : topic #36 (0.010): 0.092*\",\" + 0.049*\"process\" + 0.042*\"edit\" + 0.036*\"procedur\" + 0.036*\"formul\" + 0.029*\"output\" + 0.026*\"data\" + 0.019*\"comput\" + 0.018*\"accord\" + 0.018*\"number\"\n",
      "2021-02-16 21:43:01,898 : INFO : topic #46 (0.010): 0.072*\",\" + 0.045*\"deadlock\" + 0.045*\"-\" + 0.036*\"driven\" + 0.035*\"prevent\" + 0.035*\"system\" + 0.030*\"increment\" + 0.021*\"select\" + 0.020*\"approach\" + 0.020*\"reflect\"\n",
      "2021-02-16 21:43:01,898 : INFO : topic #0 (0.015): 0.252*\"[\" + 0.189*\"algorithm\" + 0.170*\"(\" + 0.162*\"])\" + 0.021*\"random\" + 0.019*\"number\" + 0.017*\"-\" + 0.016*\"tridiagon\" + 0.013*\"polynomi\" + 0.013*\"g5\"\n"
     ]
    },
    {
     "name": "stderr",
     "output_type": "stream",
     "text": [
      "2021-02-16 21:43:01,899 : INFO : topic #30 (0.015): 0.246*\"structur\" + 0.116*\"definit\" + 0.086*\"defin\" + 0.080*\"concept\" + 0.078*\"recurs\" + 0.056*\"process\" + 0.045*\"descript\" + 0.038*\"corrigendum\" + 0.038*\"properti\" + 0.030*\"previou\"\n",
      "2021-02-16 21:43:01,900 : INFO : topic #79 (0.041): 0.366*\"(\" + 0.347*\")\" + 0.206*\"algorithm\" + 0.019*\"integr\" + 0.017*\"complex\" + 0.011*\"d1\" + 0.010*\"-\" + 0.009*\"exponenti\" + 0.006*\"quadratur\" + 0.003*\"'\"\n",
      "2021-02-16 21:43:01,901 : INFO : topic diff=0.335497, rho=0.281696\n",
      "2021-02-16 21:43:02,855 : INFO : -6.511 per-word bound, 91.2 perplexity estimate based on a held-out corpus of 1204 documents with 49783 words\n",
      "2021-02-16 21:43:02,855 : INFO : PROGRESS: pass 10, at document #3204/3204\n",
      "2021-02-16 21:43:03,690 : INFO : optimized alpha [0.014967148, 0.011082043, 0.012068195, 0.011623808, 0.012174572, 0.011862775, 0.011679234, 0.013069604, 0.011161157, 0.012287013, 0.011719654, 0.011848961, 0.013103195, 0.011504253, 0.01395696, 0.013721724, 0.010637179, 0.011021257, 0.0144108655, 0.010310681, 0.013564082, 0.011964113, 0.014588346, 0.011345922, 0.011922848, 0.01487511, 0.012320125, 0.0128380135, 0.010872711, 0.01109497, 0.015956162, 0.014910339, 0.0124679115, 0.011136527, 0.012908901, 0.011146648, 0.009810573, 0.012577336, 0.010766122, 0.01143428, 0.014065588, 0.011495784, 0.011991198, 0.012006884, 0.012864077, 0.011229653, 0.009942675, 0.011300183, 0.010836704, 0.013202511, 0.010392075, 0.012800672, 0.010399705, 0.012555159, 0.010290357, 0.010879123, 0.011102804, 0.013625525, 0.012661688, 0.011247685, 0.012517717, 0.011005485, 0.012615671, 0.00993884, 0.011315124, 0.011895542, 0.013433279, 0.011818024, 0.010644895, 0.010132686, 0.012757121, 0.012030028, 0.011261256, 0.011037339, 0.010647512, 0.014139952, 0.012386097, 0.010698056, 0.01222574, 0.04355467, 0.010485231, 0.01223833, 0.0105688805, 0.011229836, 0.012592123, 0.0107147135, 0.013186645, 0.012055212, 0.013020012, 0.011572026, 0.013212975, 0.0111481305, 0.011387934, 0.011155542, 0.011622441, 0.01140365, 0.012979283, 0.013490657, 0.010879224, 0.01017416]\n",
      "2021-02-16 21:43:03,699 : INFO : merging changes from 1204 documents into a model of 3204 documents\n",
      "2021-02-16 21:43:03,712 : INFO : topic #36 (0.010): 0.093*\",\" + 0.048*\"process\" + 0.044*\"edit\" + 0.042*\"formul\" + 0.036*\"procedur\" + 0.027*\"data\" + 0.026*\"output\" + 0.021*\"accord\" + 0.020*\"strongli\" + 0.019*\"number\"\n",
      "2021-02-16 21:43:03,713 : INFO : topic #63 (0.010): 0.082*\"-\" + 0.075*\"parser\" + 0.047*\",\" + 0.043*\"procedur\" + 0.041*\"ordinari\" + 0.028*\"time\" + 0.027*\"differenti\" + 0.024*\"purpos\" + 0.023*\"gener\" + 0.020*\"comput\"\n",
      "2021-02-16 21:43:03,714 : INFO : topic #0 (0.015): 0.274*\"[\" + 0.192*\"algorithm\" + 0.159*\"(\" + 0.134*\"])\" + 0.021*\"tridiagon\" + 0.021*\"random\" + 0.019*\"number\" + 0.017*\"-\" + 0.014*\"g5\" + 0.014*\"procedur\"\n",
      "2021-02-16 21:43:03,715 : INFO : topic #30 (0.016): 0.260*\"structur\" + 0.118*\"definit\" + 0.087*\"defin\" + 0.076*\"concept\" + 0.075*\"recurs\" + 0.053*\"process\" + 0.042*\"corrigendum\" + 0.039*\"properti\" + 0.038*\"descript\" + 0.035*\"previou\"\n",
      "2021-02-16 21:43:03,716 : INFO : topic #79 (0.044): 0.370*\"(\" + 0.349*\")\" + 0.200*\"algorithm\" + 0.018*\"complex\" + 0.018*\"integr\" + 0.011*\"d1\" + 0.010*\"-\" + 0.008*\"exponenti\" + 0.007*\"quadratur\" + 0.003*\"'\"\n",
      "2021-02-16 21:43:03,717 : INFO : topic diff=0.341460, rho=0.281696\n",
      "2021-02-16 21:43:03,728 : INFO : PROGRESS: pass 11, at document #2000/3204\n",
      "2021-02-16 21:43:04,622 : INFO : optimized alpha [0.015383523, 0.011081776, 0.012153141, 0.01166001, 0.012276184, 0.011967918, 0.011746711, 0.013209256, 0.01125389, 0.012427923, 0.0117857475, 0.011897185, 0.013140758, 0.011567008, 0.014149446, 0.013747204, 0.010667455, 0.011054577, 0.014569171, 0.010313186, 0.013720408, 0.01210744, 0.01478812, 0.011340086, 0.011990128, 0.015132849, 0.012390455, 0.012898321, 0.010903467, 0.011109861, 0.016089465, 0.015096293, 0.012575267, 0.011159093, 0.012911009, 0.011185198, 0.009822386, 0.012621939, 0.010798136, 0.011426174, 0.014318854, 0.011522806, 0.012069327, 0.012176317, 0.012953264, 0.011252251, 0.009900172, 0.011309872, 0.010910528, 0.013266764, 0.010430069, 0.013060075, 0.010409942, 0.012661156, 0.010263766, 0.010928526, 0.011090993, 0.013607511, 0.012794034, 0.011269641, 0.012516765, 0.01099265, 0.012679677, 0.009979819, 0.011355873, 0.011959782, 0.013397953, 0.01182801, 0.010709494, 0.010129214, 0.012817565, 0.012036545, 0.011296685, 0.011083033, 0.010655764, 0.014209696, 0.012470536, 0.010775985, 0.0122911725, 0.045873377, 0.010480927, 0.0122421365, 0.010551767, 0.011266001, 0.012708669, 0.010747765, 0.013219842, 0.012102858, 0.013249975, 0.011568876, 0.013244319, 0.011236599, 0.011432002, 0.011181484, 0.011583848, 0.011403043, 0.013102082, 0.013680367, 0.010891001, 0.010230338]\n",
      "2021-02-16 21:43:04,630 : INFO : merging changes from 2000 documents into a model of 3204 documents\n",
      "2021-02-16 21:43:04,643 : INFO : topic #36 (0.010): 0.093*\",\" + 0.050*\"process\" + 0.043*\"edit\" + 0.038*\"procedur\" + 0.037*\"formul\" + 0.030*\"output\" + 0.026*\"data\" + 0.018*\"accord\" + 0.018*\"number\" + 0.018*\"sum\"\n",
      "2021-02-16 21:43:04,644 : INFO : topic #46 (0.010): 0.069*\",\" + 0.045*\"deadlock\" + 0.043*\"-\" + 0.036*\"driven\" + 0.036*\"system\" + 0.035*\"prevent\" + 0.030*\"increment\" + 0.022*\"select\" + 0.021*\"reflect\" + 0.020*\"approach\"\n",
      "2021-02-16 21:43:04,644 : INFO : topic #0 (0.015): 0.258*\"[\" + 0.192*\"algorithm\" + 0.172*\"(\" + 0.163*\"])\" + 0.019*\"random\" + 0.017*\"-\" + 0.017*\"number\" + 0.016*\"tridiagon\" + 0.013*\"polynomi\" + 0.013*\"g5\"\n",
      "2021-02-16 21:43:04,645 : INFO : topic #30 (0.016): 0.252*\"structur\" + 0.119*\"definit\" + 0.087*\"defin\" + 0.080*\"concept\" + 0.079*\"recurs\" + 0.056*\"process\" + 0.044*\"descript\" + 0.038*\"corrigendum\" + 0.035*\"properti\" + 0.030*\"previou\"\n",
      "2021-02-16 21:43:04,645 : INFO : topic #79 (0.046): 0.367*\"(\" + 0.348*\")\" + 0.206*\"algorithm\" + 0.019*\"integr\" + 0.017*\"complex\" + 0.011*\"d1\" + 0.010*\"-\" + 0.009*\"exponenti\" + 0.006*\"quadratur\" + 0.002*\"'\"\n",
      "2021-02-16 21:43:04,646 : INFO : topic diff=0.297962, rho=0.271143\n",
      "2021-02-16 21:43:05,481 : INFO : -6.501 per-word bound, 90.5 perplexity estimate based on a held-out corpus of 1204 documents with 49783 words\n",
      "2021-02-16 21:43:05,482 : INFO : PROGRESS: pass 11, at document #3204/3204\n",
      "2021-02-16 21:43:06,158 : INFO : optimized alpha [0.015539778, 0.0112123005, 0.01239518, 0.011817915, 0.012454718, 0.012118041, 0.011855456, 0.013392544, 0.0113043245, 0.012449122, 0.011952831, 0.012057483, 0.013376073, 0.011706036, 0.01463349, 0.014043996, 0.010765942, 0.011177108, 0.015068579, 0.010368338, 0.013881818, 0.012313648, 0.015147247, 0.011445086, 0.012153339, 0.0153213395, 0.012574155, 0.013108635, 0.011000241, 0.011198152, 0.016555615, 0.015443777, 0.01284856, 0.011262591, 0.013180181, 0.011281876, 0.009848327, 0.012849475, 0.010889258, 0.01155674, 0.014481012, 0.011705489, 0.01223736, 0.01225195, 0.01310779, 0.011361925, 0.009961597, 0.011398951, 0.011022205, 0.013533111, 0.010537871, 0.013145005, 0.0105374055, 0.012891826, 0.010354935, 0.01102004, 0.011217893, 0.01392117, 0.012960386, 0.01137617, 0.012749596, 0.0111187855, 0.012840866, 0.009984306, 0.011556282, 0.012098477, 0.013649098, 0.011993537, 0.010750028, 0.010186773, 0.013073175, 0.0122259185, 0.01141988, 0.011183538, 0.010723211, 0.014556752, 0.0126246475, 0.010815747, 0.012459669, 0.048041936, 0.010602804, 0.012436264, 0.010665873, 0.011364346, 0.012855669, 0.01085697, 0.013504543, 0.012262792, 0.013529162, 0.011716068, 0.013486675, 0.011327524, 0.011572596, 0.011295672, 0.011737495, 0.011540663, 0.013382388, 0.013864413, 0.01101125, 0.010292491]\n",
      "2021-02-16 21:43:06,165 : INFO : merging changes from 1204 documents into a model of 3204 documents\n",
      "2021-02-16 21:43:06,178 : INFO : topic #36 (0.010): 0.094*\",\" + 0.049*\"process\" + 0.045*\"edit\" + 0.043*\"formul\" + 0.038*\"procedur\" + 0.027*\"output\" + 0.027*\"data\" + 0.022*\"accord\" + 0.020*\"strongli\" + 0.019*\"number\"\n",
      "2021-02-16 21:43:06,178 : INFO : topic #46 (0.010): 0.067*\",\" + 0.050*\"deadlock\" + 0.041*\"driven\" + 0.041*\"-\" + 0.037*\"prevent\" + 0.037*\"system\" + 0.031*\"increment\" + 0.025*\"reflect\" + 0.022*\"approach\" + 0.021*\"benefit\"\n",
      "2021-02-16 21:43:06,179 : INFO : topic #0 (0.016): 0.280*\"[\" + 0.193*\"algorithm\" + 0.161*\"(\" + 0.136*\"])\" + 0.021*\"tridiagon\" + 0.019*\"random\" + 0.018*\"number\" + 0.017*\"-\" + 0.014*\"procedur\" + 0.014*\"g5\"\n"
     ]
    },
    {
     "name": "stderr",
     "output_type": "stream",
     "text": [
      "2021-02-16 21:43:06,180 : INFO : topic #30 (0.017): 0.266*\"structur\" + 0.120*\"definit\" + 0.088*\"defin\" + 0.076*\"concept\" + 0.076*\"recurs\" + 0.053*\"process\" + 0.042*\"corrigendum\" + 0.038*\"descript\" + 0.036*\"properti\" + 0.036*\"previou\"\n",
      "2021-02-16 21:43:06,181 : INFO : topic #79 (0.048): 0.370*\"(\" + 0.350*\")\" + 0.201*\"algorithm\" + 0.018*\"complex\" + 0.018*\"integr\" + 0.011*\"d1\" + 0.010*\"-\" + 0.008*\"exponenti\" + 0.007*\"quadratur\" + 0.002*\"'\"\n",
      "2021-02-16 21:43:06,182 : INFO : topic diff=0.303936, rho=0.271143\n",
      "2021-02-16 21:43:06,190 : INFO : PROGRESS: pass 12, at document #2000/3204\n",
      "2021-02-16 21:43:06,982 : INFO : optimized alpha [0.01595934, 0.011210517, 0.012485846, 0.011862341, 0.012555429, 0.012225362, 0.011924285, 0.013528965, 0.011394838, 0.012583301, 0.012021773, 0.012105735, 0.013415497, 0.011765489, 0.014827148, 0.014071079, 0.010799711, 0.01121091, 0.015241193, 0.010375344, 0.0140365185, 0.012460724, 0.015361335, 0.0114380745, 0.012225299, 0.0155768385, 0.012645687, 0.013168624, 0.011030236, 0.011212868, 0.016684165, 0.015640479, 0.012965156, 0.011286148, 0.01318284, 0.011320941, 0.009864148, 0.012895742, 0.010923371, 0.011548893, 0.014733813, 0.011742125, 0.012316663, 0.012417931, 0.013199902, 0.0113884285, 0.009922486, 0.011410134, 0.011102987, 0.013593178, 0.0105762165, 0.013402066, 0.010552842, 0.012998507, 0.0103308605, 0.011069689, 0.0112094255, 0.013901956, 0.013093069, 0.011399043, 0.012754617, 0.011107812, 0.012906355, 0.010031075, 0.011598602, 0.012162515, 0.013613857, 0.0120077, 0.010817341, 0.010186509, 0.013126182, 0.012231765, 0.011455831, 0.011232412, 0.010732999, 0.014629251, 0.012708442, 0.010891855, 0.012531331, 0.05039354, 0.010604208, 0.01243945, 0.010652167, 0.011396658, 0.012977992, 0.010894889, 0.013537557, 0.012315414, 0.013768688, 0.011715939, 0.013516277, 0.0114138415, 0.011616888, 0.011328357, 0.011703116, 0.01154154, 0.013511001, 0.014050656, 0.011027013, 0.010350018]\n",
      "2021-02-16 21:43:06,990 : INFO : merging changes from 2000 documents into a model of 3204 documents\n",
      "2021-02-16 21:43:07,002 : INFO : topic #36 (0.010): 0.093*\",\" + 0.051*\"process\" + 0.044*\"edit\" + 0.041*\"procedur\" + 0.038*\"formul\" + 0.032*\"output\" + 0.026*\"data\" + 0.019*\"accord\" + 0.018*\"number\" + 0.018*\"sum\"\n",
      "2021-02-16 21:43:07,003 : INFO : topic #46 (0.010): 0.066*\",\" + 0.045*\"deadlock\" + 0.042*\"-\" + 0.037*\"system\" + 0.036*\"driven\" + 0.035*\"prevent\" + 0.030*\"increment\" + 0.022*\"select\" + 0.022*\"reflect\" + 0.021*\"approach\"\n",
      "2021-02-16 21:43:07,003 : INFO : topic #0 (0.016): 0.263*\"[\" + 0.193*\"algorithm\" + 0.173*\"(\" + 0.164*\"])\" + 0.018*\"-\" + 0.017*\"random\" + 0.016*\"tridiagon\" + 0.016*\"number\" + 0.013*\"polynomi\" + 0.013*\"procedur\"\n",
      "2021-02-16 21:43:07,004 : INFO : topic #30 (0.017): 0.258*\"structur\" + 0.120*\"definit\" + 0.087*\"defin\" + 0.080*\"recurs\" + 0.079*\"concept\" + 0.055*\"process\" + 0.044*\"descript\" + 0.038*\"corrigendum\" + 0.032*\"properti\" + 0.031*\"previou\"\n",
      "2021-02-16 21:43:07,004 : INFO : topic #79 (0.050): 0.367*\"(\" + 0.349*\")\" + 0.207*\"algorithm\" + 0.019*\"integr\" + 0.016*\"complex\" + 0.011*\"d1\" + 0.010*\"-\" + 0.008*\"exponenti\" + 0.006*\"quadratur\" + 0.002*\"'\"\n",
      "2021-02-16 21:43:07,005 : INFO : topic diff=0.266311, rho=0.261694\n",
      "2021-02-16 21:43:07,853 : INFO : -6.490 per-word bound, 89.9 perplexity estimate based on a held-out corpus of 1204 documents with 49783 words\n",
      "2021-02-16 21:43:07,854 : INFO : PROGRESS: pass 12, at document #3204/3204\n",
      "2021-02-16 21:43:08,551 : INFO : optimized alpha [0.016116723, 0.011337713, 0.012731628, 0.012021666, 0.012732595, 0.012371829, 0.012035291, 0.0137077095, 0.011443774, 0.012597984, 0.012192871, 0.012267367, 0.013648557, 0.011898442, 0.015326407, 0.014361875, 0.010905044, 0.011330387, 0.015758805, 0.01043147, 0.014196588, 0.012652049, 0.015722658, 0.01154785, 0.012384734, 0.015760062, 0.012825122, 0.013379951, 0.011122071, 0.0112988455, 0.017147876, 0.015989814, 0.013248412, 0.011384477, 0.013454957, 0.011422472, 0.009887528, 0.013123985, 0.01101451, 0.011678581, 0.014891224, 0.011928306, 0.0124915, 0.012493611, 0.0133532975, 0.011497707, 0.009984671, 0.011499355, 0.011214278, 0.013851263, 0.010685917, 0.013489347, 0.010684104, 0.013244599, 0.010424304, 0.011165988, 0.011342858, 0.014209136, 0.013258115, 0.011507703, 0.0129852025, 0.011230688, 0.013057915, 0.010033582, 0.01179739, 0.012300253, 0.013865012, 0.012169199, 0.010859036, 0.010249372, 0.013376768, 0.0124272425, 0.011575848, 0.011325362, 0.010801054, 0.0149768405, 0.012869904, 0.010937566, 0.012698472, 0.052541982, 0.010725394, 0.012628946, 0.010765642, 0.01149241, 0.013121241, 0.011008474, 0.013810865, 0.01247415, 0.0140617695, 0.0118568735, 0.01375616, 0.011502201, 0.011758963, 0.011449525, 0.011845035, 0.011680672, 0.013807495, 0.0142272245, 0.011146661, 0.010415005]\n",
      "2021-02-16 21:43:08,559 : INFO : merging changes from 1204 documents into a model of 3204 documents\n",
      "2021-02-16 21:43:08,571 : INFO : topic #36 (0.010): 0.095*\",\" + 0.050*\"process\" + 0.046*\"edit\" + 0.044*\"formul\" + 0.041*\"procedur\" + 0.028*\"output\" + 0.027*\"data\" + 0.022*\"accord\" + 0.020*\"strongli\" + 0.018*\"number\"\n",
      "2021-02-16 21:43:08,571 : INFO : topic #46 (0.010): 0.064*\",\" + 0.050*\"deadlock\" + 0.041*\"driven\" + 0.040*\"-\" + 0.038*\"system\" + 0.037*\"prevent\" + 0.031*\"increment\" + 0.025*\"reflect\" + 0.022*\"approach\" + 0.022*\"benefit\"\n",
      "2021-02-16 21:43:08,572 : INFO : topic #0 (0.016): 0.285*\"[\" + 0.194*\"algorithm\" + 0.163*\"(\" + 0.138*\"])\" + 0.021*\"tridiagon\" + 0.018*\"-\" + 0.017*\"random\" + 0.016*\"number\" + 0.015*\"procedur\" + 0.014*\"g5\"\n",
      "2021-02-16 21:43:08,573 : INFO : topic #30 (0.017): 0.269*\"structur\" + 0.121*\"definit\" + 0.088*\"defin\" + 0.077*\"recurs\" + 0.076*\"concept\" + 0.053*\"process\" + 0.042*\"corrigendum\" + 0.038*\"descript\" + 0.036*\"previou\" + 0.032*\"properti\"\n",
      "2021-02-16 21:43:08,573 : INFO : topic #79 (0.053): 0.370*\"(\" + 0.351*\")\" + 0.201*\"algorithm\" + 0.018*\"integr\" + 0.017*\"complex\" + 0.011*\"d1\" + 0.011*\"-\" + 0.008*\"exponenti\" + 0.007*\"quadratur\" + 0.002*\"'\"\n",
      "2021-02-16 21:43:08,574 : INFO : topic diff=0.272771, rho=0.261694\n",
      "2021-02-16 21:43:08,583 : INFO : PROGRESS: pass 13, at document #2000/3204\n",
      "2021-02-16 21:43:09,374 : INFO : optimized alpha [0.016527591, 0.011338816, 0.012823346, 0.01206326, 0.012830991, 0.012478374, 0.0120994495, 0.013844611, 0.011536672, 0.012732322, 0.0122615965, 0.0123173045, 0.013688089, 0.0119610075, 0.015531068, 0.014390777, 0.010939333, 0.011367696, 0.01593622, 0.010439982, 0.014342643, 0.012812474, 0.015943628, 0.011542684, 0.012459646, 0.016013743, 0.012893142, 0.01343635, 0.011151414, 0.01131193, 0.017276406, 0.016176907, 0.013372675, 0.011410423, 0.013454647, 0.011466396, 0.009904631, 0.013171885, 0.011047833, 0.011675401, 0.01514034, 0.011962148, 0.012576784, 0.012654854, 0.013439799, 0.011523571, 0.009947321, 0.011512046, 0.011297623, 0.013909413, 0.010726016, 0.013744488, 0.010703112, 0.013353772, 0.010402492, 0.011214479, 0.011341773, 0.014201491, 0.013391441, 0.01152859, 0.0129910335, 0.011218591, 0.01312175, 0.0100781955, 0.011841334, 0.012364185, 0.013826168, 0.012182756, 0.010927616, 0.010255968, 0.0134329, 0.012435561, 0.0116138095, 0.011377435, 0.010809501, 0.015048288, 0.012953421, 0.01101061, 0.012773089, 0.054936238, 0.010726773, 0.01263643, 0.010753739, 0.0115239825, 0.013234289, 0.011049612, 0.013843827, 0.012528512, 0.014307892, 0.011855119, 0.013779026, 0.011588039, 0.011802033, 0.011479865, 0.011814619, 0.0116858585, 0.0139299845, 0.014415616, 0.011164826, 0.010476533]\n",
      "2021-02-16 21:43:09,380 : INFO : merging changes from 2000 documents into a model of 3204 documents\n",
      "2021-02-16 21:43:09,392 : INFO : topic #36 (0.010): 0.095*\",\" + 0.053*\"process\" + 0.045*\"edit\" + 0.044*\"procedur\" + 0.039*\"formul\" + 0.033*\"output\" + 0.026*\"data\" + 0.019*\"accord\" + 0.018*\"sum\" + 0.018*\"number\"\n",
      "2021-02-16 21:43:09,393 : INFO : topic #46 (0.010): 0.063*\",\" + 0.046*\"deadlock\" + 0.041*\"-\" + 0.038*\"system\" + 0.036*\"driven\" + 0.035*\"prevent\" + 0.030*\"increment\" + 0.023*\"select\" + 0.022*\"reflect\" + 0.021*\"approach\"\n",
      "2021-02-16 21:43:09,394 : INFO : topic #0 (0.017): 0.268*\"[\" + 0.193*\"algorithm\" + 0.175*\"(\" + 0.165*\"])\" + 0.018*\"-\" + 0.016*\"tridiagon\" + 0.015*\"random\" + 0.014*\"number\" + 0.013*\"procedur\" + 0.013*\"polynomi\"\n",
      "2021-02-16 21:43:09,395 : INFO : topic #30 (0.017): 0.261*\"structur\" + 0.122*\"definit\" + 0.088*\"defin\" + 0.081*\"recurs\" + 0.079*\"concept\" + 0.055*\"process\" + 0.043*\"descript\" + 0.038*\"corrigendum\" + 0.031*\"previou\" + 0.029*\"properti\"\n"
     ]
    },
    {
     "name": "stderr",
     "output_type": "stream",
     "text": [
      "2021-02-16 21:43:09,396 : INFO : topic #79 (0.055): 0.367*\"(\" + 0.350*\")\" + 0.207*\"algorithm\" + 0.019*\"integr\" + 0.016*\"complex\" + 0.011*\"d1\" + 0.010*\"-\" + 0.008*\"exponenti\" + 0.006*\"quadratur\" + 0.002*\"'\"\n",
      "2021-02-16 21:43:09,397 : INFO : topic diff=0.239640, rho=0.253169\n",
      "2021-02-16 21:43:10,638 : INFO : -6.482 per-word bound, 89.4 perplexity estimate based on a held-out corpus of 1204 documents with 49783 words\n",
      "2021-02-16 21:43:10,639 : INFO : PROGRESS: pass 13, at document #3204/3204\n",
      "2021-02-16 21:43:11,485 : INFO : optimized alpha [0.016682858, 0.011462987, 0.013078736, 0.012219141, 0.013004418, 0.01262937, 0.012205104, 0.014030884, 0.011584219, 0.012746277, 0.012431695, 0.012480505, 0.013910611, 0.012093329, 0.01603016, 0.014673194, 0.01104907, 0.01149407, 0.016456254, 0.010497132, 0.014498703, 0.013013715, 0.016310588, 0.0116523, 0.012628963, 0.01619546, 0.013060515, 0.0136462515, 0.011245767, 0.011391041, 0.01774198, 0.016542245, 0.013663534, 0.011506405, 0.01371592, 0.011563043, 0.009927672, 0.013395839, 0.011139099, 0.011811815, 0.015290062, 0.012149528, 0.012747953, 0.012728121, 0.013595231, 0.011630265, 0.010010263, 0.011599279, 0.0114231445, 0.014195437, 0.010839962, 0.013828429, 0.010838186, 0.013598549, 0.010495992, 0.011308353, 0.011472103, 0.014502983, 0.013555578, 0.01163713, 0.013217036, 0.011338556, 0.013280933, 0.010083175, 0.0120538, 0.012503888, 0.014069054, 0.012343186, 0.010968212, 0.010319558, 0.013704497, 0.012624238, 0.011735902, 0.011470549, 0.0108805215, 0.015381028, 0.013105652, 0.011059751, 0.012933811, 0.057044145, 0.0108429, 0.012827285, 0.010866794, 0.011617424, 0.013379727, 0.011162784, 0.014115096, 0.012686355, 0.014606491, 0.011992719, 0.014022738, 0.01168143, 0.011940873, 0.011593327, 0.01196074, 0.011824125, 0.01424003, 0.014588046, 0.011291151, 0.010539854]\n",
      "2021-02-16 21:43:11,494 : INFO : merging changes from 1204 documents into a model of 3204 documents\n",
      "2021-02-16 21:43:11,509 : INFO : topic #36 (0.010): 0.095*\",\" + 0.051*\"process\" + 0.047*\"edit\" + 0.045*\"formul\" + 0.045*\"procedur\" + 0.030*\"output\" + 0.027*\"data\" + 0.022*\"accord\" + 0.020*\"strongli\" + 0.019*\"small\"\n",
      "2021-02-16 21:43:11,511 : INFO : topic #46 (0.010): 0.062*\",\" + 0.050*\"deadlock\" + 0.041*\"driven\" + 0.039*\"system\" + 0.039*\"-\" + 0.038*\"prevent\" + 0.031*\"increment\" + 0.026*\"reflect\" + 0.023*\"approach\" + 0.022*\"benefit\"\n",
      "2021-02-16 21:43:11,512 : INFO : topic #0 (0.017): 0.289*\"[\" + 0.194*\"algorithm\" + 0.165*\"(\" + 0.140*\"])\" + 0.021*\"tridiagon\" + 0.018*\"-\" + 0.016*\"random\" + 0.015*\"number\" + 0.014*\"procedur\" + 0.014*\"g5\"\n",
      "2021-02-16 21:43:11,513 : INFO : topic #30 (0.018): 0.273*\"structur\" + 0.122*\"definit\" + 0.089*\"defin\" + 0.078*\"recurs\" + 0.076*\"concept\" + 0.053*\"process\" + 0.042*\"corrigendum\" + 0.037*\"descript\" + 0.036*\"previou\" + 0.030*\"properti\"\n",
      "2021-02-16 21:43:11,514 : INFO : topic #79 (0.057): 0.370*\"(\" + 0.351*\")\" + 0.202*\"algorithm\" + 0.017*\"integr\" + 0.017*\"complex\" + 0.011*\"d1\" + 0.011*\"-\" + 0.008*\"exponenti\" + 0.007*\"quadratur\" + 0.002*\"'\"\n",
      "2021-02-16 21:43:11,515 : INFO : topic diff=0.245728, rho=0.253169\n",
      "2021-02-16 21:43:11,528 : INFO : PROGRESS: pass 14, at document #2000/3204\n",
      "2021-02-16 21:43:12,811 : INFO : optimized alpha [0.017089328, 0.011465461, 0.013171486, 0.01226721, 0.013102296, 0.012735325, 0.012266337, 0.014166823, 0.011672381, 0.012879475, 0.012497244, 0.012529057, 0.013952127, 0.012151451, 0.016240235, 0.014700459, 0.011086636, 0.01153184, 0.016644591, 0.010508377, 0.014648992, 0.013183137, 0.016538655, 0.0116460025, 0.012710094, 0.01644356, 0.013131597, 0.013712784, 0.011275902, 0.011404026, 0.017872866, 0.016734302, 0.013778713, 0.01152901, 0.013716212, 0.011610283, 0.009944753, 0.0134421885, 0.011171718, 0.011811627, 0.015539477, 0.0121852225, 0.012832936, 0.012888111, 0.013686526, 0.011656979, 0.00997447, 0.0116162505, 0.011502049, 0.014263972, 0.010881805, 0.014080309, 0.010859275, 0.013713732, 0.010478915, 0.011358559, 0.011473778, 0.014495766, 0.013683043, 0.011657564, 0.013225356, 0.011328213, 0.013348137, 0.010130775, 0.012094869, 0.012564804, 0.014032027, 0.01236075, 0.011039469, 0.010330062, 0.013762004, 0.012631893, 0.011778802, 0.011524381, 0.010890384, 0.015449756, 0.013185589, 0.011131318, 0.013005087, 0.059470005, 0.010845596, 0.012831016, 0.010856588, 0.0116483625, 0.01349388, 0.011207103, 0.014144606, 0.012742516, 0.014852451, 0.0119909085, 0.01404427, 0.011766935, 0.011988691, 0.011631587, 0.011929604, 0.0118334, 0.014363408, 0.014775234, 0.0113116475, 0.010601448]\n",
      "2021-02-16 21:43:12,824 : INFO : merging changes from 2000 documents into a model of 3204 documents\n",
      "2021-02-16 21:43:12,845 : INFO : topic #46 (0.010): 0.061*\",\" + 0.046*\"deadlock\" + 0.040*\"-\" + 0.039*\"system\" + 0.036*\"driven\" + 0.035*\"prevent\" + 0.030*\"increment\" + 0.023*\"select\" + 0.023*\"reflect\" + 0.022*\"approach\"\n",
      "2021-02-16 21:43:12,847 : INFO : topic #36 (0.010): 0.094*\",\" + 0.054*\"process\" + 0.046*\"procedur\" + 0.046*\"edit\" + 0.040*\"formul\" + 0.034*\"output\" + 0.027*\"data\" + 0.019*\"accord\" + 0.019*\"sum\" + 0.018*\"prepar\"\n",
      "2021-02-16 21:43:12,849 : INFO : topic #0 (0.017): 0.272*\"[\" + 0.193*\"algorithm\" + 0.176*\"(\" + 0.166*\"])\" + 0.019*\"-\" + 0.016*\"tridiagon\" + 0.014*\"random\" + 0.013*\"number\" + 0.013*\"polynomi\" + 0.013*\"procedur\"\n",
      "2021-02-16 21:43:12,850 : INFO : topic #30 (0.018): 0.265*\"structur\" + 0.122*\"definit\" + 0.089*\"defin\" + 0.082*\"recurs\" + 0.079*\"concept\" + 0.055*\"process\" + 0.043*\"descript\" + 0.038*\"corrigendum\" + 0.031*\"previou\" + 0.027*\"properti\"\n",
      "2021-02-16 21:43:12,851 : INFO : topic #79 (0.059): 0.367*\"(\" + 0.349*\")\" + 0.207*\"algorithm\" + 0.019*\"integr\" + 0.016*\"complex\" + 0.011*\"d1\" + 0.010*\"-\" + 0.008*\"exponenti\" + 0.006*\"quadratur\" + 0.002*\"'\"\n",
      "2021-02-16 21:43:12,854 : INFO : topic diff=0.216858, rho=0.245426\n",
      "2021-02-16 21:43:14,422 : INFO : -6.475 per-word bound, 88.9 perplexity estimate based on a held-out corpus of 1204 documents with 49783 words\n",
      "2021-02-16 21:43:14,423 : INFO : PROGRESS: pass 14, at document #3204/3204\n",
      "2021-02-16 21:43:15,268 : INFO : optimized alpha [0.017235676, 0.011586871, 0.013431392, 0.012417427, 0.013269642, 0.012880573, 0.012367042, 0.014352261, 0.011718711, 0.012895276, 0.012674305, 0.012691454, 0.014173314, 0.012288345, 0.016762426, 0.014978013, 0.011198515, 0.01165795, 0.017184611, 0.010564307, 0.01480432, 0.013383875, 0.016905325, 0.011750785, 0.012865647, 0.016624065, 0.013298137, 0.013927323, 0.0113681285, 0.011481438, 0.018337153, 0.017099267, 0.014060611, 0.011625226, 0.013978294, 0.011714217, 0.009969572, 0.013684351, 0.011258635, 0.011942617, 0.015694564, 0.012371636, 0.0130060185, 0.012959131, 0.013830151, 0.011761284, 0.010036148, 0.011706423, 0.011622625, 0.014548867, 0.010999992, 0.014166892, 0.011000534, 0.01396041, 0.010568177, 0.011452611, 0.011605934, 0.014792125, 0.013838181, 0.011766114, 0.013460906, 0.011447867, 0.013509488, 0.010142182, 0.012296452, 0.012701465, 0.014284155, 0.012522976, 0.011087989, 0.010398607, 0.014029544, 0.012819292, 0.011900743, 0.011620123, 0.010957619, 0.015780719, 0.013334514, 0.011181566, 0.013162419, 0.06148411, 0.010963677, 0.013025993, 0.010976042, 0.011742114, 0.01362494, 0.011320096, 0.01440839, 0.012904961, 0.0151660545, 0.012123093, 0.014271953, 0.011853257, 0.012124614, 0.011744972, 0.01206757, 0.011973594, 0.014681642, 0.0149559425, 0.011432976, 0.010674101]\n",
      "2021-02-16 21:43:15,277 : INFO : merging changes from 1204 documents into a model of 3204 documents\n",
      "2021-02-16 21:43:15,290 : INFO : topic #36 (0.010): 0.094*\",\" + 0.052*\"process\" + 0.048*\"edit\" + 0.047*\"procedur\" + 0.047*\"formul\" + 0.031*\"output\" + 0.028*\"data\" + 0.022*\"accord\" + 0.021*\"strongli\" + 0.020*\"small\"\n",
      "2021-02-16 21:43:15,291 : INFO : topic #46 (0.010): 0.060*\",\" + 0.050*\"deadlock\" + 0.041*\"driven\" + 0.040*\"system\" + 0.038*\"-\" + 0.038*\"prevent\" + 0.031*\"increment\" + 0.027*\"reflect\" + 0.023*\"approach\" + 0.022*\"benefit\"\n",
      "2021-02-16 21:43:15,293 : INFO : topic #18 (0.017): 0.288*\"problem\" + 0.077*\",\" + 0.061*\"solut\" + 0.055*\"solv\" + 0.049*\"program\" + 0.031*\"paper\" + 0.024*\"-\" + 0.017*\"time\" + 0.015*\"shown\" + 0.015*\"comput\"\n",
      "2021-02-16 21:43:15,295 : INFO : topic #30 (0.018): 0.277*\"structur\" + 0.123*\"definit\" + 0.089*\"defin\" + 0.079*\"recurs\" + 0.076*\"concept\" + 0.053*\"process\" + 0.042*\"corrigendum\" + 0.037*\"descript\" + 0.036*\"previou\" + 0.028*\"properti\"\n"
     ]
    },
    {
     "name": "stderr",
     "output_type": "stream",
     "text": [
      "2021-02-16 21:43:15,297 : INFO : topic #79 (0.061): 0.369*\"(\" + 0.351*\")\" + 0.203*\"algorithm\" + 0.017*\"integr\" + 0.017*\"complex\" + 0.011*\"d1\" + 0.011*\"-\" + 0.008*\"exponenti\" + 0.007*\"quadratur\" + 0.002*\"'\"\n",
      "2021-02-16 21:43:15,298 : INFO : topic diff=0.222445, rho=0.245426\n",
      "2021-02-16 21:43:15,307 : INFO : PROGRESS: pass 15, at document #2000/3204\n",
      "2021-02-16 21:43:16,134 : INFO : optimized alpha [0.01763994, 0.011592078, 0.013523766, 0.01246437, 0.01336402, 0.01298154, 0.012428516, 0.0144892, 0.011806673, 0.013027538, 0.012748958, 0.012740269, 0.014221872, 0.012346709, 0.016980235, 0.015003617, 0.011237905, 0.011696205, 0.017380256, 0.0105794165, 0.0149502335, 0.013557648, 0.017154742, 0.011746175, 0.01294514, 0.016873023, 0.013362797, 0.013990435, 0.011399047, 0.0114985, 0.018461792, 0.01731521, 0.014188655, 0.011650248, 0.013979237, 0.011761899, 0.009990209, 0.013733994, 0.01128928, 0.011946604, 0.01594089, 0.012404792, 0.013086068, 0.013115016, 0.013931187, 0.01178885, 0.010003018, 0.011723114, 0.011711335, 0.01461519, 0.0110474415, 0.014415833, 0.011023657, 0.014078347, 0.010550437, 0.011505919, 0.011615836, 0.014782069, 0.013960112, 0.011784733, 0.013474799, 0.011437797, 0.013570241, 0.010191442, 0.012339224, 0.012762534, 0.014247078, 0.012544457, 0.01116188, 0.010410336, 0.014085108, 0.01282174, 0.011942742, 0.011671449, 0.010967469, 0.015841166, 0.013409596, 0.011253127, 0.01323836, 0.063919604, 0.010967627, 0.013026079, 0.0109660765, 0.011775258, 0.013738507, 0.011366207, 0.014441536, 0.012961358, 0.015408498, 0.012125669, 0.014290615, 0.011937163, 0.012171358, 0.011781012, 0.012041544, 0.011986868, 0.014799018, 0.015140465, 0.01145436, 0.010737073]\n",
      "2021-02-16 21:43:16,142 : INFO : merging changes from 2000 documents into a model of 3204 documents\n",
      "2021-02-16 21:43:16,157 : INFO : topic #46 (0.010): 0.059*\",\" + 0.046*\"deadlock\" + 0.040*\"system\" + 0.039*\"-\" + 0.037*\"driven\" + 0.036*\"prevent\" + 0.030*\"increment\" + 0.024*\"reflect\" + 0.023*\"select\" + 0.022*\"approach\"\n",
      "2021-02-16 21:43:16,158 : INFO : topic #36 (0.010): 0.094*\",\" + 0.054*\"process\" + 0.049*\"procedur\" + 0.046*\"edit\" + 0.041*\"formul\" + 0.035*\"output\" + 0.027*\"data\" + 0.019*\"accord\" + 0.019*\"sum\" + 0.018*\"prepar\"\n",
      "2021-02-16 21:43:16,158 : INFO : topic #0 (0.018): 0.275*\"[\" + 0.194*\"algorithm\" + 0.178*\"(\" + 0.166*\"])\" + 0.019*\"-\" + 0.016*\"tridiagon\" + 0.014*\"random\" + 0.013*\"polynomi\" + 0.013*\"procedur\" + 0.013*\"g5\"\n",
      "2021-02-16 21:43:16,160 : INFO : topic #30 (0.018): 0.269*\"structur\" + 0.123*\"definit\" + 0.088*\"defin\" + 0.083*\"recurs\" + 0.079*\"concept\" + 0.055*\"process\" + 0.043*\"descript\" + 0.038*\"corrigendum\" + 0.031*\"previou\" + 0.025*\"properti\"\n",
      "2021-02-16 21:43:16,163 : INFO : topic #79 (0.064): 0.366*\"(\" + 0.350*\")\" + 0.208*\"algorithm\" + 0.018*\"integr\" + 0.016*\"complex\" + 0.011*\"d1\" + 0.011*\"-\" + 0.009*\"exponenti\" + 0.006*\"quadratur\" + 0.001*\"'\"\n",
      "2021-02-16 21:43:16,165 : INFO : topic diff=0.197701, rho=0.238352\n",
      "2021-02-16 21:43:17,198 : INFO : -6.468 per-word bound, 88.5 perplexity estimate based on a held-out corpus of 1204 documents with 49783 words\n",
      "2021-02-16 21:43:17,199 : INFO : PROGRESS: pass 15, at document #3204/3204\n",
      "2021-02-16 21:43:18,019 : INFO : optimized alpha [0.017784463, 0.011715685, 0.013796562, 0.012619227, 0.0135282315, 0.013123905, 0.012527077, 0.014671139, 0.0118494695, 0.013047716, 0.01292294, 0.012904597, 0.0144476835, 0.012480861, 0.017519826, 0.015291613, 0.0113497935, 0.01182217, 0.017930932, 0.010632124, 0.0151051255, 0.013774157, 0.01753516, 0.011846422, 0.013095349, 0.017049225, 0.013520778, 0.014198598, 0.011487043, 0.011581239, 0.018924993, 0.01768705, 0.014493076, 0.011744431, 0.014237075, 0.011856685, 0.01001477, 0.013975226, 0.011374379, 0.012079783, 0.016095184, 0.012607802, 0.013261281, 0.013186579, 0.014077483, 0.011891032, 0.010067565, 0.011809053, 0.011838977, 0.014908514, 0.011159005, 0.014496574, 0.01116233, 0.014321487, 0.010639995, 0.011598013, 0.011747736, 0.015073705, 0.014111924, 0.011891032, 0.01370385, 0.011557301, 0.013731253, 0.010202775, 0.012545033, 0.012901482, 0.014486159, 0.012711232, 0.011211504, 0.010481592, 0.014362948, 0.013003018, 0.012059856, 0.011760542, 0.011035513, 0.016170805, 0.013555556, 0.011302214, 0.013410839, 0.06582067, 0.01108336, 0.013227873, 0.01108094, 0.011869404, 0.013875054, 0.011485955, 0.014695408, 0.013123224, 0.015722254, 0.012260003, 0.0145199895, 0.012023888, 0.012304614, 0.011887366, 0.012174339, 0.012124346, 0.015117018, 0.015320601, 0.011571016, 0.010803932]\n",
      "2021-02-16 21:43:18,028 : INFO : merging changes from 1204 documents into a model of 3204 documents\n",
      "2021-02-16 21:43:18,041 : INFO : topic #36 (0.010): 0.095*\",\" + 0.053*\"process\" + 0.049*\"procedur\" + 0.048*\"edit\" + 0.047*\"formul\" + 0.031*\"output\" + 0.028*\"data\" + 0.022*\"accord\" + 0.021*\"strongli\" + 0.021*\"small\"\n",
      "2021-02-16 21:43:18,042 : INFO : topic #46 (0.010): 0.058*\",\" + 0.050*\"deadlock\" + 0.041*\"system\" + 0.041*\"driven\" + 0.038*\"prevent\" + 0.037*\"-\" + 0.031*\"increment\" + 0.027*\"reflect\" + 0.023*\"approach\" + 0.023*\"benefit\"\n",
      "2021-02-16 21:43:18,043 : INFO : topic #18 (0.018): 0.293*\"problem\" + 0.077*\",\" + 0.061*\"solut\" + 0.055*\"solv\" + 0.049*\"program\" + 0.031*\"paper\" + 0.024*\"-\" + 0.016*\"time\" + 0.015*\"shown\" + 0.014*\"comput\"\n",
      "2021-02-16 21:43:18,043 : INFO : topic #30 (0.019): 0.281*\"structur\" + 0.123*\"definit\" + 0.089*\"defin\" + 0.080*\"recurs\" + 0.076*\"concept\" + 0.053*\"process\" + 0.042*\"corrigendum\" + 0.037*\"descript\" + 0.036*\"previou\" + 0.026*\"properti\"\n",
      "2021-02-16 21:43:18,044 : INFO : topic #79 (0.066): 0.369*\"(\" + 0.351*\")\" + 0.204*\"algorithm\" + 0.017*\"complex\" + 0.017*\"integr\" + 0.011*\"-\" + 0.011*\"d1\" + 0.008*\"exponenti\" + 0.007*\"quadratur\" + 0.001*\"'\"\n",
      "2021-02-16 21:43:18,045 : INFO : topic diff=0.202954, rho=0.238352\n",
      "2021-02-16 21:43:18,055 : INFO : PROGRESS: pass 16, at document #2000/3204\n",
      "2021-02-16 21:43:18,828 : INFO : optimized alpha [0.018188834, 0.011726129, 0.013893467, 0.012670971, 0.013622408, 0.013220074, 0.012590291, 0.0148075335, 0.011934512, 0.013179255, 0.012997577, 0.012952232, 0.014491472, 0.012539471, 0.017751671, 0.015315637, 0.011394988, 0.011859655, 0.018130094, 0.010648432, 0.015250385, 0.013952518, 0.017798752, 0.0118407095, 0.013177896, 0.017295143, 0.013584015, 0.014263462, 0.011517376, 0.011598116, 0.019049961, 0.017900381, 0.0146190915, 0.011769003, 0.014237009, 0.011906227, 0.010037628, 0.014026631, 0.011407141, 0.012082198, 0.016338672, 0.012642768, 0.013345886, 0.013341686, 0.014176701, 0.011913933, 0.010036847, 0.011825601, 0.01193176, 0.01499207, 0.01121066, 0.014746139, 0.011191318, 0.014439057, 0.010620366, 0.011653019, 0.011757313, 0.015066069, 0.014228416, 0.011907914, 0.013719968, 0.011548791, 0.013782659, 0.010251254, 0.012588018, 0.012961277, 0.014449108, 0.012731972, 0.0112905195, 0.010494466, 0.014418461, 0.013006511, 0.0121052265, 0.011812308, 0.011045366, 0.016228918, 0.01362913, 0.011373839, 0.013483655, 0.06823281, 0.0110885035, 0.01322889, 0.011073728, 0.011900588, 0.013998175, 0.011529803, 0.0147253685, 0.013179859, 0.015968468, 0.01226387, 0.014535923, 0.012109146, 0.012351786, 0.011925479, 0.012146047, 0.012135799, 0.015232107, 0.015506292, 0.011591905, 0.010869556]\n",
      "2021-02-16 21:43:18,836 : INFO : merging changes from 2000 documents into a model of 3204 documents\n",
      "2021-02-16 21:43:18,848 : INFO : topic #36 (0.010): 0.095*\",\" + 0.055*\"process\" + 0.050*\"procedur\" + 0.047*\"edit\" + 0.042*\"formul\" + 0.035*\"output\" + 0.028*\"data\" + 0.020*\"sum\" + 0.020*\"accord\" + 0.019*\"prepar\"\n",
      "2021-02-16 21:43:18,849 : INFO : topic #46 (0.010): 0.057*\",\" + 0.046*\"deadlock\" + 0.041*\"system\" + 0.038*\"-\" + 0.037*\"driven\" + 0.036*\"prevent\" + 0.030*\"increment\" + 0.024*\"reflect\" + 0.024*\"select\" + 0.023*\"approach\"\n",
      "2021-02-16 21:43:18,849 : INFO : topic #0 (0.018): 0.278*\"[\" + 0.193*\"algorithm\" + 0.179*\"(\" + 0.167*\"])\" + 0.019*\"-\" + 0.016*\"tridiagon\" + 0.013*\"random\" + 0.013*\"polynomi\" + 0.013*\"procedur\" + 0.013*\"g5\"\n",
      "2021-02-16 21:43:18,850 : INFO : topic #30 (0.019): 0.273*\"structur\" + 0.123*\"definit\" + 0.088*\"defin\" + 0.083*\"recurs\" + 0.079*\"concept\" + 0.055*\"process\" + 0.042*\"descript\" + 0.038*\"corrigendum\" + 0.032*\"previou\" + 0.024*\"properti\"\n",
      "2021-02-16 21:43:18,850 : INFO : topic #79 (0.068): 0.366*\"(\" + 0.349*\")\" + 0.209*\"algorithm\" + 0.018*\"integr\" + 0.016*\"complex\" + 0.011*\"-\" + 0.011*\"d1\" + 0.009*\"exponenti\" + 0.006*\"quadratur\" + 0.001*\"'\"\n"
     ]
    },
    {
     "name": "stderr",
     "output_type": "stream",
     "text": [
      "2021-02-16 21:43:18,851 : INFO : topic diff=0.181491, rho=0.231857\n",
      "2021-02-16 21:43:19,666 : INFO : -6.461 per-word bound, 88.1 perplexity estimate based on a held-out corpus of 1204 documents with 49783 words\n",
      "2021-02-16 21:43:19,667 : INFO : PROGRESS: pass 16, at document #3204/3204\n",
      "2021-02-16 21:43:20,393 : INFO : optimized alpha [0.018331964, 0.011847411, 0.014166231, 0.012820683, 0.013786321, 0.013359623, 0.012689294, 0.014991854, 0.011978645, 0.0131986765, 0.01317625, 0.013113701, 0.014710772, 0.012666218, 0.018316505, 0.015599481, 0.011509219, 0.011990166, 0.018677868, 0.010698114, 0.015401949, 0.014179857, 0.018175991, 0.011936728, 0.013333265, 0.017467342, 0.013744284, 0.014468299, 0.011603654, 0.011686011, 0.019505057, 0.018282922, 0.014929538, 0.011863721, 0.014485441, 0.012003762, 0.010069731, 0.014270039, 0.011492787, 0.0122128315, 0.01649252, 0.012840347, 0.01353105, 0.013408733, 0.014317298, 0.012014154, 0.010098237, 0.011916887, 0.012061983, 0.015296823, 0.011326675, 0.014826898, 0.01133198, 0.014687376, 0.0107082315, 0.011745529, 0.011886796, 0.015356367, 0.014371768, 0.0120098535, 0.013945588, 0.011663806, 0.013943345, 0.010260532, 0.012790966, 0.013100125, 0.014689915, 0.012893395, 0.011339024, 0.010560279, 0.014695817, 0.013187093, 0.0122201275, 0.011901972, 0.0111035695, 0.016554317, 0.013793686, 0.01142405, 0.013658388, 0.07004692, 0.011206442, 0.013429988, 0.011190705, 0.011990593, 0.014134802, 0.011651799, 0.014986787, 0.013344006, 0.01628889, 0.012395656, 0.014750185, 0.012194016, 0.012482596, 0.012034406, 0.012280999, 0.012261345, 0.015558888, 0.015679909, 0.011708656, 0.010939171]\n",
      "2021-02-16 21:43:20,401 : INFO : merging changes from 1204 documents into a model of 3204 documents\n",
      "2021-02-16 21:43:20,414 : INFO : topic #36 (0.010): 0.095*\",\" + 0.055*\"process\" + 0.050*\"procedur\" + 0.048*\"edit\" + 0.047*\"formul\" + 0.032*\"output\" + 0.029*\"data\" + 0.022*\"accord\" + 0.021*\"text\" + 0.021*\"small\"\n",
      "2021-02-16 21:43:20,415 : INFO : topic #46 (0.010): 0.056*\",\" + 0.050*\"deadlock\" + 0.042*\"system\" + 0.041*\"driven\" + 0.038*\"prevent\" + 0.036*\"-\" + 0.032*\"increment\" + 0.027*\"reflect\" + 0.024*\"approach\" + 0.023*\"benefit\"\n",
      "2021-02-16 21:43:20,416 : INFO : topic #18 (0.019): 0.298*\"problem\" + 0.077*\",\" + 0.061*\"solut\" + 0.056*\"solv\" + 0.048*\"program\" + 0.031*\"paper\" + 0.024*\"-\" + 0.015*\"time\" + 0.015*\"shown\" + 0.014*\"comput\"\n",
      "2021-02-16 21:43:20,417 : INFO : topic #30 (0.020): 0.284*\"structur\" + 0.124*\"definit\" + 0.088*\"defin\" + 0.080*\"recurs\" + 0.076*\"concept\" + 0.054*\"process\" + 0.042*\"corrigendum\" + 0.037*\"descript\" + 0.036*\"previou\" + 0.025*\"properti\"\n",
      "2021-02-16 21:43:20,418 : INFO : topic #79 (0.070): 0.368*\"(\" + 0.351*\")\" + 0.205*\"algorithm\" + 0.017*\"complex\" + 0.017*\"integr\" + 0.012*\"-\" + 0.011*\"d1\" + 0.008*\"exponenti\" + 0.007*\"quadratur\" + 0.001*\"'\"\n",
      "2021-02-16 21:43:20,419 : INFO : topic diff=0.186181, rho=0.231857\n",
      "2021-02-16 21:43:20,428 : INFO : PROGRESS: pass 17, at document #2000/3204\n",
      "2021-02-16 21:43:21,433 : INFO : optimized alpha [0.018734537, 0.011857623, 0.014270976, 0.012872843, 0.0138788335, 0.013455643, 0.012748521, 0.015124415, 0.012063677, 0.01332809, 0.013247937, 0.01316171, 0.014753226, 0.012719345, 0.01855679, 0.015607611, 0.011557411, 0.012032224, 0.018884726, 0.01071191, 0.015544843, 0.014361341, 0.01844977, 0.011931287, 0.0134113515, 0.017710451, 0.013807743, 0.014534926, 0.011632164, 0.011702686, 0.019626131, 0.018500267, 0.015055222, 0.0118920235, 0.014482775, 0.012053774, 0.01009124, 0.014323133, 0.011523694, 0.012216551, 0.016733373, 0.012878671, 0.013617164, 0.013561672, 0.014418011, 0.012036658, 0.010067472, 0.011941402, 0.012156175, 0.0153837735, 0.011387598, 0.015075713, 0.011357739, 0.014804573, 0.010691682, 0.011798264, 0.011896119, 0.015349267, 0.014483138, 0.012027801, 0.013965478, 0.011656798, 0.013999842, 0.010314119, 0.012835712, 0.013160176, 0.014652799, 0.012919393, 0.01142191, 0.010574232, 0.014756175, 0.013190116, 0.012263235, 0.011950193, 0.011110976, 0.016621254, 0.0138705745, 0.0114932, 0.013732791, 0.07240405, 0.011211441, 0.013432035, 0.011183601, 0.012021235, 0.014254447, 0.011700093, 0.015015326, 0.013399433, 0.016539035, 0.012396565, 0.014766811, 0.01227923, 0.012525985, 0.012074545, 0.012253323, 0.012275312, 0.015673459, 0.015863257, 0.0117277205, 0.011003722]\n",
      "2021-02-16 21:43:21,444 : INFO : merging changes from 2000 documents into a model of 3204 documents\n",
      "2021-02-16 21:43:21,462 : INFO : topic #46 (0.010): 0.055*\",\" + 0.047*\"deadlock\" + 0.042*\"system\" + 0.037*\"-\" + 0.037*\"driven\" + 0.036*\"prevent\" + 0.030*\"increment\" + 0.024*\"reflect\" + 0.024*\"select\" + 0.023*\"approach\"\n",
      "2021-02-16 21:43:21,464 : INFO : topic #36 (0.010): 0.095*\",\" + 0.056*\"process\" + 0.052*\"procedur\" + 0.047*\"edit\" + 0.043*\"formul\" + 0.035*\"output\" + 0.029*\"data\" + 0.020*\"sum\" + 0.020*\"prepar\" + 0.020*\"accord\"\n",
      "2021-02-16 21:43:21,468 : INFO : topic #18 (0.019): 0.300*\"problem\" + 0.077*\",\" + 0.061*\"solut\" + 0.056*\"solv\" + 0.049*\"program\" + 0.030*\"paper\" + 0.024*\"-\" + 0.015*\"time\" + 0.014*\"comput\" + 0.014*\"shown\"\n",
      "2021-02-16 21:43:21,472 : INFO : topic #30 (0.020): 0.276*\"structur\" + 0.124*\"definit\" + 0.087*\"defin\" + 0.084*\"recurs\" + 0.079*\"concept\" + 0.056*\"process\" + 0.042*\"descript\" + 0.038*\"corrigendum\" + 0.032*\"previou\" + 0.022*\"formal\"\n",
      "2021-02-16 21:43:21,474 : INFO : topic #79 (0.072): 0.366*\"(\" + 0.350*\")\" + 0.209*\"algorithm\" + 0.018*\"integr\" + 0.016*\"complex\" + 0.011*\"-\" + 0.011*\"d1\" + 0.009*\"exponenti\" + 0.006*\"quadratur\" + 0.001*\"'\"\n",
      "2021-02-16 21:43:21,476 : INFO : topic diff=0.167940, rho=0.225865\n",
      "2021-02-16 21:43:22,732 : INFO : -6.456 per-word bound, 87.8 perplexity estimate based on a held-out corpus of 1204 documents with 49783 words\n",
      "2021-02-16 21:43:22,733 : INFO : PROGRESS: pass 17, at document #3204/3204\n",
      "2021-02-16 21:43:23,803 : INFO : optimized alpha [0.01887265, 0.011981246, 0.014554534, 0.01302498, 0.01404527, 0.013590261, 0.012855287, 0.015314091, 0.012109141, 0.0133467475, 0.0134165, 0.013322993, 0.01497487, 0.012843871, 0.019137735, 0.01588158, 0.011674014, 0.012162859, 0.019436382, 0.010762782, 0.015693413, 0.014591666, 0.018827625, 0.01202107, 0.01357706, 0.017878808, 0.013962721, 0.014739463, 0.011716931, 0.011791303, 0.02008419, 0.01888367, 0.01538044, 0.0119918175, 0.0147302635, 0.012158663, 0.010119047, 0.014569028, 0.011605604, 0.012340232, 0.016880503, 0.013080814, 0.013791969, 0.013624384, 0.0145533485, 0.012135065, 0.0101278275, 0.012031004, 0.0122889895, 0.015706357, 0.011508148, 0.015164976, 0.0115004815, 0.015055604, 0.010786099, 0.011891289, 0.012027878, 0.015632682, 0.014626512, 0.012127872, 0.014185222, 0.011769773, 0.014149818, 0.010333105, 0.013035958, 0.013299047, 0.014887077, 0.013080657, 0.011471483, 0.010640857, 0.015033155, 0.013362831, 0.012376082, 0.012038172, 0.011174443, 0.016939577, 0.014027057, 0.011542378, 0.013909871, 0.074111626, 0.011323034, 0.013617265, 0.011300623, 0.012111874, 0.014388641, 0.011828833, 0.015278975, 0.013566111, 0.01686317, 0.012530724, 0.014983317, 0.012364699, 0.012659233, 0.012181561, 0.012385843, 0.01239864, 0.016003443, 0.016042706, 0.011846862, 0.011080354]\n",
      "2021-02-16 21:43:23,813 : INFO : merging changes from 1204 documents into a model of 3204 documents\n",
      "2021-02-16 21:43:23,829 : INFO : topic #36 (0.010): 0.095*\",\" + 0.056*\"process\" + 0.051*\"procedur\" + 0.048*\"edit\" + 0.048*\"formul\" + 0.032*\"output\" + 0.030*\"data\" + 0.023*\"text\" + 0.022*\"accord\" + 0.021*\"small\"\n",
      "2021-02-16 21:43:23,830 : INFO : topic #46 (0.010): 0.054*\",\" + 0.050*\"deadlock\" + 0.043*\"system\" + 0.041*\"driven\" + 0.038*\"prevent\" + 0.035*\"-\" + 0.032*\"increment\" + 0.027*\"reflect\" + 0.024*\"approach\" + 0.023*\"benefit\"\n",
      "2021-02-16 21:43:23,831 : INFO : topic #18 (0.019): 0.303*\"problem\" + 0.078*\",\" + 0.061*\"solut\" + 0.056*\"solv\" + 0.048*\"program\" + 0.031*\"paper\" + 0.025*\"-\" + 0.015*\"shown\" + 0.014*\"time\" + 0.014*\"comput\"\n",
      "2021-02-16 21:43:23,832 : INFO : topic #30 (0.020): 0.288*\"structur\" + 0.125*\"definit\" + 0.087*\"defin\" + 0.081*\"recurs\" + 0.077*\"concept\" + 0.054*\"process\" + 0.042*\"corrigendum\" + 0.037*\"descript\" + 0.037*\"previou\" + 0.022*\"properti\"\n",
      "2021-02-16 21:43:23,833 : INFO : topic #79 (0.074): 0.368*\"(\" + 0.351*\")\" + 0.205*\"algorithm\" + 0.017*\"complex\" + 0.017*\"integr\" + 0.012*\"-\" + 0.011*\"d1\" + 0.008*\"exponenti\" + 0.007*\"quadratur\" + 0.001*\"'\"\n"
     ]
    },
    {
     "name": "stderr",
     "output_type": "stream",
     "text": [
      "2021-02-16 21:43:23,835 : INFO : topic diff=0.172704, rho=0.225865\n",
      "2021-02-16 21:43:23,846 : INFO : PROGRESS: pass 18, at document #2000/3204\n",
      "2021-02-16 21:43:24,912 : INFO : optimized alpha [0.019269386, 0.011992538, 0.014663927, 0.013076139, 0.01413625, 0.013686267, 0.012912083, 0.015448037, 0.012195583, 0.013474223, 0.013486775, 0.01336996, 0.01501769, 0.012900372, 0.01938677, 0.015891984, 0.01172782, 0.012205542, 0.019642761, 0.010778976, 0.015834276, 0.0147781, 0.0191057, 0.012015939, 0.013655346, 0.018117297, 0.014018695, 0.01480788, 0.011745, 0.011807787, 0.020199308, 0.019115368, 0.015509352, 0.012018308, 0.014726839, 0.012211906, 0.010147172, 0.014617348, 0.011639817, 0.012346564, 0.017124448, 0.013119487, 0.013873497, 0.013775335, 0.014655686, 0.012158573, 0.010099247, 0.012057974, 0.012383339, 0.015798353, 0.0115668, 0.015414876, 0.011526862, 0.015172593, 0.010769972, 0.0119405035, 0.012038235, 0.015624552, 0.014737696, 0.01214553, 0.014202581, 0.011762915, 0.014200479, 0.010388184, 0.013081006, 0.013360928, 0.01484994, 0.013103026, 0.011555646, 0.010655897, 0.015093489, 0.01336547, 0.012415683, 0.012092223, 0.011183194, 0.017011728, 0.014105696, 0.011610475, 0.01398894, 0.07646892, 0.011327905, 0.013614303, 0.011294883, 0.012144729, 0.014506603, 0.01188271, 0.015309542, 0.013620454, 0.017113796, 0.0125329215, 0.015000709, 0.012448601, 0.01270456, 0.012220998, 0.012361471, 0.012413669, 0.016122831, 0.016223963, 0.011866834, 0.011146413]\n",
      "2021-02-16 21:43:24,923 : INFO : merging changes from 2000 documents into a model of 3204 documents\n",
      "2021-02-16 21:43:24,939 : INFO : topic #46 (0.010): 0.054*\",\" + 0.047*\"deadlock\" + 0.042*\"system\" + 0.037*\"driven\" + 0.037*\"-\" + 0.036*\"prevent\" + 0.031*\"increment\" + 0.025*\"reflect\" + 0.024*\"select\" + 0.023*\"approach\"\n",
      "2021-02-16 21:43:24,939 : INFO : topic #36 (0.010): 0.095*\",\" + 0.057*\"process\" + 0.053*\"procedur\" + 0.047*\"edit\" + 0.043*\"formul\" + 0.036*\"output\" + 0.029*\"data\" + 0.021*\"sum\" + 0.021*\"text\" + 0.020*\"prepar\"\n",
      "2021-02-16 21:43:24,940 : INFO : topic #18 (0.020): 0.303*\"problem\" + 0.078*\",\" + 0.061*\"solut\" + 0.056*\"solv\" + 0.049*\"program\" + 0.030*\"paper\" + 0.025*\"-\" + 0.014*\"comput\" + 0.014*\"time\" + 0.014*\"shown\"\n",
      "2021-02-16 21:43:24,941 : INFO : topic #30 (0.020): 0.280*\"structur\" + 0.125*\"definit\" + 0.087*\"defin\" + 0.085*\"recurs\" + 0.080*\"concept\" + 0.056*\"process\" + 0.042*\"descript\" + 0.039*\"corrigendum\" + 0.033*\"previou\" + 0.022*\"formal\"\n",
      "2021-02-16 21:43:24,941 : INFO : topic #79 (0.076): 0.365*\"(\" + 0.349*\")\" + 0.210*\"algorithm\" + 0.018*\"integr\" + 0.016*\"complex\" + 0.011*\"-\" + 0.011*\"d1\" + 0.009*\"exponenti\" + 0.006*\"quadratur\" + 0.001*\"'\"\n",
      "2021-02-16 21:43:24,943 : INFO : topic diff=0.156721, rho=0.220316\n",
      "2021-02-16 21:43:25,856 : INFO : -6.449 per-word bound, 87.4 perplexity estimate based on a held-out corpus of 1204 documents with 49783 words\n",
      "2021-02-16 21:43:25,857 : INFO : PROGRESS: pass 18, at document #3204/3204\n",
      "2021-02-16 21:43:26,457 : INFO : optimized alpha [0.01940982, 0.012118598, 0.01495332, 0.013225982, 0.014294966, 0.013818639, 0.013014649, 0.015640412, 0.012235498, 0.013492161, 0.013655362, 0.013528789, 0.015236281, 0.013022737, 0.019973606, 0.016159404, 0.011840425, 0.012345337, 0.020205444, 0.010831036, 0.015980013, 0.015014387, 0.019498276, 0.01210866, 0.013823746, 0.018288685, 0.0141736, 0.01501225, 0.011830488, 0.011892711, 0.020660669, 0.01950325, 0.015832914, 0.012111983, 0.014968256, 0.01231276, 0.010180258, 0.014865793, 0.011724571, 0.012477304, 0.017277606, 0.013314371, 0.014053346, 0.013838935, 0.014788555, 0.012255308, 0.010158645, 0.012152865, 0.012516556, 0.016124526, 0.011687652, 0.015498752, 0.011673913, 0.015423704, 0.010862785, 0.012031909, 0.012172261, 0.01590716, 0.0148785915, 0.01224835, 0.014416758, 0.0118761575, 0.014347955, 0.010410784, 0.013274038, 0.013495108, 0.015080568, 0.013271558, 0.011604193, 0.010727226, 0.015370383, 0.013533071, 0.012528956, 0.012180889, 0.0112456335, 0.017329646, 0.014254424, 0.0116608655, 0.014163491, 0.07807726, 0.011444019, 0.013794185, 0.011414136, 0.012236025, 0.014635635, 0.01201164, 0.015567084, 0.013784701, 0.01743877, 0.0126626035, 0.015205652, 0.012532436, 0.012830998, 0.012326167, 0.012487258, 0.012534994, 0.016444482, 0.016397357, 0.011988459, 0.011225818]\n",
      "2021-02-16 21:43:26,465 : INFO : merging changes from 1204 documents into a model of 3204 documents\n",
      "2021-02-16 21:43:26,478 : INFO : topic #46 (0.010): 0.053*\",\" + 0.050*\"deadlock\" + 0.043*\"system\" + 0.041*\"driven\" + 0.038*\"prevent\" + 0.035*\"-\" + 0.032*\"increment\" + 0.028*\"reflect\" + 0.024*\"approach\" + 0.023*\"benefit\"\n",
      "2021-02-16 21:43:26,479 : INFO : topic #36 (0.010): 0.094*\",\" + 0.057*\"process\" + 0.052*\"procedur\" + 0.048*\"edit\" + 0.048*\"formul\" + 0.033*\"output\" + 0.030*\"data\" + 0.025*\"text\" + 0.022*\"accord\" + 0.022*\"small\"\n",
      "2021-02-16 21:43:26,479 : INFO : topic #18 (0.020): 0.306*\"problem\" + 0.078*\",\" + 0.061*\"solut\" + 0.056*\"solv\" + 0.047*\"program\" + 0.031*\"paper\" + 0.025*\"-\" + 0.015*\"shown\" + 0.014*\"present\" + 0.014*\"time\"\n",
      "2021-02-16 21:43:26,480 : INFO : topic #30 (0.021): 0.291*\"structur\" + 0.125*\"definit\" + 0.087*\"defin\" + 0.082*\"recurs\" + 0.077*\"concept\" + 0.054*\"process\" + 0.042*\"corrigendum\" + 0.037*\"descript\" + 0.037*\"previou\" + 0.022*\"formal\"\n",
      "2021-02-16 21:43:26,480 : INFO : topic #79 (0.078): 0.367*\"(\" + 0.350*\")\" + 0.206*\"algorithm\" + 0.017*\"complex\" + 0.017*\"integr\" + 0.012*\"-\" + 0.011*\"d1\" + 0.008*\"exponenti\" + 0.007*\"quadratur\" + 0.001*\"'\"\n",
      "2021-02-16 21:43:26,481 : INFO : topic diff=0.161191, rho=0.220316\n",
      "2021-02-16 21:43:26,490 : INFO : PROGRESS: pass 19, at document #2000/3204\n",
      "2021-02-16 21:43:27,180 : INFO : optimized alpha [0.019804915, 0.01213093, 0.015064175, 0.013280433, 0.014386018, 0.013910304, 0.01307477, 0.015777472, 0.012319418, 0.013619287, 0.01372298, 0.013576233, 0.015276201, 0.013075464, 0.020220738, 0.016175693, 0.011892061, 0.012389835, 0.020413253, 0.010847152, 0.016120635, 0.0152059905, 0.01978733, 0.012103813, 0.0139082, 0.018528758, 0.014226995, 0.015087259, 0.01185817, 0.01190903, 0.020769818, 0.019737061, 0.015963422, 0.012136774, 0.014962319, 0.01236515, 0.010209169, 0.014914318, 0.011762082, 0.012483412, 0.017526755, 0.01335642, 0.014134992, 0.013989541, 0.014887857, 0.012273177, 0.010132105, 0.012179415, 0.012609675, 0.016223347, 0.011750414, 0.015754925, 0.011702225, 0.01554557, 0.010851797, 0.012086873, 0.01218619, 0.015901495, 0.014986545, 0.012267077, 0.014436401, 0.0118707, 0.01440549, 0.010465037, 0.01332378, 0.0135559365, 0.015043398, 0.013294685, 0.011684706, 0.010747777, 0.015443992, 0.013535329, 0.012569235, 0.01223024, 0.0112544205, 0.017393857, 0.014337964, 0.011729261, 0.014239653, 0.08038744, 0.011451234, 0.013790883, 0.011409665, 0.012268373, 0.014753617, 0.012071129, 0.015592897, 0.013842464, 0.017686186, 0.012667404, 0.015218951, 0.012615128, 0.012875483, 0.012363598, 0.012466057, 0.012545616, 0.016561873, 0.01657831, 0.0120067485, 0.011290948]\n",
      "2021-02-16 21:43:27,188 : INFO : merging changes from 2000 documents into a model of 3204 documents\n",
      "2021-02-16 21:43:27,200 : INFO : topic #46 (0.010): 0.052*\",\" + 0.047*\"deadlock\" + 0.043*\"system\" + 0.037*\"driven\" + 0.036*\"prevent\" + 0.036*\"-\" + 0.031*\"increment\" + 0.025*\"reflect\" + 0.024*\"select\" + 0.024*\"approach\"\n",
      "2021-02-16 21:43:27,200 : INFO : topic #36 (0.010): 0.095*\",\" + 0.058*\"process\" + 0.053*\"procedur\" + 0.047*\"edit\" + 0.043*\"formul\" + 0.036*\"output\" + 0.029*\"data\" + 0.023*\"text\" + 0.022*\"sum\" + 0.020*\"prepar\"\n",
      "2021-02-16 21:43:27,201 : INFO : topic #18 (0.020): 0.307*\"problem\" + 0.078*\",\" + 0.062*\"solut\" + 0.057*\"solv\" + 0.048*\"program\" + 0.030*\"paper\" + 0.025*\"-\" + 0.014*\"present\" + 0.014*\"shown\" + 0.014*\"comput\"\n",
      "2021-02-16 21:43:27,202 : INFO : topic #30 (0.021): 0.283*\"structur\" + 0.125*\"definit\" + 0.086*\"defin\" + 0.085*\"recurs\" + 0.080*\"concept\" + 0.056*\"process\" + 0.042*\"descript\" + 0.039*\"corrigendum\" + 0.033*\"previou\" + 0.022*\"formal\"\n",
      "2021-02-16 21:43:27,203 : INFO : topic #79 (0.080): 0.364*\"(\" + 0.349*\")\" + 0.211*\"algorithm\" + 0.018*\"integr\" + 0.016*\"complex\" + 0.012*\"-\" + 0.011*\"d1\" + 0.009*\"exponenti\" + 0.006*\"quadratur\" + 0.001*\"'\"\n",
      "2021-02-16 21:43:27,204 : INFO : topic diff=0.147149, rho=0.215156\n",
      "2021-02-16 21:43:27,964 : INFO : -6.444 per-word bound, 87.1 perplexity estimate based on a held-out corpus of 1204 documents with 49783 words\n"
     ]
    },
    {
     "name": "stderr",
     "output_type": "stream",
     "text": [
      "2021-02-16 21:43:27,965 : INFO : PROGRESS: pass 19, at document #3204/3204\n",
      "2021-02-16 21:43:28,562 : INFO : optimized alpha [0.019937053, 0.012255092, 0.015367704, 0.013430513, 0.014539798, 0.014038044, 0.01317565, 0.01597272, 0.012360714, 0.013636556, 0.013886768, 0.013732709, 0.015491852, 0.013195927, 0.02082443, 0.016439838, 0.012007207, 0.012529905, 0.020976577, 0.010898435, 0.016263768, 0.01544839, 0.020188183, 0.01219285, 0.014077003, 0.018699963, 0.0143821435, 0.015286245, 0.011937975, 0.011994796, 0.021227565, 0.020126162, 0.016302323, 0.012222352, 0.015200591, 0.012468828, 0.010243664, 0.015162814, 0.011843342, 0.012612169, 0.017670283, 0.01355857, 0.014320154, 0.014051584, 0.015018517, 0.012368356, 0.010190601, 0.01227062, 0.012747887, 0.016559303, 0.011875809, 0.015833415, 0.011851539, 0.015796904, 0.01094513, 0.012183233, 0.012320432, 0.01618069, 0.015125059, 0.012366003, 0.014653174, 0.011980037, 0.01456105, 0.010487275, 0.013514571, 0.013690433, 0.015270825, 0.013465736, 0.011732322, 0.010821765, 0.015718294, 0.013705261, 0.012683009, 0.012319628, 0.011315895, 0.017708264, 0.014484446, 0.011780822, 0.014411746, 0.08187926, 0.011567604, 0.0139631145, 0.011525042, 0.01235818, 0.0148831485, 0.012202563, 0.015852954, 0.014001926, 0.018015113, 0.012792793, 0.015426467, 0.012699692, 0.013002251, 0.0124648735, 0.012589843, 0.0126695605, 0.01689607, 0.016745811, 0.01212658, 0.011377179]\n",
      "2021-02-16 21:43:28,569 : INFO : merging changes from 1204 documents into a model of 3204 documents\n",
      "2021-02-16 21:43:28,582 : INFO : topic #46 (0.010): 0.052*\",\" + 0.051*\"deadlock\" + 0.044*\"system\" + 0.041*\"driven\" + 0.038*\"prevent\" + 0.034*\"-\" + 0.032*\"increment\" + 0.028*\"reflect\" + 0.024*\"approach\" + 0.023*\"benefit\"\n",
      "2021-02-16 21:43:28,583 : INFO : topic #36 (0.010): 0.094*\",\" + 0.057*\"process\" + 0.054*\"procedur\" + 0.048*\"edit\" + 0.047*\"formul\" + 0.033*\"output\" + 0.031*\"data\" + 0.027*\"text\" + 0.022*\"small\" + 0.022*\"accord\"\n",
      "2021-02-16 21:43:28,583 : INFO : topic #18 (0.021): 0.309*\"problem\" + 0.078*\",\" + 0.061*\"solut\" + 0.056*\"solv\" + 0.046*\"program\" + 0.031*\"paper\" + 0.025*\"-\" + 0.015*\"shown\" + 0.015*\"present\" + 0.014*\"shift\"\n",
      "2021-02-16 21:43:28,584 : INFO : topic #30 (0.021): 0.294*\"structur\" + 0.125*\"definit\" + 0.086*\"defin\" + 0.082*\"recurs\" + 0.078*\"concept\" + 0.054*\"process\" + 0.042*\"corrigendum\" + 0.038*\"previou\" + 0.038*\"descript\" + 0.021*\"formal\"\n",
      "2021-02-16 21:43:28,584 : INFO : topic #79 (0.082): 0.366*\"(\" + 0.350*\")\" + 0.207*\"algorithm\" + 0.017*\"complex\" + 0.016*\"integr\" + 0.012*\"-\" + 0.011*\"d1\" + 0.009*\"exponenti\" + 0.007*\"quadratur\" + 0.001*\"'\"\n",
      "2021-02-16 21:43:28,585 : INFO : topic diff=0.151232, rho=0.215156\n"
     ]
    },
    {
     "data": {
      "text/plain": [
       "[(0, 0.008054882),\n",
       " (1, 0.00495125),\n",
       " (2, 0.006208794),\n",
       " (3, 0.005426138),\n",
       " (4, 0.005874307),\n",
       " (5, 0.00567159),\n",
       " (6, 0.0053231693),\n",
       " (7, 0.00645323),\n",
       " (8, 0.0049939225),\n",
       " (9, 0.005509383),\n",
       " (10, 0.0056104725),\n",
       " (11, 0.00554823),\n",
       " (12, 0.0062589515),\n",
       " (13, 0.0053313617),\n",
       " (14, 0.008413397),\n",
       " (15, 0.006641953),\n",
       " (16, 0.0048511),\n",
       " (17, 0.0050622784),\n",
       " (18, 0.008474867),\n",
       " (19, 0.0044031385),\n",
       " (20, 0.006570818),\n",
       " (21, 0.006241392),\n",
       " (22, 0.008156342),\n",
       " (23, 0.0049261027),\n",
       " (24, 0.0056873304),\n",
       " (25, 0.0075550787),\n",
       " (26, 0.005810612),\n",
       " (27, 0.006175883),\n",
       " (28, 0.004823129),\n",
       " (29, 0.004846086),\n",
       " (30, 0.008576269),\n",
       " (31, 0.008131285),\n",
       " (32, 0.0065863947),\n",
       " (33, 0.0049380222),\n",
       " (34, 0.0061412775),\n",
       " (35, 0.0050376025),\n",
       " (36, 0.004138601),\n",
       " (37, 0.006126015),\n",
       " (38, 0.0047848965),\n",
       " (39, 0.005095514),\n",
       " (40, 0.007139072),\n",
       " (41, 0.0054778755),\n",
       " (42, 0.005785567),\n",
       " (43, 0.40969035),\n",
       " (44, 0.006067717),\n",
       " (45, 0.00499701),\n",
       " (46, 0.004117163),\n",
       " (47, 0.004957523),\n",
       " (48, 0.0051503466),\n",
       " (49, 0.0066902186),\n",
       " (50, 0.0047980133),\n",
       " (51, 0.0063969484),\n",
       " (52, 0.004788208),\n",
       " (53, 0.006382197),\n",
       " (54, 0.0044220043),\n",
       " (55, 0.0049222177),\n",
       " (56, 0.004977648),\n",
       " (57, 0.006537253),\n",
       " (58, 0.0061107613),\n",
       " (59, 0.0049960595),\n",
       " (60, 0.0059201126),\n",
       " (61, 0.004840123),\n",
       " (62, 0.0058828928),\n",
       " (63, 0.004237024),\n",
       " (64, 0.005460099),\n",
       " (65, 0.00553115),\n",
       " (66, 0.006169653),\n",
       " (67, 0.005440369),\n",
       " (68, 0.0047400426),\n",
       " (69, 0.004372163),\n",
       " (70, 0.0063504376),\n",
       " (71, 0.0055371406),\n",
       " (72, 0.005124135),\n",
       " (73, 0.004977323),\n",
       " (74, 0.004571799),\n",
       " (75, 0.0071544168),\n",
       " (76, 0.0058519435),\n",
       " (77, 0.004759637),\n",
       " (78, 0.0058225715),\n",
       " (79, 0.033080507),\n",
       " (80, 0.0046734936),\n",
       " (81, 0.0056413175),\n",
       " (82, 0.004656298),\n",
       " (83, 0.004992899),\n",
       " (84, 0.0060130255),\n",
       " (85, 0.004930027),\n",
       " (86, 0.0064048427),\n",
       " (87, 0.005656998),\n",
       " (88, 0.0072783884),\n",
       " (89, 0.005168489),\n",
       " (90, 0.006232535),\n",
       " (91, 0.005130875),\n",
       " (92, 0.005253114),\n",
       " (93, 0.005036005),\n",
       " (94, 0.005086494),\n",
       " (95, 0.0051187016),\n",
       " (96, 0.006826278),\n",
       " (97, 0.006765571),\n",
       " (98, 0.0048993286),\n",
       " (99, 0.004596559)]"
      ]
     },
     "execution_count": 216,
     "metadata": {},
     "output_type": "execute_result"
    }
   ],
   "source": [
    "##### Function check\n",
    "lda = LdaRetrievalModel(doc_repr_2)\n",
    "lda.train_model()\n",
    "\n",
    "# you can now get an LDA vector for a given query in the following way:\n",
    "lda.vectorize_query(\"report\")\n",
    "##### "
   ]
  },
  {
   "cell_type": "markdown",
   "metadata": {
    "deletable": false,
    "editable": false,
    "nbgrader": {
     "cell_type": "markdown",
     "checksum": "32d83b6ea79ca3ddb789a7f8805a1b25",
     "grade": false,
     "grade_id": "cell-0e24b727d5908c0e",
     "locked": true,
     "points": 5,
     "schema_version": 3,
     "solution": false,
     "task": true
    }
   },
   "source": [
    "\\#### Please do not change this. This cell is used for grading."
   ]
  },
  {
   "cell_type": "markdown",
   "metadata": {
    "deletable": false,
    "editable": false,
    "nbgrader": {
     "cell_type": "markdown",
     "checksum": "114a934f0b9ce696e6cf09d3b8da6a3d",
     "grade": false,
     "grade_id": "cell-b1bffcb970b18aeb",
     "locked": true,
     "schema_version": 3,
     "solution": false,
     "task": false
    }
   },
   "source": [
    "---\n",
    "Now we can use the `DenseRetrievalModel` class to obtain an LDA search function.\n",
    "You can test your LDA model in the following cell: Try finding queries which are lexically different to documents, but semantically similar - does LDA work well for these queries?!"
   ]
  },
  {
   "cell_type": "code",
   "execution_count": 217,
   "metadata": {},
   "outputs": [
    {
     "data": {
      "application/vnd.jupyter.widget-view+json": {
       "model_id": "aeace003116a49eab5f976012b415ffe",
       "version_major": 2,
       "version_minor": 0
      },
      "text/plain": [
       "Text(value='', description='Search Bar')"
      ]
     },
     "metadata": {},
     "output_type": "display_data"
    },
    {
     "name": "stdout",
     "output_type": "stream",
     "text": [
      "Searching for: 'math' (SEARCH FN: <bound method DenseRetrievalRanker.search of <__main__.DenseRetrievalRanker object at 0x00000203C341ED88>>)\n"
     ]
    },
    {
     "data": {
      "text/html": [
       "<ul><li>Document #235(1.0): Two Think Pieces</li><li>Document #913(1.0): Neliac</li><li>Document #917(1.0): COMIT</li><li>Document #2782(1.0): A Reply to Gentleman and Marovich</li><li>Document #999(0.7939394083494877): Joint Inventorship of Computers</li></ul>"
      ],
      "text/plain": [
       "<IPython.core.display.HTML object>"
      ]
     },
     "metadata": {},
     "output_type": "display_data"
    }
   ],
   "source": [
    "drm_lda = DenseRetrievalRanker(lda, jenson_shannon_sim)\n",
    "\n",
    "# test your LDA model\n",
    "search_fn = drm_lda.search\n",
    "\n",
    "text = widgets.Text(description=\"Search Bar\", width=200)\n",
    "display(text)\n",
    "\n",
    "\n",
    "text.on_submit(handle_submit_2)"
   ]
  },
  {
   "cell_type": "markdown",
   "metadata": {
    "deletable": false,
    "editable": false,
    "nbgrader": {
     "cell_type": "markdown",
     "checksum": "9d7f15863b655119b45f4d89354e5661",
     "grade": false,
     "grade_id": "cell-190cd0854b2791cc",
     "locked": true,
     "schema_version": 3,
     "solution": false,
     "task": false
    }
   },
   "source": [
    "## Section 8: Word2Vec/Doc2Vec (20 points) <a class=\"anchor\" id=\"2vec\"></a>\n",
    "\n",
    "[Back to Part 2](#part2)\n",
    "\n",
    "We will implement two other methods here, the Word2Vec model and the Doc2Vec model, also using `gensim`. Word2Vec creates representations of words, not documents, so the word level vectors need to be aggregated to obtain a representation for the document. Here, we will simply take the mean of the vectors. \n",
    "\n",
    "\n",
    "A drawback of these models is that they need a lot of training data. Our dataset is tiny, so in addition to using a model trained on the data, we will also use a pre-trained model for Word2Vec (this will be automatically downloaded).     \n",
    "\n",
    "*Note*:\n",
    "1. The code in vectorize_documents / vectorize_query should return gensim-like vectors i.e `[(dim, val), .. (dim, val)]`. \n",
    "2. For Word2Vec: You should also handle the following two cases: (a) A word in the query is not present in the vocabulary of the model and (b) none of the words in the query are present in the model - you can return 0 scores for all documents in this case. For either of these, you can check if a `word` is present in the vocab by using `word in self.model`\n"
   ]
  },
  {
   "cell_type": "code",
   "execution_count": 219,
   "metadata": {
    "deletable": false,
    "nbgrader": {
     "cell_type": "code",
     "checksum": "83ab733608ed14c29c09b36b4e1b6daa",
     "grade": false,
     "grade_id": "cell-2b73759f9baf688f",
     "locked": false,
     "schema_version": 3,
     "solution": true,
     "task": false
    }
   },
   "outputs": [
    {
     "name": "stderr",
     "output_type": "stream",
     "text": [
      "2021-02-16 21:45:10,056 : INFO : adding document #0 to Dictionary(0 unique tokens: [])\n",
      "2021-02-16 21:45:10,181 : INFO : built Dictionary(5940 unique tokens: ['-', 'algebra', 'intern', 'languag', 'preliminari']...) from 3204 documents (total 115981 corpus positions)\n",
      "2021-02-16 21:45:10,188 : INFO : discarding 4743 tokens: [('repeat', 8), ('glossari', 7), ('inspect', 8), ('uncol', 2), ('rung', 9), ('secant', 2), ('.', 1605), ('acceler', 6), ('diverg', 3), ('induc', 9)]...\n",
      "2021-02-16 21:45:10,188 : INFO : keeping 1197 tokens which were in no less than 10 and no more than 1602 (=50.0%) documents\n",
      "2021-02-16 21:45:10,192 : INFO : resulting dictionary: Dictionary(1197 unique tokens: ['-', 'algebra', 'intern', 'languag', 'preliminari']...)\n",
      "2021-02-16 21:45:10,253 : INFO : collecting all words and their counts\n",
      "2021-02-16 21:45:10,253 : INFO : PROGRESS: at sentence #0, processed 0 words, keeping 0 word types\n",
      "2021-02-16 21:45:10,279 : INFO : collected 5940 word types from a corpus of 115981 raw words and 3204 sentences\n",
      "2021-02-16 21:45:10,280 : INFO : Loading a fresh vocabulary\n",
      "2021-02-16 21:45:10,286 : INFO : effective_min_count=5 retains 2069 unique words (34% of original 5940, drops 3871)\n",
      "2021-02-16 21:45:10,286 : INFO : effective_min_count=5 leaves 109270 word corpus (94% of original 115981, drops 6711)\n",
      "2021-02-16 21:45:10,291 : INFO : deleting the raw counts dictionary of 5940 items\n",
      "2021-02-16 21:45:10,293 : INFO : sample=0.001 downsamples 44 most-common words\n",
      "2021-02-16 21:45:10,293 : INFO : downsampling leaves estimated 84995 word corpus (77.8% of prior 109270)\n",
      "2021-02-16 21:45:10,299 : INFO : estimated required memory for 2069 words and 100 dimensions: 2689700 bytes\n",
      "2021-02-16 21:45:10,300 : INFO : resetting layer weights\n",
      "2021-02-16 21:45:10,601 : INFO : training model with 3 workers on 2069 vocabulary and 100 features, using sg=0 hs=0 sample=0.001 negative=5 window=5\n",
      "2021-02-16 21:45:10,652 : INFO : worker thread finished; awaiting finish of 2 more threads\n",
      "2021-02-16 21:45:10,653 : INFO : worker thread finished; awaiting finish of 1 more threads\n",
      "2021-02-16 21:45:10,655 : INFO : worker thread finished; awaiting finish of 0 more threads\n",
      "2021-02-16 21:45:10,655 : INFO : EPOCH - 1 : training on 115981 raw words (84974 effective words) took 0.0s, 1730455 effective words/s\n",
      "2021-02-16 21:45:10,705 : INFO : worker thread finished; awaiting finish of 2 more threads\n",
      "2021-02-16 21:45:10,707 : INFO : worker thread finished; awaiting finish of 1 more threads\n",
      "2021-02-16 21:45:10,710 : INFO : worker thread finished; awaiting finish of 0 more threads\n",
      "2021-02-16 21:45:10,711 : INFO : EPOCH - 2 : training on 115981 raw words (85061 effective words) took 0.1s, 1628367 effective words/s\n",
      "2021-02-16 21:45:10,762 : INFO : worker thread finished; awaiting finish of 2 more threads\n",
      "2021-02-16 21:45:10,762 : INFO : worker thread finished; awaiting finish of 1 more threads\n",
      "2021-02-16 21:45:10,764 : INFO : worker thread finished; awaiting finish of 0 more threads\n",
      "2021-02-16 21:45:10,764 : INFO : EPOCH - 3 : training on 115981 raw words (84920 effective words) took 0.0s, 1704968 effective words/s\n",
      "2021-02-16 21:45:10,821 : INFO : worker thread finished; awaiting finish of 2 more threads\n",
      "2021-02-16 21:45:10,824 : INFO : worker thread finished; awaiting finish of 1 more threads\n",
      "2021-02-16 21:45:10,825 : INFO : worker thread finished; awaiting finish of 0 more threads\n",
      "2021-02-16 21:45:10,825 : INFO : EPOCH - 4 : training on 115981 raw words (85032 effective words) took 0.1s, 1500683 effective words/s\n",
      "2021-02-16 21:45:10,879 : INFO : worker thread finished; awaiting finish of 2 more threads\n",
      "2021-02-16 21:45:10,883 : INFO : worker thread finished; awaiting finish of 1 more threads\n",
      "2021-02-16 21:45:10,883 : INFO : worker thread finished; awaiting finish of 0 more threads\n",
      "2021-02-16 21:45:10,890 : INFO : EPOCH - 5 : training on 115981 raw words (84934 effective words) took 0.1s, 1371325 effective words/s\n",
      "2021-02-16 21:45:10,891 : INFO : training on a 579905 raw words (424921 effective words) took 0.3s, 1465854 effective words/s\n",
      "c:\\users\\sarah-jane\\documents\\infovis\\lib\\site-packages\\ipykernel_launcher.py:38: DeprecationWarning: Call to deprecated `__contains__` (Method will be removed in 4.0.0, use self.wv.__contains__() instead).\n",
      "c:\\users\\sarah-jane\\documents\\infovis\\lib\\site-packages\\ipykernel_launcher.py:39: DeprecationWarning: Call to deprecated `__getitem__` (Method will be removed in 4.0.0, use self.wv.__getitem__() instead).\n"
     ]
    },
    {
     "data": {
      "text/plain": [
       "[(1, -0.342910498380661),\n",
       " (2, -0.05987882986664772),\n",
       " (3, -0.4390592873096466),\n",
       " (4, 0.029302746057510376),\n",
       " (5, 0.34220293164253235),\n",
       " (6, 0.08308936655521393),\n",
       " (7, -0.06779874116182327),\n",
       " (8, -0.1803954392671585),\n",
       " (9, -0.2248087376356125),\n",
       " (10, -0.5037193894386292),\n",
       " (11, 0.20744173228740692),\n",
       " (12, -0.2701975405216217),\n",
       " (13, -0.24931833148002625),\n",
       " (14, -0.22961901128292084),\n",
       " (15, -0.12704141438007355),\n",
       " (16, 0.19243711233139038),\n",
       " (17, 0.34445473551750183),\n",
       " (18, 0.4919887185096741),\n",
       " (19, -0.3016357123851776),\n",
       " (20, -0.1321418732404709),\n",
       " (21, 0.18091773986816406),\n",
       " (22, 0.6509368419647217),\n",
       " (23, 0.3559854328632355),\n",
       " (24, -0.5486122965812683),\n",
       " (25, 0.32777145504951477),\n",
       " (26, -0.2696180045604706),\n",
       " (27, 0.19527582824230194),\n",
       " (28, 0.45146316289901733),\n",
       " (29, 0.4104335904121399),\n",
       " (30, -0.11889396607875824),\n",
       " (31, -0.17578990757465363),\n",
       " (32, -0.10823792219161987),\n",
       " (33, -0.24674084782600403),\n",
       " (34, -0.13290531933307648),\n",
       " (35, -0.283080130815506),\n",
       " (36, 0.3845234215259552),\n",
       " (37, -0.26484036445617676),\n",
       " (38, -0.5789951682090759),\n",
       " (39, -0.29623886942863464),\n",
       " (40, 0.33560383319854736),\n",
       " (41, 0.677476704120636),\n",
       " (42, -0.15574568510055542),\n",
       " (43, -0.19381357729434967),\n",
       " (44, 0.20541919767856598),\n",
       " (45, -0.5554774403572083),\n",
       " (46, 0.14777739346027374),\n",
       " (47, -0.10464096069335938),\n",
       " (48, -0.2719481587409973),\n",
       " (49, -0.05743303894996643),\n",
       " (50, -0.13530638813972473),\n",
       " (51, 0.32396751642227173),\n",
       " (52, -0.12575176358222961),\n",
       " (53, 0.27164849638938904),\n",
       " (54, 0.5231584906578064),\n",
       " (55, -0.17997778952121735),\n",
       " (56, 0.036961063742637634),\n",
       " (57, 0.03459453582763672),\n",
       " (58, 0.16891254484653473),\n",
       " (59, -0.07503465563058853),\n",
       " (60, 0.06573013216257095),\n",
       " (61, 0.49402862787246704),\n",
       " (62, -0.2120913565158844),\n",
       " (63, -0.42581871151924133),\n",
       " (64, 0.33279842138290405),\n",
       " (65, -0.19644318521022797),\n",
       " (66, -0.2907029688358307),\n",
       " (67, 0.4909041225910187),\n",
       " (68, 0.5944621562957764),\n",
       " (69, 0.28314539790153503),\n",
       " (70, 0.07818174362182617),\n",
       " (71, 0.09416789561510086),\n",
       " (72, 0.2710551917552948),\n",
       " (73, 0.2674598693847656),\n",
       " (74, -0.30049261450767517),\n",
       " (75, -0.009829452261328697),\n",
       " (76, 0.4145285189151764),\n",
       " (77, 0.002142315497621894),\n",
       " (78, 0.32094696164131165),\n",
       " (79, -0.20770233869552612),\n",
       " (80, -0.18310242891311646),\n",
       " (81, -0.07597033679485321),\n",
       " (82, -0.4783257246017456),\n",
       " (83, 0.2217312455177307),\n",
       " (84, -0.262069970369339),\n",
       " (85, -0.30860453844070435),\n",
       " (86, 0.38734737038612366),\n",
       " (87, 0.45046254992485046),\n",
       " (88, -0.28202173113822937),\n",
       " (89, -0.3005960285663605),\n",
       " (90, -0.10119622200727463),\n",
       " (91, 0.309933066368103),\n",
       " (92, -0.5243836045265198),\n",
       " (93, 0.0764869749546051),\n",
       " (94, -0.17878411710262299),\n",
       " (95, 0.24051795899868011),\n",
       " (96, 0.07898512482643127),\n",
       " (97, -0.25927841663360596),\n",
       " (98, -0.23393210768699646),\n",
       " (99, 0.13404424488544464),\n",
       " (100, 0.2643592357635498)]"
      ]
     },
     "execution_count": 219,
     "metadata": {},
     "output_type": "execute_result"
    }
   ],
   "source": [
    "# TODO: Implement this! (10 points)\n",
    "class W2VRetrievalModel(VectorSpaceRetrievalModel):\n",
    "    def __init__(self, doc_repr):\n",
    "        super().__init__(doc_repr)\n",
    "        \n",
    "        # the dimensionality of the vectors\n",
    "        self.size = 100 \n",
    "        self.min_count = 1\n",
    "    \n",
    "    def train_model(self):\n",
    "        \"\"\"\n",
    "        Trains the W2V model\n",
    "        \"\"\"\n",
    "        self.model = Word2Vec(self.documents)\n",
    "        \n",
    "    def vectorize_documents(self):\n",
    "        \"\"\"\n",
    "            Returns a doc_id -> vector dictionary\n",
    "        \"\"\"\n",
    "        doc_dict = {}\n",
    "        for doc_id, content in self.doc_repr:\n",
    "            doc_dict[doc_id] = np.zeros(self.size)\n",
    "            for token in content:\n",
    "                if token in self.model:\n",
    "                    doc_dict[doc_id] += self.model[token]\n",
    "            values = list(doc_dict[doc_id] / len(content))\n",
    "            doc_dict[doc_id] = [(dim+1, values[dim]) for dim in range(len(values))]\n",
    "\n",
    "        return doc_dict\n",
    "\n",
    "    def vectorize_query(self, query):\n",
    "        \"\"\"\n",
    "        Vectorizes the query using the W2V model\n",
    "        \"\"\"\n",
    "        query = process_text(query, **config_2)\n",
    "        vector = np.zeros(self.size)\n",
    "        for token in query:\n",
    "            if token in self.model:\n",
    "                vector += self.model[token]\n",
    "        vector = vector / len(query)\n",
    "        \n",
    "        return [(dim+1, vector[dim]) for dim in range(len(vector))]\n",
    "    \n",
    "class W2VPretrainedRetrievalModel(W2VRetrievalModel):\n",
    "    def __init__(self, doc_repr):\n",
    "        super().__init__(doc_repr)\n",
    "        self.model_name = \"word2vec-google-news-300\"\n",
    "        self.size = 300\n",
    "    \n",
    "    def train_model(self):\n",
    "        \"\"\"\n",
    "        Loads the pretrained model\n",
    "        \"\"\"\n",
    "        self.model = g_downloader.load(self.model_name)\n",
    "\n",
    "w2v = W2VRetrievalModel(doc_repr_2)\n",
    "w2v.train_model()\n",
    "\n",
    "# you can now get a W2V vector for a given query in the following way:\n",
    "w2v.vectorize_query(\"report\")"
   ]
  },
  {
   "cell_type": "code",
   "execution_count": 220,
   "metadata": {
    "deletable": false,
    "editable": false,
    "nbgrader": {
     "cell_type": "code",
     "checksum": "f92b5c5a8c6c4b80652b94223209ab0b",
     "grade": true,
     "grade_id": "cell-b31c0f8d214b8bdf",
     "locked": true,
     "points": 0,
     "schema_version": 3,
     "solution": false,
     "task": false
    }
   },
   "outputs": [
    {
     "name": "stderr",
     "output_type": "stream",
     "text": [
      "c:\\users\\sarah-jane\\documents\\infovis\\lib\\site-packages\\ipykernel_launcher.py:38: DeprecationWarning: Call to deprecated `__contains__` (Method will be removed in 4.0.0, use self.wv.__contains__() instead).\n",
      "c:\\users\\sarah-jane\\documents\\infovis\\lib\\site-packages\\ipykernel_launcher.py:39: DeprecationWarning: Call to deprecated `__getitem__` (Method will be removed in 4.0.0, use self.wv.__getitem__() instead).\n"
     ]
    }
   ],
   "source": [
    "assert len(w2v.vectorize_query(\"report\")) == 100\n",
    "assert len(w2v.vectorize_query(\"this is a sentence that is not mellifluous\")) == 100\n"
   ]
  },
  {
   "cell_type": "markdown",
   "metadata": {
    "deletable": false,
    "editable": false,
    "nbgrader": {
     "cell_type": "markdown",
     "checksum": "8dfaabebcb06f308a7ca61fdc5d369e7",
     "grade": false,
     "grade_id": "cell-c2614fa067386384",
     "locked": true,
     "points": 8,
     "schema_version": 3,
     "solution": false,
     "task": true
    }
   },
   "source": [
    "\\#### Please do not change this. This cell is used for grading."
   ]
  },
  {
   "cell_type": "code",
   "execution_count": 221,
   "metadata": {},
   "outputs": [
    {
     "name": "stderr",
     "output_type": "stream",
     "text": [
      "2021-02-16 21:45:29,729 : INFO : adding document #0 to Dictionary(0 unique tokens: [])\n",
      "2021-02-16 21:45:29,867 : INFO : built Dictionary(5940 unique tokens: ['-', 'algebra', 'intern', 'languag', 'preliminari']...) from 3204 documents (total 115981 corpus positions)\n",
      "2021-02-16 21:45:29,875 : INFO : discarding 4743 tokens: [('repeat', 8), ('glossari', 7), ('inspect', 8), ('uncol', 2), ('rung', 9), ('secant', 2), ('.', 1605), ('acceler', 6), ('diverg', 3), ('induc', 9)]...\n",
      "2021-02-16 21:45:29,875 : INFO : keeping 1197 tokens which were in no less than 10 and no more than 1602 (=50.0%) documents\n",
      "2021-02-16 21:45:29,879 : INFO : resulting dictionary: Dictionary(1197 unique tokens: ['-', 'algebra', 'intern', 'languag', 'preliminari']...)\n",
      "2021-02-16 21:45:30,342 : INFO : loading projection weights from C:\\Users\\Sarah-Jane/gensim-data\\word2vec-google-news-300\\word2vec-google-news-300.gz\n",
      "2021-02-16 21:46:23,516 : INFO : loaded (3000000, 300) matrix from C:\\Users\\Sarah-Jane/gensim-data\\word2vec-google-news-300\\word2vec-google-news-300.gz\n"
     ]
    },
    {
     "data": {
      "text/plain": [
       "[(1, -0.142578125),\n",
       " (2, -0.1640625),\n",
       " (3, -0.09033203125),\n",
       " (4, -0.1123046875),\n",
       " (5, 0.10009765625),\n",
       " (6, -0.041259765625),\n",
       " (7, 0.048828125),\n",
       " (8, -0.13671875),\n",
       " (9, 0.1962890625),\n",
       " (10, -0.134765625),\n",
       " (11, -0.017578125),\n",
       " (12, 0.0322265625),\n",
       " (13, 0.09521484375),\n",
       " (14, -0.10595703125),\n",
       " (15, -0.169921875),\n",
       " (16, 0.041015625),\n",
       " (17, -0.263671875),\n",
       " (18, -0.006317138671875),\n",
       " (19, -0.177734375),\n",
       " (20, -0.240234375),\n",
       " (21, 0.3515625),\n",
       " (22, -0.01220703125),\n",
       " (23, -0.162109375),\n",
       " (24, -0.12060546875),\n",
       " (25, 0.043212890625),\n",
       " (26, 0.10986328125),\n",
       " (27, 0.052490234375),\n",
       " (28, 0.1787109375),\n",
       " (29, -0.1455078125),\n",
       " (30, 0.1376953125),\n",
       " (31, -0.08203125),\n",
       " (32, -0.283203125),\n",
       " (33, -0.10888671875),\n",
       " (34, -0.2890625),\n",
       " (35, 0.072265625),\n",
       " (36, -0.04736328125),\n",
       " (37, 0.040283203125),\n",
       " (38, 0.06787109375),\n",
       " (39, 0.11669921875),\n",
       " (40, 0.00083160400390625),\n",
       " (41, 0.068359375),\n",
       " (42, 0.1201171875),\n",
       " (43, -0.08837890625),\n",
       " (44, 0.337890625),\n",
       " (45, -0.044677734375),\n",
       " (46, -0.0301513671875),\n",
       " (47, 0.0076904296875),\n",
       " (48, -0.0211181640625),\n",
       " (49, -0.25390625),\n",
       " (50, 0.1494140625),\n",
       " (51, 0.3984375),\n",
       " (52, 0.0216064453125),\n",
       " (53, -0.023193359375),\n",
       " (54, 0.00634765625),\n",
       " (55, 0.00823974609375),\n",
       " (56, -0.1689453125),\n",
       " (57, 0.037353515625),\n",
       " (58, -0.0634765625),\n",
       " (59, 0.1171875),\n",
       " (60, -0.1484375),\n",
       " (61, -0.07861328125),\n",
       " (62, 0.369140625),\n",
       " (63, -0.224609375),\n",
       " (64, 0.173828125),\n",
       " (65, 0.01385498046875),\n",
       " (66, 0.1875),\n",
       " (67, -0.10107421875),\n",
       " (68, 0.037841796875),\n",
       " (69, 0.0021209716796875),\n",
       " (70, -0.05126953125),\n",
       " (71, 0.09619140625),\n",
       " (72, -0.05712890625),\n",
       " (73, 0.10595703125),\n",
       " (74, -0.02099609375),\n",
       " (75, 0.1611328125),\n",
       " (76, 0.09765625),\n",
       " (77, 0.038330078125),\n",
       " (78, 0.2197265625),\n",
       " (79, 0.1064453125),\n",
       " (80, 0.0859375),\n",
       " (81, 0.1796875),\n",
       " (82, -0.0830078125),\n",
       " (83, -0.033203125),\n",
       " (84, 0.041015625),\n",
       " (85, -0.06494140625),\n",
       " (86, 0.0198974609375),\n",
       " (87, 0.1337890625),\n",
       " (88, -0.09765625),\n",
       " (89, -0.193359375),\n",
       " (90, -0.2353515625),\n",
       " (91, 0.1904296875),\n",
       " (92, 0.0024871826171875),\n",
       " (93, -0.0157470703125),\n",
       " (94, 0.0322265625),\n",
       " (95, -0.2197265625),\n",
       " (96, -0.09130859375),\n",
       " (97, 0.021240234375),\n",
       " (98, 0.158203125),\n",
       " (99, 0.298828125),\n",
       " (100, -0.328125),\n",
       " (101, 0.057373046875),\n",
       " (102, -0.04638671875),\n",
       " (103, 0.11328125),\n",
       " (104, -0.1015625),\n",
       " (105, 0.1806640625),\n",
       " (106, -0.025146484375),\n",
       " (107, -0.166015625),\n",
       " (108, -0.09619140625),\n",
       " (109, 0.018798828125),\n",
       " (110, -0.1943359375),\n",
       " (111, 0.1494140625),\n",
       " (112, -0.056640625),\n",
       " (113, -0.10693359375),\n",
       " (114, -0.150390625),\n",
       " (115, -0.17578125),\n",
       " (116, 0.11279296875),\n",
       " (117, 0.04931640625),\n",
       " (118, 0.2197265625),\n",
       " (119, 0.318359375),\n",
       " (120, 0.1572265625),\n",
       " (121, -0.29296875),\n",
       " (122, 0.10498046875),\n",
       " (123, -0.296875),\n",
       " (124, -0.013427734375),\n",
       " (125, 0.0908203125),\n",
       " (126, 0.0125732421875),\n",
       " (127, -0.051513671875),\n",
       " (128, -0.12890625),\n",
       " (129, 0.01446533203125),\n",
       " (130, 0.12060546875),\n",
       " (131, -0.10107421875),\n",
       " (132, -0.111328125),\n",
       " (133, 0.06396484375),\n",
       " (134, -0.052978515625),\n",
       " (135, -0.043212890625),\n",
       " (136, -0.012939453125),\n",
       " (137, -0.027587890625),\n",
       " (138, -0.09716796875),\n",
       " (139, -0.2021484375),\n",
       " (140, 0.123046875),\n",
       " (141, -0.04248046875),\n",
       " (142, 0.173828125),\n",
       " (143, -0.013671875),\n",
       " (144, 0.1015625),\n",
       " (145, -0.00093841552734375),\n",
       " (146, -0.03564453125),\n",
       " (147, 0.30078125),\n",
       " (148, -0.068359375),\n",
       " (149, -0.05615234375),\n",
       " (150, 0.03759765625),\n",
       " (151, 0.06591796875),\n",
       " (152, 0.040283203125),\n",
       " (153, 0.01190185546875),\n",
       " (154, 0.09619140625),\n",
       " (155, 0.3671875),\n",
       " (156, -0.279296875),\n",
       " (157, -0.052001953125),\n",
       " (158, -0.10693359375),\n",
       " (159, -0.134765625),\n",
       " (160, -0.046142578125),\n",
       " (161, 0.25),\n",
       " (162, 0.00567626953125),\n",
       " (163, -0.014404296875),\n",
       " (164, -0.031005859375),\n",
       " (165, -0.060302734375),\n",
       " (166, 0.10595703125),\n",
       " (167, 0.37890625),\n",
       " (168, 0.058837890625),\n",
       " (169, 0.123046875),\n",
       " (170, -0.115234375),\n",
       " (171, 0.1494140625),\n",
       " (172, -0.1640625),\n",
       " (173, -0.2333984375),\n",
       " (174, -0.07763671875),\n",
       " (175, 0.0267333984375),\n",
       " (176, -0.0211181640625),\n",
       " (177, 0.1943359375),\n",
       " (178, -0.05615234375),\n",
       " (179, -0.006439208984375),\n",
       " (180, -0.169921875),\n",
       " (181, -0.11865234375),\n",
       " (182, -0.0673828125),\n",
       " (183, -0.06884765625),\n",
       " (184, -0.0869140625),\n",
       " (185, -0.1015625),\n",
       " (186, 0.01416015625),\n",
       " (187, -0.201171875),\n",
       " (188, 0.09814453125),\n",
       " (189, -0.01025390625),\n",
       " (190, 0.1875),\n",
       " (191, 0.1962890625),\n",
       " (192, -0.220703125),\n",
       " (193, -0.1962890625),\n",
       " (194, -0.07373046875),\n",
       " (195, 0.06640625),\n",
       " (196, -0.1337890625),\n",
       " (197, 0.18359375),\n",
       " (198, -0.2001953125),\n",
       " (199, 0.1982421875),\n",
       " (200, 0.05029296875),\n",
       " (201, 0.0299072265625),\n",
       " (202, 0.0177001953125),\n",
       " (203, -0.193359375),\n",
       " (204, -0.09619140625),\n",
       " (205, -0.1025390625),\n",
       " (206, 0.212890625),\n",
       " (207, -0.0299072265625),\n",
       " (208, 0.1435546875),\n",
       " (209, 0.041015625),\n",
       " (210, -0.2119140625),\n",
       " (211, 0.2080078125),\n",
       " (212, 0.1376953125),\n",
       " (213, -0.0196533203125),\n",
       " (214, 0.01495361328125),\n",
       " (215, -0.09765625),\n",
       " (216, 0.2431640625),\n",
       " (217, 0.080078125),\n",
       " (218, 0.08251953125),\n",
       " (219, 0.0986328125),\n",
       " (220, 0.056884765625),\n",
       " (221, 0.04248046875),\n",
       " (222, 0.06884765625),\n",
       " (223, -0.035400390625),\n",
       " (224, -0.076171875),\n",
       " (225, -0.00016117095947265625),\n",
       " (226, -0.0751953125),\n",
       " (227, 0.224609375),\n",
       " (228, 0.1513671875),\n",
       " (229, 0.1005859375),\n",
       " (230, 0.10986328125),\n",
       " (231, 0.0238037109375),\n",
       " (232, 0.08837890625),\n",
       " (233, 0.061767578125),\n",
       " (234, -0.10791015625),\n",
       " (235, 0.062255859375),\n",
       " (236, 0.0034332275390625),\n",
       " (237, 0.08056640625),\n",
       " (238, 0.10693359375),\n",
       " (239, 0.0888671875),\n",
       " (240, -0.2373046875),\n",
       " (241, 0.06494140625),\n",
       " (242, 0.01019287109375),\n",
       " (243, -0.08837890625),\n",
       " (244, -0.33203125),\n",
       " (245, 0.004669189453125),\n",
       " (246, 0.212890625),\n",
       " (247, 0.0859375),\n",
       " (248, 0.0203857421875),\n",
       " (249, 0.045654296875),\n",
       " (250, 0.1484375),\n",
       " (251, 0.1181640625),\n",
       " (252, 0.0556640625),\n",
       " (253, -0.1728515625),\n",
       " (254, -0.125),\n",
       " (255, -0.025390625),\n",
       " (256, -0.318359375),\n",
       " (257, 0.0311279296875),\n",
       " (258, 0.0859375),\n",
       " (259, -0.0419921875),\n",
       " (260, 0.15625),\n",
       " (261, 0.1611328125),\n",
       " (262, 0.1982421875),\n",
       " (263, -0.10009765625),\n",
       " (264, 0.203125),\n",
       " (265, 0.12890625),\n",
       " (266, 0.2333984375),\n",
       " (267, -0.267578125),\n",
       " (268, 0.05517578125),\n",
       " (269, 0.048828125),\n",
       " (270, 0.072265625),\n",
       " (271, 0.244140625),\n",
       " (272, 0.244140625),\n",
       " (273, 0.056884765625),\n",
       " (274, -0.0546875),\n",
       " (275, -0.03369140625),\n",
       " (276, -0.12060546875),\n",
       " (277, 0.034912109375),\n",
       " (278, -0.1455078125),\n",
       " (279, 0.08740234375),\n",
       " (280, -0.0830078125),\n",
       " (281, 0.0172119140625),\n",
       " (282, 0.1435546875),\n",
       " (283, -0.12255859375),\n",
       " (284, 0.1796875),\n",
       " (285, 0.130859375),\n",
       " (286, -0.1650390625),\n",
       " (287, 0.01275634765625),\n",
       " (288, 0.16015625),\n",
       " (289, -0.0311279296875),\n",
       " (290, 0.08203125),\n",
       " (291, 0.173828125),\n",
       " (292, -0.16796875),\n",
       " (293, 0.130859375),\n",
       " (294, 0.08544921875),\n",
       " (295, -0.2109375),\n",
       " (296, -0.130859375),\n",
       " (297, -0.0289306640625),\n",
       " (298, -0.10546875),\n",
       " (299, 0.08447265625),\n",
       " (300, -0.1416015625)]"
      ]
     },
     "execution_count": 221,
     "metadata": {},
     "output_type": "execute_result"
    }
   ],
   "source": [
    "w2v_pretrained = W2VPretrainedRetrievalModel(doc_repr_2)\n",
    "w2v_pretrained.train_model()\n",
    "\n",
    "# you can now get an W2V vector for a given query in the following way:\n",
    "w2v_pretrained.vectorize_query(\"report\")"
   ]
  },
  {
   "cell_type": "code",
   "execution_count": 222,
   "metadata": {
    "deletable": false,
    "editable": false,
    "nbgrader": {
     "cell_type": "code",
     "checksum": "0822845afb5eafe5ddb1ffeaa4f4942a",
     "grade": true,
     "grade_id": "cell-1b1466f8ce516f42",
     "locked": true,
     "points": 2,
     "schema_version": 3,
     "solution": false,
     "task": false
    }
   },
   "outputs": [
    {
     "name": "stdout",
     "output_type": "stream",
     "text": [
      "300\n"
     ]
    }
   ],
   "source": [
    "##### Function check\n",
    "\n",
    "print(len(w2v_pretrained.vectorize_query(\"report\")))\n",
    "#####"
   ]
  },
  {
   "cell_type": "code",
   "execution_count": 223,
   "metadata": {},
   "outputs": [
    {
     "name": "stderr",
     "output_type": "stream",
     "text": [
      "c:\\users\\sarah-jane\\documents\\infovis\\lib\\site-packages\\ipykernel_launcher.py:24: DeprecationWarning: Call to deprecated `__contains__` (Method will be removed in 4.0.0, use self.wv.__contains__() instead).\n",
      "c:\\users\\sarah-jane\\documents\\infovis\\lib\\site-packages\\ipykernel_launcher.py:25: DeprecationWarning: Call to deprecated `__getitem__` (Method will be removed in 4.0.0, use self.wv.__getitem__() instead).\n"
     ]
    },
    {
     "data": {
      "application/vnd.jupyter.widget-view+json": {
       "model_id": "a26f0e897f6e4f33b68b9e2955a312e6",
       "version_major": 2,
       "version_minor": 0
      },
      "text/plain": [
       "Text(value='', description='Search Bar')"
      ]
     },
     "metadata": {},
     "output_type": "display_data"
    },
    {
     "name": "stdout",
     "output_type": "stream",
     "text": [
      "Searching for: 'math' (SEARCH FN: <bound method DenseRetrievalRanker.search of <__main__.DenseRetrievalRanker object at 0x00000204C04DFEC8>>)\n"
     ]
    },
    {
     "name": "stderr",
     "output_type": "stream",
     "text": [
      "c:\\users\\sarah-jane\\documents\\infovis\\lib\\site-packages\\ipykernel_launcher.py:38: DeprecationWarning: Call to deprecated `__contains__` (Method will be removed in 4.0.0, use self.wv.__contains__() instead).\n",
      "c:\\users\\sarah-jane\\documents\\infovis\\lib\\site-packages\\ipykernel_launcher.py:14: RuntimeWarning: invalid value encountered in double_scalars\n",
      "  \n"
     ]
    },
    {
     "data": {
      "text/html": [
       "<ul><li>Document #1(nan): Preliminary Report-International Algebraic Language</li><li>Document #2(nan): Extraction of Roots by Repeated Subtractions for Digital Computers</li><li>Document #3(nan): Techniques Department on Matrix Program Schemes</li><li>Document #4(nan): Glossary of Computer Engineering and Programming Terminology</li><li>Document #5(nan): Two Square-Root Approximations</li></ul>"
      ],
      "text/plain": [
       "<IPython.core.display.HTML object>"
      ]
     },
     "metadata": {},
     "output_type": "display_data"
    }
   ],
   "source": [
    "drm_w2v = DenseRetrievalRanker(w2v, cosine_sim)\n",
    "\n",
    "# test your LDA model\n",
    "search_fn = drm_w2v.search\n",
    "\n",
    "text = widgets.Text(description=\"Search Bar\", width=200)\n",
    "display(text)\n",
    "\n",
    "\n",
    "text.on_submit(handle_submit_2)"
   ]
  },
  {
   "cell_type": "code",
   "execution_count": 224,
   "metadata": {},
   "outputs": [
    {
     "data": {
      "application/vnd.jupyter.widget-view+json": {
       "model_id": "a88bc97480c949ca8b44e930fc54e8bc",
       "version_major": 2,
       "version_minor": 0
      },
      "text/plain": [
       "Text(value='', description='Search Bar')"
      ]
     },
     "metadata": {},
     "output_type": "display_data"
    },
    {
     "name": "stdout",
     "output_type": "stream",
     "text": [
      "Searching for: 'math' (SEARCH FN: <bound method DenseRetrievalRanker.search of <__main__.DenseRetrievalRanker object at 0x00000204D588E7C8>>)\n"
     ]
    },
    {
     "name": "stderr",
     "output_type": "stream",
     "text": [
      "c:\\users\\sarah-jane\\documents\\infovis\\lib\\site-packages\\ipykernel_launcher.py:14: RuntimeWarning: invalid value encountered in double_scalars\n",
      "  \n"
     ]
    },
    {
     "data": {
      "text/html": [
       "<ul><li>Document #55(0.7605751303180235): An Algebraic Translator</li><li>Document #2755(0.7223725691223641): ...The New <strong>Math</strong> of Computer Prog...</li><li>Document #44(0.6336484377536336): RUNCIBLE-Algebraic Translation on a Limited Computer</li><li>Document #3189(0.6296964380767884): An Algebraic Compiler for the FORTRAN Assembly Program  \n",
       "    An algebraic compiler has been written which may be added to the FORTRAN   Assembly Program. This compiler will expand all algebraic statements with the   following operations: addition, subtraction, multiplication and division. It  will compile multi-level expressions in floating-point arithmetic (this is  easily be revised to fixed-point).</li><li>Document #769(0.6101533383890398): Algebra of Sets (Algorithm 156)</li></ul>"
      ],
      "text/plain": [
       "<IPython.core.display.HTML object>"
      ]
     },
     "metadata": {},
     "output_type": "display_data"
    }
   ],
   "source": [
    "drm_w2v_pretrained = DenseRetrievalRanker(w2v_pretrained, cosine_sim)\n",
    "\n",
    "# test your LDA model\n",
    "search_fn = drm_w2v_pretrained.search\n",
    "\n",
    "text = widgets.Text(description=\"Search Bar\", width=200)\n",
    "display(text)\n",
    "\n",
    "\n",
    "text.on_submit(handle_submit_2)"
   ]
  },
  {
   "cell_type": "markdown",
   "metadata": {
    "deletable": false,
    "editable": false,
    "nbgrader": {
     "cell_type": "markdown",
     "checksum": "51b778984fd60757974f51047c61eb15",
     "grade": false,
     "grade_id": "cell-b92f701cbc706108",
     "locked": true,
     "schema_version": 3,
     "solution": false,
     "task": false
    }
   },
   "source": [
    "**Implementation (10 points):**\n",
    "For Doc2Vec, you will need to create a list of `TaggedDocument` instead of using the `self.corpus` or `self.documents` variable. Use the document id as the 'tag'.\n",
    "  "
   ]
  },
  {
   "cell_type": "code",
   "execution_count": 225,
   "metadata": {
    "deletable": false,
    "nbgrader": {
     "cell_type": "code",
     "checksum": "1f60fdeb97febb7f4a6fd5bf109aac20",
     "grade": false,
     "grade_id": "cell-680facdcc98a19ab",
     "locked": false,
     "schema_version": 3,
     "solution": true,
     "task": false
    }
   },
   "outputs": [
    {
     "name": "stderr",
     "output_type": "stream",
     "text": [
      "2021-02-16 21:47:13,150 : INFO : adding document #0 to Dictionary(0 unique tokens: [])\n",
      "2021-02-16 21:47:13,288 : INFO : built Dictionary(5940 unique tokens: ['-', 'algebra', 'intern', 'languag', 'preliminari']...) from 3204 documents (total 115981 corpus positions)\n",
      "2021-02-16 21:47:13,296 : INFO : discarding 4743 tokens: [('repeat', 8), ('glossari', 7), ('inspect', 8), ('uncol', 2), ('rung', 9), ('secant', 2), ('.', 1605), ('acceler', 6), ('diverg', 3), ('induc', 9)]...\n",
      "2021-02-16 21:47:13,297 : INFO : keeping 1197 tokens which were in no less than 10 and no more than 1602 (=50.0%) documents\n",
      "2021-02-16 21:47:13,300 : INFO : resulting dictionary: Dictionary(1197 unique tokens: ['-', 'algebra', 'intern', 'languag', 'preliminari']...)\n",
      "2021-02-16 21:47:13,379 : INFO : collecting all words and their counts\n",
      "2021-02-16 21:47:13,380 : INFO : PROGRESS: at example #0, processed 0 words (0/s), 0 word types, 0 tags\n",
      "2021-02-16 21:47:13,402 : INFO : collected 5940 word types and 3205 unique tags from a corpus of 3204 examples and 115981 words\n",
      "2021-02-16 21:47:13,402 : INFO : Loading a fresh vocabulary\n",
      "2021-02-16 21:47:13,412 : INFO : effective_min_count=1 retains 5940 unique words (100% of original 5940, drops 0)\n",
      "2021-02-16 21:47:13,413 : INFO : effective_min_count=1 leaves 115981 word corpus (100% of original 115981, drops 0)\n",
      "2021-02-16 21:47:13,430 : INFO : deleting the raw counts dictionary of 5940 items\n",
      "2021-02-16 21:47:13,432 : INFO : sample=0.001 downsamples 40 most-common words\n",
      "2021-02-16 21:47:13,432 : INFO : downsampling leaves estimated 92351 word corpus (79.6% of prior 115981)\n",
      "2021-02-16 21:47:13,447 : INFO : estimated required memory for 5940 words and 100 dimensions: 9004000 bytes\n",
      "2021-02-16 21:47:13,448 : INFO : resetting layer weights\n",
      "2021-02-16 21:47:14,771 : INFO : training model with 3 workers on 5940 vocabulary and 100 features, using sg=0 hs=0 sample=0.001 negative=5 window=5\n",
      "2021-02-16 21:47:14,984 : INFO : worker thread finished; awaiting finish of 2 more threads\n",
      "2021-02-16 21:47:14,989 : INFO : worker thread finished; awaiting finish of 1 more threads\n",
      "2021-02-16 21:47:14,992 : INFO : worker thread finished; awaiting finish of 0 more threads\n",
      "2021-02-16 21:47:14,993 : INFO : EPOCH - 1 : training on 115981 raw words (95570 effective words) took 0.2s, 617039 effective words/s\n",
      "2021-02-16 21:47:15,145 : INFO : worker thread finished; awaiting finish of 2 more threads\n",
      "2021-02-16 21:47:15,151 : INFO : worker thread finished; awaiting finish of 1 more threads\n",
      "2021-02-16 21:47:15,166 : INFO : worker thread finished; awaiting finish of 0 more threads\n",
      "2021-02-16 21:47:15,167 : INFO : EPOCH - 2 : training on 115981 raw words (95522 effective words) took 0.2s, 560139 effective words/s\n",
      "2021-02-16 21:47:15,324 : INFO : worker thread finished; awaiting finish of 2 more threads\n",
      "2021-02-16 21:47:15,329 : INFO : worker thread finished; awaiting finish of 1 more threads\n",
      "2021-02-16 21:47:15,335 : INFO : worker thread finished; awaiting finish of 0 more threads\n",
      "2021-02-16 21:47:15,336 : INFO : EPOCH - 3 : training on 115981 raw words (95582 effective words) took 0.2s, 576444 effective words/s\n",
      "2021-02-16 21:47:15,490 : INFO : worker thread finished; awaiting finish of 2 more threads\n",
      "2021-02-16 21:47:15,498 : INFO : worker thread finished; awaiting finish of 1 more threads\n",
      "2021-02-16 21:47:15,501 : INFO : worker thread finished; awaiting finish of 0 more threads\n",
      "2021-02-16 21:47:15,502 : INFO : EPOCH - 4 : training on 115981 raw words (95594 effective words) took 0.2s, 591777 effective words/s\n",
      "2021-02-16 21:47:15,666 : INFO : worker thread finished; awaiting finish of 2 more threads\n",
      "2021-02-16 21:47:15,674 : INFO : worker thread finished; awaiting finish of 1 more threads\n",
      "2021-02-16 21:47:15,679 : INFO : worker thread finished; awaiting finish of 0 more threads\n",
      "2021-02-16 21:47:15,680 : INFO : EPOCH - 5 : training on 115981 raw words (95576 effective words) took 0.2s, 549806 effective words/s\n",
      "2021-02-16 21:47:15,866 : INFO : worker thread finished; awaiting finish of 2 more threads\n",
      "2021-02-16 21:47:15,872 : INFO : worker thread finished; awaiting finish of 1 more threads\n",
      "2021-02-16 21:47:15,878 : INFO : worker thread finished; awaiting finish of 0 more threads\n",
      "2021-02-16 21:47:15,878 : INFO : EPOCH - 6 : training on 115981 raw words (95518 effective words) took 0.2s, 510200 effective words/s\n",
      "2021-02-16 21:47:16,043 : INFO : worker thread finished; awaiting finish of 2 more threads\n",
      "2021-02-16 21:47:16,049 : INFO : worker thread finished; awaiting finish of 1 more threads\n",
      "2021-02-16 21:47:16,054 : INFO : worker thread finished; awaiting finish of 0 more threads\n",
      "2021-02-16 21:47:16,054 : INFO : EPOCH - 7 : training on 115981 raw words (95635 effective words) took 0.2s, 560415 effective words/s\n",
      "2021-02-16 21:47:16,219 : INFO : worker thread finished; awaiting finish of 2 more threads\n",
      "2021-02-16 21:47:16,224 : INFO : worker thread finished; awaiting finish of 1 more threads\n",
      "2021-02-16 21:47:16,228 : INFO : worker thread finished; awaiting finish of 0 more threads\n",
      "2021-02-16 21:47:16,229 : INFO : EPOCH - 8 : training on 115981 raw words (95618 effective words) took 0.2s, 558366 effective words/s\n",
      "2021-02-16 21:47:16,387 : INFO : worker thread finished; awaiting finish of 2 more threads\n",
      "2021-02-16 21:47:16,398 : INFO : worker thread finished; awaiting finish of 1 more threads\n",
      "2021-02-16 21:47:16,399 : INFO : worker thread finished; awaiting finish of 0 more threads\n",
      "2021-02-16 21:47:16,399 : INFO : EPOCH - 9 : training on 115981 raw words (95481 effective words) took 0.2s, 571674 effective words/s\n",
      "2021-02-16 21:47:16,564 : INFO : worker thread finished; awaiting finish of 2 more threads\n",
      "2021-02-16 21:47:16,568 : INFO : worker thread finished; awaiting finish of 1 more threads\n",
      "2021-02-16 21:47:16,577 : INFO : worker thread finished; awaiting finish of 0 more threads\n",
      "2021-02-16 21:47:16,577 : INFO : EPOCH - 10 : training on 115981 raw words (95704 effective words) took 0.2s, 548489 effective words/s\n",
      "2021-02-16 21:47:16,735 : INFO : worker thread finished; awaiting finish of 2 more threads\n",
      "2021-02-16 21:47:16,747 : INFO : worker thread finished; awaiting finish of 1 more threads\n",
      "2021-02-16 21:47:16,755 : INFO : worker thread finished; awaiting finish of 0 more threads\n",
      "2021-02-16 21:47:16,755 : INFO : EPOCH - 11 : training on 115981 raw words (95656 effective words) took 0.2s, 547794 effective words/s\n",
      "2021-02-16 21:47:16,904 : INFO : worker thread finished; awaiting finish of 2 more threads\n",
      "2021-02-16 21:47:16,911 : INFO : worker thread finished; awaiting finish of 1 more threads\n",
      "2021-02-16 21:47:16,918 : INFO : worker thread finished; awaiting finish of 0 more threads\n",
      "2021-02-16 21:47:16,919 : INFO : EPOCH - 12 : training on 115981 raw words (95512 effective words) took 0.2s, 597351 effective words/s\n",
      "2021-02-16 21:47:17,063 : INFO : worker thread finished; awaiting finish of 2 more threads\n",
      "2021-02-16 21:47:17,071 : INFO : worker thread finished; awaiting finish of 1 more threads\n",
      "2021-02-16 21:47:17,074 : INFO : worker thread finished; awaiting finish of 0 more threads\n",
      "2021-02-16 21:47:17,075 : INFO : EPOCH - 13 : training on 115981 raw words (95517 effective words) took 0.2s, 625745 effective words/s\n",
      "2021-02-16 21:47:17,221 : INFO : worker thread finished; awaiting finish of 2 more threads\n",
      "2021-02-16 21:47:17,222 : INFO : worker thread finished; awaiting finish of 1 more threads\n",
      "2021-02-16 21:47:17,231 : INFO : worker thread finished; awaiting finish of 0 more threads\n",
      "2021-02-16 21:47:17,232 : INFO : EPOCH - 14 : training on 115981 raw words (95583 effective words) took 0.2s, 623818 effective words/s\n",
      "2021-02-16 21:47:17,390 : INFO : worker thread finished; awaiting finish of 2 more threads\n",
      "2021-02-16 21:47:17,395 : INFO : worker thread finished; awaiting finish of 1 more threads\n",
      "2021-02-16 21:47:17,401 : INFO : worker thread finished; awaiting finish of 0 more threads\n",
      "2021-02-16 21:47:17,402 : INFO : EPOCH - 15 : training on 115981 raw words (95595 effective words) took 0.2s, 574231 effective words/s\n",
      "2021-02-16 21:47:17,586 : INFO : worker thread finished; awaiting finish of 2 more threads\n",
      "2021-02-16 21:47:17,593 : INFO : worker thread finished; awaiting finish of 1 more threads\n"
     ]
    },
    {
     "name": "stderr",
     "output_type": "stream",
     "text": [
      "2021-02-16 21:47:17,594 : INFO : worker thread finished; awaiting finish of 0 more threads\n",
      "2021-02-16 21:47:17,595 : INFO : EPOCH - 16 : training on 115981 raw words (95631 effective words) took 0.2s, 527797 effective words/s\n",
      "2021-02-16 21:47:17,769 : INFO : worker thread finished; awaiting finish of 2 more threads\n",
      "2021-02-16 21:47:17,776 : INFO : worker thread finished; awaiting finish of 1 more threads\n",
      "2021-02-16 21:47:17,778 : INFO : worker thread finished; awaiting finish of 0 more threads\n",
      "2021-02-16 21:47:17,779 : INFO : EPOCH - 17 : training on 115981 raw words (95568 effective words) took 0.2s, 530608 effective words/s\n",
      "2021-02-16 21:47:17,933 : INFO : worker thread finished; awaiting finish of 2 more threads\n",
      "2021-02-16 21:47:17,941 : INFO : worker thread finished; awaiting finish of 1 more threads\n",
      "2021-02-16 21:47:17,945 : INFO : worker thread finished; awaiting finish of 0 more threads\n",
      "2021-02-16 21:47:17,945 : INFO : EPOCH - 18 : training on 115981 raw words (95520 effective words) took 0.2s, 589023 effective words/s\n",
      "2021-02-16 21:47:18,102 : INFO : worker thread finished; awaiting finish of 2 more threads\n",
      "2021-02-16 21:47:18,107 : INFO : worker thread finished; awaiting finish of 1 more threads\n",
      "2021-02-16 21:47:18,111 : INFO : worker thread finished; awaiting finish of 0 more threads\n",
      "2021-02-16 21:47:18,112 : INFO : EPOCH - 19 : training on 115981 raw words (95459 effective words) took 0.2s, 581964 effective words/s\n",
      "2021-02-16 21:47:18,270 : INFO : worker thread finished; awaiting finish of 2 more threads\n",
      "2021-02-16 21:47:18,274 : INFO : worker thread finished; awaiting finish of 1 more threads\n",
      "2021-02-16 21:47:18,281 : INFO : worker thread finished; awaiting finish of 0 more threads\n",
      "2021-02-16 21:47:18,282 : INFO : EPOCH - 20 : training on 115981 raw words (95559 effective words) took 0.2s, 578616 effective words/s\n",
      "2021-02-16 21:47:18,282 : INFO : training on a 2319620 raw words (1911400 effective words) took 3.5s, 544467 effective words/s\n"
     ]
    },
    {
     "data": {
      "text/plain": [
       "[(1, -0.028568497),\n",
       " (2, -0.020615032),\n",
       " (3, 0.008031699),\n",
       " (4, -0.005013768),\n",
       " (5, 0.07571902),\n",
       " (6, 0.004931158),\n",
       " (7, 0.012007833),\n",
       " (8, 0.019104248),\n",
       " (9, -0.049017895),\n",
       " (10, -0.10733192),\n",
       " (11, 0.020193983),\n",
       " (12, 0.042613547),\n",
       " (13, -0.007617647),\n",
       " (14, -0.0012105859),\n",
       " (15, -0.015948683),\n",
       " (16, -0.0039947177),\n",
       " (17, -0.0023267735),\n",
       " (18, 0.09706164),\n",
       " (19, -0.0932846),\n",
       " (20, -0.024367906),\n",
       " (21, -0.0073978608),\n",
       " (22, 0.13160352),\n",
       " (23, -0.025929859),\n",
       " (24, -0.015448572),\n",
       " (25, -0.0026595541),\n",
       " (26, -0.011753895),\n",
       " (27, 0.072071284),\n",
       " (28, 0.047821645),\n",
       " (29, 0.0483773),\n",
       " (30, 0.02033157),\n",
       " (31, -0.054644123),\n",
       " (32, -0.02913298),\n",
       " (33, -0.040086206),\n",
       " (34, -0.08045722),\n",
       " (35, -0.03287397),\n",
       " (36, 0.058552332),\n",
       " (37, -0.07310465),\n",
       " (38, -0.09594448),\n",
       " (39, -0.03413869),\n",
       " (40, 0.056644365),\n",
       " (41, 0.13175611),\n",
       " (42, 0.048253756),\n",
       " (43, 0.03887733),\n",
       " (44, 0.013460089),\n",
       " (45, -0.09561188),\n",
       " (46, 0.04844765),\n",
       " (47, -0.038902987),\n",
       " (48, -0.04682766),\n",
       " (49, -0.039737687),\n",
       " (50, -0.018348575),\n",
       " (51, 0.07623084),\n",
       " (52, -0.027100237),\n",
       " (53, 0.009941466),\n",
       " (54, 0.0382064),\n",
       " (55, 0.0012408043),\n",
       " (56, 0.035844065),\n",
       " (57, 3.2470552e-06),\n",
       " (58, -0.035609305),\n",
       " (59, -0.013451595),\n",
       " (60, -0.0023229618),\n",
       " (61, 0.06651754),\n",
       " (62, -0.10390237),\n",
       " (63, -0.062098805),\n",
       " (64, 0.039100986),\n",
       " (65, 0.041698147),\n",
       " (66, 0.01614248),\n",
       " (67, 0.054397635),\n",
       " (68, 0.028218247),\n",
       " (69, 0.023943776),\n",
       " (70, -0.028316377),\n",
       " (71, 0.05146506),\n",
       " (72, 0.024000386),\n",
       " (73, 0.0040213643),\n",
       " (74, 0.022361975),\n",
       " (75, 0.04439376),\n",
       " (76, 0.071093716),\n",
       " (77, 0.04244155),\n",
       " (78, 0.11125485),\n",
       " (79, -0.08939549),\n",
       " (80, -0.046417654),\n",
       " (81, -0.039420247),\n",
       " (82, -0.05367599),\n",
       " (83, 0.048146024),\n",
       " (84, -0.033309817),\n",
       " (85, -0.060339425),\n",
       " (86, 0.064758025),\n",
       " (87, 0.020993214),\n",
       " (88, -0.0035834545),\n",
       " (89, 0.02458913),\n",
       " (90, -0.050556336),\n",
       " (91, 0.022118282),\n",
       " (92, -0.06483442),\n",
       " (93, 0.056934323),\n",
       " (94, -0.020373518),\n",
       " (95, 0.04795659),\n",
       " (96, 0.036979128),\n",
       " (97, -0.017251253),\n",
       " (98, -0.026882265),\n",
       " (99, 0.058776323),\n",
       " (100, -0.010903499)]"
      ]
     },
     "execution_count": 225,
     "metadata": {},
     "output_type": "execute_result"
    }
   ],
   "source": [
    "# TODO: Implement this! (10 points)\n",
    "class D2VRetrievalModel(VectorSpaceRetrievalModel):\n",
    "    def __init__(self, doc_repr):\n",
    "        super().__init__(doc_repr)\n",
    "        \n",
    "        self.vector_size= 100\n",
    "        self.min_count = 1\n",
    "        self.epochs = 20\n",
    "        \n",
    "        self.docs = []\n",
    "        for doc_id, content in self.doc_repr:\n",
    "            self.docs.append(TaggedDocument(words=content, tags=[doc_id]))  \n",
    "        \n",
    "    def train_model(self):\n",
    "        self.model = Doc2Vec(\n",
    "            self.docs,\n",
    "            vector_size=self.vector_size,\n",
    "            min_count=self.min_count,\n",
    "            epochs=self.epochs\n",
    "        )\n",
    "    \n",
    "    def vectorize_documents(self):\n",
    "        \"\"\"\n",
    "            Returns a doc_id -> vector dictionary\n",
    "        \"\"\"\n",
    "        doc_dict = {}\n",
    "        for doc_id, content in self.doc_repr:\n",
    "            vector = self.model.infer_vector(content)\n",
    "            doc_dict[doc_id] = [(dim+1, vector[dim]) for dim in range(len(vector))]\n",
    "        return doc_dict\n",
    "\n",
    "    def vectorize_query(self, query):\n",
    "        query = process_text(query, **config_2)\n",
    "        vector = self.model.infer_vector(query)\n",
    "        return [(dim+1, vector[dim]) for dim in range(len(vector))]\n",
    "        \n",
    "d2v = D2VRetrievalModel(doc_repr_2)\n",
    "d2v.train_model()\n",
    "\n",
    "\n",
    "# # you can now get an LSI vector for a given query in the following way:\n",
    "d2v.vectorize_query(\"report\")"
   ]
  },
  {
   "cell_type": "code",
   "execution_count": null,
   "metadata": {
    "deletable": false,
    "editable": false,
    "nbgrader": {
     "cell_type": "code",
     "checksum": "e83a363a9d4f136efbdde1426a83925e",
     "grade": true,
     "grade_id": "cell-5e2c5e0c9a2e8cb5",
     "locked": true,
     "points": 0,
     "schema_version": 3,
     "solution": false,
     "task": false
    }
   },
   "outputs": [],
   "source": [
    "#### Please do not change this. This cell is used for grading."
   ]
  },
  {
   "cell_type": "markdown",
   "metadata": {
    "deletable": false,
    "editable": false,
    "nbgrader": {
     "cell_type": "markdown",
     "checksum": "5bb46bf6b9be1e0ca66f0b0bc6260ecb",
     "grade": false,
     "grade_id": "cell-8a49d414f798a595",
     "locked": true,
     "points": 10,
     "schema_version": 3,
     "solution": false,
     "task": true
    }
   },
   "source": [
    "\\#### Please do not change this. This cell is used for grading."
   ]
  },
  {
   "cell_type": "code",
   "execution_count": 226,
   "metadata": {},
   "outputs": [
    {
     "data": {
      "application/vnd.jupyter.widget-view+json": {
       "model_id": "0f8b064d529546b79114f18c8126873c",
       "version_major": 2,
       "version_minor": 0
      },
      "text/plain": [
       "Text(value='', description='Search Bar')"
      ]
     },
     "metadata": {},
     "output_type": "display_data"
    },
    {
     "name": "stdout",
     "output_type": "stream",
     "text": [
      "Searching for: 'math' (SEARCH FN: <bound method DenseRetrievalRanker.search of <__main__.DenseRetrievalRanker object at 0x00000204EBF020C8>>)\n"
     ]
    },
    {
     "data": {
      "text/html": [
       "<ul><li>Document #1297(0.9680615112576855): Steep1 (Algorithm 203 [E4])</li><li>Document #745(0.9654695029289397): STEEP2 (Algorithm 204)</li><li>Document #2782(0.9588027980082319): A Reply to Gentleman and Marovich</li><li>Document #376(0.9539596293820319): Tchebycheff (Algorithm 36)</li><li>Document #1100(0.9534762010149993): Status of Computer Sciences Curricula in Colleges and Universities</li></ul>"
      ],
      "text/plain": [
       "<IPython.core.display.HTML object>"
      ]
     },
     "metadata": {},
     "output_type": "display_data"
    }
   ],
   "source": [
    "drm_d2v = DenseRetrievalRanker(d2v, cosine_sim)\n",
    "\n",
    "# test your LDA model\n",
    "search_fn = drm_d2v.search\n",
    "\n",
    "text = widgets.Text(description=\"Search Bar\", width=200)\n",
    "display(text)\n",
    "\n",
    "\n",
    "text.on_submit(handle_submit_2)"
   ]
  },
  {
   "cell_type": "markdown",
   "metadata": {
    "deletable": false,
    "editable": false,
    "nbgrader": {
     "cell_type": "markdown",
     "checksum": "363ec36c1d03d9f9e1c2045a6e193c14",
     "grade": false,
     "grade_id": "cell-3529ae29eece7b97",
     "locked": true,
     "schema_version": 3,
     "solution": false,
     "task": false
    }
   },
   "source": [
    "---\n",
    "## Section 9: Re-ranking (10 points) <a class=\"anchor\" id=\"reranking\"></a>\n",
    "\n",
    "[Back to Part 2](#part2)\n",
    "\n",
    "To motivate the re-ranking perspective (i.e retrieve with lexical method + rerank with a semantic method), let's search using semantic methods and compare it to BM25's performance, along with their runtime:\n"
   ]
  },
  {
   "cell_type": "code",
   "execution_count": 227,
   "metadata": {
    "deletable": false,
    "editable": false,
    "nbgrader": {
     "cell_type": "code",
     "checksum": "5755f70e3eb28abc65d14d80125338af",
     "grade": false,
     "grade_id": "cell-f8f43bf5ae383128",
     "locked": true,
     "schema_version": 3,
     "solution": false,
     "task": false
    }
   },
   "outputs": [
    {
     "name": "stdout",
     "output_type": "stream",
     "text": [
      "BM25: \n",
      "3.42 ms ± 155 µs per loop (mean ± std. dev. of 7 runs, 1 loop each)\n",
      "LSI: \n"
     ]
    },
    {
     "name": "stderr",
     "output_type": "stream",
     "text": [
      "c:\\users\\sarah-jane\\documents\\infovis\\lib\\site-packages\\ipykernel_launcher.py:14: RuntimeWarning: invalid value encountered in double_scalars\n",
      "  \n"
     ]
    },
    {
     "name": "stdout",
     "output_type": "stream",
     "text": [
      "164 ms ± 9.43 ms per loop (mean ± std. dev. of 7 runs, 1 loop each)\n",
      "LDA: \n",
      "4.43 s ± 908 ms per loop (mean ± std. dev. of 7 runs, 1 loop each)\n",
      "W2V: \n"
     ]
    },
    {
     "name": "stderr",
     "output_type": "stream",
     "text": [
      "c:\\users\\sarah-jane\\documents\\infovis\\lib\\site-packages\\ipykernel_launcher.py:38: DeprecationWarning: Call to deprecated `__contains__` (Method will be removed in 4.0.0, use self.wv.__contains__() instead).\n",
      "c:\\users\\sarah-jane\\documents\\infovis\\lib\\site-packages\\ipykernel_launcher.py:39: DeprecationWarning: Call to deprecated `__getitem__` (Method will be removed in 4.0.0, use self.wv.__getitem__() instead).\n"
     ]
    },
    {
     "name": "stdout",
     "output_type": "stream",
     "text": [
      "217 ms ± 29.7 ms per loop (mean ± std. dev. of 7 runs, 1 loop each)\n",
      "W2V(Pretrained): \n",
      "507 ms ± 90.1 ms per loop (mean ± std. dev. of 7 runs, 1 loop each)\n",
      "D2V:\n",
      "201 ms ± 1.97 ms per loop (mean ± std. dev. of 7 runs, 1 loop each)\n"
     ]
    }
   ],
   "source": [
    "query = \"algebraic functions\"\n",
    "print(\"BM25: \")\n",
    "%timeit bm25_search(query, 2)\n",
    "print(\"LSI: \")\n",
    "%timeit drm_lsi.search(query)\n",
    "print(\"LDA: \")\n",
    "%timeit drm_lda.search(query)\n",
    "print(\"W2V: \")\n",
    "%timeit drm_w2v.search(query)\n",
    "print(\"W2V(Pretrained): \")\n",
    "%timeit drm_w2v_pretrained.search(query)\n",
    "print(\"D2V:\")\n",
    "%timeit drm_d2v.search(query)"
   ]
  },
  {
   "cell_type": "markdown",
   "metadata": {
    "deletable": false,
    "editable": false,
    "nbgrader": {
     "cell_type": "markdown",
     "checksum": "ae398da0a8c23c95bcbb0023b7ec6f34",
     "grade": false,
     "grade_id": "cell-db5ff09f97841af7",
     "locked": true,
     "schema_version": 3,
     "solution": false,
     "task": false
    }
   },
   "source": [
    "---\n",
    "\n",
    "**Implementation (10 points):**\n",
    "Re-ranking involves retrieving a small set of documents using simple but fast methods like BM25 and then re-ranking them with the aid of semantic methods such as LDA or LSI. Implement the following class, which takes in an `initial_retrieval_fn` - the initial retrieval function and `vsrm` - an instance of the `VectorSpaceRetrievalModel` class (i.e LSI/LDA) as input. The search function should first retrieve an initial list of K documents, and then these documents are re-ranked using a semantic method. This not only makes retrieval faster, but semantic methods perform poorly when used in isolation, as you will find out."
   ]
  },
  {
   "cell_type": "code",
   "execution_count": 228,
   "metadata": {
    "deletable": false,
    "nbgrader": {
     "cell_type": "code",
     "checksum": "63b6b05a676a2ae3f08d8bed1bc59428",
     "grade": false,
     "grade_id": "cell-5bf47600d1a0c507",
     "locked": false,
     "schema_version": 3,
     "solution": true,
     "task": false
    }
   },
   "outputs": [],
   "source": [
    "# TODO: Implement this! (10 points)\n",
    "class DenseRerankingModel:\n",
    "    def __init__(self, initial_retrieval_fn, vsrm, similarity_fn):\n",
    "        \"\"\"\n",
    "            initial_retrieval_fn: takes in a query and returns a list of [(doc_id, score)] (sorted)\n",
    "            vsrm: instance of `VectorSpaceRetrievalModel`\n",
    "            similarity_fn: function instance that takes in two vectors \n",
    "                            and returns a similarity score e.g cosine_sim defined earlier\n",
    "        \"\"\"\n",
    "        self.ret = initial_retrieval_fn\n",
    "        self.vsrm = vsrm\n",
    "        self.similarity_fn = similarity_fn\n",
    "        self.vectorized_documents = vsrm.vectorize_documents()\n",
    "        \n",
    "        assert len(self.vectorized_documents) == len(doc_repr_2)\n",
    "    \n",
    "    def search(self, query, K=50):\n",
    "        \"\"\"\n",
    "            First, retrieve the top K results using the retrieval function\n",
    "            Then, re-rank the results using the VSRM instance\n",
    "        \"\"\"\n",
    "        query_vector = self.vsrm.vectorize_query(query)\n",
    "        \n",
    "        # Calculate cosine similarity score for every document\n",
    "        scores = {key: self.similarity_fn(query_vector, value) for (key, value) in self.vectorized_documents.items()}\n",
    "        sorted(scores.items(), key=lambda x: x[1], reverse=True)\n",
    "    \n",
    "        doc_id = []\n",
    "        rank = []\n",
    "        \n",
    "        # Re-rank the top K results using the VSRM instance \n",
    "        for doc in self.ret(query)[:K]: \n",
    "            doc_id.append(doc[0])\n",
    "            rank.append(scores[doc[0]])\n",
    "        return list(zip(doc_id, rank))  "
   ]
  },
  {
   "cell_type": "code",
   "execution_count": 229,
   "metadata": {
    "deletable": false,
    "editable": false,
    "nbgrader": {
     "cell_type": "code",
     "checksum": "334ab5af96976265cace682ab82a7387",
     "grade": true,
     "grade_id": "cell-52c6d18a4c0b4882",
     "locked": true,
     "points": 0,
     "schema_version": 3,
     "solution": false,
     "task": false
    }
   },
   "outputs": [
    {
     "name": "stderr",
     "output_type": "stream",
     "text": [
      "c:\\users\\sarah-jane\\documents\\infovis\\lib\\site-packages\\ipykernel_launcher.py:24: DeprecationWarning: Call to deprecated `__contains__` (Method will be removed in 4.0.0, use self.wv.__contains__() instead).\n",
      "c:\\users\\sarah-jane\\documents\\infovis\\lib\\site-packages\\ipykernel_launcher.py:25: DeprecationWarning: Call to deprecated `__getitem__` (Method will be removed in 4.0.0, use self.wv.__getitem__() instead).\n"
     ]
    }
   ],
   "source": [
    "##### Function check\n",
    "bm25_search_2 = partial(bm25_search, index_set=2)\n",
    "lsi_rerank = DenseRerankingModel(bm25_search_2, lsi, cosine_sim)\n",
    "lda_rerank = DenseRerankingModel(bm25_search_2, lda, jenson_shannon_sim)\n",
    "w2v_rerank = DenseRerankingModel(bm25_search_2, w2v, cosine_sim)\n",
    "w2v_pretrained_rerank = DenseRerankingModel(bm25_search_2, w2v_pretrained, cosine_sim)\n",
    "d2v_rerank = DenseRerankingModel(bm25_search_2, d2v, cosine_sim)\n",
    "\n",
    "##### "
   ]
  },
  {
   "cell_type": "markdown",
   "metadata": {
    "deletable": false,
    "editable": false,
    "nbgrader": {
     "cell_type": "markdown",
     "checksum": "bd904253f45f84e63bab3a69729058fc",
     "grade": false,
     "grade_id": "cell-93215dfe6bcf7cff",
     "locked": true,
     "points": 10,
     "schema_version": 3,
     "solution": false,
     "task": true
    }
   },
   "source": [
    "\\#### Please do not change this. This cell is used for grading."
   ]
  },
  {
   "cell_type": "markdown",
   "metadata": {
    "deletable": false,
    "editable": false,
    "nbgrader": {
     "cell_type": "markdown",
     "checksum": "b592e60292bfe3d9ef2930a354c4077a",
     "grade": false,
     "grade_id": "cell-aa694ff55fa91e7d",
     "locked": true,
     "schema_version": 3,
     "solution": false,
     "task": false
    }
   },
   "source": [
    "---\n",
    "Now, let us time the new search functions:"
   ]
  },
  {
   "cell_type": "code",
   "execution_count": 230,
   "metadata": {
    "deletable": false,
    "editable": false,
    "nbgrader": {
     "cell_type": "code",
     "checksum": "338c7e3528cba266a865a061287c0e38",
     "grade": false,
     "grade_id": "cell-5edbd481562ad91f",
     "locked": true,
     "schema_version": 3,
     "solution": false,
     "task": false
    }
   },
   "outputs": [
    {
     "name": "stdout",
     "output_type": "stream",
     "text": [
      "BM25: \n",
      "2.83 ms ± 61.1 µs per loop (mean ± std. dev. of 7 runs, 100 loops each)\n",
      "LSI: \n"
     ]
    },
    {
     "name": "stderr",
     "output_type": "stream",
     "text": [
      "c:\\users\\sarah-jane\\documents\\infovis\\lib\\site-packages\\ipykernel_launcher.py:14: RuntimeWarning: invalid value encountered in double_scalars\n",
      "  \n"
     ]
    },
    {
     "name": "stdout",
     "output_type": "stream",
     "text": [
      "171 ms ± 11.1 ms per loop (mean ± std. dev. of 7 runs, 10 loops each)\n",
      "LDA: \n",
      "4.43 s ± 415 ms per loop (mean ± std. dev. of 7 runs, 1 loop each)\n",
      "W2V: \n"
     ]
    },
    {
     "name": "stderr",
     "output_type": "stream",
     "text": [
      "c:\\users\\sarah-jane\\documents\\infovis\\lib\\site-packages\\ipykernel_launcher.py:38: DeprecationWarning: Call to deprecated `__contains__` (Method will be removed in 4.0.0, use self.wv.__contains__() instead).\n",
      "c:\\users\\sarah-jane\\documents\\infovis\\lib\\site-packages\\ipykernel_launcher.py:39: DeprecationWarning: Call to deprecated `__getitem__` (Method will be removed in 4.0.0, use self.wv.__getitem__() instead).\n"
     ]
    },
    {
     "name": "stdout",
     "output_type": "stream",
     "text": [
      "202 ms ± 18.1 ms per loop (mean ± std. dev. of 7 runs, 10 loops each)\n",
      "W2V(Pretrained): \n",
      "423 ms ± 5.25 ms per loop (mean ± std. dev. of 7 runs, 1 loop each)\n",
      "D2V:\n",
      "213 ms ± 18.1 ms per loop (mean ± std. dev. of 7 runs, 10 loops each)\n"
     ]
    }
   ],
   "source": [
    "query = \"algebraic functions\"\n",
    "print(\"BM25: \")\n",
    "%timeit bm25_search(query, 2)\n",
    "print(\"LSI: \")\n",
    "%timeit lsi_rerank.search(query)\n",
    "print(\"LDA: \")\n",
    "%timeit lda_rerank.search(query)\n",
    "print(\"W2V: \")\n",
    "%timeit w2v_rerank.search(query)\n",
    "print(\"W2V(Pretrained): \")\n",
    "%timeit w2v_pretrained_rerank.search(query)\n",
    "print(\"D2V:\")\n",
    "%timeit d2v_rerank.search(query)"
   ]
  },
  {
   "cell_type": "markdown",
   "metadata": {
    "deletable": false,
    "editable": false,
    "nbgrader": {
     "cell_type": "markdown",
     "checksum": "c45c5e3f015b2de89d9d39ae3766368b",
     "grade": false,
     "grade_id": "cell-85c50f2ab9eec301",
     "locked": true,
     "schema_version": 3,
     "solution": false,
     "task": false
    }
   },
   "source": [
    "---\n",
    "As you can see, it is much faster (but BM25 is still orders of magnitude faster)."
   ]
  },
  {
   "cell_type": "markdown",
   "metadata": {
    "deletable": false,
    "editable": false,
    "nbgrader": {
     "cell_type": "markdown",
     "checksum": "1e2f3388e3807659f303fe31a75a010e",
     "grade": false,
     "grade_id": "cell-5071bb99b2af61cb",
     "locked": true,
     "schema_version": 3,
     "solution": false,
     "task": false
    }
   },
   "source": [
    "---\n",
    "## Section 10: Evaluation & Analysis (30 points) <a class=\"anchor\" id=\"reranking_eval\"></a>\n",
    "\n",
    "[Back to Part 2](#part2)\n",
    "\n",
    "[Previously](#evaluation) we have implemented some evaluation metrics and used them for measuring the ranking performance of term-based IR algorithms. In this section, we will do the same for semantic methods, both with and without re-ranking.\n",
    "\n",
    "### Section 10.1: Plot (10 points)\n",
    "\n",
    "First, gather the results. The results should consider the index set, the different search functions and different metrics. Plot the results in bar charts, per metric, with clear labels.\n",
    "\n",
    "Then, gather only the re-ranking models, and plot and compare them with the results obtained in part 1 (only index set 2)."
   ]
  },
  {
   "cell_type": "code",
   "execution_count": 231,
   "metadata": {
    "deletable": false,
    "editable": false,
    "nbgrader": {
     "cell_type": "code",
     "checksum": "4fe81520ac6413a803838913fd64de03",
     "grade": false,
     "grade_id": "cell-b672fe6dfae0b1ce",
     "locked": true,
     "schema_version": 3,
     "solution": false,
     "task": false
    }
   },
   "outputs": [],
   "source": [
    "list_of_sem_search_fns = [\n",
    "    (\"lda\", drm_lda.search),\n",
    "    (\"lsi\", drm_lsi.search),\n",
    "    (\"w2v\", drm_w2v.search),\n",
    "    (\"w2v_pretrained\", drm_w2v_pretrained.search),\n",
    "    (\"d2v\", drm_d2v.search),\n",
    "    (\"lsi_rr\", lsi_rerank.search),\n",
    "    (\"lda_rr\", lda_rerank.search),\n",
    "    (\"w2v_rr\", w2v_rerank.search),\n",
    "    (\"w2v_pretrained_rr\", w2v_pretrained_rerank.search),\n",
    "    (\"d2v_rr\", d2v_rerank.search),\n",
    "    \n",
    "]"
   ]
  },
  {
   "cell_type": "code",
   "execution_count": 234,
   "metadata": {
    "deletable": false,
    "nbgrader": {
     "cell_type": "code",
     "checksum": "54707c4afac084299aeefa047259b4a9",
     "grade": true,
     "grade_id": "cell-7dd8273b0f5a3c22",
     "locked": false,
     "points": 10,
     "schema_version": 3,
     "solution": true,
     "task": false
    }
   },
   "outputs": [
    {
     "data": {
      "image/png": "[encoded data removed]",
      "text/plain": [
       "<Figure size 432x288 with 1 Axes>"
      ]
     },
     "metadata": {
      "needs_background": "light"
     },
     "output_type": "display_data"
    },
    {
     "name": "stderr",
     "output_type": "stream",
     "text": [
      "c:\\users\\sarah-jane\\documents\\infovis\\lib\\site-packages\\ipykernel_launcher.py:14: RuntimeWarning: invalid value encountered in double_scalars\n",
      "  \n"
     ]
    },
    {
     "data": {
      "image/png": "[encoded data removed]",
      "text/plain": [
       "<Figure size 432x288 with 1 Axes>"
      ]
     },
     "metadata": {
      "needs_background": "light"
     },
     "output_type": "display_data"
    },
    {
     "name": "stderr",
     "output_type": "stream",
     "text": [
      "c:\\users\\sarah-jane\\documents\\infovis\\lib\\site-packages\\ipykernel_launcher.py:38: DeprecationWarning: Call to deprecated `__contains__` (Method will be removed in 4.0.0, use self.wv.__contains__() instead).\n",
      "c:\\users\\sarah-jane\\documents\\infovis\\lib\\site-packages\\ipykernel_launcher.py:39: DeprecationWarning: Call to deprecated `__getitem__` (Method will be removed in 4.0.0, use self.wv.__getitem__() instead).\n"
     ]
    },
    {
     "data": {
      "image/png": "[encoded data removed]",
      "text/plain": [
       "<Figure size 432x288 with 1 Axes>"
      ]
     },
     "metadata": {
      "needs_background": "light"
     },
     "output_type": "display_data"
    },
    {
     "data": {
      "image/png": "[encoded data removed]",
      "text/plain": [
       "<Figure size 432x288 with 1 Axes>"
      ]
     },
     "metadata": {
      "needs_background": "light"
     },
     "output_type": "display_data"
    },
    {
     "data": {
      "image/png": "[encoded data removed]",
      "text/plain": [
       "<Figure size 432x288 with 1 Axes>"
      ]
     },
     "metadata": {
      "needs_background": "light"
     },
     "output_type": "display_data"
    },
    {
     "data": {
      "image/png": "[encoded data removed]",
      "text/plain": [
       "<Figure size 432x288 with 1 Axes>"
      ]
     },
     "metadata": {
      "needs_background": "light"
     },
     "output_type": "display_data"
    },
    {
     "data": {
      "image/png": "[encoded data removed]",
      "text/plain": [
       "<Figure size 432x288 with 1 Axes>"
      ]
     },
     "metadata": {
      "needs_background": "light"
     },
     "output_type": "display_data"
    },
    {
     "data": {
      "image/png": "[encoded data removed]",
      "text/plain": [
       "<Figure size 432x288 with 1 Axes>"
      ]
     },
     "metadata": {
      "needs_background": "light"
     },
     "output_type": "display_data"
    },
    {
     "data": {
      "image/png": "[encoded data removed]",
      "text/plain": [
       "<Figure size 432x288 with 1 Axes>"
      ]
     },
     "metadata": {
      "needs_background": "light"
     },
     "output_type": "display_data"
    },
    {
     "data": {
      "image/png": "[encoded data removed]",
      "text/plain": [
       "<Figure size 432x288 with 1 Axes>"
      ]
     },
     "metadata": {
      "needs_background": "light"
     },
     "output_type": "display_data"
    }
   ],
   "source": [
    "index = [\"ERR\",\"MAP\",\"Recall@1\",\"Recall@5\",\"Recall@10\", \"Precision@1\",\n",
    "         \"Precision@5\",\"Precision@10\"]\n",
    "xlabel = \"Metrics\"\n",
    "ylabel = \"Probability (in decimals)\"\n",
    "\n",
    "for method in list_of_sem_search_fns:\n",
    "    plotdata = pd.DataFrame({\n",
    "    \"Index set 2\": evaluate_search_fn(method[1], list_of_metrics),\n",
    "    }, \n",
    "    index=index\n",
    "    )\n",
    "    plotdata.plot(kind=\"bar\")\n",
    "    plt.title(method[0])\n",
    "    plt.xlabel(xlabel)\n",
    "    plt.ylabel(ylabel)\n",
    "    plt.show()"
   ]
  },
  {
   "cell_type": "markdown",
   "metadata": {
    "deletable": false,
    "editable": false,
    "nbgrader": {
     "cell_type": "markdown",
     "checksum": "a8a3b6189bdde66704c694d85e38d049",
     "grade": false,
     "grade_id": "cell-deb2ef3daa306e82",
     "locked": true,
     "schema_version": 3,
     "solution": false,
     "task": false
    }
   },
   "source": [
    "### Section 10.2: Summary (20 points)\n",
    "\n",
    "Your summary should compare methods from Part 1 and Part 2 (only for index set 2). State what you expected to see in the results, followed by either supporting evidence *or* justify why the results did not support your expectations. Consider the availability of data, scalability, domain/type of data, etc."
   ]
  },
  {
   "cell_type": "markdown",
   "metadata": {
    "deletable": false,
    "nbgrader": {
     "cell_type": "markdown",
     "checksum": "ff97c43837d10bff6aaffa75e1492887",
     "grade": true,
     "grade_id": "cell-ec5dd7d9cf59dd86",
     "locked": false,
     "points": 20,
     "schema_version": 3,
     "solution": true,
     "task": false
    }
   },
   "source": [
    "YOUR ANSWER HERE"
   ]
  }
 ],
 "metadata": {
  "kernelspec": {
   "display_name": "Python 3",
   "language": "python",
   "name": "python3"
  },
  "language_info": {
   "codemirror_mode": {
    "name": "ipython",
    "version": 3
   },
   "file_extension": ".py",
   "mimetype": "text/x-python",
   "name": "python",
   "nbconvert_exporter": "python",
   "pygments_lexer": "ipython3",
   "version": "3.7.6"
  }
 },
 "nbformat": 4,
 "nbformat_minor": 4
}
