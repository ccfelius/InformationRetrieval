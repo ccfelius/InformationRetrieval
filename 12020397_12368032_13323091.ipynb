{
 "cells": [
  {
   "cell_type": "markdown",
   "metadata": {
    "deletable": false,
    "editable": false,
    "nbgrader": {
     "cell_type": "markdown",
     "checksum": "758d05f39ab671358f17858c55f7161c",
     "grade": false,
     "grade_id": "cell-c9cd9e550239e812",
     "locked": true,
     "schema_version": 3,
     "solution": false,
     "task": false
    }
   },
   "source": [
    "# Homework 1 (Total Points: 260) <a class=\"anchor\" id=\"top\"></a>\n",
    "\n",
    "\n",
    "**Submission instructions**:\n",
    "- Only the code `TODO: Implement this!` denotes that these sections are graded.\n",
    "- For Part 1: You can use the `nltk`, `numpy` and `matplotlib` libraries here. Other libraries, e.g., `gensim` or `scikit-learn`, may not be used. For Part 2: `gensim` is allowed in addition to the imported libraries in the next code cell\n",
    "- The notebook you submit has to have the student ids, separated by underscores (E.g., `12341234_12341234_12341234.ipynb`). \n",
    "- This will be parsed by a regexp, so please double check your filename.\n",
    "- Only one member of each group has to submit the file to canvas.\n",
    "- Make sure to check that your notebook runs before submission. A quick way to do this is to restart the kernel and run all the cells.  \n",
    "- Please do not delete/add new cells. Removing cells can lead to grade deduction.\n",
    "- Note, that you are not allowed to use Google Colab.\n",
    "\n",
    "\n",
    "**Learning Goals**:\n",
    "- [Part 1, Term-based matching](#part1) (175 points):\n",
    "    - Learn how to load a dataset and process it.\n",
    "    - Learn how to implement several standard IR methods (TF-IDF, BM25, QL) and understand their weaknesses & strengths.\n",
    "    - Learn how to evaluate IR methods.\n",
    "- [Part 2, Semantic-based matching](#part2) (85 points):\n",
    "    - Learn how to implement vector-space retrieval methods (LSI, LDA).\n",
    "    - Learn how to use LSI and LDA for re-ranking\n",
    "\n",
    "    \n",
    "**Resources**: \n",
    "- **Part 1**: Sections 2.3, 4.1, 4.2, 4.3, 5.3, 5.6, 5.7, 6.2, 7, 8 of [Search Engines: Information Retrieval in Practice](https://ciir.cs.umass.edu/downloads/SEIRiP.pdf)\n",
    "- **Part 2**: [LSI - Chapter 18](https://nlp.stanford.edu/IR-book/pdf/18lsi.pdf) from [Introduction to Information Retrieval](https://nlp.stanford.edu/IR-book/) book and the [original LDA paper](https://jmlr.org/papers/volume3/blei03a/blei03a.pdf)"
   ]
  },
  {
   "cell_type": "code",
   "execution_count": 1,
   "metadata": {
    "deletable": false,
    "editable": false,
    "nbgrader": {
     "cell_type": "code",
     "checksum": "c55bfe94ff1f564dd595547e516c4c6e",
     "grade": false,
     "grade_id": "cell-f5357fabdb9660e3",
     "locked": true,
     "schema_version": 3,
     "solution": false,
     "task": false
    }
   },
   "outputs": [],
   "source": [
    "# imports \n",
    "# TODO: Ensure that no additional library is imported in the notebook. \n",
    "# TODO: Only the standard library and the following libraries are allowed:\n",
    "# TODO: You can also use unlisted classes from these libraries or standard libraries (such as defaultdict, Counter, ...).\n",
    "\n",
    "import os\n",
    "import zipfile\n",
    "from functools import partial\n",
    "\n",
    "import nltk\n",
    "import requests\n",
    "import numpy as np\n",
    "from tqdm import tqdm\n",
    "\n",
    "import matplotlib.pyplot as plt\n",
    "from matplotlib.pyplot import cm\n",
    "\n",
    "from ipywidgets import widgets\n",
    "from IPython.display import display, HTML\n",
    "#from IPython.html import widgets\n",
    "from collections import namedtuple\n",
    "\n",
    "%matplotlib inline"
   ]
  },
  {
   "cell_type": "markdown",
   "metadata": {
    "deletable": false,
    "editable": false,
    "nbgrader": {
     "cell_type": "markdown",
     "checksum": "4ef0139c6fbc22b41520721a9275c1e1",
     "grade": false,
     "grade_id": "cell-7428e12ed184408b",
     "locked": true,
     "schema_version": 3,
     "solution": false,
     "task": false
    }
   },
   "source": [
    "\n",
    "# Part 1: Term-based Matching (175 points) <a class=\"anchor\" id=\"part1\"></a>\n",
    "\n",
    "[Back to top](#top)\n",
    "\n",
    "In the first part, we will learn the basics of IR from loading and preprocessing the material, to implementing some well known search algorithms, to evaluating the ranking performance of the implemented algorithms. We will be using the CACM dataset throughout the assignment. The CACM dataset is a collection of titles and abstracts from the journal CACM (Communication of the ACM).\n",
    "\n",
    "Table of contents:\n",
    "- [Section 1: Text Processing](#text_processing) (15 points)\n",
    "- [Section 2: Indexing](#indexing) (10 points)\n",
    "- [Section 3: Ranking](#ranking) (80 points)\n",
    "- [Section 4: Evaluation](#evaluation) (40 points)\n",
    "- [Section 5: Analysis](#analysis) (30 points)\n"
   ]
  },
  {
   "cell_type": "markdown",
   "metadata": {
    "deletable": false,
    "editable": false,
    "nbgrader": {
     "cell_type": "markdown",
     "checksum": "a9050c97b011a926b9e4cf6831eff5bd",
     "grade": false,
     "grade_id": "cell-4b24825cf4ae55ec",
     "locked": true,
     "schema_version": 3,
     "solution": false,
     "task": false
    }
   },
   "source": [
    "---\n",
    "## Section 1: Text Processing (15 points)<a class=\"anchor\" id=\"text_processing\"></a>\n",
    "\n",
    "[Back to Part 1](#part1)\n",
    "\n",
    "In this section, we will load the dataset and learn how to clean up the data to make it usable for an IR system. \n",
    "The points of this section are earned for the following implementations:\n",
    "- `read_cacm_docs` (4 points): Reads in the CACM documents.\n",
    "- `read_queries` (3 points): Reads in the CACM queries.\n",
    "- `load_stopwords` (1 point): Loads the stopwords.\n",
    "- `tokenize` (4 points): Tokenizes the input text.\n",
    "- `stem_token` (3 points): Stems the given token. \n",
    "\n",
    "We are using the [CACM dataset](http://ir.dcs.gla.ac.uk/resources/test_collections/cacm/), which is a small, classic IR dataset, composed of a collection of titles and abstracts from the journal CACM. It comes with relevance judgements for queries, so we can evaluate our IR system. \n"
   ]
  },
  {
   "cell_type": "markdown",
   "metadata": {
    "deletable": false,
    "editable": false,
    "nbgrader": {
     "cell_type": "markdown",
     "checksum": "1de1b97f9ee233ad2348359f0c158eb7",
     "grade": false,
     "grade_id": "cell-45651364e7af6d5a",
     "locked": true,
     "schema_version": 3,
     "solution": false,
     "task": false
    }
   },
   "source": [
    "---\n",
    "### 1.1 Read the CACM documents (4 points)\n",
    "\n",
    "\n",
    "The following cell downloads the dataset and unzips it to a local directory."
   ]
  },
  {
   "cell_type": "code",
   "execution_count": 2,
   "metadata": {
    "deletable": false,
    "editable": false,
    "nbgrader": {
     "cell_type": "code",
     "checksum": "4d43c9ad6e77cc01ce4cef0c34824930",
     "grade": false,
     "grade_id": "cell-bbc3030bb3fe7e02",
     "locked": true,
     "schema_version": 3,
     "solution": false,
     "task": false
    }
   },
   "outputs": [],
   "source": [
    "def download_dataset():\n",
    "    folder_path = os.environ.get(\"IR1_DATA_PATH\")\n",
    "    if not folder_path:\n",
    "        folder_path = \"./datasets/\"\n",
    "    os.makedirs(folder_path, exist_ok=True)\n",
    "    \n",
    "    file_location = os.path.join(folder_path, \"cacm.zip\")\n",
    "    \n",
    "    # download file if it doesn't exist\n",
    "    if not os.path.exists(file_location):\n",
    "        \n",
    "        url = \"https://surfdrive.surf.nl/files/index.php/s/M0FGJpX2p8wDwxR/download\"\n",
    "\n",
    "        with open(file_location, \"wb\") as handle:\n",
    "            print(f\"Downloading file from {url} to {file_location}\")\n",
    "            response = requests.get(url, stream=True)\n",
    "            for data in tqdm(response.iter_content()):\n",
    "                handle.write(data)\n",
    "            print(\"Finished downloading file\")\n",
    "    \n",
    "    if not os.path.exists(os.path.join(folder_path, \"train.txt\")):\n",
    "        \n",
    "        # unzip file\n",
    "        with zipfile.ZipFile(file_location, 'r') as zip_ref:\n",
    "            zip_ref.extractall(folder_path)\n",
    "        \n",
    "download_dataset()"
   ]
  },
  {
   "cell_type": "markdown",
   "metadata": {
    "deletable": false,
    "editable": false,
    "nbgrader": {
     "cell_type": "markdown",
     "checksum": "31609b0d61d0c74cbd69bc43e47c23be",
     "grade": false,
     "grade_id": "cell-a7dd9a9bf98ede05",
     "locked": true,
     "schema_version": 3,
     "solution": false,
     "task": false
    }
   },
   "source": [
    "---\n",
    "\n",
    "You can see a brief description of each file in the dataset by looking at the README file:"
   ]
  },
  {
   "cell_type": "code",
   "execution_count": 3,
   "metadata": {
    "deletable": false,
    "editable": false,
    "nbgrader": {
     "cell_type": "code",
     "checksum": "1783f9999c7d06955e8da815de62ba5f",
     "grade": false,
     "grade_id": "cell-9b6ff1a17124711f",
     "locked": true,
     "schema_version": 3,
     "solution": false,
     "task": false
    }
   },
   "outputs": [
    {
     "name": "stderr",
     "output_type": "stream",
     "text": [
      "'cat' is not recognized as an internal or external command,\n",
      "operable program or batch file.\n"
     ]
    }
   ],
   "source": [
    "##### Read the README file \n",
    "!cat ./datasets/README\n",
    "#####"
   ]
  },
  {
   "cell_type": "markdown",
   "metadata": {
    "deletable": false,
    "editable": false,
    "nbgrader": {
     "cell_type": "markdown",
     "checksum": "d6a5333ae8e7f69d81900e714cc43852",
     "grade": false,
     "grade_id": "cell-73351431869fda76",
     "locked": true,
     "schema_version": 3,
     "solution": false,
     "task": false
    }
   },
   "source": [
    "---\n",
    "We are interested in 4 files:\n",
    "- `cacm.all` : Contains the text for all documents. Note that some documents do not have abstracts available. \n",
    "- `query.text` : The text of all queries\n",
    "- `qrels.text` : The relevance judgements\n",
    "- `common_words` : A list of common words. This may be used as a collection of stopwords"
   ]
  },
  {
   "cell_type": "code",
   "execution_count": 4,
   "metadata": {
    "deletable": false,
    "editable": false,
    "nbgrader": {
     "cell_type": "code",
     "checksum": "c78e4256a08889ce3d0d985ea799b0a9",
     "grade": false,
     "grade_id": "cell-b44dd14079f278ca",
     "locked": true,
     "schema_version": 3,
     "solution": false,
     "task": false
    }
   },
   "outputs": [
    {
     "name": "stderr",
     "output_type": "stream",
     "text": [
      "'head' is not recognized as an internal or external command,\n",
      "operable program or batch file.\n"
     ]
    }
   ],
   "source": [
    "##### The first 45 lines of the CACM dataset forms the first record\n",
    "# We are interested only in 3 fields. \n",
    "# 1. the '.I' field, which is the document id\n",
    "# 2. the '.T' field (the title) and\n",
    "# 3. the '.W' field (the abstract, which may be absent)\n",
    "!head -45 ./datasets/cacm.all\n",
    "#####"
   ]
  },
  {
   "cell_type": "markdown",
   "metadata": {
    "deletable": false,
    "editable": false,
    "nbgrader": {
     "cell_type": "markdown",
     "checksum": "aff7cbe5a15a0e3329dc223e3e31abf3",
     "grade": false,
     "grade_id": "cell-c4bf2e263ec553d8",
     "locked": true,
     "schema_version": 3,
     "solution": false,
     "task": false
    }
   },
   "source": [
    "---\n",
    "\n",
    "**Implementation (4 points):**\n",
    "Write a function to read the `cacm.all` file. Note that each document has a variable number of lines. The `.I` field denotes a new document:"
   ]
  },
  {
   "cell_type": "code",
   "execution_count": 5,
   "metadata": {
    "deletable": false,
    "nbgrader": {
     "cell_type": "code",
     "checksum": "45fef5d5b543ee439176d7fd0a9d20be",
     "grade": false,
     "grade_id": "cell-b736116eb419c624",
     "locked": false,
     "schema_version": 3,
     "solution": true,
     "task": false
    }
   },
   "outputs": [],
   "source": [
    "def read_cacm_docs(root_folder = \"./datasets/\"):\n",
    "    \"\"\"\n",
    "        Reads in the CACM documents. The dataset is assumed to be in the folder \"./datasets/\" by default\n",
    "        Returns: A list of 2-tuples: (doc_id, document), where 'document' is a single string created by \n",
    "            appending the title and abstract (separated by a \"\\n\"). \n",
    "            In case the record doesn't have an abstract, the document is composed only by the title\n",
    "    \"\"\"\n",
    "    f = open(root_folder+\"cacm.all\", \"r\")\n",
    "    entries = [] \n",
    "    document = \"\"\n",
    "    doc_id = \"\"\n",
    "    doc = ()\n",
    "    for line in f:\n",
    "        if line.startswith(\".I\"):\n",
    "            doc_id = int(line.strip(\" .I\\n\"))\n",
    "        elif line.startswith(\".T\"):                            \n",
    "            \n",
    "            # Skip to the next line \n",
    "            document = next(f).strip()    \n",
    "            following = \"\"\n",
    "            \n",
    "            # Process the title and abstract with seperate requirements \n",
    "            while not(following.startswith(\".B\")):\n",
    "                if \".W\" in document:\n",
    "                    following = following.replace(\"\\n\", \" \")\n",
    "                document += \" \"+ following\n",
    "                following = next(f)  \n",
    "            document = document.replace(\".W\", \"\").replace(\"\\n \\n\",\" \").strip()\n",
    "        \n",
    "        # Add tuple to list if it is unique \n",
    "        elif doc and doc not in entries: \n",
    "            entries.append(tuple((doc_id, document)))\n",
    "        doc = tuple((doc_id, document))  \n",
    "    f.close()\n",
    "    \n",
    "    return entries"
   ]
  },
  {
   "cell_type": "code",
   "execution_count": 6,
   "metadata": {
    "deletable": false,
    "editable": false,
    "nbgrader": {
     "cell_type": "code",
     "checksum": "70472b5c277bb7c417de8da24e4e5261",
     "grade": true,
     "grade_id": "cell-a1c43818e0d3fd79",
     "locked": true,
     "points": 4,
     "schema_version": 3,
     "solution": false,
     "task": false
    }
   },
   "outputs": [],
   "source": [
    "##### Function check\n",
    "docs = read_cacm_docs()\n",
    "\n",
    "assert isinstance(docs, list)\n",
    "assert len(docs) == 3204, \"There should be exactly 3024 documents\"\n",
    "##### "
   ]
  },
  {
   "cell_type": "markdown",
   "metadata": {
    "deletable": false,
    "editable": false,
    "nbgrader": {
     "cell_type": "markdown",
     "checksum": "6fd095d2204cce3935444ca37c7c42da",
     "grade": false,
     "grade_id": "cell-5ed2ddc91f73c60e",
     "locked": true,
     "schema_version": 3,
     "solution": false,
     "task": false
    }
   },
   "source": [
    "---\n",
    "### 1.2 Read the CACM queries (3 points)\n",
    "\n",
    "Next, let us read the queries. They are formatted similarly:"
   ]
  },
  {
   "cell_type": "code",
   "execution_count": 7,
   "metadata": {
    "deletable": false,
    "editable": false,
    "nbgrader": {
     "cell_type": "code",
     "checksum": "5d26c0908e758acb9968b84056b1060a",
     "grade": false,
     "grade_id": "cell-5c7e8e7c4fc2757f",
     "locked": true,
     "schema_version": 3,
     "solution": false,
     "task": false
    }
   },
   "outputs": [
    {
     "name": "stderr",
     "output_type": "stream",
     "text": [
      "'head' is not recognized as an internal or external command,\n",
      "operable program or batch file.\n"
     ]
    }
   ],
   "source": [
    "##### The first 15 lines of 'query.text' has 2 queries\n",
    "# We are interested only in 2 fields. \n",
    "# 1. the '.I' - the query id\n",
    "# 2. the '.W' - the query\n",
    "!head -15 ./datasets/query.text\n",
    "#####"
   ]
  },
  {
   "cell_type": "markdown",
   "metadata": {
    "deletable": false,
    "editable": false,
    "nbgrader": {
     "cell_type": "markdown",
     "checksum": "da34d95924026ea55bf0a9b2070ec237",
     "grade": false,
     "grade_id": "cell-88e293507d2dcef6",
     "locked": true,
     "schema_version": 3,
     "solution": false,
     "task": false
    }
   },
   "source": [
    "---\n",
    "\n",
    "**Implementation (3 points):**\n",
    "Write a function to read the `query.text` file:"
   ]
  },
  {
   "cell_type": "code",
   "execution_count": 8,
   "metadata": {
    "deletable": false,
    "nbgrader": {
     "cell_type": "code",
     "checksum": "f98ac81b2ccb44fe3441e202e980c847",
     "grade": false,
     "grade_id": "cell-433e3ad5d0e2572a",
     "locked": false,
     "schema_version": 3,
     "solution": true,
     "task": false
    }
   },
   "outputs": [],
   "source": [
    "def read_queries(root_folder = \"./datasets/\"):\n",
    "    \"\"\"\n",
    "        Reads in the CACM queries. The dataset is assumed to be in the folder \"./datasets/\" by default\n",
    "        Returns: A list of 2-tuples: (query_id, query)\n",
    "    \"\"\"\n",
    "    f = open(root_folder+\"query.text\", \"r\")\n",
    "    queries = [] \n",
    "    query = \"\"\n",
    "    query_id = \"\"\n",
    "    doc = ()\n",
    "    for line in f:\n",
    "        if line.startswith(\".I\"):\n",
    "            query_id = int(line.strip(\" .I\\n\"))\n",
    "        elif line.startswith(\".W\"):\n",
    "\n",
    "            # Skip to the next line \n",
    "            query = next(f).strip()    \n",
    "            following = \"\"\n",
    "\n",
    "            # Check for long queries \n",
    "            while not(following.startswith(\".N\")):\n",
    "                query += \" \"+ following.strip()\n",
    "                following = next(f)    \n",
    "            query.strip()\n",
    "\n",
    "        # Add tuple to list if unique \n",
    "        elif doc and doc not in queries: \n",
    "            queries.append(tuple((query_id, query)))\n",
    "        doc = tuple((query_id, query))  \n",
    "    f.close()\n",
    "    \n",
    "    return queries "
   ]
  },
  {
   "cell_type": "code",
   "execution_count": 9,
   "metadata": {
    "deletable": false,
    "editable": false,
    "nbgrader": {
     "cell_type": "code",
     "checksum": "c0e7a9868bd4b92692c33732af640b8b",
     "grade": true,
     "grade_id": "cell-6ec540abce66c598",
     "locked": true,
     "points": 3,
     "schema_version": 3,
     "solution": false,
     "task": false
    }
   },
   "outputs": [],
   "source": [
    "##### Function check\n",
    "queries = read_queries()\n",
    "\n",
    "assert isinstance(queries, list)\n",
    "assert len(queries) == 64 and all([q[1] is not None for q in queries]), \"There should be exactly 64 queries\"\n",
    "##### "
   ]
  },
  {
   "cell_type": "markdown",
   "metadata": {
    "deletable": false,
    "editable": false,
    "nbgrader": {
     "cell_type": "markdown",
     "checksum": "652f9159caea63888e06b54103bd7f32",
     "grade": false,
     "grade_id": "cell-1c31569491d7b782",
     "locked": true,
     "schema_version": 3,
     "solution": false,
     "task": false
    }
   },
   "source": [
    "---\n",
    "### 1.3 Read the stop words (1 point)\n",
    "\n",
    "We use the common words stored in `common_words`:"
   ]
  },
  {
   "cell_type": "code",
   "execution_count": 10,
   "metadata": {
    "deletable": false,
    "editable": false,
    "nbgrader": {
     "cell_type": "code",
     "checksum": "1ad6f5bae6a792504c1c8513ae5751ad",
     "grade": false,
     "grade_id": "cell-34bdb63461418a96",
     "locked": true,
     "schema_version": 3,
     "solution": false,
     "task": false
    }
   },
   "outputs": [
    {
     "name": "stderr",
     "output_type": "stream",
     "text": [
      "'head' is not recognized as an internal or external command,\n",
      "operable program or batch file.\n"
     ]
    }
   ],
   "source": [
    "##### Read the stop words file \n",
    "!head ./datasets/common_words\n",
    "##### Read the README file "
   ]
  },
  {
   "cell_type": "markdown",
   "metadata": {
    "deletable": false,
    "editable": false,
    "nbgrader": {
     "cell_type": "markdown",
     "checksum": "f720edbacd79170351156a443e0018ff",
     "grade": false,
     "grade_id": "cell-4744bde0338895d8",
     "locked": true,
     "schema_version": 3,
     "solution": false,
     "task": false
    }
   },
   "source": [
    "---\n",
    "**Implementation (1 point):**\n",
    "Write a function to read the `common_words` file (For better coverage, try to keep them in lowercase):"
   ]
  },
  {
   "cell_type": "code",
   "execution_count": 11,
   "metadata": {
    "deletable": false,
    "nbgrader": {
     "cell_type": "code",
     "checksum": "e6a9e9bb3ad0f8dc2ec3c497a3149092",
     "grade": false,
     "grade_id": "cell-7357aa40f64e5bcb",
     "locked": false,
     "schema_version": 3,
     "solution": true,
     "task": false
    }
   },
   "outputs": [],
   "source": [
    "def load_stopwords(root_folder = \"./datasets/\"):\n",
    "    \"\"\"\n",
    "        Loads the stopwords. The dataset is assumed to be in the folder \"./datasets/\" by default\n",
    "        Output: A set of stopwords\n",
    "    \"\"\"\n",
    "    f = open(root_folder+\"common_words\", \"r\")\n",
    "    common_words = set()\n",
    "    for word in f: \n",
    "        word = word.strip().lower()\n",
    "        common_words.add(word)   \n",
    "    f.close()\n",
    "    \n",
    "    return common_words "
   ]
  },
  {
   "cell_type": "code",
   "execution_count": 12,
   "metadata": {
    "deletable": false,
    "editable": false,
    "nbgrader": {
     "cell_type": "code",
     "checksum": "9211b9735b828d89d1a51d8743c448b4",
     "grade": true,
     "grade_id": "cell-2ca3ac162004de97",
     "locked": true,
     "points": 1,
     "schema_version": 3,
     "solution": false,
     "task": false
    }
   },
   "outputs": [],
   "source": [
    "##### Function check\n",
    "stopwords = load_stopwords()\n",
    "\n",
    "assert isinstance(stopwords, set)\n",
    "assert len(stopwords) == 428, \"There should be exactly 428 stop words\"\n",
    "##### "
   ]
  },
  {
   "cell_type": "markdown",
   "metadata": {
    "deletable": false,
    "editable": false,
    "nbgrader": {
     "cell_type": "markdown",
     "checksum": "fc7e419f35dfd3f507d8a7555ce2cde9",
     "grade": false,
     "grade_id": "cell-134b72872f4300cb",
     "locked": true,
     "schema_version": 3,
     "solution": false,
     "task": false
    }
   },
   "source": [
    "---\n",
    "### 1.4 Tokenization (4 points)\n",
    "\n",
    "We can now write some basic text processing functions. \n",
    "A first step is to tokenize the text. \n",
    "\n",
    "**Note**: Use the  `WordPunctTokenizer` available in the `nltk` library:"
   ]
  },
  {
   "cell_type": "code",
   "execution_count": 13,
   "metadata": {
    "deletable": false,
    "nbgrader": {
     "cell_type": "code",
     "checksum": "3f5564d3c75bf22fbf832b3a9b938f37",
     "grade": false,
     "grade_id": "cell-322be4c9499bdc4b",
     "locked": false,
     "schema_version": 3,
     "solution": true,
     "task": false
    }
   },
   "outputs": [],
   "source": [
    "def tokenize(text):\n",
    "    \"\"\"\n",
    "        Tokenizes the input text. Use the WordPunctTokenizer\n",
    "        Input: text - a string\n",
    "        Output: a list of tokens\n",
    "    \"\"\"\n",
    "    tokens = nltk.WordPunctTokenizer().tokenize(text)\n",
    "    return tokens"
   ]
  },
  {
   "cell_type": "code",
   "execution_count": 14,
   "metadata": {
    "deletable": false,
    "editable": false,
    "nbgrader": {
     "cell_type": "code",
     "checksum": "f60b93aa03bf9eced64940252eb33fe3",
     "grade": true,
     "grade_id": "cell-7fbf48bf7541a622",
     "locked": true,
     "points": 4,
     "schema_version": 3,
     "solution": false,
     "task": false
    }
   },
   "outputs": [
    {
     "name": "stdout",
     "output_type": "stream",
     "text": [
      "['the', 'quick', 'brown', 'fox', 'jumps', 'over', 'the', 'lazy', 'dog']\n"
     ]
    }
   ],
   "source": [
    "##### Function check\n",
    "text = \"the quick brown fox jumps over the lazy dog\"\n",
    "tokens = tokenize(text)\n",
    "\n",
    "assert isinstance(tokens, list)\n",
    "assert len(tokens) == 9\n",
    "\n",
    "print(tokens)\n",
    "# output: ['the', 'quick', 'brown', 'fox', 'jumps', 'over', 'the', 'lazy', 'dog']\n",
    "#####"
   ]
  },
  {
   "cell_type": "markdown",
   "metadata": {
    "deletable": false,
    "editable": false,
    "nbgrader": {
     "cell_type": "markdown",
     "checksum": "1b1cc868db22735e5e193bc64ff67877",
     "grade": false,
     "grade_id": "cell-fd1b98ae61b697ca",
     "locked": true,
     "schema_version": 3,
     "solution": false,
     "task": false
    }
   },
   "source": [
    "---\n",
    "### 1.5 Stemming (3 points)\n",
    "\n",
    "Write a function to stem tokens. \n",
    "Again, you can use the nltk library for this:"
   ]
  },
  {
   "cell_type": "code",
   "execution_count": 15,
   "metadata": {
    "deletable": false,
    "nbgrader": {
     "cell_type": "code",
     "checksum": "1c4a6aa979d66158c7b6b992af43293a",
     "grade": false,
     "grade_id": "cell-e3f6c8e3f874b28d",
     "locked": false,
     "schema_version": 3,
     "solution": true,
     "task": false
    }
   },
   "outputs": [],
   "source": [
    "def stem_token(token):\n",
    "    \"\"\"\n",
    "        Stems the given token using the PorterStemmer from the nltk library\n",
    "        Input: a single token\n",
    "        Output: the stem of the token\n",
    "    \"\"\"\n",
    "    ps = nltk.PorterStemmer() \n",
    "    stem_token = ps.stem(token)\n",
    "    return stem_token"
   ]
  },
  {
   "cell_type": "code",
   "execution_count": 16,
   "metadata": {
    "deletable": false,
    "editable": false,
    "nbgrader": {
     "cell_type": "code",
     "checksum": "cd2611a46e7c2e92af438d7166cf2616",
     "grade": true,
     "grade_id": "cell-cd6863e6ee6ed205",
     "locked": true,
     "points": 3,
     "schema_version": 3,
     "solution": false,
     "task": false
    }
   },
   "outputs": [],
   "source": [
    "##### Function check\n",
    "\n",
    "assert stem_token('owned') == 'own'\n",
    "assert stem_token('itemization') == 'item'\n",
    "#####"
   ]
  },
  {
   "cell_type": "markdown",
   "metadata": {
    "deletable": false,
    "editable": false,
    "nbgrader": {
     "cell_type": "markdown",
     "checksum": "5fcc93f08a6abcaffd5bd9475e4768e5",
     "grade": false,
     "grade_id": "cell-47c9f90498699110",
     "locked": true,
     "schema_version": 3,
     "solution": false,
     "task": false
    }
   },
   "source": [
    "---\n",
    "### 1.6 Summary\n",
    "\n",
    "The following function puts it all together. Given a string, it tokenizes it and processes it according to the flags that you set."
   ]
  },
  {
   "cell_type": "code",
   "execution_count": 17,
   "metadata": {
    "deletable": false,
    "editable": false,
    "nbgrader": {
     "cell_type": "code",
     "checksum": "2ff2d215ee8e0039c5a91fd3de12e6bd",
     "grade": false,
     "grade_id": "cell-dd0d3f46b30801da",
     "locked": true,
     "schema_version": 3,
     "solution": false,
     "task": false
    }
   },
   "outputs": [],
   "source": [
    "#### Putting it all together\n",
    "def process_text(text, stem=False, remove_stopwords=False, lowercase_text=False):\n",
    "    \n",
    "    tokens = []\n",
    "    for token in tokenize(text):\n",
    "        if remove_stopwords and token.lower() in stopwords:\n",
    "            continue\n",
    "        if stem:\n",
    "            token = stem_token(token)\n",
    "        if lowercase_text:\n",
    "            token = token.lower()\n",
    "        tokens.append(token)\n",
    "\n",
    "    return tokens\n",
    "#### "
   ]
  },
  {
   "cell_type": "markdown",
   "metadata": {
    "deletable": false,
    "editable": false,
    "nbgrader": {
     "cell_type": "markdown",
     "checksum": "02d433b18eb43654fa4306a7bf55b190",
     "grade": false,
     "grade_id": "cell-8d885bfd2edd43ae",
     "locked": true,
     "schema_version": 3,
     "solution": false,
     "task": false
    }
   },
   "source": [
    "---\n",
    "\n",
    "Let's create two sets of preprocessed documents.\n",
    "We can process the documents and queries according to these two configurations:"
   ]
  },
  {
   "cell_type": "code",
   "execution_count": 18,
   "metadata": {
    "deletable": false,
    "editable": false,
    "nbgrader": {
     "cell_type": "code",
     "checksum": "dbe4ca667be6842fdcf512fbcad50c7f",
     "grade": false,
     "grade_id": "cell-d427365ee0fb21d8",
     "locked": true,
     "schema_version": 3,
     "solution": false,
     "task": false
    }
   },
   "outputs": [],
   "source": [
    "# In this configuration:\n",
    "# Don't preprocess the text, except to tokenize \n",
    "config_1 = {\n",
    "  \"stem\": False,\n",
    "  \"remove_stopwords\" : False,\n",
    "  \"lowercase_text\": True\n",
    "} \n",
    "\n",
    "\n",
    "# In this configuration:\n",
    "# Preprocess the text, stem and remove stopwords\n",
    "config_2 = {\n",
    "  \"stem\": True,\n",
    "  \"remove_stopwords\" : True,\n",
    "  \"lowercase_text\": True, \n",
    "} \n",
    "\n",
    "####\n",
    "doc_repr_1 = []\n",
    "doc_repr_2 = []\n",
    "for (doc_id, document) in docs:\n",
    "    doc_repr_1.append((doc_id, process_text(document, **config_1)))\n",
    "    doc_repr_2.append((doc_id, process_text(document, **config_2)))\n",
    "\n",
    "####"
   ]
  },
  {
   "cell_type": "markdown",
   "metadata": {
    "deletable": false,
    "editable": false,
    "nbgrader": {
     "cell_type": "markdown",
     "checksum": "b60589aac19e80941d860d9b3f1e9a16",
     "grade": false,
     "grade_id": "cell-b1c102db61ae7495",
     "locked": true,
     "schema_version": 3,
     "solution": false,
     "task": false
    }
   },
   "source": [
    "--- \n",
    "\n",
    "## Section 2: Indexing (10 points)<a class=\"anchor\" id=\"indexing\"></a>\n",
    "\n",
    "[Back to Part 1](#part1)\n",
    "\n",
    "\n",
    "\n",
    "A retrieval function usually takes in a query document pair, and scores a query against a document.  Our document set is quite small - just a few thousand documents. However, consider a web-scale dataset with a few million documents. In such a scenario, it would become infeasible to score every query and document pair. In such a case, we can build an inverted index. From Wikipedia:\n",
    "\n",
    "> ... , an inverted index (also referred to as a postings file or inverted file) is a database index storing a mapping from content, such as words or numbers, to its locations in a table, .... The purpose of an inverted index is to allow fast full-text searches, at a cost of increased processing when a document is added to the database. ...\n",
    "\n",
    "\n",
    "Consider a simple inverted index, which maps from word to document. This can improve the performance of a retrieval system significantly. In this assignment, we consider a *simple* inverted index, which maps a word to a set of documents. In practice, however, more complex indices might be used.  \n"
   ]
  },
  {
   "cell_type": "markdown",
   "metadata": {
    "deletable": false,
    "editable": false,
    "nbgrader": {
     "cell_type": "markdown",
     "checksum": "710fd943f45523ac36fcb887cc0d4d39",
     "grade": false,
     "grade_id": "cell-fa373192c1b7bb95",
     "locked": true,
     "schema_version": 3,
     "solution": false,
     "task": false
    }
   },
   "source": [
    "### 2.1 Term Frequency-index (10 points)\n",
    "In this assignment, we will be using an index created in memory since our dataset is tiny. To get started, build a simple index that maps each `token` to a list of `(doc_id, count)` where `count` is the count of the `token` in `doc_id`.\n",
    "For consistency, build this index using a python dictionary.\n",
    "    \n",
    "Now, implement a function to build an index:"
   ]
  },
  {
   "cell_type": "code",
   "execution_count": 19,
   "metadata": {
    "deletable": false,
    "nbgrader": {
     "cell_type": "code",
     "checksum": "c281c45196493b87e45e1b3fb4ddd6c9",
     "grade": false,
     "grade_id": "cell-077599b87e953209",
     "locked": false,
     "schema_version": 3,
     "solution": true,
     "task": false
    }
   },
   "outputs": [],
   "source": [
    "import collections \n",
    "\n",
    "def build_tf_index(documents):\n",
    "    \"\"\"\n",
    "        Build an inverted index (with counts). The output is a dictionary which takes in a token\n",
    "        and returns a list of (doc_id, count) where 'count' is the count of the 'token' in 'doc_id'\n",
    "        Input: a list of documents - (doc_id, tokens) \n",
    "        Output: An inverted index. [token] -> [(doc_id, token_count)]\n",
    "    \"\"\"\n",
    "    inv_index = collections.defaultdict(lambda : [])\n",
    "    \n",
    "    for document in documents:\n",
    "        \n",
    "        # Create dict to store token info for this document\n",
    "        hashtable = {}\n",
    "        doc_id = int(document[0])\n",
    "        \n",
    "        # Go through all tokens and count them\n",
    "        for token in document[1]:\n",
    "            \n",
    "            # Create element for dictionary or increase its count\n",
    "            if token not in hashtable:\n",
    "                hashtable[token] = 1\n",
    "            else:\n",
    "                hashtable[token] += 1\n",
    "                \n",
    "        # Go through tokens and append their count to the index\n",
    "        for token, count in hashtable.items():\n",
    "            if token not in inv_index:\n",
    "                inv_index[token] = []\n",
    "            inv_index[token].append((doc_id, count))\n",
    "            \n",
    "    return inv_index"
   ]
  },
  {
   "cell_type": "markdown",
   "metadata": {
    "deletable": false,
    "editable": false,
    "nbgrader": {
     "cell_type": "markdown",
     "checksum": "15e7041b4323d2a290322de538ff7670",
     "grade": false,
     "grade_id": "cell-093aebfa504f96f2",
     "locked": true,
     "schema_version": 3,
     "solution": false,
     "task": false
    }
   },
   "source": [
    "---\n",
    "Now we can build indexed documents and preprocess the queries based on the two configurations:"
   ]
  },
  {
   "cell_type": "code",
   "execution_count": 20,
   "metadata": {
    "deletable": false,
    "editable": false,
    "nbgrader": {
     "cell_type": "code",
     "checksum": "e27540c1d8d77a3779a05f557f3f40c6",
     "grade": false,
     "grade_id": "cell-b2ff1676348b90a8",
     "locked": true,
     "schema_version": 3,
     "solution": false,
     "task": false
    }
   },
   "outputs": [],
   "source": [
    "#### Indexed documents based on the two configs\n",
    "\n",
    "# Create the 2 indices\n",
    "tf_index_1 = build_tf_index(doc_repr_1)\n",
    "tf_index_2 = build_tf_index(doc_repr_2)\n",
    "\n",
    "# This function returns the tf_index of the corresponding config\n",
    "def get_index(index_set):\n",
    "    assert index_set in {1, 2}\n",
    "    return {\n",
    "        1: tf_index_1,\n",
    "        2: tf_index_2\n",
    "    }[index_set]\n",
    "\n",
    "####\n",
    "#### Preprocessed query based on the two configs\n",
    "\n",
    "# This function preprocesses the text given the index set, according to the specified config\n",
    "def preprocess_query(text, index_set):\n",
    "    assert index_set in {1, 2}\n",
    "    if index_set == 1:\n",
    "        return process_text(text, **config_1)\n",
    "    elif index_set == 2:\n",
    "        return process_text(text, **config_2)\n",
    "\n",
    "#### "
   ]
  },
  {
   "cell_type": "code",
   "execution_count": 21,
   "metadata": {
    "deletable": false,
    "editable": false,
    "nbgrader": {
     "cell_type": "code",
     "checksum": "2c50e4b4c68261ff1184277bcf3c38d8",
     "grade": true,
     "grade_id": "cell-fc7c7232d5d2ee46",
     "locked": true,
     "points": 5,
     "schema_version": 3,
     "solution": false,
     "task": false
    }
   },
   "outputs": [
    {
     "name": "stdout",
     "output_type": "stream",
     "text": [
      "[(4, 1), (7, 1), (10, 1), (13, 1), (19, 1), (22, 1), (23, 1), (37, 1), (40, 3), (41, 1)]\n"
     ]
    }
   ],
   "source": [
    "##### Function check\n",
    "\n",
    "print(tf_index_1['computer'][:10])\n",
    "#### "
   ]
  },
  {
   "cell_type": "code",
   "execution_count": 22,
   "metadata": {
    "deletable": false,
    "editable": false,
    "nbgrader": {
     "cell_type": "code",
     "checksum": "02de27463e2a393f46278d6fe3160481",
     "grade": true,
     "grade_id": "cell-ff06bd11204db250",
     "locked": true,
     "points": 5,
     "schema_version": 3,
     "solution": false,
     "task": false
    }
   },
   "outputs": [
    {
     "name": "stdout",
     "output_type": "stream",
     "text": [
      "[(670, 1), (675, 1), (1621, 3), (1681, 1), (2145, 1), (2339, 1), (2572, 1), (2583, 1), (2739, 1), (3012, 1)]\n"
     ]
    }
   ],
   "source": [
    "##### Function check\n",
    "\n",
    "print(tf_index_2['computer'][:10])\n",
    "#### "
   ]
  },
  {
   "cell_type": "markdown",
   "metadata": {
    "deletable": false,
    "editable": false,
    "nbgrader": {
     "cell_type": "markdown",
     "checksum": "982112dca3f9a75e871bea74fe1adab4",
     "grade": false,
     "grade_id": "cell-89eba71f04310291",
     "locked": true,
     "schema_version": 3,
     "solution": false,
     "task": false
    }
   },
   "source": [
    "\n",
    "---\n",
    "## Section 3: Ranking  (80 points) <a class=\"anchor\" id=\"ranking\"></a>\n",
    "\n",
    "[Back to Part 1](#part1)\n",
    "\n",
    "Now that we have cleaned and processed our dataset, we can start building simple IR systems. \n",
    "\n",
    "For now, we consider *simple* IR systems, which involve computing scores from the tokens present in the document/query. More advanced methods are covered in later assignments.\n",
    "\n",
    "We will implement the following methods in this section:\n",
    "- [Section 3.1: Bag of Words](#bow) (10 points)\n",
    "- [Section 3.2: TF-IDF](#tfidf) (15 points)\n",
    "- [Section 3.3: Query Likelihood Model](#qlm) (35 points)\n",
    "- [Section 3.4: BM25](#bm25) (20 points)\n",
    "\n",
    "**Scoring policy:**\n",
    "Your implementations in this section are scored based on the expected performance of your ranking functions.\n",
    "You will get a full mark if your implementation meets the expected performance (measured by some evaluation metric).\n",
    "Otherwise, you may get partial credit.\n",
    "For example, if your *Bag of words* ranking function has 60% of expected performance, you will get 4 out of 10."
   ]
  },
  {
   "cell_type": "markdown",
   "metadata": {
    "deletable": false,
    "editable": false,
    "nbgrader": {
     "cell_type": "markdown",
     "checksum": "97c13d2e2cad60df4a70dcb61ea7c30e",
     "grade": false,
     "grade_id": "cell-3daf70a60e393adf",
     "locked": true,
     "schema_version": 3,
     "solution": false,
     "task": false
    }
   },
   "source": [
    "--- \n",
    "\n",
    "### Section 3.1: Bag of Words (10 points)<a class=\"anchor\" id=\"bow\"></a>\n",
    "\n",
    "Probably the simplest IR model is the Bag of Words (BOW) model.\n",
    "Implement a function that scores and ranks all the documents against a query using this model.   \n",
    "\n",
    "Note that you can use either the count of the token or 'binarize' it i.e set the value equal to 1 if the token appears.   \n"
   ]
  },
  {
   "cell_type": "code",
   "execution_count": 23,
   "metadata": {
    "deletable": false,
    "nbgrader": {
     "cell_type": "code",
     "checksum": "1178c8a8908b0e4dc07add7aa49b7fde",
     "grade": false,
     "grade_id": "cell-de9cf0459c4b9324",
     "locked": false,
     "schema_version": 3,
     "solution": true,
     "task": false
    }
   },
   "outputs": [],
   "source": [
    "def bow_search(query, index_set):\n",
    "    \"\"\"\n",
    "        Perform a search over all documents with the given query. \n",
    "        Note: You have to use the `get_index` function created in the previous cells\n",
    "        Input: \n",
    "            query - a (unprocessed) query\n",
    "            index_set - the index to use\n",
    "        Output: a list of (document_id, score), sorted in descending relevance to the given query \n",
    "    \"\"\"\n",
    "    index = get_index(index_set)\n",
    "    processed_query = preprocess_query(query, index_set)\n",
    "    scores = collections.defaultdict(lambda : 0)\n",
    "    \n",
    "    for q in processed_query:\n",
    "        for doc, count in index[q]:\n",
    "            scores[doc] += count\n",
    "            \n",
    "    return [(d, float(s)) for d, s in sorted(scores.items(), key=lambda t: t[1], reverse=True)]"
   ]
  },
  {
   "cell_type": "code",
   "execution_count": 24,
   "metadata": {
    "deletable": false,
    "editable": false,
    "nbgrader": {
     "cell_type": "code",
     "checksum": "644d6d33cf5075c6d9878d4fe24c6213",
     "grade": true,
     "grade_id": "cell-9f6aceae6dd9125f",
     "locked": true,
     "points": 2,
     "schema_version": 3,
     "solution": false,
     "task": false
    }
   },
   "outputs": [
    {
     "name": "stdout",
     "output_type": "stream",
     "text": [
      "BOW Results:\n",
      "Rank 0(6.0): An Information Algebra - Phase I Report-Language  ...\n",
      "Rank 1(6.0): Rejuvenating Experimental Computer Science  \\n Thi...\n",
      "Rank 2(3.0): ALGOL 60 Confidential  \\n The ALGOL 60 Report,* wh...\n",
      "Rank 3(2.0): Automatic Abstracting and Indexing Survey and Reco...\n",
      "Rank 4(2.0): A String Language for Symbol Manipulation Based on...\n"
     ]
    }
   ],
   "source": [
    "#### Function check\n",
    "\n",
    "docs_by_id = dict(docs)\n",
    "def print_results(docs, len_limit=50):    \n",
    "    for i, (doc_id, score) in enumerate(docs):\n",
    "        doc_content = docs_by_id[doc_id].strip().replace(\"\\n\", \"\\\\n\")[:len_limit] + \"...\"\n",
    "        print(f\"Rank {i}({score:.2}): {doc_content}\")\n",
    "\n",
    "test_bow = bow_search(\"report\", index_set=1)[:5]\n",
    "print(f\"BOW Results:\")\n",
    "print_results(test_bow)\n",
    "#### "
   ]
  },
  {
   "cell_type": "code",
   "execution_count": 25,
   "metadata": {
    "deletable": false,
    "editable": false,
    "nbgrader": {
     "cell_type": "code",
     "checksum": "8d54c91b913d7a54b25f3358c969fa45",
     "grade": true,
     "grade_id": "cell-4eed3abf233d9b58",
     "locked": true,
     "points": 2,
     "schema_version": 3,
     "solution": false,
     "task": false
    }
   },
   "outputs": [],
   "source": [
    "#### Please do not change this. This cell is used for grading."
   ]
  },
  {
   "cell_type": "code",
   "execution_count": 26,
   "metadata": {
    "deletable": false,
    "editable": false,
    "nbgrader": {
     "cell_type": "code",
     "checksum": "58bcc16d36dc079b7f41f9572423c62b",
     "grade": true,
     "grade_id": "cell-4d65a2d7090c466c",
     "locked": true,
     "points": 3,
     "schema_version": 3,
     "solution": false,
     "task": false
    }
   },
   "outputs": [],
   "source": [
    "#### Please do not change this. This cell is used for grading."
   ]
  },
  {
   "cell_type": "code",
   "execution_count": 27,
   "metadata": {
    "deletable": false,
    "editable": false,
    "nbgrader": {
     "cell_type": "code",
     "checksum": "65e4561970c4eba3e5ce43b142f858af",
     "grade": true,
     "grade_id": "cell-dedf36ab5853ce20",
     "locked": true,
     "points": 3,
     "schema_version": 3,
     "solution": false,
     "task": false
    }
   },
   "outputs": [],
   "source": [
    "#### Please do not change this. This cell is used for grading."
   ]
  },
  {
   "cell_type": "markdown",
   "metadata": {
    "deletable": false,
    "editable": false,
    "nbgrader": {
     "cell_type": "markdown",
     "checksum": "a5c2318004c5ce534b67c7a36bbc7c31",
     "grade": false,
     "grade_id": "cell-a5c09c79ac1f2871",
     "locked": true,
     "schema_version": 3,
     "solution": false,
     "task": false
    }
   },
   "source": [
    "\n",
    "---\n",
    "\n",
    "### Section 3.2: TF-IDF (15 points) <a class=\"anchor\" id=\"tfidf\"></a>\n",
    "\n",
    "Before we implement the tf-idf scoring functions, let's first write a function to compute the document frequencies of all words.  \n",
    "\n",
    "#### 3.2.1 Document frequency (5 points)\n",
    "Compute the document frequencies of all tokens in the collection.  "
   ]
  },
  {
   "cell_type": "code",
   "execution_count": 28,
   "metadata": {
    "deletable": false,
    "nbgrader": {
     "cell_type": "code",
     "checksum": "11cdde77378ded394d7922fe36bbc5d1",
     "grade": false,
     "grade_id": "cell-9a2369f32e864b8a",
     "locked": false,
     "schema_version": 3,
     "solution": true,
     "task": false
    }
   },
   "outputs": [],
   "source": [
    "def compute_df(documents):\n",
    "    \"\"\"\n",
    "        Compute the document frequency of all terms in the vocabulary\n",
    "        Input: A list of documents\n",
    "        Output: A dictionary with {token: document frequency)\n",
    "    \"\"\"\n",
    "    df = dict()\n",
    "    for document in documents:\n",
    "        for token in set(document):\n",
    "            if token in df:\n",
    "                df[token] += 1\n",
    "            else:\n",
    "                df[token] = 1\n",
    "    return df"
   ]
  },
  {
   "cell_type": "code",
   "execution_count": 29,
   "metadata": {
    "deletable": false,
    "editable": false,
    "nbgrader": {
     "cell_type": "code",
     "checksum": "154985511d7925c5793a1f97dea81880",
     "grade": false,
     "grade_id": "cell-4c3bddd0b73ac90e",
     "locked": true,
     "schema_version": 3,
     "solution": false,
     "task": false
    }
   },
   "outputs": [],
   "source": [
    "#### Compute df based on the two configs\n",
    "\n",
    "# get the document frequencies of each document\n",
    "df_1 = compute_df([d[1] for d in doc_repr_1])\n",
    "df_2 = compute_df([d[1] for d in doc_repr_2])\n",
    "\n",
    "def get_df(index_set):\n",
    "    assert index_set in {1, 2}\n",
    "    return {\n",
    "        1: df_1,\n",
    "        2: df_2\n",
    "    }[index_set]\n",
    "####"
   ]
  },
  {
   "cell_type": "code",
   "execution_count": 30,
   "metadata": {
    "deletable": false,
    "editable": false,
    "nbgrader": {
     "cell_type": "code",
     "checksum": "110cc180068cf3f77c682ee3de2a117c",
     "grade": true,
     "grade_id": "cell-79e8a6db1e5fc46f",
     "locked": true,
     "points": 5,
     "schema_version": 3,
     "solution": false,
     "task": false
    }
   },
   "outputs": [
    {
     "name": "stdout",
     "output_type": "stream",
     "text": [
      "597\n",
      "11\n"
     ]
    }
   ],
   "source": [
    "#### Function check\n",
    "\n",
    "print(df_1['computer'])\n",
    "print(df_2['computer'])\n",
    "####"
   ]
  },
  {
   "cell_type": "markdown",
   "metadata": {
    "deletable": false,
    "editable": false,
    "nbgrader": {
     "cell_type": "markdown",
     "checksum": "6646996a2d016ef86e7cedd2f79a29d1",
     "grade": false,
     "grade_id": "cell-52f6acc487e1b96d",
     "locked": true,
     "schema_version": 3,
     "solution": false,
     "task": false
    }
   },
   "source": [
    "---\n",
    "#### 3.2.2 TF-IDF search (10 points)\n",
    "Next, implement a function that computes a tf-idf score given a query.      "
   ]
  },
  {
   "cell_type": "code",
   "execution_count": 31,
   "metadata": {
    "deletable": false,
    "nbgrader": {
     "cell_type": "code",
     "checksum": "b33c859693d1b383bcb53acea340027f",
     "grade": false,
     "grade_id": "cell-2fb5ba34b2994cd9",
     "locked": false,
     "schema_version": 3,
     "solution": true,
     "task": false
    }
   },
   "outputs": [],
   "source": [
    "# TODO: Implement this! (10 points)\n",
    "def tfidf_search(query, index_set):\n",
    "    \"\"\"\n",
    "        Perform a search over all documents with the given query using tf-idf. \n",
    "        Note #1: You have to use the `get_index` (and the `get_df`) function created in the previous cells\n",
    "        Input: \n",
    "            query - a (unprocessed) query\n",
    "            index_set - the index to use\n",
    "        Output: a list of (document_id, score), sorted in descending relevance to the given query \n",
    "    \"\"\"\n",
    "    index = get_index(index_set)\n",
    "    df = get_df(index_set)\n",
    "    processed_query = preprocess_query(query, index_set)\n",
    "    \n",
    "    # Make a set of all involved documents\n",
    "    documents = set([z[0] for z in [y for x in index.values() for y in x]])\n",
    "    \n",
    "    # Make dict of all involved documents, assign score to 0\n",
    "    tf = dict({key: 0 for key in documents})\n",
    "    \n",
    "    # Create new dict with Inverse document frequency\n",
    "    idf = {n: np.log(len(documents)/df[n]) for n in df.keys()}\n",
    "    \n",
    "    # Multiply tf * idf and sum to calculate score\n",
    "    for token in processed_query:\n",
    "        if token not in index.keys():\n",
    "            continue\n",
    "        for doc in index[token]:\n",
    "            tf[doc[0]] += doc[1]*idf[token]\n",
    "    \n",
    "    # Sort and return list\n",
    "    return sorted(tf.items(), key=lambda x:x[1], reverse=True)"
   ]
  },
  {
   "cell_type": "code",
   "execution_count": 32,
   "metadata": {
    "deletable": false,
    "editable": false,
    "nbgrader": {
     "cell_type": "code",
     "checksum": "10b9fd39f3c9a9f3ca274c020ad79323",
     "grade": true,
     "grade_id": "cell-bc68aeeacf42beb3",
     "locked": true,
     "points": 2,
     "schema_version": 3,
     "solution": false,
     "task": false
    }
   },
   "outputs": [
    {
     "name": "stdout",
     "output_type": "stream",
     "text": [
      "TFIDF Results:\n",
      "Rank 0(2.3e+01): An Information Algebra - Phase I Report-Language  ...\n",
      "Rank 1(2.3e+01): Rejuvenating Experimental Computer Science  \\n Thi...\n",
      "Rank 2(1.2e+01): ALGOL 60 Confidential  \\n The ALGOL 60 Report,* wh...\n",
      "Rank 3(7.8): Automatic Abstracting and Indexing Survey and Reco...\n",
      "Rank 4(7.8): A String Language for Symbol Manipulation Based on...\n"
     ]
    }
   ],
   "source": [
    "#### Function check\n",
    "test_tfidf = tfidf_search(\"report\", index_set=1)[:5]\n",
    "print(f\"TFIDF Results:\")\n",
    "print_results(test_tfidf)\n",
    "####"
   ]
  },
  {
   "cell_type": "code",
   "execution_count": 33,
   "metadata": {
    "deletable": false,
    "editable": false,
    "nbgrader": {
     "cell_type": "code",
     "checksum": "03441f97df9db4996d0f260fcc974e9d",
     "grade": true,
     "grade_id": "cell-c7702fa8179fadb9",
     "locked": true,
     "points": 2,
     "schema_version": 3,
     "solution": false,
     "task": false
    }
   },
   "outputs": [],
   "source": [
    "#### Please do not change this. This cell is used for grading."
   ]
  },
  {
   "cell_type": "code",
   "execution_count": 34,
   "metadata": {
    "deletable": false,
    "editable": false,
    "nbgrader": {
     "cell_type": "code",
     "checksum": "7272cfcbb457a74d23bfec1f85d22d5f",
     "grade": true,
     "grade_id": "cell-3284f50ac29abbaa",
     "locked": true,
     "points": 3,
     "schema_version": 3,
     "solution": false,
     "task": false
    }
   },
   "outputs": [],
   "source": [
    "#### Please do not change this. This cell is used for grading."
   ]
  },
  {
   "cell_type": "code",
   "execution_count": 35,
   "metadata": {
    "deletable": false,
    "editable": false,
    "nbgrader": {
     "cell_type": "code",
     "checksum": "fcbcc867713612b90395d653db8fd5e3",
     "grade": true,
     "grade_id": "cell-d908c80a3155354b",
     "locked": true,
     "points": 3,
     "schema_version": 3,
     "solution": false,
     "task": false
    }
   },
   "outputs": [],
   "source": [
    "#### Please do not change this. This cell is used for grading."
   ]
  },
  {
   "cell_type": "markdown",
   "metadata": {
    "deletable": false,
    "editable": false,
    "nbgrader": {
     "cell_type": "markdown",
     "checksum": "cdffc83f0eaea937cf64a212e7e9af8d",
     "grade": false,
     "grade_id": "cell-f5d923459ba21733",
     "locked": true,
     "schema_version": 3,
     "solution": false,
     "task": false
    }
   },
   "source": [
    "--- \n",
    "\n",
    "### Section 3.3: Query Likelihood Model (35 points) <a class=\"anchor\" id=\"qlm\"></a>\n",
    "\n",
    "In this section, you will implement a simple query likelihood model. \n",
    "\n",
    "\n",
    "#### 3.3.1 Naive QL (15 points)\n",
    "\n",
    "First, let us implement a naive version of a QL model, assuming a multinomial unigram language model (with a uniform prior over the documents). \n",
    "\n"
   ]
  },
  {
   "cell_type": "code",
   "execution_count": 36,
   "metadata": {
    "deletable": false,
    "editable": false,
    "nbgrader": {
     "cell_type": "code",
     "checksum": "b7ae2b7d818b428b4638c1c9206d2aca",
     "grade": false,
     "grade_id": "cell-98505778f7b68e7f",
     "locked": true,
     "schema_version": 3,
     "solution": false,
     "task": false
    }
   },
   "outputs": [],
   "source": [
    "#### Document length for normalization\n",
    "\n",
    "def doc_lengths(documents):\n",
    "    doc_lengths = {doc_id:len(doc) for (doc_id, doc) in documents}\n",
    "    return doc_lengths\n",
    "\n",
    "doc_lengths_1 = doc_lengths(doc_repr_1)\n",
    "doc_lengths_2 = doc_lengths(doc_repr_2)\n",
    "\n",
    "def get_doc_lengths(index_set):\n",
    "    assert index_set in {1, 2}\n",
    "    return {\n",
    "        1: doc_lengths_1,\n",
    "        2: doc_lengths_2\n",
    "    }[index_set]\n",
    "####"
   ]
  },
  {
   "cell_type": "code",
   "execution_count": 37,
   "metadata": {
    "deletable": false,
    "nbgrader": {
     "cell_type": "code",
     "checksum": "cedd08303a914243fefdb6b876977ca1",
     "grade": false,
     "grade_id": "cell-8bcf2b804d636c2e",
     "locked": false,
     "schema_version": 3,
     "solution": true,
     "task": false
    }
   },
   "outputs": [],
   "source": [
    "from collections import defaultdict\n",
    "\n",
    "def naive_ql_search(query, index_set):\n",
    "    \"\"\"\n",
    "        Perform a search over all documents with the given query using a naive QL model. \n",
    "        Note #1: You have to use the `get_index` (and get_doc_lengths) function created in the previous cells\n",
    "        Input: \n",
    "            query - a (unprocessed) query\n",
    "            index_set - the index to use\n",
    "        Output: a list of (document_id, score), sorted in descending relevance to the given query \n",
    "    \"\"\"\n",
    "    index = get_index(index_set)\n",
    "    doc_lengths = get_doc_lengths(index_set)\n",
    "    processed_query = preprocess_query(query, index_set)\n",
    "    \n",
    "    # Make a set of all involved documents\n",
    "    documents = set([z[0] for z in [y for x in index.values() for y in x]])\n",
    "    \n",
    "    # Specifiy defaultdict\n",
    "    scores = defaultdict(list)\n",
    "    \n",
    "    # For each term in query\n",
    "    for term in processed_query:\n",
    "        \n",
    "        # If term does not exist skip it \n",
    "        if term not in index:\n",
    "            continue\n",
    "        \n",
    "        # Collect al doc_ids from documents in which term occurs\n",
    "        in_docs = [x[0] for x in index[term]]\n",
    "        \n",
    "        # For every document\n",
    "        for document in documents:\n",
    "            \n",
    "            # If term occurs in this document append probability\n",
    "            if document in in_docs:            \n",
    "                scores[document].append((index[term][in_docs.index(document)][1]/doc_lengths[document]))\n",
    "                \n",
    "            # If term does not occur, append probability of 0\n",
    "            else:\n",
    "                scores[document].append(0)\n",
    "    \n",
    "    # Take product of all elements\n",
    "    scores.update({n: np.prod([float(y) for y in scores[n]]) for n in scores.keys()})\n",
    "    \n",
    "    # Sort and return list\n",
    "    return sorted(scores.items(), key=lambda x: x[1], reverse=True)"
   ]
  },
  {
   "cell_type": "code",
   "execution_count": 38,
   "metadata": {
    "deletable": false,
    "editable": false,
    "nbgrader": {
     "cell_type": "code",
     "checksum": "b550d15bdad28354c336020a00c33d56",
     "grade": true,
     "grade_id": "cell-5a83ac12ecde8578",
     "locked": true,
     "points": 3,
     "schema_version": 3,
     "solution": false,
     "task": false
    }
   },
   "outputs": [
    {
     "name": "stdout",
     "output_type": "stream",
     "text": [
      "Naive QL Results:\n",
      "Rank 0(0.2): A Report Writer For COBOL...\n",
      "Rank 1(0.2): A CRT Report Generating System...\n",
      "Rank 2(0.17): Preliminary Report-International Algebraic Languag...\n",
      "Rank 3(0.17): Supplement to the ALGOL 60 Report...\n",
      "Rank 4(0.14): ALGOL Sub-Committee Report - Extensions...\n"
     ]
    }
   ],
   "source": [
    "#### Function check\n",
    "test_naiveql = naive_ql_search(\"report\", index_set=1)[:5]\n",
    "print(f\"Naive QL Results:\")\n",
    "print_results(test_naiveql)\n",
    "####"
   ]
  },
  {
   "cell_type": "code",
   "execution_count": 39,
   "metadata": {},
   "outputs": [
    {
     "name": "stdout",
     "output_type": "stream",
     "text": [
      "Naive QL Results:\n",
      "Rank 0(1e-07): A Report Writer For COBOL...\n",
      "Rank 1(1e-07): A CRT Report Generating System...\n",
      "Rank 2(1.7e-08): Preliminary Report-International Algebraic Languag...\n",
      "Rank 3(1.7e-08): Supplement to the ALGOL 60 Report...\n",
      "Rank 4(3.5e-09): ALGOL Sub-Committee Report - Extensions...\n"
     ]
    }
   ],
   "source": [
    "#### Function check\n",
    "test_naiveql = naive_ql_search(\"report \" * 10, index_set=1)[:5]\n",
    "print(f\"Naive QL Results:\")\n",
    "print_results(test_naiveql)\n",
    "####"
   ]
  },
  {
   "cell_type": "code",
   "execution_count": 40,
   "metadata": {},
   "outputs": [
    {
     "name": "stdout",
     "output_type": "stream",
     "text": [
      "Naive QL Results:\n",
      "Rank 0(0.0046): Supplement to the ALGOL 60 Report...\n",
      "Rank 1(0.0): Preliminary Report-International Algebraic Languag...\n",
      "Rank 2(0.0): Extraction of Roots by Repeated Subtractions for D...\n",
      "Rank 3(0.0): Techniques Department on Matrix Program Schemes...\n",
      "Rank 4(0.0): Glossary of Computer Engineering and Programming T...\n"
     ]
    }
   ],
   "source": [
    "#### Function check\n",
    "test_naiveql = naive_ql_search(\"report ALGOL Supplement\", index_set=1)[:5]\n",
    "print(f\"Naive QL Results:\")\n",
    "print_results(test_naiveql)\n",
    "####"
   ]
  },
  {
   "cell_type": "code",
   "execution_count": 41,
   "metadata": {},
   "outputs": [
    {
     "name": "stdout",
     "output_type": "stream",
     "text": [
      "Naive QL Results:\n",
      "Rank 0(0.2): A Report Writer For COBOL...\n",
      "Rank 1(0.2): A CRT Report Generating System...\n",
      "Rank 2(0.17): Preliminary Report-International Algebraic Languag...\n",
      "Rank 3(0.17): Supplement to the ALGOL 60 Report...\n",
      "Rank 4(0.14): ALGOL Sub-Committee Report - Extensions...\n"
     ]
    }
   ],
   "source": [
    "#### Function check\n",
    "test_naiveql = naive_ql_search(\"report xxdfsdfwedfscx\", index_set=1)[:5]\n",
    "print(f\"Naive QL Results:\")\n",
    "print_results(test_naiveql)\n",
    "####"
   ]
  },
  {
   "cell_type": "code",
   "execution_count": 42,
   "metadata": {
    "deletable": false,
    "editable": false,
    "nbgrader": {
     "cell_type": "code",
     "checksum": "799df1d81c63fe90edbb6c218fc707fb",
     "grade": true,
     "grade_id": "cell-80f4bf2137f997bb",
     "locked": true,
     "points": 2,
     "schema_version": 3,
     "solution": false,
     "task": false
    }
   },
   "outputs": [],
   "source": [
    "#### Please do not change this. This cell is used for grading."
   ]
  },
  {
   "cell_type": "code",
   "execution_count": 43,
   "metadata": {
    "deletable": false,
    "editable": false,
    "nbgrader": {
     "cell_type": "code",
     "checksum": "875a4a517d27e20625d41783cebec118",
     "grade": true,
     "grade_id": "cell-5ce2993458a8ce51",
     "locked": true,
     "points": 3,
     "schema_version": 3,
     "solution": false,
     "task": false
    }
   },
   "outputs": [],
   "source": [
    "#### Please do not change this. This cell is used for grading."
   ]
  },
  {
   "cell_type": "code",
   "execution_count": 44,
   "metadata": {
    "deletable": false,
    "editable": false,
    "nbgrader": {
     "cell_type": "code",
     "checksum": "d5c4e1c3852e71a46f32825b122f1b71",
     "grade": true,
     "grade_id": "cell-7753bdb54e292f3d",
     "locked": true,
     "points": 3,
     "schema_version": 3,
     "solution": false,
     "task": false
    }
   },
   "outputs": [],
   "source": [
    "#### Please do not change this. This cell is used for grading."
   ]
  },
  {
   "cell_type": "code",
   "execution_count": 45,
   "metadata": {
    "deletable": false,
    "editable": false,
    "nbgrader": {
     "cell_type": "code",
     "checksum": "c4d4332d4356e89ce0240f6b80e1899a",
     "grade": true,
     "grade_id": "cell-54e476e2f96e64bb",
     "locked": true,
     "points": 4,
     "schema_version": 3,
     "solution": false,
     "task": false
    }
   },
   "outputs": [],
   "source": [
    "#### Please do not change this. This cell is used for grading."
   ]
  },
  {
   "cell_type": "markdown",
   "metadata": {
    "deletable": false,
    "editable": false,
    "nbgrader": {
     "cell_type": "markdown",
     "checksum": "8d739dc91a22bd48897f603885f95a74",
     "grade": false,
     "grade_id": "cell-5414dfd69dab8b94",
     "locked": true,
     "schema_version": 3,
     "solution": false,
     "task": false
    }
   },
   "source": [
    "---\n",
    "#### 3.3.2 QL (20 points)\n",
    "Now, let's implement a QL model that handles the issues with the naive version. In particular, you will implement a QL model with Jelinek-Mercer Smoothing. That means an interpolated score is computed per word - one term is the same as the previous naive version, and the second term comes from a unigram language model. In addition, you should accumulate the scores by summing the **log** (smoothed) probability which leads to better numerical stability."
   ]
  },
  {
   "cell_type": "code",
   "execution_count": 46,
   "metadata": {
    "deletable": false,
    "nbgrader": {
     "cell_type": "code",
     "checksum": "b8c6abf937ad333e628f1db891f2e29e",
     "grade": false,
     "grade_id": "cell-bb1f506409771257",
     "locked": false,
     "schema_version": 3,
     "solution": true,
     "task": false
    }
   },
   "outputs": [],
   "source": [
    "def ql_search(query, index_set):\n",
    "    \"\"\"\n",
    "        Perform a search over all documents with the given query using a QL model \n",
    "        with Jelinek-Mercer Smoothing (set smoothing=0.1). \n",
    "        \n",
    "        \n",
    "        Note #1: You have to use the `get_index` (and get_doc_lengths) function created in the previous cells\n",
    "        Note #2: You might have to create some variables beforehand and use them in this function\n",
    "        \n",
    "        \n",
    "        Input: \n",
    "            query - a (unprocessed) query\n",
    "            index_set - the index to use\n",
    "        Output: a list of (document_id, score), sorted in descending relevance to the given query \n",
    "    \"\"\"\n",
    "    index = get_index(index_set)\n",
    "    doc_lengths = get_doc_lengths(index_set)\n",
    "    processed_query = preprocess_query(query, index_set)\n",
    "    \n",
    "    # Collection length\n",
    "    cl = sum(doc_lengths.values())\n",
    "    \n",
    "    # Set smoothing\n",
    "    smoothing = 0.1\n",
    "    \n",
    "    # Make a set of all involved documents\n",
    "    documents = set([z[0] for z in [y for x in index.values() for y in x]])\n",
    "    \n",
    "    # Specifiy defaultdict\n",
    "    scores = defaultdict(list)\n",
    "    \n",
    "    # For each term in query\n",
    "    for term in processed_query:\n",
    "        \n",
    "        # If term does not exist in vocab assign 0\n",
    "        if term not in index:\n",
    "            continue\n",
    "            \n",
    "        # Collect al doc_ids from documents in which term occurs\n",
    "        in_docs = [x[0] for x in index[term]]\n",
    "            \n",
    "        # Collection frequency of term\n",
    "        cft = sum([x[1] for x in index[term]])\n",
    "        \n",
    "        # Second term of score, as this term is indep. of document\n",
    "        colfrac = (1-smoothing)*cft/cl\n",
    "        \n",
    "        # For every document\n",
    "        for document in documents:\n",
    "            \n",
    "            # If term occurs in this document append probability\n",
    "            if document in in_docs:            \n",
    "                scores[document].append(np.log((smoothing*(index[term][in_docs.index(document)][1]/doc_lengths[document]))\n",
    "                                       + colfrac))\n",
    "                \n",
    "            # If term does not occur in document, append second part of equation\n",
    "            else:\n",
    "                scores[document].append(np.log(colfrac))\n",
    "    \n",
    "    # Score equals the logsum of all probabilities\n",
    "    # Note: log(𝑎)+log(𝑏)=log(𝑎𝑏)\n",
    "    scores.update({n: np.sum([float(y) for y in scores[n]]) for n in scores.keys()})\n",
    "    \n",
    "    # Sort and return list\n",
    "    return sorted(scores.items(), key=lambda x: x[1], reverse=True)"
   ]
  },
  {
   "cell_type": "code",
   "execution_count": 47,
   "metadata": {
    "deletable": false,
    "editable": false,
    "nbgrader": {
     "cell_type": "code",
     "checksum": "0b12a7f3355193a257fd9f5f69a66562",
     "grade": true,
     "grade_id": "cell-850e9d6369bcec32",
     "locked": true,
     "points": 4,
     "schema_version": 3,
     "solution": false,
     "task": false
    }
   },
   "outputs": [
    {
     "name": "stdout",
     "output_type": "stream",
     "text": [
      "Rank 0(-3.9): A Report Writer For COBOL...\n",
      "Rank 1(-3.9): A CRT Report Generating System...\n",
      "Rank 2(-4.1): Preliminary Report-International Algebraic Languag...\n",
      "Rank 3(-4.1): Supplement to the ALGOL 60 Report...\n",
      "Rank 4(-4.2): ALGOL Sub-Committee Report - Extensions...\n",
      "\n",
      "Rank 0(-3.9e+01): A Report Writer For COBOL...\n",
      "Rank 1(-3.9e+01): A CRT Report Generating System...\n",
      "Rank 2(-4.1e+01): Preliminary Report-International Algebraic Languag...\n",
      "Rank 3(-4.1e+01): Supplement to the ALGOL 60 Report...\n",
      "Rank 4(-4.2e+01): ALGOL Sub-Committee Report - Extensions...\n"
     ]
    }
   ],
   "source": [
    "#### Function check\n",
    "test_ql_results = ql_search(\"report\", index_set=1)[:5]\n",
    "print_results(test_ql_results)\n",
    "print()\n",
    "test_ql_results_long = ql_search(\"report \" * 10, index_set=1)[:5]\n",
    "print_results(test_ql_results_long)\n",
    "####"
   ]
  },
  {
   "cell_type": "code",
   "execution_count": 48,
   "metadata": {},
   "outputs": [
    {
     "name": "stdout",
     "output_type": "stream",
     "text": [
      "Rank 0(-1.2e+01): Supplement to the ALGOL 60 Report...\n",
      "Rank 1(-2e+01): ALGOL Sub-Committee Report - Extensions...\n",
      "Rank 2(-2e+01): Report on SUBSET ALGOL 60 (IFIP)...\n",
      "Rank 3(-2.1e+01): Report on Input-Output Procedures for ALGOL 60 (IF...\n",
      "Rank 4(-2.2e+01): Report on the Algorithmic Language ALGOL 60  .A\\n ...\n"
     ]
    }
   ],
   "source": [
    "#### Function check\n",
    "test_ql_results_long = ql_search(\"report ALGOL Supplement\", index_set=1)[:5]\n",
    "print_results(test_ql_results_long)\n",
    "####"
   ]
  },
  {
   "cell_type": "code",
   "execution_count": 49,
   "metadata": {
    "deletable": false,
    "editable": false,
    "nbgrader": {
     "cell_type": "code",
     "checksum": "e40be645140389c115849856145f5b59",
     "grade": true,
     "grade_id": "cell-958cdcf6fd6899b7",
     "locked": true,
     "points": 3,
     "schema_version": 3,
     "solution": false,
     "task": false
    }
   },
   "outputs": [],
   "source": [
    "#### Please do not change this. This cell is used for grading."
   ]
  },
  {
   "cell_type": "code",
   "execution_count": 50,
   "metadata": {
    "deletable": false,
    "editable": false,
    "nbgrader": {
     "cell_type": "code",
     "checksum": "41d4aff001df17e7963ba79b45810b30",
     "grade": true,
     "grade_id": "cell-384dc23a0c251f6e",
     "locked": true,
     "points": 4,
     "schema_version": 3,
     "solution": false,
     "task": false
    }
   },
   "outputs": [],
   "source": [
    "#### Please do not change this. This cell is used for grading."
   ]
  },
  {
   "cell_type": "code",
   "execution_count": 51,
   "metadata": {
    "deletable": false,
    "editable": false,
    "nbgrader": {
     "cell_type": "code",
     "checksum": "893e8c5a073abc8ebb763d267b91bc02",
     "grade": true,
     "grade_id": "cell-7218966cba5097cc",
     "locked": true,
     "points": 4,
     "schema_version": 3,
     "solution": false,
     "task": false
    }
   },
   "outputs": [],
   "source": [
    "#### Please do not change this. This cell is used for grading."
   ]
  },
  {
   "cell_type": "code",
   "execution_count": 52,
   "metadata": {
    "deletable": false,
    "editable": false,
    "nbgrader": {
     "cell_type": "code",
     "checksum": "f99cb6f8b1f5830aaed8f06712ff846e",
     "grade": true,
     "grade_id": "cell-481ab073259ae53f",
     "locked": true,
     "points": 5,
     "schema_version": 3,
     "solution": false,
     "task": false
    }
   },
   "outputs": [],
   "source": [
    "#### Please do not change this. This cell is used for grading."
   ]
  },
  {
   "cell_type": "markdown",
   "metadata": {
    "deletable": false,
    "editable": false,
    "nbgrader": {
     "cell_type": "markdown",
     "checksum": "c02f14705d679579b1aa9f78f54779d5",
     "grade": false,
     "grade_id": "cell-f44088bfdac1dc90",
     "locked": true,
     "schema_version": 3,
     "solution": false,
     "task": false
    }
   },
   "source": [
    "--- \n",
    "\n",
    "### Section 3.4: BM25 (20 points) <a class=\"anchor\" id=\"bm25\"></a>\n",
    "\n",
    "In this section, we will implement the BM25 scoring function. \n"
   ]
  },
  {
   "cell_type": "code",
   "execution_count": 53,
   "metadata": {
    "deletable": false,
    "nbgrader": {
     "cell_type": "code",
     "checksum": "e57efe06ea92af1c83784a42eb3d86e0",
     "grade": false,
     "grade_id": "cell-15640fc9b5d00a3c",
     "locked": false,
     "schema_version": 3,
     "solution": true,
     "task": false
    }
   },
   "outputs": [],
   "source": [
    "def bm25_search(query, index_set):\n",
    "    \"\"\"\n",
    "        Perform a search over all documents with the given query using BM25. Use k_1 = 1.5 and b = 0.75\n",
    "        Note #1: You have to use the `get_index` (and `get_doc_lengths`) function created in the previous cells\n",
    "        Note #2: You might have to create some variables beforehand and use them in this function\n",
    "        \n",
    "        Input: \n",
    "            query - a (unprocessed) query\n",
    "            index_set - the index to use\n",
    "        Output: a list of (document_id, score), sorted in descending relevance to the given query \n",
    "    \"\"\"\n",
    "    index = get_index(index_set)\n",
    "    df = get_df(index_set)\n",
    "    doc_lengths = get_doc_lengths(index_set)\n",
    "    processed_query = preprocess_query(query, index_set)\n",
    "    \n",
    "    k_1 = 1.5\n",
    "    b = 0.75\n",
    "    N = len(doc_lengths)\n",
    "    avdl = sum(doc_lengths.values()) / N\n",
    "    \n",
    "    scores = dict({key: 0 for key in doc_lengths.keys()})\n",
    "    for token in processed_query:\n",
    "        inv_list = index[token]\n",
    "        for doc_id, tf in inv_list:\n",
    "            idf = np.log(N/df[token])\n",
    "            second_part = (k_1 * tf) / (k_1 * ((1 - b) + b * doc_lengths[doc_id] / avdl) + tf)\n",
    "            scores[doc_id] += idf * second_part\n",
    "            \n",
    "    return [(d, float(s)) for d, s in sorted(scores.items(), key=lambda t: t[1], reverse=True)]"
   ]
  },
  {
   "cell_type": "code",
   "execution_count": 54,
   "metadata": {
    "deletable": false,
    "editable": false,
    "nbgrader": {
     "cell_type": "code",
     "checksum": "4be9de5d4e94637960d83725422bea6c",
     "grade": true,
     "grade_id": "cell-d10536bca72c74b1",
     "locked": true,
     "points": 3,
     "schema_version": 3,
     "solution": false,
     "task": false
    }
   },
   "outputs": [
    {
     "name": "stdout",
     "output_type": "stream",
     "text": [
      "Rank 0(4.0): A Report Writer For COBOL...\n",
      "Rank 1(4.0): A CRT Report Generating System...\n",
      "Rank 2(4.0): Preliminary Report-International Algebraic Languag...\n",
      "Rank 3(4.0): Supplement to the ALGOL 60 Report...\n",
      "Rank 4(3.9): ALGOL Sub-Committee Report - Extensions...\n"
     ]
    }
   ],
   "source": [
    "#### Function check\n",
    "test_bm25_results = bm25_search(\"report\", index_set=1)[:5]\n",
    "print_results(test_bm25_results)\n",
    "####"
   ]
  },
  {
   "cell_type": "code",
   "execution_count": 55,
   "metadata": {
    "deletable": false,
    "editable": false,
    "nbgrader": {
     "cell_type": "code",
     "checksum": "31b550d6a46ae4f8ede88788799ac2b9",
     "grade": true,
     "grade_id": "cell-60f6ec5052712d79",
     "locked": true,
     "points": 5,
     "schema_version": 3,
     "solution": false,
     "task": false
    }
   },
   "outputs": [],
   "source": [
    "#### Please do not change this. This cell is used for grading."
   ]
  },
  {
   "cell_type": "code",
   "execution_count": 56,
   "metadata": {
    "deletable": false,
    "editable": false,
    "nbgrader": {
     "cell_type": "code",
     "checksum": "3da2ec16bfe781916e71755d65aa2983",
     "grade": true,
     "grade_id": "cell-5d17524043a5abcc",
     "locked": true,
     "points": 5,
     "schema_version": 3,
     "solution": false,
     "task": false
    }
   },
   "outputs": [],
   "source": [
    "#### Please do not change this. This cell is used for grading."
   ]
  },
  {
   "cell_type": "code",
   "execution_count": 57,
   "metadata": {
    "deletable": false,
    "editable": false,
    "nbgrader": {
     "cell_type": "code",
     "checksum": "e7b563d54fa84c20909c0ae107010541",
     "grade": true,
     "grade_id": "cell-ff8e704eda1184e3",
     "locked": true,
     "points": 3,
     "schema_version": 3,
     "solution": false,
     "task": false
    }
   },
   "outputs": [],
   "source": [
    "#### Please do not change this. This cell is used for grading."
   ]
  },
  {
   "cell_type": "code",
   "execution_count": 58,
   "metadata": {
    "deletable": false,
    "editable": false,
    "nbgrader": {
     "cell_type": "code",
     "checksum": "b013f90974b396630a8831d6f1d7e5f7",
     "grade": true,
     "grade_id": "cell-a52310500a2543cb",
     "locked": true,
     "points": 4,
     "schema_version": 3,
     "solution": false,
     "task": false
    }
   },
   "outputs": [],
   "source": [
    "#### Please do not change this. This cell is used for grading."
   ]
  },
  {
   "cell_type": "markdown",
   "metadata": {
    "deletable": false,
    "editable": false,
    "nbgrader": {
     "cell_type": "markdown",
     "checksum": "8fcf67cb7d5e8b26cb9bf1f0aa42c847",
     "grade": false,
     "grade_id": "cell-8b2b412c81d62f2d",
     "locked": true,
     "schema_version": 3,
     "solution": false,
     "task": false
    }
   },
   "source": [
    "\n",
    "---\n",
    "\n",
    "### 3.5. Test Your Functions\n",
    "\n",
    "The widget below allows you to play with the search functions you've written so far. Use this to test your search functions and ensure that they work as expected."
   ]
  },
  {
   "cell_type": "code",
   "execution_count": 59,
   "metadata": {
    "deletable": false,
    "editable": false,
    "nbgrader": {
     "cell_type": "code",
     "checksum": "dfeb204b390acc0794dbdcac92b0cf2c",
     "grade": false,
     "grade_id": "cell-c9c2bb76354e8d97",
     "locked": true,
     "schema_version": 3,
     "solution": false,
     "task": false
    }
   },
   "outputs": [],
   "source": [
    "#### Highlighter function\n",
    "# class for results\n",
    "ResultRow = namedtuple(\"ResultRow\", [\"doc_id\", \"snippet\", \"score\"])\n",
    "# doc_id -> doc\n",
    "docs_by_id = dict((d[0], d[1]) for d in docs)\n",
    "\n",
    "def highlight_text(document, query, tol=17):\n",
    "    import re\n",
    "    tokens = tokenize(query)\n",
    "    regex = \"|\".join(f\"(\\\\b{t}\\\\b)\" for t in tokens)\n",
    "    regex = re.compile(regex, flags=re.IGNORECASE)\n",
    "    output = \"\"\n",
    "    i = 0\n",
    "    for m in regex.finditer(document):\n",
    "        start_idx = max(0, m.start() - tol)\n",
    "        end_idx = min(len(document), m.end() + tol)\n",
    "        output += \"\".join([\"...\",\n",
    "                        document[start_idx:m.start()],\n",
    "                        \"<strong>\",\n",
    "                        document[m.start():m.end()],\n",
    "                        \"</strong>\",\n",
    "                        document[m.end():end_idx],\n",
    "                        \"...\"])\n",
    "    return output.replace(\"\\n\", \" \")\n",
    "\n",
    "\n",
    "def make_results(query, search_fn, index_set):\n",
    "    results = []\n",
    "    for doc_id, score in search_fn(query, index_set):\n",
    "        highlight = highlight_text(docs_by_id[doc_id], query)\n",
    "        if len(highlight.strip()) == 0:\n",
    "            highlight = docs_by_id[doc_id]\n",
    "        results.append(ResultRow(doc_id, highlight, score))\n",
    "    return results\n",
    "####"
   ]
  },
  {
   "cell_type": "code",
   "execution_count": 60,
   "metadata": {},
   "outputs": [
    {
     "data": {
      "application/vnd.jupyter.widget-view+json": {
       "model_id": "f29ea8e13cbb4936a06924ef9adba3d7",
       "version_major": 2,
       "version_minor": 0
      },
      "text/plain": [
       "Text(value='', description='Search Bar')"
      ]
     },
     "metadata": {},
     "output_type": "display_data"
    }
   ],
   "source": [
    "# this function should take in a query (string)\n",
    "# and return a sorted list of (doc_id, score) \n",
    "# with the most relevant document in the first position\n",
    "search_fn = bm25_search\n",
    "index_set = 1\n",
    "\n",
    "text = widgets.Text(description=\"Search Bar\", width=200)\n",
    "display(text)\n",
    "\n",
    "def handle_submit(sender):\n",
    "    print(f\"Searching for: '{sender.value}'\")\n",
    "    \n",
    "    results = make_results(sender.value, search_fn, index_set)\n",
    "    \n",
    "    # display only the top 5\n",
    "    results = results[:5]\n",
    "    body = \"\"\n",
    "    for idx, r in enumerate(results):\n",
    "        body += f\"<li>Document #{r.doc_id}({r.score}): {r.snippet}</li>\"\n",
    "    display(HTML(f\"<ul>{body}</ul>\"))\n",
    "text.on_submit(handle_submit)"
   ]
  },
  {
   "cell_type": "markdown",
   "metadata": {
    "deletable": false,
    "editable": false,
    "nbgrader": {
     "cell_type": "markdown",
     "checksum": "b315c280048a50e8bad7d6250f6f39d1",
     "grade": false,
     "grade_id": "cell-8d46fe8e4f3d8cdb",
     "locked": true,
     "schema_version": 3,
     "solution": false,
     "task": false
    }
   },
   "source": [
    "---\n",
    "\n",
    "## Section 4: Evaluation (40 points) <a class=\"anchor\" id=\"evaluation\"></a>\n",
    "\n",
    "[Back to Part 1](#part1)\n",
    "\n",
    "Before we jump in and implement an algorithm for retrieval, we first have to learn how to evaluate such a system. In particular, we will work with offline evaluation metrics. These metrics are computed on a dataset with known relevance judgements.\n",
    "\n",
    "Implement the following evaluation metrics. \n",
    "\n",
    "1. Precision (7 points)\n",
    "2. Recall (7 points)\n",
    "3. Mean Average Precision (12 points)\n",
    "4. Expected Reciprocal Rank (12 points)"
   ]
  },
  {
   "cell_type": "markdown",
   "metadata": {
    "deletable": false,
    "editable": false,
    "nbgrader": {
     "cell_type": "markdown",
     "checksum": "82e90076c51893e31fec5c40c49d1828",
     "grade": false,
     "grade_id": "cell-3419fd3bc663d7cc",
     "locked": true,
     "schema_version": 3,
     "solution": false,
     "task": false
    }
   },
   "source": [
    "---\n",
    "### 4.1 Read relevance labels (2 points)\n",
    "\n",
    "Let's take a look at the `qrels.text` file, which contains the ground truth relevance scores. The relevance labels for CACM are binary - either 0 or 1. \n"
   ]
  },
  {
   "cell_type": "code",
   "execution_count": 61,
   "metadata": {
    "deletable": false,
    "editable": false,
    "nbgrader": {
     "cell_type": "code",
     "checksum": "6c11025f5a222796f2882c73c1634799",
     "grade": false,
     "grade_id": "cell-6b738366059dde9e",
     "locked": true,
     "schema_version": 3,
     "solution": false,
     "task": false
    }
   },
   "outputs": [
    {
     "name": "stderr",
     "output_type": "stream",
     "text": [
      "'head' is not recognized as an internal or external command,\n",
      "operable program or batch file.\n"
     ]
    }
   ],
   "source": [
    "!head ./datasets/qrels.text"
   ]
  },
  {
   "cell_type": "markdown",
   "metadata": {
    "deletable": false,
    "editable": false,
    "nbgrader": {
     "cell_type": "markdown",
     "checksum": "e77d7cc6aae69fdbadb5ac9f78f8a560",
     "grade": false,
     "grade_id": "cell-10e16bff2753ffbb",
     "locked": true,
     "schema_version": 3,
     "solution": false,
     "task": false
    }
   },
   "source": [
    "---\n",
    "**Implementation (2 points):**\n",
    "The first column is the query_id and the second column is the document_id. You can safely ignore the 3rd and 4th columns. Write a function to read in the file:"
   ]
  },
  {
   "cell_type": "code",
   "execution_count": 62,
   "metadata": {
    "deletable": false,
    "nbgrader": {
     "cell_type": "code",
     "checksum": "ef347565a0990ddbd049835105753d59",
     "grade": false,
     "grade_id": "cell-ee5253a4ef602fce",
     "locked": false,
     "schema_version": 3,
     "solution": true,
     "task": false
    }
   },
   "outputs": [],
   "source": [
    "def read_qrels(root_folder = \"./datasets/\"):\n",
    "    \"\"\"\n",
    "        Reads the qrels.text file. \n",
    "        Output: A dictionary: query_id -> [list of relevant documents]\n",
    "    \"\"\"\n",
    "    path = root_folder + \"qrels.text\"\n",
    "    queries = {}\n",
    "    \n",
    "    # Open and split document into lines\n",
    "    with open(path, 'r') as file:\n",
    "        q_list = file.read().splitlines()\n",
    "    \n",
    "    # Save each query and add relevant documents\n",
    "    for q in q_list:\n",
    "        query_id, document_id, _, _ = [int(i) for i in q.split()]\n",
    "        if query_id not in queries:\n",
    "            queries[query_id] = []\n",
    "        queries[query_id].append(document_id)\n",
    "        \n",
    "    return queries"
   ]
  },
  {
   "cell_type": "code",
   "execution_count": 63,
   "metadata": {
    "deletable": false,
    "editable": false,
    "nbgrader": {
     "cell_type": "code",
     "checksum": "6a258a834392cc8cbf8af5d4ccdee81f",
     "grade": true,
     "grade_id": "cell-72215605fbe24f65",
     "locked": true,
     "points": 2,
     "schema_version": 3,
     "solution": false,
     "task": false
    }
   },
   "outputs": [],
   "source": [
    "#### Function check\n",
    "qrels = read_qrels()\n",
    "\n",
    "assert len(qrels) == 52, \"There should be 52 queries with relevance judgements\"\n",
    "assert sum(len(j) for j in qrels.values()) == 796, \"There should be a total of 796 Relevance Judgements\"\n",
    "####"
   ]
  },
  {
   "cell_type": "markdown",
   "metadata": {
    "deletable": false,
    "editable": false,
    "nbgrader": {
     "cell_type": "markdown",
     "checksum": "6c9e7428a52e291a2cdf92a379730d4c",
     "grade": false,
     "grade_id": "cell-176a6fb2939d0420",
     "locked": true,
     "schema_version": 3,
     "solution": false,
     "task": false
    }
   },
   "source": [
    "---\n",
    "**Note:** For a given query `query_id`, you can assume that documents *not* in `qrels[query_id]` are not relevant to `query_id`. \n"
   ]
  },
  {
   "cell_type": "markdown",
   "metadata": {
    "deletable": false,
    "editable": false,
    "nbgrader": {
     "cell_type": "markdown",
     "checksum": "b26a818c7b4f7ad490e00b35ea0edd69",
     "grade": false,
     "grade_id": "cell-bd8341b72cdd89bb",
     "locked": true,
     "schema_version": 3,
     "solution": false,
     "task": false
    }
   },
   "source": [
    "---\n",
    "### 4.2 Precision (7 points)\n",
    "Implement the `precision@k` metric:"
   ]
  },
  {
   "cell_type": "code",
   "execution_count": 64,
   "metadata": {
    "deletable": false,
    "nbgrader": {
     "cell_type": "code",
     "checksum": "ad3cc3234a361d269ecb6b59cc447e9f",
     "grade": false,
     "grade_id": "cell-494bd0cce108ed67",
     "locked": false,
     "schema_version": 3,
     "solution": true,
     "task": false
    }
   },
   "outputs": [],
   "source": [
    "def precision_k(results, relevant_docs, k):\n",
    "    \"\"\"\n",
    "        Compute Precision@K\n",
    "        Input: \n",
    "            results: A sorted list of 2-tuples (document_id, score), \n",
    "                    with the most relevant document in the first position\n",
    "            relevant_docs: A set of relevant documents. \n",
    "            k: the cut-off\n",
    "        Output: Precision@K\n",
    "    \"\"\"\n",
    "    results = set([d[0] for d in results[:k]])\n",
    "    relevant_docs = set(relevant_docs)\n",
    "    TP = relevant_docs.intersection(results)\n",
    "    return len(TP) / k"
   ]
  },
  {
   "cell_type": "code",
   "execution_count": 65,
   "metadata": {
    "deletable": false,
    "editable": false,
    "nbgrader": {
     "cell_type": "code",
     "checksum": "964b214dbfff8fc53cada864019ee863",
     "grade": true,
     "grade_id": "cell-e7ff0d91c319ca64",
     "locked": true,
     "points": 7,
     "schema_version": 3,
     "solution": false,
     "task": false
    }
   },
   "outputs": [
    {
     "name": "stdout",
     "output_type": "stream",
     "text": [
      "query:What articles exist which deal with TSS (Time Sharing System), an  operating system for IBM computers?\n",
      "precision@10 = 0.2\n"
     ]
    }
   ],
   "source": [
    "#### Function check\n",
    "qid = queries[0][0]\n",
    "qtext = queries[0][1]\n",
    "print(f'query:{qtext}')\n",
    "results = bm25_search(qtext, 2)\n",
    "precision = precision_k(results, qrels[qid], 10)\n",
    "print(f'precision@10 = {precision}')\n",
    "####"
   ]
  },
  {
   "cell_type": "markdown",
   "metadata": {
    "deletable": false,
    "editable": false,
    "nbgrader": {
     "cell_type": "markdown",
     "checksum": "8fd3b3998197c7097a40348500affb68",
     "grade": false,
     "grade_id": "cell-afd95f865bc7191e",
     "locked": true,
     "schema_version": 3,
     "solution": false,
     "task": false
    }
   },
   "source": [
    "---\n",
    "### 4.3 Recall (7 points)\n",
    "Implement the `recall@k` metric:"
   ]
  },
  {
   "cell_type": "code",
   "execution_count": 66,
   "metadata": {
    "deletable": false,
    "nbgrader": {
     "cell_type": "code",
     "checksum": "b2020e5741ae03b3fe35817ed8f4ccaa",
     "grade": false,
     "grade_id": "cell-c323fc8c3f8a7cf8",
     "locked": false,
     "schema_version": 3,
     "solution": true,
     "task": false
    }
   },
   "outputs": [],
   "source": [
    "def recall_k(results, relevant_docs, k):\n",
    "    \"\"\"\n",
    "        Compute Recall@K\n",
    "        Input: \n",
    "            results: A sorted list of 2-tuples (document_id, score), with the most relevant document in the first position\n",
    "            relevant_docs: A set of relevant documents. \n",
    "            k: the cut-off\n",
    "        Output: Recall@K\n",
    "    \"\"\"\n",
    "    results = set([d[0] for d in results[:k]])\n",
    "    relevant_docs = set(relevant_docs)\n",
    "    TP = relevant_docs.intersection(results)\n",
    "    return len(TP) / len(relevant_docs)"
   ]
  },
  {
   "cell_type": "code",
   "execution_count": 67,
   "metadata": {
    "deletable": false,
    "editable": false,
    "nbgrader": {
     "cell_type": "code",
     "checksum": "56b6e0b8522f8b2dffbfb3206b2efa84",
     "grade": true,
     "grade_id": "cell-b25172161aef165c",
     "locked": true,
     "points": 7,
     "schema_version": 3,
     "solution": false,
     "task": false
    }
   },
   "outputs": [
    {
     "name": "stdout",
     "output_type": "stream",
     "text": [
      "query:SETL, Very High Level Languages \n",
      "recall@10 = 0.3157894736842105\n"
     ]
    }
   ],
   "source": [
    "#### Function check\n",
    "qid = queries[10][0]\n",
    "qtext = queries[10][1]\n",
    "print(f'query:{qtext}')\n",
    "results = bm25_search(qtext, 2)\n",
    "recall = recall_k(results, qrels[qid], 10)\n",
    "print(f'recall@10 = {recall}')\n",
    "####"
   ]
  },
  {
   "cell_type": "markdown",
   "metadata": {
    "deletable": false,
    "editable": false,
    "nbgrader": {
     "cell_type": "markdown",
     "checksum": "d43c63fa38f333e0b52d41639b2655f7",
     "grade": false,
     "grade_id": "cell-77fd2e7a39a74739",
     "locked": true,
     "schema_version": 3,
     "solution": false,
     "task": false
    }
   },
   "source": [
    "---\n",
    "### 4.4 Mean Average Precision (12 points)\n",
    "Implement the `map` metric:"
   ]
  },
  {
   "cell_type": "code",
   "execution_count": 68,
   "metadata": {
    "deletable": false,
    "nbgrader": {
     "cell_type": "code",
     "checksum": "aae2c62f2ffd76f5b6c004e9519b9f14",
     "grade": false,
     "grade_id": "cell-e50925fa9093a30d",
     "locked": false,
     "schema_version": 3,
     "solution": true,
     "task": false
    }
   },
   "outputs": [],
   "source": [
    "# TODO: Implement this! (12 points)\n",
    "def average_precision(results, relevant_docs):\n",
    "    \"\"\"\n",
    "        Compute Average Precision (for a single query - the results are \n",
    "        averaged across queries to get MAP in the next few cells)\n",
    "        Hint: You can use the recall_k and precision_k functions here!\n",
    "        Input: \n",
    "            results: A sorted list of 2-tuples (document_id, score), with the most \n",
    "                    relevant document in the first position\n",
    "            relevant_docs: A set of relevant documents. \n",
    "        Output: Average Precision\n",
    "    \"\"\"\n",
    "    ap = 0\n",
    "    found = 0\n",
    "    for i in range(len(results)):\n",
    "        \n",
    "        # Compute precisions at relevant documents\n",
    "        if results[i][0] in relevant_docs:\n",
    "            ap += precision_k(results, relevant_docs, i+1)\n",
    "            found += 1\n",
    "            \n",
    "        # Stop early in case we already found all relevant documents\n",
    "        if found > len(relevant_docs):\n",
    "            break\n",
    "            \n",
    "    return ap / len(relevant_docs)"
   ]
  },
  {
   "cell_type": "code",
   "execution_count": 69,
   "metadata": {
    "deletable": false,
    "editable": false,
    "nbgrader": {
     "cell_type": "code",
     "checksum": "5db8cb2dfd3a77554f4147b409f47f38",
     "grade": true,
     "grade_id": "cell-8a1f7ec98571e58b",
     "locked": true,
     "points": 12,
     "schema_version": 3,
     "solution": false,
     "task": false
    }
   },
   "outputs": [
    {
     "name": "stdout",
     "output_type": "stream",
     "text": [
      "query:computational complexity, intractability, class-complete reductions,  algorithms and efficiency\n",
      "MAP = 0.17240404110559454\n"
     ]
    }
   ],
   "source": [
    "#### Function check\n",
    "qid = queries[20][0]\n",
    "qtext = queries[20][1]\n",
    "print(f'query:{qtext}')\n",
    "results = bm25_search(qtext, 2)\n",
    "mean_ap = average_precision(results, qrels[qid])\n",
    "print(f'MAP = {mean_ap}')\n",
    "####"
   ]
  },
  {
   "cell_type": "markdown",
   "metadata": {
    "deletable": false,
    "editable": false,
    "nbgrader": {
     "cell_type": "markdown",
     "checksum": "cb645b79d04cc3eed33ca060a5e7bf0f",
     "grade": false,
     "grade_id": "cell-1da18f0fe6f6d7be",
     "locked": true,
     "schema_version": 3,
     "solution": false,
     "task": false
    }
   },
   "source": [
    "---\n",
    "### 4.5 Expected Reciprocal Rank (12 points)\n",
    "Implement the `err` metric:"
   ]
  },
  {
   "cell_type": "code",
   "execution_count": 70,
   "metadata": {
    "deletable": false,
    "nbgrader": {
     "cell_type": "code",
     "checksum": "9ac94db728e23ea1f5dc0d509473c6fb",
     "grade": false,
     "grade_id": "cell-64262889f9b267ea",
     "locked": false,
     "schema_version": 3,
     "solution": true,
     "task": false
    }
   },
   "outputs": [],
   "source": [
    "def err(results, relevant_docs):\n",
    "    \"\"\"\n",
    "        Compute the expected reciprocal rank.\n",
    "        Hint: https://dl.acm.org/doi/pdf/10.1145/1645953.1646033?download=true\n",
    "        Input: \n",
    "            results: A sorted list of 2-tuples (document_id, score), with the most \n",
    "                    relevant document in the first position\n",
    "            relevant_docs: A set of relevant documents. \n",
    "        Output: ERR\n",
    "        \n",
    "    \"\"\"\n",
    "    ERR = 0\n",
    "    \n",
    "    # Relevance probabilities are constant because of binary grading\n",
    "    # 0.5 for relevant documents and 0 for non-relevant ones\n",
    "    rel_prob = 0.5\n",
    "    rel_count = 0\n",
    "    for r in range(len(results)):\n",
    "        doc_id = results[r][0]\n",
    "        \n",
    "        # We only have to compute for relevant documents as\n",
    "        # non-relevant documents zero out the product\n",
    "        if doc_id in relevant_docs:\n",
    "            rel_count += 1\n",
    "            \n",
    "            # (1-0) = 1, so non-relevant documents don't matter\n",
    "            # (1-0.5) = 0.5, so all relevant documents worth the same as the r-th one\n",
    "            ERR += np.power(rel_prob, rel_count) / (r+1)\n",
    "            \n",
    "    return ERR"
   ]
  },
  {
   "cell_type": "code",
   "execution_count": 71,
   "metadata": {
    "deletable": false,
    "editable": false,
    "nbgrader": {
     "cell_type": "code",
     "checksum": "eb97e6d89a0b992b642e4e0ff36ff9f5",
     "grade": true,
     "grade_id": "cell-071e3970ff1afae4",
     "locked": true,
     "points": 12,
     "schema_version": 3,
     "solution": false,
     "task": false
    }
   },
   "outputs": [
    {
     "name": "stdout",
     "output_type": "stream",
     "text": [
      "query:I'd like to find articles describing the use of singular value decomposition  in digital image processing.  Applications include finding approximations to the original image and restoring images that are subject to noise. An article on the subject is H.C. Andrews and C.L. Patterson \"Outer product expansions and their uses in digital image processing\", American Mathematical Monthly, vol. 82. .A Andrews, H.C. Patterson, C.L.\n",
      "ERR = 0.625\n"
     ]
    }
   ],
   "source": [
    "#### Function check\n",
    "qid = queries[30][0]\n",
    "qtext = queries[30][1]\n",
    "print(f'query:{qtext}')\n",
    "results = bm25_search(qtext, 2)\n",
    "ERR = err(results, qrels[qid])\n",
    "print(f'ERR = {ERR}')\n",
    "####"
   ]
  },
  {
   "cell_type": "code",
   "execution_count": 72,
   "metadata": {},
   "outputs": [],
   "source": [
    "#### Function check\n",
    "sample_results = [(i,None) for i in [4,0,1,17,2,5,6,13,9,10,8,20,3,15,16]]\n",
    "sample_qrel = [1,8,5,13,15,2]\n",
    "assert precision_k(sample_results, sample_qrel, 1) == 0., \"precision_k should equal 0.\"\n",
    "assert precision_k(sample_results, sample_qrel, 5) == 0.4, \"precision_k should equal 0.4\"\n",
    "assert precision_k(sample_results, sample_qrel, 10) == 0.4, \"precision_k should equal 0.4\"\n",
    "assert precision_k(sample_results, sample_qrel, 20) == 0.3, \"precision_k should equal 0.3\"\n",
    "assert recall_k(sample_results, sample_qrel, 1) == 0., \"recall_k should equal 0.\"\n",
    "assert np.allclose(recall_k(sample_results, sample_qrel, 5), 1./3.)\n",
    "assert np.allclose(recall_k(sample_results, sample_qrel, 10), 2./3.)\n",
    "assert recall_k(sample_results, sample_qrel, 20) == 1.\n",
    "assert np.allclose(average_precision(sample_results, sample_qrel), 0.436, 0.001)\n",
    "assert np.allclose(err(sample_results, sample_qrel), 0.2492, 0.001)"
   ]
  },
  {
   "cell_type": "markdown",
   "metadata": {
    "deletable": false,
    "editable": false,
    "nbgrader": {
     "cell_type": "markdown",
     "checksum": "5bd94caf77cfa5f34675df758d91002d",
     "grade": false,
     "grade_id": "cell-43709a765f353946",
     "locked": true,
     "schema_version": 3,
     "solution": false,
     "task": false
    }
   },
   "source": [
    "---\n",
    "### 4.6 Evaluate Search Functions\n",
    "\n",
    "Let's define some metrics@k using [partial functions](https://docs.python.org/3/library/functools.html#functools.partial)"
   ]
  },
  {
   "cell_type": "code",
   "execution_count": 73,
   "metadata": {
    "deletable": false,
    "editable": false,
    "nbgrader": {
     "cell_type": "code",
     "checksum": "49ccc158e5fb7340ace55e90eeb9d62a",
     "grade": false,
     "grade_id": "cell-dab560e18e340da8",
     "locked": true,
     "schema_version": 3,
     "solution": false,
     "task": false
    }
   },
   "outputs": [],
   "source": [
    "#### metrics@k functions\n",
    "\n",
    "recall_at_1 = partial(recall_k, k=1)\n",
    "recall_at_5 = partial(recall_k, k=5)\n",
    "recall_at_10 = partial(recall_k, k=10)\n",
    "precision_at_1 = partial(precision_k, k=1)\n",
    "precision_at_5 = partial(precision_k, k=5)\n",
    "precision_at_10 = partial(precision_k, k=10)\n",
    "\n",
    "\n",
    "list_of_metrics = [\n",
    "    (\"ERR\", err),\n",
    "    (\"MAP\", average_precision),\n",
    "    (\"Recall@1\",recall_at_1),\n",
    "    (\"Recall@5\", recall_at_5),\n",
    "    (\"Recall@10\", recall_at_10),\n",
    "    (\"Precision@1\", precision_at_1),\n",
    "    (\"Precision@5\", precision_at_5),\n",
    "    (\"Precision@10\", precision_at_10)]\n",
    "####"
   ]
  },
  {
   "cell_type": "markdown",
   "metadata": {
    "deletable": false,
    "editable": false,
    "nbgrader": {
     "cell_type": "markdown",
     "checksum": "fb541002c03221b453b8936290020ea5",
     "grade": false,
     "grade_id": "cell-580a2bdc66d03b47",
     "locked": true,
     "schema_version": 3,
     "solution": false,
     "task": false
    }
   },
   "source": [
    "---\n",
    "\n",
    "The following function evaluates a `search_fn` using the `metric_fn`. Note that the final number is averaged over all the queries"
   ]
  },
  {
   "cell_type": "code",
   "execution_count": 74,
   "metadata": {},
   "outputs": [],
   "source": [
    "#### Evaluate a search function\n",
    "\n",
    "list_of_search_fns = [\n",
    "    (\"BOW\", bow_search),\n",
    "    (\"TF-IDF\", tfidf_search),\n",
    "    (\"NaiveQL\", naive_ql_search),\n",
    "    (\"QL\", ql_search),\n",
    "    (\"BM25\", bm25_search)\n",
    "]\n",
    "\n",
    "def evaluate_search_fn(search_fn, metric_fns, index_set=None):\n",
    "    # build a dict query_id -> query \n",
    "    queries_by_id = dict((q[0], q[1]) for q in queries)\n",
    "    \n",
    "    metrics = {}\n",
    "    for metric, metric_fn in metric_fns:\n",
    "        metrics[metric] = np.zeros(len(qrels), dtype=np.float32)\n",
    "    \n",
    "    for i, (query_id, relevant_docs) in enumerate(qrels.items()):\n",
    "        query = queries_by_id[query_id]\n",
    "        if index_set:\n",
    "            results = search_fn(query, index_set)\n",
    "        else:\n",
    "            results = search_fn(query)\n",
    "        \n",
    "        for metric, metric_fn in metric_fns:\n",
    "            metrics[metric][i] = metric_fn(results, relevant_docs)\n",
    "    \n",
    "    final_dict = {}\n",
    "    for metric, metric_vals in metrics.items():\n",
    "        final_dict[metric] = metric_vals.mean()\n",
    "    return final_dict\n",
    "####"
   ]
  },
  {
   "cell_type": "markdown",
   "metadata": {
    "deletable": false,
    "editable": false,
    "nbgrader": {
     "cell_type": "markdown",
     "checksum": "6ea67534f74a8f81e1f504794f641709",
     "grade": false,
     "grade_id": "cell-b156d83a0649cbb4",
     "locked": true,
     "schema_version": 3,
     "solution": false,
     "task": false
    }
   },
   "source": [
    "## Section 5: Analysis (30 points) <a class=\"anchor\" id=\"analysis\"></a>\n",
    "\n",
    "[Back to Part 1](#part1)\n",
    "\n",
    "In the final section of Part1, we will compare the different term-based IR algorithms and different preprocessing configurations and analyze their advantages and disadvantages.\n",
    "\n",
    "### Section 5.1: Plot (20 points)\n",
    "\n",
    "First, gather the results. The results should consider the index set, the different search functions and different metrics. Plot the results in bar charts, per metric, with clear labels.\n",
    "\n",
    "**Rubric:**\n",
    "- Each Metric is plotted: 7 points\n",
    "- Each Method is plotted: 7 points\n",
    "- Clear titles, x label, y labels and legends (if applicable): 6 points"
   ]
  },
  {
   "cell_type": "code",
   "execution_count": 75,
   "metadata": {
    "deletable": false,
    "nbgrader": {
     "cell_type": "code",
     "checksum": "7e2588a925d13ddf588abe8311dc9cfc",
     "grade": true,
     "grade_id": "cell-46fda42a25863a04",
     "locked": false,
     "points": 20,
     "schema_version": 3,
     "solution": true,
     "task": false
    },
    "scrolled": true
   },
   "outputs": [
    {
     "name": "stderr",
     "output_type": "stream",
     "text": [
      "c:\\users\\sarah-jane\\documents\\infovis\\lib\\site-packages\\ipykernel_launcher.py:58: RuntimeWarning: divide by zero encountered in log\n"
     ]
    },
    {
     "data": {
      "image/png": "[encoded data removed]",
      "text/plain": [
       "<Figure size 432x288 with 1 Axes>"
      ]
     },
     "metadata": {
      "needs_background": "light"
     },
     "output_type": "display_data"
    },
    {
     "data": {
      "image/png": "[encoded data removed]",
      "text/plain": [
       "<Figure size 432x288 with 1 Axes>"
      ]
     },
     "metadata": {
      "needs_background": "light"
     },
     "output_type": "display_data"
    },
    {
     "data": {
      "image/png": "[encoded data removed]",
      "text/plain": [
       "<Figure size 432x288 with 1 Axes>"
      ]
     },
     "metadata": {
      "needs_background": "light"
     },
     "output_type": "display_data"
    },
    {
     "data": {
      "image/png": "[encoded data removed]",
      "text/plain": [
       "<Figure size 432x288 with 1 Axes>"
      ]
     },
     "metadata": {
      "needs_background": "light"
     },
     "output_type": "display_data"
    },
    {
     "data": {
      "image/png": "[encoded data removed]",
      "text/plain": [
       "<Figure size 432x288 with 1 Axes>"
      ]
     },
     "metadata": {
      "needs_background": "light"
     },
     "output_type": "display_data"
    },
    {
     "data": {
      "image/png": "[encoded data removed]",
      "text/plain": [
       "<Figure size 432x288 with 1 Axes>"
      ]
     },
     "metadata": {
      "needs_background": "light"
     },
     "output_type": "display_data"
    },
    {
     "data": {
      "image/png": "[encoded data removed]",
      "text/plain": [
       "<Figure size 432x288 with 1 Axes>"
      ]
     },
     "metadata": {
      "needs_background": "light"
     },
     "output_type": "display_data"
    },
    {
     "data": {
      "image/png": "[encoded data removed]",
      "text/plain": [
       "<Figure size 432x288 with 1 Axes>"
      ]
     },
     "metadata": {
      "needs_background": "light"
     },
     "output_type": "display_data"
    }
   ],
   "source": [
    "import pandas as pd\n",
    "\n",
    "ERR=[]\n",
    "MAP=[]\n",
    "RECALL1=[]\n",
    "RECALL5=[]\n",
    "RECALL10=[]\n",
    "PRECISION1=[]\n",
    "PRECISION5=[]\n",
    "PRECISION10=[]\n",
    "\n",
    "for i in {1,2}:\n",
    "    \n",
    "    for method in list_of_search_fns:\n",
    "        \n",
    "        evaluation = evaluate_search_fn(method[1], list_of_metrics, index_set=i)\n",
    "\n",
    "        ERR.append(evaluation['ERR'])\n",
    "        MAP.append(evaluation['MAP'])\n",
    "        RECALL1.append(evaluation['Recall@1'])\n",
    "        RECALL5.append(evaluation['Recall@5'])\n",
    "        RECALL10.append(evaluation['Recall@10'])\n",
    "        PRECISION1.append(evaluation['Precision@1'])\n",
    "        PRECISION5.append(evaluation['Precision@5'])\n",
    "        PRECISION10.append(evaluation['Precision@10'])\n",
    "\n",
    "metrics=[ERR, MAP,  RECALL1,  RECALL5,  RECALL10,  PRECISION1,  PRECISION5,  PRECISION10]\n",
    "str_metrics = [\"ERR\",\"MAP\", \"RECALL@1\", \"RECALL@5\", \"RECALL@10\", \"PRECISION@1\", \"PRECISION@5\", \"PRECISION@10\"]    \n",
    "\n",
    "\n",
    "index = [\"BOW\",\"TF-IDF\",\"NaiveQL\", \"QL\",\"BM25\"]\n",
    "xlabel = \"Methods\"\n",
    "ylabel = \"Metric value (in decimals)\"\n",
    "\n",
    "for i, metric in enumerate(metrics):\n",
    "\n",
    "    plotdata = pd.DataFrame({\n",
    "    \"Index set 1\": metric[0:5],\n",
    "    \"Index set 2\": metric[5:10]\n",
    "    }, \n",
    "    index=index\n",
    "    )\n",
    "    plotdata.plot(kind=\"bar\")\n",
    "    plt.title(str_metrics[i])\n",
    "    plt.xlabel(xlabel)\n",
    "    plt.ylabel(ylabel)\n",
    "    plt.show()"
   ]
  },
  {
   "cell_type": "markdown",
   "metadata": {
    "deletable": false,
    "editable": false,
    "nbgrader": {
     "cell_type": "markdown",
     "checksum": "e88c444a0acf4e398c65e289169b75f7",
     "grade": false,
     "grade_id": "cell-8aabe3bcf265deb0",
     "locked": true,
     "points": 10,
     "schema_version": 3,
     "solution": false,
     "task": true
    }
   },
   "source": [
    "---\n",
    "### Section 5.2: Summary (10 points)\n",
    "Write a summary of what you observe in the results.\n",
    "Your summary should compare results across the 2 indices and the methods being used. State what you expected to see in the results, followed by either supporting evidence *or* justify why the results did not support your expectations.      "
   ]
  },
  {
   "cell_type": "markdown",
   "metadata": {},
   "source": [
    "In general, we expect index set 1 to have significant lower probability scores than index set 2 because, the text in index set 1 (except from tokenization) has not been pre-processed. Pre-processing involved converting terms to their stems (stemming) and removing stop words which allows methods to perform better. This belief is supported by our results, that show that for every method and metric, index 2 performs relatively better. \n",
    "\n",
    "We expect **BOW** to have the lowest probability scoring because it only ranks based on term frequency (*TF*). However, if a term occurs in a lot of documents it’s not representative. **TF-IDF**, takes this in consideration by multiplying the term frequency in a document with the *IDF* function (inverse document frequency), which measures how rare the term is over all documents. Hence this  evaluation scores relatively higher. This claim is supported by the plots in which the probabilities have higher values for *TF-IDF* with (some) probabilities in the 15%-30% range compared to **BOW** with all evaluations under 12%.\n",
    "\n",
    "In contrast, **naïve QL** evaluation will be lower in comparison to **BOW** and **TF-IDF**, since all documents that not contain a term of the query are discarded with a score of zero. Alternatively, **QL** accounts for zero term frequency which is why the probabilities in this method will be higher in comparison to **BOW** and **naïve QL**, but not for **TF-IDF** because this method considers representativeness which QL does not. This belief is supported by the results, as **naïve QL** scores, for most metrics scores under 8% while **QL** scores as high as 35%. \n",
    "\n",
    "Similar to **TF-IDF**, the method: **BM25** (BM stands for Best Match) measures the rareness of term frequency with *IDF*. The difference is that **BM25** controls the contribution of *TF* to the score to minimize the impact of more term occurrences to the score. Essentially, BM25 improves the scoring and will have a significant higher evaluation in comparison. This claim is justified by the results, as **BM25** metrics, in most cases are higher than 30% as high as 50%. In comparison, the highest metric probability for **TF-IDF** was 35% "
   ]
  },
  {
   "cell_type": "markdown",
   "metadata": {
    "deletable": false,
    "editable": false,
    "nbgrader": {
     "cell_type": "markdown",
     "checksum": "b3eb77be74eecca205fc7b47316d1627",
     "grade": false,
     "grade_id": "cell-bb60dd5c092d0f2e",
     "locked": true,
     "schema_version": 3,
     "solution": false,
     "task": false
    }
   },
   "source": [
    "---\n",
    "---\n",
    "# Part 2: Semantic-based Matching (85 points) <a class=\"anchor\" id=\"part2\"></a>\n",
    "\n",
    "[Back to top](#top)\n",
    "\n",
    "We will now experiment with methods that go beyond lexical methods like TF-IDF, which operate at the word level and are high dimensional and sparse, and look at methods which constructs low dimensional dense representations of queries and documents. \n",
    "\n",
    "Since these low-dimensional methods have a higher time complexity, they are typically used in conjunction with methods like BM-25. That is, instead of searching through potentially million documents to find matches using low dimensional vectors, a list of K documents are retrieved using BM25, and then **re-ranked** using the other method. This is the method that is going to be applied in the following exercises. \n",
    "\n",
    "LSI/LDA takes documents that are similar on a semantic level - for instance, if they are describing the same topic - and projects them into nearby vectors, despite having low lexical overlap.\n",
    "\n",
    "In this assignment, you will use `gensim` to create LSI/LDA models and use them in re-ranking. \n",
    "\n",
    "**Note**: The following exercises only uses `doc_repr_2` and `config_2`\n",
    "\n",
    "Table of contents:\n",
    "- [Section 6: LSI](#lsi) (15 points)\n",
    "- [Section 7: LDA](#lda) (10 points)\n",
    "- [Section 8: Word2Vec/Doc2Vec](#2vec) (20 points)\n",
    "- [Section 8: Re-ranking](#reranking) (10 points)\n",
    "- [Section 9: Re-ranking Evaluation](#reranking_eval) (30 points)"
   ]
  },
  {
   "cell_type": "markdown",
   "metadata": {
    "deletable": false,
    "editable": false,
    "nbgrader": {
     "cell_type": "markdown",
     "checksum": "f7c7b2cab82f576ed0acf836ca57171c",
     "grade": false,
     "grade_id": "cell-6b2c81e7a8abd180",
     "locked": true,
     "schema_version": 3,
     "solution": false,
     "task": false
    }
   },
   "source": [
    "---\n",
    "## Section 6: Latent Semantic Indexing (LSI) (15 points) <a class=\"anchor\" id=\"lsi\"></a>\n",
    "\n",
    "[Back to Part 2](#part2)\n",
    "\n",
    "LSI is one of the methods to embed the queries and documents into vectors. It is based on a method similar to Principal Component Analysis (PCA) for obtaining a dense concept matrix out of the sparse term-document matrix.\n",
    "\n",
    "See [wikipedia](https://en.wikipedia.org/wiki/Latent_semantic_analysis), particularly [#Mathematics_of_LSI](https://en.wikipedia.org/wiki/Latent_semantic_analysis#Mathematics_of_LSI)."
   ]
  },
  {
   "cell_type": "code",
   "execution_count": 79,
   "metadata": {
    "deletable": false,
    "editable": false,
    "nbgrader": {
     "cell_type": "code",
     "checksum": "c17ee75319cb517e2bf48ec3d9efc329",
     "grade": false,
     "grade_id": "cell-59913daee47f680d",
     "locked": true,
     "schema_version": 3,
     "solution": false,
     "task": false
    }
   },
   "outputs": [],
   "source": [
    "from gensim.corpora import Dictionary\n",
    "from gensim.models import LdaModel, LsiModel, Word2Vec\n",
    "from gensim.models.doc2vec import Doc2Vec, TaggedDocument\n",
    "from gensim import downloader as g_downloader\n",
    "# gensim uses logging, so set it up \n",
    "import logging\n",
    "logging.basicConfig(format='%(asctime)s : %(levelname)s : %(message)s', level=logging.INFO)"
   ]
  },
  {
   "cell_type": "markdown",
   "metadata": {
    "deletable": false,
    "editable": false,
    "nbgrader": {
     "cell_type": "markdown",
     "checksum": "5fce140c546759b54a9fc060901ae77c",
     "grade": false,
     "grade_id": "cell-3644faff4976598a",
     "locked": true,
     "schema_version": 3,
     "solution": false,
     "task": false
    }
   },
   "source": [
    "---\n",
    "### Section 6.1: Cosine Similarity (5 points)<a class=\"anchor\" id=\"cosing_sim\"></a>\n",
    "Before we begin, let us first define our method of similarity for the LSI model, the cosine similarity:\n",
    "\n",
    "$$\\text{similarity} = \\cos(\\theta) = {\\mathbf{A} \\cdot \\mathbf{B} \\over \\|\\mathbf{A}\\| \\|\\mathbf{B}\\|} = \\frac{ \\sum\\limits_{i=1}^{n}{A_i  B_i} }{ \\sqrt{\\sum\\limits_{i=1}^{n}{A_i^2}}  \\sqrt{\\sum\\limits_{i=1}^{n}{B_i^2}} }$$\n",
    "\n",
    "Since we are using gensim, the types of vectors returned by their classes are of the form defined below (they are not just simple vectors):"
   ]
  },
  {
   "cell_type": "code",
   "execution_count": 80,
   "metadata": {
    "deletable": false,
    "editable": false,
    "nbgrader": {
     "cell_type": "code",
     "checksum": "4e340e1a1d546f430c018fd0760e707a",
     "grade": false,
     "grade_id": "cell-3995a50f951314d5",
     "locked": true,
     "schema_version": 3,
     "solution": false,
     "task": false
    }
   },
   "outputs": [],
   "source": [
    "# 1, 2, 3 are either latent dimensions (LSI), or topics (LDA)\n",
    "# The second value in each tuple is a number (LSI) or a probability (LDA)  \n",
    "example_vec_1 = [(1, 0.2), (2, 0.3), (3, 0.4)]\n",
    "example_vec_2 = [(1, 0.2), (2, 0.7), (3, 0.4)]"
   ]
  },
  {
   "cell_type": "markdown",
   "metadata": {
    "deletable": false,
    "editable": false,
    "nbgrader": {
     "cell_type": "markdown",
     "checksum": "20832fd4f579f49ae204b0efee02edd1",
     "grade": false,
     "grade_id": "cell-5e54d581858dc8f7",
     "locked": true,
     "schema_version": 3,
     "solution": false,
     "task": false
    }
   },
   "source": [
    "---\n",
    "**Implementation (2+3 points):**\n",
    "Now, implement the `dot product` operation on these types of vectors and using this operator, implement the `cosine similarity` (don't forget: two functions to implement!):"
   ]
  },
  {
   "cell_type": "code",
   "execution_count": 81,
   "metadata": {
    "deletable": false,
    "nbgrader": {
     "cell_type": "code",
     "checksum": "06a712ee75fc213a21c5f0067fd8fe28",
     "grade": false,
     "grade_id": "cell-0e8189f5f93de33f",
     "locked": false,
     "schema_version": 3,
     "solution": true,
     "task": false
    }
   },
   "outputs": [],
   "source": [
    "# TODO: Implement this! (2 points)\n",
    "def dot(vec_1,vec_2): \n",
    "    \"\"\"\n",
    "        vec_1 and vec_2 are of the form: [(int, float), (int, float), ...]\n",
    "        Return the dot product of two such vectors, computed only on the floats\n",
    "        You can assume that the lengths of the vectors are the same, and the dimensions are aligned \n",
    "            i.e you won't get: vec_1 = [(1, 0.2)] ; vec_2 = [(2, 0.3)] \n",
    "                                (dimensions are unaligned and lengths are different)\n",
    "    \"\"\"\n",
    "    return sum([i[1]*j[1] for i,j in zip(vec_1, vec_2)])\n",
    "\n",
    "def cosine_sim(vec_1, vec_2):\n",
    "    try:\n",
    "        return dot(vec_1, vec_2)/(np.linalg.norm([i[1] for i in vec_1])*np.linalg.norm([j[1] for j in vec_2]))\n",
    "    except ZeroDivisionError:\n",
    "        return 0"
   ]
  },
  {
   "cell_type": "code",
   "execution_count": 82,
   "metadata": {
    "deletable": false,
    "editable": false,
    "nbgrader": {
     "cell_type": "code",
     "checksum": "d22a4a7325ba7815a808390388f534a1",
     "grade": true,
     "grade_id": "cell-b25d04ed6b79fd35",
     "locked": true,
     "points": 2,
     "schema_version": 3,
     "solution": false,
     "task": false
    }
   },
   "outputs": [
    {
     "name": "stdout",
     "output_type": "stream",
     "text": [
      "vectors: ([(1, 0.2), (2, 0.3), (3, 0.4)], [(1, 0.2), (2, 0.7), (3, 0.4)])\n",
      "dot product = 0.41000000000000003\n",
      "cosine similarity = 0.9165587597202866\n"
     ]
    }
   ],
   "source": [
    "##### Function check\n",
    "print(f'vectors: {(example_vec_1,example_vec_2)}')\n",
    "print(f'dot product = {dot(example_vec_1,example_vec_2)}')\n",
    "print(f'cosine similarity = {cosine_sim(example_vec_1,example_vec_2)}')\n",
    "##### "
   ]
  },
  {
   "cell_type": "code",
   "execution_count": 83,
   "metadata": {
    "deletable": false,
    "editable": false,
    "nbgrader": {
     "cell_type": "code",
     "checksum": "0744131724ce76b1b3f163b4bae5f700",
     "grade": true,
     "grade_id": "cell-ae3c4466866ace77",
     "locked": true,
     "points": 3,
     "schema_version": 3,
     "solution": false,
     "task": false
    }
   },
   "outputs": [],
   "source": [
    "#### Please do not change this. This cell is used for grading."
   ]
  },
  {
   "cell_type": "markdown",
   "metadata": {
    "deletable": false,
    "editable": false,
    "nbgrader": {
     "cell_type": "markdown",
     "checksum": "9b123f599f9ea372d14676e23f1c6a52",
     "grade": false,
     "grade_id": "cell-4b2534067c44fcdf",
     "locked": true,
     "schema_version": 3,
     "solution": false,
     "task": false
    }
   },
   "source": [
    "---\n",
    "### Section 6.2: LSI Retrieval (10 points)<a class=\"anchor\" id=\"lsi_retrieval\"></a>\n",
    "LSI retrieval is simply ranking the documents based on their cosine similarity to the query vector.\n",
    "First, let's write a parent class for vector-based retrieval models:"
   ]
  },
  {
   "cell_type": "code",
   "execution_count": 84,
   "metadata": {
    "deletable": false,
    "editable": false,
    "nbgrader": {
     "cell_type": "code",
     "checksum": "ecc111d58182570e2252b8ef5d6b02af",
     "grade": false,
     "grade_id": "cell-937936cea18711ee",
     "locked": true,
     "schema_version": 3,
     "solution": false,
     "task": false
    }
   },
   "outputs": [],
   "source": [
    "class VectorSpaceRetrievalModel:\n",
    "    \"\"\"\n",
    "        Parent class for Dense Vector Retrieval models\n",
    "    \"\"\"\n",
    "    def __init__(self, doc_repr):\n",
    "        \"\"\"\n",
    "            document_collection: \n",
    "                [\n",
    "                    (doc_id_1, [token 1, token 2, ...]), \n",
    "                    (doc_id_2, [token 1, token 2, ....]) \n",
    "                    ...\n",
    "                ]\n",
    "\n",
    "        \"\"\"\n",
    "        self.doc_repr = doc_repr\n",
    "        self.documents = [_[1] for _ in self.doc_repr]\n",
    "        \n",
    "        # construct a dictionary\n",
    "        self.dictionary = Dictionary(self.documents)\n",
    "        # Filter out words that occur less than 20 documents, or more than 50% of the documents.\n",
    "        self.dictionary.filter_extremes(no_below=10)\n",
    "        self.corpus = [self.dictionary.doc2bow(doc) for doc in self.documents]\n",
    "    \n",
    "        # Make a index to word dictionary.\n",
    "        temp = self.dictionary[0]  # This is only to \"load\" the dictionary.\n",
    "        self.id2word = self.dictionary.id2token\n",
    "        \n",
    "        # this is set by the train_model function\n",
    "        self.model = None\n",
    "        \n",
    "        \n",
    "    def vectorize_documents(self):\n",
    "        \"\"\"\n",
    "            Returns a doc_id -> vector dictionary\n",
    "        \"\"\"\n",
    "        vectors = {}\n",
    "        for (doc_id, _), cc in zip(self.doc_repr, self.corpus):\n",
    "            vectors[doc_id] = self.model[cc]\n",
    "        return vectors\n",
    "\n",
    "    def vectorize_query(self, query):\n",
    "        # Note the use of config_2 here!\n",
    "        query = process_text(query, **config_2)\n",
    "        query_vector = self.dictionary.doc2bow(query)\n",
    "        return self.model[query_vector]\n",
    "    \n",
    "    def train_model(self):\n",
    "        \"\"\"\n",
    "            Trains a model and sets the 'self.model' variable. \n",
    "            Make sure to use the variables created in the __init__ method.\n",
    "            e.g the variables which may be useful: {corpus, dictionary, id2word}\n",
    "        \"\"\"\n",
    "        raise NotImplementedError()"
   ]
  },
  {
   "cell_type": "markdown",
   "metadata": {
    "deletable": false,
    "editable": false,
    "nbgrader": {
     "cell_type": "markdown",
     "checksum": "ff161eefd9b81b768cd6361bc1a502b0",
     "grade": false,
     "grade_id": "cell-704a18c2f80cd60c",
     "locked": true,
     "schema_version": 3,
     "solution": false,
     "task": false
    }
   },
   "source": [
    "---\n",
    "**Implementation (5 points):**\n",
    "Implement the `train_model` method in the following class (note that this is only one line of code in `gensim`!). Ensure that the parameters defined in the `__init__` method are not changed, and are *used in the `train_method` function*. Normally, the hyperaparameter space will be searched using grid search / other methods - in this assignment we have provided the hyperparameters for you.\n",
    "\n",
    "The last two lines of code train an LSI model on the list of documents which have been stemmed, lower-cased and have stopwords removed. "
   ]
  },
  {
   "cell_type": "code",
   "execution_count": 85,
   "metadata": {
    "deletable": false,
    "nbgrader": {
     "cell_type": "code",
     "checksum": "0e90eedc27c248bc1ae050518a46a46c",
     "grade": false,
     "grade_id": "cell-307682c9089f15d6",
     "locked": false,
     "schema_version": 3,
     "solution": true,
     "task": false
    }
   },
   "outputs": [],
   "source": [
    "# TODO: Implement this! (5 points)\n",
    "class LsiRetrievalModel(VectorSpaceRetrievalModel):\n",
    "    def __init__(self, doc_repr):\n",
    "        super().__init__(doc_repr)\n",
    "        \n",
    "        self.num_topics = 100\n",
    "        self.chunksize = 2000\n",
    "    \n",
    "    def train_model(self):\n",
    "        self.model = LsiModel(self.corpus, id2word=self.id2word, num_topics=self.num_topics, chunksize=self.chunksize)"
   ]
  },
  {
   "cell_type": "code",
   "execution_count": 86,
   "metadata": {
    "deletable": false,
    "editable": false,
    "nbgrader": {
     "cell_type": "code",
     "checksum": "00399cfe13d60cb4beed1271e36004b0",
     "grade": true,
     "grade_id": "cell-5ce512650c1b2dfb",
     "locked": true,
     "points": 0,
     "schema_version": 3,
     "solution": false,
     "task": false
    }
   },
   "outputs": [
    {
     "name": "stderr",
     "output_type": "stream",
     "text": [
      "2021-02-18 11:25:59,810 : INFO : adding document #0 to Dictionary(0 unique tokens: [])\n",
      "2021-02-18 11:25:59,933 : INFO : built Dictionary(5940 unique tokens: ['-', 'algebra', 'intern', 'languag', 'preliminari']...) from 3204 documents (total 115981 corpus positions)\n",
      "2021-02-18 11:25:59,941 : INFO : discarding 4743 tokens: [('repeat', 8), ('glossari', 7), ('inspect', 8), ('uncol', 2), ('rung', 9), ('secant', 2), ('.', 1605), ('acceler', 6), ('diverg', 3), ('induc', 9)]...\n",
      "2021-02-18 11:25:59,941 : INFO : keeping 1197 tokens which were in no less than 10 and no more than 1602 (=50.0%) documents\n",
      "2021-02-18 11:25:59,944 : INFO : resulting dictionary: Dictionary(1197 unique tokens: ['-', 'algebra', 'intern', 'languag', 'preliminari']...)\n",
      "2021-02-18 11:26:00,012 : INFO : using serial LSI version on this node\n",
      "2021-02-18 11:26:00,013 : INFO : updating model with new documents\n",
      "2021-02-18 11:26:00,014 : INFO : preparing a new chunk of documents\n",
      "2021-02-18 11:26:00,028 : INFO : using 100 extra samples and 2 power iterations\n",
      "2021-02-18 11:26:00,028 : INFO : 1st phase: constructing (1197, 200) action matrix\n",
      "2021-02-18 11:26:00,047 : INFO : orthonormalizing (1197, 200) action matrix\n",
      "2021-02-18 11:26:00,151 : INFO : 2nd phase: running dense svd on (200, 2000) matrix\n",
      "2021-02-18 11:26:00,226 : INFO : computing the final decomposition\n",
      "2021-02-18 11:26:00,227 : INFO : keeping 100 factors (discarding 13.452% of energy spectrum)\n",
      "2021-02-18 11:26:00,230 : INFO : processed documents up to #2000\n",
      "2021-02-18 11:26:00,232 : INFO : topic #0(152.140): 0.741*\",\" + 0.342*\"-\" + 0.211*\"system\" + 0.204*\"program\" + 0.192*\"comput\" + 0.146*\"(\" + 0.127*\"languag\" + 0.108*\")\" + 0.084*\"gener\" + 0.083*\"data\"\n",
      "2021-02-18 11:26:00,233 : INFO : topic #1(60.601): -0.607*\"(\" + -0.434*\")\" + -0.366*\"algorithm\" + -0.300*\"-\" + 0.237*\",\" + 0.213*\"system\" + 0.132*\"comput\" + -0.096*\"[\" + 0.093*\"program\" + -0.084*\"])\"\n",
      "2021-02-18 11:26:00,233 : INFO : topic #2(57.447): 0.744*\"-\" + -0.452*\",\" + 0.263*\"system\" + -0.214*\"(\" + -0.167*\")\" + 0.107*\"time\" + 0.106*\"program\" + -0.095*\"algorithm\" + 0.069*\"comput\" + 0.067*\"share\"\n",
      "2021-02-18 11:26:00,234 : INFO : topic #3(48.372): 0.482*\"system\" + 0.375*\"program\" + 0.368*\"comput\" + -0.364*\"-\" + -0.307*\",\" + 0.212*\"(\" + 0.168*\")\" + 0.146*\"algorithm\" + -0.145*\"languag\" + 0.119*\"time\"\n",
      "2021-02-18 11:26:00,235 : INFO : topic #4(45.709): -0.490*\"comput\" + 0.473*\"languag\" + 0.427*\"program\" + -0.238*\"method\" + -0.141*\"problem\" + 0.123*\"system\" + 0.109*\")\" + -0.107*\"equat\" + -0.100*\"algorithm\" + 0.099*\"(\"\n",
      "2021-02-18 11:26:00,236 : INFO : preparing a new chunk of documents\n",
      "2021-02-18 11:26:00,242 : INFO : using 100 extra samples and 2 power iterations\n",
      "2021-02-18 11:26:00,243 : INFO : 1st phase: constructing (1197, 200) action matrix\n",
      "2021-02-18 11:26:00,253 : INFO : orthonormalizing (1197, 200) action matrix\n",
      "2021-02-18 11:26:00,351 : INFO : 2nd phase: running dense svd on (200, 1204) matrix\n",
      "2021-02-18 11:26:00,410 : INFO : computing the final decomposition\n",
      "2021-02-18 11:26:00,411 : INFO : keeping 100 factors (discarding 14.025% of energy spectrum)\n",
      "2021-02-18 11:26:00,412 : INFO : merging projections: (1197, 100) + (1197, 100)\n",
      "2021-02-18 11:26:00,442 : INFO : keeping 100 factors (discarding 8.162% of energy spectrum)\n",
      "2021-02-18 11:26:00,445 : INFO : processed documents up to #3204\n",
      "2021-02-18 11:26:00,446 : INFO : topic #0(225.145): 0.759*\",\" + 0.337*\"-\" + 0.196*\"system\" + 0.186*\"program\" + 0.166*\"comput\" + 0.139*\"(\" + 0.103*\")\" + 0.103*\"algorithm\" + 0.099*\"languag\" + 0.087*\"time\"\n",
      "2021-02-18 11:26:00,447 : INFO : topic #1(87.808): 0.613*\"-\" + -0.400*\",\" + 0.399*\"(\" + 0.326*\"algorithm\" + 0.293*\")\" + -0.129*\"system\" + -0.107*\"program\" + 0.085*\"method\" + 0.078*\"time\" + 0.062*\"1\"\n",
      "2021-02-18 11:26:00,447 : INFO : topic #2(81.912): 0.549*\"-\" + -0.434*\"(\" + 0.355*\"system\" + -0.321*\")\" + -0.290*\",\" + -0.266*\"algorithm\" + 0.146*\"program\" + 0.123*\"comput\" + 0.078*\"time\" + -0.064*\"[\"\n",
      "2021-02-18 11:26:00,448 : INFO : topic #3(72.433): -0.693*\"program\" + 0.339*\",\" + 0.280*\"-\" + -0.251*\"(\" + -0.221*\"system\" + -0.214*\"languag\" + -0.204*\")\" + -0.160*\"comput\" + -0.099*\"data\" + -0.056*\"execut\"\n",
      "2021-02-18 11:26:00,449 : INFO : topic #4(68.523): -0.673*\"system\" + 0.453*\"program\" + 0.254*\"languag\" + 0.212*\"-\" + -0.179*\"comput\" + -0.166*\"(\" + -0.121*\")\" + -0.115*\"model\" + 0.101*\",\" + -0.098*\"algorithm\"\n"
     ]
    },
    {
     "data": {
      "text/plain": [
       "[(0, 0.015242724306490886),\n",
       " (1, -0.01635319168925485),\n",
       " (2, -0.00024215907981372858),\n",
       " (3, -0.0016539551683223052),\n",
       " (4, -0.009433042779792884),\n",
       " (5, -0.004685341237039012),\n",
       " (6, 0.02703786850048387),\n",
       " (7, 0.017047740418905916),\n",
       " (8, -0.03164434059582953),\n",
       " (9, -0.0009213609135235064),\n",
       " (10, 0.002462763617025282),\n",
       " (11, -0.01778100695995249),\n",
       " (12, 0.0002859235767482017),\n",
       " (13, 0.0012714091987846496),\n",
       " (14, 0.004645944259591462),\n",
       " (15, 0.005716580356413282),\n",
       " (16, 0.005370399077090738),\n",
       " (17, 0.0026858147344461254),\n",
       " (18, -0.016734059438610106),\n",
       " (19, 0.01957918097909071),\n",
       " (20, -0.010489575421493088),\n",
       " (21, -0.014048451336354763),\n",
       " (22, 0.04738254403901308),\n",
       " (23, 0.02504190458478991),\n",
       " (24, -0.008866980899007),\n",
       " (25, -0.012687187080437923),\n",
       " (26, 0.00632717910027687),\n",
       " (27, 0.07775988583014204),\n",
       " (28, -0.06401562131221034),\n",
       " (29, 0.031125265902875593),\n",
       " (30, 0.04367289680061455),\n",
       " (31, 0.04858547074776036),\n",
       " (32, -0.07203558356557926),\n",
       " (33, 0.046156776066494154),\n",
       " (34, -0.02110620297599273),\n",
       " (35, 0.06541732725373359),\n",
       " (36, 0.042293684732258585),\n",
       " (37, -0.006448494892437613),\n",
       " (38, -0.05788842693688178),\n",
       " (39, 0.027124247713289525),\n",
       " (40, -0.042238869056247214),\n",
       " (41, -0.03646646094654967),\n",
       " (42, 0.023166011049321006),\n",
       " (43, 0.010522459656533792),\n",
       " (44, 0.010334355508290191),\n",
       " (45, 0.060130833587473745),\n",
       " (46, -0.0031201139542635526),\n",
       " (47, 0.006407894526208801),\n",
       " (48, 0.019095578925579653),\n",
       " (49, 0.02775475510156692),\n",
       " (50, 0.004742971946195463),\n",
       " (51, 0.05512882730840148),\n",
       " (52, -0.011605825750128636),\n",
       " (53, -0.003014187810630211),\n",
       " (54, 0.036756511253122105),\n",
       " (55, -0.02591073350528027),\n",
       " (56, 0.021642120517108933),\n",
       " (57, -0.008400946724500627),\n",
       " (58, -0.019371232915877563),\n",
       " (59, 0.048961918117390896),\n",
       " (60, 0.014283278207076817),\n",
       " (61, -0.029769127524584188),\n",
       " (62, -0.03662912657800331),\n",
       " (63, 0.025674455387913603),\n",
       " (64, -0.05575988078675839),\n",
       " (65, 0.029130384872029166),\n",
       " (66, 0.022715820092897177),\n",
       " (67, -0.03882361236237519),\n",
       " (68, 0.06011962333829841),\n",
       " (69, -0.02539919770744608),\n",
       " (70, -0.04005921281083959),\n",
       " (71, -0.01861353817154164),\n",
       " (72, 0.03636134231067745),\n",
       " (73, -0.06745252001068687),\n",
       " (74, -0.05903235930375379),\n",
       " (75, 0.03294906007597839),\n",
       " (76, -0.015552327890477587),\n",
       " (77, 0.016588998482900935),\n",
       " (78, 0.05241572974614051),\n",
       " (79, -0.015427733303214012),\n",
       " (80, -0.023017583899096018),\n",
       " (81, -0.00656289764988419),\n",
       " (82, 0.042269349229650116),\n",
       " (83, -0.05857680380972895),\n",
       " (84, -0.012407486855635426),\n",
       " (85, 0.015475172335827297),\n",
       " (86, 0.0028879445969789896),\n",
       " (87, 0.019368619543988445),\n",
       " (88, -0.056630292496706494),\n",
       " (89, 0.03617337133052103),\n",
       " (90, -0.06774225009615487),\n",
       " (91, -0.07591604587256529),\n",
       " (92, 0.016777156542874722),\n",
       " (93, 0.06836302774367053),\n",
       " (94, -0.015467635265244209),\n",
       " (95, -0.032975024175343176),\n",
       " (96, -0.014239564273197934),\n",
       " (97, 0.005174515648538099),\n",
       " (98, 0.020217044661698172),\n",
       " (99, 0.020178606919165093)]"
      ]
     },
     "execution_count": 86,
     "metadata": {},
     "output_type": "execute_result"
    }
   ],
   "source": [
    "##### Function check\n",
    "lsi = LsiRetrievalModel(doc_repr_2)\n",
    "lsi.train_model()\n",
    "\n",
    "# you can now get an LSI vector for a given query in the following way:\n",
    "lsi.vectorize_query(\"report\")\n",
    "##### "
   ]
  },
  {
   "cell_type": "markdown",
   "metadata": {
    "deletable": false,
    "editable": false,
    "nbgrader": {
     "cell_type": "markdown",
     "checksum": "7116bb9f576c5bb04934e1d59c51d729",
     "grade": false,
     "grade_id": "cell-4c5eeb557b4fca2f",
     "locked": true,
     "points": 5,
     "schema_version": 3,
     "solution": false,
     "task": true
    }
   },
   "source": [
    "\\#### Please do not change this. This cell is used for grading."
   ]
  },
  {
   "cell_type": "markdown",
   "metadata": {
    "deletable": false,
    "editable": false,
    "nbgrader": {
     "cell_type": "markdown",
     "checksum": "1068a108600b8c1539117d543e720354",
     "grade": false,
     "grade_id": "cell-c4e50296cd17a555",
     "locked": true,
     "schema_version": 3,
     "solution": false,
     "task": false
    }
   },
   "source": [
    "---\n",
    "Next, implement a basic ranking class for vector space retrieval (used for all semantic methods): "
   ]
  },
  {
   "cell_type": "code",
   "execution_count": 87,
   "metadata": {
    "deletable": false,
    "nbgrader": {
     "cell_type": "code",
     "checksum": "1a8389d2f0635c3405e2b0b27ed9f327",
     "grade": false,
     "grade_id": "cell-250515d288e80cdc",
     "locked": false,
     "schema_version": 3,
     "solution": true,
     "task": false
    }
   },
   "outputs": [],
   "source": [
    "# TODO: Implement this! (5 points)\n",
    "class DenseRetrievalRanker:\n",
    "    def __init__(self, vsrm, similarity_fn):\n",
    "        \"\"\"\n",
    "            vsrm: instance of `VectorSpaceRetrievalModel`\n",
    "            similarity_fn: function instance that takes in two vectors \n",
    "                            and returns a similarity score e.g cosine_sim defined earlier\n",
    "        \"\"\"\n",
    "        self.vsrm = vsrm \n",
    "        self.vectorized_documents = self.vsrm.vectorize_documents()\n",
    "        self.similarity_fn = similarity_fn\n",
    "    \n",
    "    def _compute_sim(self, query_vector):\n",
    "        \"\"\"\n",
    "            Compute the similarity of `query_vector` to documents in \n",
    "            `self.vectorized_documents` using `self.similarity_fn`\n",
    "            Returns a list of (doc_id, score) tuples\n",
    "        \"\"\"\n",
    "        # Calculate cosine similarity score for every document\n",
    "        scores = {key: self.similarity_fn(query_vector, value) for (key, value) in self.vectorized_documents.items()}\n",
    "        \n",
    "        # Return list with tuples containing document_id sorted on score in descending order\n",
    "        return sorted(scores.items(), key=lambda x: x[1], reverse=True)\n",
    "    \n",
    "    def search(self, query):\n",
    "        scores = self._compute_sim(self.vsrm.vectorize_query(query))\n",
    "        scores.sort(key=lambda _:-_[1])\n",
    "        return scores "
   ]
  },
  {
   "cell_type": "code",
   "execution_count": 88,
   "metadata": {
    "deletable": false,
    "editable": false,
    "nbgrader": {
     "cell_type": "code",
     "checksum": "f237dd1ef6c1783c06797f4b514421f5",
     "grade": true,
     "grade_id": "cell-b73068b3e77a8e31",
     "locked": true,
     "points": 0,
     "schema_version": 3,
     "solution": false,
     "task": false
    }
   },
   "outputs": [
    {
     "name": "stderr",
     "output_type": "stream",
     "text": [
      "c:\\users\\sarah-jane\\documents\\infovis\\lib\\site-packages\\ipykernel_launcher.py:14: RuntimeWarning: invalid value encountered in double_scalars\n",
      "  \n"
     ]
    },
    {
     "data": {
      "text/plain": [
       "[(599, 0.7937705024098426),\n",
       " (53, 0.512444622334065),\n",
       " (1339, 0.4693274487470413),\n",
       " (38, 0.42737607708214737),\n",
       " (2181, 0.42184376133842066)]"
      ]
     },
     "execution_count": 88,
     "metadata": {},
     "output_type": "execute_result"
    }
   ],
   "source": [
    "##### Function check\n",
    "drm_lsi = DenseRetrievalRanker(lsi, cosine_sim)\n",
    "drm_lsi.search(\"report\")[:5]\n",
    "##### "
   ]
  },
  {
   "cell_type": "markdown",
   "metadata": {
    "deletable": false,
    "editable": false,
    "nbgrader": {
     "cell_type": "markdown",
     "checksum": "5b3f19fdcaa585d263706d5a26038799",
     "grade": false,
     "grade_id": "cell-034c755a6502b868",
     "locked": true,
     "points": 5,
     "schema_version": 3,
     "solution": false,
     "task": true
    }
   },
   "source": [
    "\\#### Please do not change this. This cell is used for grading."
   ]
  },
  {
   "cell_type": "markdown",
   "metadata": {
    "deletable": false,
    "editable": false,
    "nbgrader": {
     "cell_type": "markdown",
     "checksum": "dcafef6e037033c46304b914f7c78bdf",
     "grade": false,
     "grade_id": "cell-d1df23f497d5ed6b",
     "locked": true,
     "schema_version": 3,
     "solution": false,
     "task": false
    }
   },
   "source": [
    "---\n",
    "Now, you can test your LSI model in the following cell: try finding queries which are lexically different to documents, but semantically similar - does LSI work well for these queries?!"
   ]
  },
  {
   "cell_type": "code",
   "execution_count": 89,
   "metadata": {
    "deletable": false,
    "editable": false,
    "nbgrader": {
     "cell_type": "code",
     "checksum": "11734bc7674377b340ad51297a8e8bb5",
     "grade": false,
     "grade_id": "cell-efd1d08dfc04ec3e",
     "locked": true,
     "schema_version": 3,
     "solution": false,
     "task": false
    }
   },
   "outputs": [
    {
     "data": {
      "application/vnd.jupyter.widget-view+json": {
       "model_id": "cfc5d1011de64e02a984a21e3e8b56f9",
       "version_major": 2,
       "version_minor": 0
      },
      "text/plain": [
       "Text(value='', description='Search Bar')"
      ]
     },
     "metadata": {},
     "output_type": "display_data"
    }
   ],
   "source": [
    "# test your LSI model\n",
    "search_fn = drm_lsi.search\n",
    "\n",
    "text = widgets.Text(description=\"Search Bar\", width=200)\n",
    "display(text)\n",
    "\n",
    "def make_results_2(query, search_fn):\n",
    "    results = []\n",
    "    for doc_id, score in search_fn(query):\n",
    "        highlight = highlight_text(docs_by_id[doc_id], query)\n",
    "        if len(highlight.strip()) == 0:\n",
    "            highlight = docs_by_id[doc_id]\n",
    "        results.append(ResultRow(doc_id, highlight, score))\n",
    "    return results\n",
    "\n",
    "def handle_submit_2(sender):\n",
    "    print(f\"Searching for: '{sender.value}' (SEARCH FN: {search_fn})\")\n",
    "    \n",
    "    results = make_results_2(sender.value, search_fn)\n",
    "    \n",
    "    # display only the top 5\n",
    "    results = results[:5]\n",
    "    \n",
    "    body = \"\"\n",
    "    for idx, r in enumerate(results):\n",
    "        body += f\"<li>Document #{r.doc_id}({r.score}): {r.snippet}</li>\"\n",
    "    display(HTML(f\"<ul>{body}</ul>\"))\n",
    "    \n",
    "\n",
    "text.on_submit(handle_submit_2)"
   ]
  },
  {
   "cell_type": "markdown",
   "metadata": {
    "deletable": false,
    "editable": false,
    "nbgrader": {
     "cell_type": "markdown",
     "checksum": "d074ce1ca48384cdda78742741c938be",
     "grade": false,
     "grade_id": "cell-3a86cef264d8f6cf",
     "locked": true,
     "schema_version": 3,
     "solution": false,
     "task": false
    }
   },
   "source": [
    "---\n",
    "## Section 7: Latent Dirichlet Allocation (LDA) (10 points) <a class=\"anchor\" id=\"lda\"></a>\n",
    "\n",
    "[Back to Part 2](#part2)\n",
    "\n",
    "The specifics of LDA is out of the scope of this assignment, but we will use the `gensim` implementation to perform search using LDA over our small document collection. The key thing to remember is that LDA, unlike LSI, outputs a topic **distribution**, not a vector. With that in mind, let's first define a similarity measure.\n"
   ]
  },
  {
   "cell_type": "markdown",
   "metadata": {
    "deletable": false,
    "editable": false,
    "nbgrader": {
     "cell_type": "markdown",
     "checksum": "db01092373b18f0c9dfed1bb17db4ad9",
     "grade": false,
     "grade_id": "cell-6b78ad22c2d60ba7",
     "locked": true,
     "schema_version": 3,
     "solution": false,
     "task": false
    }
   },
   "source": [
    "---\n",
    "### Section 7.1: Jenson-Shannon divergence (5 points) <a class=\"anchor\" id=\"js_sim\"></a>\n",
    "\n",
    "The Jenson-Shannon divergence is a symmetric and finite measure on two probability distributions (unlike the KL, which is neither). For identical distributions, the JSD is equal to 0, and since our code uses 0 as irrelevant and higher scores as relevant, we use `(1 - JSD)` as the score or 'similarity' in our setup\n",
    "\n",
    "**Note**: the JSD is bounded to \\[0,1\\] only if we use log base 2. So please ensure that you're using `np.log2` instead of `np.log`"
   ]
  },
  {
   "cell_type": "code",
   "execution_count": 90,
   "metadata": {
    "deletable": false,
    "nbgrader": {
     "cell_type": "code",
     "checksum": "a579e6cd7a24a3516bc9a84528b392d3",
     "grade": false,
     "grade_id": "cell-d2376a85a4841e98",
     "locked": false,
     "schema_version": 3,
     "solution": true,
     "task": false
    }
   },
   "outputs": [],
   "source": [
    "## TODO: Implement this! (5 points)\n",
    "def jenson_shannon_divergence(vec_1, vec_2, assert_prob=False):\n",
    "    \"\"\"\n",
    "        Computes the Jensen-Shannon divergence between two probability distributions. \n",
    "        NOTE: DO NOT RETURN 1 - JSD here, that is handled by the next function which is already implemented! \n",
    "        The inputs are *gensim* vectors - same as the vectors for the cosine_sim function\n",
    "        assert_prob is a flag that checks if the inputs are proper probability distributions \n",
    "            i.e they sum to 1 and are positive - use this to check your inputs if needed. \n",
    "                (This is optional to implement, but recommended - \n",
    "                you can the default to False to save a few ms off the runtime)\n",
    "    \"\"\"\n",
    "    if assert_prob:\n",
    "        if sum([x for _, x in vec_1 if x>=0]) != 1 or sum([y for _, y in vec_2 if y>=0]) != 1:\n",
    "            raise ValueError(f\"Invalid distribution encountered\")\n",
    " \n",
    "    # Calculate M = 0.5 (P + Q)\n",
    "    M = [(P[1] + Q[1])/2 for P, Q in zip(vec_1, vec_2)]\n",
    "    \n",
    "    # JSD = 0.5 * sum(log P - log M) + 0.5 * Q*sum(log Q - log M)\n",
    "    return 0.5*sum([P[1]*(np.log2(P[1]/m)) for P, m in zip (vec_1, M)]) + 0.5*sum([Q[1]*np.log2(Q[1]/m) for Q, m in zip (vec_2, M)])\n",
    "    \n",
    "\n",
    "def jenson_shannon_sim(vec_1, vec_2, assert_prob=False):\n",
    "    return 1 - jenson_shannon_divergence(vec_1, vec_2)\n",
    "\n"
   ]
  },
  {
   "cell_type": "code",
   "execution_count": 91,
   "metadata": {
    "deletable": false,
    "editable": false,
    "nbgrader": {
     "cell_type": "code",
     "checksum": "ab340aa941c9fb5c89b3fd0a9139e246",
     "grade": true,
     "grade_id": "cell-487c6d2933f38053",
     "locked": true,
     "points": 5,
     "schema_version": 3,
     "solution": false,
     "task": false
    }
   },
   "outputs": [
    {
     "data": {
      "text/plain": [
       "0.9251064410358459"
      ]
     },
     "execution_count": 91,
     "metadata": {},
     "output_type": "execute_result"
    }
   ],
   "source": [
    "##### Function check\n",
    "vec_1 = [(1, 0.3), (2, 0.4), (3, 0.3)]\n",
    "vec_2 = [(1, 0.1), (2, 0.7), (3, 0.2)]\n",
    "jenson_shannon_sim(vec_1, vec_2, assert_prob=True)\n",
    "##### "
   ]
  },
  {
   "cell_type": "markdown",
   "metadata": {
    "deletable": false,
    "editable": false,
    "nbgrader": {
     "cell_type": "markdown",
     "checksum": "0a1583a5f23e3390038331cce67f5d8e",
     "grade": false,
     "grade_id": "cell-4535cc67a50b80fa",
     "locked": true,
     "schema_version": 3,
     "solution": false,
     "task": false
    }
   },
   "source": [
    "---\n",
    "### Section 7.2: LDA retrieval (5 points) <a class=\"anchor\" id=\"lda_ret\"></a>\n",
    "\n",
    "Implement the `train_model` method in the following class (note that this is only one line of code in `gensim`!). Ensure that the parameters defined in the `__init__` method are not changed, and are *used in the `train_method` function*. You do not need to set this. Normally, the hyperaparameter space will be searched using grid search / other methods. Note that training the LDA model might take some time\n",
    "\n",
    "The last two lines of code train an LDA model on the list of documents which have been stemmed, lower-cased and have stopwords removed. "
   ]
  },
  {
   "cell_type": "code",
   "execution_count": 92,
   "metadata": {
    "deletable": false,
    "nbgrader": {
     "cell_type": "code",
     "checksum": "27de8e4fa85536bb396b73bfc51b3f50",
     "grade": false,
     "grade_id": "cell-021a48dff4a8bb91",
     "locked": false,
     "schema_version": 3,
     "solution": true,
     "task": false
    }
   },
   "outputs": [],
   "source": [
    "# TODO: Implement this! (5 points)\n",
    "class LdaRetrievalModel(VectorSpaceRetrievalModel):\n",
    "    def __init__(self, doc_repr):\n",
    "        super().__init__(doc_repr)\n",
    "        \n",
    "        # use these parameters in the train_model method\n",
    "        self.num_topics = 100\n",
    "        self.chunksize = 2000\n",
    "        self.passes = 20\n",
    "        self.iterations = 400\n",
    "        self.eval_every = 10\n",
    "        # this is need to get full vectors\n",
    "        self.minimum_probability=0.0\n",
    "        self.alpha='auto'\n",
    "        self.eta='auto'\n",
    "    \n",
    "    \n",
    "    def train_model(self):\n",
    "        self.model = LdaModel(self.corpus, id2word=self.id2word, num_topics=self.num_topics, chunksize=self.chunksize, \n",
    "                        passes=self.passes, iterations=self.iterations, eval_every=self.eval_every, \n",
    "                        minimum_probability=self.minimum_probability, alpha=self.alpha, eta=self.eta)"
   ]
  },
  {
   "cell_type": "code",
   "execution_count": 93,
   "metadata": {
    "deletable": false,
    "editable": false,
    "nbgrader": {
     "cell_type": "code",
     "checksum": "be70fcb8098d0b6ce64cd2a10e6a05b7",
     "grade": true,
     "grade_id": "cell-86750b715f0345fd",
     "locked": true,
     "points": 0,
     "schema_version": 3,
     "solution": false,
     "task": false
    }
   },
   "outputs": [
    {
     "name": "stderr",
     "output_type": "stream",
     "text": [
      "2021-02-18 11:26:10,832 : INFO : adding document #0 to Dictionary(0 unique tokens: [])\n",
      "2021-02-18 11:26:10,950 : INFO : built Dictionary(5940 unique tokens: ['-', 'algebra', 'intern', 'languag', 'preliminari']...) from 3204 documents (total 115981 corpus positions)\n",
      "2021-02-18 11:26:10,957 : INFO : discarding 4743 tokens: [('repeat', 8), ('glossari', 7), ('inspect', 8), ('uncol', 2), ('rung', 9), ('secant', 2), ('.', 1605), ('acceler', 6), ('diverg', 3), ('induc', 9)]...\n",
      "2021-02-18 11:26:10,958 : INFO : keeping 1197 tokens which were in no less than 10 and no more than 1602 (=50.0%) documents\n",
      "2021-02-18 11:26:10,961 : INFO : resulting dictionary: Dictionary(1197 unique tokens: ['-', 'algebra', 'intern', 'languag', 'preliminari']...)\n",
      "2021-02-18 11:26:11,095 : INFO : using autotuned alpha, starting with [0.01, 0.01, 0.01, 0.01, 0.01, 0.01, 0.01, 0.01, 0.01, 0.01, 0.01, 0.01, 0.01, 0.01, 0.01, 0.01, 0.01, 0.01, 0.01, 0.01, 0.01, 0.01, 0.01, 0.01, 0.01, 0.01, 0.01, 0.01, 0.01, 0.01, 0.01, 0.01, 0.01, 0.01, 0.01, 0.01, 0.01, 0.01, 0.01, 0.01, 0.01, 0.01, 0.01, 0.01, 0.01, 0.01, 0.01, 0.01, 0.01, 0.01, 0.01, 0.01, 0.01, 0.01, 0.01, 0.01, 0.01, 0.01, 0.01, 0.01, 0.01, 0.01, 0.01, 0.01, 0.01, 0.01, 0.01, 0.01, 0.01, 0.01, 0.01, 0.01, 0.01, 0.01, 0.01, 0.01, 0.01, 0.01, 0.01, 0.01, 0.01, 0.01, 0.01, 0.01, 0.01, 0.01, 0.01, 0.01, 0.01, 0.01, 0.01, 0.01, 0.01, 0.01, 0.01, 0.01, 0.01, 0.01, 0.01, 0.01]\n",
      "2021-02-18 11:26:11,096 : INFO : using serial LDA version on this node\n",
      "2021-02-18 11:26:11,110 : INFO : running online (multi-pass) LDA training, 100 topics, 20 passes over the supplied corpus of 3204 documents, updating model once every 2000 documents, evaluating perplexity every 3204 documents, iterating 400x with a convergence threshold of 0.001000\n",
      "2021-02-18 11:26:11,111 : INFO : PROGRESS: pass 0, at document #2000/3204\n",
      "2021-02-18 11:26:12,730 : INFO : optimized alpha [0.009808411, 0.00985502, 0.009828912, 0.009777684, 0.009845448, 0.009871328, 0.009892661, 0.00977764, 0.009808594, 0.00990288, 0.009844857, 0.009777647, 0.009939139, 0.009834768, 0.009798368, 0.009807676, 0.009788061, 0.0098084025, 0.00983961, 0.009855114, 0.009772532, 0.009807025, 0.009772483, 0.009840189, 0.009762175, 0.009819387, 0.009803718, 0.009777697, 0.00982972, 0.0098548345, 0.009882121, 0.009767331, 0.009829601, 0.009933845, 0.009803517, 0.009819218, 0.009808741, 0.009861116, 0.009849611, 0.009793525, 0.009803708, 0.009844969, 0.009813839, 0.009798401, 0.009853595, 0.009791469, 0.009798366, 0.009829846, 0.009772557, 0.009802775, 0.009819066, 0.009803693, 0.009798322, 0.009803477, 0.009829286, 0.009845289, 0.009918494, 0.009865862, 0.009777943, 0.0097985575, 0.009824053, 0.009839255, 0.0097932685, 0.010073429, 0.009803614, 0.00980885, 0.009860709, 0.009788014, 0.00976735, 0.0099069895, 0.009782883, 0.009897309, 0.0098239845, 0.009829242, 0.009902754, 0.009814015, 0.009798449, 0.00977775, 0.009808905, 0.0098401755, 0.009839679, 0.009788015, 0.0098959245, 0.009814096, 0.009829214, 0.009855034, 0.009793321, 0.009808623, 0.009808899, 0.009870092, 0.0098183835, 0.009861082, 0.009912482, 0.009824163, 0.009803414, 0.009917371, 0.009798347, 0.009881255, 0.009906504, 0.0097987605]\n",
      "2021-02-18 11:26:12,736 : INFO : merging changes from 2000 documents into a model of 3204 documents\n",
      "2021-02-18 11:26:12,748 : INFO : topic #24 (0.010): 0.075*\"calcul\" + 0.075*\"function\" + 0.075*\"ellipt\" + 0.075*\"corrigendum\" + 0.075*\"(\" + 0.075*\")\" + 0.000*\"simpson\" + 0.000*\"adapt\" + 0.000*\"stage\" + 0.000*\"regress\"\n",
      "2021-02-18 11:26:12,749 : INFO : topic #58 (0.010): 0.086*\",\" + 0.043*\"disk\" + 0.039*\"program\" + 0.030*\"-\" + 0.026*\"system\" + 0.022*\"sort\" + 0.017*\"problem\" + 0.017*\"storag\" + 0.017*\"word\" + 0.013*\"oper\"\n",
      "2021-02-18 11:26:12,749 : INFO : topic #12 (0.010): 0.070*\",\" + 0.033*\"-\" + 0.025*\"languag\" + 0.017*\"system\" + 0.014*\"program\" + 0.013*\"algorithm\" + 0.013*\"machin\" + 0.011*\"(\" + 0.010*\"processor\" + 0.010*\")\"\n",
      "2021-02-18 11:26:12,750 : INFO : topic #56 (0.010): 0.075*\",\" + 0.020*\"-\" + 0.017*\"program\" + 0.017*\"languag\" + 0.015*\"data\" + 0.014*\"comput\" + 0.014*\"network\" + 0.012*\"(\" + 0.012*\"gener\" + 0.012*\"algorithm\"\n",
      "2021-02-18 11:26:12,751 : INFO : topic #63 (0.010): 0.065*\",\" + 0.045*\"-\" + 0.027*\"system\" + 0.018*\"algorithm\" + 0.018*\"program\" + 0.017*\"comput\" + 0.017*\"(\" + 0.015*\")\" + 0.013*\"gener\" + 0.012*\"problem\"\n",
      "2021-02-18 11:26:12,751 : INFO : topic diff=82.750359, rho=1.000000\n",
      "2021-02-18 11:26:13,711 : INFO : -7.279 per-word bound, 155.3 perplexity estimate based on a held-out corpus of 1204 documents with 49783 words\n",
      "2021-02-18 11:26:13,712 : INFO : PROGRESS: pass 0, at document #3204/3204\n",
      "2021-02-18 11:26:14,517 : INFO : optimized alpha [0.009912826, 0.009848364, 0.009963502, 0.009760025, 0.010153083, 0.009967172, 0.010072589, 0.009828841, 0.010025122, 0.010278955, 0.010070225, 0.0097546, 0.010262421, 0.010028961, 0.009732921, 0.009946721, 0.0099871, 0.009755104, 0.009833337, 0.00985976, 0.0098890755, 0.009706154, 0.009764816, 0.0100476295, 0.009662287, 0.010222177, 0.010045395, 0.009840625, 0.009883074, 0.010202705, 0.010306687, 0.00962134, 0.00981209, 0.010305376, 0.009768676, 0.009937007, 0.009814591, 0.010159301, 0.009883518, 0.010051963, 0.009827113, 0.009968022, 0.009855134, 0.009846096, 0.010113527, 0.0096915355, 0.010104822, 0.010107354, 0.009829883, 0.009790841, 0.010142443, 0.009962029, 0.009955978, 0.009873717, 0.009916495, 0.009833598, 0.010361993, 0.010043914, 0.009726542, 0.009969179, 0.0100422045, 0.009725838, 0.01003331, 0.010448863, 0.009909476, 0.009902892, 0.010145234, 0.009886278, 0.009685642, 0.010049312, 0.009671636, 0.010094134, 0.010381837, 0.009980762, 0.010255463, 0.009784391, 0.009727895, 0.009935234, 0.009792174, 0.009987544, 0.010216906, 0.0098044295, 0.009983408, 0.009819569, 0.009874887, 0.009771149, 0.009974932, 0.010196905, 0.009891729, 0.009981077, 0.010034643, 0.010278034, 0.009946693, 0.009966233, 0.009837962, 0.010149102, 0.009874384, 0.009868803, 0.009844697, 0.00985834]\n",
      "2021-02-18 11:26:14,524 : INFO : merging changes from 1204 documents into a model of 3204 documents\n",
      "2021-02-18 11:26:14,535 : INFO : topic #45 (0.010): 0.107*\"algorithm\" + 0.095*\"(\" + 0.071*\"exact\" + 0.065*\"greatest\" + 0.059*\"[\" + 0.050*\"f4\" + 0.044*\"linear\" + 0.041*\"exploit\" + 0.038*\"solut\" + 0.038*\"equat\"\n",
      "2021-02-18 11:26:14,536 : INFO : topic #68 (0.010): 0.137*\"0\" + 0.097*\"algorithm\" + 0.076*\"eigenvalu\" + 0.074*\"(\" + 0.073*\"enumer\" + 0.069*\"linear\" + 0.063*\"1\" + 0.062*\"implicit\" + 0.055*\"symmetr\" + 0.052*\"[\"\n",
      "2021-02-18 11:26:14,537 : INFO : topic #56 (0.010): 0.075*\",\" + 0.031*\"network\" + 0.021*\"data\" + 0.019*\"-\" + 0.014*\"program\" + 0.014*\"structur\" + 0.013*\"languag\" + 0.013*\"comput\" + 0.011*\"algorithm\" + 0.010*\"model\"\n",
      "2021-02-18 11:26:14,538 : INFO : topic #72 (0.010): 0.113*\"tree\" + 0.074*\"search\" + 0.069*\",\" + 0.055*\"node\" + 0.048*\"averag\" + 0.036*\"structur\" + 0.032*\"(\" + 0.028*\"string\" + 0.026*\")\" + 0.022*\"time\"\n",
      "2021-02-18 11:26:14,538 : INFO : topic #63 (0.010): 0.070*\",\" + 0.046*\"-\" + 0.026*\"tabl\" + 0.023*\"grammar\" + 0.023*\"decis\" + 0.023*\"system\" + 0.019*\"algorithm\" + 0.017*\"program\" + 0.015*\"comput\" + 0.013*\"time\"\n",
      "2021-02-18 11:26:14,539 : INFO : topic diff=0.730735, rho=0.707107\n",
      "2021-02-18 11:26:14,547 : INFO : PROGRESS: pass 1, at document #2000/3204\n",
      "2021-02-18 11:26:15,373 : INFO : optimized alpha [0.0099971285, 0.0098053105, 0.010034882, 0.009775046, 0.010069237, 0.009893094, 0.009993883, 0.009829952, 0.009938121, 0.01022054, 0.010012296, 0.009896027, 0.010223197, 0.0099399565, 0.009823661, 0.009906246, 0.010017458, 0.0098680165, 0.009759455, 0.009827388, 0.009886735, 0.009683687, 0.009733266, 0.010033205, 0.009645184, 0.010243486, 0.009966143, 0.009912165, 0.009821267, 0.010140957, 0.010264221, 0.009734922, 0.009728005, 0.010316065, 0.009693411, 0.009905391, 0.0097068455, 0.010156162, 0.009869012, 0.0099833105, 0.009805646, 0.009962247, 0.009840869, 0.009832318, 0.010046586, 0.009669767, 0.010137709, 0.010024224, 0.009788841, 0.009728036, 0.010046813, 0.009895251, 0.009891736, 0.009896436, 0.009847896, 0.00977322, 0.010284903, 0.009962868, 0.009683285, 0.009915825, 0.009938731, 0.009788853, 0.010074265, 0.010409171, 0.009917994, 0.009845845, 0.01016648, 0.009915222, 0.009663441, 0.009960014, 0.009724993, 0.010001234, 0.010343749, 0.009910968, 0.010299322, 0.0097839665, 0.009720532, 0.00989771, 0.009682574, 0.009981804, 0.010166551, 0.009743599, 0.009903143, 0.009767086, 0.009970836, 0.009732171, 0.0100781415, 0.010083985, 0.009962384, 0.009932383, 0.011089121, 0.010260858, 0.009859985, 0.009942243, 0.0099308295, 0.010076127, 0.009886004, 0.009789359, 0.009736113, 0.009789136]\n"
     ]
    },
    {
     "name": "stderr",
     "output_type": "stream",
     "text": [
      "2021-02-18 11:26:15,381 : INFO : merging changes from 2000 documents into a model of 3204 documents\n",
      "2021-02-18 11:26:15,391 : INFO : topic #24 (0.010): 0.251*\")\" + 0.229*\"(\" + 0.182*\"calcul\" + 0.174*\"corrigendum\" + 0.069*\"ellipt\" + 0.018*\"function\" + 0.000*\"simpson\" + 0.000*\"adapt\" + 0.000*\"stage\" + 0.000*\"regress\"\n",
      "2021-02-18 11:26:15,392 : INFO : topic #58 (0.010): 0.090*\",\" + 0.080*\"disk\" + 0.035*\"drum\" + 0.028*\"-\" + 0.027*\"storag\" + 0.024*\"program\" + 0.022*\"system\" + 0.022*\"problem\" + 0.021*\"sort\" + 0.020*\"access\"\n",
      "2021-02-18 11:26:15,394 : INFO : topic #63 (0.010): 0.070*\",\" + 0.048*\"-\" + 0.028*\"tabl\" + 0.025*\"grammar\" + 0.024*\"system\" + 0.023*\"decis\" + 0.019*\"algorithm\" + 0.017*\"program\" + 0.016*\"comput\" + 0.013*\"time\"\n",
      "2021-02-18 11:26:15,394 : INFO : topic #72 (0.010): 0.103*\"tree\" + 0.083*\"search\" + 0.067*\",\" + 0.047*\"node\" + 0.040*\"averag\" + 0.035*\"structur\" + 0.031*\"string\" + 0.030*\"(\" + 0.025*\")\" + 0.021*\"time\"\n",
      "2021-02-18 11:26:15,395 : INFO : topic #90 (0.011): 0.237*\"algorithm\" + 0.235*\"(\" + 0.166*\")\" + 0.089*\"[\" + 0.052*\"])\" + 0.035*\"function\" + 0.025*\"complex\" + 0.016*\"number\" + 0.014*\"partit\" + 0.012*\"gener\"\n",
      "2021-02-18 11:26:15,396 : INFO : topic diff=0.306956, rho=0.526900\n",
      "2021-02-18 11:26:16,288 : INFO : -6.890 per-word bound, 118.6 perplexity estimate based on a held-out corpus of 1204 documents with 49783 words\n",
      "2021-02-18 11:26:16,289 : INFO : PROGRESS: pass 1, at document #3204/3204\n",
      "2021-02-18 11:26:17,047 : INFO : optimized alpha [0.010224555, 0.009846422, 0.010241441, 0.0098237675, 0.010210432, 0.009969631, 0.0100834295, 0.010033813, 0.010153192, 0.010431296, 0.010144872, 0.0099087, 0.010364831, 0.010062742, 0.009904976, 0.010084471, 0.01024149, 0.009872019, 0.009796884, 0.0098542515, 0.010136251, 0.009673265, 0.009833049, 0.010125234, 0.0096786255, 0.010646612, 0.010165056, 0.010063829, 0.00989359, 0.01034797, 0.010581715, 0.0097527485, 0.009761412, 0.01057938, 0.009740274, 0.010081097, 0.009753374, 0.010375726, 0.009891105, 0.010163993, 0.009880856, 0.010062551, 0.009973033, 0.010031019, 0.010254892, 0.009642912, 0.010472436, 0.010178908, 0.009927747, 0.009803602, 0.0102897575, 0.010057828, 0.010084525, 0.010054827, 0.009975115, 0.009754436, 0.010561241, 0.010078953, 0.009708789, 0.010056452, 0.010168448, 0.009776485, 0.010366213, 0.010584248, 0.01007203, 0.010008873, 0.010402685, 0.010132565, 0.009675047, 0.010097484, 0.009783991, 0.010063285, 0.010812648, 0.010116569, 0.010528977, 0.009854791, 0.009718529, 0.010076555, 0.0096870065, 0.010136013, 0.010496576, 0.0098489225, 0.009951675, 0.009791232, 0.010073909, 0.009704202, 0.010270929, 0.010535946, 0.010090503, 0.010005795, 0.01171539, 0.010545779, 0.009922171, 0.010136704, 0.010043851, 0.010257882, 0.010069447, 0.009778773, 0.009730122, 0.009800066]\n",
      "2021-02-18 11:26:17,055 : INFO : merging changes from 1204 documents into a model of 3204 documents\n",
      "2021-02-18 11:26:17,066 : INFO : topic #24 (0.010): 0.329*\")\" + 0.319*\"(\" + 0.170*\"corrigendum\" + 0.118*\"calcul\" + 0.017*\"ellipt\" + 0.007*\"function\" + 0.000*\"simpson\" + 0.000*\"adapt\" + 0.000*\"stage\" + 0.000*\"regress\"\n",
      "2021-02-18 11:26:17,067 : INFO : topic #45 (0.010): 0.116*\"algorithm\" + 0.115*\"(\" + 0.073*\"[\" + 0.064*\"exact\" + 0.059*\"solut\" + 0.053*\"equat\" + 0.049*\"greatest\" + 0.049*\")\" + 0.041*\"f4\" + 0.039*\"linear\"\n",
      "2021-02-18 11:26:17,067 : INFO : topic #25 (0.011): 0.067*\"program\" + 0.055*\",\" + 0.037*\"languag\" + 0.035*\"proof\" + 0.027*\"statement\" + 0.025*\"prove\" + 0.024*\"-\" + 0.022*\"set\" + 0.021*\"rule\" + 0.019*\"construct\"\n",
      "2021-02-18 11:26:17,068 : INFO : topic #72 (0.011): 0.141*\"tree\" + 0.094*\"search\" + 0.076*\",\" + 0.061*\"node\" + 0.050*\"averag\" + 0.041*\"structur\" + 0.031*\"string\" + 0.026*\"time\" + 0.023*\"(\" + 0.021*\"restrict\"\n",
      "2021-02-18 11:26:17,069 : INFO : topic #90 (0.012): 0.249*\"algorithm\" + 0.239*\"(\" + 0.199*\")\" + 0.090*\"[\" + 0.033*\"function\" + 0.028*\"complex\" + 0.023*\"])\" + 0.016*\"number\" + 0.015*\"partit\" + 0.011*\"gener\"\n",
      "2021-02-18 11:26:17,069 : INFO : topic diff=0.403152, rho=0.526900\n",
      "2021-02-18 11:26:17,079 : INFO : PROGRESS: pass 2, at document #2000/3204\n",
      "2021-02-18 11:26:17,897 : INFO : optimized alpha [0.010346508, 0.009823542, 0.010339814, 0.009897479, 0.01013634, 0.009914713, 0.010026644, 0.010096898, 0.010103443, 0.010375362, 0.010100429, 0.010025427, 0.010327021, 0.010001116, 0.010111215, 0.010071178, 0.010305056, 0.010007696, 0.009752056, 0.009836025, 0.010160439, 0.009716477, 0.009823651, 0.010143706, 0.009840303, 0.010674118, 0.010115096, 0.01017649, 0.0098845055, 0.01030648, 0.010565625, 0.009961399, 0.009716932, 0.010594312, 0.009709977, 0.010090018, 0.009670016, 0.010401301, 0.009904961, 0.010128699, 0.009876331, 0.010076213, 0.010009356, 0.010062549, 0.01022051, 0.009648403, 0.010548196, 0.010119603, 0.009949294, 0.009760635, 0.010215338, 0.010033758, 0.010064494, 0.010140856, 0.009916978, 0.009713116, 0.0104924245, 0.010024383, 0.0096767135, 0.009994641, 0.0100991875, 0.009892418, 0.010456638, 0.010552885, 0.010126405, 0.009997769, 0.010470963, 0.01025158, 0.009661332, 0.01004232, 0.009910141, 0.0099805975, 0.0107722245, 0.010088858, 0.010600249, 0.009898688, 0.009752408, 0.010051569, 0.009607471, 0.010142025, 0.010462981, 0.0098555405, 0.009875615, 0.009758357, 0.010205568, 0.009706184, 0.010425041, 0.010443757, 0.010243453, 0.009972524, 0.012928503, 0.010545268, 0.00985649, 0.010113993, 0.010185378, 0.010197144, 0.010099852, 0.009720702, 0.009649266, 0.009741215]\n",
      "2021-02-18 11:26:17,904 : INFO : merging changes from 2000 documents into a model of 3204 documents\n",
      "2021-02-18 11:26:17,917 : INFO : topic #78 (0.010): 0.046*\",\" + 0.043*\"level\" + 0.038*\"comput\" + 0.035*\"buffer\" + 0.030*\"higher\" + 0.024*\"total\" + 0.023*\"util\" + 0.021*\":\" + 0.020*\"system\" + 0.020*\"-\"\n",
      "2021-02-18 11:26:17,918 : INFO : topic #98 (0.010): 0.063*\",\" + 0.058*\"loop\" + 0.040*\"(\" + 0.037*\")\" + 0.027*\"subexpress\" + 0.024*\"object\" + 0.024*\"express\" + 0.021*\"associ\" + 0.020*\"effici\" + 0.018*\"constant\"\n",
      "2021-02-18 11:26:17,918 : INFO : topic #25 (0.011): 0.064*\"program\" + 0.056*\",\" + 0.042*\"languag\" + 0.037*\"statement\" + 0.027*\"proof\" + 0.024*\"-\" + 0.020*\"set\" + 0.020*\"defin\" + 0.020*\"prove\" + 0.019*\"rule\"\n",
      "2021-02-18 11:26:17,919 : INFO : topic #72 (0.011): 0.133*\"tree\" + 0.104*\"search\" + 0.073*\",\" + 0.054*\"node\" + 0.044*\"averag\" + 0.040*\"structur\" + 0.030*\"string\" + 0.026*\"time\" + 0.023*\"restrict\" + 0.022*\"(\"\n",
      "2021-02-18 11:26:17,920 : INFO : topic #90 (0.013): 0.251*\"algorithm\" + 0.248*\"(\" + 0.185*\")\" + 0.087*\"[\" + 0.053*\"])\" + 0.030*\"function\" + 0.020*\"complex\" + 0.015*\"number\" + 0.011*\"partit\" + 0.010*\"gener\"\n",
      "2021-02-18 11:26:17,921 : INFO : topic diff=0.383911, rho=0.466151\n",
      "2021-02-18 11:26:18,793 : INFO : -6.778 per-word bound, 109.7 perplexity estimate based on a held-out corpus of 1204 documents with 49783 words\n",
      "2021-02-18 11:26:18,794 : INFO : PROGRESS: pass 2, at document #3204/3204\n",
      "2021-02-18 11:26:19,568 : INFO : optimized alpha [0.010618542, 0.009911371, 0.010581125, 0.009982901, 0.010258182, 0.0099913925, 0.010102878, 0.01033045, 0.010319403, 0.01054257, 0.010265921, 0.010063075, 0.010448798, 0.010094881, 0.01024073, 0.010288712, 0.010569496, 0.0100297835, 0.009828589, 0.009899164, 0.010459283, 0.009746052, 0.009939556, 0.010249078, 0.010100981, 0.011069415, 0.010264288, 0.010338909, 0.009988033, 0.010474617, 0.0108634755, 0.010017459, 0.009778557, 0.010872007, 0.009794475, 0.010306176, 0.0097244205, 0.010597188, 0.009983692, 0.010313332, 0.009962909, 0.0101849185, 0.010138552, 0.0102679115, 0.010398368, 0.009633997, 0.0108672, 0.010280956, 0.010103982, 0.009866723, 0.010424342, 0.010221915, 0.01026794, 0.010325738, 0.01004991, 0.009702877, 0.010709935, 0.010171517, 0.009712027, 0.010127904, 0.010316237, 0.009919685, 0.010809748, 0.010708341, 0.010294922, 0.010217286, 0.010698538, 0.010477956, 0.009673, 0.01017676, 0.010012547, 0.0100487955, 0.011201913, 0.010284176, 0.010817392, 0.009984761, 0.009774289, 0.010226517, 0.009670454, 0.010306985, 0.01075527, 0.010041995, 0.009927906, 0.009792862, 0.01031965, 0.009728543, 0.010563891, 0.010913587, 0.01038469, 0.010061327, 0.013511362, 0.0107755065, 0.009932034, 0.01031541, 0.01030486, 0.010391376, 0.010290976, 0.009702533, 0.009661994, 0.009748949]\n",
      "2021-02-18 11:26:19,575 : INFO : merging changes from 1204 documents into a model of 3204 documents\n"
     ]
    },
    {
     "name": "stderr",
     "output_type": "stream",
     "text": [
      "2021-02-18 11:26:19,586 : INFO : topic #45 (0.010): 0.129*\"algorithm\" + 0.122*\"(\" + 0.085*\"[\" + 0.061*\"exact\" + 0.060*\")\" + 0.050*\"solut\" + 0.047*\"equat\" + 0.045*\"greatest\" + 0.040*\"])\" + 0.040*\"divisor\"\n",
      "2021-02-18 11:26:19,587 : INFO : topic #98 (0.010): 0.082*\"loop\" + 0.068*\",\" + 0.034*\"(\" + 0.034*\")\" + 0.033*\"express\" + 0.031*\"subexpress\" + 0.029*\"invari\" + 0.028*\"associ\" + 0.026*\"object\" + 0.024*\"optim\"\n",
      "2021-02-18 11:26:19,587 : INFO : topic #25 (0.011): 0.081*\"program\" + 0.061*\",\" + 0.040*\"languag\" + 0.037*\"proof\" + 0.031*\"prove\" + 0.029*\"statement\" + 0.023*\"-\" + 0.023*\"construct\" + 0.022*\"formal\" + 0.021*\"theorem\"\n",
      "2021-02-18 11:26:19,588 : INFO : topic #72 (0.011): 0.159*\"tree\" + 0.108*\"search\" + 0.078*\",\" + 0.064*\"node\" + 0.052*\"averag\" + 0.041*\"structur\" + 0.030*\"time\" + 0.027*\"string\" + 0.024*\"restrict\" + 0.021*\"binari\"\n",
      "2021-02-18 11:26:19,589 : INFO : topic #90 (0.014): 0.271*\"algorithm\" + 0.242*\"(\" + 0.197*\")\" + 0.094*\"[\" + 0.032*\"])\" + 0.028*\"function\" + 0.024*\"complex\" + 0.014*\"number\" + 0.012*\"partit\" + 0.010*\"a1\"\n",
      "2021-02-18 11:26:19,590 : INFO : topic diff=0.506829, rho=0.466151\n",
      "2021-02-18 11:26:19,598 : INFO : PROGRESS: pass 3, at document #2000/3204\n",
      "2021-02-18 11:26:20,620 : INFO : optimized alpha [0.010774728, 0.009895337, 0.010704265, 0.010079985, 0.010195772, 0.00995971, 0.01006759, 0.010413339, 0.010290425, 0.010509267, 0.010231524, 0.010191128, 0.010432431, 0.010041989, 0.010472274, 0.010290353, 0.010650784, 0.010160314, 0.009788741, 0.009876947, 0.010499176, 0.009842147, 0.009941469, 0.010281123, 0.010459027, 0.01110765, 0.010227418, 0.01047681, 0.010018333, 0.010449702, 0.010850642, 0.010241594, 0.009778853, 0.010907176, 0.0097987605, 0.010339469, 0.009667289, 0.010642034, 0.010037027, 0.010295497, 0.009973989, 0.010203716, 0.010201513, 0.010354861, 0.010366317, 0.009630027, 0.010953564, 0.010244277, 0.01015519, 0.009836479, 0.010357899, 0.010216437, 0.010272463, 0.010436948, 0.01000359, 0.009686191, 0.010666763, 0.010134918, 0.009698677, 0.010080479, 0.0102783535, 0.010057245, 0.010907132, 0.010690674, 0.010361439, 0.010229755, 0.010798593, 0.010630889, 0.009667985, 0.010146443, 0.010119417, 0.009992586, 0.011171962, 0.010292833, 0.010879893, 0.010050271, 0.009839189, 0.010200879, 0.009618475, 0.010316024, 0.01073809, 0.010074722, 0.009879811, 0.009783287, 0.010457338, 0.009754056, 0.010759349, 0.010820988, 0.010569443, 0.0100293765, 0.014716343, 0.010759524, 0.0098799495, 0.01030665, 0.01046315, 0.010350748, 0.010339417, 0.00967317, 0.009603655, 0.009697701]\n",
      "2021-02-18 11:26:20,628 : INFO : merging changes from 2000 documents into a model of 3204 documents\n",
      "2021-02-18 11:26:20,639 : INFO : topic #98 (0.010): 0.066*\"loop\" + 0.066*\",\" + 0.033*\"express\" + 0.030*\")\" + 0.030*\"(\" + 0.030*\"subexpress\" + 0.029*\"associ\" + 0.028*\"object\" + 0.022*\"invari\" + 0.022*\"revers\"\n",
      "2021-02-18 11:26:20,640 : INFO : topic #45 (0.010): 0.136*\"algorithm\" + 0.126*\"(\" + 0.100*\"[\" + 0.073*\"])\" + 0.048*\"exact\" + 0.046*\"solut\" + 0.043*\"equat\" + 0.043*\")\" + 0.035*\"greatest\" + 0.035*\"f4\"\n",
      "2021-02-18 11:26:20,640 : INFO : topic #25 (0.011): 0.078*\"program\" + 0.061*\",\" + 0.043*\"languag\" + 0.038*\"statement\" + 0.030*\"proof\" + 0.025*\"prove\" + 0.023*\"-\" + 0.022*\"construct\" + 0.022*\"formal\" + 0.019*\"defin\"\n",
      "2021-02-18 11:26:20,641 : INFO : topic #72 (0.011): 0.151*\"tree\" + 0.119*\"search\" + 0.074*\",\" + 0.059*\"node\" + 0.047*\"averag\" + 0.040*\"structur\" + 0.029*\"time\" + 0.026*\"restrict\" + 0.026*\"string\" + 0.021*\"binari\"\n",
      "2021-02-18 11:26:20,642 : INFO : topic #90 (0.015): 0.267*\"algorithm\" + 0.246*\"(\" + 0.178*\")\" + 0.096*\"[\" + 0.060*\"])\" + 0.027*\"function\" + 0.019*\"complex\" + 0.014*\"number\" + 0.010*\"partit\" + 0.010*\"a1\"\n",
      "2021-02-18 11:26:20,643 : INFO : topic diff=0.516710, rho=0.422502\n",
      "2021-02-18 11:26:21,528 : INFO : -6.701 per-word bound, 104.0 perplexity estimate based on a held-out corpus of 1204 documents with 49783 words\n",
      "2021-02-18 11:26:21,529 : INFO : PROGRESS: pass 3, at document #3204/3204\n",
      "2021-02-18 11:26:22,258 : INFO : optimized alpha [0.011071929, 0.010035764, 0.010964322, 0.010182507, 0.0102783535, 0.010040801, 0.010148453, 0.010653727, 0.010503121, 0.010669514, 0.010408146, 0.010220735, 0.010551262, 0.010142112, 0.010618949, 0.010543923, 0.010928196, 0.010186739, 0.009876459, 0.0099351285, 0.010790022, 0.009879252, 0.0100754425, 0.010373677, 0.010991034, 0.0115066795, 0.0103600975, 0.010665837, 0.0101341745, 0.010618034, 0.011124452, 0.010308866, 0.009877354, 0.011151287, 0.009907166, 0.010589423, 0.009741816, 0.010821214, 0.010190648, 0.010493367, 0.010056714, 0.010320877, 0.010348289, 0.010594947, 0.0105214445, 0.009618736, 0.011256556, 0.010377129, 0.0103181545, 0.0099477675, 0.010563794, 0.01039227, 0.010487903, 0.010621137, 0.010142892, 0.009699397, 0.010880751, 0.0103129065, 0.009752314, 0.010216747, 0.010466356, 0.01008497, 0.011305217, 0.010821054, 0.010522787, 0.010438504, 0.010988142, 0.010842584, 0.009683114, 0.0102837365, 0.010251918, 0.010062766, 0.011574448, 0.0105008865, 0.011093771, 0.010132047, 0.009886818, 0.010375242, 0.009700779, 0.010488683, 0.011037507, 0.0102810785, 0.0099460725, 0.009836577, 0.010571489, 0.009788811, 0.0109157795, 0.0112801865, 0.01072403, 0.010128336, 0.015186623, 0.010939677, 0.009970583, 0.010502252, 0.010578915, 0.010565297, 0.010550782, 0.009676036, 0.0096375365, 0.009723698]\n",
      "2021-02-18 11:26:22,265 : INFO : merging changes from 1204 documents into a model of 3204 documents\n",
      "2021-02-18 11:26:22,276 : INFO : topic #45 (0.010): 0.149*\"algorithm\" + 0.123*\"(\" + 0.090*\"[\" + 0.063*\")\" + 0.059*\"exact\" + 0.043*\"greatest\" + 0.043*\"solut\" + 0.042*\"equat\" + 0.041*\"])\" + 0.041*\"divisor\"\n",
      "2021-02-18 11:26:22,277 : INFO : topic #98 (0.010): 0.086*\"loop\" + 0.070*\",\" + 0.040*\"express\" + 0.034*\"associ\" + 0.034*\"invari\" + 0.032*\"subexpress\" + 0.031*\"object\" + 0.027*\")\" + 0.026*\"revers\" + 0.026*\"optim\"\n",
      "2021-02-18 11:26:22,277 : INFO : topic #25 (0.012): 0.095*\"program\" + 0.065*\",\" + 0.042*\"languag\" + 0.038*\"proof\" + 0.035*\"prove\" + 0.030*\"statement\" + 0.025*\"construct\" + 0.024*\"formal\" + 0.022*\"theorem\" + 0.022*\"-\"\n",
      "2021-02-18 11:26:22,278 : INFO : topic #72 (0.012): 0.172*\"tree\" + 0.118*\"search\" + 0.078*\",\" + 0.067*\"node\" + 0.054*\"averag\" + 0.038*\"structur\" + 0.032*\"time\" + 0.027*\"restrict\" + 0.025*\"binari\" + 0.022*\"string\"\n",
      "2021-02-18 11:26:22,279 : INFO : topic #90 (0.015): 0.286*\"algorithm\" + 0.237*\"(\" + 0.184*\")\" + 0.104*\"[\" + 0.040*\"])\" + 0.026*\"function\" + 0.024*\"complex\" + 0.014*\"number\" + 0.011*\"partit\" + 0.010*\"a1\"\n",
      "2021-02-18 11:26:22,280 : INFO : topic diff=0.630668, rho=0.422502\n",
      "2021-02-18 11:26:22,288 : INFO : PROGRESS: pass 4, at document #2000/3204\n",
      "2021-02-18 11:26:23,100 : INFO : optimized alpha [0.011239506, 0.010036578, 0.0111130765, 0.0102806715, 0.010231969, 0.0100201955, 0.010130564, 0.010742446, 0.010491656, 0.010640467, 0.0103818495, 0.010347946, 0.010544683, 0.01011377, 0.010859747, 0.010552076, 0.011011041, 0.010304193, 0.009857776, 0.009919246, 0.010814763, 0.009986299, 0.010086819, 0.010415641, 0.0114379795, 0.011548338, 0.010344366, 0.010802833, 0.010168233, 0.010602778, 0.01113273, 0.010531365, 0.009899031, 0.0111893015, 0.009940261, 0.01064191, 0.009701585, 0.010874944, 0.010269856, 0.010486248, 0.010083123, 0.010356482, 0.010445012, 0.0107042715, 0.010493533, 0.009608837, 0.011353338, 0.010347208, 0.010387347, 0.009939644, 0.010495314, 0.010388557, 0.010507324, 0.010751658, 0.010104114, 0.009693009, 0.010856913, 0.010304719, 0.00974844, 0.0101789525, 0.010440967, 0.010234664, 0.011416539, 0.0108068865, 0.010596394, 0.010467459, 0.0110851275, 0.011000271, 0.009670144, 0.0102737965, 0.010373127, 0.010020064, 0.01154261, 0.010505723, 0.011163967, 0.010198776, 0.009968432, 0.010356999, 0.00968011, 0.010502517, 0.0110321, 0.010330545, 0.009912621, 0.009845865, 0.010705785, 0.009832099, 0.011118385, 0.01120417, 0.010933124, 0.010097161, 0.016423032, 0.010928438, 0.009923286, 0.010503621, 0.010751501, 0.010522397, 0.010596971, 0.0096809715, 0.0095967725, 0.009680079]\n",
      "2021-02-18 11:26:23,107 : INFO : merging changes from 2000 documents into a model of 3204 documents\n",
      "2021-02-18 11:26:23,118 : INFO : topic #98 (0.010): 0.071*\"loop\" + 0.067*\",\" + 0.044*\"express\" + 0.036*\"associ\" + 0.033*\"object\" + 0.032*\"subexpress\" + 0.028*\"invari\" + 0.024*\"optim\" + 0.024*\"revers\" + 0.023*\"constant\"\n"
     ]
    },
    {
     "name": "stderr",
     "output_type": "stream",
     "text": [
      "2021-02-18 11:26:23,119 : INFO : topic #45 (0.010): 0.147*\"algorithm\" + 0.125*\"(\" + 0.100*\"[\" + 0.066*\"])\" + 0.050*\"exact\" + 0.046*\")\" + 0.038*\"solut\" + 0.036*\"greatest\" + 0.036*\"f4\" + 0.035*\"equat\"\n",
      "2021-02-18 11:26:23,120 : INFO : topic #72 (0.012): 0.164*\"tree\" + 0.128*\"search\" + 0.074*\",\" + 0.063*\"node\" + 0.049*\"averag\" + 0.038*\"structur\" + 0.031*\"time\" + 0.028*\"restrict\" + 0.023*\"binari\" + 0.020*\"string\"\n",
      "2021-02-18 11:26:23,120 : INFO : topic #25 (0.012): 0.092*\"program\" + 0.065*\",\" + 0.045*\"languag\" + 0.039*\"statement\" + 0.032*\"proof\" + 0.029*\"prove\" + 0.025*\"construct\" + 0.023*\"formal\" + 0.021*\"-\" + 0.019*\"defin\"\n",
      "2021-02-18 11:26:23,121 : INFO : topic #90 (0.016): 0.276*\"algorithm\" + 0.244*\"(\" + 0.169*\")\" + 0.105*\"[\" + 0.066*\"])\" + 0.025*\"function\" + 0.019*\"complex\" + 0.013*\"number\" + 0.010*\"a1\" + 0.009*\"gener\"\n",
      "2021-02-18 11:26:23,122 : INFO : topic diff=0.609256, rho=0.389191\n",
      "2021-02-18 11:26:23,942 : INFO : -6.644 per-word bound, 100.0 perplexity estimate based on a held-out corpus of 1204 documents with 49783 words\n",
      "2021-02-18 11:26:23,943 : INFO : PROGRESS: pass 4, at document #3204/3204\n",
      "2021-02-18 11:26:24,624 : INFO : optimized alpha [0.01158171, 0.0102165155, 0.011357098, 0.010398935, 0.010312355, 0.010085879, 0.01020924, 0.010977798, 0.010713901, 0.010778928, 0.010559683, 0.010391412, 0.010672335, 0.010226561, 0.010991979, 0.010819942, 0.011285479, 0.010351398, 0.009942633, 0.009970522, 0.011073644, 0.010023501, 0.010231101, 0.010531893, 0.012065493, 0.011962963, 0.010477414, 0.011007149, 0.010282385, 0.010766159, 0.011392305, 0.010609239, 0.010003593, 0.011420963, 0.010063585, 0.010879664, 0.00977453, 0.011055659, 0.010466447, 0.010687642, 0.010166633, 0.010471975, 0.010601757, 0.010957161, 0.010647948, 0.009593717, 0.011660409, 0.010480928, 0.010552478, 0.010065993, 0.010693728, 0.010585986, 0.010735552, 0.0109689, 0.010243472, 0.009722219, 0.011052442, 0.010538003, 0.009798806, 0.010308909, 0.0106230695, 0.010285889, 0.011809268, 0.010949218, 0.010767036, 0.010672507, 0.011272146, 0.011212097, 0.009679071, 0.010404654, 0.010502757, 0.01008913, 0.01192505, 0.010706486, 0.0113339955, 0.010271145, 0.0100382995, 0.010522344, 0.009785382, 0.010670033, 0.011316227, 0.01058003, 0.009984434, 0.00991192, 0.010803984, 0.00988051, 0.011270417, 0.011648471, 0.011086985, 0.010205658, 0.016919836, 0.01109219, 0.010017601, 0.010692569, 0.010861673, 0.0107499715, 0.010794163, 0.009697506, 0.009635564, 0.009705472]\n",
      "2021-02-18 11:26:24,631 : INFO : merging changes from 1204 documents into a model of 3204 documents\n",
      "2021-02-18 11:26:24,642 : INFO : topic #45 (0.010): 0.152*\"algorithm\" + 0.120*\"(\" + 0.087*\"[\" + 0.063*\")\" + 0.059*\"exact\" + 0.045*\"divisor\" + 0.045*\"greatest\" + 0.043*\"exploit\" + 0.041*\"])\" + 0.039*\"f4\"\n",
      "2021-02-18 11:26:24,643 : INFO : topic #98 (0.010): 0.090*\"loop\" + 0.070*\",\" + 0.045*\"express\" + 0.038*\"associ\" + 0.037*\"invari\" + 0.036*\"object\" + 0.035*\"subexpress\" + 0.029*\"remov\" + 0.028*\"revers\" + 0.027*\"optim\"\n",
      "2021-02-18 11:26:24,643 : INFO : topic #72 (0.012): 0.182*\"tree\" + 0.126*\"search\" + 0.077*\",\" + 0.070*\"node\" + 0.056*\"averag\" + 0.035*\"structur\" + 0.034*\"time\" + 0.028*\"restrict\" + 0.026*\"binari\" + 0.019*\"length\"\n",
      "2021-02-18 11:26:24,644 : INFO : topic #24 (0.012): 0.481*\"(\" + 0.434*\")\" + 0.034*\"calcul\" + 0.033*\"corrigendum\" + 0.007*\"ellipt\" + 0.003*\"function\" + 0.000*\"simpson\" + 0.000*\"adapt\" + 0.000*\"stage\" + 0.000*\"regress\"\n",
      "2021-02-18 11:26:24,645 : INFO : topic #90 (0.017): 0.289*\"algorithm\" + 0.238*\"(\" + 0.179*\")\" + 0.112*\"[\" + 0.045*\"])\" + 0.024*\"function\" + 0.023*\"complex\" + 0.013*\"number\" + 0.010*\"partit\" + 0.010*\"a1\"\n",
      "2021-02-18 11:26:24,646 : INFO : topic diff=0.675179, rho=0.389191\n",
      "2021-02-18 11:26:24,654 : INFO : PROGRESS: pass 5, at document #2000/3204\n",
      "2021-02-18 11:26:25,450 : INFO : optimized alpha [0.011761741, 0.010233376, 0.011510016, 0.010506366, 0.010268067, 0.010069212, 0.010198813, 0.011068759, 0.0107059525, 0.010741802, 0.01054406, 0.010515139, 0.010674058, 0.0102096135, 0.011237293, 0.010824008, 0.01136868, 0.010461976, 0.009940157, 0.009965508, 0.011091506, 0.010137236, 0.010254465, 0.010590271, 0.012606094, 0.012001502, 0.010462597, 0.011148352, 0.010327438, 0.010759222, 0.011402776, 0.010832197, 0.010047674, 0.011462006, 0.010096272, 0.0109480815, 0.009746791, 0.0111015765, 0.010557666, 0.010689822, 0.010204612, 0.010520604, 0.010694741, 0.011098045, 0.010627355, 0.009575323, 0.011771984, 0.010454951, 0.010624849, 0.010078643, 0.010636874, 0.010591269, 0.010744889, 0.011114217, 0.010214626, 0.0097279195, 0.011043693, 0.010555993, 0.009804856, 0.010275492, 0.010596781, 0.010440258, 0.011925975, 0.010947993, 0.010839885, 0.0107047465, 0.011371255, 0.011369297, 0.009662857, 0.010406707, 0.010607259, 0.010055703, 0.011900343, 0.0107161375, 0.011395301, 0.010328343, 0.0101352595, 0.010512431, 0.009778817, 0.010692246, 0.011313442, 0.010658082, 0.009961251, 0.009937579, 0.010948097, 0.009934065, 0.011473097, 0.011570174, 0.011312268, 0.01018418, 0.018216314, 0.011087459, 0.009986802, 0.010710599, 0.011028932, 0.010718275, 0.010840746, 0.009715475, 0.009607528, 0.009669803]\n",
      "2021-02-18 11:26:25,457 : INFO : merging changes from 2000 documents into a model of 3204 documents\n",
      "2021-02-18 11:26:25,468 : INFO : topic #98 (0.010): 0.075*\"loop\" + 0.068*\",\" + 0.049*\"express\" + 0.040*\"associ\" + 0.037*\"object\" + 0.034*\"subexpress\" + 0.031*\"invari\" + 0.027*\"remov\" + 0.026*\"revers\" + 0.025*\"optim\"\n",
      "2021-02-18 11:26:25,469 : INFO : topic #45 (0.010): 0.151*\"algorithm\" + 0.122*\"(\" + 0.093*\"[\" + 0.062*\"])\" + 0.054*\"exact\" + 0.048*\")\" + 0.038*\"greatest\" + 0.038*\"f4\" + 0.037*\"divisor\" + 0.034*\"linear\"\n",
      "2021-02-18 11:26:25,470 : INFO : topic #25 (0.012): 0.100*\"program\" + 0.069*\",\" + 0.043*\"languag\" + 0.041*\"statement\" + 0.033*\"proof\" + 0.033*\"prove\" + 0.028*\"construct\" + 0.025*\"formal\" + 0.020*\"theorem\" + 0.020*\"-\"\n",
      "2021-02-18 11:26:25,471 : INFO : topic #24 (0.013): 0.477*\"(\" + 0.438*\")\" + 0.039*\"calcul\" + 0.024*\"corrigendum\" + 0.011*\"ellipt\" + 0.003*\"function\" + 0.000*\"simpson\" + 0.000*\"adapt\" + 0.000*\"stage\" + 0.000*\"regress\"\n",
      "2021-02-18 11:26:25,472 : INFO : topic #90 (0.018): 0.279*\"algorithm\" + 0.243*\"(\" + 0.164*\")\" + 0.113*\"[\" + 0.070*\"])\" + 0.024*\"function\" + 0.019*\"complex\" + 0.013*\"number\" + 0.010*\"a1\" + 0.009*\"partit\"\n",
      "2021-02-18 11:26:25,473 : INFO : topic diff=0.618362, rho=0.362690\n",
      "2021-02-18 11:26:26,269 : INFO : -6.601 per-word bound, 97.1 perplexity estimate based on a held-out corpus of 1204 documents with 49783 words\n",
      "2021-02-18 11:26:26,270 : INFO : PROGRESS: pass 5, at document #3204/3204\n",
      "2021-02-18 11:26:26,961 : INFO : optimized alpha [0.012142631, 0.010418761, 0.011741222, 0.010642583, 0.010347254, 0.010131222, 0.010291608, 0.011298279, 0.010932116, 0.01087205, 0.010714803, 0.010558453, 0.01079085, 0.010337364, 0.011364106, 0.011097269, 0.011639392, 0.010505889, 0.010029029, 0.010011095, 0.0113362875, 0.010174753, 0.010405973, 0.010712171, 0.01334558, 0.012390715, 0.010606894, 0.011354975, 0.0104503445, 0.010909617, 0.0116514545, 0.010917118, 0.010179425, 0.011676966, 0.010248899, 0.011199963, 0.009830555, 0.011261499, 0.010778726, 0.010896058, 0.010292313, 0.010635419, 0.010845454, 0.011368804, 0.010772525, 0.009565788, 0.0120678535, 0.01058394, 0.010789954, 0.010203643, 0.010823653, 0.010783843, 0.010963943, 0.011340313, 0.01035493, 0.009764978, 0.0112243295, 0.010854041, 0.009858463, 0.010419576, 0.010784687, 0.010500209, 0.012298895, 0.011095187, 0.011003824, 0.010891818, 0.011568018, 0.011572862, 0.00967827, 0.01055188, 0.010751272, 0.01013347, 0.012249527, 0.010911946, 0.011572543, 0.010386847, 0.010194387, 0.010671134, 0.00991654, 0.010856407, 0.011585745, 0.010920591, 0.010041291, 0.010017948, 0.011052906, 0.009982515, 0.011629429, 0.0119903, 0.011456489, 0.010295599, 0.01866974, 0.01124129, 0.010084724, 0.010895219, 0.011124918, 0.010949365, 0.011036444, 0.009761394, 0.009665213, 0.00970652]\n",
      "2021-02-18 11:26:26,969 : INFO : merging changes from 1204 documents into a model of 3204 documents\n",
      "2021-02-18 11:26:26,981 : INFO : topic #45 (0.010): 0.155*\"algorithm\" + 0.118*\"(\" + 0.083*\"[\" + 0.062*\")\" + 0.061*\"exact\" + 0.050*\"divisor\" + 0.046*\"greatest\" + 0.045*\"exploit\" + 0.040*\"f4\" + 0.039*\"linear\"\n"
     ]
    },
    {
     "name": "stderr",
     "output_type": "stream",
     "text": [
      "2021-02-18 11:26:26,982 : INFO : topic #98 (0.010): 0.092*\"loop\" + 0.068*\",\" + 0.052*\"express\" + 0.040*\"associ\" + 0.039*\"invari\" + 0.036*\"remov\" + 0.036*\"object\" + 0.035*\"subexpress\" + 0.029*\"revers\" + 0.027*\"constant\"\n",
      "2021-02-18 11:26:26,983 : INFO : topic #25 (0.012): 0.113*\"program\" + 0.071*\",\" + 0.042*\"prove\" + 0.040*\"languag\" + 0.039*\"proof\" + 0.034*\"statement\" + 0.028*\"construct\" + 0.027*\"formal\" + 0.024*\"theorem\" + 0.019*\"-\"\n",
      "2021-02-18 11:26:26,983 : INFO : topic #24 (0.013): 0.489*\"(\" + 0.440*\")\" + 0.029*\"corrigendum\" + 0.027*\"calcul\" + 0.006*\"ellipt\" + 0.002*\"function\" + 0.000*\"simpson\" + 0.000*\"adapt\" + 0.000*\"stage\" + 0.000*\"regress\"\n",
      "2021-02-18 11:26:26,984 : INFO : topic #90 (0.019): 0.291*\"algorithm\" + 0.238*\"(\" + 0.173*\")\" + 0.119*\"[\" + 0.050*\"])\" + 0.023*\"complex\" + 0.022*\"function\" + 0.012*\"number\" + 0.010*\"a1\" + 0.010*\"partit\"\n",
      "2021-02-18 11:26:26,985 : INFO : topic diff=0.647626, rho=0.362690\n",
      "2021-02-18 11:26:26,993 : INFO : PROGRESS: pass 6, at document #2000/3204\n",
      "2021-02-18 11:26:27,816 : INFO : optimized alpha [0.012315122, 0.010437718, 0.011905106, 0.010751949, 0.010309883, 0.010121408, 0.010294555, 0.011399575, 0.010930987, 0.010846628, 0.010708693, 0.010677947, 0.010800061, 0.010338999, 0.0116075855, 0.01110901, 0.011723411, 0.010603678, 0.010040777, 0.010008795, 0.011350104, 0.010291703, 0.010450881, 0.010816715, 0.01394883, 0.012441942, 0.010598137, 0.011493212, 0.010491047, 0.010912127, 0.011674164, 0.011140144, 0.010238394, 0.0117149195, 0.010276101, 0.011275735, 0.009811682, 0.011312258, 0.010872375, 0.010904832, 0.010338987, 0.010679574, 0.010944768, 0.011507073, 0.010756518, 0.009549837, 0.012177628, 0.01056676, 0.010860122, 0.010215614, 0.010771322, 0.010784418, 0.010986735, 0.011500559, 0.010331119, 0.009787776, 0.011215467, 0.010893782, 0.009869858, 0.010396837, 0.010766626, 0.010645514, 0.012421645, 0.011099502, 0.011080157, 0.01092728, 0.011669619, 0.011732747, 0.009660763, 0.010564427, 0.010854117, 0.010106157, 0.012221283, 0.010920354, 0.011632048, 0.0104235625, 0.0102954, 0.010664999, 0.009911838, 0.010876861, 0.011575565, 0.011010763, 0.010026857, 0.010040754, 0.011210826, 0.010040348, 0.011821558, 0.011916196, 0.011680674, 0.010285969, 0.020018881, 0.011242372, 0.01006984, 0.010924858, 0.011294047, 0.010933274, 0.011078082, 0.009795744, 0.0096379435, 0.009677406]\n",
      "2021-02-18 11:26:27,823 : INFO : merging changes from 2000 documents into a model of 3204 documents\n",
      "2021-02-18 11:26:27,834 : INFO : topic #45 (0.010): 0.151*\"algorithm\" + 0.116*\"(\" + 0.087*\"[\" + 0.057*\"exact\" + 0.056*\"])\" + 0.047*\")\" + 0.044*\"divisor\" + 0.040*\"greatest\" + 0.039*\"f4\" + 0.035*\"legendr\"\n",
      "2021-02-18 11:26:27,835 : INFO : topic #98 (0.010): 0.079*\"loop\" + 0.067*\",\" + 0.056*\"express\" + 0.042*\"associ\" + 0.037*\"object\" + 0.035*\"subexpress\" + 0.033*\"remov\" + 0.033*\"invari\" + 0.028*\"revers\" + 0.026*\"pass\"\n",
      "2021-02-18 11:26:27,836 : INFO : topic #25 (0.012): 0.110*\"program\" + 0.071*\",\" + 0.042*\"statement\" + 0.041*\"languag\" + 0.036*\"prove\" + 0.034*\"proof\" + 0.030*\"construct\" + 0.027*\"formal\" + 0.021*\"theorem\" + 0.019*\"defin\"\n",
      "2021-02-18 11:26:27,837 : INFO : topic #24 (0.014): 0.485*\"(\" + 0.443*\")\" + 0.031*\"calcul\" + 0.022*\"corrigendum\" + 0.010*\"ellipt\" + 0.002*\"function\" + 0.000*\"simpson\" + 0.000*\"adapt\" + 0.000*\"stage\" + 0.000*\"regress\"\n",
      "2021-02-18 11:26:27,838 : INFO : topic #90 (0.020): 0.282*\"algorithm\" + 0.244*\"(\" + 0.159*\")\" + 0.120*\"[\" + 0.074*\"])\" + 0.023*\"function\" + 0.019*\"complex\" + 0.012*\"number\" + 0.010*\"a1\" + 0.009*\"partit\"\n",
      "2021-02-18 11:26:27,839 : INFO : topic diff=0.574706, rho=0.340958\n",
      "2021-02-18 11:26:28,654 : INFO : -6.566 per-word bound, 94.8 perplexity estimate based on a held-out corpus of 1204 documents with 49783 words\n",
      "2021-02-18 11:26:28,654 : INFO : PROGRESS: pass 6, at document #3204/3204\n",
      "2021-02-18 11:26:29,359 : INFO : optimized alpha [0.012711778, 0.010641209, 0.012118924, 0.010902638, 0.0103822835, 0.010192101, 0.010388643, 0.011631656, 0.011143347, 0.010964007, 0.010867814, 0.010721364, 0.010923221, 0.01047197, 0.011726958, 0.011382828, 0.011995759, 0.010644921, 0.01013657, 0.010055266, 0.011580212, 0.01033263, 0.010606714, 0.010956803, 0.01477456, 0.012820157, 0.010735048, 0.011703288, 0.010622497, 0.011060945, 0.011918052, 0.0112226065, 0.010377847, 0.011926556, 0.010427007, 0.011549045, 0.009899683, 0.011473699, 0.011111383, 0.011107324, 0.010421902, 0.010794479, 0.0110908635, 0.011780116, 0.010888038, 0.009536832, 0.012464714, 0.0106891515, 0.011020086, 0.010360578, 0.0109455995, 0.010979829, 0.011176623, 0.011720025, 0.010458344, 0.009826017, 0.011409399, 0.011217491, 0.00992943, 0.010536642, 0.010942214, 0.010716808, 0.012795484, 0.011248657, 0.011242233, 0.011117811, 0.0118532935, 0.011926622, 0.009673577, 0.010705184, 0.010984601, 0.010188868, 0.012565663, 0.011106454, 0.011793531, 0.010473032, 0.010348049, 0.010809435, 0.010059528, 0.011038917, 0.011845276, 0.011296718, 0.010111505, 0.0101199355, 0.011309274, 0.01008912, 0.011986285, 0.012316105, 0.011803601, 0.010394622, 0.020489467, 0.01138181, 0.010177234, 0.011112852, 0.01139382, 0.011169109, 0.011261132, 0.009845065, 0.009698584, 0.009712949]\n",
      "2021-02-18 11:26:29,366 : INFO : merging changes from 1204 documents into a model of 3204 documents\n",
      "2021-02-18 11:26:29,377 : INFO : topic #45 (0.010): 0.155*\"algorithm\" + 0.112*\"(\" + 0.078*\"[\" + 0.064*\"exact\" + 0.060*\")\" + 0.055*\"divisor\" + 0.047*\"greatest\" + 0.046*\"exploit\" + 0.041*\"f4\" + 0.037*\"linear\"\n",
      "2021-02-18 11:26:29,378 : INFO : topic #68 (0.010): 0.142*\"symmetr\" + 0.134*\"0\" + 0.117*\"eigenvalu\" + 0.078*\"linear\" + 0.063*\"algorithm\" + 0.062*\"program\" + 0.061*\"enumer\" + 0.045*\"implicit\" + 0.041*\"1\" + 0.041*\"eigenvector\"\n",
      "2021-02-18 11:26:29,379 : INFO : topic #25 (0.013): 0.121*\"program\" + 0.073*\",\" + 0.044*\"prove\" + 0.040*\"proof\" + 0.037*\"languag\" + 0.035*\"statement\" + 0.030*\"construct\" + 0.028*\"formal\" + 0.025*\"theorem\" + 0.020*\"present\"\n",
      "2021-02-18 11:26:29,379 : INFO : topic #24 (0.015): 0.494*\"(\" + 0.443*\")\" + 0.026*\"corrigendum\" + 0.023*\"calcul\" + 0.006*\"ellipt\" + 0.002*\"function\" + 0.000*\"simpson\" + 0.000*\"adapt\" + 0.000*\"stage\" + 0.000*\"regress\"\n",
      "2021-02-18 11:26:29,380 : INFO : topic #90 (0.020): 0.295*\"algorithm\" + 0.238*\"(\" + 0.168*\")\" + 0.124*\"[\" + 0.054*\"])\" + 0.022*\"complex\" + 0.021*\"function\" + 0.011*\"number\" + 0.010*\"a1\" + 0.010*\"partit\"\n",
      "2021-02-18 11:26:29,381 : INFO : topic diff=0.586035, rho=0.340958\n",
      "2021-02-18 11:26:29,388 : INFO : PROGRESS: pass 7, at document #2000/3204\n",
      "2021-02-18 11:26:30,208 : INFO : optimized alpha [0.012881827, 0.01066894, 0.012280418, 0.011012597, 0.010345884, 0.01018163, 0.010400192, 0.011733853, 0.011141407, 0.010940029, 0.010868667, 0.010835799, 0.0109338, 0.010485332, 0.011962293, 0.011392607, 0.012075256, 0.010743598, 0.010147878, 0.0100569865, 0.01159424, 0.010453038, 0.0106630055, 0.011065988, 0.015481471, 0.012879475, 0.010728353, 0.011820662, 0.0106628705, 0.011066615, 0.011936695, 0.011441379, 0.010445744, 0.011967903, 0.010469404, 0.011637685, 0.009893308, 0.011523637, 0.0112132095, 0.011120316, 0.010471655, 0.010831307, 0.011187689, 0.0119262, 0.010869247, 0.009519858, 0.012577359, 0.010667681, 0.011092174, 0.010388574, 0.010895475, 0.010990218, 0.011192361, 0.011881939, 0.01044414, 0.009848241, 0.01140585, 0.011274019, 0.009943877, 0.010519998, 0.010926366, 0.010868297, 0.012914269, 0.011250715, 0.011324052, 0.011170915, 0.011963648, 0.012083949, 0.009657983, 0.0107222, 0.0110864425, 0.010166746, 0.012540217, 0.011119332, 0.011845995, 0.010510045, 0.010448154, 0.010813869, 0.010057929, 0.01106169, 0.011835982, 0.011398742, 0.010104741, 0.010148413, 0.011475494, 0.010154315, 0.01218496, 0.012237875, 0.012014296, 0.010382272, 0.021870516, 0.011382755, 0.010173256, 0.011144082, 0.011561726, 0.0111762555, 0.011303981, 0.009886123, 0.009678073, 0.009687883]\n",
      "2021-02-18 11:26:30,214 : INFO : merging changes from 2000 documents into a model of 3204 documents\n",
      "2021-02-18 11:26:30,225 : INFO : topic #45 (0.010): 0.150*\"algorithm\" + 0.111*\"(\" + 0.083*\"[\" + 0.060*\"exact\" + 0.053*\"])\" + 0.049*\"divisor\" + 0.046*\")\" + 0.042*\"greatest\" + 0.041*\"f4\" + 0.036*\"exploit\"\n",
      "2021-02-18 11:26:30,226 : INFO : topic #68 (0.010): 0.153*\"symmetr\" + 0.123*\"eigenvalu\" + 0.123*\"0\" + 0.072*\"linear\" + 0.061*\"program\" + 0.056*\"algorithm\" + 0.054*\"eigenvector\" + 0.051*\"enumer\" + 0.040*\"f2\" + 0.039*\"1\"\n"
     ]
    },
    {
     "name": "stderr",
     "output_type": "stream",
     "text": [
      "2021-02-18 11:26:30,226 : INFO : topic #62 (0.013): 0.217*\"structur\" + 0.078*\"data\" + 0.068*\"definit\" + 0.050*\"defin\" + 0.042*\"concept\" + 0.036*\"languag\" + 0.036*\",\" + 0.035*\"list\" + 0.025*\"notat\" + 0.025*\"context\"\n",
      "2021-02-18 11:26:30,227 : INFO : topic #24 (0.015): 0.490*\"(\" + 0.447*\")\" + 0.026*\"calcul\" + 0.020*\"corrigendum\" + 0.009*\"ellipt\" + 0.001*\"function\" + 0.000*\"simpson\" + 0.000*\"adapt\" + 0.000*\"stage\" + 0.000*\"regress\"\n",
      "2021-02-18 11:26:30,227 : INFO : topic #90 (0.022): 0.286*\"algorithm\" + 0.242*\"(\" + 0.154*\")\" + 0.124*\"[\" + 0.077*\"])\" + 0.022*\"function\" + 0.019*\"complex\" + 0.011*\"number\" + 0.010*\"a1\" + 0.009*\"partit\"\n",
      "2021-02-18 11:26:30,228 : INFO : topic diff=0.514117, rho=0.322715\n",
      "2021-02-18 11:26:31,047 : INFO : -6.541 per-word bound, 93.1 perplexity estimate based on a held-out corpus of 1204 documents with 49783 words\n",
      "2021-02-18 11:26:31,048 : INFO : PROGRESS: pass 7, at document #3204/3204\n",
      "2021-02-18 11:26:31,737 : INFO : optimized alpha [0.01326812, 0.010867117, 0.012492212, 0.011168547, 0.010412452, 0.010260332, 0.010498659, 0.011966364, 0.011350944, 0.011043136, 0.011035553, 0.010882611, 0.011051478, 0.010615123, 0.012075235, 0.011662231, 0.012343927, 0.010785524, 0.010247617, 0.010104469, 0.011808654, 0.010497082, 0.010817884, 0.011196737, 0.016384596, 0.01325971, 0.010873511, 0.012038241, 0.0107913725, 0.011214824, 0.012180516, 0.011525058, 0.010590389, 0.0121641625, 0.010630739, 0.011901577, 0.0099828495, 0.0116779255, 0.011446705, 0.011323301, 0.010564847, 0.010943982, 0.011336347, 0.012196479, 0.011000853, 0.009506333, 0.012867648, 0.01078463, 0.011254092, 0.010530139, 0.01107379, 0.011180378, 0.011371174, 0.012109189, 0.010571311, 0.009895823, 0.011588274, 0.011627405, 0.010003638, 0.010662078, 0.0111092795, 0.010950159, 0.013287334, 0.011393231, 0.011497405, 0.011356579, 0.012142537, 0.012276029, 0.00967113, 0.010874063, 0.011228903, 0.010245905, 0.012861635, 0.011291479, 0.011990545, 0.010560161, 0.010512061, 0.010951807, 0.010228881, 0.011222607, 0.012104704, 0.011714943, 0.010193877, 0.010224013, 0.011565466, 0.010214478, 0.012332417, 0.012623622, 0.012130868, 0.010494436, 0.022334391, 0.011534504, 0.010278595, 0.01132718, 0.011659306, 0.011408874, 0.011488262, 0.009952086, 0.009741518, 0.009732877]\n",
      "2021-02-18 11:26:31,744 : INFO : merging changes from 1204 documents into a model of 3204 documents\n",
      "2021-02-18 11:26:31,755 : INFO : topic #45 (0.010): 0.155*\"algorithm\" + 0.109*\"(\" + 0.075*\"[\" + 0.065*\"exact\" + 0.058*\"divisor\" + 0.058*\")\" + 0.048*\"greatest\" + 0.047*\"exploit\" + 0.043*\"f4\" + 0.035*\"linear\"\n",
      "2021-02-18 11:26:31,756 : INFO : topic #68 (0.010): 0.149*\"symmetr\" + 0.138*\"0\" + 0.121*\"eigenvalu\" + 0.077*\"linear\" + 0.064*\"enumer\" + 0.061*\"program\" + 0.056*\"algorithm\" + 0.046*\"implicit\" + 0.042*\"eigenvector\" + 0.037*\"1\"\n",
      "2021-02-18 11:26:31,757 : INFO : topic #62 (0.013): 0.232*\"structur\" + 0.087*\"data\" + 0.067*\"definit\" + 0.051*\"defin\" + 0.041*\"concept\" + 0.036*\",\" + 0.035*\"languag\" + 0.029*\"list\" + 0.026*\"context\" + 0.022*\"type\"\n",
      "2021-02-18 11:26:31,758 : INFO : topic #24 (0.016): 0.499*\"(\" + 0.445*\")\" + 0.024*\"corrigendum\" + 0.019*\"calcul\" + 0.005*\"ellipt\" + 0.001*\"function\" + 0.000*\"simpson\" + 0.000*\"adapt\" + 0.000*\"stage\" + 0.000*\"regress\"\n",
      "2021-02-18 11:26:31,759 : INFO : topic #90 (0.022): 0.299*\"algorithm\" + 0.237*\"(\" + 0.163*\")\" + 0.129*\"[\" + 0.058*\"])\" + 0.022*\"complex\" + 0.020*\"function\" + 0.011*\"number\" + 0.010*\"a1\" + 0.010*\"partit\"\n",
      "2021-02-18 11:26:31,760 : INFO : topic diff=0.520263, rho=0.322715\n",
      "2021-02-18 11:26:31,769 : INFO : PROGRESS: pass 8, at document #2000/3204\n",
      "2021-02-18 11:26:32,582 : INFO : optimized alpha [0.013434403, 0.010889739, 0.012653984, 0.011270944, 0.010378532, 0.010252275, 0.010509918, 0.012066231, 0.01134655, 0.011018894, 0.011037799, 0.010992813, 0.011059966, 0.010634368, 0.012312881, 0.011677408, 0.0124214925, 0.010885484, 0.010264904, 0.010109851, 0.011823139, 0.010630966, 0.010883372, 0.01130703, 0.017442884, 0.013321164, 0.010870244, 0.012154865, 0.010829919, 0.011225252, 0.012197471, 0.011735452, 0.010670255, 0.012209023, 0.010677662, 0.011995619, 0.009981707, 0.01172745, 0.011553303, 0.011336829, 0.010615904, 0.010977638, 0.011431222, 0.0123413475, 0.010993097, 0.00949438, 0.012981511, 0.010771065, 0.011324853, 0.010574813, 0.011027293, 0.011189801, 0.0113822585, 0.012301519, 0.010560992, 0.009926666, 0.011582585, 0.01170939, 0.010019408, 0.010646051, 0.0110970475, 0.011108185, 0.013398727, 0.011396794, 0.011581197, 0.011424699, 0.012248535, 0.012431798, 0.0096602505, 0.010895153, 0.01133203, 0.0102301, 0.012831209, 0.011306882, 0.012040784, 0.010602507, 0.0106166, 0.010955915, 0.010230001, 0.011249309, 0.01209821, 0.011819932, 0.010195514, 0.010253123, 0.011724179, 0.010288285, 0.012541982, 0.0125532085, 0.01233125, 0.0104860235, 0.023771234, 0.011542546, 0.010284461, 0.011363687, 0.011830606, 0.011420203, 0.011534137, 0.010004054, 0.009722549, 0.009708234]\n",
      "2021-02-18 11:26:32,589 : INFO : merging changes from 2000 documents into a model of 3204 documents\n",
      "2021-02-18 11:26:32,600 : INFO : topic #45 (0.009): 0.150*\"algorithm\" + 0.108*\"(\" + 0.079*\"[\" + 0.061*\"exact\" + 0.051*\"divisor\" + 0.050*\"])\" + 0.044*\")\" + 0.043*\"greatest\" + 0.042*\"f4\" + 0.037*\"exploit\"\n",
      "2021-02-18 11:26:32,601 : INFO : topic #68 (0.010): 0.158*\"symmetr\" + 0.126*\"0\" + 0.126*\"eigenvalu\" + 0.073*\"linear\" + 0.059*\"program\" + 0.057*\"enumer\" + 0.055*\"eigenvector\" + 0.051*\"algorithm\" + 0.041*\"f2\" + 0.037*\"implicit\"\n",
      "2021-02-18 11:26:32,602 : INFO : topic #0 (0.013): 0.538*\"\"\" + 0.069*\"number\" + 0.062*\"arithmet\" + 0.054*\"integ\" + 0.033*\"divis\" + 0.026*\"algorithm\" + 0.023*\"present\" + 0.023*\"multipl\" + 0.020*\"complement\" + 0.015*\"bit\"\n",
      "2021-02-18 11:26:32,602 : INFO : topic #24 (0.017): 0.495*\"(\" + 0.453*\")\" + 0.019*\"calcul\" + 0.019*\"corrigendum\" + 0.008*\"ellipt\" + 0.001*\"function\" + 0.000*\"simpson\" + 0.000*\"adapt\" + 0.000*\"stage\" + 0.000*\"regress\"\n",
      "2021-02-18 11:26:32,603 : INFO : topic #90 (0.024): 0.299*\"algorithm\" + 0.234*\"(\" + 0.139*\")\" + 0.132*\"[\" + 0.081*\"])\" + 0.021*\"function\" + 0.019*\"complex\" + 0.011*\"number\" + 0.010*\"a1\" + 0.009*\"partit\"\n",
      "2021-02-18 11:26:32,604 : INFO : topic diff=0.453573, rho=0.307119\n",
      "2021-02-18 11:26:33,432 : INFO : -6.521 per-word bound, 91.8 perplexity estimate based on a held-out corpus of 1204 documents with 49783 words\n",
      "2021-02-18 11:26:33,432 : INFO : PROGRESS: pass 8, at document #3204/3204\n",
      "2021-02-18 11:26:34,175 : INFO : optimized alpha [0.0138116, 0.011097767, 0.0128548695, 0.011418078, 0.010442754, 0.010330724, 0.010609958, 0.012284712, 0.011545448, 0.011129557, 0.011201076, 0.011034509, 0.011170083, 0.010772631, 0.012420211, 0.011947191, 0.0126909595, 0.010922589, 0.010363354, 0.010158314, 0.01202669, 0.010667163, 0.011040764, 0.011435397, 0.018451773, 0.013718704, 0.011009588, 0.012383617, 0.010958771, 0.011364781, 0.012423232, 0.01182367, 0.010809402, 0.012423513, 0.01083843, 0.01225463, 0.010072838, 0.01187261, 0.011791142, 0.011535424, 0.010702546, 0.011091352, 0.01157106, 0.012603507, 0.011122285, 0.009485127, 0.013262669, 0.010889085, 0.01148636, 0.010713804, 0.011201575, 0.011381437, 0.011542492, 0.0125152655, 0.010688489, 0.009982785, 0.011767015, 0.012088082, 0.010082025, 0.010785328, 0.011281668, 0.011200332, 0.013762126, 0.011542581, 0.011748062, 0.011615476, 0.012423565, 0.012619967, 0.009673675, 0.011049557, 0.011468951, 0.010311544, 0.013148359, 0.011475344, 0.012185805, 0.010667017, 0.01067492, 0.011093977, 0.010402586, 0.011412705, 0.012354558, 0.012151967, 0.010286262, 0.01033372, 0.011809803, 0.010353753, 0.012686435, 0.012917242, 0.012436078, 0.010596413, 0.024231948, 0.011691368, 0.010396202, 0.011542891, 0.011926571, 0.01165956, 0.011714401, 0.010082801, 0.009791168, 0.009754383]\n",
      "2021-02-18 11:26:34,182 : INFO : merging changes from 1204 documents into a model of 3204 documents\n",
      "2021-02-18 11:26:34,194 : INFO : topic #45 (0.009): 0.155*\"algorithm\" + 0.106*\"(\" + 0.073*\"[\" + 0.067*\"exact\" + 0.060*\"divisor\" + 0.055*\")\" + 0.049*\"greatest\" + 0.048*\"exploit\" + 0.043*\"f4\" + 0.035*\"linear\"\n",
      "2021-02-18 11:26:34,194 : INFO : topic #68 (0.010): 0.155*\"symmetr\" + 0.142*\"0\" + 0.124*\"eigenvalu\" + 0.078*\"linear\" + 0.069*\"enumer\" + 0.057*\"program\" + 0.051*\"algorithm\" + 0.047*\"implicit\" + 0.044*\"eigenvector\" + 0.035*\"1\"\n"
     ]
    },
    {
     "name": "stderr",
     "output_type": "stream",
     "text": [
      "2021-02-18 11:26:34,195 : INFO : topic #0 (0.014): 0.568*\"\"\" + 0.069*\"number\" + 0.054*\"integ\" + 0.053*\"arithmet\" + 0.031*\"divis\" + 0.025*\"present\" + 0.024*\"algorithm\" + 0.023*\"complement\" + 0.021*\"multipl\" + 0.015*\"uniform\"\n",
      "2021-02-18 11:26:34,196 : INFO : topic #24 (0.018): 0.502*\"(\" + 0.450*\")\" + 0.022*\"corrigendum\" + 0.015*\"calcul\" + 0.005*\"ellipt\" + 0.001*\"function\" + 0.000*\"simpson\" + 0.000*\"adapt\" + 0.000*\"stage\" + 0.000*\"regress\"\n",
      "2021-02-18 11:26:34,196 : INFO : topic #90 (0.024): 0.312*\"algorithm\" + 0.229*\"(\" + 0.148*\")\" + 0.137*\"[\" + 0.062*\"])\" + 0.021*\"complex\" + 0.020*\"function\" + 0.011*\"a1\" + 0.011*\"number\" + 0.010*\"partit\"\n",
      "2021-02-18 11:26:34,198 : INFO : topic diff=0.458455, rho=0.307119\n",
      "2021-02-18 11:26:34,205 : INFO : PROGRESS: pass 9, at document #2000/3204\n",
      "2021-02-18 11:26:34,992 : INFO : optimized alpha [0.013958343, 0.011118929, 0.013023167, 0.0115253655, 0.010415561, 0.010331069, 0.010628844, 0.012389896, 0.011540554, 0.011109905, 0.011204569, 0.011141083, 0.011186636, 0.0107989255, 0.012655417, 0.01195705, 0.012768737, 0.011019218, 0.010390782, 0.010165504, 0.012041735, 0.010804653, 0.011108707, 0.011547125, 0.019664766, 0.013782265, 0.011006321, 0.012507058, 0.0110038845, 0.011376437, 0.012453599, 0.012030091, 0.010892842, 0.012464255, 0.010892995, 0.01235045, 0.010077911, 0.011925451, 0.011897581, 0.011554613, 0.010759761, 0.011125403, 0.011667749, 0.012751359, 0.011116505, 0.009474699, 0.013368328, 0.010872895, 0.011556099, 0.01076625, 0.011156591, 0.011399997, 0.011552794, 0.012708455, 0.010675375, 0.010009739, 0.011766227, 0.012177203, 0.0100975195, 0.010774594, 0.0112727145, 0.011360268, 0.013878955, 0.011544174, 0.01182702, 0.0116963275, 0.012525736, 0.012778345, 0.009664114, 0.01106962, 0.01157186, 0.010295201, 0.013117123, 0.011489854, 0.01223587, 0.010719006, 0.0107808085, 0.011097787, 0.0104124425, 0.011438067, 0.01235258, 0.012265483, 0.010297082, 0.010369628, 0.011965288, 0.010441978, 0.012892361, 0.012846763, 0.012630925, 0.010588422, 0.025668494, 0.011695354, 0.010408066, 0.011586065, 0.012092795, 0.011674653, 0.011765112, 0.010143472, 0.009779182, 0.009735834]\n",
      "2021-02-18 11:26:35,000 : INFO : merging changes from 2000 documents into a model of 3204 documents\n",
      "2021-02-18 11:26:35,011 : INFO : topic #45 (0.009): 0.151*\"algorithm\" + 0.105*\"(\" + 0.077*\"[\" + 0.063*\"exact\" + 0.053*\"divisor\" + 0.048*\"])\" + 0.043*\"greatest\" + 0.043*\")\" + 0.042*\"f4\" + 0.038*\"exploit\"\n",
      "2021-02-18 11:26:35,011 : INFO : topic #68 (0.010): 0.164*\"symmetr\" + 0.130*\"0\" + 0.130*\"eigenvalu\" + 0.074*\"linear\" + 0.064*\"enumer\" + 0.056*\"eigenvector\" + 0.056*\"program\" + 0.045*\"algorithm\" + 0.042*\"f2\" + 0.038*\"implicit\"\n",
      "2021-02-18 11:26:35,012 : INFO : topic #0 (0.014): 0.569*\"\"\" + 0.067*\"number\" + 0.054*\"integ\" + 0.050*\"arithmet\" + 0.033*\"divis\" + 0.024*\"present\" + 0.023*\"multipl\" + 0.023*\"algorithm\" + 0.021*\"complement\" + 0.013*\"uniform\"\n",
      "2021-02-18 11:26:35,012 : INFO : topic #24 (0.020): 0.498*\"(\" + 0.457*\")\" + 0.018*\"corrigendum\" + 0.014*\"calcul\" + 0.008*\"ellipt\" + 0.001*\"function\" + 0.000*\"simpson\" + 0.000*\"adapt\" + 0.000*\"stage\" + 0.000*\"regress\"\n",
      "2021-02-18 11:26:35,013 : INFO : topic #90 (0.026): 0.312*\"algorithm\" + 0.225*\"(\" + 0.140*\"[\" + 0.124*\")\" + 0.086*\"])\" + 0.022*\"function\" + 0.019*\"complex\" + 0.011*\"number\" + 0.011*\"a1\" + 0.009*\"partit\"\n",
      "2021-02-18 11:26:35,014 : INFO : topic diff=0.398846, rho=0.293585\n",
      "2021-02-18 11:26:35,902 : INFO : -6.503 per-word bound, 90.7 perplexity estimate based on a held-out corpus of 1204 documents with 49783 words\n",
      "2021-02-18 11:26:35,903 : INFO : PROGRESS: pass 9, at document #3204/3204\n",
      "2021-02-18 11:26:36,666 : INFO : optimized alpha [0.014317168, 0.011331511, 0.01321433, 0.011670193, 0.010472638, 0.01041194, 0.010714833, 0.012601639, 0.011744209, 0.011199985, 0.01135687, 0.011178289, 0.011303942, 0.010937698, 0.012757762, 0.012213191, 0.013027399, 0.011057462, 0.010490856, 0.010217463, 0.012235617, 0.0108389035, 0.0112662995, 0.011673649, 0.020747995, 0.014178076, 0.0111407535, 0.012759827, 0.011114654, 0.011513862, 0.012693759, 0.012114208, 0.011035137, 0.012668854, 0.011064475, 0.012620489, 0.010165765, 0.012074301, 0.012134726, 0.011758145, 0.010856298, 0.011243269, 0.011811279, 0.013012728, 0.011257555, 0.00946926, 0.013638266, 0.010989472, 0.011714967, 0.010911198, 0.011330352, 0.011582646, 0.011710203, 0.012940797, 0.010798337, 0.010063884, 0.011944449, 0.012591473, 0.010160442, 0.010916915, 0.011462405, 0.0114486385, 0.014237293, 0.011684885, 0.012002781, 0.011892574, 0.012694807, 0.012950732, 0.0096778, 0.011224281, 0.011703905, 0.010373884, 0.013418409, 0.011658256, 0.012372601, 0.010783745, 0.010847285, 0.0112283435, 0.010587163, 0.01160142, 0.01259789, 0.012614811, 0.010397279, 0.010447263, 0.012055916, 0.010520254, 0.013034513, 0.013191041, 0.012731085, 0.010700021, 0.02608826, 0.011856299, 0.010521047, 0.011753492, 0.012199538, 0.011912734, 0.011939373, 0.01024916, 0.009847909, 0.009785434]\n",
      "2021-02-18 11:26:36,674 : INFO : merging changes from 1204 documents into a model of 3204 documents\n",
      "2021-02-18 11:26:36,694 : INFO : topic #45 (0.009): 0.159*\"algorithm\" + 0.103*\"(\" + 0.073*\"[\" + 0.069*\"exact\" + 0.060*\"divisor\" + 0.050*\")\" + 0.049*\"greatest\" + 0.048*\"exploit\" + 0.043*\"f4\" + 0.035*\"common\"\n",
      "2021-02-18 11:26:36,694 : INFO : topic #68 (0.010): 0.160*\"symmetr\" + 0.144*\"0\" + 0.127*\"eigenvalu\" + 0.079*\"linear\" + 0.072*\"enumer\" + 0.056*\"program\" + 0.048*\"implicit\" + 0.045*\"algorithm\" + 0.045*\"eigenvector\" + 0.036*\"f2\"\n",
      "2021-02-18 11:26:36,695 : INFO : topic #0 (0.014): 0.596*\"\"\" + 0.066*\"number\" + 0.054*\"integ\" + 0.042*\"arithmet\" + 0.031*\"divis\" + 0.025*\"present\" + 0.023*\"complement\" + 0.021*\"multipl\" + 0.020*\"algorithm\" + 0.014*\"uniform\"\n",
      "2021-02-18 11:26:36,696 : INFO : topic #24 (0.021): 0.504*\"(\" + 0.452*\")\" + 0.021*\"corrigendum\" + 0.012*\"calcul\" + 0.005*\"ellipt\" + 0.001*\"function\" + 0.000*\"simpson\" + 0.000*\"adapt\" + 0.000*\"stage\" + 0.000*\"regress\"\n",
      "2021-02-18 11:26:36,696 : INFO : topic #90 (0.026): 0.323*\"algorithm\" + 0.221*\"(\" + 0.144*\"[\" + 0.135*\")\" + 0.066*\"])\" + 0.021*\"complex\" + 0.020*\"function\" + 0.011*\"a1\" + 0.011*\"number\" + 0.010*\"partit\"\n",
      "2021-02-18 11:26:36,697 : INFO : topic diff=0.403319, rho=0.293585\n",
      "2021-02-18 11:26:36,706 : INFO : PROGRESS: pass 10, at document #2000/3204\n",
      "2021-02-18 11:26:37,557 : INFO : optimized alpha [0.014455134, 0.011359309, 0.01337806, 0.011769352, 0.01044715, 0.010412553, 0.010737857, 0.012703412, 0.011743746, 0.011184696, 0.011360019, 0.011286436, 0.011319975, 0.010972215, 0.012987585, 0.012219854, 0.013103877, 0.011149536, 0.010524868, 0.010229131, 0.012246105, 0.010974034, 0.011330313, 0.011782118, 0.022088503, 0.0142397145, 0.011143709, 0.012892107, 0.011156675, 0.011526613, 0.012720551, 0.012324126, 0.011125307, 0.012724148, 0.011128006, 0.012722002, 0.010169399, 0.012130345, 0.012239599, 0.011777725, 0.010913197, 0.011269762, 0.011905019, 0.013156603, 0.011258178, 0.009460179, 0.013742082, 0.010981803, 0.01178396, 0.010964998, 0.011291472, 0.0116017135, 0.011719853, 0.013147973, 0.010791817, 0.010103048, 0.011946699, 0.012698423, 0.010177157, 0.010911036, 0.011451562, 0.011617344, 0.014347766, 0.011686346, 0.01208246, 0.01197573, 0.01279903, 0.013102948, 0.009669408, 0.011243415, 0.011806994, 0.010367368, 0.013388409, 0.011671885, 0.012415529, 0.010831156, 0.010953135, 0.011235057, 0.0105992295, 0.011625634, 0.012598445, 0.012735324, 0.010419612, 0.010482119, 0.012210473, 0.010610339, 0.013241227, 0.013122455, 0.0129209785, 0.010696938, 0.02756753, 0.011853117, 0.010538528, 0.011804973, 0.012369909, 0.01193319, 0.0119897695, 0.010315217, 0.009836786, 0.009766752]\n",
      "2021-02-18 11:26:37,566 : INFO : merging changes from 2000 documents into a model of 3204 documents\n",
      "2021-02-18 11:26:37,579 : INFO : topic #45 (0.009): 0.154*\"algorithm\" + 0.103*\"(\" + 0.076*\"[\" + 0.064*\"exact\" + 0.054*\"divisor\" + 0.047*\"])\" + 0.044*\"greatest\" + 0.042*\"f4\" + 0.039*\")\" + 0.038*\"exploit\"\n",
      "2021-02-18 11:26:37,580 : INFO : topic #68 (0.010): 0.169*\"symmetr\" + 0.133*\"0\" + 0.132*\"eigenvalu\" + 0.075*\"linear\" + 0.068*\"enumer\" + 0.057*\"eigenvector\" + 0.054*\"program\" + 0.042*\"f2\" + 0.041*\"algorithm\" + 0.039*\"implicit\"\n",
      "2021-02-18 11:26:37,580 : INFO : topic #0 (0.014): 0.597*\"\"\" + 0.064*\"number\" + 0.054*\"integ\" + 0.040*\"arithmet\" + 0.033*\"divis\" + 0.023*\"multipl\" + 0.023*\"present\" + 0.021*\"complement\" + 0.019*\"algorithm\" + 0.013*\"uniform\"\n"
     ]
    },
    {
     "name": "stderr",
     "output_type": "stream",
     "text": [
      "2021-02-18 11:26:37,581 : INFO : topic #24 (0.022): 0.500*\"(\" + 0.459*\")\" + 0.017*\"corrigendum\" + 0.011*\"calcul\" + 0.007*\"ellipt\" + 0.000*\"function\" + 0.000*\"simpson\" + 0.000*\"adapt\" + 0.000*\"stage\" + 0.000*\"regress\"\n",
      "2021-02-18 11:26:37,582 : INFO : topic #90 (0.028): 0.322*\"algorithm\" + 0.218*\"(\" + 0.146*\"[\" + 0.113*\")\" + 0.089*\"])\" + 0.022*\"function\" + 0.019*\"complex\" + 0.011*\"number\" + 0.011*\"a1\" + 0.010*\"partit\"\n",
      "2021-02-18 11:26:37,583 : INFO : topic diff=0.350839, rho=0.281696\n",
      "2021-02-18 11:26:38,545 : INFO : -6.489 per-word bound, 89.8 perplexity estimate based on a held-out corpus of 1204 documents with 49783 words\n",
      "2021-02-18 11:26:38,546 : INFO : PROGRESS: pass 10, at document #3204/3204\n",
      "2021-02-18 11:26:39,328 : INFO : optimized alpha [0.01480645, 0.011576935, 0.013566563, 0.011903942, 0.010507632, 0.010490928, 0.010831241, 0.012900235, 0.011947048, 0.011272036, 0.011505014, 0.011327344, 0.0114335185, 0.011106685, 0.013085527, 0.012472023, 0.01335272, 0.011186296, 0.010631638, 0.010281977, 0.012437031, 0.011003954, 0.011493809, 0.011904521, 0.023264155, 0.014627969, 0.011276553, 0.013150894, 0.011263864, 0.011662414, 0.012957365, 0.012398803, 0.011276363, 0.012931939, 0.011299867, 0.012991871, 0.0102569265, 0.012277414, 0.012479624, 0.011978266, 0.011003986, 0.011389157, 0.012041192, 0.013420992, 0.01139214, 0.009458109, 0.014005163, 0.011105068, 0.011937926, 0.01111854, 0.011462437, 0.011776234, 0.011869454, 0.013384075, 0.0109083075, 0.010157864, 0.012116709, 0.01313232, 0.010230967, 0.011061853, 0.011630204, 0.011705072, 0.014705243, 0.0118254945, 0.012255824, 0.012177899, 0.012968914, 0.013272958, 0.009681055, 0.011404038, 0.0119319875, 0.010453457, 0.013684548, 0.011837866, 0.0125508765, 0.010901403, 0.011017151, 0.0113640865, 0.010778867, 0.011789477, 0.012848962, 0.013090879, 0.010523929, 0.010559733, 0.012311921, 0.010688393, 0.013393975, 0.013460903, 0.013017063, 0.010797438, 0.027968958, 0.012006154, 0.010647943, 0.0119812805, 0.012458066, 0.012176367, 0.012161648, 0.010429805, 0.009903427, 0.009815063]\n",
      "2021-02-18 11:26:39,336 : INFO : merging changes from 1204 documents into a model of 3204 documents\n",
      "2021-02-18 11:26:39,349 : INFO : topic #45 (0.009): 0.158*\"algorithm\" + 0.099*\"(\" + 0.075*\"[\" + 0.072*\"exact\" + 0.061*\"divisor\" + 0.049*\"greatest\" + 0.048*\"exploit\" + 0.046*\")\" + 0.043*\"f4\" + 0.035*\"linear\"\n",
      "2021-02-18 11:26:39,350 : INFO : topic #68 (0.010): 0.165*\"symmetr\" + 0.147*\"0\" + 0.129*\"eigenvalu\" + 0.077*\"linear\" + 0.076*\"enumer\" + 0.054*\"program\" + 0.048*\"implicit\" + 0.046*\"eigenvector\" + 0.041*\"algorithm\" + 0.037*\"f2\"\n",
      "2021-02-18 11:26:39,351 : INFO : topic #0 (0.015): 0.621*\"\"\" + 0.063*\"number\" + 0.054*\"integ\" + 0.033*\"arithmet\" + 0.031*\"divis\" + 0.024*\"present\" + 0.023*\"complement\" + 0.021*\"multipl\" + 0.017*\"algorithm\" + 0.014*\"uniform\"\n",
      "2021-02-18 11:26:39,351 : INFO : topic #24 (0.023): 0.506*\"(\" + 0.454*\")\" + 0.020*\"corrigendum\" + 0.010*\"calcul\" + 0.005*\"ellipt\" + 0.000*\"function\" + 0.000*\"simpson\" + 0.000*\"adapt\" + 0.000*\"stage\" + 0.000*\"regress\"\n",
      "2021-02-18 11:26:39,352 : INFO : topic #90 (0.028): 0.333*\"algorithm\" + 0.214*\"(\" + 0.149*\"[\" + 0.124*\")\" + 0.070*\"])\" + 0.021*\"complex\" + 0.020*\"function\" + 0.011*\"a1\" + 0.011*\"partit\" + 0.010*\"number\"\n",
      "2021-02-18 11:26:39,354 : INFO : topic diff=0.355979, rho=0.281696\n",
      "2021-02-18 11:26:39,363 : INFO : PROGRESS: pass 11, at document #2000/3204\n",
      "2021-02-18 11:26:40,307 : INFO : optimized alpha [0.014940029, 0.011606434, 0.013731822, 0.012001946, 0.010486497, 0.010496117, 0.010853686, 0.013002508, 0.01194432, 0.011259237, 0.01151099, 0.011432622, 0.011445886, 0.011138563, 0.013308813, 0.012480799, 0.013428166, 0.0112757925, 0.010667521, 0.010293628, 0.012444991, 0.011135667, 0.011562029, 0.012018203, 0.024713922, 0.01469217, 0.011279307, 0.013295696, 0.011309222, 0.011674668, 0.012982497, 0.012604268, 0.01137478, 0.012981637, 0.01135979, 0.013095646, 0.010263461, 0.012331715, 0.012591506, 0.011998291, 0.01106682, 0.011416375, 0.012132317, 0.013563111, 0.011392685, 0.009450172, 0.014109364, 0.011096185, 0.012003125, 0.011175261, 0.011424517, 0.011792738, 0.011880215, 0.01359502, 0.010902043, 0.010197485, 0.012121885, 0.013252065, 0.010246067, 0.011055942, 0.01162566, 0.011879539, 0.014825711, 0.011825241, 0.012327985, 0.012270161, 0.013071913, 0.013428614, 0.009673718, 0.011436281, 0.012030594, 0.010447482, 0.013653852, 0.011845909, 0.012594123, 0.010957961, 0.011126288, 0.011372091, 0.010793005, 0.011815875, 0.012855411, 0.013213355, 0.010542717, 0.010600913, 0.012467712, 0.010779029, 0.013601892, 0.013390442, 0.013202622, 0.01079163, 0.029502738, 0.012004476, 0.010667781, 0.012030957, 0.012620999, 0.012203726, 0.012208585, 0.010496901, 0.009894389, 0.009798943]\n",
      "2021-02-18 11:26:40,316 : INFO : merging changes from 2000 documents into a model of 3204 documents\n",
      "2021-02-18 11:26:40,329 : INFO : topic #45 (0.009): 0.153*\"algorithm\" + 0.099*\"(\" + 0.077*\"[\" + 0.067*\"exact\" + 0.054*\"divisor\" + 0.044*\"])\" + 0.044*\"greatest\" + 0.043*\"f4\" + 0.039*\"exploit\" + 0.038*\"legendr\"\n",
      "2021-02-18 11:26:40,330 : INFO : topic #68 (0.010): 0.172*\"symmetr\" + 0.135*\"0\" + 0.134*\"eigenvalu\" + 0.073*\"linear\" + 0.072*\"enumer\" + 0.057*\"eigenvector\" + 0.054*\"program\" + 0.043*\"f2\" + 0.040*\"implicit\" + 0.037*\"algorithm\"\n",
      "2021-02-18 11:26:40,330 : INFO : topic #0 (0.015): 0.623*\"\"\" + 0.062*\"number\" + 0.054*\"integ\" + 0.032*\"divis\" + 0.032*\"arithmet\" + 0.023*\"multipl\" + 0.023*\"present\" + 0.021*\"complement\" + 0.016*\"algorithm\" + 0.012*\"uniform\"\n",
      "2021-02-18 11:26:40,331 : INFO : topic #24 (0.025): 0.501*\"(\" + 0.461*\")\" + 0.016*\"corrigendum\" + 0.010*\"calcul\" + 0.007*\"ellipt\" + 0.000*\"function\" + 0.000*\"simpson\" + 0.000*\"adapt\" + 0.000*\"stage\" + 0.000*\"regress\"\n",
      "2021-02-18 11:26:40,331 : INFO : topic #90 (0.030): 0.331*\"algorithm\" + 0.213*\"(\" + 0.151*\"[\" + 0.103*\")\" + 0.092*\"])\" + 0.020*\"function\" + 0.019*\"complex\" + 0.011*\"a1\" + 0.011*\"number\" + 0.010*\"partit\"\n",
      "2021-02-18 11:26:40,332 : INFO : topic diff=0.309787, rho=0.271143\n",
      "2021-02-18 11:26:41,284 : INFO : -6.477 per-word bound, 89.1 perplexity estimate based on a held-out corpus of 1204 documents with 49783 words\n",
      "2021-02-18 11:26:41,284 : INFO : PROGRESS: pass 11, at document #3204/3204\n",
      "2021-02-18 11:26:42,079 : INFO : optimized alpha [0.015288, 0.011821634, 0.013918372, 0.012137988, 0.010547783, 0.010577085, 0.010949197, 0.013197064, 0.012131438, 0.0113492785, 0.0116519, 0.011474608, 0.011566616, 0.011274339, 0.013402787, 0.012726906, 0.013683148, 0.011311262, 0.010773559, 0.010352077, 0.012622192, 0.011164246, 0.011721184, 0.012142337, 0.025973659, 0.015087235, 0.01141347, 0.013567145, 0.011415681, 0.011809268, 0.013222419, 0.0126786, 0.011526888, 0.013187138, 0.011537494, 0.013362859, 0.01035771, 0.012469042, 0.012843361, 0.012196403, 0.0111598605, 0.011521996, 0.012264613, 0.013818753, 0.011530495, 0.009449016, 0.014363011, 0.011216017, 0.012152817, 0.011332541, 0.01159335, 0.011965269, 0.012017363, 0.013835242, 0.011015146, 0.010253014, 0.012301059, 0.013697938, 0.0102984095, 0.011202574, 0.011794164, 0.0119695, 0.015186872, 0.011960412, 0.01249387, 0.01247306, 0.013237036, 0.01359061, 0.00968785, 0.011597822, 0.012151878, 0.01054057, 0.013939594, 0.012015434, 0.012736909, 0.011030964, 0.0111881085, 0.011497382, 0.010985164, 0.0119832875, 0.013099776, 0.0135670295, 0.010646431, 0.0106762415, 0.012562896, 0.010859515, 0.013759043, 0.0137209315, 0.013292077, 0.010894034, 0.029871358, 0.012142202, 0.01077648, 0.012210896, 0.012708728, 0.01245231, 0.012381226, 0.010615476, 0.009956977, 0.009850515]\n",
      "2021-02-18 11:26:42,089 : INFO : merging changes from 1204 documents into a model of 3204 documents\n",
      "2021-02-18 11:26:42,104 : INFO : topic #45 (0.009): 0.158*\"algorithm\" + 0.096*\"(\" + 0.075*\"[\" + 0.074*\"exact\" + 0.061*\"divisor\" + 0.050*\"greatest\" + 0.048*\"exploit\" + 0.044*\"f4\" + 0.043*\")\" + 0.036*\"linear\"\n",
      "2021-02-18 11:26:42,105 : INFO : topic #68 (0.010): 0.167*\"symmetr\" + 0.148*\"0\" + 0.131*\"eigenvalu\" + 0.078*\"linear\" + 0.078*\"enumer\" + 0.055*\"program\" + 0.048*\"implicit\" + 0.047*\"eigenvector\" + 0.037*\"algorithm\" + 0.037*\"f2\"\n",
      "2021-02-18 11:26:42,107 : INFO : topic #0 (0.015): 0.643*\"\"\" + 0.060*\"number\" + 0.053*\"integ\" + 0.031*\"divis\" + 0.027*\"arithmet\" + 0.024*\"complement\" + 0.024*\"present\" + 0.021*\"multipl\" + 0.014*\"algorithm\" + 0.013*\"uniform\"\n"
     ]
    },
    {
     "name": "stderr",
     "output_type": "stream",
     "text": [
      "2021-02-18 11:26:42,108 : INFO : topic #24 (0.026): 0.506*\"(\" + 0.456*\")\" + 0.019*\"corrigendum\" + 0.008*\"calcul\" + 0.005*\"ellipt\" + 0.000*\"function\" + 0.000*\"simpson\" + 0.000*\"adapt\" + 0.000*\"stage\" + 0.000*\"regress\"\n",
      "2021-02-18 11:26:42,108 : INFO : topic #90 (0.030): 0.341*\"algorithm\" + 0.209*\"(\" + 0.153*\"[\" + 0.116*\")\" + 0.072*\"])\" + 0.022*\"complex\" + 0.018*\"function\" + 0.011*\"a1\" + 0.011*\"partit\" + 0.010*\"number\"\n",
      "2021-02-18 11:26:42,109 : INFO : topic diff=0.315224, rho=0.271143\n",
      "2021-02-18 11:26:42,120 : INFO : PROGRESS: pass 12, at document #2000/3204\n",
      "2021-02-18 11:26:42,960 : INFO : optimized alpha [0.015411626, 0.011854431, 0.014081857, 0.012235143, 0.010534827, 0.010582351, 0.010973987, 0.013301744, 0.012128319, 0.011341695, 0.011657602, 0.0115788635, 0.011584738, 0.011320021, 0.0136218, 0.012736123, 0.0137559185, 0.011401499, 0.0108098835, 0.010370502, 0.012627864, 0.0112958085, 0.011787469, 0.012253371, 0.027553812, 0.01515185, 0.01141604, 0.013721169, 0.011458267, 0.011817957, 0.013249562, 0.012876767, 0.011627508, 0.013238628, 0.011600181, 0.013469045, 0.010362794, 0.012520095, 0.012957529, 0.012218519, 0.011216628, 0.011548481, 0.012353414, 0.013953986, 0.011535433, 0.009442091, 0.0144622065, 0.011208896, 0.012217707, 0.011392161, 0.011557788, 0.011984068, 0.012030829, 0.014051965, 0.011012, 0.010295751, 0.012304013, 0.013839883, 0.01031205, 0.011203982, 0.011783152, 0.012156124, 0.015297482, 0.011964854, 0.012568901, 0.012569445, 0.013340796, 0.01374631, 0.009681428, 0.011625858, 0.012254396, 0.010533483, 0.013911969, 0.012027545, 0.0127772195, 0.01108902, 0.011296137, 0.011503599, 0.011004139, 0.012014953, 0.0130998595, 0.013693458, 0.010670328, 0.010716441, 0.012716928, 0.010946562, 0.013965037, 0.013650472, 0.013473795, 0.010892832, 0.03142462, 0.012143773, 0.010801442, 0.012268561, 0.012876386, 0.012483069, 0.012424918, 0.010686416, 0.009948613, 0.00983538]\n",
      "2021-02-18 11:26:42,967 : INFO : merging changes from 2000 documents into a model of 3204 documents\n",
      "2021-02-18 11:26:42,978 : INFO : topic #45 (0.009): 0.153*\"algorithm\" + 0.096*\"(\" + 0.076*\"[\" + 0.069*\"exact\" + 0.055*\"divisor\" + 0.045*\"greatest\" + 0.043*\"f4\" + 0.042*\"])\" + 0.040*\"exploit\" + 0.038*\"legendr\"\n",
      "2021-02-18 11:26:42,979 : INFO : topic #68 (0.010): 0.175*\"symmetr\" + 0.137*\"0\" + 0.135*\"eigenvalu\" + 0.075*\"linear\" + 0.074*\"enumer\" + 0.058*\"eigenvector\" + 0.055*\"program\" + 0.043*\"f2\" + 0.041*\"implicit\" + 0.034*\"algorithm\"\n",
      "2021-02-18 11:26:42,980 : INFO : topic #0 (0.015): 0.646*\"\"\" + 0.059*\"number\" + 0.053*\"integ\" + 0.030*\"divis\" + 0.027*\"arithmet\" + 0.022*\"present\" + 0.022*\"multipl\" + 0.022*\"complement\" + 0.013*\"algorithm\" + 0.012*\"uniform\"\n",
      "2021-02-18 11:26:42,981 : INFO : topic #24 (0.028): 0.502*\"(\" + 0.462*\")\" + 0.016*\"corrigendum\" + 0.008*\"calcul\" + 0.007*\"ellipt\" + 0.000*\"function\" + 0.000*\"simpson\" + 0.000*\"adapt\" + 0.000*\"stage\" + 0.000*\"regress\"\n",
      "2021-02-18 11:26:42,982 : INFO : topic #90 (0.031): 0.338*\"algorithm\" + 0.208*\"(\" + 0.155*\"[\" + 0.096*\")\" + 0.095*\"])\" + 0.020*\"complex\" + 0.019*\"function\" + 0.011*\"a1\" + 0.011*\"number\" + 0.010*\"partit\"\n",
      "2021-02-18 11:26:42,983 : INFO : topic diff=0.274908, rho=0.261694\n",
      "2021-02-18 11:26:43,815 : INFO : -6.464 per-word bound, 88.3 perplexity estimate based on a held-out corpus of 1204 documents with 49783 words\n",
      "2021-02-18 11:26:43,816 : INFO : PROGRESS: pass 12, at document #3204/3204\n",
      "2021-02-18 11:26:44,598 : INFO : optimized alpha [0.015749983, 0.012065057, 0.01426051, 0.012362225, 0.010592304, 0.010665905, 0.011062155, 0.013488778, 0.0123161, 0.011431969, 0.011800028, 0.011616851, 0.011707419, 0.0114671085, 0.013721093, 0.012976889, 0.014008431, 0.011440764, 0.01092257, 0.01042746, 0.012795066, 0.011330477, 0.011947799, 0.012368661, 0.028892923, 0.015540834, 0.011541737, 0.013987811, 0.0115568405, 0.011946453, 0.013487103, 0.012948144, 0.011788647, 0.013448205, 0.01177396, 0.013722469, 0.010454561, 0.01264824, 0.013207769, 0.012422747, 0.011312025, 0.011651336, 0.012482151, 0.014204547, 0.011674695, 0.0094417045, 0.01471009, 0.011330521, 0.01236625, 0.0115457885, 0.0117223365, 0.012154969, 0.012169532, 0.01428748, 0.011124487, 0.010352067, 0.012476078, 0.014302174, 0.010358574, 0.01135187, 0.011965613, 0.012248273, 0.015666148, 0.0120991, 0.012727912, 0.0127818035, 0.013504556, 0.01390085, 0.009693601, 0.011788569, 0.012377688, 0.010621816, 0.014188259, 0.012195505, 0.012907797, 0.01116242, 0.011353522, 0.011628046, 0.011189798, 0.012178313, 0.013341533, 0.014051727, 0.010775955, 0.01079213, 0.012809021, 0.011024737, 0.014117886, 0.0139738675, 0.013562924, 0.010994847, 0.03177976, 0.012285947, 0.010909611, 0.012441516, 0.012958247, 0.012740444, 0.012595961, 0.010811405, 0.010013977, 0.009887912]\n",
      "2021-02-18 11:26:44,608 : INFO : merging changes from 1204 documents into a model of 3204 documents\n",
      "2021-02-18 11:26:44,622 : INFO : topic #45 (0.009): 0.160*\"algorithm\" + 0.091*\"(\" + 0.077*\"exact\" + 0.074*\"[\" + 0.062*\"divisor\" + 0.051*\"greatest\" + 0.049*\"exploit\" + 0.045*\"f4\" + 0.038*\"common\" + 0.038*\"linear\"\n",
      "2021-02-18 11:26:44,623 : INFO : topic #68 (0.010): 0.170*\"symmetr\" + 0.149*\"0\" + 0.132*\"eigenvalu\" + 0.080*\"enumer\" + 0.075*\"linear\" + 0.055*\"program\" + 0.051*\"implicit\" + 0.048*\"eigenvector\" + 0.038*\"f2\" + 0.034*\"1\"\n",
      "2021-02-18 11:26:44,624 : INFO : topic #0 (0.016): 0.665*\"\"\" + 0.056*\"number\" + 0.053*\"integ\" + 0.027*\"divis\" + 0.024*\"complement\" + 0.024*\"arithmet\" + 0.023*\"present\" + 0.020*\"multipl\" + 0.013*\"uniform\" + 0.012*\"classif\"\n",
      "2021-02-18 11:26:44,626 : INFO : topic #24 (0.029): 0.507*\"(\" + 0.457*\")\" + 0.019*\"corrigendum\" + 0.007*\"calcul\" + 0.005*\"ellipt\" + 0.000*\"function\" + 0.000*\"simpson\" + 0.000*\"adapt\" + 0.000*\"stage\" + 0.000*\"regress\"\n",
      "2021-02-18 11:26:44,627 : INFO : topic #90 (0.032): 0.347*\"algorithm\" + 0.205*\"(\" + 0.157*\"[\" + 0.109*\")\" + 0.075*\"])\" + 0.022*\"complex\" + 0.017*\"function\" + 0.012*\"a1\" + 0.011*\"partit\" + 0.010*\"number\"\n",
      "2021-02-18 11:26:44,628 : INFO : topic diff=0.280218, rho=0.261694\n",
      "2021-02-18 11:26:44,639 : INFO : PROGRESS: pass 13, at document #2000/3204\n",
      "2021-02-18 11:26:45,669 : INFO : optimized alpha [0.015865963, 0.012097962, 0.01442248, 0.012460278, 0.010582863, 0.010671164, 0.011089285, 0.013589261, 0.012312546, 0.011423446, 0.011806915, 0.011718803, 0.011723641, 0.011512976, 0.013938123, 0.012983319, 0.014080524, 0.011524614, 0.010960709, 0.010444339, 0.012803549, 0.011465061, 0.012004763, 0.012486634, 0.03057303, 0.015610147, 0.011544169, 0.014147561, 0.01160581, 0.011954839, 0.013514664, 0.0131427655, 0.011891552, 0.013503146, 0.011842311, 0.013820843, 0.010460957, 0.012704463, 0.013317699, 0.012450086, 0.011373176, 0.011677181, 0.012572034, 0.014342245, 0.0116867535, 0.009436871, 0.014810142, 0.011326533, 0.012430966, 0.011608084, 0.011684505, 0.012171366, 0.012187117, 0.014506757, 0.011118638, 0.010395262, 0.012475405, 0.014448689, 0.010370886, 0.0113588525, 0.011962032, 0.012434968, 0.015781144, 0.012101744, 0.012807437, 0.012880668, 0.013600623, 0.014051605, 0.009688026, 0.01182164, 0.012476335, 0.010619204, 0.014161897, 0.012210094, 0.0129486555, 0.011223436, 0.011463561, 0.011636948, 0.01121069, 0.012211947, 0.013347515, 0.014173367, 0.010803366, 0.010823147, 0.012961571, 0.0111154495, 0.014329477, 0.01390341, 0.013741113, 0.010988186, 0.033359062, 0.012299951, 0.010933983, 0.012494397, 0.013122567, 0.012776086, 0.012643083, 0.010882128, 0.010007401, 0.00987616]\n",
      "2021-02-18 11:26:45,679 : INFO : merging changes from 2000 documents into a model of 3204 documents\n",
      "2021-02-18 11:26:45,692 : INFO : topic #45 (0.009): 0.154*\"algorithm\" + 0.091*\"(\" + 0.075*\"[\" + 0.072*\"exact\" + 0.056*\"divisor\" + 0.046*\"greatest\" + 0.045*\"f4\" + 0.041*\"exploit\" + 0.041*\"])\" + 0.039*\"legendr\"\n",
      "2021-02-18 11:26:45,693 : INFO : topic #68 (0.010): 0.177*\"symmetr\" + 0.139*\"0\" + 0.137*\"eigenvalu\" + 0.076*\"enumer\" + 0.073*\"linear\" + 0.058*\"eigenvector\" + 0.055*\"program\" + 0.044*\"f2\" + 0.043*\"implicit\" + 0.032*\"1\"\n",
      "2021-02-18 11:26:45,694 : INFO : topic #0 (0.016): 0.668*\"\"\" + 0.055*\"number\" + 0.053*\"integ\" + 0.025*\"divis\" + 0.024*\"arithmet\" + 0.022*\"complement\" + 0.022*\"present\" + 0.021*\"multipl\" + 0.012*\"uniform\" + 0.012*\"classif\"\n",
      "2021-02-18 11:26:45,696 : INFO : topic #24 (0.031): 0.503*\"(\" + 0.463*\")\" + 0.015*\"corrigendum\" + 0.007*\"calcul\" + 0.006*\"ellipt\" + 0.000*\"function\" + 0.000*\"simpson\" + 0.000*\"adapt\" + 0.000*\"stage\" + 0.000*\"regress\"\n"
     ]
    },
    {
     "name": "stderr",
     "output_type": "stream",
     "text": [
      "2021-02-18 11:26:45,697 : INFO : topic #90 (0.033): 0.343*\"algorithm\" + 0.205*\"(\" + 0.158*\"[\" + 0.096*\"])\" + 0.090*\")\" + 0.020*\"complex\" + 0.017*\"function\" + 0.011*\"a1\" + 0.011*\"number\" + 0.011*\"partit\"\n",
      "2021-02-18 11:26:45,699 : INFO : topic diff=0.245711, rho=0.253169\n",
      "2021-02-18 11:26:46,637 : INFO : -6.455 per-word bound, 87.7 perplexity estimate based on a held-out corpus of 1204 documents with 49783 words\n",
      "2021-02-18 11:26:46,638 : INFO : PROGRESS: pass 13, at document #3204/3204\n",
      "2021-02-18 11:26:47,509 : INFO : optimized alpha [0.01618849, 0.012296791, 0.014596763, 0.012586775, 0.010639074, 0.010764042, 0.011175291, 0.013775003, 0.012488358, 0.011514017, 0.011943522, 0.011755597, 0.011845835, 0.011659168, 0.0140339965, 0.01321922, 0.014336953, 0.011565111, 0.0110823, 0.010510981, 0.012972181, 0.011515277, 0.012161542, 0.012604239, 0.032009166, 0.01599059, 0.011669228, 0.014403746, 0.011699477, 0.012080238, 0.01375328, 0.013211438, 0.012051752, 0.013711407, 0.012012482, 0.014075548, 0.010552727, 0.012837541, 0.01356658, 0.012650163, 0.0114686, 0.011784947, 0.012702886, 0.0145821, 0.011822669, 0.009439204, 0.015043419, 0.011447631, 0.0125760585, 0.011765743, 0.011850109, 0.012333295, 0.0123173585, 0.014744195, 0.011228325, 0.01044796, 0.012643548, 0.014919127, 0.010422979, 0.01151292, 0.012145536, 0.012532142, 0.016137678, 0.012235378, 0.012959983, 0.013097197, 0.013754705, 0.014205046, 0.009702478, 0.01198331, 0.012596541, 0.0107031055, 0.014429532, 0.012371691, 0.013073299, 0.011299661, 0.01152643, 0.011763282, 0.011397323, 0.012379375, 0.01358423, 0.014524782, 0.01091333, 0.010896918, 0.013050822, 0.011191544, 0.01448735, 0.014220365, 0.013835988, 0.011085354, 0.033662166, 0.012438808, 0.01104884, 0.012663506, 0.013210053, 0.013045342, 0.012815656, 0.011008952, 0.010075435, 0.009929647]\n",
      "2021-02-18 11:26:47,518 : INFO : merging changes from 1204 documents into a model of 3204 documents\n",
      "2021-02-18 11:26:47,531 : INFO : topic #45 (0.009): 0.163*\"algorithm\" + 0.087*\"(\" + 0.079*\"exact\" + 0.074*\"[\" + 0.063*\"divisor\" + 0.051*\"greatest\" + 0.050*\"exploit\" + 0.046*\"f4\" + 0.041*\"common\" + 0.038*\"linear\"\n",
      "2021-02-18 11:26:47,532 : INFO : topic #68 (0.010): 0.172*\"symmetr\" + 0.150*\"0\" + 0.134*\"eigenvalu\" + 0.081*\"enumer\" + 0.075*\"linear\" + 0.055*\"program\" + 0.052*\"implicit\" + 0.048*\"eigenvector\" + 0.038*\"f2\" + 0.033*\"1\"\n",
      "2021-02-18 11:26:47,533 : INFO : topic #0 (0.016): 0.685*\"\"\" + 0.053*\"number\" + 0.053*\"integ\" + 0.025*\"complement\" + 0.022*\"present\" + 0.021*\"divis\" + 0.021*\"arithmet\" + 0.018*\"multipl\" + 0.014*\"uniform\" + 0.013*\"classif\"\n",
      "2021-02-18 11:26:47,534 : INFO : topic #24 (0.032): 0.508*\"(\" + 0.458*\")\" + 0.018*\"corrigendum\" + 0.006*\"calcul\" + 0.005*\"ellipt\" + 0.000*\"function\" + 0.000*\"simpson\" + 0.000*\"adapt\" + 0.000*\"stage\" + 0.000*\"regress\"\n",
      "2021-02-18 11:26:47,535 : INFO : topic #90 (0.034): 0.352*\"algorithm\" + 0.202*\"(\" + 0.160*\"[\" + 0.102*\")\" + 0.077*\"])\" + 0.022*\"complex\" + 0.016*\"function\" + 0.012*\"a1\" + 0.011*\"partit\" + 0.010*\"number\"\n",
      "2021-02-18 11:26:47,536 : INFO : topic diff=0.250961, rho=0.253169\n",
      "2021-02-18 11:26:47,545 : INFO : PROGRESS: pass 14, at document #2000/3204\n",
      "2021-02-18 11:26:48,345 : INFO : optimized alpha [0.01629908, 0.012331484, 0.014752077, 0.012682766, 0.01063033, 0.01076798, 0.011206007, 0.013874901, 0.0124814315, 0.011508835, 0.011947183, 0.011862658, 0.0118601555, 0.0117110135, 0.014244098, 0.013226269, 0.014408599, 0.011648643, 0.011119508, 0.01053279, 0.012978564, 0.011658665, 0.012221507, 0.012726218, 0.033777393, 0.0160609, 0.011674463, 0.01459218, 0.01174741, 0.01208689, 0.013777731, 0.013401232, 0.0121556455, 0.0137595385, 0.012085098, 0.014173261, 0.0105630085, 0.012893928, 0.013680783, 0.012674802, 0.011529887, 0.011811668, 0.012795544, 0.014715201, 0.011832839, 0.0094374595, 0.015139043, 0.011445156, 0.012637667, 0.011838226, 0.011814436, 0.012350508, 0.012328327, 0.014980841, 0.011225441, 0.010494228, 0.012647266, 0.015079472, 0.010437864, 0.01151801, 0.012140104, 0.012725324, 0.01624535, 0.012237933, 0.013039225, 0.013210256, 0.013850306, 0.0143528655, 0.009697634, 0.012016844, 0.012694656, 0.010700761, 0.014402664, 0.01238568, 0.013113133, 0.011358002, 0.01163861, 0.011773362, 0.011420086, 0.012413424, 0.013590863, 0.014647112, 0.010948169, 0.01094082, 0.013200487, 0.011283209, 0.01469411, 0.014149906, 0.014009367, 0.011080387, 0.035249237, 0.01244932, 0.011079421, 0.01271954, 0.013381236, 0.013084159, 0.012862931, 0.011079555, 0.010070573, 0.009918629]\n",
      "2021-02-18 11:26:48,353 : INFO : merging changes from 2000 documents into a model of 3204 documents\n",
      "2021-02-18 11:26:48,368 : INFO : topic #45 (0.009): 0.157*\"algorithm\" + 0.088*\"(\" + 0.074*\"exact\" + 0.074*\"[\" + 0.056*\"divisor\" + 0.047*\"greatest\" + 0.045*\"f4\" + 0.041*\"exploit\" + 0.040*\"common\" + 0.039*\"])\"\n",
      "2021-02-18 11:26:48,369 : INFO : topic #68 (0.010): 0.179*\"symmetr\" + 0.140*\"0\" + 0.138*\"eigenvalu\" + 0.077*\"enumer\" + 0.073*\"linear\" + 0.059*\"eigenvector\" + 0.054*\"program\" + 0.044*\"implicit\" + 0.044*\"f2\" + 0.032*\"-\"\n",
      "2021-02-18 11:26:48,370 : INFO : topic #0 (0.016): 0.689*\"\"\" + 0.053*\"integ\" + 0.052*\"number\" + 0.023*\"complement\" + 0.021*\"present\" + 0.021*\"arithmet\" + 0.020*\"divis\" + 0.018*\"multipl\" + 0.013*\"classif\" + 0.013*\"uniform\"\n",
      "2021-02-18 11:26:48,370 : INFO : topic #24 (0.034): 0.504*\"(\" + 0.464*\")\" + 0.015*\"corrigendum\" + 0.006*\"ellipt\" + 0.006*\"calcul\" + 0.000*\"function\" + 0.000*\"simpson\" + 0.000*\"adapt\" + 0.000*\"stage\" + 0.000*\"regress\"\n",
      "2021-02-18 11:26:48,371 : INFO : topic #90 (0.035): 0.348*\"algorithm\" + 0.203*\"(\" + 0.161*\"[\" + 0.098*\"])\" + 0.086*\")\" + 0.020*\"complex\" + 0.015*\"function\" + 0.011*\"a1\" + 0.011*\"partit\" + 0.011*\"number\"\n",
      "2021-02-18 11:26:48,373 : INFO : topic diff=0.221191, rho=0.245426\n",
      "2021-02-18 11:26:49,244 : INFO : -6.447 per-word bound, 87.2 perplexity estimate based on a held-out corpus of 1204 documents with 49783 words\n",
      "2021-02-18 11:26:49,245 : INFO : PROGRESS: pass 14, at document #3204/3204\n",
      "2021-02-18 11:26:49,988 : INFO : optimized alpha [0.01661628, 0.01253681, 0.014919359, 0.0128141865, 0.010687615, 0.0108588515, 0.011294669, 0.014065289, 0.012656114, 0.011595076, 0.012085734, 0.01189345, 0.011982046, 0.011858921, 0.01433674, 0.013457753, 0.014660529, 0.011688097, 0.011233959, 0.01059578, 0.013140897, 0.011709681, 0.01238001, 0.012835707, 0.035282247, 0.01645311, 0.011791954, 0.014853407, 0.011838909, 0.0122094955, 0.014011955, 0.013467459, 0.012320232, 0.0139666395, 0.012254532, 0.01441803, 0.010652698, 0.013016078, 0.013931487, 0.01287105, 0.011623109, 0.011914584, 0.012920791, 0.014953869, 0.011970639, 0.009444157, 0.0153520405, 0.011570676, 0.012782181, 0.011990455, 0.011974069, 0.012514083, 0.012453122, 0.015217489, 0.011332669, 0.010543518, 0.012832713, 0.015568097, 0.010490961, 0.011668928, 0.012317341, 0.012824932, 0.016600644, 0.012366118, 0.0131938355, 0.013428651, 0.014003729, 0.014493748, 0.009710247, 0.012172758, 0.01281465, 0.010789427, 0.014659193, 0.012543852, 0.013232183, 0.011439414, 0.011702118, 0.011901693, 0.011605632, 0.012582455, 0.013825861, 0.01499498, 0.0110602155, 0.011024173, 0.013295193, 0.011361973, 0.014854256, 0.014461077, 0.014101427, 0.011175392, 0.035529695, 0.012585149, 0.0111963395, 0.012887869, 0.01346062, 0.0133522, 0.013034593, 0.0112083815, 0.010139236, 0.009971044]\n",
      "2021-02-18 11:26:49,996 : INFO : merging changes from 1204 documents into a model of 3204 documents\n",
      "2021-02-18 11:26:50,009 : INFO : topic #45 (0.009): 0.164*\"algorithm\" + 0.082*\"(\" + 0.081*\"exact\" + 0.072*\"[\" + 0.063*\"divisor\" + 0.052*\"greatest\" + 0.050*\"exploit\" + 0.047*\"common\" + 0.046*\"f4\" + 0.038*\"linear\"\n",
      "2021-02-18 11:26:50,010 : INFO : topic #68 (0.010): 0.174*\"symmetr\" + 0.152*\"0\" + 0.135*\"eigenvalu\" + 0.082*\"enumer\" + 0.074*\"linear\" + 0.055*\"program\" + 0.053*\"implicit\" + 0.049*\"eigenvector\" + 0.039*\"f2\" + 0.034*\"-\"\n",
      "2021-02-18 11:26:50,011 : INFO : topic #0 (0.017): 0.703*\"\"\" + 0.053*\"integ\" + 0.051*\"number\" + 0.025*\"complement\" + 0.022*\"present\" + 0.018*\"arithmet\" + 0.017*\"divis\" + 0.016*\"multipl\" + 0.014*\"uniform\" + 0.013*\"classif\"\n",
      "2021-02-18 11:26:50,013 : INFO : topic #24 (0.035): 0.509*\"(\" + 0.459*\")\" + 0.018*\"corrigendum\" + 0.005*\"calcul\" + 0.005*\"ellipt\" + 0.000*\"function\" + 0.000*\"simpson\" + 0.000*\"adapt\" + 0.000*\"stage\" + 0.000*\"regress\"\n"
     ]
    },
    {
     "name": "stderr",
     "output_type": "stream",
     "text": [
      "2021-02-18 11:26:50,014 : INFO : topic #90 (0.036): 0.357*\"algorithm\" + 0.200*\"(\" + 0.163*\"[\" + 0.097*\")\" + 0.079*\"])\" + 0.022*\"complex\" + 0.013*\"function\" + 0.012*\"a1\" + 0.012*\"partit\" + 0.010*\"number\"\n",
      "2021-02-18 11:26:50,015 : INFO : topic diff=0.226222, rho=0.245426\n",
      "2021-02-18 11:26:50,023 : INFO : PROGRESS: pass 15, at document #2000/3204\n",
      "2021-02-18 11:26:50,775 : INFO : optimized alpha [0.016721817, 0.012574814, 0.015080907, 0.012908273, 0.0106820725, 0.0108614825, 0.011324797, 0.01416135, 0.01264897, 0.011590276, 0.012090606, 0.011999969, 0.011996001, 0.011908129, 0.014540333, 0.013465386, 0.014731806, 0.011768637, 0.011273015, 0.01061982, 0.013146855, 0.011861974, 0.012437079, 0.012958542, 0.037121475, 0.016516292, 0.011795618, 0.01505165, 0.011887269, 0.012217429, 0.014036851, 0.013654316, 0.012426663, 0.0140252905, 0.012325576, 0.014515247, 0.010665383, 0.013074395, 0.01404342, 0.01289924, 0.011684542, 0.011943613, 0.013010069, 0.015086174, 0.011983231, 0.009441863, 0.01545277, 0.011579386, 0.012845403, 0.012064388, 0.0119419135, 0.0125306295, 0.012463741, 0.015457359, 0.0113258455, 0.0105978055, 0.012842142, 0.015727814, 0.010508266, 0.01167508, 0.012316039, 0.013020294, 0.016711067, 0.012367132, 0.013272902, 0.013534738, 0.014095589, 0.014637169, 0.00970609, 0.012208281, 0.012910907, 0.010787318, 0.014630118, 0.01255428, 0.01326801, 0.011502066, 0.011816518, 0.011911432, 0.011630202, 0.012619991, 0.013826531, 0.015114641, 0.011096888, 0.011064565, 0.013442318, 0.011457417, 0.015058242, 0.014392274, 0.0142788375, 0.01117468, 0.03709979, 0.012599848, 0.011224819, 0.012951799, 0.013625784, 0.013390976, 0.013078977, 0.011288293, 0.010134731, 0.009959479]\n",
      "2021-02-18 11:26:50,783 : INFO : merging changes from 2000 documents into a model of 3204 documents\n",
      "2021-02-18 11:26:50,795 : INFO : topic #45 (0.009): 0.157*\"algorithm\" + 0.084*\"(\" + 0.076*\"exact\" + 0.072*\"[\" + 0.057*\"divisor\" + 0.047*\"greatest\" + 0.046*\"f4\" + 0.045*\"common\" + 0.042*\"exploit\" + 0.040*\"legendr\"\n",
      "2021-02-18 11:26:50,795 : INFO : topic #68 (0.010): 0.180*\"symmetr\" + 0.142*\"0\" + 0.139*\"eigenvalu\" + 0.078*\"enumer\" + 0.072*\"linear\" + 0.059*\"eigenvector\" + 0.054*\"program\" + 0.045*\"implicit\" + 0.044*\"f2\" + 0.033*\"-\"\n",
      "2021-02-18 11:26:50,796 : INFO : topic #62 (0.017): 0.268*\"structur\" + 0.100*\"data\" + 0.070*\"definit\" + 0.052*\"defin\" + 0.044*\"concept\" + 0.034*\",\" + 0.031*\"languag\" + 0.027*\"context\" + 0.026*\"notat\" + 0.021*\"type\"\n",
      "2021-02-18 11:26:50,796 : INFO : topic #90 (0.037): 0.351*\"algorithm\" + 0.202*\"(\" + 0.164*\"[\" + 0.099*\"])\" + 0.082*\")\" + 0.021*\"complex\" + 0.012*\"function\" + 0.012*\"a1\" + 0.011*\"partit\" + 0.011*\"number\"\n",
      "2021-02-18 11:26:50,797 : INFO : topic #24 (0.037): 0.505*\"(\" + 0.464*\")\" + 0.015*\"corrigendum\" + 0.006*\"ellipt\" + 0.004*\"calcul\" + 0.000*\"function\" + 0.000*\"simpson\" + 0.000*\"adapt\" + 0.000*\"stage\" + 0.000*\"regress\"\n",
      "2021-02-18 11:26:50,799 : INFO : topic diff=0.200720, rho=0.238352\n",
      "2021-02-18 11:26:51,757 : INFO : -6.439 per-word bound, 86.7 perplexity estimate based on a held-out corpus of 1204 documents with 49783 words\n",
      "2021-02-18 11:26:51,758 : INFO : PROGRESS: pass 15, at document #3204/3204\n",
      "2021-02-18 11:26:52,509 : INFO : optimized alpha [0.017034015, 0.012766769, 0.015256575, 0.013039558, 0.010738291, 0.010948298, 0.011425156, 0.014348177, 0.012820219, 0.0116794035, 0.012231225, 0.01203696, 0.012127564, 0.012053275, 0.014632918, 0.013690202, 0.014982462, 0.011807144, 0.011389693, 0.010685693, 0.0133059425, 0.011923182, 0.012592605, 0.0130706895, 0.03875666, 0.01690096, 0.011908298, 0.015324146, 0.011976714, 0.0123375105, 0.014264385, 0.013715571, 0.012583382, 0.014237392, 0.012489587, 0.014753303, 0.0107574845, 0.013191432, 0.01428791, 0.013092137, 0.011778071, 0.012042009, 0.013135252, 0.015317965, 0.01212066, 0.009447028, 0.015658686, 0.011702327, 0.012981937, 0.012218683, 0.012100749, 0.012693597, 0.012585918, 0.015684055, 0.01143306, 0.010652402, 0.013029365, 0.016235476, 0.010556125, 0.011832407, 0.012492389, 0.013127651, 0.017048482, 0.012495186, 0.01342711, 0.013758058, 0.014245829, 0.014771834, 0.009720831, 0.012363711, 0.013030803, 0.010874199, 0.014884789, 0.012706833, 0.01338721, 0.011583985, 0.011883094, 0.012037145, 0.011817343, 0.012775876, 0.014057386, 0.015459195, 0.01121112, 0.011141702, 0.013534586, 0.011543456, 0.015214799, 0.014695324, 0.01437394, 0.011272134, 0.037355766, 0.012735527, 0.011334964, 0.013122089, 0.013705485, 0.013663291, 0.013244718, 0.01141475, 0.010204003, 0.010010923]\n",
      "2021-02-18 11:26:52,518 : INFO : merging changes from 1204 documents into a model of 3204 documents\n",
      "2021-02-18 11:26:52,532 : INFO : topic #45 (0.009): 0.164*\"algorithm\" + 0.083*\"exact\" + 0.078*\"(\" + 0.070*\"[\" + 0.064*\"divisor\" + 0.053*\"common\" + 0.053*\"greatest\" + 0.051*\"exploit\" + 0.047*\"f4\" + 0.036*\"legendr\"\n",
      "2021-02-18 11:26:52,534 : INFO : topic #68 (0.010): 0.175*\"symmetr\" + 0.152*\"0\" + 0.135*\"eigenvalu\" + 0.083*\"enumer\" + 0.076*\"linear\" + 0.054*\"program\" + 0.054*\"implicit\" + 0.049*\"eigenvector\" + 0.039*\"f2\" + 0.035*\"-\"\n",
      "2021-02-18 11:26:52,535 : INFO : topic #62 (0.017): 0.275*\"structur\" + 0.107*\"data\" + 0.069*\"definit\" + 0.052*\"defin\" + 0.042*\"concept\" + 0.034*\",\" + 0.030*\"languag\" + 0.027*\"context\" + 0.023*\"notat\" + 0.022*\"type\"\n",
      "2021-02-18 11:26:52,536 : INFO : topic #90 (0.037): 0.361*\"algorithm\" + 0.199*\"(\" + 0.166*\"[\" + 0.092*\")\" + 0.081*\"])\" + 0.022*\"complex\" + 0.012*\"partit\" + 0.012*\"a1\" + 0.011*\"function\" + 0.010*\"number\"\n",
      "2021-02-18 11:26:52,537 : INFO : topic #24 (0.039): 0.509*\"(\" + 0.461*\")\" + 0.017*\"corrigendum\" + 0.004*\"ellipt\" + 0.004*\"calcul\" + 0.000*\"function\" + 0.000*\"simpson\" + 0.000*\"adapt\" + 0.000*\"stage\" + 0.000*\"regress\"\n",
      "2021-02-18 11:26:52,538 : INFO : topic diff=0.205145, rho=0.238352\n",
      "2021-02-18 11:26:52,547 : INFO : PROGRESS: pass 16, at document #2000/3204\n",
      "2021-02-18 11:26:53,359 : INFO : optimized alpha [0.017136656, 0.012800667, 0.015413718, 0.013131945, 0.010733233, 0.010957377, 0.011461393, 0.014445611, 0.012812873, 0.011679069, 0.012234345, 0.012141608, 0.012142548, 0.012104221, 0.014831938, 0.013701724, 0.0150516555, 0.011886225, 0.011431915, 0.010710631, 0.013311519, 0.012081692, 0.012649861, 0.013191558, 0.0406843, 0.016965386, 0.011913305, 0.015536004, 0.01202565, 0.012346708, 0.014289834, 0.013901338, 0.012688081, 0.0142928455, 0.012559184, 0.014848422, 0.010777469, 0.013246954, 0.014399322, 0.013120886, 0.0118370345, 0.012071889, 0.013224392, 0.015449741, 0.012134267, 0.009445314, 0.015759118, 0.011709451, 0.013045328, 0.012294085, 0.012071922, 0.012712436, 0.0125933215, 0.015929095, 0.011427761, 0.010701996, 0.013039678, 0.016398473, 0.010573327, 0.011845053, 0.012490682, 0.013323839, 0.017158084, 0.0124990055, 0.013506092, 0.013875023, 0.014340783, 0.014917967, 0.009716156, 0.012399744, 0.013126803, 0.010873528, 0.014857112, 0.012715384, 0.013430106, 0.011652236, 0.011992955, 0.012049394, 0.011847864, 0.012812454, 0.01405888, 0.015576306, 0.011253534, 0.011181406, 0.013679348, 0.011635983, 0.015418005, 0.0146282315, 0.01454541, 0.011267583, 0.038920157, 0.012745263, 0.011361541, 0.013181499, 0.013869852, 0.013710097, 0.013289502, 0.011493225, 0.010201013, 0.010000012]\n",
      "2021-02-18 11:26:53,367 : INFO : merging changes from 2000 documents into a model of 3204 documents\n",
      "2021-02-18 11:26:53,379 : INFO : topic #45 (0.009): 0.158*\"algorithm\" + 0.079*\"(\" + 0.079*\"exact\" + 0.070*\"[\" + 0.058*\"divisor\" + 0.050*\"common\" + 0.048*\"greatest\" + 0.047*\"f4\" + 0.043*\"exploit\" + 0.041*\"legendr\"\n",
      "2021-02-18 11:26:53,379 : INFO : topic #68 (0.010): 0.181*\"symmetr\" + 0.143*\"0\" + 0.140*\"eigenvalu\" + 0.079*\"enumer\" + 0.072*\"linear\" + 0.059*\"eigenvector\" + 0.053*\"program\" + 0.046*\"implicit\" + 0.044*\"f2\" + 0.033*\"-\"\n",
      "2021-02-18 11:26:53,380 : INFO : topic #62 (0.017): 0.271*\"structur\" + 0.102*\"data\" + 0.070*\"definit\" + 0.052*\"defin\" + 0.044*\"concept\" + 0.034*\",\" + 0.030*\"languag\" + 0.026*\"notat\" + 0.026*\"context\" + 0.021*\"descript\"\n",
      "2021-02-18 11:26:53,381 : INFO : topic #90 (0.039): 0.355*\"algorithm\" + 0.201*\"(\" + 0.166*\"[\" + 0.101*\"])\" + 0.078*\")\" + 0.021*\"complex\" + 0.012*\"a1\" + 0.012*\"partit\" + 0.011*\"number\" + 0.010*\"function\"\n",
      "2021-02-18 11:26:53,382 : INFO : topic #24 (0.041): 0.506*\"(\" + 0.465*\")\" + 0.015*\"corrigendum\" + 0.006*\"ellipt\" + 0.003*\"calcul\" + 0.000*\"function\" + 0.000*\"simpson\" + 0.000*\"adapt\" + 0.000*\"stage\" + 0.000*\"regress\"\n"
     ]
    },
    {
     "name": "stderr",
     "output_type": "stream",
     "text": [
      "2021-02-18 11:26:53,383 : INFO : topic diff=0.183365, rho=0.231857\n",
      "2021-02-18 11:26:54,165 : INFO : -6.433 per-word bound, 86.4 perplexity estimate based on a held-out corpus of 1204 documents with 49783 words\n",
      "2021-02-18 11:26:54,166 : INFO : PROGRESS: pass 16, at document #3204/3204\n",
      "2021-02-18 11:26:54,888 : INFO : optimized alpha [0.017434357, 0.01299946, 0.015582991, 0.013258169, 0.010786376, 0.011048964, 0.011557674, 0.014623553, 0.012978568, 0.011766588, 0.012374822, 0.012177544, 0.012269306, 0.012249209, 0.014921847, 0.013928241, 0.015295624, 0.011926065, 0.01154872, 0.010775245, 0.013470201, 0.012141177, 0.012812331, 0.013301335, 0.042484794, 0.017349452, 0.012023836, 0.015838033, 0.012115662, 0.012464499, 0.014522254, 0.0139605515, 0.012851859, 0.014498785, 0.01271809, 0.015091492, 0.010865728, 0.013366765, 0.014637789, 0.013320863, 0.011928702, 0.012173054, 0.013347056, 0.015677873, 0.012273902, 0.009450871, 0.015964374, 0.011834696, 0.0131793, 0.012448308, 0.012225523, 0.012870128, 0.012715561, 0.016152363, 0.011537344, 0.0107575515, 0.013226338, 0.016913498, 0.010620374, 0.012004342, 0.012661503, 0.013426182, 0.017504644, 0.012627125, 0.013657407, 0.01410354, 0.014490844, 0.015046756, 0.009731018, 0.012554938, 0.013241785, 0.01096516, 0.015107495, 0.012862672, 0.013546992, 0.011728003, 0.0120579805, 0.012172724, 0.012032213, 0.012970433, 0.014285951, 0.015926711, 0.011363475, 0.011257021, 0.013771919, 0.011720281, 0.01557427, 0.014926515, 0.014643707, 0.011360981, 0.03915869, 0.0128757795, 0.011474071, 0.013351567, 0.013952717, 0.013984692, 0.013454879, 0.011615268, 0.010274922, 0.010056338]\n",
      "2021-02-18 11:26:54,897 : INFO : merging changes from 1204 documents into a model of 3204 documents\n",
      "2021-02-18 11:26:54,913 : INFO : topic #45 (0.009): 0.163*\"algorithm\" + 0.085*\"exact\" + 0.075*\"(\" + 0.068*\"[\" + 0.065*\"divisor\" + 0.060*\"common\" + 0.054*\"greatest\" + 0.052*\"exploit\" + 0.048*\"f4\" + 0.037*\"legendr\"\n",
      "2021-02-18 11:26:54,915 : INFO : topic #68 (0.010): 0.176*\"symmetr\" + 0.153*\"0\" + 0.136*\"eigenvalu\" + 0.083*\"enumer\" + 0.075*\"linear\" + 0.054*\"implicit\" + 0.054*\"program\" + 0.050*\"eigenvector\" + 0.039*\"f2\" + 0.035*\"-\"\n",
      "2021-02-18 11:26:54,916 : INFO : topic #62 (0.018): 0.276*\"structur\" + 0.108*\"data\" + 0.069*\"definit\" + 0.052*\"defin\" + 0.042*\"concept\" + 0.034*\",\" + 0.029*\"languag\" + 0.026*\"context\" + 0.023*\"notat\" + 0.022*\"type\"\n",
      "2021-02-18 11:26:54,917 : INFO : topic #90 (0.039): 0.368*\"algorithm\" + 0.196*\"(\" + 0.169*\"[\" + 0.085*\")\" + 0.083*\"])\" + 0.023*\"complex\" + 0.012*\"partit\" + 0.012*\"a1\" + 0.010*\"number\" + 0.009*\"function\"\n",
      "2021-02-18 11:26:54,918 : INFO : topic #24 (0.042): 0.509*\"(\" + 0.462*\")\" + 0.017*\"corrigendum\" + 0.004*\"ellipt\" + 0.002*\"calcul\" + 0.000*\"function\" + 0.000*\"simpson\" + 0.000*\"adapt\" + 0.000*\"stage\" + 0.000*\"regress\"\n",
      "2021-02-18 11:26:54,920 : INFO : topic diff=0.187724, rho=0.231857\n",
      "2021-02-18 11:26:54,930 : INFO : PROGRESS: pass 17, at document #2000/3204\n",
      "2021-02-18 11:26:55,721 : INFO : optimized alpha [0.017532356, 0.01303077, 0.015746664, 0.013344467, 0.010780566, 0.01106046, 0.011598515, 0.014722506, 0.012971034, 0.011767852, 0.012380565, 0.012281893, 0.012288069, 0.012304695, 0.015111581, 0.01394195, 0.015364694, 0.012002498, 0.011592725, 0.010803505, 0.013473947, 0.012301932, 0.012871244, 0.013421946, 0.04451327, 0.0174131, 0.0120301405, 0.01605179, 0.012169234, 0.012472086, 0.014546518, 0.01414229, 0.012953471, 0.014554516, 0.0127906725, 0.015181198, 0.010887885, 0.013418217, 0.014745549, 0.013350045, 0.011989361, 0.01220243, 0.013433143, 0.015803862, 0.012287093, 0.009450759, 0.016062737, 0.011834854, 0.013238487, 0.012526578, 0.012195708, 0.012886882, 0.012724257, 0.016397305, 0.011534813, 0.0108124595, 0.013245084, 0.017079797, 0.010637479, 0.012017781, 0.012660942, 0.013626432, 0.017611234, 0.012630798, 0.013734908, 0.014226711, 0.0145841, 0.0151906535, 0.009728057, 0.0125900945, 0.013337691, 0.010963378, 0.015077705, 0.012875224, 0.013590669, 0.011795141, 0.012166221, 0.012188759, 0.012063215, 0.013004648, 0.014291595, 0.016043106, 0.011407666, 0.011298607, 0.013914551, 0.011815392, 0.015784038, 0.0148576535, 0.014811147, 0.011355352, 0.040712744, 0.012895611, 0.011500121, 0.013414183, 0.014117874, 0.01403627, 0.013500055, 0.011695145, 0.010275655, 0.010045956]\n",
      "2021-02-18 11:26:55,728 : INFO : merging changes from 2000 documents into a model of 3204 documents\n",
      "2021-02-18 11:26:55,739 : INFO : topic #45 (0.009): 0.157*\"algorithm\" + 0.081*\"exact\" + 0.077*\"(\" + 0.068*\"[\" + 0.059*\"divisor\" + 0.056*\"common\" + 0.049*\"greatest\" + 0.047*\"f4\" + 0.044*\"exploit\" + 0.041*\"legendr\"\n",
      "2021-02-18 11:26:55,740 : INFO : topic #68 (0.010): 0.182*\"symmetr\" + 0.143*\"0\" + 0.140*\"eigenvalu\" + 0.079*\"enumer\" + 0.073*\"linear\" + 0.059*\"eigenvector\" + 0.054*\"program\" + 0.047*\"implicit\" + 0.044*\"f2\" + 0.034*\"-\"\n",
      "2021-02-18 11:26:55,741 : INFO : topic #62 (0.018): 0.272*\"structur\" + 0.104*\"data\" + 0.070*\"definit\" + 0.052*\"defin\" + 0.044*\"concept\" + 0.033*\",\" + 0.030*\"languag\" + 0.026*\"notat\" + 0.025*\"context\" + 0.022*\"descript\"\n",
      "2021-02-18 11:26:55,741 : INFO : topic #90 (0.041): 0.361*\"algorithm\" + 0.199*\"(\" + 0.169*\"[\" + 0.102*\"])\" + 0.072*\")\" + 0.021*\"complex\" + 0.012*\"a1\" + 0.012*\"partit\" + 0.011*\"number\" + 0.008*\"s15\"\n",
      "2021-02-18 11:26:55,742 : INFO : topic #24 (0.045): 0.506*\"(\" + 0.467*\")\" + 0.015*\"corrigendum\" + 0.006*\"ellipt\" + 0.002*\"calcul\" + 0.000*\"function\" + 0.000*\"simpson\" + 0.000*\"adapt\" + 0.000*\"stage\" + 0.000*\"regress\"\n",
      "2021-02-18 11:26:55,743 : INFO : topic diff=0.168424, rho=0.225865\n",
      "2021-02-18 11:26:56,460 : INFO : -6.428 per-word bound, 86.1 perplexity estimate based on a held-out corpus of 1204 documents with 49783 words\n",
      "2021-02-18 11:26:56,460 : INFO : PROGRESS: pass 17, at document #3204/3204\n",
      "2021-02-18 11:26:57,034 : INFO : optimized alpha [0.017819041, 0.01322909, 0.015909791, 0.013475897, 0.010832879, 0.011158844, 0.01169746, 0.01490855, 0.013126587, 0.011856005, 0.0125139225, 0.012314618, 0.012414992, 0.012447364, 0.015198993, 0.014170354, 0.0156109, 0.012043816, 0.011720674, 0.010868956, 0.013624765, 0.012357519, 0.013031162, 0.013526899, 0.04646502, 0.017803488, 0.012140962, 0.01636633, 0.012257556, 0.012587794, 0.014783935, 0.014199555, 0.013119641, 0.01476299, 0.012954313, 0.015421064, 0.0109765725, 0.0135410065, 0.014989341, 0.013554519, 0.01207931, 0.012297172, 0.013553585, 0.016034653, 0.012424282, 0.009456667, 0.016258446, 0.011957998, 0.013372554, 0.012687983, 0.012351262, 0.013039477, 0.012844282, 0.016620303, 0.011640279, 0.010866979, 0.013433906, 0.017599102, 0.010687753, 0.012174616, 0.01282428, 0.013744311, 0.017963821, 0.012756707, 0.013881057, 0.014463349, 0.014734171, 0.015313804, 0.00974304, 0.01274277, 0.013448022, 0.011059644, 0.015324158, 0.013020052, 0.013705422, 0.01186944, 0.012232084, 0.01230989, 0.012247338, 0.01316734, 0.014520707, 0.016390668, 0.011524297, 0.011374901, 0.014004976, 0.011898017, 0.015937144, 0.015154346, 0.014918138, 0.01144492, 0.04089594, 0.013031162, 0.011610665, 0.013589224, 0.0141933495, 0.014310756, 0.013667824, 0.011821841, 0.010350219, 0.010099487]\n",
      "2021-02-18 11:26:57,042 : INFO : merging changes from 1204 documents into a model of 3204 documents\n",
      "2021-02-18 11:26:57,054 : INFO : topic #45 (0.009): 0.164*\"algorithm\" + 0.087*\"exact\" + 0.071*\"(\" + 0.067*\"[\" + 0.066*\"divisor\" + 0.064*\"common\" + 0.055*\"greatest\" + 0.053*\"exploit\" + 0.049*\"f4\" + 0.038*\"legendr\"\n",
      "2021-02-18 11:26:57,055 : INFO : topic #68 (0.010): 0.176*\"symmetr\" + 0.153*\"0\" + 0.137*\"eigenvalu\" + 0.083*\"enumer\" + 0.076*\"linear\" + 0.055*\"implicit\" + 0.054*\"program\" + 0.050*\"eigenvector\" + 0.039*\"f2\" + 0.036*\"-\"\n",
      "2021-02-18 11:26:57,056 : INFO : topic #62 (0.018): 0.278*\"structur\" + 0.110*\"data\" + 0.070*\"definit\" + 0.053*\"defin\" + 0.042*\"concept\" + 0.034*\",\" + 0.029*\"languag\" + 0.026*\"context\" + 0.023*\"notat\" + 0.022*\"type\"\n",
      "2021-02-18 11:26:57,056 : INFO : topic #90 (0.041): 0.374*\"algorithm\" + 0.193*\"(\" + 0.172*\"[\" + 0.085*\"])\" + 0.076*\")\" + 0.023*\"complex\" + 0.012*\"partit\" + 0.012*\"a1\" + 0.010*\"number\" + 0.007*\"curv\"\n",
      "2021-02-18 11:26:57,057 : INFO : topic #24 (0.046): 0.509*\"(\" + 0.464*\")\" + 0.017*\"corrigendum\" + 0.004*\"ellipt\" + 0.002*\"calcul\" + 0.000*\"function\" + 0.000*\"simpson\" + 0.000*\"adapt\" + 0.000*\"stage\" + 0.000*\"regress\"\n"
     ]
    },
    {
     "name": "stderr",
     "output_type": "stream",
     "text": [
      "2021-02-18 11:26:57,058 : INFO : topic diff=0.172716, rho=0.225865\n",
      "2021-02-18 11:26:57,068 : INFO : PROGRESS: pass 18, at document #2000/3204\n",
      "2021-02-18 11:26:57,743 : INFO : optimized alpha [0.017916529, 0.013263787, 0.016065983, 0.013565238, 0.010831174, 0.011172706, 0.011742841, 0.015009019, 0.013119008, 0.011860072, 0.012519458, 0.012417442, 0.012437536, 0.012504532, 0.015393091, 0.014186209, 0.01567819, 0.012120457, 0.011766454, 0.010896833, 0.013628269, 0.012520541, 0.013090328, 0.013645866, 0.04860896, 0.017862365, 0.0121498415, 0.016589118, 0.012311671, 0.012596663, 0.0148070995, 0.014380623, 0.013222646, 0.01482411, 0.013027039, 0.015517527, 0.010999585, 0.013596048, 0.015095214, 0.013584202, 0.012137638, 0.012324748, 0.013638311, 0.016162153, 0.012437107, 0.009457002, 0.01636046, 0.011959448, 0.013429179, 0.012770667, 0.012324592, 0.013054293, 0.012852731, 0.016857963, 0.011637832, 0.010919897, 0.013447436, 0.017768696, 0.010707128, 0.012183541, 0.012824858, 0.013947446, 0.018065676, 0.012760345, 0.013955629, 0.014594346, 0.01482914, 0.015457247, 0.009740589, 0.012777092, 0.013545444, 0.01105799, 0.01529236, 0.013032253, 0.01374532, 0.011932922, 0.0123415375, 0.012325618, 0.012280124, 0.013205035, 0.014530312, 0.01650651, 0.011570223, 0.011419611, 0.014145647, 0.01199046, 0.016134089, 0.015085439, 0.01508188, 0.011440844, 0.042454936, 0.0130506605, 0.01163624, 0.013652051, 0.0143580325, 0.014365582, 0.013709003, 0.011905851, 0.010352246, 0.010090744]\n",
      "2021-02-18 11:26:57,749 : INFO : merging changes from 2000 documents into a model of 3204 documents\n",
      "2021-02-18 11:26:57,761 : INFO : topic #45 (0.009): 0.158*\"algorithm\" + 0.083*\"exact\" + 0.073*\"(\" + 0.067*\"[\" + 0.060*\"common\" + 0.060*\"divisor\" + 0.050*\"greatest\" + 0.048*\"f4\" + 0.045*\"exploit\" + 0.042*\"legendr\"\n",
      "2021-02-18 11:26:57,762 : INFO : topic #68 (0.010): 0.182*\"symmetr\" + 0.144*\"0\" + 0.140*\"eigenvalu\" + 0.080*\"enumer\" + 0.074*\"linear\" + 0.059*\"eigenvector\" + 0.054*\"program\" + 0.047*\"implicit\" + 0.044*\"f2\" + 0.034*\"-\"\n",
      "2021-02-18 11:26:57,762 : INFO : topic #62 (0.018): 0.274*\"structur\" + 0.105*\"data\" + 0.071*\"definit\" + 0.053*\"defin\" + 0.044*\"concept\" + 0.033*\",\" + 0.030*\"languag\" + 0.026*\"notat\" + 0.025*\"context\" + 0.023*\"descript\"\n",
      "2021-02-18 11:26:57,763 : INFO : topic #90 (0.042): 0.367*\"algorithm\" + 0.196*\"(\" + 0.172*\"[\" + 0.104*\"])\" + 0.064*\")\" + 0.021*\"complex\" + 0.012*\"a1\" + 0.012*\"partit\" + 0.011*\"number\" + 0.008*\"s15\"\n",
      "2021-02-18 11:26:57,763 : INFO : topic #24 (0.049): 0.506*\"(\" + 0.468*\")\" + 0.014*\"corrigendum\" + 0.006*\"ellipt\" + 0.001*\"calcul\" + 0.000*\"function\" + 0.000*\"simpson\" + 0.000*\"adapt\" + 0.000*\"stage\" + 0.000*\"regress\"\n",
      "2021-02-18 11:26:57,764 : INFO : topic diff=0.155853, rho=0.220316\n",
      "2021-02-18 11:26:58,486 : INFO : -6.423 per-word bound, 85.8 perplexity estimate based on a held-out corpus of 1204 documents with 49783 words\n",
      "2021-02-18 11:26:58,487 : INFO : PROGRESS: pass 18, at document #3204/3204\n",
      "2021-02-18 11:26:59,046 : INFO : optimized alpha [0.018192599, 0.013464525, 0.016229093, 0.013704434, 0.01087864, 0.011271538, 0.011840117, 0.01518669, 0.013269619, 0.0119535215, 0.012655326, 0.012451693, 0.012569367, 0.01264742, 0.015478109, 0.014416742, 0.015912345, 0.012158743, 0.011903305, 0.010965101, 0.013776597, 0.012581498, 0.01325026, 0.013753876, 0.050582055, 0.018239534, 0.012260987, 0.016907295, 0.012400685, 0.012710424, 0.015041366, 0.014433504, 0.013386469, 0.015018638, 0.013181036, 0.015754404, 0.011086842, 0.013714196, 0.015336226, 0.01378607, 0.01222603, 0.012422448, 0.013759133, 0.016386824, 0.012574407, 0.009463198, 0.016549781, 0.0120805465, 0.013563451, 0.012939312, 0.012475411, 0.013206936, 0.01296834, 0.017093265, 0.01174364, 0.010983504, 0.013631073, 0.018298965, 0.010756633, 0.012335817, 0.012985615, 0.01406045, 0.01842135, 0.012888925, 0.014094158, 0.014842317, 0.014979351, 0.01557781, 0.0097556645, 0.012936924, 0.013651311, 0.011148594, 0.015535162, 0.013177168, 0.013865743, 0.012008041, 0.01240602, 0.012442515, 0.0124664055, 0.013360507, 0.014761555, 0.01685138, 0.011687185, 0.011492469, 0.014241734, 0.012075904, 0.016287167, 0.015378074, 0.015186523, 0.011533042, 0.04263762, 0.013191261, 0.011745049, 0.013822044, 0.01442894, 0.014637479, 0.01386912, 0.012028439, 0.010429376, 0.0101471525]\n",
      "2021-02-18 11:26:59,054 : INFO : merging changes from 1204 documents into a model of 3204 documents\n",
      "2021-02-18 11:26:59,065 : INFO : topic #45 (0.009): 0.165*\"algorithm\" + 0.089*\"exact\" + 0.067*\"common\" + 0.067*\"(\" + 0.067*\"divisor\" + 0.066*\"[\" + 0.056*\"greatest\" + 0.053*\"exploit\" + 0.050*\"f4\" + 0.039*\"legendr\"\n",
      "2021-02-18 11:26:59,066 : INFO : topic #68 (0.010): 0.177*\"symmetr\" + 0.153*\"0\" + 0.137*\"eigenvalu\" + 0.084*\"enumer\" + 0.077*\"linear\" + 0.055*\"implicit\" + 0.054*\"program\" + 0.050*\"eigenvector\" + 0.039*\"f2\" + 0.037*\"-\"\n",
      "2021-02-18 11:26:59,067 : INFO : topic #62 (0.018): 0.280*\"structur\" + 0.111*\"data\" + 0.070*\"definit\" + 0.053*\"defin\" + 0.043*\"concept\" + 0.033*\",\" + 0.029*\"languag\" + 0.026*\"context\" + 0.023*\"notat\" + 0.022*\"type\"\n",
      "2021-02-18 11:26:59,067 : INFO : topic #90 (0.043): 0.381*\"algorithm\" + 0.191*\"(\" + 0.175*\"[\" + 0.087*\"])\" + 0.068*\")\" + 0.023*\"complex\" + 0.013*\"partit\" + 0.013*\"a1\" + 0.011*\"number\" + 0.007*\"curv\"\n",
      "2021-02-18 11:26:59,068 : INFO : topic #24 (0.051): 0.508*\"(\" + 0.465*\")\" + 0.017*\"corrigendum\" + 0.004*\"ellipt\" + 0.001*\"calcul\" + 0.000*\"function\" + 0.000*\"simpson\" + 0.000*\"adapt\" + 0.000*\"stage\" + 0.000*\"regress\"\n",
      "2021-02-18 11:26:59,069 : INFO : topic diff=0.159719, rho=0.220316\n",
      "2021-02-18 11:26:59,088 : INFO : PROGRESS: pass 19, at document #2000/3204\n",
      "2021-02-18 11:26:59,706 : INFO : optimized alpha [0.018283885, 0.013501245, 0.01638673, 0.013789494, 0.010874942, 0.01128642, 0.011879695, 0.015282282, 0.013260561, 0.01195768, 0.012663395, 0.012554461, 0.012587322, 0.012707721, 0.015668362, 0.014436263, 0.015979739, 0.012236885, 0.011953477, 0.010996139, 0.013781395, 0.012744241, 0.013308338, 0.013871298, 0.052783914, 0.018303793, 0.012269724, 0.017137585, 0.012459319, 0.0127177695, 0.015066719, 0.014614058, 0.013490952, 0.015085087, 0.01325971, 0.015847394, 0.011111936, 0.01376686, 0.015443659, 0.013814838, 0.012286178, 0.012448213, 0.013845594, 0.016514156, 0.0125881815, 0.009463948, 0.016651733, 0.012083267, 0.013621973, 0.013030436, 0.012446373, 0.013222681, 0.012975228, 0.01733295, 0.011741269, 0.0110369455, 0.013647003, 0.018470151, 0.010772383, 0.012349698, 0.012981734, 0.014263516, 0.018520577, 0.012893862, 0.0141705545, 0.014978134, 0.015067901, 0.015717687, 0.009753698, 0.012971858, 0.013747329, 0.011151918, 0.015504821, 0.013190412, 0.013903476, 0.012073173, 0.0125194695, 0.012457923, 0.012498315, 0.013397402, 0.014768686, 0.016964884, 0.011736073, 0.01152411, 0.014380601, 0.012170997, 0.01649609, 0.015309102, 0.015353345, 0.011527908, 0.04420992, 0.013224581, 0.011772662, 0.0138836885, 0.014591649, 0.014695497, 0.013910882, 0.012112637, 0.010430367, 0.010137748]\n",
      "2021-02-18 11:26:59,713 : INFO : merging changes from 2000 documents into a model of 3204 documents\n",
      "2021-02-18 11:26:59,725 : INFO : topic #45 (0.009): 0.158*\"algorithm\" + 0.084*\"exact\" + 0.069*\"(\" + 0.065*\"[\" + 0.063*\"common\" + 0.061*\"divisor\" + 0.051*\"greatest\" + 0.049*\"f4\" + 0.046*\"exploit\" + 0.043*\"legendr\"\n",
      "2021-02-18 11:26:59,726 : INFO : topic #68 (0.010): 0.183*\"symmetr\" + 0.144*\"0\" + 0.141*\"eigenvalu\" + 0.080*\"enumer\" + 0.075*\"linear\" + 0.059*\"eigenvector\" + 0.053*\"program\" + 0.047*\"implicit\" + 0.045*\"f2\" + 0.035*\"-\"\n",
      "2021-02-18 11:26:59,726 : INFO : topic #62 (0.019): 0.276*\"structur\" + 0.106*\"data\" + 0.071*\"definit\" + 0.053*\"defin\" + 0.044*\"concept\" + 0.033*\",\" + 0.030*\"languag\" + 0.026*\"notat\" + 0.025*\"context\" + 0.024*\"descript\"\n",
      "2021-02-18 11:26:59,727 : INFO : topic #90 (0.044): 0.373*\"algorithm\" + 0.194*\"(\" + 0.174*\"[\" + 0.105*\"])\" + 0.057*\")\" + 0.021*\"complex\" + 0.012*\"a1\" + 0.012*\"partit\" + 0.011*\"number\" + 0.008*\"s15\"\n",
      "2021-02-18 11:26:59,728 : INFO : topic #24 (0.053): 0.505*\"(\" + 0.469*\")\" + 0.014*\"corrigendum\" + 0.006*\"ellipt\" + 0.001*\"calcul\" + 0.000*\"function\" + 0.000*\"simpson\" + 0.000*\"adapt\" + 0.000*\"stage\" + 0.000*\"regress\"\n",
      "2021-02-18 11:26:59,729 : INFO : topic diff=0.145133, rho=0.215156\n",
      "2021-02-18 11:27:00,505 : INFO : -6.418 per-word bound, 85.5 perplexity estimate based on a held-out corpus of 1204 documents with 49783 words\n"
     ]
    },
    {
     "name": "stderr",
     "output_type": "stream",
     "text": [
      "2021-02-18 11:27:00,506 : INFO : PROGRESS: pass 19, at document #3204/3204\n",
      "2021-02-18 11:27:01,121 : INFO : optimized alpha [0.018556131, 0.013701872, 0.016546994, 0.013921588, 0.01092178, 0.011381681, 0.011975528, 0.015462844, 0.013413662, 0.012049626, 0.012792613, 0.012590125, 0.012719544, 0.01284862, 0.015751112, 0.014663944, 0.016205167, 0.012285305, 0.012090596, 0.011067284, 0.013929887, 0.012803716, 0.013468418, 0.013979818, 0.054772574, 0.01869088, 0.01238129, 0.0174599, 0.012553559, 0.012829714, 0.015309336, 0.014662681, 0.013652587, 0.015288085, 0.013423535, 0.016081423, 0.011199846, 0.013888259, 0.015679242, 0.014019196, 0.012373055, 0.012537573, 0.01396192, 0.016741738, 0.012723385, 0.009473837, 0.016847184, 0.012209004, 0.013754131, 0.013204189, 0.012601639, 0.013375405, 0.013088899, 0.01756831, 0.011845396, 0.0110895615, 0.013830608, 0.018995158, 0.010821056, 0.012502056, 0.013135519, 0.014376875, 0.018872552, 0.01301582, 0.014309402, 0.0152375, 0.015221122, 0.015838692, 0.009768861, 0.013127166, 0.013856261, 0.011241112, 0.01574433, 0.013333179, 0.014019413, 0.012146942, 0.012584797, 0.012570784, 0.01268241, 0.013557814, 0.014999677, 0.017307196, 0.011857623, 0.011591575, 0.014474707, 0.012252793, 0.016646273, 0.015597832, 0.015464065, 0.011616566, 0.044336602, 0.01337031, 0.0118882675, 0.0140489, 0.014665981, 0.014965001, 0.014073653, 0.012233452, 0.010510013, 0.010193307]\n",
      "2021-02-18 11:27:01,129 : INFO : merging changes from 1204 documents into a model of 3204 documents\n",
      "2021-02-18 11:27:01,141 : INFO : topic #45 (0.009): 0.166*\"algorithm\" + 0.090*\"exact\" + 0.072*\"common\" + 0.068*\"divisor\" + 0.064*\"[\" + 0.064*\"(\" + 0.056*\"greatest\" + 0.054*\"exploit\" + 0.050*\"f4\" + 0.039*\"legendr\"\n",
      "2021-02-18 11:27:01,142 : INFO : topic #68 (0.010): 0.177*\"symmetr\" + 0.153*\"0\" + 0.137*\"eigenvalu\" + 0.084*\"enumer\" + 0.077*\"linear\" + 0.055*\"implicit\" + 0.054*\"program\" + 0.051*\"eigenvector\" + 0.040*\"f2\" + 0.037*\"-\"\n",
      "2021-02-18 11:27:01,142 : INFO : topic #57 (0.019): 0.341*\"problem\" + 0.070*\"solut\" + 0.065*\",\" + 0.046*\"solv\" + 0.030*\"paper\" + 0.023*\"-\" + 0.022*\"formul\" + 0.016*\"program\" + 0.015*\"gener\" + 0.014*\"involv\"\n",
      "2021-02-18 11:27:01,144 : INFO : topic #90 (0.044): 0.387*\"algorithm\" + 0.188*\"(\" + 0.178*\"[\" + 0.088*\"])\" + 0.061*\")\" + 0.023*\"complex\" + 0.013*\"partit\" + 0.013*\"a1\" + 0.011*\"number\" + 0.008*\"curv\"\n",
      "2021-02-18 11:27:01,144 : INFO : topic #24 (0.055): 0.508*\"(\" + 0.466*\")\" + 0.016*\"corrigendum\" + 0.004*\"ellipt\" + 0.001*\"calcul\" + 0.000*\"function\" + 0.000*\"simpson\" + 0.000*\"adapt\" + 0.000*\"stage\" + 0.000*\"regress\"\n",
      "2021-02-18 11:27:01,145 : INFO : topic diff=0.148618, rho=0.215156\n"
     ]
    },
    {
     "data": {
      "text/plain": [
       "[(0, 0.0075947237),\n",
       " (1, 0.005607954),\n",
       " (2, 0.0067724166),\n",
       " (3, 0.0056978804),\n",
       " (4, 0.0044701076),\n",
       " (5, 0.0046583377),\n",
       " (6, 0.0049013896),\n",
       " (7, 0.0063286913),\n",
       " (8, 0.005489995),\n",
       " (9, 0.0049317167),\n",
       " (10, 0.0052358094),\n",
       " (11, 0.005152934),\n",
       " (12, 0.005205903),\n",
       " (13, 0.005258732),\n",
       " (14, 0.41572803),\n",
       " (15, 0.0060017146),\n",
       " (16, 0.0066325124),\n",
       " (17, 0.0050281766),\n",
       " (18, 0.004948485),\n",
       " (19, 0.00452966),\n",
       " (20, 0.005701277),\n",
       " (21, 0.0052403533),\n",
       " (22, 0.0055124057),\n",
       " (23, 0.005721713),\n",
       " (24, 0.022417529),\n",
       " (25, 0.007649875),\n",
       " (26, 0.0050674616),\n",
       " (27, 0.007146054),\n",
       " (28, 0.0051379683),\n",
       " (29, 0.005250994),\n",
       " (30, 0.0062658633),\n",
       " (31, 0.0060011977),\n",
       " (32, 0.0055877827),\n",
       " (33, 0.0062571657),\n",
       " (34, 0.0054940353),\n",
       " (35, 0.0065818657),\n",
       " (36, 0.0045839157),\n",
       " (37, 0.00568424),\n",
       " (38, 0.00641726),\n",
       " (39, 0.00573783),\n",
       " (40, 0.005064091),\n",
       " (41, 0.005131426),\n",
       " (42, 0.0057143876),\n",
       " (43, 0.006852122),\n",
       " (44, 0.0052074757),\n",
       " (45, 0.003877488),\n",
       " (46, 0.0068952795),\n",
       " (47, 0.0049969475),\n",
       " (48, 0.005629343),\n",
       " (49, 0.005404261),\n",
       " (50, 0.0051576467),\n",
       " (51, 0.005474337),\n",
       " (52, 0.005357074),\n",
       " (53, 0.007190425),\n",
       " (54, 0.0048481287),\n",
       " (55, 0.0045387777),\n",
       " (56, 0.005660644),\n",
       " (57, 0.007774411),\n",
       " (58, 0.0044288826),\n",
       " (59, 0.005116889),\n",
       " (60, 0.005376155),\n",
       " (61, 0.005884222),\n",
       " (62, 0.0077242297),\n",
       " (63, 0.005327164),\n",
       " (64, 0.005856606),\n",
       " (65, 0.006236462),\n",
       " (66, 0.0062297587),\n",
       " (67, 0.00648252),\n",
       " (68, 0.0039982367),\n",
       " (69, 0.0053727366),\n",
       " (70, 0.005671143),\n",
       " (71, 0.004600805),\n",
       " (72, 0.0064438996),\n",
       " (73, 0.0054570544),\n",
       " (74, 0.0057379184),\n",
       " (75, 0.0049715466),\n",
       " (76, 0.0051507535),\n",
       " (77, 0.0051450185),\n",
       " (78, 0.005190705),\n",
       " (79, 0.0055489936),\n",
       " (80, 0.006139125),\n",
       " (81, 0.0070835548),\n",
       " (82, 0.004853133),\n",
       " (83, 0.004744244),\n",
       " (84, 0.005924263),\n",
       " (85, 0.0050148694),\n",
       " (86, 0.0068130502),\n",
       " (87, 0.00638394),\n",
       " (88, 0.0063291914),\n",
       " (89, 0.0047544725),\n",
       " (90, 0.018146252),\n",
       " (91, 0.005472251),\n",
       " (92, 0.0048656752),\n",
       " (93, 0.0057499874),\n",
       " (94, 0.0060025486),\n",
       " (95, 0.0061249323),\n",
       " (96, 0.0057601184),\n",
       " (97, 0.0050069536),\n",
       " (98, 0.0043015783),\n",
       " (99, 0.0041719554)]"
      ]
     },
     "execution_count": 93,
     "metadata": {},
     "output_type": "execute_result"
    }
   ],
   "source": [
    "##### Function check\n",
    "lda = LdaRetrievalModel(doc_repr_2)\n",
    "lda.train_model()\n",
    "\n",
    "# you can now get an LDA vector for a given query in the following way:\n",
    "lda.vectorize_query(\"report\")\n",
    "##### "
   ]
  },
  {
   "cell_type": "markdown",
   "metadata": {
    "deletable": false,
    "editable": false,
    "nbgrader": {
     "cell_type": "markdown",
     "checksum": "32d83b6ea79ca3ddb789a7f8805a1b25",
     "grade": false,
     "grade_id": "cell-0e24b727d5908c0e",
     "locked": true,
     "points": 5,
     "schema_version": 3,
     "solution": false,
     "task": true
    }
   },
   "source": [
    "\\#### Please do not change this. This cell is used for grading."
   ]
  },
  {
   "cell_type": "markdown",
   "metadata": {
    "deletable": false,
    "editable": false,
    "nbgrader": {
     "cell_type": "markdown",
     "checksum": "114a934f0b9ce696e6cf09d3b8da6a3d",
     "grade": false,
     "grade_id": "cell-b1bffcb970b18aeb",
     "locked": true,
     "schema_version": 3,
     "solution": false,
     "task": false
    }
   },
   "source": [
    "---\n",
    "Now we can use the `DenseRetrievalModel` class to obtain an LDA search function.\n",
    "You can test your LDA model in the following cell: Try finding queries which are lexically different to documents, but semantically similar - does LDA work well for these queries?!"
   ]
  },
  {
   "cell_type": "code",
   "execution_count": 94,
   "metadata": {},
   "outputs": [
    {
     "data": {
      "application/vnd.jupyter.widget-view+json": {
       "model_id": "57bcf058ed194a9ab92a8037d928e35f",
       "version_major": 2,
       "version_minor": 0
      },
      "text/plain": [
       "Text(value='', description='Search Bar')"
      ]
     },
     "metadata": {},
     "output_type": "display_data"
    }
   ],
   "source": [
    "drm_lda = DenseRetrievalRanker(lda, jenson_shannon_sim)\n",
    "\n",
    "# test your LDA model\n",
    "search_fn = drm_lda.search\n",
    "\n",
    "text = widgets.Text(description=\"Search Bar\", width=200)\n",
    "display(text)\n",
    "\n",
    "\n",
    "text.on_submit(handle_submit_2)"
   ]
  },
  {
   "cell_type": "markdown",
   "metadata": {
    "deletable": false,
    "editable": false,
    "nbgrader": {
     "cell_type": "markdown",
     "checksum": "9d7f15863b655119b45f4d89354e5661",
     "grade": false,
     "grade_id": "cell-190cd0854b2791cc",
     "locked": true,
     "schema_version": 3,
     "solution": false,
     "task": false
    }
   },
   "source": [
    "## Section 8: Word2Vec/Doc2Vec (20 points) <a class=\"anchor\" id=\"2vec\"></a>\n",
    "\n",
    "[Back to Part 2](#part2)\n",
    "\n",
    "We will implement two other methods here, the Word2Vec model and the Doc2Vec model, also using `gensim`. Word2Vec creates representations of words, not documents, so the word level vectors need to be aggregated to obtain a representation for the document. Here, we will simply take the mean of the vectors. \n",
    "\n",
    "\n",
    "A drawback of these models is that they need a lot of training data. Our dataset is tiny, so in addition to using a model trained on the data, we will also use a pre-trained model for Word2Vec (this will be automatically downloaded).     \n",
    "\n",
    "*Note*:\n",
    "1. The code in vectorize_documents / vectorize_query should return gensim-like vectors i.e `[(dim, val), .. (dim, val)]`. \n",
    "2. For Word2Vec: You should also handle the following two cases: (a) A word in the query is not present in the vocabulary of the model and (b) none of the words in the query are present in the model - you can return 0 scores for all documents in this case. For either of these, you can check if a `word` is present in the vocab by using `word in self.model`\n"
   ]
  },
  {
   "cell_type": "code",
   "execution_count": 95,
   "metadata": {
    "deletable": false,
    "nbgrader": {
     "cell_type": "code",
     "checksum": "83ab733608ed14c29c09b36b4e1b6daa",
     "grade": false,
     "grade_id": "cell-2b73759f9baf688f",
     "locked": false,
     "schema_version": 3,
     "solution": true,
     "task": false
    }
   },
   "outputs": [
    {
     "name": "stderr",
     "output_type": "stream",
     "text": [
      "2021-02-18 11:27:02,838 : INFO : adding document #0 to Dictionary(0 unique tokens: [])\n",
      "2021-02-18 11:27:02,979 : INFO : built Dictionary(5940 unique tokens: ['-', 'algebra', 'intern', 'languag', 'preliminari']...) from 3204 documents (total 115981 corpus positions)\n",
      "2021-02-18 11:27:02,986 : INFO : discarding 4743 tokens: [('repeat', 8), ('glossari', 7), ('inspect', 8), ('uncol', 2), ('rung', 9), ('secant', 2), ('.', 1605), ('acceler', 6), ('diverg', 3), ('induc', 9)]...\n",
      "2021-02-18 11:27:02,987 : INFO : keeping 1197 tokens which were in no less than 10 and no more than 1602 (=50.0%) documents\n",
      "2021-02-18 11:27:02,989 : INFO : resulting dictionary: Dictionary(1197 unique tokens: ['-', 'algebra', 'intern', 'languag', 'preliminari']...)\n",
      "2021-02-18 11:27:03,056 : INFO : collecting all words and their counts\n",
      "2021-02-18 11:27:03,057 : INFO : PROGRESS: at sentence #0, processed 0 words, keeping 0 word types\n",
      "2021-02-18 11:27:03,075 : INFO : collected 5940 word types from a corpus of 115981 raw words and 3204 sentences\n",
      "2021-02-18 11:27:03,076 : INFO : Loading a fresh vocabulary\n",
      "2021-02-18 11:27:03,081 : INFO : effective_min_count=5 retains 2069 unique words (34% of original 5940, drops 3871)\n",
      "2021-02-18 11:27:03,082 : INFO : effective_min_count=5 leaves 109270 word corpus (94% of original 115981, drops 6711)\n",
      "2021-02-18 11:27:03,087 : INFO : deleting the raw counts dictionary of 5940 items\n",
      "2021-02-18 11:27:03,088 : INFO : sample=0.001 downsamples 44 most-common words\n",
      "2021-02-18 11:27:03,088 : INFO : downsampling leaves estimated 84995 word corpus (77.8% of prior 109270)\n",
      "2021-02-18 11:27:03,094 : INFO : estimated required memory for 2069 words and 100 dimensions: 2689700 bytes\n",
      "2021-02-18 11:27:03,095 : INFO : resetting layer weights\n",
      "2021-02-18 11:27:03,494 : INFO : training model with 3 workers on 2069 vocabulary and 100 features, using sg=0 hs=0 sample=0.001 negative=5 window=5\n",
      "2021-02-18 11:27:03,551 : INFO : worker thread finished; awaiting finish of 2 more threads\n",
      "2021-02-18 11:27:03,552 : INFO : worker thread finished; awaiting finish of 1 more threads\n",
      "2021-02-18 11:27:03,555 : INFO : worker thread finished; awaiting finish of 0 more threads\n",
      "2021-02-18 11:27:03,556 : INFO : EPOCH - 1 : training on 115981 raw words (84974 effective words) took 0.1s, 1492068 effective words/s\n",
      "2021-02-18 11:27:03,612 : INFO : worker thread finished; awaiting finish of 2 more threads\n",
      "2021-02-18 11:27:03,613 : INFO : worker thread finished; awaiting finish of 1 more threads\n",
      "2021-02-18 11:27:03,614 : INFO : worker thread finished; awaiting finish of 0 more threads\n",
      "2021-02-18 11:27:03,615 : INFO : EPOCH - 2 : training on 115981 raw words (84824 effective words) took 0.1s, 1553872 effective words/s\n",
      "2021-02-18 11:27:03,673 : INFO : worker thread finished; awaiting finish of 2 more threads\n",
      "2021-02-18 11:27:03,679 : INFO : worker thread finished; awaiting finish of 1 more threads\n",
      "2021-02-18 11:27:03,681 : INFO : worker thread finished; awaiting finish of 0 more threads\n",
      "2021-02-18 11:27:03,681 : INFO : EPOCH - 3 : training on 115981 raw words (85106 effective words) took 0.1s, 1379828 effective words/s\n",
      "2021-02-18 11:27:03,742 : INFO : worker thread finished; awaiting finish of 2 more threads\n",
      "2021-02-18 11:27:03,742 : INFO : worker thread finished; awaiting finish of 1 more threads\n",
      "2021-02-18 11:27:03,744 : INFO : worker thread finished; awaiting finish of 0 more threads\n",
      "2021-02-18 11:27:03,744 : INFO : EPOCH - 4 : training on 115981 raw words (84992 effective words) took 0.1s, 1445484 effective words/s\n",
      "2021-02-18 11:27:03,808 : INFO : worker thread finished; awaiting finish of 2 more threads\n",
      "2021-02-18 11:27:03,810 : INFO : worker thread finished; awaiting finish of 1 more threads\n",
      "2021-02-18 11:27:03,811 : INFO : worker thread finished; awaiting finish of 0 more threads\n",
      "2021-02-18 11:27:03,812 : INFO : EPOCH - 5 : training on 115981 raw words (84948 effective words) took 0.1s, 1356029 effective words/s\n",
      "2021-02-18 11:27:03,813 : INFO : training on a 579905 raw words (424844 effective words) took 0.3s, 1339783 effective words/s\n",
      "c:\\users\\sarah-jane\\documents\\infovis\\lib\\site-packages\\ipykernel_launcher.py:38: DeprecationWarning: Call to deprecated `__contains__` (Method will be removed in 4.0.0, use self.wv.__contains__() instead).\n",
      "c:\\users\\sarah-jane\\documents\\infovis\\lib\\site-packages\\ipykernel_launcher.py:39: DeprecationWarning: Call to deprecated `__getitem__` (Method will be removed in 4.0.0, use self.wv.__getitem__() instead).\n"
     ]
    },
    {
     "data": {
      "text/plain": [
       "[(1, 0.333957314491272),\n",
       " (2, -0.22666727006435394),\n",
       " (3, 0.3338267207145691),\n",
       " (4, 0.5887877941131592),\n",
       " (5, 0.4059191346168518),\n",
       " (6, 0.6552231311798096),\n",
       " (7, 0.10339358448982239),\n",
       " (8, 0.05686565116047859),\n",
       " (9, 0.1698702722787857),\n",
       " (10, -0.06871116161346436),\n",
       " (11, 0.4300881028175354),\n",
       " (12, 0.28430864214897156),\n",
       " (13, -0.0034640321973711252),\n",
       " (14, -0.4748653769493103),\n",
       " (15, 0.23221395909786224),\n",
       " (16, 0.17104049026966095),\n",
       " (17, 0.21249692142009735),\n",
       " (18, -0.5904356837272644),\n",
       " (19, -0.022422201931476593),\n",
       " (20, -0.21942859888076782),\n",
       " (21, -0.3104862868785858),\n",
       " (22, -0.2626749277114868),\n",
       " (23, -0.3711085021495819),\n",
       " (24, -0.08036528527736664),\n",
       " (25, 0.20749890804290771),\n",
       " (26, -0.16250993311405182),\n",
       " (27, -0.19275012612342834),\n",
       " (28, 0.08422054350376129),\n",
       " (29, 0.1628238707780838),\n",
       " (30, 0.17507882416248322),\n",
       " (31, -0.7669089436531067),\n",
       " (32, 0.4403713345527649),\n",
       " (33, -0.09878022223711014),\n",
       " (34, 0.1352045089006424),\n",
       " (35, -0.06824419647455215),\n",
       " (36, -0.4573628902435303),\n",
       " (37, 0.12388911843299866),\n",
       " (38, 0.1813736855983734),\n",
       " (39, -0.15948842465877533),\n",
       " (40, -0.016718296334147453),\n",
       " (41, -0.3681296110153198),\n",
       " (42, 0.4799979329109192),\n",
       " (43, 0.09607575833797455),\n",
       " (44, 0.16680827736854553),\n",
       " (45, 0.004378033801913261),\n",
       " (46, 0.37517407536506653),\n",
       " (47, 0.27644792199134827),\n",
       " (48, -0.1171746551990509),\n",
       " (49, 0.34545958042144775),\n",
       " (50, -0.3819561004638672),\n",
       " (51, -0.12358978390693665),\n",
       " (52, -0.5640665292739868),\n",
       " (53, 0.1848379224538803),\n",
       " (54, -0.08133292198181152),\n",
       " (55, 0.12896060943603516),\n",
       " (56, -0.3248029947280884),\n",
       " (57, -0.28770288825035095),\n",
       " (58, -0.14923641085624695),\n",
       " (59, -0.4949289858341217),\n",
       " (60, -0.3561176359653473),\n",
       " (61, 0.07485958188772202),\n",
       " (62, 0.17840339243412018),\n",
       " (63, -0.16369204223155975),\n",
       " (64, 0.18561406433582306),\n",
       " (65, 0.24076132476329803),\n",
       " (66, 0.16603921353816986),\n",
       " (67, 0.16517752408981323),\n",
       " (68, 0.15677811205387115),\n",
       " (69, -0.12338164448738098),\n",
       " (70, 0.5121954679489136),\n",
       " (71, 0.3801126480102539),\n",
       " (72, -0.31981393694877625),\n",
       " (73, -0.10986683517694473),\n",
       " (74, 0.5479395389556885),\n",
       " (75, 0.08167536556720734),\n",
       " (76, -0.16985534131526947),\n",
       " (77, -0.3210023045539856),\n",
       " (78, -0.42776355147361755),\n",
       " (79, 0.24548257887363434),\n",
       " (80, 0.14140647649765015),\n",
       " (81, 0.04339148849248886),\n",
       " (82, 0.00205227336846292),\n",
       " (83, 0.22350755333900452),\n",
       " (84, 0.3499358594417572),\n",
       " (85, -0.0461442731320858),\n",
       " (86, -0.07464786618947983),\n",
       " (87, -0.4257243573665619),\n",
       " (88, 0.3915572464466095),\n",
       " (89, 0.3927514851093292),\n",
       " (90, -0.12029453366994858),\n",
       " (91, -0.06902603805065155),\n",
       " (92, 0.41660234332084656),\n",
       " (93, -0.26835501194000244),\n",
       " (94, 0.07712659984827042),\n",
       " (95, 0.1442796289920807),\n",
       " (96, -0.05002744868397713),\n",
       " (97, -0.5071858167648315),\n",
       " (98, -0.6486552357673645),\n",
       " (99, 0.003856825875118375),\n",
       " (100, 0.2367563396692276)]"
      ]
     },
     "execution_count": 95,
     "metadata": {},
     "output_type": "execute_result"
    }
   ],
   "source": [
    "# TODO: Implement this! (10 points)\n",
    "class W2VRetrievalModel(VectorSpaceRetrievalModel):\n",
    "    def __init__(self, doc_repr):\n",
    "        super().__init__(doc_repr)\n",
    "        \n",
    "        # the dimensionality of the vectors\n",
    "        self.size = 100 \n",
    "        self.min_count = 1\n",
    "    \n",
    "    def train_model(self):\n",
    "        \"\"\"\n",
    "        Trains the W2V model\n",
    "        \"\"\"\n",
    "        self.model = Word2Vec(self.documents)\n",
    "        \n",
    "    def vectorize_documents(self):\n",
    "        \"\"\"\n",
    "            Returns a doc_id -> vector dictionary\n",
    "        \"\"\"\n",
    "        doc_dict = {}\n",
    "        for doc_id, content in self.doc_repr:\n",
    "            doc_dict[doc_id] = np.zeros(self.size)\n",
    "            for token in content:\n",
    "                if token in self.model:\n",
    "                    doc_dict[doc_id] += self.model[token]\n",
    "            values = list(doc_dict[doc_id] / len(content))\n",
    "            doc_dict[doc_id] = [(dim+1, values[dim]) for dim in range(len(values))]\n",
    "\n",
    "        return doc_dict\n",
    "\n",
    "    def vectorize_query(self, query):\n",
    "        \"\"\"\n",
    "        Vectorizes the query using the W2V model\n",
    "        \"\"\"\n",
    "        query = process_text(query, **config_2)\n",
    "        vector = np.zeros(self.size)\n",
    "        for token in query:\n",
    "            if token in self.model:\n",
    "                vector += self.model[token]\n",
    "        vector = vector / len(query)\n",
    "        \n",
    "        return [(dim+1, vector[dim]) for dim in range(len(vector))]\n",
    "    \n",
    "class W2VPretrainedRetrievalModel(W2VRetrievalModel):\n",
    "    def __init__(self, doc_repr):\n",
    "        super().__init__(doc_repr)\n",
    "        self.model_name = \"word2vec-google-news-300\"\n",
    "        self.size = 300\n",
    "    \n",
    "    def train_model(self):\n",
    "        \"\"\"\n",
    "        Loads the pretrained model\n",
    "        \"\"\"\n",
    "        self.model = g_downloader.load(self.model_name)\n",
    "\n",
    "w2v = W2VRetrievalModel(doc_repr_2)\n",
    "w2v.train_model()\n",
    "\n",
    "# you can now get a W2V vector for a given query in the following way:\n",
    "w2v.vectorize_query(\"report\")"
   ]
  },
  {
   "cell_type": "code",
   "execution_count": 96,
   "metadata": {
    "deletable": false,
    "editable": false,
    "nbgrader": {
     "cell_type": "code",
     "checksum": "f92b5c5a8c6c4b80652b94223209ab0b",
     "grade": true,
     "grade_id": "cell-b31c0f8d214b8bdf",
     "locked": true,
     "points": 0,
     "schema_version": 3,
     "solution": false,
     "task": false
    }
   },
   "outputs": [
    {
     "name": "stderr",
     "output_type": "stream",
     "text": [
      "c:\\users\\sarah-jane\\documents\\infovis\\lib\\site-packages\\ipykernel_launcher.py:38: DeprecationWarning: Call to deprecated `__contains__` (Method will be removed in 4.0.0, use self.wv.__contains__() instead).\n",
      "c:\\users\\sarah-jane\\documents\\infovis\\lib\\site-packages\\ipykernel_launcher.py:39: DeprecationWarning: Call to deprecated `__getitem__` (Method will be removed in 4.0.0, use self.wv.__getitem__() instead).\n"
     ]
    }
   ],
   "source": [
    "assert len(w2v.vectorize_query(\"report\")) == 100\n",
    "assert len(w2v.vectorize_query(\"this is a sentence that is not mellifluous\")) == 100\n"
   ]
  },
  {
   "cell_type": "markdown",
   "metadata": {
    "deletable": false,
    "editable": false,
    "nbgrader": {
     "cell_type": "markdown",
     "checksum": "8dfaabebcb06f308a7ca61fdc5d369e7",
     "grade": false,
     "grade_id": "cell-c2614fa067386384",
     "locked": true,
     "points": 8,
     "schema_version": 3,
     "solution": false,
     "task": true
    }
   },
   "source": [
    "\\#### Please do not change this. This cell is used for grading."
   ]
  },
  {
   "cell_type": "code",
   "execution_count": 97,
   "metadata": {},
   "outputs": [
    {
     "name": "stderr",
     "output_type": "stream",
     "text": [
      "2021-02-18 11:27:03,845 : INFO : adding document #0 to Dictionary(0 unique tokens: [])\n",
      "2021-02-18 11:27:03,992 : INFO : built Dictionary(5940 unique tokens: ['-', 'algebra', 'intern', 'languag', 'preliminari']...) from 3204 documents (total 115981 corpus positions)\n",
      "2021-02-18 11:27:04,000 : INFO : discarding 4743 tokens: [('repeat', 8), ('glossari', 7), ('inspect', 8), ('uncol', 2), ('rung', 9), ('secant', 2), ('.', 1605), ('acceler', 6), ('diverg', 3), ('induc', 9)]...\n",
      "2021-02-18 11:27:04,000 : INFO : keeping 1197 tokens which were in no less than 10 and no more than 1602 (=50.0%) documents\n",
      "2021-02-18 11:27:04,003 : INFO : resulting dictionary: Dictionary(1197 unique tokens: ['-', 'algebra', 'intern', 'languag', 'preliminari']...)\n",
      "2021-02-18 11:27:04,460 : INFO : loading projection weights from C:\\Users\\Sarah-Jane/gensim-data\\word2vec-google-news-300\\word2vec-google-news-300.gz\n",
      "2021-02-18 11:27:53,669 : INFO : loaded (3000000, 300) matrix from C:\\Users\\Sarah-Jane/gensim-data\\word2vec-google-news-300\\word2vec-google-news-300.gz\n"
     ]
    },
    {
     "data": {
      "text/plain": [
       "[(1, -0.142578125),\n",
       " (2, -0.1640625),\n",
       " (3, -0.09033203125),\n",
       " (4, -0.1123046875),\n",
       " (5, 0.10009765625),\n",
       " (6, -0.041259765625),\n",
       " (7, 0.048828125),\n",
       " (8, -0.13671875),\n",
       " (9, 0.1962890625),\n",
       " (10, -0.134765625),\n",
       " (11, -0.017578125),\n",
       " (12, 0.0322265625),\n",
       " (13, 0.09521484375),\n",
       " (14, -0.10595703125),\n",
       " (15, -0.169921875),\n",
       " (16, 0.041015625),\n",
       " (17, -0.263671875),\n",
       " (18, -0.006317138671875),\n",
       " (19, -0.177734375),\n",
       " (20, -0.240234375),\n",
       " (21, 0.3515625),\n",
       " (22, -0.01220703125),\n",
       " (23, -0.162109375),\n",
       " (24, -0.12060546875),\n",
       " (25, 0.043212890625),\n",
       " (26, 0.10986328125),\n",
       " (27, 0.052490234375),\n",
       " (28, 0.1787109375),\n",
       " (29, -0.1455078125),\n",
       " (30, 0.1376953125),\n",
       " (31, -0.08203125),\n",
       " (32, -0.283203125),\n",
       " (33, -0.10888671875),\n",
       " (34, -0.2890625),\n",
       " (35, 0.072265625),\n",
       " (36, -0.04736328125),\n",
       " (37, 0.040283203125),\n",
       " (38, 0.06787109375),\n",
       " (39, 0.11669921875),\n",
       " (40, 0.00083160400390625),\n",
       " (41, 0.068359375),\n",
       " (42, 0.1201171875),\n",
       " (43, -0.08837890625),\n",
       " (44, 0.337890625),\n",
       " (45, -0.044677734375),\n",
       " (46, -0.0301513671875),\n",
       " (47, 0.0076904296875),\n",
       " (48, -0.0211181640625),\n",
       " (49, -0.25390625),\n",
       " (50, 0.1494140625),\n",
       " (51, 0.3984375),\n",
       " (52, 0.0216064453125),\n",
       " (53, -0.023193359375),\n",
       " (54, 0.00634765625),\n",
       " (55, 0.00823974609375),\n",
       " (56, -0.1689453125),\n",
       " (57, 0.037353515625),\n",
       " (58, -0.0634765625),\n",
       " (59, 0.1171875),\n",
       " (60, -0.1484375),\n",
       " (61, -0.07861328125),\n",
       " (62, 0.369140625),\n",
       " (63, -0.224609375),\n",
       " (64, 0.173828125),\n",
       " (65, 0.01385498046875),\n",
       " (66, 0.1875),\n",
       " (67, -0.10107421875),\n",
       " (68, 0.037841796875),\n",
       " (69, 0.0021209716796875),\n",
       " (70, -0.05126953125),\n",
       " (71, 0.09619140625),\n",
       " (72, -0.05712890625),\n",
       " (73, 0.10595703125),\n",
       " (74, -0.02099609375),\n",
       " (75, 0.1611328125),\n",
       " (76, 0.09765625),\n",
       " (77, 0.038330078125),\n",
       " (78, 0.2197265625),\n",
       " (79, 0.1064453125),\n",
       " (80, 0.0859375),\n",
       " (81, 0.1796875),\n",
       " (82, -0.0830078125),\n",
       " (83, -0.033203125),\n",
       " (84, 0.041015625),\n",
       " (85, -0.06494140625),\n",
       " (86, 0.0198974609375),\n",
       " (87, 0.1337890625),\n",
       " (88, -0.09765625),\n",
       " (89, -0.193359375),\n",
       " (90, -0.2353515625),\n",
       " (91, 0.1904296875),\n",
       " (92, 0.0024871826171875),\n",
       " (93, -0.0157470703125),\n",
       " (94, 0.0322265625),\n",
       " (95, -0.2197265625),\n",
       " (96, -0.09130859375),\n",
       " (97, 0.021240234375),\n",
       " (98, 0.158203125),\n",
       " (99, 0.298828125),\n",
       " (100, -0.328125),\n",
       " (101, 0.057373046875),\n",
       " (102, -0.04638671875),\n",
       " (103, 0.11328125),\n",
       " (104, -0.1015625),\n",
       " (105, 0.1806640625),\n",
       " (106, -0.025146484375),\n",
       " (107, -0.166015625),\n",
       " (108, -0.09619140625),\n",
       " (109, 0.018798828125),\n",
       " (110, -0.1943359375),\n",
       " (111, 0.1494140625),\n",
       " (112, -0.056640625),\n",
       " (113, -0.10693359375),\n",
       " (114, -0.150390625),\n",
       " (115, -0.17578125),\n",
       " (116, 0.11279296875),\n",
       " (117, 0.04931640625),\n",
       " (118, 0.2197265625),\n",
       " (119, 0.318359375),\n",
       " (120, 0.1572265625),\n",
       " (121, -0.29296875),\n",
       " (122, 0.10498046875),\n",
       " (123, -0.296875),\n",
       " (124, -0.013427734375),\n",
       " (125, 0.0908203125),\n",
       " (126, 0.0125732421875),\n",
       " (127, -0.051513671875),\n",
       " (128, -0.12890625),\n",
       " (129, 0.01446533203125),\n",
       " (130, 0.12060546875),\n",
       " (131, -0.10107421875),\n",
       " (132, -0.111328125),\n",
       " (133, 0.06396484375),\n",
       " (134, -0.052978515625),\n",
       " (135, -0.043212890625),\n",
       " (136, -0.012939453125),\n",
       " (137, -0.027587890625),\n",
       " (138, -0.09716796875),\n",
       " (139, -0.2021484375),\n",
       " (140, 0.123046875),\n",
       " (141, -0.04248046875),\n",
       " (142, 0.173828125),\n",
       " (143, -0.013671875),\n",
       " (144, 0.1015625),\n",
       " (145, -0.00093841552734375),\n",
       " (146, -0.03564453125),\n",
       " (147, 0.30078125),\n",
       " (148, -0.068359375),\n",
       " (149, -0.05615234375),\n",
       " (150, 0.03759765625),\n",
       " (151, 0.06591796875),\n",
       " (152, 0.040283203125),\n",
       " (153, 0.01190185546875),\n",
       " (154, 0.09619140625),\n",
       " (155, 0.3671875),\n",
       " (156, -0.279296875),\n",
       " (157, -0.052001953125),\n",
       " (158, -0.10693359375),\n",
       " (159, -0.134765625),\n",
       " (160, -0.046142578125),\n",
       " (161, 0.25),\n",
       " (162, 0.00567626953125),\n",
       " (163, -0.014404296875),\n",
       " (164, -0.031005859375),\n",
       " (165, -0.060302734375),\n",
       " (166, 0.10595703125),\n",
       " (167, 0.37890625),\n",
       " (168, 0.058837890625),\n",
       " (169, 0.123046875),\n",
       " (170, -0.115234375),\n",
       " (171, 0.1494140625),\n",
       " (172, -0.1640625),\n",
       " (173, -0.2333984375),\n",
       " (174, -0.07763671875),\n",
       " (175, 0.0267333984375),\n",
       " (176, -0.0211181640625),\n",
       " (177, 0.1943359375),\n",
       " (178, -0.05615234375),\n",
       " (179, -0.006439208984375),\n",
       " (180, -0.169921875),\n",
       " (181, -0.11865234375),\n",
       " (182, -0.0673828125),\n",
       " (183, -0.06884765625),\n",
       " (184, -0.0869140625),\n",
       " (185, -0.1015625),\n",
       " (186, 0.01416015625),\n",
       " (187, -0.201171875),\n",
       " (188, 0.09814453125),\n",
       " (189, -0.01025390625),\n",
       " (190, 0.1875),\n",
       " (191, 0.1962890625),\n",
       " (192, -0.220703125),\n",
       " (193, -0.1962890625),\n",
       " (194, -0.07373046875),\n",
       " (195, 0.06640625),\n",
       " (196, -0.1337890625),\n",
       " (197, 0.18359375),\n",
       " (198, -0.2001953125),\n",
       " (199, 0.1982421875),\n",
       " (200, 0.05029296875),\n",
       " (201, 0.0299072265625),\n",
       " (202, 0.0177001953125),\n",
       " (203, -0.193359375),\n",
       " (204, -0.09619140625),\n",
       " (205, -0.1025390625),\n",
       " (206, 0.212890625),\n",
       " (207, -0.0299072265625),\n",
       " (208, 0.1435546875),\n",
       " (209, 0.041015625),\n",
       " (210, -0.2119140625),\n",
       " (211, 0.2080078125),\n",
       " (212, 0.1376953125),\n",
       " (213, -0.0196533203125),\n",
       " (214, 0.01495361328125),\n",
       " (215, -0.09765625),\n",
       " (216, 0.2431640625),\n",
       " (217, 0.080078125),\n",
       " (218, 0.08251953125),\n",
       " (219, 0.0986328125),\n",
       " (220, 0.056884765625),\n",
       " (221, 0.04248046875),\n",
       " (222, 0.06884765625),\n",
       " (223, -0.035400390625),\n",
       " (224, -0.076171875),\n",
       " (225, -0.00016117095947265625),\n",
       " (226, -0.0751953125),\n",
       " (227, 0.224609375),\n",
       " (228, 0.1513671875),\n",
       " (229, 0.1005859375),\n",
       " (230, 0.10986328125),\n",
       " (231, 0.0238037109375),\n",
       " (232, 0.08837890625),\n",
       " (233, 0.061767578125),\n",
       " (234, -0.10791015625),\n",
       " (235, 0.062255859375),\n",
       " (236, 0.0034332275390625),\n",
       " (237, 0.08056640625),\n",
       " (238, 0.10693359375),\n",
       " (239, 0.0888671875),\n",
       " (240, -0.2373046875),\n",
       " (241, 0.06494140625),\n",
       " (242, 0.01019287109375),\n",
       " (243, -0.08837890625),\n",
       " (244, -0.33203125),\n",
       " (245, 0.004669189453125),\n",
       " (246, 0.212890625),\n",
       " (247, 0.0859375),\n",
       " (248, 0.0203857421875),\n",
       " (249, 0.045654296875),\n",
       " (250, 0.1484375),\n",
       " (251, 0.1181640625),\n",
       " (252, 0.0556640625),\n",
       " (253, -0.1728515625),\n",
       " (254, -0.125),\n",
       " (255, -0.025390625),\n",
       " (256, -0.318359375),\n",
       " (257, 0.0311279296875),\n",
       " (258, 0.0859375),\n",
       " (259, -0.0419921875),\n",
       " (260, 0.15625),\n",
       " (261, 0.1611328125),\n",
       " (262, 0.1982421875),\n",
       " (263, -0.10009765625),\n",
       " (264, 0.203125),\n",
       " (265, 0.12890625),\n",
       " (266, 0.2333984375),\n",
       " (267, -0.267578125),\n",
       " (268, 0.05517578125),\n",
       " (269, 0.048828125),\n",
       " (270, 0.072265625),\n",
       " (271, 0.244140625),\n",
       " (272, 0.244140625),\n",
       " (273, 0.056884765625),\n",
       " (274, -0.0546875),\n",
       " (275, -0.03369140625),\n",
       " (276, -0.12060546875),\n",
       " (277, 0.034912109375),\n",
       " (278, -0.1455078125),\n",
       " (279, 0.08740234375),\n",
       " (280, -0.0830078125),\n",
       " (281, 0.0172119140625),\n",
       " (282, 0.1435546875),\n",
       " (283, -0.12255859375),\n",
       " (284, 0.1796875),\n",
       " (285, 0.130859375),\n",
       " (286, -0.1650390625),\n",
       " (287, 0.01275634765625),\n",
       " (288, 0.16015625),\n",
       " (289, -0.0311279296875),\n",
       " (290, 0.08203125),\n",
       " (291, 0.173828125),\n",
       " (292, -0.16796875),\n",
       " (293, 0.130859375),\n",
       " (294, 0.08544921875),\n",
       " (295, -0.2109375),\n",
       " (296, -0.130859375),\n",
       " (297, -0.0289306640625),\n",
       " (298, -0.10546875),\n",
       " (299, 0.08447265625),\n",
       " (300, -0.1416015625)]"
      ]
     },
     "execution_count": 97,
     "metadata": {},
     "output_type": "execute_result"
    }
   ],
   "source": [
    "w2v_pretrained = W2VPretrainedRetrievalModel(doc_repr_2)\n",
    "w2v_pretrained.train_model()\n",
    "\n",
    "# you can now get an W2V vector for a given query in the following way:\n",
    "w2v_pretrained.vectorize_query(\"report\")"
   ]
  },
  {
   "cell_type": "code",
   "execution_count": 98,
   "metadata": {
    "deletable": false,
    "editable": false,
    "nbgrader": {
     "cell_type": "code",
     "checksum": "0822845afb5eafe5ddb1ffeaa4f4942a",
     "grade": true,
     "grade_id": "cell-1b1466f8ce516f42",
     "locked": true,
     "points": 2,
     "schema_version": 3,
     "solution": false,
     "task": false
    }
   },
   "outputs": [
    {
     "name": "stdout",
     "output_type": "stream",
     "text": [
      "300\n"
     ]
    }
   ],
   "source": [
    "##### Function check\n",
    "\n",
    "print(len(w2v_pretrained.vectorize_query(\"report\")))\n",
    "#####"
   ]
  },
  {
   "cell_type": "code",
   "execution_count": 99,
   "metadata": {},
   "outputs": [
    {
     "name": "stderr",
     "output_type": "stream",
     "text": [
      "c:\\users\\sarah-jane\\documents\\infovis\\lib\\site-packages\\ipykernel_launcher.py:24: DeprecationWarning: Call to deprecated `__contains__` (Method will be removed in 4.0.0, use self.wv.__contains__() instead).\n",
      "c:\\users\\sarah-jane\\documents\\infovis\\lib\\site-packages\\ipykernel_launcher.py:25: DeprecationWarning: Call to deprecated `__getitem__` (Method will be removed in 4.0.0, use self.wv.__getitem__() instead).\n"
     ]
    },
    {
     "data": {
      "application/vnd.jupyter.widget-view+json": {
       "model_id": "686ac32d260348c08fd97ffef304a2f7",
       "version_major": 2,
       "version_minor": 0
      },
      "text/plain": [
       "Text(value='', description='Search Bar')"
      ]
     },
     "metadata": {},
     "output_type": "display_data"
    }
   ],
   "source": [
    "drm_w2v = DenseRetrievalRanker(w2v, cosine_sim)\n",
    "\n",
    "# test your LDA model\n",
    "search_fn = drm_w2v.search\n",
    "\n",
    "text = widgets.Text(description=\"Search Bar\", width=200)\n",
    "display(text)\n",
    "\n",
    "\n",
    "text.on_submit(handle_submit_2)"
   ]
  },
  {
   "cell_type": "code",
   "execution_count": 100,
   "metadata": {},
   "outputs": [
    {
     "data": {
      "application/vnd.jupyter.widget-view+json": {
       "model_id": "2722acca37c743a2916d0864dc151d59",
       "version_major": 2,
       "version_minor": 0
      },
      "text/plain": [
       "Text(value='', description='Search Bar')"
      ]
     },
     "metadata": {},
     "output_type": "display_data"
    }
   ],
   "source": [
    "drm_w2v_pretrained = DenseRetrievalRanker(w2v_pretrained, cosine_sim)\n",
    "\n",
    "# test your LDA model\n",
    "search_fn = drm_w2v_pretrained.search\n",
    "\n",
    "text = widgets.Text(description=\"Search Bar\", width=200)\n",
    "display(text)\n",
    "\n",
    "\n",
    "text.on_submit(handle_submit_2)"
   ]
  },
  {
   "cell_type": "markdown",
   "metadata": {
    "deletable": false,
    "editable": false,
    "nbgrader": {
     "cell_type": "markdown",
     "checksum": "51b778984fd60757974f51047c61eb15",
     "grade": false,
     "grade_id": "cell-b92f701cbc706108",
     "locked": true,
     "schema_version": 3,
     "solution": false,
     "task": false
    }
   },
   "source": [
    "**Implementation (10 points):**\n",
    "For Doc2Vec, you will need to create a list of `TaggedDocument` instead of using the `self.corpus` or `self.documents` variable. Use the document id as the 'tag'.\n",
    "  "
   ]
  },
  {
   "cell_type": "code",
   "execution_count": 101,
   "metadata": {
    "deletable": false,
    "nbgrader": {
     "cell_type": "code",
     "checksum": "1f60fdeb97febb7f4a6fd5bf109aac20",
     "grade": false,
     "grade_id": "cell-680facdcc98a19ab",
     "locked": false,
     "schema_version": 3,
     "solution": true,
     "task": false
    }
   },
   "outputs": [
    {
     "name": "stderr",
     "output_type": "stream",
     "text": [
      "2021-02-18 11:27:56,215 : INFO : adding document #0 to Dictionary(0 unique tokens: [])\n",
      "2021-02-18 11:27:56,363 : INFO : built Dictionary(5940 unique tokens: ['-', 'algebra', 'intern', 'languag', 'preliminari']...) from 3204 documents (total 115981 corpus positions)\n",
      "2021-02-18 11:27:56,372 : INFO : discarding 4743 tokens: [('repeat', 8), ('glossari', 7), ('inspect', 8), ('uncol', 2), ('rung', 9), ('secant', 2), ('.', 1605), ('acceler', 6), ('diverg', 3), ('induc', 9)]...\n",
      "2021-02-18 11:27:56,373 : INFO : keeping 1197 tokens which were in no less than 10 and no more than 1602 (=50.0%) documents\n",
      "2021-02-18 11:27:56,376 : INFO : resulting dictionary: Dictionary(1197 unique tokens: ['-', 'algebra', 'intern', 'languag', 'preliminari']...)\n",
      "2021-02-18 11:27:56,455 : INFO : collecting all words and their counts\n",
      "2021-02-18 11:27:56,456 : INFO : PROGRESS: at example #0, processed 0 words (0/s), 0 word types, 0 tags\n",
      "2021-02-18 11:27:56,480 : INFO : collected 5940 word types and 3205 unique tags from a corpus of 3204 examples and 115981 words\n",
      "2021-02-18 11:27:56,481 : INFO : Loading a fresh vocabulary\n",
      "2021-02-18 11:27:56,491 : INFO : effective_min_count=1 retains 5940 unique words (100% of original 5940, drops 0)\n",
      "2021-02-18 11:27:56,492 : INFO : effective_min_count=1 leaves 115981 word corpus (100% of original 115981, drops 0)\n",
      "2021-02-18 11:27:56,536 : INFO : deleting the raw counts dictionary of 5940 items\n",
      "2021-02-18 11:27:56,537 : INFO : sample=0.001 downsamples 40 most-common words\n",
      "2021-02-18 11:27:56,538 : INFO : downsampling leaves estimated 92351 word corpus (79.6% of prior 115981)\n",
      "2021-02-18 11:27:56,555 : INFO : estimated required memory for 5940 words and 100 dimensions: 9004000 bytes\n",
      "2021-02-18 11:27:56,556 : INFO : resetting layer weights\n",
      "2021-02-18 11:27:58,215 : INFO : training model with 3 workers on 5940 vocabulary and 100 features, using sg=0 hs=0 sample=0.001 negative=5 window=5\n",
      "2021-02-18 11:27:58,441 : INFO : worker thread finished; awaiting finish of 2 more threads\n",
      "2021-02-18 11:27:58,450 : INFO : worker thread finished; awaiting finish of 1 more threads\n",
      "2021-02-18 11:27:58,451 : INFO : worker thread finished; awaiting finish of 0 more threads\n",
      "2021-02-18 11:27:58,452 : INFO : EPOCH - 1 : training on 115981 raw words (95585 effective words) took 0.2s, 544192 effective words/s\n",
      "2021-02-18 11:27:58,643 : INFO : worker thread finished; awaiting finish of 2 more threads\n",
      "2021-02-18 11:27:58,651 : INFO : worker thread finished; awaiting finish of 1 more threads\n",
      "2021-02-18 11:27:58,653 : INFO : worker thread finished; awaiting finish of 0 more threads\n",
      "2021-02-18 11:27:58,654 : INFO : EPOCH - 2 : training on 115981 raw words (95608 effective words) took 0.2s, 481330 effective words/s\n",
      "2021-02-18 11:27:58,856 : INFO : worker thread finished; awaiting finish of 2 more threads\n",
      "2021-02-18 11:27:58,870 : INFO : worker thread finished; awaiting finish of 1 more threads\n",
      "2021-02-18 11:27:58,874 : INFO : worker thread finished; awaiting finish of 0 more threads\n",
      "2021-02-18 11:27:58,875 : INFO : EPOCH - 3 : training on 115981 raw words (95555 effective words) took 0.2s, 442044 effective words/s\n",
      "2021-02-18 11:27:59,075 : INFO : worker thread finished; awaiting finish of 2 more threads\n",
      "2021-02-18 11:27:59,081 : INFO : worker thread finished; awaiting finish of 1 more threads\n",
      "2021-02-18 11:27:59,089 : INFO : worker thread finished; awaiting finish of 0 more threads\n",
      "2021-02-18 11:27:59,090 : INFO : EPOCH - 4 : training on 115981 raw words (95655 effective words) took 0.2s, 454612 effective words/s\n",
      "2021-02-18 11:27:59,285 : INFO : worker thread finished; awaiting finish of 2 more threads\n",
      "2021-02-18 11:27:59,295 : INFO : worker thread finished; awaiting finish of 1 more threads\n",
      "2021-02-18 11:27:59,303 : INFO : worker thread finished; awaiting finish of 0 more threads\n",
      "2021-02-18 11:27:59,304 : INFO : EPOCH - 5 : training on 115981 raw words (95504 effective words) took 0.2s, 456290 effective words/s\n",
      "2021-02-18 11:27:59,576 : INFO : worker thread finished; awaiting finish of 2 more threads\n",
      "2021-02-18 11:27:59,580 : INFO : worker thread finished; awaiting finish of 1 more threads\n",
      "2021-02-18 11:27:59,587 : INFO : worker thread finished; awaiting finish of 0 more threads\n",
      "2021-02-18 11:27:59,588 : INFO : EPOCH - 6 : training on 115981 raw words (95724 effective words) took 0.3s, 343517 effective words/s\n",
      "2021-02-18 11:27:59,813 : INFO : worker thread finished; awaiting finish of 2 more threads\n",
      "2021-02-18 11:27:59,821 : INFO : worker thread finished; awaiting finish of 1 more threads\n",
      "2021-02-18 11:27:59,828 : INFO : worker thread finished; awaiting finish of 0 more threads\n",
      "2021-02-18 11:27:59,829 : INFO : EPOCH - 7 : training on 115981 raw words (95610 effective words) took 0.2s, 406351 effective words/s\n",
      "2021-02-18 11:28:00,061 : INFO : worker thread finished; awaiting finish of 2 more threads\n",
      "2021-02-18 11:28:00,067 : INFO : worker thread finished; awaiting finish of 1 more threads\n",
      "2021-02-18 11:28:00,079 : INFO : worker thread finished; awaiting finish of 0 more threads\n",
      "2021-02-18 11:28:00,080 : INFO : EPOCH - 8 : training on 115981 raw words (95530 effective words) took 0.2s, 386884 effective words/s\n",
      "2021-02-18 11:28:00,306 : INFO : worker thread finished; awaiting finish of 2 more threads\n",
      "2021-02-18 11:28:00,313 : INFO : worker thread finished; awaiting finish of 1 more threads\n",
      "2021-02-18 11:28:00,321 : INFO : worker thread finished; awaiting finish of 0 more threads\n",
      "2021-02-18 11:28:00,322 : INFO : EPOCH - 9 : training on 115981 raw words (95595 effective words) took 0.2s, 404175 effective words/s\n",
      "2021-02-18 11:28:00,538 : INFO : worker thread finished; awaiting finish of 2 more threads\n",
      "2021-02-18 11:28:00,542 : INFO : worker thread finished; awaiting finish of 1 more threads\n",
      "2021-02-18 11:28:00,546 : INFO : worker thread finished; awaiting finish of 0 more threads\n",
      "2021-02-18 11:28:00,547 : INFO : EPOCH - 10 : training on 115981 raw words (95507 effective words) took 0.2s, 432768 effective words/s\n",
      "2021-02-18 11:28:00,752 : INFO : worker thread finished; awaiting finish of 2 more threads\n",
      "2021-02-18 11:28:00,765 : INFO : worker thread finished; awaiting finish of 1 more threads\n",
      "2021-02-18 11:28:00,767 : INFO : worker thread finished; awaiting finish of 0 more threads\n",
      "2021-02-18 11:28:00,768 : INFO : EPOCH - 11 : training on 115981 raw words (95572 effective words) took 0.2s, 442249 effective words/s\n",
      "2021-02-18 11:28:00,996 : INFO : worker thread finished; awaiting finish of 2 more threads\n",
      "2021-02-18 11:28:01,005 : INFO : worker thread finished; awaiting finish of 1 more threads\n",
      "2021-02-18 11:28:01,012 : INFO : worker thread finished; awaiting finish of 0 more threads\n",
      "2021-02-18 11:28:01,013 : INFO : EPOCH - 12 : training on 115981 raw words (95573 effective words) took 0.2s, 397896 effective words/s\n",
      "2021-02-18 11:28:01,231 : INFO : worker thread finished; awaiting finish of 2 more threads\n",
      "2021-02-18 11:28:01,238 : INFO : worker thread finished; awaiting finish of 1 more threads\n",
      "2021-02-18 11:28:01,246 : INFO : worker thread finished; awaiting finish of 0 more threads\n",
      "2021-02-18 11:28:01,247 : INFO : EPOCH - 13 : training on 115981 raw words (95508 effective words) took 0.2s, 417341 effective words/s\n",
      "2021-02-18 11:28:01,462 : INFO : worker thread finished; awaiting finish of 2 more threads\n",
      "2021-02-18 11:28:01,472 : INFO : worker thread finished; awaiting finish of 1 more threads\n",
      "2021-02-18 11:28:01,475 : INFO : worker thread finished; awaiting finish of 0 more threads\n",
      "2021-02-18 11:28:01,476 : INFO : EPOCH - 14 : training on 115981 raw words (95475 effective words) took 0.2s, 423652 effective words/s\n",
      "2021-02-18 11:28:01,709 : INFO : worker thread finished; awaiting finish of 2 more threads\n",
      "2021-02-18 11:28:01,717 : INFO : worker thread finished; awaiting finish of 1 more threads\n",
      "2021-02-18 11:28:01,722 : INFO : worker thread finished; awaiting finish of 0 more threads\n",
      "2021-02-18 11:28:01,723 : INFO : EPOCH - 15 : training on 115981 raw words (95537 effective words) took 0.2s, 398094 effective words/s\n",
      "2021-02-18 11:28:01,932 : INFO : worker thread finished; awaiting finish of 2 more threads\n",
      "2021-02-18 11:28:01,940 : INFO : worker thread finished; awaiting finish of 1 more threads\n"
     ]
    },
    {
     "name": "stderr",
     "output_type": "stream",
     "text": [
      "2021-02-18 11:28:01,950 : INFO : worker thread finished; awaiting finish of 0 more threads\n",
      "2021-02-18 11:28:01,951 : INFO : EPOCH - 16 : training on 115981 raw words (95523 effective words) took 0.2s, 428131 effective words/s\n",
      "2021-02-18 11:28:02,159 : INFO : worker thread finished; awaiting finish of 2 more threads\n",
      "2021-02-18 11:28:02,165 : INFO : worker thread finished; awaiting finish of 1 more threads\n",
      "2021-02-18 11:28:02,175 : INFO : worker thread finished; awaiting finish of 0 more threads\n",
      "2021-02-18 11:28:02,177 : INFO : EPOCH - 17 : training on 115981 raw words (95618 effective words) took 0.2s, 431790 effective words/s\n",
      "2021-02-18 11:28:02,422 : INFO : worker thread finished; awaiting finish of 2 more threads\n",
      "2021-02-18 11:28:02,435 : INFO : worker thread finished; awaiting finish of 1 more threads\n",
      "2021-02-18 11:28:02,441 : INFO : worker thread finished; awaiting finish of 0 more threads\n",
      "2021-02-18 11:28:02,443 : INFO : EPOCH - 18 : training on 115981 raw words (95622 effective words) took 0.3s, 366523 effective words/s\n",
      "2021-02-18 11:28:02,659 : INFO : worker thread finished; awaiting finish of 2 more threads\n",
      "2021-02-18 11:28:02,663 : INFO : worker thread finished; awaiting finish of 1 more threads\n",
      "2021-02-18 11:28:02,674 : INFO : worker thread finished; awaiting finish of 0 more threads\n",
      "2021-02-18 11:28:02,676 : INFO : EPOCH - 19 : training on 115981 raw words (95534 effective words) took 0.2s, 418529 effective words/s\n",
      "2021-02-18 11:28:02,873 : INFO : worker thread finished; awaiting finish of 2 more threads\n",
      "2021-02-18 11:28:02,890 : INFO : worker thread finished; awaiting finish of 1 more threads\n",
      "2021-02-18 11:28:02,892 : INFO : worker thread finished; awaiting finish of 0 more threads\n",
      "2021-02-18 11:28:02,893 : INFO : EPOCH - 20 : training on 115981 raw words (95632 effective words) took 0.2s, 448285 effective words/s\n",
      "2021-02-18 11:28:02,894 : INFO : training on a 2319620 raw words (1911467 effective words) took 4.7s, 408615 effective words/s\n"
     ]
    },
    {
     "data": {
      "text/plain": [
       "[(1, 0.023083607),\n",
       " (2, -0.076492086),\n",
       " (3, 0.045445982),\n",
       " (4, 0.08338061),\n",
       " (5, 0.0053388164),\n",
       " (6, 0.09998662),\n",
       " (7, -0.02167284),\n",
       " (8, -0.010781716),\n",
       " (9, 0.04166454),\n",
       " (10, -0.0031405156),\n",
       " (11, 0.07115481),\n",
       " (12, 0.07297305),\n",
       " (13, -0.020506797),\n",
       " (14, -0.04819597),\n",
       " (15, 0.07855259),\n",
       " (16, 0.041760545),\n",
       " (17, 0.006164269),\n",
       " (18, -0.05291883),\n",
       " (19, 0.016893182),\n",
       " (20, -0.0049129333),\n",
       " (21, 0.010686652),\n",
       " (22, -0.07128595),\n",
       " (23, -0.021779243),\n",
       " (24, -0.0346796),\n",
       " (25, 0.06403106),\n",
       " (26, -0.0638018),\n",
       " (27, -0.059099153),\n",
       " (28, -0.06395343),\n",
       " (29, 0.021244014),\n",
       " (30, 0.034739636),\n",
       " (31, -0.07744444),\n",
       " (32, -0.014253041),\n",
       " (33, -0.008664454),\n",
       " (34, -0.014054788),\n",
       " (35, -0.024613729),\n",
       " (36, -0.031166177),\n",
       " (37, 0.039324403),\n",
       " (38, 0.03815753),\n",
       " (39, 0.020513795),\n",
       " (40, 0.026957562),\n",
       " (41, -0.032390952),\n",
       " (42, 0.0095251845),\n",
       " (43, 0.041325945),\n",
       " (44, -0.04582862),\n",
       " (45, 0.03110824),\n",
       " (46, 0.051812436),\n",
       " (47, 0.030378932),\n",
       " (48, -0.013090533),\n",
       " (49, 0.10607134),\n",
       " (50, -0.010892789),\n",
       " (51, -0.029306905),\n",
       " (52, -0.07758424),\n",
       " (53, 5.35636e-07),\n",
       " (54, 0.0021274912),\n",
       " (55, 0.053198148),\n",
       " (56, -0.090983674),\n",
       " (57, -0.086126044),\n",
       " (58, 0.004218323),\n",
       " (59, -0.0040642773),\n",
       " (60, -0.042355876),\n",
       " (61, 0.0051884837),\n",
       " (62, -0.009650475),\n",
       " (63, -0.0336712),\n",
       " (64, 0.022002859),\n",
       " (65, 0.1294144),\n",
       " (66, 0.016356397),\n",
       " (67, 0.06874859),\n",
       " (68, 0.05771812),\n",
       " (69, -0.043658305),\n",
       " (70, 0.0871509),\n",
       " (71, 0.038917948),\n",
       " (72, -0.07015696),\n",
       " (73, 0.04902765),\n",
       " (74, 0.06499489),\n",
       " (75, 0.028805211),\n",
       " (76, -0.013833779),\n",
       " (77, -0.07239194),\n",
       " (78, -0.042447608),\n",
       " (79, 0.023832813),\n",
       " (80, 0.04732959),\n",
       " (81, 0.0037175165),\n",
       " (82, 0.07493059),\n",
       " (83, 0.046075925),\n",
       " (84, 0.025493758),\n",
       " (85, 0.0014161399),\n",
       " (86, -0.015875122),\n",
       " (87, -0.08389094),\n",
       " (88, 0.046993423),\n",
       " (89, 0.055929504),\n",
       " (90, -0.016984245),\n",
       " (91, 0.008377092),\n",
       " (92, 0.04714956),\n",
       " (93, -0.048933003),\n",
       " (94, -0.0022811864),\n",
       " (95, -0.05608957),\n",
       " (96, -0.03226877),\n",
       " (97, -0.120802484),\n",
       " (98, -0.10867087),\n",
       " (99, 0.029609961),\n",
       " (100, 0.051235635)]"
      ]
     },
     "execution_count": 101,
     "metadata": {},
     "output_type": "execute_result"
    }
   ],
   "source": [
    "# TODO: Implement this! (10 points)\n",
    "class D2VRetrievalModel(VectorSpaceRetrievalModel):\n",
    "    def __init__(self, doc_repr):\n",
    "        super().__init__(doc_repr)\n",
    "        \n",
    "        self.vector_size= 100\n",
    "        self.min_count = 1\n",
    "        self.epochs = 20\n",
    "        \n",
    "        self.docs = []\n",
    "        for doc_id, content in self.doc_repr:\n",
    "            self.docs.append(TaggedDocument(words=content, tags=[doc_id]))  \n",
    "        \n",
    "    def train_model(self):\n",
    "        self.model = Doc2Vec(\n",
    "            self.docs,\n",
    "            vector_size=self.vector_size,\n",
    "            min_count=self.min_count,\n",
    "            epochs=self.epochs\n",
    "        )\n",
    "    \n",
    "    def vectorize_documents(self):\n",
    "        \"\"\"\n",
    "            Returns a doc_id -> vector dictionary\n",
    "        \"\"\"\n",
    "        doc_dict = {}\n",
    "        for doc_id, content in self.doc_repr:\n",
    "            vector = self.model.infer_vector(content)\n",
    "            doc_dict[doc_id] = [(dim+1, vector[dim]) for dim in range(len(vector))]\n",
    "        return doc_dict\n",
    "\n",
    "    def vectorize_query(self, query):\n",
    "        query = process_text(query, **config_2)\n",
    "        vector = self.model.infer_vector(query)\n",
    "        return [(dim+1, vector[dim]) for dim in range(len(vector))]\n",
    "        \n",
    "d2v = D2VRetrievalModel(doc_repr_2)\n",
    "d2v.train_model()\n",
    "\n",
    "\n",
    "# # you can now get an LSI vector for a given query in the following way:\n",
    "d2v.vectorize_query(\"report\")"
   ]
  },
  {
   "cell_type": "code",
   "execution_count": 102,
   "metadata": {
    "deletable": false,
    "editable": false,
    "nbgrader": {
     "cell_type": "code",
     "checksum": "e83a363a9d4f136efbdde1426a83925e",
     "grade": true,
     "grade_id": "cell-5e2c5e0c9a2e8cb5",
     "locked": true,
     "points": 0,
     "schema_version": 3,
     "solution": false,
     "task": false
    }
   },
   "outputs": [],
   "source": [
    "#### Please do not change this. This cell is used for grading."
   ]
  },
  {
   "cell_type": "markdown",
   "metadata": {
    "deletable": false,
    "editable": false,
    "nbgrader": {
     "cell_type": "markdown",
     "checksum": "5bb46bf6b9be1e0ca66f0b0bc6260ecb",
     "grade": false,
     "grade_id": "cell-8a49d414f798a595",
     "locked": true,
     "points": 10,
     "schema_version": 3,
     "solution": false,
     "task": true
    }
   },
   "source": [
    "\\#### Please do not change this. This cell is used for grading."
   ]
  },
  {
   "cell_type": "code",
   "execution_count": 103,
   "metadata": {},
   "outputs": [
    {
     "data": {
      "application/vnd.jupyter.widget-view+json": {
       "model_id": "d99fb1eecfdd4f69a79b3cdde30c4a57",
       "version_major": 2,
       "version_minor": 0
      },
      "text/plain": [
       "Text(value='', description='Search Bar')"
      ]
     },
     "metadata": {},
     "output_type": "display_data"
    }
   ],
   "source": [
    "drm_d2v = DenseRetrievalRanker(d2v, cosine_sim)\n",
    "\n",
    "# test your LDA model\n",
    "search_fn = drm_d2v.search\n",
    "\n",
    "text = widgets.Text(description=\"Search Bar\", width=200)\n",
    "display(text)\n",
    "\n",
    "\n",
    "text.on_submit(handle_submit_2)"
   ]
  },
  {
   "cell_type": "markdown",
   "metadata": {
    "deletable": false,
    "editable": false,
    "nbgrader": {
     "cell_type": "markdown",
     "checksum": "363ec36c1d03d9f9e1c2045a6e193c14",
     "grade": false,
     "grade_id": "cell-3529ae29eece7b97",
     "locked": true,
     "schema_version": 3,
     "solution": false,
     "task": false
    }
   },
   "source": [
    "---\n",
    "## Section 9: Re-ranking (10 points) <a class=\"anchor\" id=\"reranking\"></a>\n",
    "\n",
    "[Back to Part 2](#part2)\n",
    "\n",
    "To motivate the re-ranking perspective (i.e retrieve with lexical method + rerank with a semantic method), let's search using semantic methods and compare it to BM25's performance, along with their runtime:\n"
   ]
  },
  {
   "cell_type": "code",
   "execution_count": 105,
   "metadata": {
    "deletable": false,
    "editable": false,
    "nbgrader": {
     "cell_type": "code",
     "checksum": "5755f70e3eb28abc65d14d80125338af",
     "grade": false,
     "grade_id": "cell-f8f43bf5ae383128",
     "locked": true,
     "schema_version": 3,
     "solution": false,
     "task": false
    }
   },
   "outputs": [
    {
     "name": "stdout",
     "output_type": "stream",
     "text": [
      "BM25: \n",
      "2.78 ms ± 85.2 µs per loop (mean ± std. dev. of 7 runs, 100 loops each)\n",
      "LSI: \n"
     ]
    },
    {
     "name": "stderr",
     "output_type": "stream",
     "text": [
      "c:\\users\\sarah-jane\\documents\\infovis\\lib\\site-packages\\ipykernel_launcher.py:14: RuntimeWarning: invalid value encountered in double_scalars\n",
      "  \n"
     ]
    },
    {
     "name": "stdout",
     "output_type": "stream",
     "text": [
      "160 ms ± 10.5 ms per loop (mean ± std. dev. of 7 runs, 10 loops each)\n",
      "LDA: \n",
      "3.68 s ± 63.4 ms per loop (mean ± std. dev. of 7 runs, 1 loop each)\n",
      "W2V: \n"
     ]
    },
    {
     "name": "stderr",
     "output_type": "stream",
     "text": [
      "c:\\users\\sarah-jane\\documents\\infovis\\lib\\site-packages\\ipykernel_launcher.py:38: DeprecationWarning: Call to deprecated `__contains__` (Method will be removed in 4.0.0, use self.wv.__contains__() instead).\n",
      "c:\\users\\sarah-jane\\documents\\infovis\\lib\\site-packages\\ipykernel_launcher.py:39: DeprecationWarning: Call to deprecated `__getitem__` (Method will be removed in 4.0.0, use self.wv.__getitem__() instead).\n"
     ]
    },
    {
     "name": "stdout",
     "output_type": "stream",
     "text": [
      "163 ms ± 1.81 ms per loop (mean ± std. dev. of 7 runs, 10 loops each)\n",
      "W2V(Pretrained): \n",
      "400 ms ± 3.69 ms per loop (mean ± std. dev. of 7 runs, 1 loop each)\n",
      "D2V:\n",
      "179 ms ± 1.15 ms per loop (mean ± std. dev. of 7 runs, 10 loops each)\n"
     ]
    }
   ],
   "source": [
    "query = \"algebraic functions\"\n",
    "print(\"BM25: \")\n",
    "%timeit bm25_search(query, 2)\n",
    "print(\"LSI: \")\n",
    "%timeit drm_lsi.search(query)\n",
    "print(\"LDA: \")\n",
    "%timeit drm_lda.search(query)\n",
    "print(\"W2V: \")\n",
    "%timeit drm_w2v.search(query)\n",
    "print(\"W2V(Pretrained): \")\n",
    "%timeit drm_w2v_pretrained.search(query)\n",
    "print(\"D2V:\")\n",
    "%timeit drm_d2v.search(query)"
   ]
  },
  {
   "cell_type": "markdown",
   "metadata": {
    "deletable": false,
    "editable": false,
    "nbgrader": {
     "cell_type": "markdown",
     "checksum": "ae398da0a8c23c95bcbb0023b7ec6f34",
     "grade": false,
     "grade_id": "cell-db5ff09f97841af7",
     "locked": true,
     "schema_version": 3,
     "solution": false,
     "task": false
    }
   },
   "source": [
    "---\n",
    "\n",
    "**Implementation (10 points):**\n",
    "Re-ranking involves retrieving a small set of documents using simple but fast methods like BM25 and then re-ranking them with the aid of semantic methods such as LDA or LSI. Implement the following class, which takes in an `initial_retrieval_fn` - the initial retrieval function and `vsrm` - an instance of the `VectorSpaceRetrievalModel` class (i.e LSI/LDA) as input. The search function should first retrieve an initial list of K documents, and then these documents are re-ranked using a semantic method. This not only makes retrieval faster, but semantic methods perform poorly when used in isolation, as you will find out."
   ]
  },
  {
   "cell_type": "code",
   "execution_count": 106,
   "metadata": {
    "deletable": false,
    "nbgrader": {
     "cell_type": "code",
     "checksum": "63b6b05a676a2ae3f08d8bed1bc59428",
     "grade": false,
     "grade_id": "cell-5bf47600d1a0c507",
     "locked": false,
     "schema_version": 3,
     "solution": true,
     "task": false
    }
   },
   "outputs": [],
   "source": [
    "# TODO: Implement this! (10 points)\n",
    "class DenseRerankingModel:\n",
    "    def __init__(self, initial_retrieval_fn, vsrm, similarity_fn):\n",
    "        \"\"\"\n",
    "            initial_retrieval_fn: takes in a query and returns a list of [(doc_id, score)] (sorted)\n",
    "            vsrm: instance of `VectorSpaceRetrievalModel`\n",
    "            similarity_fn: function instance that takes in two vectors \n",
    "                            and returns a similarity score e.g cosine_sim defined earlier\n",
    "        \"\"\"\n",
    "        self.ret = initial_retrieval_fn\n",
    "        self.vsrm = vsrm\n",
    "        self.similarity_fn = similarity_fn\n",
    "        self.vectorized_documents = vsrm.vectorize_documents()\n",
    "        \n",
    "        assert len(self.vectorized_documents) == len(doc_repr_2)\n",
    "    \n",
    "    def search(self, query, K=50):\n",
    "        \"\"\"\n",
    "            First, retrieve the top K results using the retrieval function\n",
    "            Then, re-rank the results using the VSRM instance\n",
    "        \"\"\"\n",
    "        query_vector = self.vsrm.vectorize_query(query)\n",
    "        \n",
    "        # Calculate cosine similarity score for every document\n",
    "        scores = {key: self.similarity_fn(query_vector, value) for (key, value) in self.vectorized_documents.items()}\n",
    "        sorted(scores.items(), key=lambda x: x[1], reverse=True)\n",
    "    \n",
    "        doc_id = []\n",
    "        rank = []\n",
    "        \n",
    "        # Re-rank the top K results using the VSRM instance \n",
    "        for doc in self.ret(query)[:K]: \n",
    "            doc_id.append(doc[0])\n",
    "            rank.append(scores[doc[0]])\n",
    "        return list(zip(doc_id, rank))  "
   ]
  },
  {
   "cell_type": "code",
   "execution_count": 107,
   "metadata": {
    "deletable": false,
    "editable": false,
    "nbgrader": {
     "cell_type": "code",
     "checksum": "334ab5af96976265cace682ab82a7387",
     "grade": true,
     "grade_id": "cell-52c6d18a4c0b4882",
     "locked": true,
     "points": 0,
     "schema_version": 3,
     "solution": false,
     "task": false
    }
   },
   "outputs": [
    {
     "name": "stderr",
     "output_type": "stream",
     "text": [
      "c:\\users\\sarah-jane\\documents\\infovis\\lib\\site-packages\\ipykernel_launcher.py:24: DeprecationWarning: Call to deprecated `__contains__` (Method will be removed in 4.0.0, use self.wv.__contains__() instead).\n",
      "c:\\users\\sarah-jane\\documents\\infovis\\lib\\site-packages\\ipykernel_launcher.py:25: DeprecationWarning: Call to deprecated `__getitem__` (Method will be removed in 4.0.0, use self.wv.__getitem__() instead).\n"
     ]
    }
   ],
   "source": [
    "##### Function check\n",
    "bm25_search_2 = partial(bm25_search, index_set=2)\n",
    "lsi_rerank = DenseRerankingModel(bm25_search_2, lsi, cosine_sim)\n",
    "lda_rerank = DenseRerankingModel(bm25_search_2, lda, jenson_shannon_sim)\n",
    "w2v_rerank = DenseRerankingModel(bm25_search_2, w2v, cosine_sim)\n",
    "w2v_pretrained_rerank = DenseRerankingModel(bm25_search_2, w2v_pretrained, cosine_sim)\n",
    "d2v_rerank = DenseRerankingModel(bm25_search_2, d2v, cosine_sim)\n",
    "\n",
    "##### "
   ]
  },
  {
   "cell_type": "markdown",
   "metadata": {
    "deletable": false,
    "editable": false,
    "nbgrader": {
     "cell_type": "markdown",
     "checksum": "bd904253f45f84e63bab3a69729058fc",
     "grade": false,
     "grade_id": "cell-93215dfe6bcf7cff",
     "locked": true,
     "points": 10,
     "schema_version": 3,
     "solution": false,
     "task": true
    }
   },
   "source": [
    "\\#### Please do not change this. This cell is used for grading."
   ]
  },
  {
   "cell_type": "markdown",
   "metadata": {
    "deletable": false,
    "editable": false,
    "nbgrader": {
     "cell_type": "markdown",
     "checksum": "b592e60292bfe3d9ef2930a354c4077a",
     "grade": false,
     "grade_id": "cell-aa694ff55fa91e7d",
     "locked": true,
     "schema_version": 3,
     "solution": false,
     "task": false
    }
   },
   "source": [
    "---\n",
    "Now, let us time the new search functions:"
   ]
  },
  {
   "cell_type": "code",
   "execution_count": 108,
   "metadata": {
    "deletable": false,
    "editable": false,
    "nbgrader": {
     "cell_type": "code",
     "checksum": "338c7e3528cba266a865a061287c0e38",
     "grade": false,
     "grade_id": "cell-5edbd481562ad91f",
     "locked": true,
     "schema_version": 3,
     "solution": false,
     "task": false
    }
   },
   "outputs": [
    {
     "name": "stdout",
     "output_type": "stream",
     "text": [
      "BM25: \n",
      "2.93 ms ± 48.2 µs per loop (mean ± std. dev. of 7 runs, 100 loops each)\n",
      "LSI: \n"
     ]
    },
    {
     "name": "stderr",
     "output_type": "stream",
     "text": [
      "c:\\users\\sarah-jane\\documents\\infovis\\lib\\site-packages\\ipykernel_launcher.py:14: RuntimeWarning: invalid value encountered in double_scalars\n",
      "  \n"
     ]
    },
    {
     "name": "stdout",
     "output_type": "stream",
     "text": [
      "179 ms ± 12.3 ms per loop (mean ± std. dev. of 7 runs, 10 loops each)\n",
      "LDA: \n",
      "3.86 s ± 151 ms per loop (mean ± std. dev. of 7 runs, 1 loop each)\n",
      "W2V: \n"
     ]
    },
    {
     "name": "stderr",
     "output_type": "stream",
     "text": [
      "c:\\users\\sarah-jane\\documents\\infovis\\lib\\site-packages\\ipykernel_launcher.py:38: DeprecationWarning: Call to deprecated `__contains__` (Method will be removed in 4.0.0, use self.wv.__contains__() instead).\n",
      "c:\\users\\sarah-jane\\documents\\infovis\\lib\\site-packages\\ipykernel_launcher.py:39: DeprecationWarning: Call to deprecated `__getitem__` (Method will be removed in 4.0.0, use self.wv.__getitem__() instead).\n"
     ]
    },
    {
     "name": "stdout",
     "output_type": "stream",
     "text": [
      "168 ms ± 7.61 ms per loop (mean ± std. dev. of 7 runs, 10 loops each)\n",
      "W2V(Pretrained): \n",
      "404 ms ± 20 ms per loop (mean ± std. dev. of 7 runs, 1 loop each)\n",
      "D2V:\n",
      "184 ms ± 9.98 ms per loop (mean ± std. dev. of 7 runs, 1 loop each)\n"
     ]
    }
   ],
   "source": [
    "query = \"algebraic functions\"\n",
    "print(\"BM25: \")\n",
    "%timeit bm25_search(query, 2)\n",
    "print(\"LSI: \")\n",
    "%timeit lsi_rerank.search(query)\n",
    "print(\"LDA: \")\n",
    "%timeit lda_rerank.search(query)\n",
    "print(\"W2V: \")\n",
    "%timeit w2v_rerank.search(query)\n",
    "print(\"W2V(Pretrained): \")\n",
    "%timeit w2v_pretrained_rerank.search(query)\n",
    "print(\"D2V:\")\n",
    "%timeit d2v_rerank.search(query)"
   ]
  },
  {
   "cell_type": "markdown",
   "metadata": {
    "deletable": false,
    "editable": false,
    "nbgrader": {
     "cell_type": "markdown",
     "checksum": "c45c5e3f015b2de89d9d39ae3766368b",
     "grade": false,
     "grade_id": "cell-85c50f2ab9eec301",
     "locked": true,
     "schema_version": 3,
     "solution": false,
     "task": false
    }
   },
   "source": [
    "---\n",
    "As you can see, it is much faster (but BM25 is still orders of magnitude faster)."
   ]
  },
  {
   "cell_type": "markdown",
   "metadata": {
    "deletable": false,
    "editable": false,
    "nbgrader": {
     "cell_type": "markdown",
     "checksum": "1e2f3388e3807659f303fe31a75a010e",
     "grade": false,
     "grade_id": "cell-5071bb99b2af61cb",
     "locked": true,
     "schema_version": 3,
     "solution": false,
     "task": false
    }
   },
   "source": [
    "---\n",
    "## Section 10: Evaluation & Analysis (30 points) <a class=\"anchor\" id=\"reranking_eval\"></a>\n",
    "\n",
    "[Back to Part 2](#part2)\n",
    "\n",
    "[Previously](#evaluation) we have implemented some evaluation metrics and used them for measuring the ranking performance of term-based IR algorithms. In this section, we will do the same for semantic methods, both with and without re-ranking.\n",
    "\n",
    "### Section 10.1: Plot (10 points)\n",
    "\n",
    "First, gather the results. The results should consider the index set, the different search functions and different metrics. Plot the results in bar charts, per metric, with clear labels.\n",
    "\n",
    "Then, gather only the re-ranking models, and plot and compare them with the results obtained in part 1 (only index set 2)."
   ]
  },
  {
   "cell_type": "code",
   "execution_count": 109,
   "metadata": {
    "deletable": false,
    "editable": false,
    "nbgrader": {
     "cell_type": "code",
     "checksum": "4fe81520ac6413a803838913fd64de03",
     "grade": false,
     "grade_id": "cell-b672fe6dfae0b1ce",
     "locked": true,
     "schema_version": 3,
     "solution": false,
     "task": false
    }
   },
   "outputs": [],
   "source": [
    "list_of_sem_search_fns = [\n",
    "    (\"lda\", drm_lda.search),\n",
    "    (\"lsi\", drm_lsi.search),\n",
    "    (\"w2v\", drm_w2v.search),\n",
    "    (\"w2v_pretrained\", drm_w2v_pretrained.search),\n",
    "    (\"d2v\", drm_d2v.search),\n",
    "    (\"lsi_rr\", lsi_rerank.search),\n",
    "    (\"lda_rr\", lda_rerank.search),\n",
    "    (\"w2v_rr\", w2v_rerank.search),\n",
    "    (\"w2v_pretrained_rr\", w2v_pretrained_rerank.search),\n",
    "    (\"d2v_rr\", d2v_rerank.search),\n",
    "    \n",
    "]"
   ]
  },
  {
   "cell_type": "code",
   "execution_count": 111,
   "metadata": {
    "deletable": false,
    "nbgrader": {
     "cell_type": "code",
     "checksum": "54707c4afac084299aeefa047259b4a9",
     "grade": true,
     "grade_id": "cell-7dd8273b0f5a3c22",
     "locked": false,
     "points": 10,
     "schema_version": 3,
     "solution": true,
     "task": false
    }
   },
   "outputs": [
    {
     "name": "stderr",
     "output_type": "stream",
     "text": [
      "c:\\users\\sarah-jane\\documents\\infovis\\lib\\site-packages\\ipykernel_launcher.py:14: RuntimeWarning: invalid value encountered in double_scalars\n",
      "  \n",
      "c:\\users\\sarah-jane\\documents\\infovis\\lib\\site-packages\\ipykernel_launcher.py:38: DeprecationWarning: Call to deprecated `__contains__` (Method will be removed in 4.0.0, use self.wv.__contains__() instead).\n",
      "c:\\users\\sarah-jane\\documents\\infovis\\lib\\site-packages\\ipykernel_launcher.py:39: DeprecationWarning: Call to deprecated `__getitem__` (Method will be removed in 4.0.0, use self.wv.__getitem__() instead).\n"
     ]
    },
    {
     "data": {
      "image/png": "[encoded data removed]",
      "text/plain": [
       "<Figure size 432x288 with 1 Axes>"
      ]
     },
     "metadata": {
      "needs_background": "light"
     },
     "output_type": "display_data"
    },
    {
     "data": {
      "image/png": "[encoded data removed]",
      "text/plain": [
       "<Figure size 432x288 with 1 Axes>"
      ]
     },
     "metadata": {
      "needs_background": "light"
     },
     "output_type": "display_data"
    },
    {
     "data": {
      "image/png": "[encoded data removed]",
      "text/plain": [
       "<Figure size 432x288 with 1 Axes>"
      ]
     },
     "metadata": {
      "needs_background": "light"
     },
     "output_type": "display_data"
    },
    {
     "data": {
      "image/png": "[encoded data removed]",
      "text/plain": [
       "<Figure size 432x288 with 1 Axes>"
      ]
     },
     "metadata": {
      "needs_background": "light"
     },
     "output_type": "display_data"
    },
    {
     "data": {
      "image/png": "[encoded data removed]",
      "text/plain": [
       "<Figure size 432x288 with 1 Axes>"
      ]
     },
     "metadata": {
      "needs_background": "light"
     },
     "output_type": "display_data"
    },
    {
     "data": {
      "image/png": "[encoded data removed]",
      "text/plain": [
       "<Figure size 432x288 with 1 Axes>"
      ]
     },
     "metadata": {
      "needs_background": "light"
     },
     "output_type": "display_data"
    },
    {
     "data": {
      "image/png": "[encoded data removed]",
      "text/plain": [
       "<Figure size 432x288 with 1 Axes>"
      ]
     },
     "metadata": {
      "needs_background": "light"
     },
     "output_type": "display_data"
    },
    {
     "data": {
      "image/png": "[encoded data removed]",
      "text/plain": [
       "<Figure size 432x288 with 1 Axes>"
      ]
     },
     "metadata": {
      "needs_background": "light"
     },
     "output_type": "display_data"
    }
   ],
   "source": [
    "index = [\"lda\", \"lsi\",\"w2v\",\"w2v_pretrained\",\"d2v\",\"lsi_rr\",\"lda_rr\",\"w2v_rr\",\"w2v_pretrained_rr\",\"d2v_rr\"]\n",
    "str_metrics = [\"ERR\",\"MAP\", \"RECALL@1\", \"RECALL@5\", \"RECALL@10\", \"PRECISION@1\", \"PRECISION@5\", \"PRECISION@10\"]    \n",
    "xlabel = \"Methods\"\n",
    "ylabel = \"Metric value (in decimals)\"\n",
    "\n",
    "ERR=[]\n",
    "MAP=[]\n",
    "RECALL1=[]\n",
    "RECALL5=[]\n",
    "RECALL10=[]\n",
    "PRECISION1=[]\n",
    "PRECISION5=[]\n",
    "PRECISION10=[]\n",
    "    \n",
    "for method in list_of_sem_search_fns:\n",
    "\n",
    "    evaluation = evaluate_search_fn(method[1], list_of_metrics)\n",
    "\n",
    "    ERR.append(evaluation['ERR'])\n",
    "    MAP.append(evaluation['MAP'])\n",
    "    RECALL1.append(evaluation['Recall@1'])\n",
    "    RECALL5.append(evaluation['Recall@5'])\n",
    "    RECALL10.append(evaluation['Recall@10'])\n",
    "    PRECISION1.append(evaluation['Precision@1'])\n",
    "    PRECISION5.append(evaluation['Precision@5'])\n",
    "    PRECISION10.append(evaluation['Precision@10'])\n",
    "\n",
    "metrics=[ERR, MAP,  RECALL1,  RECALL5,  RECALL10,  PRECISION1,  PRECISION5,  PRECISION10]\n",
    "\n",
    "for i, metric in enumerate(metrics):\n",
    "\n",
    "    plotdata = pd.DataFrame({\n",
    "    \"Index set 2\": metric,\n",
    "    }, \n",
    "    index=index\n",
    "    )\n",
    "    plotdata.plot(kind=\"bar\")\n",
    "    plt.title(str_metrics[i])\n",
    "    plt.xlabel(xlabel)\n",
    "    plt.ylabel(ylabel)\n",
    "    plt.show()"
   ]
  },
  {
   "cell_type": "markdown",
   "metadata": {
    "deletable": false,
    "editable": false,
    "nbgrader": {
     "cell_type": "markdown",
     "checksum": "a8a3b6189bdde66704c694d85e38d049",
     "grade": false,
     "grade_id": "cell-deb2ef3daa306e82",
     "locked": true,
     "schema_version": 3,
     "solution": false,
     "task": false
    }
   },
   "source": [
    "### Section 10.2: Summary (20 points)\n",
    "\n",
    "Your summary should compare methods from Part 1 and Part 2 (only for index set 2). State what you expected to see in the results, followed by either supporting evidence *or* justify why the results did not support your expectations. Consider the availability of data, scalability, domain/type of data, etc."
   ]
  },
  {
   "cell_type": "markdown",
   "metadata": {
    "deletable": false,
    "nbgrader": {
     "cell_type": "markdown",
     "checksum": "ff97c43837d10bff6aaffa75e1492887",
     "grade": true,
     "grade_id": "cell-ec5dd7d9cf59dd86",
     "locked": false,
     "points": 20,
     "schema_version": 3,
     "solution": true,
     "task": false
    }
   },
   "source": [
    "YOUR ANSWER HERE"
   ]
  }
 ],
 "metadata": {
  "kernelspec": {
   "display_name": "Python 3",
   "language": "python",
   "name": "python3"
  },
  "language_info": {
   "codemirror_mode": {
    "name": "ipython",
    "version": 3
   },
   "file_extension": ".py",
   "mimetype": "text/x-python",
   "name": "python",
   "nbconvert_exporter": "python",
   "pygments_lexer": "ipython3",
   "version": "3.7.6"
  }
 },
 "nbformat": 4,
 "nbformat_minor": 4
}
